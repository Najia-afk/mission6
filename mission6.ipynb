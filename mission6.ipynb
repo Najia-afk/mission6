{
 "cells": [
  {
   "cell_type": "markdown",
   "id": "08c85400",
   "metadata": {},
   "source": [
    "# Mission 6: Feasibility Study of Product Classification Engine\n",
    "\n",
    "## 1. Introduction\n",
    "**Objective**: Evaluate the feasibility of automatic product classification using text descriptions and images for an e-commerce marketplace."
   ]
  },
  {
   "cell_type": "markdown",
   "id": "f5312ead",
   "metadata": {},
   "source": [
    "## 2. Data Overview\n",
    "**Dataset Components**:\n",
    "- Product descriptions (English text)\n",
    "- Product images\n",
    "- Category labels"
   ]
  },
  {
   "cell_type": "code",
   "execution_count": 1,
   "id": "e1959ddc",
   "metadata": {},
   "outputs": [
    {
     "data": {
      "application/vnd.microsoft.datawrangler.viewer.v0+json": {
       "columns": [
        {
         "name": "index",
         "rawType": "int64",
         "type": "integer"
        },
        {
         "name": "uniq_id",
         "rawType": "object",
         "type": "string"
        },
        {
         "name": "crawl_timestamp",
         "rawType": "object",
         "type": "string"
        },
        {
         "name": "product_url",
         "rawType": "object",
         "type": "string"
        },
        {
         "name": "product_name",
         "rawType": "object",
         "type": "string"
        },
        {
         "name": "product_category_tree",
         "rawType": "object",
         "type": "string"
        },
        {
         "name": "pid",
         "rawType": "object",
         "type": "string"
        },
        {
         "name": "retail_price",
         "rawType": "float64",
         "type": "float"
        },
        {
         "name": "discounted_price",
         "rawType": "float64",
         "type": "float"
        },
        {
         "name": "image",
         "rawType": "object",
         "type": "string"
        },
        {
         "name": "is_FK_Advantage_product",
         "rawType": "bool",
         "type": "boolean"
        },
        {
         "name": "description",
         "rawType": "object",
         "type": "string"
        },
        {
         "name": "product_rating",
         "rawType": "object",
         "type": "string"
        },
        {
         "name": "overall_rating",
         "rawType": "object",
         "type": "string"
        },
        {
         "name": "brand",
         "rawType": "object",
         "type": "string"
        },
        {
         "name": "product_specifications",
         "rawType": "object",
         "type": "string"
        }
       ],
       "ref": "59067ac0-79c0-4be5-92c1-b0c4c8eb3d20",
       "rows": [
        [
         "0",
         "55b85ea15a1536d46b7190ad6fff8ce7",
         "2016-04-30 03:22:56 +0000",
         "http://www.flipkart.com/elegance-polyester-multicolor-abstract-eyelet-door-curtain/p/itmeg7bkzdgthcts?pid=CRNEG7BKMFFYHQ8Z",
         "Elegance Polyester Multicolor Abstract Eyelet Door Curtain",
         "[\"Home Furnishing >> Curtains & Accessories >> Curtains >> Elegance Polyester Multicolor Abstract Eyelet Do...\"]",
         "CRNEG7BKMFFYHQ8Z",
         "1899.0",
         "899.0",
         "55b85ea15a1536d46b7190ad6fff8ce7.jpg",
         "False",
         "Key Features of Elegance Polyester Multicolor Abstract Eyelet Door Curtain Floral Curtain,Elegance Polyester Multicolor Abstract Eyelet Door Curtain (213 cm in Height, Pack of 2) Price: Rs. 899 This curtain enhances the look of the interiors.This curtain is made from 100% high quality polyester fabric.It features an eyelet style stitch with Metal Ring.It makes the room environment romantic and loving.This curtain is ant- wrinkle and anti shrinkage and have elegant apparance.Give your home a bright and modernistic appeal with these designs. The surreal attention is sure to steal hearts. These contemporary eyelet and valance curtains slide smoothly so when you draw them apart first thing in the morning to welcome the bright sun rays you want to wish good morning to the whole world and when you draw them close in the evening, you create the most special moments of joyous beauty given by the soothing prints. Bring home the elegant curtain that softly filters light in your room so that you get the right amount of sunlight.,Specifications of Elegance Polyester Multicolor Abstract Eyelet Door Curtain (213 cm in Height, Pack of 2) General Brand Elegance Designed For Door Type Eyelet Model Name Abstract Polyester Door Curtain Set Of 2 Model ID Duster25 Color Multicolor Dimensions Length 213 cm In the Box Number of Contents in Sales Package Pack of 2 Sales Package 2 Curtains Body & Design Material Polyester",
         "No rating available",
         "No rating available",
         "Elegance",
         "{\"product_specification\"=>[{\"key\"=>\"Brand\", \"value\"=>\"Elegance\"}, {\"key\"=>\"Designed For\", \"value\"=>\"Door\"}, {\"key\"=>\"Type\", \"value\"=>\"Eyelet\"}, {\"key\"=>\"Model Name\", \"value\"=>\"Abstract Polyester Door Curtain Set Of 2\"}, {\"key\"=>\"Model ID\", \"value\"=>\"Duster25\"}, {\"key\"=>\"Color\", \"value\"=>\"Multicolor\"}, {\"key\"=>\"Length\", \"value\"=>\"213 cm\"}, {\"key\"=>\"Number of Contents in Sales Package\", \"value\"=>\"Pack of 2\"}, {\"key\"=>\"Sales Package\", \"value\"=>\"2 Curtains\"}, {\"key\"=>\"Material\", \"value\"=>\"Polyester\"}]}"
        ],
        [
         "1",
         "7b72c92c2f6c40268628ec5f14c6d590",
         "2016-04-30 03:22:56 +0000",
         "http://www.flipkart.com/sathiyas-cotton-bath-towel/p/itmegfzhxbyucwgn?pid=BTWEGFZHGBXPHZUH",
         "Sathiyas Cotton Bath Towel",
         "[\"Baby Care >> Baby Bath & Skin >> Baby Bath Towels >> Sathiyas Baby Bath Towels >> Sathiyas Cotton Bath Towel (3 Bath Towel, Red, Y...\"]",
         "BTWEGFZHGBXPHZUH",
         "600.0",
         "449.0",
         "7b72c92c2f6c40268628ec5f14c6d590.jpg",
         "False",
         "Specifications of Sathiyas Cotton Bath Towel (3 Bath Towel, Red, Yellow, Blue) Bath Towel Features Machine Washable Yes Material Cotton Design Self Design General Brand Sathiyas Type Bath Towel GSM 500 Model Name Sathiyas cotton bath towel Ideal For Men, Women, Boys, Girls Model ID asvtwl322 Color Red, Yellow, Blue Size Mediam Dimensions Length 30 inch Width 60 inch In the Box Number of Contents in Sales Package 3 Sales Package 3 Bath Towel",
         "No rating available",
         "No rating available",
         "Sathiyas",
         "{\"product_specification\"=>[{\"key\"=>\"Machine Washable\", \"value\"=>\"Yes\"}, {\"key\"=>\"Material\", \"value\"=>\"Cotton\"}, {\"key\"=>\"Design\", \"value\"=>\"Self Design\"}, {\"key\"=>\"Brand\", \"value\"=>\"Sathiyas\"}, {\"key\"=>\"Type\", \"value\"=>\"Bath Towel\"}, {\"key\"=>\"GSM\", \"value\"=>\"500\"}, {\"key\"=>\"Model Name\", \"value\"=>\"Sathiyas cotton bath towel\"}, {\"key\"=>\"Ideal For\", \"value\"=>\"Men, Women, Boys, Girls\"}, {\"key\"=>\"Model ID\", \"value\"=>\"asvtwl322\"}, {\"key\"=>\"Color\", \"value\"=>\"Red, Yellow, Blue\"}, {\"key\"=>\"Size\", \"value\"=>\"Mediam\"}, {\"key\"=>\"Length\", \"value\"=>\"30 inch\"}, {\"key\"=>\"Width\", \"value\"=>\"60 inch\"}, {\"key\"=>\"Number of Contents in Sales Package\", \"value\"=>\"3\"}, {\"key\"=>\"Sales Package\", \"value\"=>\"3 Bath Towel\"}]}"
        ],
        [
         "2",
         "64d5d4a258243731dc7bbb1eef49ad74",
         "2016-04-30 03:22:56 +0000",
         "http://www.flipkart.com/eurospa-cotton-terry-face-towel-set/p/itmeg6shbrpubhca?pid=BTWEG6SHXTDB2A2Y",
         "Eurospa Cotton Terry Face Towel Set",
         "[\"Baby Care >> Baby Bath & Skin >> Baby Bath Towels >> Eurospa Baby Bath Towels >> Eurospa Cotton Terry Face Towel Set (20 PIECE FA...\"]",
         "BTWEG6SHXTDB2A2Y",
         null,
         null,
         "64d5d4a258243731dc7bbb1eef49ad74.jpg",
         "False",
         "Key Features of Eurospa Cotton Terry Face Towel Set Size: small Height: 9 inch GSM: 360,Eurospa Cotton Terry Face Towel Set (20 PIECE FACE TOWEL SET, Assorted) Price: Rs. 299 Eurospa brings to you an exclusively designed, 100% soft cotton towels of export quality. All our products have soft texture that takes care of your skin and gives you that enriched feeling you deserve. Eurospa has been exporting its bath towels to lot of renowned brands for last 10 years and is famous for its fine prints, absorbency, softness and durability. NOTE: Our product is 100% cotton, so it is susceptible to shrinkage. Product color may vary from the picture. Size may vary by ±3% WASH CARE: Wash in cold Water, Do not Iron, Do not Bleach, Flat dry, Wash before first use. SIZE- FACE TOWEL - 23 cms X 23 cms.,Specifications of Eurospa Cotton Terry Face Towel Set (20 PIECE FACE TOWEL SET, Assorted) Bath Towel Features Material Cotton Terry Design SHUVAM General Brand Eurospa GSM 360 Type Face Towel Set Model Name SHUVAM20PCFTSETASSORTED Ideal For Boys, Girls, Men, Women Model ID SHUVAM20PCFTSETASSORTED Size small Color Assorted Dimensions Weight 350 g Length 9 inch Width 9 inch In the Box Number of Contents in Sales Package 20 Sales Package 20 PIECE FACE TOWEL SET",
         "No rating available",
         "No rating available",
         "Eurospa",
         "{\"product_specification\"=>[{\"key\"=>\"Material\", \"value\"=>\"Cotton Terry\"}, {\"key\"=>\"Design\", \"value\"=>\"SHUVAM\"}, {\"key\"=>\"Brand\", \"value\"=>\"Eurospa\"}, {\"key\"=>\"GSM\", \"value\"=>\"360\"}, {\"key\"=>\"Type\", \"value\"=>\"Face Towel Set\"}, {\"key\"=>\"Model Name\", \"value\"=>\"SHUVAM20PCFTSETASSORTED\"}, {\"key\"=>\"Ideal For\", \"value\"=>\"Boys, Girls, Men, Women\"}, {\"key\"=>\"Model ID\", \"value\"=>\"SHUVAM20PCFTSETASSORTED\"}, {\"key\"=>\"Size\", \"value\"=>\"small\"}, {\"key\"=>\"Color\", \"value\"=>\"Assorted\"}, {\"key\"=>\"Weight\", \"value\"=>\"350 g\"}, {\"key\"=>\"Length\", \"value\"=>\"9 inch\"}, {\"key\"=>\"Width\", \"value\"=>\"9 inch\"}, {\"key\"=>\"Number of Contents in Sales Package\", \"value\"=>\"20\"}, {\"key\"=>\"Sales Package\", \"value\"=>\"20 PIECE FACE TOWEL SET\"}]}"
        ],
        [
         "3",
         "d4684dcdc759dd9cdf41504698d737d8",
         "2016-06-20 08:49:52 +0000",
         "http://www.flipkart.com/santosh-royal-fashion-cotton-printed-king-sized-double-bedsheet/p/itmejt9uaqahahuf?pid=BDSEJT9UQWHDUBH4",
         "SANTOSH ROYAL FASHION Cotton Printed King sized Double Bedsheet",
         "[\"Home Furnishing >> Bed Linen >> Bedsheets >> SANTOSH ROYAL FASHION Bedsheets >> SANTOSH ROYAL FASHION Cotton Printed King sized ...\"]",
         "BDSEJT9UQWHDUBH4",
         "2699.0",
         "1299.0",
         "d4684dcdc759dd9cdf41504698d737d8.jpg",
         "False",
         "Key Features of SANTOSH ROYAL FASHION Cotton Printed King sized Double Bedsheet Royal Bedsheet Perfact for Wedding & Gifting,Specifications of SANTOSH ROYAL FASHION Cotton Printed King sized Double Bedsheet (1 Bedsheet,2 Pillow Cover, Multicolor) General Brand SANTOSH ROYAL FASHION Machine Washable Yes Type Flat Material Cotton Model Name Gold Design Royal Cotton Printed Wedding & Gifted Double Bedsheet With 2 Pillow cover Model ID goldbedi-38 Color Multicolor Size King Fabric Care Machine Wash, Do Not Bleach Dimensions Flat Sheet Width 90 inch / 230 cm Fitted Sheet Width 228 cm Pillow Cover Width 16 inch / 43 cm Pillow Cover Length 28 inch / 72 cm Fitted Sheet Depth 280 cm Fitted Sheet Length 278 cm Flat Sheet Depth 282 cm Flat Sheet Length 110 inch / 280 cm In the Box Number of Contents in Sales Package 1 Sales Package 1 Bedsheet,2 Pillow Cover",
         "No rating available",
         "No rating available",
         "SANTOSH ROYAL FASHION",
         "{\"product_specification\"=>[{\"key\"=>\"Brand\", \"value\"=>\"SANTOSH ROYAL FASHION\"}, {\"key\"=>\"Machine Washable\", \"value\"=>\"Yes\"}, {\"key\"=>\"Type\", \"value\"=>\"Flat\"}, {\"key\"=>\"Material\", \"value\"=>\"Cotton\"}, {\"key\"=>\"Model Name\", \"value\"=>\"Gold Design Royal Cotton Printed Wedding and Gifted Double Bedsheet With 2 Pillow cover\"}, {\"key\"=>\"Model ID\", \"value\"=>\"goldbedi-38\"}, {\"key\"=>\"Color\", \"value\"=>\"Multicolor\"}, {\"key\"=>\"Size\", \"value\"=>\"King\"}, {\"key\"=>\"Fabric Care\", \"value\"=>\"Machine Wash, Do Not Bleach\"}, {\"key\"=>\"Flat Sheet Width\", \"value\"=>\"90 inch / 230 cm\"}, {\"key\"=>\"Fitted Sheet Width\", \"value\"=>\"228 cm\"}, {\"key\"=>\"Pillow Cover Width\", \"value\"=>\"16 inch / 43 cm\"}, {\"key\"=>\"Pillow Cover Length\", \"value\"=>\"28 inch / 72 cm\"}, {\"key\"=>\"Fitted Sheet Depth\", \"value\"=>\"280 cm\"}, {\"key\"=>\"Fitted Sheet Length\", \"value\"=>\"278 cm\"}, {\"key\"=>\"Flat Sheet Depth\", \"value\"=>\"282 cm\"}, {\"key\"=>\"Flat Sheet Length\", \"value\"=>\"110 inch / 280 cm\"}, {\"key\"=>\"Number of Contents in Sales Package\", \"value\"=>\"1\"}, {\"key\"=>\"Sales Package\", \"value\"=>\"1 Bedsheet,2 Pillow Cover\"}]}"
        ],
        [
         "4",
         "6325b6870c54cd47be6ebfbffa620ec7",
         "2016-06-20 08:49:52 +0000",
         "http://www.flipkart.com/jaipur-print-cotton-floral-king-sized-double-bedsheet/p/itmejthnwahrnt7v?pid=BDSEJTHNGWVGWWQU",
         "Jaipur Print Cotton Floral King sized Double Bedsheet",
         "[\"Home Furnishing >> Bed Linen >> Bedsheets >> Jaipur Print Bedsheets >> Jaipur Print Cotton Floral King sized Double Bed...\"]",
         "BDSEJTHNGWVGWWQU",
         "2599.0",
         "698.0",
         "6325b6870c54cd47be6ebfbffa620ec7.jpg",
         "False",
         "Key Features of Jaipur Print Cotton Floral King sized Double Bedsheet 100% cotton,Jaipur Print Cotton Floral King sized Double Bedsheet (1 bed sheet 2 pillow cover, White) Price: Rs. 998 This nice bed sheet made up of 100% cotton to give you comfort. This bed sheet is hand printed. This bedsheet gives nice look to your room And its fast colour and good quality gives this bedsheet long life.,Specifications of Jaipur Print Cotton Floral King sized Double Bedsheet (1 bed sheet 2 pillow cover, White) General Machine Washable Yes Brand Jaipur Print Type Flat Model Name jaipur117 Material Cotton Thread Count 140 Model ID jaipur117 Fabric Care machinewash, do not bleach Size King Color White Warranty waranty of the product only for manufacturing defect only and product will exchange onle when it is not used and returne its origional packing Dimensions Flat Sheet Width 86 inch / 220 cm Fitted Sheet Width 0 cm Pillow Cover Width 17 inch / 45 cm Pillow Cover Length 29 inch / 75 cm Weight 900 g Fitted Sheet Depth 0 cm Fitted Sheet Length 0 cm Flat Sheet Depth 0.2 cm Flat Sheet Length 104 inch / 265 cm In the Box Number of Contents in Sales Package 1 Sales Package 1 bed sheet 2 pillow cover",
         "No rating available",
         "No rating available",
         "Jaipur Print",
         "{\"product_specification\"=>[{\"key\"=>\"Machine Washable\", \"value\"=>\"Yes\"}, {\"key\"=>\"Brand\", \"value\"=>\"Jaipur Print\"}, {\"key\"=>\"Type\", \"value\"=>\"Flat\"}, {\"key\"=>\"Model Name\", \"value\"=>\"jaipur117\"}, {\"key\"=>\"Material\", \"value\"=>\"Cotton\"}, {\"key\"=>\"Thread Count\", \"value\"=>\"140\"}, {\"key\"=>\"Model ID\", \"value\"=>\"jaipur117\"}, {\"key\"=>\"Fabric Care\", \"value\"=>\"machinewash, do not bleach\"}, {\"key\"=>\"Size\", \"value\"=>\"King\"}, {\"key\"=>\"Color\", \"value\"=>\"White\"}, {\"value\"=>\"waranty of the product only for manufacturing defect only and product will exchange onle when it is not used and returne its origional packing\"}, {\"key\"=>\"Flat Sheet Width\", \"value\"=>\"86 inch / 220 cm\"}, {\"key\"=>\"Fitted Sheet Width\", \"value\"=>\"0 cm\"}, {\"key\"=>\"Pillow Cover Width\", \"value\"=>\"17 inch / 45 cm\"}, {\"key\"=>\"Pillow Cover Length\", \"value\"=>\"29 inch / 75 cm\"}, {\"key\"=>\"Weight\", \"value\"=>\"900 g\"}, {\"key\"=>\"Fitted Sheet Depth\", \"value\"=>\"0 cm\"}, {\"key\"=>\"Fitted Sheet Length\", \"value\"=>\"0 cm\"}, {\"key\"=>\"Flat Sheet Depth\", \"value\"=>\"0.2 cm\"}, {\"key\"=>\"Flat Sheet Length\", \"value\"=>\"104 inch / 265 cm\"}, {\"key\"=>\"Number of Contents in Sales Package\", \"value\"=>\"1\"}, {\"key\"=>\"Sales Package\", \"value\"=>\"1 bed sheet 2 pillow cover\"}]}"
        ]
       ],
       "shape": {
        "columns": 15,
        "rows": 5
       }
      },
      "text/html": [
       "<div>\n",
       "<style scoped>\n",
       "    .dataframe tbody tr th:only-of-type {\n",
       "        vertical-align: middle;\n",
       "    }\n",
       "\n",
       "    .dataframe tbody tr th {\n",
       "        vertical-align: top;\n",
       "    }\n",
       "\n",
       "    .dataframe thead th {\n",
       "        text-align: right;\n",
       "    }\n",
       "</style>\n",
       "<table border=\"1\" class=\"dataframe\">\n",
       "  <thead>\n",
       "    <tr style=\"text-align: right;\">\n",
       "      <th></th>\n",
       "      <th>uniq_id</th>\n",
       "      <th>crawl_timestamp</th>\n",
       "      <th>product_url</th>\n",
       "      <th>product_name</th>\n",
       "      <th>product_category_tree</th>\n",
       "      <th>pid</th>\n",
       "      <th>retail_price</th>\n",
       "      <th>discounted_price</th>\n",
       "      <th>image</th>\n",
       "      <th>is_FK_Advantage_product</th>\n",
       "      <th>description</th>\n",
       "      <th>product_rating</th>\n",
       "      <th>overall_rating</th>\n",
       "      <th>brand</th>\n",
       "      <th>product_specifications</th>\n",
       "    </tr>\n",
       "  </thead>\n",
       "  <tbody>\n",
       "    <tr>\n",
       "      <th>0</th>\n",
       "      <td>55b85ea15a1536d46b7190ad6fff8ce7</td>\n",
       "      <td>2016-04-30 03:22:56 +0000</td>\n",
       "      <td>http://www.flipkart.com/elegance-polyester-mul...</td>\n",
       "      <td>Elegance Polyester Multicolor Abstract Eyelet ...</td>\n",
       "      <td>[\"Home Furnishing &gt;&gt; Curtains &amp; Accessories &gt;&gt;...</td>\n",
       "      <td>CRNEG7BKMFFYHQ8Z</td>\n",
       "      <td>1899.0</td>\n",
       "      <td>899.0</td>\n",
       "      <td>55b85ea15a1536d46b7190ad6fff8ce7.jpg</td>\n",
       "      <td>False</td>\n",
       "      <td>Key Features of Elegance Polyester Multicolor ...</td>\n",
       "      <td>No rating available</td>\n",
       "      <td>No rating available</td>\n",
       "      <td>Elegance</td>\n",
       "      <td>{\"product_specification\"=&gt;[{\"key\"=&gt;\"Brand\", \"v...</td>\n",
       "    </tr>\n",
       "    <tr>\n",
       "      <th>1</th>\n",
       "      <td>7b72c92c2f6c40268628ec5f14c6d590</td>\n",
       "      <td>2016-04-30 03:22:56 +0000</td>\n",
       "      <td>http://www.flipkart.com/sathiyas-cotton-bath-t...</td>\n",
       "      <td>Sathiyas Cotton Bath Towel</td>\n",
       "      <td>[\"Baby Care &gt;&gt; Baby Bath &amp; Skin &gt;&gt; Baby Bath T...</td>\n",
       "      <td>BTWEGFZHGBXPHZUH</td>\n",
       "      <td>600.0</td>\n",
       "      <td>449.0</td>\n",
       "      <td>7b72c92c2f6c40268628ec5f14c6d590.jpg</td>\n",
       "      <td>False</td>\n",
       "      <td>Specifications of Sathiyas Cotton Bath Towel (...</td>\n",
       "      <td>No rating available</td>\n",
       "      <td>No rating available</td>\n",
       "      <td>Sathiyas</td>\n",
       "      <td>{\"product_specification\"=&gt;[{\"key\"=&gt;\"Machine Wa...</td>\n",
       "    </tr>\n",
       "    <tr>\n",
       "      <th>2</th>\n",
       "      <td>64d5d4a258243731dc7bbb1eef49ad74</td>\n",
       "      <td>2016-04-30 03:22:56 +0000</td>\n",
       "      <td>http://www.flipkart.com/eurospa-cotton-terry-f...</td>\n",
       "      <td>Eurospa Cotton Terry Face Towel Set</td>\n",
       "      <td>[\"Baby Care &gt;&gt; Baby Bath &amp; Skin &gt;&gt; Baby Bath T...</td>\n",
       "      <td>BTWEG6SHXTDB2A2Y</td>\n",
       "      <td>NaN</td>\n",
       "      <td>NaN</td>\n",
       "      <td>64d5d4a258243731dc7bbb1eef49ad74.jpg</td>\n",
       "      <td>False</td>\n",
       "      <td>Key Features of Eurospa Cotton Terry Face Towe...</td>\n",
       "      <td>No rating available</td>\n",
       "      <td>No rating available</td>\n",
       "      <td>Eurospa</td>\n",
       "      <td>{\"product_specification\"=&gt;[{\"key\"=&gt;\"Material\",...</td>\n",
       "    </tr>\n",
       "    <tr>\n",
       "      <th>3</th>\n",
       "      <td>d4684dcdc759dd9cdf41504698d737d8</td>\n",
       "      <td>2016-06-20 08:49:52 +0000</td>\n",
       "      <td>http://www.flipkart.com/santosh-royal-fashion-...</td>\n",
       "      <td>SANTOSH ROYAL FASHION Cotton Printed King size...</td>\n",
       "      <td>[\"Home Furnishing &gt;&gt; Bed Linen &gt;&gt; Bedsheets &gt;&gt;...</td>\n",
       "      <td>BDSEJT9UQWHDUBH4</td>\n",
       "      <td>2699.0</td>\n",
       "      <td>1299.0</td>\n",
       "      <td>d4684dcdc759dd9cdf41504698d737d8.jpg</td>\n",
       "      <td>False</td>\n",
       "      <td>Key Features of SANTOSH ROYAL FASHION Cotton P...</td>\n",
       "      <td>No rating available</td>\n",
       "      <td>No rating available</td>\n",
       "      <td>SANTOSH ROYAL FASHION</td>\n",
       "      <td>{\"product_specification\"=&gt;[{\"key\"=&gt;\"Brand\", \"v...</td>\n",
       "    </tr>\n",
       "    <tr>\n",
       "      <th>4</th>\n",
       "      <td>6325b6870c54cd47be6ebfbffa620ec7</td>\n",
       "      <td>2016-06-20 08:49:52 +0000</td>\n",
       "      <td>http://www.flipkart.com/jaipur-print-cotton-fl...</td>\n",
       "      <td>Jaipur Print Cotton Floral King sized Double B...</td>\n",
       "      <td>[\"Home Furnishing &gt;&gt; Bed Linen &gt;&gt; Bedsheets &gt;&gt;...</td>\n",
       "      <td>BDSEJTHNGWVGWWQU</td>\n",
       "      <td>2599.0</td>\n",
       "      <td>698.0</td>\n",
       "      <td>6325b6870c54cd47be6ebfbffa620ec7.jpg</td>\n",
       "      <td>False</td>\n",
       "      <td>Key Features of Jaipur Print Cotton Floral Kin...</td>\n",
       "      <td>No rating available</td>\n",
       "      <td>No rating available</td>\n",
       "      <td>Jaipur Print</td>\n",
       "      <td>{\"product_specification\"=&gt;[{\"key\"=&gt;\"Machine Wa...</td>\n",
       "    </tr>\n",
       "  </tbody>\n",
       "</table>\n",
       "</div>"
      ],
      "text/plain": [
       "                            uniq_id            crawl_timestamp  \\\n",
       "0  55b85ea15a1536d46b7190ad6fff8ce7  2016-04-30 03:22:56 +0000   \n",
       "1  7b72c92c2f6c40268628ec5f14c6d590  2016-04-30 03:22:56 +0000   \n",
       "2  64d5d4a258243731dc7bbb1eef49ad74  2016-04-30 03:22:56 +0000   \n",
       "3  d4684dcdc759dd9cdf41504698d737d8  2016-06-20 08:49:52 +0000   \n",
       "4  6325b6870c54cd47be6ebfbffa620ec7  2016-06-20 08:49:52 +0000   \n",
       "\n",
       "                                         product_url  \\\n",
       "0  http://www.flipkart.com/elegance-polyester-mul...   \n",
       "1  http://www.flipkart.com/sathiyas-cotton-bath-t...   \n",
       "2  http://www.flipkart.com/eurospa-cotton-terry-f...   \n",
       "3  http://www.flipkart.com/santosh-royal-fashion-...   \n",
       "4  http://www.flipkart.com/jaipur-print-cotton-fl...   \n",
       "\n",
       "                                        product_name  \\\n",
       "0  Elegance Polyester Multicolor Abstract Eyelet ...   \n",
       "1                         Sathiyas Cotton Bath Towel   \n",
       "2                Eurospa Cotton Terry Face Towel Set   \n",
       "3  SANTOSH ROYAL FASHION Cotton Printed King size...   \n",
       "4  Jaipur Print Cotton Floral King sized Double B...   \n",
       "\n",
       "                               product_category_tree               pid  \\\n",
       "0  [\"Home Furnishing >> Curtains & Accessories >>...  CRNEG7BKMFFYHQ8Z   \n",
       "1  [\"Baby Care >> Baby Bath & Skin >> Baby Bath T...  BTWEGFZHGBXPHZUH   \n",
       "2  [\"Baby Care >> Baby Bath & Skin >> Baby Bath T...  BTWEG6SHXTDB2A2Y   \n",
       "3  [\"Home Furnishing >> Bed Linen >> Bedsheets >>...  BDSEJT9UQWHDUBH4   \n",
       "4  [\"Home Furnishing >> Bed Linen >> Bedsheets >>...  BDSEJTHNGWVGWWQU   \n",
       "\n",
       "   retail_price  discounted_price                                 image  \\\n",
       "0        1899.0             899.0  55b85ea15a1536d46b7190ad6fff8ce7.jpg   \n",
       "1         600.0             449.0  7b72c92c2f6c40268628ec5f14c6d590.jpg   \n",
       "2           NaN               NaN  64d5d4a258243731dc7bbb1eef49ad74.jpg   \n",
       "3        2699.0            1299.0  d4684dcdc759dd9cdf41504698d737d8.jpg   \n",
       "4        2599.0             698.0  6325b6870c54cd47be6ebfbffa620ec7.jpg   \n",
       "\n",
       "   is_FK_Advantage_product                                        description  \\\n",
       "0                    False  Key Features of Elegance Polyester Multicolor ...   \n",
       "1                    False  Specifications of Sathiyas Cotton Bath Towel (...   \n",
       "2                    False  Key Features of Eurospa Cotton Terry Face Towe...   \n",
       "3                    False  Key Features of SANTOSH ROYAL FASHION Cotton P...   \n",
       "4                    False  Key Features of Jaipur Print Cotton Floral Kin...   \n",
       "\n",
       "        product_rating       overall_rating                  brand  \\\n",
       "0  No rating available  No rating available               Elegance   \n",
       "1  No rating available  No rating available               Sathiyas   \n",
       "2  No rating available  No rating available                Eurospa   \n",
       "3  No rating available  No rating available  SANTOSH ROYAL FASHION   \n",
       "4  No rating available  No rating available           Jaipur Print   \n",
       "\n",
       "                              product_specifications  \n",
       "0  {\"product_specification\"=>[{\"key\"=>\"Brand\", \"v...  \n",
       "1  {\"product_specification\"=>[{\"key\"=>\"Machine Wa...  \n",
       "2  {\"product_specification\"=>[{\"key\"=>\"Material\",...  \n",
       "3  {\"product_specification\"=>[{\"key\"=>\"Brand\", \"v...  \n",
       "4  {\"product_specification\"=>[{\"key\"=>\"Machine Wa...  "
      ]
     },
     "execution_count": 1,
     "metadata": {},
     "output_type": "execute_result"
    }
   ],
   "source": [
    "import pandas as pd\n",
    "import glob\n",
    "\n",
    "# Read all CSV files from dataset/Flipkart directory with glob\n",
    "csv_files = glob.glob('dataset/Flipkart/flipkart*.csv')\n",
    "\n",
    "# Import the CSV files into a dataframe\n",
    "df = pd.read_csv(csv_files[0])\n",
    "\n",
    "# Display first few rows\n",
    "df.head()"
   ]
  },
  {
   "cell_type": "code",
   "execution_count": 2,
   "id": "7ac3f69b",
   "metadata": {},
   "outputs": [
    {
     "data": {
      "application/vnd.microsoft.datawrangler.viewer.v0+json": {
       "columns": [
        {
         "name": "index",
         "rawType": "int64",
         "type": "integer"
        },
        {
         "name": "key",
         "rawType": "object",
         "type": "string"
        },
        {
         "name": "value",
         "rawType": "object",
         "type": "string"
        },
        {
         "name": "count",
         "rawType": "int64",
         "type": "integer"
        },
        {
         "name": "percentage",
         "rawType": "float64",
         "type": "float"
        },
        {
         "name": "total_occurrences",
         "rawType": "int64",
         "type": "integer"
        }
       ],
       "ref": "2255a545-1baa-4c42-ae42-9b19eb9f16f8",
       "rows": [
        [
         "0",
         "Type",
         "Analog",
         "123",
         "16.9",
         "728"
        ],
        [
         "1",
         "Type",
         "Mug",
         "74",
         "10.16",
         "728"
        ],
        [
         "2",
         "Type",
         "Ethnic",
         "56",
         "7.69",
         "728"
        ],
        [
         "3",
         "Type",
         "Wireless Without modem",
         "27",
         "3.71",
         "728"
        ],
        [
         "4",
         "Type",
         "Religious Idols",
         "26",
         "3.57",
         "728"
        ],
        [
         "5",
         "Brand",
         "Lapguard",
         "11",
         "1.94",
         "568"
        ],
        [
         "6",
         "Brand",
         "PRINT SHAPES",
         "11",
         "1.94",
         "568"
        ],
        [
         "7",
         "Brand",
         "Lal Haveli",
         "10",
         "1.76",
         "568"
        ],
        [
         "8",
         "Brand",
         "Raymond",
         "8",
         "1.41",
         "568"
        ],
        [
         "9",
         "Brand",
         "Aroma Comfort",
         "8",
         "1.41",
         "568"
        ],
        [
         "10",
         "Sales Package",
         "1 Mug",
         "49",
         "9.59",
         "511"
        ],
        [
         "11",
         "Sales Package",
         "1 Showpiece Figurine",
         "44",
         "8.61",
         "511"
        ],
        [
         "12",
         "Sales Package",
         "1 mug",
         "22",
         "4.31",
         "511"
        ],
        [
         "13",
         "Sales Package",
         "Blanket",
         "12",
         "2.35",
         "511"
        ],
        [
         "14",
         "Sales Package",
         "1 Laptop Adapter",
         "10",
         "1.96",
         "511"
        ],
        [
         "15",
         "Color",
         "Multicolor",
         "98",
         "19.41",
         "505"
        ],
        [
         "16",
         "Color",
         "Black",
         "73",
         "14.46",
         "505"
        ],
        [
         "17",
         "Color",
         "White",
         "42",
         "8.32",
         "505"
        ],
        [
         "18",
         "Color",
         "Blue",
         "31",
         "6.14",
         "505"
        ],
        [
         "19",
         "Color",
         "Gold",
         "28",
         "5.54",
         "505"
        ],
        [
         "20",
         "Ideal For",
         "Men",
         "88",
         "18.8",
         "468"
        ],
        [
         "21",
         "Ideal For",
         "Women",
         "75",
         "16.03",
         "468"
        ],
        [
         "22",
         "Ideal For",
         "Men, Women",
         "47",
         "10.04",
         "468"
        ],
        [
         "23",
         "Ideal For",
         "Baby Girl's",
         "46",
         "9.83",
         "468"
        ],
        [
         "24",
         "Ideal For",
         "Men and Women",
         "35",
         "7.48",
         "468"
        ]
       ],
       "shape": {
        "columns": 5,
        "rows": 25
       }
      },
      "text/html": [
       "<div>\n",
       "<style scoped>\n",
       "    .dataframe tbody tr th:only-of-type {\n",
       "        vertical-align: middle;\n",
       "    }\n",
       "\n",
       "    .dataframe tbody tr th {\n",
       "        vertical-align: top;\n",
       "    }\n",
       "\n",
       "    .dataframe thead th {\n",
       "        text-align: right;\n",
       "    }\n",
       "</style>\n",
       "<table border=\"1\" class=\"dataframe\">\n",
       "  <thead>\n",
       "    <tr style=\"text-align: right;\">\n",
       "      <th></th>\n",
       "      <th>key</th>\n",
       "      <th>value</th>\n",
       "      <th>count</th>\n",
       "      <th>percentage</th>\n",
       "      <th>total_occurrences</th>\n",
       "    </tr>\n",
       "  </thead>\n",
       "  <tbody>\n",
       "    <tr>\n",
       "      <th>0</th>\n",
       "      <td>Type</td>\n",
       "      <td>Analog</td>\n",
       "      <td>123</td>\n",
       "      <td>16.90</td>\n",
       "      <td>728</td>\n",
       "    </tr>\n",
       "    <tr>\n",
       "      <th>1</th>\n",
       "      <td>Type</td>\n",
       "      <td>Mug</td>\n",
       "      <td>74</td>\n",
       "      <td>10.16</td>\n",
       "      <td>728</td>\n",
       "    </tr>\n",
       "    <tr>\n",
       "      <th>2</th>\n",
       "      <td>Type</td>\n",
       "      <td>Ethnic</td>\n",
       "      <td>56</td>\n",
       "      <td>7.69</td>\n",
       "      <td>728</td>\n",
       "    </tr>\n",
       "    <tr>\n",
       "      <th>3</th>\n",
       "      <td>Type</td>\n",
       "      <td>Wireless Without modem</td>\n",
       "      <td>27</td>\n",
       "      <td>3.71</td>\n",
       "      <td>728</td>\n",
       "    </tr>\n",
       "    <tr>\n",
       "      <th>4</th>\n",
       "      <td>Type</td>\n",
       "      <td>Religious Idols</td>\n",
       "      <td>26</td>\n",
       "      <td>3.57</td>\n",
       "      <td>728</td>\n",
       "    </tr>\n",
       "    <tr>\n",
       "      <th>5</th>\n",
       "      <td>Brand</td>\n",
       "      <td>Lapguard</td>\n",
       "      <td>11</td>\n",
       "      <td>1.94</td>\n",
       "      <td>568</td>\n",
       "    </tr>\n",
       "    <tr>\n",
       "      <th>6</th>\n",
       "      <td>Brand</td>\n",
       "      <td>PRINT SHAPES</td>\n",
       "      <td>11</td>\n",
       "      <td>1.94</td>\n",
       "      <td>568</td>\n",
       "    </tr>\n",
       "    <tr>\n",
       "      <th>7</th>\n",
       "      <td>Brand</td>\n",
       "      <td>Lal Haveli</td>\n",
       "      <td>10</td>\n",
       "      <td>1.76</td>\n",
       "      <td>568</td>\n",
       "    </tr>\n",
       "    <tr>\n",
       "      <th>8</th>\n",
       "      <td>Brand</td>\n",
       "      <td>Raymond</td>\n",
       "      <td>8</td>\n",
       "      <td>1.41</td>\n",
       "      <td>568</td>\n",
       "    </tr>\n",
       "    <tr>\n",
       "      <th>9</th>\n",
       "      <td>Brand</td>\n",
       "      <td>Aroma Comfort</td>\n",
       "      <td>8</td>\n",
       "      <td>1.41</td>\n",
       "      <td>568</td>\n",
       "    </tr>\n",
       "    <tr>\n",
       "      <th>10</th>\n",
       "      <td>Sales Package</td>\n",
       "      <td>1 Mug</td>\n",
       "      <td>49</td>\n",
       "      <td>9.59</td>\n",
       "      <td>511</td>\n",
       "    </tr>\n",
       "    <tr>\n",
       "      <th>11</th>\n",
       "      <td>Sales Package</td>\n",
       "      <td>1 Showpiece Figurine</td>\n",
       "      <td>44</td>\n",
       "      <td>8.61</td>\n",
       "      <td>511</td>\n",
       "    </tr>\n",
       "    <tr>\n",
       "      <th>12</th>\n",
       "      <td>Sales Package</td>\n",
       "      <td>1 mug</td>\n",
       "      <td>22</td>\n",
       "      <td>4.31</td>\n",
       "      <td>511</td>\n",
       "    </tr>\n",
       "    <tr>\n",
       "      <th>13</th>\n",
       "      <td>Sales Package</td>\n",
       "      <td>Blanket</td>\n",
       "      <td>12</td>\n",
       "      <td>2.35</td>\n",
       "      <td>511</td>\n",
       "    </tr>\n",
       "    <tr>\n",
       "      <th>14</th>\n",
       "      <td>Sales Package</td>\n",
       "      <td>1 Laptop Adapter</td>\n",
       "      <td>10</td>\n",
       "      <td>1.96</td>\n",
       "      <td>511</td>\n",
       "    </tr>\n",
       "    <tr>\n",
       "      <th>15</th>\n",
       "      <td>Color</td>\n",
       "      <td>Multicolor</td>\n",
       "      <td>98</td>\n",
       "      <td>19.41</td>\n",
       "      <td>505</td>\n",
       "    </tr>\n",
       "    <tr>\n",
       "      <th>16</th>\n",
       "      <td>Color</td>\n",
       "      <td>Black</td>\n",
       "      <td>73</td>\n",
       "      <td>14.46</td>\n",
       "      <td>505</td>\n",
       "    </tr>\n",
       "    <tr>\n",
       "      <th>17</th>\n",
       "      <td>Color</td>\n",
       "      <td>White</td>\n",
       "      <td>42</td>\n",
       "      <td>8.32</td>\n",
       "      <td>505</td>\n",
       "    </tr>\n",
       "    <tr>\n",
       "      <th>18</th>\n",
       "      <td>Color</td>\n",
       "      <td>Blue</td>\n",
       "      <td>31</td>\n",
       "      <td>6.14</td>\n",
       "      <td>505</td>\n",
       "    </tr>\n",
       "    <tr>\n",
       "      <th>19</th>\n",
       "      <td>Color</td>\n",
       "      <td>Gold</td>\n",
       "      <td>28</td>\n",
       "      <td>5.54</td>\n",
       "      <td>505</td>\n",
       "    </tr>\n",
       "    <tr>\n",
       "      <th>20</th>\n",
       "      <td>Ideal For</td>\n",
       "      <td>Men</td>\n",
       "      <td>88</td>\n",
       "      <td>18.80</td>\n",
       "      <td>468</td>\n",
       "    </tr>\n",
       "    <tr>\n",
       "      <th>21</th>\n",
       "      <td>Ideal For</td>\n",
       "      <td>Women</td>\n",
       "      <td>75</td>\n",
       "      <td>16.03</td>\n",
       "      <td>468</td>\n",
       "    </tr>\n",
       "    <tr>\n",
       "      <th>22</th>\n",
       "      <td>Ideal For</td>\n",
       "      <td>Men, Women</td>\n",
       "      <td>47</td>\n",
       "      <td>10.04</td>\n",
       "      <td>468</td>\n",
       "    </tr>\n",
       "    <tr>\n",
       "      <th>23</th>\n",
       "      <td>Ideal For</td>\n",
       "      <td>Baby Girl's</td>\n",
       "      <td>46</td>\n",
       "      <td>9.83</td>\n",
       "      <td>468</td>\n",
       "    </tr>\n",
       "    <tr>\n",
       "      <th>24</th>\n",
       "      <td>Ideal For</td>\n",
       "      <td>Men and Women</td>\n",
       "      <td>35</td>\n",
       "      <td>7.48</td>\n",
       "      <td>468</td>\n",
       "    </tr>\n",
       "  </tbody>\n",
       "</table>\n",
       "</div>"
      ],
      "text/plain": [
       "              key                   value  count  percentage  \\\n",
       "0            Type                  Analog    123       16.90   \n",
       "1            Type                     Mug     74       10.16   \n",
       "2            Type                  Ethnic     56        7.69   \n",
       "3            Type  Wireless Without modem     27        3.71   \n",
       "4            Type         Religious Idols     26        3.57   \n",
       "5           Brand                Lapguard     11        1.94   \n",
       "6           Brand            PRINT SHAPES     11        1.94   \n",
       "7           Brand              Lal Haveli     10        1.76   \n",
       "8           Brand                 Raymond      8        1.41   \n",
       "9           Brand           Aroma Comfort      8        1.41   \n",
       "10  Sales Package                   1 Mug     49        9.59   \n",
       "11  Sales Package    1 Showpiece Figurine     44        8.61   \n",
       "12  Sales Package                   1 mug     22        4.31   \n",
       "13  Sales Package                 Blanket     12        2.35   \n",
       "14  Sales Package        1 Laptop Adapter     10        1.96   \n",
       "15          Color              Multicolor     98       19.41   \n",
       "16          Color                   Black     73       14.46   \n",
       "17          Color                   White     42        8.32   \n",
       "18          Color                    Blue     31        6.14   \n",
       "19          Color                    Gold     28        5.54   \n",
       "20      Ideal For                     Men     88       18.80   \n",
       "21      Ideal For                   Women     75       16.03   \n",
       "22      Ideal For              Men, Women     47       10.04   \n",
       "23      Ideal For             Baby Girl's     46        9.83   \n",
       "24      Ideal For           Men and Women     35        7.48   \n",
       "\n",
       "    total_occurrences  \n",
       "0                 728  \n",
       "1                 728  \n",
       "2                 728  \n",
       "3                 728  \n",
       "4                 728  \n",
       "5                 568  \n",
       "6                 568  \n",
       "7                 568  \n",
       "8                 568  \n",
       "9                 568  \n",
       "10                511  \n",
       "11                511  \n",
       "12                511  \n",
       "13                511  \n",
       "14                511  \n",
       "15                505  \n",
       "16                505  \n",
       "17                505  \n",
       "18                505  \n",
       "19                505  \n",
       "20                468  \n",
       "21                468  \n",
       "22                468  \n",
       "23                468  \n",
       "24                468  "
      ]
     },
     "execution_count": 2,
     "metadata": {},
     "output_type": "execute_result"
    }
   ],
   "source": [
    "from src.classes.analyze_value_specifications import SpecificationsValueAnalyzer\n",
    "\n",
    "analyzer = SpecificationsValueAnalyzer(df)\n",
    "value_analysis = analyzer.get_top_values(top_keys=5, top_values=5)\n",
    "value_analysis"
   ]
  },
  {
   "cell_type": "code",
   "execution_count": 3,
   "id": "d9cfc9ba",
   "metadata": {},
   "outputs": [
    {
     "data": {
      "application/vnd.plotly.v1+json": {
       "config": {
        "plotlyServerURL": "https://plot.ly"
       },
       "data": [
        {
         "branchvalues": "total",
         "domain": {
          "x": [
           0,
           1
          ],
          "y": [
           0,
           1
          ]
         },
         "hovertemplate": "labels=%{label}<br>count=%{value}<br>parent=%{parent}<br>id=%{id}<extra></extra>",
         "ids": [
          "Specifications/Type/Analog",
          "Specifications/Type/Mug",
          "Specifications/Type/Ethnic",
          "Specifications/Type/Wireless Without modem",
          "Specifications/Type/Religious Idols",
          "Specifications/Type/Blanket",
          "Specifications/Type/Kadhai",
          "Specifications/Type/Quilts and Comforters",
          "Specifications/Type/Eyelet",
          "Specifications/Type/Led Light",
          "Specifications/Type/Digital",
          "Specifications/Type/Bath Towel",
          "Specifications/Type/Square",
          "Specifications/Type/Wireless With Modem",
          "Specifications/Type/Flat",
          "Specifications/Type/Human Figurines",
          "Specifications/Type/Gathered",
          "Specifications/Type/Range Extenders/Repeaters",
          "Specifications/Type/Dohar",
          "Specifications/Type/Set of Towels",
          "Specifications/Brand/Lapguard",
          "Specifications/Brand/PRINT SHAPES",
          "Specifications/Brand/Lal Haveli",
          "Specifications/Brand/Raymond",
          "Specifications/Brand/Aroma Comfort",
          "Specifications/Brand/Tenda",
          "Specifications/Brand/Smartpro",
          "Specifications/Brand/Wallmantra",
          "Specifications/Brand/Asus",
          "Specifications/Brand/HP",
          "Specifications/Brand/Home Originals",
          "Specifications/Brand/Exotic India",
          "Specifications/Brand/TRENDnet",
          "Specifications/Brand/Edimax",
          "Specifications/Brand/Rega IT",
          "Specifications/Brand/Sapatos",
          "Specifications/Brand/D-Link",
          "Specifications/Brand/TP-LINK",
          "Specifications/Brand/Netgear",
          "Specifications/Brand/Cotonex",
          "Specifications/Sales Package/1 Mug",
          "Specifications/Sales Package/1 Showpiece Figurine",
          "Specifications/Sales Package/1 mug",
          "Specifications/Sales Package/Blanket",
          "Specifications/Sales Package/1 Laptop Adapter",
          "Specifications/Sales Package/1 Kadhai",
          "Specifications/Sales Package/1 Showpiece",
          "Specifications/Sales Package/1 Pizza Cutter",
          "Specifications/Sales Package/2 Blankets",
          "Specifications/Sales Package/800 ML Bottle",
          "Specifications/Sales Package/Bath Towel",
          "Specifications/Sales Package/1 Blanket",
          "Specifications/Sales Package/USB Gadget",
          "Specifications/Sales Package/1 Sticker",
          "Specifications/Sales Package/2 Showpiece Figurine",
          "Specifications/Sales Package/2 Glove",
          "Specifications/Sales Package/Table Runner",
          "Specifications/Sales Package/1 Rajai",
          "Specifications/Sales Package/1 Bulb",
          "Specifications/Sales Package/One Jaipuri Print Light Weight Quilt",
          "Specifications/Color/Multicolor",
          "Specifications/Color/Black",
          "Specifications/Color/White",
          "Specifications/Color/Blue",
          "Specifications/Color/Gold",
          "Specifications/Color/Brown",
          "Specifications/Color/Green",
          "Specifications/Color/Silver",
          "Specifications/Color/Pink",
          "Specifications/Color/Yellow",
          "Specifications/Color/Red",
          "Specifications/Color/Grey",
          "Specifications/Color/Orange",
          "Specifications/Color/Purple",
          "Specifications/Color/Beige",
          "Specifications/Color/Copper",
          "Specifications/Color/Maroon",
          "Specifications/Color/Black, White",
          "Specifications/Color/Clear",
          "Specifications/Color/Steel",
          "Specifications/Ideal For/Men",
          "Specifications/Ideal For/Women",
          "Specifications/Ideal For/Men, Women",
          "Specifications/Ideal For/Baby Girl's",
          "Specifications/Ideal For/Men and Women",
          "Specifications/Ideal For/Baby Boy's",
          "Specifications/Ideal For/Boys, Girls",
          "Specifications/Ideal For/Boys",
          "Specifications/Ideal For/Girls",
          "Specifications/Ideal For/Men, Boys",
          "Specifications/Ideal For/Boys, Men",
          "Specifications/Ideal For/Girls, Women",
          "Specifications/Ideal For/Boys and Girls",
          "Specifications/Ideal For/Men, Women, Boys, Girls",
          "Specifications/Ideal For/Women, Men",
          "Specifications/Ideal For/Baby Boy's, Baby Girl's",
          "Specifications/Ideal For/Women, Girls",
          "Specifications/Ideal For/Baby Boys and Baby Girls",
          "Specifications/Ideal For/Girls, Boys",
          "Specifications/Ideal For/Boys, Girls, Men, Women",
          "Specifications/Material/Ceramic",
          "Specifications/Material/Cotton",
          "Specifications/Material/Brass",
          "Specifications/Material/Polyester",
          "Specifications/Material/Plastic",
          "Specifications/Material/Wooden",
          "Specifications/Material/Aluminium",
          "Specifications/Material/Glass",
          "Specifications/Material/Stoneware",
          "Specifications/Material/Stainless Steel",
          "Specifications/Material/Polyresin",
          "Specifications/Material/Copper",
          "Specifications/Material/Velvet",
          "Specifications/Material/Vinyl",
          "Specifications/Material/PVC",
          "Specifications/Material/Crystal",
          "Specifications/Material/Iron",
          "Specifications/Material/Nylon",
          "Specifications/Material/Rubber",
          "Specifications/Material/PLASTIC",
          "Specifications/Width/80 mm",
          "Specifications/Width/88 mm",
          "Specifications/Width/15 inch / 40 cm",
          "Specifications/Width/59 inch / 150 cm",
          "Specifications/Width/10 cm",
          "Specifications/Width/15 cm",
          "Specifications/Width/86 inch / 220 cm",
          "Specifications/Width/60 inch / 152.4 cm",
          "Specifications/Width/3 cm",
          "Specifications/Width/12 inch",
          "Specifications/Width/6 cm",
          "Specifications/Width/11 cm",
          "Specifications/Width/4 cm",
          "Specifications/Width/90 inch / 229 cm",
          "Specifications/Width/19 inch / 50 cm",
          "Specifications/Width/23 cm",
          "Specifications/Width/12.7 cm",
          "Specifications/Width/5 cm",
          "Specifications/Width/30 inch",
          "Specifications/Width/9 inch",
          "Specifications/Model Name/Double Blanket",
          "Specifications/Model Name/4 u design",
          "Specifications/Model Name/Floral Jaipuri Printed Quilt",
          "Specifications/Model Name/Single Blanket",
          "Specifications/Model Name/Hard Anodised",
          "Specifications/Model Name/100% Egyptian",
          "Specifications/Model Name/Baby Bath Towel",
          "Specifications/Model Name/Plain With Lace",
          "Specifications/Model Name/Plain",
          "Specifications/Model Name/Plain Box Quilted Brown Single Duvet",
          "Specifications/Model Name/Teddy Blanket",
          "Specifications/Model Name/Hooded Receiving",
          "Specifications/Model Name/Portable",
          "Specifications/Model Name/Mink",
          "Specifications/Model Name/PATTA",
          "Specifications/Model Name/Abstract Polyester Door Curtain Set Of 2",
          "Specifications/Model Name/Sathiyas cotton bath towel",
          "Specifications/Model Name/SHUVAM20PCFTSETASSORTED",
          "Specifications/Model Name/Gold Design Royal Cotton Printed Wedding and Gifted Double Bedsheet With 2 Pillow cover",
          "Specifications/Model Name/jaipur117",
          "Specifications/Weight/300 g",
          "Specifications/Weight/350 g",
          "Specifications/Weight/500 g",
          "Specifications/Weight/250 g",
          "Specifications/Weight/100 g",
          "Specifications/Weight/450 g",
          "Specifications/Weight/340 g",
          "Specifications/Weight/150 g",
          "Specifications/Weight/400 g",
          "Specifications/Weight/1800 g",
          "Specifications/Weight/50 g",
          "Specifications/Weight/200 g",
          "Specifications/Weight/1500 g",
          "Specifications/Weight/330 g",
          "Specifications/Weight/600 g",
          "Specifications/Weight/1980 g",
          "Specifications/Weight/40 g",
          "Specifications/Weight/900 g",
          "Specifications/Weight/1000 g",
          "Specifications/Weight/750 g",
          "Specifications/Number of Contents in Sales Package/Pack of 1",
          "Specifications/Number of Contents in Sales Package/1",
          "Specifications/Number of Contents in Sales Package/Pack of 2",
          "Specifications/Number of Contents in Sales Package/2",
          "Specifications/Number of Contents in Sales Package/Pack of 3",
          "Specifications/Number of Contents in Sales Package/Pack of 5",
          "Specifications/Number of Contents in Sales Package/Pack of 6",
          "Specifications/Number of Contents in Sales Package/Pack of 4",
          "Specifications/Number of Contents in Sales Package/Pack of 8",
          "Specifications/Number of Contents in Sales Package/5",
          "Specifications/Number of Contents in Sales Package/6",
          "Specifications/Number of Contents in Sales Package/3",
          "Specifications/Number of Contents in Sales Package/Pack of 10",
          "Specifications/Number of Contents in Sales Package/4",
          "Specifications/Number of Contents in Sales Package/8",
          "Specifications/Number of Contents in Sales Package/20",
          "Specifications/Number of Contents in Sales Package/Pack of 7",
          "Specifications/Number of Contents in Sales Package/Pack of 9",
          "Specifications/Number of Contents in Sales Package/Pack of 55",
          "Specifications/Type",
          "Specifications/Brand",
          "Specifications/Sales Package",
          "Specifications/Color",
          "Specifications/Ideal For",
          "Specifications/Material",
          "Specifications/Width",
          "Specifications/Model Name",
          "Specifications/Weight",
          "Specifications/Number of Contents in Sales Package",
          "Specifications"
         ],
         "labels": [
          "Analog",
          "Mug",
          "Ethnic",
          "Wireless Without modem",
          "Religious Idols",
          "Blanket",
          "Kadhai",
          "Quilts and Comforters",
          "Eyelet",
          "Led Light",
          "Digital",
          "Bath Towel",
          "Square",
          "Wireless With Modem",
          "Flat",
          "Human Figurines",
          "Gathered",
          "Range Extenders/Repeaters",
          "Dohar",
          "Set of Towels",
          "Lapguard",
          "PRINT SHAPES",
          "Lal Haveli",
          "Raymond",
          "Aroma Comfort",
          "Tenda",
          "Smartpro",
          "Wallmantra",
          "Asus",
          "HP",
          "Home Originals",
          "Exotic India",
          "TRENDnet",
          "Edimax",
          "Rega IT",
          "Sapatos",
          "D-Link",
          "TP-LINK",
          "Netgear",
          "Cotonex",
          "1 Mug",
          "1 Showpiece Figurine",
          "1 mug",
          "Blanket",
          "1 Laptop Adapter",
          "1 Kadhai",
          "1 Showpiece",
          "1 Pizza Cutter",
          "2 Blankets",
          "800 ML Bottle",
          "Bath Towel",
          "1 Blanket",
          "USB Gadget",
          "1 Sticker",
          "2 Showpiece Figurine",
          "2 Glove",
          "Table Runner",
          "1 Rajai",
          "1 Bulb",
          "One Jaipuri Print Light Weight Quilt",
          "Multicolor",
          "Black",
          "White",
          "Blue",
          "Gold",
          "Brown",
          "Green",
          "Silver",
          "Pink",
          "Yellow",
          "Red",
          "Grey",
          "Orange",
          "Purple",
          "Beige",
          "Copper",
          "Maroon",
          "Black, White",
          "Clear",
          "Steel",
          "Men",
          "Women",
          "Men, Women",
          "Baby Girl's",
          "Men and Women",
          "Baby Boy's",
          "Boys, Girls",
          "Boys",
          "Girls",
          "Men, Boys",
          "Boys, Men",
          "Girls, Women",
          "Boys and Girls",
          "Men, Women, Boys, Girls",
          "Women, Men",
          "Baby Boy's, Baby Girl's",
          "Women, Girls",
          "Baby Boys and Baby Girls",
          "Girls, Boys",
          "Boys, Girls, Men, Women",
          "Ceramic",
          "Cotton",
          "Brass",
          "Polyester",
          "Plastic",
          "Wooden",
          "Aluminium",
          "Glass",
          "Stoneware",
          "Stainless Steel",
          "Polyresin",
          "Copper",
          "Velvet",
          "Vinyl",
          "PVC",
          "Crystal",
          "Iron",
          "Nylon",
          "Rubber",
          "PLASTIC",
          "80 mm",
          "88 mm",
          "15 inch / 40 cm",
          "59 inch / 150 cm",
          "10 cm",
          "15 cm",
          "86 inch / 220 cm",
          "60 inch / 152.4 cm",
          "3 cm",
          "12 inch",
          "6 cm",
          "11 cm",
          "4 cm",
          "90 inch / 229 cm",
          "19 inch / 50 cm",
          "23 cm",
          "12.7 cm",
          "5 cm",
          "30 inch",
          "9 inch",
          "Double Blanket",
          "4 u design",
          "Floral Jaipuri Printed Quilt",
          "Single Blanket",
          "Hard Anodised",
          "100% Egyptian",
          "Baby Bath Towel",
          "Plain With Lace",
          "Plain",
          "Plain Box Quilted Brown Single Duvet",
          "Teddy Blanket",
          "Hooded Receiving",
          "Portable",
          "Mink",
          "PATTA",
          "Abstract Polyester Door Curtain Set Of 2",
          "Sathiyas cotton bath towel",
          "SHUVAM20PCFTSETASSORTED",
          "Gold Design Royal Cotton Printed Wedding and Gifted Double Bedsheet With 2 Pillow cover",
          "jaipur117",
          "300 g",
          "350 g",
          "500 g",
          "250 g",
          "100 g",
          "450 g",
          "340 g",
          "150 g",
          "400 g",
          "1800 g",
          "50 g",
          "200 g",
          "1500 g",
          "330 g",
          "600 g",
          "1980 g",
          "40 g",
          "900 g",
          "1000 g",
          "750 g",
          "Pack of 1",
          "1",
          "Pack of 2",
          "2",
          "Pack of 3",
          "Pack of 5",
          "Pack of 6",
          "Pack of 4",
          "Pack of 8",
          "5",
          "6",
          "3",
          "Pack of 10",
          "4",
          "8",
          "20",
          "Pack of 7",
          "Pack of 9",
          "Pack of 55",
          "Type",
          "Brand",
          "Sales Package",
          "Color",
          "Ideal For",
          "Material",
          "Width",
          "Model Name",
          "Weight",
          "Number of Contents in Sales Package",
          "Specifications"
         ],
         "name": "",
         "parents": [
          "Specifications/Type",
          "Specifications/Type",
          "Specifications/Type",
          "Specifications/Type",
          "Specifications/Type",
          "Specifications/Type",
          "Specifications/Type",
          "Specifications/Type",
          "Specifications/Type",
          "Specifications/Type",
          "Specifications/Type",
          "Specifications/Type",
          "Specifications/Type",
          "Specifications/Type",
          "Specifications/Type",
          "Specifications/Type",
          "Specifications/Type",
          "Specifications/Type",
          "Specifications/Type",
          "Specifications/Type",
          "Specifications/Brand",
          "Specifications/Brand",
          "Specifications/Brand",
          "Specifications/Brand",
          "Specifications/Brand",
          "Specifications/Brand",
          "Specifications/Brand",
          "Specifications/Brand",
          "Specifications/Brand",
          "Specifications/Brand",
          "Specifications/Brand",
          "Specifications/Brand",
          "Specifications/Brand",
          "Specifications/Brand",
          "Specifications/Brand",
          "Specifications/Brand",
          "Specifications/Brand",
          "Specifications/Brand",
          "Specifications/Brand",
          "Specifications/Brand",
          "Specifications/Sales Package",
          "Specifications/Sales Package",
          "Specifications/Sales Package",
          "Specifications/Sales Package",
          "Specifications/Sales Package",
          "Specifications/Sales Package",
          "Specifications/Sales Package",
          "Specifications/Sales Package",
          "Specifications/Sales Package",
          "Specifications/Sales Package",
          "Specifications/Sales Package",
          "Specifications/Sales Package",
          "Specifications/Sales Package",
          "Specifications/Sales Package",
          "Specifications/Sales Package",
          "Specifications/Sales Package",
          "Specifications/Sales Package",
          "Specifications/Sales Package",
          "Specifications/Sales Package",
          "Specifications/Sales Package",
          "Specifications/Color",
          "Specifications/Color",
          "Specifications/Color",
          "Specifications/Color",
          "Specifications/Color",
          "Specifications/Color",
          "Specifications/Color",
          "Specifications/Color",
          "Specifications/Color",
          "Specifications/Color",
          "Specifications/Color",
          "Specifications/Color",
          "Specifications/Color",
          "Specifications/Color",
          "Specifications/Color",
          "Specifications/Color",
          "Specifications/Color",
          "Specifications/Color",
          "Specifications/Color",
          "Specifications/Color",
          "Specifications/Ideal For",
          "Specifications/Ideal For",
          "Specifications/Ideal For",
          "Specifications/Ideal For",
          "Specifications/Ideal For",
          "Specifications/Ideal For",
          "Specifications/Ideal For",
          "Specifications/Ideal For",
          "Specifications/Ideal For",
          "Specifications/Ideal For",
          "Specifications/Ideal For",
          "Specifications/Ideal For",
          "Specifications/Ideal For",
          "Specifications/Ideal For",
          "Specifications/Ideal For",
          "Specifications/Ideal For",
          "Specifications/Ideal For",
          "Specifications/Ideal For",
          "Specifications/Ideal For",
          "Specifications/Ideal For",
          "Specifications/Material",
          "Specifications/Material",
          "Specifications/Material",
          "Specifications/Material",
          "Specifications/Material",
          "Specifications/Material",
          "Specifications/Material",
          "Specifications/Material",
          "Specifications/Material",
          "Specifications/Material",
          "Specifications/Material",
          "Specifications/Material",
          "Specifications/Material",
          "Specifications/Material",
          "Specifications/Material",
          "Specifications/Material",
          "Specifications/Material",
          "Specifications/Material",
          "Specifications/Material",
          "Specifications/Material",
          "Specifications/Width",
          "Specifications/Width",
          "Specifications/Width",
          "Specifications/Width",
          "Specifications/Width",
          "Specifications/Width",
          "Specifications/Width",
          "Specifications/Width",
          "Specifications/Width",
          "Specifications/Width",
          "Specifications/Width",
          "Specifications/Width",
          "Specifications/Width",
          "Specifications/Width",
          "Specifications/Width",
          "Specifications/Width",
          "Specifications/Width",
          "Specifications/Width",
          "Specifications/Width",
          "Specifications/Width",
          "Specifications/Model Name",
          "Specifications/Model Name",
          "Specifications/Model Name",
          "Specifications/Model Name",
          "Specifications/Model Name",
          "Specifications/Model Name",
          "Specifications/Model Name",
          "Specifications/Model Name",
          "Specifications/Model Name",
          "Specifications/Model Name",
          "Specifications/Model Name",
          "Specifications/Model Name",
          "Specifications/Model Name",
          "Specifications/Model Name",
          "Specifications/Model Name",
          "Specifications/Model Name",
          "Specifications/Model Name",
          "Specifications/Model Name",
          "Specifications/Model Name",
          "Specifications/Model Name",
          "Specifications/Weight",
          "Specifications/Weight",
          "Specifications/Weight",
          "Specifications/Weight",
          "Specifications/Weight",
          "Specifications/Weight",
          "Specifications/Weight",
          "Specifications/Weight",
          "Specifications/Weight",
          "Specifications/Weight",
          "Specifications/Weight",
          "Specifications/Weight",
          "Specifications/Weight",
          "Specifications/Weight",
          "Specifications/Weight",
          "Specifications/Weight",
          "Specifications/Weight",
          "Specifications/Weight",
          "Specifications/Weight",
          "Specifications/Weight",
          "Specifications/Number of Contents in Sales Package",
          "Specifications/Number of Contents in Sales Package",
          "Specifications/Number of Contents in Sales Package",
          "Specifications/Number of Contents in Sales Package",
          "Specifications/Number of Contents in Sales Package",
          "Specifications/Number of Contents in Sales Package",
          "Specifications/Number of Contents in Sales Package",
          "Specifications/Number of Contents in Sales Package",
          "Specifications/Number of Contents in Sales Package",
          "Specifications/Number of Contents in Sales Package",
          "Specifications/Number of Contents in Sales Package",
          "Specifications/Number of Contents in Sales Package",
          "Specifications/Number of Contents in Sales Package",
          "Specifications/Number of Contents in Sales Package",
          "Specifications/Number of Contents in Sales Package",
          "Specifications/Number of Contents in Sales Package",
          "Specifications/Number of Contents in Sales Package",
          "Specifications/Number of Contents in Sales Package",
          "Specifications/Number of Contents in Sales Package",
          "Specifications",
          "Specifications",
          "Specifications",
          "Specifications",
          "Specifications",
          "Specifications",
          "Specifications",
          "Specifications",
          "Specifications",
          "Specifications",
          ""
         ],
         "type": "sunburst",
         "values": {
          "bdata": "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",
          "dtype": "f8"
         }
        }
       ],
       "layout": {
        "height": 900,
        "legend": {
         "tracegroupgap": 0
        },
        "margin": {
         "b": 0,
         "l": 0,
         "r": 0,
         "t": 50
        },
        "template": {
         "data": {
          "bar": [
           {
            "error_x": {
             "color": "#2a3f5f"
            },
            "error_y": {
             "color": "#2a3f5f"
            },
            "marker": {
             "line": {
              "color": "#E5ECF6",
              "width": 0.5
             },
             "pattern": {
              "fillmode": "overlay",
              "size": 10,
              "solidity": 0.2
             }
            },
            "type": "bar"
           }
          ],
          "barpolar": [
           {
            "marker": {
             "line": {
              "color": "#E5ECF6",
              "width": 0.5
             },
             "pattern": {
              "fillmode": "overlay",
              "size": 10,
              "solidity": 0.2
             }
            },
            "type": "barpolar"
           }
          ],
          "carpet": [
           {
            "aaxis": {
             "endlinecolor": "#2a3f5f",
             "gridcolor": "white",
             "linecolor": "white",
             "minorgridcolor": "white",
             "startlinecolor": "#2a3f5f"
            },
            "baxis": {
             "endlinecolor": "#2a3f5f",
             "gridcolor": "white",
             "linecolor": "white",
             "minorgridcolor": "white",
             "startlinecolor": "#2a3f5f"
            },
            "type": "carpet"
           }
          ],
          "choropleth": [
           {
            "colorbar": {
             "outlinewidth": 0,
             "ticks": ""
            },
            "type": "choropleth"
           }
          ],
          "contour": [
           {
            "colorbar": {
             "outlinewidth": 0,
             "ticks": ""
            },
            "colorscale": [
             [
              0,
              "#0d0887"
             ],
             [
              0.1111111111111111,
              "#46039f"
             ],
             [
              0.2222222222222222,
              "#7201a8"
             ],
             [
              0.3333333333333333,
              "#9c179e"
             ],
             [
              0.4444444444444444,
              "#bd3786"
             ],
             [
              0.5555555555555556,
              "#d8576b"
             ],
             [
              0.6666666666666666,
              "#ed7953"
             ],
             [
              0.7777777777777778,
              "#fb9f3a"
             ],
             [
              0.8888888888888888,
              "#fdca26"
             ],
             [
              1,
              "#f0f921"
             ]
            ],
            "type": "contour"
           }
          ],
          "contourcarpet": [
           {
            "colorbar": {
             "outlinewidth": 0,
             "ticks": ""
            },
            "type": "contourcarpet"
           }
          ],
          "heatmap": [
           {
            "colorbar": {
             "outlinewidth": 0,
             "ticks": ""
            },
            "colorscale": [
             [
              0,
              "#0d0887"
             ],
             [
              0.1111111111111111,
              "#46039f"
             ],
             [
              0.2222222222222222,
              "#7201a8"
             ],
             [
              0.3333333333333333,
              "#9c179e"
             ],
             [
              0.4444444444444444,
              "#bd3786"
             ],
             [
              0.5555555555555556,
              "#d8576b"
             ],
             [
              0.6666666666666666,
              "#ed7953"
             ],
             [
              0.7777777777777778,
              "#fb9f3a"
             ],
             [
              0.8888888888888888,
              "#fdca26"
             ],
             [
              1,
              "#f0f921"
             ]
            ],
            "type": "heatmap"
           }
          ],
          "histogram": [
           {
            "marker": {
             "pattern": {
              "fillmode": "overlay",
              "size": 10,
              "solidity": 0.2
             }
            },
            "type": "histogram"
           }
          ],
          "histogram2d": [
           {
            "colorbar": {
             "outlinewidth": 0,
             "ticks": ""
            },
            "colorscale": [
             [
              0,
              "#0d0887"
             ],
             [
              0.1111111111111111,
              "#46039f"
             ],
             [
              0.2222222222222222,
              "#7201a8"
             ],
             [
              0.3333333333333333,
              "#9c179e"
             ],
             [
              0.4444444444444444,
              "#bd3786"
             ],
             [
              0.5555555555555556,
              "#d8576b"
             ],
             [
              0.6666666666666666,
              "#ed7953"
             ],
             [
              0.7777777777777778,
              "#fb9f3a"
             ],
             [
              0.8888888888888888,
              "#fdca26"
             ],
             [
              1,
              "#f0f921"
             ]
            ],
            "type": "histogram2d"
           }
          ],
          "histogram2dcontour": [
           {
            "colorbar": {
             "outlinewidth": 0,
             "ticks": ""
            },
            "colorscale": [
             [
              0,
              "#0d0887"
             ],
             [
              0.1111111111111111,
              "#46039f"
             ],
             [
              0.2222222222222222,
              "#7201a8"
             ],
             [
              0.3333333333333333,
              "#9c179e"
             ],
             [
              0.4444444444444444,
              "#bd3786"
             ],
             [
              0.5555555555555556,
              "#d8576b"
             ],
             [
              0.6666666666666666,
              "#ed7953"
             ],
             [
              0.7777777777777778,
              "#fb9f3a"
             ],
             [
              0.8888888888888888,
              "#fdca26"
             ],
             [
              1,
              "#f0f921"
             ]
            ],
            "type": "histogram2dcontour"
           }
          ],
          "mesh3d": [
           {
            "colorbar": {
             "outlinewidth": 0,
             "ticks": ""
            },
            "type": "mesh3d"
           }
          ],
          "parcoords": [
           {
            "line": {
             "colorbar": {
              "outlinewidth": 0,
              "ticks": ""
             }
            },
            "type": "parcoords"
           }
          ],
          "pie": [
           {
            "automargin": true,
            "type": "pie"
           }
          ],
          "scatter": [
           {
            "fillpattern": {
             "fillmode": "overlay",
             "size": 10,
             "solidity": 0.2
            },
            "type": "scatter"
           }
          ],
          "scatter3d": [
           {
            "line": {
             "colorbar": {
              "outlinewidth": 0,
              "ticks": ""
             }
            },
            "marker": {
             "colorbar": {
              "outlinewidth": 0,
              "ticks": ""
             }
            },
            "type": "scatter3d"
           }
          ],
          "scattercarpet": [
           {
            "marker": {
             "colorbar": {
              "outlinewidth": 0,
              "ticks": ""
             }
            },
            "type": "scattercarpet"
           }
          ],
          "scattergeo": [
           {
            "marker": {
             "colorbar": {
              "outlinewidth": 0,
              "ticks": ""
             }
            },
            "type": "scattergeo"
           }
          ],
          "scattergl": [
           {
            "marker": {
             "colorbar": {
              "outlinewidth": 0,
              "ticks": ""
             }
            },
            "type": "scattergl"
           }
          ],
          "scattermap": [
           {
            "marker": {
             "colorbar": {
              "outlinewidth": 0,
              "ticks": ""
             }
            },
            "type": "scattermap"
           }
          ],
          "scattermapbox": [
           {
            "marker": {
             "colorbar": {
              "outlinewidth": 0,
              "ticks": ""
             }
            },
            "type": "scattermapbox"
           }
          ],
          "scatterpolar": [
           {
            "marker": {
             "colorbar": {
              "outlinewidth": 0,
              "ticks": ""
             }
            },
            "type": "scatterpolar"
           }
          ],
          "scatterpolargl": [
           {
            "marker": {
             "colorbar": {
              "outlinewidth": 0,
              "ticks": ""
             }
            },
            "type": "scatterpolargl"
           }
          ],
          "scatterternary": [
           {
            "marker": {
             "colorbar": {
              "outlinewidth": 0,
              "ticks": ""
             }
            },
            "type": "scatterternary"
           }
          ],
          "surface": [
           {
            "colorbar": {
             "outlinewidth": 0,
             "ticks": ""
            },
            "colorscale": [
             [
              0,
              "#0d0887"
             ],
             [
              0.1111111111111111,
              "#46039f"
             ],
             [
              0.2222222222222222,
              "#7201a8"
             ],
             [
              0.3333333333333333,
              "#9c179e"
             ],
             [
              0.4444444444444444,
              "#bd3786"
             ],
             [
              0.5555555555555556,
              "#d8576b"
             ],
             [
              0.6666666666666666,
              "#ed7953"
             ],
             [
              0.7777777777777778,
              "#fb9f3a"
             ],
             [
              0.8888888888888888,
              "#fdca26"
             ],
             [
              1,
              "#f0f921"
             ]
            ],
            "type": "surface"
           }
          ],
          "table": [
           {
            "cells": {
             "fill": {
              "color": "#EBF0F8"
             },
             "line": {
              "color": "white"
             }
            },
            "header": {
             "fill": {
              "color": "#C8D4E3"
             },
             "line": {
              "color": "white"
             }
            },
            "type": "table"
           }
          ]
         },
         "layout": {
          "annotationdefaults": {
           "arrowcolor": "#2a3f5f",
           "arrowhead": 0,
           "arrowwidth": 1
          },
          "autotypenumbers": "strict",
          "coloraxis": {
           "colorbar": {
            "outlinewidth": 0,
            "ticks": ""
           }
          },
          "colorscale": {
           "diverging": [
            [
             0,
             "#8e0152"
            ],
            [
             0.1,
             "#c51b7d"
            ],
            [
             0.2,
             "#de77ae"
            ],
            [
             0.3,
             "#f1b6da"
            ],
            [
             0.4,
             "#fde0ef"
            ],
            [
             0.5,
             "#f7f7f7"
            ],
            [
             0.6,
             "#e6f5d0"
            ],
            [
             0.7,
             "#b8e186"
            ],
            [
             0.8,
             "#7fbc41"
            ],
            [
             0.9,
             "#4d9221"
            ],
            [
             1,
             "#276419"
            ]
           ],
           "sequential": [
            [
             0,
             "#0d0887"
            ],
            [
             0.1111111111111111,
             "#46039f"
            ],
            [
             0.2222222222222222,
             "#7201a8"
            ],
            [
             0.3333333333333333,
             "#9c179e"
            ],
            [
             0.4444444444444444,
             "#bd3786"
            ],
            [
             0.5555555555555556,
             "#d8576b"
            ],
            [
             0.6666666666666666,
             "#ed7953"
            ],
            [
             0.7777777777777778,
             "#fb9f3a"
            ],
            [
             0.8888888888888888,
             "#fdca26"
            ],
            [
             1,
             "#f0f921"
            ]
           ],
           "sequentialminus": [
            [
             0,
             "#0d0887"
            ],
            [
             0.1111111111111111,
             "#46039f"
            ],
            [
             0.2222222222222222,
             "#7201a8"
            ],
            [
             0.3333333333333333,
             "#9c179e"
            ],
            [
             0.4444444444444444,
             "#bd3786"
            ],
            [
             0.5555555555555556,
             "#d8576b"
            ],
            [
             0.6666666666666666,
             "#ed7953"
            ],
            [
             0.7777777777777778,
             "#fb9f3a"
            ],
            [
             0.8888888888888888,
             "#fdca26"
            ],
            [
             1,
             "#f0f921"
            ]
           ]
          },
          "colorway": [
           "#636efa",
           "#EF553B",
           "#00cc96",
           "#ab63fa",
           "#FFA15A",
           "#19d3f3",
           "#FF6692",
           "#B6E880",
           "#FF97FF",
           "#FECB52"
          ],
          "font": {
           "color": "#2a3f5f"
          },
          "geo": {
           "bgcolor": "white",
           "lakecolor": "white",
           "landcolor": "#E5ECF6",
           "showlakes": true,
           "showland": true,
           "subunitcolor": "white"
          },
          "hoverlabel": {
           "align": "left"
          },
          "hovermode": "closest",
          "mapbox": {
           "style": "light"
          },
          "paper_bgcolor": "white",
          "plot_bgcolor": "#E5ECF6",
          "polar": {
           "angularaxis": {
            "gridcolor": "white",
            "linecolor": "white",
            "ticks": ""
           },
           "bgcolor": "#E5ECF6",
           "radialaxis": {
            "gridcolor": "white",
            "linecolor": "white",
            "ticks": ""
           }
          },
          "scene": {
           "xaxis": {
            "backgroundcolor": "#E5ECF6",
            "gridcolor": "white",
            "gridwidth": 2,
            "linecolor": "white",
            "showbackground": true,
            "ticks": "",
            "zerolinecolor": "white"
           },
           "yaxis": {
            "backgroundcolor": "#E5ECF6",
            "gridcolor": "white",
            "gridwidth": 2,
            "linecolor": "white",
            "showbackground": true,
            "ticks": "",
            "zerolinecolor": "white"
           },
           "zaxis": {
            "backgroundcolor": "#E5ECF6",
            "gridcolor": "white",
            "gridwidth": 2,
            "linecolor": "white",
            "showbackground": true,
            "ticks": "",
            "zerolinecolor": "white"
           }
          },
          "shapedefaults": {
           "line": {
            "color": "#2a3f5f"
           }
          },
          "ternary": {
           "aaxis": {
            "gridcolor": "white",
            "linecolor": "white",
            "ticks": ""
           },
           "baxis": {
            "gridcolor": "white",
            "linecolor": "white",
            "ticks": ""
           },
           "bgcolor": "#E5ECF6",
           "caxis": {
            "gridcolor": "white",
            "linecolor": "white",
            "ticks": ""
           }
          },
          "title": {
           "x": 0.05
          },
          "xaxis": {
           "automargin": true,
           "gridcolor": "white",
           "linecolor": "white",
           "ticks": "",
           "title": {
            "standoff": 15
           },
           "zerolinecolor": "white",
           "zerolinewidth": 2
          },
          "yaxis": {
           "automargin": true,
           "gridcolor": "white",
           "linecolor": "white",
           "ticks": "",
           "title": {
            "standoff": 15
           },
           "zerolinecolor": "white",
           "zerolinewidth": 2
          }
         }
        },
        "title": {
         "text": "Product Specifications Hierarchy"
        },
        "uniformtext": {
         "minsize": 10,
         "mode": "hide"
        },
        "width": 900
       }
      }
     },
     "metadata": {},
     "output_type": "display_data"
    }
   ],
   "source": [
    "\n",
    "fig = analyzer.create_radial_icicle_chart(top_keys=10, top_values=20)\n",
    "fig.show()"
   ]
  },
  {
   "cell_type": "code",
   "execution_count": 4,
   "id": "001319bf",
   "metadata": {},
   "outputs": [
    {
     "data": {
      "application/vnd.plotly.v1+json": {
       "config": {
        "plotlyServerURL": "https://plot.ly"
       },
       "data": [
        {
         "branchvalues": "total",
         "ids": [
          "Home Furnishing",
          "Home Furnishing >> Curtains & Accessories",
          "Home Furnishing >> Curtains & Accessories >> Curtains",
          "Home Furnishing >> Curtains & Accessories >> Curtains >> Elegance Polyester Multicolor Abstract Eyelet Do...",
          "Baby Care",
          "Baby Care >> Baby Bath & Skin",
          "Baby Care >> Baby Bath & Skin >> Baby Bath Towels",
          "Baby Care >> Baby Bath & Skin >> Baby Bath Towels >> Sathiyas Baby Bath Towels",
          "Baby Care >> Baby Bath & Skin >> Baby Bath Towels >> Sathiyas Baby Bath Towels >> Sathiyas Cotton Bath Towel (3 Bath Towel, Red, Y...",
          "Baby Care >> Baby Bath & Skin >> Baby Bath Towels >> Eurospa Baby Bath Towels",
          "Baby Care >> Baby Bath & Skin >> Baby Bath Towels >> Eurospa Baby Bath Towels >> Eurospa Cotton Terry Face Towel Set (20 PIECE FA...",
          "Home Furnishing >> Bed Linen",
          "Home Furnishing >> Bed Linen >> Bedsheets",
          "Home Furnishing >> Bed Linen >> Bedsheets >> SANTOSH ROYAL FASHION Bedsheets",
          "Home Furnishing >> Bed Linen >> Bedsheets >> SANTOSH ROYAL FASHION Bedsheets >> SANTOSH ROYAL FASHION Cotton Printed King sized ...",
          "Home Furnishing >> Bed Linen >> Bedsheets >> Jaipur Print Bedsheets",
          "Home Furnishing >> Bed Linen >> Bedsheets >> Jaipur Print Bedsheets >> Jaipur Print Cotton Floral King sized Double Bed...",
          "Watches",
          "Watches >> Wrist Watches",
          "Watches >> Wrist Watches >> Maserati Time Wrist Watches",
          "Watches >> Wrist Watches >> Camerii Wrist Watches",
          "Watches >> Wrist Watches >> T STAR Wrist Watches",
          "Watches >> Wrist Watches >> Alfajr Wrist Watches",
          "Watches >> Wrist Watches >> TAG Heuer Wrist Watches",
          "Watches >> Wrist Watches >> Calibro Wrist Watches",
          "Watches >> Wrist Watches >> Cartier Wrist Watches",
          "Watches >> Wrist Watches >> Lois Caron Wrist Watches",
          "Watches >> Wrist Watches >> Titan Wrist Watches",
          "Watches >> Wrist Watches >> Srushti Art Jewelry Wrist Watches",
          "Watches >> Wrist Watches >> Escort Wrist Watches",
          "Watches >> Wrist Watches >> Jack klein Wrist Watches",
          "Watches >> Wrist Watches >> North Moon Wrist Watches",
          "Watches >> Wrist Watches >> Franck Bella Wrist Watches",
          "Watches >> Wrist Watches >> Ridas Wrist Watches",
          "Watches >> Wrist Watches >> Skmei Wrist Watches",
          "Watches >> Wrist Watches >> Now Wrist Watches",
          "Watches >> Wrist Watches >> fastrack Wrist Watches",
          "Watches >> Wrist Watches >> Disney Wrist Watches",
          "Watches >> Wrist Watches >> Vizion Wrist Watches",
          "Watches >> Wrist Watches >> Elantra Wrist Watches",
          "Watches >> Wrist Watches >> Marvel Wrist Watches",
          "Watches >> Wrist Watches >> Lenco Wrist Watches",
          "Watches >> Wrist Watches >> D'Signer Wrist Watches",
          "Home Furnishing >> Living Room Furnishing",
          "Home Furnishing >> Living Room Furnishing >> Diwan Sets",
          "Home Furnishing >> Living Room Furnishing >> Diwan Sets >> SANTOSH ROYAL FASHION Diwan Sets",
          "Home Furnishing >> Living Room Furnishing >> Diwan Sets >> SANTOSH ROYAL FASHION Diwan Sets >> SANTOSH ROYAL FASHION Cotton Embroidered Diwan Set",
          "Home Furnishing >> Bed Linen >> Duvet Covers",
          "Home Furnishing >> Bed Linen >> Duvet Covers >> House This Duvet Covers",
          "Home Furnishing >> Bed Linen >> Duvet Covers >> House This Duvet Covers >> House This Queen Cotton Duvet Cover (Grey)",
          "Home Furnishing >> Bath Linen",
          "Home Furnishing >> Bath Linen >> Bath Mats",
          "Home Decor & Festive Needs",
          "Home Decor & Festive Needs >> Candles & Fragrances",
          "Home Decor & Festive Needs >> Candles & Fragrances >> Home Fragrances",
          "Home Decor & Festive Needs >> Candles & Fragrances >> Home Fragrances >> Aroma Oils",
          "Home Decor & Festive Needs >> Candles & Fragrances >> Home Fragrances >> Aroma Oils >> Myesquire Aroma Oils",
          "Kitchen & Dining",
          "Kitchen & Dining >> Tableware & Cutlery",
          "Kitchen & Dining >> Tableware & Cutlery >> Jug, Glass & Tray Sets",
          "Kitchen & Dining >> Tableware & Cutlery >> Jug, Glass & Tray Sets >> Dungri India Craft Jug, Glass & Tray Sets",
          "Kitchen & Dining >> Tableware & Cutlery >> Jug, Glass & Tray Sets >> Dungri India Craft Jug, Glass & Tray Sets >> Dungri India Craft Ducjug010-ducgl012-2 Jug Glas...",
          "Kitchen & Dining >> Lighting",
          "Kitchen & Dining >> Lighting >> Bulbs",
          "Kitchen & Dining >> Lighting >> Bulbs >> BFT Bulbs",
          "Kitchen & Dining >> Lighting >> Bulbs >> BFT Bulbs >> BFT 6 W LED Bulb (White)",
          "Home Furnishing >> JMD Home Furnishing",
          "Home Furnishing >> JMD Home Furnishing >> JMD Printed Cushions Cover (Pack of 2, 40 cm*40 ...",
          "Baby Care >> Infant Wear",
          "Baby Care >> Infant Wear >> Baby Girls' Clothes",
          "Baby Care >> Infant Wear >> Baby Girls' Clothes >> Innerwear & Sleepwear",
          "Baby Care >> Infant Wear >> Baby Girls' Clothes >> Innerwear & Sleepwear >> Night Suits",
          "Baby Care >> Infant Wear >> Baby Girls' Clothes >> Innerwear & Sleepwear >> Night Suits >> Mom and Kid Night Suits",
          "Baby Care >> Infant Wear >> Baby Girls' Clothes >> Innerwear & Sleepwear >> Night Suits >> Mom and Kid Night Suits >> Mom and Kid Baby Girl's Printed Green Top & Pyja...",
          "Home Furnishing >> Kripa's Home Furnishing",
          "Home Furnishing >> Kripa's Home Furnishing >> Kripa's Printed Cushions Cover (Pack of 2, 45 cm...",
          "Baby Care >> Infant Wear >> Baby Girls' Clothes >> Innerwear & Sleepwear >> Night Suits >> Mom and Kid Night Suits >> Mom and Kid Baby Girl's Printed Blue, Grey Top &...",
          "Beauty and Personal Care",
          "Beauty and Personal Care >> Hair Care",
          "Beauty and Personal Care >> Hair Care >> Conditioners",
          "Beauty and Personal Care >> Hair Care >> Conditioners >> Burt s Bees Conditioners",
          "Beauty and Personal Care >> Hair Care >> Conditioners >> Burt s Bees Conditioners >> Burt s Bees Hair Repair Shea And Grapefruit Deep...",
          "Kitchen & Dining >> Coffee Mugs",
          "Kitchen & Dining >> Coffee Mugs >> AKUP Coffee Mugs",
          "Kitchen & Dining >> Coffee Mugs >> AKUP Coffee Mugs >> AKUP i-loves-music Ceramic Mug (300 ml)",
          "Kitchen & Dining >> Coffee Mugs >> AKUP Coffee Mugs >> AKUP i-love-my-mom Ceramic Mug (300 ml)",
          "Kitchen & Dining >> Coffee Mugs >> AKUP Coffee Mugs >> AKUP keep-calm Ceramic Mug (300 ml)",
          "Computers",
          "Computers >> Network Components",
          "Computers >> Network Components >> Routers",
          "Computers >> Network Components >> Routers >> D-Link Routers",
          "Computers >> Network Components >> Routers >> D-Link Routers >> D-Link DAP1320 (White)",
          "Kitchen & Dining >> Coffee Mugs >> AKUP Coffee Mugs >> AKUP league-of-legends Ceramic Mug (300 ml)",
          "Beauty and Personal Care >> Hair Care >> Conditioners >> Suave Conditioners",
          "Beauty and Personal Care >> Hair Care >> Conditioners >> Suave Conditioners >> Suave Naturals Everlasting Sunshine Conditioner ...",
          "Kitchen & Dining >> Coffee Mugs >> AKUP Coffee Mugs >> AKUP life-is-not-living Ceramic Mug (300 ml)",
          "Computers >> Tablet Accessories",
          "Computers >> Tablet Accessories >> Keyboards",
          "Computers >> Tablet Accessories >> Keyboards >> RoQ Keyboards",
          "Computers >> Tablet Accessories >> Keyboards >> RoQ Keyboards >> RoQ Slim Multimedia 105key Flexible Wired USB Fl...",
          "Kitchen & Dining >> Cookware",
          "Kitchen & Dining >> Cookware >> Casserole & Sets",
          "Kitchen & Dining >> Cookware >> Casserole & Sets >> Cookart Casserole & Sets",
          "Kitchen & Dining >> Cookware >> Casserole & Sets >> Cookart Casserole & Sets >> Cookart Elegant S.S. Handi With Hot Pot Pack of ...",
          "Computers >> Laptop Accessories",
          "Computers >> Laptop Accessories >> USB Gadgets",
          "Computers >> Laptop Accessories >> USB Gadgets >> JRB USB Gadgets",
          "Computers >> Laptop Accessories >> USB Gadgets >> JRB USB Gadgets >> JRB 1038 Smallest Mobile Powered By OTG Enabled ...",
          "Computers >> Laptop Accessories >> USB Gadgets >> JRB USB Gadgets >> JRB 1033 Smallest Mobile Powered By OTG Enabled ...",
          "Computers >> Laptop Accessories >> USB Gadgets >> JRB USB Gadgets >> JRB 1042 Smallest Mobile Powered By OTG Enabled ...",
          "Beauty and Personal Care >> Makeup",
          "Beauty and Personal Care >> Makeup >> Vanity Boxes",
          "Beauty and Personal Care >> Makeup >> Vanity Boxes >> Borse Vanity Boxes",
          "Beauty and Personal Care >> Combos and Kits",
          "Beauty and Personal Care >> Combos and Kits >> RYTHMX Combos and Kits",
          "Beauty and Personal Care >> Combos and Kits >> RYTHMX Combos and Kits >> RYTHMX FB NAIL POLISHES BLACK LIPSTICKS IMPORTAN...",
          "Beauty and Personal Care >> Combos and Kits >> Brillare Science Combos and Kits",
          "Beauty and Personal Care >> Combos and Kits >> Brillare Science Combos and Kits >> Brillare Science Dandruff Control Shampoo & Inte...",
          "Beauty and Personal Care >> Combos and Kits >> Mars Combos and Kits",
          "Beauty and Personal Care >> Combos and Kits >> Mars Combos and Kits >> Mars Queen Eye Liner, Lip Gloss, EyeLiner (Set o...",
          "Beauty and Personal Care >> Makeup >> Nails",
          "Beauty and Personal Care >> Makeup >> Nails >> Nail Polishes",
          "Beauty and Personal Care >> Makeup >> Nails >> Nail Polishes >> Aroma Care Nail Polishes",
          "Beauty and Personal Care >> Makeup >> Nails >> Nail Polishes >> Aroma Care Nail Polishes >> Aroma Care Intense Color Nail Polish Combo 17505...",
          "Baby Care >> Feeding & Nursing",
          "Baby Care >> Feeding & Nursing >> Bottles & Accessories",
          "Baby Care >> Feeding & Nursing >> Bottles & Accessories >> Bottle Covers",
          "Baby Care >> Feeding & Nursing >> Bottles & Accessories >> Bottle Covers >> KOHL Bottle Covers",
          "Baby Care >> Feeding & Nursing >> Bottles & Accessories >> Bottle Covers >> KOHL Bottle Covers >> KOHL Wine Bag Yellow (Yellow)",
          "Kitchen & Dining >> Coffee Mugs >> Shopmania Coffee Mugs",
          "Kitchen & Dining >> Coffee Mugs >> Shopmania Coffee Mugs >> Shopmania Happy Birthday Gift For Starting Lette...",
          "Baby Care >> Baby Bedding",
          "Baby Care >> Baby Bedding >> Baby Mattresses",
          "Baby Care >> Baby Bedding >> Baby Mattresses >> CHHOTE JANAB Baby Mattresses",
          "Baby Care >> Baby Bedding >> Baby Mattresses >> CHHOTE JANAB Baby Mattresses >> CHHOTE JANAB COZY MATTRESS PROTECTOR(SET OF 2) (...",
          "Home Furnishing >> Kitchen & Dining Linen",
          "Home Furnishing >> Kitchen & Dining Linen >> Table Covers",
          "Home Furnishing >> Kitchen & Dining Linen >> Table Covers >> Prime Printed 4 Seater Table Cover (Multicolor, ...",
          "Kitchen & Dining >> Containers & Bottles",
          "Kitchen & Dining >> Containers & Bottles >> Lunch Boxes",
          "Kitchen & Dining >> Containers & Bottles >> Lunch Boxes >> SKI Lunch Boxes",
          "Kitchen & Dining >> Containers & Bottles >> Lunch Boxes >> SKI Lunch Boxes >> SKI WINNER GIFT SET SKYBLUE02 2 Containers Lunch...",
          "Kitchen & Dining >> Containers & Bottles >> Lunch Boxes >> GAYATRI CREATIONS Lunch Boxes",
          "Kitchen & Dining >> Containers & Bottles >> Lunch Boxes >> GAYATRI CREATIONS Lunch Boxes >> GAYATRI CREATIONS ORANGE KIDS SET 2 Containers L...",
          "Kitchen & Dining >> Consumables & Disposables",
          "Kitchen & Dining >> Consumables & Disposables >> Bowls",
          "Kitchen & Dining >> Consumables & Disposables >> Bowls >> Caffeine Bowls",
          "Kitchen & Dining >> Consumables & Disposables >> Bowls >> Caffeine Bowls >> Caffeine Handmade Tribal Print Influenced Katori...",
          "Home Furnishing >> Kitchen & Dining Linen >> Table Covers >> Prime Printed 8 Seater Table Cover (Multicolor, ...",
          "Kitchen & Dining >> Containers & Bottles >> Bottles & Sippers",
          "Kitchen & Dining >> Containers & Bottles >> Bottles & Sippers >> Water bottle",
          "Kitchen & Dining >> Containers & Bottles >> Bottles & Sippers >> Water bottle >> Garnet Water bottle",
          "Kitchen & Dining >> Containers & Bottles >> Bottles & Sippers >> Water bottle >> Garnet Water bottle >> Garnet Traveller 1500 ml Bottle (Pack of 6, Mult...",
          "Baby Care >> Infant Wear >> Baby Girls' Clothes >> Shorts & Trousers",
          "Baby Care >> Infant Wear >> Baby Girls' Clothes >> Shorts & Trousers >> Shorts",
          "Baby Care >> Infant Wear >> Baby Girls' Clothes >> Shorts & Trousers >> Shorts >> Vitamins Shorts",
          "Baby Care >> Infant Wear >> Baby Girls' Clothes >> Shorts & Trousers >> Shorts >> Vitamins Shorts >> Vitamins Solid Baby Girl's Basic Shorts",
          "Baby Care >> Infant Wear >> Baby Girls' Clothes >> Shorts & Trousers >> Shorts >> Vitamins Shorts >> Vitamins Graphic Print Baby Girl's Basic Shorts",
          "Baby Care >> Infant Wear >> Baby Girls' Clothes >> Shorts & Trousers >> Shorts >> Vitamins Shorts >> Vitamins Embroidered Baby Girl's Denim Shorts",
          "Beauty and Personal Care >> Makeup >> Vanity Boxes >> KE Vanity Boxes",
          "Beauty and Personal Care >> Makeup >> Vanity Boxes >> KE Vanity Boxes >> KE GIFT BOX STOR JEWELLARY Vanity Jewellery (BLUE)",
          "Beauty and Personal Care >> Makeup >> Lips",
          "Beauty and Personal Care >> Makeup >> Lips >> Lip Liners",
          "Beauty and Personal Care >> Makeup >> Lips >> Lip Liners >> Giorgio Armani Lip Liners",
          "Beauty and Personal Care >> Makeup >> Lips >> Lip Liners >> Giorgio Armani Lip Liners >> Giorgio Armani SMOOTH SILK LIP PENCIL 12 (Soyeux...",
          "Home Furnishing >> Living Room Furnishing >> Diwan Sets >> Jaipur Print Diwan Sets",
          "Home Furnishing >> Living Room Furnishing >> Diwan Sets >> Jaipur Print Diwan Sets >> Jaipur Print Cotton Floral Diwan Set",
          "Baby Care >> Infant Wear >> Baby Boys' Clothes",
          "Baby Care >> Infant Wear >> Baby Boys' Clothes >> Accessories",
          "Baby Care >> Infant Wear >> Baby Boys' Clothes >> Accessories >> Caps",
          "Baby Care >> Infant Wear >> Baby Boys' Clothes >> Accessories >> Caps >> florence9 Caps",
          "Baby Care >> Infant Wear >> Baby Boys' Clothes >> Accessories >> Caps >> florence9 Caps >> florence9 baby cap red checks Cap",
          "Home Decor & Festive Needs >> Wall Decor & Clocks",
          "Home Decor & Festive Needs >> Wall Decor & Clocks >> Key Holders",
          "Home Decor & Festive Needs >> Wall Decor & Clocks >> Key Holders >> VarEesha Key Holders",
          "Home Decor & Festive Needs >> Wall Decor & Clocks >> Key Holders >> VarEesha Key Holders >> VarEesha Wooden Key Holder (8 Hooks, Multicolor)",
          "Home Decor & Festive Needs >> Table Decor & Handicrafts",
          "Home Decor & Festive Needs >> Table Decor & Handicrafts >> Showpieces",
          "Home Decor & Festive Needs >> Table Decor & Handicrafts >> Showpieces >> Fengshui",
          "Home Decor & Festive Needs >> Table Decor & Handicrafts >> Showpieces >> Fengshui >> Treasure Fengshui",
          "Home Decor & Festive Needs >> Table Decor & Handicrafts >> Showpieces >> Fengshui >> Treasure Fengshui >> Treasure Showpiece  -  23 cm (Polyresin, Blue)",
          "Baby Care >> Baby Bedding >> Baby Mosquito Nets",
          "Baby Care >> Baby Bedding >> Baby Mosquito Nets >> CHINMAY KIDS Baby Mosquito Nets",
          "Baby Care >> Baby Bedding >> Baby Mosquito Nets >> CHINMAY KIDS Baby Mosquito Nets >> CHINMAY KIDS Printed Cotton Padded Mosquito Net ...",
          "Baby Care >> Infant Wear >> Baby Boys' Clothes >> Combo Sets",
          "Baby Care >> Infant Wear >> Baby Boys' Clothes >> Combo Sets >> HEAVENLY Combo Sets",
          "Baby Care >> Infant Wear >> Baby Boys' Clothes >> Combo Sets >> HEAVENLY Combo Sets >> HEAVENLY Dress Baby Boy's  Combo",
          "Home Decor & Festive Needs >> Flowers, Plants & Vases",
          "Home Decor & Festive Needs >> Flowers, Plants & Vases >> Flower Vase",
          "Home Decor & Festive Needs >> Flowers, Plants & Vases >> Flower Vase >> @home Flower Vase",
          "Home Decor & Festive Needs >> Flowers, Plants & Vases >> Flower Vase >> @home Flower Vase >> @home Glass Vase (18 inch, Grey)",
          "Home Decor & Festive Needs >> Wall Decor & Clocks >> Wall Decals & Stickers",
          "Home Decor & Festive Needs >> Wall Decor & Clocks >> Wall Decals & Stickers >> Smart Wall Guru Wall Decals & Stickers",
          "Home Decor & Festive Needs >> Wall Decor & Clocks >> Wall Decals & Stickers >> Smart Wall Guru Wall Decals & Stickers >> Smart Wall Guru Medium Adhesive Sticker (Pack of 1)",
          "Kitchen & Dining >> Cookware >> Pots & Pans",
          "Kitchen & Dining >> Cookware >> Pots & Pans >> Pans & Tawas",
          "Kitchen & Dining >> Cookware >> Pots & Pans >> Pans & Tawas >> oxford Pans & Tawas",
          "Kitchen & Dining >> Cookware >> Pots & Pans >> Pans & Tawas >> oxford Pans & Tawas >> oxford Tawa 15 cm cm diameter (Aluminium, Non-st...",
          "Computers >> Software",
          "Computers >> Software >> Language Learning",
          "Computers >> Software >> Language Learning >> Physical",
          "Computers >> Software >> Language Learning >> Physical >> Eureka.in Physical",
          "Computers >> Software >> Language Learning >> Physical >> Eureka.in Physical >> Eureka.in GSEB Class VII (Pen drive)",
          "Home Furnishing >> Kitchen & Dining Linen >> Coasters",
          "Home Furnishing >> Kitchen & Dining Linen >> Coasters >> Craft Trade Coasters",
          "Home Furnishing >> Kitchen & Dining Linen >> Coasters >> Craft Trade Coasters >> Craft Trade Oval Wood Coaster Set (Brown, Pack o...",
          "Home Decor & Festive Needs >> Showpieces",
          "Home Decor & Festive Needs >> Showpieces >> Parv Collections Showpieces",
          "Home Decor & Festive Needs >> Showpieces >> Exotic India Showpieces",
          "Home Decor & Festive Needs >> Showpieces >> Aapno Rajasthan Showpieces",
          "Home Decor & Festive Needs >> Showpieces >> BeYOUtiful Showpieces",
          "Home Decor & Festive Needs >> Table Decor & Handicrafts >> Showpieces >> Religious Idols",
          "Home Decor & Festive Needs >> Table Decor & Handicrafts >> Showpieces >> Religious Idols >> Exotic India Religious Idols",
          "Home Decor & Festive Needs >> Table Decor & Handicrafts >> Showpieces >> Human Figurines",
          "Home Decor & Festive Needs >> Table Decor & Handicrafts >> Showpieces >> Human Figurines >> My Angel Human Figurines",
          "Home Decor & Festive Needs >> Table Decor & Handicrafts >> Showpieces >> Religious Idols >> Diviniti Religious Idols",
          "Beauty and Personal Care >> Makeup >> Vanity Boxes >> Kuber Industries Vanity Boxes",
          "Beauty and Personal Care >> Makeup >> Vanity Boxes >> Thar Handloom Vanity Boxes",
          "Beauty and Personal Care >> Makeup >> Vanity Boxes >> Goldencollections Vanity Boxes",
          "Home Decor & Festive Needs >> Table Decor & Handicrafts >> Showpieces >> Religious Idols >> K&P Religious Idols",
          "Home Decor & Festive Needs >> Table Decor & Handicrafts >> Showpieces >> Religious Idols >> K&P Religious Idols >> K&P Lord Ganesha Regular 16 Showpiece  -  13 cm ...",
          "Home Furnishing >> Bed Linen >> Blankets, Quilts & Dohars",
          "Baby Care >> Furniture & Furnishings",
          "Baby Care >> Furniture & Furnishings >> Inflatable Products",
          "Baby Care >> Furniture & Furnishings >> Inflatable Products >> Bestway Inflatable Products",
          "Home Furnishing >> Bed Linen >> Blankets, Quilts & Dohars >> Remtex Export Cartoon Single Dohar Multicolor (1...",
          "Baby Care >> Infant Wear >> Baby Girls' Clothes >> Ethnic Wear",
          "Baby Care >> Infant Wear >> Baby Girls' Clothes >> Ethnic Wear >> Salwar Kurta Dupattas",
          "Baby Care >> Infant Wear >> Baby Girls' Clothes >> Ethnic Wear >> Salwar Kurta Dupattas >> TWISHA Salwar Kurta Dupattas",
          "Baby Care >> Infant Wear >> Baby Girls' Clothes >> Ethnic Wear >> Salwar Kurta Dupattas >> TWISHA Salwar Kurta Dupattas >> TWISHA Printed Kurti & Salwar",
          "Home Decor & Festive Needs >> Decorative Lighting & Lamps",
          "Home Decor & Festive Needs >> Decorative Lighting & Lamps >> Table Lamps",
          "Home Decor & Festive Needs >> Decorative Lighting & Lamps >> Table Lamps >> Eternity Table Lamps",
          "Home Decor & Festive Needs >> Decorative Lighting & Lamps >> Table Lamps >> Eternity Table Lamps >> Eternity Handcrafted unique Mosaic Glass Table L...",
          "Baby Care >> Infant Wear >> Baby Boys' Clothes >> Bodysuits & Sleepsuits",
          "Baby Care >> Infant Wear >> Baby Boys' Clothes >> Bodysuits & Sleepsuits >> Sleepsuits",
          "Baby Care >> Infant Wear >> Baby Boys' Clothes >> Bodysuits & Sleepsuits >> Sleepsuits >> FS Mini Klub Sleepsuits",
          "Baby Care >> Infant Wear >> Baby Boys' Clothes >> Bodysuits & Sleepsuits >> Sleepsuits >> FS Mini Klub Sleepsuits >> FS Mini Klub Baby Boy's Sleepsuit",
          "Kitchen & Dining >> Containers & Bottles >> Bottles & Sippers >> Sippers",
          "Kitchen & Dining >> Containers & Bottles >> Bottles & Sippers >> Sippers >> Omic Sippers",
          "Kitchen & Dining >> Containers & Bottles >> Bottles & Sippers >> Sippers >> Omic Sippers >> Omic Poto-Blue 1000 ml Sipper (Pack of 1, Blue)",
          "Baby Care >> Baby Grooming",
          "Baby Care >> Baby Grooming >> Baby Grooming Combos",
          "Baby Care >> Baby Grooming >> Baby Grooming Combos >> Lollipop Lane Baby Grooming Combos",
          "Computers >> Computer Peripherals",
          "Computers >> Computer Peripherals >> Printers & Inks",
          "Computers >> Computer Peripherals >> Printers & Inks >> Toners",
          "Computers >> Computer Peripherals >> Printers & Inks >> Toners >> Filink Toners",
          "Home Decor & Festive Needs >> Table Decor & Handicrafts >> Showpieces >> Religious Idols >> Recrafto Religious Idols",
          "Baby Care >> Infant Wear >> Baby Boys' Clothes >> Bodysuits & Sleepsuits >> Bodysuits",
          "Baby Care >> Infant Wear >> Baby Boys' Clothes >> Bodysuits & Sleepsuits >> Bodysuits >> Anthill Bodysuits",
          "Computers >> Laptop Accessories >> Mouse Pads",
          "Computers >> Laptop Accessories >> Mouse Pads >> FRENEMY Mouse Pads",
          "Computers >> Laptop Accessories >> Mouse Pads >> FRENEMY Mouse Pads >> FRENEMY MPAD271 Mousepad (Multicolor)",
          "Home Furnishing >> Cushions, Pillows & Covers",
          "Home Furnishing >> Cushions, Pillows & Covers >> Cushion Covers",
          "Home Furnishing >> Cushions, Pillows & Covers >> Cushion Covers >> Quilt India Floral Cushions Cover (77 cm, Gold)",
          "Baby Care >> Infant Wear >> Baby Boys' Clothes >> Bodysuits & Sleepsuits >> Sleepsuits >> Toffyhouse Sleepsuits",
          "Baby Care >> Infant Wear >> Baby Boys' Clothes >> Bodysuits & Sleepsuits >> Sleepsuits >> Toffyhouse Sleepsuits >> Toffyhouse Baby Boy's Sleepsuit",
          "Computers >> Storage",
          "Computers >> Storage >> Pen Drives",
          "Computers >> Storage >> Pen Drives >> Shopizone Pen Drives",
          "Computers >> Storage >> Pen Drives >> Shopizone Pen Drives >> Shopizone BMW Wheel 32 GB  Pen Drive (Black)",
          "Home Decor & Festive Needs >> Wall Decor & Clocks >> Key Holders >> Craftcart Key Holders",
          "Home Decor & Festive Needs >> Wall Decor & Clocks >> Key Holders >> Craftcart Key Holders >> Craftcart Parrot Antique Brass Key Holder (5 Hoo...",
          "Beauty and Personal Care >> Health Care",
          "Beauty and Personal Care >> Health Care >> Health Care Devices",
          "Beauty and Personal Care >> Health Care >> Health Care Devices >> Electrotherapy",
          "Beauty and Personal Care >> Health Care >> Health Care Devices >> Electrotherapy >> SOS Electrotherapy",
          "Beauty and Personal Care >> Health Care >> Health Care Devices >> Electrotherapy >> SOS Electrotherapy >> SOS COMPUTRISED LCD INTRFERENTIAL UNIT-125PROG. ...",
          "Beauty and Personal Care >> Body and Skin Care",
          "Beauty and Personal Care >> Body and Skin Care >> Hand Care",
          "Beauty and Personal Care >> Body and Skin Care >> Hand Care >> Manicure and Kits",
          "Beauty and Personal Care >> Body and Skin Care >> Hand Care >> Manicure and Kits >> Sally Hansen Manicure and Kits",
          "Beauty and Personal Care >> Body and Skin Care >> Hand Care >> Manicure and Kits >> Svayam Manicure and Kits",
          "Beauty and Personal Care >> Body and Skin Care >> Hand Care >> Manicure and Kits >> Go Bonjour Manicure and Kits",
          "Home Decor & Festive Needs >> Table Decor & Handicrafts >> Table Decor",
          "Home Decor & Festive Needs >> Table Decor & Handicrafts >> Table Decor >> Hookah & Hookah Flavours",
          "Home Decor & Festive Needs >> Table Decor & Handicrafts >> Table Decor >> Hookah & Hookah Flavours >> Hookah",
          "Home Decor & Festive Needs >> Table Decor & Handicrafts >> Table Decor >> Hookah & Hookah Flavours >> Hookah >> Arsalan Hookah",
          "Kitchen & Dining >> Coffee Mugs >> Prithish Coffee Mugs",
          "Kitchen & Dining >> Coffee Mugs >> Rockmantra Coffee Mugs",
          "Kitchen & Dining >> Coffee Mugs >> Rajesh Digital Coffee Mugs",
          "Kitchen & Dining >> Coffee Mugs >> Printland Coffee Mugs",
          "Kitchen & Dining >> Coffee Mugs >> Returnfavors Coffee Mugs",
          "Kitchen & Dining >> Kitchen Tools",
          "Kitchen & Dining >> Kitchen Tools >> Kitchen Implements",
          "Kitchen & Dining >> Kitchen Tools >> Kitchen Implements >> Pizza Cutters",
          "Kitchen & Dining >> Kitchen Tools >> Kitchen Implements >> Pizza Cutters >> Famous Pizza Cutters",
          "Home Decor & Festive Needs >> Showpieces >> Rastogi Handicrafts Showpieces",
          "Home Decor & Festive Needs >> Showpieces >> NEHP Showpieces",
          "Home Decor & Festive Needs >> Showpieces >> S C Handicrafts Showpieces",
          "Home Decor & Festive Needs >> Showpieces >> Ethnic",
          "Home Decor & Festive Needs >> Showpieces >> Ethnic >> Tatvaarts Ethnic",
          "Kitchen & Dining >> Kitchen Tools >> Kitchen Implements >> Pizza Cutters >> Sam Pizza Cutters",
          "Home Decor & Festive Needs >> Showpieces >> Ethnic >> Surface180 Ethnic",
          "Kitchen & Dining >> Kitchen Tools >> Kitchen Implements >> Pizza Cutters >> Step4deal Pizza Cutters",
          "Home Decor & Festive Needs >> Showpieces >> MA Design Hut Showpieces",
          "Home Decor & Festive Needs >> Showpieces >> Ethnic >> Lal Haveli Ethnic",
          "Baby Care >> Infant Wear >> Baby Boys' Clothes >> Dungarees & Jumpsuits",
          "Baby Care >> Infant Wear >> Baby Boys' Clothes >> Dungarees & Jumpsuits >> Jumpsuits",
          "Baby Care >> Infant Wear >> Baby Boys' Clothes >> Dungarees & Jumpsuits >> Jumpsuits >> Earth Conscious Jumpsuits",
          "Home Decor & Festive Needs >> Showpieces >> Purpledip Showpieces",
          "Kitchen & Dining >> Kitchen Tools >> Kitchen Implements >> Pizza Cutters >> Tirupati Pizza Cutters",
          "Home Decor & Festive Needs >> Showpieces >> Shoppingtara Showpieces",
          "Home Decor & Festive Needs >> Showpieces >> Orange Tree Showpieces",
          "Home Decor & Festive Needs >> Showpieces >> Ethnic >> Unique Design Ethnic",
          "Home Decor & Festive Needs >> Showpieces >> Port Showpieces",
          "Kitchen & Dining >> Kitchen Tools >> Kitchen Implements >> Pizza Cutters >> King International Pizza Cutters",
          "Kitchen & Dining >> Kitchen Tools >> Kitchen Implements >> Pizza Cutters >> Go Hooked Pizza Cutters",
          "Home Decor & Festive Needs >> Showpieces >> Ethnic >> RoyalsCart Ethnic",
          "Kitchen & Dining >> Kitchen Tools >> Kitchen Implements >> Pizza Cutters >> Apex Pizza Cutters",
          "Home Decor & Festive Needs >> Showpieces >> Ethnic >> MCB Exports Ethnic",
          "Baby Care >> Infant Wear >> Baby Boys' Clothes >> Dungarees & Jumpsuits >> Jumpsuits >> Poppins Jumpsuits",
          "Home Decor & Festive Needs >> Showpieces >> Ethnic >> Purpledip Ethnic",
          "Kitchen & Dining >> Kitchen Tools >> Kitchen Implements >> Pizza Cutters >> Agromech Pizza Cutters",
          "Home Decor & Festive Needs >> Showpieces >> Tiedribbons Showpieces",
          "Home Decor & Festive Needs >> Showpieces >> Ethnic >> Rajo Raja Ethnic",
          "Home Decor & Festive Needs >> Showpieces >> Ethnic >> Surface 180 Ethnic",
          "Home Decor & Festive Needs >> Showpieces >> Ethnic >> Sovam International Ethnic",
          "Home Decor & Festive Needs >> Showpieces >> Ethnic >> The Ethnic Story Ethnic",
          "Kitchen & Dining >> Cookware >> Pots & Pans >> Woks & Kadhais",
          "Kitchen & Dining >> Cookware >> Pots & Pans >> Woks & Kadhais >> JSM Woks & Kadhais",
          "Kitchen & Dining >> Kitchen Tools >> Kitchen Implements >> Pizza Cutters >> Celebrity Pizza Cutters",
          "Home Decor & Festive Needs >> Showpieces >> Unique Design Showpieces",
          "Kitchen & Dining >> Cookware >> Pots & Pans >> Woks & Kadhais >> Metallino Woks & Kadhais",
          "Home Decor & Festive Needs >> Showpieces >> Ethnic >> Ruchiworld Ethnic",
          "Kitchen & Dining >> Cookware >> Pots & Pans >> Woks & Kadhais >> Kosher Woks & Kadhais",
          "Kitchen & Dining >> Cookware >> Pots & Pans >> Woks & Kadhais >> Recon Woks & Kadhais",
          "Kitchen & Dining >> Cookware >> Pots & Pans >> Woks & Kadhais >> Indian Art Villa Woks & Kadhais",
          "Kitchen & Dining >> Cookware >> Pots & Pans >> Woks & Kadhais >> Suruchi Woks & Kadhais",
          "Kitchen & Dining >> Cookware >> Pots & Pans >> Woks & Kadhais >> Bergner Woks & Kadhais",
          "Kitchen & Dining >> Cookware >> Pots & Pans >> Woks & Kadhais >> Kalash Woks & Kadhais",
          "Kitchen & Dining >> Cookware >> Pots & Pans >> Woks & Kadhais >> Peacock Woks & Kadhais",
          "Kitchen & Dining >> Cookware >> Pots & Pans >> Woks & Kadhais >> Leo Natura Woks & Kadhais",
          "Home Decor & Festive Needs >> Showpieces >> Malhar Showpieces",
          "Kitchen & Dining >> Cookware >> Pots & Pans >> Woks & Kadhais >> Sumeet Woks & Kadhais",
          "Home Decor & Festive Needs >> TRUE Home Decor & Festive Needs",
          "Home Decor & Festive Needs >> Showpieces >> The Crafts House Showpieces",
          "Kitchen & Dining >> Cookware >> Pots & Pans >> Woks & Kadhais >> Jaipan Woks & Kadhais",
          "Home Decor & Festive Needs >> Showpieces >> Unravel India Showpieces",
          "Home Decor & Festive Needs >> Showpieces >> Ethnic >> Ruchikainternational Ethnic",
          "Kitchen & Dining >> Cookware >> Pots & Pans >> Woks & Kadhais >> Nirlon Woks & Kadhais",
          "Home Decor & Festive Needs >> Showpieces >> Ethnic >> Monil Ethnic",
          "Kitchen & Dining >> Cookware >> Pots & Pans >> Woks & Kadhais >> Pristine Woks & Kadhais",
          "Home Decor & Festive Needs >> Showpieces >> Woodino Handicrafts Showpieces",
          "Home Decor & Festive Needs >> Showpieces >> Unique Handicrafts Showpieces",
          "Kitchen & Dining >> Cookware >> Pots & Pans >> Woks & Kadhais >> Pigeon Woks & Kadhais",
          "Kitchen & Dining >> Cookware >> Pots & Pans >> Woks & Kadhais >> Sahara Q Shop Woks & Kadhais",
          "Kitchen & Dining >> Kitchen Tools >> Kitchen Implements >> Pizza Cutters >> Mom Italy Pizza Cutters",
          "Home Decor & Festive Needs >> Showpieces >> Mavi Showpieces",
          "Kitchen & Dining >> Cookware >> Pots & Pans >> Woks & Kadhais >> Ndura Woks & Kadhais",
          "Kitchen & Dining >> Cookware >> Pots & Pans >> Woks & Kadhais >> Supreme Cookwares Woks & Kadhais",
          "Baby Care >> Infant Wear >> Baby Boys' Clothes >> Dungarees & Jumpsuits >> Dungarees",
          "Baby Care >> Infant Wear >> Baby Boys' Clothes >> Dungarees & Jumpsuits >> Dungarees >> Babeezworld Dungarees",
          "Baby Care >> Infant Wear >> Baby Boys' Clothes >> Dungarees & Jumpsuits >> Dungarees >> Babeezworld Dungarees >> Babeezworld Baby Boy's Romper",
          "Watches >> Wrist Watches >> Pittsburgh Polo Club Wrist Watches",
          "Watches >> Wrist Watches >> Pittsburgh Polo Club Wrist Watches >> Pittsburgh Polo Club PBPC-505-GRN Analog Watch  ...",
          "Watches >> Wrist Watches >> palito Wrist Watches",
          "Watches >> Wrist Watches >> palito Wrist Watches >> palito PLO 169 Analog Watch  - For Girls, Women",
          "Watches >> Wrist Watches >> Adino Wrist Watches",
          "Watches >> Wrist Watches >> Adino Wrist Watches >> Adino ADF04 Analog Watch  - For Girls",
          "Watches >> Wrist Watches >> ESIDON Wrist Watches",
          "Watches >> Wrist Watches >> ESIDON Wrist Watches >> ESIDON AKADA06 Analog Watch  - For Women",
          "Watches >> Wrist Watches >> palito Wrist Watches >> palito PLO 166 Analog Watch  - For Girls, Women",
          "Home Furnishing >> Living",
          "Home Furnishing >> Living >> Sofa Covers",
          "Home Furnishing >> Living >> Sofa Covers >> Bhavya Velvet Sofa Cover (Grey Pack of 10)",
          "Baby Care >> Infant Wear >> Baby Boys' Clothes >> Dungarees & Jumpsuits >> Dungarees >> cherry crumble california Dungarees",
          "Baby Care >> Infant Wear >> Baby Boys' Clothes >> Dungarees & Jumpsuits >> Dungarees >> cherry crumble california Dungarees >> cherry crumble california Baby Boy's Dungaree",
          "Watches >> Wrist Watches >> Yves Bertelin Wrist Watches",
          "Watches >> Wrist Watches >> Yves Bertelin Wrist Watches >> Yves Bertelin YBSCR557 Analog Watch  - For Women",
          "Home Decor & Festive Needs >> Showpiece",
          "Home Decor & Festive Needs >> Showpiece >> Contemporary",
          "Home Decor & Festive Needs >> Showpiece >> Contemporary >> Services Junction Contemporary",
          "Home Decor & Festive Needs >> Showpiece >> Contemporary >> Services Junction Contemporary >> Services Junction Beautiful Black and Golden col...",
          "Watches >> Wrist Watches >> palito Wrist Watches >> palito PLO 149 Analog Watch  - For Girls, Women",
          "Watches >> Wrist Watches >> V9 Wrist Watches",
          "Watches >> Wrist Watches >> V9 Wrist Watches >> V9 METAL STRAP Analog Watch  - For Men",
          "Home Furnishing >> Living >> Sofa Covers >> Dreamshomes Velvet Sofa Cover (Multicolour Pack ...",
          "Baby Care >> Infant Wear >> Baby Boys' Clothes >> Dungarees & Jumpsuits >> Dungarees >> Kandyfloss Dungarees",
          "Baby Care >> Infant Wear >> Baby Boys' Clothes >> Dungarees & Jumpsuits >> Dungarees >> Kandyfloss Dungarees >> Kandyfloss Baby Boy's, Baby Girl's Romper",
          "Home Decor & Festive Needs >> Showpiece >> Contemporary >> Services Junction Contemporary >> Services Junction Gold Plated Ganesh Idol Showpi...",
          "Home Decor & Festive Needs >> Decorative Lighting & Lamps >> Table Lamps >> Brahmz Table Lamps",
          "Home Decor & Festive Needs >> Decorative Lighting & Lamps >> Table Lamps >> Brahmz Table Lamps >> Brahmz Glass Mossiac Table Lamp (18 cm, Multi Co...",
          "Baby Care >> Infant Wear >> Baby Girls' Clothes >> Dresses & Skirts",
          "Baby Care >> Infant Wear >> Baby Girls' Clothes >> Dresses & Skirts >> Dresses",
          "Baby Care >> Infant Wear >> Baby Girls' Clothes >> Dresses & Skirts >> Dresses >> MKB Dresses",
          "Baby Care >> Infant Wear >> Baby Girls' Clothes >> Dresses & Skirts >> Dresses >> MKB Dresses >> MKB Baby Girl's Shirt Dress",
          "Baby Care >> Infant Wear >> Baby Girls' Clothes >> Dresses & Skirts >> Dresses >> Toddla Dresses",
          "Baby Care >> Infant Wear >> Baby Girls' Clothes >> Dresses & Skirts >> Dresses >> Toddla Dresses >> Toddla Baby Girl's Gathered Dress",
          "Baby Care >> Infant Wear >> Baby Girls' Clothes >> Dresses & Skirts >> Dresses >> Baby Moshai Dresses",
          "Baby Care >> Infant Wear >> Baby Girls' Clothes >> Dresses & Skirts >> Dresses >> Baby Moshai Dresses >> Baby Moshai Baby Girl's A-line Dress",
          "Baby Care >> Infant Wear >> Baby Girls' Clothes >> Dresses & Skirts >> Dresses >> My Little Lambs Dresses",
          "Baby Care >> Infant Wear >> Baby Girls' Clothes >> Dresses & Skirts >> Dresses >> My Little Lambs Dresses >> My Little Lambs Baby Girl's Gathered Dress",
          "Kitchen & Dining >> Bar & Glassware",
          "Kitchen & Dining >> Bar & Glassware >> Bar Accessories",
          "Kitchen & Dining >> Bar & Glassware >> Bar Accessories >> Bottle Openers",
          "Kitchen & Dining >> Bar & Glassware >> Bar Accessories >> Bottle Openers >> arnavs Bottle Openers",
          "Kitchen & Dining >> Bar & Glassware >> Bar Accessories >> Bottle Openers >> arnavs Bottle Openers >> arnavs Multi1 Bottle Opener Set",
          "Computers >> Computer Peripherals >> CPU",
          "Computers >> Computer Peripherals >> CPU >> I Ball CPU",
          "Computers >> Computer Peripherals >> CPU >> I Ball CPU >> I Ball IBCTDC 160/2gb/DDR2 with Dual Core 2 RAM ...",
          "Baby Care >> Infant Wear >> Baby Boys' Clothes >> Polos & T-Shirts",
          "Baby Care >> Infant Wear >> Baby Boys' Clothes >> Polos & T-Shirts >> Globe Polos & T-Shirts",
          "Baby Care >> Infant Wear >> Baby Boys' Clothes >> Polos & T-Shirts >> Globe Polos & T-Shirts >> Globe Graphic Print Baby Boy's Round Neck Orange...",
          "Kitchen & Dining >> Kitchen Tools >> Kitchen Implements >> Hand Juicers",
          "Kitchen & Dining >> Kitchen Tools >> Kitchen Implements >> Hand Juicers >> JayEnterprise Hand Juicers",
          "Kitchen & Dining >> Kitchen Tools >> Kitchen Implements >> Hand Juicers >> JayEnterprise Hand Juicers >> JayEnterprise Plastic Hand Juicer (Multicolor)",
          "Home Decor & Festive Needs >> Showpieces >> Ethnic >> Craftuno Ethnic",
          "Kitchen & Dining >> Cookware >> Lids",
          "Kitchen & Dining >> Cookware >> Lids >> Elephant Lids",
          "Beauty and Personal Care >> Health Care >> Health Care Devices >> Body Fat Analyzers",
          "Beauty and Personal Care >> Health Care >> Health Care Devices >> Body Fat Analyzers >> Equinox Body Fat Analyzers",
          "Home Decor & Festive Needs >> Showpieces >> Ethnic >> Nihar Ethnic",
          "Home Decor & Festive Needs >> Showpieces >> Ethnic >> Homedesires Ethnic",
          "Home Decor & Festive Needs >> Showpieces >> Ethnic >> Pg handicrafts Ethnic",
          "Home Decor & Festive Needs >> Showpieces >> Ethnic >> Ravishing Variety Ethnic",
          "Home Decor & Festive Needs >> Showpieces >> Ethnic >> Infinity India Ethnic",
          "Computers >> Network Components >> Routers >> Linksys Routers",
          "Beauty and Personal Care >> Fragrances",
          "Beauty and Personal Care >> Fragrances >> Deodorants",
          "Beauty and Personal Care >> Fragrances >> Deodorants >> Combos",
          "Beauty and Personal Care >> Fragrances >> Deodorants >> Combos >> Wild Stone Combos",
          "Computers >> Network Components >> Routers >> Intex Routers",
          "Beauty and Personal Care >> Fragrances >> Deodorants >> Combos >> Adidas Combos",
          "Beauty and Personal Care >> Fragrances >> Deodorants >> Combos >> Vincent Valentine Paris Combos",
          "Beauty and Personal Care >> Fragrances >> Deodorants >> Combos >> Denver Combos",
          "Beauty and Personal Care >> Fragrances >> Deodorants >> Combos >> Archies Combos",
          "Computers >> Network Components >> Routers >> Asus Routers",
          "Beauty and Personal Care >> Fragrances >> Deodorants >> Combos >> Layer'r Combos",
          "Computers >> Network Components >> Routers >> Apple Routers",
          "Computers >> Network Components >> Routers >> Tenda Routers",
          "Computers >> Network Components >> Routers >> Huawei Routers",
          "Beauty and Personal Care >> Fragrances >> Deodorants >> Combos >> Anna Andre Paris Combos",
          "Computers >> Network Components >> Routers >> TRENDnet Routers",
          "Computers >> Network Components >> Routers >> Edimax Routers",
          "Beauty and Personal Care >> Fragrances >> Deodorants >> Combos >> Park Avenue Combos",
          "Computers >> Network Components >> Routers >> Binatone Routers",
          "Beauty and Personal Care >> Fragrances >> Deodorants >> Combos >> KamaSutra Combos",
          "Beauty and Personal Care >> Fragrances >> Deodorants >> Combos >> Arabian Nights Combos",
          "Beauty and Personal Care >> Fragrances >> Deodorants >> Combos >> Engage Combos",
          "Computers >> Network Components >> Routers >> Belkin Routers",
          "Beauty and Personal Care >> Fragrances >> Deodorants >> Combos >> Envy-1000 Combos",
          "Beauty and Personal Care >> Fragrances >> Deodorants >> Combos >> Yardley Combos",
          "Beauty and Personal Care >> Fragrances >> Deodorants >> Combos >> Nivea Combos",
          "Computers >> Network Components >> Routers >> Zyxel Routers",
          "Computers >> Network Components >> Routers >> TP-LINK Routers",
          "Beauty and Personal Care >> Fragrances >> Deodorants >> Combos >> Playboy Combos",
          "Beauty and Personal Care >> Fragrances >> Deodorants >> Combos >> Spinz Combos",
          "Beauty and Personal Care >> Fragrances >> Deodorants >> Combos >> Nike Combos",
          "Beauty and Personal Care >> Fragrances >> Deodorants >> Combos >> Aero Care Combos",
          "Beauty and Personal Care >> Fragrances >> Deodorants >> Combos >> Beverly Hills Polo Club Combos",
          "Computers >> Network Components >> Routers >> Netgear Routers",
          "Beauty and Personal Care >> Fragrances >> Deodorants >> Combos >> Addiction Combos",
          "Computers >> Network Components >> Routers >> iBall Routers",
          "Beauty and Personal Care >> Fragrances >> Deodorants >> Combos >> ENVY 1000 Combos",
          "Computers >> Network Components >> Routers >> Netis Routers",
          "Beauty and Personal Care >> Fragrances >> Deodorants >> Combos >> French Factor Combos",
          "Beauty and Personal Care >> Fragrances >> Deodorants >> Combos >> Fogg Combos",
          "Beauty and Personal Care >> Fragrances >> Deodorants >> Combos >> Denim Combos",
          "Beauty and Personal Care >> Fragrances >> Deodorants >> Combos >> Cinthol Combos",
          "Computers >> Network Components >> Routers >> Airtel Routers",
          "Computers >> Network Components >> Routers >> Digisol Routers",
          "Beauty and Personal Care >> Fragrances >> Deodorants >> Combos >> Ajmal Combos",
          "Beauty and Personal Care >> Women's Hygiene",
          "Beauty and Personal Care >> Women's Hygiene >> Combo & kits",
          "Beauty and Personal Care >> Women's Hygiene >> Combo & kits >> Clear Face Combo & kits",
          "Beauty and Personal Care >> Women's Hygiene >> Combo & kits >> Clear Face Combo & kits >> Clear Face Kesar Chandan Multivitamin Nourishing...",
          "Computers >> Tablet Accessories >> Cases & Covers",
          "Computers >> Tablet Accessories >> Cases & Covers >> YGS Cases & Covers",
          "Computers >> Tablet Accessories >> Cases & Covers >> YGS Cases & Covers >> YGS Keyboard Case for Asus Memo Pad 7in Tab (Pink)",
          "Beauty and Personal Care >> Hair Care >> Hair Care Accessories",
          "Beauty and Personal Care >> Hair Care >> Hair Care Accessories >> Hair Accessories",
          "Beauty and Personal Care >> Hair Care >> Hair Care Accessories >> Hair Accessories >> Majik Hair Accessories",
          "Beauty and Personal Care >> Hair Care >> Hair Care Accessories >> Hair Accessories >> Majik Hair Accessories >> Majik Styling Decoration Hair Clip (Multicolor)",
          "Computers >> Computer Peripherals >> Portable Projectors",
          "Computers >> Computer Peripherals >> Portable Projectors >> Zingalalaa Portable Projectors",
          "Computers >> Computer Peripherals >> Portable Projectors >> Zingalalaa Portable Projectors >> Zingalalaa LP-50 50 lm LED Corded Portable Proje...",
          "Baby Care >> Diapering & Potty Training",
          "Baby Care >> Diapering & Potty Training >> Changing Tables",
          "Baby Care >> Diapering & Potty Training >> Changing Tables >> BASRA Changing Tables",
          "Baby Care >> Diapering & Potty Training >> Changing Tables >> BASRA Changing Tables >> BASRA uepgrn Green Changing Table",
          "Computers >> Laptop Accessories >> Adapters",
          "Computers >> Laptop Accessories >> Adapters >> Smartpro Adapters",
          "Computers >> Laptop Accessories >> Adapters >> Smartpro Adapters >> Smartpro 19.5v,3.9a Replacement Charger for Vaio...",
          "Baby Care >> Strollers & Activity Gear",
          "Baby Care >> Strollers & Activity Gear >> Strollers & Prams",
          "Baby Care >> Strollers & Activity Gear >> Strollers & Prams >> Graco Strollers & Prams",
          "Baby Care >> Strollers & Activity Gear >> Strollers & Prams >> Graco Strollers & Prams >> Graco LiteRider Click Connect � Marco (Multicolor)",
          "Kitchen & Dining >> Bar & Glassware >> Bar Glasses",
          "Kitchen & Dining >> Bar & Glassware >> Bar Glasses >> ocean Bar Glasses",
          "Kitchen & Dining >> Bar & Glassware >> Bar Glasses >> ocean Bar Glasses >> ocean VGLASS0051 (325 ml, Clear, Pack of 6)",
          "Home Decor & Festive Needs >> Showpieces >> Fengshui",
          "Home Decor & Festive Needs >> Showpieces >> Fengshui >> Reiki Crystal Products Fengshui",
          "Home Decor & Festive Needs >> Showpieces >> Fengshui >> Reiki Crystal Products Fengshui >> Reiki Crystal Products Showpiece  -  8 cm (Cryst...",
          "Beauty and Personal Care >> Health Care >> Health Care Devices >> HomeEdge Health Care Devices",
          "Beauty and Personal Care >> Health Care >> Health Care Devices >> HomeEdge Health Care Devices >> HomeEdge Solid Wood King Bed (Finish Color -  Na...",
          "Baby Care >> Infant Wear >> Baby Girls' Clothes >> Dungarees & Jumpsuits",
          "Baby Care >> Infant Wear >> Baby Girls' Clothes >> Dungarees & Jumpsuits >> Jumpsuits",
          "Baby Care >> Infant Wear >> Baby Girls' Clothes >> Dungarees & Jumpsuits >> Jumpsuits >> Budding Bees Jumpsuits",
          "Baby Care >> Infant Wear >> Baby Girls' Clothes >> Dungarees & Jumpsuits >> Jumpsuits >> Budding Bees Jumpsuits >> Budding Bees Printed Baby Girl's Jumpsuit",
          "Home Furnishing >> Kitchen & Dining Linen >> Table Linen Sets",
          "Home Furnishing >> Kitchen & Dining Linen >> Table Linen Sets >> JewelKraft Designs Brown, Pink Table Linen Set",
          "Baby Care >> Baby Bedding >> Baby Sleeping Bags",
          "Baby Care >> Baby Bedding >> Baby Sleeping Bags >> Baby Bucket Baby Sleeping Bags",
          "Baby Care >> Baby Bedding >> Baby Sleeping Bags >> Baby Bucket Baby Sleeping Bags >> Baby Bucket SHERIN MULTI BEAR Sleeping Bag (Green)",
          "Beauty and Personal Care >> Health Care >> Health Care Devices >> Pulse Oximeters",
          "Beauty and Personal Care >> Health Care >> Health Care Devices >> Pulse Oximeters >> NAMS Pulse Oximeters",
          "Beauty and Personal Care >> Health Care >> Health Care Devices >> Pulse Oximeters >> NAMS Pulse Oximeters >> NAMS 06 Fully Automatic Pulse Oximeter (White)",
          "Baby Care >> Infant Wear >> Baby Girls' Clothes >> Bodysuits & Sleepsuits",
          "Baby Care >> Infant Wear >> Baby Girls' Clothes >> Bodysuits & Sleepsuits >> Sleepsuits",
          "Baby Care >> Infant Wear >> Baby Girls' Clothes >> Bodysuits & Sleepsuits >> Sleepsuits >> Rute Sleepsuits",
          "Baby Care >> Infant Wear >> Baby Girls' Clothes >> Bodysuits & Sleepsuits >> Sleepsuits >> Rute Sleepsuits >> Rute Baby Girl's Sleepsuit",
          "Home Furnishing >> Tidy Home Furnishing",
          "Home Furnishing >> Tidy Home Furnishing >> Tidy Printed Cushions Cover (Pack of 9, 50 cm*50...",
          "Home Furnishing >> Bed Linen >> Bedsheets >> JBC Collection Bedsheets",
          "Home Furnishing >> Bed Linen >> Bedsheets >> JBC Collection Bedsheets >> JBC Collection Cotton Printed Single Bedsheet (1...",
          "Computers >> Laptop Accessories >> Laptop Adapters",
          "Computers >> Laptop Accessories >> Laptop Adapters >> Hako Laptop Adapters",
          "Computers >> Laptop Accessories >> Laptop Adapters >> Hako Laptop Adapters >> Hako 45W Magsafe Laptop Charger For APPLE MacBoo...",
          "Computers >> Laptop Accessories >> Laptop Adapters >> Hako Laptop Adapters >> Hako 85W Magsafe Laptop Charger For APPLE MacBoo...",
          "Computers >> Laptop Accessories >> Laptop Adapters >> Hako Laptop Adapters >> Hako 60W Magsafe Laptop Charger For APPLE MacBoo...",
          "Baby Care >> Baby Bath & Skin >> Baby Shower Caps",
          "Baby Care >> Baby Bath & Skin >> Baby Shower Caps >> 3kFactory Baby Shower Caps",
          "Baby Care >> Baby Bath & Skin >> Baby Shower Caps >> 3kFactory Baby Shower Caps >> 3kFactory Baby Shower Cap- Purple",
          "Baby Care >> Infant Wear >> Baby Girls' Clothes >> Dresses & Skirts >> Dresses >> Saba Garments Dresses",
          "Baby Care >> Infant Wear >> Baby Girls' Clothes >> Dresses & Skirts >> Dresses >> Saba Garments Dresses >> Saba Garments Baby Girl's Gathered Dress",
          "Baby Care >> Infant Wear >> Baby Boys' Clothes >> Winter & Seasonal Wear",
          "Baby Care >> Infant Wear >> Baby Boys' Clothes >> Winter & Seasonal Wear >> Jackets",
          "Baby Care >> Infant Wear >> Baby Boys' Clothes >> Winter & Seasonal Wear >> Jackets >> Upside Down Jackets",
          "Baby Care >> Infant Wear >> Baby Boys' Clothes >> Winter & Seasonal Wear >> Jackets >> Upside Down Jackets >> Upside Down Sleeveless Applique Baby Girl's, Bab...",
          "Home Furnishing >> Living Room Furnishing >> Lushomes Living Room Furnishing",
          "Home Furnishing >> Living Room Furnishing >> Lushomes Living Room Furnishing >> Lushomes Plain Back Cushion (Pack of5, Brown)",
          "Kitchen & Dining >> Pressure Cookers & Pans",
          "Kitchen & Dining >> Pressure Cookers & Pans >> Prestige Pressure Cookers & Pans",
          "Kitchen & Dining >> Containers & Bottles >> Bottles & Sippers >> Milton Bottles & Sippers",
          "Computers >> Storage >> Pen Drives >> HP Pen Drives",
          "Computers >> Storage >> Pen Drives >> HP Pen Drives >> HP v220w 16 GB  Pen Drive (Silver, Black)",
          "Beauty and Personal Care >> Hair Care >> Conditioners >> TIGI BED HEAD Conditioners",
          "Beauty and Personal Care >> Hair Care >> Conditioners >> TIGI BED HEAD Conditioners >> TIGI BED HEAD COLOUR GODDESS OIL INFUSED CONDITI...",
          "Baby Care >> Infant Wear >> Baby Girls' Clothes >> Dresses & Skirts >> Dresses >> Beebay Dresses",
          "Baby Care >> Infant Wear >> Baby Girls' Clothes >> Dresses & Skirts >> Dresses >> Beebay Dresses >> Beebay Baby Girl's Fit and Flare Dress",
          "Kitchen & Dining >> Cookware >> Steamers & Idli Makers",
          "Kitchen & Dining >> Cookware >> Steamers & Idli Makers >> Idli Makers",
          "Kitchen & Dining >> Cookware >> Steamers & Idli Makers >> Idli Makers >> vatika Idli Makers",
          "Kitchen & Dining >> Cookware >> Steamers & Idli Makers >> Idli Makers >> vatika Idli Makers >> vatika Advance Standard Idli Maker (7 Plates , 1...",
          "Home Furnishing >> Bath Linen >> Bath Mats >> Amit Carpet Polyester Medium Door Mat ACI2016034...",
          "Beauty and Personal Care >> Hair Care >> Hair Colors",
          "Beauty and Personal Care >> Hair Care >> Hair Colors >> Garnier Hair Colors",
          "Beauty and Personal Care >> Hair Care >> Hair Colors >> Garnier Hair Colors >> Garnier Nutrisse Haircolor Hair Color (43 Dark G...",
          "Baby Care >> Infant Wear >> Baby Girls' Clothes >> Dresses & Skirts >> Dresses >> Fs Mini Klub Dresses",
          "Baby Care >> Infant Wear >> Baby Girls' Clothes >> Dresses & Skirts >> Dresses >> Fs Mini Klub Dresses >> Fs Mini Klub Baby Girl's Fit and Flare Dress",
          "Baby Care >> Infant Wear >> Baby Girls' Clothes >> Dresses & Skirts >> Dresses >> Chokree Dresses",
          "Baby Care >> Infant Wear >> Baby Girls' Clothes >> Dresses & Skirts >> Dresses >> Chokree Dresses >> Chokree Baby Girl's, Girl's A-line Dress",
          "Baby Care >> Infant Wear >> Baby Boys' Clothes >> Shorts & Trousers",
          "Baby Care >> Infant Wear >> Baby Boys' Clothes >> Shorts & Trousers >> Track Pants",
          "Baby Care >> Infant Wear >> Baby Boys' Clothes >> Shorts & Trousers >> Track Pants >> Shaun Track Pants",
          "Baby Care >> Infant Wear >> Baby Boys' Clothes >> Shorts & Trousers >> Track Pants >> Shaun Track Pants >> Shaun Printed Baby Boy's Yellow, Grey, Black Tra...",
          "Baby Care >> Infant Wear >> Baby Boys' Clothes >> Shorts & Trousers >> Track Pants >> Shaun Track Pants >> Shaun Solid Baby Boy's Grey, Dark Blue Track Pants",
          "Baby Care >> Baby Bath & Skin >> Baby Bath Towels >> Tks Baby Bath Towels",
          "Baby Care >> Baby Bath & Skin >> Baby Bath Towels >> Tks Baby Bath Towels >> Tks Cotton Hair Towel (1 Hair towel, Orange)",
          "Kitchen & Dining >> Bar & Glassware >> Bar Glasses >> Ocean Bar Glasses",
          "Kitchen & Dining >> Bar & Glassware >> Bar Glasses >> Ocean Bar Glasses >> Ocean CPGW087 (280 ml, Clear, Pack of 6)",
          "Beauty and Personal Care >> Hair Care >> Conditioners >> OGX Conditioners",
          "Beauty and Personal Care >> Hair Care >> Conditioners >> OGX Conditioners >> OGX Sunkissed Blonde Lemon Highlights Conditione...",
          "Kitchen & Dining >> Bar & Glassware >> Bar Glasses >> giftsthatwow Bar Glasses",
          "Kitchen & Dining >> Bar & Glassware >> Bar Glasses >> giftsthatwow Bar Glasses >> giftsthatwow GTW-G-04 (300 ml, White, Pack of 1)",
          "Kitchen & Dining >> Bar & Glassware >> Bar Glasses >> giftsthatwow Bar Glasses >> giftsthatwow GTW-G-06 (600 ml, White, Pack of 1)",
          "Beauty and Personal Care >> Bath and Spa",
          "Beauty and Personal Care >> Bath and Spa >> Body and Essential Oils",
          "Beauty and Personal Care >> Bath and Spa >> Body and Essential Oils >> Allin Exporters Body and Essential Oils",
          "Beauty and Personal Care >> Bath and Spa >> Body and Essential Oils >> Allin Exporters Body and Essential Oils >> Allin Exporters Fennel Oil (Co2 Extract) (30 ml)",
          "Kitchen & Dining >> Bar & Glassware >> Bar Glasses >> Art n Beyond Bar Glasses",
          "Kitchen & Dining >> Bar & Glassware >> Bar Glasses >> Art n Beyond Bar Glasses >> Art n Beyond 150013 (300 ml, Clear, Pack of 6)",
          "Beauty and Personal Care >> Bath and Spa >> Body and Essential Oils >> Allin Exporters Body and Essential Oils >> Allin Exporters Cumin Seed Oil (Co2 Extract) (25...",
          "Home Furnishing >> Kitchen & Dining Linen >> Kitchen Linen Sets",
          "Home Furnishing >> Kitchen & Dining Linen >> Kitchen Linen Sets >> Cotonex Black, White Cotton Kitchen Linen Set (P...",
          "Home Furnishing >> Kitchen & Dining Linen >> Kitchen Linen Sets >> Cotonex Blue, White Cotton Kitchen Linen Set (Pa...",
          "Home Furnishing >> Kitchen & Dining Linen >> Kitchen Linen Sets >> Cotonex Yellow, Green Cotton Kitchen Linen Set (...",
          "Computers >> Laptop Accessories >> Batteries",
          "Computers >> Laptop Accessories >> Batteries >> Lapguard Batteries",
          "Computers >> Laptop Accessories >> Batteries >> HP Batteries",
          "Computers >> Laptop Accessories >> Batteries >> ARB Batteries",
          "Computers >> Laptop Accessories >> Batteries >> 4D Batteries",
          "Computers >> Laptop Accessories >> Batteries >> Clublaptop Batteries",
          "Computers >> Laptop Accessories >> Batteries >> Rega IT Batteries",
          "Watches >> Wrist Watches >> Sonata Wrist Watches",
          "Watches >> Wrist Watches >> Times Wrist Watches",
          "Watches >> Wrist Watches >> Maxima Wrist Watches",
          "Watches >> Wrist Watches >> Nexus Wrist Watches",
          "Watches >> Wrist Watches >> Logues Wrist Watches",
          "Watches >> Wrist Watches >> Global Nomad Wrist Watches",
          "Watches >> Wrist Watches >> Noise Wrist Watches",
          "Watches >> Wrist Watches >> SF by Sonata Wrist Watches",
          "Watches >> Wrist Watches >> Fluid Wrist Watches",
          "Watches >> Wrist Watches >> HMT Wrist Watches",
          "Watches >> Wrist Watches >> Timewel Wrist Watches",
          "Watches >> Wrist Watches >> Petrol Wrist Watches",
          "Watches >> Wrist Watches >> Only Kidz Wrist Watches",
          "Watches >> Wrist Watches >> Kool Kidz Wrist Watches",
          "Watches >> Wrist Watches >> Olvin Wrist Watches",
          "Watches >> Wrist Watches >> Fastrack Wrist Watches",
          "Watches >> Wrist Watches >> Hourglass Wrist Watches",
          "Watches >> Wrist Watches >> Gift Island Wrist Watches",
          "Watches >> Wrist Watches >> Flippd Wrist Watches",
          "Watches >> Wrist Watches >> Neo Classic Wrist Watches",
          "Computers >> Laptop Accessories >> Cleaning Kits",
          "Computers >> Laptop Accessories >> Cleaning Kits >> Shopfloor.XYZ Cleaning Kits",
          "Computers >> Laptop Accessories >> Cleaning Kits >> Shopfloor.XYZ Cleaning Kits >> Shopfloor.XYZ Vacuum Cleaner for Computers, Lapt...",
          "Baby Care >> Infant Wear >> Baby Girls' Clothes >> Leggings & Jeggings",
          "Baby Care >> Infant Wear >> Baby Girls' Clothes >> Leggings & Jeggings >> Babyoye Premium Leggings & Jeggings",
          "Baby Care >> Infant Wear >> Baby Girls' Clothes >> Leggings & Jeggings >> Babyoye Premium Leggings & Jeggings >> Babyoye Premium Baby Girl's Grey Leggings",
          "Home Furnishing >> Cushions, Pillows & Covers >> Cushions",
          "Home Furnishing >> Cushions, Pillows & Covers >> Cushions >> Furnishing Zone Cushions",
          "Home Furnishing >> Cushions, Pillows & Covers >> Cushions >> Furnishing Zone Cushions >> Furnishing Zone Printed Back Cushion (Pack of2, ...",
          "Baby Care >> Infant Wear >> Baby Girls' Clothes >> Leggings & Jeggings >> Babyoye Premium Leggings & Jeggings >> Babyoye Premium Baby Girl's Multicolor Leggings ...",
          "Baby Care >> Infant Wear >> Baby Girls' Clothes >> Leggings & Jeggings >> GREENWICH Leggings & Jeggings",
          "Baby Care >> Infant Wear >> Baby Girls' Clothes >> Leggings & Jeggings >> GREENWICH Leggings & Jeggings >> GREENWICH Baby Girl's Black Jeggings",
          "Home Decor & Festive Needs >> Flowers, Plants & Vases >> Artificial Plants",
          "Home Decor & Festive Needs >> Flowers, Plants & Vases >> Artificial Plants >> Miracle Retail Artificial Plants",
          "Home Decor & Festive Needs >> Flowers, Plants & Vases >> Artificial Plants >> Miracle Retail Artificial Plants >> Miracle Retail Bonsai Wild Plant Artificial Plan...",
          "Home Decor & Festive Needs >> Flowers, Plants & Vases >> Artificial Plants >> Mayursflora Artificial Plants",
          "Home Decor & Festive Needs >> Flowers, Plants & Vases >> Artificial Plants >> Mayursflora Artificial Plants >> Mayursflora Bonsai Aloe, Maple, Arecaceae, Palm,...",
          "Home Decor & Festive Needs >> Flowers, Plants & Vases >> Artificial Plants >> V Creations Artificial Plants",
          "Home Decor & Festive Needs >> Flowers, Plants & Vases >> Artificial Plants >> V Creations Artificial Plants >> V Creations Bonsai Cactus Artificial Plant  with...",
          "Baby Care >> Infant Wear >> Baby Girls' Clothes >> Innerwear & Sleepwear >> Night Suits >> LITTLE FEETZ Night Suits",
          "Baby Care >> Infant Wear >> Baby Girls' Clothes >> Innerwear & Sleepwear >> Night Suits >> LITTLE FEETZ Night Suits >> LITTLE FEETZ Baby Girl's Solid Top & Skirt Set",
          "Computers >> Tablet Accessories >> Keyboards >> Saco Keyboards",
          "Baby Care >> Infant Wear >> Baby Girls' Clothes >> Dresses & Skirts >> Dresses >> Next Steps Dresses",
          "Home Decor & Festive Needs >> Wall Decor & Clocks >> Wall Shelves",
          "Home Decor & Festive Needs >> Wall Decor & Clocks >> Wall Shelves >> R&Mshoppee Wall Shelves",
          "Home Decor & Festive Needs >> Wall Decor & Clocks >> Wall Shelves >> R&Mshoppee Wall Shelves >> R&Mshoppee MDF Wall Shelf (Number of Shelves - 1...",
          "Kitchen & Dining >> Coffee Mugs >> posterchacha Coffee Mugs",
          "Kitchen & Dining >> Coffee Mugs >> posterchacha Coffee Mugs >> posterchacha Ishita Personalised Custom Name Hap...",
          "Watches >> Wrist Watches >> Curren Nx Wrist Watches",
          "Watches >> Wrist Watches >> Curren Nx Wrist Watches >> Curren Nx Blue Dial Stiched Strap Analog Watch  ...",
          "Computers >> Laptops",
          "Computers >> Laptops >> HP Laptops",
          "Beauty and Personal Care >> Makeup >> Vanity Boxes >> Soulful Threads Vanity Boxes",
          "Beauty and Personal Care >> Makeup >> Vanity Boxes >> Soulful Threads Vanity Boxes >> Soulful Threads Red Thread Aari Embroidered Blac...",
          "Beauty and Personal Care >> Makeup >> Vanity Boxes >> Aapno Rajasthan Vanity Boxes",
          "Beauty and Personal Care >> Makeup >> Vanity Boxes >> Aapno Rajasthan Vanity Boxes >> Aapno Rajasthan Lovely Jewellery Vanity Jeweller...",
          "Beauty and Personal Care >> Makeup >> Vanity Boxes >> MohanJodero Vanity Boxes",
          "Beauty and Personal Care >> Makeup >> Vanity Boxes >> MohanJodero Vanity Boxes >> MohanJodero Jewellery Box Jewellery Vanity Jewel...",
          "Home Decor & Festive Needs >> Garden & Leisure",
          "Home Decor & Festive Needs >> Garden & Leisure >> Hammocks & Swings",
          "Home Decor & Festive Needs >> Garden & Leisure >> Hammocks & Swings >> Hammocks",
          "Home Decor & Festive Needs >> Garden & Leisure >> Hammocks & Swings >> Hammocks >> Rrsskids Hammocks",
          "Home Decor & Festive Needs >> Garden & Leisure >> Hammocks & Swings >> Hammocks >> Rrsskids Hammocks >> Rrsskids Swing King Cotton Hammock (White)",
          "Home Decor & Festive Needs >> Wall Decor & Clocks >> Wall Decals & Stickers >> Smart Wall Guru Wall Decals & Stickers >> Smart Wall Guru Large Adhesive Sticker Sticker (...",
          "Home Furnishing >> Cushions, Pillows & Covers >> Cushion Covers >> Ally The Creations Printed Cushions Cover (Pack ...",
          "Baby Care >> Feeding & Nursing >> Bibs & Hankies",
          "Baby Care >> Feeding & Nursing >> Bibs & Hankies >> Bibs",
          "Baby Care >> Feeding & Nursing >> Bibs & Hankies >> Bibs >> Cheeky Chompers Bibs",
          "Baby Care >> Feeding & Nursing >> Bibs & Hankies >> Bibs >> Cheeky Chompers Bibs >> Cheeky Chompers The Neckerchew - Simple Classic ...",
          "Baby Care >> Feeding & Nursing >> Bibs & Hankies >> Bibs >> Piyo Piyo Bibs",
          "Baby Care >> Feeding & Nursing >> Bibs & Hankies >> Bibs >> Piyo Piyo Bibs >> Piyo Piyo Four Stage Waterproof Bib (Yellow)",
          "Home Decor & Festive Needs >> Wall Decor & Clocks >> Wall Shelves >> Innovative Wall Shelves",
          "Home Decor & Festive Needs >> Wall Decor & Clocks >> Wall Shelves >> Innovative Wall Shelves >> Innovative Single Corner Stainless Steel Wall Sh...",
          "Baby Care >> Baby Grooming >> Boreal Baby Grooming",
          "Baby Care >> Baby Grooming >> Boreal Baby Grooming >> Boreal Plastic rectangular hair brush 633D",
          "Baby Care >> Infant Wear >> Baby Girls' Clothes >> Dresses & Skirts >> Dresses >> Pokizo Dresses",
          "Baby Care >> Infant Wear >> Baby Girls' Clothes >> Dresses & Skirts >> Dresses >> Pokizo Dresses >> Pokizo Baby Girl's A-line Dress",
          "Baby Care >> Infant Wear >> Baby Girls' Clothes >> Dresses & Skirts >> Dresses >> Titrit Dresses",
          "Baby Care >> Infant Wear >> Baby Girls' Clothes >> Dresses & Skirts >> Dresses >> Titrit Dresses >> Titrit Baby Girl's Gathered Dress",
          "Baby Care >> Infant Wear >> Baby Girls' Clothes >> Dresses & Skirts >> Dresses >> Young Birds Dresses",
          "Baby Care >> Infant Wear >> Baby Girls' Clothes >> Dresses & Skirts >> Dresses >> Young Birds Dresses >> Young Birds Baby Girl's Fit and Flare Dress",
          "Baby Care >> Infant Wear >> Baby Boys' Clothes >> Bodysuits & Sleepsuits >> Bodysuits >> FS Mini Klub Bodysuits",
          "Baby Care >> Infant Wear >> Baby Boys' Clothes >> Bodysuits & Sleepsuits >> Bodysuits >> FS Mini Klub Bodysuits >> FS Mini Klub Baby Boy's Bodysuit",
          "Baby Care >> Infant Wear >> Baby Boys' Clothes >> Bodysuits & Sleepsuits >> Bodysuits >> chota packet Bodysuits",
          "Baby Care >> Infant Wear >> Baby Boys' Clothes >> Bodysuits & Sleepsuits >> Bodysuits >> chota packet Bodysuits >> chota packet Baby Boy's, Baby Girl's Bodysuit",
          "Baby Care >> Infant Wear >> Baby Boys' Clothes >> Bodysuits & Sleepsuits >> Bodysuits >> You Got Plan B Bodysuits",
          "Baby Care >> Infant Wear >> Baby Boys' Clothes >> Bodysuits & Sleepsuits >> Bodysuits >> You Got Plan B Bodysuits >> You Got Plan B Baby Boy's, Baby Girl's Romper",
          "Baby Care >> Diapering & Potty Training >> Diaper Bags",
          "Baby Care >> Diapering & Potty Training >> Diaper Bags >> Mee Mee Diaper Bags",
          "Baby Care >> Diapering & Potty Training >> Diaper Bags >> Mee Mee Diaper Bags >> Mee Mee Multifunctional Nursery Diaper Bag (Dark...",
          "Baby Care >> Infant Wear >> Baby Girls' Clothes >> Leggings & Jeggings >> Zero Leggings & Jeggings",
          "Baby Care >> Infant Wear >> Baby Girls' Clothes >> Leggings & Jeggings >> Zero Leggings & Jeggings >> Zero Baby Girl's Leggings (Pack of 3)",
          "Baby Care >> Infant Wear >> Baby Boys' Clothes >> Suits and Blazers",
          "Baby Care >> Infant Wear >> Baby Boys' Clothes >> Suits and Blazers >> Blazers",
          "Baby Care >> Infant Wear >> Baby Boys' Clothes >> Suits and Blazers >> Blazers >> Oxolloxo Blazers",
          "Baby Care >> Infant Wear >> Baby Boys' Clothes >> Suits and Blazers >> Blazers >> Oxolloxo Blazers >> Oxolloxo Solid Single Breasted Casual Women's Bl...",
          "Home Decor & Festive Needs >> Decorative Lighting & Lamps >> Lanterns",
          "Home Decor & Festive Needs >> Decorative Lighting & Lamps >> Lanterns >> SHOPOJ Lanterns",
          "Home Decor & Festive Needs >> Decorative Lighting & Lamps >> Lanterns >> SHOPOJ Lanterns >> SHOPOJ Blue Paper Sky Lantern (80 cm X 34 cm, Pa...",
          "Home Furnishing >> Curtains & Accessories >> Curtains >> Ville Style Polyester Maroon Floral Eyelet Door ...",
          "Beauty and Personal Care >> Hair Care >> Hair Care Accessories >> Hair Accessories >> Sarah Hair Accessories",
          "Beauty and Personal Care >> Hair Care >> Hair Care Accessories >> Hair Accessories >> Sarah Hair Accessories >> Sarah Stylish Hair Claw (Brown)",
          "Kitchen & Dining >> Cookware >> Pots & Pans >> Cookware Pots",
          "Kitchen & Dining >> Cookware >> Pots & Pans >> Cookware Pots >> Wonderchef Cookware Pots",
          "Kitchen & Dining >> Cookware >> Pots & Pans >> Cookware Pots >> Wonderchef Cookware Pots >> Wonderchef Windsor Roaster 26cm Pot 3.4 L (Alumi...",
          "Baby Care >> Infant Wear >> Baby Girls' Clothes >> T-Shirts & Tops",
          "Baby Care >> Infant Wear >> Baby Girls' Clothes >> T-Shirts & Tops >> Shrugs",
          "Baby Care >> Infant Wear >> Baby Girls' Clothes >> T-Shirts & Tops >> Shrugs >> Kushies baby Shrugs",
          "Baby Care >> Infant Wear >> Baby Girls' Clothes >> T-Shirts & Tops >> Shrugs >> Kushies baby Shrugs >> Kushies baby Baby Girl's Shrug",
          "Baby Care >> Infant Wear >> Baby Girls' Clothes >> Dresses & Skirts >> Dresses >> Wow! Dresses",
          "Baby Care >> Infant Wear >> Baby Girls' Clothes >> Dresses & Skirts >> Dresses >> Wow! Dresses >> Wow! Baby Girl's Gathered Yellow Dress",
          "Baby Care >> Infant Wear >> Baby Girls' Clothes >> Innerwear & Sleepwear >> Night Suits >> CHOCOBERRY Night Suits",
          "Baby Care >> Infant Wear >> Baby Girls' Clothes >> Innerwear & Sleepwear >> Night Suits >> CHOCOBERRY Night Suits >> CHOCOBERRY Baby Girl's Printed White, Dark Blue ...",
          "Baby Care >> Infant Wear >> Baby Boys' Clothes >> Shorts & Trousers >> Shorts",
          "Baby Care >> Infant Wear >> Baby Boys' Clothes >> Shorts & Trousers >> Shorts >> Lilliput Shorts",
          "Baby Care >> Infant Wear >> Baby Boys' Clothes >> Shorts & Trousers >> Shorts >> Lilliput Shorts >> Lilliput Solid Baby Boy's Blue Cargo Shorts",
          "Baby Care >> Infant Wear >> Baby Girls' Clothes >> Dresses & Skirts >> Dresses >> Jacadi Paris Dresses",
          "Baby Care >> Infant Wear >> Baby Girls' Clothes >> Dresses & Skirts >> Dresses >> Jacadi Paris Dresses >> Jacadi Paris Baby Girl's Gathered Dark Blue Dress",
          "Baby Care >> Infant Wear >> Baby Girls' Clothes >> Dresses & Skirts >> Dresses >> Wow! Dresses >> Wow! Baby Girl's Gathered Pink Dress",
          "Baby Care >> Infant Wear >> Baby Girls' Clothes >> Dresses & Skirts >> Dresses >> Wow! Dresses >> Wow! Baby Girl's Gathered Red Dress",
          "Baby Care >> Infant Wear >> Baby Girls' Clothes >> Dresses & Skirts >> Dresses >> Jacadi Paris Dresses >> Jacadi Paris Baby Girl's Gathered Blue Dress",
          "Baby Care >> Infant Wear >> Baby Boys' Clothes >> Shorts & Trousers >> Shorts >> FS Mini Klub Shorts",
          "Baby Care >> Infant Wear >> Baby Boys' Clothes >> Shorts & Trousers >> Shorts >> FS Mini Klub Shorts >> FS Mini Klub Printed Baby Boy's Multicolor Basic...",
          "Kitchen & Dining >> Housekeeping & Laundry",
          "Kitchen & Dining >> Housekeeping & Laundry >> Home Cleaning",
          "Kitchen & Dining >> Housekeeping & Laundry >> Home Cleaning >> Brooms & Brushes",
          "Kitchen & Dining >> Housekeeping & Laundry >> Home Cleaning >> Brooms & Brushes >> Geol Brooms & Brushes",
          "Kitchen & Dining >> Housekeeping & Laundry >> Home Cleaning >> Brooms & Brushes >> Geol Brooms & Brushes >> Geol Wooden Wet and Dry Broom (Brown, Pack of 1)",
          "Computers >> Laptop Accessories >> Laptop Bags",
          "Computers >> Laptop Accessories >> Laptop Bags >> Sunlast Laptop Bags",
          "Computers >> Laptop Accessories >> Laptop Bags >> Sunlast Laptop Bags >> Sunlast 16 inch Laptop Backpack (Yellow)",
          "Baby Care >> Infant Wear >> Baby Girls' Clothes >> Innerwear & Sleepwear >> Night Suits >> NammaBaby Night Suits",
          "Baby Care >> Infant Wear >> Baby Girls' Clothes >> Innerwear & Sleepwear >> Night Suits >> NammaBaby Night Suits >> NammaBaby Baby Girl's Animal Print Top & Pyjama Set",
          "Baby Care >> Infant Wear >> Baby Girls' Clothes >> Innerwear & Sleepwear >> Night Suits >> Thakkar Night Suits",
          "Baby Care >> Infant Wear >> Baby Girls' Clothes >> Innerwear & Sleepwear >> Night Suits >> Thakkar Night Suits >> Thakkar Baby Girl's Printed Top & Pyjama Set",
          "Baby Care >> Infant Wear >> Baby Girls' Clothes >> Innerwear & Sleepwear >> Night Suits >> next steps Night Suits",
          "Baby Care >> Infant Wear >> Baby Girls' Clothes >> Innerwear & Sleepwear >> Night Suits >> next steps Night Suits >> next steps Baby Girl's Striped Top & Pyjama Set",
          "Computers >> Computer Components",
          "Computers >> Computer Components >> Processors",
          "Computers >> Computer Components >> Processors >> Intel Processors",
          "Computers >> Computer Components >> Processors >> Intel Processors >> Intel 3.2 GHz LGA 1150 3250 Processor (BLACK)",
          "Baby Care >> Infant Wear >> Baby Girls' Clothes >> Dresses & Skirts >> Dresses >> MKB Dresses >> MKB Baby Girl's Empire Waist Dress",
          "Baby Care >> Infant Wear >> Baby Girls' Clothes >> Dresses & Skirts >> Dresses >> NeedyBee Dresses",
          "Baby Care >> Infant Wear >> Baby Girls' Clothes >> Dresses & Skirts >> Dresses >> NeedyBee Dresses >> NeedyBee Baby Girl's Layered Dress",
          "Baby Care >> Infant Wear >> Baby Girls' Clothes >> Dresses & Skirts >> Dresses >> Seals Dresses",
          "Baby Care >> Infant Wear >> Baby Girls' Clothes >> Dresses & Skirts >> Dresses >> Seals Dresses >> Seals Baby Girl's A-line Dress",
          "Baby Care >> Infant Wear >> Baby Girls' Clothes >> Dresses & Skirts >> Dresses >> Chokree Dresses >> Chokree Baby Girl's A-line Dress",
          "Baby Care >> Infant Wear >> Baby Boys' Clothes >> Innerwear & Sleepwear",
          "Baby Care >> Infant Wear >> Baby Boys' Clothes >> Innerwear & Sleepwear >> Bloomers & Drawers",
          "Baby Care >> Infant Wear >> Baby Boys' Clothes >> Innerwear & Sleepwear >> Bloomers & Drawers >> Esteem Bloomers & Drawers",
          "Baby Care >> Infant Wear >> Baby Boys' Clothes >> Innerwear & Sleepwear >> Bloomers & Drawers >> Esteem Bloomers & Drawers >> Esteem Baby Boy's Drawer",
          "Home Decor & Festive Needs >> Wall Decor & Clocks >> Clocks",
          "Home Decor & Festive Needs >> Wall Decor & Clocks >> Clocks >> Wall Clocks",
          "Home Decor & Festive Needs >> Wall Decor & Clocks >> Clocks >> Wall Clocks >> KLOCX Wall Clocks",
          "Home Decor & Festive Needs >> Wall Decor & Clocks >> Clocks >> Wall Clocks >> KLOCX Wall Clocks >> KLOCX Analog Wall Clock (Black, With Glass)",
          "Baby Care >> Baby Bath & Skin >> Baby Bath Towels >> Marvel Baby Bath Towels",
          "Watches >> Wrist Watches >> Romex Wrist Watches",
          "Baby Care >> Baby Bath & Skin >> Baby Bath Towels >> The Intellect Bazaar Baby Bath Towels",
          "Baby Care >> Baby & Kids Gifts",
          "Baby Care >> Baby & Kids Gifts >> Photo Frames",
          "Baby Care >> Baby & Kids Gifts >> Photo Frames >> Wood Beauty Photo Frames",
          "Baby Care >> Baby Bath & Skin >> Baby Bath Towels >> BornBabyKids Baby Bath Towels",
          "Baby Care >> Feeding & Nursing >> Utensils",
          "Baby Care >> Feeding & Nursing >> Utensils >> Sippers & Cups",
          "Baby Care >> Feeding & Nursing >> Utensils >> Sippers & Cups >> Munchkin Sippers & Cups",
          "Home Decor & Festive Needs >> Wall Decor & Clocks >> Wall Decals & Stickers >> Creative Width Decor Wall Decals & Stickers",
          "Home Decor & Festive Needs >> Table Decor & Handicrafts >> Showpieces >> Religious Idols >> Divine Gifts & Artificial Jewellery Religious Idols",
          "Baby Care >> Feeding & Nursing >> Utensils >> Sippers & Cups >> Blue Bell Sippers & Cups",
          "Baby Care >> Baby Bath & Skin >> Baby Bath Towels >> Welhouse Baby Bath Towels",
          "Baby Care >> Infant Wear >> Baby Girls' Clothes >> Accessories",
          "Baby Care >> Infant Wear >> Baby Girls' Clothes >> Accessories >> Caps",
          "Baby Care >> Infant Wear >> Baby Girls' Clothes >> Accessories >> Caps >> Portia Caps",
          "Baby Care >> Infant Wear >> Baby Girls' Clothes >> Ethnic Wear >> Ethnic Sets",
          "Baby Care >> Infant Wear >> Baby Girls' Clothes >> Ethnic Wear >> Ethnic Sets >> RTD Ethnic Sets",
          "Kitchen & Dining >> Lighting >> Bulbs >> Ornate Bulbs",
          "Baby Care >> Baby Bath & Skin >> Baby Bath Towels >> Shrikant Traders Baby Bath Towels",
          "Baby Care >> Baby & Kids Gifts >> Photo Frames >> MH Photo Frames",
          "Kitchen & Dining >> Lighting >> Bulbs >> NIKsales Bulbs",
          "Baby Care >> Baby & Kids Gifts >> Photo Frames >> Indha Craft Photo Frames",
          "Kitchen & Dining >> Lighting >> Bulbs >> VRCT Bulbs",
          "Baby Care >> Baby Bath & Skin >> Baby Bath Towels >> BabyBucket Baby Bath Towels",
          "Kitchen & Dining >> Lighting >> Bulbs >> Simoco Bulbs",
          "Baby Care >> Baby Bath & Skin >> Baby Bath Towels >> Neyth Baby Bath Towels",
          "Home Decor & Festive Needs >> Table Decor & Handicrafts >> Showpieces >> Religious Idols >> AsiaCraft Religious Idols",
          "Kitchen & Dining >> Lighting >> Bulbs >> Soy Impulse Bulbs",
          "Baby Care >> Baby & Kids Gifts >> Photo Frames >> Cocovey Photo Frames",
          "Beauty and Personal Care >> Body and Skin Care >> Face Care",
          "Beauty and Personal Care >> Body and Skin Care >> Face Care >> Sunscreen",
          "Beauty and Personal Care >> Body and Skin Care >> Face Care >> Sunscreen >> VLCC Sunscreen",
          "Beauty and Personal Care >> Body and Skin Care >> Face Care >> Sunscreen >> Lotus Sunscreen",
          "Beauty and Personal Care >> Body and Skin Care >> Face Care >> Sunscreen >> Oshea Herbals Sunscreen",
          "Beauty and Personal Care >> Body and Skin Care >> Face Care >> Sunscreen >> Richfeel Sunscreen",
          "Beauty and Personal Care >> Body and Skin Care >> Face Care >> Sunscreen >> Keya Seth Sunscreen",
          "Beauty and Personal Care >> Body and Skin Care >> Face Care >> Sunscreen >> Jovees Sunscreen",
          "Beauty and Personal Care >> Body and Skin Care >> Face Care >> Sunscreen >> Whiteherbs Sunscreen",
          "Kitchen & Dining >> Lighting >> Bulbs >> Philips Bulbs",
          "Beauty and Personal Care >> Body and Skin Care >> Face Care >> Sunscreen >> Oriflame Sweden Sunscreen",
          "Beauty and Personal Care >> Body and Skin Care >> Face Care >> Sunscreen >> Aveeno Sunscreen",
          "Beauty and Personal Care >> Body and Skin Care >> Face Care >> Sunscreen >> La Roche-Posay Sunscreen",
          "Home Decor & Festive Needs >> Wall Decor & Clocks >> Paintings",
          "Home Decor & Festive Needs >> Wall Decor & Clocks >> Paintings >> Wallmantra Paintings",
          "Home Decor & Festive Needs >> Wall Decor & Clocks >> Paintings >> Tallenge Paintings",
          "Home Furnishing >> Kitchen & Dining Linen >> Table Placemats",
          "Home Furnishing >> Kitchen & Dining Linen >> Table Placemats >> Vgstore Rectangular Pack of 6 Table Placemat (Da...",
          "Home Decor & Festive Needs >> Showpieces >> Jaipur Raga Showpieces",
          "Home Decor & Festive Needs >> Table Decor & Handicrafts >> Showpieces >> Religious Idols >> Golmaalshop Religious Idols",
          "Baby Care >> Diapering & Potty Training >> Nappies & Cloth Diapers",
          "Baby Care >> Diapering & Potty Training >> Nappies & Cloth Diapers >> U & ME Nappies & Cloth Diapers",
          "Baby Care >> Diapering & Potty Training >> Nappies & Cloth Diapers >> MyKid Nappies & Cloth Diapers",
          "Baby Care >> Diapering & Potty Training >> Nappies & Cloth Diapers >> Pompom Sweethearts Nappies & Cloth Diapers",
          "Home Furnishing >> Kitchen & Dining Linen >> Table Runners",
          "Home Decor & Festive Needs >> Table Decor & Handicrafts >> Showpieces >> Religious Idols >> Craftartz Religious Idols",
          "Baby Care >> Diapering & Potty Training >> Nappies & Cloth Diapers >> HoA Nappies & Cloth Diapers",
          "Home Decor & Festive Needs >> Table Decor & Handicrafts >> Showpieces >> Religious Idols >> Gift Studios Religious Idols",
          "Home Decor & Festive Needs >> Decorative Lighting & Lamps >> Series Lights",
          "Home Decor & Festive Needs >> Decorative Lighting & Lamps >> Series Lights >> VRCT Series Lights",
          "Home Decor & Festive Needs >> Decorative Lighting & Lamps >> Series Lights >> VRCT Series Lights >> VRCT 196 inch Green Rice Lights (Pack of 1)",
          "Beauty and Personal Care >> Makeup >> Lips >> Lipsticks",
          "Beauty and Personal Care >> Makeup >> Lips >> Lipsticks >> Foolzy Lipsticks",
          "Home Furnishing >> Kitchen & Dining Linen >> Kitchen Linen Sets >> Tidy Kitchen Linen Sets",
          "Home Furnishing >> Kitchen & Dining Linen >> Kitchen Linen Sets >> Tidy Kitchen Linen Sets >> Tidy Green Cotton Kitchen Linen Set (Pack of 3)",
          "Baby Care >> Infant Wear >> Baby Boys' Clothes >> Bodysuits & Sleepsuits >> Bodysuits >> Sonpra Bodysuits",
          "Computers >> Computer Peripherals >> Printers & Inks >> Toners >> Canon Toners",
          "Home Decor & Festive Needs >> Table Decor & Handicrafts >> Showpieces >> Religious Idols >> Radhika's World of Crafts Religious Idols",
          "Beauty and Personal Care >> Bath and Spa >> Bath and Spa Accessories",
          "Beauty and Personal Care >> Bath and Spa >> Bath and Spa Accessories >> Loofahs",
          "Beauty and Personal Care >> Bath and Spa >> Bath and Spa Accessories >> Loofahs >> AntiqueShop Loofahs",
          "Beauty and Personal Care >> Bath and Spa >> Bath and Spa Accessories >> Loofahs >> AntiqueShop Loofahs >> AntiqueShop ABKL_GRN_GRN_GRN",
          "Beauty and Personal Care >> Bath and Spa >> Bath and Spa Accessories >> Loofahs >> AntiqueShop Loofahs >> AntiqueShop ABKL_PL_PNK_PNK",
          "Beauty and Personal Care >> Bath and Spa >> Bath and Spa Accessories >> Loofahs >> AntiqueShop Loofahs >> AntiqueShop ABKL_PL_PL_PNK",
          "Home Decor & Festive Needs >> Religion & Devotion",
          "Home Decor & Festive Needs >> Religion & Devotion >> brass gift center Religion & Devotion",
          "Home Decor & Festive Needs >> Religion & Devotion >> brass gift center Religion & Devotion >> brass gift center Showpiece  -  48 cm (Brass, Mu...",
          "Kitchen & Dining >> Dinnerware & Crockery",
          "Kitchen & Dining >> Dinnerware & Crockery >> Cups & Saucers",
          "Kitchen & Dining >> Dinnerware & Crockery >> Cups & Saucers >> Buyer's Beach Cups & Saucers",
          "Kitchen & Dining >> Dinnerware & Crockery >> Cups & Saucers >> Buyer's Beach Cups & Saucers >> Buyer's Beach BB349 (Brown)",
          "Computers >> Laptop Accessories >> Anti Dust Plugs",
          "Computers >> Laptop Accessories >> Anti Dust Plugs >> Pindia Anti Dust Plugs",
          "Watches >> Wrist Watches >> Fogg Fashion Store Wrist Watches",
          "Kitchen & Dining >> Containers & Bottles >> Bottles & Sippers >> Water bottle >> Nutcase Water bottle",
          "Beauty and Personal Care >> Combos and Kits >> Mxofere Combos and Kits",
          "Watches >> Wrist Watches >> SVM Wrist Watches",
          "Watches >> Wrist Watches >> Fighter Wrist Watches",
          "Watches >> Wrist Watches >> Luba Wrist Watches",
          "Watches >> Wrist Watches >> Perucci Wrist Watches",
          "Watches >> Wrist Watches >> Chappin & Nellson Wrist Watches",
          "Beauty and Personal Care >> Combos and Kits >> Oxyglow Combos and Kits",
          "Watches >> Wrist Watches >> Xemex Wrist Watches",
          "Baby Care >> Baby Bedding >> Baby Blankets",
          "Baby Care >> Baby Bedding >> Baby Blankets >> Offspring Baby Blankets",
          "Baby Care >> Baby Bedding >> Baby Blankets >> Ireeya Baby Blankets",
          "Baby Care >> Baby Bedding >> Baby Blankets >> Carter'S Baby Blankets",
          "Baby Care >> Baby Bedding >> Baby Blankets >> My NewBorn Baby Blankets",
          "Watches >> Wrist Watches >> RRTC Wrist Watches",
          "Baby Care >> Feeding & Nursing >> Utensils >> Baby Spoons & Forks",
          "Baby Care >> Feeding & Nursing >> Utensils >> Baby Spoons & Forks >> Funcart Baby Spoons & Forks",
          "Baby Care >> Feeding & Nursing >> Utensils >> Baby Spoons & Forks >> EZ Life Baby Spoons & Forks",
          "Baby Care >> Baby Bath & Skin >> Baby Bath Towels >> Love Baby Baby Bath Towels",
          "Watches >> Wrist Watches >> LUBA Wrist Watches",
          "Beauty and Personal Care >> Eye Care",
          "Beauty and Personal Care >> Eye Care >> Wild Ferns Eye Care",
          "Baby Care >> Diapering & Potty Training >> Nappies & Cloth Diapers >> Ollington St. Collection Nappies & Cloth Diapers",
          "Watches >> Wrist Watches >> Rana Watches Wrist Watches",
          "Watches >> Wrist Watches >> R.S Wrist Watches",
          "Computers >> Laptop Accessories >> Adapters >> Lapguard Adapters",
          "Computers >> Laptop Accessories >> Adapters >> Rega IT Adapters",
          "Home Decor & Festive Needs >> Wall Decor & Clocks >> Clocks >> Wall Clocks >> Regent Wall Clocks",
          "Home Decor & Festive Needs >> Wall Decor & Clocks >> Clocks >> Wall Clocks >> eCraftIndia Wall Clocks",
          "Home Decor & Festive Needs >> Showpiece >> Bharatcraft Showpiece",
          "Home Decor & Festive Needs >> Showpiece >> Bharatcraft Showpiece >> Bharatcraft Wall Hanging Of Lord Ganesha On A Cr...",
          "Watches >> Wrist Watches >> Firstrace Wrist Watches",
          "Watches >> Wrist Watches >> CB Fashion Wrist Watches",
          "Watches >> Wrist Watches >> Timex Wrist Watches",
          "Computers >> Laptop Accessories >> USB Gadgets >> Casotec USB Gadgets",
          "Computers >> Laptop Accessories >> USB Gadgets >> Fonokase USB Gadgets",
          "Computers >> Laptop Accessories >> USB Gadgets >> Memore USB Gadgets",
          "Computers >> Laptop Accessories >> USB Gadgets >> Orico USB Gadgets",
          "Computers >> Laptop Accessories >> USB Gadgets >> Bigkik USB Gadgets",
          "Computers >> Laptop Accessories >> USB Gadgets >> Tapawire USB Gadgets",
          "Computers >> Laptop Accessories >> USB Gadgets >> Crystle USB Gadgets",
          "Computers >> Laptop Accessories >> USB Gadgets >> Amaze Fashion USB Gadgets",
          "Computers >> Laptop Accessories >> USB Gadgets >> RRP USB Gadgets",
          "Computers >> Laptop Accessories >> USB Gadgets >> Techone+ USB Gadgets",
          "Computers >> Laptop Accessories >> USB Gadgets >> Himtek USB Gadgets",
          "Computers >> Laptop Accessories >> USB Gadgets >> KLIQVIK USB Gadgets",
          "Computers >> Laptop Accessories >> USB Gadgets >> Epresent USB Gadgets",
          "Computers >> Laptop Accessories >> USB Gadgets >> Task Logistics USB Gadgets",
          "Baby Care >> Infant Wear >> Baby Girls' Clothes >> Shorts & Trousers >> Trousers",
          "Baby Care >> Infant Wear >> Baby Girls' Clothes >> Shorts & Trousers >> Trousers >> Feetje Trousers",
          "Computers >> Laptop Accessories >> USB Gadgets >> LUV USB Gadgets",
          "Computers >> Laptop Accessories >> USB Gadgets >> Rock USB Gadgets",
          "Computers >> Laptop Accessories >> USB Gadgets >> Generix USB Gadgets",
          "Computers >> Laptop Accessories >> USB Gadgets >> QP360 USB Gadgets",
          "Computers >> Laptop Accessories >> USB Gadgets >> Zaicus USB Gadgets",
          "Computers >> Laptop Accessories >> USB Gadgets >> Akshaj USB Gadgets",
          "Computers >> Laptop Accessories >> USB Gadgets >> Lifestyle-You USB Gadgets",
          "Computers >> Laptop Accessories >> USB Gadgets >> 99Gems USB Gadgets",
          "Computers >> Laptop Accessories >> USB Gadgets >> De TechInn USB Gadgets",
          "Computers >> Laptop Accessories >> USB Gadgets >> Dizionario USB Gadgets",
          "Computers >> Laptop Accessories >> USB Gadgets >> Kensington USB Gadgets",
          "Computers >> Laptop Accessories >> Batteries >> RCE Batteries",
          "Baby Care >> Infant Wear >> Baby Girls' Clothes >> Combo Sets",
          "Baby Care >> Infant Wear >> Baby Girls' Clothes >> Combo Sets >> kawal fashion Combo Sets",
          "Baby Care >> Infant Wear >> Baby Girls' Clothes >> Combo Sets >> kawal fashion Combo Sets >> kawal fashion Pyjama Baby Girl's  Combo",
          "Beauty and Personal Care >> Men's Grooming",
          "Beauty and Personal Care >> Men's Grooming >> Sivanna Men's Grooming",
          "Beauty and Personal Care >> Men's Grooming >> Sivanna Men's Grooming >> Sivanna Baking Powder Rouge  Highlighter (Dark p...",
          "Baby Care >> Infant Wear >> Baby Girls' Clothes >> Bodysuits & Sleepsuits >> Bodysuits",
          "Baby Care >> Infant Wear >> Baby Girls' Clothes >> Bodysuits & Sleepsuits >> Bodysuits >> Lula Bodysuits",
          "Baby Care >> Infant Wear >> Baby Girls' Clothes >> Bodysuits & Sleepsuits >> Bodysuits >> Lula Bodysuits >> Lula Baby Girl's Dark Blue Bodysuit",
          "Home Furnishing >> Bath Linen >> Towels",
          "Baby Care >> Baby Grooming >> Baby Massage Oils",
          "Baby Care >> Baby Grooming >> Baby Massage Oils >> Shagun Gold Baby Massage Oils",
          "Beauty and Personal Care >> Bath and Spa >> Body and Essential Oils >> SSCP Body and Essential Oils",
          "Baby Care >> Furniture & Furnishings >> Inflatable Products >> Intex Inflatable Products",
          "Beauty and Personal Care >> Health Care >> Health Care Accessories",
          "Beauty and Personal Care >> Health Care >> Health Care Accessories >> Health Care Accessories",
          "Beauty and Personal Care >> Health Care >> Health Care Accessories >> Health Care Accessories >> KDS SURGICAL Health Care Accessories",
          "Beauty and Personal Care >> Health Care >> Health Care Accessories >> Health Care Accessories >> KDS SURGICAL Health Care Accessories >> KDS SURGICAL Tripod Walking Stick",
          "Home Decor & Festive Needs >> Showpiece >> Contemporary >> Bharatcraft Contemporary",
          "Home Decor & Festive Needs >> Showpiece >> Contemporary >> Bharatcraft Contemporary >> Bharatcraft Showpiece  -  5 cm (Polyresin, Brown)",
          "Beauty and Personal Care >> Hair Care >> Hair Colors >> Loreal Hair Colors",
          "Beauty and Personal Care >> Hair Care >> Hair Colors >> Loreal Hair Colors >> Loreal Diarichesse No- 5 Light Brown ( Pack of 3...",
          "Home Decor & Festive Needs >> Flowers, Plants & Vases >> Flower Vase >> @home Flower Vase >> @home Earthy Wine Net Ceramic Vase (9.8250000000...",
          "Kitchen & Dining >> Tableware & Cutlery >> Jugs & Pitchers",
          "Kitchen & Dining >> Tableware & Cutlery >> Jugs & Pitchers >> Jugs",
          "Kitchen & Dining >> Tableware & Cutlery >> Jugs & Pitchers >> Jugs >> Prisha India Craft Jugs",
          "Kitchen & Dining >> Tableware & Cutlery >> Jugs & Pitchers >> Jugs >> Prisha India Craft Jugs >> Prisha India Craft m_jug015-1-prishaindia Water ...",
          "Home Decor & Festive Needs >> Wall Decor & Clocks >> Paintings >> BRANDWAGON Paintings",
          "Home Decor & Festive Needs >> Wall Decor & Clocks >> Paintings >> BRANDWAGON Paintings >> BRANDWAGON DIGIPRINT Digital Reprint Painting (1...",
          "Baby Care >> Baby Bedding >> Baby Blankets >> Relaxfeel Baby Blankets",
          "Baby Care >> Baby Bedding >> Baby Blankets >> Relaxfeel Baby Blankets >> Relaxfeel Floral Single Dohar White (AC Dohar)",
          "Home Decor & Festive Needs >> Wall Decor & Clocks >> Posters",
          "Home Decor & Festive Needs >> Wall Decor & Clocks >> Posters >> STYLE CLUES FASHION Posters",
          "Home Decor & Festive Needs >> Wall Decor & Clocks >> Posters >> STYLE CLUES FASHION Posters >> scarlet tanager bird normal POSTER Paper Print (...",
          "Home Decor & Festive Needs >> Wall Decor & Clocks >> Posters >> Mega product Posters",
          "Home Decor & Festive Needs >> Wall Decor & Clocks >> Posters >> Mega product Posters >> good-night-angel-sleep-well-pics Paper Print (18...",
          "Baby Care >> Infant Wear >> Baby Boys' Clothes >> Shirts",
          "Baby Care >> Infant Wear >> Baby Boys' Clothes >> Shirts >> Fs Mini Klub Shirts",
          "Baby Care >> Infant Wear >> Baby Boys' Clothes >> Shirts >> Fs Mini Klub Shirts >> Fs Mini Klub Baby Boy's Woven Casual Shirt",
          "Baby Care >> Infant Wear >> Baby Boys' Clothes >> Shirts >> Cotton On Kids Shirts",
          "Baby Care >> Infant Wear >> Baby Boys' Clothes >> Shirts >> Cotton On Kids Shirts >> Cotton On Kids Baby Boy's Printed Casual Shirt",
          "Baby Care >> Infant Wear >> Baby Girls' Clothes >> Accessories >> Hats",
          "Baby Care >> Infant Wear >> Baby Girls' Clothes >> Accessories >> Hats >> Portia Hats",
          "Baby Care >> Infant Wear >> Baby Girls' Clothes >> Accessories >> Hats >> Portia Hats >> Portia Hat (Pink, Pack of 1)",
          "Baby Care >> Infant Wear >> Baby Boys' Clothes >> Shirts >> Beebay Shirts",
          "Baby Care >> Infant Wear >> Baby Boys' Clothes >> Shirts >> Beebay Shirts >> Beebay Baby Boy's Checkered Casual Shirt",
          "Home Decor & Festive Needs >> Wall Decor & Clocks >> Posters >> Shoperite Posters",
          "Home Decor & Festive Needs >> Wall Decor & Clocks >> Posters >> Shoperite Posters >> painting_art_couple_love__Dance Paper Print (12 ...",
          "Home Decor & Festive Needs >> Wall Decor & Clocks >> Posters >> Urban Monk Posters",
          "Home Decor & Festive Needs >> Wall Decor & Clocks >> Posters >> Urban Monk Posters >> Bourne Supermacy Canvas Art (18 inch X 12 inch, ...",
          "Watches >> Clocks",
          "Watches >> Clocks >> Table Clocks",
          "Watches >> Clocks >> Table Clocks >> Like Table Clocks",
          "Watches >> Clocks >> Table Clocks >> Like Table Clocks >> Like Analog Purple Clock",
          "Baby Care >> Infant Wear >> Baby Boys' Clothes >> Shirts >> 612 League Shirts",
          "Baby Care >> Infant Wear >> Baby Boys' Clothes >> Shirts >> 612 League Shirts >> 612 League Baby Boy's Checkered Casual Shirt",
          "Baby Care >> Infant Wear >> Baby Boys' Clothes >> Shirts >> FS Mini Klub Shirts",
          "Baby Care >> Infant Wear >> Baby Boys' Clothes >> Shirts >> FS Mini Klub Shirts >> FS Mini Klub Baby Boy's Woven Casual Shirt",
          "Home Decor & Festive Needs >> Wall Decor & Clocks >> Wallpapers",
          "Home Decor & Festive Needs >> Wall Decor & Clocks >> Wallpapers >> wallskart Wallpapers",
          "Home Decor & Festive Needs >> Wall Decor & Clocks >> Wallpapers >> wallskart Wallpapers >> wallskart Floral & Botanical Wallpaper (35.56 cm...",
          "Home Decor & Festive Needs >> Decorative Lighting & Lamps >> Series Lights >> Megaway Series Lights",
          "Home Decor & Festive Needs >> Table Decor & Handicrafts >> Showpieces >> Religious Idols >> Anjalika Religious Idols",
          "Home Decor & Festive Needs >> Decorative Lighting & Lamps >> Series Lights >> Digilight Series Lights",
          "Home Decor & Festive Needs >> Table Decor & Handicrafts >> Showpieces >> Religious Idols >> Agrasen International Religious Idols",
          "Home Decor & Festive Needs >> Decorative Lighting & Lamps >> Series Lights >> Pinc Ginger Series Lights",
          "Beauty and Personal Care >> Makeup >> Lips >> Lipsticks >> Elfani Lipsticks",
          "Home Decor & Festive Needs >> Decorative Lighting & Lamps >> Series Lights >> Home Delight Series Lights",
          "Home Decor & Festive Needs >> Showpieces >> Adaa Showpieces",
          "Home Decor & Festive Needs >> Table Decor & Handicrafts >> Showpieces >> Religious Idols >> Utsav Handicraft Religious Idols",
          "Beauty and Personal Care >> Makeup >> Lips >> Lipsticks >> Incolor Lipsticks",
          "Home Decor & Festive Needs >> Decorative Lighting & Lamps >> Series Lights >> My Party Suppliers Series Lights",
          "Home Decor & Festive Needs >> Decorative Lighting & Lamps >> Series Lights >> GrandShop Series Lights",
          "Home Decor & Festive Needs >> Showpieces >> eCraftIndia Showpieces",
          "Home Decor & Festive Needs >> Table Decor & Handicrafts >> Table Decor >> Hookah & Hookah Flavours >> Hookah Flavors",
          "Home Decor & Festive Needs >> Table Decor & Handicrafts >> Table Decor >> Hookah & Hookah Flavours >> Hookah Flavors >> Al Fakher Hookah Flavors",
          "Home Decor & Festive Needs >> Decorative Lighting & Lamps >> Series Lights >> Weldecor Series Lights",
          "Beauty and Personal Care >> Makeup >> Lips >> Lipsticks >> Organistick Lipsticks",
          "Home Decor & Festive Needs >> Table Decor & Handicrafts >> Showpieces >> Religious Idols >> Eshoppee Religious Idols",
          "Home Decor & Festive Needs >> Table Decor & Handicrafts >> Table Decor >> Hookah & Hookah Flavours >> Hookah Flavors >> Arabian Nights Hookah Flavors",
          "Home Decor & Festive Needs >> Religion & Devotion >> Shankh",
          "Home Decor & Festive Needs >> Religion & Devotion >> Shankh >> The Art Treasure Shankh",
          "Kitchen & Dining >> Tableware & Cutlery >> Cutlery",
          "Kitchen & Dining >> Tableware & Cutlery >> Cutlery >> Forks",
          "Kitchen & Dining >> Tableware & Cutlery >> Cutlery >> Forks >> Bhalaria Forks",
          "Kitchen & Dining >> Tableware & Cutlery >> Cutlery >> Forks >> Bhalaria Forks >> Bhalaria Dessert Fork Stainless Steel Dessert Fo...",
          "Home Decor & Festive Needs >> Decorative Lighting & Lamps >> Floor Lamp",
          "Home Decor & Festive Needs >> Decorative Lighting & Lamps >> Floor Lamp >> Nutcase Floor Lamp",
          "Home Decor & Festive Needs >> Decorative Lighting & Lamps >> Floor Lamp >> Nutcase Floor Lamp >> Nutcase Multicolor Column Floor Lamp (31 cm)",
          "Home Furnishing >> Floor Coverings",
          "Home Furnishing >> Floor Coverings >> Carpets & Rugs",
          "Home Furnishing >> Floor Coverings >> Carpets & Rugs >> M S Rugs Pink, Blue Wool Dhurrie (120 cm  X 180 cm)",
          "Home Furnishing >> Floor Coverings >> Carpets & Rugs >> GIMS Brown Viscose Carpet (165 cm  X 120 cm)",
          "Home Furnishing >> Kitchen & Dining Linen >> Kitchen Linen Sets >> Cotonex Beige Cotton Kitchen Linen Set (Pack of 2)",
          "Home Furnishing >> Floor Coverings >> Carpets & Rugs >> FURNISHINGLAND Green Silk Carpet (60 cm  X 180 cm)",
          "Home Furnishing >> Floor Coverings >> Carpets & Rugs >> FURNISHINGLAND Black Polyester Carpet (90 cm  X ...",
          "Home Furnishing >> Floor Coverings >> Carpets & Rugs >> loomkart Blue Polyester Runner (55 cm  X 147 cm)",
          "Home Furnishing >> Floor Coverings >> Carpets & Rugs >> FURNISHINGLAND Maroon Silk Carpet (60 cm  X 180 cm)",
          "Beauty and Personal Care >> Body and Skin Care >> Lip Care",
          "Beauty and Personal Care >> Body and Skin Care >> Lip Care >> Lip Creams",
          "Beauty and Personal Care >> Body and Skin Care >> Lip Care >> Lip Creams >> NYX Lip Creams",
          "Beauty and Personal Care >> Body and Skin Care >> Lip Care >> Lip Creams >> NYX Lip Creams >> NYX Set Of 2 Soft Matte Lip Cream 06,22 (Multi c...",
          "Kitchen & Dining >> Kitchen Tools >> Kitchen Implements >> Kitchen Scissors",
          "Kitchen & Dining >> Kitchen Tools >> Kitchen Implements >> Kitchen Scissors >> Checkered Chef Kitchen Scissors",
          "Kitchen & Dining >> Kitchen Tools >> Kitchen Implements >> Kitchen Scissors >> Checkered Chef Kitchen Scissors >> Checkered Chef Steel All-Purpose Scissor (Red, B...",
          "Baby Care >> Baby Bedding >> Baby Bedsheets",
          "Baby Care >> Baby Bedding >> Baby Bedsheets >> Mahadev Handicrafts Baby Bedsheets",
          "Baby Care >> Baby Bedding >> Baby Bedsheets >> Mahadev Handicrafts Baby Bedsheets >> Mahadev Handicrafts Cotton Cartoon Double Bedshe...",
          "Baby Care >> Baby Bedding >> Baby Bedsheets >> Sparklings Baby Bedsheets",
          "Baby Care >> Baby Bedding >> Baby Bedsheets >> Sparklings Baby Bedsheets >> Sparklings Cotton Checkered Double Bedsheet (dou...",
          "Home Furnishing >> Living >> Sofa Covers >> Swastik Sofa Covers",
          "Home Furnishing >> Living >> Sofa Covers >> Swastik Sofa Covers >> Swastik Velvet Sofa Cover (Multicolor Pack of 10)",
          "Baby Care >> Baby Bedding >> Baby Bedsheets >> Bela Home Baby Bedsheets",
          "Baby Care >> Baby Bedding >> Baby Bedsheets >> Bela Home Baby Bedsheets >> Bela Home Cotton Cartoon Single Bedsheet (1 Sing...",
          "Baby Care >> Baby Bedding >> Baby Bedsheets >> Sparklings Baby Bedsheets >> Sparklings Cotton Geometric Double Bedsheet (dou...",
          "Baby Care >> Infant Wear >> Baby Boys' Clothes >> Shirts >> CALCULUS Shirts",
          "Baby Care >> Infant Wear >> Baby Boys' Clothes >> Shirts >> CALCULUS Shirts >> CALCULUS Baby Boy's Printed Casual Beige Shirt",
          "Home Decor & Festive Needs >> Showpiece >> Gramophones",
          "Home Decor & Festive Needs >> Showpiece >> Gramophones >> ROYLE KATOCH Gramophones",
          "Home Decor & Festive Needs >> Showpiece >> Gramophones >> ROYLE KATOCH Gramophones >> ROYLE KATOCH Showpiece  -  24 cm (Crystal, Woode...",
          "Home Decor & Festive Needs >> Religion & Devotion >> Jaycoknit Religion & Devotion",
          "Home Decor & Festive Needs >> Religion & Devotion >> Jaycoknit Religion & Devotion >> Jaycoknit Mediterranean Sea's Lucky Wooden Handc...",
          "Baby Care >> Infant Wear >> Baby Boys' Clothes >> Shirts >> Jacadi paris Shirts",
          "Baby Care >> Infant Wear >> Baby Boys' Clothes >> Shirts >> Jacadi paris Shirts >> Jacadi paris Baby Boy's Striped Casual Blue Shirt",
          "Beauty and Personal Care >> Beauty Accessories",
          "Beauty and Personal Care >> Beauty Accessories >> Makeup Accessories",
          "Beauty and Personal Care >> Beauty Accessories >> Makeup Accessories >> Brushes and Applicators",
          "Beauty and Personal Care >> Beauty Accessories >> Makeup Accessories >> Brushes and Applicators >> LOTTIE LONDON Brushes and Applicators",
          "Beauty and Personal Care >> Beauty Accessories >> Makeup Accessories >> Brushes and Applicators >> LOTTIE LONDON Brushes and Applicators >> LOTTIE LONDON MAKE ME BLUSH (Pack of 1)",
          "Baby Care >> Infant Wear >> Baby Girls' Clothes >> Bodysuits & Sleepsuits >> Bodysuits >> FS Mini Klub Bodysuits",
          "Baby Care >> Infant Wear >> Baby Girls' Clothes >> Bodysuits & Sleepsuits >> Bodysuits >> FS Mini Klub Bodysuits >> FS Mini Klub Baby Girl's Bodysuit",
          "Kitchen & Dining >> Kitchen Tools >> Choppers & Peelers",
          "Kitchen & Dining >> Kitchen Tools >> Choppers & Peelers >> Graters & Slicers",
          "Kitchen & Dining >> Kitchen Tools >> Choppers & Peelers >> Graters & Slicers >> Deep Graters & Slicers",
          "Kitchen & Dining >> Kitchen Tools >> Choppers & Peelers >> Graters & Slicers >> Deep Graters & Slicers >> Deep kitchen press Steel Grater and Slicer (Stee...",
          "Baby Care >> Infant Wear >> Baby Boys' Clothes >> Polos & T-Shirts >> dongli Polos & T-Shirts",
          "Baby Care >> Infant Wear >> Baby Boys' Clothes >> Polos & T-Shirts >> dongli Polos & T-Shirts >> dongli Striped Baby Boy's Polo Neck T-Shirt (Pac...",
          "Baby Care >> Infant Wear >> Baby Boys' Clothes >> Polos & T-Shirts >> Fs Mini Klub Polos & T-Shirts",
          "Baby Care >> Infant Wear >> Baby Boys' Clothes >> Polos & T-Shirts >> Fs Mini Klub Polos & T-Shirts >> Fs Mini Klub Printed Baby Boy's Round Neck T-Shirt",
          "Baby Care >> Infant Wear >> Baby Girls' Clothes >> Ethnic Wear >> Salwar Kurta Dupattas >> Aarika Salwar Kurta Dupattas",
          "Baby Care >> Infant Wear >> Baby Girls' Clothes >> Ethnic Wear >> Salwar Kurta Dupattas >> Aarika Salwar Kurta Dupattas >> Aarika Self Design Kurta & Patiyala",
          "Baby Care >> Infant Wear >> Baby Boys' Clothes >> Polos & T-Shirts >> Rishan Polos & T-Shirts",
          "Baby Care >> Infant Wear >> Baby Boys' Clothes >> Polos & T-Shirts >> Rishan Polos & T-Shirts >> Rishan Printed Baby Boy's V-neck T-Shirt",
          "Baby Care >> Infant Wear >> Baby Boys' Clothes >> Polos & T-Shirts >> YK Polos & T-Shirts",
          "Baby Care >> Infant Wear >> Baby Boys' Clothes >> Polos & T-Shirts >> YK Polos & T-Shirts >> YK Striped Baby Boy's Round Neck T-Shirt",
          "Home Decor & Festive Needs >> Table Decor & Handicrafts >> Showpieces >> Human Figurines >> Art Godaam Human Figurines",
          "Beauty and Personal Care >> Makeup >> Vanity Boxes >> Artist Haat Vanity Boxes",
          "Home Decor & Festive Needs >> Showpieces >> Vedic Deals Showpieces",
          "Home Decor & Festive Needs >> Table Decor & Handicrafts >> Showpieces >> Human Figurines >> Hand Art Human Figurines",
          "Beauty and Personal Care >> Makeup >> Vanity Boxes >> Craftuno Vanity Boxes",
          "Home Decor & Festive Needs >> Table Decor & Handicrafts >> Showpieces >> Human Figurines >> Kaatru Human Figurines",
          "Baby Care >> Infant Wear >> Baby Girls' Clothes >> Shorts & Trousers >> Trousers >> CoffeeBean Trousers",
          "Baby Care >> Infant Wear >> Baby Girls' Clothes >> Shorts & Trousers >> Trousers >> CoffeeBean Trousers >> CoffeeBean Regular Fit Baby Girl's Pink Trousers",
          "Kitchen & Dining >> Bar & Glassware >> Bar Accessories >> Cork Screws",
          "Kitchen & Dining >> Bar & Glassware >> Bar Accessories >> Cork Screws >> Seven Seas Cork Screws",
          "Kitchen & Dining >> Bar & Glassware >> Bar Accessories >> Cork Screws >> Pedrini Cork Screws",
          "Kitchen & Dining >> Coffee Mugs >> AM Creation Coffee Mugs",
          "Kitchen & Dining >> Coffee Mugs >> AM Creation Coffee Mugs >> AM Creation Magic  Ceramic Mug (273 ml, Pack of 2)",
          "Baby Care >> Baby Bath & Skin >> Baby Body Wash",
          "Baby Care >> Baby Bath & Skin >> Baby Body Wash >> TRESemme Baby Body Wash",
          "Baby Care >> Baby Bath & Skin >> Baby Body Wash >> TRESemme Baby Body Wash >> TRESemme Naturals Vibrantly Smooth Shampoo (591)",
          "Baby Care >> Baby Bath & Skin >> Baby Body Wash >> L Oreal Baby Body Wash",
          "Baby Care >> Baby Bath & Skin >> Baby Body Wash >> L Oreal Baby Body Wash >> L Oreal Eversleek Sulfate - Free Smoothing Syste...",
          "Home Decor & Festive Needs >> Table Decor & Handicrafts >> Showpieces >> Religious Idols >> CTW Religious Idols",
          "Home Decor & Festive Needs >> Table Decor & Handicrafts >> Showpieces >> Religious Idols >> CTW Religious Idols >> CTW Ganpati Bapa Moriya Statue Showpiece  -  12 ...",
          "Kitchen & Dining >> Coffee Mugs >> Happiness Is Coffee Mugs",
          "Kitchen & Dining >> Coffee Mugs >> Happiness Is Coffee Mugs >> Happiness Is Printed Bone China Mug (300 ml)",
          "Home Furnishing >> Living >> Sofa Covers >> Balaji Velvet Sofa Cover (Brown Pack of 6)",
          "Kitchen & Dining >> Containers & Bottles >> Containers & Jars",
          "Kitchen & Dining >> Containers & Bottles >> Containers & Jars >> Kitchen Containers",
          "Kitchen & Dining >> Containers & Bottles >> Containers & Jars >> Kitchen Containers >> Lock&Lock Kitchen Containers",
          "Kitchen & Dining >> Containers & Bottles >> Containers & Jars >> Kitchen Containers >> Lock&Lock Kitchen Containers >> Lock&Lock Kitchen  - 5.5 L Polypropylene Multi-p...",
          "Baby Care >> Infant Wear >> Baby Girls' Clothes >> Bodysuits & Sleepsuits >> Bodysuits >> Mom & Me Bodysuits",
          "Baby Care >> Infant Wear >> Baby Girls' Clothes >> Bodysuits & Sleepsuits >> Bodysuits >> Mom & Me Bodysuits >> Mom & Me Baby Girl's Bodysuit",
          "Computers >> Laptop Accessories >> USB Gadgets >> APOLLO+ USB Gadgets",
          "Computers >> Laptop Accessories >> USB Gadgets >> APOLLO+ USB Gadgets >> APOLLO+ Pack Of 3 Flexible Led Light (Multicolour)",
          "Kitchen & Dining >> Coffee Mugs >> HuppmeGift Coffee Mugs",
          "Kitchen & Dining >> Coffee Mugs >> HuppmeGift Coffee Mugs >> HuppmeGift Happy Birthday Navneet Inner Red Cera...",
          "Baby Care >> Baby & Kids Gifts >> Decorations",
          "Baby Care >> Baby & Kids Gifts >> Decorations >> Doraemon Gift Family Ceramic Coffee Mug Decorations",
          "Baby Care >> Baby & Kids Gifts >> Decorations >> Doraemon Gift Family Ceramic Coffee Mug Decorations >> Doraemon Gift Family Ceramic Coffee Mug Multicol...",
          "Beauty and Personal Care >> Makeup >> Eyes",
          "Beauty and Personal Care >> Makeup >> Eyes >> Eye Shadows",
          "Beauty and Personal Care >> Makeup >> Eyes >> Eye Shadows >> Milani Eye Shadows",
          "Beauty and Personal Care >> Makeup >> Eyes >> Eye Shadows >> Milani Eye Shadows >> Milani Runway shadow Wet/Dry Black Out 3 g (Shadow)",
          "Beauty and Personal Care >> Makeup >> Eyes >> Eye Shadows >> e.l.f. Cosmetics Eye Shadows",
          "Beauty and Personal Care >> Makeup >> Eyes >> Eye Shadows >> e.l.f. Cosmetics Eye Shadows >> e.l.f. Cosmetics Studio brow Kit Ash Brow Makeup...",
          "Beauty and Personal Care >> Bath and Spa >> Soaps",
          "Beauty and Personal Care >> Bath and Spa >> Soaps >> Aster Luxury Soaps",
          "Beauty and Personal Care >> Bath and Spa >> Soaps >> Aster Luxury Soaps >> Aster Luxury Arabic Oudh Bathing Bar - Pack of 4...",
          "Kitchen & Dining >> Kitchen Tools >> Kitchen Tool Sets",
          "Kitchen & Dining >> Kitchen Tools >> Kitchen Tool Sets >> King Traders Kitchen Tool Sets",
          "Kitchen & Dining >> Kitchen Tools >> Kitchen Tool Sets >> King Traders Kitchen Tool Sets >> King Traders KI-BD-01 1 Kitchen Tool Set",
          "Home Decor & Festive Needs >> Wall Decor & Clocks >> Wall Decals & Stickers >> Wall Decal Wall Decals & Stickers",
          "Home Decor & Festive Needs >> Wall Decor & Clocks >> Wall Decals & Stickers >> Wall Decal Wall Decals & Stickers >> Wall Decal Small Self Adhesive Sticker (Pack of 1)",
          "Baby Care >> Infant Wear >> Baby Boys' Clothes >> Polos & T-Shirts >> Dongli Polos & T-Shirts",
          "Baby Care >> Infant Wear >> Baby Boys' Clothes >> Polos & T-Shirts >> Dongli Polos & T-Shirts >> Dongli Striped Baby Boy's Polo Neck T-Shirt",
          "Baby Care >> Baby Grooming >> Cotton Buds",
          "Baby Care >> Baby Grooming >> Cotton Buds >> SJ Cotton Buds",
          "Baby Care >> Baby Grooming >> Cotton Buds >> SJ Cotton Buds >> SJ Tulip multi use cotton Balls (Pack of 100)",
          "Home Decor & Festive Needs >> Table Decor & Handicrafts >> Table Decor >> Hookah Mouth Tips",
          "Home Decor & Festive Needs >> Table Decor & Handicrafts >> Table Decor >> Hookah Mouth Tips >> Ech oly Hookah Mouth Tips",
          "Home Decor & Festive Needs >> Table Decor & Handicrafts >> Table Decor >> Hookah Mouth Tips >> Ech oly Hookah Mouth Tips >> Ech oly Ceramic Inside Fitting Hookah Mouth Tip ...",
          "Beauty and Personal Care >> Fragrances >> Deodorants >> Sprays",
          "Beauty and Personal Care >> Fragrances >> Deodorants >> Sprays >> LAWMAN PG3 Sprays",
          "Beauty and Personal Care >> Fragrances >> Deodorants >> Sprays >> LAWMAN PG3 Sprays >> LAWMAN PG3 Striker,, Winger , Contender Deodoran...",
          "Baby Care >> Infant Wear >> Baby Boys' Clothes >> Polos & T-Shirts >> Toons Polos & T-Shirts",
          "Baby Care >> Infant Wear >> Baby Boys' Clothes >> Polos & T-Shirts >> Toons Polos & T-Shirts >> Toons Printed Baby Boy's Round Neck T-Shirt",
          "Computers >> Laptop Accessories >> Computer Accessories Combos",
          "Computers >> Laptop Accessories >> Computer Accessories Combos >> PRINT SHAPES Computer Accessories Combos",
          "Computers >> Laptop Accessories >> Computer Accessories Combos >> PRINT SHAPES Computer Accessories Combos >> PRINT SHAPES red Heart Laptop Skin with Mouse pa...",
          "Beauty and Personal Care >> Body and Skin Care >> Lip Care >> Lip Balms",
          "Beauty and Personal Care >> Body and Skin Care >> Lip Care >> Lip Balms >> Good Way Lip Balms",
          "Beauty and Personal Care >> Body and Skin Care >> Lip Care >> Lip Balms >> Good Way Lip Balms >> Good Way Peppermint Lip Balm Pepper (8 g)",
          "Home Furnishing >> Curtains & Accessories >> Curtains >> Aroma Comfort Polyester Cream Self Design Eyelet...",
          "Computers >> Laptop Accessories >> Computer Accessories Combos >> PRINT SHAPES Computer Accessories Combos >> PRINT SHAPES Sony headphone Laptop Skin with Mou...",
          "Computers >> Laptop Accessories >> Computer Accessories Combos >> PRINT SHAPES Computer Accessories Combos >> PRINT SHAPES Power of roman reigns Laptop Skin w...",
          "Home Furnishing >> Curtains & Accessories >> Curtains >> Aroma Comfort Polyester Blue Floral Eyelet Long ...",
          "Computers >> Laptop Accessories >> Computer Accessories Combos >> PRINT SHAPES Computer Accessories Combos >> PRINT SHAPES roronoa Zora Laptop Skin with Mouse...",
          "Home Furnishing >> Curtains & Accessories >> Curtains >> Aroma Comfort Polyester Brown Floral Eyelet Long...",
          "Computers >> Computer Components >> RAMs",
          "Computers >> Computer Components >> RAMs >> Transcend RAMs",
          "Computers >> Computer Components >> RAMs >> Transcend RAMs >> Transcend Premium Memory DDR2 2 GB (1x2GB) PC SD...",
          "Computers >> Laptop Accessories >> Computer Accessories Combos >> PRINT SHAPES Computer Accessories Combos >> PRINT SHAPES doraemon Laptop Skin with Mouse pad...",
          "Computers >> Laptop Accessories >> Computer Accessories Combos >> PRINT SHAPES Computer Accessories Combos >> PRINT SHAPES monster university party Laptop Ski...",
          "Home Furnishing >> Curtains & Accessories >> Curtains >> Aroma Comfort Polyester Green Self Design Eyelet...",
          "Home Furnishing >> Curtains & Accessories >> Curtains >> Aroma Comfort Polyester Brown Self Design Eyelet...",
          "Computers >> Laptop Accessories >> Computer Accessories Combos >> PRINT SHAPES Computer Accessories Combos >> PRINT SHAPES Graphic Dancer Laptop Skin with Mou...",
          "Home Furnishing >> Curtains & Accessories >> Curtains >> Aroma Comfort Polyester Brown Printed Eyelet Win...",
          "Beauty and Personal Care >> Health Care >> Medicines & Treatment",
          "Beauty and Personal Care >> Health Care >> Medicines & Treatment >> First Aid",
          "Beauty and Personal Care >> Health Care >> Medicines & Treatment >> First Aid >> Hot & Cold Packs",
          "Beauty and Personal Care >> Health Care >> Medicines & Treatment >> First Aid >> Hot & Cold Packs >> OMRD Hot & Cold Packs",
          "Beauty and Personal Care >> Health Care >> Medicines & Treatment >> First Aid >> Hot & Cold Packs >> OMRD Hot & Cold Packs >> OMRD RD6697 Hot and cold Pack (GREEN)",
          "Beauty and Personal Care >> Hair Care >> Shampoos",
          "Beauty and Personal Care >> Hair Care >> Shampoos >> Kerastase Shampoos",
          "Beauty and Personal Care >> Hair Care >> Shampoos >> Kerastase Shampoos >> Kerastase Nutritive Bain Satin 1 Complete Nutrit...",
          "Computers >> Laptop Accessories >> Computer Accessories Combos >> PRINT SHAPES Computer Accessories Combos >> PRINT SHAPES mary and max cartoon Laptop Skin wi...",
          "Home Furnishing >> Curtains & Accessories >> Curtains >> Aroma Comfort Polyester Dark Blue Plain Eyelet W...",
          "Computers >> Laptop Accessories >> Computer Accessories Combos >> PRINT SHAPES Computer Accessories Combos >> PRINT SHAPES Peacock Feather Laptop Skin with Mo...",
          "Computers >> Laptop Accessories >> Computer Accessories Combos >> PRINT SHAPES Computer Accessories Combos >> PRINT SHAPES despicable me 2 looking upwards Lap...",
          "Computers >> Laptop Accessories >> Computer Accessories Combos >> PRINT SHAPES Computer Accessories Combos >> PRINT SHAPES Red bull Laptop Skin with Mouse pad...",
          "Beauty and Personal Care >> Health Care >> Medical Equipment & Accessories",
          "Beauty and Personal Care >> Health Care >> Medical Equipment & Accessories >> Surgical e Sstudio Medical Equipment & Accessories",
          "Beauty and Personal Care >> Health Care >> Medical Equipment & Accessories >> Surgical e Sstudio Medical Equipment & Accessories >> Surgical e Sstudio S0004 Gown, Pant Hospital Scr...",
          "Home Decor & Festive Needs >> Showpieces >> Fengshui >> Reiki Crystal Products Fengshui >> Reiki Crystal Products Showpiece  -  6 cm (Brass...",
          "Baby Care >> Baby & Kids Gifts >> Stickers",
          "Baby Care >> Baby & Kids Gifts >> Stickers >> Elite Collection Stickers",
          "Baby Care >> Baby & Kids Gifts >> Stickers >> Wallmantra Stickers",
          "Baby Care >> Baby & Kids Gifts >> Stickers >> WallDesign Stickers",
          "Baby Care >> Baby & Kids Gifts >> Stickers >> 999store Stickers",
          "Baby Care >> Baby & Kids Gifts >> Stickers >> Oren Empower Stickers",
          "Baby Care >> Baby & Kids Gifts >> Stickers >> Uberlyfe Stickers"
         ],
         "labels": [
          "Home Furnishing",
          "Curtains & Accessories",
          "Curtains",
          "Elegance Polyester Multicolor Abstract Eyelet Do...",
          "Baby Care",
          "Baby Bath & Skin",
          "Baby Bath Towels",
          "Sathiyas Baby Bath Towels",
          "Sathiyas Cotton Bath Towel (3 Bath Towel, Red, Y...",
          "Eurospa Baby Bath Towels",
          "Eurospa Cotton Terry Face Towel Set (20 PIECE FA...",
          "Bed Linen",
          "Bedsheets",
          "SANTOSH ROYAL FASHION Bedsheets",
          "SANTOSH ROYAL FASHION Cotton Printed King sized ...",
          "Jaipur Print Bedsheets",
          "Jaipur Print Cotton Floral King sized Double Bed...",
          "Watches",
          "Wrist Watches",
          "Maserati Time Wrist Watches",
          "Camerii Wrist Watches",
          "T STAR Wrist Watches",
          "Alfajr Wrist Watches",
          "TAG Heuer Wrist Watches",
          "Calibro Wrist Watches",
          "Cartier Wrist Watches",
          "Lois Caron Wrist Watches",
          "Titan Wrist Watches",
          "Srushti Art Jewelry Wrist Watches",
          "Escort Wrist Watches",
          "Jack klein Wrist Watches",
          "North Moon Wrist Watches",
          "Franck Bella Wrist Watches",
          "Ridas Wrist Watches",
          "Skmei Wrist Watches",
          "Now Wrist Watches",
          "fastrack Wrist Watches",
          "Disney Wrist Watches",
          "Vizion Wrist Watches",
          "Elantra Wrist Watches",
          "Marvel Wrist Watches",
          "Lenco Wrist Watches",
          "D'Signer Wrist Watches",
          "Living Room Furnishing",
          "Diwan Sets",
          "SANTOSH ROYAL FASHION Diwan Sets",
          "SANTOSH ROYAL FASHION Cotton Embroidered Diwan Set",
          "Duvet Covers",
          "House This Duvet Covers",
          "House This Queen Cotton Duvet Cover (Grey)",
          "Bath Linen",
          "Bath Mats",
          "Home Decor & Festive Needs",
          "Candles & Fragrances",
          "Home Fragrances",
          "Aroma Oils",
          "Myesquire Aroma Oils",
          "Kitchen & Dining",
          "Tableware & Cutlery",
          "Jug, Glass & Tray Sets",
          "Dungri India Craft Jug, Glass & Tray Sets",
          "Dungri India Craft Ducjug010-ducgl012-2 Jug Glas...",
          "Lighting",
          "Bulbs",
          "BFT Bulbs",
          "BFT 6 W LED Bulb (White)",
          "JMD Home Furnishing",
          "JMD Printed Cushions Cover (Pack of 2, 40 cm*40 ...",
          "Infant Wear",
          "Baby Girls' Clothes",
          "Innerwear & Sleepwear",
          "Night Suits",
          "Mom and Kid Night Suits",
          "Mom and Kid Baby Girl's Printed Green Top & Pyja...",
          "Kripa's Home Furnishing",
          "Kripa's Printed Cushions Cover (Pack of 2, 45 cm...",
          "Mom and Kid Baby Girl's Printed Blue, Grey Top &...",
          "Beauty and Personal Care",
          "Hair Care",
          "Conditioners",
          "Burt s Bees Conditioners",
          "Burt s Bees Hair Repair Shea And Grapefruit Deep...",
          "Coffee Mugs",
          "AKUP Coffee Mugs",
          "AKUP i-loves-music Ceramic Mug (300 ml)",
          "AKUP i-love-my-mom Ceramic Mug (300 ml)",
          "AKUP keep-calm Ceramic Mug (300 ml)",
          "Computers",
          "Network Components",
          "Routers",
          "D-Link Routers",
          "D-Link DAP1320 (White)",
          "AKUP league-of-legends Ceramic Mug (300 ml)",
          "Suave Conditioners",
          "Suave Naturals Everlasting Sunshine Conditioner ...",
          "AKUP life-is-not-living Ceramic Mug (300 ml)",
          "Tablet Accessories",
          "Keyboards",
          "RoQ Keyboards",
          "RoQ Slim Multimedia 105key Flexible Wired USB Fl...",
          "Cookware",
          "Casserole & Sets",
          "Cookart Casserole & Sets",
          "Cookart Elegant S.S. Handi With Hot Pot Pack of ...",
          "Laptop Accessories",
          "USB Gadgets",
          "JRB USB Gadgets",
          "JRB 1038 Smallest Mobile Powered By OTG Enabled ...",
          "JRB 1033 Smallest Mobile Powered By OTG Enabled ...",
          "JRB 1042 Smallest Mobile Powered By OTG Enabled ...",
          "Makeup",
          "Vanity Boxes",
          "Borse Vanity Boxes",
          "Combos and Kits",
          "RYTHMX Combos and Kits",
          "RYTHMX FB NAIL POLISHES BLACK LIPSTICKS IMPORTAN...",
          "Brillare Science Combos and Kits",
          "Brillare Science Dandruff Control Shampoo & Inte...",
          "Mars Combos and Kits",
          "Mars Queen Eye Liner, Lip Gloss, EyeLiner (Set o...",
          "Nails",
          "Nail Polishes",
          "Aroma Care Nail Polishes",
          "Aroma Care Intense Color Nail Polish Combo 17505...",
          "Feeding & Nursing",
          "Bottles & Accessories",
          "Bottle Covers",
          "KOHL Bottle Covers",
          "KOHL Wine Bag Yellow (Yellow)",
          "Shopmania Coffee Mugs",
          "Shopmania Happy Birthday Gift For Starting Lette...",
          "Baby Bedding",
          "Baby Mattresses",
          "CHHOTE JANAB Baby Mattresses",
          "CHHOTE JANAB COZY MATTRESS PROTECTOR(SET OF 2) (...",
          "Kitchen & Dining Linen",
          "Table Covers",
          "Prime Printed 4 Seater Table Cover (Multicolor, ...",
          "Containers & Bottles",
          "Lunch Boxes",
          "SKI Lunch Boxes",
          "SKI WINNER GIFT SET SKYBLUE02 2 Containers Lunch...",
          "GAYATRI CREATIONS Lunch Boxes",
          "GAYATRI CREATIONS ORANGE KIDS SET 2 Containers L...",
          "Consumables & Disposables",
          "Bowls",
          "Caffeine Bowls",
          "Caffeine Handmade Tribal Print Influenced Katori...",
          "Prime Printed 8 Seater Table Cover (Multicolor, ...",
          "Bottles & Sippers",
          "Water bottle",
          "Garnet Water bottle",
          "Garnet Traveller 1500 ml Bottle (Pack of 6, Mult...",
          "Shorts & Trousers",
          "Shorts",
          "Vitamins Shorts",
          "Vitamins Solid Baby Girl's Basic Shorts",
          "Vitamins Graphic Print Baby Girl's Basic Shorts",
          "Vitamins Embroidered Baby Girl's Denim Shorts",
          "KE Vanity Boxes",
          "KE GIFT BOX STOR JEWELLARY Vanity Jewellery (BLUE)",
          "Lips",
          "Lip Liners",
          "Giorgio Armani Lip Liners",
          "Giorgio Armani SMOOTH SILK LIP PENCIL 12 (Soyeux...",
          "Jaipur Print Diwan Sets",
          "Jaipur Print Cotton Floral Diwan Set",
          "Baby Boys' Clothes",
          "Accessories",
          "Caps",
          "florence9 Caps",
          "florence9 baby cap red checks Cap",
          "Wall Decor & Clocks",
          "Key Holders",
          "VarEesha Key Holders",
          "VarEesha Wooden Key Holder (8 Hooks, Multicolor)",
          "Table Decor & Handicrafts",
          "Showpieces",
          "Fengshui",
          "Treasure Fengshui",
          "Treasure Showpiece  -  23 cm (Polyresin, Blue)",
          "Baby Mosquito Nets",
          "CHINMAY KIDS Baby Mosquito Nets",
          "CHINMAY KIDS Printed Cotton Padded Mosquito Net ...",
          "Combo Sets",
          "HEAVENLY Combo Sets",
          "HEAVENLY Dress Baby Boy's  Combo",
          "Flowers, Plants & Vases",
          "Flower Vase",
          "@home Flower Vase",
          "@home Glass Vase (18 inch, Grey)",
          "Wall Decals & Stickers",
          "Smart Wall Guru Wall Decals & Stickers",
          "Smart Wall Guru Medium Adhesive Sticker (Pack of 1)",
          "Pots & Pans",
          "Pans & Tawas",
          "oxford Pans & Tawas",
          "oxford Tawa 15 cm cm diameter (Aluminium, Non-st...",
          "Software",
          "Language Learning",
          "Physical",
          "Eureka.in Physical",
          "Eureka.in GSEB Class VII (Pen drive)",
          "Coasters",
          "Craft Trade Coasters",
          "Craft Trade Oval Wood Coaster Set (Brown, Pack o...",
          "Showpieces",
          "Parv Collections Showpieces",
          "Exotic India Showpieces",
          "Aapno Rajasthan Showpieces",
          "BeYOUtiful Showpieces",
          "Religious Idols",
          "Exotic India Religious Idols",
          "Human Figurines",
          "My Angel Human Figurines",
          "Diviniti Religious Idols",
          "Kuber Industries Vanity Boxes",
          "Thar Handloom Vanity Boxes",
          "Goldencollections Vanity Boxes",
          "K&P Religious Idols",
          "K&P Lord Ganesha Regular 16 Showpiece  -  13 cm ...",
          "Blankets, Quilts & Dohars",
          "Furniture & Furnishings",
          "Inflatable Products",
          "Bestway Inflatable Products",
          "Remtex Export Cartoon Single Dohar Multicolor (1...",
          "Ethnic Wear",
          "Salwar Kurta Dupattas",
          "TWISHA Salwar Kurta Dupattas",
          "TWISHA Printed Kurti & Salwar",
          "Decorative Lighting & Lamps",
          "Table Lamps",
          "Eternity Table Lamps",
          "Eternity Handcrafted unique Mosaic Glass Table L...",
          "Bodysuits & Sleepsuits",
          "Sleepsuits",
          "FS Mini Klub Sleepsuits",
          "FS Mini Klub Baby Boy's Sleepsuit",
          "Sippers",
          "Omic Sippers",
          "Omic Poto-Blue 1000 ml Sipper (Pack of 1, Blue)",
          "Baby Grooming",
          "Baby Grooming Combos",
          "Lollipop Lane Baby Grooming Combos",
          "Computer Peripherals",
          "Printers & Inks",
          "Toners",
          "Filink Toners",
          "Recrafto Religious Idols",
          "Bodysuits",
          "Anthill Bodysuits",
          "Mouse Pads",
          "FRENEMY Mouse Pads",
          "FRENEMY MPAD271 Mousepad (Multicolor)",
          "Cushions, Pillows & Covers",
          "Cushion Covers",
          "Quilt India Floral Cushions Cover (77 cm, Gold)",
          "Toffyhouse Sleepsuits",
          "Toffyhouse Baby Boy's Sleepsuit",
          "Storage",
          "Pen Drives",
          "Shopizone Pen Drives",
          "Shopizone BMW Wheel 32 GB  Pen Drive (Black)",
          "Craftcart Key Holders",
          "Craftcart Parrot Antique Brass Key Holder (5 Hoo...",
          "Health Care",
          "Health Care Devices",
          "Electrotherapy",
          "SOS Electrotherapy",
          "SOS COMPUTRISED LCD INTRFERENTIAL UNIT-125PROG. ...",
          "Body and Skin Care",
          "Hand Care",
          "Manicure and Kits",
          "Sally Hansen Manicure and Kits",
          "Svayam Manicure and Kits",
          "Go Bonjour Manicure and Kits",
          "Table Decor",
          "Hookah & Hookah Flavours",
          "Hookah",
          "Arsalan Hookah",
          "Prithish Coffee Mugs",
          "Rockmantra Coffee Mugs",
          "Rajesh Digital Coffee Mugs",
          "Printland Coffee Mugs",
          "Returnfavors Coffee Mugs",
          "Kitchen Tools",
          "Kitchen Implements",
          "Pizza Cutters",
          "Famous Pizza Cutters",
          "Rastogi Handicrafts Showpieces",
          "NEHP Showpieces",
          "S C Handicrafts Showpieces",
          "Ethnic",
          "Tatvaarts Ethnic",
          "Sam Pizza Cutters",
          "Surface180 Ethnic",
          "Step4deal Pizza Cutters",
          "MA Design Hut Showpieces",
          "Lal Haveli Ethnic",
          "Dungarees & Jumpsuits",
          "Jumpsuits",
          "Earth Conscious Jumpsuits",
          "Purpledip Showpieces",
          "Tirupati Pizza Cutters",
          "Shoppingtara Showpieces",
          "Orange Tree Showpieces",
          "Unique Design Ethnic",
          "Port Showpieces",
          "King International Pizza Cutters",
          "Go Hooked Pizza Cutters",
          "RoyalsCart Ethnic",
          "Apex Pizza Cutters",
          "MCB Exports Ethnic",
          "Poppins Jumpsuits",
          "Purpledip Ethnic",
          "Agromech Pizza Cutters",
          "Tiedribbons Showpieces",
          "Rajo Raja Ethnic",
          "Surface 180 Ethnic",
          "Sovam International Ethnic",
          "The Ethnic Story Ethnic",
          "Woks & Kadhais",
          "JSM Woks & Kadhais",
          "Celebrity Pizza Cutters",
          "Unique Design Showpieces",
          "Metallino Woks & Kadhais",
          "Ruchiworld Ethnic",
          "Kosher Woks & Kadhais",
          "Recon Woks & Kadhais",
          "Indian Art Villa Woks & Kadhais",
          "Suruchi Woks & Kadhais",
          "Bergner Woks & Kadhais",
          "Kalash Woks & Kadhais",
          "Peacock Woks & Kadhais",
          "Leo Natura Woks & Kadhais",
          "Malhar Showpieces",
          "Sumeet Woks & Kadhais",
          "TRUE Home Decor & Festive Needs",
          "The Crafts House Showpieces",
          "Jaipan Woks & Kadhais",
          "Unravel India Showpieces",
          "Ruchikainternational Ethnic",
          "Nirlon Woks & Kadhais",
          "Monil Ethnic",
          "Pristine Woks & Kadhais",
          "Woodino Handicrafts Showpieces",
          "Unique Handicrafts Showpieces",
          "Pigeon Woks & Kadhais",
          "Sahara Q Shop Woks & Kadhais",
          "Mom Italy Pizza Cutters",
          "Mavi Showpieces",
          "Ndura Woks & Kadhais",
          "Supreme Cookwares Woks & Kadhais",
          "Dungarees",
          "Babeezworld Dungarees",
          "Babeezworld Baby Boy's Romper",
          "Pittsburgh Polo Club Wrist Watches",
          "Pittsburgh Polo Club PBPC-505-GRN Analog Watch  ...",
          "palito Wrist Watches",
          "palito PLO 169 Analog Watch  - For Girls, Women",
          "Adino Wrist Watches",
          "Adino ADF04 Analog Watch  - For Girls",
          "ESIDON Wrist Watches",
          "ESIDON AKADA06 Analog Watch  - For Women",
          "palito PLO 166 Analog Watch  - For Girls, Women",
          "Living",
          "Sofa Covers",
          "Bhavya Velvet Sofa Cover (Grey Pack of 10)",
          "cherry crumble california Dungarees",
          "cherry crumble california Baby Boy's Dungaree",
          "Yves Bertelin Wrist Watches",
          "Yves Bertelin YBSCR557 Analog Watch  - For Women",
          "Showpiece",
          "Contemporary",
          "Services Junction Contemporary",
          "Services Junction Beautiful Black and Golden col...",
          "palito PLO 149 Analog Watch  - For Girls, Women",
          "V9 Wrist Watches",
          "V9 METAL STRAP Analog Watch  - For Men",
          "Dreamshomes Velvet Sofa Cover (Multicolour Pack ...",
          "Kandyfloss Dungarees",
          "Kandyfloss Baby Boy's, Baby Girl's Romper",
          "Services Junction Gold Plated Ganesh Idol Showpi...",
          "Brahmz Table Lamps",
          "Brahmz Glass Mossiac Table Lamp (18 cm, Multi Co...",
          "Dresses & Skirts",
          "Dresses",
          "MKB Dresses",
          "MKB Baby Girl's Shirt Dress",
          "Toddla Dresses",
          "Toddla Baby Girl's Gathered Dress",
          "Baby Moshai Dresses",
          "Baby Moshai Baby Girl's A-line Dress",
          "My Little Lambs Dresses",
          "My Little Lambs Baby Girl's Gathered Dress",
          "Bar & Glassware",
          "Bar Accessories",
          "Bottle Openers",
          "arnavs Bottle Openers",
          "arnavs Multi1 Bottle Opener Set",
          "CPU",
          "I Ball CPU",
          "I Ball IBCTDC 160/2gb/DDR2 with Dual Core 2 RAM ...",
          "Polos & T-Shirts",
          "Globe Polos & T-Shirts",
          "Globe Graphic Print Baby Boy's Round Neck Orange...",
          "Hand Juicers",
          "JayEnterprise Hand Juicers",
          "JayEnterprise Plastic Hand Juicer (Multicolor)",
          "Craftuno Ethnic",
          "Lids",
          "Elephant Lids",
          "Body Fat Analyzers",
          "Equinox Body Fat Analyzers",
          "Nihar Ethnic",
          "Homedesires Ethnic",
          "Pg handicrafts Ethnic",
          "Ravishing Variety Ethnic",
          "Infinity India Ethnic",
          "Linksys Routers",
          "Fragrances",
          "Deodorants",
          "Combos",
          "Wild Stone Combos",
          "Intex Routers",
          "Adidas Combos",
          "Vincent Valentine Paris Combos",
          "Denver Combos",
          "Archies Combos",
          "Asus Routers",
          "Layer'r Combos",
          "Apple Routers",
          "Tenda Routers",
          "Huawei Routers",
          "Anna Andre Paris Combos",
          "TRENDnet Routers",
          "Edimax Routers",
          "Park Avenue Combos",
          "Binatone Routers",
          "KamaSutra Combos",
          "Arabian Nights Combos",
          "Engage Combos",
          "Belkin Routers",
          "Envy-1000 Combos",
          "Yardley Combos",
          "Nivea Combos",
          "Zyxel Routers",
          "TP-LINK Routers",
          "Playboy Combos",
          "Spinz Combos",
          "Nike Combos",
          "Aero Care Combos",
          "Beverly Hills Polo Club Combos",
          "Netgear Routers",
          "Addiction Combos",
          "iBall Routers",
          "ENVY 1000 Combos",
          "Netis Routers",
          "French Factor Combos",
          "Fogg Combos",
          "Denim Combos",
          "Cinthol Combos",
          "Airtel Routers",
          "Digisol Routers",
          "Ajmal Combos",
          "Women's Hygiene",
          "Combo & kits",
          "Clear Face Combo & kits",
          "Clear Face Kesar Chandan Multivitamin Nourishing...",
          "Cases & Covers",
          "YGS Cases & Covers",
          "YGS Keyboard Case for Asus Memo Pad 7in Tab (Pink)",
          "Hair Care Accessories",
          "Hair Accessories",
          "Majik Hair Accessories",
          "Majik Styling Decoration Hair Clip (Multicolor)",
          "Portable Projectors",
          "Zingalalaa Portable Projectors",
          "Zingalalaa LP-50 50 lm LED Corded Portable Proje...",
          "Diapering & Potty Training",
          "Changing Tables",
          "BASRA Changing Tables",
          "BASRA uepgrn Green Changing Table",
          "Adapters",
          "Smartpro Adapters",
          "Smartpro 19.5v,3.9a Replacement Charger for Vaio...",
          "Strollers & Activity Gear",
          "Strollers & Prams",
          "Graco Strollers & Prams",
          "Graco LiteRider Click Connect � Marco (Multicolor)",
          "Bar Glasses",
          "ocean Bar Glasses",
          "ocean VGLASS0051 (325 ml, Clear, Pack of 6)",
          "Fengshui",
          "Reiki Crystal Products Fengshui",
          "Reiki Crystal Products Showpiece  -  8 cm (Cryst...",
          "HomeEdge Health Care Devices",
          "HomeEdge Solid Wood King Bed (Finish Color -  Na...",
          "Dungarees & Jumpsuits",
          "Jumpsuits",
          "Budding Bees Jumpsuits",
          "Budding Bees Printed Baby Girl's Jumpsuit",
          "Table Linen Sets",
          "JewelKraft Designs Brown, Pink Table Linen Set",
          "Baby Sleeping Bags",
          "Baby Bucket Baby Sleeping Bags",
          "Baby Bucket SHERIN MULTI BEAR Sleeping Bag (Green)",
          "Pulse Oximeters",
          "NAMS Pulse Oximeters",
          "NAMS 06 Fully Automatic Pulse Oximeter (White)",
          "Bodysuits & Sleepsuits",
          "Sleepsuits",
          "Rute Sleepsuits",
          "Rute Baby Girl's Sleepsuit",
          "Tidy Home Furnishing",
          "Tidy Printed Cushions Cover (Pack of 9, 50 cm*50...",
          "JBC Collection Bedsheets",
          "JBC Collection Cotton Printed Single Bedsheet (1...",
          "Laptop Adapters",
          "Hako Laptop Adapters",
          "Hako 45W Magsafe Laptop Charger For APPLE MacBoo...",
          "Hako 85W Magsafe Laptop Charger For APPLE MacBoo...",
          "Hako 60W Magsafe Laptop Charger For APPLE MacBoo...",
          "Baby Shower Caps",
          "3kFactory Baby Shower Caps",
          "3kFactory Baby Shower Cap- Purple",
          "Saba Garments Dresses",
          "Saba Garments Baby Girl's Gathered Dress",
          "Winter & Seasonal Wear",
          "Jackets",
          "Upside Down Jackets",
          "Upside Down Sleeveless Applique Baby Girl's, Bab...",
          "Lushomes Living Room Furnishing",
          "Lushomes Plain Back Cushion (Pack of5, Brown)",
          "Pressure Cookers & Pans",
          "Prestige Pressure Cookers & Pans",
          "Milton Bottles & Sippers",
          "HP Pen Drives",
          "HP v220w 16 GB  Pen Drive (Silver, Black)",
          "TIGI BED HEAD Conditioners",
          "TIGI BED HEAD COLOUR GODDESS OIL INFUSED CONDITI...",
          "Beebay Dresses",
          "Beebay Baby Girl's Fit and Flare Dress",
          "Steamers & Idli Makers",
          "Idli Makers",
          "vatika Idli Makers",
          "vatika Advance Standard Idli Maker (7 Plates , 1...",
          "Amit Carpet Polyester Medium Door Mat ACI2016034...",
          "Hair Colors",
          "Garnier Hair Colors",
          "Garnier Nutrisse Haircolor Hair Color (43 Dark G...",
          "Fs Mini Klub Dresses",
          "Fs Mini Klub Baby Girl's Fit and Flare Dress",
          "Chokree Dresses",
          "Chokree Baby Girl's, Girl's A-line Dress",
          "Shorts & Trousers",
          "Track Pants",
          "Shaun Track Pants",
          "Shaun Printed Baby Boy's Yellow, Grey, Black Tra...",
          "Shaun Solid Baby Boy's Grey, Dark Blue Track Pants",
          "Tks Baby Bath Towels",
          "Tks Cotton Hair Towel (1 Hair towel, Orange)",
          "Ocean Bar Glasses",
          "Ocean CPGW087 (280 ml, Clear, Pack of 6)",
          "OGX Conditioners",
          "OGX Sunkissed Blonde Lemon Highlights Conditione...",
          "giftsthatwow Bar Glasses",
          "giftsthatwow GTW-G-04 (300 ml, White, Pack of 1)",
          "giftsthatwow GTW-G-06 (600 ml, White, Pack of 1)",
          "Bath and Spa",
          "Body and Essential Oils",
          "Allin Exporters Body and Essential Oils",
          "Allin Exporters Fennel Oil (Co2 Extract) (30 ml)",
          "Art n Beyond Bar Glasses",
          "Art n Beyond 150013 (300 ml, Clear, Pack of 6)",
          "Allin Exporters Cumin Seed Oil (Co2 Extract) (25...",
          "Kitchen Linen Sets",
          "Cotonex Black, White Cotton Kitchen Linen Set (P...",
          "Cotonex Blue, White Cotton Kitchen Linen Set (Pa...",
          "Cotonex Yellow, Green Cotton Kitchen Linen Set (...",
          "Batteries",
          "Lapguard Batteries",
          "HP Batteries",
          "ARB Batteries",
          "4D Batteries",
          "Clublaptop Batteries",
          "Rega IT Batteries",
          "Sonata Wrist Watches",
          "Times Wrist Watches",
          "Maxima Wrist Watches",
          "Nexus Wrist Watches",
          "Logues Wrist Watches",
          "Global Nomad Wrist Watches",
          "Noise Wrist Watches",
          "SF by Sonata Wrist Watches",
          "Fluid Wrist Watches",
          "HMT Wrist Watches",
          "Timewel Wrist Watches",
          "Petrol Wrist Watches",
          "Only Kidz Wrist Watches",
          "Kool Kidz Wrist Watches",
          "Olvin Wrist Watches",
          "Fastrack Wrist Watches",
          "Hourglass Wrist Watches",
          "Gift Island Wrist Watches",
          "Flippd Wrist Watches",
          "Neo Classic Wrist Watches",
          "Cleaning Kits",
          "Shopfloor.XYZ Cleaning Kits",
          "Shopfloor.XYZ Vacuum Cleaner for Computers, Lapt...",
          "Leggings & Jeggings",
          "Babyoye Premium Leggings & Jeggings",
          "Babyoye Premium Baby Girl's Grey Leggings",
          "Cushions",
          "Furnishing Zone Cushions",
          "Furnishing Zone Printed Back Cushion (Pack of2, ...",
          "Babyoye Premium Baby Girl's Multicolor Leggings ...",
          "GREENWICH Leggings & Jeggings",
          "GREENWICH Baby Girl's Black Jeggings",
          "Artificial Plants",
          "Miracle Retail Artificial Plants",
          "Miracle Retail Bonsai Wild Plant Artificial Plan...",
          "Mayursflora Artificial Plants",
          "Mayursflora Bonsai Aloe, Maple, Arecaceae, Palm,...",
          "V Creations Artificial Plants",
          "V Creations Bonsai Cactus Artificial Plant  with...",
          "LITTLE FEETZ Night Suits",
          "LITTLE FEETZ Baby Girl's Solid Top & Skirt Set",
          "Saco Keyboards",
          "Next Steps Dresses",
          "Wall Shelves",
          "R&Mshoppee Wall Shelves",
          "R&Mshoppee MDF Wall Shelf (Number of Shelves - 1...",
          "posterchacha Coffee Mugs",
          "posterchacha Ishita Personalised Custom Name Hap...",
          "Curren Nx Wrist Watches",
          "Curren Nx Blue Dial Stiched Strap Analog Watch  ...",
          "Laptops",
          "HP Laptops",
          "Soulful Threads Vanity Boxes",
          "Soulful Threads Red Thread Aari Embroidered Blac...",
          "Aapno Rajasthan Vanity Boxes",
          "Aapno Rajasthan Lovely Jewellery Vanity Jeweller...",
          "MohanJodero Vanity Boxes",
          "MohanJodero Jewellery Box Jewellery Vanity Jewel...",
          "Garden & Leisure",
          "Hammocks & Swings",
          "Hammocks",
          "Rrsskids Hammocks",
          "Rrsskids Swing King Cotton Hammock (White)",
          "Smart Wall Guru Large Adhesive Sticker Sticker (...",
          "Ally The Creations Printed Cushions Cover (Pack ...",
          "Bibs & Hankies",
          "Bibs",
          "Cheeky Chompers Bibs",
          "Cheeky Chompers The Neckerchew - Simple Classic ...",
          "Piyo Piyo Bibs",
          "Piyo Piyo Four Stage Waterproof Bib (Yellow)",
          "Innovative Wall Shelves",
          "Innovative Single Corner Stainless Steel Wall Sh...",
          "Boreal Baby Grooming",
          "Boreal Plastic rectangular hair brush 633D",
          "Pokizo Dresses",
          "Pokizo Baby Girl's A-line Dress",
          "Titrit Dresses",
          "Titrit Baby Girl's Gathered Dress",
          "Young Birds Dresses",
          "Young Birds Baby Girl's Fit and Flare Dress",
          "FS Mini Klub Bodysuits",
          "FS Mini Klub Baby Boy's Bodysuit",
          "chota packet Bodysuits",
          "chota packet Baby Boy's, Baby Girl's Bodysuit",
          "You Got Plan B Bodysuits",
          "You Got Plan B Baby Boy's, Baby Girl's Romper",
          "Diaper Bags",
          "Mee Mee Diaper Bags",
          "Mee Mee Multifunctional Nursery Diaper Bag (Dark...",
          "Zero Leggings & Jeggings",
          "Zero Baby Girl's Leggings (Pack of 3)",
          "Suits and Blazers",
          "Blazers",
          "Oxolloxo Blazers",
          "Oxolloxo Solid Single Breasted Casual Women's Bl...",
          "Lanterns",
          "SHOPOJ Lanterns",
          "SHOPOJ Blue Paper Sky Lantern (80 cm X 34 cm, Pa...",
          "Ville Style Polyester Maroon Floral Eyelet Door ...",
          "Sarah Hair Accessories",
          "Sarah Stylish Hair Claw (Brown)",
          "Cookware Pots",
          "Wonderchef Cookware Pots",
          "Wonderchef Windsor Roaster 26cm Pot 3.4 L (Alumi...",
          "T-Shirts & Tops",
          "Shrugs",
          "Kushies baby Shrugs",
          "Kushies baby Baby Girl's Shrug",
          "Wow! Dresses",
          "Wow! Baby Girl's Gathered Yellow Dress",
          "CHOCOBERRY Night Suits",
          "CHOCOBERRY Baby Girl's Printed White, Dark Blue ...",
          "Shorts",
          "Lilliput Shorts",
          "Lilliput Solid Baby Boy's Blue Cargo Shorts",
          "Jacadi Paris Dresses",
          "Jacadi Paris Baby Girl's Gathered Dark Blue Dress",
          "Wow! Baby Girl's Gathered Pink Dress",
          "Wow! Baby Girl's Gathered Red Dress",
          "Jacadi Paris Baby Girl's Gathered Blue Dress",
          "FS Mini Klub Shorts",
          "FS Mini Klub Printed Baby Boy's Multicolor Basic...",
          "Housekeeping & Laundry",
          "Home Cleaning",
          "Brooms & Brushes",
          "Geol Brooms & Brushes",
          "Geol Wooden Wet and Dry Broom (Brown, Pack of 1)",
          "Laptop Bags",
          "Sunlast Laptop Bags",
          "Sunlast 16 inch Laptop Backpack (Yellow)",
          "NammaBaby Night Suits",
          "NammaBaby Baby Girl's Animal Print Top & Pyjama Set",
          "Thakkar Night Suits",
          "Thakkar Baby Girl's Printed Top & Pyjama Set",
          "next steps Night Suits",
          "next steps Baby Girl's Striped Top & Pyjama Set",
          "Computer Components",
          "Processors",
          "Intel Processors",
          "Intel 3.2 GHz LGA 1150 3250 Processor (BLACK)",
          "MKB Baby Girl's Empire Waist Dress",
          "NeedyBee Dresses",
          "NeedyBee Baby Girl's Layered Dress",
          "Seals Dresses",
          "Seals Baby Girl's A-line Dress",
          "Chokree Baby Girl's A-line Dress",
          "Innerwear & Sleepwear",
          "Bloomers & Drawers",
          "Esteem Bloomers & Drawers",
          "Esteem Baby Boy's Drawer",
          "Clocks",
          "Wall Clocks",
          "KLOCX Wall Clocks",
          "KLOCX Analog Wall Clock (Black, With Glass)",
          "Marvel Baby Bath Towels",
          "Romex Wrist Watches",
          "The Intellect Bazaar Baby Bath Towels",
          "Baby & Kids Gifts",
          "Photo Frames",
          "Wood Beauty Photo Frames",
          "BornBabyKids Baby Bath Towels",
          "Utensils",
          "Sippers & Cups",
          "Munchkin Sippers & Cups",
          "Creative Width Decor Wall Decals & Stickers",
          "Divine Gifts & Artificial Jewellery Religious Idols",
          "Blue Bell Sippers & Cups",
          "Welhouse Baby Bath Towels",
          "Accessories",
          "Caps",
          "Portia Caps",
          "Ethnic Sets",
          "RTD Ethnic Sets",
          "Ornate Bulbs",
          "Shrikant Traders Baby Bath Towels",
          "MH Photo Frames",
          "NIKsales Bulbs",
          "Indha Craft Photo Frames",
          "VRCT Bulbs",
          "BabyBucket Baby Bath Towels",
          "Simoco Bulbs",
          "Neyth Baby Bath Towels",
          "AsiaCraft Religious Idols",
          "Soy Impulse Bulbs",
          "Cocovey Photo Frames",
          "Face Care",
          "Sunscreen",
          "VLCC Sunscreen",
          "Lotus Sunscreen",
          "Oshea Herbals Sunscreen",
          "Richfeel Sunscreen",
          "Keya Seth Sunscreen",
          "Jovees Sunscreen",
          "Whiteherbs Sunscreen",
          "Philips Bulbs",
          "Oriflame Sweden Sunscreen",
          "Aveeno Sunscreen",
          "La Roche-Posay Sunscreen",
          "Paintings",
          "Wallmantra Paintings",
          "Tallenge Paintings",
          "Table Placemats",
          "Vgstore Rectangular Pack of 6 Table Placemat (Da...",
          "Jaipur Raga Showpieces",
          "Golmaalshop Religious Idols",
          "Nappies & Cloth Diapers",
          "U & ME Nappies & Cloth Diapers",
          "MyKid Nappies & Cloth Diapers",
          "Pompom Sweethearts Nappies & Cloth Diapers",
          "Table Runners",
          "Craftartz Religious Idols",
          "HoA Nappies & Cloth Diapers",
          "Gift Studios Religious Idols",
          "Series Lights",
          "VRCT Series Lights",
          "VRCT 196 inch Green Rice Lights (Pack of 1)",
          "Lipsticks",
          "Foolzy Lipsticks",
          "Tidy Kitchen Linen Sets",
          "Tidy Green Cotton Kitchen Linen Set (Pack of 3)",
          "Sonpra Bodysuits",
          "Canon Toners",
          "Radhika's World of Crafts Religious Idols",
          "Bath and Spa Accessories",
          "Loofahs",
          "AntiqueShop Loofahs",
          "AntiqueShop ABKL_GRN_GRN_GRN",
          "AntiqueShop ABKL_PL_PNK_PNK",
          "AntiqueShop ABKL_PL_PL_PNK",
          "Religion & Devotion",
          "brass gift center Religion & Devotion",
          "brass gift center Showpiece  -  48 cm (Brass, Mu...",
          "Dinnerware & Crockery",
          "Cups & Saucers",
          "Buyer's Beach Cups & Saucers",
          "Buyer's Beach BB349 (Brown)",
          "Anti Dust Plugs",
          "Pindia Anti Dust Plugs",
          "Fogg Fashion Store Wrist Watches",
          "Nutcase Water bottle",
          "Mxofere Combos and Kits",
          "SVM Wrist Watches",
          "Fighter Wrist Watches",
          "Luba Wrist Watches",
          "Perucci Wrist Watches",
          "Chappin & Nellson Wrist Watches",
          "Oxyglow Combos and Kits",
          "Xemex Wrist Watches",
          "Baby Blankets",
          "Offspring Baby Blankets",
          "Ireeya Baby Blankets",
          "Carter'S Baby Blankets",
          "My NewBorn Baby Blankets",
          "RRTC Wrist Watches",
          "Baby Spoons & Forks",
          "Funcart Baby Spoons & Forks",
          "EZ Life Baby Spoons & Forks",
          "Love Baby Baby Bath Towels",
          "LUBA Wrist Watches",
          "Eye Care",
          "Wild Ferns Eye Care",
          "Ollington St. Collection Nappies & Cloth Diapers",
          "Rana Watches Wrist Watches",
          "R.S Wrist Watches",
          "Lapguard Adapters",
          "Rega IT Adapters",
          "Regent Wall Clocks",
          "eCraftIndia Wall Clocks",
          "Bharatcraft Showpiece",
          "Bharatcraft Wall Hanging Of Lord Ganesha On A Cr...",
          "Firstrace Wrist Watches",
          "CB Fashion Wrist Watches",
          "Timex Wrist Watches",
          "Casotec USB Gadgets",
          "Fonokase USB Gadgets",
          "Memore USB Gadgets",
          "Orico USB Gadgets",
          "Bigkik USB Gadgets",
          "Tapawire USB Gadgets",
          "Crystle USB Gadgets",
          "Amaze Fashion USB Gadgets",
          "RRP USB Gadgets",
          "Techone+ USB Gadgets",
          "Himtek USB Gadgets",
          "KLIQVIK USB Gadgets",
          "Epresent USB Gadgets",
          "Task Logistics USB Gadgets",
          "Trousers",
          "Feetje Trousers",
          "LUV USB Gadgets",
          "Rock USB Gadgets",
          "Generix USB Gadgets",
          "QP360 USB Gadgets",
          "Zaicus USB Gadgets",
          "Akshaj USB Gadgets",
          "Lifestyle-You USB Gadgets",
          "99Gems USB Gadgets",
          "De TechInn USB Gadgets",
          "Dizionario USB Gadgets",
          "Kensington USB Gadgets",
          "RCE Batteries",
          "Combo Sets",
          "kawal fashion Combo Sets",
          "kawal fashion Pyjama Baby Girl's  Combo",
          "Men's Grooming",
          "Sivanna Men's Grooming",
          "Sivanna Baking Powder Rouge  Highlighter (Dark p...",
          "Bodysuits",
          "Lula Bodysuits",
          "Lula Baby Girl's Dark Blue Bodysuit",
          "Towels",
          "Baby Massage Oils",
          "Shagun Gold Baby Massage Oils",
          "SSCP Body and Essential Oils",
          "Intex Inflatable Products",
          "Health Care Accessories",
          "Health Care Accessories",
          "KDS SURGICAL Health Care Accessories",
          "KDS SURGICAL Tripod Walking Stick",
          "Bharatcraft Contemporary",
          "Bharatcraft Showpiece  -  5 cm (Polyresin, Brown)",
          "Loreal Hair Colors",
          "Loreal Diarichesse No- 5 Light Brown ( Pack of 3...",
          "@home Earthy Wine Net Ceramic Vase (9.8250000000...",
          "Jugs & Pitchers",
          "Jugs",
          "Prisha India Craft Jugs",
          "Prisha India Craft m_jug015-1-prishaindia Water ...",
          "BRANDWAGON Paintings",
          "BRANDWAGON DIGIPRINT Digital Reprint Painting (1...",
          "Relaxfeel Baby Blankets",
          "Relaxfeel Floral Single Dohar White (AC Dohar)",
          "Posters",
          "STYLE CLUES FASHION Posters",
          "scarlet tanager bird normal POSTER Paper Print (...",
          "Mega product Posters",
          "good-night-angel-sleep-well-pics Paper Print (18...",
          "Shirts",
          "Fs Mini Klub Shirts",
          "Fs Mini Klub Baby Boy's Woven Casual Shirt",
          "Cotton On Kids Shirts",
          "Cotton On Kids Baby Boy's Printed Casual Shirt",
          "Hats",
          "Portia Hats",
          "Portia Hat (Pink, Pack of 1)",
          "Beebay Shirts",
          "Beebay Baby Boy's Checkered Casual Shirt",
          "Shoperite Posters",
          "painting_art_couple_love__Dance Paper Print (12 ...",
          "Urban Monk Posters",
          "Bourne Supermacy Canvas Art (18 inch X 12 inch, ...",
          "Clocks",
          "Table Clocks",
          "Like Table Clocks",
          "Like Analog Purple Clock",
          "612 League Shirts",
          "612 League Baby Boy's Checkered Casual Shirt",
          "FS Mini Klub Shirts",
          "FS Mini Klub Baby Boy's Woven Casual Shirt",
          "Wallpapers",
          "wallskart Wallpapers",
          "wallskart Floral & Botanical Wallpaper (35.56 cm...",
          "Megaway Series Lights",
          "Anjalika Religious Idols",
          "Digilight Series Lights",
          "Agrasen International Religious Idols",
          "Pinc Ginger Series Lights",
          "Elfani Lipsticks",
          "Home Delight Series Lights",
          "Adaa Showpieces",
          "Utsav Handicraft Religious Idols",
          "Incolor Lipsticks",
          "My Party Suppliers Series Lights",
          "GrandShop Series Lights",
          "eCraftIndia Showpieces",
          "Hookah Flavors",
          "Al Fakher Hookah Flavors",
          "Weldecor Series Lights",
          "Organistick Lipsticks",
          "Eshoppee Religious Idols",
          "Arabian Nights Hookah Flavors",
          "Shankh",
          "The Art Treasure Shankh",
          "Cutlery",
          "Forks",
          "Bhalaria Forks",
          "Bhalaria Dessert Fork Stainless Steel Dessert Fo...",
          "Floor Lamp",
          "Nutcase Floor Lamp",
          "Nutcase Multicolor Column Floor Lamp (31 cm)",
          "Floor Coverings",
          "Carpets & Rugs",
          "M S Rugs Pink, Blue Wool Dhurrie (120 cm  X 180 cm)",
          "GIMS Brown Viscose Carpet (165 cm  X 120 cm)",
          "Cotonex Beige Cotton Kitchen Linen Set (Pack of 2)",
          "FURNISHINGLAND Green Silk Carpet (60 cm  X 180 cm)",
          "FURNISHINGLAND Black Polyester Carpet (90 cm  X ...",
          "loomkart Blue Polyester Runner (55 cm  X 147 cm)",
          "FURNISHINGLAND Maroon Silk Carpet (60 cm  X 180 cm)",
          "Lip Care",
          "Lip Creams",
          "NYX Lip Creams",
          "NYX Set Of 2 Soft Matte Lip Cream 06,22 (Multi c...",
          "Kitchen Scissors",
          "Checkered Chef Kitchen Scissors",
          "Checkered Chef Steel All-Purpose Scissor (Red, B...",
          "Baby Bedsheets",
          "Mahadev Handicrafts Baby Bedsheets",
          "Mahadev Handicrafts Cotton Cartoon Double Bedshe...",
          "Sparklings Baby Bedsheets",
          "Sparklings Cotton Checkered Double Bedsheet (dou...",
          "Swastik Sofa Covers",
          "Swastik Velvet Sofa Cover (Multicolor Pack of 10)",
          "Bela Home Baby Bedsheets",
          "Bela Home Cotton Cartoon Single Bedsheet (1 Sing...",
          "Sparklings Cotton Geometric Double Bedsheet (dou...",
          "CALCULUS Shirts",
          "CALCULUS Baby Boy's Printed Casual Beige Shirt",
          "Gramophones",
          "ROYLE KATOCH Gramophones",
          "ROYLE KATOCH Showpiece  -  24 cm (Crystal, Woode...",
          "Jaycoknit Religion & Devotion",
          "Jaycoknit Mediterranean Sea's Lucky Wooden Handc...",
          "Jacadi paris Shirts",
          "Jacadi paris Baby Boy's Striped Casual Blue Shirt",
          "Beauty Accessories",
          "Makeup Accessories",
          "Brushes and Applicators",
          "LOTTIE LONDON Brushes and Applicators",
          "LOTTIE LONDON MAKE ME BLUSH (Pack of 1)",
          "FS Mini Klub Bodysuits",
          "FS Mini Klub Baby Girl's Bodysuit",
          "Choppers & Peelers",
          "Graters & Slicers",
          "Deep Graters & Slicers",
          "Deep kitchen press Steel Grater and Slicer (Stee...",
          "dongli Polos & T-Shirts",
          "dongli Striped Baby Boy's Polo Neck T-Shirt (Pac...",
          "Fs Mini Klub Polos & T-Shirts",
          "Fs Mini Klub Printed Baby Boy's Round Neck T-Shirt",
          "Aarika Salwar Kurta Dupattas",
          "Aarika Self Design Kurta & Patiyala",
          "Rishan Polos & T-Shirts",
          "Rishan Printed Baby Boy's V-neck T-Shirt",
          "YK Polos & T-Shirts",
          "YK Striped Baby Boy's Round Neck T-Shirt",
          "Art Godaam Human Figurines",
          "Artist Haat Vanity Boxes",
          "Vedic Deals Showpieces",
          "Hand Art Human Figurines",
          "Craftuno Vanity Boxes",
          "Kaatru Human Figurines",
          "CoffeeBean Trousers",
          "CoffeeBean Regular Fit Baby Girl's Pink Trousers",
          "Cork Screws",
          "Seven Seas Cork Screws",
          "Pedrini Cork Screws",
          "AM Creation Coffee Mugs",
          "AM Creation Magic  Ceramic Mug (273 ml, Pack of 2)",
          "Baby Body Wash",
          "TRESemme Baby Body Wash",
          "TRESemme Naturals Vibrantly Smooth Shampoo (591)",
          "L Oreal Baby Body Wash",
          "L Oreal Eversleek Sulfate - Free Smoothing Syste...",
          "CTW Religious Idols",
          "CTW Ganpati Bapa Moriya Statue Showpiece  -  12 ...",
          "Happiness Is Coffee Mugs",
          "Happiness Is Printed Bone China Mug (300 ml)",
          "Balaji Velvet Sofa Cover (Brown Pack of 6)",
          "Containers & Jars",
          "Kitchen Containers",
          "Lock&Lock Kitchen Containers",
          "Lock&Lock Kitchen  - 5.5 L Polypropylene Multi-p...",
          "Mom & Me Bodysuits",
          "Mom & Me Baby Girl's Bodysuit",
          "APOLLO+ USB Gadgets",
          "APOLLO+ Pack Of 3 Flexible Led Light (Multicolour)",
          "HuppmeGift Coffee Mugs",
          "HuppmeGift Happy Birthday Navneet Inner Red Cera...",
          "Decorations",
          "Doraemon Gift Family Ceramic Coffee Mug Decorations",
          "Doraemon Gift Family Ceramic Coffee Mug Multicol...",
          "Eyes",
          "Eye Shadows",
          "Milani Eye Shadows",
          "Milani Runway shadow Wet/Dry Black Out 3 g (Shadow)",
          "e.l.f. Cosmetics Eye Shadows",
          "e.l.f. Cosmetics Studio brow Kit Ash Brow Makeup...",
          "Soaps",
          "Aster Luxury Soaps",
          "Aster Luxury Arabic Oudh Bathing Bar - Pack of 4...",
          "Kitchen Tool Sets",
          "King Traders Kitchen Tool Sets",
          "King Traders KI-BD-01 1 Kitchen Tool Set",
          "Wall Decal Wall Decals & Stickers",
          "Wall Decal Small Self Adhesive Sticker (Pack of 1)",
          "Dongli Polos & T-Shirts",
          "Dongli Striped Baby Boy's Polo Neck T-Shirt",
          "Cotton Buds",
          "SJ Cotton Buds",
          "SJ Tulip multi use cotton Balls (Pack of 100)",
          "Hookah Mouth Tips",
          "Ech oly Hookah Mouth Tips",
          "Ech oly Ceramic Inside Fitting Hookah Mouth Tip ...",
          "Sprays",
          "LAWMAN PG3 Sprays",
          "LAWMAN PG3 Striker,, Winger , Contender Deodoran...",
          "Toons Polos & T-Shirts",
          "Toons Printed Baby Boy's Round Neck T-Shirt",
          "Computer Accessories Combos",
          "PRINT SHAPES Computer Accessories Combos",
          "PRINT SHAPES red Heart Laptop Skin with Mouse pa...",
          "Lip Balms",
          "Good Way Lip Balms",
          "Good Way Peppermint Lip Balm Pepper (8 g)",
          "Aroma Comfort Polyester Cream Self Design Eyelet...",
          "PRINT SHAPES Sony headphone Laptop Skin with Mou...",
          "PRINT SHAPES Power of roman reigns Laptop Skin w...",
          "Aroma Comfort Polyester Blue Floral Eyelet Long ...",
          "PRINT SHAPES roronoa Zora Laptop Skin with Mouse...",
          "Aroma Comfort Polyester Brown Floral Eyelet Long...",
          "RAMs",
          "Transcend RAMs",
          "Transcend Premium Memory DDR2 2 GB (1x2GB) PC SD...",
          "PRINT SHAPES doraemon Laptop Skin with Mouse pad...",
          "PRINT SHAPES monster university party Laptop Ski...",
          "Aroma Comfort Polyester Green Self Design Eyelet...",
          "Aroma Comfort Polyester Brown Self Design Eyelet...",
          "PRINT SHAPES Graphic Dancer Laptop Skin with Mou...",
          "Aroma Comfort Polyester Brown Printed Eyelet Win...",
          "Medicines & Treatment",
          "First Aid",
          "Hot & Cold Packs",
          "OMRD Hot & Cold Packs",
          "OMRD RD6697 Hot and cold Pack (GREEN)",
          "Shampoos",
          "Kerastase Shampoos",
          "Kerastase Nutritive Bain Satin 1 Complete Nutrit...",
          "PRINT SHAPES mary and max cartoon Laptop Skin wi...",
          "Aroma Comfort Polyester Dark Blue Plain Eyelet W...",
          "PRINT SHAPES Peacock Feather Laptop Skin with Mo...",
          "PRINT SHAPES despicable me 2 looking upwards Lap...",
          "PRINT SHAPES Red bull Laptop Skin with Mouse pad...",
          "Medical Equipment & Accessories",
          "Surgical e Sstudio Medical Equipment & Accessories",
          "Surgical e Sstudio S0004 Gown, Pant Hospital Scr...",
          "Reiki Crystal Products Showpiece  -  6 cm (Brass...",
          "Stickers",
          "Elite Collection Stickers",
          "Wallmantra Stickers",
          "WallDesign Stickers",
          "999store Stickers",
          "Oren Empower Stickers",
          "Uberlyfe Stickers"
         ],
         "parents": [
          "",
          "Home Furnishing",
          "Home Furnishing >> Curtains & Accessories",
          "Home Furnishing >> Curtains & Accessories >> Curtains",
          "",
          "Baby Care",
          "Baby Care >> Baby Bath & Skin",
          "Baby Care >> Baby Bath & Skin >> Baby Bath Towels",
          "Baby Care >> Baby Bath & Skin >> Baby Bath Towels >> Sathiyas Baby Bath Towels",
          "Baby Care >> Baby Bath & Skin >> Baby Bath Towels",
          "Baby Care >> Baby Bath & Skin >> Baby Bath Towels >> Eurospa Baby Bath Towels",
          "Home Furnishing",
          "Home Furnishing >> Bed Linen",
          "Home Furnishing >> Bed Linen >> Bedsheets",
          "Home Furnishing >> Bed Linen >> Bedsheets >> SANTOSH ROYAL FASHION Bedsheets",
          "Home Furnishing >> Bed Linen >> Bedsheets",
          "Home Furnishing >> Bed Linen >> Bedsheets >> Jaipur Print Bedsheets",
          "",
          "Watches",
          "Watches >> Wrist Watches",
          "Watches >> Wrist Watches",
          "Watches >> Wrist Watches",
          "Watches >> Wrist Watches",
          "Watches >> Wrist Watches",
          "Watches >> Wrist Watches",
          "Watches >> Wrist Watches",
          "Watches >> Wrist Watches",
          "Watches >> Wrist Watches",
          "Watches >> Wrist Watches",
          "Watches >> Wrist Watches",
          "Watches >> Wrist Watches",
          "Watches >> Wrist Watches",
          "Watches >> Wrist Watches",
          "Watches >> Wrist Watches",
          "Watches >> Wrist Watches",
          "Watches >> Wrist Watches",
          "Watches >> Wrist Watches",
          "Watches >> Wrist Watches",
          "Watches >> Wrist Watches",
          "Watches >> Wrist Watches",
          "Watches >> Wrist Watches",
          "Watches >> Wrist Watches",
          "Watches >> Wrist Watches",
          "Home Furnishing",
          "Home Furnishing >> Living Room Furnishing",
          "Home Furnishing >> Living Room Furnishing >> Diwan Sets",
          "Home Furnishing >> Living Room Furnishing >> Diwan Sets >> SANTOSH ROYAL FASHION Diwan Sets",
          "Home Furnishing >> Bed Linen",
          "Home Furnishing >> Bed Linen >> Duvet Covers",
          "Home Furnishing >> Bed Linen >> Duvet Covers >> House This Duvet Covers",
          "Home Furnishing",
          "Home Furnishing >> Bath Linen",
          "",
          "Home Decor & Festive Needs",
          "Home Decor & Festive Needs >> Candles & Fragrances",
          "Home Decor & Festive Needs >> Candles & Fragrances >> Home Fragrances",
          "Home Decor & Festive Needs >> Candles & Fragrances >> Home Fragrances >> Aroma Oils",
          "",
          "Kitchen & Dining",
          "Kitchen & Dining >> Tableware & Cutlery",
          "Kitchen & Dining >> Tableware & Cutlery >> Jug, Glass & Tray Sets",
          "Kitchen & Dining >> Tableware & Cutlery >> Jug, Glass & Tray Sets >> Dungri India Craft Jug, Glass & Tray Sets",
          "Kitchen & Dining",
          "Kitchen & Dining >> Lighting",
          "Kitchen & Dining >> Lighting >> Bulbs",
          "Kitchen & Dining >> Lighting >> Bulbs >> BFT Bulbs",
          "Home Furnishing",
          "Home Furnishing >> JMD Home Furnishing",
          "Baby Care",
          "Baby Care >> Infant Wear",
          "Baby Care >> Infant Wear >> Baby Girls' Clothes",
          "Baby Care >> Infant Wear >> Baby Girls' Clothes >> Innerwear & Sleepwear",
          "Baby Care >> Infant Wear >> Baby Girls' Clothes >> Innerwear & Sleepwear >> Night Suits",
          "Baby Care >> Infant Wear >> Baby Girls' Clothes >> Innerwear & Sleepwear >> Night Suits >> Mom and Kid Night Suits",
          "Home Furnishing",
          "Home Furnishing >> Kripa's Home Furnishing",
          "Baby Care >> Infant Wear >> Baby Girls' Clothes >> Innerwear & Sleepwear >> Night Suits >> Mom and Kid Night Suits",
          "",
          "Beauty and Personal Care",
          "Beauty and Personal Care >> Hair Care",
          "Beauty and Personal Care >> Hair Care >> Conditioners",
          "Beauty and Personal Care >> Hair Care >> Conditioners >> Burt s Bees Conditioners",
          "Kitchen & Dining",
          "Kitchen & Dining >> Coffee Mugs",
          "Kitchen & Dining >> Coffee Mugs >> AKUP Coffee Mugs",
          "Kitchen & Dining >> Coffee Mugs >> AKUP Coffee Mugs",
          "Kitchen & Dining >> Coffee Mugs >> AKUP Coffee Mugs",
          "",
          "Computers",
          "Computers >> Network Components",
          "Computers >> Network Components >> Routers",
          "Computers >> Network Components >> Routers >> D-Link Routers",
          "Kitchen & Dining >> Coffee Mugs >> AKUP Coffee Mugs",
          "Beauty and Personal Care >> Hair Care >> Conditioners",
          "Beauty and Personal Care >> Hair Care >> Conditioners >> Suave Conditioners",
          "Kitchen & Dining >> Coffee Mugs >> AKUP Coffee Mugs",
          "Computers",
          "Computers >> Tablet Accessories",
          "Computers >> Tablet Accessories >> Keyboards",
          "Computers >> Tablet Accessories >> Keyboards >> RoQ Keyboards",
          "Kitchen & Dining",
          "Kitchen & Dining >> Cookware",
          "Kitchen & Dining >> Cookware >> Casserole & Sets",
          "Kitchen & Dining >> Cookware >> Casserole & Sets >> Cookart Casserole & Sets",
          "Computers",
          "Computers >> Laptop Accessories",
          "Computers >> Laptop Accessories >> USB Gadgets",
          "Computers >> Laptop Accessories >> USB Gadgets >> JRB USB Gadgets",
          "Computers >> Laptop Accessories >> USB Gadgets >> JRB USB Gadgets",
          "Computers >> Laptop Accessories >> USB Gadgets >> JRB USB Gadgets",
          "Beauty and Personal Care",
          "Beauty and Personal Care >> Makeup",
          "Beauty and Personal Care >> Makeup >> Vanity Boxes",
          "Beauty and Personal Care",
          "Beauty and Personal Care >> Combos and Kits",
          "Beauty and Personal Care >> Combos and Kits >> RYTHMX Combos and Kits",
          "Beauty and Personal Care >> Combos and Kits",
          "Beauty and Personal Care >> Combos and Kits >> Brillare Science Combos and Kits",
          "Beauty and Personal Care >> Combos and Kits",
          "Beauty and Personal Care >> Combos and Kits >> Mars Combos and Kits",
          "Beauty and Personal Care >> Makeup",
          "Beauty and Personal Care >> Makeup >> Nails",
          "Beauty and Personal Care >> Makeup >> Nails >> Nail Polishes",
          "Beauty and Personal Care >> Makeup >> Nails >> Nail Polishes >> Aroma Care Nail Polishes",
          "Baby Care",
          "Baby Care >> Feeding & Nursing",
          "Baby Care >> Feeding & Nursing >> Bottles & Accessories",
          "Baby Care >> Feeding & Nursing >> Bottles & Accessories >> Bottle Covers",
          "Baby Care >> Feeding & Nursing >> Bottles & Accessories >> Bottle Covers >> KOHL Bottle Covers",
          "Kitchen & Dining >> Coffee Mugs",
          "Kitchen & Dining >> Coffee Mugs >> Shopmania Coffee Mugs",
          "Baby Care",
          "Baby Care >> Baby Bedding",
          "Baby Care >> Baby Bedding >> Baby Mattresses",
          "Baby Care >> Baby Bedding >> Baby Mattresses >> CHHOTE JANAB Baby Mattresses",
          "Home Furnishing",
          "Home Furnishing >> Kitchen & Dining Linen",
          "Home Furnishing >> Kitchen & Dining Linen >> Table Covers",
          "Kitchen & Dining",
          "Kitchen & Dining >> Containers & Bottles",
          "Kitchen & Dining >> Containers & Bottles >> Lunch Boxes",
          "Kitchen & Dining >> Containers & Bottles >> Lunch Boxes >> SKI Lunch Boxes",
          "Kitchen & Dining >> Containers & Bottles >> Lunch Boxes",
          "Kitchen & Dining >> Containers & Bottles >> Lunch Boxes >> GAYATRI CREATIONS Lunch Boxes",
          "Kitchen & Dining",
          "Kitchen & Dining >> Consumables & Disposables",
          "Kitchen & Dining >> Consumables & Disposables >> Bowls",
          "Kitchen & Dining >> Consumables & Disposables >> Bowls >> Caffeine Bowls",
          "Home Furnishing >> Kitchen & Dining Linen >> Table Covers",
          "Kitchen & Dining >> Containers & Bottles",
          "Kitchen & Dining >> Containers & Bottles >> Bottles & Sippers",
          "Kitchen & Dining >> Containers & Bottles >> Bottles & Sippers >> Water bottle",
          "Kitchen & Dining >> Containers & Bottles >> Bottles & Sippers >> Water bottle >> Garnet Water bottle",
          "Baby Care >> Infant Wear >> Baby Girls' Clothes",
          "Baby Care >> Infant Wear >> Baby Girls' Clothes >> Shorts & Trousers",
          "Baby Care >> Infant Wear >> Baby Girls' Clothes >> Shorts & Trousers >> Shorts",
          "Baby Care >> Infant Wear >> Baby Girls' Clothes >> Shorts & Trousers >> Shorts >> Vitamins Shorts",
          "Baby Care >> Infant Wear >> Baby Girls' Clothes >> Shorts & Trousers >> Shorts >> Vitamins Shorts",
          "Baby Care >> Infant Wear >> Baby Girls' Clothes >> Shorts & Trousers >> Shorts >> Vitamins Shorts",
          "Beauty and Personal Care >> Makeup >> Vanity Boxes",
          "Beauty and Personal Care >> Makeup >> Vanity Boxes >> KE Vanity Boxes",
          "Beauty and Personal Care >> Makeup",
          "Beauty and Personal Care >> Makeup >> Lips",
          "Beauty and Personal Care >> Makeup >> Lips >> Lip Liners",
          "Beauty and Personal Care >> Makeup >> Lips >> Lip Liners >> Giorgio Armani Lip Liners",
          "Home Furnishing >> Living Room Furnishing >> Diwan Sets",
          "Home Furnishing >> Living Room Furnishing >> Diwan Sets >> Jaipur Print Diwan Sets",
          "Baby Care >> Infant Wear",
          "Baby Care >> Infant Wear >> Baby Boys' Clothes",
          "Baby Care >> Infant Wear >> Baby Boys' Clothes >> Accessories",
          "Baby Care >> Infant Wear >> Baby Boys' Clothes >> Accessories >> Caps",
          "Baby Care >> Infant Wear >> Baby Boys' Clothes >> Accessories >> Caps >> florence9 Caps",
          "Home Decor & Festive Needs",
          "Home Decor & Festive Needs >> Wall Decor & Clocks",
          "Home Decor & Festive Needs >> Wall Decor & Clocks >> Key Holders",
          "Home Decor & Festive Needs >> Wall Decor & Clocks >> Key Holders >> VarEesha Key Holders",
          "Home Decor & Festive Needs",
          "Home Decor & Festive Needs >> Table Decor & Handicrafts",
          "Home Decor & Festive Needs >> Table Decor & Handicrafts >> Showpieces",
          "Home Decor & Festive Needs >> Table Decor & Handicrafts >> Showpieces >> Fengshui",
          "Home Decor & Festive Needs >> Table Decor & Handicrafts >> Showpieces >> Fengshui >> Treasure Fengshui",
          "Baby Care >> Baby Bedding",
          "Baby Care >> Baby Bedding >> Baby Mosquito Nets",
          "Baby Care >> Baby Bedding >> Baby Mosquito Nets >> CHINMAY KIDS Baby Mosquito Nets",
          "Baby Care >> Infant Wear >> Baby Boys' Clothes",
          "Baby Care >> Infant Wear >> Baby Boys' Clothes >> Combo Sets",
          "Baby Care >> Infant Wear >> Baby Boys' Clothes >> Combo Sets >> HEAVENLY Combo Sets",
          "Home Decor & Festive Needs",
          "Home Decor & Festive Needs >> Flowers, Plants & Vases",
          "Home Decor & Festive Needs >> Flowers, Plants & Vases >> Flower Vase",
          "Home Decor & Festive Needs >> Flowers, Plants & Vases >> Flower Vase >> @home Flower Vase",
          "Home Decor & Festive Needs >> Wall Decor & Clocks",
          "Home Decor & Festive Needs >> Wall Decor & Clocks >> Wall Decals & Stickers",
          "Home Decor & Festive Needs >> Wall Decor & Clocks >> Wall Decals & Stickers >> Smart Wall Guru Wall Decals & Stickers",
          "Kitchen & Dining >> Cookware",
          "Kitchen & Dining >> Cookware >> Pots & Pans",
          "Kitchen & Dining >> Cookware >> Pots & Pans >> Pans & Tawas",
          "Kitchen & Dining >> Cookware >> Pots & Pans >> Pans & Tawas >> oxford Pans & Tawas",
          "Computers",
          "Computers >> Software",
          "Computers >> Software >> Language Learning",
          "Computers >> Software >> Language Learning >> Physical",
          "Computers >> Software >> Language Learning >> Physical >> Eureka.in Physical",
          "Home Furnishing >> Kitchen & Dining Linen",
          "Home Furnishing >> Kitchen & Dining Linen >> Coasters",
          "Home Furnishing >> Kitchen & Dining Linen >> Coasters >> Craft Trade Coasters",
          "Home Decor & Festive Needs",
          "Home Decor & Festive Needs >> Showpieces",
          "Home Decor & Festive Needs >> Showpieces",
          "Home Decor & Festive Needs >> Showpieces",
          "Home Decor & Festive Needs >> Showpieces",
          "Home Decor & Festive Needs >> Table Decor & Handicrafts >> Showpieces",
          "Home Decor & Festive Needs >> Table Decor & Handicrafts >> Showpieces >> Religious Idols",
          "Home Decor & Festive Needs >> Table Decor & Handicrafts >> Showpieces",
          "Home Decor & Festive Needs >> Table Decor & Handicrafts >> Showpieces >> Human Figurines",
          "Home Decor & Festive Needs >> Table Decor & Handicrafts >> Showpieces >> Religious Idols",
          "Beauty and Personal Care >> Makeup >> Vanity Boxes",
          "Beauty and Personal Care >> Makeup >> Vanity Boxes",
          "Beauty and Personal Care >> Makeup >> Vanity Boxes",
          "Home Decor & Festive Needs >> Table Decor & Handicrafts >> Showpieces >> Religious Idols",
          "Home Decor & Festive Needs >> Table Decor & Handicrafts >> Showpieces >> Religious Idols >> K&P Religious Idols",
          "Home Furnishing >> Bed Linen",
          "Baby Care",
          "Baby Care >> Furniture & Furnishings",
          "Baby Care >> Furniture & Furnishings >> Inflatable Products",
          "Home Furnishing >> Bed Linen >> Blankets, Quilts & Dohars",
          "Baby Care >> Infant Wear >> Baby Girls' Clothes",
          "Baby Care >> Infant Wear >> Baby Girls' Clothes >> Ethnic Wear",
          "Baby Care >> Infant Wear >> Baby Girls' Clothes >> Ethnic Wear >> Salwar Kurta Dupattas",
          "Baby Care >> Infant Wear >> Baby Girls' Clothes >> Ethnic Wear >> Salwar Kurta Dupattas >> TWISHA Salwar Kurta Dupattas",
          "Home Decor & Festive Needs",
          "Home Decor & Festive Needs >> Decorative Lighting & Lamps",
          "Home Decor & Festive Needs >> Decorative Lighting & Lamps >> Table Lamps",
          "Home Decor & Festive Needs >> Decorative Lighting & Lamps >> Table Lamps >> Eternity Table Lamps",
          "Baby Care >> Infant Wear >> Baby Boys' Clothes",
          "Baby Care >> Infant Wear >> Baby Boys' Clothes >> Bodysuits & Sleepsuits",
          "Baby Care >> Infant Wear >> Baby Boys' Clothes >> Bodysuits & Sleepsuits >> Sleepsuits",
          "Baby Care >> Infant Wear >> Baby Boys' Clothes >> Bodysuits & Sleepsuits >> Sleepsuits >> FS Mini Klub Sleepsuits",
          "Kitchen & Dining >> Containers & Bottles >> Bottles & Sippers",
          "Kitchen & Dining >> Containers & Bottles >> Bottles & Sippers >> Sippers",
          "Kitchen & Dining >> Containers & Bottles >> Bottles & Sippers >> Sippers >> Omic Sippers",
          "Baby Care",
          "Baby Care >> Baby Grooming",
          "Baby Care >> Baby Grooming >> Baby Grooming Combos",
          "Computers",
          "Computers >> Computer Peripherals",
          "Computers >> Computer Peripherals >> Printers & Inks",
          "Computers >> Computer Peripherals >> Printers & Inks >> Toners",
          "Home Decor & Festive Needs >> Table Decor & Handicrafts >> Showpieces >> Religious Idols",
          "Baby Care >> Infant Wear >> Baby Boys' Clothes >> Bodysuits & Sleepsuits",
          "Baby Care >> Infant Wear >> Baby Boys' Clothes >> Bodysuits & Sleepsuits >> Bodysuits",
          "Computers >> Laptop Accessories",
          "Computers >> Laptop Accessories >> Mouse Pads",
          "Computers >> Laptop Accessories >> Mouse Pads >> FRENEMY Mouse Pads",
          "Home Furnishing",
          "Home Furnishing >> Cushions, Pillows & Covers",
          "Home Furnishing >> Cushions, Pillows & Covers >> Cushion Covers",
          "Baby Care >> Infant Wear >> Baby Boys' Clothes >> Bodysuits & Sleepsuits >> Sleepsuits",
          "Baby Care >> Infant Wear >> Baby Boys' Clothes >> Bodysuits & Sleepsuits >> Sleepsuits >> Toffyhouse Sleepsuits",
          "Computers",
          "Computers >> Storage",
          "Computers >> Storage >> Pen Drives",
          "Computers >> Storage >> Pen Drives >> Shopizone Pen Drives",
          "Home Decor & Festive Needs >> Wall Decor & Clocks >> Key Holders",
          "Home Decor & Festive Needs >> Wall Decor & Clocks >> Key Holders >> Craftcart Key Holders",
          "Beauty and Personal Care",
          "Beauty and Personal Care >> Health Care",
          "Beauty and Personal Care >> Health Care >> Health Care Devices",
          "Beauty and Personal Care >> Health Care >> Health Care Devices >> Electrotherapy",
          "Beauty and Personal Care >> Health Care >> Health Care Devices >> Electrotherapy >> SOS Electrotherapy",
          "Beauty and Personal Care",
          "Beauty and Personal Care >> Body and Skin Care",
          "Beauty and Personal Care >> Body and Skin Care >> Hand Care",
          "Beauty and Personal Care >> Body and Skin Care >> Hand Care >> Manicure and Kits",
          "Beauty and Personal Care >> Body and Skin Care >> Hand Care >> Manicure and Kits",
          "Beauty and Personal Care >> Body and Skin Care >> Hand Care >> Manicure and Kits",
          "Home Decor & Festive Needs >> Table Decor & Handicrafts",
          "Home Decor & Festive Needs >> Table Decor & Handicrafts >> Table Decor",
          "Home Decor & Festive Needs >> Table Decor & Handicrafts >> Table Decor >> Hookah & Hookah Flavours",
          "Home Decor & Festive Needs >> Table Decor & Handicrafts >> Table Decor >> Hookah & Hookah Flavours >> Hookah",
          "Kitchen & Dining >> Coffee Mugs",
          "Kitchen & Dining >> Coffee Mugs",
          "Kitchen & Dining >> Coffee Mugs",
          "Kitchen & Dining >> Coffee Mugs",
          "Kitchen & Dining >> Coffee Mugs",
          "Kitchen & Dining",
          "Kitchen & Dining >> Kitchen Tools",
          "Kitchen & Dining >> Kitchen Tools >> Kitchen Implements",
          "Kitchen & Dining >> Kitchen Tools >> Kitchen Implements >> Pizza Cutters",
          "Home Decor & Festive Needs >> Showpieces",
          "Home Decor & Festive Needs >> Showpieces",
          "Home Decor & Festive Needs >> Showpieces",
          "Home Decor & Festive Needs >> Showpieces",
          "Home Decor & Festive Needs >> Showpieces >> Ethnic",
          "Kitchen & Dining >> Kitchen Tools >> Kitchen Implements >> Pizza Cutters",
          "Home Decor & Festive Needs >> Showpieces >> Ethnic",
          "Kitchen & Dining >> Kitchen Tools >> Kitchen Implements >> Pizza Cutters",
          "Home Decor & Festive Needs >> Showpieces",
          "Home Decor & Festive Needs >> Showpieces >> Ethnic",
          "Baby Care >> Infant Wear >> Baby Boys' Clothes",
          "Baby Care >> Infant Wear >> Baby Boys' Clothes >> Dungarees & Jumpsuits",
          "Baby Care >> Infant Wear >> Baby Boys' Clothes >> Dungarees & Jumpsuits >> Jumpsuits",
          "Home Decor & Festive Needs >> Showpieces",
          "Kitchen & Dining >> Kitchen Tools >> Kitchen Implements >> Pizza Cutters",
          "Home Decor & Festive Needs >> Showpieces",
          "Home Decor & Festive Needs >> Showpieces",
          "Home Decor & Festive Needs >> Showpieces >> Ethnic",
          "Home Decor & Festive Needs >> Showpieces",
          "Kitchen & Dining >> Kitchen Tools >> Kitchen Implements >> Pizza Cutters",
          "Kitchen & Dining >> Kitchen Tools >> Kitchen Implements >> Pizza Cutters",
          "Home Decor & Festive Needs >> Showpieces >> Ethnic",
          "Kitchen & Dining >> Kitchen Tools >> Kitchen Implements >> Pizza Cutters",
          "Home Decor & Festive Needs >> Showpieces >> Ethnic",
          "Baby Care >> Infant Wear >> Baby Boys' Clothes >> Dungarees & Jumpsuits >> Jumpsuits",
          "Home Decor & Festive Needs >> Showpieces >> Ethnic",
          "Kitchen & Dining >> Kitchen Tools >> Kitchen Implements >> Pizza Cutters",
          "Home Decor & Festive Needs >> Showpieces",
          "Home Decor & Festive Needs >> Showpieces >> Ethnic",
          "Home Decor & Festive Needs >> Showpieces >> Ethnic",
          "Home Decor & Festive Needs >> Showpieces >> Ethnic",
          "Home Decor & Festive Needs >> Showpieces >> Ethnic",
          "Kitchen & Dining >> Cookware >> Pots & Pans",
          "Kitchen & Dining >> Cookware >> Pots & Pans >> Woks & Kadhais",
          "Kitchen & Dining >> Kitchen Tools >> Kitchen Implements >> Pizza Cutters",
          "Home Decor & Festive Needs >> Showpieces",
          "Kitchen & Dining >> Cookware >> Pots & Pans >> Woks & Kadhais",
          "Home Decor & Festive Needs >> Showpieces >> Ethnic",
          "Kitchen & Dining >> Cookware >> Pots & Pans >> Woks & Kadhais",
          "Kitchen & Dining >> Cookware >> Pots & Pans >> Woks & Kadhais",
          "Kitchen & Dining >> Cookware >> Pots & Pans >> Woks & Kadhais",
          "Kitchen & Dining >> Cookware >> Pots & Pans >> Woks & Kadhais",
          "Kitchen & Dining >> Cookware >> Pots & Pans >> Woks & Kadhais",
          "Kitchen & Dining >> Cookware >> Pots & Pans >> Woks & Kadhais",
          "Kitchen & Dining >> Cookware >> Pots & Pans >> Woks & Kadhais",
          "Kitchen & Dining >> Cookware >> Pots & Pans >> Woks & Kadhais",
          "Home Decor & Festive Needs >> Showpieces",
          "Kitchen & Dining >> Cookware >> Pots & Pans >> Woks & Kadhais",
          "Home Decor & Festive Needs",
          "Home Decor & Festive Needs >> Showpieces",
          "Kitchen & Dining >> Cookware >> Pots & Pans >> Woks & Kadhais",
          "Home Decor & Festive Needs >> Showpieces",
          "Home Decor & Festive Needs >> Showpieces >> Ethnic",
          "Kitchen & Dining >> Cookware >> Pots & Pans >> Woks & Kadhais",
          "Home Decor & Festive Needs >> Showpieces >> Ethnic",
          "Kitchen & Dining >> Cookware >> Pots & Pans >> Woks & Kadhais",
          "Home Decor & Festive Needs >> Showpieces",
          "Home Decor & Festive Needs >> Showpieces",
          "Kitchen & Dining >> Cookware >> Pots & Pans >> Woks & Kadhais",
          "Kitchen & Dining >> Cookware >> Pots & Pans >> Woks & Kadhais",
          "Kitchen & Dining >> Kitchen Tools >> Kitchen Implements >> Pizza Cutters",
          "Home Decor & Festive Needs >> Showpieces",
          "Kitchen & Dining >> Cookware >> Pots & Pans >> Woks & Kadhais",
          "Kitchen & Dining >> Cookware >> Pots & Pans >> Woks & Kadhais",
          "Baby Care >> Infant Wear >> Baby Boys' Clothes >> Dungarees & Jumpsuits",
          "Baby Care >> Infant Wear >> Baby Boys' Clothes >> Dungarees & Jumpsuits >> Dungarees",
          "Baby Care >> Infant Wear >> Baby Boys' Clothes >> Dungarees & Jumpsuits >> Dungarees >> Babeezworld Dungarees",
          "Watches >> Wrist Watches",
          "Watches >> Wrist Watches >> Pittsburgh Polo Club Wrist Watches",
          "Watches >> Wrist Watches",
          "Watches >> Wrist Watches >> palito Wrist Watches",
          "Watches >> Wrist Watches",
          "Watches >> Wrist Watches >> Adino Wrist Watches",
          "Watches >> Wrist Watches",
          "Watches >> Wrist Watches >> ESIDON Wrist Watches",
          "Watches >> Wrist Watches >> palito Wrist Watches",
          "Home Furnishing",
          "Home Furnishing >> Living",
          "Home Furnishing >> Living >> Sofa Covers",
          "Baby Care >> Infant Wear >> Baby Boys' Clothes >> Dungarees & Jumpsuits >> Dungarees",
          "Baby Care >> Infant Wear >> Baby Boys' Clothes >> Dungarees & Jumpsuits >> Dungarees >> cherry crumble california Dungarees",
          "Watches >> Wrist Watches",
          "Watches >> Wrist Watches >> Yves Bertelin Wrist Watches",
          "Home Decor & Festive Needs",
          "Home Decor & Festive Needs >> Showpiece",
          "Home Decor & Festive Needs >> Showpiece >> Contemporary",
          "Home Decor & Festive Needs >> Showpiece >> Contemporary >> Services Junction Contemporary",
          "Watches >> Wrist Watches >> palito Wrist Watches",
          "Watches >> Wrist Watches",
          "Watches >> Wrist Watches >> V9 Wrist Watches",
          "Home Furnishing >> Living >> Sofa Covers",
          "Baby Care >> Infant Wear >> Baby Boys' Clothes >> Dungarees & Jumpsuits >> Dungarees",
          "Baby Care >> Infant Wear >> Baby Boys' Clothes >> Dungarees & Jumpsuits >> Dungarees >> Kandyfloss Dungarees",
          "Home Decor & Festive Needs >> Showpiece >> Contemporary >> Services Junction Contemporary",
          "Home Decor & Festive Needs >> Decorative Lighting & Lamps >> Table Lamps",
          "Home Decor & Festive Needs >> Decorative Lighting & Lamps >> Table Lamps >> Brahmz Table Lamps",
          "Baby Care >> Infant Wear >> Baby Girls' Clothes",
          "Baby Care >> Infant Wear >> Baby Girls' Clothes >> Dresses & Skirts",
          "Baby Care >> Infant Wear >> Baby Girls' Clothes >> Dresses & Skirts >> Dresses",
          "Baby Care >> Infant Wear >> Baby Girls' Clothes >> Dresses & Skirts >> Dresses >> MKB Dresses",
          "Baby Care >> Infant Wear >> Baby Girls' Clothes >> Dresses & Skirts >> Dresses",
          "Baby Care >> Infant Wear >> Baby Girls' Clothes >> Dresses & Skirts >> Dresses >> Toddla Dresses",
          "Baby Care >> Infant Wear >> Baby Girls' Clothes >> Dresses & Skirts >> Dresses",
          "Baby Care >> Infant Wear >> Baby Girls' Clothes >> Dresses & Skirts >> Dresses >> Baby Moshai Dresses",
          "Baby Care >> Infant Wear >> Baby Girls' Clothes >> Dresses & Skirts >> Dresses",
          "Baby Care >> Infant Wear >> Baby Girls' Clothes >> Dresses & Skirts >> Dresses >> My Little Lambs Dresses",
          "Kitchen & Dining",
          "Kitchen & Dining >> Bar & Glassware",
          "Kitchen & Dining >> Bar & Glassware >> Bar Accessories",
          "Kitchen & Dining >> Bar & Glassware >> Bar Accessories >> Bottle Openers",
          "Kitchen & Dining >> Bar & Glassware >> Bar Accessories >> Bottle Openers >> arnavs Bottle Openers",
          "Computers >> Computer Peripherals",
          "Computers >> Computer Peripherals >> CPU",
          "Computers >> Computer Peripherals >> CPU >> I Ball CPU",
          "Baby Care >> Infant Wear >> Baby Boys' Clothes",
          "Baby Care >> Infant Wear >> Baby Boys' Clothes >> Polos & T-Shirts",
          "Baby Care >> Infant Wear >> Baby Boys' Clothes >> Polos & T-Shirts >> Globe Polos & T-Shirts",
          "Kitchen & Dining >> Kitchen Tools >> Kitchen Implements",
          "Kitchen & Dining >> Kitchen Tools >> Kitchen Implements >> Hand Juicers",
          "Kitchen & Dining >> Kitchen Tools >> Kitchen Implements >> Hand Juicers >> JayEnterprise Hand Juicers",
          "Home Decor & Festive Needs >> Showpieces >> Ethnic",
          "Kitchen & Dining >> Cookware",
          "Kitchen & Dining >> Cookware >> Lids",
          "Beauty and Personal Care >> Health Care >> Health Care Devices",
          "Beauty and Personal Care >> Health Care >> Health Care Devices >> Body Fat Analyzers",
          "Home Decor & Festive Needs >> Showpieces >> Ethnic",
          "Home Decor & Festive Needs >> Showpieces >> Ethnic",
          "Home Decor & Festive Needs >> Showpieces >> Ethnic",
          "Home Decor & Festive Needs >> Showpieces >> Ethnic",
          "Home Decor & Festive Needs >> Showpieces >> Ethnic",
          "Computers >> Network Components >> Routers",
          "Beauty and Personal Care",
          "Beauty and Personal Care >> Fragrances",
          "Beauty and Personal Care >> Fragrances >> Deodorants",
          "Beauty and Personal Care >> Fragrances >> Deodorants >> Combos",
          "Computers >> Network Components >> Routers",
          "Beauty and Personal Care >> Fragrances >> Deodorants >> Combos",
          "Beauty and Personal Care >> Fragrances >> Deodorants >> Combos",
          "Beauty and Personal Care >> Fragrances >> Deodorants >> Combos",
          "Beauty and Personal Care >> Fragrances >> Deodorants >> Combos",
          "Computers >> Network Components >> Routers",
          "Beauty and Personal Care >> Fragrances >> Deodorants >> Combos",
          "Computers >> Network Components >> Routers",
          "Computers >> Network Components >> Routers",
          "Computers >> Network Components >> Routers",
          "Beauty and Personal Care >> Fragrances >> Deodorants >> Combos",
          "Computers >> Network Components >> Routers",
          "Computers >> Network Components >> Routers",
          "Beauty and Personal Care >> Fragrances >> Deodorants >> Combos",
          "Computers >> Network Components >> Routers",
          "Beauty and Personal Care >> Fragrances >> Deodorants >> Combos",
          "Beauty and Personal Care >> Fragrances >> Deodorants >> Combos",
          "Beauty and Personal Care >> Fragrances >> Deodorants >> Combos",
          "Computers >> Network Components >> Routers",
          "Beauty and Personal Care >> Fragrances >> Deodorants >> Combos",
          "Beauty and Personal Care >> Fragrances >> Deodorants >> Combos",
          "Beauty and Personal Care >> Fragrances >> Deodorants >> Combos",
          "Computers >> Network Components >> Routers",
          "Computers >> Network Components >> Routers",
          "Beauty and Personal Care >> Fragrances >> Deodorants >> Combos",
          "Beauty and Personal Care >> Fragrances >> Deodorants >> Combos",
          "Beauty and Personal Care >> Fragrances >> Deodorants >> Combos",
          "Beauty and Personal Care >> Fragrances >> Deodorants >> Combos",
          "Beauty and Personal Care >> Fragrances >> Deodorants >> Combos",
          "Computers >> Network Components >> Routers",
          "Beauty and Personal Care >> Fragrances >> Deodorants >> Combos",
          "Computers >> Network Components >> Routers",
          "Beauty and Personal Care >> Fragrances >> Deodorants >> Combos",
          "Computers >> Network Components >> Routers",
          "Beauty and Personal Care >> Fragrances >> Deodorants >> Combos",
          "Beauty and Personal Care >> Fragrances >> Deodorants >> Combos",
          "Beauty and Personal Care >> Fragrances >> Deodorants >> Combos",
          "Beauty and Personal Care >> Fragrances >> Deodorants >> Combos",
          "Computers >> Network Components >> Routers",
          "Computers >> Network Components >> Routers",
          "Beauty and Personal Care >> Fragrances >> Deodorants >> Combos",
          "Beauty and Personal Care",
          "Beauty and Personal Care >> Women's Hygiene",
          "Beauty and Personal Care >> Women's Hygiene >> Combo & kits",
          "Beauty and Personal Care >> Women's Hygiene >> Combo & kits >> Clear Face Combo & kits",
          "Computers >> Tablet Accessories",
          "Computers >> Tablet Accessories >> Cases & Covers",
          "Computers >> Tablet Accessories >> Cases & Covers >> YGS Cases & Covers",
          "Beauty and Personal Care >> Hair Care",
          "Beauty and Personal Care >> Hair Care >> Hair Care Accessories",
          "Beauty and Personal Care >> Hair Care >> Hair Care Accessories >> Hair Accessories",
          "Beauty and Personal Care >> Hair Care >> Hair Care Accessories >> Hair Accessories >> Majik Hair Accessories",
          "Computers >> Computer Peripherals",
          "Computers >> Computer Peripherals >> Portable Projectors",
          "Computers >> Computer Peripherals >> Portable Projectors >> Zingalalaa Portable Projectors",
          "Baby Care",
          "Baby Care >> Diapering & Potty Training",
          "Baby Care >> Diapering & Potty Training >> Changing Tables",
          "Baby Care >> Diapering & Potty Training >> Changing Tables >> BASRA Changing Tables",
          "Computers >> Laptop Accessories",
          "Computers >> Laptop Accessories >> Adapters",
          "Computers >> Laptop Accessories >> Adapters >> Smartpro Adapters",
          "Baby Care",
          "Baby Care >> Strollers & Activity Gear",
          "Baby Care >> Strollers & Activity Gear >> Strollers & Prams",
          "Baby Care >> Strollers & Activity Gear >> Strollers & Prams >> Graco Strollers & Prams",
          "Kitchen & Dining >> Bar & Glassware",
          "Kitchen & Dining >> Bar & Glassware >> Bar Glasses",
          "Kitchen & Dining >> Bar & Glassware >> Bar Glasses >> ocean Bar Glasses",
          "Home Decor & Festive Needs >> Showpieces",
          "Home Decor & Festive Needs >> Showpieces >> Fengshui",
          "Home Decor & Festive Needs >> Showpieces >> Fengshui >> Reiki Crystal Products Fengshui",
          "Beauty and Personal Care >> Health Care >> Health Care Devices",
          "Beauty and Personal Care >> Health Care >> Health Care Devices >> HomeEdge Health Care Devices",
          "Baby Care >> Infant Wear >> Baby Girls' Clothes",
          "Baby Care >> Infant Wear >> Baby Girls' Clothes >> Dungarees & Jumpsuits",
          "Baby Care >> Infant Wear >> Baby Girls' Clothes >> Dungarees & Jumpsuits >> Jumpsuits",
          "Baby Care >> Infant Wear >> Baby Girls' Clothes >> Dungarees & Jumpsuits >> Jumpsuits >> Budding Bees Jumpsuits",
          "Home Furnishing >> Kitchen & Dining Linen",
          "Home Furnishing >> Kitchen & Dining Linen >> Table Linen Sets",
          "Baby Care >> Baby Bedding",
          "Baby Care >> Baby Bedding >> Baby Sleeping Bags",
          "Baby Care >> Baby Bedding >> Baby Sleeping Bags >> Baby Bucket Baby Sleeping Bags",
          "Beauty and Personal Care >> Health Care >> Health Care Devices",
          "Beauty and Personal Care >> Health Care >> Health Care Devices >> Pulse Oximeters",
          "Beauty and Personal Care >> Health Care >> Health Care Devices >> Pulse Oximeters >> NAMS Pulse Oximeters",
          "Baby Care >> Infant Wear >> Baby Girls' Clothes",
          "Baby Care >> Infant Wear >> Baby Girls' Clothes >> Bodysuits & Sleepsuits",
          "Baby Care >> Infant Wear >> Baby Girls' Clothes >> Bodysuits & Sleepsuits >> Sleepsuits",
          "Baby Care >> Infant Wear >> Baby Girls' Clothes >> Bodysuits & Sleepsuits >> Sleepsuits >> Rute Sleepsuits",
          "Home Furnishing",
          "Home Furnishing >> Tidy Home Furnishing",
          "Home Furnishing >> Bed Linen >> Bedsheets",
          "Home Furnishing >> Bed Linen >> Bedsheets >> JBC Collection Bedsheets",
          "Computers >> Laptop Accessories",
          "Computers >> Laptop Accessories >> Laptop Adapters",
          "Computers >> Laptop Accessories >> Laptop Adapters >> Hako Laptop Adapters",
          "Computers >> Laptop Accessories >> Laptop Adapters >> Hako Laptop Adapters",
          "Computers >> Laptop Accessories >> Laptop Adapters >> Hako Laptop Adapters",
          "Baby Care >> Baby Bath & Skin",
          "Baby Care >> Baby Bath & Skin >> Baby Shower Caps",
          "Baby Care >> Baby Bath & Skin >> Baby Shower Caps >> 3kFactory Baby Shower Caps",
          "Baby Care >> Infant Wear >> Baby Girls' Clothes >> Dresses & Skirts >> Dresses",
          "Baby Care >> Infant Wear >> Baby Girls' Clothes >> Dresses & Skirts >> Dresses >> Saba Garments Dresses",
          "Baby Care >> Infant Wear >> Baby Boys' Clothes",
          "Baby Care >> Infant Wear >> Baby Boys' Clothes >> Winter & Seasonal Wear",
          "Baby Care >> Infant Wear >> Baby Boys' Clothes >> Winter & Seasonal Wear >> Jackets",
          "Baby Care >> Infant Wear >> Baby Boys' Clothes >> Winter & Seasonal Wear >> Jackets >> Upside Down Jackets",
          "Home Furnishing >> Living Room Furnishing",
          "Home Furnishing >> Living Room Furnishing >> Lushomes Living Room Furnishing",
          "Kitchen & Dining",
          "Kitchen & Dining >> Pressure Cookers & Pans",
          "Kitchen & Dining >> Containers & Bottles >> Bottles & Sippers",
          "Computers >> Storage >> Pen Drives",
          "Computers >> Storage >> Pen Drives >> HP Pen Drives",
          "Beauty and Personal Care >> Hair Care >> Conditioners",
          "Beauty and Personal Care >> Hair Care >> Conditioners >> TIGI BED HEAD Conditioners",
          "Baby Care >> Infant Wear >> Baby Girls' Clothes >> Dresses & Skirts >> Dresses",
          "Baby Care >> Infant Wear >> Baby Girls' Clothes >> Dresses & Skirts >> Dresses >> Beebay Dresses",
          "Kitchen & Dining >> Cookware",
          "Kitchen & Dining >> Cookware >> Steamers & Idli Makers",
          "Kitchen & Dining >> Cookware >> Steamers & Idli Makers >> Idli Makers",
          "Kitchen & Dining >> Cookware >> Steamers & Idli Makers >> Idli Makers >> vatika Idli Makers",
          "Home Furnishing >> Bath Linen >> Bath Mats",
          "Beauty and Personal Care >> Hair Care",
          "Beauty and Personal Care >> Hair Care >> Hair Colors",
          "Beauty and Personal Care >> Hair Care >> Hair Colors >> Garnier Hair Colors",
          "Baby Care >> Infant Wear >> Baby Girls' Clothes >> Dresses & Skirts >> Dresses",
          "Baby Care >> Infant Wear >> Baby Girls' Clothes >> Dresses & Skirts >> Dresses >> Fs Mini Klub Dresses",
          "Baby Care >> Infant Wear >> Baby Girls' Clothes >> Dresses & Skirts >> Dresses",
          "Baby Care >> Infant Wear >> Baby Girls' Clothes >> Dresses & Skirts >> Dresses >> Chokree Dresses",
          "Baby Care >> Infant Wear >> Baby Boys' Clothes",
          "Baby Care >> Infant Wear >> Baby Boys' Clothes >> Shorts & Trousers",
          "Baby Care >> Infant Wear >> Baby Boys' Clothes >> Shorts & Trousers >> Track Pants",
          "Baby Care >> Infant Wear >> Baby Boys' Clothes >> Shorts & Trousers >> Track Pants >> Shaun Track Pants",
          "Baby Care >> Infant Wear >> Baby Boys' Clothes >> Shorts & Trousers >> Track Pants >> Shaun Track Pants",
          "Baby Care >> Baby Bath & Skin >> Baby Bath Towels",
          "Baby Care >> Baby Bath & Skin >> Baby Bath Towels >> Tks Baby Bath Towels",
          "Kitchen & Dining >> Bar & Glassware >> Bar Glasses",
          "Kitchen & Dining >> Bar & Glassware >> Bar Glasses >> Ocean Bar Glasses",
          "Beauty and Personal Care >> Hair Care >> Conditioners",
          "Beauty and Personal Care >> Hair Care >> Conditioners >> OGX Conditioners",
          "Kitchen & Dining >> Bar & Glassware >> Bar Glasses",
          "Kitchen & Dining >> Bar & Glassware >> Bar Glasses >> giftsthatwow Bar Glasses",
          "Kitchen & Dining >> Bar & Glassware >> Bar Glasses >> giftsthatwow Bar Glasses",
          "Beauty and Personal Care",
          "Beauty and Personal Care >> Bath and Spa",
          "Beauty and Personal Care >> Bath and Spa >> Body and Essential Oils",
          "Beauty and Personal Care >> Bath and Spa >> Body and Essential Oils >> Allin Exporters Body and Essential Oils",
          "Kitchen & Dining >> Bar & Glassware >> Bar Glasses",
          "Kitchen & Dining >> Bar & Glassware >> Bar Glasses >> Art n Beyond Bar Glasses",
          "Beauty and Personal Care >> Bath and Spa >> Body and Essential Oils >> Allin Exporters Body and Essential Oils",
          "Home Furnishing >> Kitchen & Dining Linen",
          "Home Furnishing >> Kitchen & Dining Linen >> Kitchen Linen Sets",
          "Home Furnishing >> Kitchen & Dining Linen >> Kitchen Linen Sets",
          "Home Furnishing >> Kitchen & Dining Linen >> Kitchen Linen Sets",
          "Computers >> Laptop Accessories",
          "Computers >> Laptop Accessories >> Batteries",
          "Computers >> Laptop Accessories >> Batteries",
          "Computers >> Laptop Accessories >> Batteries",
          "Computers >> Laptop Accessories >> Batteries",
          "Computers >> Laptop Accessories >> Batteries",
          "Computers >> Laptop Accessories >> Batteries",
          "Watches >> Wrist Watches",
          "Watches >> Wrist Watches",
          "Watches >> Wrist Watches",
          "Watches >> Wrist Watches",
          "Watches >> Wrist Watches",
          "Watches >> Wrist Watches",
          "Watches >> Wrist Watches",
          "Watches >> Wrist Watches",
          "Watches >> Wrist Watches",
          "Watches >> Wrist Watches",
          "Watches >> Wrist Watches",
          "Watches >> Wrist Watches",
          "Watches >> Wrist Watches",
          "Watches >> Wrist Watches",
          "Watches >> Wrist Watches",
          "Watches >> Wrist Watches",
          "Watches >> Wrist Watches",
          "Watches >> Wrist Watches",
          "Watches >> Wrist Watches",
          "Watches >> Wrist Watches",
          "Computers >> Laptop Accessories",
          "Computers >> Laptop Accessories >> Cleaning Kits",
          "Computers >> Laptop Accessories >> Cleaning Kits >> Shopfloor.XYZ Cleaning Kits",
          "Baby Care >> Infant Wear >> Baby Girls' Clothes",
          "Baby Care >> Infant Wear >> Baby Girls' Clothes >> Leggings & Jeggings",
          "Baby Care >> Infant Wear >> Baby Girls' Clothes >> Leggings & Jeggings >> Babyoye Premium Leggings & Jeggings",
          "Home Furnishing >> Cushions, Pillows & Covers",
          "Home Furnishing >> Cushions, Pillows & Covers >> Cushions",
          "Home Furnishing >> Cushions, Pillows & Covers >> Cushions >> Furnishing Zone Cushions",
          "Baby Care >> Infant Wear >> Baby Girls' Clothes >> Leggings & Jeggings >> Babyoye Premium Leggings & Jeggings",
          "Baby Care >> Infant Wear >> Baby Girls' Clothes >> Leggings & Jeggings",
          "Baby Care >> Infant Wear >> Baby Girls' Clothes >> Leggings & Jeggings >> GREENWICH Leggings & Jeggings",
          "Home Decor & Festive Needs >> Flowers, Plants & Vases",
          "Home Decor & Festive Needs >> Flowers, Plants & Vases >> Artificial Plants",
          "Home Decor & Festive Needs >> Flowers, Plants & Vases >> Artificial Plants >> Miracle Retail Artificial Plants",
          "Home Decor & Festive Needs >> Flowers, Plants & Vases >> Artificial Plants",
          "Home Decor & Festive Needs >> Flowers, Plants & Vases >> Artificial Plants >> Mayursflora Artificial Plants",
          "Home Decor & Festive Needs >> Flowers, Plants & Vases >> Artificial Plants",
          "Home Decor & Festive Needs >> Flowers, Plants & Vases >> Artificial Plants >> V Creations Artificial Plants",
          "Baby Care >> Infant Wear >> Baby Girls' Clothes >> Innerwear & Sleepwear >> Night Suits",
          "Baby Care >> Infant Wear >> Baby Girls' Clothes >> Innerwear & Sleepwear >> Night Suits >> LITTLE FEETZ Night Suits",
          "Computers >> Tablet Accessories >> Keyboards",
          "Baby Care >> Infant Wear >> Baby Girls' Clothes >> Dresses & Skirts >> Dresses",
          "Home Decor & Festive Needs >> Wall Decor & Clocks",
          "Home Decor & Festive Needs >> Wall Decor & Clocks >> Wall Shelves",
          "Home Decor & Festive Needs >> Wall Decor & Clocks >> Wall Shelves >> R&Mshoppee Wall Shelves",
          "Kitchen & Dining >> Coffee Mugs",
          "Kitchen & Dining >> Coffee Mugs >> posterchacha Coffee Mugs",
          "Watches >> Wrist Watches",
          "Watches >> Wrist Watches >> Curren Nx Wrist Watches",
          "Computers",
          "Computers >> Laptops",
          "Beauty and Personal Care >> Makeup >> Vanity Boxes",
          "Beauty and Personal Care >> Makeup >> Vanity Boxes >> Soulful Threads Vanity Boxes",
          "Beauty and Personal Care >> Makeup >> Vanity Boxes",
          "Beauty and Personal Care >> Makeup >> Vanity Boxes >> Aapno Rajasthan Vanity Boxes",
          "Beauty and Personal Care >> Makeup >> Vanity Boxes",
          "Beauty and Personal Care >> Makeup >> Vanity Boxes >> MohanJodero Vanity Boxes",
          "Home Decor & Festive Needs",
          "Home Decor & Festive Needs >> Garden & Leisure",
          "Home Decor & Festive Needs >> Garden & Leisure >> Hammocks & Swings",
          "Home Decor & Festive Needs >> Garden & Leisure >> Hammocks & Swings >> Hammocks",
          "Home Decor & Festive Needs >> Garden & Leisure >> Hammocks & Swings >> Hammocks >> Rrsskids Hammocks",
          "Home Decor & Festive Needs >> Wall Decor & Clocks >> Wall Decals & Stickers >> Smart Wall Guru Wall Decals & Stickers",
          "Home Furnishing >> Cushions, Pillows & Covers >> Cushion Covers",
          "Baby Care >> Feeding & Nursing",
          "Baby Care >> Feeding & Nursing >> Bibs & Hankies",
          "Baby Care >> Feeding & Nursing >> Bibs & Hankies >> Bibs",
          "Baby Care >> Feeding & Nursing >> Bibs & Hankies >> Bibs >> Cheeky Chompers Bibs",
          "Baby Care >> Feeding & Nursing >> Bibs & Hankies >> Bibs",
          "Baby Care >> Feeding & Nursing >> Bibs & Hankies >> Bibs >> Piyo Piyo Bibs",
          "Home Decor & Festive Needs >> Wall Decor & Clocks >> Wall Shelves",
          "Home Decor & Festive Needs >> Wall Decor & Clocks >> Wall Shelves >> Innovative Wall Shelves",
          "Baby Care >> Baby Grooming",
          "Baby Care >> Baby Grooming >> Boreal Baby Grooming",
          "Baby Care >> Infant Wear >> Baby Girls' Clothes >> Dresses & Skirts >> Dresses",
          "Baby Care >> Infant Wear >> Baby Girls' Clothes >> Dresses & Skirts >> Dresses >> Pokizo Dresses",
          "Baby Care >> Infant Wear >> Baby Girls' Clothes >> Dresses & Skirts >> Dresses",
          "Baby Care >> Infant Wear >> Baby Girls' Clothes >> Dresses & Skirts >> Dresses >> Titrit Dresses",
          "Baby Care >> Infant Wear >> Baby Girls' Clothes >> Dresses & Skirts >> Dresses",
          "Baby Care >> Infant Wear >> Baby Girls' Clothes >> Dresses & Skirts >> Dresses >> Young Birds Dresses",
          "Baby Care >> Infant Wear >> Baby Boys' Clothes >> Bodysuits & Sleepsuits >> Bodysuits",
          "Baby Care >> Infant Wear >> Baby Boys' Clothes >> Bodysuits & Sleepsuits >> Bodysuits >> FS Mini Klub Bodysuits",
          "Baby Care >> Infant Wear >> Baby Boys' Clothes >> Bodysuits & Sleepsuits >> Bodysuits",
          "Baby Care >> Infant Wear >> Baby Boys' Clothes >> Bodysuits & Sleepsuits >> Bodysuits >> chota packet Bodysuits",
          "Baby Care >> Infant Wear >> Baby Boys' Clothes >> Bodysuits & Sleepsuits >> Bodysuits",
          "Baby Care >> Infant Wear >> Baby Boys' Clothes >> Bodysuits & Sleepsuits >> Bodysuits >> You Got Plan B Bodysuits",
          "Baby Care >> Diapering & Potty Training",
          "Baby Care >> Diapering & Potty Training >> Diaper Bags",
          "Baby Care >> Diapering & Potty Training >> Diaper Bags >> Mee Mee Diaper Bags",
          "Baby Care >> Infant Wear >> Baby Girls' Clothes >> Leggings & Jeggings",
          "Baby Care >> Infant Wear >> Baby Girls' Clothes >> Leggings & Jeggings >> Zero Leggings & Jeggings",
          "Baby Care >> Infant Wear >> Baby Boys' Clothes",
          "Baby Care >> Infant Wear >> Baby Boys' Clothes >> Suits and Blazers",
          "Baby Care >> Infant Wear >> Baby Boys' Clothes >> Suits and Blazers >> Blazers",
          "Baby Care >> Infant Wear >> Baby Boys' Clothes >> Suits and Blazers >> Blazers >> Oxolloxo Blazers",
          "Home Decor & Festive Needs >> Decorative Lighting & Lamps",
          "Home Decor & Festive Needs >> Decorative Lighting & Lamps >> Lanterns",
          "Home Decor & Festive Needs >> Decorative Lighting & Lamps >> Lanterns >> SHOPOJ Lanterns",
          "Home Furnishing >> Curtains & Accessories >> Curtains",
          "Beauty and Personal Care >> Hair Care >> Hair Care Accessories >> Hair Accessories",
          "Beauty and Personal Care >> Hair Care >> Hair Care Accessories >> Hair Accessories >> Sarah Hair Accessories",
          "Kitchen & Dining >> Cookware >> Pots & Pans",
          "Kitchen & Dining >> Cookware >> Pots & Pans >> Cookware Pots",
          "Kitchen & Dining >> Cookware >> Pots & Pans >> Cookware Pots >> Wonderchef Cookware Pots",
          "Baby Care >> Infant Wear >> Baby Girls' Clothes",
          "Baby Care >> Infant Wear >> Baby Girls' Clothes >> T-Shirts & Tops",
          "Baby Care >> Infant Wear >> Baby Girls' Clothes >> T-Shirts & Tops >> Shrugs",
          "Baby Care >> Infant Wear >> Baby Girls' Clothes >> T-Shirts & Tops >> Shrugs >> Kushies baby Shrugs",
          "Baby Care >> Infant Wear >> Baby Girls' Clothes >> Dresses & Skirts >> Dresses",
          "Baby Care >> Infant Wear >> Baby Girls' Clothes >> Dresses & Skirts >> Dresses >> Wow! Dresses",
          "Baby Care >> Infant Wear >> Baby Girls' Clothes >> Innerwear & Sleepwear >> Night Suits",
          "Baby Care >> Infant Wear >> Baby Girls' Clothes >> Innerwear & Sleepwear >> Night Suits >> CHOCOBERRY Night Suits",
          "Baby Care >> Infant Wear >> Baby Boys' Clothes >> Shorts & Trousers",
          "Baby Care >> Infant Wear >> Baby Boys' Clothes >> Shorts & Trousers >> Shorts",
          "Baby Care >> Infant Wear >> Baby Boys' Clothes >> Shorts & Trousers >> Shorts >> Lilliput Shorts",
          "Baby Care >> Infant Wear >> Baby Girls' Clothes >> Dresses & Skirts >> Dresses",
          "Baby Care >> Infant Wear >> Baby Girls' Clothes >> Dresses & Skirts >> Dresses >> Jacadi Paris Dresses",
          "Baby Care >> Infant Wear >> Baby Girls' Clothes >> Dresses & Skirts >> Dresses >> Wow! Dresses",
          "Baby Care >> Infant Wear >> Baby Girls' Clothes >> Dresses & Skirts >> Dresses >> Wow! Dresses",
          "Baby Care >> Infant Wear >> Baby Girls' Clothes >> Dresses & Skirts >> Dresses >> Jacadi Paris Dresses",
          "Baby Care >> Infant Wear >> Baby Boys' Clothes >> Shorts & Trousers >> Shorts",
          "Baby Care >> Infant Wear >> Baby Boys' Clothes >> Shorts & Trousers >> Shorts >> FS Mini Klub Shorts",
          "Kitchen & Dining",
          "Kitchen & Dining >> Housekeeping & Laundry",
          "Kitchen & Dining >> Housekeeping & Laundry >> Home Cleaning",
          "Kitchen & Dining >> Housekeeping & Laundry >> Home Cleaning >> Brooms & Brushes",
          "Kitchen & Dining >> Housekeeping & Laundry >> Home Cleaning >> Brooms & Brushes >> Geol Brooms & Brushes",
          "Computers >> Laptop Accessories",
          "Computers >> Laptop Accessories >> Laptop Bags",
          "Computers >> Laptop Accessories >> Laptop Bags >> Sunlast Laptop Bags",
          "Baby Care >> Infant Wear >> Baby Girls' Clothes >> Innerwear & Sleepwear >> Night Suits",
          "Baby Care >> Infant Wear >> Baby Girls' Clothes >> Innerwear & Sleepwear >> Night Suits >> NammaBaby Night Suits",
          "Baby Care >> Infant Wear >> Baby Girls' Clothes >> Innerwear & Sleepwear >> Night Suits",
          "Baby Care >> Infant Wear >> Baby Girls' Clothes >> Innerwear & Sleepwear >> Night Suits >> Thakkar Night Suits",
          "Baby Care >> Infant Wear >> Baby Girls' Clothes >> Innerwear & Sleepwear >> Night Suits",
          "Baby Care >> Infant Wear >> Baby Girls' Clothes >> Innerwear & Sleepwear >> Night Suits >> next steps Night Suits",
          "Computers",
          "Computers >> Computer Components",
          "Computers >> Computer Components >> Processors",
          "Computers >> Computer Components >> Processors >> Intel Processors",
          "Baby Care >> Infant Wear >> Baby Girls' Clothes >> Dresses & Skirts >> Dresses >> MKB Dresses",
          "Baby Care >> Infant Wear >> Baby Girls' Clothes >> Dresses & Skirts >> Dresses",
          "Baby Care >> Infant Wear >> Baby Girls' Clothes >> Dresses & Skirts >> Dresses >> NeedyBee Dresses",
          "Baby Care >> Infant Wear >> Baby Girls' Clothes >> Dresses & Skirts >> Dresses",
          "Baby Care >> Infant Wear >> Baby Girls' Clothes >> Dresses & Skirts >> Dresses >> Seals Dresses",
          "Baby Care >> Infant Wear >> Baby Girls' Clothes >> Dresses & Skirts >> Dresses >> Chokree Dresses",
          "Baby Care >> Infant Wear >> Baby Boys' Clothes",
          "Baby Care >> Infant Wear >> Baby Boys' Clothes >> Innerwear & Sleepwear",
          "Baby Care >> Infant Wear >> Baby Boys' Clothes >> Innerwear & Sleepwear >> Bloomers & Drawers",
          "Baby Care >> Infant Wear >> Baby Boys' Clothes >> Innerwear & Sleepwear >> Bloomers & Drawers >> Esteem Bloomers & Drawers",
          "Home Decor & Festive Needs >> Wall Decor & Clocks",
          "Home Decor & Festive Needs >> Wall Decor & Clocks >> Clocks",
          "Home Decor & Festive Needs >> Wall Decor & Clocks >> Clocks >> Wall Clocks",
          "Home Decor & Festive Needs >> Wall Decor & Clocks >> Clocks >> Wall Clocks >> KLOCX Wall Clocks",
          "Baby Care >> Baby Bath & Skin >> Baby Bath Towels",
          "Watches >> Wrist Watches",
          "Baby Care >> Baby Bath & Skin >> Baby Bath Towels",
          "Baby Care",
          "Baby Care >> Baby & Kids Gifts",
          "Baby Care >> Baby & Kids Gifts >> Photo Frames",
          "Baby Care >> Baby Bath & Skin >> Baby Bath Towels",
          "Baby Care >> Feeding & Nursing",
          "Baby Care >> Feeding & Nursing >> Utensils",
          "Baby Care >> Feeding & Nursing >> Utensils >> Sippers & Cups",
          "Home Decor & Festive Needs >> Wall Decor & Clocks >> Wall Decals & Stickers",
          "Home Decor & Festive Needs >> Table Decor & Handicrafts >> Showpieces >> Religious Idols",
          "Baby Care >> Feeding & Nursing >> Utensils >> Sippers & Cups",
          "Baby Care >> Baby Bath & Skin >> Baby Bath Towels",
          "Baby Care >> Infant Wear >> Baby Girls' Clothes",
          "Baby Care >> Infant Wear >> Baby Girls' Clothes >> Accessories",
          "Baby Care >> Infant Wear >> Baby Girls' Clothes >> Accessories >> Caps",
          "Baby Care >> Infant Wear >> Baby Girls' Clothes >> Ethnic Wear",
          "Baby Care >> Infant Wear >> Baby Girls' Clothes >> Ethnic Wear >> Ethnic Sets",
          "Kitchen & Dining >> Lighting >> Bulbs",
          "Baby Care >> Baby Bath & Skin >> Baby Bath Towels",
          "Baby Care >> Baby & Kids Gifts >> Photo Frames",
          "Kitchen & Dining >> Lighting >> Bulbs",
          "Baby Care >> Baby & Kids Gifts >> Photo Frames",
          "Kitchen & Dining >> Lighting >> Bulbs",
          "Baby Care >> Baby Bath & Skin >> Baby Bath Towels",
          "Kitchen & Dining >> Lighting >> Bulbs",
          "Baby Care >> Baby Bath & Skin >> Baby Bath Towels",
          "Home Decor & Festive Needs >> Table Decor & Handicrafts >> Showpieces >> Religious Idols",
          "Kitchen & Dining >> Lighting >> Bulbs",
          "Baby Care >> Baby & Kids Gifts >> Photo Frames",
          "Beauty and Personal Care >> Body and Skin Care",
          "Beauty and Personal Care >> Body and Skin Care >> Face Care",
          "Beauty and Personal Care >> Body and Skin Care >> Face Care >> Sunscreen",
          "Beauty and Personal Care >> Body and Skin Care >> Face Care >> Sunscreen",
          "Beauty and Personal Care >> Body and Skin Care >> Face Care >> Sunscreen",
          "Beauty and Personal Care >> Body and Skin Care >> Face Care >> Sunscreen",
          "Beauty and Personal Care >> Body and Skin Care >> Face Care >> Sunscreen",
          "Beauty and Personal Care >> Body and Skin Care >> Face Care >> Sunscreen",
          "Beauty and Personal Care >> Body and Skin Care >> Face Care >> Sunscreen",
          "Kitchen & Dining >> Lighting >> Bulbs",
          "Beauty and Personal Care >> Body and Skin Care >> Face Care >> Sunscreen",
          "Beauty and Personal Care >> Body and Skin Care >> Face Care >> Sunscreen",
          "Beauty and Personal Care >> Body and Skin Care >> Face Care >> Sunscreen",
          "Home Decor & Festive Needs >> Wall Decor & Clocks",
          "Home Decor & Festive Needs >> Wall Decor & Clocks >> Paintings",
          "Home Decor & Festive Needs >> Wall Decor & Clocks >> Paintings",
          "Home Furnishing >> Kitchen & Dining Linen",
          "Home Furnishing >> Kitchen & Dining Linen >> Table Placemats",
          "Home Decor & Festive Needs >> Showpieces",
          "Home Decor & Festive Needs >> Table Decor & Handicrafts >> Showpieces >> Religious Idols",
          "Baby Care >> Diapering & Potty Training",
          "Baby Care >> Diapering & Potty Training >> Nappies & Cloth Diapers",
          "Baby Care >> Diapering & Potty Training >> Nappies & Cloth Diapers",
          "Baby Care >> Diapering & Potty Training >> Nappies & Cloth Diapers",
          "Home Furnishing >> Kitchen & Dining Linen",
          "Home Decor & Festive Needs >> Table Decor & Handicrafts >> Showpieces >> Religious Idols",
          "Baby Care >> Diapering & Potty Training >> Nappies & Cloth Diapers",
          "Home Decor & Festive Needs >> Table Decor & Handicrafts >> Showpieces >> Religious Idols",
          "Home Decor & Festive Needs >> Decorative Lighting & Lamps",
          "Home Decor & Festive Needs >> Decorative Lighting & Lamps >> Series Lights",
          "Home Decor & Festive Needs >> Decorative Lighting & Lamps >> Series Lights >> VRCT Series Lights",
          "Beauty and Personal Care >> Makeup >> Lips",
          "Beauty and Personal Care >> Makeup >> Lips >> Lipsticks",
          "Home Furnishing >> Kitchen & Dining Linen >> Kitchen Linen Sets",
          "Home Furnishing >> Kitchen & Dining Linen >> Kitchen Linen Sets >> Tidy Kitchen Linen Sets",
          "Baby Care >> Infant Wear >> Baby Boys' Clothes >> Bodysuits & Sleepsuits >> Bodysuits",
          "Computers >> Computer Peripherals >> Printers & Inks >> Toners",
          "Home Decor & Festive Needs >> Table Decor & Handicrafts >> Showpieces >> Religious Idols",
          "Beauty and Personal Care >> Bath and Spa",
          "Beauty and Personal Care >> Bath and Spa >> Bath and Spa Accessories",
          "Beauty and Personal Care >> Bath and Spa >> Bath and Spa Accessories >> Loofahs",
          "Beauty and Personal Care >> Bath and Spa >> Bath and Spa Accessories >> Loofahs >> AntiqueShop Loofahs",
          "Beauty and Personal Care >> Bath and Spa >> Bath and Spa Accessories >> Loofahs >> AntiqueShop Loofahs",
          "Beauty and Personal Care >> Bath and Spa >> Bath and Spa Accessories >> Loofahs >> AntiqueShop Loofahs",
          "Home Decor & Festive Needs",
          "Home Decor & Festive Needs >> Religion & Devotion",
          "Home Decor & Festive Needs >> Religion & Devotion >> brass gift center Religion & Devotion",
          "Kitchen & Dining",
          "Kitchen & Dining >> Dinnerware & Crockery",
          "Kitchen & Dining >> Dinnerware & Crockery >> Cups & Saucers",
          "Kitchen & Dining >> Dinnerware & Crockery >> Cups & Saucers >> Buyer's Beach Cups & Saucers",
          "Computers >> Laptop Accessories",
          "Computers >> Laptop Accessories >> Anti Dust Plugs",
          "Watches >> Wrist Watches",
          "Kitchen & Dining >> Containers & Bottles >> Bottles & Sippers >> Water bottle",
          "Beauty and Personal Care >> Combos and Kits",
          "Watches >> Wrist Watches",
          "Watches >> Wrist Watches",
          "Watches >> Wrist Watches",
          "Watches >> Wrist Watches",
          "Watches >> Wrist Watches",
          "Beauty and Personal Care >> Combos and Kits",
          "Watches >> Wrist Watches",
          "Baby Care >> Baby Bedding",
          "Baby Care >> Baby Bedding >> Baby Blankets",
          "Baby Care >> Baby Bedding >> Baby Blankets",
          "Baby Care >> Baby Bedding >> Baby Blankets",
          "Baby Care >> Baby Bedding >> Baby Blankets",
          "Watches >> Wrist Watches",
          "Baby Care >> Feeding & Nursing >> Utensils",
          "Baby Care >> Feeding & Nursing >> Utensils >> Baby Spoons & Forks",
          "Baby Care >> Feeding & Nursing >> Utensils >> Baby Spoons & Forks",
          "Baby Care >> Baby Bath & Skin >> Baby Bath Towels",
          "Watches >> Wrist Watches",
          "Beauty and Personal Care",
          "Beauty and Personal Care >> Eye Care",
          "Baby Care >> Diapering & Potty Training >> Nappies & Cloth Diapers",
          "Watches >> Wrist Watches",
          "Watches >> Wrist Watches",
          "Computers >> Laptop Accessories >> Adapters",
          "Computers >> Laptop Accessories >> Adapters",
          "Home Decor & Festive Needs >> Wall Decor & Clocks >> Clocks >> Wall Clocks",
          "Home Decor & Festive Needs >> Wall Decor & Clocks >> Clocks >> Wall Clocks",
          "Home Decor & Festive Needs >> Showpiece",
          "Home Decor & Festive Needs >> Showpiece >> Bharatcraft Showpiece",
          "Watches >> Wrist Watches",
          "Watches >> Wrist Watches",
          "Watches >> Wrist Watches",
          "Computers >> Laptop Accessories >> USB Gadgets",
          "Computers >> Laptop Accessories >> USB Gadgets",
          "Computers >> Laptop Accessories >> USB Gadgets",
          "Computers >> Laptop Accessories >> USB Gadgets",
          "Computers >> Laptop Accessories >> USB Gadgets",
          "Computers >> Laptop Accessories >> USB Gadgets",
          "Computers >> Laptop Accessories >> USB Gadgets",
          "Computers >> Laptop Accessories >> USB Gadgets",
          "Computers >> Laptop Accessories >> USB Gadgets",
          "Computers >> Laptop Accessories >> USB Gadgets",
          "Computers >> Laptop Accessories >> USB Gadgets",
          "Computers >> Laptop Accessories >> USB Gadgets",
          "Computers >> Laptop Accessories >> USB Gadgets",
          "Computers >> Laptop Accessories >> USB Gadgets",
          "Baby Care >> Infant Wear >> Baby Girls' Clothes >> Shorts & Trousers",
          "Baby Care >> Infant Wear >> Baby Girls' Clothes >> Shorts & Trousers >> Trousers",
          "Computers >> Laptop Accessories >> USB Gadgets",
          "Computers >> Laptop Accessories >> USB Gadgets",
          "Computers >> Laptop Accessories >> USB Gadgets",
          "Computers >> Laptop Accessories >> USB Gadgets",
          "Computers >> Laptop Accessories >> USB Gadgets",
          "Computers >> Laptop Accessories >> USB Gadgets",
          "Computers >> Laptop Accessories >> USB Gadgets",
          "Computers >> Laptop Accessories >> USB Gadgets",
          "Computers >> Laptop Accessories >> USB Gadgets",
          "Computers >> Laptop Accessories >> USB Gadgets",
          "Computers >> Laptop Accessories >> USB Gadgets",
          "Computers >> Laptop Accessories >> Batteries",
          "Baby Care >> Infant Wear >> Baby Girls' Clothes",
          "Baby Care >> Infant Wear >> Baby Girls' Clothes >> Combo Sets",
          "Baby Care >> Infant Wear >> Baby Girls' Clothes >> Combo Sets >> kawal fashion Combo Sets",
          "Beauty and Personal Care",
          "Beauty and Personal Care >> Men's Grooming",
          "Beauty and Personal Care >> Men's Grooming >> Sivanna Men's Grooming",
          "Baby Care >> Infant Wear >> Baby Girls' Clothes >> Bodysuits & Sleepsuits",
          "Baby Care >> Infant Wear >> Baby Girls' Clothes >> Bodysuits & Sleepsuits >> Bodysuits",
          "Baby Care >> Infant Wear >> Baby Girls' Clothes >> Bodysuits & Sleepsuits >> Bodysuits >> Lula Bodysuits",
          "Home Furnishing >> Bath Linen",
          "Baby Care >> Baby Grooming",
          "Baby Care >> Baby Grooming >> Baby Massage Oils",
          "Beauty and Personal Care >> Bath and Spa >> Body and Essential Oils",
          "Baby Care >> Furniture & Furnishings >> Inflatable Products",
          "Beauty and Personal Care >> Health Care",
          "Beauty and Personal Care >> Health Care >> Health Care Accessories",
          "Beauty and Personal Care >> Health Care >> Health Care Accessories >> Health Care Accessories",
          "Beauty and Personal Care >> Health Care >> Health Care Accessories >> Health Care Accessories >> KDS SURGICAL Health Care Accessories",
          "Home Decor & Festive Needs >> Showpiece >> Contemporary",
          "Home Decor & Festive Needs >> Showpiece >> Contemporary >> Bharatcraft Contemporary",
          "Beauty and Personal Care >> Hair Care >> Hair Colors",
          "Beauty and Personal Care >> Hair Care >> Hair Colors >> Loreal Hair Colors",
          "Home Decor & Festive Needs >> Flowers, Plants & Vases >> Flower Vase >> @home Flower Vase",
          "Kitchen & Dining >> Tableware & Cutlery",
          "Kitchen & Dining >> Tableware & Cutlery >> Jugs & Pitchers",
          "Kitchen & Dining >> Tableware & Cutlery >> Jugs & Pitchers >> Jugs",
          "Kitchen & Dining >> Tableware & Cutlery >> Jugs & Pitchers >> Jugs >> Prisha India Craft Jugs",
          "Home Decor & Festive Needs >> Wall Decor & Clocks >> Paintings",
          "Home Decor & Festive Needs >> Wall Decor & Clocks >> Paintings >> BRANDWAGON Paintings",
          "Baby Care >> Baby Bedding >> Baby Blankets",
          "Baby Care >> Baby Bedding >> Baby Blankets >> Relaxfeel Baby Blankets",
          "Home Decor & Festive Needs >> Wall Decor & Clocks",
          "Home Decor & Festive Needs >> Wall Decor & Clocks >> Posters",
          "Home Decor & Festive Needs >> Wall Decor & Clocks >> Posters >> STYLE CLUES FASHION Posters",
          "Home Decor & Festive Needs >> Wall Decor & Clocks >> Posters",
          "Home Decor & Festive Needs >> Wall Decor & Clocks >> Posters >> Mega product Posters",
          "Baby Care >> Infant Wear >> Baby Boys' Clothes",
          "Baby Care >> Infant Wear >> Baby Boys' Clothes >> Shirts",
          "Baby Care >> Infant Wear >> Baby Boys' Clothes >> Shirts >> Fs Mini Klub Shirts",
          "Baby Care >> Infant Wear >> Baby Boys' Clothes >> Shirts",
          "Baby Care >> Infant Wear >> Baby Boys' Clothes >> Shirts >> Cotton On Kids Shirts",
          "Baby Care >> Infant Wear >> Baby Girls' Clothes >> Accessories",
          "Baby Care >> Infant Wear >> Baby Girls' Clothes >> Accessories >> Hats",
          "Baby Care >> Infant Wear >> Baby Girls' Clothes >> Accessories >> Hats >> Portia Hats",
          "Baby Care >> Infant Wear >> Baby Boys' Clothes >> Shirts",
          "Baby Care >> Infant Wear >> Baby Boys' Clothes >> Shirts >> Beebay Shirts",
          "Home Decor & Festive Needs >> Wall Decor & Clocks >> Posters",
          "Home Decor & Festive Needs >> Wall Decor & Clocks >> Posters >> Shoperite Posters",
          "Home Decor & Festive Needs >> Wall Decor & Clocks >> Posters",
          "Home Decor & Festive Needs >> Wall Decor & Clocks >> Posters >> Urban Monk Posters",
          "Watches",
          "Watches >> Clocks",
          "Watches >> Clocks >> Table Clocks",
          "Watches >> Clocks >> Table Clocks >> Like Table Clocks",
          "Baby Care >> Infant Wear >> Baby Boys' Clothes >> Shirts",
          "Baby Care >> Infant Wear >> Baby Boys' Clothes >> Shirts >> 612 League Shirts",
          "Baby Care >> Infant Wear >> Baby Boys' Clothes >> Shirts",
          "Baby Care >> Infant Wear >> Baby Boys' Clothes >> Shirts >> FS Mini Klub Shirts",
          "Home Decor & Festive Needs >> Wall Decor & Clocks",
          "Home Decor & Festive Needs >> Wall Decor & Clocks >> Wallpapers",
          "Home Decor & Festive Needs >> Wall Decor & Clocks >> Wallpapers >> wallskart Wallpapers",
          "Home Decor & Festive Needs >> Decorative Lighting & Lamps >> Series Lights",
          "Home Decor & Festive Needs >> Table Decor & Handicrafts >> Showpieces >> Religious Idols",
          "Home Decor & Festive Needs >> Decorative Lighting & Lamps >> Series Lights",
          "Home Decor & Festive Needs >> Table Decor & Handicrafts >> Showpieces >> Religious Idols",
          "Home Decor & Festive Needs >> Decorative Lighting & Lamps >> Series Lights",
          "Beauty and Personal Care >> Makeup >> Lips >> Lipsticks",
          "Home Decor & Festive Needs >> Decorative Lighting & Lamps >> Series Lights",
          "Home Decor & Festive Needs >> Showpieces",
          "Home Decor & Festive Needs >> Table Decor & Handicrafts >> Showpieces >> Religious Idols",
          "Beauty and Personal Care >> Makeup >> Lips >> Lipsticks",
          "Home Decor & Festive Needs >> Decorative Lighting & Lamps >> Series Lights",
          "Home Decor & Festive Needs >> Decorative Lighting & Lamps >> Series Lights",
          "Home Decor & Festive Needs >> Showpieces",
          "Home Decor & Festive Needs >> Table Decor & Handicrafts >> Table Decor >> Hookah & Hookah Flavours",
          "Home Decor & Festive Needs >> Table Decor & Handicrafts >> Table Decor >> Hookah & Hookah Flavours >> Hookah Flavors",
          "Home Decor & Festive Needs >> Decorative Lighting & Lamps >> Series Lights",
          "Beauty and Personal Care >> Makeup >> Lips >> Lipsticks",
          "Home Decor & Festive Needs >> Table Decor & Handicrafts >> Showpieces >> Religious Idols",
          "Home Decor & Festive Needs >> Table Decor & Handicrafts >> Table Decor >> Hookah & Hookah Flavours >> Hookah Flavors",
          "Home Decor & Festive Needs >> Religion & Devotion",
          "Home Decor & Festive Needs >> Religion & Devotion >> Shankh",
          "Kitchen & Dining >> Tableware & Cutlery",
          "Kitchen & Dining >> Tableware & Cutlery >> Cutlery",
          "Kitchen & Dining >> Tableware & Cutlery >> Cutlery >> Forks",
          "Kitchen & Dining >> Tableware & Cutlery >> Cutlery >> Forks >> Bhalaria Forks",
          "Home Decor & Festive Needs >> Decorative Lighting & Lamps",
          "Home Decor & Festive Needs >> Decorative Lighting & Lamps >> Floor Lamp",
          "Home Decor & Festive Needs >> Decorative Lighting & Lamps >> Floor Lamp >> Nutcase Floor Lamp",
          "Home Furnishing",
          "Home Furnishing >> Floor Coverings",
          "Home Furnishing >> Floor Coverings >> Carpets & Rugs",
          "Home Furnishing >> Floor Coverings >> Carpets & Rugs",
          "Home Furnishing >> Kitchen & Dining Linen >> Kitchen Linen Sets",
          "Home Furnishing >> Floor Coverings >> Carpets & Rugs",
          "Home Furnishing >> Floor Coverings >> Carpets & Rugs",
          "Home Furnishing >> Floor Coverings >> Carpets & Rugs",
          "Home Furnishing >> Floor Coverings >> Carpets & Rugs",
          "Beauty and Personal Care >> Body and Skin Care",
          "Beauty and Personal Care >> Body and Skin Care >> Lip Care",
          "Beauty and Personal Care >> Body and Skin Care >> Lip Care >> Lip Creams",
          "Beauty and Personal Care >> Body and Skin Care >> Lip Care >> Lip Creams >> NYX Lip Creams",
          "Kitchen & Dining >> Kitchen Tools >> Kitchen Implements",
          "Kitchen & Dining >> Kitchen Tools >> Kitchen Implements >> Kitchen Scissors",
          "Kitchen & Dining >> Kitchen Tools >> Kitchen Implements >> Kitchen Scissors >> Checkered Chef Kitchen Scissors",
          "Baby Care >> Baby Bedding",
          "Baby Care >> Baby Bedding >> Baby Bedsheets",
          "Baby Care >> Baby Bedding >> Baby Bedsheets >> Mahadev Handicrafts Baby Bedsheets",
          "Baby Care >> Baby Bedding >> Baby Bedsheets",
          "Baby Care >> Baby Bedding >> Baby Bedsheets >> Sparklings Baby Bedsheets",
          "Home Furnishing >> Living >> Sofa Covers",
          "Home Furnishing >> Living >> Sofa Covers >> Swastik Sofa Covers",
          "Baby Care >> Baby Bedding >> Baby Bedsheets",
          "Baby Care >> Baby Bedding >> Baby Bedsheets >> Bela Home Baby Bedsheets",
          "Baby Care >> Baby Bedding >> Baby Bedsheets >> Sparklings Baby Bedsheets",
          "Baby Care >> Infant Wear >> Baby Boys' Clothes >> Shirts",
          "Baby Care >> Infant Wear >> Baby Boys' Clothes >> Shirts >> CALCULUS Shirts",
          "Home Decor & Festive Needs >> Showpiece",
          "Home Decor & Festive Needs >> Showpiece >> Gramophones",
          "Home Decor & Festive Needs >> Showpiece >> Gramophones >> ROYLE KATOCH Gramophones",
          "Home Decor & Festive Needs >> Religion & Devotion",
          "Home Decor & Festive Needs >> Religion & Devotion >> Jaycoknit Religion & Devotion",
          "Baby Care >> Infant Wear >> Baby Boys' Clothes >> Shirts",
          "Baby Care >> Infant Wear >> Baby Boys' Clothes >> Shirts >> Jacadi paris Shirts",
          "Beauty and Personal Care",
          "Beauty and Personal Care >> Beauty Accessories",
          "Beauty and Personal Care >> Beauty Accessories >> Makeup Accessories",
          "Beauty and Personal Care >> Beauty Accessories >> Makeup Accessories >> Brushes and Applicators",
          "Beauty and Personal Care >> Beauty Accessories >> Makeup Accessories >> Brushes and Applicators >> LOTTIE LONDON Brushes and Applicators",
          "Baby Care >> Infant Wear >> Baby Girls' Clothes >> Bodysuits & Sleepsuits >> Bodysuits",
          "Baby Care >> Infant Wear >> Baby Girls' Clothes >> Bodysuits & Sleepsuits >> Bodysuits >> FS Mini Klub Bodysuits",
          "Kitchen & Dining >> Kitchen Tools",
          "Kitchen & Dining >> Kitchen Tools >> Choppers & Peelers",
          "Kitchen & Dining >> Kitchen Tools >> Choppers & Peelers >> Graters & Slicers",
          "Kitchen & Dining >> Kitchen Tools >> Choppers & Peelers >> Graters & Slicers >> Deep Graters & Slicers",
          "Baby Care >> Infant Wear >> Baby Boys' Clothes >> Polos & T-Shirts",
          "Baby Care >> Infant Wear >> Baby Boys' Clothes >> Polos & T-Shirts >> dongli Polos & T-Shirts",
          "Baby Care >> Infant Wear >> Baby Boys' Clothes >> Polos & T-Shirts",
          "Baby Care >> Infant Wear >> Baby Boys' Clothes >> Polos & T-Shirts >> Fs Mini Klub Polos & T-Shirts",
          "Baby Care >> Infant Wear >> Baby Girls' Clothes >> Ethnic Wear >> Salwar Kurta Dupattas",
          "Baby Care >> Infant Wear >> Baby Girls' Clothes >> Ethnic Wear >> Salwar Kurta Dupattas >> Aarika Salwar Kurta Dupattas",
          "Baby Care >> Infant Wear >> Baby Boys' Clothes >> Polos & T-Shirts",
          "Baby Care >> Infant Wear >> Baby Boys' Clothes >> Polos & T-Shirts >> Rishan Polos & T-Shirts",
          "Baby Care >> Infant Wear >> Baby Boys' Clothes >> Polos & T-Shirts",
          "Baby Care >> Infant Wear >> Baby Boys' Clothes >> Polos & T-Shirts >> YK Polos & T-Shirts",
          "Home Decor & Festive Needs >> Table Decor & Handicrafts >> Showpieces >> Human Figurines",
          "Beauty and Personal Care >> Makeup >> Vanity Boxes",
          "Home Decor & Festive Needs >> Showpieces",
          "Home Decor & Festive Needs >> Table Decor & Handicrafts >> Showpieces >> Human Figurines",
          "Beauty and Personal Care >> Makeup >> Vanity Boxes",
          "Home Decor & Festive Needs >> Table Decor & Handicrafts >> Showpieces >> Human Figurines",
          "Baby Care >> Infant Wear >> Baby Girls' Clothes >> Shorts & Trousers >> Trousers",
          "Baby Care >> Infant Wear >> Baby Girls' Clothes >> Shorts & Trousers >> Trousers >> CoffeeBean Trousers",
          "Kitchen & Dining >> Bar & Glassware >> Bar Accessories",
          "Kitchen & Dining >> Bar & Glassware >> Bar Accessories >> Cork Screws",
          "Kitchen & Dining >> Bar & Glassware >> Bar Accessories >> Cork Screws",
          "Kitchen & Dining >> Coffee Mugs",
          "Kitchen & Dining >> Coffee Mugs >> AM Creation Coffee Mugs",
          "Baby Care >> Baby Bath & Skin",
          "Baby Care >> Baby Bath & Skin >> Baby Body Wash",
          "Baby Care >> Baby Bath & Skin >> Baby Body Wash >> TRESemme Baby Body Wash",
          "Baby Care >> Baby Bath & Skin >> Baby Body Wash",
          "Baby Care >> Baby Bath & Skin >> Baby Body Wash >> L Oreal Baby Body Wash",
          "Home Decor & Festive Needs >> Table Decor & Handicrafts >> Showpieces >> Religious Idols",
          "Home Decor & Festive Needs >> Table Decor & Handicrafts >> Showpieces >> Religious Idols >> CTW Religious Idols",
          "Kitchen & Dining >> Coffee Mugs",
          "Kitchen & Dining >> Coffee Mugs >> Happiness Is Coffee Mugs",
          "Home Furnishing >> Living >> Sofa Covers",
          "Kitchen & Dining >> Containers & Bottles",
          "Kitchen & Dining >> Containers & Bottles >> Containers & Jars",
          "Kitchen & Dining >> Containers & Bottles >> Containers & Jars >> Kitchen Containers",
          "Kitchen & Dining >> Containers & Bottles >> Containers & Jars >> Kitchen Containers >> Lock&Lock Kitchen Containers",
          "Baby Care >> Infant Wear >> Baby Girls' Clothes >> Bodysuits & Sleepsuits >> Bodysuits",
          "Baby Care >> Infant Wear >> Baby Girls' Clothes >> Bodysuits & Sleepsuits >> Bodysuits >> Mom & Me Bodysuits",
          "Computers >> Laptop Accessories >> USB Gadgets",
          "Computers >> Laptop Accessories >> USB Gadgets >> APOLLO+ USB Gadgets",
          "Kitchen & Dining >> Coffee Mugs",
          "Kitchen & Dining >> Coffee Mugs >> HuppmeGift Coffee Mugs",
          "Baby Care >> Baby & Kids Gifts",
          "Baby Care >> Baby & Kids Gifts >> Decorations",
          "Baby Care >> Baby & Kids Gifts >> Decorations >> Doraemon Gift Family Ceramic Coffee Mug Decorations",
          "Beauty and Personal Care >> Makeup",
          "Beauty and Personal Care >> Makeup >> Eyes",
          "Beauty and Personal Care >> Makeup >> Eyes >> Eye Shadows",
          "Beauty and Personal Care >> Makeup >> Eyes >> Eye Shadows >> Milani Eye Shadows",
          "Beauty and Personal Care >> Makeup >> Eyes >> Eye Shadows",
          "Beauty and Personal Care >> Makeup >> Eyes >> Eye Shadows >> e.l.f. Cosmetics Eye Shadows",
          "Beauty and Personal Care >> Bath and Spa",
          "Beauty and Personal Care >> Bath and Spa >> Soaps",
          "Beauty and Personal Care >> Bath and Spa >> Soaps >> Aster Luxury Soaps",
          "Kitchen & Dining >> Kitchen Tools",
          "Kitchen & Dining >> Kitchen Tools >> Kitchen Tool Sets",
          "Kitchen & Dining >> Kitchen Tools >> Kitchen Tool Sets >> King Traders Kitchen Tool Sets",
          "Home Decor & Festive Needs >> Wall Decor & Clocks >> Wall Decals & Stickers",
          "Home Decor & Festive Needs >> Wall Decor & Clocks >> Wall Decals & Stickers >> Wall Decal Wall Decals & Stickers",
          "Baby Care >> Infant Wear >> Baby Boys' Clothes >> Polos & T-Shirts",
          "Baby Care >> Infant Wear >> Baby Boys' Clothes >> Polos & T-Shirts >> Dongli Polos & T-Shirts",
          "Baby Care >> Baby Grooming",
          "Baby Care >> Baby Grooming >> Cotton Buds",
          "Baby Care >> Baby Grooming >> Cotton Buds >> SJ Cotton Buds",
          "Home Decor & Festive Needs >> Table Decor & Handicrafts >> Table Decor",
          "Home Decor & Festive Needs >> Table Decor & Handicrafts >> Table Decor >> Hookah Mouth Tips",
          "Home Decor & Festive Needs >> Table Decor & Handicrafts >> Table Decor >> Hookah Mouth Tips >> Ech oly Hookah Mouth Tips",
          "Beauty and Personal Care >> Fragrances >> Deodorants",
          "Beauty and Personal Care >> Fragrances >> Deodorants >> Sprays",
          "Beauty and Personal Care >> Fragrances >> Deodorants >> Sprays >> LAWMAN PG3 Sprays",
          "Baby Care >> Infant Wear >> Baby Boys' Clothes >> Polos & T-Shirts",
          "Baby Care >> Infant Wear >> Baby Boys' Clothes >> Polos & T-Shirts >> Toons Polos & T-Shirts",
          "Computers >> Laptop Accessories",
          "Computers >> Laptop Accessories >> Computer Accessories Combos",
          "Computers >> Laptop Accessories >> Computer Accessories Combos >> PRINT SHAPES Computer Accessories Combos",
          "Beauty and Personal Care >> Body and Skin Care >> Lip Care",
          "Beauty and Personal Care >> Body and Skin Care >> Lip Care >> Lip Balms",
          "Beauty and Personal Care >> Body and Skin Care >> Lip Care >> Lip Balms >> Good Way Lip Balms",
          "Home Furnishing >> Curtains & Accessories >> Curtains",
          "Computers >> Laptop Accessories >> Computer Accessories Combos >> PRINT SHAPES Computer Accessories Combos",
          "Computers >> Laptop Accessories >> Computer Accessories Combos >> PRINT SHAPES Computer Accessories Combos",
          "Home Furnishing >> Curtains & Accessories >> Curtains",
          "Computers >> Laptop Accessories >> Computer Accessories Combos >> PRINT SHAPES Computer Accessories Combos",
          "Home Furnishing >> Curtains & Accessories >> Curtains",
          "Computers >> Computer Components",
          "Computers >> Computer Components >> RAMs",
          "Computers >> Computer Components >> RAMs >> Transcend RAMs",
          "Computers >> Laptop Accessories >> Computer Accessories Combos >> PRINT SHAPES Computer Accessories Combos",
          "Computers >> Laptop Accessories >> Computer Accessories Combos >> PRINT SHAPES Computer Accessories Combos",
          "Home Furnishing >> Curtains & Accessories >> Curtains",
          "Home Furnishing >> Curtains & Accessories >> Curtains",
          "Computers >> Laptop Accessories >> Computer Accessories Combos >> PRINT SHAPES Computer Accessories Combos",
          "Home Furnishing >> Curtains & Accessories >> Curtains",
          "Beauty and Personal Care >> Health Care",
          "Beauty and Personal Care >> Health Care >> Medicines & Treatment",
          "Beauty and Personal Care >> Health Care >> Medicines & Treatment >> First Aid",
          "Beauty and Personal Care >> Health Care >> Medicines & Treatment >> First Aid >> Hot & Cold Packs",
          "Beauty and Personal Care >> Health Care >> Medicines & Treatment >> First Aid >> Hot & Cold Packs >> OMRD Hot & Cold Packs",
          "Beauty and Personal Care >> Hair Care",
          "Beauty and Personal Care >> Hair Care >> Shampoos",
          "Beauty and Personal Care >> Hair Care >> Shampoos >> Kerastase Shampoos",
          "Computers >> Laptop Accessories >> Computer Accessories Combos >> PRINT SHAPES Computer Accessories Combos",
          "Home Furnishing >> Curtains & Accessories >> Curtains",
          "Computers >> Laptop Accessories >> Computer Accessories Combos >> PRINT SHAPES Computer Accessories Combos",
          "Computers >> Laptop Accessories >> Computer Accessories Combos >> PRINT SHAPES Computer Accessories Combos",
          "Computers >> Laptop Accessories >> Computer Accessories Combos >> PRINT SHAPES Computer Accessories Combos",
          "Beauty and Personal Care >> Health Care",
          "Beauty and Personal Care >> Health Care >> Medical Equipment & Accessories",
          "Beauty and Personal Care >> Health Care >> Medical Equipment & Accessories >> Surgical e Sstudio Medical Equipment & Accessories",
          "Home Decor & Festive Needs >> Showpieces >> Fengshui >> Reiki Crystal Products Fengshui",
          "Baby Care >> Baby & Kids Gifts",
          "Baby Care >> Baby & Kids Gifts >> Stickers",
          "Baby Care >> Baby & Kids Gifts >> Stickers",
          "Baby Care >> Baby & Kids Gifts >> Stickers",
          "Baby Care >> Baby & Kids Gifts >> Stickers",
          "Baby Care >> Baby & Kids Gifts >> Stickers",
          "Baby Care >> Baby & Kids Gifts >> Stickers"
         ],
         "type": "sunburst",
         "values": [
          150,
          19,
          19,
          1,
          150,
          14,
          11,
          1,
          1,
          1,
          1,
          65,
          7,
          1,
          1,
          1,
          1,
          150,
          149,
          1,
          1,
          1,
          2,
          1,
          1,
          1,
          1,
          1,
          1,
          1,
          1,
          1,
          2,
          1,
          2,
          2,
          1,
          2,
          1,
          1,
          1,
          1,
          1,
          3,
          2,
          1,
          1,
          1,
          1,
          1,
          21,
          2,
          150,
          1,
          1,
          1,
          1,
          150,
          3,
          1,
          1,
          1,
          7,
          7,
          1,
          1,
          1,
          1,
          84,
          49,
          7,
          7,
          2,
          1,
          1,
          1,
          1,
          150,
          9,
          4,
          1,
          1,
          74,
          5,
          1,
          1,
          1,
          150,
          49,
          49,
          4,
          1,
          1,
          1,
          1,
          1,
          3,
          2,
          1,
          1,
          27,
          1,
          1,
          1,
          87,
          38,
          3,
          1,
          1,
          1,
          18,
          10,
          1,
          24,
          3,
          3,
          1,
          1,
          1,
          1,
          1,
          1,
          1,
          1,
          8,
          1,
          1,
          1,
          1,
          2,
          2,
          15,
          1,
          1,
          1,
          14,
          2,
          1,
          13,
          2,
          1,
          1,
          1,
          1,
          1,
          1,
          1,
          1,
          1,
          10,
          7,
          1,
          1,
          5,
          3,
          3,
          1,
          1,
          1,
          1,
          1,
          5,
          1,
          1,
          1,
          1,
          1,
          35,
          1,
          1,
          1,
          1,
          22,
          2,
          1,
          1,
          27,
          23,
          1,
          1,
          1,
          1,
          1,
          1,
          1,
          1,
          1,
          5,
          2,
          2,
          1,
          4,
          2,
          1,
          24,
          1,
          1,
          1,
          1,
          1,
          1,
          1,
          1,
          1,
          1,
          1,
          71,
          1,
          4,
          2,
          1,
          18,
          1,
          4,
          1,
          2,
          1,
          1,
          1,
          1,
          1,
          57,
          2,
          2,
          1,
          1,
          3,
          2,
          1,
          1,
          14,
          2,
          1,
          1,
          7,
          2,
          1,
          1,
          1,
          1,
          1,
          4,
          1,
          1,
          4,
          2,
          2,
          1,
          1,
          5,
          1,
          1,
          1,
          1,
          13,
          12,
          1,
          1,
          1,
          2,
          2,
          1,
          1,
          1,
          1,
          7,
          4,
          1,
          1,
          1,
          15,
          3,
          3,
          1,
          1,
          1,
          4,
          3,
          1,
          1,
          26,
          22,
          1,
          13,
          1,
          14,
          12,
          10,
          1,
          1,
          2,
          3,
          34,
          3,
          1,
          1,
          1,
          1,
          10,
          5,
          2,
          1,
          1,
          1,
          3,
          2,
          1,
          1,
          1,
          1,
          1,
          1,
          1,
          1,
          1,
          1,
          2,
          2,
          1,
          2,
          1,
          22,
          1,
          1,
          1,
          3,
          1,
          2,
          1,
          1,
          1,
          1,
          2,
          1,
          1,
          1,
          1,
          1,
          1,
          1,
          1,
          2,
          1,
          1,
          1,
          1,
          1,
          1,
          1,
          1,
          1,
          1,
          1,
          3,
          1,
          1,
          1,
          1,
          3,
          1,
          1,
          1,
          1,
          1,
          1,
          6,
          4,
          1,
          1,
          1,
          1,
          1,
          5,
          3,
          2,
          1,
          1,
          1,
          1,
          1,
          1,
          1,
          1,
          1,
          1,
          21,
          21,
          2,
          1,
          1,
          1,
          1,
          1,
          1,
          1,
          8,
          3,
          1,
          1,
          1,
          1,
          1,
          1,
          7,
          1,
          1,
          1,
          1,
          1,
          1,
          1,
          1,
          1,
          1,
          1,
          1,
          1,
          1,
          1,
          1,
          65,
          65,
          64,
          5,
          1,
          5,
          3,
          8,
          3,
          6,
          1,
          2,
          7,
          1,
          4,
          5,
          5,
          2,
          1,
          1,
          1,
          3,
          1,
          1,
          4,
          1,
          3,
          4,
          5,
          1,
          3,
          3,
          2,
          4,
          1,
          1,
          1,
          1,
          1,
          1,
          2,
          1,
          1,
          1,
          1,
          1,
          1,
          1,
          1,
          1,
          1,
          1,
          2,
          2,
          1,
          1,
          1,
          1,
          1,
          7,
          1,
          1,
          1,
          9,
          7,
          7,
          1,
          1,
          1,
          1,
          5,
          1,
          1,
          2,
          2,
          1,
          1,
          1,
          1,
          1,
          1,
          1,
          1,
          1,
          1,
          1,
          1,
          1,
          1,
          1,
          4,
          1,
          1,
          1,
          1,
          1,
          1,
          1,
          3,
          3,
          1,
          1,
          1,
          1,
          1,
          1,
          1,
          1,
          1,
          1,
          1,
          1,
          1,
          1,
          1,
          1,
          2,
          1,
          1,
          1,
          1,
          1,
          1,
          1,
          1,
          1,
          1,
          1,
          2,
          1,
          1,
          1,
          1,
          2,
          1,
          4,
          2,
          2,
          1,
          1,
          1,
          1,
          1,
          1,
          1,
          1,
          2,
          1,
          1,
          7,
          3,
          2,
          1,
          1,
          1,
          1,
          5,
          1,
          1,
          1,
          22,
          10,
          3,
          2,
          1,
          1,
          4,
          19,
          10,
          23,
          1,
          1,
          1,
          2,
          2,
          2,
          4,
          9,
          1,
          1,
          1,
          1,
          2,
          1,
          2,
          3,
          2,
          1,
          1,
          1,
          4,
          2,
          1,
          1,
          1,
          1,
          1,
          1,
          1,
          3,
          1,
          1,
          1,
          1,
          1,
          1,
          1,
          1,
          1,
          1,
          2,
          1,
          1,
          1,
          1,
          1,
          1,
          2,
          2,
          1,
          1,
          1,
          1,
          1,
          1,
          1,
          1,
          1,
          1,
          1,
          1,
          1,
          2,
          2,
          1,
          1,
          1,
          1,
          1,
          1,
          1,
          1,
          1,
          1,
          1,
          1,
          1,
          1,
          1,
          1,
          1,
          1,
          1,
          1,
          1,
          1,
          1,
          1,
          1,
          1,
          1,
          1,
          1,
          1,
          1,
          1,
          1,
          1,
          1,
          1,
          1,
          1,
          1,
          1,
          1,
          1,
          3,
          1,
          1,
          1,
          2,
          1,
          1,
          2,
          1,
          1,
          1,
          1,
          1,
          1,
          1,
          1,
          1,
          1,
          1,
          1,
          1,
          1,
          1,
          1,
          1,
          1,
          1,
          1,
          2,
          1,
          1,
          1,
          1,
          1,
          1,
          1,
          1,
          1,
          1,
          1,
          1,
          1,
          3,
          3,
          1,
          1,
          1,
          1,
          1,
          15,
          4,
          1,
          1,
          5,
          2,
          1,
          1,
          1,
          1,
          1,
          2,
          1,
          1,
          1,
          1,
          1,
          1,
          1,
          1,
          1,
          1,
          1,
          1,
          1,
          1,
          1,
          1,
          10,
          10,
          1,
          1,
          1,
          1,
          1,
          1,
          1,
          1,
          1,
          1,
          1,
          6,
          3,
          2,
          1,
          1,
          1,
          2,
          5,
          1,
          1,
          1,
          4,
          1,
          1,
          2,
          10,
          1,
          1,
          4,
          1,
          1,
          1,
          1,
          1,
          1,
          3,
          3,
          3,
          1,
          1,
          1,
          3,
          1,
          1,
          1,
          1,
          1,
          1,
          1,
          1,
          1,
          6,
          9,
          1,
          1,
          1,
          9,
          1,
          10,
          1,
          8,
          4,
          1,
          1,
          1,
          1,
          3,
          2,
          1,
          1,
          1,
          2,
          2,
          1,
          1,
          1,
          1,
          1,
          1,
          1,
          1,
          1,
          1,
          1,
          1,
          2,
          1,
          2,
          1,
          1,
          1,
          2,
          1,
          3,
          3,
          1,
          3,
          1,
          1,
          2,
          1,
          1,
          1,
          1,
          1,
          1,
          1,
          1,
          1,
          1,
          1,
          1,
          1,
          1,
          1,
          1,
          1,
          1,
          1,
          3,
          1,
          1,
          19,
          1,
          1,
          1,
          1,
          1,
          1,
          1,
          1,
          1,
          1,
          1,
          1,
          1,
          1,
          1,
          1,
          1,
          1,
          1,
          1,
          1,
          4,
          1,
          1,
          1,
          1,
          7,
          1,
          1,
          1,
          1,
          1,
          1,
          1,
          1,
          1,
          1,
          1,
          1,
          1,
          1,
          1,
          1,
          1,
          1,
          1,
          1,
          1,
          1,
          1,
          1,
          1,
          1,
          3,
          1,
          1,
          1,
          1,
          1,
          1,
          1,
          1,
          1,
          1,
          2,
          1,
          1,
          1,
          1,
          1,
          1,
          1,
          1,
          1,
          1,
          1,
          1,
          1,
          1,
          6,
          6,
          1,
          1,
          1,
          1,
          1,
          1,
          1,
          2,
          1,
          1,
          1,
          1,
          1,
          1,
          4,
          1,
          1,
          2,
          1,
          1,
          1,
          1,
          1,
          1,
          1,
          1,
          1,
          1,
          1,
          1,
          1,
          1,
          1,
          1,
          1,
          1,
          1,
          1,
          1,
          1,
          1,
          1,
          1,
          1,
          1,
          1,
          1,
          1,
          1,
          1,
          1,
          1,
          1,
          1,
          1,
          1,
          1,
          1,
          1,
          1,
          1,
          1,
          2,
          1,
          1,
          1,
          1,
          2,
          1,
          1,
          1,
          1,
          1,
          1,
          1,
          1,
          1,
          1,
          1,
          1,
          1,
          1,
          1,
          1,
          1,
          1,
          1,
          1,
          1,
          1,
          2,
          2,
          1,
          1,
          1,
          1,
          1,
          1,
          1,
          1,
          1,
          1,
          1,
          1,
          1,
          1,
          1,
          1,
          1,
          1,
          1,
          1,
          1,
          1,
          1,
          1,
          1,
          11,
          11,
          1,
          1,
          1,
          1,
          1,
          1,
          1,
          1,
          1,
          1,
          1,
          1,
          1,
          1,
          1,
          1,
          2,
          1,
          1,
          1,
          1,
          1,
          1,
          1,
          1,
          1,
          1,
          1,
          1,
          1,
          1,
          1,
          1,
          1,
          1,
          1,
          10,
          1,
          4,
          1,
          1,
          1,
          2
         ]
        }
       ],
       "layout": {
        "height": 1000,
        "margin": {
         "b": 0,
         "l": 0,
         "r": 0,
         "t": 50
        },
        "template": {
         "data": {
          "bar": [
           {
            "error_x": {
             "color": "#2a3f5f"
            },
            "error_y": {
             "color": "#2a3f5f"
            },
            "marker": {
             "line": {
              "color": "#E5ECF6",
              "width": 0.5
             },
             "pattern": {
              "fillmode": "overlay",
              "size": 10,
              "solidity": 0.2
             }
            },
            "type": "bar"
           }
          ],
          "barpolar": [
           {
            "marker": {
             "line": {
              "color": "#E5ECF6",
              "width": 0.5
             },
             "pattern": {
              "fillmode": "overlay",
              "size": 10,
              "solidity": 0.2
             }
            },
            "type": "barpolar"
           }
          ],
          "carpet": [
           {
            "aaxis": {
             "endlinecolor": "#2a3f5f",
             "gridcolor": "white",
             "linecolor": "white",
             "minorgridcolor": "white",
             "startlinecolor": "#2a3f5f"
            },
            "baxis": {
             "endlinecolor": "#2a3f5f",
             "gridcolor": "white",
             "linecolor": "white",
             "minorgridcolor": "white",
             "startlinecolor": "#2a3f5f"
            },
            "type": "carpet"
           }
          ],
          "choropleth": [
           {
            "colorbar": {
             "outlinewidth": 0,
             "ticks": ""
            },
            "type": "choropleth"
           }
          ],
          "contour": [
           {
            "colorbar": {
             "outlinewidth": 0,
             "ticks": ""
            },
            "colorscale": [
             [
              0,
              "#0d0887"
             ],
             [
              0.1111111111111111,
              "#46039f"
             ],
             [
              0.2222222222222222,
              "#7201a8"
             ],
             [
              0.3333333333333333,
              "#9c179e"
             ],
             [
              0.4444444444444444,
              "#bd3786"
             ],
             [
              0.5555555555555556,
              "#d8576b"
             ],
             [
              0.6666666666666666,
              "#ed7953"
             ],
             [
              0.7777777777777778,
              "#fb9f3a"
             ],
             [
              0.8888888888888888,
              "#fdca26"
             ],
             [
              1,
              "#f0f921"
             ]
            ],
            "type": "contour"
           }
          ],
          "contourcarpet": [
           {
            "colorbar": {
             "outlinewidth": 0,
             "ticks": ""
            },
            "type": "contourcarpet"
           }
          ],
          "heatmap": [
           {
            "colorbar": {
             "outlinewidth": 0,
             "ticks": ""
            },
            "colorscale": [
             [
              0,
              "#0d0887"
             ],
             [
              0.1111111111111111,
              "#46039f"
             ],
             [
              0.2222222222222222,
              "#7201a8"
             ],
             [
              0.3333333333333333,
              "#9c179e"
             ],
             [
              0.4444444444444444,
              "#bd3786"
             ],
             [
              0.5555555555555556,
              "#d8576b"
             ],
             [
              0.6666666666666666,
              "#ed7953"
             ],
             [
              0.7777777777777778,
              "#fb9f3a"
             ],
             [
              0.8888888888888888,
              "#fdca26"
             ],
             [
              1,
              "#f0f921"
             ]
            ],
            "type": "heatmap"
           }
          ],
          "histogram": [
           {
            "marker": {
             "pattern": {
              "fillmode": "overlay",
              "size": 10,
              "solidity": 0.2
             }
            },
            "type": "histogram"
           }
          ],
          "histogram2d": [
           {
            "colorbar": {
             "outlinewidth": 0,
             "ticks": ""
            },
            "colorscale": [
             [
              0,
              "#0d0887"
             ],
             [
              0.1111111111111111,
              "#46039f"
             ],
             [
              0.2222222222222222,
              "#7201a8"
             ],
             [
              0.3333333333333333,
              "#9c179e"
             ],
             [
              0.4444444444444444,
              "#bd3786"
             ],
             [
              0.5555555555555556,
              "#d8576b"
             ],
             [
              0.6666666666666666,
              "#ed7953"
             ],
             [
              0.7777777777777778,
              "#fb9f3a"
             ],
             [
              0.8888888888888888,
              "#fdca26"
             ],
             [
              1,
              "#f0f921"
             ]
            ],
            "type": "histogram2d"
           }
          ],
          "histogram2dcontour": [
           {
            "colorbar": {
             "outlinewidth": 0,
             "ticks": ""
            },
            "colorscale": [
             [
              0,
              "#0d0887"
             ],
             [
              0.1111111111111111,
              "#46039f"
             ],
             [
              0.2222222222222222,
              "#7201a8"
             ],
             [
              0.3333333333333333,
              "#9c179e"
             ],
             [
              0.4444444444444444,
              "#bd3786"
             ],
             [
              0.5555555555555556,
              "#d8576b"
             ],
             [
              0.6666666666666666,
              "#ed7953"
             ],
             [
              0.7777777777777778,
              "#fb9f3a"
             ],
             [
              0.8888888888888888,
              "#fdca26"
             ],
             [
              1,
              "#f0f921"
             ]
            ],
            "type": "histogram2dcontour"
           }
          ],
          "mesh3d": [
           {
            "colorbar": {
             "outlinewidth": 0,
             "ticks": ""
            },
            "type": "mesh3d"
           }
          ],
          "parcoords": [
           {
            "line": {
             "colorbar": {
              "outlinewidth": 0,
              "ticks": ""
             }
            },
            "type": "parcoords"
           }
          ],
          "pie": [
           {
            "automargin": true,
            "type": "pie"
           }
          ],
          "scatter": [
           {
            "fillpattern": {
             "fillmode": "overlay",
             "size": 10,
             "solidity": 0.2
            },
            "type": "scatter"
           }
          ],
          "scatter3d": [
           {
            "line": {
             "colorbar": {
              "outlinewidth": 0,
              "ticks": ""
             }
            },
            "marker": {
             "colorbar": {
              "outlinewidth": 0,
              "ticks": ""
             }
            },
            "type": "scatter3d"
           }
          ],
          "scattercarpet": [
           {
            "marker": {
             "colorbar": {
              "outlinewidth": 0,
              "ticks": ""
             }
            },
            "type": "scattercarpet"
           }
          ],
          "scattergeo": [
           {
            "marker": {
             "colorbar": {
              "outlinewidth": 0,
              "ticks": ""
             }
            },
            "type": "scattergeo"
           }
          ],
          "scattergl": [
           {
            "marker": {
             "colorbar": {
              "outlinewidth": 0,
              "ticks": ""
             }
            },
            "type": "scattergl"
           }
          ],
          "scattermap": [
           {
            "marker": {
             "colorbar": {
              "outlinewidth": 0,
              "ticks": ""
             }
            },
            "type": "scattermap"
           }
          ],
          "scattermapbox": [
           {
            "marker": {
             "colorbar": {
              "outlinewidth": 0,
              "ticks": ""
             }
            },
            "type": "scattermapbox"
           }
          ],
          "scatterpolar": [
           {
            "marker": {
             "colorbar": {
              "outlinewidth": 0,
              "ticks": ""
             }
            },
            "type": "scatterpolar"
           }
          ],
          "scatterpolargl": [
           {
            "marker": {
             "colorbar": {
              "outlinewidth": 0,
              "ticks": ""
             }
            },
            "type": "scatterpolargl"
           }
          ],
          "scatterternary": [
           {
            "marker": {
             "colorbar": {
              "outlinewidth": 0,
              "ticks": ""
             }
            },
            "type": "scatterternary"
           }
          ],
          "surface": [
           {
            "colorbar": {
             "outlinewidth": 0,
             "ticks": ""
            },
            "colorscale": [
             [
              0,
              "#0d0887"
             ],
             [
              0.1111111111111111,
              "#46039f"
             ],
             [
              0.2222222222222222,
              "#7201a8"
             ],
             [
              0.3333333333333333,
              "#9c179e"
             ],
             [
              0.4444444444444444,
              "#bd3786"
             ],
             [
              0.5555555555555556,
              "#d8576b"
             ],
             [
              0.6666666666666666,
              "#ed7953"
             ],
             [
              0.7777777777777778,
              "#fb9f3a"
             ],
             [
              0.8888888888888888,
              "#fdca26"
             ],
             [
              1,
              "#f0f921"
             ]
            ],
            "type": "surface"
           }
          ],
          "table": [
           {
            "cells": {
             "fill": {
              "color": "#EBF0F8"
             },
             "line": {
              "color": "white"
             }
            },
            "header": {
             "fill": {
              "color": "#C8D4E3"
             },
             "line": {
              "color": "white"
             }
            },
            "type": "table"
           }
          ]
         },
         "layout": {
          "annotationdefaults": {
           "arrowcolor": "#2a3f5f",
           "arrowhead": 0,
           "arrowwidth": 1
          },
          "autotypenumbers": "strict",
          "coloraxis": {
           "colorbar": {
            "outlinewidth": 0,
            "ticks": ""
           }
          },
          "colorscale": {
           "diverging": [
            [
             0,
             "#8e0152"
            ],
            [
             0.1,
             "#c51b7d"
            ],
            [
             0.2,
             "#de77ae"
            ],
            [
             0.3,
             "#f1b6da"
            ],
            [
             0.4,
             "#fde0ef"
            ],
            [
             0.5,
             "#f7f7f7"
            ],
            [
             0.6,
             "#e6f5d0"
            ],
            [
             0.7,
             "#b8e186"
            ],
            [
             0.8,
             "#7fbc41"
            ],
            [
             0.9,
             "#4d9221"
            ],
            [
             1,
             "#276419"
            ]
           ],
           "sequential": [
            [
             0,
             "#0d0887"
            ],
            [
             0.1111111111111111,
             "#46039f"
            ],
            [
             0.2222222222222222,
             "#7201a8"
            ],
            [
             0.3333333333333333,
             "#9c179e"
            ],
            [
             0.4444444444444444,
             "#bd3786"
            ],
            [
             0.5555555555555556,
             "#d8576b"
            ],
            [
             0.6666666666666666,
             "#ed7953"
            ],
            [
             0.7777777777777778,
             "#fb9f3a"
            ],
            [
             0.8888888888888888,
             "#fdca26"
            ],
            [
             1,
             "#f0f921"
            ]
           ],
           "sequentialminus": [
            [
             0,
             "#0d0887"
            ],
            [
             0.1111111111111111,
             "#46039f"
            ],
            [
             0.2222222222222222,
             "#7201a8"
            ],
            [
             0.3333333333333333,
             "#9c179e"
            ],
            [
             0.4444444444444444,
             "#bd3786"
            ],
            [
             0.5555555555555556,
             "#d8576b"
            ],
            [
             0.6666666666666666,
             "#ed7953"
            ],
            [
             0.7777777777777778,
             "#fb9f3a"
            ],
            [
             0.8888888888888888,
             "#fdca26"
            ],
            [
             1,
             "#f0f921"
            ]
           ]
          },
          "colorway": [
           "#636efa",
           "#EF553B",
           "#00cc96",
           "#ab63fa",
           "#FFA15A",
           "#19d3f3",
           "#FF6692",
           "#B6E880",
           "#FF97FF",
           "#FECB52"
          ],
          "font": {
           "color": "#2a3f5f"
          },
          "geo": {
           "bgcolor": "white",
           "lakecolor": "white",
           "landcolor": "#E5ECF6",
           "showlakes": true,
           "showland": true,
           "subunitcolor": "white"
          },
          "hoverlabel": {
           "align": "left"
          },
          "hovermode": "closest",
          "mapbox": {
           "style": "light"
          },
          "paper_bgcolor": "white",
          "plot_bgcolor": "#E5ECF6",
          "polar": {
           "angularaxis": {
            "gridcolor": "white",
            "linecolor": "white",
            "ticks": ""
           },
           "bgcolor": "#E5ECF6",
           "radialaxis": {
            "gridcolor": "white",
            "linecolor": "white",
            "ticks": ""
           }
          },
          "scene": {
           "xaxis": {
            "backgroundcolor": "#E5ECF6",
            "gridcolor": "white",
            "gridwidth": 2,
            "linecolor": "white",
            "showbackground": true,
            "ticks": "",
            "zerolinecolor": "white"
           },
           "yaxis": {
            "backgroundcolor": "#E5ECF6",
            "gridcolor": "white",
            "gridwidth": 2,
            "linecolor": "white",
            "showbackground": true,
            "ticks": "",
            "zerolinecolor": "white"
           },
           "zaxis": {
            "backgroundcolor": "#E5ECF6",
            "gridcolor": "white",
            "gridwidth": 2,
            "linecolor": "white",
            "showbackground": true,
            "ticks": "",
            "zerolinecolor": "white"
           }
          },
          "shapedefaults": {
           "line": {
            "color": "#2a3f5f"
           }
          },
          "ternary": {
           "aaxis": {
            "gridcolor": "white",
            "linecolor": "white",
            "ticks": ""
           },
           "baxis": {
            "gridcolor": "white",
            "linecolor": "white",
            "ticks": ""
           },
           "bgcolor": "#E5ECF6",
           "caxis": {
            "gridcolor": "white",
            "linecolor": "white",
            "ticks": ""
           }
          },
          "title": {
           "x": 0.05
          },
          "xaxis": {
           "automargin": true,
           "gridcolor": "white",
           "linecolor": "white",
           "ticks": "",
           "title": {
            "standoff": 15
           },
           "zerolinecolor": "white",
           "zerolinewidth": 2
          },
          "yaxis": {
           "automargin": true,
           "gridcolor": "white",
           "linecolor": "white",
           "ticks": "",
           "title": {
            "standoff": 15
           },
           "zerolinecolor": "white",
           "zerolinewidth": 2
          }
         }
        },
        "title": {
         "text": "Product Category Hierarchy"
        },
        "width": 1000
       }
      }
     },
     "metadata": {},
     "output_type": "display_data"
    }
   ],
   "source": [
    "from src.classes.analyze_category_tree import CategoryTreeAnalyzer\n",
    "\n",
    "# Create analyzer instance with your dataframe\n",
    "category_analyzer = CategoryTreeAnalyzer(df)\n",
    "\n",
    "# Create and display the radial category chart\n",
    "fig = category_analyzer.create_radial_category_chart(max_depth=9)\n",
    "fig.show()"
   ]
  },
  {
   "cell_type": "markdown",
   "id": "f8f136d5",
   "metadata": {},
   "source": [
    "\n",
    "## 3. Basic NLP Classification Feasibility Study"
   ]
  },
  {
   "cell_type": "markdown",
   "id": "4504880f",
   "metadata": {},
   "source": [
    "### 3.1 Text Preprocessing\n",
    "**Steps**:\n",
    "- Clean text data\n",
    "- Remove stopwords\n",
    "- Perform stemming/lemmatization\n",
    "- Handle special characters"
   ]
  },
  {
   "cell_type": "code",
   "execution_count": 5,
   "id": "2a36fe70",
   "metadata": {},
   "outputs": [
    {
     "name": "stdout",
     "output_type": "stream",
     "text": [
      "\n",
      "Preprocessing Statistics:\n",
      "original_length: 58\n",
      "processed_length: 58\n",
      "original_words: 7\n",
      "processed_words: 7\n",
      "removed_stopwords: 0\n",
      "stopwords_percentage: 0.0\n",
      "reduction_percentage: 0.0\n",
      "unique_words_original: 7\n",
      "unique_words_processed: 7\n",
      "sample_removed_words: []\n",
      "\n",
      "Batch Statistics Summary:\n",
      "       original_length  processed_length  original_words  processed_words  \\\n",
      "count         5.000000          5.000000        5.000000         5.000000   \n",
      "mean         47.000000         47.000000        6.800000         6.800000   \n",
      "std          15.795569         15.795569        1.923538         1.923538   \n",
      "min          26.000000         26.000000        4.000000         4.000000   \n",
      "25%          35.000000         35.000000        6.000000         6.000000   \n",
      "50%          53.000000         53.000000        7.000000         7.000000   \n",
      "75%          58.000000         58.000000        8.000000         8.000000   \n",
      "max          63.000000         63.000000        9.000000         9.000000   \n",
      "\n",
      "       removed_stopwords  stopwords_percentage  reduction_percentage  \\\n",
      "count                5.0                   5.0                   5.0   \n",
      "mean                 0.0                   0.0                   0.0   \n",
      "std                  0.0                   0.0                   0.0   \n",
      "min                  0.0                   0.0                   0.0   \n",
      "25%                  0.0                   0.0                   0.0   \n",
      "50%                  0.0                   0.0                   0.0   \n",
      "75%                  0.0                   0.0                   0.0   \n",
      "max                  0.0                   0.0                   0.0   \n",
      "\n",
      "       unique_words_original  unique_words_processed  \n",
      "count               5.000000                5.000000  \n",
      "mean                6.800000                6.800000  \n",
      "std                 1.923538                1.923538  \n",
      "min                 4.000000                4.000000  \n",
      "25%                 6.000000                6.000000  \n",
      "50%                 7.000000                7.000000  \n",
      "75%                 8.000000                8.000000  \n",
      "max                 9.000000                9.000000  \n",
      "\n",
      "Processing Statistics:\n",
      "Total words before: 7631\n",
      "Total words after: 6512\n",
      "Word reduction: 14.66%\n",
      "Sample Text Processing Results:\n"
     ]
    },
    {
     "data": {
      "application/vnd.microsoft.datawrangler.viewer.v0+json": {
       "columns": [
        {
         "name": "index",
         "rawType": "int64",
         "type": "integer"
        },
        {
         "name": "Original",
         "rawType": "object",
         "type": "string"
        },
        {
         "name": "Lemmatized",
         "rawType": "object",
         "type": "string"
        }
       ],
       "ref": "a1ef1658-8c17-43b9-99d0-3d90274e0449",
       "rows": [
        [
         "0",
         "Elegance Polyester Multicolor Abstract Eyelet Door Curtain",
         "elegance polyester multicolor abstract eyelet door curtain"
        ],
        [
         "1",
         "Sathiyas Cotton Bath Towel",
         "sathiyas cotton bath towel"
        ],
        [
         "2",
         "Eurospa Cotton Terry Face Towel Set",
         "eurospa cotton terry face towel set"
        ],
        [
         "3",
         "SANTOSH ROYAL FASHION Cotton Printed King sized Double Bedsheet",
         "santosh royal fashion cotton printed king sized double bedsheet"
        ],
        [
         "4",
         "Jaipur Print Cotton Floral King sized Double Bedsheet",
         "jaipur print cotton floral king sized double bedsheet"
        ]
       ],
       "shape": {
        "columns": 2,
        "rows": 5
       }
      },
      "text/html": [
       "<div>\n",
       "<style scoped>\n",
       "    .dataframe tbody tr th:only-of-type {\n",
       "        vertical-align: middle;\n",
       "    }\n",
       "\n",
       "    .dataframe tbody tr th {\n",
       "        vertical-align: top;\n",
       "    }\n",
       "\n",
       "    .dataframe thead th {\n",
       "        text-align: right;\n",
       "    }\n",
       "</style>\n",
       "<table border=\"1\" class=\"dataframe\">\n",
       "  <thead>\n",
       "    <tr style=\"text-align: right;\">\n",
       "      <th></th>\n",
       "      <th>Original</th>\n",
       "      <th>Lemmatized</th>\n",
       "    </tr>\n",
       "  </thead>\n",
       "  <tbody>\n",
       "    <tr>\n",
       "      <th>0</th>\n",
       "      <td>Elegance Polyester Multicolor Abstract Eyelet ...</td>\n",
       "      <td>elegance polyester multicolor abstract eyelet ...</td>\n",
       "    </tr>\n",
       "    <tr>\n",
       "      <th>1</th>\n",
       "      <td>Sathiyas Cotton Bath Towel</td>\n",
       "      <td>sathiyas cotton bath towel</td>\n",
       "    </tr>\n",
       "    <tr>\n",
       "      <th>2</th>\n",
       "      <td>Eurospa Cotton Terry Face Towel Set</td>\n",
       "      <td>eurospa cotton terry face towel set</td>\n",
       "    </tr>\n",
       "    <tr>\n",
       "      <th>3</th>\n",
       "      <td>SANTOSH ROYAL FASHION Cotton Printed King size...</td>\n",
       "      <td>santosh royal fashion cotton printed king size...</td>\n",
       "    </tr>\n",
       "    <tr>\n",
       "      <th>4</th>\n",
       "      <td>Jaipur Print Cotton Floral King sized Double B...</td>\n",
       "      <td>jaipur print cotton floral king sized double b...</td>\n",
       "    </tr>\n",
       "  </tbody>\n",
       "</table>\n",
       "</div>"
      ],
      "text/plain": [
       "                                            Original  \\\n",
       "0  Elegance Polyester Multicolor Abstract Eyelet ...   \n",
       "1                         Sathiyas Cotton Bath Towel   \n",
       "2                Eurospa Cotton Terry Face Towel Set   \n",
       "3  SANTOSH ROYAL FASHION Cotton Printed King size...   \n",
       "4  Jaipur Print Cotton Floral King sized Double B...   \n",
       "\n",
       "                                          Lemmatized  \n",
       "0  elegance polyester multicolor abstract eyelet ...  \n",
       "1                         sathiyas cotton bath towel  \n",
       "2                eurospa cotton terry face towel set  \n",
       "3  santosh royal fashion cotton printed king size...  \n",
       "4  jaipur print cotton floral king sized double b...  "
      ]
     },
     "execution_count": 5,
     "metadata": {},
     "output_type": "execute_result"
    }
   ],
   "source": [
    "from src.classes.preprocess_text import TextPreprocessor\n",
    "\n",
    "processor = TextPreprocessor()\n",
    "\n",
    "# Single text stats\n",
    "sample_text = df['product_name'].iloc[0]\n",
    "stats = processor.get_preprocessing_stats(sample_text)\n",
    "print(\"\\nPreprocessing Statistics:\")\n",
    "for key, value in stats.items():\n",
    "    print(f\"{key}: {value}\")\n",
    "\n",
    "# Batch statistics\n",
    "batch_stats = processor.get_batch_stats(df['product_name'].head())\n",
    "print(\"\\nBatch Statistics Summary:\")\n",
    "print(batch_stats.describe())\n",
    "\n",
    "# Create lemmatized product names column\n",
    "df['product_name_lemmatized'] = df['product_name'].apply(processor.preprocess)\n",
    "\n",
    "# Display sample comparisons\n",
    "comparison_df = pd.DataFrame({\n",
    "    'Original': df['product_name'].head(),\n",
    "    'Lemmatized': df['product_name_lemmatized'].head()\n",
    "})\n",
    "\n",
    "\n",
    "# Get processing statistics\n",
    "total_words_before = df['product_name'].str.split().str.len().sum()\n",
    "total_words_after = df['product_name_lemmatized'].str.split().str.len().sum()\n",
    "reduction = ((total_words_before - total_words_after) / total_words_before) * 100\n",
    "\n",
    "print(f\"\\nProcessing Statistics:\")\n",
    "print(f\"Total words before: {total_words_before}\")\n",
    "print(f\"Total words after: {total_words_after}\")\n",
    "print(f\"Word reduction: {reduction:.2f}%\")\n",
    "\n",
    "\n",
    "print(\"Sample Text Processing Results:\")\n",
    "comparison_df"
   ]
  },
  {
   "cell_type": "markdown",
   "id": "fa9b6ceb",
   "metadata": {},
   "source": [
    "### 3.2 Basic Text Encoding\n",
    "**Methods**:\n",
    "- Bag of Words (BoW)\n",
    "- TF-IDF Vectorization"
   ]
  },
  {
   "cell_type": "code",
   "execution_count": 6,
   "id": "154e9fce",
   "metadata": {},
   "outputs": [
    {
     "name": "stdout",
     "output_type": "stream",
     "text": [
      "\n",
      "Top features by TF-IDF score:\n",
      "      feature     score\n",
      "75        set  0.063150\n",
      "87      watch  0.061769\n",
      "18         cm  0.060559\n",
      "77  showpiece  0.058942\n",
      "2      analog  0.055595\n",
      "20      combo  0.050876\n",
      "4        baby  0.045023\n",
      "50        men  0.039020\n",
      "16    ceramic  0.036586\n",
      "54        mug  0.034973\n",
      "36       girl  0.034170\n",
      "12        boy  0.033933\n",
      "90      woman  0.028947\n",
      "22     cotton  0.028131\n",
      "85        usb  0.027226\n"
     ]
    },
    {
     "data": {
      "application/vnd.plotly.v1+json": {
       "config": {
        "plotlyServerURL": "https://plot.ly"
       },
       "data": [],
       "layout": {
        "height": 500,
        "images": [
         {
          "layer": "below",
          "opacity": 1,
          "sizex": 1,
          "sizey": 1,
          "sizing": "stretch",
          "source": "data:image/png;base64,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",
          "x": 0,
          "xref": "paper",
          "y": 1,
          "yref": "paper"
         }
        ],
        "margin": {
         "b": 0,
         "l": 0,
         "r": 0,
         "t": 30
        },
        "template": {
         "data": {
          "bar": [
           {
            "error_x": {
             "color": "#2a3f5f"
            },
            "error_y": {
             "color": "#2a3f5f"
            },
            "marker": {
             "line": {
              "color": "#E5ECF6",
              "width": 0.5
             },
             "pattern": {
              "fillmode": "overlay",
              "size": 10,
              "solidity": 0.2
             }
            },
            "type": "bar"
           }
          ],
          "barpolar": [
           {
            "marker": {
             "line": {
              "color": "#E5ECF6",
              "width": 0.5
             },
             "pattern": {
              "fillmode": "overlay",
              "size": 10,
              "solidity": 0.2
             }
            },
            "type": "barpolar"
           }
          ],
          "carpet": [
           {
            "aaxis": {
             "endlinecolor": "#2a3f5f",
             "gridcolor": "white",
             "linecolor": "white",
             "minorgridcolor": "white",
             "startlinecolor": "#2a3f5f"
            },
            "baxis": {
             "endlinecolor": "#2a3f5f",
             "gridcolor": "white",
             "linecolor": "white",
             "minorgridcolor": "white",
             "startlinecolor": "#2a3f5f"
            },
            "type": "carpet"
           }
          ],
          "choropleth": [
           {
            "colorbar": {
             "outlinewidth": 0,
             "ticks": ""
            },
            "type": "choropleth"
           }
          ],
          "contour": [
           {
            "colorbar": {
             "outlinewidth": 0,
             "ticks": ""
            },
            "colorscale": [
             [
              0,
              "#0d0887"
             ],
             [
              0.1111111111111111,
              "#46039f"
             ],
             [
              0.2222222222222222,
              "#7201a8"
             ],
             [
              0.3333333333333333,
              "#9c179e"
             ],
             [
              0.4444444444444444,
              "#bd3786"
             ],
             [
              0.5555555555555556,
              "#d8576b"
             ],
             [
              0.6666666666666666,
              "#ed7953"
             ],
             [
              0.7777777777777778,
              "#fb9f3a"
             ],
             [
              0.8888888888888888,
              "#fdca26"
             ],
             [
              1,
              "#f0f921"
             ]
            ],
            "type": "contour"
           }
          ],
          "contourcarpet": [
           {
            "colorbar": {
             "outlinewidth": 0,
             "ticks": ""
            },
            "type": "contourcarpet"
           }
          ],
          "heatmap": [
           {
            "colorbar": {
             "outlinewidth": 0,
             "ticks": ""
            },
            "colorscale": [
             [
              0,
              "#0d0887"
             ],
             [
              0.1111111111111111,
              "#46039f"
             ],
             [
              0.2222222222222222,
              "#7201a8"
             ],
             [
              0.3333333333333333,
              "#9c179e"
             ],
             [
              0.4444444444444444,
              "#bd3786"
             ],
             [
              0.5555555555555556,
              "#d8576b"
             ],
             [
              0.6666666666666666,
              "#ed7953"
             ],
             [
              0.7777777777777778,
              "#fb9f3a"
             ],
             [
              0.8888888888888888,
              "#fdca26"
             ],
             [
              1,
              "#f0f921"
             ]
            ],
            "type": "heatmap"
           }
          ],
          "histogram": [
           {
            "marker": {
             "pattern": {
              "fillmode": "overlay",
              "size": 10,
              "solidity": 0.2
             }
            },
            "type": "histogram"
           }
          ],
          "histogram2d": [
           {
            "colorbar": {
             "outlinewidth": 0,
             "ticks": ""
            },
            "colorscale": [
             [
              0,
              "#0d0887"
             ],
             [
              0.1111111111111111,
              "#46039f"
             ],
             [
              0.2222222222222222,
              "#7201a8"
             ],
             [
              0.3333333333333333,
              "#9c179e"
             ],
             [
              0.4444444444444444,
              "#bd3786"
             ],
             [
              0.5555555555555556,
              "#d8576b"
             ],
             [
              0.6666666666666666,
              "#ed7953"
             ],
             [
              0.7777777777777778,
              "#fb9f3a"
             ],
             [
              0.8888888888888888,
              "#fdca26"
             ],
             [
              1,
              "#f0f921"
             ]
            ],
            "type": "histogram2d"
           }
          ],
          "histogram2dcontour": [
           {
            "colorbar": {
             "outlinewidth": 0,
             "ticks": ""
            },
            "colorscale": [
             [
              0,
              "#0d0887"
             ],
             [
              0.1111111111111111,
              "#46039f"
             ],
             [
              0.2222222222222222,
              "#7201a8"
             ],
             [
              0.3333333333333333,
              "#9c179e"
             ],
             [
              0.4444444444444444,
              "#bd3786"
             ],
             [
              0.5555555555555556,
              "#d8576b"
             ],
             [
              0.6666666666666666,
              "#ed7953"
             ],
             [
              0.7777777777777778,
              "#fb9f3a"
             ],
             [
              0.8888888888888888,
              "#fdca26"
             ],
             [
              1,
              "#f0f921"
             ]
            ],
            "type": "histogram2dcontour"
           }
          ],
          "mesh3d": [
           {
            "colorbar": {
             "outlinewidth": 0,
             "ticks": ""
            },
            "type": "mesh3d"
           }
          ],
          "parcoords": [
           {
            "line": {
             "colorbar": {
              "outlinewidth": 0,
              "ticks": ""
             }
            },
            "type": "parcoords"
           }
          ],
          "pie": [
           {
            "automargin": true,
            "type": "pie"
           }
          ],
          "scatter": [
           {
            "fillpattern": {
             "fillmode": "overlay",
             "size": 10,
             "solidity": 0.2
            },
            "type": "scatter"
           }
          ],
          "scatter3d": [
           {
            "line": {
             "colorbar": {
              "outlinewidth": 0,
              "ticks": ""
             }
            },
            "marker": {
             "colorbar": {
              "outlinewidth": 0,
              "ticks": ""
             }
            },
            "type": "scatter3d"
           }
          ],
          "scattercarpet": [
           {
            "marker": {
             "colorbar": {
              "outlinewidth": 0,
              "ticks": ""
             }
            },
            "type": "scattercarpet"
           }
          ],
          "scattergeo": [
           {
            "marker": {
             "colorbar": {
              "outlinewidth": 0,
              "ticks": ""
             }
            },
            "type": "scattergeo"
           }
          ],
          "scattergl": [
           {
            "marker": {
             "colorbar": {
              "outlinewidth": 0,
              "ticks": ""
             }
            },
            "type": "scattergl"
           }
          ],
          "scattermap": [
           {
            "marker": {
             "colorbar": {
              "outlinewidth": 0,
              "ticks": ""
             }
            },
            "type": "scattermap"
           }
          ],
          "scattermapbox": [
           {
            "marker": {
             "colorbar": {
              "outlinewidth": 0,
              "ticks": ""
             }
            },
            "type": "scattermapbox"
           }
          ],
          "scatterpolar": [
           {
            "marker": {
             "colorbar": {
              "outlinewidth": 0,
              "ticks": ""
             }
            },
            "type": "scatterpolar"
           }
          ],
          "scatterpolargl": [
           {
            "marker": {
             "colorbar": {
              "outlinewidth": 0,
              "ticks": ""
             }
            },
            "type": "scatterpolargl"
           }
          ],
          "scatterternary": [
           {
            "marker": {
             "colorbar": {
              "outlinewidth": 0,
              "ticks": ""
             }
            },
            "type": "scatterternary"
           }
          ],
          "surface": [
           {
            "colorbar": {
             "outlinewidth": 0,
             "ticks": ""
            },
            "colorscale": [
             [
              0,
              "#0d0887"
             ],
             [
              0.1111111111111111,
              "#46039f"
             ],
             [
              0.2222222222222222,
              "#7201a8"
             ],
             [
              0.3333333333333333,
              "#9c179e"
             ],
             [
              0.4444444444444444,
              "#bd3786"
             ],
             [
              0.5555555555555556,
              "#d8576b"
             ],
             [
              0.6666666666666666,
              "#ed7953"
             ],
             [
              0.7777777777777778,
              "#fb9f3a"
             ],
             [
              0.8888888888888888,
              "#fdca26"
             ],
             [
              1,
              "#f0f921"
             ]
            ],
            "type": "surface"
           }
          ],
          "table": [
           {
            "cells": {
             "fill": {
              "color": "#EBF0F8"
             },
             "line": {
              "color": "white"
             }
            },
            "header": {
             "fill": {
              "color": "#C8D4E3"
             },
             "line": {
              "color": "white"
             }
            },
            "type": "table"
           }
          ]
         },
         "layout": {
          "annotationdefaults": {
           "arrowcolor": "#2a3f5f",
           "arrowhead": 0,
           "arrowwidth": 1
          },
          "autotypenumbers": "strict",
          "coloraxis": {
           "colorbar": {
            "outlinewidth": 0,
            "ticks": ""
           }
          },
          "colorscale": {
           "diverging": [
            [
             0,
             "#8e0152"
            ],
            [
             0.1,
             "#c51b7d"
            ],
            [
             0.2,
             "#de77ae"
            ],
            [
             0.3,
             "#f1b6da"
            ],
            [
             0.4,
             "#fde0ef"
            ],
            [
             0.5,
             "#f7f7f7"
            ],
            [
             0.6,
             "#e6f5d0"
            ],
            [
             0.7,
             "#b8e186"
            ],
            [
             0.8,
             "#7fbc41"
            ],
            [
             0.9,
             "#4d9221"
            ],
            [
             1,
             "#276419"
            ]
           ],
           "sequential": [
            [
             0,
             "#0d0887"
            ],
            [
             0.1111111111111111,
             "#46039f"
            ],
            [
             0.2222222222222222,
             "#7201a8"
            ],
            [
             0.3333333333333333,
             "#9c179e"
            ],
            [
             0.4444444444444444,
             "#bd3786"
            ],
            [
             0.5555555555555556,
             "#d8576b"
            ],
            [
             0.6666666666666666,
             "#ed7953"
            ],
            [
             0.7777777777777778,
             "#fb9f3a"
            ],
            [
             0.8888888888888888,
             "#fdca26"
            ],
            [
             1,
             "#f0f921"
            ]
           ],
           "sequentialminus": [
            [
             0,
             "#0d0887"
            ],
            [
             0.1111111111111111,
             "#46039f"
            ],
            [
             0.2222222222222222,
             "#7201a8"
            ],
            [
             0.3333333333333333,
             "#9c179e"
            ],
            [
             0.4444444444444444,
             "#bd3786"
            ],
            [
             0.5555555555555556,
             "#d8576b"
            ],
            [
             0.6666666666666666,
             "#ed7953"
            ],
            [
             0.7777777777777778,
             "#fb9f3a"
            ],
            [
             0.8888888888888888,
             "#fdca26"
            ],
            [
             1,
             "#f0f921"
            ]
           ]
          },
          "colorway": [
           "#636efa",
           "#EF553B",
           "#00cc96",
           "#ab63fa",
           "#FFA15A",
           "#19d3f3",
           "#FF6692",
           "#B6E880",
           "#FF97FF",
           "#FECB52"
          ],
          "font": {
           "color": "#2a3f5f"
          },
          "geo": {
           "bgcolor": "white",
           "lakecolor": "white",
           "landcolor": "#E5ECF6",
           "showlakes": true,
           "showland": true,
           "subunitcolor": "white"
          },
          "hoverlabel": {
           "align": "left"
          },
          "hovermode": "closest",
          "mapbox": {
           "style": "light"
          },
          "paper_bgcolor": "white",
          "plot_bgcolor": "#E5ECF6",
          "polar": {
           "angularaxis": {
            "gridcolor": "white",
            "linecolor": "white",
            "ticks": ""
           },
           "bgcolor": "#E5ECF6",
           "radialaxis": {
            "gridcolor": "white",
            "linecolor": "white",
            "ticks": ""
           }
          },
          "scene": {
           "xaxis": {
            "backgroundcolor": "#E5ECF6",
            "gridcolor": "white",
            "gridwidth": 2,
            "linecolor": "white",
            "showbackground": true,
            "ticks": "",
            "zerolinecolor": "white"
           },
           "yaxis": {
            "backgroundcolor": "#E5ECF6",
            "gridcolor": "white",
            "gridwidth": 2,
            "linecolor": "white",
            "showbackground": true,
            "ticks": "",
            "zerolinecolor": "white"
           },
           "zaxis": {
            "backgroundcolor": "#E5ECF6",
            "gridcolor": "white",
            "gridwidth": 2,
            "linecolor": "white",
            "showbackground": true,
            "ticks": "",
            "zerolinecolor": "white"
           }
          },
          "shapedefaults": {
           "line": {
            "color": "#2a3f5f"
           }
          },
          "ternary": {
           "aaxis": {
            "gridcolor": "white",
            "linecolor": "white",
            "ticks": ""
           },
           "baxis": {
            "gridcolor": "white",
            "linecolor": "white",
            "ticks": ""
           },
           "bgcolor": "#E5ECF6",
           "caxis": {
            "gridcolor": "white",
            "linecolor": "white",
            "ticks": ""
           }
          },
          "title": {
           "x": 0.05
          },
          "xaxis": {
           "automargin": true,
           "gridcolor": "white",
           "linecolor": "white",
           "ticks": "",
           "title": {
            "standoff": 15
           },
           "zerolinecolor": "white",
           "zerolinewidth": 2
          },
          "yaxis": {
           "automargin": true,
           "gridcolor": "white",
           "linecolor": "white",
           "ticks": "",
           "title": {
            "standoff": 15
           },
           "zerolinecolor": "white",
           "zerolinewidth": 2
          }
         }
        },
        "title": {
         "text": "Bag of Words Cloud"
        },
        "width": 800,
        "xaxis": {
         "range": [
          0,
          1
         ],
         "showgrid": false,
         "showticklabels": false,
         "visible": false,
         "zeroline": false
        },
        "yaxis": {
         "range": [
          0,
          1
         ],
         "showgrid": false,
         "showticklabels": false,
         "visible": false,
         "zeroline": false
        }
       }
      }
     },
     "metadata": {},
     "output_type": "display_data"
    },
    {
     "name": "stdout",
     "output_type": "stream",
     "text": [
      "\n",
      "Bag of Words Feature Distribution:\n"
     ]
    },
    {
     "data": {
      "application/vnd.plotly.v1+json": {
       "config": {
        "plotlyServerURL": "https://plot.ly"
       },
       "data": [
        {
         "name": "Feature Importance",
         "type": "bar",
         "x": [
          "watch",
          "set",
          "analog",
          "cm",
          "showpiece",
          "baby",
          "combo",
          "ceramic",
          "men",
          "mug",
          "girl",
          "boy",
          "usb",
          "cotton",
          "woman",
          "single",
          "laptop",
          "double",
          "abstract",
          "blue",
          "light",
          "led",
          "towel",
          "printed",
          "multicolor",
          "design",
          "floral",
          "sticker",
          "prithish",
          "blanket",
          "cell",
          "black",
          "cover",
          "print",
          "maximum",
          "sonata",
          "gift",
          "rockmantra",
          "quilt",
          "kadhai",
          "battery",
          "dress",
          "gold",
          "comforter",
          "polyester",
          "red",
          "curtain",
          "eyelet",
          "cushion",
          "hp",
          "digital",
          "bath",
          "router",
          "color",
          "home",
          "door",
          "kit",
          "mini",
          "wall",
          "pc",
          "cream",
          "pink",
          "shape",
          "ml",
          "green",
          "inch",
          "time",
          "skin",
          "brown",
          "adapter",
          "printland",
          "plain",
          "pavilion",
          "pad",
          "table",
          "india",
          "charger",
          "art",
          "white",
          "portable",
          "craft",
          "pack",
          "wireless",
          "mouse",
          "casual"
         ],
         "y": {
          "bdata": "w/wRHWBvqz8IbajhJiqoP3eS2s0TE6c/LKdowF38oz8GcZLazROjP05g7uAqFKE/4bv2sqfloD/jMugC8FecP+Iy6ALwV5w/LKEJS+Odmz/iNF1/w8yZP09aj2uwtZg/bRMVjH3NlT8np2jAXfyTP0xeeWRXn5M/k84PKR5akD+SxMa6/BGNP5LExrr8EY0/2TLoAvBXjD+PyLCzo/uHP43IsLOj+4c/IqXzQ4qHhj8gpfNDioeGP7SBNtRwE4U/tIE21HAThT/971ccZFmEP0deeWRXn4M/ksyarErlgj+QzJqsSuWCP5DMmqxK5YI/2jq89D0rgj/aOrz0PSuCPyOp3TwxcYE/I6ndPDFxgT9sF/+EJLeAP2wX/4Qkt4A/bBf/hCS3gD9sC0GaL/p/P2wLQZov+n8/bAtBmi/6fz9sC0GaL/p/P2wLQZov+n8//+eDKhaGfj//54MqFoZ+P//ngyoWhn4/ksTGuvwRfT+SxMa6/BF9PyWhCUvjnXs/JaEJS+Odez+3fUzbySl6P7d9TNvJKXo/t31M28kpej/dNtL7lkF3P9020vuWQXc/3TbS+5ZBdz/dNtL7lkF3P28TFYx9zXU/bxMVjH3NdT9vExWMfc11P24TFYx9zXU/AfBXHGRZdD8B8FccZFl0PwHwVxxkWXQ/AfBXHGRZdD8B8FccZFl0PwHwVxxkWXQ/AfBXHGRZdD+TzJqsSuVyP5PMmqxK5XI/k8yarErlcj+TzJqsSuVyP5PMmqxK5XI/k8yarErlcj+TzJqsSuVyP5PMmqxK5XI/JandPDFxcT8lqd08MXFxPyWp3TwxcXE/JandPDFxcT8lqd08MXFxPyWp3TwxcXE/JandPDFxcT8lqd08MXFxP28LQZov+m8/bwtBmi/6bz8=",
          "dtype": "f8"
         }
        },
        {
         "line": {
          "color": "red"
         },
         "name": "Cumulative %",
         "type": "scatter",
         "x": [
          "watch",
          "set",
          "analog",
          "cm",
          "showpiece",
          "baby",
          "combo",
          "ceramic",
          "men",
          "mug",
          "girl",
          "boy",
          "usb",
          "cotton",
          "woman",
          "single",
          "laptop",
          "double",
          "abstract",
          "blue",
          "light",
          "led",
          "towel",
          "printed",
          "multicolor",
          "design",
          "floral",
          "sticker",
          "prithish",
          "blanket",
          "cell",
          "black",
          "cover",
          "print",
          "maximum",
          "sonata",
          "gift",
          "rockmantra",
          "quilt",
          "kadhai",
          "battery",
          "dress",
          "gold",
          "comforter",
          "polyester",
          "red",
          "curtain",
          "eyelet",
          "cushion",
          "hp",
          "digital",
          "bath",
          "router",
          "color",
          "home",
          "door",
          "kit",
          "mini",
          "wall",
          "pc",
          "cream",
          "pink",
          "shape",
          "ml",
          "green",
          "inch",
          "time",
          "skin",
          "brown",
          "adapter",
          "printland",
          "plain",
          "pavilion",
          "pad",
          "table",
          "india",
          "charger",
          "art",
          "white",
          "portable",
          "craft",
          "pack",
          "wireless",
          "mouse",
          "casual"
         ],
         "xaxis": "x",
         "y": {
          "bdata": "w/wRHWBvqz/mNF1/w8y5PxE/JbMmq8I/3Gg/Iz6qxz8eBeSZMW/MP5nODykeWtA/FaZuH9N20j9DKZ0fUjzUP3Gsyx/RAdY/hEZ8VK+71z/SGXKMe1jZP3cPK5PW49o/rmDsa65A3D8g6/JHdIDdPwWBOr5put4/7n3LoAvA3z8J2lDDTVTgPxv1O7aVyOA/5pVHdvU54T8IWRYF5JnhPyoc5ZPS+eE/v+r0vPBT4j9UuQTmDq7iP1uTValcAuM/Ym2mbKpW4z8izRf9D6jjP5uyqVqN9uM/zR1chSJC5D//iA6wt43kPzH0wNpM2eQ/HOWT0vkh5T8H1mbKpmrlP6xMWo9rsOU/UcNNVDD25T+vv2HmDDnmPw28dXjpe+Y/a7iJCsa+5j+COr5puv7mP5m88siuPuc/sD4nKKN+5z/HwFuHl77nP95CkOaL/uc/rkrlEpg76D9+Ujo/pHjoP05aj2uwteg/1+cEZdTv6D9gdXpe+CnpP6KIECU0Yek/5Jum62+Y6T/fNF1/w8zpP9rNExMXAeo/1WbKpmo16j9DC8LU7WPqP7GvuQJxkuo/H1SxMPTA6j+N+Khed+/qP7QiwVkSG+s/20zZVK1G6z8Cd/FPSHLrPymhCUvjnes/CVFCE5bG6z/pAHvbSO/rP8mws6P7F+w/qWDsa65A7D+JECU0YWnsP2nAXfwTkuw/SXCWxMa67D/ipe9ZkeDsP3vbSO9bBu0/FBGihCYs7T+tRvsZ8VHtP0Z8VK+7d+0/37GtRIad7T945wbaUMPtPxEdYG8b6e0/Y9jZ0f0L7j+1k1M04C7uPwdPzZbCUe4/WQpH+aR07j+rxcBbh5fuP/2AOr5puu4/Tzy0IEzd7j+h9y2DLgDvP6w4yLIoIO8/t3li4iJA7z8=",
          "dtype": "f8"
         },
         "yaxis": "y2"
        }
       ],
       "layout": {
        "showlegend": true,
        "template": {
         "data": {
          "bar": [
           {
            "error_x": {
             "color": "#2a3f5f"
            },
            "error_y": {
             "color": "#2a3f5f"
            },
            "marker": {
             "line": {
              "color": "#E5ECF6",
              "width": 0.5
             },
             "pattern": {
              "fillmode": "overlay",
              "size": 10,
              "solidity": 0.2
             }
            },
            "type": "bar"
           }
          ],
          "barpolar": [
           {
            "marker": {
             "line": {
              "color": "#E5ECF6",
              "width": 0.5
             },
             "pattern": {
              "fillmode": "overlay",
              "size": 10,
              "solidity": 0.2
             }
            },
            "type": "barpolar"
           }
          ],
          "carpet": [
           {
            "aaxis": {
             "endlinecolor": "#2a3f5f",
             "gridcolor": "white",
             "linecolor": "white",
             "minorgridcolor": "white",
             "startlinecolor": "#2a3f5f"
            },
            "baxis": {
             "endlinecolor": "#2a3f5f",
             "gridcolor": "white",
             "linecolor": "white",
             "minorgridcolor": "white",
             "startlinecolor": "#2a3f5f"
            },
            "type": "carpet"
           }
          ],
          "choropleth": [
           {
            "colorbar": {
             "outlinewidth": 0,
             "ticks": ""
            },
            "type": "choropleth"
           }
          ],
          "contour": [
           {
            "colorbar": {
             "outlinewidth": 0,
             "ticks": ""
            },
            "colorscale": [
             [
              0,
              "#0d0887"
             ],
             [
              0.1111111111111111,
              "#46039f"
             ],
             [
              0.2222222222222222,
              "#7201a8"
             ],
             [
              0.3333333333333333,
              "#9c179e"
             ],
             [
              0.4444444444444444,
              "#bd3786"
             ],
             [
              0.5555555555555556,
              "#d8576b"
             ],
             [
              0.6666666666666666,
              "#ed7953"
             ],
             [
              0.7777777777777778,
              "#fb9f3a"
             ],
             [
              0.8888888888888888,
              "#fdca26"
             ],
             [
              1,
              "#f0f921"
             ]
            ],
            "type": "contour"
           }
          ],
          "contourcarpet": [
           {
            "colorbar": {
             "outlinewidth": 0,
             "ticks": ""
            },
            "type": "contourcarpet"
           }
          ],
          "heatmap": [
           {
            "colorbar": {
             "outlinewidth": 0,
             "ticks": ""
            },
            "colorscale": [
             [
              0,
              "#0d0887"
             ],
             [
              0.1111111111111111,
              "#46039f"
             ],
             [
              0.2222222222222222,
              "#7201a8"
             ],
             [
              0.3333333333333333,
              "#9c179e"
             ],
             [
              0.4444444444444444,
              "#bd3786"
             ],
             [
              0.5555555555555556,
              "#d8576b"
             ],
             [
              0.6666666666666666,
              "#ed7953"
             ],
             [
              0.7777777777777778,
              "#fb9f3a"
             ],
             [
              0.8888888888888888,
              "#fdca26"
             ],
             [
              1,
              "#f0f921"
             ]
            ],
            "type": "heatmap"
           }
          ],
          "histogram": [
           {
            "marker": {
             "pattern": {
              "fillmode": "overlay",
              "size": 10,
              "solidity": 0.2
             }
            },
            "type": "histogram"
           }
          ],
          "histogram2d": [
           {
            "colorbar": {
             "outlinewidth": 0,
             "ticks": ""
            },
            "colorscale": [
             [
              0,
              "#0d0887"
             ],
             [
              0.1111111111111111,
              "#46039f"
             ],
             [
              0.2222222222222222,
              "#7201a8"
             ],
             [
              0.3333333333333333,
              "#9c179e"
             ],
             [
              0.4444444444444444,
              "#bd3786"
             ],
             [
              0.5555555555555556,
              "#d8576b"
             ],
             [
              0.6666666666666666,
              "#ed7953"
             ],
             [
              0.7777777777777778,
              "#fb9f3a"
             ],
             [
              0.8888888888888888,
              "#fdca26"
             ],
             [
              1,
              "#f0f921"
             ]
            ],
            "type": "histogram2d"
           }
          ],
          "histogram2dcontour": [
           {
            "colorbar": {
             "outlinewidth": 0,
             "ticks": ""
            },
            "colorscale": [
             [
              0,
              "#0d0887"
             ],
             [
              0.1111111111111111,
              "#46039f"
             ],
             [
              0.2222222222222222,
              "#7201a8"
             ],
             [
              0.3333333333333333,
              "#9c179e"
             ],
             [
              0.4444444444444444,
              "#bd3786"
             ],
             [
              0.5555555555555556,
              "#d8576b"
             ],
             [
              0.6666666666666666,
              "#ed7953"
             ],
             [
              0.7777777777777778,
              "#fb9f3a"
             ],
             [
              0.8888888888888888,
              "#fdca26"
             ],
             [
              1,
              "#f0f921"
             ]
            ],
            "type": "histogram2dcontour"
           }
          ],
          "mesh3d": [
           {
            "colorbar": {
             "outlinewidth": 0,
             "ticks": ""
            },
            "type": "mesh3d"
           }
          ],
          "parcoords": [
           {
            "line": {
             "colorbar": {
              "outlinewidth": 0,
              "ticks": ""
             }
            },
            "type": "parcoords"
           }
          ],
          "pie": [
           {
            "automargin": true,
            "type": "pie"
           }
          ],
          "scatter": [
           {
            "fillpattern": {
             "fillmode": "overlay",
             "size": 10,
             "solidity": 0.2
            },
            "type": "scatter"
           }
          ],
          "scatter3d": [
           {
            "line": {
             "colorbar": {
              "outlinewidth": 0,
              "ticks": ""
             }
            },
            "marker": {
             "colorbar": {
              "outlinewidth": 0,
              "ticks": ""
             }
            },
            "type": "scatter3d"
           }
          ],
          "scattercarpet": [
           {
            "marker": {
             "colorbar": {
              "outlinewidth": 0,
              "ticks": ""
             }
            },
            "type": "scattercarpet"
           }
          ],
          "scattergeo": [
           {
            "marker": {
             "colorbar": {
              "outlinewidth": 0,
              "ticks": ""
             }
            },
            "type": "scattergeo"
           }
          ],
          "scattergl": [
           {
            "marker": {
             "colorbar": {
              "outlinewidth": 0,
              "ticks": ""
             }
            },
            "type": "scattergl"
           }
          ],
          "scattermap": [
           {
            "marker": {
             "colorbar": {
              "outlinewidth": 0,
              "ticks": ""
             }
            },
            "type": "scattermap"
           }
          ],
          "scattermapbox": [
           {
            "marker": {
             "colorbar": {
              "outlinewidth": 0,
              "ticks": ""
             }
            },
            "type": "scattermapbox"
           }
          ],
          "scatterpolar": [
           {
            "marker": {
             "colorbar": {
              "outlinewidth": 0,
              "ticks": ""
             }
            },
            "type": "scatterpolar"
           }
          ],
          "scatterpolargl": [
           {
            "marker": {
             "colorbar": {
              "outlinewidth": 0,
              "ticks": ""
             }
            },
            "type": "scatterpolargl"
           }
          ],
          "scatterternary": [
           {
            "marker": {
             "colorbar": {
              "outlinewidth": 0,
              "ticks": ""
             }
            },
            "type": "scatterternary"
           }
          ],
          "surface": [
           {
            "colorbar": {
             "outlinewidth": 0,
             "ticks": ""
            },
            "colorscale": [
             [
              0,
              "#0d0887"
             ],
             [
              0.1111111111111111,
              "#46039f"
             ],
             [
              0.2222222222222222,
              "#7201a8"
             ],
             [
              0.3333333333333333,
              "#9c179e"
             ],
             [
              0.4444444444444444,
              "#bd3786"
             ],
             [
              0.5555555555555556,
              "#d8576b"
             ],
             [
              0.6666666666666666,
              "#ed7953"
             ],
             [
              0.7777777777777778,
              "#fb9f3a"
             ],
             [
              0.8888888888888888,
              "#fdca26"
             ],
             [
              1,
              "#f0f921"
             ]
            ],
            "type": "surface"
           }
          ],
          "table": [
           {
            "cells": {
             "fill": {
              "color": "#EBF0F8"
             },
             "line": {
              "color": "white"
             }
            },
            "header": {
             "fill": {
              "color": "#C8D4E3"
             },
             "line": {
              "color": "white"
             }
            },
            "type": "table"
           }
          ]
         },
         "layout": {
          "annotationdefaults": {
           "arrowcolor": "#2a3f5f",
           "arrowhead": 0,
           "arrowwidth": 1
          },
          "autotypenumbers": "strict",
          "coloraxis": {
           "colorbar": {
            "outlinewidth": 0,
            "ticks": ""
           }
          },
          "colorscale": {
           "diverging": [
            [
             0,
             "#8e0152"
            ],
            [
             0.1,
             "#c51b7d"
            ],
            [
             0.2,
             "#de77ae"
            ],
            [
             0.3,
             "#f1b6da"
            ],
            [
             0.4,
             "#fde0ef"
            ],
            [
             0.5,
             "#f7f7f7"
            ],
            [
             0.6,
             "#e6f5d0"
            ],
            [
             0.7,
             "#b8e186"
            ],
            [
             0.8,
             "#7fbc41"
            ],
            [
             0.9,
             "#4d9221"
            ],
            [
             1,
             "#276419"
            ]
           ],
           "sequential": [
            [
             0,
             "#0d0887"
            ],
            [
             0.1111111111111111,
             "#46039f"
            ],
            [
             0.2222222222222222,
             "#7201a8"
            ],
            [
             0.3333333333333333,
             "#9c179e"
            ],
            [
             0.4444444444444444,
             "#bd3786"
            ],
            [
             0.5555555555555556,
             "#d8576b"
            ],
            [
             0.6666666666666666,
             "#ed7953"
            ],
            [
             0.7777777777777778,
             "#fb9f3a"
            ],
            [
             0.8888888888888888,
             "#fdca26"
            ],
            [
             1,
             "#f0f921"
            ]
           ],
           "sequentialminus": [
            [
             0,
             "#0d0887"
            ],
            [
             0.1111111111111111,
             "#46039f"
            ],
            [
             0.2222222222222222,
             "#7201a8"
            ],
            [
             0.3333333333333333,
             "#9c179e"
            ],
            [
             0.4444444444444444,
             "#bd3786"
            ],
            [
             0.5555555555555556,
             "#d8576b"
            ],
            [
             0.6666666666666666,
             "#ed7953"
            ],
            [
             0.7777777777777778,
             "#fb9f3a"
            ],
            [
             0.8888888888888888,
             "#fdca26"
            ],
            [
             1,
             "#f0f921"
            ]
           ]
          },
          "colorway": [
           "#636efa",
           "#EF553B",
           "#00cc96",
           "#ab63fa",
           "#FFA15A",
           "#19d3f3",
           "#FF6692",
           "#B6E880",
           "#FF97FF",
           "#FECB52"
          ],
          "font": {
           "color": "#2a3f5f"
          },
          "geo": {
           "bgcolor": "white",
           "lakecolor": "white",
           "landcolor": "#E5ECF6",
           "showlakes": true,
           "showland": true,
           "subunitcolor": "white"
          },
          "hoverlabel": {
           "align": "left"
          },
          "hovermode": "closest",
          "mapbox": {
           "style": "light"
          },
          "paper_bgcolor": "white",
          "plot_bgcolor": "#E5ECF6",
          "polar": {
           "angularaxis": {
            "gridcolor": "white",
            "linecolor": "white",
            "ticks": ""
           },
           "bgcolor": "#E5ECF6",
           "radialaxis": {
            "gridcolor": "white",
            "linecolor": "white",
            "ticks": ""
           }
          },
          "scene": {
           "xaxis": {
            "backgroundcolor": "#E5ECF6",
            "gridcolor": "white",
            "gridwidth": 2,
            "linecolor": "white",
            "showbackground": true,
            "ticks": "",
            "zerolinecolor": "white"
           },
           "yaxis": {
            "backgroundcolor": "#E5ECF6",
            "gridcolor": "white",
            "gridwidth": 2,
            "linecolor": "white",
            "showbackground": true,
            "ticks": "",
            "zerolinecolor": "white"
           },
           "zaxis": {
            "backgroundcolor": "#E5ECF6",
            "gridcolor": "white",
            "gridwidth": 2,
            "linecolor": "white",
            "showbackground": true,
            "ticks": "",
            "zerolinecolor": "white"
           }
          },
          "shapedefaults": {
           "line": {
            "color": "#2a3f5f"
           }
          },
          "ternary": {
           "aaxis": {
            "gridcolor": "white",
            "linecolor": "white",
            "ticks": ""
           },
           "baxis": {
            "gridcolor": "white",
            "linecolor": "white",
            "ticks": ""
           },
           "bgcolor": "#E5ECF6",
           "caxis": {
            "gridcolor": "white",
            "linecolor": "white",
            "ticks": ""
           }
          },
          "title": {
           "x": 0.05
          },
          "xaxis": {
           "automargin": true,
           "gridcolor": "white",
           "linecolor": "white",
           "ticks": "",
           "title": {
            "standoff": 15
           },
           "zerolinecolor": "white",
           "zerolinewidth": 2
          },
          "yaxis": {
           "automargin": true,
           "gridcolor": "white",
           "linecolor": "white",
           "ticks": "",
           "title": {
            "standoff": 15
           },
           "zerolinecolor": "white",
           "zerolinewidth": 2
          }
         }
        },
        "title": {
         "text": "BoW Features (Top 98.0%)"
        },
        "xaxis": {
         "anchor": "y",
         "domain": [
          0,
          0.94
         ],
         "tickangle": 45,
         "title": {
          "text": "Features"
         }
        },
        "yaxis": {
         "anchor": "x",
         "domain": [
          0,
          1
         ],
         "title": {
          "text": "Importance %"
         }
        },
        "yaxis2": {
         "anchor": "x",
         "overlaying": "y",
         "side": "right",
         "title": {
          "text": "Cumulative %"
         }
        }
       }
      }
     },
     "metadata": {},
     "output_type": "display_data"
    },
    {
     "data": {
      "application/vnd.plotly.v1+json": {
       "config": {
        "plotlyServerURL": "https://plot.ly"
       },
       "data": [],
       "layout": {
        "height": 500,
        "images": [
         {
          "layer": "below",
          "opacity": 1,
          "sizex": 1,
          "sizey": 1,
          "sizing": "stretch",
          "source": "data:image/png;base64,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",
          "x": 0,
          "xref": "paper",
          "y": 1,
          "yref": "paper"
         }
        ],
        "margin": {
         "b": 0,
         "l": 0,
         "r": 0,
         "t": 30
        },
        "template": {
         "data": {
          "bar": [
           {
            "error_x": {
             "color": "#2a3f5f"
            },
            "error_y": {
             "color": "#2a3f5f"
            },
            "marker": {
             "line": {
              "color": "#E5ECF6",
              "width": 0.5
             },
             "pattern": {
              "fillmode": "overlay",
              "size": 10,
              "solidity": 0.2
             }
            },
            "type": "bar"
           }
          ],
          "barpolar": [
           {
            "marker": {
             "line": {
              "color": "#E5ECF6",
              "width": 0.5
             },
             "pattern": {
              "fillmode": "overlay",
              "size": 10,
              "solidity": 0.2
             }
            },
            "type": "barpolar"
           }
          ],
          "carpet": [
           {
            "aaxis": {
             "endlinecolor": "#2a3f5f",
             "gridcolor": "white",
             "linecolor": "white",
             "minorgridcolor": "white",
             "startlinecolor": "#2a3f5f"
            },
            "baxis": {
             "endlinecolor": "#2a3f5f",
             "gridcolor": "white",
             "linecolor": "white",
             "minorgridcolor": "white",
             "startlinecolor": "#2a3f5f"
            },
            "type": "carpet"
           }
          ],
          "choropleth": [
           {
            "colorbar": {
             "outlinewidth": 0,
             "ticks": ""
            },
            "type": "choropleth"
           }
          ],
          "contour": [
           {
            "colorbar": {
             "outlinewidth": 0,
             "ticks": ""
            },
            "colorscale": [
             [
              0,
              "#0d0887"
             ],
             [
              0.1111111111111111,
              "#46039f"
             ],
             [
              0.2222222222222222,
              "#7201a8"
             ],
             [
              0.3333333333333333,
              "#9c179e"
             ],
             [
              0.4444444444444444,
              "#bd3786"
             ],
             [
              0.5555555555555556,
              "#d8576b"
             ],
             [
              0.6666666666666666,
              "#ed7953"
             ],
             [
              0.7777777777777778,
              "#fb9f3a"
             ],
             [
              0.8888888888888888,
              "#fdca26"
             ],
             [
              1,
              "#f0f921"
             ]
            ],
            "type": "contour"
           }
          ],
          "contourcarpet": [
           {
            "colorbar": {
             "outlinewidth": 0,
             "ticks": ""
            },
            "type": "contourcarpet"
           }
          ],
          "heatmap": [
           {
            "colorbar": {
             "outlinewidth": 0,
             "ticks": ""
            },
            "colorscale": [
             [
              0,
              "#0d0887"
             ],
             [
              0.1111111111111111,
              "#46039f"
             ],
             [
              0.2222222222222222,
              "#7201a8"
             ],
             [
              0.3333333333333333,
              "#9c179e"
             ],
             [
              0.4444444444444444,
              "#bd3786"
             ],
             [
              0.5555555555555556,
              "#d8576b"
             ],
             [
              0.6666666666666666,
              "#ed7953"
             ],
             [
              0.7777777777777778,
              "#fb9f3a"
             ],
             [
              0.8888888888888888,
              "#fdca26"
             ],
             [
              1,
              "#f0f921"
             ]
            ],
            "type": "heatmap"
           }
          ],
          "histogram": [
           {
            "marker": {
             "pattern": {
              "fillmode": "overlay",
              "size": 10,
              "solidity": 0.2
             }
            },
            "type": "histogram"
           }
          ],
          "histogram2d": [
           {
            "colorbar": {
             "outlinewidth": 0,
             "ticks": ""
            },
            "colorscale": [
             [
              0,
              "#0d0887"
             ],
             [
              0.1111111111111111,
              "#46039f"
             ],
             [
              0.2222222222222222,
              "#7201a8"
             ],
             [
              0.3333333333333333,
              "#9c179e"
             ],
             [
              0.4444444444444444,
              "#bd3786"
             ],
             [
              0.5555555555555556,
              "#d8576b"
             ],
             [
              0.6666666666666666,
              "#ed7953"
             ],
             [
              0.7777777777777778,
              "#fb9f3a"
             ],
             [
              0.8888888888888888,
              "#fdca26"
             ],
             [
              1,
              "#f0f921"
             ]
            ],
            "type": "histogram2d"
           }
          ],
          "histogram2dcontour": [
           {
            "colorbar": {
             "outlinewidth": 0,
             "ticks": ""
            },
            "colorscale": [
             [
              0,
              "#0d0887"
             ],
             [
              0.1111111111111111,
              "#46039f"
             ],
             [
              0.2222222222222222,
              "#7201a8"
             ],
             [
              0.3333333333333333,
              "#9c179e"
             ],
             [
              0.4444444444444444,
              "#bd3786"
             ],
             [
              0.5555555555555556,
              "#d8576b"
             ],
             [
              0.6666666666666666,
              "#ed7953"
             ],
             [
              0.7777777777777778,
              "#fb9f3a"
             ],
             [
              0.8888888888888888,
              "#fdca26"
             ],
             [
              1,
              "#f0f921"
             ]
            ],
            "type": "histogram2dcontour"
           }
          ],
          "mesh3d": [
           {
            "colorbar": {
             "outlinewidth": 0,
             "ticks": ""
            },
            "type": "mesh3d"
           }
          ],
          "parcoords": [
           {
            "line": {
             "colorbar": {
              "outlinewidth": 0,
              "ticks": ""
             }
            },
            "type": "parcoords"
           }
          ],
          "pie": [
           {
            "automargin": true,
            "type": "pie"
           }
          ],
          "scatter": [
           {
            "fillpattern": {
             "fillmode": "overlay",
             "size": 10,
             "solidity": 0.2
            },
            "type": "scatter"
           }
          ],
          "scatter3d": [
           {
            "line": {
             "colorbar": {
              "outlinewidth": 0,
              "ticks": ""
             }
            },
            "marker": {
             "colorbar": {
              "outlinewidth": 0,
              "ticks": ""
             }
            },
            "type": "scatter3d"
           }
          ],
          "scattercarpet": [
           {
            "marker": {
             "colorbar": {
              "outlinewidth": 0,
              "ticks": ""
             }
            },
            "type": "scattercarpet"
           }
          ],
          "scattergeo": [
           {
            "marker": {
             "colorbar": {
              "outlinewidth": 0,
              "ticks": ""
             }
            },
            "type": "scattergeo"
           }
          ],
          "scattergl": [
           {
            "marker": {
             "colorbar": {
              "outlinewidth": 0,
              "ticks": ""
             }
            },
            "type": "scattergl"
           }
          ],
          "scattermap": [
           {
            "marker": {
             "colorbar": {
              "outlinewidth": 0,
              "ticks": ""
             }
            },
            "type": "scattermap"
           }
          ],
          "scattermapbox": [
           {
            "marker": {
             "colorbar": {
              "outlinewidth": 0,
              "ticks": ""
             }
            },
            "type": "scattermapbox"
           }
          ],
          "scatterpolar": [
           {
            "marker": {
             "colorbar": {
              "outlinewidth": 0,
              "ticks": ""
             }
            },
            "type": "scatterpolar"
           }
          ],
          "scatterpolargl": [
           {
            "marker": {
             "colorbar": {
              "outlinewidth": 0,
              "ticks": ""
             }
            },
            "type": "scatterpolargl"
           }
          ],
          "scatterternary": [
           {
            "marker": {
             "colorbar": {
              "outlinewidth": 0,
              "ticks": ""
             }
            },
            "type": "scatterternary"
           }
          ],
          "surface": [
           {
            "colorbar": {
             "outlinewidth": 0,
             "ticks": ""
            },
            "colorscale": [
             [
              0,
              "#0d0887"
             ],
             [
              0.1111111111111111,
              "#46039f"
             ],
             [
              0.2222222222222222,
              "#7201a8"
             ],
             [
              0.3333333333333333,
              "#9c179e"
             ],
             [
              0.4444444444444444,
              "#bd3786"
             ],
             [
              0.5555555555555556,
              "#d8576b"
             ],
             [
              0.6666666666666666,
              "#ed7953"
             ],
             [
              0.7777777777777778,
              "#fb9f3a"
             ],
             [
              0.8888888888888888,
              "#fdca26"
             ],
             [
              1,
              "#f0f921"
             ]
            ],
            "type": "surface"
           }
          ],
          "table": [
           {
            "cells": {
             "fill": {
              "color": "#EBF0F8"
             },
             "line": {
              "color": "white"
             }
            },
            "header": {
             "fill": {
              "color": "#C8D4E3"
             },
             "line": {
              "color": "white"
             }
            },
            "type": "table"
           }
          ]
         },
         "layout": {
          "annotationdefaults": {
           "arrowcolor": "#2a3f5f",
           "arrowhead": 0,
           "arrowwidth": 1
          },
          "autotypenumbers": "strict",
          "coloraxis": {
           "colorbar": {
            "outlinewidth": 0,
            "ticks": ""
           }
          },
          "colorscale": {
           "diverging": [
            [
             0,
             "#8e0152"
            ],
            [
             0.1,
             "#c51b7d"
            ],
            [
             0.2,
             "#de77ae"
            ],
            [
             0.3,
             "#f1b6da"
            ],
            [
             0.4,
             "#fde0ef"
            ],
            [
             0.5,
             "#f7f7f7"
            ],
            [
             0.6,
             "#e6f5d0"
            ],
            [
             0.7,
             "#b8e186"
            ],
            [
             0.8,
             "#7fbc41"
            ],
            [
             0.9,
             "#4d9221"
            ],
            [
             1,
             "#276419"
            ]
           ],
           "sequential": [
            [
             0,
             "#0d0887"
            ],
            [
             0.1111111111111111,
             "#46039f"
            ],
            [
             0.2222222222222222,
             "#7201a8"
            ],
            [
             0.3333333333333333,
             "#9c179e"
            ],
            [
             0.4444444444444444,
             "#bd3786"
            ],
            [
             0.5555555555555556,
             "#d8576b"
            ],
            [
             0.6666666666666666,
             "#ed7953"
            ],
            [
             0.7777777777777778,
             "#fb9f3a"
            ],
            [
             0.8888888888888888,
             "#fdca26"
            ],
            [
             1,
             "#f0f921"
            ]
           ],
           "sequentialminus": [
            [
             0,
             "#0d0887"
            ],
            [
             0.1111111111111111,
             "#46039f"
            ],
            [
             0.2222222222222222,
             "#7201a8"
            ],
            [
             0.3333333333333333,
             "#9c179e"
            ],
            [
             0.4444444444444444,
             "#bd3786"
            ],
            [
             0.5555555555555556,
             "#d8576b"
            ],
            [
             0.6666666666666666,
             "#ed7953"
            ],
            [
             0.7777777777777778,
             "#fb9f3a"
            ],
            [
             0.8888888888888888,
             "#fdca26"
            ],
            [
             1,
             "#f0f921"
            ]
           ]
          },
          "colorway": [
           "#636efa",
           "#EF553B",
           "#00cc96",
           "#ab63fa",
           "#FFA15A",
           "#19d3f3",
           "#FF6692",
           "#B6E880",
           "#FF97FF",
           "#FECB52"
          ],
          "font": {
           "color": "#2a3f5f"
          },
          "geo": {
           "bgcolor": "white",
           "lakecolor": "white",
           "landcolor": "#E5ECF6",
           "showlakes": true,
           "showland": true,
           "subunitcolor": "white"
          },
          "hoverlabel": {
           "align": "left"
          },
          "hovermode": "closest",
          "mapbox": {
           "style": "light"
          },
          "paper_bgcolor": "white",
          "plot_bgcolor": "#E5ECF6",
          "polar": {
           "angularaxis": {
            "gridcolor": "white",
            "linecolor": "white",
            "ticks": ""
           },
           "bgcolor": "#E5ECF6",
           "radialaxis": {
            "gridcolor": "white",
            "linecolor": "white",
            "ticks": ""
           }
          },
          "scene": {
           "xaxis": {
            "backgroundcolor": "#E5ECF6",
            "gridcolor": "white",
            "gridwidth": 2,
            "linecolor": "white",
            "showbackground": true,
            "ticks": "",
            "zerolinecolor": "white"
           },
           "yaxis": {
            "backgroundcolor": "#E5ECF6",
            "gridcolor": "white",
            "gridwidth": 2,
            "linecolor": "white",
            "showbackground": true,
            "ticks": "",
            "zerolinecolor": "white"
           },
           "zaxis": {
            "backgroundcolor": "#E5ECF6",
            "gridcolor": "white",
            "gridwidth": 2,
            "linecolor": "white",
            "showbackground": true,
            "ticks": "",
            "zerolinecolor": "white"
           }
          },
          "shapedefaults": {
           "line": {
            "color": "#2a3f5f"
           }
          },
          "ternary": {
           "aaxis": {
            "gridcolor": "white",
            "linecolor": "white",
            "ticks": ""
           },
           "baxis": {
            "gridcolor": "white",
            "linecolor": "white",
            "ticks": ""
           },
           "bgcolor": "#E5ECF6",
           "caxis": {
            "gridcolor": "white",
            "linecolor": "white",
            "ticks": ""
           }
          },
          "title": {
           "x": 0.05
          },
          "xaxis": {
           "automargin": true,
           "gridcolor": "white",
           "linecolor": "white",
           "ticks": "",
           "title": {
            "standoff": 15
           },
           "zerolinecolor": "white",
           "zerolinewidth": 2
          },
          "yaxis": {
           "automargin": true,
           "gridcolor": "white",
           "linecolor": "white",
           "ticks": "",
           "title": {
            "standoff": 15
           },
           "zerolinecolor": "white",
           "zerolinewidth": 2
          }
         }
        },
        "title": {
         "text": "TF-IDF Word Cloud"
        },
        "width": 800,
        "xaxis": {
         "range": [
          0,
          1
         ],
         "showgrid": false,
         "showticklabels": false,
         "visible": false,
         "zeroline": false
        },
        "yaxis": {
         "range": [
          0,
          1
         ],
         "showgrid": false,
         "showticklabels": false,
         "visible": false,
         "zeroline": false
        }
       }
      }
     },
     "metadata": {},
     "output_type": "display_data"
    },
    {
     "name": "stdout",
     "output_type": "stream",
     "text": [
      "\n",
      "TF-IDF Feature Distribution:\n"
     ]
    },
    {
     "data": {
      "application/vnd.plotly.v1+json": {
       "config": {
        "plotlyServerURL": "https://plot.ly"
       },
       "data": [
        {
         "name": "Feature Importance",
         "type": "bar",
         "x": [
          "set",
          "watch",
          "cm",
          "showpiece",
          "analog",
          "combo",
          "baby",
          "men",
          "ceramic",
          "mug",
          "girl",
          "boy",
          "woman",
          "cotton",
          "usb",
          "kadhai",
          "single",
          "towel",
          "double",
          "blue",
          "abstract",
          "led",
          "printed",
          "sticker",
          "laptop",
          "cover",
          "black",
          "sonata",
          "light",
          "multicolor",
          "prithish",
          "design",
          "dress",
          "rockmantra",
          "blanket",
          "gift",
          "maximum",
          "print",
          "floral",
          "router",
          "gold",
          "cushion",
          "red",
          "digital",
          "bath",
          "kit",
          "cream",
          "cell",
          "wall",
          "quilt",
          "pc",
          "color",
          "comforter",
          "battery",
          "pack",
          "inch",
          "hp",
          "ml",
          "printland",
          "mini",
          "polyester",
          "wireless",
          "table",
          "home",
          "art",
          "green",
          "time",
          "box",
          "curtain",
          "plain",
          "india",
          "pink",
          "adapter",
          "eyelet",
          "craft",
          "casual",
          "orange",
          "brown",
          "portable",
          "charger",
          "door",
          "white",
          "bedsheet",
          "shape",
          "series"
         ],
         "y": {
          "bdata": "6g1KeF0xpj+tGPZuKbWlP+7C0Co8SKU/RkqIyde2pD/OCum2qYmjP63i8kkp4aE/qQtYvSylnz/PLS3Z92ybP/x7Z3fztpk/YQOpDc6UmD8xiAKDUQSYP9jpswWa2Zc/LAAd0XhYlD+ONx1Ex8WTP/vYdh7NIpM/pOC8vMMBjT8YgnUy782MP9/lpXbjlYk/ruq2Cck3iT9Cihw+lXSIP/8f6P3i7oc/YzJKUbZ8hz+f4rk1/meGPxkmCWpQoYU/W41xYQ2BhT8AB/k5r2eFP33IKfH+94Q/6n6kq7oahD+HYBuY8fuDP+Q6CJMfoYM/sYasrIR7gz9TP74TZC2DP/5TKt0m6II/CWqI9xzCgj/fdceOEsKCPxwfWNhofoI/D1wb2Nhrgj/6GsUrz12CP0y7H269HII/xFp8OzqCgT8VjyHG502AP94sZOsZDoA/TASnDTuqfz95mGgW/RF/P8+dVL4a3X4/grqgZLSxfT+hOMcq8JR9P9441FIEa30/tfKBpn3Fez+17P8JJo57P9MmLoDQY3s/3afRj8THej+gROWYrJ96P5Lr85U5l3o/8C5MuchWej99bwwTSFp5P2zFa/rSUXk/oTbm+mVCeT//PNhUPhl5PxC9lHzvBHk/bt4Rxz3KeD/ovOKEGJd4P7byTVDTMng/S9aEk9MjeD/elh8fqRx4PxZEJAYp8Hc/Z8PYtr9adz90RMLvrS53P+UJkqPs13U/26AH9mHWdT/9ymfkrMN1P7eNQJuxb3U/EZZqRrMgdT/wnVS2U890P1pKNTRpynQ/NY4mvOpicz//aCzXcUFzP2xFKe8993I/HTQIsbPUcj+DznzEcLByP7EvamtirnI/6H+A9TZZcj/YuMaAyA9yPwT5B7zvaXE/f1bCuDm/cD8=",
          "dtype": "f8"
         }
        },
        {
         "line": {
          "color": "red"
         },
         "name": "Cumulative %",
         "type": "scatter",
         "x": [
          "set",
          "watch",
          "cm",
          "showpiece",
          "analog",
          "combo",
          "baby",
          "men",
          "ceramic",
          "mug",
          "girl",
          "boy",
          "woman",
          "cotton",
          "usb",
          "kadhai",
          "single",
          "towel",
          "double",
          "blue",
          "abstract",
          "led",
          "printed",
          "sticker",
          "laptop",
          "cover",
          "black",
          "sonata",
          "light",
          "multicolor",
          "prithish",
          "design",
          "dress",
          "rockmantra",
          "blanket",
          "gift",
          "maximum",
          "print",
          "floral",
          "router",
          "gold",
          "cushion",
          "red",
          "digital",
          "bath",
          "kit",
          "cream",
          "cell",
          "wall",
          "quilt",
          "pc",
          "color",
          "comforter",
          "battery",
          "pack",
          "inch",
          "hp",
          "ml",
          "printland",
          "mini",
          "polyester",
          "wireless",
          "table",
          "home",
          "art",
          "green",
          "time",
          "box",
          "curtain",
          "plain",
          "india",
          "pink",
          "adapter",
          "eyelet",
          "craft",
          "casual",
          "orange",
          "brown",
          "portable",
          "charger",
          "door",
          "white",
          "bedsheet",
          "shape",
          "series"
         ],
         "xaxis": "x",
         "y": {
          "bdata": "6g1KeF0xpj9ME6BzQ/O1P2I6hMSwS8A/9EzmtmZ5xT+oj6Ak0VvKP1NIHXcb1M4/5CRkh2Bk0T/B9/YEMBvTP4FvbTyfttQ/t/9HHew/1j86KHg1McDXP9hm09XKPdk/2zblYlKD2j9UCifXrr/bP+R3Dqnb8dw/6V70xunZ3T/6CohAWcDePyk6PVwIjd8/v3hFUmMr4D/o6j2nNY3gP2iLNTPx7OA/MrR6DORK4T+8m1EFhKThP1TA+UYJ++E/iYZ/fA1R4j+lamc5rKbiP8cRLDWM+uI/w6PaH/dK4z9FETvm5prjPzEyh2Rr6eM/TOQ5d1k35D9J3YgHD4TkP5mG/aKvz+Q/QajbFrga5T8YxhZhwGXlP5QmeAS6r+U/BJTYZ2n55T9wqIek4ELmP10nQJpTi+Y/yBgug1zR5j8En0YilBLnP7cv9InMUuc/wH0PACGS5z/xTjz6RNDnPy34uC//Deg/ojmCmGJJ6D8TyNd4jIToP4VwfYFiv+g/anTKfO326D9DdN7ICS7pP5HQ3mnRZOk/4XP+8mCa6T9qPjBMoM/pP0EmXL/OBOo/n77OUHw56j9+1/TgMGzqPwmv6YbUnuo/dnvfUlnR6j/wK4nPiwPrP2pVgq6VNes/J3kQKipn6z+hPhpbWJjrP4baugG+yOs/M+ThqAX56z9hIyD7PinsP+lrLE0fWew/cB2azNSH7D/5oXkoMrbsPw3GwAHi4ew/T9WsxY4N7T/lpHUfFjntPwAmrIL1Y+0/LPs46TaO7T9opKWQ1bftP/0ODmNq4e0/GVyGODAI7j/rtDQcsy7uP3YHE5ihVO4/3hd1/0p67j97Ef7gq5/uP9rl1KUIxe4/2ua/E7vp7j9MdMGk2g3vPz6EOYSuMO8/6wir9yxS7z8=",
          "dtype": "f8"
         },
         "yaxis": "y2"
        }
       ],
       "layout": {
        "showlegend": true,
        "template": {
         "data": {
          "bar": [
           {
            "error_x": {
             "color": "#2a3f5f"
            },
            "error_y": {
             "color": "#2a3f5f"
            },
            "marker": {
             "line": {
              "color": "#E5ECF6",
              "width": 0.5
             },
             "pattern": {
              "fillmode": "overlay",
              "size": 10,
              "solidity": 0.2
             }
            },
            "type": "bar"
           }
          ],
          "barpolar": [
           {
            "marker": {
             "line": {
              "color": "#E5ECF6",
              "width": 0.5
             },
             "pattern": {
              "fillmode": "overlay",
              "size": 10,
              "solidity": 0.2
             }
            },
            "type": "barpolar"
           }
          ],
          "carpet": [
           {
            "aaxis": {
             "endlinecolor": "#2a3f5f",
             "gridcolor": "white",
             "linecolor": "white",
             "minorgridcolor": "white",
             "startlinecolor": "#2a3f5f"
            },
            "baxis": {
             "endlinecolor": "#2a3f5f",
             "gridcolor": "white",
             "linecolor": "white",
             "minorgridcolor": "white",
             "startlinecolor": "#2a3f5f"
            },
            "type": "carpet"
           }
          ],
          "choropleth": [
           {
            "colorbar": {
             "outlinewidth": 0,
             "ticks": ""
            },
            "type": "choropleth"
           }
          ],
          "contour": [
           {
            "colorbar": {
             "outlinewidth": 0,
             "ticks": ""
            },
            "colorscale": [
             [
              0,
              "#0d0887"
             ],
             [
              0.1111111111111111,
              "#46039f"
             ],
             [
              0.2222222222222222,
              "#7201a8"
             ],
             [
              0.3333333333333333,
              "#9c179e"
             ],
             [
              0.4444444444444444,
              "#bd3786"
             ],
             [
              0.5555555555555556,
              "#d8576b"
             ],
             [
              0.6666666666666666,
              "#ed7953"
             ],
             [
              0.7777777777777778,
              "#fb9f3a"
             ],
             [
              0.8888888888888888,
              "#fdca26"
             ],
             [
              1,
              "#f0f921"
             ]
            ],
            "type": "contour"
           }
          ],
          "contourcarpet": [
           {
            "colorbar": {
             "outlinewidth": 0,
             "ticks": ""
            },
            "type": "contourcarpet"
           }
          ],
          "heatmap": [
           {
            "colorbar": {
             "outlinewidth": 0,
             "ticks": ""
            },
            "colorscale": [
             [
              0,
              "#0d0887"
             ],
             [
              0.1111111111111111,
              "#46039f"
             ],
             [
              0.2222222222222222,
              "#7201a8"
             ],
             [
              0.3333333333333333,
              "#9c179e"
             ],
             [
              0.4444444444444444,
              "#bd3786"
             ],
             [
              0.5555555555555556,
              "#d8576b"
             ],
             [
              0.6666666666666666,
              "#ed7953"
             ],
             [
              0.7777777777777778,
              "#fb9f3a"
             ],
             [
              0.8888888888888888,
              "#fdca26"
             ],
             [
              1,
              "#f0f921"
             ]
            ],
            "type": "heatmap"
           }
          ],
          "histogram": [
           {
            "marker": {
             "pattern": {
              "fillmode": "overlay",
              "size": 10,
              "solidity": 0.2
             }
            },
            "type": "histogram"
           }
          ],
          "histogram2d": [
           {
            "colorbar": {
             "outlinewidth": 0,
             "ticks": ""
            },
            "colorscale": [
             [
              0,
              "#0d0887"
             ],
             [
              0.1111111111111111,
              "#46039f"
             ],
             [
              0.2222222222222222,
              "#7201a8"
             ],
             [
              0.3333333333333333,
              "#9c179e"
             ],
             [
              0.4444444444444444,
              "#bd3786"
             ],
             [
              0.5555555555555556,
              "#d8576b"
             ],
             [
              0.6666666666666666,
              "#ed7953"
             ],
             [
              0.7777777777777778,
              "#fb9f3a"
             ],
             [
              0.8888888888888888,
              "#fdca26"
             ],
             [
              1,
              "#f0f921"
             ]
            ],
            "type": "histogram2d"
           }
          ],
          "histogram2dcontour": [
           {
            "colorbar": {
             "outlinewidth": 0,
             "ticks": ""
            },
            "colorscale": [
             [
              0,
              "#0d0887"
             ],
             [
              0.1111111111111111,
              "#46039f"
             ],
             [
              0.2222222222222222,
              "#7201a8"
             ],
             [
              0.3333333333333333,
              "#9c179e"
             ],
             [
              0.4444444444444444,
              "#bd3786"
             ],
             [
              0.5555555555555556,
              "#d8576b"
             ],
             [
              0.6666666666666666,
              "#ed7953"
             ],
             [
              0.7777777777777778,
              "#fb9f3a"
             ],
             [
              0.8888888888888888,
              "#fdca26"
             ],
             [
              1,
              "#f0f921"
             ]
            ],
            "type": "histogram2dcontour"
           }
          ],
          "mesh3d": [
           {
            "colorbar": {
             "outlinewidth": 0,
             "ticks": ""
            },
            "type": "mesh3d"
           }
          ],
          "parcoords": [
           {
            "line": {
             "colorbar": {
              "outlinewidth": 0,
              "ticks": ""
             }
            },
            "type": "parcoords"
           }
          ],
          "pie": [
           {
            "automargin": true,
            "type": "pie"
           }
          ],
          "scatter": [
           {
            "fillpattern": {
             "fillmode": "overlay",
             "size": 10,
             "solidity": 0.2
            },
            "type": "scatter"
           }
          ],
          "scatter3d": [
           {
            "line": {
             "colorbar": {
              "outlinewidth": 0,
              "ticks": ""
             }
            },
            "marker": {
             "colorbar": {
              "outlinewidth": 0,
              "ticks": ""
             }
            },
            "type": "scatter3d"
           }
          ],
          "scattercarpet": [
           {
            "marker": {
             "colorbar": {
              "outlinewidth": 0,
              "ticks": ""
             }
            },
            "type": "scattercarpet"
           }
          ],
          "scattergeo": [
           {
            "marker": {
             "colorbar": {
              "outlinewidth": 0,
              "ticks": ""
             }
            },
            "type": "scattergeo"
           }
          ],
          "scattergl": [
           {
            "marker": {
             "colorbar": {
              "outlinewidth": 0,
              "ticks": ""
             }
            },
            "type": "scattergl"
           }
          ],
          "scattermap": [
           {
            "marker": {
             "colorbar": {
              "outlinewidth": 0,
              "ticks": ""
             }
            },
            "type": "scattermap"
           }
          ],
          "scattermapbox": [
           {
            "marker": {
             "colorbar": {
              "outlinewidth": 0,
              "ticks": ""
             }
            },
            "type": "scattermapbox"
           }
          ],
          "scatterpolar": [
           {
            "marker": {
             "colorbar": {
              "outlinewidth": 0,
              "ticks": ""
             }
            },
            "type": "scatterpolar"
           }
          ],
          "scatterpolargl": [
           {
            "marker": {
             "colorbar": {
              "outlinewidth": 0,
              "ticks": ""
             }
            },
            "type": "scatterpolargl"
           }
          ],
          "scatterternary": [
           {
            "marker": {
             "colorbar": {
              "outlinewidth": 0,
              "ticks": ""
             }
            },
            "type": "scatterternary"
           }
          ],
          "surface": [
           {
            "colorbar": {
             "outlinewidth": 0,
             "ticks": ""
            },
            "colorscale": [
             [
              0,
              "#0d0887"
             ],
             [
              0.1111111111111111,
              "#46039f"
             ],
             [
              0.2222222222222222,
              "#7201a8"
             ],
             [
              0.3333333333333333,
              "#9c179e"
             ],
             [
              0.4444444444444444,
              "#bd3786"
             ],
             [
              0.5555555555555556,
              "#d8576b"
             ],
             [
              0.6666666666666666,
              "#ed7953"
             ],
             [
              0.7777777777777778,
              "#fb9f3a"
             ],
             [
              0.8888888888888888,
              "#fdca26"
             ],
             [
              1,
              "#f0f921"
             ]
            ],
            "type": "surface"
           }
          ],
          "table": [
           {
            "cells": {
             "fill": {
              "color": "#EBF0F8"
             },
             "line": {
              "color": "white"
             }
            },
            "header": {
             "fill": {
              "color": "#C8D4E3"
             },
             "line": {
              "color": "white"
             }
            },
            "type": "table"
           }
          ]
         },
         "layout": {
          "annotationdefaults": {
           "arrowcolor": "#2a3f5f",
           "arrowhead": 0,
           "arrowwidth": 1
          },
          "autotypenumbers": "strict",
          "coloraxis": {
           "colorbar": {
            "outlinewidth": 0,
            "ticks": ""
           }
          },
          "colorscale": {
           "diverging": [
            [
             0,
             "#8e0152"
            ],
            [
             0.1,
             "#c51b7d"
            ],
            [
             0.2,
             "#de77ae"
            ],
            [
             0.3,
             "#f1b6da"
            ],
            [
             0.4,
             "#fde0ef"
            ],
            [
             0.5,
             "#f7f7f7"
            ],
            [
             0.6,
             "#e6f5d0"
            ],
            [
             0.7,
             "#b8e186"
            ],
            [
             0.8,
             "#7fbc41"
            ],
            [
             0.9,
             "#4d9221"
            ],
            [
             1,
             "#276419"
            ]
           ],
           "sequential": [
            [
             0,
             "#0d0887"
            ],
            [
             0.1111111111111111,
             "#46039f"
            ],
            [
             0.2222222222222222,
             "#7201a8"
            ],
            [
             0.3333333333333333,
             "#9c179e"
            ],
            [
             0.4444444444444444,
             "#bd3786"
            ],
            [
             0.5555555555555556,
             "#d8576b"
            ],
            [
             0.6666666666666666,
             "#ed7953"
            ],
            [
             0.7777777777777778,
             "#fb9f3a"
            ],
            [
             0.8888888888888888,
             "#fdca26"
            ],
            [
             1,
             "#f0f921"
            ]
           ],
           "sequentialminus": [
            [
             0,
             "#0d0887"
            ],
            [
             0.1111111111111111,
             "#46039f"
            ],
            [
             0.2222222222222222,
             "#7201a8"
            ],
            [
             0.3333333333333333,
             "#9c179e"
            ],
            [
             0.4444444444444444,
             "#bd3786"
            ],
            [
             0.5555555555555556,
             "#d8576b"
            ],
            [
             0.6666666666666666,
             "#ed7953"
            ],
            [
             0.7777777777777778,
             "#fb9f3a"
            ],
            [
             0.8888888888888888,
             "#fdca26"
            ],
            [
             1,
             "#f0f921"
            ]
           ]
          },
          "colorway": [
           "#636efa",
           "#EF553B",
           "#00cc96",
           "#ab63fa",
           "#FFA15A",
           "#19d3f3",
           "#FF6692",
           "#B6E880",
           "#FF97FF",
           "#FECB52"
          ],
          "font": {
           "color": "#2a3f5f"
          },
          "geo": {
           "bgcolor": "white",
           "lakecolor": "white",
           "landcolor": "#E5ECF6",
           "showlakes": true,
           "showland": true,
           "subunitcolor": "white"
          },
          "hoverlabel": {
           "align": "left"
          },
          "hovermode": "closest",
          "mapbox": {
           "style": "light"
          },
          "paper_bgcolor": "white",
          "plot_bgcolor": "#E5ECF6",
          "polar": {
           "angularaxis": {
            "gridcolor": "white",
            "linecolor": "white",
            "ticks": ""
           },
           "bgcolor": "#E5ECF6",
           "radialaxis": {
            "gridcolor": "white",
            "linecolor": "white",
            "ticks": ""
           }
          },
          "scene": {
           "xaxis": {
            "backgroundcolor": "#E5ECF6",
            "gridcolor": "white",
            "gridwidth": 2,
            "linecolor": "white",
            "showbackground": true,
            "ticks": "",
            "zerolinecolor": "white"
           },
           "yaxis": {
            "backgroundcolor": "#E5ECF6",
            "gridcolor": "white",
            "gridwidth": 2,
            "linecolor": "white",
            "showbackground": true,
            "ticks": "",
            "zerolinecolor": "white"
           },
           "zaxis": {
            "backgroundcolor": "#E5ECF6",
            "gridcolor": "white",
            "gridwidth": 2,
            "linecolor": "white",
            "showbackground": true,
            "ticks": "",
            "zerolinecolor": "white"
           }
          },
          "shapedefaults": {
           "line": {
            "color": "#2a3f5f"
           }
          },
          "ternary": {
           "aaxis": {
            "gridcolor": "white",
            "linecolor": "white",
            "ticks": ""
           },
           "baxis": {
            "gridcolor": "white",
            "linecolor": "white",
            "ticks": ""
           },
           "bgcolor": "#E5ECF6",
           "caxis": {
            "gridcolor": "white",
            "linecolor": "white",
            "ticks": ""
           }
          },
          "title": {
           "x": 0.05
          },
          "xaxis": {
           "automargin": true,
           "gridcolor": "white",
           "linecolor": "white",
           "ticks": "",
           "title": {
            "standoff": 15
           },
           "zerolinecolor": "white",
           "zerolinewidth": 2
          },
          "yaxis": {
           "automargin": true,
           "gridcolor": "white",
           "linecolor": "white",
           "ticks": "",
           "title": {
            "standoff": 15
           },
           "zerolinecolor": "white",
           "zerolinewidth": 2
          }
         }
        },
        "title": {
         "text": "TF-IDF Features (Top 98.0%)"
        },
        "xaxis": {
         "anchor": "y",
         "domain": [
          0,
          0.94
         ],
         "tickangle": 45,
         "title": {
          "text": "Features"
         }
        },
        "yaxis": {
         "anchor": "x",
         "domain": [
          0,
          1
         ],
         "title": {
          "text": "Importance %"
         }
        },
        "yaxis2": {
         "anchor": "x",
         "overlaying": "y",
         "side": "right",
         "title": {
          "text": "Cumulative %"
         }
        }
       }
      }
     },
     "metadata": {},
     "output_type": "display_data"
    },
    {
     "name": "stdout",
     "output_type": "stream",
     "text": [
      "\n",
      "Feature Comparison:\n"
     ]
    },
    {
     "name": "stderr",
     "output_type": "stream",
     "text": [
      "/Users/najia/git_repo/mission6/src/classes/encode_text.py:144: SettingWithCopyWarning:\n",
      "\n",
      "\n",
      "A value is trying to be set on a copy of a slice from a DataFrame.\n",
      "Try using .loc[row_indexer,col_indexer] = value instead\n",
      "\n",
      "See the caveats in the documentation: https://pandas.pydata.org/pandas-docs/stable/user_guide/indexing.html#returning-a-view-versus-a-copy\n",
      "\n"
     ]
    },
    {
     "data": {
      "application/vnd.plotly.v1+json": {
       "config": {
        "plotlyServerURL": "https://plot.ly"
       },
       "data": [
        {
         "name": "BoW",
         "offset": -0.2,
         "type": "bar",
         "width": 0.4,
         "x": [
          "watch",
          "set",
          "analog",
          "cm",
          "showpiece",
          "combo",
          "baby",
          "men",
          "ceramic",
          "mug",
          "girl",
          "boy",
          "usb",
          "woman",
          "cotton",
          "single",
          "double",
          "abstract",
          "laptop",
          "blue"
         ],
         "y": {
          "bdata": "u/wRHWBvqz8DbajhJiqoP3GS2s0TE6c/J6dowF38oz8DcZLazROjP9679rKn5aA/TGDu4CoUoT/fMugC8FecP98y6ALwV5w/KaEJS+Odmz/fNF1/w8yZP01aj2uwtZg/cRMVjH3NlT9MXnlkV5+TPyenaMBd/JM/lc4PKR5akD+WxMa6/BGNP98y6ALwV4w/lsTGuvwRjT+WyLCzo/uHPw==",
          "dtype": "f8"
         }
        },
        {
         "name": "TF-IDF",
         "offset": 0.2,
         "type": "bar",
         "width": 0.4,
         "x": [
          "watch",
          "set",
          "analog",
          "cm",
          "showpiece",
          "combo",
          "baby",
          "men",
          "ceramic",
          "mug",
          "girl",
          "boy",
          "usb",
          "woman",
          "cotton",
          "single",
          "double",
          "abstract",
          "laptop",
          "blue"
         ],
         "y": {
          "bdata": "rRj2bim1pT/qDUp4XTGmP84K6bapiaM/7sLQKjxIpT9GSojJ17akP63i8kkp4aE/qQtYvSylnz/PLS3Z92ybP/x7Z3fztpk/YQOpDc6UmD8xiAKDUQSYP9jpswWa2Zc/+9h2Hs0ikz8sAB3ReFiUP443HUTHxZM/GIJ1Mu/NjD+u6rYJyTeJP/8f6P3i7oc/W41xYQ2BhT9Cihw+lXSIPw==",
          "dtype": "f8"
         }
        }
       ],
       "layout": {
        "bargap": 0,
        "barmode": "overlay",
        "height": 600,
        "showlegend": true,
        "template": {
         "data": {
          "bar": [
           {
            "error_x": {
             "color": "#2a3f5f"
            },
            "error_y": {
             "color": "#2a3f5f"
            },
            "marker": {
             "line": {
              "color": "#E5ECF6",
              "width": 0.5
             },
             "pattern": {
              "fillmode": "overlay",
              "size": 10,
              "solidity": 0.2
             }
            },
            "type": "bar"
           }
          ],
          "barpolar": [
           {
            "marker": {
             "line": {
              "color": "#E5ECF6",
              "width": 0.5
             },
             "pattern": {
              "fillmode": "overlay",
              "size": 10,
              "solidity": 0.2
             }
            },
            "type": "barpolar"
           }
          ],
          "carpet": [
           {
            "aaxis": {
             "endlinecolor": "#2a3f5f",
             "gridcolor": "white",
             "linecolor": "white",
             "minorgridcolor": "white",
             "startlinecolor": "#2a3f5f"
            },
            "baxis": {
             "endlinecolor": "#2a3f5f",
             "gridcolor": "white",
             "linecolor": "white",
             "minorgridcolor": "white",
             "startlinecolor": "#2a3f5f"
            },
            "type": "carpet"
           }
          ],
          "choropleth": [
           {
            "colorbar": {
             "outlinewidth": 0,
             "ticks": ""
            },
            "type": "choropleth"
           }
          ],
          "contour": [
           {
            "colorbar": {
             "outlinewidth": 0,
             "ticks": ""
            },
            "colorscale": [
             [
              0,
              "#0d0887"
             ],
             [
              0.1111111111111111,
              "#46039f"
             ],
             [
              0.2222222222222222,
              "#7201a8"
             ],
             [
              0.3333333333333333,
              "#9c179e"
             ],
             [
              0.4444444444444444,
              "#bd3786"
             ],
             [
              0.5555555555555556,
              "#d8576b"
             ],
             [
              0.6666666666666666,
              "#ed7953"
             ],
             [
              0.7777777777777778,
              "#fb9f3a"
             ],
             [
              0.8888888888888888,
              "#fdca26"
             ],
             [
              1,
              "#f0f921"
             ]
            ],
            "type": "contour"
           }
          ],
          "contourcarpet": [
           {
            "colorbar": {
             "outlinewidth": 0,
             "ticks": ""
            },
            "type": "contourcarpet"
           }
          ],
          "heatmap": [
           {
            "colorbar": {
             "outlinewidth": 0,
             "ticks": ""
            },
            "colorscale": [
             [
              0,
              "#0d0887"
             ],
             [
              0.1111111111111111,
              "#46039f"
             ],
             [
              0.2222222222222222,
              "#7201a8"
             ],
             [
              0.3333333333333333,
              "#9c179e"
             ],
             [
              0.4444444444444444,
              "#bd3786"
             ],
             [
              0.5555555555555556,
              "#d8576b"
             ],
             [
              0.6666666666666666,
              "#ed7953"
             ],
             [
              0.7777777777777778,
              "#fb9f3a"
             ],
             [
              0.8888888888888888,
              "#fdca26"
             ],
             [
              1,
              "#f0f921"
             ]
            ],
            "type": "heatmap"
           }
          ],
          "histogram": [
           {
            "marker": {
             "pattern": {
              "fillmode": "overlay",
              "size": 10,
              "solidity": 0.2
             }
            },
            "type": "histogram"
           }
          ],
          "histogram2d": [
           {
            "colorbar": {
             "outlinewidth": 0,
             "ticks": ""
            },
            "colorscale": [
             [
              0,
              "#0d0887"
             ],
             [
              0.1111111111111111,
              "#46039f"
             ],
             [
              0.2222222222222222,
              "#7201a8"
             ],
             [
              0.3333333333333333,
              "#9c179e"
             ],
             [
              0.4444444444444444,
              "#bd3786"
             ],
             [
              0.5555555555555556,
              "#d8576b"
             ],
             [
              0.6666666666666666,
              "#ed7953"
             ],
             [
              0.7777777777777778,
              "#fb9f3a"
             ],
             [
              0.8888888888888888,
              "#fdca26"
             ],
             [
              1,
              "#f0f921"
             ]
            ],
            "type": "histogram2d"
           }
          ],
          "histogram2dcontour": [
           {
            "colorbar": {
             "outlinewidth": 0,
             "ticks": ""
            },
            "colorscale": [
             [
              0,
              "#0d0887"
             ],
             [
              0.1111111111111111,
              "#46039f"
             ],
             [
              0.2222222222222222,
              "#7201a8"
             ],
             [
              0.3333333333333333,
              "#9c179e"
             ],
             [
              0.4444444444444444,
              "#bd3786"
             ],
             [
              0.5555555555555556,
              "#d8576b"
             ],
             [
              0.6666666666666666,
              "#ed7953"
             ],
             [
              0.7777777777777778,
              "#fb9f3a"
             ],
             [
              0.8888888888888888,
              "#fdca26"
             ],
             [
              1,
              "#f0f921"
             ]
            ],
            "type": "histogram2dcontour"
           }
          ],
          "mesh3d": [
           {
            "colorbar": {
             "outlinewidth": 0,
             "ticks": ""
            },
            "type": "mesh3d"
           }
          ],
          "parcoords": [
           {
            "line": {
             "colorbar": {
              "outlinewidth": 0,
              "ticks": ""
             }
            },
            "type": "parcoords"
           }
          ],
          "pie": [
           {
            "automargin": true,
            "type": "pie"
           }
          ],
          "scatter": [
           {
            "fillpattern": {
             "fillmode": "overlay",
             "size": 10,
             "solidity": 0.2
            },
            "type": "scatter"
           }
          ],
          "scatter3d": [
           {
            "line": {
             "colorbar": {
              "outlinewidth": 0,
              "ticks": ""
             }
            },
            "marker": {
             "colorbar": {
              "outlinewidth": 0,
              "ticks": ""
             }
            },
            "type": "scatter3d"
           }
          ],
          "scattercarpet": [
           {
            "marker": {
             "colorbar": {
              "outlinewidth": 0,
              "ticks": ""
             }
            },
            "type": "scattercarpet"
           }
          ],
          "scattergeo": [
           {
            "marker": {
             "colorbar": {
              "outlinewidth": 0,
              "ticks": ""
             }
            },
            "type": "scattergeo"
           }
          ],
          "scattergl": [
           {
            "marker": {
             "colorbar": {
              "outlinewidth": 0,
              "ticks": ""
             }
            },
            "type": "scattergl"
           }
          ],
          "scattermap": [
           {
            "marker": {
             "colorbar": {
              "outlinewidth": 0,
              "ticks": ""
             }
            },
            "type": "scattermap"
           }
          ],
          "scattermapbox": [
           {
            "marker": {
             "colorbar": {
              "outlinewidth": 0,
              "ticks": ""
             }
            },
            "type": "scattermapbox"
           }
          ],
          "scatterpolar": [
           {
            "marker": {
             "colorbar": {
              "outlinewidth": 0,
              "ticks": ""
             }
            },
            "type": "scatterpolar"
           }
          ],
          "scatterpolargl": [
           {
            "marker": {
             "colorbar": {
              "outlinewidth": 0,
              "ticks": ""
             }
            },
            "type": "scatterpolargl"
           }
          ],
          "scatterternary": [
           {
            "marker": {
             "colorbar": {
              "outlinewidth": 0,
              "ticks": ""
             }
            },
            "type": "scatterternary"
           }
          ],
          "surface": [
           {
            "colorbar": {
             "outlinewidth": 0,
             "ticks": ""
            },
            "colorscale": [
             [
              0,
              "#0d0887"
             ],
             [
              0.1111111111111111,
              "#46039f"
             ],
             [
              0.2222222222222222,
              "#7201a8"
             ],
             [
              0.3333333333333333,
              "#9c179e"
             ],
             [
              0.4444444444444444,
              "#bd3786"
             ],
             [
              0.5555555555555556,
              "#d8576b"
             ],
             [
              0.6666666666666666,
              "#ed7953"
             ],
             [
              0.7777777777777778,
              "#fb9f3a"
             ],
             [
              0.8888888888888888,
              "#fdca26"
             ],
             [
              1,
              "#f0f921"
             ]
            ],
            "type": "surface"
           }
          ],
          "table": [
           {
            "cells": {
             "fill": {
              "color": "#EBF0F8"
             },
             "line": {
              "color": "white"
             }
            },
            "header": {
             "fill": {
              "color": "#C8D4E3"
             },
             "line": {
              "color": "white"
             }
            },
            "type": "table"
           }
          ]
         },
         "layout": {
          "annotationdefaults": {
           "arrowcolor": "#2a3f5f",
           "arrowhead": 0,
           "arrowwidth": 1
          },
          "autotypenumbers": "strict",
          "coloraxis": {
           "colorbar": {
            "outlinewidth": 0,
            "ticks": ""
           }
          },
          "colorscale": {
           "diverging": [
            [
             0,
             "#8e0152"
            ],
            [
             0.1,
             "#c51b7d"
            ],
            [
             0.2,
             "#de77ae"
            ],
            [
             0.3,
             "#f1b6da"
            ],
            [
             0.4,
             "#fde0ef"
            ],
            [
             0.5,
             "#f7f7f7"
            ],
            [
             0.6,
             "#e6f5d0"
            ],
            [
             0.7,
             "#b8e186"
            ],
            [
             0.8,
             "#7fbc41"
            ],
            [
             0.9,
             "#4d9221"
            ],
            [
             1,
             "#276419"
            ]
           ],
           "sequential": [
            [
             0,
             "#0d0887"
            ],
            [
             0.1111111111111111,
             "#46039f"
            ],
            [
             0.2222222222222222,
             "#7201a8"
            ],
            [
             0.3333333333333333,
             "#9c179e"
            ],
            [
             0.4444444444444444,
             "#bd3786"
            ],
            [
             0.5555555555555556,
             "#d8576b"
            ],
            [
             0.6666666666666666,
             "#ed7953"
            ],
            [
             0.7777777777777778,
             "#fb9f3a"
            ],
            [
             0.8888888888888888,
             "#fdca26"
            ],
            [
             1,
             "#f0f921"
            ]
           ],
           "sequentialminus": [
            [
             0,
             "#0d0887"
            ],
            [
             0.1111111111111111,
             "#46039f"
            ],
            [
             0.2222222222222222,
             "#7201a8"
            ],
            [
             0.3333333333333333,
             "#9c179e"
            ],
            [
             0.4444444444444444,
             "#bd3786"
            ],
            [
             0.5555555555555556,
             "#d8576b"
            ],
            [
             0.6666666666666666,
             "#ed7953"
            ],
            [
             0.7777777777777778,
             "#fb9f3a"
            ],
            [
             0.8888888888888888,
             "#fdca26"
            ],
            [
             1,
             "#f0f921"
            ]
           ]
          },
          "colorway": [
           "#636efa",
           "#EF553B",
           "#00cc96",
           "#ab63fa",
           "#FFA15A",
           "#19d3f3",
           "#FF6692",
           "#B6E880",
           "#FF97FF",
           "#FECB52"
          ],
          "font": {
           "color": "#2a3f5f"
          },
          "geo": {
           "bgcolor": "white",
           "lakecolor": "white",
           "landcolor": "#E5ECF6",
           "showlakes": true,
           "showland": true,
           "subunitcolor": "white"
          },
          "hoverlabel": {
           "align": "left"
          },
          "hovermode": "closest",
          "mapbox": {
           "style": "light"
          },
          "paper_bgcolor": "white",
          "plot_bgcolor": "#E5ECF6",
          "polar": {
           "angularaxis": {
            "gridcolor": "white",
            "linecolor": "white",
            "ticks": ""
           },
           "bgcolor": "#E5ECF6",
           "radialaxis": {
            "gridcolor": "white",
            "linecolor": "white",
            "ticks": ""
           }
          },
          "scene": {
           "xaxis": {
            "backgroundcolor": "#E5ECF6",
            "gridcolor": "white",
            "gridwidth": 2,
            "linecolor": "white",
            "showbackground": true,
            "ticks": "",
            "zerolinecolor": "white"
           },
           "yaxis": {
            "backgroundcolor": "#E5ECF6",
            "gridcolor": "white",
            "gridwidth": 2,
            "linecolor": "white",
            "showbackground": true,
            "ticks": "",
            "zerolinecolor": "white"
           },
           "zaxis": {
            "backgroundcolor": "#E5ECF6",
            "gridcolor": "white",
            "gridwidth": 2,
            "linecolor": "white",
            "showbackground": true,
            "ticks": "",
            "zerolinecolor": "white"
           }
          },
          "shapedefaults": {
           "line": {
            "color": "#2a3f5f"
           }
          },
          "ternary": {
           "aaxis": {
            "gridcolor": "white",
            "linecolor": "white",
            "ticks": ""
           },
           "baxis": {
            "gridcolor": "white",
            "linecolor": "white",
            "ticks": ""
           },
           "bgcolor": "#E5ECF6",
           "caxis": {
            "gridcolor": "white",
            "linecolor": "white",
            "ticks": ""
           }
          },
          "title": {
           "x": 0.05
          },
          "xaxis": {
           "automargin": true,
           "gridcolor": "white",
           "linecolor": "white",
           "ticks": "",
           "title": {
            "standoff": 15
           },
           "zerolinecolor": "white",
           "zerolinewidth": 2
          },
          "yaxis": {
           "automargin": true,
           "gridcolor": "white",
           "linecolor": "white",
           "ticks": "",
           "title": {
            "standoff": 15
           },
           "zerolinecolor": "white",
           "zerolinewidth": 2
          }
         }
        },
        "title": {
         "text": "BoW vs TF-IDF Top Features by Combined Importance"
        },
        "xaxis": {
         "tickangle": 45,
         "title": {
          "text": "Features"
         }
        },
        "yaxis": {
         "title": {
          "text": "Normalized Importance"
         }
        },
        "yaxis2": {
         "overlaying": "y",
         "showgrid": false,
         "side": "right",
         "title": {
          "text": "TF-IDF - BoW Difference"
         }
        }
       }
      }
     },
     "metadata": {},
     "output_type": "display_data"
    },
    {
     "name": "stdout",
     "output_type": "stream",
     "text": [
      "\n",
      "TF-IDF vs BoW Scatter Comparison:\n"
     ]
    },
    {
     "data": {
      "application/vnd.plotly.v1+json": {
       "config": {
        "plotlyServerURL": "https://plot.ly"
       },
       "data": [
        {
         "hovertemplate": "<b>%{text}</b><br>BoW: %{x:.5f}<br>TF-IDF: %{y:.5f}<br>Diff: %{marker.color:.5f}<extra></extra>",
         "marker": {
          "color": {
           "bdata": "gEsAFDSkYb/gS37ORNtBPxg9jLdQS3y/3LYHid+tWj94pyUkSBlkv1CAIIxDzVI/gH80EdiLVb/4mDGdhZVAP/hsbOMHZlY/AFur6Q6cEb8Aa/CaYjwuP+z6hopYxlw/oA5uu8yCS78A13iOQvPxPuBDMHiXLks/ePOQWt6tW78YtwVc5Adlv8BV8nn48zM/cLyBpua9ZD/wh/ufbDFMP+DZhN8ycF8/IBv1jEwzT7+AzLclPksrv8ju2ujvs18/mAm9ur/JSj88kd4cGHdiP8Tq0lxA6Fy/TOL6LkL5UT8AC5uJAMBCv/hqcOzMoFM/uBygQdJMUr9Az36IndFevyhyToB4WFc/5AzUUj46W78AMJplnylIv8B6kDVFdEw/4MqqxR+HXL8wsfkNy61AP5igYk4ntkw/gO1T9pJHLD/gCRcc3P4qv+j90dqPA1Q/WIconu5JUT/WtTjfVwl6P0ScLmLbkF8/sNoFWtZTMr/s3FRlvUNuv2Cn0aqBpT4/eECr3JD9X7/wScQxRUtLPwCiYDcFX02/+Ez9g4+7ST94Gjl6B6RTP2jAHqk6CVC/QO4E66lIaL9gbeQSFCVHvzAaX1DQIko/kgvd+C7LYT9Ar+4gLUxGv2wKWziigky/iE1k0EtZVj9A24nu12QxPzCiZku6iEc/WCbIjWHvVr9gr6hCJzg2P2A67ty9kz0/UA42GNZIRT+owfWgzs9YP4BDNwJAxzI/9HoEQSawUb+w/QGX8sFEP4AiP1MpKFY/Uv1M9rqFZz/wTk5qmM4wv8AYOnQ9RCg/kPHllZaMb7/4t38Co3tHvzCUXe+eMGo/kNhQ/WgyX7/WCgEET71Uv9A7KzWxHFs/IMxy6y3gVT+EmMyOIjZVPyCbBtTcCkg/uAWSlclyWD+w0/Fsg1VlvxB9s2kA4Fc/OJBvuNrohr8g2FoUtwAtPwRPFCCdl1w/ADx0lC0kRz8=",
           "dtype": "f8"
          },
          "colorbar": {
           "title": {
            "text": "TF-IDF - BoW"
           }
          },
          "colorscale": [
           [
            0,
            "rgb(103,0,31)"
           ],
           [
            0.1,
            "rgb(178,24,43)"
           ],
           [
            0.2,
            "rgb(214,96,77)"
           ],
           [
            0.3,
            "rgb(244,165,130)"
           ],
           [
            0.4,
            "rgb(253,219,199)"
           ],
           [
            0.5,
            "rgb(247,247,247)"
           ],
           [
            0.6,
            "rgb(209,229,240)"
           ],
           [
            0.7,
            "rgb(146,197,222)"
           ],
           [
            0.8,
            "rgb(67,147,195)"
           ],
           [
            0.9,
            "rgb(33,102,172)"
           ],
           [
            1,
            "rgb(5,48,97)"
           ]
          ],
          "showscale": true,
          "size": 8
         },
         "mode": "markers",
         "text": [
          "abstract",
          "adapter",
          "analog",
          "art",
          "baby",
          "bath",
          "battery",
          "bedsheet",
          "black",
          "blanket",
          "blue",
          "box",
          "boy",
          "brown",
          "casual",
          "cell",
          "ceramic",
          "charger",
          "cm",
          "color",
          "combo",
          "comforter",
          "cotton",
          "cover",
          "craft",
          "cream",
          "curtain",
          "cushion",
          "design",
          "digital",
          "door",
          "double",
          "dress",
          "eyelet",
          "floral",
          "gift",
          "girl",
          "gold",
          "green",
          "home",
          "hp",
          "inch",
          "india",
          "kadhai",
          "kit",
          "lapguard",
          "laptop",
          "led",
          "light",
          "maximum",
          "men",
          "mini",
          "ml",
          "mouse",
          "mug",
          "multicolor",
          "orange",
          "pack",
          "pad",
          "pavilion",
          "pc",
          "pink",
          "plain",
          "polyester",
          "portable",
          "print",
          "printed",
          "printland",
          "prithish",
          "quilt",
          "red",
          "rockmantra",
          "router",
          "self",
          "series",
          "set",
          "shape",
          "showpiece",
          "single",
          "skin",
          "sonata",
          "sticker",
          "table",
          "time",
          "towel",
          "usb",
          "wall",
          "watch",
          "white",
          "wireless",
          "woman"
         ],
         "type": "scatter",
         "x": {
          "bdata": "3zLoAvBXjD+VzJqsSuVyP3GS2s0TE6c/J6ndPDFxcT9MYO7gKhShP7t9TNvJKXo/cgtBmi/6fz9yC0GaL/pvP946vPQ9K4I/lcyarErlgj+WyLCzo/uHP3ILQZov+m8/TVqPa7C1mD+VzJqsSuVyP3ILQZov+m8/3jq89D0rgj/fMugC8FecPyep3TwxcXE/J6dowF38oz/fNtL7lkF3P9679rKn5aA/BOiDKhaGfj8np2jAXfyTPyep3TwxcYE/J6ndPDFxcT8D8FccZFl0P5bExrr8EX0/KaEJS+Odez8D8FccZFmEP7t9TNvJKXo/3zbS+5ZBdz+WxMa6/BGNP3ILQZov+n8/KaEJS+Odez9MXnlkV5+DP3AX/4Qkt4A/3zRdf8PMmT8E6IMqFoZ+PwPwVxxkWXQ/3zbS+5ZBdz+7fUzbySl6PwPwVxxkWXQ/J6ndPDFxcT9yC0GaL/p/P3ETFYx9zXU/cgtBmi/6bz+WxMa6/BGNPyil80OKh4Y/lsiws6P7hz9wF/+EJLeAP98y6ALwV5w/cRMVjH3NdT8D8FccZFl0P3ILQZov+m8/KaEJS+Odmz+6gTbUcBOFP3ILQZov+m8/J6ndPDFxcT+VzJqsSuVyP5XMmqxK5XI/cRMVjH3NdT8D8FccZFl0P5XMmqxK5XI/BOiDKhaGfj8nqd08MXFxPyep3TwxcYE/uoE21HAThT+VzJqsSuVyP5XMmqxK5YI/cgtBmi/6fz+WxMa6/BF9P3ILQZov+n8/3zbS+5ZBdz9yC0GaL/pvP3ILQZov+m8/A22o4SYqqD8D8FccZFl0PwNxktrNE6M/lc4PKR5akD+VzJqsSuVyP3AX/4Qkt4A/lcyarErlgj+VzJqsSuVyPwPwVxxkWXQ/KKXzQ4qHhj9xExWMfc2VP3ETFYx9zXU/u/wRHWBvqz8nqd08MXFxPyep3TwxcXE/TF55ZFefkz8=",
          "dtype": "f8"
         },
         "y": {
          "bdata": "/x/o/eLuhz8RlmpGsyB1P84K6bapiaM/3pYfH6kceD+pC1i9LKWfP8+dVL4a3X4/kuvzlTmXej/YuMaAyA9yP33IKfH+94Q/33XHjhLCgj9Cihw+lXSIP3REwu+tLnc/2OmzBZrZlz9sRSnvPfdyPzWOJrzqYnM/3jjUUgRrfT/8e2d387aZP4POfMRwsHI/7sLQKjxIpT/dp9GPxMd6P63i8kkp4aE/oETlmKyfej+ONx1Ex8WTPwAH+TmvZ4U/Wko1NGnKdD+hOMcq8JR9P+UJkqPs13U/3ixk6xkOgD9TP74TZC2DP3mYaBb9EX8/sS9qa2Kucj+u6rYJyTeJP/5TKt0m6II/8J1UtlPPdD9Mux9uvRyCPxwfWNhofoI/MYgCg1EEmD8VjyHG502APxZEJAYp8Hc/S9aEk9MjeD9sxWv60lF5P31vDBNIWnk//cpn5KzDdT+k4Ly8wwGNP4K6oGS0sX0/HFAAz7SvbT9bjXFhDYGFP2MySlG2fIc/h2AbmPH7gz8PXBvY2GuCP88tLdn3bJs/EL2UfO8EeT+hNub6ZUJ5Pz6rsUWS9Wc/YQOpDc6UmD/kOgiTH6GDP/9oLNdxQXM/8C5MuchWej+t9nwIxRtwP4/WHsvsqW4/0yYugNBjez+3jUCbsW91P9ugB/Zh1nU/bt4Rxz3KeD8dNAixs9RyP/oaxSvPXYI/n+K5Nf5nhj//PNhUPhl5P7GGrKyEe4M/tez/CSaOez9MBKcNO6p/PwlqiPccwoI/xFp8OzqCgT+UQfeMXOBtP39Wwrg5v3A/6g1KeF0xpj8E+Qe872lxP0ZKiMnXtqQ/GIJ1Mu/NjD+/EzXX7WtrP+p+pKu6GoQ/GSYJalChhT+28k1Q0zJ4P2fD2La/Wnc/3+WlduOViT/72HYezSKTP7XygaZ9xXs/rRj2bim1pT/of4D1NllyP+i84oQYl3g/LAAd0XhYlD8=",
          "dtype": "f8"
         }
        },
        {
         "line": {
          "color": "gray",
          "dash": "dash"
         },
         "mode": "lines",
         "name": "Equal Weight",
         "type": "scatter",
         "x": [
          0,
          0.053584102200141946
         ],
         "y": [
          0,
          0.053584102200141946
         ]
        }
       ],
       "layout": {
        "height": 600,
        "showlegend": true,
        "template": {
         "data": {
          "bar": [
           {
            "error_x": {
             "color": "#2a3f5f"
            },
            "error_y": {
             "color": "#2a3f5f"
            },
            "marker": {
             "line": {
              "color": "#E5ECF6",
              "width": 0.5
             },
             "pattern": {
              "fillmode": "overlay",
              "size": 10,
              "solidity": 0.2
             }
            },
            "type": "bar"
           }
          ],
          "barpolar": [
           {
            "marker": {
             "line": {
              "color": "#E5ECF6",
              "width": 0.5
             },
             "pattern": {
              "fillmode": "overlay",
              "size": 10,
              "solidity": 0.2
             }
            },
            "type": "barpolar"
           }
          ],
          "carpet": [
           {
            "aaxis": {
             "endlinecolor": "#2a3f5f",
             "gridcolor": "white",
             "linecolor": "white",
             "minorgridcolor": "white",
             "startlinecolor": "#2a3f5f"
            },
            "baxis": {
             "endlinecolor": "#2a3f5f",
             "gridcolor": "white",
             "linecolor": "white",
             "minorgridcolor": "white",
             "startlinecolor": "#2a3f5f"
            },
            "type": "carpet"
           }
          ],
          "choropleth": [
           {
            "colorbar": {
             "outlinewidth": 0,
             "ticks": ""
            },
            "type": "choropleth"
           }
          ],
          "contour": [
           {
            "colorbar": {
             "outlinewidth": 0,
             "ticks": ""
            },
            "colorscale": [
             [
              0,
              "#0d0887"
             ],
             [
              0.1111111111111111,
              "#46039f"
             ],
             [
              0.2222222222222222,
              "#7201a8"
             ],
             [
              0.3333333333333333,
              "#9c179e"
             ],
             [
              0.4444444444444444,
              "#bd3786"
             ],
             [
              0.5555555555555556,
              "#d8576b"
             ],
             [
              0.6666666666666666,
              "#ed7953"
             ],
             [
              0.7777777777777778,
              "#fb9f3a"
             ],
             [
              0.8888888888888888,
              "#fdca26"
             ],
             [
              1,
              "#f0f921"
             ]
            ],
            "type": "contour"
           }
          ],
          "contourcarpet": [
           {
            "colorbar": {
             "outlinewidth": 0,
             "ticks": ""
            },
            "type": "contourcarpet"
           }
          ],
          "heatmap": [
           {
            "colorbar": {
             "outlinewidth": 0,
             "ticks": ""
            },
            "colorscale": [
             [
              0,
              "#0d0887"
             ],
             [
              0.1111111111111111,
              "#46039f"
             ],
             [
              0.2222222222222222,
              "#7201a8"
             ],
             [
              0.3333333333333333,
              "#9c179e"
             ],
             [
              0.4444444444444444,
              "#bd3786"
             ],
             [
              0.5555555555555556,
              "#d8576b"
             ],
             [
              0.6666666666666666,
              "#ed7953"
             ],
             [
              0.7777777777777778,
              "#fb9f3a"
             ],
             [
              0.8888888888888888,
              "#fdca26"
             ],
             [
              1,
              "#f0f921"
             ]
            ],
            "type": "heatmap"
           }
          ],
          "histogram": [
           {
            "marker": {
             "pattern": {
              "fillmode": "overlay",
              "size": 10,
              "solidity": 0.2
             }
            },
            "type": "histogram"
           }
          ],
          "histogram2d": [
           {
            "colorbar": {
             "outlinewidth": 0,
             "ticks": ""
            },
            "colorscale": [
             [
              0,
              "#0d0887"
             ],
             [
              0.1111111111111111,
              "#46039f"
             ],
             [
              0.2222222222222222,
              "#7201a8"
             ],
             [
              0.3333333333333333,
              "#9c179e"
             ],
             [
              0.4444444444444444,
              "#bd3786"
             ],
             [
              0.5555555555555556,
              "#d8576b"
             ],
             [
              0.6666666666666666,
              "#ed7953"
             ],
             [
              0.7777777777777778,
              "#fb9f3a"
             ],
             [
              0.8888888888888888,
              "#fdca26"
             ],
             [
              1,
              "#f0f921"
             ]
            ],
            "type": "histogram2d"
           }
          ],
          "histogram2dcontour": [
           {
            "colorbar": {
             "outlinewidth": 0,
             "ticks": ""
            },
            "colorscale": [
             [
              0,
              "#0d0887"
             ],
             [
              0.1111111111111111,
              "#46039f"
             ],
             [
              0.2222222222222222,
              "#7201a8"
             ],
             [
              0.3333333333333333,
              "#9c179e"
             ],
             [
              0.4444444444444444,
              "#bd3786"
             ],
             [
              0.5555555555555556,
              "#d8576b"
             ],
             [
              0.6666666666666666,
              "#ed7953"
             ],
             [
              0.7777777777777778,
              "#fb9f3a"
             ],
             [
              0.8888888888888888,
              "#fdca26"
             ],
             [
              1,
              "#f0f921"
             ]
            ],
            "type": "histogram2dcontour"
           }
          ],
          "mesh3d": [
           {
            "colorbar": {
             "outlinewidth": 0,
             "ticks": ""
            },
            "type": "mesh3d"
           }
          ],
          "parcoords": [
           {
            "line": {
             "colorbar": {
              "outlinewidth": 0,
              "ticks": ""
             }
            },
            "type": "parcoords"
           }
          ],
          "pie": [
           {
            "automargin": true,
            "type": "pie"
           }
          ],
          "scatter": [
           {
            "fillpattern": {
             "fillmode": "overlay",
             "size": 10,
             "solidity": 0.2
            },
            "type": "scatter"
           }
          ],
          "scatter3d": [
           {
            "line": {
             "colorbar": {
              "outlinewidth": 0,
              "ticks": ""
             }
            },
            "marker": {
             "colorbar": {
              "outlinewidth": 0,
              "ticks": ""
             }
            },
            "type": "scatter3d"
           }
          ],
          "scattercarpet": [
           {
            "marker": {
             "colorbar": {
              "outlinewidth": 0,
              "ticks": ""
             }
            },
            "type": "scattercarpet"
           }
          ],
          "scattergeo": [
           {
            "marker": {
             "colorbar": {
              "outlinewidth": 0,
              "ticks": ""
             }
            },
            "type": "scattergeo"
           }
          ],
          "scattergl": [
           {
            "marker": {
             "colorbar": {
              "outlinewidth": 0,
              "ticks": ""
             }
            },
            "type": "scattergl"
           }
          ],
          "scattermap": [
           {
            "marker": {
             "colorbar": {
              "outlinewidth": 0,
              "ticks": ""
             }
            },
            "type": "scattermap"
           }
          ],
          "scattermapbox": [
           {
            "marker": {
             "colorbar": {
              "outlinewidth": 0,
              "ticks": ""
             }
            },
            "type": "scattermapbox"
           }
          ],
          "scatterpolar": [
           {
            "marker": {
             "colorbar": {
              "outlinewidth": 0,
              "ticks": ""
             }
            },
            "type": "scatterpolar"
           }
          ],
          "scatterpolargl": [
           {
            "marker": {
             "colorbar": {
              "outlinewidth": 0,
              "ticks": ""
             }
            },
            "type": "scatterpolargl"
           }
          ],
          "scatterternary": [
           {
            "marker": {
             "colorbar": {
              "outlinewidth": 0,
              "ticks": ""
             }
            },
            "type": "scatterternary"
           }
          ],
          "surface": [
           {
            "colorbar": {
             "outlinewidth": 0,
             "ticks": ""
            },
            "colorscale": [
             [
              0,
              "#0d0887"
             ],
             [
              0.1111111111111111,
              "#46039f"
             ],
             [
              0.2222222222222222,
              "#7201a8"
             ],
             [
              0.3333333333333333,
              "#9c179e"
             ],
             [
              0.4444444444444444,
              "#bd3786"
             ],
             [
              0.5555555555555556,
              "#d8576b"
             ],
             [
              0.6666666666666666,
              "#ed7953"
             ],
             [
              0.7777777777777778,
              "#fb9f3a"
             ],
             [
              0.8888888888888888,
              "#fdca26"
             ],
             [
              1,
              "#f0f921"
             ]
            ],
            "type": "surface"
           }
          ],
          "table": [
           {
            "cells": {
             "fill": {
              "color": "#EBF0F8"
             },
             "line": {
              "color": "white"
             }
            },
            "header": {
             "fill": {
              "color": "#C8D4E3"
             },
             "line": {
              "color": "white"
             }
            },
            "type": "table"
           }
          ]
         },
         "layout": {
          "annotationdefaults": {
           "arrowcolor": "#2a3f5f",
           "arrowhead": 0,
           "arrowwidth": 1
          },
          "autotypenumbers": "strict",
          "coloraxis": {
           "colorbar": {
            "outlinewidth": 0,
            "ticks": ""
           }
          },
          "colorscale": {
           "diverging": [
            [
             0,
             "#8e0152"
            ],
            [
             0.1,
             "#c51b7d"
            ],
            [
             0.2,
             "#de77ae"
            ],
            [
             0.3,
             "#f1b6da"
            ],
            [
             0.4,
             "#fde0ef"
            ],
            [
             0.5,
             "#f7f7f7"
            ],
            [
             0.6,
             "#e6f5d0"
            ],
            [
             0.7,
             "#b8e186"
            ],
            [
             0.8,
             "#7fbc41"
            ],
            [
             0.9,
             "#4d9221"
            ],
            [
             1,
             "#276419"
            ]
           ],
           "sequential": [
            [
             0,
             "#0d0887"
            ],
            [
             0.1111111111111111,
             "#46039f"
            ],
            [
             0.2222222222222222,
             "#7201a8"
            ],
            [
             0.3333333333333333,
             "#9c179e"
            ],
            [
             0.4444444444444444,
             "#bd3786"
            ],
            [
             0.5555555555555556,
             "#d8576b"
            ],
            [
             0.6666666666666666,
             "#ed7953"
            ],
            [
             0.7777777777777778,
             "#fb9f3a"
            ],
            [
             0.8888888888888888,
             "#fdca26"
            ],
            [
             1,
             "#f0f921"
            ]
           ],
           "sequentialminus": [
            [
             0,
             "#0d0887"
            ],
            [
             0.1111111111111111,
             "#46039f"
            ],
            [
             0.2222222222222222,
             "#7201a8"
            ],
            [
             0.3333333333333333,
             "#9c179e"
            ],
            [
             0.4444444444444444,
             "#bd3786"
            ],
            [
             0.5555555555555556,
             "#d8576b"
            ],
            [
             0.6666666666666666,
             "#ed7953"
            ],
            [
             0.7777777777777778,
             "#fb9f3a"
            ],
            [
             0.8888888888888888,
             "#fdca26"
            ],
            [
             1,
             "#f0f921"
            ]
           ]
          },
          "colorway": [
           "#636efa",
           "#EF553B",
           "#00cc96",
           "#ab63fa",
           "#FFA15A",
           "#19d3f3",
           "#FF6692",
           "#B6E880",
           "#FF97FF",
           "#FECB52"
          ],
          "font": {
           "color": "#2a3f5f"
          },
          "geo": {
           "bgcolor": "white",
           "lakecolor": "white",
           "landcolor": "#E5ECF6",
           "showlakes": true,
           "showland": true,
           "subunitcolor": "white"
          },
          "hoverlabel": {
           "align": "left"
          },
          "hovermode": "closest",
          "mapbox": {
           "style": "light"
          },
          "paper_bgcolor": "white",
          "plot_bgcolor": "#E5ECF6",
          "polar": {
           "angularaxis": {
            "gridcolor": "white",
            "linecolor": "white",
            "ticks": ""
           },
           "bgcolor": "#E5ECF6",
           "radialaxis": {
            "gridcolor": "white",
            "linecolor": "white",
            "ticks": ""
           }
          },
          "scene": {
           "xaxis": {
            "backgroundcolor": "#E5ECF6",
            "gridcolor": "white",
            "gridwidth": 2,
            "linecolor": "white",
            "showbackground": true,
            "ticks": "",
            "zerolinecolor": "white"
           },
           "yaxis": {
            "backgroundcolor": "#E5ECF6",
            "gridcolor": "white",
            "gridwidth": 2,
            "linecolor": "white",
            "showbackground": true,
            "ticks": "",
            "zerolinecolor": "white"
           },
           "zaxis": {
            "backgroundcolor": "#E5ECF6",
            "gridcolor": "white",
            "gridwidth": 2,
            "linecolor": "white",
            "showbackground": true,
            "ticks": "",
            "zerolinecolor": "white"
           }
          },
          "shapedefaults": {
           "line": {
            "color": "#2a3f5f"
           }
          },
          "ternary": {
           "aaxis": {
            "gridcolor": "white",
            "linecolor": "white",
            "ticks": ""
           },
           "baxis": {
            "gridcolor": "white",
            "linecolor": "white",
            "ticks": ""
           },
           "bgcolor": "#E5ECF6",
           "caxis": {
            "gridcolor": "white",
            "linecolor": "white",
            "ticks": ""
           }
          },
          "title": {
           "x": 0.05
          },
          "xaxis": {
           "automargin": true,
           "gridcolor": "white",
           "linecolor": "white",
           "ticks": "",
           "title": {
            "standoff": 15
           },
           "zerolinecolor": "white",
           "zerolinewidth": 2
          },
          "yaxis": {
           "automargin": true,
           "gridcolor": "white",
           "linecolor": "white",
           "ticks": "",
           "title": {
            "standoff": 15
           },
           "zerolinecolor": "white",
           "zerolinewidth": 2
          }
         }
        },
        "title": {
         "text": "TF-IDF vs BoW Feature Importance"
        },
        "xaxis": {
         "title": {
          "text": "BoW Weight (normalized)"
         }
        },
        "yaxis": {
         "title": {
          "text": "TF-IDF Weight (normalized)"
         }
        }
       }
      }
     },
     "metadata": {},
     "output_type": "display_data"
    }
   ],
   "source": [
    "from src.classes.encode_text import TextEncoder\n",
    "\n",
    "# Initialize encoder once\n",
    "encoder = TextEncoder()\n",
    "\n",
    "# Fit and transform product names\n",
    "encoding_results = encoder.fit_transform(df['product_name_lemmatized'])\n",
    "\n",
    "\n",
    "# For a Bag of Words cloud\n",
    "bow_cloud = encoder.plot_word_cloud(use_tfidf=False, max_words=100, colormap='plasma')\n",
    "bow_cloud.show()\n",
    "\n",
    "# Create and display BoW plot\n",
    "bow_fig = encoder.plot_bow_features(threshold=0.98)\n",
    "print(\"\\nBag of Words Feature Distribution:\")\n",
    "bow_fig.show()\n",
    "\n",
    "\n"
   ]
  },
  {
   "cell_type": "code",
   "execution_count": null,
   "id": "ca4bcb7a",
   "metadata": {},
   "outputs": [],
   "source": [
    "# For a TF-IDF word cloud\n",
    "word_cloud = encoder.plot_word_cloud(use_tfidf=True, max_words=100, colormap='plasma')\n",
    "word_cloud.show()\n",
    "\n",
    "# Create and display TF-IDF plot\n",
    "tfidf_fig = encoder.plot_tfidf_features(threshold=0.98)\n",
    "print(\"\\nTF-IDF Feature Distribution:\")\n",
    "tfidf_fig.show()"
   ]
  },
  {
   "cell_type": "code",
   "execution_count": null,
   "id": "c8e31827",
   "metadata": {},
   "outputs": [],
   "source": [
    "\n",
    "# Show comparison\n",
    "comparison_fig = encoder.plot_feature_comparison(threshold=0.98)\n",
    "print(\"\\nFeature Comparison:\")\n",
    "comparison_fig.show()\n",
    "\n",
    "# Plot scatter comparison\n",
    "scatter_fig = encoder.plot_scatter_comparison()\n",
    "print(\"\\nTF-IDF vs BoW Scatter Comparison:\")\n",
    "scatter_fig.show()"
   ]
  },
  {
   "cell_type": "markdown",
   "id": "e8d19e2a",
   "metadata": {},
   "source": [
    "### 3.3 Dimensionality Reduction & Visualization\n",
    "**Analysis**:\n",
    "- Apply PCA/t-SNE\n",
    "- Visualize category distribution\n",
    "- Evaluate cluster separation"
   ]
  },
  {
   "cell_type": "code",
   "execution_count": 7,
   "id": "83e8ef75",
   "metadata": {},
   "outputs": [
    {
     "name": "stdout",
     "output_type": "stream",
     "text": [
      "\n",
      "Applying PCA to product name features...\n"
     ]
    },
    {
     "name": "stderr",
     "output_type": "stream",
     "text": [
      "/Users/najia/git_repo/mission6/mission6_venv/lib/python3.12/site-packages/sklearn/decomposition/_pca.py:606: RuntimeWarning:\n",
      "\n",
      "divide by zero encountered in matmul\n",
      "\n",
      "/Users/najia/git_repo/mission6/mission6_venv/lib/python3.12/site-packages/sklearn/decomposition/_pca.py:606: RuntimeWarning:\n",
      "\n",
      "overflow encountered in matmul\n",
      "\n",
      "/Users/najia/git_repo/mission6/mission6_venv/lib/python3.12/site-packages/sklearn/decomposition/_pca.py:606: RuntimeWarning:\n",
      "\n",
      "invalid value encountered in matmul\n",
      "\n",
      "/Users/najia/git_repo/mission6/mission6_venv/lib/python3.12/site-packages/sklearn/decomposition/_base.py:148: RuntimeWarning:\n",
      "\n",
      "divide by zero encountered in matmul\n",
      "\n",
      "/Users/najia/git_repo/mission6/mission6_venv/lib/python3.12/site-packages/sklearn/decomposition/_base.py:148: RuntimeWarning:\n",
      "\n",
      "overflow encountered in matmul\n",
      "\n",
      "/Users/najia/git_repo/mission6/mission6_venv/lib/python3.12/site-packages/sklearn/decomposition/_base.py:148: RuntimeWarning:\n",
      "\n",
      "invalid value encountered in matmul\n",
      "\n"
     ]
    },
    {
     "data": {
      "application/vnd.plotly.v1+json": {
       "config": {
        "plotlyServerURL": "https://plot.ly"
       },
       "data": [
        {
         "hovertemplate": "Category=[\"Home Furnishing<br>PC1=%{x}<br>PC2=%{y}<extra></extra>",
         "legendgroup": "[\"Home Furnishing",
         "marker": {
          "color": "#636efa",
          "symbol": "circle"
         },
         "mode": "markers",
         "name": "[\"Home Furnishing",
         "showlegend": true,
         "type": "scattergl",
         "x": {
          "bdata": "yHV2VXx6Jr84qpBBwjdrv1aDrpYIdj6/Gt+brAPMmz+we/Ao6X8zPxb06tdisUA/TFiRonYLdL9MWJGidgt0v4EBDN7xDnU/gQEM3vEOdT85Iy+U5N+PP2A+3NGa9p8/L9t1UjN5UL8v23VSM3lQv65bcfdV4U6/TSSgRenyT78v23VSM3lQv5CkayL0IVG/lD+XjLb3kD+Z7rpa0AtTv5nuulrQC1O/GDqhGgERnj9MWJGidgt0v50wCIE9q22/VNk3zmZxVb8QwOEafPAVP0iDYDAN0yQ/WF+XkWgbIb8Sb9m/OKlOv5CEYqKFC5E/fyOWlmWyij8o6pjLHQ6XP05sAzqJd3e/TFiRonYLdL+UzbGyIMMwv/WBAKe9IYM/3EyZ1KqHNT9HM4YN4lGAPz4jy4GT7kQ/NjicAvy2N7+CZf6h3Ag7v+8UUCqsNmY/ZDwsZm6oZb9aQ/YrJ/FRvyPlpIEm+VO/OZ63l477hT/lcalwsYJWvzEXAqhdxla/ZPs1ROp2Vz9c9ZpPfh5Ev+w8rfHn/V8/i44ZpRBwUL/Aw5eCmFtMv+w8rfHn/V8/7Dyt8ef9Xz/49+Ry7IJsP3cb6LTUwGE/7PE6UmBbb7+kDIo/kiVfP+hMZiWJcl6/MQWFEbrbVL8kTyril4kxP5ejH3aD5NI/Vy/l7q2fzT9fvx3mzd3NPyjqmMsdDpc/tpt+EwYlUr+iILiOoHF2P+l3iOiVynQ/sWGqEs5Lcj9Ih1husO99P/pYN24X7UQ/qugI8f7tS78ZDQc+OByKv0oI4zBHNk6/hiPY9u1DUL8j5aSBJvlTvw7Vba/hsle/s1eiQBagUL8FqYycisxhPzACMHGmAGu/OBa813AiPT+EbjQAH+dmP4jJiftBRVa/afYNZj2RU7/Ohat75EFFP1pD9isn8VG/I+WkgSb5U7+0Nfe4xldWPyPlpIEm+VO/0uYwvxy9lT+2m34TBiVSv9LmML8cvZU/tpt+EwYlUr+0Nfe4xldWP1pD9isn8VG/yqbO+8nWkz+0Nfe4xldWP7Q197jGV1Y/XqFYOpVQmT/S5jC/HL2VP7Q197jGV1Y/tDX3uMZXVj/S5jC/HL2VP6Bg+kWe25g/fOcqwvuIQD8oPbYog0heP7Q197jGV1Y/tDX3uMZXVj/S5jC/HL2VPxV1dz7uyHM/WkP2KyfxUb+0Nfe4xldWP1AzOvQkd5U/KD22KINIXj8RtFY/6OBnv5xIWwmTOpW/5XGpcLGCVr9c9ZpPfh5Ev1qtDMTxSlC/z34k3chwYD8Z4HIYPulNv66w1qkfA1O/VNIS3piKUr+xCM+oCCuRv7HPsKKFnYU/Wv3+rCGETL9AvnvyxnpDP8DDl4KYW0y/rltx91XhTr8YdrfNsQrHP8aB2vmDLFi/LACbRIfrcr8jMeL72/ROvxrfm6wDzJs/mumuBmdtcj8cByWpbddPP4C7yhdKq3C/2J6HN7A1U7+Z7rpa0AtTv8T1J3OAFiu/me66WtALU7+JRMDlFjOCP5RcW+LCdWC/VGWKOjBGML8jSjfNe3mFP7eZJuahCoE/MhHh+8wDab/acPb2nrJiv7eZJuahCoE/",
          "dtype": "f8"
         },
         "xaxis": "x",
         "y": {
          "bdata": "ln3yssGeqz/cpAHlKYu2PzrxocEWHLg/wBfM9J0P2D+ILB1tpsm2P4IoogwOO7g/MgiSC9n2rD8yCJIL2fasP6Ccw6ZJ9Kg/oJzDpkn0qD+A7GNpIxDRP7vdE+RpE9E/waKq8300rT/BoqrzfTStP8Kx4xrNma4/NVqiTINGqz/BoqrzfTStP5IQ3n2Goqs/M5ErOfrJpT/wel+llWanP/B6X6WVZqc/ot4MZdznxT8yCJIL2fasPy5lBNpCarY/6wgCUbSipz+iB8LM86+2Pwf9Nlfj2bU/wCAOasXZtD/SqrI7tq+lPzotZOsH4c8//5oJNcMt0D+cH03OPbjRPyLAvywjTKs/MgiSC9n2rD+wKNVScY6pP6ogzqwdP6c/k0c1v0FYrT+UuButikSnPxqA4K/3B68/lCEm2binqT/O08f4FaioP4S8NZrWYKw/oAUTnV9drj+jmP5Yfx6sPykZ2RCRyag/WCj1dYGXqD/OmN0N2a6rP9omBPEQbao/y3pYXNZYrz+mJQfZWMOuP42++tWOHa8/DL+uk/Hjqj+60yo0VnSuP42++tWOHa8/jb761Y4drz9OSaUXbQ+wP+zUH13eoKw/Plwy9wnJrz8B/3+0F8iuP3h+urct9qk/6VXA9gFtqj9Pu2Ftt8GwP+TQnd0r/MO/WdsltWZUvL+T8N7Qtea4v5wfTc49uNE/GaExVUhBqz8iteT6qPysPwBqLiS5P64/pJC5vq1xrT+EsnuddcOtP5C0xQg1ILE/c1u7VD8nrz9nYZnGF+2kP/DG9xzkp6w/AZp+Fjn9rT8pGdkQkcmoP5TAU4LQ964/Rz+agh1Lrz8y10Ea91+vPyQalNui1bE/8K8gx7yXsj/Bzi58eQexP+i5lfc/6K4/DU+Lsek/rj/p9Vu4RoSyP6OY/lh/Hqw/KRnZEJHJqD9sO+cp3UC9PykZ2RCRyag/NCdcbw661D8ZoTFVSEGrPzQnXG8OutQ/GaExVUhBqz9sO+cp3UC9P6OY/lh/Hqw/v9O/uEgVpj9sO+cp3UC9P2w75yndQL0/140POvKt1T80J1xvDrrUP2w75yndQL0/bDvnKd1AvT80J1xvDrrUP4yG50VPzNA/Is95tIORsT+nIMh6ZBO/P2w75yndQL0/bDvnKd1AvT80J1xvDrrUP4e/TqOiS7o/o5j+WH8erD9sO+cp3UC9P12BOB1fCqE/pyDIemQTvz+oi4+Qw9KwPxS1VUgT5LU/zpjdDdmuqz+mJQfZWMOuP6QIScdg5Ks/qjThqU0srj8usXqqOpauP+FpV0mIMq8/zWPUNgF9rD+2E1qJoMqfP/KChgHBUqk/FND8cF5Xrz+PrNZwUpiwP7rTKjRWdK4/wrHjGs2Zrj8YhVL4Y6qxv9w3Ji0etKg/NEjKJBJFrD8GQL4ZT4CkP8AXzPSdD9g/av+aoWDVpT9F3BAXUuKrP77ijtf6UKw/bq8wpZ1boT/wel+llWanPxggInB7nbU/8HpfpZVmpz+oaZIRtDCnP8f2BpiXoa0/7rlsmykbqj9MJpD/+IynPwlPMs+vB6c/MCDlvKQGqz96iinsAqSsPwlPMs+vB6c/",
          "dtype": "f8"
         },
         "yaxis": "y"
        },
        {
         "hovertemplate": "Category=[\"Baby Care<br>PC1=%{x}<br>PC2=%{y}<extra></extra>",
         "legendgroup": "[\"Baby Care",
         "marker": {
          "color": "#EF553B",
          "symbol": "circle"
         },
         "mode": "markers",
         "name": "[\"Baby Care",
         "showlegend": true,
         "type": "scattergl",
         "x": {
          "bdata": "tDX3uMZXVj/S5jC/HL2VP9JxEHMtmp2/gEqA0zlxor/Ynoc3sDVTv9iehzewNVO/xpc650LRs79klH9xEXCtv8aXOudC0bO/sF3ekdANl7+S1aKswVBzv8jSgd1F9LK/2J6HN7A1U7/4PFU8pQiAv+pcq3XE07K/zPYzULYzlj9t5WLcSzW9v8FzEMo+TL6/mwUO1c9rtr+XxIJGuMy3v8FzEMo+TL6/wXMQyj5Mvr9t5WLcSzW9v+MruXL3eLC/4yu5cvd4sL9vtFeyTn2wv+MruXL3eLC/q5+LaZGTsL+866sbN7CMP9iehzewNVO/Uqx7jcPsr797FiclJHylv8aXOudC0bO/exYnJSR8pb/jK7ly93iwv23lYtxLNb2/4yu5cvd4sL/H8ayW+2qmv2D2HOGJ2bK/Ea5/z6M+s78hDuiEnLG3vyg9tiiDSF4/xpc650LRs7+Ci/PAzoatv2qzRy/oO6y/n7y8dLRapr/jK7ly93iwv9iehzewNVO/2J6HN7A1U7/Ynoc3sDVTv+MruXL3eLC/4yu5cvd4sL/jK7ly93iwv+pcq3XE07K/beVi3Es1vb9t5WLcSzW9v9iehzewNVO/xpc650LRs7/0gupSopmCvwi7znqve7G/4yu5cvd4sL+C2sGXQZOfvyEO6IScsbe/89pt+K8prb+snAS6hLKqv4qL/JwqRaq/89pt+K8prb+hS+VbB9itv8IZPLrc6aG/OxivymD1o7+fvLx0tFqmv+MruXL3eLC/4yu5cvd4sL/jK7ly93iwv+MruXL3eLC/wXMQyj5Mvr+0Nfe4xldWP9xyqe3gW4a/2J6HN7A1U7+0Nfe4xldWP9iehzewNVO/9hOD5VU7d7/S5jC/HL2VPy9jte39vmC/n7y8dLRapr+0Nfe4xldWP9iehzewNVO/8dbEaLGnhz+0Nfe4xldWP9LmML8cvZU/2J6HN7A1U78qGHevvMVev9iehzewNVO/BoOi21E+mT/SR4lV03pTv8FzEMo+TL6/omR8/6l6X78Wm/tVDwd9v3E/iPgznnS//uS/B1uObb8WulkqSXlcv5IbQVmGGYQ/PVHYTooSgj9UKYlYOlajv+5G3ai80pO/2J6HN7A1U795xvl0RrtRv3sWJyUkfKW/2J6HN7A1U7+DFN/kcPipv3rQx/JZha+/kD3ahL+imr/Ynoc3sDVTv06JwP1IuFO/Jcthr62asL8tuUxiJDiyv9iehzewNVO/NFt9bVSStr80W31tVJK2vyXLYa+tmrC/SINgMA3TJD9Ig2AwDdMkP7LUQhBVw2Y/SINgMA3TJD+CoOWMxjS0v8JB3GU4DLS/jNHLjsXkpr/BcxDKPky+vyxTFRtu57C/I8IaGPrujj+XxIJGuMy3v8FzEMo+TL6/3LpNgff+q7/Ynoc3sDVTv9iehzewNVO/xpc650LRs78Yr7zt62CSP8FzEMo+TL6/2AXvkRhPUj+XxIJGuMy3v+x8zcBlUS6/7HzNwGVRLr/sfM3AZVEuv+x8zcBlUS6/7HzNwGVRLr/gO2LK0FsXv+x8zcBlUS6/7HzNwGVRLr/sfM3AZVEuv+x8zcBlUS6/",
          "dtype": "f8"
         },
         "xaxis": "x",
         "y": {
          "bdata": "bDvnKd1AvT80J1xvDrrUP54Yelirac0/2PhC5eeYzz9urzClnVuhP26vMKWdW6E/eP9hfHD9sz+U/tqWG6G2P3j/YXxw/bM/tBUNgh0ftz90h35aGHG4PzyK9BcYics/bq8wpZ1boT+veTYhfSarP1jrW9McIZE/Nw8iKDHY0j+ScBvsTyOpP5S8/8f+Q5A/O3q9PxXxpT98ZkuzyAGhP5S8/8f+Q5A/lLz/x/5DkD+ScBvsTyOpP1aEYOkJ3bM/VoRg6Qndsz+gW7Nwa5W2P1aEYOkJ3bM/iCTxkgz/qj9CbSeFhEujP26vMKWdW6E/Wt+asupdtD9vFgbzNhe3P3j/YXxw/bM/bxYG8zYXtz9WhGDpCd2zP5JwG+xPI6k/VoRg6Qndsz8Otq47PrKwP6GUfnMEs7E/L04b5dydpz+G8z8CF5OiP6cgyHpkE78/eP9hfHD9sz8EfMH2WPayP3oh1N3B57Q//pT2m2X90z9WhGDpCd2zP26vMKWdW6E/bq8wpZ1boT9urzClnVuhP1aEYOkJ3bM/VoRg6Qndsz9WhGDpCd2zP1jrW9McIZE/knAb7E8jqT+ScBvsTyOpP26vMKWdW6E/eP9hfHD9sz/ufUocof+nP49hac5IVLY/VoRg6Qndsz98fGwJODTMP4bzPwIXk6I/OLpMmnJ2tT8wGG5ALMGyPzSAwUL9IrY/OLpMmnJ2tT9bZUwHiP2hP5KkXDhZa9E/uq733mgT0T/+lPabZf3TP1aEYOkJ3bM/VoRg6Qndsz9WhGDpCd2zP1aEYOkJ3bM/lLz/x/5DkD9sO+cp3UC9Pyjg3jD4FsA/bq8wpZ1boT9sO+cp3UC9P26vMKWdW6E/cUqMIZzSrT80J1xvDrrUPz7KxYx+AbE//pT2m2X90z9sO+cp3UC9P26vMKWdW6E/xyu4Wy7doj9sO+cp3UC9PzQnXG8OutQ/bq8wpZ1boT9a6cuOGrm4P26vMKWdW6E/lTnoSTIu0j+ZDz6UcanRP5S8/8f+Q5A/V27JyJLtqz9jwJZH2ASyP2Q/eqTwca8/skfcnLmssT96PMIQsVCrP1bnMQb6F6o/4cAxgIGmpz/A6geIThFhPzAYg/6E6YI/bq8wpZ1boT9Ym3ZX8pXUP28WBvM2F7c/bq8wpZ1boT/NngNDo2bTP3s7l7ZuTLU/cMJi8saLZT9urzClnVuhP1bbZWkuH60/UCmUTpZglj/cn4YSwoSwP26vMKWdW6E/9cWBg6U5mD/1xYGDpTmYP1AplE6WYJY/B/02V+PZtT8H/TZX49m1P0jrH+NXHLQ/B/02V+PZtT8172yDPfmhP/83q/gNM6M/54dH5Rzarj+UvP/H/kOQP6Pa8+LMNp4/igZGXtZcoT98ZkuzyAGhP5S8/8f+Q5A/4AP/e2jksT9urzClnVuhP26vMKWdW6E/eP9hfHD9sz9YEHUuRne2P5S8/8f+Q5A/3gGdJLghuz98ZkuzyAGhP1MKWEtxUaY/UwpYS3FRpj9TClhLcVGmP1MKWEtxUaY/UwpYS3FRpj8cyBnNIfylP1MKWEtxUaY/UwpYS3FRpj9TClhLcVGmP1MKWEtxUaY/",
          "dtype": "f8"
         },
         "yaxis": "y"
        },
        {
         "hovertemplate": "Category=[\"Watches<br>PC1=%{x}<br>PC2=%{y}<extra></extra>",
         "legendgroup": "[\"Watches",
         "marker": {
          "color": "#00cc96",
          "symbol": "circle"
         },
         "mode": "markers",
         "name": "[\"Watches",
         "showlegend": true,
         "type": "scattergl",
         "x": {
          "bdata": "A3Dt2iOM17/BfOlaNSPhv6pulI5ZO96/4ENVPXsN1r/BfOlaNSPhvxiChvyr0dq/wXzpWjUj4b/BfOlaNSPhv8F86Vo1I+G/kqp5M5IU1b/BfOlaNSPhv90JT4GMW9C/VxA0BObW07/BfOlaNSPhv1ScBQd+tsm/GIKG/KvR2r+qbpSOWTvev8F86Vo1I+G/4ENVPXsN1r/BfOlaNSPhvygKY9MVwNW/LYnaYmup27/dCU+BjFvQv09q9Jt0GMu/wXzpWjUj4b9XiHDmDm/Qv8F86Vo1I+G/wXzpWjUj4b+KtVo7jvnhv0inwEjzfN2/bTjAo8jz278S0BrQYxvgv0inwEjzfN2/EtAa0GMb4L9Ip8BI83zdv4q1WjuO+eG/9BlSt/4o2r+vUptj9qzQv69Sm2P2rNC/52V23SFA2b+M0lbMZ+XRv5GwLW2YCty/irVaO4754b+ylF0SoDvYv8lbPHfjXdq/r1KbY/as0L+RsC1tmArcv4fDC/Qbbti/EtAa0GMb4L+KtVo7jvnhv8lbPHfjXdq/SVN/JVb+4b+vUptj9qzQv78NExKxx9u/kbAtbZgK3L+IhzH1t4vev4iHMfW3i96/iIcx9beL3r/JWzx3413av8lbPHfjXdq/SVN/JVb+4b8+Mm3jcLXTv2MqSN/gENy/yVs8d+Nd2r+/DRMSscfbv4q5BA9Th9u/iIcx9beL3r/nZXbdIUDZv4q1WjuO+eG/lKrjPC5E3r+KtVo7jvnhv4iHMfW3i96/52V23SFA2b+Hwwv0G27Yv5Sq4zwuRN6/iIcx9beL3r8DcO3aI4zXv4q1WjuO+eG/kbAtbZgK3L+vUptj9qzQv1eIcOYOb9C/LYnaYmup27/JWzx3413av4fDC/Qbbti/irVaO4754b+KtVo7jvnhv78NExKxx9u/EtAa0GMb4L8S0BrQYxvgv78NExKxx9u/irVaO4754b+UquM8LkTevxLQGtBjG+C/Ke+SObhW2r8V23HGDCjVvwNw7dojjNe/EtAa0GMb4L+KtVo7jvnhv7uu4+ST6dO/IvooWbDE178EikZp2xrPv78NExKxx9u/kbAtbZgK3L+/DRMSscfbv4q1WjuO+eG/EtAa0GMb4L9tOMCjyPPbvxLQGtBjG+C/52V23SFA2b9X5h6AMS7XvxLQGtBjG+C/r1KbY/as0L8K7JNFnz/Vv5GwLW2YCty/EtAa0GMb4L+KtVo7jvnhv5Sq4zwuRN6/jNJWzGfl0b9hms8hXYHXvxLQGtBjG+C/SVN/JVb+4b+KtVo7jvnhv5Sq4zwuRN6/kbAtbZgK3L+KtVo7jvnhvyl4K8H4yNy/wXzpWjUj4b8S0BrQYxvgv0inwEjzfN2/v3IWPETMzL8S0BrQYxvgv5f4GVMbCNu/l/gZUxsI27+X+BlTGwjbvxLQGtBjG+C/EtAa0GMb4L8S0BrQYxvgv4q1WjuO+eG/l/gZUxsI279cNgMWzPjRv5f4GVMbCNu/l/gZUxsI27+KtVo7jvnhv4q1WjuO+eG/XZTasHYo3r+KtVo7jvnhv3t8AdI4nuC/EtAa0GMb4L+KtVo7jvnhvy1oefNpwta/",
          "dtype": "f8"
         },
         "xaxis": "x",
         "y": {
          "bdata": "QRW7tZ9q0r96adGfPC3cv0RFiay6S9i/qzZJZWGb0L96adGfPC3cvz5f7NUD69S/emnRnzwt3L96adGfPC3cv3pp0Z88Ldy/5vD1pjkTzr96adGfPC3cv1oWbH2rcMa/9o731aLjyb96adGfPC3cvx9bQoTGOL+/Pl/s1QPr1L9ERYmsukvYv3pp0Z88Ldy/qzZJZWGb0L96adGfPC3cv7IPYzz1Ks2/VHwncmq9079aFmx9q3DGvzlWvAkP47y/emnRnzwt3L9il6EJF8/Cv3pp0Z88Ldy/emnRnzwt3L8QsELr+v3ev3nscUqFvta/nPgDa1jO1L/gASjFEaXbv3nscUqFvta/4AEoxRGl27957HFKhb7WvxCwQuv6/d6/lL7NbrIx1r8irvrvnPjJvyKu+u+c+Mm/ABPb+KUX1b8yVk+iefDJv+Wj3PmgzNe/ELBC6/r93r/3EiR2InrUv+Sc4f8sdda/Iq7675z4yb/lo9z5oMzXv+at/Soeu9S/4AEoxRGl278QsELr+v3ev+Sc4f8sdda/7Dh397gK378irvrvnPjJv8P6Rl4xede/5aPc+aDM17+xduxyiQjav7F27HKJCNq/sXbscokI2r/knOH/LHXWv+Sc4f8sdda/7Dh397gK37+YznQj1QrPv9+6vSZAcde/5Jzh/yx11r/D+kZeMXnXv6tSrf1dHte/sXbscokI2r8AE9v4pRfVvxCwQuv6/d6/6Dt4V2Cw2b8QsELr+v3ev7F27HKJCNq/ABPb+KUX1b/mrf0qHrvUv+g7eFdgsNm/sXbscokI2r9BFbu1n2rSvxCwQuv6/d6/5aPc+aDM178irvrvnPjJv2KXoQkXz8K/VHwncmq907/knOH/LHXWv+at/Soeu9S/ELBC6/r93r8QsELr+v3ev8P6Rl4xede/4AEoxRGl27/gASjFEaXbv8P6Rl4xede/ELBC6/r93r/oO3hXYLDZv+ABKMURpdu/1U015c0m1r/0/i59i+HQv0EVu7WfatK/4AEoxRGl278QsELr+v3ev75z1Uh5kc+/yo/wvQqc07/QceQ+Sr/Kv8P6Rl4xede/5aPc+aDM17/D+kZeMXnXvxCwQuv6/d6/4AEoxRGl27+c+ANrWM7Uv+ABKMURpdu/ABPb+KUX1b+uyT+pyBjVv+ABKMURpdu/Iq7675z4yb9uMy2BZgDNv+Wj3PmgzNe/4AEoxRGl278QsELr+v3ev+g7eFdgsNm/MlZPonnwyb9Xk0KSwjzRv+ABKMURpdu/7Dh397gK378QsELr+v3ev+g7eFdgsNm/5aPc+aDM178QsELr+v3ev3B7kDqRTta/emnRnzwt3L/gASjFEaXbv3nscUqFvta/Atnl1yIgxb/gASjFEaXbv9pliWSyF9e/2mWJZLIX17/aZYlkshfXv+ABKMURpdu/4AEoxRGl27/gASjFEaXbvxCwQuv6/d6/2mWJZLIX178axgPmk6LNv9pliWSyF9e/2mWJZLIX178QsELr+v3evxCwQuv6/d6/+cv9sc54178QsELr+v3ev/F6zF56mty/4AEoxRGl278QsELr+v3evwjFmwQtMdO/",
          "dtype": "f8"
         },
         "yaxis": "y"
        },
        {
         "hovertemplate": "Category=[\"Home Decor & Festive Needs<br>PC1=%{x}<br>PC2=%{y}<extra></extra>",
         "legendgroup": "[\"Home Decor & Festive Needs",
         "marker": {
          "color": "#ab63fa",
          "symbol": "circle"
         },
         "mode": "markers",
         "name": "[\"Home Decor & Festive Needs",
         "showlegend": true,
         "type": "scattergl",
         "x": {
          "bdata": "0HYPNGSxSL/Ynoc3sDVTvyAEiPwIieg/lL3iHsaPcj/sYjevLuKSPyAEiPwIieg/wE5mCmri4D/8rLapHgLiP8BOZgpq4uA/wE5mCmri4D8gBIj8CInoP8BOZgpq4uA/FYX84gX14T8jc+VdI//gPxqDFVWZ3Ns/IASI/AiJ6D9rOsJ5TdGNPyAEiPwIieg/wE5mCmri4D/Ynoc3sDVTv0VUEA/TBFW/IASI/AiJ6D8gBIj8CInoPyAEiPwIieg/IASI/AiJ6D8kII0d/DvgP/ystqkeAuI/IASI/AiJ6D8gBIj8CInoPxWF/OIF9eE/+DOGW3VZ2j+CsTCo1W3YP+ToI9tfs+A/IASI/AiJ6D+mfc0mxf/dP4GSTU80e9w/+DOGW3VZ2j8gBIj8CInoP4dlxyobvNw/IASI/AiJ6D/k6CPbX7PgPyAEiPwIieg/IASI/AiJ6D+mfc0mxf/dPyAEiPwIieg/Z3Ik/8Bl4D8gBIj8CInoP7D9DDTpOuc/lzFxSZRf4D8gBIj8CInoPyAEiPwIieg/IASI/AiJ6D8gBIj8CInoP/ystqkeAuI/I3PlXSP/4D8gBIj8CInoPyAEiPwIieg/2J6HN7A1U79jwVEAylLgPxWF/OIF9eE/wE5mCmri4D8gBIj8CInoPyAEiPwIieg/IASI/AiJ6D8gBIj8CInoPyQgjR38O+A//Ky2qR4C4j8gBIj8CInoPyAEiPwIieg/IASI/AiJ6D8gBIj8CInoPx/PdLAc39s/bLYnHIn34j9rOsJ5TdGNP+ToI9tfs+A/IASI/AiJ6D8gBIj8CInoPyAEiPwIieg/kyvOXoTq5T8gBIj8CInoP73Oo4CQXuA/IASI/AiJ6D9W2yiN+2bdPyAEiPwIieg/2J6HN7A1U7/Ynoc3sDVTv9iehzewNVO/Dsh7ifyNmT/YBe+RGE9SP7BRz/ezRog/ni7Sf26Zkz/2E4PlVTt3v3kReqW9l8S/7HzNwGVRLr/bF8oJDsndPyAEiPwIieg/L2O17f2+YL/Ynoc3sDVTv+ALMgENnik/ilW8oehFfj9gehPBeTyYPyAEiPwIieg/IASI/AiJ6D8gBIj8CInoPyAEiPwIieg/FYX84gX14T/noAR320FhP2PBUQDKUuA/FYX84gX14T+fu5VZ/IG9P5+7lVn8gb0/I3PlXSP/4D8gBIj8CInoP5TdkTjSmW4/OvpIvpVjo78vY7Xt/b5gvy9jte39vmC/L2O17f2+YL+KVbyh6EV+P67uuXD1K1C/K6PLMSP4Vb8gBIj8CInoPxYzhZnwamu/IASI/AiJ6D8AVgk82zEIP0T8BKRpJ1Q/IASI/AiJ6D8gBIj8CInoPxWF/OIF9eE/dyDuMydmUr93IO4zJ2ZSvyAEiPwIieg//t0T+pqebr/61/arv7VIv7DHVabIizE/t5tJTgLK4D/Ynoc3sDVTv4pVvKHoRX4/sMdVpsiLMT+OJLzSZsRKvyAEiPwIieg/IASI/AiJ6D8XNB2h/TjgPyAEiPwIieg/FzQdof044D8gBIj8CInoPyAEiPwIieg/V0S7XM4+jj/Qdg80ZLFIvyAEiPwIieg/",
          "dtype": "f8"
         },
         "xaxis": "x",
         "y": {
          "bdata": "FnOdwHcltj9urzClnVuhPxKIbV5uHt6/QXjhqvcuoz/2r5+MUIKaPxKIbV5uHt6/75y9ydvd07/W/uCnAgDVv++cvcnb3dO/75y9ydvd078SiG1ebh7ev++cvcnb3dO/VHMMlM+W1L9R3JyJzFvUvwJhevJ/2c+/EohtXm4e3r/+a2k0/VKfPxKIbV5uHt6/75y9ydvd079urzClnVuhP6gTuQnPAqU/EohtXm4e3r8SiG1ebh7evxKIbV5uHt6/EohtXm4e3r+bYg88yq/Sv9b+4KcCANW/EohtXm4e3r8SiG1ebh7ev1RzDJTPltS/zuOrBtkgsL+IX28Fz/euv7pkUzfrstO/EohtXm4e3r/nXT1OePW5v6ap742G6M6/zuOrBtkgsL8SiG1ebh7ev54y+JlMis+/EohtXm4e3r+6ZFM367LTvxKIbV5uHt6/EohtXm4e3r/nXT1OePW5vxKIbV5uHt6/RefLICTU0r8SiG1ebh7ev3rC6chMVdy/O9HHbstm0r8SiG1ebh7evxKIbV5uHt6/EohtXm4e3r8SiG1ebh7ev9b+4KcCANW/Udycicxb1L8SiG1ebh7evxKIbV5uHt6/bq8wpZ1boT+9n+H758fSv1RzDJTPltS/75y9ydvd078SiG1ebh7evxKIbV5uHt6/EohtXm4e3r8SiG1ebh7ev5tiDzzKr9K/1v7gpwIA1b8SiG1ebh7evxKIbV5uHt6/EohtXm4e3r8SiG1ebh7evxbrkVim182/+KS+Kp1q2L/+a2k0/VKfP7pkUzfrstO/EohtXm4e3r8SiG1ebh7evxKIbV5uHt6/TI9mflXxzL8SiG1ebh7ev3g0gtUkl9W/EohtXm4e3r8jC17DelfQvxKIbV5uHt6/bq8wpZ1boT9urzClnVuhP26vMKWdW6E/sGAuvv0EjD/eAZ0kuCG7PyMUg/nI6aA/9LuJXXrnnT9xSowhnNKtP0aVJspo1cO/UwpYS3FRpj/6JmC+oOjPvxKIbV5uHt6/PsrFjH4BsT9urzClnVuhP9LW/e7Q2bM/jBPopGuxnj+jBSjui8mdPxKIbV5uHt6/EohtXm4e3r8SiG1ebh7evxKIbV5uHt6/VHMMlM+W1L8M/s2ODuypP72f4fvnx9K/VHMMlM+W1L+r9NxHmVrTv6v03EeZWtO/Udycicxb1L8SiG1ebh7evxDBNfYxK7E/VM8D7fuefD8+ysWMfgGxPz7KxYx+AbE/PsrFjH4BsT+ME+ika7GePwWzTyX0Cqg/3oE06NFZqj8SiG1ebh7ev3a0u+8s/64/EohtXm4e3r+Ae879e7yuP6bRmRzcSqk/EohtXm4e3r8SiG1ebh7ev1RzDJTPltS/6FQke9WRqj/oVCR71ZGqPxKIbV5uHt6/tslQVP9Brj9EugOgTSWrP/hm7+8LAbA/prKDGCF4079urzClnVuhP4wT6KRrsZ4/+Gbv7wsBsD8igGAz8PGmPxKIbV5uHt6/EohtXm4e3r+y15SbIB3TvxKIbV5uHt6/steUmyAd078SiG1ebh7evxKIbV5uHt6/4kdtBh9Znj8Wc53AdyW2PxKIbV5uHt6/",
          "dtype": "f8"
         },
         "yaxis": "y"
        },
        {
         "hovertemplate": "Category=[\"Kitchen & Dining<br>PC1=%{x}<br>PC2=%{y}<extra></extra>",
         "legendgroup": "[\"Kitchen & Dining",
         "marker": {
          "color": "#FFA15A",
          "symbol": "circle"
         },
         "mode": "markers",
         "name": "[\"Kitchen & Dining",
         "showlegend": true,
         "type": "scattergl",
         "x": {
          "bdata": "6s1vyyv1pz89O0q6S81Xv4Nla2ATkkK/g2VrYBOSQr+DZWtgE5JCv4Nla2ATkkK/g2VrYBOSQr9iNJsQP8WVP1SUUMIJsZs/VJRQwgmxmz+eX0cnXbqpP0aMp9Vupp0/ev/H93GCoD+ALj7+WEIMP+7bCgTMTOE/gC4+/lhCDD8hStJDkf56P5H7t3H4xHA/IUrSQ5H+ej+sdB7L7PWKP7bVX2SZvXw/Gt43r1ISm7+iIUBtJgEzv5H7t3H4xHA/wLMOIkJ3Uz8+Y9nh1h1Sv8CzDiJCd1M/PmPZ4dYdUr9MDMAvBbE9PzzviLcMZVC/IUrSQ5H+ej8+Y9nh1h1SvyqlikvM4oc/ciqNAJcIS78+Y9nh1h1Svz5j2eHWHVK/oiFAbSYBM79yKo0AlwhLv6x0Hsvs9Yo/KqWKS8zihz8+Y9nh1h1Sv+xJbPZFX6C/ciqNAJcIS79yKo0AlwhLvyFK0kOR/no/oiFAbSYBM7/ecn7ewNaQP8g8EwsIQkA/wLMOIkJ3Uz8hStJDkf56P3IqjQCXCEu/PmPZ4dYdUr8+Y9nh1h1Sv6IhQG0mATO/ciqNAJcIS79yKo0AlwhLv6IhQG0mATO/dr4dFkIWNL+iIUBtJgEzvz5j2eHWHVK/PmPZ4dYdUr/ecn7ewNaQP4U//+WUAFG/ciqNAJcIS79yKo0AlwhLv8CzDiJCd1M/7Els9kVfoL9yKo0AlwhLv3IqjQCXCEu/ciqNAJcIS79fCCtO0dRpv6IhQG0mATO/ciqNAJcIS78+Y9nh1h1Sv6IhQG0mATO/g2VrYBOSQr8+Y9nh1h1Svz5j2eHWHVK/vs1PnaRLj7/Ynoc3sDVTv9iehzewNVO/2J6HN7A1U7+a6a4GZ21yP1T/TbNL/Zc/2J6HN7A1U7/Ynoc3sDVTv9iehzewNVO/mhEREdVsWb/Ynoc3sDVTv5oRERHVbFm/mhEREdVsWb+aERER1WxZv7OffaX8TnQ/mhEREdVsWb+aERER1WxZv5oRERHVbFm/mhEREdVsWb+aERER1WxZv5oRERHVbFm/mhEREdVsWb+aERER1WxZv5oRERHVbFm/mhEREdVsWb+aERER1WxZv5oRERHVbFm/mhEREdVsWb+aERER1WxZv9iehzewNVO/mhEREdVsWb+aERER1WxZv7kyAiOJLaU/2J6HN7A1U79FVBAP0wRVv9iehzewNVO/2J6HN7A1U7+AyX1to81Zv4AuPv5YQgw/2J6HN7A1U7/Ynoc3sDVTv9iehzewNVO/2J6HN7A1U7+KVbyh6EV+P5u69ii82qE/mhEREdVsWb/u2woEzEzhP9iehzewNVO/PTtKukvNV789O0q6S81Xvz07SrpLzVe/PTtKukvNV789O0q6S81Xvz07SrpLzVe/2J6HN7A1U79RPuErYF2LP1E+4StgXYs/UT7hK2Bdiz9RPuErYF2LP1JbQKsvL4Y/UT7hK2Bdiz+3mghz2v6gP7kyAiOJLaU/2J6HN7A1U7/Ynoc3sDVTv9iehzewNVO/2J6HN7A1U7+DZWtgE5JCv9Jc7AeiBHm/2J6HN7A1U784n7DdG/ZRP7kyAiOJLaU/",
          "dtype": "f8"
         },
         "xaxis": "x",
         "y": {
          "bdata": "ZrHpx7lDyT+Z7JKvPxapP4KHg9wRW7s/goeD3BFbuz+Ch4PcEVu7P4KHg9wRW7s/goeD3BFbuz9+AcDaCzHSP7aKFi3c+LQ/tooWLdz4tD+80sKRzwrLP/IJ0v1AEcw/v2zJZRXS2j+aYMTJ8jmnPzT0DhC1xdS/mmDEyfI5pz8O/XCFg3i3P3KDIt88l7U/Dv1whYN4tz9saqaKKHq2PxP5xSWRbbU/olmeOvQvsT9QoNUOOO+5P3KDIt88l7U/UaBOEzIzuj9TPmN5E7q5P1GgThMyM7o/Uz5jeRO6uT+6+OKxQ/G6P2fLdp9Ra7k/Dv1whYN4tz9TPmN5E7q5P17zeqcS3rY/XxpepQTutz9TPmN5E7q5P1M+Y3kTurk/UKDVDjjvuT9fGl6lBO63P2xqpoooerY/XvN6pxLetj9TPmN5E7q5P/gOaWyXrrg/XxpepQTutz9fGl6lBO63Pw79cIWDeLc/UKDVDjjvuT88K5MqI5K1P1BVsSsHELo/UaBOEzIzuj8O/XCFg3i3P18aXqUE7rc/Uz5jeRO6uT9TPmN5E7q5P1Cg1Q4477k/XxpepQTutz9fGl6lBO63P1Cg1Q4477k/fwLefuOOuT9QoNUOOO+5P1M+Y3kTurk/Uz5jeRO6uT88K5MqI5K1PyXWOnPmNrw/XxpepQTutz9fGl6lBO63P1GgThMyM7o/+A5pbJeuuD9fGl6lBO63P18aXqUE7rc/XxpepQTutz/SN8DRq1+6P1Cg1Q4477k/XxpepQTutz9TPmN5E7q5P1Cg1Q4477k/goeD3BFbuz9TPmN5E7q5P1M+Y3kTurk/VjvPlv79sz9urzClnVuhP26vMKWdW6E/bq8wpZ1boT9q/5qhYNWlP8jkNZWjhZ4/bq8wpZ1boT9urzClnVuhP26vMKWdW6E/9b4RhHsUqT9urzClnVuhP/W+EYR7FKk/9b4RhHsUqT/1vhGEexSpP/zG9tSBAaU/9b4RhHsUqT/1vhGEexSpP/W+EYR7FKk/9b4RhHsUqT/1vhGEexSpP/W+EYR7FKk/9b4RhHsUqT/1vhGEexSpP/W+EYR7FKk/9b4RhHsUqT/1vhGEexSpP/W+EYR7FKk/9b4RhHsUqT/1vhGEexSpP26vMKWdW6E/9b4RhHsUqT/1vhGEexSpP1gkYdEZfd8/bq8wpZ1boT+oE7kJzwKlP26vMKWdW6E/bq8wpZ1boT83QFXOzWKmP5pgxMnyOac/bq8wpZ1boT9urzClnVuhP26vMKWdW6E/bq8wpZ1boT+ME+ika7GeP5R5WM7qha8/9b4RhHsUqT809A4QtcXUv26vMKWdW6E/meySrz8WqT+Z7JKvPxapP5nskq8/Fqk/meySrz8WqT+Z7JKvPxapP5nskq8/Fqk/bq8wpZ1boT+vjBwnprKmP6+MHCemsqY/r4wcJ6aypj+vjBwnprKmP/rd2SkS4Kc/r4wcJ6aypj+AO0T2VsCWP1gkYdEZfd8/bq8wpZ1boT9urzClnVuhP26vMKWdW6E/bq8wpZ1boT+Ch4PcEVu7P3zflSjAkrQ/bq8wpZ1boT9gDHww09W6P1gkYdEZfd8/",
          "dtype": "f8"
         },
         "yaxis": "y"
        },
        {
         "hovertemplate": "Category=[\"Beauty and Personal Care<br>PC1=%{x}<br>PC2=%{y}<extra></extra>",
         "legendgroup": "[\"Beauty and Personal Care",
         "marker": {
          "color": "#19d3f3",
          "symbol": "circle"
         },
         "mode": "markers",
         "name": "[\"Beauty and Personal Care",
         "showlegend": true,
         "type": "scattergl",
         "x": {
          "bdata": "2J6HN7A1U7/Ynoc3sDVTv9iehzewNVO/V7pGVzKwjz9XukZXMrCPP5JzP6+HnZc/2J6HN7A1U79XukZXMrCPP4ZSu4CVj5I/xm4u9GOxoj/Ynoc3sDVTvxf2u+oybIs/NzaLeRb8hD/Ynoc3sDVTv9iehzewNVO/8FiIhiu/i7/Ynoc3sDVTv/BYiIYrv4u/2J6HN7A1U79+oNnDCdGgPwQhZo5bP6c/QkEIXAJ2qD+XxmfqScOvPwQhZo5bP6c/BCFmjls/pz8EIWaOWz+nP+q89pNg5J4/BCFmjls/pz8EIWaOWz+nPwQhZo5bP6c/BCFmjls/pz/qM6fBiE6gPwQhZo5bP6c/BCFmjls/pz8EIWaOWz+nPwQhZo5bP6c/BCFmjls/pz9+oNnDCdGgP17m3Gdbu6M/BCFmjls/pz8EIWaOWz+nPwQhZo5bP6c/BCFmjls/pz9ORPBXGBWWPx+qDsp7lqE/QkEIXAJ2qD/fTlL9vlm5v51mVVGIIqs/ocJTcn83rD8EIWaOWz+nP36g2cMJ0aA/BCFmjls/pz8EIWaOWz+nPwQhZo5bP6c/BCFmjls/pz8EIWaOWz+nPwQhZo5bP6c/BCFmjls/pz9CQQhcAnaoPwQhZo5bP6c/BCFmjls/pz+XxmfqScOvPwQhZo5bP6c/QkEIXAJ2qD8EIWaOWz+nPwQhZo5bP6c/BCFmjls/pz8fqg7Ke5ahPwQhZo5bP6c/BCFmjls/pz/qvPaTYOSePwQhZo5bP6c/BCFmjls/pz9T/IbfmL+KPwQhZo5bP6c/BCFmjls/pz/WNZzV1yiePwQhZo5bP6c/BCFmjls/pz8EIWaOWz+nPwQhZo5bP6c/BCFmjls/pz9KwPc0hV+rP8D2lMdgo0G/2J6HN7A1U7/Ynoc3sDVTv9iehzewNVO/2J6HN7A1U79QuWfcOTqIP9iehzewNVO/2J6HN7A1U7/Ynoc3sDVTvwDNkN7cDWc/2J6HN7A1U78X9rvqMmyLP9iehzewNVO/4GCJp1MTAj/Ynoc3sDVTv9iehzewNVO/2J6HN7A1U7/Ynoc3sDVTv+BgiadTEwI/2J6HN7A1U7/Ynoc3sDVTv9iehzewNVO/2J6HN7A1U7/gYImnUxMCP9iehzewNVO/2J6HN7A1U7/Ynoc3sDVTv49RBIrKYYo/j1EEisphij+MlSpw2HhVvyTRriKoeZK/6d8L5FG3jD+PUQSKymGKP9iehzewNVO/2J6HN7A1U7+PUQSKymGKP4yVKnDYeFW/B9aWVsNUR7+MlSpw2HhVv/ggqbW2fY2/jJUqcNh4Vb+MlSpw2HhVv+nfC+RRt4w/j1EEisphij/p3wvkUbeMP4yVKnDYeFW/jJUqcNh4Vb+PUQSKymGKP9iehzewNVO/2J6HN7A1U7/Ynoc3sDVTvwY52YBnwHg/ULln3Dk6iD/Ynoc3sDVTv9iehzewNVO/Mgejl6fOlD/Ynoc3sDVTvxf2u+oybIs/urMnNwIS0j8ogafv6FRcP5iRae7DUzi/4GCJp1MTAj/3ZKRd2mHQv9iehzewNVO/4GCJp1MTAj/Ynoc3sDVTv9iehzewNVO/",
          "dtype": "f8"
         },
         "xaxis": "x",
         "y": {
          "bdata": "bq8wpZ1boT9urzClnVuhP26vMKWdW6E/qLcFL1AD0z+otwUvUAPTP+Inr55tu9w/bq8wpZ1boT+otwUvUAPTP1Z6uiuD78s/FiUEFjKonj9urzClnVuhP8lcUWsk+KE/DEsFxxRnpT9urzClnVuhP26vMKWdW6E/PGCDA7Y0oz9urzClnVuhPzxggwO2NKM/bq8wpZ1boT91CPTnSpzeP5O7SaUAx+Q/OZynIFZS5D8nHpzLkufgP5O7SaUAx+Q/k7tJpQDH5D+Tu0mlAMfkP/UtX36HBN0/k7tJpQDH5D+Tu0mlAMfkP5O7SaUAx+Q/k7tJpQDH5D9kQDUihU3gP5O7SaUAx+Q/k7tJpQDH5D+Tu0mlAMfkP5O7SaUAx+Q/k7tJpQDH5D91CPTnSpzeP1lxJcU8QeM/k7tJpQDH5D+Tu0mlAMfkP5O7SaUAx+Q/k7tJpQDH5D8UkeOxzNDbP9zNkAcgnNw/OZynIFZS5D8/3Ci2q6/UP/Np36qMBt8/QgDtDQ2X3j+Tu0mlAMfkP3UI9OdKnN4/k7tJpQDH5D+Tu0mlAMfkP5O7SaUAx+Q/k7tJpQDH5D+Tu0mlAMfkP5O7SaUAx+Q/k7tJpQDH5D85nKcgVlLkP5O7SaUAx+Q/k7tJpQDH5D8nHpzLkufgP5O7SaUAx+Q/OZynIFZS5D+Tu0mlAMfkP5O7SaUAx+Q/k7tJpQDH5D/czZAHIJzcP5O7SaUAx+Q/k7tJpQDH5D/1LV9+hwTdP5O7SaUAx+Q/k7tJpQDH5D+mkYTSlfDbP5O7SaUAx+Q/k7tJpQDH5D+vXk7+l8PfP5O7SaUAx+Q/k7tJpQDH5D+Tu0mlAMfkP5O7SaUAx+Q/k7tJpQDH5D+PDaUScJTdPwFjbBux7Ks/bq8wpZ1boT9urzClnVuhP26vMKWdW6E/bq8wpZ1boT87bA7fPBOiP26vMKWdW6E/bq8wpZ1boT9urzClnVuhPxfzO+grFrI/bq8wpZ1boT/JXFFrJPihP26vMKWdW6E/muDoK84wrT9urzClnVuhP26vMKWdW6E/bq8wpZ1boT9urzClnVuhP5rg6CvOMK0/bq8wpZ1boT9urzClnVuhP26vMKWdW6E/bq8wpZ1boT+a4OgrzjCtP26vMKWdW6E/bq8wpZ1boT9urzClnVuhPwiC0NHQctI/CILQ0dBy0j+mlCC4RlumP6Fxkw5meZQ/HlpuCh9lzj8IgtDR0HLSP26vMKWdW6E/bq8wpZ1boT8IgtDR0HLSP6aUILhGW6Y/BnXrC/Oyrz+mlCC4RlumP4Wn72wylKQ/ppQguEZbpj+mlCC4RlumPx5abgofZc4/CILQ0dBy0j8eWm4KH2XOP6aUILhGW6Y/ppQguEZbpj8IgtDR0HLSP26vMKWdW6E/bq8wpZ1boT9urzClnVuhPzKmWx9wuaw/O2wO3zwToj9urzClnVuhP26vMKWdW6E/kFd+SZ2a0T9urzClnVuhP8lcUWsk+KE/kMB1BTAnsj8vHvvDtOqsP6TlaXAqY7A/muDoK84wrT/GhNhpLYbJv26vMKWdW6E/muDoK84wrT9urzClnVuhP26vMKWdW6E/",
          "dtype": "f8"
         },
         "yaxis": "y"
        },
        {
         "hovertemplate": "Category=[\"Computers<br>PC1=%{x}<br>PC2=%{y}<extra></extra>",
         "legendgroup": "[\"Computers",
         "marker": {
          "color": "#FF6692",
          "symbol": "circle"
         },
         "mode": "markers",
         "name": "[\"Computers",
         "showlegend": true,
         "type": "scattergl",
         "x": {
          "bdata": "2J6HN7A1U7/95CP8UEdav1NUx2KdY1i/U1THYp1jWL9TVMdinWNYv9iehzewNVO/KIGn7+hUXD/Ynoc3sDVTv9iehzewNVO/2J6HN7A1U7+kv0Fxs7VWv9iehzewNVO/id1Kg+5PV7/Ynoc3sDVTv9iehzewNVO/iiDSnQuLVb/Ynoc3sDVTv9iehzewNVO/pL9BcbO1Vr+J3UqD7k9Xv4ndSoPuT1e/2J6HN7A1U7/Ynoc3sDVTv4ndSoPuT1e/2J6HN7A1U7+kv0Fxs7VWv4ndSoPuT1e/pL9BcbO1Vr/Ynoc3sDVTv9iehzewNVO/id1Kg+5PV7/Ynoc3sDVTv9iehzewNVO/pL9BcbO1Vr/Ynoc3sDVTv9iehzewNVO/2J6HN7A1U7+kv0Fxs7VWv9iehzewNVO/id1Kg+5PV7+J3UqD7k9Xv9iehzewNVO/2J6HN7A1U7/Ynoc3sDVTv9iehzewNVO/2J6HN7A1U7/Ynoc3sDVTv+pLmsRYZ1m/pL9BcbO1Vr/Ynoc3sDVTv9iehzewNVO/2J6HN7A1U78Ai/uAfW1eP9iehzewNVO/2J6HN7A1U7/Ynoc3sDVTv4og0p0Li1W/2J6HN7A1U79Ytpnlf7Umv8At7PDqAFe/rnWwsIKfY7+udbCwgp9jv651sLCCn2O/rnWwsIKfY7+udbCwgp9jv651sLCCn2O/rnWwsIKfY7/2VMKcGG5Rv/ZUwpwYblG/9lTCnBhuUb9yoZN7t7VVv9woVKHDNFG/FJV1OJSLX7+w/Rw0KPJev3Tu52e/tFK/se6tatHzT7+x7q1q0fNPv9woVKHDNFG/dO7nZ7+0Ur/4RqsBwU8qP5snVf/ooVO/qKClm3c2Ib+5ZrgoVcpRvwQR6PZ+Wz4/mydV/+ihU7/cKFShwzRRv+B3pGtXS1O/se6tatHzT7+bJ1X/6KFTv+B3pGtXS1O/4Heka1dLU7/gd6RrV0tTv1NH3IcdLUC//eQj/FBHWr9yoZN7t7VVv3Khk3u3tVW/LaH9X74/S7/Ynoc3sDVTvyiBp+/oVFw/MC05d3AMWb9dbQojsDVWvw+KWqmxSle//eQj/FBHWr8NkrPqC7NavyPy2T/sUFq//eQj/FBHWr8IaFpNlKB0P3rdzQ29a1u/5qI8DU7HW78j8tk/7FBav4J4b7fFIlu/gqHxngh1Wb+CeG+3xSJbv/gnW1sXBFq/gnhvt8UiW7/95CP8UEdav/3kI/xQR1q//eQj/FBHWr/95CP8UEdav9qq5XjFgkQ/DZKz6guzWr+FFOcdsARav/3kI/xQR1q/EL1xYuibhj/95CP8UEdav1xQlW8J7Vm/gnhvt8UiW7/95CP8UEdav0inks5ycoO//eQj/FBHWr/SuzSHX1xSv4J4b7fFIlu/w0sV9CsoYL+33AVKzxF3P/3kI/xQR1q/I/LZP+xQWr+5ZrgoVcpRv6A/ILNZtUS/4PXdvVNLkj8ktsWpY4uSPyS2xalji5I/JLbFqWOLkj/uRt2ovNKTvyS2xalji5I/JLbFqWOLkj8ktsWpY4uSPyS2xalji5I/JLbFqWOLkj8ktsWpY4uSP+D13b1TS5I/",
          "dtype": "f8"
         },
         "xaxis": "x",
         "y": {
          "bdata": "bq8wpZ1boT+O6iayXFGuPxkCOxf1Fqw/GQI7F/UWrD8ZAjsX9RasP26vMKWdW6E/Lx77w7TqrD9urzClnVuhP26vMKWdW6E/bq8wpZ1boT8UPjBI/G+lP26vMKWdW6E/kKtxrW1Kpj9urzClnVuhP26vMKWdW6E/4g7geztJpD9urzClnVuhP26vMKWdW6E/FD4wSPxvpT+Qq3GtbUqmP5Crca1tSqY/bq8wpZ1boT9urzClnVuhP5Crca1tSqY/bq8wpZ1boT8UPjBI/G+lP5Crca1tSqY/FD4wSPxvpT9urzClnVuhP26vMKWdW6E/kKtxrW1Kpj9urzClnVuhP26vMKWdW6E/FD4wSPxvpT9urzClnVuhP26vMKWdW6E/bq8wpZ1boT8UPjBI/G+lP26vMKWdW6E/kKtxrW1Kpj+Qq3GtbUqmP26vMKWdW6E/bq8wpZ1boT9urzClnVuhP26vMKWdW6E/bq8wpZ1boT9urzClnVuhP7TfimOXpqs/FD4wSPxvpT9urzClnVuhP26vMKWdW6E/bq8wpZ1boT/2MTU8sXSmP26vMKWdW6E/bq8wpZ1boT9urzClnVuhP+IO4Hs7SaQ/bq8wpZ1boT8mQdiedrirP9H7SCSiDKk/JwbalFH/pD8nBtqUUf+kPycG2pRR/6Q/JwbalFH/pD8nBtqUUf+kPycG2pRR/6Q/JwbalFH/pD/oJyKZ1+mqP+gnIpnX6ao/6Ccimdfpqj88wuSypuOkP2ZRXlyny6w/N3NciUqPrD88cH16En+sPwalchQ3Oq0/+JNqbDuqrT/4k2psO6qtP2ZRXlyny6w/BqVyFDc6rT+GzqDb41ewP+hkNR9WZaw/2uAnkJMtsD9k1bQxCautPymukHin6LA/6GQ1H1ZlrD9mUV5cp8usP1qByFha+Kw/+JNqbDuqrT/oZDUfVmWsP1qByFha+Kw/WoHIWFr4rD9agchYWvisPzH6j4lEnq4/juomslxRrj88wuSypuOkPzzC5LKm46Q/3C084BGJrD9urzClnVuhPy8e+8O06qw/X+BYiSpTrD90dUUd6sikP31StGmENqY/juomslxRrj8LFNe5w4+tPyYm+k7WKLA/juomslxRrj96h9YuOOisP5K13e5TurA/ugH94WH+sD8mJvpO1iiwPyj6H5F+k7A/hnRFSUZIrj8o+h+RfpOwPwTBo+2ARK8/KPofkX6TsD+O6iayXFGuP47qJrJcUa4/juomslxRrj+O6iayXFGuP3prKPJGlbI/CxTXucOPrT97gV/VkHOrP47qJrJcUa4/SA9mwSTlyT+O6iayXFGuP9zkCWzpk68/KPofkX6TsD+O6iayXFGuP0ADeva/q6w/juomslxRrj8UZpU3OTyyPyj6H5F+k7A/cFhL2BVGsD+6oNWqXrGqP47qJrJcUa4/Jib6TtYosD9k1bQxCautPwZ/K+5zd7A/7VPHkwnH0j81rb0pqS7TPzWtvSmpLtM/Na29Kaku0z8wGIP+hOmCPzWtvSmpLtM/Na29Kaku0z81rb0pqS7TPzWtvSmpLtM/Na29Kaku0z81rb0pqS7TP+1Tx5MJx9I/",
          "dtype": "f8"
         },
         "yaxis": "y"
        }
       ],
       "layout": {
        "legend": {
         "title": {
          "text": "Category"
         },
         "tracegroupgap": 0
        },
        "template": {
         "data": {
          "bar": [
           {
            "error_x": {
             "color": "#2a3f5f"
            },
            "error_y": {
             "color": "#2a3f5f"
            },
            "marker": {
             "line": {
              "color": "#E5ECF6",
              "width": 0.5
             },
             "pattern": {
              "fillmode": "overlay",
              "size": 10,
              "solidity": 0.2
             }
            },
            "type": "bar"
           }
          ],
          "barpolar": [
           {
            "marker": {
             "line": {
              "color": "#E5ECF6",
              "width": 0.5
             },
             "pattern": {
              "fillmode": "overlay",
              "size": 10,
              "solidity": 0.2
             }
            },
            "type": "barpolar"
           }
          ],
          "carpet": [
           {
            "aaxis": {
             "endlinecolor": "#2a3f5f",
             "gridcolor": "white",
             "linecolor": "white",
             "minorgridcolor": "white",
             "startlinecolor": "#2a3f5f"
            },
            "baxis": {
             "endlinecolor": "#2a3f5f",
             "gridcolor": "white",
             "linecolor": "white",
             "minorgridcolor": "white",
             "startlinecolor": "#2a3f5f"
            },
            "type": "carpet"
           }
          ],
          "choropleth": [
           {
            "colorbar": {
             "outlinewidth": 0,
             "ticks": ""
            },
            "type": "choropleth"
           }
          ],
          "contour": [
           {
            "colorbar": {
             "outlinewidth": 0,
             "ticks": ""
            },
            "colorscale": [
             [
              0,
              "#0d0887"
             ],
             [
              0.1111111111111111,
              "#46039f"
             ],
             [
              0.2222222222222222,
              "#7201a8"
             ],
             [
              0.3333333333333333,
              "#9c179e"
             ],
             [
              0.4444444444444444,
              "#bd3786"
             ],
             [
              0.5555555555555556,
              "#d8576b"
             ],
             [
              0.6666666666666666,
              "#ed7953"
             ],
             [
              0.7777777777777778,
              "#fb9f3a"
             ],
             [
              0.8888888888888888,
              "#fdca26"
             ],
             [
              1,
              "#f0f921"
             ]
            ],
            "type": "contour"
           }
          ],
          "contourcarpet": [
           {
            "colorbar": {
             "outlinewidth": 0,
             "ticks": ""
            },
            "type": "contourcarpet"
           }
          ],
          "heatmap": [
           {
            "colorbar": {
             "outlinewidth": 0,
             "ticks": ""
            },
            "colorscale": [
             [
              0,
              "#0d0887"
             ],
             [
              0.1111111111111111,
              "#46039f"
             ],
             [
              0.2222222222222222,
              "#7201a8"
             ],
             [
              0.3333333333333333,
              "#9c179e"
             ],
             [
              0.4444444444444444,
              "#bd3786"
             ],
             [
              0.5555555555555556,
              "#d8576b"
             ],
             [
              0.6666666666666666,
              "#ed7953"
             ],
             [
              0.7777777777777778,
              "#fb9f3a"
             ],
             [
              0.8888888888888888,
              "#fdca26"
             ],
             [
              1,
              "#f0f921"
             ]
            ],
            "type": "heatmap"
           }
          ],
          "histogram": [
           {
            "marker": {
             "pattern": {
              "fillmode": "overlay",
              "size": 10,
              "solidity": 0.2
             }
            },
            "type": "histogram"
           }
          ],
          "histogram2d": [
           {
            "colorbar": {
             "outlinewidth": 0,
             "ticks": ""
            },
            "colorscale": [
             [
              0,
              "#0d0887"
             ],
             [
              0.1111111111111111,
              "#46039f"
             ],
             [
              0.2222222222222222,
              "#7201a8"
             ],
             [
              0.3333333333333333,
              "#9c179e"
             ],
             [
              0.4444444444444444,
              "#bd3786"
             ],
             [
              0.5555555555555556,
              "#d8576b"
             ],
             [
              0.6666666666666666,
              "#ed7953"
             ],
             [
              0.7777777777777778,
              "#fb9f3a"
             ],
             [
              0.8888888888888888,
              "#fdca26"
             ],
             [
              1,
              "#f0f921"
             ]
            ],
            "type": "histogram2d"
           }
          ],
          "histogram2dcontour": [
           {
            "colorbar": {
             "outlinewidth": 0,
             "ticks": ""
            },
            "colorscale": [
             [
              0,
              "#0d0887"
             ],
             [
              0.1111111111111111,
              "#46039f"
             ],
             [
              0.2222222222222222,
              "#7201a8"
             ],
             [
              0.3333333333333333,
              "#9c179e"
             ],
             [
              0.4444444444444444,
              "#bd3786"
             ],
             [
              0.5555555555555556,
              "#d8576b"
             ],
             [
              0.6666666666666666,
              "#ed7953"
             ],
             [
              0.7777777777777778,
              "#fb9f3a"
             ],
             [
              0.8888888888888888,
              "#fdca26"
             ],
             [
              1,
              "#f0f921"
             ]
            ],
            "type": "histogram2dcontour"
           }
          ],
          "mesh3d": [
           {
            "colorbar": {
             "outlinewidth": 0,
             "ticks": ""
            },
            "type": "mesh3d"
           }
          ],
          "parcoords": [
           {
            "line": {
             "colorbar": {
              "outlinewidth": 0,
              "ticks": ""
             }
            },
            "type": "parcoords"
           }
          ],
          "pie": [
           {
            "automargin": true,
            "type": "pie"
           }
          ],
          "scatter": [
           {
            "fillpattern": {
             "fillmode": "overlay",
             "size": 10,
             "solidity": 0.2
            },
            "type": "scatter"
           }
          ],
          "scatter3d": [
           {
            "line": {
             "colorbar": {
              "outlinewidth": 0,
              "ticks": ""
             }
            },
            "marker": {
             "colorbar": {
              "outlinewidth": 0,
              "ticks": ""
             }
            },
            "type": "scatter3d"
           }
          ],
          "scattercarpet": [
           {
            "marker": {
             "colorbar": {
              "outlinewidth": 0,
              "ticks": ""
             }
            },
            "type": "scattercarpet"
           }
          ],
          "scattergeo": [
           {
            "marker": {
             "colorbar": {
              "outlinewidth": 0,
              "ticks": ""
             }
            },
            "type": "scattergeo"
           }
          ],
          "scattergl": [
           {
            "marker": {
             "colorbar": {
              "outlinewidth": 0,
              "ticks": ""
             }
            },
            "type": "scattergl"
           }
          ],
          "scattermap": [
           {
            "marker": {
             "colorbar": {
              "outlinewidth": 0,
              "ticks": ""
             }
            },
            "type": "scattermap"
           }
          ],
          "scattermapbox": [
           {
            "marker": {
             "colorbar": {
              "outlinewidth": 0,
              "ticks": ""
             }
            },
            "type": "scattermapbox"
           }
          ],
          "scatterpolar": [
           {
            "marker": {
             "colorbar": {
              "outlinewidth": 0,
              "ticks": ""
             }
            },
            "type": "scatterpolar"
           }
          ],
          "scatterpolargl": [
           {
            "marker": {
             "colorbar": {
              "outlinewidth": 0,
              "ticks": ""
             }
            },
            "type": "scatterpolargl"
           }
          ],
          "scatterternary": [
           {
            "marker": {
             "colorbar": {
              "outlinewidth": 0,
              "ticks": ""
             }
            },
            "type": "scatterternary"
           }
          ],
          "surface": [
           {
            "colorbar": {
             "outlinewidth": 0,
             "ticks": ""
            },
            "colorscale": [
             [
              0,
              "#0d0887"
             ],
             [
              0.1111111111111111,
              "#46039f"
             ],
             [
              0.2222222222222222,
              "#7201a8"
             ],
             [
              0.3333333333333333,
              "#9c179e"
             ],
             [
              0.4444444444444444,
              "#bd3786"
             ],
             [
              0.5555555555555556,
              "#d8576b"
             ],
             [
              0.6666666666666666,
              "#ed7953"
             ],
             [
              0.7777777777777778,
              "#fb9f3a"
             ],
             [
              0.8888888888888888,
              "#fdca26"
             ],
             [
              1,
              "#f0f921"
             ]
            ],
            "type": "surface"
           }
          ],
          "table": [
           {
            "cells": {
             "fill": {
              "color": "#EBF0F8"
             },
             "line": {
              "color": "white"
             }
            },
            "header": {
             "fill": {
              "color": "#C8D4E3"
             },
             "line": {
              "color": "white"
             }
            },
            "type": "table"
           }
          ]
         },
         "layout": {
          "annotationdefaults": {
           "arrowcolor": "#2a3f5f",
           "arrowhead": 0,
           "arrowwidth": 1
          },
          "autotypenumbers": "strict",
          "coloraxis": {
           "colorbar": {
            "outlinewidth": 0,
            "ticks": ""
           }
          },
          "colorscale": {
           "diverging": [
            [
             0,
             "#8e0152"
            ],
            [
             0.1,
             "#c51b7d"
            ],
            [
             0.2,
             "#de77ae"
            ],
            [
             0.3,
             "#f1b6da"
            ],
            [
             0.4,
             "#fde0ef"
            ],
            [
             0.5,
             "#f7f7f7"
            ],
            [
             0.6,
             "#e6f5d0"
            ],
            [
             0.7,
             "#b8e186"
            ],
            [
             0.8,
             "#7fbc41"
            ],
            [
             0.9,
             "#4d9221"
            ],
            [
             1,
             "#276419"
            ]
           ],
           "sequential": [
            [
             0,
             "#0d0887"
            ],
            [
             0.1111111111111111,
             "#46039f"
            ],
            [
             0.2222222222222222,
             "#7201a8"
            ],
            [
             0.3333333333333333,
             "#9c179e"
            ],
            [
             0.4444444444444444,
             "#bd3786"
            ],
            [
             0.5555555555555556,
             "#d8576b"
            ],
            [
             0.6666666666666666,
             "#ed7953"
            ],
            [
             0.7777777777777778,
             "#fb9f3a"
            ],
            [
             0.8888888888888888,
             "#fdca26"
            ],
            [
             1,
             "#f0f921"
            ]
           ],
           "sequentialminus": [
            [
             0,
             "#0d0887"
            ],
            [
             0.1111111111111111,
             "#46039f"
            ],
            [
             0.2222222222222222,
             "#7201a8"
            ],
            [
             0.3333333333333333,
             "#9c179e"
            ],
            [
             0.4444444444444444,
             "#bd3786"
            ],
            [
             0.5555555555555556,
             "#d8576b"
            ],
            [
             0.6666666666666666,
             "#ed7953"
            ],
            [
             0.7777777777777778,
             "#fb9f3a"
            ],
            [
             0.8888888888888888,
             "#fdca26"
            ],
            [
             1,
             "#f0f921"
            ]
           ]
          },
          "colorway": [
           "#636efa",
           "#EF553B",
           "#00cc96",
           "#ab63fa",
           "#FFA15A",
           "#19d3f3",
           "#FF6692",
           "#B6E880",
           "#FF97FF",
           "#FECB52"
          ],
          "font": {
           "color": "#2a3f5f"
          },
          "geo": {
           "bgcolor": "white",
           "lakecolor": "white",
           "landcolor": "#E5ECF6",
           "showlakes": true,
           "showland": true,
           "subunitcolor": "white"
          },
          "hoverlabel": {
           "align": "left"
          },
          "hovermode": "closest",
          "mapbox": {
           "style": "light"
          },
          "paper_bgcolor": "white",
          "plot_bgcolor": "#E5ECF6",
          "polar": {
           "angularaxis": {
            "gridcolor": "white",
            "linecolor": "white",
            "ticks": ""
           },
           "bgcolor": "#E5ECF6",
           "radialaxis": {
            "gridcolor": "white",
            "linecolor": "white",
            "ticks": ""
           }
          },
          "scene": {
           "xaxis": {
            "backgroundcolor": "#E5ECF6",
            "gridcolor": "white",
            "gridwidth": 2,
            "linecolor": "white",
            "showbackground": true,
            "ticks": "",
            "zerolinecolor": "white"
           },
           "yaxis": {
            "backgroundcolor": "#E5ECF6",
            "gridcolor": "white",
            "gridwidth": 2,
            "linecolor": "white",
            "showbackground": true,
            "ticks": "",
            "zerolinecolor": "white"
           },
           "zaxis": {
            "backgroundcolor": "#E5ECF6",
            "gridcolor": "white",
            "gridwidth": 2,
            "linecolor": "white",
            "showbackground": true,
            "ticks": "",
            "zerolinecolor": "white"
           }
          },
          "shapedefaults": {
           "line": {
            "color": "#2a3f5f"
           }
          },
          "ternary": {
           "aaxis": {
            "gridcolor": "white",
            "linecolor": "white",
            "ticks": ""
           },
           "baxis": {
            "gridcolor": "white",
            "linecolor": "white",
            "ticks": ""
           },
           "bgcolor": "#E5ECF6",
           "caxis": {
            "gridcolor": "white",
            "linecolor": "white",
            "ticks": ""
           }
          },
          "title": {
           "x": 0.05
          },
          "xaxis": {
           "automargin": true,
           "gridcolor": "white",
           "linecolor": "white",
           "ticks": "",
           "title": {
            "standoff": 15
           },
           "zerolinecolor": "white",
           "zerolinewidth": 2
          },
          "yaxis": {
           "automargin": true,
           "gridcolor": "white",
           "linecolor": "white",
           "ticks": "",
           "title": {
            "standoff": 15
           },
           "zerolinecolor": "white",
           "zerolinewidth": 2
          }
         }
        },
        "title": {
         "text": "PCA Visualization"
        },
        "xaxis": {
         "anchor": "y",
         "domain": [
          0,
          1
         ],
         "title": {
          "text": "PC1 (8.75% variance)"
         }
        },
        "yaxis": {
         "anchor": "x",
         "domain": [
          0,
          1
         ],
         "title": {
          "text": "PC2 (7.94% variance)"
         }
        }
       }
      }
     },
     "metadata": {},
     "output_type": "display_data"
    },
    {
     "name": "stdout",
     "output_type": "stream",
     "text": [
      "\n",
      "Applying t-SNE to product name features...\n"
     ]
    },
    {
     "name": "stderr",
     "output_type": "stream",
     "text": [
      "/Users/najia/git_repo/mission6/mission6_venv/lib/python3.12/site-packages/sklearn/utils/extmath.py:335: RuntimeWarning:\n",
      "\n",
      "divide by zero encountered in matmul\n",
      "\n",
      "/Users/najia/git_repo/mission6/mission6_venv/lib/python3.12/site-packages/sklearn/utils/extmath.py:335: RuntimeWarning:\n",
      "\n",
      "overflow encountered in matmul\n",
      "\n",
      "/Users/najia/git_repo/mission6/mission6_venv/lib/python3.12/site-packages/sklearn/utils/extmath.py:335: RuntimeWarning:\n",
      "\n",
      "invalid value encountered in matmul\n",
      "\n",
      "/Users/najia/git_repo/mission6/mission6_venv/lib/python3.12/site-packages/sklearn/utils/extmath.py:336: RuntimeWarning:\n",
      "\n",
      "divide by zero encountered in matmul\n",
      "\n",
      "/Users/najia/git_repo/mission6/mission6_venv/lib/python3.12/site-packages/sklearn/utils/extmath.py:336: RuntimeWarning:\n",
      "\n",
      "overflow encountered in matmul\n",
      "\n",
      "/Users/najia/git_repo/mission6/mission6_venv/lib/python3.12/site-packages/sklearn/utils/extmath.py:336: RuntimeWarning:\n",
      "\n",
      "invalid value encountered in matmul\n",
      "\n",
      "/Users/najia/git_repo/mission6/mission6_venv/lib/python3.12/site-packages/sklearn/utils/extmath.py:340: RuntimeWarning:\n",
      "\n",
      "divide by zero encountered in matmul\n",
      "\n",
      "/Users/najia/git_repo/mission6/mission6_venv/lib/python3.12/site-packages/sklearn/utils/extmath.py:340: RuntimeWarning:\n",
      "\n",
      "overflow encountered in matmul\n",
      "\n",
      "/Users/najia/git_repo/mission6/mission6_venv/lib/python3.12/site-packages/sklearn/utils/extmath.py:340: RuntimeWarning:\n",
      "\n",
      "invalid value encountered in matmul\n",
      "\n",
      "/Users/najia/git_repo/mission6/mission6_venv/lib/python3.12/site-packages/sklearn/utils/extmath.py:533: RuntimeWarning:\n",
      "\n",
      "divide by zero encountered in matmul\n",
      "\n",
      "/Users/najia/git_repo/mission6/mission6_venv/lib/python3.12/site-packages/sklearn/utils/extmath.py:533: RuntimeWarning:\n",
      "\n",
      "overflow encountered in matmul\n",
      "\n",
      "/Users/najia/git_repo/mission6/mission6_venv/lib/python3.12/site-packages/sklearn/utils/extmath.py:533: RuntimeWarning:\n",
      "\n",
      "invalid value encountered in matmul\n",
      "\n",
      "/Users/najia/git_repo/mission6/mission6_venv/lib/python3.12/site-packages/sklearn/utils/extmath.py:547: RuntimeWarning:\n",
      "\n",
      "divide by zero encountered in matmul\n",
      "\n",
      "/Users/najia/git_repo/mission6/mission6_venv/lib/python3.12/site-packages/sklearn/utils/extmath.py:547: RuntimeWarning:\n",
      "\n",
      "overflow encountered in matmul\n",
      "\n",
      "/Users/najia/git_repo/mission6/mission6_venv/lib/python3.12/site-packages/sklearn/utils/extmath.py:547: RuntimeWarning:\n",
      "\n",
      "invalid value encountered in matmul\n",
      "\n"
     ]
    },
    {
     "data": {
      "application/vnd.plotly.v1+json": {
       "config": {
        "plotlyServerURL": "https://plot.ly"
       },
       "data": [
        {
         "hovertemplate": "Category=[\"Home Furnishing<br>t-SNE1=%{x}<br>t-SNE2=%{y}<extra></extra>",
         "legendgroup": "[\"Home Furnishing",
         "marker": {
          "color": "#636efa",
          "symbol": "circle"
         },
         "mode": "markers",
         "name": "[\"Home Furnishing",
         "showlegend": true,
         "type": "scattergl",
         "x": {
          "bdata": "iSSVQlTF3kHKwfJBE1SlQlKPrMLKPsxCDEOXwgxDl8KNbYtCjW2LQqcOAULaPZhCijamwYo2psERtmfC56Y1wIo2psEJHYPCyYupwgH+ssIB/rLC9AHPQgxDl8L8awxCkO4qwlKjCEKW5sVBAlyIQcAxnUKOJMvBvELawc3ivUJ9H4vCDEOXwuv7kEJrc0VCtbKPQjH9dEJfpYpCBmGAQi0VpULibapCvSttQq+ivcIf46jCNCtCQuc0G8IQNx7CO7kQwkkk58EisynCxLMUwmDejsEisynCIrMpwupdlcE/p0bCfSgvwocUAsIu58PBvFV2woWRDMLZi69CeBKyQlyMpELN4r1CW9+YwjZF2cBjECbBEf5zwGOPSMEFVGHCNjcPweVH1j+MoC3BlspkwB/jqMKNjTjCjE8jwhpsM8IPGBDC2bIUwnY3R8E5Sc/AFtXSwK0hokKvor3CH+OowqgC3EIf46jC27LPQlvfmMLbss9CW9+YwqgC3EKvor3CqJARwqgC3EKoAtxCiMrkQtuyz0KoAtxCqALcQtuyz0JlYclCr54NwmVKykKoAtxCqALcQtuyz0KtqbdCr6K9wqgC3EIYd7LCZUrKQgFXx8F424fA5zQbwkkk58FW9tDB5LkHwiPh4cGFYqXB2ygTwjXO7j9Bt71Ci95iwstEJsJg3o7Bqe9ywhenn0KMJQrCfo/9weACn8ETVKVCW8LPQi5MSsIbrybCXGZNQgH+ssLGbh1CAf6ywgn2O0LWt5ZCYiSEQpxLW0JKv2JCUuBkQgf4rkJKv2JC",
          "dtype": "f4"
         },
         "xaxis": "x",
         "y": {
          "bdata": "zaefwh4jfkKRYqBCIFTJQt9CgEFIOxpDrIsFwayLBcFpPm7BaT5uwX0erkK7xxNC/hSrwv4Uq8IKatVBba2fwv4Uq8Ku1L9BfuQEwuGT+0Dhk/tAT5kOwayLBcHsFHVCXScuQS4mlUKJxo5C4EGHQo7nrsIKXbhCeAjAQk/tFkLH5Pa/rIsFwb09ksL/emHC3GWCwg8UbsLCWqfCtyKfwuAhlcKoCJ7CmIxcwjlqP8HLo47BkVbNQvRX/0Ftl5lBzOJSwjlZlcIDsV3CIM+vQH5HmsIDsV3CA7Fdwik3bEK7ql/CX5GvQejggMKFoTJC46U3wrI+sEGWm7BAd9kFv2llDUFP7RZC3zzcwfsLxcLwObzCij7Owu6SysJA4xpCtRCuwt9vt8JzR6HCl820wsujjsEbOgnCBeIXwgVyKMLFVifC2AQJwpyWakKxWWlC4AtQQkOffMI5aj/By6OOwUXvDUPLo47Bzp3aQt883MHOndpC3zzcwUXvDUM5aj/BRhG1wkXvDUNF7w1Dt3POQs6d2kJF7w1DRe8NQ86d2kLTucNCgyidwpip80JF7w1DRe8NQ86d2kJJ7PVCOWo/wUXvDUOF/tzBmKnzQu1tJ8JfhYxC9Ff/QTlZlcKq2P/BkJGrwnpcEsKXwcXCfBXTwcQfaEKMkVxCw2hGwi19wsF+R5rC0/vuQeK0Lr5hiEBBK4ZeQnfpAcIgVMlCldjYQVROSEI5xHpCcCUvQeGT+0Bju4RC4ZP7QDSbdcJgrInC8J2Swv+DdMLw4IfCIFKcwphwjsLw4IfC",
          "dtype": "f4"
         },
         "yaxis": "y"
        },
        {
         "hovertemplate": "Category=[\"Baby Care<br>t-SNE1=%{x}<br>t-SNE2=%{y}<extra></extra>",
         "legendgroup": "[\"Baby Care",
         "marker": {
          "color": "#EF553B",
          "symbol": "circle"
         },
         "mode": "markers",
         "name": "[\"Baby Care",
         "showlegend": true,
         "type": "scattergl",
         "x": {
          "bdata": "qALcQtuyz0J+BUzCKdtqwnTPU8H/x2o/ta6YwvlTRsK1rpjCKVUIw6rSGcIk3fTC7YYgwBo1LsKL95nCs67EQjSVlcIYA5PCUbNawuLteMIYA5PCGAOTwjSVlcIpB+PCKQfjwkI/z8IpB+PCt1NGwqfOvkLDZ95B0Zd4wlnmssK1rpjCWeaywikH48I0lZXCKQfjwtfM3ML3TcvCBKtawr0VtMJlSspCta6Ywnh4n8LimIXCoCZ6wikH48Jcr8bBdN3FQKoHCMEpB+PCKQfjwikH48KL95nCNJWVwjSVlcLDClRBta6YwjP648IUVaLCKQfjwrBqYcK9FbTCs9XiwmmaxsKQRgHDs9XiwmMriMIvQ0bCEaZjwqAmesIpB+PCKQfjwikH48IpB+PCGAOTwqgC3EIeOOhCMdgJQqgC3EKj6RRC5dgJwtuyz0J9nPLBoCZ6wqgC3EJH0ApCOMScQqgC3ELbss9CTI4qQqf7ucHWCExCLc77QuqknUIYA5PCKgWhwe0xPj+WNYHCFR2rwIEE58EiMipC5OGtQo4iOsM4mrzCXGZNQrqQ7EJZ5rLCXGZNQojLrcIrPprCztNhQlxmTUK//RDCrRSvwvYavsJcZk1CNlHFwjZRxcKtFK/ClubFQZbmxUF7AiZClubFQfWjw8LyBcLCOPrVwhgDk8KY7YnCdvU6QuLteMIYA5PCzhi5wlxmTUJcZk1Cta6YwpiCsEIYA5PC5dGYQuLteMIfLAZDHywGQx8sBkMfLAZDHywGQ/W6EUMfLAZDHywGQx8sBkMfLAZD",
          "dtype": "f4"
         },
         "xaxis": "x",
         "y": {
          "bdata": "Re8NQ86d2kJF0SBDjA8pQ/uf4MBKI/zAr/wOQ/jQBUOv/A5DK3QNQzDYpkLZDwFDFfLTwfbpoUJRl6VCl1wfQ8Wx9UK2qtJCWm/fQg5+s0K2qtJCtqrSQsWx9ULvaRRD72kUQz/rDEPvaRRDK1fdQh2tqUFifBnB+jghQ2ks9EKv/A5DaSz0Qu9pFEPFsfVC72kUQ2mwA0N6+RZD6Pq3Qg+7ykKYqfNCr/wOQ0VMGUORqQdD3wIUQ+9pFEMMAsxBZ188QjhTIkLvaRRD72kUQ+9pFENRl6VCxbH1QsWx9UKu9ZpBr/wOQ8P+sUIaxQVD72kUQ6OzLUMPu8pCBNgjQ5tZIUN2lRBDBNgjQxqzlkLvsApDCDsiQ98CFEPvaRRD72kUQ+9pFEPvaRRDtqrSQkXvDUPiqwJDgm3SQUXvDUMVPvA/ioh6Qs6d2kLTRvFC3wIUQ0XvDUM6FJVBOesjQkXvDUPOndpCd6nqQZjQlEIRbh5CXjV3QZKvu0K2qtJC3TQ4QiUfi0JoNZZB/jqAQjnwJkLUVi7CqyWWwetRhEEIjWPCcCUvQUr0xUJpLPRCcCUvQV0qD0M7hCRD2nAEQ3AlL0EDBR9CEQyiQm+ajkJwJS9BMcqnQjHKp0IRDKJCicaOQonGjkKWV3JCicaOQl87l0L5A7ZCvDr5Qraq0kIuEqFCLYMzwg5+s0K2qtJCSs8iQ3AlL0FwJS9Br/wOQ0eeDMO2qtJCaOreQg5+s0Ln9NPC5/TTwuf008Ln9NPC5/TTwryjtcLn9NPC5/TTwuf008Ln9NPC",
          "dtype": "f4"
         },
         "yaxis": "y"
        },
        {
         "hovertemplate": "Category=[\"Watches<br>t-SNE1=%{x}<br>t-SNE2=%{y}<extra></extra>",
         "legendgroup": "[\"Watches",
         "marker": {
          "color": "#00cc96",
          "symbol": "circle"
         },
         "mode": "markers",
         "name": "[\"Watches",
         "showlegend": true,
         "type": "scattergl",
         "x": {
          "bdata": "KhorwzxK6sK5qcrCbz6WwjxK6sI/4N3CPErqwjxK6sI8SurCqdGQwjxK6sLzf4LCHcyDwjxK6sK1sWXCP+DdwrmpysI8SurCbz6WwjxK6sL9C5LCxZjHwvN/gsLUlWbCPErqwvIxgsI8SurCPErqwuMfBsPlWCDDm24Rwy+MMsPSohnDL4wyw+VYIMPjHwbDSFQDwzN09cIzdPXCyRc2wzg3OMNeVELD4x8GwwITDcPOizbDM3T1wl5UQsO7Uj/DL4wyw+MfBsPOizbDEPIowzN09cIK9BHDXlRCwxpzJsMacybDGnMmw86LNsPOizbDEPIow456rMKqMA3Dzos2wwr0EcMkcyrDGnMmw8kXNsPjHwbDfvPvwuMfBsMacybDyRc2w7tSP8N+8+/CGnMmwyoaK8PjHwbDXlRCwzN09cLyMYLCxZjHws6LNsO7Uj/D4x8Gw+MfBsMK9BHDL4wywy+MMsMK9BHD4x8Gw37z78IvjDLDpg/8whI5P8MqGivDL4wyw+MfBsOpxK7CRvs6w4SOnMIK9BHDXlRCwwr0EcPjHwbDL4wyw5tuEcMvjDLDyRc2wyoGQ8MvjDLDM3T1wnnTn8JeVELDL4wyw+MfBsN+8+/CODc4w5aAHsMvjDLDEPIow+MfBsN+8+/CXlRCw+MfBsMOD/7CPErqwi+MMsPlWCDDK7qHwi+MMsN/i9/CChvXwn+L38IvjDLDL4wywy+MMsPjHwbDChvXwjQ4zMIKG9fCChvXwuMfBsPjHwbDC4YPw+MfBsPfQxDDL4wyw+MfBsP7ghXD",
          "dtype": "f4"
         },
         "xaxis": "x",
         "y": {
          "bdata": "CHlxQRcn7sKYSuXCBB+wwhcn7sJUWQTDFyfuwhcn7sIXJ+7ChlaMwhcn7sKCdrHCruOQwhcn7sLiLrTCVFkEw5hK5cIXJ+7CBB+wwhcn7sLbk5/CD3PNwoJ2scLcyZrCFyfuwgg2n8IXJ+7CFyfuwknAtsJiLirCPuBawpxQEMLVfCPCnFAQwmIuKsJJwLbCiisXwlYaksFWGpLBxnXcvhnxE0EbUn/CScC2wi7o1cGmJb/CVhqSwRtSf8KTY5/CnFAQwknAtsKmJb/CYehrwlYaksGW4IjBG1J/wj2+yMI9vsjCPb7IwqYlv8KmJb/CYehrwtZTmsLdvNTCpiW/wpbgiME6kI5APb7IwsZ13L5JwLbCh80mwknAtsI9vsjCxnXcvpNjn8KHzSbCPb7Iwgh5cUFJwLbCG1J/wlYaksEINp/CD3PNwqYlv8KTY5/CScC2wknAtsKW4IjBnFAQwpxQEMKW4IjBScC2wofNJsKcUBDCy6YKwlZ8McAIeXFBnFAQwknAtsLY07fCnLu7wbDUwMKW4IjBG1J/wpbgiMFJwLbCnFAQwj7gWsKcUBDCxnXcvkuvDsKcUBDCVhqSwRKpm8IbUn/CnFAQwknAtsKHzSbCGfETQfWUAcKcUBDCYehrwknAtsKHzSbCG1J/wknAtsJEdQHDFyfuwpxQEMJiLirC4QHCwpxQEMKR+4PChgqRwpH7g8KcUBDCnFAQwpxQEMJJwLbChgqRwpJggMKGCpHChgqRwknAtsJJwLbCO/tzwknAtsIWVorCnFAQwknAtsIduJDC",
          "dtype": "f4"
         },
         "yaxis": "y"
        },
        {
         "hovertemplate": "Category=[\"Home Decor & Festive Needs<br>t-SNE1=%{x}<br>t-SNE2=%{y}<extra></extra>",
         "legendgroup": "[\"Home Decor & Festive Needs",
         "marker": {
          "color": "#ab63fa",
          "symbol": "circle"
         },
         "mode": "markers",
         "name": "[\"Home Decor & Festive Needs",
         "showlegend": true,
         "type": "scattergl",
         "x": {
          "bdata": "kIqVQu4e6cB1ohxDIvJrQncpBUN1ohxD2KRHQylSEEPYpEdD2KRHQ3WiHEPYpEdDE1k4Q+pN6EJxlOVCdaIcQ5OGs0J1ohxD2KRHQwibEMEHv07CdaIcQ3WiHEN1ohxDdaIcQ1Dx9kIpUhBDdaIcQ3WiHEMTWThD2SvFQjCD2kJmrvBCdaIcQyRvJUNib79C2SvFQnWiHENWUzBDdaIcQ2au8EJ1ohxDdaIcQyRvJUN1ohxDGLvfQnWiHEO7JUJD43IDQ3WiHEN1ohxDdaIcQ3WiHEMpUhBD6k3oQnWiHEN1ohxDu8oTv+6IDUMTWThD2KRHQ3WiHEN1ohxDdaIcQ3WiHENQ8fZCKVIQQ3WiHEN1ohxDdaIcQ3WiHENIHftCyTwsQ5OGs0JmrvBCdaIcQ3WiHEN1ohxDKmo9Q3WiHENcvChDdaIcQ38IREN1ohxDGWuaQRd3l0FQ/MZAlF3oQuXRmEJj4gRDNADuQuXYCcKJ1NtCHywGQ8/BP0N1ohxDfZzywY/ZhEGlcajBRA8YQyhy2kJ1ohxDdaIcQ3WiHEN1ohxDE1k4Q77FP0HuiA1DE1k4Qyj410Io+NdC6k3oQnWiHEO87F9C47aBwn2c8sF9nPLBfZzywUQPGENkSILC2p64QXWiHEMDF7lBdaIcQ33L3kG4nEBBdaIcQ3WiHEMTWThDK3CcQCtwnEB1ohxDojyUQZ/cBML8NwRBujjzQlxmTUJEDxhD/DcEQU22jsJ1ohxDdaIcQ6shH0N1ohxDqyEfQ3WiHEN1ohxDK+YNQ5CKlUJ1ohxD",
          "dtype": "f4"
         },
         "xaxis": "x",
         "y": {
          "bdata": "xgIDw0dJ/L9p5ffAv23mwRmar8Jp5ffAbB3MwSz/OsJsHczBbB3MwWnl98BsHczB5V9ewhfrNMJZfgnCaeX3wHhNW0Fp5ffAbB3MwbBet0DOmmTBaeX3wGnl98Bp5ffAaeX3wJyoPUIs/zrCaeX3wGnl98DlX17C1pwvwmnR2sCh+I/AaeX3wKlMH8JwDaRA1pwvwmnl98DTp3rCaeX3wKH4j8Bp5ffAaeX3wKlMH8Jp5ffAHbHIQWnl98Balt1BkKI/QWnl98Bp5ffAaeX3wGnl98As/zrCF+s0wmnl98Bp5ffAeoHTv+Kk0EHlX17CbB3MwWnl98Bp5ffAaeX3wGnl98CcqD1CLP86wmnl98Bp5ffAaeX3wGnl98AZU8vBZJKjQXhNW0Gh+I/AaeX3wGnl98Bp5ffAp2O0QWnl98Ckg7lBaeX3wMdLFcJp5ffA84DCQWoD/kHy3K1BN9B8wmjq3kIKsrvCCfeHwoqIekKJvXzC5/TTwrWxesJp5ffA00bxQnIxTELpYvdCyYVhQgQn9MFp5ffAaeX3wGnl98Bp5ffA5V9ewkoNZMLipNBB5V9ewuF5YsLheWLCF+s0wmnl98DO0vzBS87KwtNG8ULTRvFC00bxQsmFYUKunynC0LlPwmnl98DgYmTCaeX3wN12S8IGIobCaeX3wGnl98DlX17COyF3wjshd8Jp5ffAm9pywjxKn8FucEXCVG7ewXAlL0HJhWFCbnBFwmP800Fp5ffAaeX3wPHdI0Jp5ffA8d0jQmnl98Bp5ffAmGGuwsYCA8Np5ffA",
          "dtype": "f4"
         },
         "yaxis": "y"
        },
        {
         "hovertemplate": "Category=[\"Kitchen & Dining<br>t-SNE1=%{x}<br>t-SNE2=%{y}<extra></extra>",
         "legendgroup": "[\"Kitchen & Dining",
         "marker": {
          "color": "#FFA15A",
          "symbol": "circle"
         },
         "mode": "markers",
         "name": "[\"Kitchen & Dining",
         "showlegend": true,
         "type": "scattergl",
         "x": {
          "bdata": "zTKGQtCiwsKJAYdCiQGHQokBh0KJAYdCiQGHQl/5EELdU7tC3VO7QtXm1kKl8O1CmmyDwVsLl0Ju4zxDWwuXQkXeWkIYudJCRd5aQlerE0JZE8BCvYFoQndBMUIYudJCatkHQlSvtUJq2QdCVK+1QpC6tEIUmalCRd5aQlSvtUKBq+BBoSQSQlSvtUJUr7VCd0ExQqEkEkJXqxNCgavgQVSvtUKTz89CoSQSQqEkEkJF3lpCd0ExQjRmNUKFUJtCatkHQkXeWkKhJBJCVK+1QlSvtUJ3QTFCoSQSQqEkEkJ3QTFCLXX9QXdBMUJUr7VCVK+1QjRmNULI+l9CoSQSQqEkEkJq2QdCk8/PQqEkEkKhJBJCoSQSQguHnEJ3QTFCoSQSQlSvtUJ3QTFCiQGHQlSvtUJUr7VCw09fQvkXvsAYIVZBxz47QVvCz0Ie3QtDWdbsQW7ynkH2mJjB2y4kQzgy8kDbLiRD2y4kQ9suJEPevhtD2y4kQ9suJEPbLiRD2y4kQ9suJEPbLiRD2y4kQ9suJEPbLiRD2y4kQ9suJEPbLiRD2y4kQ9suJEPc3idA2y4kQ9suJENqnk/BxhcUPwe/TsJTRyVCpPzXwGXuhkJbC5dCuoqkQf5VK0KvQjFB6YMOQkQPGEOM1cNC2y4kQ27jPEOvr8xB0KLCwtCiwsLQosLC0KLCwtCiwsLQosLCfxDLQYr90UKK/dFCiv3RQor90UIwPsFCiv3RQkFChEJqnk/BXGZNQlxmTUJcZk1CXGZNQokBh0Id/DfCXGZNQjLrmUJqnk/B",
          "dtype": "f4"
         },
         "xaxis": "x",
         "y": {
          "bdata": "x+YbQlcKHkIV0hfDFdIXwxXSF8MV0hfDFdIXwwIo60LTAgfD0wIHw5vKkELDFoNCwFgXQ5yBIcKPYhdAnIEhwrqM28LwVyPDuozbwixC78Kl/DvDpZ8ew/SFBMPwVyPDEeoPw1ZWLsMR6g/DVlYuw3EHIcOxYjrDuozbwlZWLsM5+PLCsl80w1ZWLsNWVi7D9IUEw7JfNMMsQu/COfjywlZWLsPqQTLDsl80w7JfNMO6jNvC9IUEw9v/1cKzJC3DEeoPw7qM28KyXzTDVlYuw1ZWLsP0hQTDsl80w7JfNMP0hQTDJhICw/SFBMNWVi7DVlYuw9v/1cJGQPbCsl80w7JfNMMR6g/D6kEyw7JfNMOyXzTDsl80w7v2OsP0hQTDsl80w1ZWLsP0hQTDFdIXw1ZWLsNWVi7D56QEwxvyGMEo2bvASAFnP5XY2EFEtF/CsasNwqRIFMIdgp/BGLG8Qt5DGsEYsbxCGLG8QhixvEI9lodCGLG8QhixvEIYsbxCGLG8QhixvEIYsbxCGLG8QhixvEIYsbxCGLG8QhixvEIYsbxCGLG8QhixvEIuoB9BGLG8QhixvELhiR9DM8KHQc6aZMHe9a7AQAWbQZdcIsKcgSHC5zgAwQ3dYMHuQQlC4sszwcmFYUKkugLDGLG8Qo9iF0Dg7DzAVwoeQlcKHkJXCh5CVwoeQlcKHkJXCh5CJYkXQjfYwcI32MHCN9jBwjfYwcKs4MfCN9jBwvgiLELhiR9DcCUvQXAlL0FwJS9BcCUvQRXSF8On2JlCcCUvQXFSEMPhiR9D",
          "dtype": "f4"
         },
         "yaxis": "y"
        },
        {
         "hovertemplate": "Category=[\"Beauty and Personal Care<br>t-SNE1=%{x}<br>t-SNE2=%{y}<extra></extra>",
         "legendgroup": "[\"Beauty and Personal Care",
         "marker": {
          "color": "#19d3f3",
          "symbol": "circle"
         },
         "mode": "markers",
         "name": "[\"Beauty and Personal Care",
         "showlegend": true,
         "type": "scattergl",
         "x": {
          "bdata": "z2huQc9obkGaeEhCs3qNwrN6jcKY3RhBph9owbN6jcJjtaJCItDPQg6drMGrp9tCMO/JQqC6DsAQ8jHBMQJgwvU1kD4xAmDCR4WQwFAkI8EMqddBWyPhv39MMUEMqddBDKnXQQyp10ESVARCDKnXQQyp10EMqddBDKnXQfJ09UEMqddBDKnXQQyp10EMqddBDKnXQVAkI8EY/J5ADKnXQQyp10EMqddBDKnXQQni8MKZQW5CWyPhv7WjE0K6w5ZBkCG/Pwyp10FQJCPBDKnXQQyp10EMqddBDKnXQQyp10EMqddBDKnXQVsj4b8MqddBDKnXQX9MMUEMqddBWyPhvwyp10EMqddBDKnXQZlBbkIMqddBDKnXQRJUBEIMqddBDKnXQZ0AVkIMqddBDKnXQTLsAEIMqddBDKnXQQyp10EMqddBDKnXQai5HEG69ZtCHcKTQaYMzkEy+tZBpBCDQWWas0JpZRtCKXyTQQnZZkHkWmzCGuanQaun20JSPoRBO0cdQrnh9sEdK9VBBl/mQU4yT0I7Rx1CXkMJQnWYCkIYGCVC0TiLwTtHHUKBadtB7zDcQbrn8UG68CDAuvAgwDFgh0K6yYBCu3QRvbrwIMBcZk1CXGZNQrrwIMAxYIdCOD9cQjFgh0KVO2dCMWCHQjFgh0K7dBG9uvAgwLt0Eb0xYIdCMWCHQrrwIMBcZk1CXGZNQlxmTUJl6btBZZqzQlxmTUJcZk1CRz15QlxmTUKrp9tCbBzvQr/5a8LRVrZAO0cdQsbhD8NcZk1CO0cdQlxmTUJcZk1C",
          "dtype": "f4"
         },
         "xaxis": "x",
         "y": {
          "bdata": "2LBdwdiwXcHQYQPBjP1IQoz9SELh8wpDntj7Poz9SEJOvgPC8KmLQhqkP8CZL2lC7T9gQh80mkCSjL/BiX28QLhdZ8GJfbxA+Lw8QWSHQUMziiVDrKIpQ/MCREMziiVDM4olQzOKJUNvJ/1CM4olQzOKJUMziiVDM4olQxDTBEMziiVDM4olQzOKJUMziiVDM4olQ2SHQUPPFQVDM4olQzOKJUMziiVDM4olQwWIuUKudB5DrKIpQ1hNREPXuEVDec5EQzOKJUNkh0FDM4olQzOKJUMziiVDM4olQzOKJUMziiVDM4olQ6yiKUMziiVDM4olQ/MCREMziiVDrKIpQzOKJUMziiVDM4olQ650HkMziiVDM4olQ28n/UIziiVDM4olQ6OGCUMziiVDM4olQ+3mQ0MziiVDM4olQzOKJUMziiVDM4olQ6CQPEO4qYNCb8Stwa9Qr8H53e5B6T2vQIvxxsFfqPXBElu4v0BDR0HUQ25CLDYpQZkvaUJIfSFCMsfYQk+G4MDyirRBHZM+QhCAhsEyx9hC95MmQS5RDUJQ+zRCYPEEQjLH2EKgGXxBMdsPQYqxKEC4hrxCuIa8QnNAi0JeQ6RCCkfaQriGvEJwJS9BcCUvQbiGvEJzQItCIsObQnNAi0KG56RCc0CLQnNAi0IKR9pCuIa8QgpH2kJzQItCc0CLQriGvEJwJS9BcCUvQXAlL0FqPMZCi/HGwXAlL0FwJS9BBrJ1QnAlL0GZL2lCBLReQptiS0LXWbJCMsfYQgJC4cJwJS9BMsfYQnAlL0FwJS9B",
          "dtype": "f4"
         },
         "yaxis": "y"
        },
        {
         "hovertemplate": "Category=[\"Computers<br>t-SNE1=%{x}<br>t-SNE2=%{y}<extra></extra>",
         "legendgroup": "[\"Computers",
         "marker": {
          "color": "#FF6692",
          "symbol": "circle"
         },
         "mode": "markers",
         "name": "[\"Computers",
         "showlegend": true,
         "type": "scattergl",
         "x": {
          "bdata": "SsXOQL67HsMQDRrDEA0awxANGsPqzuZAv/lrwqMpQMEU8KTBmoCXQJOZisLOi0bA895IwoozMkG4+rZBGOMfwrgn/UHgm8xAk5mKwvPeSMLz3kjCvDT0wJ3EMUDz3kjCvplxQZOZisLz3kjCk5mKwvasq8CFoTFC895Iwnb79UAcF4TBk5mKwvAG80Gt/q4/1fVywZOZisLgZKnB895IwvPeSMJuCD3Bv2zBwX+AFsHEo0JBCXiVQARkuEGMkiLCk5mKwioLuUE68hlBLRhiQFz2KMK5gCpBHeSQvwg9E0IY4x/C4eMDQrr0nMGL0uzCFcfBQRXHwUEVx8FBFcfBQRXHwUEVx8FBFcfBQbcSBUK3EgVCtxIFQjffJsGFCzjC4pGNwRxWqsFGSc7Bm+E4wpvhOMKFCzjCRknOwVouV8KgosrBYiT6wQ4DDsJm71nCoKLKwYULOMLmhvTBm+E4wqCiysHmhvTB5ob0weaG9MEoyinCvrsewzffJsE33ybBib07wlEQokG/+WvCgVdmwjok6cL+NmLBvrsewxqHKcMDwADDvrsew4AxCcMIBgPDOI0EwwPAAMNN7PfCyAXkwk3s98Lbv+jCTez3wr67HsO+ux7Dvrsew767HsOHnCvDGocpw2u0F8O+ux7DawoBw767HsNw2fPCTez3wr67HsPQvQfDvrsew0GtG8NN7PfCqtvxwmeuEsO+ux7DA8AAww4DDsJT8ahBuVOUwEQS2MBEEtjARBLYwDiavMJEEtjARBLYwEQS2MBEEtjARBLYwEQS2MC5U5TA",
          "dtype": "f4"
         },
         "xaxis": "x",
         "y": {
          "bdata": "SJxEwIF3kkJmxyNCZscjQmbHI0KjgILBm2JLQtKpasGVUjbB8BjqQafwDcNS4gFC1eUBw4JkssEBUXDB+nvowsoW1MHBD+TBp/ANw9XlAcPV5QHDiwgDwhlTrcHV5QHDfcznwafwDcPV5QHDp/ANw5iDk8EE97rB1eUBw7IQakFAJvxAp/ANw4VWg8Hljw3CeRyrQafwDcOlhG1B1eUBw9XlAcN9HVxBV36kQEnS2kHmbdRBPaNRQGs9Y0BYXNrCp/ANw5FI6cFFhvVA7E0XQgYtCcPDaBDC4dnCQYDqoMH6e+jCdXyMwIFumELILPNBdUmvwnVJr8J1Sa/CdUmvwnVJr8J1Sa/CdUmvwoarlMKGq5TChquUwpaTRsLgXj3DVrc2w2aTPsPcMTTDnYUvw52FL8PgXj3D3DE0wzk7O8PnJCzDDktFw/aZLcMZUjLD5yQsw+BePcMzCD3DnYUvw+ckLMMzCD3DMwg9wzMIPcPHaLHAgXeSQpaTRsKWk0bC0tYRwdfKikGbYktC1bmRwbAMSkEjY2bCgXeSQvzYpUIkNRBCgXeSQh82GELKlDBCjoJjQiQ1EEJ1lVBCPOBUQnWVUEJffDxCdZVQQoF3kkKBd5JCgXeSQoF3kkKH54NC/NilQi3hckKBd5JCcrzbQYF3kkIyJCRCdZVQQoF3kkKvjeBBgXeSQk87rEJ1lVBCrbR3Qryzm0KBd5JCJDUQQvaZLcP/6tBC/TcOw1UTBMNVEwTDVRMEwwiNY8JVEwTDVRMEw1UTBMNVEwTDVRMEw1UTBMP9Nw7D",
          "dtype": "f4"
         },
         "yaxis": "y"
        }
       ],
       "layout": {
        "legend": {
         "title": {
          "text": "Category"
         },
         "tracegroupgap": 0
        },
        "template": {
         "data": {
          "bar": [
           {
            "error_x": {
             "color": "#2a3f5f"
            },
            "error_y": {
             "color": "#2a3f5f"
            },
            "marker": {
             "line": {
              "color": "#E5ECF6",
              "width": 0.5
             },
             "pattern": {
              "fillmode": "overlay",
              "size": 10,
              "solidity": 0.2
             }
            },
            "type": "bar"
           }
          ],
          "barpolar": [
           {
            "marker": {
             "line": {
              "color": "#E5ECF6",
              "width": 0.5
             },
             "pattern": {
              "fillmode": "overlay",
              "size": 10,
              "solidity": 0.2
             }
            },
            "type": "barpolar"
           }
          ],
          "carpet": [
           {
            "aaxis": {
             "endlinecolor": "#2a3f5f",
             "gridcolor": "white",
             "linecolor": "white",
             "minorgridcolor": "white",
             "startlinecolor": "#2a3f5f"
            },
            "baxis": {
             "endlinecolor": "#2a3f5f",
             "gridcolor": "white",
             "linecolor": "white",
             "minorgridcolor": "white",
             "startlinecolor": "#2a3f5f"
            },
            "type": "carpet"
           }
          ],
          "choropleth": [
           {
            "colorbar": {
             "outlinewidth": 0,
             "ticks": ""
            },
            "type": "choropleth"
           }
          ],
          "contour": [
           {
            "colorbar": {
             "outlinewidth": 0,
             "ticks": ""
            },
            "colorscale": [
             [
              0,
              "#0d0887"
             ],
             [
              0.1111111111111111,
              "#46039f"
             ],
             [
              0.2222222222222222,
              "#7201a8"
             ],
             [
              0.3333333333333333,
              "#9c179e"
             ],
             [
              0.4444444444444444,
              "#bd3786"
             ],
             [
              0.5555555555555556,
              "#d8576b"
             ],
             [
              0.6666666666666666,
              "#ed7953"
             ],
             [
              0.7777777777777778,
              "#fb9f3a"
             ],
             [
              0.8888888888888888,
              "#fdca26"
             ],
             [
              1,
              "#f0f921"
             ]
            ],
            "type": "contour"
           }
          ],
          "contourcarpet": [
           {
            "colorbar": {
             "outlinewidth": 0,
             "ticks": ""
            },
            "type": "contourcarpet"
           }
          ],
          "heatmap": [
           {
            "colorbar": {
             "outlinewidth": 0,
             "ticks": ""
            },
            "colorscale": [
             [
              0,
              "#0d0887"
             ],
             [
              0.1111111111111111,
              "#46039f"
             ],
             [
              0.2222222222222222,
              "#7201a8"
             ],
             [
              0.3333333333333333,
              "#9c179e"
             ],
             [
              0.4444444444444444,
              "#bd3786"
             ],
             [
              0.5555555555555556,
              "#d8576b"
             ],
             [
              0.6666666666666666,
              "#ed7953"
             ],
             [
              0.7777777777777778,
              "#fb9f3a"
             ],
             [
              0.8888888888888888,
              "#fdca26"
             ],
             [
              1,
              "#f0f921"
             ]
            ],
            "type": "heatmap"
           }
          ],
          "histogram": [
           {
            "marker": {
             "pattern": {
              "fillmode": "overlay",
              "size": 10,
              "solidity": 0.2
             }
            },
            "type": "histogram"
           }
          ],
          "histogram2d": [
           {
            "colorbar": {
             "outlinewidth": 0,
             "ticks": ""
            },
            "colorscale": [
             [
              0,
              "#0d0887"
             ],
             [
              0.1111111111111111,
              "#46039f"
             ],
             [
              0.2222222222222222,
              "#7201a8"
             ],
             [
              0.3333333333333333,
              "#9c179e"
             ],
             [
              0.4444444444444444,
              "#bd3786"
             ],
             [
              0.5555555555555556,
              "#d8576b"
             ],
             [
              0.6666666666666666,
              "#ed7953"
             ],
             [
              0.7777777777777778,
              "#fb9f3a"
             ],
             [
              0.8888888888888888,
              "#fdca26"
             ],
             [
              1,
              "#f0f921"
             ]
            ],
            "type": "histogram2d"
           }
          ],
          "histogram2dcontour": [
           {
            "colorbar": {
             "outlinewidth": 0,
             "ticks": ""
            },
            "colorscale": [
             [
              0,
              "#0d0887"
             ],
             [
              0.1111111111111111,
              "#46039f"
             ],
             [
              0.2222222222222222,
              "#7201a8"
             ],
             [
              0.3333333333333333,
              "#9c179e"
             ],
             [
              0.4444444444444444,
              "#bd3786"
             ],
             [
              0.5555555555555556,
              "#d8576b"
             ],
             [
              0.6666666666666666,
              "#ed7953"
             ],
             [
              0.7777777777777778,
              "#fb9f3a"
             ],
             [
              0.8888888888888888,
              "#fdca26"
             ],
             [
              1,
              "#f0f921"
             ]
            ],
            "type": "histogram2dcontour"
           }
          ],
          "mesh3d": [
           {
            "colorbar": {
             "outlinewidth": 0,
             "ticks": ""
            },
            "type": "mesh3d"
           }
          ],
          "parcoords": [
           {
            "line": {
             "colorbar": {
              "outlinewidth": 0,
              "ticks": ""
             }
            },
            "type": "parcoords"
           }
          ],
          "pie": [
           {
            "automargin": true,
            "type": "pie"
           }
          ],
          "scatter": [
           {
            "fillpattern": {
             "fillmode": "overlay",
             "size": 10,
             "solidity": 0.2
            },
            "type": "scatter"
           }
          ],
          "scatter3d": [
           {
            "line": {
             "colorbar": {
              "outlinewidth": 0,
              "ticks": ""
             }
            },
            "marker": {
             "colorbar": {
              "outlinewidth": 0,
              "ticks": ""
             }
            },
            "type": "scatter3d"
           }
          ],
          "scattercarpet": [
           {
            "marker": {
             "colorbar": {
              "outlinewidth": 0,
              "ticks": ""
             }
            },
            "type": "scattercarpet"
           }
          ],
          "scattergeo": [
           {
            "marker": {
             "colorbar": {
              "outlinewidth": 0,
              "ticks": ""
             }
            },
            "type": "scattergeo"
           }
          ],
          "scattergl": [
           {
            "marker": {
             "colorbar": {
              "outlinewidth": 0,
              "ticks": ""
             }
            },
            "type": "scattergl"
           }
          ],
          "scattermap": [
           {
            "marker": {
             "colorbar": {
              "outlinewidth": 0,
              "ticks": ""
             }
            },
            "type": "scattermap"
           }
          ],
          "scattermapbox": [
           {
            "marker": {
             "colorbar": {
              "outlinewidth": 0,
              "ticks": ""
             }
            },
            "type": "scattermapbox"
           }
          ],
          "scatterpolar": [
           {
            "marker": {
             "colorbar": {
              "outlinewidth": 0,
              "ticks": ""
             }
            },
            "type": "scatterpolar"
           }
          ],
          "scatterpolargl": [
           {
            "marker": {
             "colorbar": {
              "outlinewidth": 0,
              "ticks": ""
             }
            },
            "type": "scatterpolargl"
           }
          ],
          "scatterternary": [
           {
            "marker": {
             "colorbar": {
              "outlinewidth": 0,
              "ticks": ""
             }
            },
            "type": "scatterternary"
           }
          ],
          "surface": [
           {
            "colorbar": {
             "outlinewidth": 0,
             "ticks": ""
            },
            "colorscale": [
             [
              0,
              "#0d0887"
             ],
             [
              0.1111111111111111,
              "#46039f"
             ],
             [
              0.2222222222222222,
              "#7201a8"
             ],
             [
              0.3333333333333333,
              "#9c179e"
             ],
             [
              0.4444444444444444,
              "#bd3786"
             ],
             [
              0.5555555555555556,
              "#d8576b"
             ],
             [
              0.6666666666666666,
              "#ed7953"
             ],
             [
              0.7777777777777778,
              "#fb9f3a"
             ],
             [
              0.8888888888888888,
              "#fdca26"
             ],
             [
              1,
              "#f0f921"
             ]
            ],
            "type": "surface"
           }
          ],
          "table": [
           {
            "cells": {
             "fill": {
              "color": "#EBF0F8"
             },
             "line": {
              "color": "white"
             }
            },
            "header": {
             "fill": {
              "color": "#C8D4E3"
             },
             "line": {
              "color": "white"
             }
            },
            "type": "table"
           }
          ]
         },
         "layout": {
          "annotationdefaults": {
           "arrowcolor": "#2a3f5f",
           "arrowhead": 0,
           "arrowwidth": 1
          },
          "autotypenumbers": "strict",
          "coloraxis": {
           "colorbar": {
            "outlinewidth": 0,
            "ticks": ""
           }
          },
          "colorscale": {
           "diverging": [
            [
             0,
             "#8e0152"
            ],
            [
             0.1,
             "#c51b7d"
            ],
            [
             0.2,
             "#de77ae"
            ],
            [
             0.3,
             "#f1b6da"
            ],
            [
             0.4,
             "#fde0ef"
            ],
            [
             0.5,
             "#f7f7f7"
            ],
            [
             0.6,
             "#e6f5d0"
            ],
            [
             0.7,
             "#b8e186"
            ],
            [
             0.8,
             "#7fbc41"
            ],
            [
             0.9,
             "#4d9221"
            ],
            [
             1,
             "#276419"
            ]
           ],
           "sequential": [
            [
             0,
             "#0d0887"
            ],
            [
             0.1111111111111111,
             "#46039f"
            ],
            [
             0.2222222222222222,
             "#7201a8"
            ],
            [
             0.3333333333333333,
             "#9c179e"
            ],
            [
             0.4444444444444444,
             "#bd3786"
            ],
            [
             0.5555555555555556,
             "#d8576b"
            ],
            [
             0.6666666666666666,
             "#ed7953"
            ],
            [
             0.7777777777777778,
             "#fb9f3a"
            ],
            [
             0.8888888888888888,
             "#fdca26"
            ],
            [
             1,
             "#f0f921"
            ]
           ],
           "sequentialminus": [
            [
             0,
             "#0d0887"
            ],
            [
             0.1111111111111111,
             "#46039f"
            ],
            [
             0.2222222222222222,
             "#7201a8"
            ],
            [
             0.3333333333333333,
             "#9c179e"
            ],
            [
             0.4444444444444444,
             "#bd3786"
            ],
            [
             0.5555555555555556,
             "#d8576b"
            ],
            [
             0.6666666666666666,
             "#ed7953"
            ],
            [
             0.7777777777777778,
             "#fb9f3a"
            ],
            [
             0.8888888888888888,
             "#fdca26"
            ],
            [
             1,
             "#f0f921"
            ]
           ]
          },
          "colorway": [
           "#636efa",
           "#EF553B",
           "#00cc96",
           "#ab63fa",
           "#FFA15A",
           "#19d3f3",
           "#FF6692",
           "#B6E880",
           "#FF97FF",
           "#FECB52"
          ],
          "font": {
           "color": "#2a3f5f"
          },
          "geo": {
           "bgcolor": "white",
           "lakecolor": "white",
           "landcolor": "#E5ECF6",
           "showlakes": true,
           "showland": true,
           "subunitcolor": "white"
          },
          "hoverlabel": {
           "align": "left"
          },
          "hovermode": "closest",
          "mapbox": {
           "style": "light"
          },
          "paper_bgcolor": "white",
          "plot_bgcolor": "#E5ECF6",
          "polar": {
           "angularaxis": {
            "gridcolor": "white",
            "linecolor": "white",
            "ticks": ""
           },
           "bgcolor": "#E5ECF6",
           "radialaxis": {
            "gridcolor": "white",
            "linecolor": "white",
            "ticks": ""
           }
          },
          "scene": {
           "xaxis": {
            "backgroundcolor": "#E5ECF6",
            "gridcolor": "white",
            "gridwidth": 2,
            "linecolor": "white",
            "showbackground": true,
            "ticks": "",
            "zerolinecolor": "white"
           },
           "yaxis": {
            "backgroundcolor": "#E5ECF6",
            "gridcolor": "white",
            "gridwidth": 2,
            "linecolor": "white",
            "showbackground": true,
            "ticks": "",
            "zerolinecolor": "white"
           },
           "zaxis": {
            "backgroundcolor": "#E5ECF6",
            "gridcolor": "white",
            "gridwidth": 2,
            "linecolor": "white",
            "showbackground": true,
            "ticks": "",
            "zerolinecolor": "white"
           }
          },
          "shapedefaults": {
           "line": {
            "color": "#2a3f5f"
           }
          },
          "ternary": {
           "aaxis": {
            "gridcolor": "white",
            "linecolor": "white",
            "ticks": ""
           },
           "baxis": {
            "gridcolor": "white",
            "linecolor": "white",
            "ticks": ""
           },
           "bgcolor": "#E5ECF6",
           "caxis": {
            "gridcolor": "white",
            "linecolor": "white",
            "ticks": ""
           }
          },
          "title": {
           "x": 0.05
          },
          "xaxis": {
           "automargin": true,
           "gridcolor": "white",
           "linecolor": "white",
           "ticks": "",
           "title": {
            "standoff": 15
           },
           "zerolinecolor": "white",
           "zerolinewidth": 2
          },
          "yaxis": {
           "automargin": true,
           "gridcolor": "white",
           "linecolor": "white",
           "ticks": "",
           "title": {
            "standoff": 15
           },
           "zerolinecolor": "white",
           "zerolinewidth": 2
          }
         }
        },
        "title": {
         "text": "t-SNE Visualization"
        },
        "xaxis": {
         "anchor": "y",
         "domain": [
          0,
          1
         ],
         "title": {
          "text": "t-SNE1"
         }
        },
        "yaxis": {
         "anchor": "x",
         "domain": [
          0,
          1
         ],
         "title": {
          "text": "t-SNE2"
         }
        }
       }
      }
     },
     "metadata": {},
     "output_type": "display_data"
    },
    {
     "name": "stdout",
     "output_type": "stream",
     "text": [
      "\n",
      "Cluster separation metrics: {'silhouette_score': np.float64(0.11137662887614042), 'num_clusters': 7}\n"
     ]
    },
    {
     "name": "stderr",
     "output_type": "stream",
     "text": [
      "/Users/najia/git_repo/mission6/mission6_venv/lib/python3.12/site-packages/sklearn/utils/extmath.py:203: RuntimeWarning:\n",
      "\n",
      "divide by zero encountered in matmul\n",
      "\n",
      "/Users/najia/git_repo/mission6/mission6_venv/lib/python3.12/site-packages/sklearn/utils/extmath.py:203: RuntimeWarning:\n",
      "\n",
      "overflow encountered in matmul\n",
      "\n",
      "/Users/najia/git_repo/mission6/mission6_venv/lib/python3.12/site-packages/sklearn/utils/extmath.py:203: RuntimeWarning:\n",
      "\n",
      "invalid value encountered in matmul\n",
      "\n"
     ]
    }
   ],
   "source": [
    "from src.classes.reduce_dimensions import DimensionalityReducer\n",
    "\n",
    "# Initialize reducer\n",
    "reducer = DimensionalityReducer()\n",
    "\n",
    "# Clean and preprocess categories (sample code, adjust as needed)\n",
    "def extract_main_category(category_string):\n",
    "    if pd.isna(category_string):\n",
    "        return \"Unknown\"\n",
    "    try:\n",
    "        # Extract first category from tree structure\n",
    "        return category_string.split('>>')[0].strip()\n",
    "    except:\n",
    "        return \"Unknown\"\n",
    "\n",
    "# Extract main product category\n",
    "df['main_category'] = df['product_category_tree'].apply(extract_main_category)\n",
    "\n",
    "# Apply dimensionality reduction to TF-IDF matrix of product names\n",
    "print(\"\\nApplying PCA to product name features...\")\n",
    "pca_results = reducer.fit_transform_pca(encoder.tfidf_matrix)\n",
    "pca_fig = reducer.plot_pca(labels=df['main_category'])\n",
    "pca_fig.show()\n",
    "\n",
    "print(\"\\nApplying t-SNE to product name features...\")\n",
    "tsne_results = reducer.fit_transform_tsne(encoder.tfidf_matrix)\n",
    "tsne_fig = reducer.plot_tsne(labels=df['main_category'])\n",
    "tsne_fig.show()\n",
    "\n",
    "# Evaluate separation based on categories\n",
    "metrics = reducer.evaluate_separation(encoder.tfidf_matrix, df['main_category'])\n",
    "print(\"\\nCluster separation metrics:\", metrics)"
   ]
  },
  {
   "cell_type": "markdown",
   "id": "c2c183bb",
   "metadata": {},
   "source": [
    "## 4. Advanced NLP Classification Feasibility Study"
   ]
  },
  {
   "cell_type": "markdown",
   "id": "60ff7281",
   "metadata": {},
   "source": [
    "### 4.1 Word Embeddings\n",
    "**Approaches**:\n",
    "- Word2Vec Implementation\n",
    "- BERT Embeddings\n",
    "- Universal Sentence Encoder"
   ]
  },
  {
   "cell_type": "markdown",
   "id": "e3d29f9a",
   "metadata": {},
   "source": [
    "### 4.2 Comparative Analysis\n",
    "**Evaluation**:\n",
    "- Compare embedding methods\n",
    "- Analyze clustering quality\n",
    "- Assess category separation"
   ]
  },
  {
   "cell_type": "markdown",
   "id": "50cf8f62",
   "metadata": {},
   "source": [
    "## 5. Basic Image Processing Classification Study"
   ]
  },
  {
   "cell_type": "markdown",
   "id": "3c64aad7",
   "metadata": {},
   "source": [
    "### 5.1 Image Preprocessing\n",
    "**Steps**:\n",
    "- Grayscale conversion\n",
    "- Noise reduction\n",
    "- Contrast enhancement\n",
    "- Size normalization"
   ]
  },
  {
   "cell_type": "markdown",
   "id": "eab6c8cf",
   "metadata": {},
   "source": [
    "### 5.2 Feature Extraction\n",
    "**Methods**:\n",
    "- SIFT implementation\n",
    "- Feature detection\n",
    "- Descriptor computation"
   ]
  },
  {
   "cell_type": "markdown",
   "id": "ca3db74c",
   "metadata": {},
   "source": [
    "### 5.3 Analysis\n",
    "**Evaluation**:\n",
    "- Dimension reduction\n",
    "- Cluster visualization\n",
    "- Category separation assessment\n"
   ]
  },
  {
   "cell_type": "markdown",
   "id": "39709493",
   "metadata": {},
   "source": [
    "## 6. Advanced Image Processing Study"
   ]
  },
  {
   "cell_type": "markdown",
   "id": "8146fb04",
   "metadata": {},
   "source": [
    "### 6.1 Transfer Learning\n",
    "**Implementation**:\n",
    "- Pre-trained CNN setup\n",
    "- Feature extraction\n",
    "- Model adaptation"
   ]
  },
  {
   "cell_type": "markdown",
   "id": "b71250e0",
   "metadata": {},
   "source": [
    "### 6.2 Comparative Analysis\n",
    "**Evaluation**:\n",
    "- Compare with basic methods\n",
    "- Assess classification accuracy\n",
    "- Analyze feature quality"
   ]
  },
  {
   "cell_type": "markdown",
   "id": "b905fede",
   "metadata": {},
   "source": [
    "## 7. Final Feasibility Assessment"
   ]
  },
  {
   "cell_type": "markdown",
   "id": "c697c0e9",
   "metadata": {},
   "source": [
    "### 7.1 Performance Metrics\n",
    "**Evaluation**:\n",
    "- Clustering quality metrics\n",
    "- Classification accuracy\n",
    "- Processing time analysis"
   ]
  },
  {
   "cell_type": "markdown",
   "id": "909e9097",
   "metadata": {},
   "source": [
    "### 7.2 Recommendations\n",
    "**Outcomes**:\n",
    "- Feasibility conclusion\n",
    "- Best approach identification\n",
    "- Implementation suggestions\n"
   ]
  },
  {
   "cell_type": "markdown",
   "id": "039d22f5",
   "metadata": {},
   "source": [
    "## 8. Future Improvements\n",
    "- Scalability considerations\n",
    "- Performance optimization\n",
    "- Integration recommendations"
   ]
  }
 ],
 "metadata": {
  "kernelspec": {
   "display_name": "mission6_venv",
   "language": "python",
   "name": "python3"
  },
  "language_info": {
   "codemirror_mode": {
    "name": "ipython",
    "version": 3
   },
   "file_extension": ".py",
   "mimetype": "text/x-python",
   "name": "python",
   "nbconvert_exporter": "python",
   "pygments_lexer": "ipython3",
   "version": "3.12.9"
  }
 },
 "nbformat": 4,
 "nbformat_minor": 5
}
