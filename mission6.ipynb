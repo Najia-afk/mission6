{
 "cells": [
  {
   "cell_type": "markdown",
   "id": "08c85400",
   "metadata": {},
   "source": [
    "# Mission 6: Feasibility Study of Product Classification Engine\n",
    "\n",
    "## 1. Introduction\n",
    "**Objective**: Evaluate the feasibility of automatic product classification using text descriptions and images for an e-commerce marketplace."
   ]
  },
  {
   "cell_type": "markdown",
   "id": "f5312ead",
   "metadata": {},
   "source": [
    "## 2. Data Overview\n",
    "**Dataset Components**:\n",
    "- Product descriptions (English text)\n",
    "- Product images\n",
    "- Category labels"
   ]
  },
  {
   "cell_type": "code",
   "execution_count": 1,
   "id": "e1959ddc",
   "metadata": {},
   "outputs": [
    {
     "data": {
      "application/vnd.microsoft.datawrangler.viewer.v0+json": {
       "columns": [
        {
         "name": "index",
         "rawType": "int64",
         "type": "integer"
        },
        {
         "name": "uniq_id",
         "rawType": "object",
         "type": "string"
        },
        {
         "name": "crawl_timestamp",
         "rawType": "object",
         "type": "string"
        },
        {
         "name": "product_url",
         "rawType": "object",
         "type": "string"
        },
        {
         "name": "product_name",
         "rawType": "object",
         "type": "string"
        },
        {
         "name": "product_category_tree",
         "rawType": "object",
         "type": "string"
        },
        {
         "name": "pid",
         "rawType": "object",
         "type": "string"
        },
        {
         "name": "retail_price",
         "rawType": "float64",
         "type": "float"
        },
        {
         "name": "discounted_price",
         "rawType": "float64",
         "type": "float"
        },
        {
         "name": "image",
         "rawType": "object",
         "type": "string"
        },
        {
         "name": "is_FK_Advantage_product",
         "rawType": "bool",
         "type": "boolean"
        },
        {
         "name": "description",
         "rawType": "object",
         "type": "string"
        },
        {
         "name": "product_rating",
         "rawType": "object",
         "type": "string"
        },
        {
         "name": "overall_rating",
         "rawType": "object",
         "type": "string"
        },
        {
         "name": "brand",
         "rawType": "object",
         "type": "string"
        },
        {
         "name": "product_specifications",
         "rawType": "object",
         "type": "string"
        }
       ],
       "ref": "256c82da-3aa1-4e14-862a-e0d9cfa94307",
       "rows": [
        [
         "0",
         "55b85ea15a1536d46b7190ad6fff8ce7",
         "2016-04-30 03:22:56 +0000",
         "http://www.flipkart.com/elegance-polyester-multicolor-abstract-eyelet-door-curtain/p/itmeg7bkzdgthcts?pid=CRNEG7BKMFFYHQ8Z",
         "Elegance Polyester Multicolor Abstract Eyelet Door Curtain",
         "[\"Home Furnishing >> Curtains & Accessories >> Curtains >> Elegance Polyester Multicolor Abstract Eyelet Do...\"]",
         "CRNEG7BKMFFYHQ8Z",
         "1899.0",
         "899.0",
         "55b85ea15a1536d46b7190ad6fff8ce7.jpg",
         "False",
         "Key Features of Elegance Polyester Multicolor Abstract Eyelet Door Curtain Floral Curtain,Elegance Polyester Multicolor Abstract Eyelet Door Curtain (213 cm in Height, Pack of 2) Price: Rs. 899 This curtain enhances the look of the interiors.This curtain is made from 100% high quality polyester fabric.It features an eyelet style stitch with Metal Ring.It makes the room environment romantic and loving.This curtain is ant- wrinkle and anti shrinkage and have elegant apparance.Give your home a bright and modernistic appeal with these designs. The surreal attention is sure to steal hearts. These contemporary eyelet and valance curtains slide smoothly so when you draw them apart first thing in the morning to welcome the bright sun rays you want to wish good morning to the whole world and when you draw them close in the evening, you create the most special moments of joyous beauty given by the soothing prints. Bring home the elegant curtain that softly filters light in your room so that you get the right amount of sunlight.,Specifications of Elegance Polyester Multicolor Abstract Eyelet Door Curtain (213 cm in Height, Pack of 2) General Brand Elegance Designed For Door Type Eyelet Model Name Abstract Polyester Door Curtain Set Of 2 Model ID Duster25 Color Multicolor Dimensions Length 213 cm In the Box Number of Contents in Sales Package Pack of 2 Sales Package 2 Curtains Body & Design Material Polyester",
         "No rating available",
         "No rating available",
         "Elegance",
         "{\"product_specification\"=>[{\"key\"=>\"Brand\", \"value\"=>\"Elegance\"}, {\"key\"=>\"Designed For\", \"value\"=>\"Door\"}, {\"key\"=>\"Type\", \"value\"=>\"Eyelet\"}, {\"key\"=>\"Model Name\", \"value\"=>\"Abstract Polyester Door Curtain Set Of 2\"}, {\"key\"=>\"Model ID\", \"value\"=>\"Duster25\"}, {\"key\"=>\"Color\", \"value\"=>\"Multicolor\"}, {\"key\"=>\"Length\", \"value\"=>\"213 cm\"}, {\"key\"=>\"Number of Contents in Sales Package\", \"value\"=>\"Pack of 2\"}, {\"key\"=>\"Sales Package\", \"value\"=>\"2 Curtains\"}, {\"key\"=>\"Material\", \"value\"=>\"Polyester\"}]}"
        ],
        [
         "1",
         "7b72c92c2f6c40268628ec5f14c6d590",
         "2016-04-30 03:22:56 +0000",
         "http://www.flipkart.com/sathiyas-cotton-bath-towel/p/itmegfzhxbyucwgn?pid=BTWEGFZHGBXPHZUH",
         "Sathiyas Cotton Bath Towel",
         "[\"Baby Care >> Baby Bath & Skin >> Baby Bath Towels >> Sathiyas Baby Bath Towels >> Sathiyas Cotton Bath Towel (3 Bath Towel, Red, Y...\"]",
         "BTWEGFZHGBXPHZUH",
         "600.0",
         "449.0",
         "7b72c92c2f6c40268628ec5f14c6d590.jpg",
         "False",
         "Specifications of Sathiyas Cotton Bath Towel (3 Bath Towel, Red, Yellow, Blue) Bath Towel Features Machine Washable Yes Material Cotton Design Self Design General Brand Sathiyas Type Bath Towel GSM 500 Model Name Sathiyas cotton bath towel Ideal For Men, Women, Boys, Girls Model ID asvtwl322 Color Red, Yellow, Blue Size Mediam Dimensions Length 30 inch Width 60 inch In the Box Number of Contents in Sales Package 3 Sales Package 3 Bath Towel",
         "No rating available",
         "No rating available",
         "Sathiyas",
         "{\"product_specification\"=>[{\"key\"=>\"Machine Washable\", \"value\"=>\"Yes\"}, {\"key\"=>\"Material\", \"value\"=>\"Cotton\"}, {\"key\"=>\"Design\", \"value\"=>\"Self Design\"}, {\"key\"=>\"Brand\", \"value\"=>\"Sathiyas\"}, {\"key\"=>\"Type\", \"value\"=>\"Bath Towel\"}, {\"key\"=>\"GSM\", \"value\"=>\"500\"}, {\"key\"=>\"Model Name\", \"value\"=>\"Sathiyas cotton bath towel\"}, {\"key\"=>\"Ideal For\", \"value\"=>\"Men, Women, Boys, Girls\"}, {\"key\"=>\"Model ID\", \"value\"=>\"asvtwl322\"}, {\"key\"=>\"Color\", \"value\"=>\"Red, Yellow, Blue\"}, {\"key\"=>\"Size\", \"value\"=>\"Mediam\"}, {\"key\"=>\"Length\", \"value\"=>\"30 inch\"}, {\"key\"=>\"Width\", \"value\"=>\"60 inch\"}, {\"key\"=>\"Number of Contents in Sales Package\", \"value\"=>\"3\"}, {\"key\"=>\"Sales Package\", \"value\"=>\"3 Bath Towel\"}]}"
        ],
        [
         "2",
         "64d5d4a258243731dc7bbb1eef49ad74",
         "2016-04-30 03:22:56 +0000",
         "http://www.flipkart.com/eurospa-cotton-terry-face-towel-set/p/itmeg6shbrpubhca?pid=BTWEG6SHXTDB2A2Y",
         "Eurospa Cotton Terry Face Towel Set",
         "[\"Baby Care >> Baby Bath & Skin >> Baby Bath Towels >> Eurospa Baby Bath Towels >> Eurospa Cotton Terry Face Towel Set (20 PIECE FA...\"]",
         "BTWEG6SHXTDB2A2Y",
         null,
         null,
         "64d5d4a258243731dc7bbb1eef49ad74.jpg",
         "False",
         "Key Features of Eurospa Cotton Terry Face Towel Set Size: small Height: 9 inch GSM: 360,Eurospa Cotton Terry Face Towel Set (20 PIECE FACE TOWEL SET, Assorted) Price: Rs. 299 Eurospa brings to you an exclusively designed, 100% soft cotton towels of export quality. All our products have soft texture that takes care of your skin and gives you that enriched feeling you deserve. Eurospa has been exporting its bath towels to lot of renowned brands for last 10 years and is famous for its fine prints, absorbency, softness and durability. NOTE: Our product is 100% cotton, so it is susceptible to shrinkage. Product color may vary from the picture. Size may vary by ±3% WASH CARE: Wash in cold Water, Do not Iron, Do not Bleach, Flat dry, Wash before first use. SIZE- FACE TOWEL - 23 cms X 23 cms.,Specifications of Eurospa Cotton Terry Face Towel Set (20 PIECE FACE TOWEL SET, Assorted) Bath Towel Features Material Cotton Terry Design SHUVAM General Brand Eurospa GSM 360 Type Face Towel Set Model Name SHUVAM20PCFTSETASSORTED Ideal For Boys, Girls, Men, Women Model ID SHUVAM20PCFTSETASSORTED Size small Color Assorted Dimensions Weight 350 g Length 9 inch Width 9 inch In the Box Number of Contents in Sales Package 20 Sales Package 20 PIECE FACE TOWEL SET",
         "No rating available",
         "No rating available",
         "Eurospa",
         "{\"product_specification\"=>[{\"key\"=>\"Material\", \"value\"=>\"Cotton Terry\"}, {\"key\"=>\"Design\", \"value\"=>\"SHUVAM\"}, {\"key\"=>\"Brand\", \"value\"=>\"Eurospa\"}, {\"key\"=>\"GSM\", \"value\"=>\"360\"}, {\"key\"=>\"Type\", \"value\"=>\"Face Towel Set\"}, {\"key\"=>\"Model Name\", \"value\"=>\"SHUVAM20PCFTSETASSORTED\"}, {\"key\"=>\"Ideal For\", \"value\"=>\"Boys, Girls, Men, Women\"}, {\"key\"=>\"Model ID\", \"value\"=>\"SHUVAM20PCFTSETASSORTED\"}, {\"key\"=>\"Size\", \"value\"=>\"small\"}, {\"key\"=>\"Color\", \"value\"=>\"Assorted\"}, {\"key\"=>\"Weight\", \"value\"=>\"350 g\"}, {\"key\"=>\"Length\", \"value\"=>\"9 inch\"}, {\"key\"=>\"Width\", \"value\"=>\"9 inch\"}, {\"key\"=>\"Number of Contents in Sales Package\", \"value\"=>\"20\"}, {\"key\"=>\"Sales Package\", \"value\"=>\"20 PIECE FACE TOWEL SET\"}]}"
        ],
        [
         "3",
         "d4684dcdc759dd9cdf41504698d737d8",
         "2016-06-20 08:49:52 +0000",
         "http://www.flipkart.com/santosh-royal-fashion-cotton-printed-king-sized-double-bedsheet/p/itmejt9uaqahahuf?pid=BDSEJT9UQWHDUBH4",
         "SANTOSH ROYAL FASHION Cotton Printed King sized Double Bedsheet",
         "[\"Home Furnishing >> Bed Linen >> Bedsheets >> SANTOSH ROYAL FASHION Bedsheets >> SANTOSH ROYAL FASHION Cotton Printed King sized ...\"]",
         "BDSEJT9UQWHDUBH4",
         "2699.0",
         "1299.0",
         "d4684dcdc759dd9cdf41504698d737d8.jpg",
         "False",
         "Key Features of SANTOSH ROYAL FASHION Cotton Printed King sized Double Bedsheet Royal Bedsheet Perfact for Wedding & Gifting,Specifications of SANTOSH ROYAL FASHION Cotton Printed King sized Double Bedsheet (1 Bedsheet,2 Pillow Cover, Multicolor) General Brand SANTOSH ROYAL FASHION Machine Washable Yes Type Flat Material Cotton Model Name Gold Design Royal Cotton Printed Wedding & Gifted Double Bedsheet With 2 Pillow cover Model ID goldbedi-38 Color Multicolor Size King Fabric Care Machine Wash, Do Not Bleach Dimensions Flat Sheet Width 90 inch / 230 cm Fitted Sheet Width 228 cm Pillow Cover Width 16 inch / 43 cm Pillow Cover Length 28 inch / 72 cm Fitted Sheet Depth 280 cm Fitted Sheet Length 278 cm Flat Sheet Depth 282 cm Flat Sheet Length 110 inch / 280 cm In the Box Number of Contents in Sales Package 1 Sales Package 1 Bedsheet,2 Pillow Cover",
         "No rating available",
         "No rating available",
         "SANTOSH ROYAL FASHION",
         "{\"product_specification\"=>[{\"key\"=>\"Brand\", \"value\"=>\"SANTOSH ROYAL FASHION\"}, {\"key\"=>\"Machine Washable\", \"value\"=>\"Yes\"}, {\"key\"=>\"Type\", \"value\"=>\"Flat\"}, {\"key\"=>\"Material\", \"value\"=>\"Cotton\"}, {\"key\"=>\"Model Name\", \"value\"=>\"Gold Design Royal Cotton Printed Wedding and Gifted Double Bedsheet With 2 Pillow cover\"}, {\"key\"=>\"Model ID\", \"value\"=>\"goldbedi-38\"}, {\"key\"=>\"Color\", \"value\"=>\"Multicolor\"}, {\"key\"=>\"Size\", \"value\"=>\"King\"}, {\"key\"=>\"Fabric Care\", \"value\"=>\"Machine Wash, Do Not Bleach\"}, {\"key\"=>\"Flat Sheet Width\", \"value\"=>\"90 inch / 230 cm\"}, {\"key\"=>\"Fitted Sheet Width\", \"value\"=>\"228 cm\"}, {\"key\"=>\"Pillow Cover Width\", \"value\"=>\"16 inch / 43 cm\"}, {\"key\"=>\"Pillow Cover Length\", \"value\"=>\"28 inch / 72 cm\"}, {\"key\"=>\"Fitted Sheet Depth\", \"value\"=>\"280 cm\"}, {\"key\"=>\"Fitted Sheet Length\", \"value\"=>\"278 cm\"}, {\"key\"=>\"Flat Sheet Depth\", \"value\"=>\"282 cm\"}, {\"key\"=>\"Flat Sheet Length\", \"value\"=>\"110 inch / 280 cm\"}, {\"key\"=>\"Number of Contents in Sales Package\", \"value\"=>\"1\"}, {\"key\"=>\"Sales Package\", \"value\"=>\"1 Bedsheet,2 Pillow Cover\"}]}"
        ],
        [
         "4",
         "6325b6870c54cd47be6ebfbffa620ec7",
         "2016-06-20 08:49:52 +0000",
         "http://www.flipkart.com/jaipur-print-cotton-floral-king-sized-double-bedsheet/p/itmejthnwahrnt7v?pid=BDSEJTHNGWVGWWQU",
         "Jaipur Print Cotton Floral King sized Double Bedsheet",
         "[\"Home Furnishing >> Bed Linen >> Bedsheets >> Jaipur Print Bedsheets >> Jaipur Print Cotton Floral King sized Double Bed...\"]",
         "BDSEJTHNGWVGWWQU",
         "2599.0",
         "698.0",
         "6325b6870c54cd47be6ebfbffa620ec7.jpg",
         "False",
         "Key Features of Jaipur Print Cotton Floral King sized Double Bedsheet 100% cotton,Jaipur Print Cotton Floral King sized Double Bedsheet (1 bed sheet 2 pillow cover, White) Price: Rs. 998 This nice bed sheet made up of 100% cotton to give you comfort. This bed sheet is hand printed. This bedsheet gives nice look to your room And its fast colour and good quality gives this bedsheet long life.,Specifications of Jaipur Print Cotton Floral King sized Double Bedsheet (1 bed sheet 2 pillow cover, White) General Machine Washable Yes Brand Jaipur Print Type Flat Model Name jaipur117 Material Cotton Thread Count 140 Model ID jaipur117 Fabric Care machinewash, do not bleach Size King Color White Warranty waranty of the product only for manufacturing defect only and product will exchange onle when it is not used and returne its origional packing Dimensions Flat Sheet Width 86 inch / 220 cm Fitted Sheet Width 0 cm Pillow Cover Width 17 inch / 45 cm Pillow Cover Length 29 inch / 75 cm Weight 900 g Fitted Sheet Depth 0 cm Fitted Sheet Length 0 cm Flat Sheet Depth 0.2 cm Flat Sheet Length 104 inch / 265 cm In the Box Number of Contents in Sales Package 1 Sales Package 1 bed sheet 2 pillow cover",
         "No rating available",
         "No rating available",
         "Jaipur Print",
         "{\"product_specification\"=>[{\"key\"=>\"Machine Washable\", \"value\"=>\"Yes\"}, {\"key\"=>\"Brand\", \"value\"=>\"Jaipur Print\"}, {\"key\"=>\"Type\", \"value\"=>\"Flat\"}, {\"key\"=>\"Model Name\", \"value\"=>\"jaipur117\"}, {\"key\"=>\"Material\", \"value\"=>\"Cotton\"}, {\"key\"=>\"Thread Count\", \"value\"=>\"140\"}, {\"key\"=>\"Model ID\", \"value\"=>\"jaipur117\"}, {\"key\"=>\"Fabric Care\", \"value\"=>\"machinewash, do not bleach\"}, {\"key\"=>\"Size\", \"value\"=>\"King\"}, {\"key\"=>\"Color\", \"value\"=>\"White\"}, {\"value\"=>\"waranty of the product only for manufacturing defect only and product will exchange onle when it is not used and returne its origional packing\"}, {\"key\"=>\"Flat Sheet Width\", \"value\"=>\"86 inch / 220 cm\"}, {\"key\"=>\"Fitted Sheet Width\", \"value\"=>\"0 cm\"}, {\"key\"=>\"Pillow Cover Width\", \"value\"=>\"17 inch / 45 cm\"}, {\"key\"=>\"Pillow Cover Length\", \"value\"=>\"29 inch / 75 cm\"}, {\"key\"=>\"Weight\", \"value\"=>\"900 g\"}, {\"key\"=>\"Fitted Sheet Depth\", \"value\"=>\"0 cm\"}, {\"key\"=>\"Fitted Sheet Length\", \"value\"=>\"0 cm\"}, {\"key\"=>\"Flat Sheet Depth\", \"value\"=>\"0.2 cm\"}, {\"key\"=>\"Flat Sheet Length\", \"value\"=>\"104 inch / 265 cm\"}, {\"key\"=>\"Number of Contents in Sales Package\", \"value\"=>\"1\"}, {\"key\"=>\"Sales Package\", \"value\"=>\"1 bed sheet 2 pillow cover\"}]}"
        ]
       ],
       "shape": {
        "columns": 15,
        "rows": 5
       }
      },
      "text/html": [
       "<div>\n",
       "<style scoped>\n",
       "    .dataframe tbody tr th:only-of-type {\n",
       "        vertical-align: middle;\n",
       "    }\n",
       "\n",
       "    .dataframe tbody tr th {\n",
       "        vertical-align: top;\n",
       "    }\n",
       "\n",
       "    .dataframe thead th {\n",
       "        text-align: right;\n",
       "    }\n",
       "</style>\n",
       "<table border=\"1\" class=\"dataframe\">\n",
       "  <thead>\n",
       "    <tr style=\"text-align: right;\">\n",
       "      <th></th>\n",
       "      <th>uniq_id</th>\n",
       "      <th>crawl_timestamp</th>\n",
       "      <th>product_url</th>\n",
       "      <th>product_name</th>\n",
       "      <th>product_category_tree</th>\n",
       "      <th>pid</th>\n",
       "      <th>retail_price</th>\n",
       "      <th>discounted_price</th>\n",
       "      <th>image</th>\n",
       "      <th>is_FK_Advantage_product</th>\n",
       "      <th>description</th>\n",
       "      <th>product_rating</th>\n",
       "      <th>overall_rating</th>\n",
       "      <th>brand</th>\n",
       "      <th>product_specifications</th>\n",
       "    </tr>\n",
       "  </thead>\n",
       "  <tbody>\n",
       "    <tr>\n",
       "      <th>0</th>\n",
       "      <td>55b85ea15a1536d46b7190ad6fff8ce7</td>\n",
       "      <td>2016-04-30 03:22:56 +0000</td>\n",
       "      <td>http://www.flipkart.com/elegance-polyester-mul...</td>\n",
       "      <td>Elegance Polyester Multicolor Abstract Eyelet ...</td>\n",
       "      <td>[\"Home Furnishing &gt;&gt; Curtains &amp; Accessories &gt;&gt;...</td>\n",
       "      <td>CRNEG7BKMFFYHQ8Z</td>\n",
       "      <td>1899.0</td>\n",
       "      <td>899.0</td>\n",
       "      <td>55b85ea15a1536d46b7190ad6fff8ce7.jpg</td>\n",
       "      <td>False</td>\n",
       "      <td>Key Features of Elegance Polyester Multicolor ...</td>\n",
       "      <td>No rating available</td>\n",
       "      <td>No rating available</td>\n",
       "      <td>Elegance</td>\n",
       "      <td>{\"product_specification\"=&gt;[{\"key\"=&gt;\"Brand\", \"v...</td>\n",
       "    </tr>\n",
       "    <tr>\n",
       "      <th>1</th>\n",
       "      <td>7b72c92c2f6c40268628ec5f14c6d590</td>\n",
       "      <td>2016-04-30 03:22:56 +0000</td>\n",
       "      <td>http://www.flipkart.com/sathiyas-cotton-bath-t...</td>\n",
       "      <td>Sathiyas Cotton Bath Towel</td>\n",
       "      <td>[\"Baby Care &gt;&gt; Baby Bath &amp; Skin &gt;&gt; Baby Bath T...</td>\n",
       "      <td>BTWEGFZHGBXPHZUH</td>\n",
       "      <td>600.0</td>\n",
       "      <td>449.0</td>\n",
       "      <td>7b72c92c2f6c40268628ec5f14c6d590.jpg</td>\n",
       "      <td>False</td>\n",
       "      <td>Specifications of Sathiyas Cotton Bath Towel (...</td>\n",
       "      <td>No rating available</td>\n",
       "      <td>No rating available</td>\n",
       "      <td>Sathiyas</td>\n",
       "      <td>{\"product_specification\"=&gt;[{\"key\"=&gt;\"Machine Wa...</td>\n",
       "    </tr>\n",
       "    <tr>\n",
       "      <th>2</th>\n",
       "      <td>64d5d4a258243731dc7bbb1eef49ad74</td>\n",
       "      <td>2016-04-30 03:22:56 +0000</td>\n",
       "      <td>http://www.flipkart.com/eurospa-cotton-terry-f...</td>\n",
       "      <td>Eurospa Cotton Terry Face Towel Set</td>\n",
       "      <td>[\"Baby Care &gt;&gt; Baby Bath &amp; Skin &gt;&gt; Baby Bath T...</td>\n",
       "      <td>BTWEG6SHXTDB2A2Y</td>\n",
       "      <td>NaN</td>\n",
       "      <td>NaN</td>\n",
       "      <td>64d5d4a258243731dc7bbb1eef49ad74.jpg</td>\n",
       "      <td>False</td>\n",
       "      <td>Key Features of Eurospa Cotton Terry Face Towe...</td>\n",
       "      <td>No rating available</td>\n",
       "      <td>No rating available</td>\n",
       "      <td>Eurospa</td>\n",
       "      <td>{\"product_specification\"=&gt;[{\"key\"=&gt;\"Material\",...</td>\n",
       "    </tr>\n",
       "    <tr>\n",
       "      <th>3</th>\n",
       "      <td>d4684dcdc759dd9cdf41504698d737d8</td>\n",
       "      <td>2016-06-20 08:49:52 +0000</td>\n",
       "      <td>http://www.flipkart.com/santosh-royal-fashion-...</td>\n",
       "      <td>SANTOSH ROYAL FASHION Cotton Printed King size...</td>\n",
       "      <td>[\"Home Furnishing &gt;&gt; Bed Linen &gt;&gt; Bedsheets &gt;&gt;...</td>\n",
       "      <td>BDSEJT9UQWHDUBH4</td>\n",
       "      <td>2699.0</td>\n",
       "      <td>1299.0</td>\n",
       "      <td>d4684dcdc759dd9cdf41504698d737d8.jpg</td>\n",
       "      <td>False</td>\n",
       "      <td>Key Features of SANTOSH ROYAL FASHION Cotton P...</td>\n",
       "      <td>No rating available</td>\n",
       "      <td>No rating available</td>\n",
       "      <td>SANTOSH ROYAL FASHION</td>\n",
       "      <td>{\"product_specification\"=&gt;[{\"key\"=&gt;\"Brand\", \"v...</td>\n",
       "    </tr>\n",
       "    <tr>\n",
       "      <th>4</th>\n",
       "      <td>6325b6870c54cd47be6ebfbffa620ec7</td>\n",
       "      <td>2016-06-20 08:49:52 +0000</td>\n",
       "      <td>http://www.flipkart.com/jaipur-print-cotton-fl...</td>\n",
       "      <td>Jaipur Print Cotton Floral King sized Double B...</td>\n",
       "      <td>[\"Home Furnishing &gt;&gt; Bed Linen &gt;&gt; Bedsheets &gt;&gt;...</td>\n",
       "      <td>BDSEJTHNGWVGWWQU</td>\n",
       "      <td>2599.0</td>\n",
       "      <td>698.0</td>\n",
       "      <td>6325b6870c54cd47be6ebfbffa620ec7.jpg</td>\n",
       "      <td>False</td>\n",
       "      <td>Key Features of Jaipur Print Cotton Floral Kin...</td>\n",
       "      <td>No rating available</td>\n",
       "      <td>No rating available</td>\n",
       "      <td>Jaipur Print</td>\n",
       "      <td>{\"product_specification\"=&gt;[{\"key\"=&gt;\"Machine Wa...</td>\n",
       "    </tr>\n",
       "  </tbody>\n",
       "</table>\n",
       "</div>"
      ],
      "text/plain": [
       "                            uniq_id            crawl_timestamp  \\\n",
       "0  55b85ea15a1536d46b7190ad6fff8ce7  2016-04-30 03:22:56 +0000   \n",
       "1  7b72c92c2f6c40268628ec5f14c6d590  2016-04-30 03:22:56 +0000   \n",
       "2  64d5d4a258243731dc7bbb1eef49ad74  2016-04-30 03:22:56 +0000   \n",
       "3  d4684dcdc759dd9cdf41504698d737d8  2016-06-20 08:49:52 +0000   \n",
       "4  6325b6870c54cd47be6ebfbffa620ec7  2016-06-20 08:49:52 +0000   \n",
       "\n",
       "                                         product_url  \\\n",
       "0  http://www.flipkart.com/elegance-polyester-mul...   \n",
       "1  http://www.flipkart.com/sathiyas-cotton-bath-t...   \n",
       "2  http://www.flipkart.com/eurospa-cotton-terry-f...   \n",
       "3  http://www.flipkart.com/santosh-royal-fashion-...   \n",
       "4  http://www.flipkart.com/jaipur-print-cotton-fl...   \n",
       "\n",
       "                                        product_name  \\\n",
       "0  Elegance Polyester Multicolor Abstract Eyelet ...   \n",
       "1                         Sathiyas Cotton Bath Towel   \n",
       "2                Eurospa Cotton Terry Face Towel Set   \n",
       "3  SANTOSH ROYAL FASHION Cotton Printed King size...   \n",
       "4  Jaipur Print Cotton Floral King sized Double B...   \n",
       "\n",
       "                               product_category_tree               pid  \\\n",
       "0  [\"Home Furnishing >> Curtains & Accessories >>...  CRNEG7BKMFFYHQ8Z   \n",
       "1  [\"Baby Care >> Baby Bath & Skin >> Baby Bath T...  BTWEGFZHGBXPHZUH   \n",
       "2  [\"Baby Care >> Baby Bath & Skin >> Baby Bath T...  BTWEG6SHXTDB2A2Y   \n",
       "3  [\"Home Furnishing >> Bed Linen >> Bedsheets >>...  BDSEJT9UQWHDUBH4   \n",
       "4  [\"Home Furnishing >> Bed Linen >> Bedsheets >>...  BDSEJTHNGWVGWWQU   \n",
       "\n",
       "   retail_price  discounted_price                                 image  \\\n",
       "0        1899.0             899.0  55b85ea15a1536d46b7190ad6fff8ce7.jpg   \n",
       "1         600.0             449.0  7b72c92c2f6c40268628ec5f14c6d590.jpg   \n",
       "2           NaN               NaN  64d5d4a258243731dc7bbb1eef49ad74.jpg   \n",
       "3        2699.0            1299.0  d4684dcdc759dd9cdf41504698d737d8.jpg   \n",
       "4        2599.0             698.0  6325b6870c54cd47be6ebfbffa620ec7.jpg   \n",
       "\n",
       "   is_FK_Advantage_product                                        description  \\\n",
       "0                    False  Key Features of Elegance Polyester Multicolor ...   \n",
       "1                    False  Specifications of Sathiyas Cotton Bath Towel (...   \n",
       "2                    False  Key Features of Eurospa Cotton Terry Face Towe...   \n",
       "3                    False  Key Features of SANTOSH ROYAL FASHION Cotton P...   \n",
       "4                    False  Key Features of Jaipur Print Cotton Floral Kin...   \n",
       "\n",
       "        product_rating       overall_rating                  brand  \\\n",
       "0  No rating available  No rating available               Elegance   \n",
       "1  No rating available  No rating available               Sathiyas   \n",
       "2  No rating available  No rating available                Eurospa   \n",
       "3  No rating available  No rating available  SANTOSH ROYAL FASHION   \n",
       "4  No rating available  No rating available           Jaipur Print   \n",
       "\n",
       "                              product_specifications  \n",
       "0  {\"product_specification\"=>[{\"key\"=>\"Brand\", \"v...  \n",
       "1  {\"product_specification\"=>[{\"key\"=>\"Machine Wa...  \n",
       "2  {\"product_specification\"=>[{\"key\"=>\"Material\",...  \n",
       "3  {\"product_specification\"=>[{\"key\"=>\"Brand\", \"v...  \n",
       "4  {\"product_specification\"=>[{\"key\"=>\"Machine Wa...  "
      ]
     },
     "execution_count": 1,
     "metadata": {},
     "output_type": "execute_result"
    }
   ],
   "source": [
    "import pandas as pd\n",
    "import glob\n",
    "\n",
    "# Read all CSV files from dataset/Flipkart directory with glob\n",
    "csv_files = glob.glob('dataset/Flipkart/flipkart*.csv')\n",
    "\n",
    "# Import the CSV files into a dataframe\n",
    "df = pd.read_csv(csv_files[0])\n",
    "\n",
    "# Display first few rows\n",
    "df.head()"
   ]
  },
  {
   "cell_type": "code",
   "execution_count": 2,
   "id": "7ac3f69b",
   "metadata": {},
   "outputs": [
    {
     "data": {
      "application/vnd.microsoft.datawrangler.viewer.v0+json": {
       "columns": [
        {
         "name": "index",
         "rawType": "int64",
         "type": "integer"
        },
        {
         "name": "key",
         "rawType": "object",
         "type": "string"
        },
        {
         "name": "value",
         "rawType": "object",
         "type": "string"
        },
        {
         "name": "count",
         "rawType": "int64",
         "type": "integer"
        },
        {
         "name": "percentage",
         "rawType": "float64",
         "type": "float"
        },
        {
         "name": "total_occurrences",
         "rawType": "int64",
         "type": "integer"
        }
       ],
       "ref": "0615eda3-c4d4-4940-b723-1cc7bfbc8c27",
       "rows": [
        [
         "0",
         "Type",
         "Analog",
         "123",
         "16.9",
         "728"
        ],
        [
         "1",
         "Type",
         "Mug",
         "74",
         "10.16",
         "728"
        ],
        [
         "2",
         "Type",
         "Ethnic",
         "56",
         "7.69",
         "728"
        ],
        [
         "3",
         "Type",
         "Wireless Without modem",
         "27",
         "3.71",
         "728"
        ],
        [
         "4",
         "Type",
         "Religious Idols",
         "26",
         "3.57",
         "728"
        ],
        [
         "5",
         "Brand",
         "Lapguard",
         "11",
         "1.94",
         "568"
        ],
        [
         "6",
         "Brand",
         "PRINT SHAPES",
         "11",
         "1.94",
         "568"
        ],
        [
         "7",
         "Brand",
         "Lal Haveli",
         "10",
         "1.76",
         "568"
        ],
        [
         "8",
         "Brand",
         "Raymond",
         "8",
         "1.41",
         "568"
        ],
        [
         "9",
         "Brand",
         "Aroma Comfort",
         "8",
         "1.41",
         "568"
        ],
        [
         "10",
         "Sales Package",
         "1 Mug",
         "49",
         "9.59",
         "511"
        ],
        [
         "11",
         "Sales Package",
         "1 Showpiece Figurine",
         "44",
         "8.61",
         "511"
        ],
        [
         "12",
         "Sales Package",
         "1 mug",
         "22",
         "4.31",
         "511"
        ],
        [
         "13",
         "Sales Package",
         "Blanket",
         "12",
         "2.35",
         "511"
        ],
        [
         "14",
         "Sales Package",
         "1 Laptop Adapter",
         "10",
         "1.96",
         "511"
        ],
        [
         "15",
         "Color",
         "Multicolor",
         "98",
         "19.41",
         "505"
        ],
        [
         "16",
         "Color",
         "Black",
         "73",
         "14.46",
         "505"
        ],
        [
         "17",
         "Color",
         "White",
         "42",
         "8.32",
         "505"
        ],
        [
         "18",
         "Color",
         "Blue",
         "31",
         "6.14",
         "505"
        ],
        [
         "19",
         "Color",
         "Gold",
         "28",
         "5.54",
         "505"
        ],
        [
         "20",
         "Ideal For",
         "Men",
         "88",
         "18.8",
         "468"
        ],
        [
         "21",
         "Ideal For",
         "Women",
         "75",
         "16.03",
         "468"
        ],
        [
         "22",
         "Ideal For",
         "Men, Women",
         "47",
         "10.04",
         "468"
        ],
        [
         "23",
         "Ideal For",
         "Baby Girl's",
         "46",
         "9.83",
         "468"
        ],
        [
         "24",
         "Ideal For",
         "Men and Women",
         "35",
         "7.48",
         "468"
        ]
       ],
       "shape": {
        "columns": 5,
        "rows": 25
       }
      },
      "text/html": [
       "<div>\n",
       "<style scoped>\n",
       "    .dataframe tbody tr th:only-of-type {\n",
       "        vertical-align: middle;\n",
       "    }\n",
       "\n",
       "    .dataframe tbody tr th {\n",
       "        vertical-align: top;\n",
       "    }\n",
       "\n",
       "    .dataframe thead th {\n",
       "        text-align: right;\n",
       "    }\n",
       "</style>\n",
       "<table border=\"1\" class=\"dataframe\">\n",
       "  <thead>\n",
       "    <tr style=\"text-align: right;\">\n",
       "      <th></th>\n",
       "      <th>key</th>\n",
       "      <th>value</th>\n",
       "      <th>count</th>\n",
       "      <th>percentage</th>\n",
       "      <th>total_occurrences</th>\n",
       "    </tr>\n",
       "  </thead>\n",
       "  <tbody>\n",
       "    <tr>\n",
       "      <th>0</th>\n",
       "      <td>Type</td>\n",
       "      <td>Analog</td>\n",
       "      <td>123</td>\n",
       "      <td>16.90</td>\n",
       "      <td>728</td>\n",
       "    </tr>\n",
       "    <tr>\n",
       "      <th>1</th>\n",
       "      <td>Type</td>\n",
       "      <td>Mug</td>\n",
       "      <td>74</td>\n",
       "      <td>10.16</td>\n",
       "      <td>728</td>\n",
       "    </tr>\n",
       "    <tr>\n",
       "      <th>2</th>\n",
       "      <td>Type</td>\n",
       "      <td>Ethnic</td>\n",
       "      <td>56</td>\n",
       "      <td>7.69</td>\n",
       "      <td>728</td>\n",
       "    </tr>\n",
       "    <tr>\n",
       "      <th>3</th>\n",
       "      <td>Type</td>\n",
       "      <td>Wireless Without modem</td>\n",
       "      <td>27</td>\n",
       "      <td>3.71</td>\n",
       "      <td>728</td>\n",
       "    </tr>\n",
       "    <tr>\n",
       "      <th>4</th>\n",
       "      <td>Type</td>\n",
       "      <td>Religious Idols</td>\n",
       "      <td>26</td>\n",
       "      <td>3.57</td>\n",
       "      <td>728</td>\n",
       "    </tr>\n",
       "    <tr>\n",
       "      <th>5</th>\n",
       "      <td>Brand</td>\n",
       "      <td>Lapguard</td>\n",
       "      <td>11</td>\n",
       "      <td>1.94</td>\n",
       "      <td>568</td>\n",
       "    </tr>\n",
       "    <tr>\n",
       "      <th>6</th>\n",
       "      <td>Brand</td>\n",
       "      <td>PRINT SHAPES</td>\n",
       "      <td>11</td>\n",
       "      <td>1.94</td>\n",
       "      <td>568</td>\n",
       "    </tr>\n",
       "    <tr>\n",
       "      <th>7</th>\n",
       "      <td>Brand</td>\n",
       "      <td>Lal Haveli</td>\n",
       "      <td>10</td>\n",
       "      <td>1.76</td>\n",
       "      <td>568</td>\n",
       "    </tr>\n",
       "    <tr>\n",
       "      <th>8</th>\n",
       "      <td>Brand</td>\n",
       "      <td>Raymond</td>\n",
       "      <td>8</td>\n",
       "      <td>1.41</td>\n",
       "      <td>568</td>\n",
       "    </tr>\n",
       "    <tr>\n",
       "      <th>9</th>\n",
       "      <td>Brand</td>\n",
       "      <td>Aroma Comfort</td>\n",
       "      <td>8</td>\n",
       "      <td>1.41</td>\n",
       "      <td>568</td>\n",
       "    </tr>\n",
       "    <tr>\n",
       "      <th>10</th>\n",
       "      <td>Sales Package</td>\n",
       "      <td>1 Mug</td>\n",
       "      <td>49</td>\n",
       "      <td>9.59</td>\n",
       "      <td>511</td>\n",
       "    </tr>\n",
       "    <tr>\n",
       "      <th>11</th>\n",
       "      <td>Sales Package</td>\n",
       "      <td>1 Showpiece Figurine</td>\n",
       "      <td>44</td>\n",
       "      <td>8.61</td>\n",
       "      <td>511</td>\n",
       "    </tr>\n",
       "    <tr>\n",
       "      <th>12</th>\n",
       "      <td>Sales Package</td>\n",
       "      <td>1 mug</td>\n",
       "      <td>22</td>\n",
       "      <td>4.31</td>\n",
       "      <td>511</td>\n",
       "    </tr>\n",
       "    <tr>\n",
       "      <th>13</th>\n",
       "      <td>Sales Package</td>\n",
       "      <td>Blanket</td>\n",
       "      <td>12</td>\n",
       "      <td>2.35</td>\n",
       "      <td>511</td>\n",
       "    </tr>\n",
       "    <tr>\n",
       "      <th>14</th>\n",
       "      <td>Sales Package</td>\n",
       "      <td>1 Laptop Adapter</td>\n",
       "      <td>10</td>\n",
       "      <td>1.96</td>\n",
       "      <td>511</td>\n",
       "    </tr>\n",
       "    <tr>\n",
       "      <th>15</th>\n",
       "      <td>Color</td>\n",
       "      <td>Multicolor</td>\n",
       "      <td>98</td>\n",
       "      <td>19.41</td>\n",
       "      <td>505</td>\n",
       "    </tr>\n",
       "    <tr>\n",
       "      <th>16</th>\n",
       "      <td>Color</td>\n",
       "      <td>Black</td>\n",
       "      <td>73</td>\n",
       "      <td>14.46</td>\n",
       "      <td>505</td>\n",
       "    </tr>\n",
       "    <tr>\n",
       "      <th>17</th>\n",
       "      <td>Color</td>\n",
       "      <td>White</td>\n",
       "      <td>42</td>\n",
       "      <td>8.32</td>\n",
       "      <td>505</td>\n",
       "    </tr>\n",
       "    <tr>\n",
       "      <th>18</th>\n",
       "      <td>Color</td>\n",
       "      <td>Blue</td>\n",
       "      <td>31</td>\n",
       "      <td>6.14</td>\n",
       "      <td>505</td>\n",
       "    </tr>\n",
       "    <tr>\n",
       "      <th>19</th>\n",
       "      <td>Color</td>\n",
       "      <td>Gold</td>\n",
       "      <td>28</td>\n",
       "      <td>5.54</td>\n",
       "      <td>505</td>\n",
       "    </tr>\n",
       "    <tr>\n",
       "      <th>20</th>\n",
       "      <td>Ideal For</td>\n",
       "      <td>Men</td>\n",
       "      <td>88</td>\n",
       "      <td>18.80</td>\n",
       "      <td>468</td>\n",
       "    </tr>\n",
       "    <tr>\n",
       "      <th>21</th>\n",
       "      <td>Ideal For</td>\n",
       "      <td>Women</td>\n",
       "      <td>75</td>\n",
       "      <td>16.03</td>\n",
       "      <td>468</td>\n",
       "    </tr>\n",
       "    <tr>\n",
       "      <th>22</th>\n",
       "      <td>Ideal For</td>\n",
       "      <td>Men, Women</td>\n",
       "      <td>47</td>\n",
       "      <td>10.04</td>\n",
       "      <td>468</td>\n",
       "    </tr>\n",
       "    <tr>\n",
       "      <th>23</th>\n",
       "      <td>Ideal For</td>\n",
       "      <td>Baby Girl's</td>\n",
       "      <td>46</td>\n",
       "      <td>9.83</td>\n",
       "      <td>468</td>\n",
       "    </tr>\n",
       "    <tr>\n",
       "      <th>24</th>\n",
       "      <td>Ideal For</td>\n",
       "      <td>Men and Women</td>\n",
       "      <td>35</td>\n",
       "      <td>7.48</td>\n",
       "      <td>468</td>\n",
       "    </tr>\n",
       "  </tbody>\n",
       "</table>\n",
       "</div>"
      ],
      "text/plain": [
       "              key                   value  count  percentage  \\\n",
       "0            Type                  Analog    123       16.90   \n",
       "1            Type                     Mug     74       10.16   \n",
       "2            Type                  Ethnic     56        7.69   \n",
       "3            Type  Wireless Without modem     27        3.71   \n",
       "4            Type         Religious Idols     26        3.57   \n",
       "5           Brand                Lapguard     11        1.94   \n",
       "6           Brand            PRINT SHAPES     11        1.94   \n",
       "7           Brand              Lal Haveli     10        1.76   \n",
       "8           Brand                 Raymond      8        1.41   \n",
       "9           Brand           Aroma Comfort      8        1.41   \n",
       "10  Sales Package                   1 Mug     49        9.59   \n",
       "11  Sales Package    1 Showpiece Figurine     44        8.61   \n",
       "12  Sales Package                   1 mug     22        4.31   \n",
       "13  Sales Package                 Blanket     12        2.35   \n",
       "14  Sales Package        1 Laptop Adapter     10        1.96   \n",
       "15          Color              Multicolor     98       19.41   \n",
       "16          Color                   Black     73       14.46   \n",
       "17          Color                   White     42        8.32   \n",
       "18          Color                    Blue     31        6.14   \n",
       "19          Color                    Gold     28        5.54   \n",
       "20      Ideal For                     Men     88       18.80   \n",
       "21      Ideal For                   Women     75       16.03   \n",
       "22      Ideal For              Men, Women     47       10.04   \n",
       "23      Ideal For             Baby Girl's     46        9.83   \n",
       "24      Ideal For           Men and Women     35        7.48   \n",
       "\n",
       "    total_occurrences  \n",
       "0                 728  \n",
       "1                 728  \n",
       "2                 728  \n",
       "3                 728  \n",
       "4                 728  \n",
       "5                 568  \n",
       "6                 568  \n",
       "7                 568  \n",
       "8                 568  \n",
       "9                 568  \n",
       "10                511  \n",
       "11                511  \n",
       "12                511  \n",
       "13                511  \n",
       "14                511  \n",
       "15                505  \n",
       "16                505  \n",
       "17                505  \n",
       "18                505  \n",
       "19                505  \n",
       "20                468  \n",
       "21                468  \n",
       "22                468  \n",
       "23                468  \n",
       "24                468  "
      ]
     },
     "execution_count": 2,
     "metadata": {},
     "output_type": "execute_result"
    }
   ],
   "source": [
    "from src.classes.analyze_value_specifications import SpecificationsValueAnalyzer\n",
    "\n",
    "analyzer = SpecificationsValueAnalyzer(df)\n",
    "value_analysis = analyzer.get_top_values(top_keys=5, top_values=5)\n",
    "value_analysis"
   ]
  },
  {
   "cell_type": "code",
   "execution_count": 3,
   "id": "d9cfc9ba",
   "metadata": {},
   "outputs": [
    {
     "data": {
      "application/vnd.plotly.v1+json": {
       "config": {
        "plotlyServerURL": "https://plot.ly"
       },
       "data": [
        {
         "branchvalues": "total",
         "domain": {
          "x": [
           0,
           1
          ],
          "y": [
           0,
           1
          ]
         },
         "hovertemplate": "labels=%{label}<br>count=%{value}<br>parent=%{parent}<br>id=%{id}<extra></extra>",
         "ids": [
          "Specifications/Type/Analog",
          "Specifications/Type/Mug",
          "Specifications/Type/Ethnic",
          "Specifications/Type/Wireless Without modem",
          "Specifications/Type/Religious Idols",
          "Specifications/Type/Blanket",
          "Specifications/Type/Kadhai",
          "Specifications/Type/Quilts and Comforters",
          "Specifications/Type/Eyelet",
          "Specifications/Type/Led Light",
          "Specifications/Type/Digital",
          "Specifications/Type/Bath Towel",
          "Specifications/Type/Square",
          "Specifications/Type/Wireless With Modem",
          "Specifications/Type/Flat",
          "Specifications/Type/Human Figurines",
          "Specifications/Type/Gathered",
          "Specifications/Type/Range Extenders/Repeaters",
          "Specifications/Type/Dohar",
          "Specifications/Type/Set of Towels",
          "Specifications/Brand/Lapguard",
          "Specifications/Brand/PRINT SHAPES",
          "Specifications/Brand/Lal Haveli",
          "Specifications/Brand/Raymond",
          "Specifications/Brand/Aroma Comfort",
          "Specifications/Brand/Tenda",
          "Specifications/Brand/Smartpro",
          "Specifications/Brand/Wallmantra",
          "Specifications/Brand/Asus",
          "Specifications/Brand/HP",
          "Specifications/Brand/Home Originals",
          "Specifications/Brand/Exotic India",
          "Specifications/Brand/TRENDnet",
          "Specifications/Brand/Edimax",
          "Specifications/Brand/Rega IT",
          "Specifications/Brand/Sapatos",
          "Specifications/Brand/D-Link",
          "Specifications/Brand/TP-LINK",
          "Specifications/Brand/Netgear",
          "Specifications/Brand/Cotonex",
          "Specifications/Sales Package/1 Mug",
          "Specifications/Sales Package/1 Showpiece Figurine",
          "Specifications/Sales Package/1 mug",
          "Specifications/Sales Package/Blanket",
          "Specifications/Sales Package/1 Laptop Adapter",
          "Specifications/Sales Package/1 Kadhai",
          "Specifications/Sales Package/1 Showpiece",
          "Specifications/Sales Package/1 Pizza Cutter",
          "Specifications/Sales Package/2 Blankets",
          "Specifications/Sales Package/800 ML Bottle",
          "Specifications/Sales Package/Bath Towel",
          "Specifications/Sales Package/1 Blanket",
          "Specifications/Sales Package/USB Gadget",
          "Specifications/Sales Package/1 Sticker",
          "Specifications/Sales Package/2 Showpiece Figurine",
          "Specifications/Sales Package/2 Glove",
          "Specifications/Sales Package/Table Runner",
          "Specifications/Sales Package/1 Rajai",
          "Specifications/Sales Package/1 Bulb",
          "Specifications/Sales Package/One Jaipuri Print Light Weight Quilt",
          "Specifications/Color/Multicolor",
          "Specifications/Color/Black",
          "Specifications/Color/White",
          "Specifications/Color/Blue",
          "Specifications/Color/Gold",
          "Specifications/Color/Brown",
          "Specifications/Color/Green",
          "Specifications/Color/Silver",
          "Specifications/Color/Pink",
          "Specifications/Color/Yellow",
          "Specifications/Color/Red",
          "Specifications/Color/Grey",
          "Specifications/Color/Orange",
          "Specifications/Color/Purple",
          "Specifications/Color/Beige",
          "Specifications/Color/Copper",
          "Specifications/Color/Maroon",
          "Specifications/Color/Black, White",
          "Specifications/Color/Clear",
          "Specifications/Color/Steel",
          "Specifications/Ideal For/Men",
          "Specifications/Ideal For/Women",
          "Specifications/Ideal For/Men, Women",
          "Specifications/Ideal For/Baby Girl's",
          "Specifications/Ideal For/Men and Women",
          "Specifications/Ideal For/Baby Boy's",
          "Specifications/Ideal For/Boys, Girls",
          "Specifications/Ideal For/Boys",
          "Specifications/Ideal For/Girls",
          "Specifications/Ideal For/Men, Boys",
          "Specifications/Ideal For/Boys, Men",
          "Specifications/Ideal For/Girls, Women",
          "Specifications/Ideal For/Boys and Girls",
          "Specifications/Ideal For/Men, Women, Boys, Girls",
          "Specifications/Ideal For/Women, Men",
          "Specifications/Ideal For/Baby Boy's, Baby Girl's",
          "Specifications/Ideal For/Women, Girls",
          "Specifications/Ideal For/Baby Boys and Baby Girls",
          "Specifications/Ideal For/Girls, Boys",
          "Specifications/Ideal For/Boys, Girls, Men, Women",
          "Specifications/Material/Ceramic",
          "Specifications/Material/Cotton",
          "Specifications/Material/Brass",
          "Specifications/Material/Polyester",
          "Specifications/Material/Plastic",
          "Specifications/Material/Wooden",
          "Specifications/Material/Aluminium",
          "Specifications/Material/Glass",
          "Specifications/Material/Stoneware",
          "Specifications/Material/Stainless Steel",
          "Specifications/Material/Polyresin",
          "Specifications/Material/Copper",
          "Specifications/Material/Velvet",
          "Specifications/Material/Vinyl",
          "Specifications/Material/PVC",
          "Specifications/Material/Crystal",
          "Specifications/Material/Iron",
          "Specifications/Material/Nylon",
          "Specifications/Material/Rubber",
          "Specifications/Material/PLASTIC",
          "Specifications/Width/80 mm",
          "Specifications/Width/88 mm",
          "Specifications/Width/15 inch / 40 cm",
          "Specifications/Width/59 inch / 150 cm",
          "Specifications/Width/10 cm",
          "Specifications/Width/15 cm",
          "Specifications/Width/86 inch / 220 cm",
          "Specifications/Width/60 inch / 152.4 cm",
          "Specifications/Width/3 cm",
          "Specifications/Width/12 inch",
          "Specifications/Width/6 cm",
          "Specifications/Width/11 cm",
          "Specifications/Width/4 cm",
          "Specifications/Width/90 inch / 229 cm",
          "Specifications/Width/19 inch / 50 cm",
          "Specifications/Width/23 cm",
          "Specifications/Width/12.7 cm",
          "Specifications/Width/5 cm",
          "Specifications/Width/30 inch",
          "Specifications/Width/9 inch",
          "Specifications/Model Name/Double Blanket",
          "Specifications/Model Name/4 u design",
          "Specifications/Model Name/Floral Jaipuri Printed Quilt",
          "Specifications/Model Name/Single Blanket",
          "Specifications/Model Name/Hard Anodised",
          "Specifications/Model Name/100% Egyptian",
          "Specifications/Model Name/Baby Bath Towel",
          "Specifications/Model Name/Plain With Lace",
          "Specifications/Model Name/Plain",
          "Specifications/Model Name/Plain Box Quilted Brown Single Duvet",
          "Specifications/Model Name/Teddy Blanket",
          "Specifications/Model Name/Hooded Receiving",
          "Specifications/Model Name/Portable",
          "Specifications/Model Name/Mink",
          "Specifications/Model Name/PATTA",
          "Specifications/Model Name/Abstract Polyester Door Curtain Set Of 2",
          "Specifications/Model Name/Sathiyas cotton bath towel",
          "Specifications/Model Name/SHUVAM20PCFTSETASSORTED",
          "Specifications/Model Name/Gold Design Royal Cotton Printed Wedding and Gifted Double Bedsheet With 2 Pillow cover",
          "Specifications/Model Name/jaipur117",
          "Specifications/Weight/300 g",
          "Specifications/Weight/350 g",
          "Specifications/Weight/500 g",
          "Specifications/Weight/250 g",
          "Specifications/Weight/100 g",
          "Specifications/Weight/450 g",
          "Specifications/Weight/340 g",
          "Specifications/Weight/150 g",
          "Specifications/Weight/400 g",
          "Specifications/Weight/1800 g",
          "Specifications/Weight/50 g",
          "Specifications/Weight/200 g",
          "Specifications/Weight/1500 g",
          "Specifications/Weight/330 g",
          "Specifications/Weight/600 g",
          "Specifications/Weight/1980 g",
          "Specifications/Weight/40 g",
          "Specifications/Weight/900 g",
          "Specifications/Weight/1000 g",
          "Specifications/Weight/750 g",
          "Specifications/Number of Contents in Sales Package/Pack of 1",
          "Specifications/Number of Contents in Sales Package/1",
          "Specifications/Number of Contents in Sales Package/Pack of 2",
          "Specifications/Number of Contents in Sales Package/2",
          "Specifications/Number of Contents in Sales Package/Pack of 3",
          "Specifications/Number of Contents in Sales Package/Pack of 5",
          "Specifications/Number of Contents in Sales Package/Pack of 6",
          "Specifications/Number of Contents in Sales Package/Pack of 4",
          "Specifications/Number of Contents in Sales Package/Pack of 8",
          "Specifications/Number of Contents in Sales Package/5",
          "Specifications/Number of Contents in Sales Package/6",
          "Specifications/Number of Contents in Sales Package/3",
          "Specifications/Number of Contents in Sales Package/Pack of 10",
          "Specifications/Number of Contents in Sales Package/4",
          "Specifications/Number of Contents in Sales Package/8",
          "Specifications/Number of Contents in Sales Package/20",
          "Specifications/Number of Contents in Sales Package/Pack of 7",
          "Specifications/Number of Contents in Sales Package/Pack of 9",
          "Specifications/Number of Contents in Sales Package/Pack of 55",
          "Specifications/Type",
          "Specifications/Brand",
          "Specifications/Sales Package",
          "Specifications/Color",
          "Specifications/Ideal For",
          "Specifications/Material",
          "Specifications/Width",
          "Specifications/Model Name",
          "Specifications/Weight",
          "Specifications/Number of Contents in Sales Package",
          "Specifications"
         ],
         "labels": [
          "Analog",
          "Mug",
          "Ethnic",
          "Wireless Without modem",
          "Religious Idols",
          "Blanket",
          "Kadhai",
          "Quilts and Comforters",
          "Eyelet",
          "Led Light",
          "Digital",
          "Bath Towel",
          "Square",
          "Wireless With Modem",
          "Flat",
          "Human Figurines",
          "Gathered",
          "Range Extenders/Repeaters",
          "Dohar",
          "Set of Towels",
          "Lapguard",
          "PRINT SHAPES",
          "Lal Haveli",
          "Raymond",
          "Aroma Comfort",
          "Tenda",
          "Smartpro",
          "Wallmantra",
          "Asus",
          "HP",
          "Home Originals",
          "Exotic India",
          "TRENDnet",
          "Edimax",
          "Rega IT",
          "Sapatos",
          "D-Link",
          "TP-LINK",
          "Netgear",
          "Cotonex",
          "1 Mug",
          "1 Showpiece Figurine",
          "1 mug",
          "Blanket",
          "1 Laptop Adapter",
          "1 Kadhai",
          "1 Showpiece",
          "1 Pizza Cutter",
          "2 Blankets",
          "800 ML Bottle",
          "Bath Towel",
          "1 Blanket",
          "USB Gadget",
          "1 Sticker",
          "2 Showpiece Figurine",
          "2 Glove",
          "Table Runner",
          "1 Rajai",
          "1 Bulb",
          "One Jaipuri Print Light Weight Quilt",
          "Multicolor",
          "Black",
          "White",
          "Blue",
          "Gold",
          "Brown",
          "Green",
          "Silver",
          "Pink",
          "Yellow",
          "Red",
          "Grey",
          "Orange",
          "Purple",
          "Beige",
          "Copper",
          "Maroon",
          "Black, White",
          "Clear",
          "Steel",
          "Men",
          "Women",
          "Men, Women",
          "Baby Girl's",
          "Men and Women",
          "Baby Boy's",
          "Boys, Girls",
          "Boys",
          "Girls",
          "Men, Boys",
          "Boys, Men",
          "Girls, Women",
          "Boys and Girls",
          "Men, Women, Boys, Girls",
          "Women, Men",
          "Baby Boy's, Baby Girl's",
          "Women, Girls",
          "Baby Boys and Baby Girls",
          "Girls, Boys",
          "Boys, Girls, Men, Women",
          "Ceramic",
          "Cotton",
          "Brass",
          "Polyester",
          "Plastic",
          "Wooden",
          "Aluminium",
          "Glass",
          "Stoneware",
          "Stainless Steel",
          "Polyresin",
          "Copper",
          "Velvet",
          "Vinyl",
          "PVC",
          "Crystal",
          "Iron",
          "Nylon",
          "Rubber",
          "PLASTIC",
          "80 mm",
          "88 mm",
          "15 inch / 40 cm",
          "59 inch / 150 cm",
          "10 cm",
          "15 cm",
          "86 inch / 220 cm",
          "60 inch / 152.4 cm",
          "3 cm",
          "12 inch",
          "6 cm",
          "11 cm",
          "4 cm",
          "90 inch / 229 cm",
          "19 inch / 50 cm",
          "23 cm",
          "12.7 cm",
          "5 cm",
          "30 inch",
          "9 inch",
          "Double Blanket",
          "4 u design",
          "Floral Jaipuri Printed Quilt",
          "Single Blanket",
          "Hard Anodised",
          "100% Egyptian",
          "Baby Bath Towel",
          "Plain With Lace",
          "Plain",
          "Plain Box Quilted Brown Single Duvet",
          "Teddy Blanket",
          "Hooded Receiving",
          "Portable",
          "Mink",
          "PATTA",
          "Abstract Polyester Door Curtain Set Of 2",
          "Sathiyas cotton bath towel",
          "SHUVAM20PCFTSETASSORTED",
          "Gold Design Royal Cotton Printed Wedding and Gifted Double Bedsheet With 2 Pillow cover",
          "jaipur117",
          "300 g",
          "350 g",
          "500 g",
          "250 g",
          "100 g",
          "450 g",
          "340 g",
          "150 g",
          "400 g",
          "1800 g",
          "50 g",
          "200 g",
          "1500 g",
          "330 g",
          "600 g",
          "1980 g",
          "40 g",
          "900 g",
          "1000 g",
          "750 g",
          "Pack of 1",
          "1",
          "Pack of 2",
          "2",
          "Pack of 3",
          "Pack of 5",
          "Pack of 6",
          "Pack of 4",
          "Pack of 8",
          "5",
          "6",
          "3",
          "Pack of 10",
          "4",
          "8",
          "20",
          "Pack of 7",
          "Pack of 9",
          "Pack of 55",
          "Type",
          "Brand",
          "Sales Package",
          "Color",
          "Ideal For",
          "Material",
          "Width",
          "Model Name",
          "Weight",
          "Number of Contents in Sales Package",
          "Specifications"
         ],
         "name": "",
         "parents": [
          "Specifications/Type",
          "Specifications/Type",
          "Specifications/Type",
          "Specifications/Type",
          "Specifications/Type",
          "Specifications/Type",
          "Specifications/Type",
          "Specifications/Type",
          "Specifications/Type",
          "Specifications/Type",
          "Specifications/Type",
          "Specifications/Type",
          "Specifications/Type",
          "Specifications/Type",
          "Specifications/Type",
          "Specifications/Type",
          "Specifications/Type",
          "Specifications/Type",
          "Specifications/Type",
          "Specifications/Type",
          "Specifications/Brand",
          "Specifications/Brand",
          "Specifications/Brand",
          "Specifications/Brand",
          "Specifications/Brand",
          "Specifications/Brand",
          "Specifications/Brand",
          "Specifications/Brand",
          "Specifications/Brand",
          "Specifications/Brand",
          "Specifications/Brand",
          "Specifications/Brand",
          "Specifications/Brand",
          "Specifications/Brand",
          "Specifications/Brand",
          "Specifications/Brand",
          "Specifications/Brand",
          "Specifications/Brand",
          "Specifications/Brand",
          "Specifications/Brand",
          "Specifications/Sales Package",
          "Specifications/Sales Package",
          "Specifications/Sales Package",
          "Specifications/Sales Package",
          "Specifications/Sales Package",
          "Specifications/Sales Package",
          "Specifications/Sales Package",
          "Specifications/Sales Package",
          "Specifications/Sales Package",
          "Specifications/Sales Package",
          "Specifications/Sales Package",
          "Specifications/Sales Package",
          "Specifications/Sales Package",
          "Specifications/Sales Package",
          "Specifications/Sales Package",
          "Specifications/Sales Package",
          "Specifications/Sales Package",
          "Specifications/Sales Package",
          "Specifications/Sales Package",
          "Specifications/Sales Package",
          "Specifications/Color",
          "Specifications/Color",
          "Specifications/Color",
          "Specifications/Color",
          "Specifications/Color",
          "Specifications/Color",
          "Specifications/Color",
          "Specifications/Color",
          "Specifications/Color",
          "Specifications/Color",
          "Specifications/Color",
          "Specifications/Color",
          "Specifications/Color",
          "Specifications/Color",
          "Specifications/Color",
          "Specifications/Color",
          "Specifications/Color",
          "Specifications/Color",
          "Specifications/Color",
          "Specifications/Color",
          "Specifications/Ideal For",
          "Specifications/Ideal For",
          "Specifications/Ideal For",
          "Specifications/Ideal For",
          "Specifications/Ideal For",
          "Specifications/Ideal For",
          "Specifications/Ideal For",
          "Specifications/Ideal For",
          "Specifications/Ideal For",
          "Specifications/Ideal For",
          "Specifications/Ideal For",
          "Specifications/Ideal For",
          "Specifications/Ideal For",
          "Specifications/Ideal For",
          "Specifications/Ideal For",
          "Specifications/Ideal For",
          "Specifications/Ideal For",
          "Specifications/Ideal For",
          "Specifications/Ideal For",
          "Specifications/Ideal For",
          "Specifications/Material",
          "Specifications/Material",
          "Specifications/Material",
          "Specifications/Material",
          "Specifications/Material",
          "Specifications/Material",
          "Specifications/Material",
          "Specifications/Material",
          "Specifications/Material",
          "Specifications/Material",
          "Specifications/Material",
          "Specifications/Material",
          "Specifications/Material",
          "Specifications/Material",
          "Specifications/Material",
          "Specifications/Material",
          "Specifications/Material",
          "Specifications/Material",
          "Specifications/Material",
          "Specifications/Material",
          "Specifications/Width",
          "Specifications/Width",
          "Specifications/Width",
          "Specifications/Width",
          "Specifications/Width",
          "Specifications/Width",
          "Specifications/Width",
          "Specifications/Width",
          "Specifications/Width",
          "Specifications/Width",
          "Specifications/Width",
          "Specifications/Width",
          "Specifications/Width",
          "Specifications/Width",
          "Specifications/Width",
          "Specifications/Width",
          "Specifications/Width",
          "Specifications/Width",
          "Specifications/Width",
          "Specifications/Width",
          "Specifications/Model Name",
          "Specifications/Model Name",
          "Specifications/Model Name",
          "Specifications/Model Name",
          "Specifications/Model Name",
          "Specifications/Model Name",
          "Specifications/Model Name",
          "Specifications/Model Name",
          "Specifications/Model Name",
          "Specifications/Model Name",
          "Specifications/Model Name",
          "Specifications/Model Name",
          "Specifications/Model Name",
          "Specifications/Model Name",
          "Specifications/Model Name",
          "Specifications/Model Name",
          "Specifications/Model Name",
          "Specifications/Model Name",
          "Specifications/Model Name",
          "Specifications/Model Name",
          "Specifications/Weight",
          "Specifications/Weight",
          "Specifications/Weight",
          "Specifications/Weight",
          "Specifications/Weight",
          "Specifications/Weight",
          "Specifications/Weight",
          "Specifications/Weight",
          "Specifications/Weight",
          "Specifications/Weight",
          "Specifications/Weight",
          "Specifications/Weight",
          "Specifications/Weight",
          "Specifications/Weight",
          "Specifications/Weight",
          "Specifications/Weight",
          "Specifications/Weight",
          "Specifications/Weight",
          "Specifications/Weight",
          "Specifications/Weight",
          "Specifications/Number of Contents in Sales Package",
          "Specifications/Number of Contents in Sales Package",
          "Specifications/Number of Contents in Sales Package",
          "Specifications/Number of Contents in Sales Package",
          "Specifications/Number of Contents in Sales Package",
          "Specifications/Number of Contents in Sales Package",
          "Specifications/Number of Contents in Sales Package",
          "Specifications/Number of Contents in Sales Package",
          "Specifications/Number of Contents in Sales Package",
          "Specifications/Number of Contents in Sales Package",
          "Specifications/Number of Contents in Sales Package",
          "Specifications/Number of Contents in Sales Package",
          "Specifications/Number of Contents in Sales Package",
          "Specifications/Number of Contents in Sales Package",
          "Specifications/Number of Contents in Sales Package",
          "Specifications/Number of Contents in Sales Package",
          "Specifications/Number of Contents in Sales Package",
          "Specifications/Number of Contents in Sales Package",
          "Specifications/Number of Contents in Sales Package",
          "Specifications",
          "Specifications",
          "Specifications",
          "Specifications",
          "Specifications",
          "Specifications",
          "Specifications",
          "Specifications",
          "Specifications",
          "Specifications",
          ""
         ],
         "type": "sunburst",
         "values": {
          "bdata": "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",
          "dtype": "f8"
         }
        }
       ],
       "layout": {
        "height": 900,
        "legend": {
         "tracegroupgap": 0
        },
        "margin": {
         "b": 0,
         "l": 0,
         "r": 0,
         "t": 50
        },
        "template": {
         "data": {
          "bar": [
           {
            "error_x": {
             "color": "#2a3f5f"
            },
            "error_y": {
             "color": "#2a3f5f"
            },
            "marker": {
             "line": {
              "color": "#E5ECF6",
              "width": 0.5
             },
             "pattern": {
              "fillmode": "overlay",
              "size": 10,
              "solidity": 0.2
             }
            },
            "type": "bar"
           }
          ],
          "barpolar": [
           {
            "marker": {
             "line": {
              "color": "#E5ECF6",
              "width": 0.5
             },
             "pattern": {
              "fillmode": "overlay",
              "size": 10,
              "solidity": 0.2
             }
            },
            "type": "barpolar"
           }
          ],
          "carpet": [
           {
            "aaxis": {
             "endlinecolor": "#2a3f5f",
             "gridcolor": "white",
             "linecolor": "white",
             "minorgridcolor": "white",
             "startlinecolor": "#2a3f5f"
            },
            "baxis": {
             "endlinecolor": "#2a3f5f",
             "gridcolor": "white",
             "linecolor": "white",
             "minorgridcolor": "white",
             "startlinecolor": "#2a3f5f"
            },
            "type": "carpet"
           }
          ],
          "choropleth": [
           {
            "colorbar": {
             "outlinewidth": 0,
             "ticks": ""
            },
            "type": "choropleth"
           }
          ],
          "contour": [
           {
            "colorbar": {
             "outlinewidth": 0,
             "ticks": ""
            },
            "colorscale": [
             [
              0,
              "#0d0887"
             ],
             [
              0.1111111111111111,
              "#46039f"
             ],
             [
              0.2222222222222222,
              "#7201a8"
             ],
             [
              0.3333333333333333,
              "#9c179e"
             ],
             [
              0.4444444444444444,
              "#bd3786"
             ],
             [
              0.5555555555555556,
              "#d8576b"
             ],
             [
              0.6666666666666666,
              "#ed7953"
             ],
             [
              0.7777777777777778,
              "#fb9f3a"
             ],
             [
              0.8888888888888888,
              "#fdca26"
             ],
             [
              1,
              "#f0f921"
             ]
            ],
            "type": "contour"
           }
          ],
          "contourcarpet": [
           {
            "colorbar": {
             "outlinewidth": 0,
             "ticks": ""
            },
            "type": "contourcarpet"
           }
          ],
          "heatmap": [
           {
            "colorbar": {
             "outlinewidth": 0,
             "ticks": ""
            },
            "colorscale": [
             [
              0,
              "#0d0887"
             ],
             [
              0.1111111111111111,
              "#46039f"
             ],
             [
              0.2222222222222222,
              "#7201a8"
             ],
             [
              0.3333333333333333,
              "#9c179e"
             ],
             [
              0.4444444444444444,
              "#bd3786"
             ],
             [
              0.5555555555555556,
              "#d8576b"
             ],
             [
              0.6666666666666666,
              "#ed7953"
             ],
             [
              0.7777777777777778,
              "#fb9f3a"
             ],
             [
              0.8888888888888888,
              "#fdca26"
             ],
             [
              1,
              "#f0f921"
             ]
            ],
            "type": "heatmap"
           }
          ],
          "histogram": [
           {
            "marker": {
             "pattern": {
              "fillmode": "overlay",
              "size": 10,
              "solidity": 0.2
             }
            },
            "type": "histogram"
           }
          ],
          "histogram2d": [
           {
            "colorbar": {
             "outlinewidth": 0,
             "ticks": ""
            },
            "colorscale": [
             [
              0,
              "#0d0887"
             ],
             [
              0.1111111111111111,
              "#46039f"
             ],
             [
              0.2222222222222222,
              "#7201a8"
             ],
             [
              0.3333333333333333,
              "#9c179e"
             ],
             [
              0.4444444444444444,
              "#bd3786"
             ],
             [
              0.5555555555555556,
              "#d8576b"
             ],
             [
              0.6666666666666666,
              "#ed7953"
             ],
             [
              0.7777777777777778,
              "#fb9f3a"
             ],
             [
              0.8888888888888888,
              "#fdca26"
             ],
             [
              1,
              "#f0f921"
             ]
            ],
            "type": "histogram2d"
           }
          ],
          "histogram2dcontour": [
           {
            "colorbar": {
             "outlinewidth": 0,
             "ticks": ""
            },
            "colorscale": [
             [
              0,
              "#0d0887"
             ],
             [
              0.1111111111111111,
              "#46039f"
             ],
             [
              0.2222222222222222,
              "#7201a8"
             ],
             [
              0.3333333333333333,
              "#9c179e"
             ],
             [
              0.4444444444444444,
              "#bd3786"
             ],
             [
              0.5555555555555556,
              "#d8576b"
             ],
             [
              0.6666666666666666,
              "#ed7953"
             ],
             [
              0.7777777777777778,
              "#fb9f3a"
             ],
             [
              0.8888888888888888,
              "#fdca26"
             ],
             [
              1,
              "#f0f921"
             ]
            ],
            "type": "histogram2dcontour"
           }
          ],
          "mesh3d": [
           {
            "colorbar": {
             "outlinewidth": 0,
             "ticks": ""
            },
            "type": "mesh3d"
           }
          ],
          "parcoords": [
           {
            "line": {
             "colorbar": {
              "outlinewidth": 0,
              "ticks": ""
             }
            },
            "type": "parcoords"
           }
          ],
          "pie": [
           {
            "automargin": true,
            "type": "pie"
           }
          ],
          "scatter": [
           {
            "fillpattern": {
             "fillmode": "overlay",
             "size": 10,
             "solidity": 0.2
            },
            "type": "scatter"
           }
          ],
          "scatter3d": [
           {
            "line": {
             "colorbar": {
              "outlinewidth": 0,
              "ticks": ""
             }
            },
            "marker": {
             "colorbar": {
              "outlinewidth": 0,
              "ticks": ""
             }
            },
            "type": "scatter3d"
           }
          ],
          "scattercarpet": [
           {
            "marker": {
             "colorbar": {
              "outlinewidth": 0,
              "ticks": ""
             }
            },
            "type": "scattercarpet"
           }
          ],
          "scattergeo": [
           {
            "marker": {
             "colorbar": {
              "outlinewidth": 0,
              "ticks": ""
             }
            },
            "type": "scattergeo"
           }
          ],
          "scattergl": [
           {
            "marker": {
             "colorbar": {
              "outlinewidth": 0,
              "ticks": ""
             }
            },
            "type": "scattergl"
           }
          ],
          "scattermap": [
           {
            "marker": {
             "colorbar": {
              "outlinewidth": 0,
              "ticks": ""
             }
            },
            "type": "scattermap"
           }
          ],
          "scattermapbox": [
           {
            "marker": {
             "colorbar": {
              "outlinewidth": 0,
              "ticks": ""
             }
            },
            "type": "scattermapbox"
           }
          ],
          "scatterpolar": [
           {
            "marker": {
             "colorbar": {
              "outlinewidth": 0,
              "ticks": ""
             }
            },
            "type": "scatterpolar"
           }
          ],
          "scatterpolargl": [
           {
            "marker": {
             "colorbar": {
              "outlinewidth": 0,
              "ticks": ""
             }
            },
            "type": "scatterpolargl"
           }
          ],
          "scatterternary": [
           {
            "marker": {
             "colorbar": {
              "outlinewidth": 0,
              "ticks": ""
             }
            },
            "type": "scatterternary"
           }
          ],
          "surface": [
           {
            "colorbar": {
             "outlinewidth": 0,
             "ticks": ""
            },
            "colorscale": [
             [
              0,
              "#0d0887"
             ],
             [
              0.1111111111111111,
              "#46039f"
             ],
             [
              0.2222222222222222,
              "#7201a8"
             ],
             [
              0.3333333333333333,
              "#9c179e"
             ],
             [
              0.4444444444444444,
              "#bd3786"
             ],
             [
              0.5555555555555556,
              "#d8576b"
             ],
             [
              0.6666666666666666,
              "#ed7953"
             ],
             [
              0.7777777777777778,
              "#fb9f3a"
             ],
             [
              0.8888888888888888,
              "#fdca26"
             ],
             [
              1,
              "#f0f921"
             ]
            ],
            "type": "surface"
           }
          ],
          "table": [
           {
            "cells": {
             "fill": {
              "color": "#EBF0F8"
             },
             "line": {
              "color": "white"
             }
            },
            "header": {
             "fill": {
              "color": "#C8D4E3"
             },
             "line": {
              "color": "white"
             }
            },
            "type": "table"
           }
          ]
         },
         "layout": {
          "annotationdefaults": {
           "arrowcolor": "#2a3f5f",
           "arrowhead": 0,
           "arrowwidth": 1
          },
          "autotypenumbers": "strict",
          "coloraxis": {
           "colorbar": {
            "outlinewidth": 0,
            "ticks": ""
           }
          },
          "colorscale": {
           "diverging": [
            [
             0,
             "#8e0152"
            ],
            [
             0.1,
             "#c51b7d"
            ],
            [
             0.2,
             "#de77ae"
            ],
            [
             0.3,
             "#f1b6da"
            ],
            [
             0.4,
             "#fde0ef"
            ],
            [
             0.5,
             "#f7f7f7"
            ],
            [
             0.6,
             "#e6f5d0"
            ],
            [
             0.7,
             "#b8e186"
            ],
            [
             0.8,
             "#7fbc41"
            ],
            [
             0.9,
             "#4d9221"
            ],
            [
             1,
             "#276419"
            ]
           ],
           "sequential": [
            [
             0,
             "#0d0887"
            ],
            [
             0.1111111111111111,
             "#46039f"
            ],
            [
             0.2222222222222222,
             "#7201a8"
            ],
            [
             0.3333333333333333,
             "#9c179e"
            ],
            [
             0.4444444444444444,
             "#bd3786"
            ],
            [
             0.5555555555555556,
             "#d8576b"
            ],
            [
             0.6666666666666666,
             "#ed7953"
            ],
            [
             0.7777777777777778,
             "#fb9f3a"
            ],
            [
             0.8888888888888888,
             "#fdca26"
            ],
            [
             1,
             "#f0f921"
            ]
           ],
           "sequentialminus": [
            [
             0,
             "#0d0887"
            ],
            [
             0.1111111111111111,
             "#46039f"
            ],
            [
             0.2222222222222222,
             "#7201a8"
            ],
            [
             0.3333333333333333,
             "#9c179e"
            ],
            [
             0.4444444444444444,
             "#bd3786"
            ],
            [
             0.5555555555555556,
             "#d8576b"
            ],
            [
             0.6666666666666666,
             "#ed7953"
            ],
            [
             0.7777777777777778,
             "#fb9f3a"
            ],
            [
             0.8888888888888888,
             "#fdca26"
            ],
            [
             1,
             "#f0f921"
            ]
           ]
          },
          "colorway": [
           "#636efa",
           "#EF553B",
           "#00cc96",
           "#ab63fa",
           "#FFA15A",
           "#19d3f3",
           "#FF6692",
           "#B6E880",
           "#FF97FF",
           "#FECB52"
          ],
          "font": {
           "color": "#2a3f5f"
          },
          "geo": {
           "bgcolor": "white",
           "lakecolor": "white",
           "landcolor": "#E5ECF6",
           "showlakes": true,
           "showland": true,
           "subunitcolor": "white"
          },
          "hoverlabel": {
           "align": "left"
          },
          "hovermode": "closest",
          "mapbox": {
           "style": "light"
          },
          "paper_bgcolor": "white",
          "plot_bgcolor": "#E5ECF6",
          "polar": {
           "angularaxis": {
            "gridcolor": "white",
            "linecolor": "white",
            "ticks": ""
           },
           "bgcolor": "#E5ECF6",
           "radialaxis": {
            "gridcolor": "white",
            "linecolor": "white",
            "ticks": ""
           }
          },
          "scene": {
           "xaxis": {
            "backgroundcolor": "#E5ECF6",
            "gridcolor": "white",
            "gridwidth": 2,
            "linecolor": "white",
            "showbackground": true,
            "ticks": "",
            "zerolinecolor": "white"
           },
           "yaxis": {
            "backgroundcolor": "#E5ECF6",
            "gridcolor": "white",
            "gridwidth": 2,
            "linecolor": "white",
            "showbackground": true,
            "ticks": "",
            "zerolinecolor": "white"
           },
           "zaxis": {
            "backgroundcolor": "#E5ECF6",
            "gridcolor": "white",
            "gridwidth": 2,
            "linecolor": "white",
            "showbackground": true,
            "ticks": "",
            "zerolinecolor": "white"
           }
          },
          "shapedefaults": {
           "line": {
            "color": "#2a3f5f"
           }
          },
          "ternary": {
           "aaxis": {
            "gridcolor": "white",
            "linecolor": "white",
            "ticks": ""
           },
           "baxis": {
            "gridcolor": "white",
            "linecolor": "white",
            "ticks": ""
           },
           "bgcolor": "#E5ECF6",
           "caxis": {
            "gridcolor": "white",
            "linecolor": "white",
            "ticks": ""
           }
          },
          "title": {
           "x": 0.05
          },
          "xaxis": {
           "automargin": true,
           "gridcolor": "white",
           "linecolor": "white",
           "ticks": "",
           "title": {
            "standoff": 15
           },
           "zerolinecolor": "white",
           "zerolinewidth": 2
          },
          "yaxis": {
           "automargin": true,
           "gridcolor": "white",
           "linecolor": "white",
           "ticks": "",
           "title": {
            "standoff": 15
           },
           "zerolinecolor": "white",
           "zerolinewidth": 2
          }
         }
        },
        "title": {
         "text": "Product Specifications Hierarchy"
        },
        "uniformtext": {
         "minsize": 10,
         "mode": "hide"
        },
        "width": 900
       }
      }
     },
     "metadata": {},
     "output_type": "display_data"
    }
   ],
   "source": [
    "\n",
    "fig = analyzer.create_radial_icicle_chart(top_keys=10, top_values=20)\n",
    "fig.show()"
   ]
  },
  {
   "cell_type": "code",
   "execution_count": 4,
   "id": "001319bf",
   "metadata": {},
   "outputs": [
    {
     "data": {
      "application/vnd.plotly.v1+json": {
       "config": {
        "plotlyServerURL": "https://plot.ly"
       },
       "data": [
        {
         "branchvalues": "total",
         "ids": [
          "Home Furnishing",
          "Home Furnishing >> Curtains & Accessories",
          "Home Furnishing >> Curtains & Accessories >> Curtains",
          "Home Furnishing >> Curtains & Accessories >> Curtains >> Elegance Polyester Multicolor Abstract Eyelet Do...",
          "Baby Care",
          "Baby Care >> Baby Bath & Skin",
          "Baby Care >> Baby Bath & Skin >> Baby Bath Towels",
          "Baby Care >> Baby Bath & Skin >> Baby Bath Towels >> Sathiyas Baby Bath Towels",
          "Baby Care >> Baby Bath & Skin >> Baby Bath Towels >> Sathiyas Baby Bath Towels >> Sathiyas Cotton Bath Towel (3 Bath Towel, Red, Y...",
          "Baby Care >> Baby Bath & Skin >> Baby Bath Towels >> Eurospa Baby Bath Towels",
          "Baby Care >> Baby Bath & Skin >> Baby Bath Towels >> Eurospa Baby Bath Towels >> Eurospa Cotton Terry Face Towel Set (20 PIECE FA...",
          "Home Furnishing >> Bed Linen",
          "Home Furnishing >> Bed Linen >> Bedsheets",
          "Home Furnishing >> Bed Linen >> Bedsheets >> SANTOSH ROYAL FASHION Bedsheets",
          "Home Furnishing >> Bed Linen >> Bedsheets >> SANTOSH ROYAL FASHION Bedsheets >> SANTOSH ROYAL FASHION Cotton Printed King sized ...",
          "Home Furnishing >> Bed Linen >> Bedsheets >> Jaipur Print Bedsheets",
          "Home Furnishing >> Bed Linen >> Bedsheets >> Jaipur Print Bedsheets >> Jaipur Print Cotton Floral King sized Double Bed...",
          "Watches",
          "Watches >> Wrist Watches",
          "Watches >> Wrist Watches >> Maserati Time Wrist Watches",
          "Watches >> Wrist Watches >> Camerii Wrist Watches",
          "Watches >> Wrist Watches >> T STAR Wrist Watches",
          "Watches >> Wrist Watches >> Alfajr Wrist Watches",
          "Watches >> Wrist Watches >> TAG Heuer Wrist Watches",
          "Watches >> Wrist Watches >> Calibro Wrist Watches",
          "Watches >> Wrist Watches >> Cartier Wrist Watches",
          "Watches >> Wrist Watches >> Lois Caron Wrist Watches",
          "Watches >> Wrist Watches >> Titan Wrist Watches",
          "Watches >> Wrist Watches >> Srushti Art Jewelry Wrist Watches",
          "Watches >> Wrist Watches >> Escort Wrist Watches",
          "Watches >> Wrist Watches >> Jack klein Wrist Watches",
          "Watches >> Wrist Watches >> North Moon Wrist Watches",
          "Watches >> Wrist Watches >> Franck Bella Wrist Watches",
          "Watches >> Wrist Watches >> Ridas Wrist Watches",
          "Watches >> Wrist Watches >> Skmei Wrist Watches",
          "Watches >> Wrist Watches >> Now Wrist Watches",
          "Watches >> Wrist Watches >> fastrack Wrist Watches",
          "Watches >> Wrist Watches >> Disney Wrist Watches",
          "Watches >> Wrist Watches >> Vizion Wrist Watches",
          "Watches >> Wrist Watches >> Elantra Wrist Watches",
          "Watches >> Wrist Watches >> Marvel Wrist Watches",
          "Watches >> Wrist Watches >> Lenco Wrist Watches",
          "Watches >> Wrist Watches >> D'Signer Wrist Watches",
          "Home Furnishing >> Living Room Furnishing",
          "Home Furnishing >> Living Room Furnishing >> Diwan Sets",
          "Home Furnishing >> Living Room Furnishing >> Diwan Sets >> SANTOSH ROYAL FASHION Diwan Sets",
          "Home Furnishing >> Living Room Furnishing >> Diwan Sets >> SANTOSH ROYAL FASHION Diwan Sets >> SANTOSH ROYAL FASHION Cotton Embroidered Diwan Set",
          "Home Furnishing >> Bed Linen >> Duvet Covers",
          "Home Furnishing >> Bed Linen >> Duvet Covers >> House This Duvet Covers",
          "Home Furnishing >> Bed Linen >> Duvet Covers >> House This Duvet Covers >> House This Queen Cotton Duvet Cover (Grey)",
          "Home Furnishing >> Bath Linen",
          "Home Furnishing >> Bath Linen >> Bath Mats",
          "Home Decor & Festive Needs",
          "Home Decor & Festive Needs >> Candles & Fragrances",
          "Home Decor & Festive Needs >> Candles & Fragrances >> Home Fragrances",
          "Home Decor & Festive Needs >> Candles & Fragrances >> Home Fragrances >> Aroma Oils",
          "Home Decor & Festive Needs >> Candles & Fragrances >> Home Fragrances >> Aroma Oils >> Myesquire Aroma Oils",
          "Kitchen & Dining",
          "Kitchen & Dining >> Tableware & Cutlery",
          "Kitchen & Dining >> Tableware & Cutlery >> Jug, Glass & Tray Sets",
          "Kitchen & Dining >> Tableware & Cutlery >> Jug, Glass & Tray Sets >> Dungri India Craft Jug, Glass & Tray Sets",
          "Kitchen & Dining >> Tableware & Cutlery >> Jug, Glass & Tray Sets >> Dungri India Craft Jug, Glass & Tray Sets >> Dungri India Craft Ducjug010-ducgl012-2 Jug Glas...",
          "Kitchen & Dining >> Lighting",
          "Kitchen & Dining >> Lighting >> Bulbs",
          "Kitchen & Dining >> Lighting >> Bulbs >> BFT Bulbs",
          "Kitchen & Dining >> Lighting >> Bulbs >> BFT Bulbs >> BFT 6 W LED Bulb (White)",
          "Home Furnishing >> JMD Home Furnishing",
          "Home Furnishing >> JMD Home Furnishing >> JMD Printed Cushions Cover (Pack of 2, 40 cm*40 ...",
          "Baby Care >> Infant Wear",
          "Baby Care >> Infant Wear >> Baby Girls' Clothes",
          "Baby Care >> Infant Wear >> Baby Girls' Clothes >> Innerwear & Sleepwear",
          "Baby Care >> Infant Wear >> Baby Girls' Clothes >> Innerwear & Sleepwear >> Night Suits",
          "Baby Care >> Infant Wear >> Baby Girls' Clothes >> Innerwear & Sleepwear >> Night Suits >> Mom and Kid Night Suits",
          "Baby Care >> Infant Wear >> Baby Girls' Clothes >> Innerwear & Sleepwear >> Night Suits >> Mom and Kid Night Suits >> Mom and Kid Baby Girl's Printed Green Top & Pyja...",
          "Home Furnishing >> Kripa's Home Furnishing",
          "Home Furnishing >> Kripa's Home Furnishing >> Kripa's Printed Cushions Cover (Pack of 2, 45 cm...",
          "Baby Care >> Infant Wear >> Baby Girls' Clothes >> Innerwear & Sleepwear >> Night Suits >> Mom and Kid Night Suits >> Mom and Kid Baby Girl's Printed Blue, Grey Top &...",
          "Beauty and Personal Care",
          "Beauty and Personal Care >> Hair Care",
          "Beauty and Personal Care >> Hair Care >> Conditioners",
          "Beauty and Personal Care >> Hair Care >> Conditioners >> Burt s Bees Conditioners",
          "Beauty and Personal Care >> Hair Care >> Conditioners >> Burt s Bees Conditioners >> Burt s Bees Hair Repair Shea And Grapefruit Deep...",
          "Kitchen & Dining >> Coffee Mugs",
          "Kitchen & Dining >> Coffee Mugs >> AKUP Coffee Mugs",
          "Kitchen & Dining >> Coffee Mugs >> AKUP Coffee Mugs >> AKUP i-loves-music Ceramic Mug (300 ml)",
          "Kitchen & Dining >> Coffee Mugs >> AKUP Coffee Mugs >> AKUP i-love-my-mom Ceramic Mug (300 ml)",
          "Kitchen & Dining >> Coffee Mugs >> AKUP Coffee Mugs >> AKUP keep-calm Ceramic Mug (300 ml)",
          "Computers",
          "Computers >> Network Components",
          "Computers >> Network Components >> Routers",
          "Computers >> Network Components >> Routers >> D-Link Routers",
          "Computers >> Network Components >> Routers >> D-Link Routers >> D-Link DAP1320 (White)",
          "Kitchen & Dining >> Coffee Mugs >> AKUP Coffee Mugs >> AKUP league-of-legends Ceramic Mug (300 ml)",
          "Beauty and Personal Care >> Hair Care >> Conditioners >> Suave Conditioners",
          "Beauty and Personal Care >> Hair Care >> Conditioners >> Suave Conditioners >> Suave Naturals Everlasting Sunshine Conditioner ...",
          "Kitchen & Dining >> Coffee Mugs >> AKUP Coffee Mugs >> AKUP life-is-not-living Ceramic Mug (300 ml)",
          "Computers >> Tablet Accessories",
          "Computers >> Tablet Accessories >> Keyboards",
          "Computers >> Tablet Accessories >> Keyboards >> RoQ Keyboards",
          "Computers >> Tablet Accessories >> Keyboards >> RoQ Keyboards >> RoQ Slim Multimedia 105key Flexible Wired USB Fl...",
          "Kitchen & Dining >> Cookware",
          "Kitchen & Dining >> Cookware >> Casserole & Sets",
          "Kitchen & Dining >> Cookware >> Casserole & Sets >> Cookart Casserole & Sets",
          "Kitchen & Dining >> Cookware >> Casserole & Sets >> Cookart Casserole & Sets >> Cookart Elegant S.S. Handi With Hot Pot Pack of ...",
          "Computers >> Laptop Accessories",
          "Computers >> Laptop Accessories >> USB Gadgets",
          "Computers >> Laptop Accessories >> USB Gadgets >> JRB USB Gadgets",
          "Computers >> Laptop Accessories >> USB Gadgets >> JRB USB Gadgets >> JRB 1038 Smallest Mobile Powered By OTG Enabled ...",
          "Computers >> Laptop Accessories >> USB Gadgets >> JRB USB Gadgets >> JRB 1033 Smallest Mobile Powered By OTG Enabled ...",
          "Computers >> Laptop Accessories >> USB Gadgets >> JRB USB Gadgets >> JRB 1042 Smallest Mobile Powered By OTG Enabled ...",
          "Beauty and Personal Care >> Makeup",
          "Beauty and Personal Care >> Makeup >> Vanity Boxes",
          "Beauty and Personal Care >> Makeup >> Vanity Boxes >> Borse Vanity Boxes",
          "Beauty and Personal Care >> Combos and Kits",
          "Beauty and Personal Care >> Combos and Kits >> RYTHMX Combos and Kits",
          "Beauty and Personal Care >> Combos and Kits >> RYTHMX Combos and Kits >> RYTHMX FB NAIL POLISHES BLACK LIPSTICKS IMPORTAN...",
          "Beauty and Personal Care >> Combos and Kits >> Brillare Science Combos and Kits",
          "Beauty and Personal Care >> Combos and Kits >> Brillare Science Combos and Kits >> Brillare Science Dandruff Control Shampoo & Inte...",
          "Beauty and Personal Care >> Combos and Kits >> Mars Combos and Kits",
          "Beauty and Personal Care >> Combos and Kits >> Mars Combos and Kits >> Mars Queen Eye Liner, Lip Gloss, EyeLiner (Set o...",
          "Beauty and Personal Care >> Makeup >> Nails",
          "Beauty and Personal Care >> Makeup >> Nails >> Nail Polishes",
          "Beauty and Personal Care >> Makeup >> Nails >> Nail Polishes >> Aroma Care Nail Polishes",
          "Beauty and Personal Care >> Makeup >> Nails >> Nail Polishes >> Aroma Care Nail Polishes >> Aroma Care Intense Color Nail Polish Combo 17505...",
          "Baby Care >> Feeding & Nursing",
          "Baby Care >> Feeding & Nursing >> Bottles & Accessories",
          "Baby Care >> Feeding & Nursing >> Bottles & Accessories >> Bottle Covers",
          "Baby Care >> Feeding & Nursing >> Bottles & Accessories >> Bottle Covers >> KOHL Bottle Covers",
          "Baby Care >> Feeding & Nursing >> Bottles & Accessories >> Bottle Covers >> KOHL Bottle Covers >> KOHL Wine Bag Yellow (Yellow)",
          "Kitchen & Dining >> Coffee Mugs >> Shopmania Coffee Mugs",
          "Kitchen & Dining >> Coffee Mugs >> Shopmania Coffee Mugs >> Shopmania Happy Birthday Gift For Starting Lette...",
          "Baby Care >> Baby Bedding",
          "Baby Care >> Baby Bedding >> Baby Mattresses",
          "Baby Care >> Baby Bedding >> Baby Mattresses >> CHHOTE JANAB Baby Mattresses",
          "Baby Care >> Baby Bedding >> Baby Mattresses >> CHHOTE JANAB Baby Mattresses >> CHHOTE JANAB COZY MATTRESS PROTECTOR(SET OF 2) (...",
          "Home Furnishing >> Kitchen & Dining Linen",
          "Home Furnishing >> Kitchen & Dining Linen >> Table Covers",
          "Home Furnishing >> Kitchen & Dining Linen >> Table Covers >> Prime Printed 4 Seater Table Cover (Multicolor, ...",
          "Kitchen & Dining >> Containers & Bottles",
          "Kitchen & Dining >> Containers & Bottles >> Lunch Boxes",
          "Kitchen & Dining >> Containers & Bottles >> Lunch Boxes >> SKI Lunch Boxes",
          "Kitchen & Dining >> Containers & Bottles >> Lunch Boxes >> SKI Lunch Boxes >> SKI WINNER GIFT SET SKYBLUE02 2 Containers Lunch...",
          "Kitchen & Dining >> Containers & Bottles >> Lunch Boxes >> GAYATRI CREATIONS Lunch Boxes",
          "Kitchen & Dining >> Containers & Bottles >> Lunch Boxes >> GAYATRI CREATIONS Lunch Boxes >> GAYATRI CREATIONS ORANGE KIDS SET 2 Containers L...",
          "Kitchen & Dining >> Consumables & Disposables",
          "Kitchen & Dining >> Consumables & Disposables >> Bowls",
          "Kitchen & Dining >> Consumables & Disposables >> Bowls >> Caffeine Bowls",
          "Kitchen & Dining >> Consumables & Disposables >> Bowls >> Caffeine Bowls >> Caffeine Handmade Tribal Print Influenced Katori...",
          "Home Furnishing >> Kitchen & Dining Linen >> Table Covers >> Prime Printed 8 Seater Table Cover (Multicolor, ...",
          "Kitchen & Dining >> Containers & Bottles >> Bottles & Sippers",
          "Kitchen & Dining >> Containers & Bottles >> Bottles & Sippers >> Water bottle",
          "Kitchen & Dining >> Containers & Bottles >> Bottles & Sippers >> Water bottle >> Garnet Water bottle",
          "Kitchen & Dining >> Containers & Bottles >> Bottles & Sippers >> Water bottle >> Garnet Water bottle >> Garnet Traveller 1500 ml Bottle (Pack of 6, Mult...",
          "Baby Care >> Infant Wear >> Baby Girls' Clothes >> Shorts & Trousers",
          "Baby Care >> Infant Wear >> Baby Girls' Clothes >> Shorts & Trousers >> Shorts",
          "Baby Care >> Infant Wear >> Baby Girls' Clothes >> Shorts & Trousers >> Shorts >> Vitamins Shorts",
          "Baby Care >> Infant Wear >> Baby Girls' Clothes >> Shorts & Trousers >> Shorts >> Vitamins Shorts >> Vitamins Solid Baby Girl's Basic Shorts",
          "Baby Care >> Infant Wear >> Baby Girls' Clothes >> Shorts & Trousers >> Shorts >> Vitamins Shorts >> Vitamins Graphic Print Baby Girl's Basic Shorts",
          "Baby Care >> Infant Wear >> Baby Girls' Clothes >> Shorts & Trousers >> Shorts >> Vitamins Shorts >> Vitamins Embroidered Baby Girl's Denim Shorts",
          "Beauty and Personal Care >> Makeup >> Vanity Boxes >> KE Vanity Boxes",
          "Beauty and Personal Care >> Makeup >> Vanity Boxes >> KE Vanity Boxes >> KE GIFT BOX STOR JEWELLARY Vanity Jewellery (BLUE)",
          "Beauty and Personal Care >> Makeup >> Lips",
          "Beauty and Personal Care >> Makeup >> Lips >> Lip Liners",
          "Beauty and Personal Care >> Makeup >> Lips >> Lip Liners >> Giorgio Armani Lip Liners",
          "Beauty and Personal Care >> Makeup >> Lips >> Lip Liners >> Giorgio Armani Lip Liners >> Giorgio Armani SMOOTH SILK LIP PENCIL 12 (Soyeux...",
          "Home Furnishing >> Living Room Furnishing >> Diwan Sets >> Jaipur Print Diwan Sets",
          "Home Furnishing >> Living Room Furnishing >> Diwan Sets >> Jaipur Print Diwan Sets >> Jaipur Print Cotton Floral Diwan Set",
          "Baby Care >> Infant Wear >> Baby Boys' Clothes",
          "Baby Care >> Infant Wear >> Baby Boys' Clothes >> Accessories",
          "Baby Care >> Infant Wear >> Baby Boys' Clothes >> Accessories >> Caps",
          "Baby Care >> Infant Wear >> Baby Boys' Clothes >> Accessories >> Caps >> florence9 Caps",
          "Baby Care >> Infant Wear >> Baby Boys' Clothes >> Accessories >> Caps >> florence9 Caps >> florence9 baby cap red checks Cap",
          "Home Decor & Festive Needs >> Wall Decor & Clocks",
          "Home Decor & Festive Needs >> Wall Decor & Clocks >> Key Holders",
          "Home Decor & Festive Needs >> Wall Decor & Clocks >> Key Holders >> VarEesha Key Holders",
          "Home Decor & Festive Needs >> Wall Decor & Clocks >> Key Holders >> VarEesha Key Holders >> VarEesha Wooden Key Holder (8 Hooks, Multicolor)",
          "Home Decor & Festive Needs >> Table Decor & Handicrafts",
          "Home Decor & Festive Needs >> Table Decor & Handicrafts >> Showpieces",
          "Home Decor & Festive Needs >> Table Decor & Handicrafts >> Showpieces >> Fengshui",
          "Home Decor & Festive Needs >> Table Decor & Handicrafts >> Showpieces >> Fengshui >> Treasure Fengshui",
          "Home Decor & Festive Needs >> Table Decor & Handicrafts >> Showpieces >> Fengshui >> Treasure Fengshui >> Treasure Showpiece  -  23 cm (Polyresin, Blue)",
          "Baby Care >> Baby Bedding >> Baby Mosquito Nets",
          "Baby Care >> Baby Bedding >> Baby Mosquito Nets >> CHINMAY KIDS Baby Mosquito Nets",
          "Baby Care >> Baby Bedding >> Baby Mosquito Nets >> CHINMAY KIDS Baby Mosquito Nets >> CHINMAY KIDS Printed Cotton Padded Mosquito Net ...",
          "Baby Care >> Infant Wear >> Baby Boys' Clothes >> Combo Sets",
          "Baby Care >> Infant Wear >> Baby Boys' Clothes >> Combo Sets >> HEAVENLY Combo Sets",
          "Baby Care >> Infant Wear >> Baby Boys' Clothes >> Combo Sets >> HEAVENLY Combo Sets >> HEAVENLY Dress Baby Boy's  Combo",
          "Home Decor & Festive Needs >> Flowers, Plants & Vases",
          "Home Decor & Festive Needs >> Flowers, Plants & Vases >> Flower Vase",
          "Home Decor & Festive Needs >> Flowers, Plants & Vases >> Flower Vase >> @home Flower Vase",
          "Home Decor & Festive Needs >> Flowers, Plants & Vases >> Flower Vase >> @home Flower Vase >> @home Glass Vase (18 inch, Grey)",
          "Home Decor & Festive Needs >> Wall Decor & Clocks >> Wall Decals & Stickers",
          "Home Decor & Festive Needs >> Wall Decor & Clocks >> Wall Decals & Stickers >> Smart Wall Guru Wall Decals & Stickers",
          "Home Decor & Festive Needs >> Wall Decor & Clocks >> Wall Decals & Stickers >> Smart Wall Guru Wall Decals & Stickers >> Smart Wall Guru Medium Adhesive Sticker (Pack of 1)",
          "Kitchen & Dining >> Cookware >> Pots & Pans",
          "Kitchen & Dining >> Cookware >> Pots & Pans >> Pans & Tawas",
          "Kitchen & Dining >> Cookware >> Pots & Pans >> Pans & Tawas >> oxford Pans & Tawas",
          "Kitchen & Dining >> Cookware >> Pots & Pans >> Pans & Tawas >> oxford Pans & Tawas >> oxford Tawa 15 cm cm diameter (Aluminium, Non-st...",
          "Computers >> Software",
          "Computers >> Software >> Language Learning",
          "Computers >> Software >> Language Learning >> Physical",
          "Computers >> Software >> Language Learning >> Physical >> Eureka.in Physical",
          "Computers >> Software >> Language Learning >> Physical >> Eureka.in Physical >> Eureka.in GSEB Class VII (Pen drive)",
          "Home Furnishing >> Kitchen & Dining Linen >> Coasters",
          "Home Furnishing >> Kitchen & Dining Linen >> Coasters >> Craft Trade Coasters",
          "Home Furnishing >> Kitchen & Dining Linen >> Coasters >> Craft Trade Coasters >> Craft Trade Oval Wood Coaster Set (Brown, Pack o...",
          "Home Decor & Festive Needs >> Showpieces",
          "Home Decor & Festive Needs >> Showpieces >> Parv Collections Showpieces",
          "Home Decor & Festive Needs >> Showpieces >> Exotic India Showpieces",
          "Home Decor & Festive Needs >> Showpieces >> Aapno Rajasthan Showpieces",
          "Home Decor & Festive Needs >> Showpieces >> BeYOUtiful Showpieces",
          "Home Decor & Festive Needs >> Table Decor & Handicrafts >> Showpieces >> Religious Idols",
          "Home Decor & Festive Needs >> Table Decor & Handicrafts >> Showpieces >> Religious Idols >> Exotic India Religious Idols",
          "Home Decor & Festive Needs >> Table Decor & Handicrafts >> Showpieces >> Human Figurines",
          "Home Decor & Festive Needs >> Table Decor & Handicrafts >> Showpieces >> Human Figurines >> My Angel Human Figurines",
          "Home Decor & Festive Needs >> Table Decor & Handicrafts >> Showpieces >> Religious Idols >> Diviniti Religious Idols",
          "Beauty and Personal Care >> Makeup >> Vanity Boxes >> Kuber Industries Vanity Boxes",
          "Beauty and Personal Care >> Makeup >> Vanity Boxes >> Thar Handloom Vanity Boxes",
          "Beauty and Personal Care >> Makeup >> Vanity Boxes >> Goldencollections Vanity Boxes",
          "Home Decor & Festive Needs >> Table Decor & Handicrafts >> Showpieces >> Religious Idols >> K&P Religious Idols",
          "Home Decor & Festive Needs >> Table Decor & Handicrafts >> Showpieces >> Religious Idols >> K&P Religious Idols >> K&P Lord Ganesha Regular 16 Showpiece  -  13 cm ...",
          "Home Furnishing >> Bed Linen >> Blankets, Quilts & Dohars",
          "Baby Care >> Furniture & Furnishings",
          "Baby Care >> Furniture & Furnishings >> Inflatable Products",
          "Baby Care >> Furniture & Furnishings >> Inflatable Products >> Bestway Inflatable Products",
          "Home Furnishing >> Bed Linen >> Blankets, Quilts & Dohars >> Remtex Export Cartoon Single Dohar Multicolor (1...",
          "Baby Care >> Infant Wear >> Baby Girls' Clothes >> Ethnic Wear",
          "Baby Care >> Infant Wear >> Baby Girls' Clothes >> Ethnic Wear >> Salwar Kurta Dupattas",
          "Baby Care >> Infant Wear >> Baby Girls' Clothes >> Ethnic Wear >> Salwar Kurta Dupattas >> TWISHA Salwar Kurta Dupattas",
          "Baby Care >> Infant Wear >> Baby Girls' Clothes >> Ethnic Wear >> Salwar Kurta Dupattas >> TWISHA Salwar Kurta Dupattas >> TWISHA Printed Kurti & Salwar",
          "Home Decor & Festive Needs >> Decorative Lighting & Lamps",
          "Home Decor & Festive Needs >> Decorative Lighting & Lamps >> Table Lamps",
          "Home Decor & Festive Needs >> Decorative Lighting & Lamps >> Table Lamps >> Eternity Table Lamps",
          "Home Decor & Festive Needs >> Decorative Lighting & Lamps >> Table Lamps >> Eternity Table Lamps >> Eternity Handcrafted unique Mosaic Glass Table L...",
          "Baby Care >> Infant Wear >> Baby Boys' Clothes >> Bodysuits & Sleepsuits",
          "Baby Care >> Infant Wear >> Baby Boys' Clothes >> Bodysuits & Sleepsuits >> Sleepsuits",
          "Baby Care >> Infant Wear >> Baby Boys' Clothes >> Bodysuits & Sleepsuits >> Sleepsuits >> FS Mini Klub Sleepsuits",
          "Baby Care >> Infant Wear >> Baby Boys' Clothes >> Bodysuits & Sleepsuits >> Sleepsuits >> FS Mini Klub Sleepsuits >> FS Mini Klub Baby Boy's Sleepsuit",
          "Kitchen & Dining >> Containers & Bottles >> Bottles & Sippers >> Sippers",
          "Kitchen & Dining >> Containers & Bottles >> Bottles & Sippers >> Sippers >> Omic Sippers",
          "Kitchen & Dining >> Containers & Bottles >> Bottles & Sippers >> Sippers >> Omic Sippers >> Omic Poto-Blue 1000 ml Sipper (Pack of 1, Blue)",
          "Baby Care >> Baby Grooming",
          "Baby Care >> Baby Grooming >> Baby Grooming Combos",
          "Baby Care >> Baby Grooming >> Baby Grooming Combos >> Lollipop Lane Baby Grooming Combos",
          "Computers >> Computer Peripherals",
          "Computers >> Computer Peripherals >> Printers & Inks",
          "Computers >> Computer Peripherals >> Printers & Inks >> Toners",
          "Computers >> Computer Peripherals >> Printers & Inks >> Toners >> Filink Toners",
          "Home Decor & Festive Needs >> Table Decor & Handicrafts >> Showpieces >> Religious Idols >> Recrafto Religious Idols",
          "Baby Care >> Infant Wear >> Baby Boys' Clothes >> Bodysuits & Sleepsuits >> Bodysuits",
          "Baby Care >> Infant Wear >> Baby Boys' Clothes >> Bodysuits & Sleepsuits >> Bodysuits >> Anthill Bodysuits",
          "Computers >> Laptop Accessories >> Mouse Pads",
          "Computers >> Laptop Accessories >> Mouse Pads >> FRENEMY Mouse Pads",
          "Computers >> Laptop Accessories >> Mouse Pads >> FRENEMY Mouse Pads >> FRENEMY MPAD271 Mousepad (Multicolor)",
          "Home Furnishing >> Cushions, Pillows & Covers",
          "Home Furnishing >> Cushions, Pillows & Covers >> Cushion Covers",
          "Home Furnishing >> Cushions, Pillows & Covers >> Cushion Covers >> Quilt India Floral Cushions Cover (77 cm, Gold)",
          "Baby Care >> Infant Wear >> Baby Boys' Clothes >> Bodysuits & Sleepsuits >> Sleepsuits >> Toffyhouse Sleepsuits",
          "Baby Care >> Infant Wear >> Baby Boys' Clothes >> Bodysuits & Sleepsuits >> Sleepsuits >> Toffyhouse Sleepsuits >> Toffyhouse Baby Boy's Sleepsuit",
          "Computers >> Storage",
          "Computers >> Storage >> Pen Drives",
          "Computers >> Storage >> Pen Drives >> Shopizone Pen Drives",
          "Computers >> Storage >> Pen Drives >> Shopizone Pen Drives >> Shopizone BMW Wheel 32 GB  Pen Drive (Black)",
          "Home Decor & Festive Needs >> Wall Decor & Clocks >> Key Holders >> Craftcart Key Holders",
          "Home Decor & Festive Needs >> Wall Decor & Clocks >> Key Holders >> Craftcart Key Holders >> Craftcart Parrot Antique Brass Key Holder (5 Hoo...",
          "Beauty and Personal Care >> Health Care",
          "Beauty and Personal Care >> Health Care >> Health Care Devices",
          "Beauty and Personal Care >> Health Care >> Health Care Devices >> Electrotherapy",
          "Beauty and Personal Care >> Health Care >> Health Care Devices >> Electrotherapy >> SOS Electrotherapy",
          "Beauty and Personal Care >> Health Care >> Health Care Devices >> Electrotherapy >> SOS Electrotherapy >> SOS COMPUTRISED LCD INTRFERENTIAL UNIT-125PROG. ...",
          "Beauty and Personal Care >> Body and Skin Care",
          "Beauty and Personal Care >> Body and Skin Care >> Hand Care",
          "Beauty and Personal Care >> Body and Skin Care >> Hand Care >> Manicure and Kits",
          "Beauty and Personal Care >> Body and Skin Care >> Hand Care >> Manicure and Kits >> Sally Hansen Manicure and Kits",
          "Beauty and Personal Care >> Body and Skin Care >> Hand Care >> Manicure and Kits >> Svayam Manicure and Kits",
          "Beauty and Personal Care >> Body and Skin Care >> Hand Care >> Manicure and Kits >> Go Bonjour Manicure and Kits",
          "Home Decor & Festive Needs >> Table Decor & Handicrafts >> Table Decor",
          "Home Decor & Festive Needs >> Table Decor & Handicrafts >> Table Decor >> Hookah & Hookah Flavours",
          "Home Decor & Festive Needs >> Table Decor & Handicrafts >> Table Decor >> Hookah & Hookah Flavours >> Hookah",
          "Home Decor & Festive Needs >> Table Decor & Handicrafts >> Table Decor >> Hookah & Hookah Flavours >> Hookah >> Arsalan Hookah",
          "Kitchen & Dining >> Coffee Mugs >> Prithish Coffee Mugs",
          "Kitchen & Dining >> Coffee Mugs >> Rockmantra Coffee Mugs",
          "Kitchen & Dining >> Coffee Mugs >> Rajesh Digital Coffee Mugs",
          "Kitchen & Dining >> Coffee Mugs >> Printland Coffee Mugs",
          "Kitchen & Dining >> Coffee Mugs >> Returnfavors Coffee Mugs",
          "Kitchen & Dining >> Kitchen Tools",
          "Kitchen & Dining >> Kitchen Tools >> Kitchen Implements",
          "Kitchen & Dining >> Kitchen Tools >> Kitchen Implements >> Pizza Cutters",
          "Kitchen & Dining >> Kitchen Tools >> Kitchen Implements >> Pizza Cutters >> Famous Pizza Cutters",
          "Home Decor & Festive Needs >> Showpieces >> Rastogi Handicrafts Showpieces",
          "Home Decor & Festive Needs >> Showpieces >> NEHP Showpieces",
          "Home Decor & Festive Needs >> Showpieces >> S C Handicrafts Showpieces",
          "Home Decor & Festive Needs >> Showpieces >> Ethnic",
          "Home Decor & Festive Needs >> Showpieces >> Ethnic >> Tatvaarts Ethnic",
          "Kitchen & Dining >> Kitchen Tools >> Kitchen Implements >> Pizza Cutters >> Sam Pizza Cutters",
          "Home Decor & Festive Needs >> Showpieces >> Ethnic >> Surface180 Ethnic",
          "Kitchen & Dining >> Kitchen Tools >> Kitchen Implements >> Pizza Cutters >> Step4deal Pizza Cutters",
          "Home Decor & Festive Needs >> Showpieces >> MA Design Hut Showpieces",
          "Home Decor & Festive Needs >> Showpieces >> Ethnic >> Lal Haveli Ethnic",
          "Baby Care >> Infant Wear >> Baby Boys' Clothes >> Dungarees & Jumpsuits",
          "Baby Care >> Infant Wear >> Baby Boys' Clothes >> Dungarees & Jumpsuits >> Jumpsuits",
          "Baby Care >> Infant Wear >> Baby Boys' Clothes >> Dungarees & Jumpsuits >> Jumpsuits >> Earth Conscious Jumpsuits",
          "Home Decor & Festive Needs >> Showpieces >> Purpledip Showpieces",
          "Kitchen & Dining >> Kitchen Tools >> Kitchen Implements >> Pizza Cutters >> Tirupati Pizza Cutters",
          "Home Decor & Festive Needs >> Showpieces >> Shoppingtara Showpieces",
          "Home Decor & Festive Needs >> Showpieces >> Orange Tree Showpieces",
          "Home Decor & Festive Needs >> Showpieces >> Ethnic >> Unique Design Ethnic",
          "Home Decor & Festive Needs >> Showpieces >> Port Showpieces",
          "Kitchen & Dining >> Kitchen Tools >> Kitchen Implements >> Pizza Cutters >> King International Pizza Cutters",
          "Kitchen & Dining >> Kitchen Tools >> Kitchen Implements >> Pizza Cutters >> Go Hooked Pizza Cutters",
          "Home Decor & Festive Needs >> Showpieces >> Ethnic >> RoyalsCart Ethnic",
          "Kitchen & Dining >> Kitchen Tools >> Kitchen Implements >> Pizza Cutters >> Apex Pizza Cutters",
          "Home Decor & Festive Needs >> Showpieces >> Ethnic >> MCB Exports Ethnic",
          "Baby Care >> Infant Wear >> Baby Boys' Clothes >> Dungarees & Jumpsuits >> Jumpsuits >> Poppins Jumpsuits",
          "Home Decor & Festive Needs >> Showpieces >> Ethnic >> Purpledip Ethnic",
          "Kitchen & Dining >> Kitchen Tools >> Kitchen Implements >> Pizza Cutters >> Agromech Pizza Cutters",
          "Home Decor & Festive Needs >> Showpieces >> Tiedribbons Showpieces",
          "Home Decor & Festive Needs >> Showpieces >> Ethnic >> Rajo Raja Ethnic",
          "Home Decor & Festive Needs >> Showpieces >> Ethnic >> Surface 180 Ethnic",
          "Home Decor & Festive Needs >> Showpieces >> Ethnic >> Sovam International Ethnic",
          "Home Decor & Festive Needs >> Showpieces >> Ethnic >> The Ethnic Story Ethnic",
          "Kitchen & Dining >> Cookware >> Pots & Pans >> Woks & Kadhais",
          "Kitchen & Dining >> Cookware >> Pots & Pans >> Woks & Kadhais >> JSM Woks & Kadhais",
          "Kitchen & Dining >> Kitchen Tools >> Kitchen Implements >> Pizza Cutters >> Celebrity Pizza Cutters",
          "Home Decor & Festive Needs >> Showpieces >> Unique Design Showpieces",
          "Kitchen & Dining >> Cookware >> Pots & Pans >> Woks & Kadhais >> Metallino Woks & Kadhais",
          "Home Decor & Festive Needs >> Showpieces >> Ethnic >> Ruchiworld Ethnic",
          "Kitchen & Dining >> Cookware >> Pots & Pans >> Woks & Kadhais >> Kosher Woks & Kadhais",
          "Kitchen & Dining >> Cookware >> Pots & Pans >> Woks & Kadhais >> Recon Woks & Kadhais",
          "Kitchen & Dining >> Cookware >> Pots & Pans >> Woks & Kadhais >> Indian Art Villa Woks & Kadhais",
          "Kitchen & Dining >> Cookware >> Pots & Pans >> Woks & Kadhais >> Suruchi Woks & Kadhais",
          "Kitchen & Dining >> Cookware >> Pots & Pans >> Woks & Kadhais >> Bergner Woks & Kadhais",
          "Kitchen & Dining >> Cookware >> Pots & Pans >> Woks & Kadhais >> Kalash Woks & Kadhais",
          "Kitchen & Dining >> Cookware >> Pots & Pans >> Woks & Kadhais >> Peacock Woks & Kadhais",
          "Kitchen & Dining >> Cookware >> Pots & Pans >> Woks & Kadhais >> Leo Natura Woks & Kadhais",
          "Home Decor & Festive Needs >> Showpieces >> Malhar Showpieces",
          "Kitchen & Dining >> Cookware >> Pots & Pans >> Woks & Kadhais >> Sumeet Woks & Kadhais",
          "Home Decor & Festive Needs >> TRUE Home Decor & Festive Needs",
          "Home Decor & Festive Needs >> Showpieces >> The Crafts House Showpieces",
          "Kitchen & Dining >> Cookware >> Pots & Pans >> Woks & Kadhais >> Jaipan Woks & Kadhais",
          "Home Decor & Festive Needs >> Showpieces >> Unravel India Showpieces",
          "Home Decor & Festive Needs >> Showpieces >> Ethnic >> Ruchikainternational Ethnic",
          "Kitchen & Dining >> Cookware >> Pots & Pans >> Woks & Kadhais >> Nirlon Woks & Kadhais",
          "Home Decor & Festive Needs >> Showpieces >> Ethnic >> Monil Ethnic",
          "Kitchen & Dining >> Cookware >> Pots & Pans >> Woks & Kadhais >> Pristine Woks & Kadhais",
          "Home Decor & Festive Needs >> Showpieces >> Woodino Handicrafts Showpieces",
          "Home Decor & Festive Needs >> Showpieces >> Unique Handicrafts Showpieces",
          "Kitchen & Dining >> Cookware >> Pots & Pans >> Woks & Kadhais >> Pigeon Woks & Kadhais",
          "Kitchen & Dining >> Cookware >> Pots & Pans >> Woks & Kadhais >> Sahara Q Shop Woks & Kadhais",
          "Kitchen & Dining >> Kitchen Tools >> Kitchen Implements >> Pizza Cutters >> Mom Italy Pizza Cutters",
          "Home Decor & Festive Needs >> Showpieces >> Mavi Showpieces",
          "Kitchen & Dining >> Cookware >> Pots & Pans >> Woks & Kadhais >> Ndura Woks & Kadhais",
          "Kitchen & Dining >> Cookware >> Pots & Pans >> Woks & Kadhais >> Supreme Cookwares Woks & Kadhais",
          "Baby Care >> Infant Wear >> Baby Boys' Clothes >> Dungarees & Jumpsuits >> Dungarees",
          "Baby Care >> Infant Wear >> Baby Boys' Clothes >> Dungarees & Jumpsuits >> Dungarees >> Babeezworld Dungarees",
          "Baby Care >> Infant Wear >> Baby Boys' Clothes >> Dungarees & Jumpsuits >> Dungarees >> Babeezworld Dungarees >> Babeezworld Baby Boy's Romper",
          "Watches >> Wrist Watches >> Pittsburgh Polo Club Wrist Watches",
          "Watches >> Wrist Watches >> Pittsburgh Polo Club Wrist Watches >> Pittsburgh Polo Club PBPC-505-GRN Analog Watch  ...",
          "Watches >> Wrist Watches >> palito Wrist Watches",
          "Watches >> Wrist Watches >> palito Wrist Watches >> palito PLO 169 Analog Watch  - For Girls, Women",
          "Watches >> Wrist Watches >> Adino Wrist Watches",
          "Watches >> Wrist Watches >> Adino Wrist Watches >> Adino ADF04 Analog Watch  - For Girls",
          "Watches >> Wrist Watches >> ESIDON Wrist Watches",
          "Watches >> Wrist Watches >> ESIDON Wrist Watches >> ESIDON AKADA06 Analog Watch  - For Women",
          "Watches >> Wrist Watches >> palito Wrist Watches >> palito PLO 166 Analog Watch  - For Girls, Women",
          "Home Furnishing >> Living",
          "Home Furnishing >> Living >> Sofa Covers",
          "Home Furnishing >> Living >> Sofa Covers >> Bhavya Velvet Sofa Cover (Grey Pack of 10)",
          "Baby Care >> Infant Wear >> Baby Boys' Clothes >> Dungarees & Jumpsuits >> Dungarees >> cherry crumble california Dungarees",
          "Baby Care >> Infant Wear >> Baby Boys' Clothes >> Dungarees & Jumpsuits >> Dungarees >> cherry crumble california Dungarees >> cherry crumble california Baby Boy's Dungaree",
          "Watches >> Wrist Watches >> Yves Bertelin Wrist Watches",
          "Watches >> Wrist Watches >> Yves Bertelin Wrist Watches >> Yves Bertelin YBSCR557 Analog Watch  - For Women",
          "Home Decor & Festive Needs >> Showpiece",
          "Home Decor & Festive Needs >> Showpiece >> Contemporary",
          "Home Decor & Festive Needs >> Showpiece >> Contemporary >> Services Junction Contemporary",
          "Home Decor & Festive Needs >> Showpiece >> Contemporary >> Services Junction Contemporary >> Services Junction Beautiful Black and Golden col...",
          "Watches >> Wrist Watches >> palito Wrist Watches >> palito PLO 149 Analog Watch  - For Girls, Women",
          "Watches >> Wrist Watches >> V9 Wrist Watches",
          "Watches >> Wrist Watches >> V9 Wrist Watches >> V9 METAL STRAP Analog Watch  - For Men",
          "Home Furnishing >> Living >> Sofa Covers >> Dreamshomes Velvet Sofa Cover (Multicolour Pack ...",
          "Baby Care >> Infant Wear >> Baby Boys' Clothes >> Dungarees & Jumpsuits >> Dungarees >> Kandyfloss Dungarees",
          "Baby Care >> Infant Wear >> Baby Boys' Clothes >> Dungarees & Jumpsuits >> Dungarees >> Kandyfloss Dungarees >> Kandyfloss Baby Boy's, Baby Girl's Romper",
          "Home Decor & Festive Needs >> Showpiece >> Contemporary >> Services Junction Contemporary >> Services Junction Gold Plated Ganesh Idol Showpi...",
          "Home Decor & Festive Needs >> Decorative Lighting & Lamps >> Table Lamps >> Brahmz Table Lamps",
          "Home Decor & Festive Needs >> Decorative Lighting & Lamps >> Table Lamps >> Brahmz Table Lamps >> Brahmz Glass Mossiac Table Lamp (18 cm, Multi Co...",
          "Baby Care >> Infant Wear >> Baby Girls' Clothes >> Dresses & Skirts",
          "Baby Care >> Infant Wear >> Baby Girls' Clothes >> Dresses & Skirts >> Dresses",
          "Baby Care >> Infant Wear >> Baby Girls' Clothes >> Dresses & Skirts >> Dresses >> MKB Dresses",
          "Baby Care >> Infant Wear >> Baby Girls' Clothes >> Dresses & Skirts >> Dresses >> MKB Dresses >> MKB Baby Girl's Shirt Dress",
          "Baby Care >> Infant Wear >> Baby Girls' Clothes >> Dresses & Skirts >> Dresses >> Toddla Dresses",
          "Baby Care >> Infant Wear >> Baby Girls' Clothes >> Dresses & Skirts >> Dresses >> Toddla Dresses >> Toddla Baby Girl's Gathered Dress",
          "Baby Care >> Infant Wear >> Baby Girls' Clothes >> Dresses & Skirts >> Dresses >> Baby Moshai Dresses",
          "Baby Care >> Infant Wear >> Baby Girls' Clothes >> Dresses & Skirts >> Dresses >> Baby Moshai Dresses >> Baby Moshai Baby Girl's A-line Dress",
          "Baby Care >> Infant Wear >> Baby Girls' Clothes >> Dresses & Skirts >> Dresses >> My Little Lambs Dresses",
          "Baby Care >> Infant Wear >> Baby Girls' Clothes >> Dresses & Skirts >> Dresses >> My Little Lambs Dresses >> My Little Lambs Baby Girl's Gathered Dress",
          "Kitchen & Dining >> Bar & Glassware",
          "Kitchen & Dining >> Bar & Glassware >> Bar Accessories",
          "Kitchen & Dining >> Bar & Glassware >> Bar Accessories >> Bottle Openers",
          "Kitchen & Dining >> Bar & Glassware >> Bar Accessories >> Bottle Openers >> arnavs Bottle Openers",
          "Kitchen & Dining >> Bar & Glassware >> Bar Accessories >> Bottle Openers >> arnavs Bottle Openers >> arnavs Multi1 Bottle Opener Set",
          "Computers >> Computer Peripherals >> CPU",
          "Computers >> Computer Peripherals >> CPU >> I Ball CPU",
          "Computers >> Computer Peripherals >> CPU >> I Ball CPU >> I Ball IBCTDC 160/2gb/DDR2 with Dual Core 2 RAM ...",
          "Baby Care >> Infant Wear >> Baby Boys' Clothes >> Polos & T-Shirts",
          "Baby Care >> Infant Wear >> Baby Boys' Clothes >> Polos & T-Shirts >> Globe Polos & T-Shirts",
          "Baby Care >> Infant Wear >> Baby Boys' Clothes >> Polos & T-Shirts >> Globe Polos & T-Shirts >> Globe Graphic Print Baby Boy's Round Neck Orange...",
          "Kitchen & Dining >> Kitchen Tools >> Kitchen Implements >> Hand Juicers",
          "Kitchen & Dining >> Kitchen Tools >> Kitchen Implements >> Hand Juicers >> JayEnterprise Hand Juicers",
          "Kitchen & Dining >> Kitchen Tools >> Kitchen Implements >> Hand Juicers >> JayEnterprise Hand Juicers >> JayEnterprise Plastic Hand Juicer (Multicolor)",
          "Home Decor & Festive Needs >> Showpieces >> Ethnic >> Craftuno Ethnic",
          "Kitchen & Dining >> Cookware >> Lids",
          "Kitchen & Dining >> Cookware >> Lids >> Elephant Lids",
          "Beauty and Personal Care >> Health Care >> Health Care Devices >> Body Fat Analyzers",
          "Beauty and Personal Care >> Health Care >> Health Care Devices >> Body Fat Analyzers >> Equinox Body Fat Analyzers",
          "Home Decor & Festive Needs >> Showpieces >> Ethnic >> Nihar Ethnic",
          "Home Decor & Festive Needs >> Showpieces >> Ethnic >> Homedesires Ethnic",
          "Home Decor & Festive Needs >> Showpieces >> Ethnic >> Pg handicrafts Ethnic",
          "Home Decor & Festive Needs >> Showpieces >> Ethnic >> Ravishing Variety Ethnic",
          "Home Decor & Festive Needs >> Showpieces >> Ethnic >> Infinity India Ethnic",
          "Computers >> Network Components >> Routers >> Linksys Routers",
          "Beauty and Personal Care >> Fragrances",
          "Beauty and Personal Care >> Fragrances >> Deodorants",
          "Beauty and Personal Care >> Fragrances >> Deodorants >> Combos",
          "Beauty and Personal Care >> Fragrances >> Deodorants >> Combos >> Wild Stone Combos",
          "Computers >> Network Components >> Routers >> Intex Routers",
          "Beauty and Personal Care >> Fragrances >> Deodorants >> Combos >> Adidas Combos",
          "Beauty and Personal Care >> Fragrances >> Deodorants >> Combos >> Vincent Valentine Paris Combos",
          "Beauty and Personal Care >> Fragrances >> Deodorants >> Combos >> Denver Combos",
          "Beauty and Personal Care >> Fragrances >> Deodorants >> Combos >> Archies Combos",
          "Computers >> Network Components >> Routers >> Asus Routers",
          "Beauty and Personal Care >> Fragrances >> Deodorants >> Combos >> Layer'r Combos",
          "Computers >> Network Components >> Routers >> Apple Routers",
          "Computers >> Network Components >> Routers >> Tenda Routers",
          "Computers >> Network Components >> Routers >> Huawei Routers",
          "Beauty and Personal Care >> Fragrances >> Deodorants >> Combos >> Anna Andre Paris Combos",
          "Computers >> Network Components >> Routers >> TRENDnet Routers",
          "Computers >> Network Components >> Routers >> Edimax Routers",
          "Beauty and Personal Care >> Fragrances >> Deodorants >> Combos >> Park Avenue Combos",
          "Computers >> Network Components >> Routers >> Binatone Routers",
          "Beauty and Personal Care >> Fragrances >> Deodorants >> Combos >> KamaSutra Combos",
          "Beauty and Personal Care >> Fragrances >> Deodorants >> Combos >> Arabian Nights Combos",
          "Beauty and Personal Care >> Fragrances >> Deodorants >> Combos >> Engage Combos",
          "Computers >> Network Components >> Routers >> Belkin Routers",
          "Beauty and Personal Care >> Fragrances >> Deodorants >> Combos >> Envy-1000 Combos",
          "Beauty and Personal Care >> Fragrances >> Deodorants >> Combos >> Yardley Combos",
          "Beauty and Personal Care >> Fragrances >> Deodorants >> Combos >> Nivea Combos",
          "Computers >> Network Components >> Routers >> Zyxel Routers",
          "Computers >> Network Components >> Routers >> TP-LINK Routers",
          "Beauty and Personal Care >> Fragrances >> Deodorants >> Combos >> Playboy Combos",
          "Beauty and Personal Care >> Fragrances >> Deodorants >> Combos >> Spinz Combos",
          "Beauty and Personal Care >> Fragrances >> Deodorants >> Combos >> Nike Combos",
          "Beauty and Personal Care >> Fragrances >> Deodorants >> Combos >> Aero Care Combos",
          "Beauty and Personal Care >> Fragrances >> Deodorants >> Combos >> Beverly Hills Polo Club Combos",
          "Computers >> Network Components >> Routers >> Netgear Routers",
          "Beauty and Personal Care >> Fragrances >> Deodorants >> Combos >> Addiction Combos",
          "Computers >> Network Components >> Routers >> iBall Routers",
          "Beauty and Personal Care >> Fragrances >> Deodorants >> Combos >> ENVY 1000 Combos",
          "Computers >> Network Components >> Routers >> Netis Routers",
          "Beauty and Personal Care >> Fragrances >> Deodorants >> Combos >> French Factor Combos",
          "Beauty and Personal Care >> Fragrances >> Deodorants >> Combos >> Fogg Combos",
          "Beauty and Personal Care >> Fragrances >> Deodorants >> Combos >> Denim Combos",
          "Beauty and Personal Care >> Fragrances >> Deodorants >> Combos >> Cinthol Combos",
          "Computers >> Network Components >> Routers >> Airtel Routers",
          "Computers >> Network Components >> Routers >> Digisol Routers",
          "Beauty and Personal Care >> Fragrances >> Deodorants >> Combos >> Ajmal Combos",
          "Beauty and Personal Care >> Women's Hygiene",
          "Beauty and Personal Care >> Women's Hygiene >> Combo & kits",
          "Beauty and Personal Care >> Women's Hygiene >> Combo & kits >> Clear Face Combo & kits",
          "Beauty and Personal Care >> Women's Hygiene >> Combo & kits >> Clear Face Combo & kits >> Clear Face Kesar Chandan Multivitamin Nourishing...",
          "Computers >> Tablet Accessories >> Cases & Covers",
          "Computers >> Tablet Accessories >> Cases & Covers >> YGS Cases & Covers",
          "Computers >> Tablet Accessories >> Cases & Covers >> YGS Cases & Covers >> YGS Keyboard Case for Asus Memo Pad 7in Tab (Pink)",
          "Beauty and Personal Care >> Hair Care >> Hair Care Accessories",
          "Beauty and Personal Care >> Hair Care >> Hair Care Accessories >> Hair Accessories",
          "Beauty and Personal Care >> Hair Care >> Hair Care Accessories >> Hair Accessories >> Majik Hair Accessories",
          "Beauty and Personal Care >> Hair Care >> Hair Care Accessories >> Hair Accessories >> Majik Hair Accessories >> Majik Styling Decoration Hair Clip (Multicolor)",
          "Computers >> Computer Peripherals >> Portable Projectors",
          "Computers >> Computer Peripherals >> Portable Projectors >> Zingalalaa Portable Projectors",
          "Computers >> Computer Peripherals >> Portable Projectors >> Zingalalaa Portable Projectors >> Zingalalaa LP-50 50 lm LED Corded Portable Proje...",
          "Baby Care >> Diapering & Potty Training",
          "Baby Care >> Diapering & Potty Training >> Changing Tables",
          "Baby Care >> Diapering & Potty Training >> Changing Tables >> BASRA Changing Tables",
          "Baby Care >> Diapering & Potty Training >> Changing Tables >> BASRA Changing Tables >> BASRA uepgrn Green Changing Table",
          "Computers >> Laptop Accessories >> Adapters",
          "Computers >> Laptop Accessories >> Adapters >> Smartpro Adapters",
          "Computers >> Laptop Accessories >> Adapters >> Smartpro Adapters >> Smartpro 19.5v,3.9a Replacement Charger for Vaio...",
          "Baby Care >> Strollers & Activity Gear",
          "Baby Care >> Strollers & Activity Gear >> Strollers & Prams",
          "Baby Care >> Strollers & Activity Gear >> Strollers & Prams >> Graco Strollers & Prams",
          "Baby Care >> Strollers & Activity Gear >> Strollers & Prams >> Graco Strollers & Prams >> Graco LiteRider Click Connect � Marco (Multicolor)",
          "Kitchen & Dining >> Bar & Glassware >> Bar Glasses",
          "Kitchen & Dining >> Bar & Glassware >> Bar Glasses >> ocean Bar Glasses",
          "Kitchen & Dining >> Bar & Glassware >> Bar Glasses >> ocean Bar Glasses >> ocean VGLASS0051 (325 ml, Clear, Pack of 6)",
          "Home Decor & Festive Needs >> Showpieces >> Fengshui",
          "Home Decor & Festive Needs >> Showpieces >> Fengshui >> Reiki Crystal Products Fengshui",
          "Home Decor & Festive Needs >> Showpieces >> Fengshui >> Reiki Crystal Products Fengshui >> Reiki Crystal Products Showpiece  -  8 cm (Cryst...",
          "Beauty and Personal Care >> Health Care >> Health Care Devices >> HomeEdge Health Care Devices",
          "Beauty and Personal Care >> Health Care >> Health Care Devices >> HomeEdge Health Care Devices >> HomeEdge Solid Wood King Bed (Finish Color -  Na...",
          "Baby Care >> Infant Wear >> Baby Girls' Clothes >> Dungarees & Jumpsuits",
          "Baby Care >> Infant Wear >> Baby Girls' Clothes >> Dungarees & Jumpsuits >> Jumpsuits",
          "Baby Care >> Infant Wear >> Baby Girls' Clothes >> Dungarees & Jumpsuits >> Jumpsuits >> Budding Bees Jumpsuits",
          "Baby Care >> Infant Wear >> Baby Girls' Clothes >> Dungarees & Jumpsuits >> Jumpsuits >> Budding Bees Jumpsuits >> Budding Bees Printed Baby Girl's Jumpsuit",
          "Home Furnishing >> Kitchen & Dining Linen >> Table Linen Sets",
          "Home Furnishing >> Kitchen & Dining Linen >> Table Linen Sets >> JewelKraft Designs Brown, Pink Table Linen Set",
          "Baby Care >> Baby Bedding >> Baby Sleeping Bags",
          "Baby Care >> Baby Bedding >> Baby Sleeping Bags >> Baby Bucket Baby Sleeping Bags",
          "Baby Care >> Baby Bedding >> Baby Sleeping Bags >> Baby Bucket Baby Sleeping Bags >> Baby Bucket SHERIN MULTI BEAR Sleeping Bag (Green)",
          "Beauty and Personal Care >> Health Care >> Health Care Devices >> Pulse Oximeters",
          "Beauty and Personal Care >> Health Care >> Health Care Devices >> Pulse Oximeters >> NAMS Pulse Oximeters",
          "Beauty and Personal Care >> Health Care >> Health Care Devices >> Pulse Oximeters >> NAMS Pulse Oximeters >> NAMS 06 Fully Automatic Pulse Oximeter (White)",
          "Baby Care >> Infant Wear >> Baby Girls' Clothes >> Bodysuits & Sleepsuits",
          "Baby Care >> Infant Wear >> Baby Girls' Clothes >> Bodysuits & Sleepsuits >> Sleepsuits",
          "Baby Care >> Infant Wear >> Baby Girls' Clothes >> Bodysuits & Sleepsuits >> Sleepsuits >> Rute Sleepsuits",
          "Baby Care >> Infant Wear >> Baby Girls' Clothes >> Bodysuits & Sleepsuits >> Sleepsuits >> Rute Sleepsuits >> Rute Baby Girl's Sleepsuit",
          "Home Furnishing >> Tidy Home Furnishing",
          "Home Furnishing >> Tidy Home Furnishing >> Tidy Printed Cushions Cover (Pack of 9, 50 cm*50...",
          "Home Furnishing >> Bed Linen >> Bedsheets >> JBC Collection Bedsheets",
          "Home Furnishing >> Bed Linen >> Bedsheets >> JBC Collection Bedsheets >> JBC Collection Cotton Printed Single Bedsheet (1...",
          "Computers >> Laptop Accessories >> Laptop Adapters",
          "Computers >> Laptop Accessories >> Laptop Adapters >> Hako Laptop Adapters",
          "Computers >> Laptop Accessories >> Laptop Adapters >> Hako Laptop Adapters >> Hako 45W Magsafe Laptop Charger For APPLE MacBoo...",
          "Computers >> Laptop Accessories >> Laptop Adapters >> Hako Laptop Adapters >> Hako 85W Magsafe Laptop Charger For APPLE MacBoo...",
          "Computers >> Laptop Accessories >> Laptop Adapters >> Hako Laptop Adapters >> Hako 60W Magsafe Laptop Charger For APPLE MacBoo...",
          "Baby Care >> Baby Bath & Skin >> Baby Shower Caps",
          "Baby Care >> Baby Bath & Skin >> Baby Shower Caps >> 3kFactory Baby Shower Caps",
          "Baby Care >> Baby Bath & Skin >> Baby Shower Caps >> 3kFactory Baby Shower Caps >> 3kFactory Baby Shower Cap- Purple",
          "Baby Care >> Infant Wear >> Baby Girls' Clothes >> Dresses & Skirts >> Dresses >> Saba Garments Dresses",
          "Baby Care >> Infant Wear >> Baby Girls' Clothes >> Dresses & Skirts >> Dresses >> Saba Garments Dresses >> Saba Garments Baby Girl's Gathered Dress",
          "Baby Care >> Infant Wear >> Baby Boys' Clothes >> Winter & Seasonal Wear",
          "Baby Care >> Infant Wear >> Baby Boys' Clothes >> Winter & Seasonal Wear >> Jackets",
          "Baby Care >> Infant Wear >> Baby Boys' Clothes >> Winter & Seasonal Wear >> Jackets >> Upside Down Jackets",
          "Baby Care >> Infant Wear >> Baby Boys' Clothes >> Winter & Seasonal Wear >> Jackets >> Upside Down Jackets >> Upside Down Sleeveless Applique Baby Girl's, Bab...",
          "Home Furnishing >> Living Room Furnishing >> Lushomes Living Room Furnishing",
          "Home Furnishing >> Living Room Furnishing >> Lushomes Living Room Furnishing >> Lushomes Plain Back Cushion (Pack of5, Brown)",
          "Kitchen & Dining >> Pressure Cookers & Pans",
          "Kitchen & Dining >> Pressure Cookers & Pans >> Prestige Pressure Cookers & Pans",
          "Kitchen & Dining >> Containers & Bottles >> Bottles & Sippers >> Milton Bottles & Sippers",
          "Computers >> Storage >> Pen Drives >> HP Pen Drives",
          "Computers >> Storage >> Pen Drives >> HP Pen Drives >> HP v220w 16 GB  Pen Drive (Silver, Black)",
          "Beauty and Personal Care >> Hair Care >> Conditioners >> TIGI BED HEAD Conditioners",
          "Beauty and Personal Care >> Hair Care >> Conditioners >> TIGI BED HEAD Conditioners >> TIGI BED HEAD COLOUR GODDESS OIL INFUSED CONDITI...",
          "Baby Care >> Infant Wear >> Baby Girls' Clothes >> Dresses & Skirts >> Dresses >> Beebay Dresses",
          "Baby Care >> Infant Wear >> Baby Girls' Clothes >> Dresses & Skirts >> Dresses >> Beebay Dresses >> Beebay Baby Girl's Fit and Flare Dress",
          "Kitchen & Dining >> Cookware >> Steamers & Idli Makers",
          "Kitchen & Dining >> Cookware >> Steamers & Idli Makers >> Idli Makers",
          "Kitchen & Dining >> Cookware >> Steamers & Idli Makers >> Idli Makers >> vatika Idli Makers",
          "Kitchen & Dining >> Cookware >> Steamers & Idli Makers >> Idli Makers >> vatika Idli Makers >> vatika Advance Standard Idli Maker (7 Plates , 1...",
          "Home Furnishing >> Bath Linen >> Bath Mats >> Amit Carpet Polyester Medium Door Mat ACI2016034...",
          "Beauty and Personal Care >> Hair Care >> Hair Colors",
          "Beauty and Personal Care >> Hair Care >> Hair Colors >> Garnier Hair Colors",
          "Beauty and Personal Care >> Hair Care >> Hair Colors >> Garnier Hair Colors >> Garnier Nutrisse Haircolor Hair Color (43 Dark G...",
          "Baby Care >> Infant Wear >> Baby Girls' Clothes >> Dresses & Skirts >> Dresses >> Fs Mini Klub Dresses",
          "Baby Care >> Infant Wear >> Baby Girls' Clothes >> Dresses & Skirts >> Dresses >> Fs Mini Klub Dresses >> Fs Mini Klub Baby Girl's Fit and Flare Dress",
          "Baby Care >> Infant Wear >> Baby Girls' Clothes >> Dresses & Skirts >> Dresses >> Chokree Dresses",
          "Baby Care >> Infant Wear >> Baby Girls' Clothes >> Dresses & Skirts >> Dresses >> Chokree Dresses >> Chokree Baby Girl's, Girl's A-line Dress",
          "Baby Care >> Infant Wear >> Baby Boys' Clothes >> Shorts & Trousers",
          "Baby Care >> Infant Wear >> Baby Boys' Clothes >> Shorts & Trousers >> Track Pants",
          "Baby Care >> Infant Wear >> Baby Boys' Clothes >> Shorts & Trousers >> Track Pants >> Shaun Track Pants",
          "Baby Care >> Infant Wear >> Baby Boys' Clothes >> Shorts & Trousers >> Track Pants >> Shaun Track Pants >> Shaun Printed Baby Boy's Yellow, Grey, Black Tra...",
          "Baby Care >> Infant Wear >> Baby Boys' Clothes >> Shorts & Trousers >> Track Pants >> Shaun Track Pants >> Shaun Solid Baby Boy's Grey, Dark Blue Track Pants",
          "Baby Care >> Baby Bath & Skin >> Baby Bath Towels >> Tks Baby Bath Towels",
          "Baby Care >> Baby Bath & Skin >> Baby Bath Towels >> Tks Baby Bath Towels >> Tks Cotton Hair Towel (1 Hair towel, Orange)",
          "Kitchen & Dining >> Bar & Glassware >> Bar Glasses >> Ocean Bar Glasses",
          "Kitchen & Dining >> Bar & Glassware >> Bar Glasses >> Ocean Bar Glasses >> Ocean CPGW087 (280 ml, Clear, Pack of 6)",
          "Beauty and Personal Care >> Hair Care >> Conditioners >> OGX Conditioners",
          "Beauty and Personal Care >> Hair Care >> Conditioners >> OGX Conditioners >> OGX Sunkissed Blonde Lemon Highlights Conditione...",
          "Kitchen & Dining >> Bar & Glassware >> Bar Glasses >> giftsthatwow Bar Glasses",
          "Kitchen & Dining >> Bar & Glassware >> Bar Glasses >> giftsthatwow Bar Glasses >> giftsthatwow GTW-G-04 (300 ml, White, Pack of 1)",
          "Kitchen & Dining >> Bar & Glassware >> Bar Glasses >> giftsthatwow Bar Glasses >> giftsthatwow GTW-G-06 (600 ml, White, Pack of 1)",
          "Beauty and Personal Care >> Bath and Spa",
          "Beauty and Personal Care >> Bath and Spa >> Body and Essential Oils",
          "Beauty and Personal Care >> Bath and Spa >> Body and Essential Oils >> Allin Exporters Body and Essential Oils",
          "Beauty and Personal Care >> Bath and Spa >> Body and Essential Oils >> Allin Exporters Body and Essential Oils >> Allin Exporters Fennel Oil (Co2 Extract) (30 ml)",
          "Kitchen & Dining >> Bar & Glassware >> Bar Glasses >> Art n Beyond Bar Glasses",
          "Kitchen & Dining >> Bar & Glassware >> Bar Glasses >> Art n Beyond Bar Glasses >> Art n Beyond 150013 (300 ml, Clear, Pack of 6)",
          "Beauty and Personal Care >> Bath and Spa >> Body and Essential Oils >> Allin Exporters Body and Essential Oils >> Allin Exporters Cumin Seed Oil (Co2 Extract) (25...",
          "Home Furnishing >> Kitchen & Dining Linen >> Kitchen Linen Sets",
          "Home Furnishing >> Kitchen & Dining Linen >> Kitchen Linen Sets >> Cotonex Black, White Cotton Kitchen Linen Set (P...",
          "Home Furnishing >> Kitchen & Dining Linen >> Kitchen Linen Sets >> Cotonex Blue, White Cotton Kitchen Linen Set (Pa...",
          "Home Furnishing >> Kitchen & Dining Linen >> Kitchen Linen Sets >> Cotonex Yellow, Green Cotton Kitchen Linen Set (...",
          "Computers >> Laptop Accessories >> Batteries",
          "Computers >> Laptop Accessories >> Batteries >> Lapguard Batteries",
          "Computers >> Laptop Accessories >> Batteries >> HP Batteries",
          "Computers >> Laptop Accessories >> Batteries >> ARB Batteries",
          "Computers >> Laptop Accessories >> Batteries >> 4D Batteries",
          "Computers >> Laptop Accessories >> Batteries >> Clublaptop Batteries",
          "Computers >> Laptop Accessories >> Batteries >> Rega IT Batteries",
          "Watches >> Wrist Watches >> Sonata Wrist Watches",
          "Watches >> Wrist Watches >> Times Wrist Watches",
          "Watches >> Wrist Watches >> Maxima Wrist Watches",
          "Watches >> Wrist Watches >> Nexus Wrist Watches",
          "Watches >> Wrist Watches >> Logues Wrist Watches",
          "Watches >> Wrist Watches >> Global Nomad Wrist Watches",
          "Watches >> Wrist Watches >> Noise Wrist Watches",
          "Watches >> Wrist Watches >> SF by Sonata Wrist Watches",
          "Watches >> Wrist Watches >> Fluid Wrist Watches",
          "Watches >> Wrist Watches >> HMT Wrist Watches",
          "Watches >> Wrist Watches >> Timewel Wrist Watches",
          "Watches >> Wrist Watches >> Petrol Wrist Watches",
          "Watches >> Wrist Watches >> Only Kidz Wrist Watches",
          "Watches >> Wrist Watches >> Kool Kidz Wrist Watches",
          "Watches >> Wrist Watches >> Olvin Wrist Watches",
          "Watches >> Wrist Watches >> Fastrack Wrist Watches",
          "Watches >> Wrist Watches >> Hourglass Wrist Watches",
          "Watches >> Wrist Watches >> Gift Island Wrist Watches",
          "Watches >> Wrist Watches >> Flippd Wrist Watches",
          "Watches >> Wrist Watches >> Neo Classic Wrist Watches",
          "Computers >> Laptop Accessories >> Cleaning Kits",
          "Computers >> Laptop Accessories >> Cleaning Kits >> Shopfloor.XYZ Cleaning Kits",
          "Computers >> Laptop Accessories >> Cleaning Kits >> Shopfloor.XYZ Cleaning Kits >> Shopfloor.XYZ Vacuum Cleaner for Computers, Lapt...",
          "Baby Care >> Infant Wear >> Baby Girls' Clothes >> Leggings & Jeggings",
          "Baby Care >> Infant Wear >> Baby Girls' Clothes >> Leggings & Jeggings >> Babyoye Premium Leggings & Jeggings",
          "Baby Care >> Infant Wear >> Baby Girls' Clothes >> Leggings & Jeggings >> Babyoye Premium Leggings & Jeggings >> Babyoye Premium Baby Girl's Grey Leggings",
          "Home Furnishing >> Cushions, Pillows & Covers >> Cushions",
          "Home Furnishing >> Cushions, Pillows & Covers >> Cushions >> Furnishing Zone Cushions",
          "Home Furnishing >> Cushions, Pillows & Covers >> Cushions >> Furnishing Zone Cushions >> Furnishing Zone Printed Back Cushion (Pack of2, ...",
          "Baby Care >> Infant Wear >> Baby Girls' Clothes >> Leggings & Jeggings >> Babyoye Premium Leggings & Jeggings >> Babyoye Premium Baby Girl's Multicolor Leggings ...",
          "Baby Care >> Infant Wear >> Baby Girls' Clothes >> Leggings & Jeggings >> GREENWICH Leggings & Jeggings",
          "Baby Care >> Infant Wear >> Baby Girls' Clothes >> Leggings & Jeggings >> GREENWICH Leggings & Jeggings >> GREENWICH Baby Girl's Black Jeggings",
          "Home Decor & Festive Needs >> Flowers, Plants & Vases >> Artificial Plants",
          "Home Decor & Festive Needs >> Flowers, Plants & Vases >> Artificial Plants >> Miracle Retail Artificial Plants",
          "Home Decor & Festive Needs >> Flowers, Plants & Vases >> Artificial Plants >> Miracle Retail Artificial Plants >> Miracle Retail Bonsai Wild Plant Artificial Plan...",
          "Home Decor & Festive Needs >> Flowers, Plants & Vases >> Artificial Plants >> Mayursflora Artificial Plants",
          "Home Decor & Festive Needs >> Flowers, Plants & Vases >> Artificial Plants >> Mayursflora Artificial Plants >> Mayursflora Bonsai Aloe, Maple, Arecaceae, Palm,...",
          "Home Decor & Festive Needs >> Flowers, Plants & Vases >> Artificial Plants >> V Creations Artificial Plants",
          "Home Decor & Festive Needs >> Flowers, Plants & Vases >> Artificial Plants >> V Creations Artificial Plants >> V Creations Bonsai Cactus Artificial Plant  with...",
          "Baby Care >> Infant Wear >> Baby Girls' Clothes >> Innerwear & Sleepwear >> Night Suits >> LITTLE FEETZ Night Suits",
          "Baby Care >> Infant Wear >> Baby Girls' Clothes >> Innerwear & Sleepwear >> Night Suits >> LITTLE FEETZ Night Suits >> LITTLE FEETZ Baby Girl's Solid Top & Skirt Set",
          "Computers >> Tablet Accessories >> Keyboards >> Saco Keyboards",
          "Baby Care >> Infant Wear >> Baby Girls' Clothes >> Dresses & Skirts >> Dresses >> Next Steps Dresses",
          "Home Decor & Festive Needs >> Wall Decor & Clocks >> Wall Shelves",
          "Home Decor & Festive Needs >> Wall Decor & Clocks >> Wall Shelves >> R&Mshoppee Wall Shelves",
          "Home Decor & Festive Needs >> Wall Decor & Clocks >> Wall Shelves >> R&Mshoppee Wall Shelves >> R&Mshoppee MDF Wall Shelf (Number of Shelves - 1...",
          "Kitchen & Dining >> Coffee Mugs >> posterchacha Coffee Mugs",
          "Kitchen & Dining >> Coffee Mugs >> posterchacha Coffee Mugs >> posterchacha Ishita Personalised Custom Name Hap...",
          "Watches >> Wrist Watches >> Curren Nx Wrist Watches",
          "Watches >> Wrist Watches >> Curren Nx Wrist Watches >> Curren Nx Blue Dial Stiched Strap Analog Watch  ...",
          "Computers >> Laptops",
          "Computers >> Laptops >> HP Laptops",
          "Beauty and Personal Care >> Makeup >> Vanity Boxes >> Soulful Threads Vanity Boxes",
          "Beauty and Personal Care >> Makeup >> Vanity Boxes >> Soulful Threads Vanity Boxes >> Soulful Threads Red Thread Aari Embroidered Blac...",
          "Beauty and Personal Care >> Makeup >> Vanity Boxes >> Aapno Rajasthan Vanity Boxes",
          "Beauty and Personal Care >> Makeup >> Vanity Boxes >> Aapno Rajasthan Vanity Boxes >> Aapno Rajasthan Lovely Jewellery Vanity Jeweller...",
          "Beauty and Personal Care >> Makeup >> Vanity Boxes >> MohanJodero Vanity Boxes",
          "Beauty and Personal Care >> Makeup >> Vanity Boxes >> MohanJodero Vanity Boxes >> MohanJodero Jewellery Box Jewellery Vanity Jewel...",
          "Home Decor & Festive Needs >> Garden & Leisure",
          "Home Decor & Festive Needs >> Garden & Leisure >> Hammocks & Swings",
          "Home Decor & Festive Needs >> Garden & Leisure >> Hammocks & Swings >> Hammocks",
          "Home Decor & Festive Needs >> Garden & Leisure >> Hammocks & Swings >> Hammocks >> Rrsskids Hammocks",
          "Home Decor & Festive Needs >> Garden & Leisure >> Hammocks & Swings >> Hammocks >> Rrsskids Hammocks >> Rrsskids Swing King Cotton Hammock (White)",
          "Home Decor & Festive Needs >> Wall Decor & Clocks >> Wall Decals & Stickers >> Smart Wall Guru Wall Decals & Stickers >> Smart Wall Guru Large Adhesive Sticker Sticker (...",
          "Home Furnishing >> Cushions, Pillows & Covers >> Cushion Covers >> Ally The Creations Printed Cushions Cover (Pack ...",
          "Baby Care >> Feeding & Nursing >> Bibs & Hankies",
          "Baby Care >> Feeding & Nursing >> Bibs & Hankies >> Bibs",
          "Baby Care >> Feeding & Nursing >> Bibs & Hankies >> Bibs >> Cheeky Chompers Bibs",
          "Baby Care >> Feeding & Nursing >> Bibs & Hankies >> Bibs >> Cheeky Chompers Bibs >> Cheeky Chompers The Neckerchew - Simple Classic ...",
          "Baby Care >> Feeding & Nursing >> Bibs & Hankies >> Bibs >> Piyo Piyo Bibs",
          "Baby Care >> Feeding & Nursing >> Bibs & Hankies >> Bibs >> Piyo Piyo Bibs >> Piyo Piyo Four Stage Waterproof Bib (Yellow)",
          "Home Decor & Festive Needs >> Wall Decor & Clocks >> Wall Shelves >> Innovative Wall Shelves",
          "Home Decor & Festive Needs >> Wall Decor & Clocks >> Wall Shelves >> Innovative Wall Shelves >> Innovative Single Corner Stainless Steel Wall Sh...",
          "Baby Care >> Baby Grooming >> Boreal Baby Grooming",
          "Baby Care >> Baby Grooming >> Boreal Baby Grooming >> Boreal Plastic rectangular hair brush 633D",
          "Baby Care >> Infant Wear >> Baby Girls' Clothes >> Dresses & Skirts >> Dresses >> Pokizo Dresses",
          "Baby Care >> Infant Wear >> Baby Girls' Clothes >> Dresses & Skirts >> Dresses >> Pokizo Dresses >> Pokizo Baby Girl's A-line Dress",
          "Baby Care >> Infant Wear >> Baby Girls' Clothes >> Dresses & Skirts >> Dresses >> Titrit Dresses",
          "Baby Care >> Infant Wear >> Baby Girls' Clothes >> Dresses & Skirts >> Dresses >> Titrit Dresses >> Titrit Baby Girl's Gathered Dress",
          "Baby Care >> Infant Wear >> Baby Girls' Clothes >> Dresses & Skirts >> Dresses >> Young Birds Dresses",
          "Baby Care >> Infant Wear >> Baby Girls' Clothes >> Dresses & Skirts >> Dresses >> Young Birds Dresses >> Young Birds Baby Girl's Fit and Flare Dress",
          "Baby Care >> Infant Wear >> Baby Boys' Clothes >> Bodysuits & Sleepsuits >> Bodysuits >> FS Mini Klub Bodysuits",
          "Baby Care >> Infant Wear >> Baby Boys' Clothes >> Bodysuits & Sleepsuits >> Bodysuits >> FS Mini Klub Bodysuits >> FS Mini Klub Baby Boy's Bodysuit",
          "Baby Care >> Infant Wear >> Baby Boys' Clothes >> Bodysuits & Sleepsuits >> Bodysuits >> chota packet Bodysuits",
          "Baby Care >> Infant Wear >> Baby Boys' Clothes >> Bodysuits & Sleepsuits >> Bodysuits >> chota packet Bodysuits >> chota packet Baby Boy's, Baby Girl's Bodysuit",
          "Baby Care >> Infant Wear >> Baby Boys' Clothes >> Bodysuits & Sleepsuits >> Bodysuits >> You Got Plan B Bodysuits",
          "Baby Care >> Infant Wear >> Baby Boys' Clothes >> Bodysuits & Sleepsuits >> Bodysuits >> You Got Plan B Bodysuits >> You Got Plan B Baby Boy's, Baby Girl's Romper",
          "Baby Care >> Diapering & Potty Training >> Diaper Bags",
          "Baby Care >> Diapering & Potty Training >> Diaper Bags >> Mee Mee Diaper Bags",
          "Baby Care >> Diapering & Potty Training >> Diaper Bags >> Mee Mee Diaper Bags >> Mee Mee Multifunctional Nursery Diaper Bag (Dark...",
          "Baby Care >> Infant Wear >> Baby Girls' Clothes >> Leggings & Jeggings >> Zero Leggings & Jeggings",
          "Baby Care >> Infant Wear >> Baby Girls' Clothes >> Leggings & Jeggings >> Zero Leggings & Jeggings >> Zero Baby Girl's Leggings (Pack of 3)",
          "Baby Care >> Infant Wear >> Baby Boys' Clothes >> Suits and Blazers",
          "Baby Care >> Infant Wear >> Baby Boys' Clothes >> Suits and Blazers >> Blazers",
          "Baby Care >> Infant Wear >> Baby Boys' Clothes >> Suits and Blazers >> Blazers >> Oxolloxo Blazers",
          "Baby Care >> Infant Wear >> Baby Boys' Clothes >> Suits and Blazers >> Blazers >> Oxolloxo Blazers >> Oxolloxo Solid Single Breasted Casual Women's Bl...",
          "Home Decor & Festive Needs >> Decorative Lighting & Lamps >> Lanterns",
          "Home Decor & Festive Needs >> Decorative Lighting & Lamps >> Lanterns >> SHOPOJ Lanterns",
          "Home Decor & Festive Needs >> Decorative Lighting & Lamps >> Lanterns >> SHOPOJ Lanterns >> SHOPOJ Blue Paper Sky Lantern (80 cm X 34 cm, Pa...",
          "Home Furnishing >> Curtains & Accessories >> Curtains >> Ville Style Polyester Maroon Floral Eyelet Door ...",
          "Beauty and Personal Care >> Hair Care >> Hair Care Accessories >> Hair Accessories >> Sarah Hair Accessories",
          "Beauty and Personal Care >> Hair Care >> Hair Care Accessories >> Hair Accessories >> Sarah Hair Accessories >> Sarah Stylish Hair Claw (Brown)",
          "Kitchen & Dining >> Cookware >> Pots & Pans >> Cookware Pots",
          "Kitchen & Dining >> Cookware >> Pots & Pans >> Cookware Pots >> Wonderchef Cookware Pots",
          "Kitchen & Dining >> Cookware >> Pots & Pans >> Cookware Pots >> Wonderchef Cookware Pots >> Wonderchef Windsor Roaster 26cm Pot 3.4 L (Alumi...",
          "Baby Care >> Infant Wear >> Baby Girls' Clothes >> T-Shirts & Tops",
          "Baby Care >> Infant Wear >> Baby Girls' Clothes >> T-Shirts & Tops >> Shrugs",
          "Baby Care >> Infant Wear >> Baby Girls' Clothes >> T-Shirts & Tops >> Shrugs >> Kushies baby Shrugs",
          "Baby Care >> Infant Wear >> Baby Girls' Clothes >> T-Shirts & Tops >> Shrugs >> Kushies baby Shrugs >> Kushies baby Baby Girl's Shrug",
          "Baby Care >> Infant Wear >> Baby Girls' Clothes >> Dresses & Skirts >> Dresses >> Wow! Dresses",
          "Baby Care >> Infant Wear >> Baby Girls' Clothes >> Dresses & Skirts >> Dresses >> Wow! Dresses >> Wow! Baby Girl's Gathered Yellow Dress",
          "Baby Care >> Infant Wear >> Baby Girls' Clothes >> Innerwear & Sleepwear >> Night Suits >> CHOCOBERRY Night Suits",
          "Baby Care >> Infant Wear >> Baby Girls' Clothes >> Innerwear & Sleepwear >> Night Suits >> CHOCOBERRY Night Suits >> CHOCOBERRY Baby Girl's Printed White, Dark Blue ...",
          "Baby Care >> Infant Wear >> Baby Boys' Clothes >> Shorts & Trousers >> Shorts",
          "Baby Care >> Infant Wear >> Baby Boys' Clothes >> Shorts & Trousers >> Shorts >> Lilliput Shorts",
          "Baby Care >> Infant Wear >> Baby Boys' Clothes >> Shorts & Trousers >> Shorts >> Lilliput Shorts >> Lilliput Solid Baby Boy's Blue Cargo Shorts",
          "Baby Care >> Infant Wear >> Baby Girls' Clothes >> Dresses & Skirts >> Dresses >> Jacadi Paris Dresses",
          "Baby Care >> Infant Wear >> Baby Girls' Clothes >> Dresses & Skirts >> Dresses >> Jacadi Paris Dresses >> Jacadi Paris Baby Girl's Gathered Dark Blue Dress",
          "Baby Care >> Infant Wear >> Baby Girls' Clothes >> Dresses & Skirts >> Dresses >> Wow! Dresses >> Wow! Baby Girl's Gathered Pink Dress",
          "Baby Care >> Infant Wear >> Baby Girls' Clothes >> Dresses & Skirts >> Dresses >> Wow! Dresses >> Wow! Baby Girl's Gathered Red Dress",
          "Baby Care >> Infant Wear >> Baby Girls' Clothes >> Dresses & Skirts >> Dresses >> Jacadi Paris Dresses >> Jacadi Paris Baby Girl's Gathered Blue Dress",
          "Baby Care >> Infant Wear >> Baby Boys' Clothes >> Shorts & Trousers >> Shorts >> FS Mini Klub Shorts",
          "Baby Care >> Infant Wear >> Baby Boys' Clothes >> Shorts & Trousers >> Shorts >> FS Mini Klub Shorts >> FS Mini Klub Printed Baby Boy's Multicolor Basic...",
          "Kitchen & Dining >> Housekeeping & Laundry",
          "Kitchen & Dining >> Housekeeping & Laundry >> Home Cleaning",
          "Kitchen & Dining >> Housekeeping & Laundry >> Home Cleaning >> Brooms & Brushes",
          "Kitchen & Dining >> Housekeeping & Laundry >> Home Cleaning >> Brooms & Brushes >> Geol Brooms & Brushes",
          "Kitchen & Dining >> Housekeeping & Laundry >> Home Cleaning >> Brooms & Brushes >> Geol Brooms & Brushes >> Geol Wooden Wet and Dry Broom (Brown, Pack of 1)",
          "Computers >> Laptop Accessories >> Laptop Bags",
          "Computers >> Laptop Accessories >> Laptop Bags >> Sunlast Laptop Bags",
          "Computers >> Laptop Accessories >> Laptop Bags >> Sunlast Laptop Bags >> Sunlast 16 inch Laptop Backpack (Yellow)",
          "Baby Care >> Infant Wear >> Baby Girls' Clothes >> Innerwear & Sleepwear >> Night Suits >> NammaBaby Night Suits",
          "Baby Care >> Infant Wear >> Baby Girls' Clothes >> Innerwear & Sleepwear >> Night Suits >> NammaBaby Night Suits >> NammaBaby Baby Girl's Animal Print Top & Pyjama Set",
          "Baby Care >> Infant Wear >> Baby Girls' Clothes >> Innerwear & Sleepwear >> Night Suits >> Thakkar Night Suits",
          "Baby Care >> Infant Wear >> Baby Girls' Clothes >> Innerwear & Sleepwear >> Night Suits >> Thakkar Night Suits >> Thakkar Baby Girl's Printed Top & Pyjama Set",
          "Baby Care >> Infant Wear >> Baby Girls' Clothes >> Innerwear & Sleepwear >> Night Suits >> next steps Night Suits",
          "Baby Care >> Infant Wear >> Baby Girls' Clothes >> Innerwear & Sleepwear >> Night Suits >> next steps Night Suits >> next steps Baby Girl's Striped Top & Pyjama Set",
          "Computers >> Computer Components",
          "Computers >> Computer Components >> Processors",
          "Computers >> Computer Components >> Processors >> Intel Processors",
          "Computers >> Computer Components >> Processors >> Intel Processors >> Intel 3.2 GHz LGA 1150 3250 Processor (BLACK)",
          "Baby Care >> Infant Wear >> Baby Girls' Clothes >> Dresses & Skirts >> Dresses >> MKB Dresses >> MKB Baby Girl's Empire Waist Dress",
          "Baby Care >> Infant Wear >> Baby Girls' Clothes >> Dresses & Skirts >> Dresses >> NeedyBee Dresses",
          "Baby Care >> Infant Wear >> Baby Girls' Clothes >> Dresses & Skirts >> Dresses >> NeedyBee Dresses >> NeedyBee Baby Girl's Layered Dress",
          "Baby Care >> Infant Wear >> Baby Girls' Clothes >> Dresses & Skirts >> Dresses >> Seals Dresses",
          "Baby Care >> Infant Wear >> Baby Girls' Clothes >> Dresses & Skirts >> Dresses >> Seals Dresses >> Seals Baby Girl's A-line Dress",
          "Baby Care >> Infant Wear >> Baby Girls' Clothes >> Dresses & Skirts >> Dresses >> Chokree Dresses >> Chokree Baby Girl's A-line Dress",
          "Baby Care >> Infant Wear >> Baby Boys' Clothes >> Innerwear & Sleepwear",
          "Baby Care >> Infant Wear >> Baby Boys' Clothes >> Innerwear & Sleepwear >> Bloomers & Drawers",
          "Baby Care >> Infant Wear >> Baby Boys' Clothes >> Innerwear & Sleepwear >> Bloomers & Drawers >> Esteem Bloomers & Drawers",
          "Baby Care >> Infant Wear >> Baby Boys' Clothes >> Innerwear & Sleepwear >> Bloomers & Drawers >> Esteem Bloomers & Drawers >> Esteem Baby Boy's Drawer",
          "Home Decor & Festive Needs >> Wall Decor & Clocks >> Clocks",
          "Home Decor & Festive Needs >> Wall Decor & Clocks >> Clocks >> Wall Clocks",
          "Home Decor & Festive Needs >> Wall Decor & Clocks >> Clocks >> Wall Clocks >> KLOCX Wall Clocks",
          "Home Decor & Festive Needs >> Wall Decor & Clocks >> Clocks >> Wall Clocks >> KLOCX Wall Clocks >> KLOCX Analog Wall Clock (Black, With Glass)",
          "Baby Care >> Baby Bath & Skin >> Baby Bath Towels >> Marvel Baby Bath Towels",
          "Watches >> Wrist Watches >> Romex Wrist Watches",
          "Baby Care >> Baby Bath & Skin >> Baby Bath Towels >> The Intellect Bazaar Baby Bath Towels",
          "Baby Care >> Baby & Kids Gifts",
          "Baby Care >> Baby & Kids Gifts >> Photo Frames",
          "Baby Care >> Baby & Kids Gifts >> Photo Frames >> Wood Beauty Photo Frames",
          "Baby Care >> Baby Bath & Skin >> Baby Bath Towels >> BornBabyKids Baby Bath Towels",
          "Baby Care >> Feeding & Nursing >> Utensils",
          "Baby Care >> Feeding & Nursing >> Utensils >> Sippers & Cups",
          "Baby Care >> Feeding & Nursing >> Utensils >> Sippers & Cups >> Munchkin Sippers & Cups",
          "Home Decor & Festive Needs >> Wall Decor & Clocks >> Wall Decals & Stickers >> Creative Width Decor Wall Decals & Stickers",
          "Home Decor & Festive Needs >> Table Decor & Handicrafts >> Showpieces >> Religious Idols >> Divine Gifts & Artificial Jewellery Religious Idols",
          "Baby Care >> Feeding & Nursing >> Utensils >> Sippers & Cups >> Blue Bell Sippers & Cups",
          "Baby Care >> Baby Bath & Skin >> Baby Bath Towels >> Welhouse Baby Bath Towels",
          "Baby Care >> Infant Wear >> Baby Girls' Clothes >> Accessories",
          "Baby Care >> Infant Wear >> Baby Girls' Clothes >> Accessories >> Caps",
          "Baby Care >> Infant Wear >> Baby Girls' Clothes >> Accessories >> Caps >> Portia Caps",
          "Baby Care >> Infant Wear >> Baby Girls' Clothes >> Ethnic Wear >> Ethnic Sets",
          "Baby Care >> Infant Wear >> Baby Girls' Clothes >> Ethnic Wear >> Ethnic Sets >> RTD Ethnic Sets",
          "Kitchen & Dining >> Lighting >> Bulbs >> Ornate Bulbs",
          "Baby Care >> Baby Bath & Skin >> Baby Bath Towels >> Shrikant Traders Baby Bath Towels",
          "Baby Care >> Baby & Kids Gifts >> Photo Frames >> MH Photo Frames",
          "Kitchen & Dining >> Lighting >> Bulbs >> NIKsales Bulbs",
          "Baby Care >> Baby & Kids Gifts >> Photo Frames >> Indha Craft Photo Frames",
          "Kitchen & Dining >> Lighting >> Bulbs >> VRCT Bulbs",
          "Baby Care >> Baby Bath & Skin >> Baby Bath Towels >> BabyBucket Baby Bath Towels",
          "Kitchen & Dining >> Lighting >> Bulbs >> Simoco Bulbs",
          "Baby Care >> Baby Bath & Skin >> Baby Bath Towels >> Neyth Baby Bath Towels",
          "Home Decor & Festive Needs >> Table Decor & Handicrafts >> Showpieces >> Religious Idols >> AsiaCraft Religious Idols",
          "Kitchen & Dining >> Lighting >> Bulbs >> Soy Impulse Bulbs",
          "Baby Care >> Baby & Kids Gifts >> Photo Frames >> Cocovey Photo Frames",
          "Beauty and Personal Care >> Body and Skin Care >> Face Care",
          "Beauty and Personal Care >> Body and Skin Care >> Face Care >> Sunscreen",
          "Beauty and Personal Care >> Body and Skin Care >> Face Care >> Sunscreen >> VLCC Sunscreen",
          "Beauty and Personal Care >> Body and Skin Care >> Face Care >> Sunscreen >> Lotus Sunscreen",
          "Beauty and Personal Care >> Body and Skin Care >> Face Care >> Sunscreen >> Oshea Herbals Sunscreen",
          "Beauty and Personal Care >> Body and Skin Care >> Face Care >> Sunscreen >> Richfeel Sunscreen",
          "Beauty and Personal Care >> Body and Skin Care >> Face Care >> Sunscreen >> Keya Seth Sunscreen",
          "Beauty and Personal Care >> Body and Skin Care >> Face Care >> Sunscreen >> Jovees Sunscreen",
          "Beauty and Personal Care >> Body and Skin Care >> Face Care >> Sunscreen >> Whiteherbs Sunscreen",
          "Kitchen & Dining >> Lighting >> Bulbs >> Philips Bulbs",
          "Beauty and Personal Care >> Body and Skin Care >> Face Care >> Sunscreen >> Oriflame Sweden Sunscreen",
          "Beauty and Personal Care >> Body and Skin Care >> Face Care >> Sunscreen >> Aveeno Sunscreen",
          "Beauty and Personal Care >> Body and Skin Care >> Face Care >> Sunscreen >> La Roche-Posay Sunscreen",
          "Home Decor & Festive Needs >> Wall Decor & Clocks >> Paintings",
          "Home Decor & Festive Needs >> Wall Decor & Clocks >> Paintings >> Wallmantra Paintings",
          "Home Decor & Festive Needs >> Wall Decor & Clocks >> Paintings >> Tallenge Paintings",
          "Home Furnishing >> Kitchen & Dining Linen >> Table Placemats",
          "Home Furnishing >> Kitchen & Dining Linen >> Table Placemats >> Vgstore Rectangular Pack of 6 Table Placemat (Da...",
          "Home Decor & Festive Needs >> Showpieces >> Jaipur Raga Showpieces",
          "Home Decor & Festive Needs >> Table Decor & Handicrafts >> Showpieces >> Religious Idols >> Golmaalshop Religious Idols",
          "Baby Care >> Diapering & Potty Training >> Nappies & Cloth Diapers",
          "Baby Care >> Diapering & Potty Training >> Nappies & Cloth Diapers >> U & ME Nappies & Cloth Diapers",
          "Baby Care >> Diapering & Potty Training >> Nappies & Cloth Diapers >> MyKid Nappies & Cloth Diapers",
          "Baby Care >> Diapering & Potty Training >> Nappies & Cloth Diapers >> Pompom Sweethearts Nappies & Cloth Diapers",
          "Home Furnishing >> Kitchen & Dining Linen >> Table Runners",
          "Home Decor & Festive Needs >> Table Decor & Handicrafts >> Showpieces >> Religious Idols >> Craftartz Religious Idols",
          "Baby Care >> Diapering & Potty Training >> Nappies & Cloth Diapers >> HoA Nappies & Cloth Diapers",
          "Home Decor & Festive Needs >> Table Decor & Handicrafts >> Showpieces >> Religious Idols >> Gift Studios Religious Idols",
          "Home Decor & Festive Needs >> Decorative Lighting & Lamps >> Series Lights",
          "Home Decor & Festive Needs >> Decorative Lighting & Lamps >> Series Lights >> VRCT Series Lights",
          "Home Decor & Festive Needs >> Decorative Lighting & Lamps >> Series Lights >> VRCT Series Lights >> VRCT 196 inch Green Rice Lights (Pack of 1)",
          "Beauty and Personal Care >> Makeup >> Lips >> Lipsticks",
          "Beauty and Personal Care >> Makeup >> Lips >> Lipsticks >> Foolzy Lipsticks",
          "Home Furnishing >> Kitchen & Dining Linen >> Kitchen Linen Sets >> Tidy Kitchen Linen Sets",
          "Home Furnishing >> Kitchen & Dining Linen >> Kitchen Linen Sets >> Tidy Kitchen Linen Sets >> Tidy Green Cotton Kitchen Linen Set (Pack of 3)",
          "Baby Care >> Infant Wear >> Baby Boys' Clothes >> Bodysuits & Sleepsuits >> Bodysuits >> Sonpra Bodysuits",
          "Computers >> Computer Peripherals >> Printers & Inks >> Toners >> Canon Toners",
          "Home Decor & Festive Needs >> Table Decor & Handicrafts >> Showpieces >> Religious Idols >> Radhika's World of Crafts Religious Idols",
          "Beauty and Personal Care >> Bath and Spa >> Bath and Spa Accessories",
          "Beauty and Personal Care >> Bath and Spa >> Bath and Spa Accessories >> Loofahs",
          "Beauty and Personal Care >> Bath and Spa >> Bath and Spa Accessories >> Loofahs >> AntiqueShop Loofahs",
          "Beauty and Personal Care >> Bath and Spa >> Bath and Spa Accessories >> Loofahs >> AntiqueShop Loofahs >> AntiqueShop ABKL_GRN_GRN_GRN",
          "Beauty and Personal Care >> Bath and Spa >> Bath and Spa Accessories >> Loofahs >> AntiqueShop Loofahs >> AntiqueShop ABKL_PL_PNK_PNK",
          "Beauty and Personal Care >> Bath and Spa >> Bath and Spa Accessories >> Loofahs >> AntiqueShop Loofahs >> AntiqueShop ABKL_PL_PL_PNK",
          "Home Decor & Festive Needs >> Religion & Devotion",
          "Home Decor & Festive Needs >> Religion & Devotion >> brass gift center Religion & Devotion",
          "Home Decor & Festive Needs >> Religion & Devotion >> brass gift center Religion & Devotion >> brass gift center Showpiece  -  48 cm (Brass, Mu...",
          "Kitchen & Dining >> Dinnerware & Crockery",
          "Kitchen & Dining >> Dinnerware & Crockery >> Cups & Saucers",
          "Kitchen & Dining >> Dinnerware & Crockery >> Cups & Saucers >> Buyer's Beach Cups & Saucers",
          "Kitchen & Dining >> Dinnerware & Crockery >> Cups & Saucers >> Buyer's Beach Cups & Saucers >> Buyer's Beach BB349 (Brown)",
          "Computers >> Laptop Accessories >> Anti Dust Plugs",
          "Computers >> Laptop Accessories >> Anti Dust Plugs >> Pindia Anti Dust Plugs",
          "Watches >> Wrist Watches >> Fogg Fashion Store Wrist Watches",
          "Kitchen & Dining >> Containers & Bottles >> Bottles & Sippers >> Water bottle >> Nutcase Water bottle",
          "Beauty and Personal Care >> Combos and Kits >> Mxofere Combos and Kits",
          "Watches >> Wrist Watches >> SVM Wrist Watches",
          "Watches >> Wrist Watches >> Fighter Wrist Watches",
          "Watches >> Wrist Watches >> Luba Wrist Watches",
          "Watches >> Wrist Watches >> Perucci Wrist Watches",
          "Watches >> Wrist Watches >> Chappin & Nellson Wrist Watches",
          "Beauty and Personal Care >> Combos and Kits >> Oxyglow Combos and Kits",
          "Watches >> Wrist Watches >> Xemex Wrist Watches",
          "Baby Care >> Baby Bedding >> Baby Blankets",
          "Baby Care >> Baby Bedding >> Baby Blankets >> Offspring Baby Blankets",
          "Baby Care >> Baby Bedding >> Baby Blankets >> Ireeya Baby Blankets",
          "Baby Care >> Baby Bedding >> Baby Blankets >> Carter'S Baby Blankets",
          "Baby Care >> Baby Bedding >> Baby Blankets >> My NewBorn Baby Blankets",
          "Watches >> Wrist Watches >> RRTC Wrist Watches",
          "Baby Care >> Feeding & Nursing >> Utensils >> Baby Spoons & Forks",
          "Baby Care >> Feeding & Nursing >> Utensils >> Baby Spoons & Forks >> Funcart Baby Spoons & Forks",
          "Baby Care >> Feeding & Nursing >> Utensils >> Baby Spoons & Forks >> EZ Life Baby Spoons & Forks",
          "Baby Care >> Baby Bath & Skin >> Baby Bath Towels >> Love Baby Baby Bath Towels",
          "Watches >> Wrist Watches >> LUBA Wrist Watches",
          "Beauty and Personal Care >> Eye Care",
          "Beauty and Personal Care >> Eye Care >> Wild Ferns Eye Care",
          "Baby Care >> Diapering & Potty Training >> Nappies & Cloth Diapers >> Ollington St. Collection Nappies & Cloth Diapers",
          "Watches >> Wrist Watches >> Rana Watches Wrist Watches",
          "Watches >> Wrist Watches >> R.S Wrist Watches",
          "Computers >> Laptop Accessories >> Adapters >> Lapguard Adapters",
          "Computers >> Laptop Accessories >> Adapters >> Rega IT Adapters",
          "Home Decor & Festive Needs >> Wall Decor & Clocks >> Clocks >> Wall Clocks >> Regent Wall Clocks",
          "Home Decor & Festive Needs >> Wall Decor & Clocks >> Clocks >> Wall Clocks >> eCraftIndia Wall Clocks",
          "Home Decor & Festive Needs >> Showpiece >> Bharatcraft Showpiece",
          "Home Decor & Festive Needs >> Showpiece >> Bharatcraft Showpiece >> Bharatcraft Wall Hanging Of Lord Ganesha On A Cr...",
          "Watches >> Wrist Watches >> Firstrace Wrist Watches",
          "Watches >> Wrist Watches >> CB Fashion Wrist Watches",
          "Watches >> Wrist Watches >> Timex Wrist Watches",
          "Computers >> Laptop Accessories >> USB Gadgets >> Casotec USB Gadgets",
          "Computers >> Laptop Accessories >> USB Gadgets >> Fonokase USB Gadgets",
          "Computers >> Laptop Accessories >> USB Gadgets >> Memore USB Gadgets",
          "Computers >> Laptop Accessories >> USB Gadgets >> Orico USB Gadgets",
          "Computers >> Laptop Accessories >> USB Gadgets >> Bigkik USB Gadgets",
          "Computers >> Laptop Accessories >> USB Gadgets >> Tapawire USB Gadgets",
          "Computers >> Laptop Accessories >> USB Gadgets >> Crystle USB Gadgets",
          "Computers >> Laptop Accessories >> USB Gadgets >> Amaze Fashion USB Gadgets",
          "Computers >> Laptop Accessories >> USB Gadgets >> RRP USB Gadgets",
          "Computers >> Laptop Accessories >> USB Gadgets >> Techone+ USB Gadgets",
          "Computers >> Laptop Accessories >> USB Gadgets >> Himtek USB Gadgets",
          "Computers >> Laptop Accessories >> USB Gadgets >> KLIQVIK USB Gadgets",
          "Computers >> Laptop Accessories >> USB Gadgets >> Epresent USB Gadgets",
          "Computers >> Laptop Accessories >> USB Gadgets >> Task Logistics USB Gadgets",
          "Baby Care >> Infant Wear >> Baby Girls' Clothes >> Shorts & Trousers >> Trousers",
          "Baby Care >> Infant Wear >> Baby Girls' Clothes >> Shorts & Trousers >> Trousers >> Feetje Trousers",
          "Computers >> Laptop Accessories >> USB Gadgets >> LUV USB Gadgets",
          "Computers >> Laptop Accessories >> USB Gadgets >> Rock USB Gadgets",
          "Computers >> Laptop Accessories >> USB Gadgets >> Generix USB Gadgets",
          "Computers >> Laptop Accessories >> USB Gadgets >> QP360 USB Gadgets",
          "Computers >> Laptop Accessories >> USB Gadgets >> Zaicus USB Gadgets",
          "Computers >> Laptop Accessories >> USB Gadgets >> Akshaj USB Gadgets",
          "Computers >> Laptop Accessories >> USB Gadgets >> Lifestyle-You USB Gadgets",
          "Computers >> Laptop Accessories >> USB Gadgets >> 99Gems USB Gadgets",
          "Computers >> Laptop Accessories >> USB Gadgets >> De TechInn USB Gadgets",
          "Computers >> Laptop Accessories >> USB Gadgets >> Dizionario USB Gadgets",
          "Computers >> Laptop Accessories >> USB Gadgets >> Kensington USB Gadgets",
          "Computers >> Laptop Accessories >> Batteries >> RCE Batteries",
          "Baby Care >> Infant Wear >> Baby Girls' Clothes >> Combo Sets",
          "Baby Care >> Infant Wear >> Baby Girls' Clothes >> Combo Sets >> kawal fashion Combo Sets",
          "Baby Care >> Infant Wear >> Baby Girls' Clothes >> Combo Sets >> kawal fashion Combo Sets >> kawal fashion Pyjama Baby Girl's  Combo",
          "Beauty and Personal Care >> Men's Grooming",
          "Beauty and Personal Care >> Men's Grooming >> Sivanna Men's Grooming",
          "Beauty and Personal Care >> Men's Grooming >> Sivanna Men's Grooming >> Sivanna Baking Powder Rouge  Highlighter (Dark p...",
          "Baby Care >> Infant Wear >> Baby Girls' Clothes >> Bodysuits & Sleepsuits >> Bodysuits",
          "Baby Care >> Infant Wear >> Baby Girls' Clothes >> Bodysuits & Sleepsuits >> Bodysuits >> Lula Bodysuits",
          "Baby Care >> Infant Wear >> Baby Girls' Clothes >> Bodysuits & Sleepsuits >> Bodysuits >> Lula Bodysuits >> Lula Baby Girl's Dark Blue Bodysuit",
          "Home Furnishing >> Bath Linen >> Towels",
          "Baby Care >> Baby Grooming >> Baby Massage Oils",
          "Baby Care >> Baby Grooming >> Baby Massage Oils >> Shagun Gold Baby Massage Oils",
          "Beauty and Personal Care >> Bath and Spa >> Body and Essential Oils >> SSCP Body and Essential Oils",
          "Baby Care >> Furniture & Furnishings >> Inflatable Products >> Intex Inflatable Products",
          "Beauty and Personal Care >> Health Care >> Health Care Accessories",
          "Beauty and Personal Care >> Health Care >> Health Care Accessories >> Health Care Accessories",
          "Beauty and Personal Care >> Health Care >> Health Care Accessories >> Health Care Accessories >> KDS SURGICAL Health Care Accessories",
          "Beauty and Personal Care >> Health Care >> Health Care Accessories >> Health Care Accessories >> KDS SURGICAL Health Care Accessories >> KDS SURGICAL Tripod Walking Stick",
          "Home Decor & Festive Needs >> Showpiece >> Contemporary >> Bharatcraft Contemporary",
          "Home Decor & Festive Needs >> Showpiece >> Contemporary >> Bharatcraft Contemporary >> Bharatcraft Showpiece  -  5 cm (Polyresin, Brown)",
          "Beauty and Personal Care >> Hair Care >> Hair Colors >> Loreal Hair Colors",
          "Beauty and Personal Care >> Hair Care >> Hair Colors >> Loreal Hair Colors >> Loreal Diarichesse No- 5 Light Brown ( Pack of 3...",
          "Home Decor & Festive Needs >> Flowers, Plants & Vases >> Flower Vase >> @home Flower Vase >> @home Earthy Wine Net Ceramic Vase (9.8250000000...",
          "Kitchen & Dining >> Tableware & Cutlery >> Jugs & Pitchers",
          "Kitchen & Dining >> Tableware & Cutlery >> Jugs & Pitchers >> Jugs",
          "Kitchen & Dining >> Tableware & Cutlery >> Jugs & Pitchers >> Jugs >> Prisha India Craft Jugs",
          "Kitchen & Dining >> Tableware & Cutlery >> Jugs & Pitchers >> Jugs >> Prisha India Craft Jugs >> Prisha India Craft m_jug015-1-prishaindia Water ...",
          "Home Decor & Festive Needs >> Wall Decor & Clocks >> Paintings >> BRANDWAGON Paintings",
          "Home Decor & Festive Needs >> Wall Decor & Clocks >> Paintings >> BRANDWAGON Paintings >> BRANDWAGON DIGIPRINT Digital Reprint Painting (1...",
          "Baby Care >> Baby Bedding >> Baby Blankets >> Relaxfeel Baby Blankets",
          "Baby Care >> Baby Bedding >> Baby Blankets >> Relaxfeel Baby Blankets >> Relaxfeel Floral Single Dohar White (AC Dohar)",
          "Home Decor & Festive Needs >> Wall Decor & Clocks >> Posters",
          "Home Decor & Festive Needs >> Wall Decor & Clocks >> Posters >> STYLE CLUES FASHION Posters",
          "Home Decor & Festive Needs >> Wall Decor & Clocks >> Posters >> STYLE CLUES FASHION Posters >> scarlet tanager bird normal POSTER Paper Print (...",
          "Home Decor & Festive Needs >> Wall Decor & Clocks >> Posters >> Mega product Posters",
          "Home Decor & Festive Needs >> Wall Decor & Clocks >> Posters >> Mega product Posters >> good-night-angel-sleep-well-pics Paper Print (18...",
          "Baby Care >> Infant Wear >> Baby Boys' Clothes >> Shirts",
          "Baby Care >> Infant Wear >> Baby Boys' Clothes >> Shirts >> Fs Mini Klub Shirts",
          "Baby Care >> Infant Wear >> Baby Boys' Clothes >> Shirts >> Fs Mini Klub Shirts >> Fs Mini Klub Baby Boy's Woven Casual Shirt",
          "Baby Care >> Infant Wear >> Baby Boys' Clothes >> Shirts >> Cotton On Kids Shirts",
          "Baby Care >> Infant Wear >> Baby Boys' Clothes >> Shirts >> Cotton On Kids Shirts >> Cotton On Kids Baby Boy's Printed Casual Shirt",
          "Baby Care >> Infant Wear >> Baby Girls' Clothes >> Accessories >> Hats",
          "Baby Care >> Infant Wear >> Baby Girls' Clothes >> Accessories >> Hats >> Portia Hats",
          "Baby Care >> Infant Wear >> Baby Girls' Clothes >> Accessories >> Hats >> Portia Hats >> Portia Hat (Pink, Pack of 1)",
          "Baby Care >> Infant Wear >> Baby Boys' Clothes >> Shirts >> Beebay Shirts",
          "Baby Care >> Infant Wear >> Baby Boys' Clothes >> Shirts >> Beebay Shirts >> Beebay Baby Boy's Checkered Casual Shirt",
          "Home Decor & Festive Needs >> Wall Decor & Clocks >> Posters >> Shoperite Posters",
          "Home Decor & Festive Needs >> Wall Decor & Clocks >> Posters >> Shoperite Posters >> painting_art_couple_love__Dance Paper Print (12 ...",
          "Home Decor & Festive Needs >> Wall Decor & Clocks >> Posters >> Urban Monk Posters",
          "Home Decor & Festive Needs >> Wall Decor & Clocks >> Posters >> Urban Monk Posters >> Bourne Supermacy Canvas Art (18 inch X 12 inch, ...",
          "Watches >> Clocks",
          "Watches >> Clocks >> Table Clocks",
          "Watches >> Clocks >> Table Clocks >> Like Table Clocks",
          "Watches >> Clocks >> Table Clocks >> Like Table Clocks >> Like Analog Purple Clock",
          "Baby Care >> Infant Wear >> Baby Boys' Clothes >> Shirts >> 612 League Shirts",
          "Baby Care >> Infant Wear >> Baby Boys' Clothes >> Shirts >> 612 League Shirts >> 612 League Baby Boy's Checkered Casual Shirt",
          "Baby Care >> Infant Wear >> Baby Boys' Clothes >> Shirts >> FS Mini Klub Shirts",
          "Baby Care >> Infant Wear >> Baby Boys' Clothes >> Shirts >> FS Mini Klub Shirts >> FS Mini Klub Baby Boy's Woven Casual Shirt",
          "Home Decor & Festive Needs >> Wall Decor & Clocks >> Wallpapers",
          "Home Decor & Festive Needs >> Wall Decor & Clocks >> Wallpapers >> wallskart Wallpapers",
          "Home Decor & Festive Needs >> Wall Decor & Clocks >> Wallpapers >> wallskart Wallpapers >> wallskart Floral & Botanical Wallpaper (35.56 cm...",
          "Home Decor & Festive Needs >> Decorative Lighting & Lamps >> Series Lights >> Megaway Series Lights",
          "Home Decor & Festive Needs >> Table Decor & Handicrafts >> Showpieces >> Religious Idols >> Anjalika Religious Idols",
          "Home Decor & Festive Needs >> Decorative Lighting & Lamps >> Series Lights >> Digilight Series Lights",
          "Home Decor & Festive Needs >> Table Decor & Handicrafts >> Showpieces >> Religious Idols >> Agrasen International Religious Idols",
          "Home Decor & Festive Needs >> Decorative Lighting & Lamps >> Series Lights >> Pinc Ginger Series Lights",
          "Beauty and Personal Care >> Makeup >> Lips >> Lipsticks >> Elfani Lipsticks",
          "Home Decor & Festive Needs >> Decorative Lighting & Lamps >> Series Lights >> Home Delight Series Lights",
          "Home Decor & Festive Needs >> Showpieces >> Adaa Showpieces",
          "Home Decor & Festive Needs >> Table Decor & Handicrafts >> Showpieces >> Religious Idols >> Utsav Handicraft Religious Idols",
          "Beauty and Personal Care >> Makeup >> Lips >> Lipsticks >> Incolor Lipsticks",
          "Home Decor & Festive Needs >> Decorative Lighting & Lamps >> Series Lights >> My Party Suppliers Series Lights",
          "Home Decor & Festive Needs >> Decorative Lighting & Lamps >> Series Lights >> GrandShop Series Lights",
          "Home Decor & Festive Needs >> Showpieces >> eCraftIndia Showpieces",
          "Home Decor & Festive Needs >> Table Decor & Handicrafts >> Table Decor >> Hookah & Hookah Flavours >> Hookah Flavors",
          "Home Decor & Festive Needs >> Table Decor & Handicrafts >> Table Decor >> Hookah & Hookah Flavours >> Hookah Flavors >> Al Fakher Hookah Flavors",
          "Home Decor & Festive Needs >> Decorative Lighting & Lamps >> Series Lights >> Weldecor Series Lights",
          "Beauty and Personal Care >> Makeup >> Lips >> Lipsticks >> Organistick Lipsticks",
          "Home Decor & Festive Needs >> Table Decor & Handicrafts >> Showpieces >> Religious Idols >> Eshoppee Religious Idols",
          "Home Decor & Festive Needs >> Table Decor & Handicrafts >> Table Decor >> Hookah & Hookah Flavours >> Hookah Flavors >> Arabian Nights Hookah Flavors",
          "Home Decor & Festive Needs >> Religion & Devotion >> Shankh",
          "Home Decor & Festive Needs >> Religion & Devotion >> Shankh >> The Art Treasure Shankh",
          "Kitchen & Dining >> Tableware & Cutlery >> Cutlery",
          "Kitchen & Dining >> Tableware & Cutlery >> Cutlery >> Forks",
          "Kitchen & Dining >> Tableware & Cutlery >> Cutlery >> Forks >> Bhalaria Forks",
          "Kitchen & Dining >> Tableware & Cutlery >> Cutlery >> Forks >> Bhalaria Forks >> Bhalaria Dessert Fork Stainless Steel Dessert Fo...",
          "Home Decor & Festive Needs >> Decorative Lighting & Lamps >> Floor Lamp",
          "Home Decor & Festive Needs >> Decorative Lighting & Lamps >> Floor Lamp >> Nutcase Floor Lamp",
          "Home Decor & Festive Needs >> Decorative Lighting & Lamps >> Floor Lamp >> Nutcase Floor Lamp >> Nutcase Multicolor Column Floor Lamp (31 cm)",
          "Home Furnishing >> Floor Coverings",
          "Home Furnishing >> Floor Coverings >> Carpets & Rugs",
          "Home Furnishing >> Floor Coverings >> Carpets & Rugs >> M S Rugs Pink, Blue Wool Dhurrie (120 cm  X 180 cm)",
          "Home Furnishing >> Floor Coverings >> Carpets & Rugs >> GIMS Brown Viscose Carpet (165 cm  X 120 cm)",
          "Home Furnishing >> Kitchen & Dining Linen >> Kitchen Linen Sets >> Cotonex Beige Cotton Kitchen Linen Set (Pack of 2)",
          "Home Furnishing >> Floor Coverings >> Carpets & Rugs >> FURNISHINGLAND Green Silk Carpet (60 cm  X 180 cm)",
          "Home Furnishing >> Floor Coverings >> Carpets & Rugs >> FURNISHINGLAND Black Polyester Carpet (90 cm  X ...",
          "Home Furnishing >> Floor Coverings >> Carpets & Rugs >> loomkart Blue Polyester Runner (55 cm  X 147 cm)",
          "Home Furnishing >> Floor Coverings >> Carpets & Rugs >> FURNISHINGLAND Maroon Silk Carpet (60 cm  X 180 cm)",
          "Beauty and Personal Care >> Body and Skin Care >> Lip Care",
          "Beauty and Personal Care >> Body and Skin Care >> Lip Care >> Lip Creams",
          "Beauty and Personal Care >> Body and Skin Care >> Lip Care >> Lip Creams >> NYX Lip Creams",
          "Beauty and Personal Care >> Body and Skin Care >> Lip Care >> Lip Creams >> NYX Lip Creams >> NYX Set Of 2 Soft Matte Lip Cream 06,22 (Multi c...",
          "Kitchen & Dining >> Kitchen Tools >> Kitchen Implements >> Kitchen Scissors",
          "Kitchen & Dining >> Kitchen Tools >> Kitchen Implements >> Kitchen Scissors >> Checkered Chef Kitchen Scissors",
          "Kitchen & Dining >> Kitchen Tools >> Kitchen Implements >> Kitchen Scissors >> Checkered Chef Kitchen Scissors >> Checkered Chef Steel All-Purpose Scissor (Red, B...",
          "Baby Care >> Baby Bedding >> Baby Bedsheets",
          "Baby Care >> Baby Bedding >> Baby Bedsheets >> Mahadev Handicrafts Baby Bedsheets",
          "Baby Care >> Baby Bedding >> Baby Bedsheets >> Mahadev Handicrafts Baby Bedsheets >> Mahadev Handicrafts Cotton Cartoon Double Bedshe...",
          "Baby Care >> Baby Bedding >> Baby Bedsheets >> Sparklings Baby Bedsheets",
          "Baby Care >> Baby Bedding >> Baby Bedsheets >> Sparklings Baby Bedsheets >> Sparklings Cotton Checkered Double Bedsheet (dou...",
          "Home Furnishing >> Living >> Sofa Covers >> Swastik Sofa Covers",
          "Home Furnishing >> Living >> Sofa Covers >> Swastik Sofa Covers >> Swastik Velvet Sofa Cover (Multicolor Pack of 10)",
          "Baby Care >> Baby Bedding >> Baby Bedsheets >> Bela Home Baby Bedsheets",
          "Baby Care >> Baby Bedding >> Baby Bedsheets >> Bela Home Baby Bedsheets >> Bela Home Cotton Cartoon Single Bedsheet (1 Sing...",
          "Baby Care >> Baby Bedding >> Baby Bedsheets >> Sparklings Baby Bedsheets >> Sparklings Cotton Geometric Double Bedsheet (dou...",
          "Baby Care >> Infant Wear >> Baby Boys' Clothes >> Shirts >> CALCULUS Shirts",
          "Baby Care >> Infant Wear >> Baby Boys' Clothes >> Shirts >> CALCULUS Shirts >> CALCULUS Baby Boy's Printed Casual Beige Shirt",
          "Home Decor & Festive Needs >> Showpiece >> Gramophones",
          "Home Decor & Festive Needs >> Showpiece >> Gramophones >> ROYLE KATOCH Gramophones",
          "Home Decor & Festive Needs >> Showpiece >> Gramophones >> ROYLE KATOCH Gramophones >> ROYLE KATOCH Showpiece  -  24 cm (Crystal, Woode...",
          "Home Decor & Festive Needs >> Religion & Devotion >> Jaycoknit Religion & Devotion",
          "Home Decor & Festive Needs >> Religion & Devotion >> Jaycoknit Religion & Devotion >> Jaycoknit Mediterranean Sea's Lucky Wooden Handc...",
          "Baby Care >> Infant Wear >> Baby Boys' Clothes >> Shirts >> Jacadi paris Shirts",
          "Baby Care >> Infant Wear >> Baby Boys' Clothes >> Shirts >> Jacadi paris Shirts >> Jacadi paris Baby Boy's Striped Casual Blue Shirt",
          "Beauty and Personal Care >> Beauty Accessories",
          "Beauty and Personal Care >> Beauty Accessories >> Makeup Accessories",
          "Beauty and Personal Care >> Beauty Accessories >> Makeup Accessories >> Brushes and Applicators",
          "Beauty and Personal Care >> Beauty Accessories >> Makeup Accessories >> Brushes and Applicators >> LOTTIE LONDON Brushes and Applicators",
          "Beauty and Personal Care >> Beauty Accessories >> Makeup Accessories >> Brushes and Applicators >> LOTTIE LONDON Brushes and Applicators >> LOTTIE LONDON MAKE ME BLUSH (Pack of 1)",
          "Baby Care >> Infant Wear >> Baby Girls' Clothes >> Bodysuits & Sleepsuits >> Bodysuits >> FS Mini Klub Bodysuits",
          "Baby Care >> Infant Wear >> Baby Girls' Clothes >> Bodysuits & Sleepsuits >> Bodysuits >> FS Mini Klub Bodysuits >> FS Mini Klub Baby Girl's Bodysuit",
          "Kitchen & Dining >> Kitchen Tools >> Choppers & Peelers",
          "Kitchen & Dining >> Kitchen Tools >> Choppers & Peelers >> Graters & Slicers",
          "Kitchen & Dining >> Kitchen Tools >> Choppers & Peelers >> Graters & Slicers >> Deep Graters & Slicers",
          "Kitchen & Dining >> Kitchen Tools >> Choppers & Peelers >> Graters & Slicers >> Deep Graters & Slicers >> Deep kitchen press Steel Grater and Slicer (Stee...",
          "Baby Care >> Infant Wear >> Baby Boys' Clothes >> Polos & T-Shirts >> dongli Polos & T-Shirts",
          "Baby Care >> Infant Wear >> Baby Boys' Clothes >> Polos & T-Shirts >> dongli Polos & T-Shirts >> dongli Striped Baby Boy's Polo Neck T-Shirt (Pac...",
          "Baby Care >> Infant Wear >> Baby Boys' Clothes >> Polos & T-Shirts >> Fs Mini Klub Polos & T-Shirts",
          "Baby Care >> Infant Wear >> Baby Boys' Clothes >> Polos & T-Shirts >> Fs Mini Klub Polos & T-Shirts >> Fs Mini Klub Printed Baby Boy's Round Neck T-Shirt",
          "Baby Care >> Infant Wear >> Baby Girls' Clothes >> Ethnic Wear >> Salwar Kurta Dupattas >> Aarika Salwar Kurta Dupattas",
          "Baby Care >> Infant Wear >> Baby Girls' Clothes >> Ethnic Wear >> Salwar Kurta Dupattas >> Aarika Salwar Kurta Dupattas >> Aarika Self Design Kurta & Patiyala",
          "Baby Care >> Infant Wear >> Baby Boys' Clothes >> Polos & T-Shirts >> Rishan Polos & T-Shirts",
          "Baby Care >> Infant Wear >> Baby Boys' Clothes >> Polos & T-Shirts >> Rishan Polos & T-Shirts >> Rishan Printed Baby Boy's V-neck T-Shirt",
          "Baby Care >> Infant Wear >> Baby Boys' Clothes >> Polos & T-Shirts >> YK Polos & T-Shirts",
          "Baby Care >> Infant Wear >> Baby Boys' Clothes >> Polos & T-Shirts >> YK Polos & T-Shirts >> YK Striped Baby Boy's Round Neck T-Shirt",
          "Home Decor & Festive Needs >> Table Decor & Handicrafts >> Showpieces >> Human Figurines >> Art Godaam Human Figurines",
          "Beauty and Personal Care >> Makeup >> Vanity Boxes >> Artist Haat Vanity Boxes",
          "Home Decor & Festive Needs >> Showpieces >> Vedic Deals Showpieces",
          "Home Decor & Festive Needs >> Table Decor & Handicrafts >> Showpieces >> Human Figurines >> Hand Art Human Figurines",
          "Beauty and Personal Care >> Makeup >> Vanity Boxes >> Craftuno Vanity Boxes",
          "Home Decor & Festive Needs >> Table Decor & Handicrafts >> Showpieces >> Human Figurines >> Kaatru Human Figurines",
          "Baby Care >> Infant Wear >> Baby Girls' Clothes >> Shorts & Trousers >> Trousers >> CoffeeBean Trousers",
          "Baby Care >> Infant Wear >> Baby Girls' Clothes >> Shorts & Trousers >> Trousers >> CoffeeBean Trousers >> CoffeeBean Regular Fit Baby Girl's Pink Trousers",
          "Kitchen & Dining >> Bar & Glassware >> Bar Accessories >> Cork Screws",
          "Kitchen & Dining >> Bar & Glassware >> Bar Accessories >> Cork Screws >> Seven Seas Cork Screws",
          "Kitchen & Dining >> Bar & Glassware >> Bar Accessories >> Cork Screws >> Pedrini Cork Screws",
          "Kitchen & Dining >> Coffee Mugs >> AM Creation Coffee Mugs",
          "Kitchen & Dining >> Coffee Mugs >> AM Creation Coffee Mugs >> AM Creation Magic  Ceramic Mug (273 ml, Pack of 2)",
          "Baby Care >> Baby Bath & Skin >> Baby Body Wash",
          "Baby Care >> Baby Bath & Skin >> Baby Body Wash >> TRESemme Baby Body Wash",
          "Baby Care >> Baby Bath & Skin >> Baby Body Wash >> TRESemme Baby Body Wash >> TRESemme Naturals Vibrantly Smooth Shampoo (591)",
          "Baby Care >> Baby Bath & Skin >> Baby Body Wash >> L Oreal Baby Body Wash",
          "Baby Care >> Baby Bath & Skin >> Baby Body Wash >> L Oreal Baby Body Wash >> L Oreal Eversleek Sulfate - Free Smoothing Syste...",
          "Home Decor & Festive Needs >> Table Decor & Handicrafts >> Showpieces >> Religious Idols >> CTW Religious Idols",
          "Home Decor & Festive Needs >> Table Decor & Handicrafts >> Showpieces >> Religious Idols >> CTW Religious Idols >> CTW Ganpati Bapa Moriya Statue Showpiece  -  12 ...",
          "Kitchen & Dining >> Coffee Mugs >> Happiness Is Coffee Mugs",
          "Kitchen & Dining >> Coffee Mugs >> Happiness Is Coffee Mugs >> Happiness Is Printed Bone China Mug (300 ml)",
          "Home Furnishing >> Living >> Sofa Covers >> Balaji Velvet Sofa Cover (Brown Pack of 6)",
          "Kitchen & Dining >> Containers & Bottles >> Containers & Jars",
          "Kitchen & Dining >> Containers & Bottles >> Containers & Jars >> Kitchen Containers",
          "Kitchen & Dining >> Containers & Bottles >> Containers & Jars >> Kitchen Containers >> Lock&Lock Kitchen Containers",
          "Kitchen & Dining >> Containers & Bottles >> Containers & Jars >> Kitchen Containers >> Lock&Lock Kitchen Containers >> Lock&Lock Kitchen  - 5.5 L Polypropylene Multi-p...",
          "Baby Care >> Infant Wear >> Baby Girls' Clothes >> Bodysuits & Sleepsuits >> Bodysuits >> Mom & Me Bodysuits",
          "Baby Care >> Infant Wear >> Baby Girls' Clothes >> Bodysuits & Sleepsuits >> Bodysuits >> Mom & Me Bodysuits >> Mom & Me Baby Girl's Bodysuit",
          "Computers >> Laptop Accessories >> USB Gadgets >> APOLLO+ USB Gadgets",
          "Computers >> Laptop Accessories >> USB Gadgets >> APOLLO+ USB Gadgets >> APOLLO+ Pack Of 3 Flexible Led Light (Multicolour)",
          "Kitchen & Dining >> Coffee Mugs >> HuppmeGift Coffee Mugs",
          "Kitchen & Dining >> Coffee Mugs >> HuppmeGift Coffee Mugs >> HuppmeGift Happy Birthday Navneet Inner Red Cera...",
          "Baby Care >> Baby & Kids Gifts >> Decorations",
          "Baby Care >> Baby & Kids Gifts >> Decorations >> Doraemon Gift Family Ceramic Coffee Mug Decorations",
          "Baby Care >> Baby & Kids Gifts >> Decorations >> Doraemon Gift Family Ceramic Coffee Mug Decorations >> Doraemon Gift Family Ceramic Coffee Mug Multicol...",
          "Beauty and Personal Care >> Makeup >> Eyes",
          "Beauty and Personal Care >> Makeup >> Eyes >> Eye Shadows",
          "Beauty and Personal Care >> Makeup >> Eyes >> Eye Shadows >> Milani Eye Shadows",
          "Beauty and Personal Care >> Makeup >> Eyes >> Eye Shadows >> Milani Eye Shadows >> Milani Runway shadow Wet/Dry Black Out 3 g (Shadow)",
          "Beauty and Personal Care >> Makeup >> Eyes >> Eye Shadows >> e.l.f. Cosmetics Eye Shadows",
          "Beauty and Personal Care >> Makeup >> Eyes >> Eye Shadows >> e.l.f. Cosmetics Eye Shadows >> e.l.f. Cosmetics Studio brow Kit Ash Brow Makeup...",
          "Beauty and Personal Care >> Bath and Spa >> Soaps",
          "Beauty and Personal Care >> Bath and Spa >> Soaps >> Aster Luxury Soaps",
          "Beauty and Personal Care >> Bath and Spa >> Soaps >> Aster Luxury Soaps >> Aster Luxury Arabic Oudh Bathing Bar - Pack of 4...",
          "Kitchen & Dining >> Kitchen Tools >> Kitchen Tool Sets",
          "Kitchen & Dining >> Kitchen Tools >> Kitchen Tool Sets >> King Traders Kitchen Tool Sets",
          "Kitchen & Dining >> Kitchen Tools >> Kitchen Tool Sets >> King Traders Kitchen Tool Sets >> King Traders KI-BD-01 1 Kitchen Tool Set",
          "Home Decor & Festive Needs >> Wall Decor & Clocks >> Wall Decals & Stickers >> Wall Decal Wall Decals & Stickers",
          "Home Decor & Festive Needs >> Wall Decor & Clocks >> Wall Decals & Stickers >> Wall Decal Wall Decals & Stickers >> Wall Decal Small Self Adhesive Sticker (Pack of 1)",
          "Baby Care >> Infant Wear >> Baby Boys' Clothes >> Polos & T-Shirts >> Dongli Polos & T-Shirts",
          "Baby Care >> Infant Wear >> Baby Boys' Clothes >> Polos & T-Shirts >> Dongli Polos & T-Shirts >> Dongli Striped Baby Boy's Polo Neck T-Shirt",
          "Baby Care >> Baby Grooming >> Cotton Buds",
          "Baby Care >> Baby Grooming >> Cotton Buds >> SJ Cotton Buds",
          "Baby Care >> Baby Grooming >> Cotton Buds >> SJ Cotton Buds >> SJ Tulip multi use cotton Balls (Pack of 100)",
          "Home Decor & Festive Needs >> Table Decor & Handicrafts >> Table Decor >> Hookah Mouth Tips",
          "Home Decor & Festive Needs >> Table Decor & Handicrafts >> Table Decor >> Hookah Mouth Tips >> Ech oly Hookah Mouth Tips",
          "Home Decor & Festive Needs >> Table Decor & Handicrafts >> Table Decor >> Hookah Mouth Tips >> Ech oly Hookah Mouth Tips >> Ech oly Ceramic Inside Fitting Hookah Mouth Tip ...",
          "Beauty and Personal Care >> Fragrances >> Deodorants >> Sprays",
          "Beauty and Personal Care >> Fragrances >> Deodorants >> Sprays >> LAWMAN PG3 Sprays",
          "Beauty and Personal Care >> Fragrances >> Deodorants >> Sprays >> LAWMAN PG3 Sprays >> LAWMAN PG3 Striker,, Winger , Contender Deodoran...",
          "Baby Care >> Infant Wear >> Baby Boys' Clothes >> Polos & T-Shirts >> Toons Polos & T-Shirts",
          "Baby Care >> Infant Wear >> Baby Boys' Clothes >> Polos & T-Shirts >> Toons Polos & T-Shirts >> Toons Printed Baby Boy's Round Neck T-Shirt",
          "Computers >> Laptop Accessories >> Computer Accessories Combos",
          "Computers >> Laptop Accessories >> Computer Accessories Combos >> PRINT SHAPES Computer Accessories Combos",
          "Computers >> Laptop Accessories >> Computer Accessories Combos >> PRINT SHAPES Computer Accessories Combos >> PRINT SHAPES red Heart Laptop Skin with Mouse pa...",
          "Beauty and Personal Care >> Body and Skin Care >> Lip Care >> Lip Balms",
          "Beauty and Personal Care >> Body and Skin Care >> Lip Care >> Lip Balms >> Good Way Lip Balms",
          "Beauty and Personal Care >> Body and Skin Care >> Lip Care >> Lip Balms >> Good Way Lip Balms >> Good Way Peppermint Lip Balm Pepper (8 g)",
          "Home Furnishing >> Curtains & Accessories >> Curtains >> Aroma Comfort Polyester Cream Self Design Eyelet...",
          "Computers >> Laptop Accessories >> Computer Accessories Combos >> PRINT SHAPES Computer Accessories Combos >> PRINT SHAPES Sony headphone Laptop Skin with Mou...",
          "Computers >> Laptop Accessories >> Computer Accessories Combos >> PRINT SHAPES Computer Accessories Combos >> PRINT SHAPES Power of roman reigns Laptop Skin w...",
          "Home Furnishing >> Curtains & Accessories >> Curtains >> Aroma Comfort Polyester Blue Floral Eyelet Long ...",
          "Computers >> Laptop Accessories >> Computer Accessories Combos >> PRINT SHAPES Computer Accessories Combos >> PRINT SHAPES roronoa Zora Laptop Skin with Mouse...",
          "Home Furnishing >> Curtains & Accessories >> Curtains >> Aroma Comfort Polyester Brown Floral Eyelet Long...",
          "Computers >> Computer Components >> RAMs",
          "Computers >> Computer Components >> RAMs >> Transcend RAMs",
          "Computers >> Computer Components >> RAMs >> Transcend RAMs >> Transcend Premium Memory DDR2 2 GB (1x2GB) PC SD...",
          "Computers >> Laptop Accessories >> Computer Accessories Combos >> PRINT SHAPES Computer Accessories Combos >> PRINT SHAPES doraemon Laptop Skin with Mouse pad...",
          "Computers >> Laptop Accessories >> Computer Accessories Combos >> PRINT SHAPES Computer Accessories Combos >> PRINT SHAPES monster university party Laptop Ski...",
          "Home Furnishing >> Curtains & Accessories >> Curtains >> Aroma Comfort Polyester Green Self Design Eyelet...",
          "Home Furnishing >> Curtains & Accessories >> Curtains >> Aroma Comfort Polyester Brown Self Design Eyelet...",
          "Computers >> Laptop Accessories >> Computer Accessories Combos >> PRINT SHAPES Computer Accessories Combos >> PRINT SHAPES Graphic Dancer Laptop Skin with Mou...",
          "Home Furnishing >> Curtains & Accessories >> Curtains >> Aroma Comfort Polyester Brown Printed Eyelet Win...",
          "Beauty and Personal Care >> Health Care >> Medicines & Treatment",
          "Beauty and Personal Care >> Health Care >> Medicines & Treatment >> First Aid",
          "Beauty and Personal Care >> Health Care >> Medicines & Treatment >> First Aid >> Hot & Cold Packs",
          "Beauty and Personal Care >> Health Care >> Medicines & Treatment >> First Aid >> Hot & Cold Packs >> OMRD Hot & Cold Packs",
          "Beauty and Personal Care >> Health Care >> Medicines & Treatment >> First Aid >> Hot & Cold Packs >> OMRD Hot & Cold Packs >> OMRD RD6697 Hot and cold Pack (GREEN)",
          "Beauty and Personal Care >> Hair Care >> Shampoos",
          "Beauty and Personal Care >> Hair Care >> Shampoos >> Kerastase Shampoos",
          "Beauty and Personal Care >> Hair Care >> Shampoos >> Kerastase Shampoos >> Kerastase Nutritive Bain Satin 1 Complete Nutrit...",
          "Computers >> Laptop Accessories >> Computer Accessories Combos >> PRINT SHAPES Computer Accessories Combos >> PRINT SHAPES mary and max cartoon Laptop Skin wi...",
          "Home Furnishing >> Curtains & Accessories >> Curtains >> Aroma Comfort Polyester Dark Blue Plain Eyelet W...",
          "Computers >> Laptop Accessories >> Computer Accessories Combos >> PRINT SHAPES Computer Accessories Combos >> PRINT SHAPES Peacock Feather Laptop Skin with Mo...",
          "Computers >> Laptop Accessories >> Computer Accessories Combos >> PRINT SHAPES Computer Accessories Combos >> PRINT SHAPES despicable me 2 looking upwards Lap...",
          "Computers >> Laptop Accessories >> Computer Accessories Combos >> PRINT SHAPES Computer Accessories Combos >> PRINT SHAPES Red bull Laptop Skin with Mouse pad...",
          "Beauty and Personal Care >> Health Care >> Medical Equipment & Accessories",
          "Beauty and Personal Care >> Health Care >> Medical Equipment & Accessories >> Surgical e Sstudio Medical Equipment & Accessories",
          "Beauty and Personal Care >> Health Care >> Medical Equipment & Accessories >> Surgical e Sstudio Medical Equipment & Accessories >> Surgical e Sstudio S0004 Gown, Pant Hospital Scr...",
          "Home Decor & Festive Needs >> Showpieces >> Fengshui >> Reiki Crystal Products Fengshui >> Reiki Crystal Products Showpiece  -  6 cm (Brass...",
          "Baby Care >> Baby & Kids Gifts >> Stickers",
          "Baby Care >> Baby & Kids Gifts >> Stickers >> Elite Collection Stickers",
          "Baby Care >> Baby & Kids Gifts >> Stickers >> Wallmantra Stickers",
          "Baby Care >> Baby & Kids Gifts >> Stickers >> WallDesign Stickers",
          "Baby Care >> Baby & Kids Gifts >> Stickers >> 999store Stickers",
          "Baby Care >> Baby & Kids Gifts >> Stickers >> Oren Empower Stickers",
          "Baby Care >> Baby & Kids Gifts >> Stickers >> Uberlyfe Stickers"
         ],
         "labels": [
          "Home Furnishing",
          "Curtains & Accessories",
          "Curtains",
          "Elegance Polyester Multicolor Abstract Eyelet Do...",
          "Baby Care",
          "Baby Bath & Skin",
          "Baby Bath Towels",
          "Sathiyas Baby Bath Towels",
          "Sathiyas Cotton Bath Towel (3 Bath Towel, Red, Y...",
          "Eurospa Baby Bath Towels",
          "Eurospa Cotton Terry Face Towel Set (20 PIECE FA...",
          "Bed Linen",
          "Bedsheets",
          "SANTOSH ROYAL FASHION Bedsheets",
          "SANTOSH ROYAL FASHION Cotton Printed King sized ...",
          "Jaipur Print Bedsheets",
          "Jaipur Print Cotton Floral King sized Double Bed...",
          "Watches",
          "Wrist Watches",
          "Maserati Time Wrist Watches",
          "Camerii Wrist Watches",
          "T STAR Wrist Watches",
          "Alfajr Wrist Watches",
          "TAG Heuer Wrist Watches",
          "Calibro Wrist Watches",
          "Cartier Wrist Watches",
          "Lois Caron Wrist Watches",
          "Titan Wrist Watches",
          "Srushti Art Jewelry Wrist Watches",
          "Escort Wrist Watches",
          "Jack klein Wrist Watches",
          "North Moon Wrist Watches",
          "Franck Bella Wrist Watches",
          "Ridas Wrist Watches",
          "Skmei Wrist Watches",
          "Now Wrist Watches",
          "fastrack Wrist Watches",
          "Disney Wrist Watches",
          "Vizion Wrist Watches",
          "Elantra Wrist Watches",
          "Marvel Wrist Watches",
          "Lenco Wrist Watches",
          "D'Signer Wrist Watches",
          "Living Room Furnishing",
          "Diwan Sets",
          "SANTOSH ROYAL FASHION Diwan Sets",
          "SANTOSH ROYAL FASHION Cotton Embroidered Diwan Set",
          "Duvet Covers",
          "House This Duvet Covers",
          "House This Queen Cotton Duvet Cover (Grey)",
          "Bath Linen",
          "Bath Mats",
          "Home Decor & Festive Needs",
          "Candles & Fragrances",
          "Home Fragrances",
          "Aroma Oils",
          "Myesquire Aroma Oils",
          "Kitchen & Dining",
          "Tableware & Cutlery",
          "Jug, Glass & Tray Sets",
          "Dungri India Craft Jug, Glass & Tray Sets",
          "Dungri India Craft Ducjug010-ducgl012-2 Jug Glas...",
          "Lighting",
          "Bulbs",
          "BFT Bulbs",
          "BFT 6 W LED Bulb (White)",
          "JMD Home Furnishing",
          "JMD Printed Cushions Cover (Pack of 2, 40 cm*40 ...",
          "Infant Wear",
          "Baby Girls' Clothes",
          "Innerwear & Sleepwear",
          "Night Suits",
          "Mom and Kid Night Suits",
          "Mom and Kid Baby Girl's Printed Green Top & Pyja...",
          "Kripa's Home Furnishing",
          "Kripa's Printed Cushions Cover (Pack of 2, 45 cm...",
          "Mom and Kid Baby Girl's Printed Blue, Grey Top &...",
          "Beauty and Personal Care",
          "Hair Care",
          "Conditioners",
          "Burt s Bees Conditioners",
          "Burt s Bees Hair Repair Shea And Grapefruit Deep...",
          "Coffee Mugs",
          "AKUP Coffee Mugs",
          "AKUP i-loves-music Ceramic Mug (300 ml)",
          "AKUP i-love-my-mom Ceramic Mug (300 ml)",
          "AKUP keep-calm Ceramic Mug (300 ml)",
          "Computers",
          "Network Components",
          "Routers",
          "D-Link Routers",
          "D-Link DAP1320 (White)",
          "AKUP league-of-legends Ceramic Mug (300 ml)",
          "Suave Conditioners",
          "Suave Naturals Everlasting Sunshine Conditioner ...",
          "AKUP life-is-not-living Ceramic Mug (300 ml)",
          "Tablet Accessories",
          "Keyboards",
          "RoQ Keyboards",
          "RoQ Slim Multimedia 105key Flexible Wired USB Fl...",
          "Cookware",
          "Casserole & Sets",
          "Cookart Casserole & Sets",
          "Cookart Elegant S.S. Handi With Hot Pot Pack of ...",
          "Laptop Accessories",
          "USB Gadgets",
          "JRB USB Gadgets",
          "JRB 1038 Smallest Mobile Powered By OTG Enabled ...",
          "JRB 1033 Smallest Mobile Powered By OTG Enabled ...",
          "JRB 1042 Smallest Mobile Powered By OTG Enabled ...",
          "Makeup",
          "Vanity Boxes",
          "Borse Vanity Boxes",
          "Combos and Kits",
          "RYTHMX Combos and Kits",
          "RYTHMX FB NAIL POLISHES BLACK LIPSTICKS IMPORTAN...",
          "Brillare Science Combos and Kits",
          "Brillare Science Dandruff Control Shampoo & Inte...",
          "Mars Combos and Kits",
          "Mars Queen Eye Liner, Lip Gloss, EyeLiner (Set o...",
          "Nails",
          "Nail Polishes",
          "Aroma Care Nail Polishes",
          "Aroma Care Intense Color Nail Polish Combo 17505...",
          "Feeding & Nursing",
          "Bottles & Accessories",
          "Bottle Covers",
          "KOHL Bottle Covers",
          "KOHL Wine Bag Yellow (Yellow)",
          "Shopmania Coffee Mugs",
          "Shopmania Happy Birthday Gift For Starting Lette...",
          "Baby Bedding",
          "Baby Mattresses",
          "CHHOTE JANAB Baby Mattresses",
          "CHHOTE JANAB COZY MATTRESS PROTECTOR(SET OF 2) (...",
          "Kitchen & Dining Linen",
          "Table Covers",
          "Prime Printed 4 Seater Table Cover (Multicolor, ...",
          "Containers & Bottles",
          "Lunch Boxes",
          "SKI Lunch Boxes",
          "SKI WINNER GIFT SET SKYBLUE02 2 Containers Lunch...",
          "GAYATRI CREATIONS Lunch Boxes",
          "GAYATRI CREATIONS ORANGE KIDS SET 2 Containers L...",
          "Consumables & Disposables",
          "Bowls",
          "Caffeine Bowls",
          "Caffeine Handmade Tribal Print Influenced Katori...",
          "Prime Printed 8 Seater Table Cover (Multicolor, ...",
          "Bottles & Sippers",
          "Water bottle",
          "Garnet Water bottle",
          "Garnet Traveller 1500 ml Bottle (Pack of 6, Mult...",
          "Shorts & Trousers",
          "Shorts",
          "Vitamins Shorts",
          "Vitamins Solid Baby Girl's Basic Shorts",
          "Vitamins Graphic Print Baby Girl's Basic Shorts",
          "Vitamins Embroidered Baby Girl's Denim Shorts",
          "KE Vanity Boxes",
          "KE GIFT BOX STOR JEWELLARY Vanity Jewellery (BLUE)",
          "Lips",
          "Lip Liners",
          "Giorgio Armani Lip Liners",
          "Giorgio Armani SMOOTH SILK LIP PENCIL 12 (Soyeux...",
          "Jaipur Print Diwan Sets",
          "Jaipur Print Cotton Floral Diwan Set",
          "Baby Boys' Clothes",
          "Accessories",
          "Caps",
          "florence9 Caps",
          "florence9 baby cap red checks Cap",
          "Wall Decor & Clocks",
          "Key Holders",
          "VarEesha Key Holders",
          "VarEesha Wooden Key Holder (8 Hooks, Multicolor)",
          "Table Decor & Handicrafts",
          "Showpieces",
          "Fengshui",
          "Treasure Fengshui",
          "Treasure Showpiece  -  23 cm (Polyresin, Blue)",
          "Baby Mosquito Nets",
          "CHINMAY KIDS Baby Mosquito Nets",
          "CHINMAY KIDS Printed Cotton Padded Mosquito Net ...",
          "Combo Sets",
          "HEAVENLY Combo Sets",
          "HEAVENLY Dress Baby Boy's  Combo",
          "Flowers, Plants & Vases",
          "Flower Vase",
          "@home Flower Vase",
          "@home Glass Vase (18 inch, Grey)",
          "Wall Decals & Stickers",
          "Smart Wall Guru Wall Decals & Stickers",
          "Smart Wall Guru Medium Adhesive Sticker (Pack of 1)",
          "Pots & Pans",
          "Pans & Tawas",
          "oxford Pans & Tawas",
          "oxford Tawa 15 cm cm diameter (Aluminium, Non-st...",
          "Software",
          "Language Learning",
          "Physical",
          "Eureka.in Physical",
          "Eureka.in GSEB Class VII (Pen drive)",
          "Coasters",
          "Craft Trade Coasters",
          "Craft Trade Oval Wood Coaster Set (Brown, Pack o...",
          "Showpieces",
          "Parv Collections Showpieces",
          "Exotic India Showpieces",
          "Aapno Rajasthan Showpieces",
          "BeYOUtiful Showpieces",
          "Religious Idols",
          "Exotic India Religious Idols",
          "Human Figurines",
          "My Angel Human Figurines",
          "Diviniti Religious Idols",
          "Kuber Industries Vanity Boxes",
          "Thar Handloom Vanity Boxes",
          "Goldencollections Vanity Boxes",
          "K&P Religious Idols",
          "K&P Lord Ganesha Regular 16 Showpiece  -  13 cm ...",
          "Blankets, Quilts & Dohars",
          "Furniture & Furnishings",
          "Inflatable Products",
          "Bestway Inflatable Products",
          "Remtex Export Cartoon Single Dohar Multicolor (1...",
          "Ethnic Wear",
          "Salwar Kurta Dupattas",
          "TWISHA Salwar Kurta Dupattas",
          "TWISHA Printed Kurti & Salwar",
          "Decorative Lighting & Lamps",
          "Table Lamps",
          "Eternity Table Lamps",
          "Eternity Handcrafted unique Mosaic Glass Table L...",
          "Bodysuits & Sleepsuits",
          "Sleepsuits",
          "FS Mini Klub Sleepsuits",
          "FS Mini Klub Baby Boy's Sleepsuit",
          "Sippers",
          "Omic Sippers",
          "Omic Poto-Blue 1000 ml Sipper (Pack of 1, Blue)",
          "Baby Grooming",
          "Baby Grooming Combos",
          "Lollipop Lane Baby Grooming Combos",
          "Computer Peripherals",
          "Printers & Inks",
          "Toners",
          "Filink Toners",
          "Recrafto Religious Idols",
          "Bodysuits",
          "Anthill Bodysuits",
          "Mouse Pads",
          "FRENEMY Mouse Pads",
          "FRENEMY MPAD271 Mousepad (Multicolor)",
          "Cushions, Pillows & Covers",
          "Cushion Covers",
          "Quilt India Floral Cushions Cover (77 cm, Gold)",
          "Toffyhouse Sleepsuits",
          "Toffyhouse Baby Boy's Sleepsuit",
          "Storage",
          "Pen Drives",
          "Shopizone Pen Drives",
          "Shopizone BMW Wheel 32 GB  Pen Drive (Black)",
          "Craftcart Key Holders",
          "Craftcart Parrot Antique Brass Key Holder (5 Hoo...",
          "Health Care",
          "Health Care Devices",
          "Electrotherapy",
          "SOS Electrotherapy",
          "SOS COMPUTRISED LCD INTRFERENTIAL UNIT-125PROG. ...",
          "Body and Skin Care",
          "Hand Care",
          "Manicure and Kits",
          "Sally Hansen Manicure and Kits",
          "Svayam Manicure and Kits",
          "Go Bonjour Manicure and Kits",
          "Table Decor",
          "Hookah & Hookah Flavours",
          "Hookah",
          "Arsalan Hookah",
          "Prithish Coffee Mugs",
          "Rockmantra Coffee Mugs",
          "Rajesh Digital Coffee Mugs",
          "Printland Coffee Mugs",
          "Returnfavors Coffee Mugs",
          "Kitchen Tools",
          "Kitchen Implements",
          "Pizza Cutters",
          "Famous Pizza Cutters",
          "Rastogi Handicrafts Showpieces",
          "NEHP Showpieces",
          "S C Handicrafts Showpieces",
          "Ethnic",
          "Tatvaarts Ethnic",
          "Sam Pizza Cutters",
          "Surface180 Ethnic",
          "Step4deal Pizza Cutters",
          "MA Design Hut Showpieces",
          "Lal Haveli Ethnic",
          "Dungarees & Jumpsuits",
          "Jumpsuits",
          "Earth Conscious Jumpsuits",
          "Purpledip Showpieces",
          "Tirupati Pizza Cutters",
          "Shoppingtara Showpieces",
          "Orange Tree Showpieces",
          "Unique Design Ethnic",
          "Port Showpieces",
          "King International Pizza Cutters",
          "Go Hooked Pizza Cutters",
          "RoyalsCart Ethnic",
          "Apex Pizza Cutters",
          "MCB Exports Ethnic",
          "Poppins Jumpsuits",
          "Purpledip Ethnic",
          "Agromech Pizza Cutters",
          "Tiedribbons Showpieces",
          "Rajo Raja Ethnic",
          "Surface 180 Ethnic",
          "Sovam International Ethnic",
          "The Ethnic Story Ethnic",
          "Woks & Kadhais",
          "JSM Woks & Kadhais",
          "Celebrity Pizza Cutters",
          "Unique Design Showpieces",
          "Metallino Woks & Kadhais",
          "Ruchiworld Ethnic",
          "Kosher Woks & Kadhais",
          "Recon Woks & Kadhais",
          "Indian Art Villa Woks & Kadhais",
          "Suruchi Woks & Kadhais",
          "Bergner Woks & Kadhais",
          "Kalash Woks & Kadhais",
          "Peacock Woks & Kadhais",
          "Leo Natura Woks & Kadhais",
          "Malhar Showpieces",
          "Sumeet Woks & Kadhais",
          "TRUE Home Decor & Festive Needs",
          "The Crafts House Showpieces",
          "Jaipan Woks & Kadhais",
          "Unravel India Showpieces",
          "Ruchikainternational Ethnic",
          "Nirlon Woks & Kadhais",
          "Monil Ethnic",
          "Pristine Woks & Kadhais",
          "Woodino Handicrafts Showpieces",
          "Unique Handicrafts Showpieces",
          "Pigeon Woks & Kadhais",
          "Sahara Q Shop Woks & Kadhais",
          "Mom Italy Pizza Cutters",
          "Mavi Showpieces",
          "Ndura Woks & Kadhais",
          "Supreme Cookwares Woks & Kadhais",
          "Dungarees",
          "Babeezworld Dungarees",
          "Babeezworld Baby Boy's Romper",
          "Pittsburgh Polo Club Wrist Watches",
          "Pittsburgh Polo Club PBPC-505-GRN Analog Watch  ...",
          "palito Wrist Watches",
          "palito PLO 169 Analog Watch  - For Girls, Women",
          "Adino Wrist Watches",
          "Adino ADF04 Analog Watch  - For Girls",
          "ESIDON Wrist Watches",
          "ESIDON AKADA06 Analog Watch  - For Women",
          "palito PLO 166 Analog Watch  - For Girls, Women",
          "Living",
          "Sofa Covers",
          "Bhavya Velvet Sofa Cover (Grey Pack of 10)",
          "cherry crumble california Dungarees",
          "cherry crumble california Baby Boy's Dungaree",
          "Yves Bertelin Wrist Watches",
          "Yves Bertelin YBSCR557 Analog Watch  - For Women",
          "Showpiece",
          "Contemporary",
          "Services Junction Contemporary",
          "Services Junction Beautiful Black and Golden col...",
          "palito PLO 149 Analog Watch  - For Girls, Women",
          "V9 Wrist Watches",
          "V9 METAL STRAP Analog Watch  - For Men",
          "Dreamshomes Velvet Sofa Cover (Multicolour Pack ...",
          "Kandyfloss Dungarees",
          "Kandyfloss Baby Boy's, Baby Girl's Romper",
          "Services Junction Gold Plated Ganesh Idol Showpi...",
          "Brahmz Table Lamps",
          "Brahmz Glass Mossiac Table Lamp (18 cm, Multi Co...",
          "Dresses & Skirts",
          "Dresses",
          "MKB Dresses",
          "MKB Baby Girl's Shirt Dress",
          "Toddla Dresses",
          "Toddla Baby Girl's Gathered Dress",
          "Baby Moshai Dresses",
          "Baby Moshai Baby Girl's A-line Dress",
          "My Little Lambs Dresses",
          "My Little Lambs Baby Girl's Gathered Dress",
          "Bar & Glassware",
          "Bar Accessories",
          "Bottle Openers",
          "arnavs Bottle Openers",
          "arnavs Multi1 Bottle Opener Set",
          "CPU",
          "I Ball CPU",
          "I Ball IBCTDC 160/2gb/DDR2 with Dual Core 2 RAM ...",
          "Polos & T-Shirts",
          "Globe Polos & T-Shirts",
          "Globe Graphic Print Baby Boy's Round Neck Orange...",
          "Hand Juicers",
          "JayEnterprise Hand Juicers",
          "JayEnterprise Plastic Hand Juicer (Multicolor)",
          "Craftuno Ethnic",
          "Lids",
          "Elephant Lids",
          "Body Fat Analyzers",
          "Equinox Body Fat Analyzers",
          "Nihar Ethnic",
          "Homedesires Ethnic",
          "Pg handicrafts Ethnic",
          "Ravishing Variety Ethnic",
          "Infinity India Ethnic",
          "Linksys Routers",
          "Fragrances",
          "Deodorants",
          "Combos",
          "Wild Stone Combos",
          "Intex Routers",
          "Adidas Combos",
          "Vincent Valentine Paris Combos",
          "Denver Combos",
          "Archies Combos",
          "Asus Routers",
          "Layer'r Combos",
          "Apple Routers",
          "Tenda Routers",
          "Huawei Routers",
          "Anna Andre Paris Combos",
          "TRENDnet Routers",
          "Edimax Routers",
          "Park Avenue Combos",
          "Binatone Routers",
          "KamaSutra Combos",
          "Arabian Nights Combos",
          "Engage Combos",
          "Belkin Routers",
          "Envy-1000 Combos",
          "Yardley Combos",
          "Nivea Combos",
          "Zyxel Routers",
          "TP-LINK Routers",
          "Playboy Combos",
          "Spinz Combos",
          "Nike Combos",
          "Aero Care Combos",
          "Beverly Hills Polo Club Combos",
          "Netgear Routers",
          "Addiction Combos",
          "iBall Routers",
          "ENVY 1000 Combos",
          "Netis Routers",
          "French Factor Combos",
          "Fogg Combos",
          "Denim Combos",
          "Cinthol Combos",
          "Airtel Routers",
          "Digisol Routers",
          "Ajmal Combos",
          "Women's Hygiene",
          "Combo & kits",
          "Clear Face Combo & kits",
          "Clear Face Kesar Chandan Multivitamin Nourishing...",
          "Cases & Covers",
          "YGS Cases & Covers",
          "YGS Keyboard Case for Asus Memo Pad 7in Tab (Pink)",
          "Hair Care Accessories",
          "Hair Accessories",
          "Majik Hair Accessories",
          "Majik Styling Decoration Hair Clip (Multicolor)",
          "Portable Projectors",
          "Zingalalaa Portable Projectors",
          "Zingalalaa LP-50 50 lm LED Corded Portable Proje...",
          "Diapering & Potty Training",
          "Changing Tables",
          "BASRA Changing Tables",
          "BASRA uepgrn Green Changing Table",
          "Adapters",
          "Smartpro Adapters",
          "Smartpro 19.5v,3.9a Replacement Charger for Vaio...",
          "Strollers & Activity Gear",
          "Strollers & Prams",
          "Graco Strollers & Prams",
          "Graco LiteRider Click Connect � Marco (Multicolor)",
          "Bar Glasses",
          "ocean Bar Glasses",
          "ocean VGLASS0051 (325 ml, Clear, Pack of 6)",
          "Fengshui",
          "Reiki Crystal Products Fengshui",
          "Reiki Crystal Products Showpiece  -  8 cm (Cryst...",
          "HomeEdge Health Care Devices",
          "HomeEdge Solid Wood King Bed (Finish Color -  Na...",
          "Dungarees & Jumpsuits",
          "Jumpsuits",
          "Budding Bees Jumpsuits",
          "Budding Bees Printed Baby Girl's Jumpsuit",
          "Table Linen Sets",
          "JewelKraft Designs Brown, Pink Table Linen Set",
          "Baby Sleeping Bags",
          "Baby Bucket Baby Sleeping Bags",
          "Baby Bucket SHERIN MULTI BEAR Sleeping Bag (Green)",
          "Pulse Oximeters",
          "NAMS Pulse Oximeters",
          "NAMS 06 Fully Automatic Pulse Oximeter (White)",
          "Bodysuits & Sleepsuits",
          "Sleepsuits",
          "Rute Sleepsuits",
          "Rute Baby Girl's Sleepsuit",
          "Tidy Home Furnishing",
          "Tidy Printed Cushions Cover (Pack of 9, 50 cm*50...",
          "JBC Collection Bedsheets",
          "JBC Collection Cotton Printed Single Bedsheet (1...",
          "Laptop Adapters",
          "Hako Laptop Adapters",
          "Hako 45W Magsafe Laptop Charger For APPLE MacBoo...",
          "Hako 85W Magsafe Laptop Charger For APPLE MacBoo...",
          "Hako 60W Magsafe Laptop Charger For APPLE MacBoo...",
          "Baby Shower Caps",
          "3kFactory Baby Shower Caps",
          "3kFactory Baby Shower Cap- Purple",
          "Saba Garments Dresses",
          "Saba Garments Baby Girl's Gathered Dress",
          "Winter & Seasonal Wear",
          "Jackets",
          "Upside Down Jackets",
          "Upside Down Sleeveless Applique Baby Girl's, Bab...",
          "Lushomes Living Room Furnishing",
          "Lushomes Plain Back Cushion (Pack of5, Brown)",
          "Pressure Cookers & Pans",
          "Prestige Pressure Cookers & Pans",
          "Milton Bottles & Sippers",
          "HP Pen Drives",
          "HP v220w 16 GB  Pen Drive (Silver, Black)",
          "TIGI BED HEAD Conditioners",
          "TIGI BED HEAD COLOUR GODDESS OIL INFUSED CONDITI...",
          "Beebay Dresses",
          "Beebay Baby Girl's Fit and Flare Dress",
          "Steamers & Idli Makers",
          "Idli Makers",
          "vatika Idli Makers",
          "vatika Advance Standard Idli Maker (7 Plates , 1...",
          "Amit Carpet Polyester Medium Door Mat ACI2016034...",
          "Hair Colors",
          "Garnier Hair Colors",
          "Garnier Nutrisse Haircolor Hair Color (43 Dark G...",
          "Fs Mini Klub Dresses",
          "Fs Mini Klub Baby Girl's Fit and Flare Dress",
          "Chokree Dresses",
          "Chokree Baby Girl's, Girl's A-line Dress",
          "Shorts & Trousers",
          "Track Pants",
          "Shaun Track Pants",
          "Shaun Printed Baby Boy's Yellow, Grey, Black Tra...",
          "Shaun Solid Baby Boy's Grey, Dark Blue Track Pants",
          "Tks Baby Bath Towels",
          "Tks Cotton Hair Towel (1 Hair towel, Orange)",
          "Ocean Bar Glasses",
          "Ocean CPGW087 (280 ml, Clear, Pack of 6)",
          "OGX Conditioners",
          "OGX Sunkissed Blonde Lemon Highlights Conditione...",
          "giftsthatwow Bar Glasses",
          "giftsthatwow GTW-G-04 (300 ml, White, Pack of 1)",
          "giftsthatwow GTW-G-06 (600 ml, White, Pack of 1)",
          "Bath and Spa",
          "Body and Essential Oils",
          "Allin Exporters Body and Essential Oils",
          "Allin Exporters Fennel Oil (Co2 Extract) (30 ml)",
          "Art n Beyond Bar Glasses",
          "Art n Beyond 150013 (300 ml, Clear, Pack of 6)",
          "Allin Exporters Cumin Seed Oil (Co2 Extract) (25...",
          "Kitchen Linen Sets",
          "Cotonex Black, White Cotton Kitchen Linen Set (P...",
          "Cotonex Blue, White Cotton Kitchen Linen Set (Pa...",
          "Cotonex Yellow, Green Cotton Kitchen Linen Set (...",
          "Batteries",
          "Lapguard Batteries",
          "HP Batteries",
          "ARB Batteries",
          "4D Batteries",
          "Clublaptop Batteries",
          "Rega IT Batteries",
          "Sonata Wrist Watches",
          "Times Wrist Watches",
          "Maxima Wrist Watches",
          "Nexus Wrist Watches",
          "Logues Wrist Watches",
          "Global Nomad Wrist Watches",
          "Noise Wrist Watches",
          "SF by Sonata Wrist Watches",
          "Fluid Wrist Watches",
          "HMT Wrist Watches",
          "Timewel Wrist Watches",
          "Petrol Wrist Watches",
          "Only Kidz Wrist Watches",
          "Kool Kidz Wrist Watches",
          "Olvin Wrist Watches",
          "Fastrack Wrist Watches",
          "Hourglass Wrist Watches",
          "Gift Island Wrist Watches",
          "Flippd Wrist Watches",
          "Neo Classic Wrist Watches",
          "Cleaning Kits",
          "Shopfloor.XYZ Cleaning Kits",
          "Shopfloor.XYZ Vacuum Cleaner for Computers, Lapt...",
          "Leggings & Jeggings",
          "Babyoye Premium Leggings & Jeggings",
          "Babyoye Premium Baby Girl's Grey Leggings",
          "Cushions",
          "Furnishing Zone Cushions",
          "Furnishing Zone Printed Back Cushion (Pack of2, ...",
          "Babyoye Premium Baby Girl's Multicolor Leggings ...",
          "GREENWICH Leggings & Jeggings",
          "GREENWICH Baby Girl's Black Jeggings",
          "Artificial Plants",
          "Miracle Retail Artificial Plants",
          "Miracle Retail Bonsai Wild Plant Artificial Plan...",
          "Mayursflora Artificial Plants",
          "Mayursflora Bonsai Aloe, Maple, Arecaceae, Palm,...",
          "V Creations Artificial Plants",
          "V Creations Bonsai Cactus Artificial Plant  with...",
          "LITTLE FEETZ Night Suits",
          "LITTLE FEETZ Baby Girl's Solid Top & Skirt Set",
          "Saco Keyboards",
          "Next Steps Dresses",
          "Wall Shelves",
          "R&Mshoppee Wall Shelves",
          "R&Mshoppee MDF Wall Shelf (Number of Shelves - 1...",
          "posterchacha Coffee Mugs",
          "posterchacha Ishita Personalised Custom Name Hap...",
          "Curren Nx Wrist Watches",
          "Curren Nx Blue Dial Stiched Strap Analog Watch  ...",
          "Laptops",
          "HP Laptops",
          "Soulful Threads Vanity Boxes",
          "Soulful Threads Red Thread Aari Embroidered Blac...",
          "Aapno Rajasthan Vanity Boxes",
          "Aapno Rajasthan Lovely Jewellery Vanity Jeweller...",
          "MohanJodero Vanity Boxes",
          "MohanJodero Jewellery Box Jewellery Vanity Jewel...",
          "Garden & Leisure",
          "Hammocks & Swings",
          "Hammocks",
          "Rrsskids Hammocks",
          "Rrsskids Swing King Cotton Hammock (White)",
          "Smart Wall Guru Large Adhesive Sticker Sticker (...",
          "Ally The Creations Printed Cushions Cover (Pack ...",
          "Bibs & Hankies",
          "Bibs",
          "Cheeky Chompers Bibs",
          "Cheeky Chompers The Neckerchew - Simple Classic ...",
          "Piyo Piyo Bibs",
          "Piyo Piyo Four Stage Waterproof Bib (Yellow)",
          "Innovative Wall Shelves",
          "Innovative Single Corner Stainless Steel Wall Sh...",
          "Boreal Baby Grooming",
          "Boreal Plastic rectangular hair brush 633D",
          "Pokizo Dresses",
          "Pokizo Baby Girl's A-line Dress",
          "Titrit Dresses",
          "Titrit Baby Girl's Gathered Dress",
          "Young Birds Dresses",
          "Young Birds Baby Girl's Fit and Flare Dress",
          "FS Mini Klub Bodysuits",
          "FS Mini Klub Baby Boy's Bodysuit",
          "chota packet Bodysuits",
          "chota packet Baby Boy's, Baby Girl's Bodysuit",
          "You Got Plan B Bodysuits",
          "You Got Plan B Baby Boy's, Baby Girl's Romper",
          "Diaper Bags",
          "Mee Mee Diaper Bags",
          "Mee Mee Multifunctional Nursery Diaper Bag (Dark...",
          "Zero Leggings & Jeggings",
          "Zero Baby Girl's Leggings (Pack of 3)",
          "Suits and Blazers",
          "Blazers",
          "Oxolloxo Blazers",
          "Oxolloxo Solid Single Breasted Casual Women's Bl...",
          "Lanterns",
          "SHOPOJ Lanterns",
          "SHOPOJ Blue Paper Sky Lantern (80 cm X 34 cm, Pa...",
          "Ville Style Polyester Maroon Floral Eyelet Door ...",
          "Sarah Hair Accessories",
          "Sarah Stylish Hair Claw (Brown)",
          "Cookware Pots",
          "Wonderchef Cookware Pots",
          "Wonderchef Windsor Roaster 26cm Pot 3.4 L (Alumi...",
          "T-Shirts & Tops",
          "Shrugs",
          "Kushies baby Shrugs",
          "Kushies baby Baby Girl's Shrug",
          "Wow! Dresses",
          "Wow! Baby Girl's Gathered Yellow Dress",
          "CHOCOBERRY Night Suits",
          "CHOCOBERRY Baby Girl's Printed White, Dark Blue ...",
          "Shorts",
          "Lilliput Shorts",
          "Lilliput Solid Baby Boy's Blue Cargo Shorts",
          "Jacadi Paris Dresses",
          "Jacadi Paris Baby Girl's Gathered Dark Blue Dress",
          "Wow! Baby Girl's Gathered Pink Dress",
          "Wow! Baby Girl's Gathered Red Dress",
          "Jacadi Paris Baby Girl's Gathered Blue Dress",
          "FS Mini Klub Shorts",
          "FS Mini Klub Printed Baby Boy's Multicolor Basic...",
          "Housekeeping & Laundry",
          "Home Cleaning",
          "Brooms & Brushes",
          "Geol Brooms & Brushes",
          "Geol Wooden Wet and Dry Broom (Brown, Pack of 1)",
          "Laptop Bags",
          "Sunlast Laptop Bags",
          "Sunlast 16 inch Laptop Backpack (Yellow)",
          "NammaBaby Night Suits",
          "NammaBaby Baby Girl's Animal Print Top & Pyjama Set",
          "Thakkar Night Suits",
          "Thakkar Baby Girl's Printed Top & Pyjama Set",
          "next steps Night Suits",
          "next steps Baby Girl's Striped Top & Pyjama Set",
          "Computer Components",
          "Processors",
          "Intel Processors",
          "Intel 3.2 GHz LGA 1150 3250 Processor (BLACK)",
          "MKB Baby Girl's Empire Waist Dress",
          "NeedyBee Dresses",
          "NeedyBee Baby Girl's Layered Dress",
          "Seals Dresses",
          "Seals Baby Girl's A-line Dress",
          "Chokree Baby Girl's A-line Dress",
          "Innerwear & Sleepwear",
          "Bloomers & Drawers",
          "Esteem Bloomers & Drawers",
          "Esteem Baby Boy's Drawer",
          "Clocks",
          "Wall Clocks",
          "KLOCX Wall Clocks",
          "KLOCX Analog Wall Clock (Black, With Glass)",
          "Marvel Baby Bath Towels",
          "Romex Wrist Watches",
          "The Intellect Bazaar Baby Bath Towels",
          "Baby & Kids Gifts",
          "Photo Frames",
          "Wood Beauty Photo Frames",
          "BornBabyKids Baby Bath Towels",
          "Utensils",
          "Sippers & Cups",
          "Munchkin Sippers & Cups",
          "Creative Width Decor Wall Decals & Stickers",
          "Divine Gifts & Artificial Jewellery Religious Idols",
          "Blue Bell Sippers & Cups",
          "Welhouse Baby Bath Towels",
          "Accessories",
          "Caps",
          "Portia Caps",
          "Ethnic Sets",
          "RTD Ethnic Sets",
          "Ornate Bulbs",
          "Shrikant Traders Baby Bath Towels",
          "MH Photo Frames",
          "NIKsales Bulbs",
          "Indha Craft Photo Frames",
          "VRCT Bulbs",
          "BabyBucket Baby Bath Towels",
          "Simoco Bulbs",
          "Neyth Baby Bath Towels",
          "AsiaCraft Religious Idols",
          "Soy Impulse Bulbs",
          "Cocovey Photo Frames",
          "Face Care",
          "Sunscreen",
          "VLCC Sunscreen",
          "Lotus Sunscreen",
          "Oshea Herbals Sunscreen",
          "Richfeel Sunscreen",
          "Keya Seth Sunscreen",
          "Jovees Sunscreen",
          "Whiteherbs Sunscreen",
          "Philips Bulbs",
          "Oriflame Sweden Sunscreen",
          "Aveeno Sunscreen",
          "La Roche-Posay Sunscreen",
          "Paintings",
          "Wallmantra Paintings",
          "Tallenge Paintings",
          "Table Placemats",
          "Vgstore Rectangular Pack of 6 Table Placemat (Da...",
          "Jaipur Raga Showpieces",
          "Golmaalshop Religious Idols",
          "Nappies & Cloth Diapers",
          "U & ME Nappies & Cloth Diapers",
          "MyKid Nappies & Cloth Diapers",
          "Pompom Sweethearts Nappies & Cloth Diapers",
          "Table Runners",
          "Craftartz Religious Idols",
          "HoA Nappies & Cloth Diapers",
          "Gift Studios Religious Idols",
          "Series Lights",
          "VRCT Series Lights",
          "VRCT 196 inch Green Rice Lights (Pack of 1)",
          "Lipsticks",
          "Foolzy Lipsticks",
          "Tidy Kitchen Linen Sets",
          "Tidy Green Cotton Kitchen Linen Set (Pack of 3)",
          "Sonpra Bodysuits",
          "Canon Toners",
          "Radhika's World of Crafts Religious Idols",
          "Bath and Spa Accessories",
          "Loofahs",
          "AntiqueShop Loofahs",
          "AntiqueShop ABKL_GRN_GRN_GRN",
          "AntiqueShop ABKL_PL_PNK_PNK",
          "AntiqueShop ABKL_PL_PL_PNK",
          "Religion & Devotion",
          "brass gift center Religion & Devotion",
          "brass gift center Showpiece  -  48 cm (Brass, Mu...",
          "Dinnerware & Crockery",
          "Cups & Saucers",
          "Buyer's Beach Cups & Saucers",
          "Buyer's Beach BB349 (Brown)",
          "Anti Dust Plugs",
          "Pindia Anti Dust Plugs",
          "Fogg Fashion Store Wrist Watches",
          "Nutcase Water bottle",
          "Mxofere Combos and Kits",
          "SVM Wrist Watches",
          "Fighter Wrist Watches",
          "Luba Wrist Watches",
          "Perucci Wrist Watches",
          "Chappin & Nellson Wrist Watches",
          "Oxyglow Combos and Kits",
          "Xemex Wrist Watches",
          "Baby Blankets",
          "Offspring Baby Blankets",
          "Ireeya Baby Blankets",
          "Carter'S Baby Blankets",
          "My NewBorn Baby Blankets",
          "RRTC Wrist Watches",
          "Baby Spoons & Forks",
          "Funcart Baby Spoons & Forks",
          "EZ Life Baby Spoons & Forks",
          "Love Baby Baby Bath Towels",
          "LUBA Wrist Watches",
          "Eye Care",
          "Wild Ferns Eye Care",
          "Ollington St. Collection Nappies & Cloth Diapers",
          "Rana Watches Wrist Watches",
          "R.S Wrist Watches",
          "Lapguard Adapters",
          "Rega IT Adapters",
          "Regent Wall Clocks",
          "eCraftIndia Wall Clocks",
          "Bharatcraft Showpiece",
          "Bharatcraft Wall Hanging Of Lord Ganesha On A Cr...",
          "Firstrace Wrist Watches",
          "CB Fashion Wrist Watches",
          "Timex Wrist Watches",
          "Casotec USB Gadgets",
          "Fonokase USB Gadgets",
          "Memore USB Gadgets",
          "Orico USB Gadgets",
          "Bigkik USB Gadgets",
          "Tapawire USB Gadgets",
          "Crystle USB Gadgets",
          "Amaze Fashion USB Gadgets",
          "RRP USB Gadgets",
          "Techone+ USB Gadgets",
          "Himtek USB Gadgets",
          "KLIQVIK USB Gadgets",
          "Epresent USB Gadgets",
          "Task Logistics USB Gadgets",
          "Trousers",
          "Feetje Trousers",
          "LUV USB Gadgets",
          "Rock USB Gadgets",
          "Generix USB Gadgets",
          "QP360 USB Gadgets",
          "Zaicus USB Gadgets",
          "Akshaj USB Gadgets",
          "Lifestyle-You USB Gadgets",
          "99Gems USB Gadgets",
          "De TechInn USB Gadgets",
          "Dizionario USB Gadgets",
          "Kensington USB Gadgets",
          "RCE Batteries",
          "Combo Sets",
          "kawal fashion Combo Sets",
          "kawal fashion Pyjama Baby Girl's  Combo",
          "Men's Grooming",
          "Sivanna Men's Grooming",
          "Sivanna Baking Powder Rouge  Highlighter (Dark p...",
          "Bodysuits",
          "Lula Bodysuits",
          "Lula Baby Girl's Dark Blue Bodysuit",
          "Towels",
          "Baby Massage Oils",
          "Shagun Gold Baby Massage Oils",
          "SSCP Body and Essential Oils",
          "Intex Inflatable Products",
          "Health Care Accessories",
          "Health Care Accessories",
          "KDS SURGICAL Health Care Accessories",
          "KDS SURGICAL Tripod Walking Stick",
          "Bharatcraft Contemporary",
          "Bharatcraft Showpiece  -  5 cm (Polyresin, Brown)",
          "Loreal Hair Colors",
          "Loreal Diarichesse No- 5 Light Brown ( Pack of 3...",
          "@home Earthy Wine Net Ceramic Vase (9.8250000000...",
          "Jugs & Pitchers",
          "Jugs",
          "Prisha India Craft Jugs",
          "Prisha India Craft m_jug015-1-prishaindia Water ...",
          "BRANDWAGON Paintings",
          "BRANDWAGON DIGIPRINT Digital Reprint Painting (1...",
          "Relaxfeel Baby Blankets",
          "Relaxfeel Floral Single Dohar White (AC Dohar)",
          "Posters",
          "STYLE CLUES FASHION Posters",
          "scarlet tanager bird normal POSTER Paper Print (...",
          "Mega product Posters",
          "good-night-angel-sleep-well-pics Paper Print (18...",
          "Shirts",
          "Fs Mini Klub Shirts",
          "Fs Mini Klub Baby Boy's Woven Casual Shirt",
          "Cotton On Kids Shirts",
          "Cotton On Kids Baby Boy's Printed Casual Shirt",
          "Hats",
          "Portia Hats",
          "Portia Hat (Pink, Pack of 1)",
          "Beebay Shirts",
          "Beebay Baby Boy's Checkered Casual Shirt",
          "Shoperite Posters",
          "painting_art_couple_love__Dance Paper Print (12 ...",
          "Urban Monk Posters",
          "Bourne Supermacy Canvas Art (18 inch X 12 inch, ...",
          "Clocks",
          "Table Clocks",
          "Like Table Clocks",
          "Like Analog Purple Clock",
          "612 League Shirts",
          "612 League Baby Boy's Checkered Casual Shirt",
          "FS Mini Klub Shirts",
          "FS Mini Klub Baby Boy's Woven Casual Shirt",
          "Wallpapers",
          "wallskart Wallpapers",
          "wallskart Floral & Botanical Wallpaper (35.56 cm...",
          "Megaway Series Lights",
          "Anjalika Religious Idols",
          "Digilight Series Lights",
          "Agrasen International Religious Idols",
          "Pinc Ginger Series Lights",
          "Elfani Lipsticks",
          "Home Delight Series Lights",
          "Adaa Showpieces",
          "Utsav Handicraft Religious Idols",
          "Incolor Lipsticks",
          "My Party Suppliers Series Lights",
          "GrandShop Series Lights",
          "eCraftIndia Showpieces",
          "Hookah Flavors",
          "Al Fakher Hookah Flavors",
          "Weldecor Series Lights",
          "Organistick Lipsticks",
          "Eshoppee Religious Idols",
          "Arabian Nights Hookah Flavors",
          "Shankh",
          "The Art Treasure Shankh",
          "Cutlery",
          "Forks",
          "Bhalaria Forks",
          "Bhalaria Dessert Fork Stainless Steel Dessert Fo...",
          "Floor Lamp",
          "Nutcase Floor Lamp",
          "Nutcase Multicolor Column Floor Lamp (31 cm)",
          "Floor Coverings",
          "Carpets & Rugs",
          "M S Rugs Pink, Blue Wool Dhurrie (120 cm  X 180 cm)",
          "GIMS Brown Viscose Carpet (165 cm  X 120 cm)",
          "Cotonex Beige Cotton Kitchen Linen Set (Pack of 2)",
          "FURNISHINGLAND Green Silk Carpet (60 cm  X 180 cm)",
          "FURNISHINGLAND Black Polyester Carpet (90 cm  X ...",
          "loomkart Blue Polyester Runner (55 cm  X 147 cm)",
          "FURNISHINGLAND Maroon Silk Carpet (60 cm  X 180 cm)",
          "Lip Care",
          "Lip Creams",
          "NYX Lip Creams",
          "NYX Set Of 2 Soft Matte Lip Cream 06,22 (Multi c...",
          "Kitchen Scissors",
          "Checkered Chef Kitchen Scissors",
          "Checkered Chef Steel All-Purpose Scissor (Red, B...",
          "Baby Bedsheets",
          "Mahadev Handicrafts Baby Bedsheets",
          "Mahadev Handicrafts Cotton Cartoon Double Bedshe...",
          "Sparklings Baby Bedsheets",
          "Sparklings Cotton Checkered Double Bedsheet (dou...",
          "Swastik Sofa Covers",
          "Swastik Velvet Sofa Cover (Multicolor Pack of 10)",
          "Bela Home Baby Bedsheets",
          "Bela Home Cotton Cartoon Single Bedsheet (1 Sing...",
          "Sparklings Cotton Geometric Double Bedsheet (dou...",
          "CALCULUS Shirts",
          "CALCULUS Baby Boy's Printed Casual Beige Shirt",
          "Gramophones",
          "ROYLE KATOCH Gramophones",
          "ROYLE KATOCH Showpiece  -  24 cm (Crystal, Woode...",
          "Jaycoknit Religion & Devotion",
          "Jaycoknit Mediterranean Sea's Lucky Wooden Handc...",
          "Jacadi paris Shirts",
          "Jacadi paris Baby Boy's Striped Casual Blue Shirt",
          "Beauty Accessories",
          "Makeup Accessories",
          "Brushes and Applicators",
          "LOTTIE LONDON Brushes and Applicators",
          "LOTTIE LONDON MAKE ME BLUSH (Pack of 1)",
          "FS Mini Klub Bodysuits",
          "FS Mini Klub Baby Girl's Bodysuit",
          "Choppers & Peelers",
          "Graters & Slicers",
          "Deep Graters & Slicers",
          "Deep kitchen press Steel Grater and Slicer (Stee...",
          "dongli Polos & T-Shirts",
          "dongli Striped Baby Boy's Polo Neck T-Shirt (Pac...",
          "Fs Mini Klub Polos & T-Shirts",
          "Fs Mini Klub Printed Baby Boy's Round Neck T-Shirt",
          "Aarika Salwar Kurta Dupattas",
          "Aarika Self Design Kurta & Patiyala",
          "Rishan Polos & T-Shirts",
          "Rishan Printed Baby Boy's V-neck T-Shirt",
          "YK Polos & T-Shirts",
          "YK Striped Baby Boy's Round Neck T-Shirt",
          "Art Godaam Human Figurines",
          "Artist Haat Vanity Boxes",
          "Vedic Deals Showpieces",
          "Hand Art Human Figurines",
          "Craftuno Vanity Boxes",
          "Kaatru Human Figurines",
          "CoffeeBean Trousers",
          "CoffeeBean Regular Fit Baby Girl's Pink Trousers",
          "Cork Screws",
          "Seven Seas Cork Screws",
          "Pedrini Cork Screws",
          "AM Creation Coffee Mugs",
          "AM Creation Magic  Ceramic Mug (273 ml, Pack of 2)",
          "Baby Body Wash",
          "TRESemme Baby Body Wash",
          "TRESemme Naturals Vibrantly Smooth Shampoo (591)",
          "L Oreal Baby Body Wash",
          "L Oreal Eversleek Sulfate - Free Smoothing Syste...",
          "CTW Religious Idols",
          "CTW Ganpati Bapa Moriya Statue Showpiece  -  12 ...",
          "Happiness Is Coffee Mugs",
          "Happiness Is Printed Bone China Mug (300 ml)",
          "Balaji Velvet Sofa Cover (Brown Pack of 6)",
          "Containers & Jars",
          "Kitchen Containers",
          "Lock&Lock Kitchen Containers",
          "Lock&Lock Kitchen  - 5.5 L Polypropylene Multi-p...",
          "Mom & Me Bodysuits",
          "Mom & Me Baby Girl's Bodysuit",
          "APOLLO+ USB Gadgets",
          "APOLLO+ Pack Of 3 Flexible Led Light (Multicolour)",
          "HuppmeGift Coffee Mugs",
          "HuppmeGift Happy Birthday Navneet Inner Red Cera...",
          "Decorations",
          "Doraemon Gift Family Ceramic Coffee Mug Decorations",
          "Doraemon Gift Family Ceramic Coffee Mug Multicol...",
          "Eyes",
          "Eye Shadows",
          "Milani Eye Shadows",
          "Milani Runway shadow Wet/Dry Black Out 3 g (Shadow)",
          "e.l.f. Cosmetics Eye Shadows",
          "e.l.f. Cosmetics Studio brow Kit Ash Brow Makeup...",
          "Soaps",
          "Aster Luxury Soaps",
          "Aster Luxury Arabic Oudh Bathing Bar - Pack of 4...",
          "Kitchen Tool Sets",
          "King Traders Kitchen Tool Sets",
          "King Traders KI-BD-01 1 Kitchen Tool Set",
          "Wall Decal Wall Decals & Stickers",
          "Wall Decal Small Self Adhesive Sticker (Pack of 1)",
          "Dongli Polos & T-Shirts",
          "Dongli Striped Baby Boy's Polo Neck T-Shirt",
          "Cotton Buds",
          "SJ Cotton Buds",
          "SJ Tulip multi use cotton Balls (Pack of 100)",
          "Hookah Mouth Tips",
          "Ech oly Hookah Mouth Tips",
          "Ech oly Ceramic Inside Fitting Hookah Mouth Tip ...",
          "Sprays",
          "LAWMAN PG3 Sprays",
          "LAWMAN PG3 Striker,, Winger , Contender Deodoran...",
          "Toons Polos & T-Shirts",
          "Toons Printed Baby Boy's Round Neck T-Shirt",
          "Computer Accessories Combos",
          "PRINT SHAPES Computer Accessories Combos",
          "PRINT SHAPES red Heart Laptop Skin with Mouse pa...",
          "Lip Balms",
          "Good Way Lip Balms",
          "Good Way Peppermint Lip Balm Pepper (8 g)",
          "Aroma Comfort Polyester Cream Self Design Eyelet...",
          "PRINT SHAPES Sony headphone Laptop Skin with Mou...",
          "PRINT SHAPES Power of roman reigns Laptop Skin w...",
          "Aroma Comfort Polyester Blue Floral Eyelet Long ...",
          "PRINT SHAPES roronoa Zora Laptop Skin with Mouse...",
          "Aroma Comfort Polyester Brown Floral Eyelet Long...",
          "RAMs",
          "Transcend RAMs",
          "Transcend Premium Memory DDR2 2 GB (1x2GB) PC SD...",
          "PRINT SHAPES doraemon Laptop Skin with Mouse pad...",
          "PRINT SHAPES monster university party Laptop Ski...",
          "Aroma Comfort Polyester Green Self Design Eyelet...",
          "Aroma Comfort Polyester Brown Self Design Eyelet...",
          "PRINT SHAPES Graphic Dancer Laptop Skin with Mou...",
          "Aroma Comfort Polyester Brown Printed Eyelet Win...",
          "Medicines & Treatment",
          "First Aid",
          "Hot & Cold Packs",
          "OMRD Hot & Cold Packs",
          "OMRD RD6697 Hot and cold Pack (GREEN)",
          "Shampoos",
          "Kerastase Shampoos",
          "Kerastase Nutritive Bain Satin 1 Complete Nutrit...",
          "PRINT SHAPES mary and max cartoon Laptop Skin wi...",
          "Aroma Comfort Polyester Dark Blue Plain Eyelet W...",
          "PRINT SHAPES Peacock Feather Laptop Skin with Mo...",
          "PRINT SHAPES despicable me 2 looking upwards Lap...",
          "PRINT SHAPES Red bull Laptop Skin with Mouse pad...",
          "Medical Equipment & Accessories",
          "Surgical e Sstudio Medical Equipment & Accessories",
          "Surgical e Sstudio S0004 Gown, Pant Hospital Scr...",
          "Reiki Crystal Products Showpiece  -  6 cm (Brass...",
          "Stickers",
          "Elite Collection Stickers",
          "Wallmantra Stickers",
          "WallDesign Stickers",
          "999store Stickers",
          "Oren Empower Stickers",
          "Uberlyfe Stickers"
         ],
         "parents": [
          "",
          "Home Furnishing",
          "Home Furnishing >> Curtains & Accessories",
          "Home Furnishing >> Curtains & Accessories >> Curtains",
          "",
          "Baby Care",
          "Baby Care >> Baby Bath & Skin",
          "Baby Care >> Baby Bath & Skin >> Baby Bath Towels",
          "Baby Care >> Baby Bath & Skin >> Baby Bath Towels >> Sathiyas Baby Bath Towels",
          "Baby Care >> Baby Bath & Skin >> Baby Bath Towels",
          "Baby Care >> Baby Bath & Skin >> Baby Bath Towels >> Eurospa Baby Bath Towels",
          "Home Furnishing",
          "Home Furnishing >> Bed Linen",
          "Home Furnishing >> Bed Linen >> Bedsheets",
          "Home Furnishing >> Bed Linen >> Bedsheets >> SANTOSH ROYAL FASHION Bedsheets",
          "Home Furnishing >> Bed Linen >> Bedsheets",
          "Home Furnishing >> Bed Linen >> Bedsheets >> Jaipur Print Bedsheets",
          "",
          "Watches",
          "Watches >> Wrist Watches",
          "Watches >> Wrist Watches",
          "Watches >> Wrist Watches",
          "Watches >> Wrist Watches",
          "Watches >> Wrist Watches",
          "Watches >> Wrist Watches",
          "Watches >> Wrist Watches",
          "Watches >> Wrist Watches",
          "Watches >> Wrist Watches",
          "Watches >> Wrist Watches",
          "Watches >> Wrist Watches",
          "Watches >> Wrist Watches",
          "Watches >> Wrist Watches",
          "Watches >> Wrist Watches",
          "Watches >> Wrist Watches",
          "Watches >> Wrist Watches",
          "Watches >> Wrist Watches",
          "Watches >> Wrist Watches",
          "Watches >> Wrist Watches",
          "Watches >> Wrist Watches",
          "Watches >> Wrist Watches",
          "Watches >> Wrist Watches",
          "Watches >> Wrist Watches",
          "Watches >> Wrist Watches",
          "Home Furnishing",
          "Home Furnishing >> Living Room Furnishing",
          "Home Furnishing >> Living Room Furnishing >> Diwan Sets",
          "Home Furnishing >> Living Room Furnishing >> Diwan Sets >> SANTOSH ROYAL FASHION Diwan Sets",
          "Home Furnishing >> Bed Linen",
          "Home Furnishing >> Bed Linen >> Duvet Covers",
          "Home Furnishing >> Bed Linen >> Duvet Covers >> House This Duvet Covers",
          "Home Furnishing",
          "Home Furnishing >> Bath Linen",
          "",
          "Home Decor & Festive Needs",
          "Home Decor & Festive Needs >> Candles & Fragrances",
          "Home Decor & Festive Needs >> Candles & Fragrances >> Home Fragrances",
          "Home Decor & Festive Needs >> Candles & Fragrances >> Home Fragrances >> Aroma Oils",
          "",
          "Kitchen & Dining",
          "Kitchen & Dining >> Tableware & Cutlery",
          "Kitchen & Dining >> Tableware & Cutlery >> Jug, Glass & Tray Sets",
          "Kitchen & Dining >> Tableware & Cutlery >> Jug, Glass & Tray Sets >> Dungri India Craft Jug, Glass & Tray Sets",
          "Kitchen & Dining",
          "Kitchen & Dining >> Lighting",
          "Kitchen & Dining >> Lighting >> Bulbs",
          "Kitchen & Dining >> Lighting >> Bulbs >> BFT Bulbs",
          "Home Furnishing",
          "Home Furnishing >> JMD Home Furnishing",
          "Baby Care",
          "Baby Care >> Infant Wear",
          "Baby Care >> Infant Wear >> Baby Girls' Clothes",
          "Baby Care >> Infant Wear >> Baby Girls' Clothes >> Innerwear & Sleepwear",
          "Baby Care >> Infant Wear >> Baby Girls' Clothes >> Innerwear & Sleepwear >> Night Suits",
          "Baby Care >> Infant Wear >> Baby Girls' Clothes >> Innerwear & Sleepwear >> Night Suits >> Mom and Kid Night Suits",
          "Home Furnishing",
          "Home Furnishing >> Kripa's Home Furnishing",
          "Baby Care >> Infant Wear >> Baby Girls' Clothes >> Innerwear & Sleepwear >> Night Suits >> Mom and Kid Night Suits",
          "",
          "Beauty and Personal Care",
          "Beauty and Personal Care >> Hair Care",
          "Beauty and Personal Care >> Hair Care >> Conditioners",
          "Beauty and Personal Care >> Hair Care >> Conditioners >> Burt s Bees Conditioners",
          "Kitchen & Dining",
          "Kitchen & Dining >> Coffee Mugs",
          "Kitchen & Dining >> Coffee Mugs >> AKUP Coffee Mugs",
          "Kitchen & Dining >> Coffee Mugs >> AKUP Coffee Mugs",
          "Kitchen & Dining >> Coffee Mugs >> AKUP Coffee Mugs",
          "",
          "Computers",
          "Computers >> Network Components",
          "Computers >> Network Components >> Routers",
          "Computers >> Network Components >> Routers >> D-Link Routers",
          "Kitchen & Dining >> Coffee Mugs >> AKUP Coffee Mugs",
          "Beauty and Personal Care >> Hair Care >> Conditioners",
          "Beauty and Personal Care >> Hair Care >> Conditioners >> Suave Conditioners",
          "Kitchen & Dining >> Coffee Mugs >> AKUP Coffee Mugs",
          "Computers",
          "Computers >> Tablet Accessories",
          "Computers >> Tablet Accessories >> Keyboards",
          "Computers >> Tablet Accessories >> Keyboards >> RoQ Keyboards",
          "Kitchen & Dining",
          "Kitchen & Dining >> Cookware",
          "Kitchen & Dining >> Cookware >> Casserole & Sets",
          "Kitchen & Dining >> Cookware >> Casserole & Sets >> Cookart Casserole & Sets",
          "Computers",
          "Computers >> Laptop Accessories",
          "Computers >> Laptop Accessories >> USB Gadgets",
          "Computers >> Laptop Accessories >> USB Gadgets >> JRB USB Gadgets",
          "Computers >> Laptop Accessories >> USB Gadgets >> JRB USB Gadgets",
          "Computers >> Laptop Accessories >> USB Gadgets >> JRB USB Gadgets",
          "Beauty and Personal Care",
          "Beauty and Personal Care >> Makeup",
          "Beauty and Personal Care >> Makeup >> Vanity Boxes",
          "Beauty and Personal Care",
          "Beauty and Personal Care >> Combos and Kits",
          "Beauty and Personal Care >> Combos and Kits >> RYTHMX Combos and Kits",
          "Beauty and Personal Care >> Combos and Kits",
          "Beauty and Personal Care >> Combos and Kits >> Brillare Science Combos and Kits",
          "Beauty and Personal Care >> Combos and Kits",
          "Beauty and Personal Care >> Combos and Kits >> Mars Combos and Kits",
          "Beauty and Personal Care >> Makeup",
          "Beauty and Personal Care >> Makeup >> Nails",
          "Beauty and Personal Care >> Makeup >> Nails >> Nail Polishes",
          "Beauty and Personal Care >> Makeup >> Nails >> Nail Polishes >> Aroma Care Nail Polishes",
          "Baby Care",
          "Baby Care >> Feeding & Nursing",
          "Baby Care >> Feeding & Nursing >> Bottles & Accessories",
          "Baby Care >> Feeding & Nursing >> Bottles & Accessories >> Bottle Covers",
          "Baby Care >> Feeding & Nursing >> Bottles & Accessories >> Bottle Covers >> KOHL Bottle Covers",
          "Kitchen & Dining >> Coffee Mugs",
          "Kitchen & Dining >> Coffee Mugs >> Shopmania Coffee Mugs",
          "Baby Care",
          "Baby Care >> Baby Bedding",
          "Baby Care >> Baby Bedding >> Baby Mattresses",
          "Baby Care >> Baby Bedding >> Baby Mattresses >> CHHOTE JANAB Baby Mattresses",
          "Home Furnishing",
          "Home Furnishing >> Kitchen & Dining Linen",
          "Home Furnishing >> Kitchen & Dining Linen >> Table Covers",
          "Kitchen & Dining",
          "Kitchen & Dining >> Containers & Bottles",
          "Kitchen & Dining >> Containers & Bottles >> Lunch Boxes",
          "Kitchen & Dining >> Containers & Bottles >> Lunch Boxes >> SKI Lunch Boxes",
          "Kitchen & Dining >> Containers & Bottles >> Lunch Boxes",
          "Kitchen & Dining >> Containers & Bottles >> Lunch Boxes >> GAYATRI CREATIONS Lunch Boxes",
          "Kitchen & Dining",
          "Kitchen & Dining >> Consumables & Disposables",
          "Kitchen & Dining >> Consumables & Disposables >> Bowls",
          "Kitchen & Dining >> Consumables & Disposables >> Bowls >> Caffeine Bowls",
          "Home Furnishing >> Kitchen & Dining Linen >> Table Covers",
          "Kitchen & Dining >> Containers & Bottles",
          "Kitchen & Dining >> Containers & Bottles >> Bottles & Sippers",
          "Kitchen & Dining >> Containers & Bottles >> Bottles & Sippers >> Water bottle",
          "Kitchen & Dining >> Containers & Bottles >> Bottles & Sippers >> Water bottle >> Garnet Water bottle",
          "Baby Care >> Infant Wear >> Baby Girls' Clothes",
          "Baby Care >> Infant Wear >> Baby Girls' Clothes >> Shorts & Trousers",
          "Baby Care >> Infant Wear >> Baby Girls' Clothes >> Shorts & Trousers >> Shorts",
          "Baby Care >> Infant Wear >> Baby Girls' Clothes >> Shorts & Trousers >> Shorts >> Vitamins Shorts",
          "Baby Care >> Infant Wear >> Baby Girls' Clothes >> Shorts & Trousers >> Shorts >> Vitamins Shorts",
          "Baby Care >> Infant Wear >> Baby Girls' Clothes >> Shorts & Trousers >> Shorts >> Vitamins Shorts",
          "Beauty and Personal Care >> Makeup >> Vanity Boxes",
          "Beauty and Personal Care >> Makeup >> Vanity Boxes >> KE Vanity Boxes",
          "Beauty and Personal Care >> Makeup",
          "Beauty and Personal Care >> Makeup >> Lips",
          "Beauty and Personal Care >> Makeup >> Lips >> Lip Liners",
          "Beauty and Personal Care >> Makeup >> Lips >> Lip Liners >> Giorgio Armani Lip Liners",
          "Home Furnishing >> Living Room Furnishing >> Diwan Sets",
          "Home Furnishing >> Living Room Furnishing >> Diwan Sets >> Jaipur Print Diwan Sets",
          "Baby Care >> Infant Wear",
          "Baby Care >> Infant Wear >> Baby Boys' Clothes",
          "Baby Care >> Infant Wear >> Baby Boys' Clothes >> Accessories",
          "Baby Care >> Infant Wear >> Baby Boys' Clothes >> Accessories >> Caps",
          "Baby Care >> Infant Wear >> Baby Boys' Clothes >> Accessories >> Caps >> florence9 Caps",
          "Home Decor & Festive Needs",
          "Home Decor & Festive Needs >> Wall Decor & Clocks",
          "Home Decor & Festive Needs >> Wall Decor & Clocks >> Key Holders",
          "Home Decor & Festive Needs >> Wall Decor & Clocks >> Key Holders >> VarEesha Key Holders",
          "Home Decor & Festive Needs",
          "Home Decor & Festive Needs >> Table Decor & Handicrafts",
          "Home Decor & Festive Needs >> Table Decor & Handicrafts >> Showpieces",
          "Home Decor & Festive Needs >> Table Decor & Handicrafts >> Showpieces >> Fengshui",
          "Home Decor & Festive Needs >> Table Decor & Handicrafts >> Showpieces >> Fengshui >> Treasure Fengshui",
          "Baby Care >> Baby Bedding",
          "Baby Care >> Baby Bedding >> Baby Mosquito Nets",
          "Baby Care >> Baby Bedding >> Baby Mosquito Nets >> CHINMAY KIDS Baby Mosquito Nets",
          "Baby Care >> Infant Wear >> Baby Boys' Clothes",
          "Baby Care >> Infant Wear >> Baby Boys' Clothes >> Combo Sets",
          "Baby Care >> Infant Wear >> Baby Boys' Clothes >> Combo Sets >> HEAVENLY Combo Sets",
          "Home Decor & Festive Needs",
          "Home Decor & Festive Needs >> Flowers, Plants & Vases",
          "Home Decor & Festive Needs >> Flowers, Plants & Vases >> Flower Vase",
          "Home Decor & Festive Needs >> Flowers, Plants & Vases >> Flower Vase >> @home Flower Vase",
          "Home Decor & Festive Needs >> Wall Decor & Clocks",
          "Home Decor & Festive Needs >> Wall Decor & Clocks >> Wall Decals & Stickers",
          "Home Decor & Festive Needs >> Wall Decor & Clocks >> Wall Decals & Stickers >> Smart Wall Guru Wall Decals & Stickers",
          "Kitchen & Dining >> Cookware",
          "Kitchen & Dining >> Cookware >> Pots & Pans",
          "Kitchen & Dining >> Cookware >> Pots & Pans >> Pans & Tawas",
          "Kitchen & Dining >> Cookware >> Pots & Pans >> Pans & Tawas >> oxford Pans & Tawas",
          "Computers",
          "Computers >> Software",
          "Computers >> Software >> Language Learning",
          "Computers >> Software >> Language Learning >> Physical",
          "Computers >> Software >> Language Learning >> Physical >> Eureka.in Physical",
          "Home Furnishing >> Kitchen & Dining Linen",
          "Home Furnishing >> Kitchen & Dining Linen >> Coasters",
          "Home Furnishing >> Kitchen & Dining Linen >> Coasters >> Craft Trade Coasters",
          "Home Decor & Festive Needs",
          "Home Decor & Festive Needs >> Showpieces",
          "Home Decor & Festive Needs >> Showpieces",
          "Home Decor & Festive Needs >> Showpieces",
          "Home Decor & Festive Needs >> Showpieces",
          "Home Decor & Festive Needs >> Table Decor & Handicrafts >> Showpieces",
          "Home Decor & Festive Needs >> Table Decor & Handicrafts >> Showpieces >> Religious Idols",
          "Home Decor & Festive Needs >> Table Decor & Handicrafts >> Showpieces",
          "Home Decor & Festive Needs >> Table Decor & Handicrafts >> Showpieces >> Human Figurines",
          "Home Decor & Festive Needs >> Table Decor & Handicrafts >> Showpieces >> Religious Idols",
          "Beauty and Personal Care >> Makeup >> Vanity Boxes",
          "Beauty and Personal Care >> Makeup >> Vanity Boxes",
          "Beauty and Personal Care >> Makeup >> Vanity Boxes",
          "Home Decor & Festive Needs >> Table Decor & Handicrafts >> Showpieces >> Religious Idols",
          "Home Decor & Festive Needs >> Table Decor & Handicrafts >> Showpieces >> Religious Idols >> K&P Religious Idols",
          "Home Furnishing >> Bed Linen",
          "Baby Care",
          "Baby Care >> Furniture & Furnishings",
          "Baby Care >> Furniture & Furnishings >> Inflatable Products",
          "Home Furnishing >> Bed Linen >> Blankets, Quilts & Dohars",
          "Baby Care >> Infant Wear >> Baby Girls' Clothes",
          "Baby Care >> Infant Wear >> Baby Girls' Clothes >> Ethnic Wear",
          "Baby Care >> Infant Wear >> Baby Girls' Clothes >> Ethnic Wear >> Salwar Kurta Dupattas",
          "Baby Care >> Infant Wear >> Baby Girls' Clothes >> Ethnic Wear >> Salwar Kurta Dupattas >> TWISHA Salwar Kurta Dupattas",
          "Home Decor & Festive Needs",
          "Home Decor & Festive Needs >> Decorative Lighting & Lamps",
          "Home Decor & Festive Needs >> Decorative Lighting & Lamps >> Table Lamps",
          "Home Decor & Festive Needs >> Decorative Lighting & Lamps >> Table Lamps >> Eternity Table Lamps",
          "Baby Care >> Infant Wear >> Baby Boys' Clothes",
          "Baby Care >> Infant Wear >> Baby Boys' Clothes >> Bodysuits & Sleepsuits",
          "Baby Care >> Infant Wear >> Baby Boys' Clothes >> Bodysuits & Sleepsuits >> Sleepsuits",
          "Baby Care >> Infant Wear >> Baby Boys' Clothes >> Bodysuits & Sleepsuits >> Sleepsuits >> FS Mini Klub Sleepsuits",
          "Kitchen & Dining >> Containers & Bottles >> Bottles & Sippers",
          "Kitchen & Dining >> Containers & Bottles >> Bottles & Sippers >> Sippers",
          "Kitchen & Dining >> Containers & Bottles >> Bottles & Sippers >> Sippers >> Omic Sippers",
          "Baby Care",
          "Baby Care >> Baby Grooming",
          "Baby Care >> Baby Grooming >> Baby Grooming Combos",
          "Computers",
          "Computers >> Computer Peripherals",
          "Computers >> Computer Peripherals >> Printers & Inks",
          "Computers >> Computer Peripherals >> Printers & Inks >> Toners",
          "Home Decor & Festive Needs >> Table Decor & Handicrafts >> Showpieces >> Religious Idols",
          "Baby Care >> Infant Wear >> Baby Boys' Clothes >> Bodysuits & Sleepsuits",
          "Baby Care >> Infant Wear >> Baby Boys' Clothes >> Bodysuits & Sleepsuits >> Bodysuits",
          "Computers >> Laptop Accessories",
          "Computers >> Laptop Accessories >> Mouse Pads",
          "Computers >> Laptop Accessories >> Mouse Pads >> FRENEMY Mouse Pads",
          "Home Furnishing",
          "Home Furnishing >> Cushions, Pillows & Covers",
          "Home Furnishing >> Cushions, Pillows & Covers >> Cushion Covers",
          "Baby Care >> Infant Wear >> Baby Boys' Clothes >> Bodysuits & Sleepsuits >> Sleepsuits",
          "Baby Care >> Infant Wear >> Baby Boys' Clothes >> Bodysuits & Sleepsuits >> Sleepsuits >> Toffyhouse Sleepsuits",
          "Computers",
          "Computers >> Storage",
          "Computers >> Storage >> Pen Drives",
          "Computers >> Storage >> Pen Drives >> Shopizone Pen Drives",
          "Home Decor & Festive Needs >> Wall Decor & Clocks >> Key Holders",
          "Home Decor & Festive Needs >> Wall Decor & Clocks >> Key Holders >> Craftcart Key Holders",
          "Beauty and Personal Care",
          "Beauty and Personal Care >> Health Care",
          "Beauty and Personal Care >> Health Care >> Health Care Devices",
          "Beauty and Personal Care >> Health Care >> Health Care Devices >> Electrotherapy",
          "Beauty and Personal Care >> Health Care >> Health Care Devices >> Electrotherapy >> SOS Electrotherapy",
          "Beauty and Personal Care",
          "Beauty and Personal Care >> Body and Skin Care",
          "Beauty and Personal Care >> Body and Skin Care >> Hand Care",
          "Beauty and Personal Care >> Body and Skin Care >> Hand Care >> Manicure and Kits",
          "Beauty and Personal Care >> Body and Skin Care >> Hand Care >> Manicure and Kits",
          "Beauty and Personal Care >> Body and Skin Care >> Hand Care >> Manicure and Kits",
          "Home Decor & Festive Needs >> Table Decor & Handicrafts",
          "Home Decor & Festive Needs >> Table Decor & Handicrafts >> Table Decor",
          "Home Decor & Festive Needs >> Table Decor & Handicrafts >> Table Decor >> Hookah & Hookah Flavours",
          "Home Decor & Festive Needs >> Table Decor & Handicrafts >> Table Decor >> Hookah & Hookah Flavours >> Hookah",
          "Kitchen & Dining >> Coffee Mugs",
          "Kitchen & Dining >> Coffee Mugs",
          "Kitchen & Dining >> Coffee Mugs",
          "Kitchen & Dining >> Coffee Mugs",
          "Kitchen & Dining >> Coffee Mugs",
          "Kitchen & Dining",
          "Kitchen & Dining >> Kitchen Tools",
          "Kitchen & Dining >> Kitchen Tools >> Kitchen Implements",
          "Kitchen & Dining >> Kitchen Tools >> Kitchen Implements >> Pizza Cutters",
          "Home Decor & Festive Needs >> Showpieces",
          "Home Decor & Festive Needs >> Showpieces",
          "Home Decor & Festive Needs >> Showpieces",
          "Home Decor & Festive Needs >> Showpieces",
          "Home Decor & Festive Needs >> Showpieces >> Ethnic",
          "Kitchen & Dining >> Kitchen Tools >> Kitchen Implements >> Pizza Cutters",
          "Home Decor & Festive Needs >> Showpieces >> Ethnic",
          "Kitchen & Dining >> Kitchen Tools >> Kitchen Implements >> Pizza Cutters",
          "Home Decor & Festive Needs >> Showpieces",
          "Home Decor & Festive Needs >> Showpieces >> Ethnic",
          "Baby Care >> Infant Wear >> Baby Boys' Clothes",
          "Baby Care >> Infant Wear >> Baby Boys' Clothes >> Dungarees & Jumpsuits",
          "Baby Care >> Infant Wear >> Baby Boys' Clothes >> Dungarees & Jumpsuits >> Jumpsuits",
          "Home Decor & Festive Needs >> Showpieces",
          "Kitchen & Dining >> Kitchen Tools >> Kitchen Implements >> Pizza Cutters",
          "Home Decor & Festive Needs >> Showpieces",
          "Home Decor & Festive Needs >> Showpieces",
          "Home Decor & Festive Needs >> Showpieces >> Ethnic",
          "Home Decor & Festive Needs >> Showpieces",
          "Kitchen & Dining >> Kitchen Tools >> Kitchen Implements >> Pizza Cutters",
          "Kitchen & Dining >> Kitchen Tools >> Kitchen Implements >> Pizza Cutters",
          "Home Decor & Festive Needs >> Showpieces >> Ethnic",
          "Kitchen & Dining >> Kitchen Tools >> Kitchen Implements >> Pizza Cutters",
          "Home Decor & Festive Needs >> Showpieces >> Ethnic",
          "Baby Care >> Infant Wear >> Baby Boys' Clothes >> Dungarees & Jumpsuits >> Jumpsuits",
          "Home Decor & Festive Needs >> Showpieces >> Ethnic",
          "Kitchen & Dining >> Kitchen Tools >> Kitchen Implements >> Pizza Cutters",
          "Home Decor & Festive Needs >> Showpieces",
          "Home Decor & Festive Needs >> Showpieces >> Ethnic",
          "Home Decor & Festive Needs >> Showpieces >> Ethnic",
          "Home Decor & Festive Needs >> Showpieces >> Ethnic",
          "Home Decor & Festive Needs >> Showpieces >> Ethnic",
          "Kitchen & Dining >> Cookware >> Pots & Pans",
          "Kitchen & Dining >> Cookware >> Pots & Pans >> Woks & Kadhais",
          "Kitchen & Dining >> Kitchen Tools >> Kitchen Implements >> Pizza Cutters",
          "Home Decor & Festive Needs >> Showpieces",
          "Kitchen & Dining >> Cookware >> Pots & Pans >> Woks & Kadhais",
          "Home Decor & Festive Needs >> Showpieces >> Ethnic",
          "Kitchen & Dining >> Cookware >> Pots & Pans >> Woks & Kadhais",
          "Kitchen & Dining >> Cookware >> Pots & Pans >> Woks & Kadhais",
          "Kitchen & Dining >> Cookware >> Pots & Pans >> Woks & Kadhais",
          "Kitchen & Dining >> Cookware >> Pots & Pans >> Woks & Kadhais",
          "Kitchen & Dining >> Cookware >> Pots & Pans >> Woks & Kadhais",
          "Kitchen & Dining >> Cookware >> Pots & Pans >> Woks & Kadhais",
          "Kitchen & Dining >> Cookware >> Pots & Pans >> Woks & Kadhais",
          "Kitchen & Dining >> Cookware >> Pots & Pans >> Woks & Kadhais",
          "Home Decor & Festive Needs >> Showpieces",
          "Kitchen & Dining >> Cookware >> Pots & Pans >> Woks & Kadhais",
          "Home Decor & Festive Needs",
          "Home Decor & Festive Needs >> Showpieces",
          "Kitchen & Dining >> Cookware >> Pots & Pans >> Woks & Kadhais",
          "Home Decor & Festive Needs >> Showpieces",
          "Home Decor & Festive Needs >> Showpieces >> Ethnic",
          "Kitchen & Dining >> Cookware >> Pots & Pans >> Woks & Kadhais",
          "Home Decor & Festive Needs >> Showpieces >> Ethnic",
          "Kitchen & Dining >> Cookware >> Pots & Pans >> Woks & Kadhais",
          "Home Decor & Festive Needs >> Showpieces",
          "Home Decor & Festive Needs >> Showpieces",
          "Kitchen & Dining >> Cookware >> Pots & Pans >> Woks & Kadhais",
          "Kitchen & Dining >> Cookware >> Pots & Pans >> Woks & Kadhais",
          "Kitchen & Dining >> Kitchen Tools >> Kitchen Implements >> Pizza Cutters",
          "Home Decor & Festive Needs >> Showpieces",
          "Kitchen & Dining >> Cookware >> Pots & Pans >> Woks & Kadhais",
          "Kitchen & Dining >> Cookware >> Pots & Pans >> Woks & Kadhais",
          "Baby Care >> Infant Wear >> Baby Boys' Clothes >> Dungarees & Jumpsuits",
          "Baby Care >> Infant Wear >> Baby Boys' Clothes >> Dungarees & Jumpsuits >> Dungarees",
          "Baby Care >> Infant Wear >> Baby Boys' Clothes >> Dungarees & Jumpsuits >> Dungarees >> Babeezworld Dungarees",
          "Watches >> Wrist Watches",
          "Watches >> Wrist Watches >> Pittsburgh Polo Club Wrist Watches",
          "Watches >> Wrist Watches",
          "Watches >> Wrist Watches >> palito Wrist Watches",
          "Watches >> Wrist Watches",
          "Watches >> Wrist Watches >> Adino Wrist Watches",
          "Watches >> Wrist Watches",
          "Watches >> Wrist Watches >> ESIDON Wrist Watches",
          "Watches >> Wrist Watches >> palito Wrist Watches",
          "Home Furnishing",
          "Home Furnishing >> Living",
          "Home Furnishing >> Living >> Sofa Covers",
          "Baby Care >> Infant Wear >> Baby Boys' Clothes >> Dungarees & Jumpsuits >> Dungarees",
          "Baby Care >> Infant Wear >> Baby Boys' Clothes >> Dungarees & Jumpsuits >> Dungarees >> cherry crumble california Dungarees",
          "Watches >> Wrist Watches",
          "Watches >> Wrist Watches >> Yves Bertelin Wrist Watches",
          "Home Decor & Festive Needs",
          "Home Decor & Festive Needs >> Showpiece",
          "Home Decor & Festive Needs >> Showpiece >> Contemporary",
          "Home Decor & Festive Needs >> Showpiece >> Contemporary >> Services Junction Contemporary",
          "Watches >> Wrist Watches >> palito Wrist Watches",
          "Watches >> Wrist Watches",
          "Watches >> Wrist Watches >> V9 Wrist Watches",
          "Home Furnishing >> Living >> Sofa Covers",
          "Baby Care >> Infant Wear >> Baby Boys' Clothes >> Dungarees & Jumpsuits >> Dungarees",
          "Baby Care >> Infant Wear >> Baby Boys' Clothes >> Dungarees & Jumpsuits >> Dungarees >> Kandyfloss Dungarees",
          "Home Decor & Festive Needs >> Showpiece >> Contemporary >> Services Junction Contemporary",
          "Home Decor & Festive Needs >> Decorative Lighting & Lamps >> Table Lamps",
          "Home Decor & Festive Needs >> Decorative Lighting & Lamps >> Table Lamps >> Brahmz Table Lamps",
          "Baby Care >> Infant Wear >> Baby Girls' Clothes",
          "Baby Care >> Infant Wear >> Baby Girls' Clothes >> Dresses & Skirts",
          "Baby Care >> Infant Wear >> Baby Girls' Clothes >> Dresses & Skirts >> Dresses",
          "Baby Care >> Infant Wear >> Baby Girls' Clothes >> Dresses & Skirts >> Dresses >> MKB Dresses",
          "Baby Care >> Infant Wear >> Baby Girls' Clothes >> Dresses & Skirts >> Dresses",
          "Baby Care >> Infant Wear >> Baby Girls' Clothes >> Dresses & Skirts >> Dresses >> Toddla Dresses",
          "Baby Care >> Infant Wear >> Baby Girls' Clothes >> Dresses & Skirts >> Dresses",
          "Baby Care >> Infant Wear >> Baby Girls' Clothes >> Dresses & Skirts >> Dresses >> Baby Moshai Dresses",
          "Baby Care >> Infant Wear >> Baby Girls' Clothes >> Dresses & Skirts >> Dresses",
          "Baby Care >> Infant Wear >> Baby Girls' Clothes >> Dresses & Skirts >> Dresses >> My Little Lambs Dresses",
          "Kitchen & Dining",
          "Kitchen & Dining >> Bar & Glassware",
          "Kitchen & Dining >> Bar & Glassware >> Bar Accessories",
          "Kitchen & Dining >> Bar & Glassware >> Bar Accessories >> Bottle Openers",
          "Kitchen & Dining >> Bar & Glassware >> Bar Accessories >> Bottle Openers >> arnavs Bottle Openers",
          "Computers >> Computer Peripherals",
          "Computers >> Computer Peripherals >> CPU",
          "Computers >> Computer Peripherals >> CPU >> I Ball CPU",
          "Baby Care >> Infant Wear >> Baby Boys' Clothes",
          "Baby Care >> Infant Wear >> Baby Boys' Clothes >> Polos & T-Shirts",
          "Baby Care >> Infant Wear >> Baby Boys' Clothes >> Polos & T-Shirts >> Globe Polos & T-Shirts",
          "Kitchen & Dining >> Kitchen Tools >> Kitchen Implements",
          "Kitchen & Dining >> Kitchen Tools >> Kitchen Implements >> Hand Juicers",
          "Kitchen & Dining >> Kitchen Tools >> Kitchen Implements >> Hand Juicers >> JayEnterprise Hand Juicers",
          "Home Decor & Festive Needs >> Showpieces >> Ethnic",
          "Kitchen & Dining >> Cookware",
          "Kitchen & Dining >> Cookware >> Lids",
          "Beauty and Personal Care >> Health Care >> Health Care Devices",
          "Beauty and Personal Care >> Health Care >> Health Care Devices >> Body Fat Analyzers",
          "Home Decor & Festive Needs >> Showpieces >> Ethnic",
          "Home Decor & Festive Needs >> Showpieces >> Ethnic",
          "Home Decor & Festive Needs >> Showpieces >> Ethnic",
          "Home Decor & Festive Needs >> Showpieces >> Ethnic",
          "Home Decor & Festive Needs >> Showpieces >> Ethnic",
          "Computers >> Network Components >> Routers",
          "Beauty and Personal Care",
          "Beauty and Personal Care >> Fragrances",
          "Beauty and Personal Care >> Fragrances >> Deodorants",
          "Beauty and Personal Care >> Fragrances >> Deodorants >> Combos",
          "Computers >> Network Components >> Routers",
          "Beauty and Personal Care >> Fragrances >> Deodorants >> Combos",
          "Beauty and Personal Care >> Fragrances >> Deodorants >> Combos",
          "Beauty and Personal Care >> Fragrances >> Deodorants >> Combos",
          "Beauty and Personal Care >> Fragrances >> Deodorants >> Combos",
          "Computers >> Network Components >> Routers",
          "Beauty and Personal Care >> Fragrances >> Deodorants >> Combos",
          "Computers >> Network Components >> Routers",
          "Computers >> Network Components >> Routers",
          "Computers >> Network Components >> Routers",
          "Beauty and Personal Care >> Fragrances >> Deodorants >> Combos",
          "Computers >> Network Components >> Routers",
          "Computers >> Network Components >> Routers",
          "Beauty and Personal Care >> Fragrances >> Deodorants >> Combos",
          "Computers >> Network Components >> Routers",
          "Beauty and Personal Care >> Fragrances >> Deodorants >> Combos",
          "Beauty and Personal Care >> Fragrances >> Deodorants >> Combos",
          "Beauty and Personal Care >> Fragrances >> Deodorants >> Combos",
          "Computers >> Network Components >> Routers",
          "Beauty and Personal Care >> Fragrances >> Deodorants >> Combos",
          "Beauty and Personal Care >> Fragrances >> Deodorants >> Combos",
          "Beauty and Personal Care >> Fragrances >> Deodorants >> Combos",
          "Computers >> Network Components >> Routers",
          "Computers >> Network Components >> Routers",
          "Beauty and Personal Care >> Fragrances >> Deodorants >> Combos",
          "Beauty and Personal Care >> Fragrances >> Deodorants >> Combos",
          "Beauty and Personal Care >> Fragrances >> Deodorants >> Combos",
          "Beauty and Personal Care >> Fragrances >> Deodorants >> Combos",
          "Beauty and Personal Care >> Fragrances >> Deodorants >> Combos",
          "Computers >> Network Components >> Routers",
          "Beauty and Personal Care >> Fragrances >> Deodorants >> Combos",
          "Computers >> Network Components >> Routers",
          "Beauty and Personal Care >> Fragrances >> Deodorants >> Combos",
          "Computers >> Network Components >> Routers",
          "Beauty and Personal Care >> Fragrances >> Deodorants >> Combos",
          "Beauty and Personal Care >> Fragrances >> Deodorants >> Combos",
          "Beauty and Personal Care >> Fragrances >> Deodorants >> Combos",
          "Beauty and Personal Care >> Fragrances >> Deodorants >> Combos",
          "Computers >> Network Components >> Routers",
          "Computers >> Network Components >> Routers",
          "Beauty and Personal Care >> Fragrances >> Deodorants >> Combos",
          "Beauty and Personal Care",
          "Beauty and Personal Care >> Women's Hygiene",
          "Beauty and Personal Care >> Women's Hygiene >> Combo & kits",
          "Beauty and Personal Care >> Women's Hygiene >> Combo & kits >> Clear Face Combo & kits",
          "Computers >> Tablet Accessories",
          "Computers >> Tablet Accessories >> Cases & Covers",
          "Computers >> Tablet Accessories >> Cases & Covers >> YGS Cases & Covers",
          "Beauty and Personal Care >> Hair Care",
          "Beauty and Personal Care >> Hair Care >> Hair Care Accessories",
          "Beauty and Personal Care >> Hair Care >> Hair Care Accessories >> Hair Accessories",
          "Beauty and Personal Care >> Hair Care >> Hair Care Accessories >> Hair Accessories >> Majik Hair Accessories",
          "Computers >> Computer Peripherals",
          "Computers >> Computer Peripherals >> Portable Projectors",
          "Computers >> Computer Peripherals >> Portable Projectors >> Zingalalaa Portable Projectors",
          "Baby Care",
          "Baby Care >> Diapering & Potty Training",
          "Baby Care >> Diapering & Potty Training >> Changing Tables",
          "Baby Care >> Diapering & Potty Training >> Changing Tables >> BASRA Changing Tables",
          "Computers >> Laptop Accessories",
          "Computers >> Laptop Accessories >> Adapters",
          "Computers >> Laptop Accessories >> Adapters >> Smartpro Adapters",
          "Baby Care",
          "Baby Care >> Strollers & Activity Gear",
          "Baby Care >> Strollers & Activity Gear >> Strollers & Prams",
          "Baby Care >> Strollers & Activity Gear >> Strollers & Prams >> Graco Strollers & Prams",
          "Kitchen & Dining >> Bar & Glassware",
          "Kitchen & Dining >> Bar & Glassware >> Bar Glasses",
          "Kitchen & Dining >> Bar & Glassware >> Bar Glasses >> ocean Bar Glasses",
          "Home Decor & Festive Needs >> Showpieces",
          "Home Decor & Festive Needs >> Showpieces >> Fengshui",
          "Home Decor & Festive Needs >> Showpieces >> Fengshui >> Reiki Crystal Products Fengshui",
          "Beauty and Personal Care >> Health Care >> Health Care Devices",
          "Beauty and Personal Care >> Health Care >> Health Care Devices >> HomeEdge Health Care Devices",
          "Baby Care >> Infant Wear >> Baby Girls' Clothes",
          "Baby Care >> Infant Wear >> Baby Girls' Clothes >> Dungarees & Jumpsuits",
          "Baby Care >> Infant Wear >> Baby Girls' Clothes >> Dungarees & Jumpsuits >> Jumpsuits",
          "Baby Care >> Infant Wear >> Baby Girls' Clothes >> Dungarees & Jumpsuits >> Jumpsuits >> Budding Bees Jumpsuits",
          "Home Furnishing >> Kitchen & Dining Linen",
          "Home Furnishing >> Kitchen & Dining Linen >> Table Linen Sets",
          "Baby Care >> Baby Bedding",
          "Baby Care >> Baby Bedding >> Baby Sleeping Bags",
          "Baby Care >> Baby Bedding >> Baby Sleeping Bags >> Baby Bucket Baby Sleeping Bags",
          "Beauty and Personal Care >> Health Care >> Health Care Devices",
          "Beauty and Personal Care >> Health Care >> Health Care Devices >> Pulse Oximeters",
          "Beauty and Personal Care >> Health Care >> Health Care Devices >> Pulse Oximeters >> NAMS Pulse Oximeters",
          "Baby Care >> Infant Wear >> Baby Girls' Clothes",
          "Baby Care >> Infant Wear >> Baby Girls' Clothes >> Bodysuits & Sleepsuits",
          "Baby Care >> Infant Wear >> Baby Girls' Clothes >> Bodysuits & Sleepsuits >> Sleepsuits",
          "Baby Care >> Infant Wear >> Baby Girls' Clothes >> Bodysuits & Sleepsuits >> Sleepsuits >> Rute Sleepsuits",
          "Home Furnishing",
          "Home Furnishing >> Tidy Home Furnishing",
          "Home Furnishing >> Bed Linen >> Bedsheets",
          "Home Furnishing >> Bed Linen >> Bedsheets >> JBC Collection Bedsheets",
          "Computers >> Laptop Accessories",
          "Computers >> Laptop Accessories >> Laptop Adapters",
          "Computers >> Laptop Accessories >> Laptop Adapters >> Hako Laptop Adapters",
          "Computers >> Laptop Accessories >> Laptop Adapters >> Hako Laptop Adapters",
          "Computers >> Laptop Accessories >> Laptop Adapters >> Hako Laptop Adapters",
          "Baby Care >> Baby Bath & Skin",
          "Baby Care >> Baby Bath & Skin >> Baby Shower Caps",
          "Baby Care >> Baby Bath & Skin >> Baby Shower Caps >> 3kFactory Baby Shower Caps",
          "Baby Care >> Infant Wear >> Baby Girls' Clothes >> Dresses & Skirts >> Dresses",
          "Baby Care >> Infant Wear >> Baby Girls' Clothes >> Dresses & Skirts >> Dresses >> Saba Garments Dresses",
          "Baby Care >> Infant Wear >> Baby Boys' Clothes",
          "Baby Care >> Infant Wear >> Baby Boys' Clothes >> Winter & Seasonal Wear",
          "Baby Care >> Infant Wear >> Baby Boys' Clothes >> Winter & Seasonal Wear >> Jackets",
          "Baby Care >> Infant Wear >> Baby Boys' Clothes >> Winter & Seasonal Wear >> Jackets >> Upside Down Jackets",
          "Home Furnishing >> Living Room Furnishing",
          "Home Furnishing >> Living Room Furnishing >> Lushomes Living Room Furnishing",
          "Kitchen & Dining",
          "Kitchen & Dining >> Pressure Cookers & Pans",
          "Kitchen & Dining >> Containers & Bottles >> Bottles & Sippers",
          "Computers >> Storage >> Pen Drives",
          "Computers >> Storage >> Pen Drives >> HP Pen Drives",
          "Beauty and Personal Care >> Hair Care >> Conditioners",
          "Beauty and Personal Care >> Hair Care >> Conditioners >> TIGI BED HEAD Conditioners",
          "Baby Care >> Infant Wear >> Baby Girls' Clothes >> Dresses & Skirts >> Dresses",
          "Baby Care >> Infant Wear >> Baby Girls' Clothes >> Dresses & Skirts >> Dresses >> Beebay Dresses",
          "Kitchen & Dining >> Cookware",
          "Kitchen & Dining >> Cookware >> Steamers & Idli Makers",
          "Kitchen & Dining >> Cookware >> Steamers & Idli Makers >> Idli Makers",
          "Kitchen & Dining >> Cookware >> Steamers & Idli Makers >> Idli Makers >> vatika Idli Makers",
          "Home Furnishing >> Bath Linen >> Bath Mats",
          "Beauty and Personal Care >> Hair Care",
          "Beauty and Personal Care >> Hair Care >> Hair Colors",
          "Beauty and Personal Care >> Hair Care >> Hair Colors >> Garnier Hair Colors",
          "Baby Care >> Infant Wear >> Baby Girls' Clothes >> Dresses & Skirts >> Dresses",
          "Baby Care >> Infant Wear >> Baby Girls' Clothes >> Dresses & Skirts >> Dresses >> Fs Mini Klub Dresses",
          "Baby Care >> Infant Wear >> Baby Girls' Clothes >> Dresses & Skirts >> Dresses",
          "Baby Care >> Infant Wear >> Baby Girls' Clothes >> Dresses & Skirts >> Dresses >> Chokree Dresses",
          "Baby Care >> Infant Wear >> Baby Boys' Clothes",
          "Baby Care >> Infant Wear >> Baby Boys' Clothes >> Shorts & Trousers",
          "Baby Care >> Infant Wear >> Baby Boys' Clothes >> Shorts & Trousers >> Track Pants",
          "Baby Care >> Infant Wear >> Baby Boys' Clothes >> Shorts & Trousers >> Track Pants >> Shaun Track Pants",
          "Baby Care >> Infant Wear >> Baby Boys' Clothes >> Shorts & Trousers >> Track Pants >> Shaun Track Pants",
          "Baby Care >> Baby Bath & Skin >> Baby Bath Towels",
          "Baby Care >> Baby Bath & Skin >> Baby Bath Towels >> Tks Baby Bath Towels",
          "Kitchen & Dining >> Bar & Glassware >> Bar Glasses",
          "Kitchen & Dining >> Bar & Glassware >> Bar Glasses >> Ocean Bar Glasses",
          "Beauty and Personal Care >> Hair Care >> Conditioners",
          "Beauty and Personal Care >> Hair Care >> Conditioners >> OGX Conditioners",
          "Kitchen & Dining >> Bar & Glassware >> Bar Glasses",
          "Kitchen & Dining >> Bar & Glassware >> Bar Glasses >> giftsthatwow Bar Glasses",
          "Kitchen & Dining >> Bar & Glassware >> Bar Glasses >> giftsthatwow Bar Glasses",
          "Beauty and Personal Care",
          "Beauty and Personal Care >> Bath and Spa",
          "Beauty and Personal Care >> Bath and Spa >> Body and Essential Oils",
          "Beauty and Personal Care >> Bath and Spa >> Body and Essential Oils >> Allin Exporters Body and Essential Oils",
          "Kitchen & Dining >> Bar & Glassware >> Bar Glasses",
          "Kitchen & Dining >> Bar & Glassware >> Bar Glasses >> Art n Beyond Bar Glasses",
          "Beauty and Personal Care >> Bath and Spa >> Body and Essential Oils >> Allin Exporters Body and Essential Oils",
          "Home Furnishing >> Kitchen & Dining Linen",
          "Home Furnishing >> Kitchen & Dining Linen >> Kitchen Linen Sets",
          "Home Furnishing >> Kitchen & Dining Linen >> Kitchen Linen Sets",
          "Home Furnishing >> Kitchen & Dining Linen >> Kitchen Linen Sets",
          "Computers >> Laptop Accessories",
          "Computers >> Laptop Accessories >> Batteries",
          "Computers >> Laptop Accessories >> Batteries",
          "Computers >> Laptop Accessories >> Batteries",
          "Computers >> Laptop Accessories >> Batteries",
          "Computers >> Laptop Accessories >> Batteries",
          "Computers >> Laptop Accessories >> Batteries",
          "Watches >> Wrist Watches",
          "Watches >> Wrist Watches",
          "Watches >> Wrist Watches",
          "Watches >> Wrist Watches",
          "Watches >> Wrist Watches",
          "Watches >> Wrist Watches",
          "Watches >> Wrist Watches",
          "Watches >> Wrist Watches",
          "Watches >> Wrist Watches",
          "Watches >> Wrist Watches",
          "Watches >> Wrist Watches",
          "Watches >> Wrist Watches",
          "Watches >> Wrist Watches",
          "Watches >> Wrist Watches",
          "Watches >> Wrist Watches",
          "Watches >> Wrist Watches",
          "Watches >> Wrist Watches",
          "Watches >> Wrist Watches",
          "Watches >> Wrist Watches",
          "Watches >> Wrist Watches",
          "Computers >> Laptop Accessories",
          "Computers >> Laptop Accessories >> Cleaning Kits",
          "Computers >> Laptop Accessories >> Cleaning Kits >> Shopfloor.XYZ Cleaning Kits",
          "Baby Care >> Infant Wear >> Baby Girls' Clothes",
          "Baby Care >> Infant Wear >> Baby Girls' Clothes >> Leggings & Jeggings",
          "Baby Care >> Infant Wear >> Baby Girls' Clothes >> Leggings & Jeggings >> Babyoye Premium Leggings & Jeggings",
          "Home Furnishing >> Cushions, Pillows & Covers",
          "Home Furnishing >> Cushions, Pillows & Covers >> Cushions",
          "Home Furnishing >> Cushions, Pillows & Covers >> Cushions >> Furnishing Zone Cushions",
          "Baby Care >> Infant Wear >> Baby Girls' Clothes >> Leggings & Jeggings >> Babyoye Premium Leggings & Jeggings",
          "Baby Care >> Infant Wear >> Baby Girls' Clothes >> Leggings & Jeggings",
          "Baby Care >> Infant Wear >> Baby Girls' Clothes >> Leggings & Jeggings >> GREENWICH Leggings & Jeggings",
          "Home Decor & Festive Needs >> Flowers, Plants & Vases",
          "Home Decor & Festive Needs >> Flowers, Plants & Vases >> Artificial Plants",
          "Home Decor & Festive Needs >> Flowers, Plants & Vases >> Artificial Plants >> Miracle Retail Artificial Plants",
          "Home Decor & Festive Needs >> Flowers, Plants & Vases >> Artificial Plants",
          "Home Decor & Festive Needs >> Flowers, Plants & Vases >> Artificial Plants >> Mayursflora Artificial Plants",
          "Home Decor & Festive Needs >> Flowers, Plants & Vases >> Artificial Plants",
          "Home Decor & Festive Needs >> Flowers, Plants & Vases >> Artificial Plants >> V Creations Artificial Plants",
          "Baby Care >> Infant Wear >> Baby Girls' Clothes >> Innerwear & Sleepwear >> Night Suits",
          "Baby Care >> Infant Wear >> Baby Girls' Clothes >> Innerwear & Sleepwear >> Night Suits >> LITTLE FEETZ Night Suits",
          "Computers >> Tablet Accessories >> Keyboards",
          "Baby Care >> Infant Wear >> Baby Girls' Clothes >> Dresses & Skirts >> Dresses",
          "Home Decor & Festive Needs >> Wall Decor & Clocks",
          "Home Decor & Festive Needs >> Wall Decor & Clocks >> Wall Shelves",
          "Home Decor & Festive Needs >> Wall Decor & Clocks >> Wall Shelves >> R&Mshoppee Wall Shelves",
          "Kitchen & Dining >> Coffee Mugs",
          "Kitchen & Dining >> Coffee Mugs >> posterchacha Coffee Mugs",
          "Watches >> Wrist Watches",
          "Watches >> Wrist Watches >> Curren Nx Wrist Watches",
          "Computers",
          "Computers >> Laptops",
          "Beauty and Personal Care >> Makeup >> Vanity Boxes",
          "Beauty and Personal Care >> Makeup >> Vanity Boxes >> Soulful Threads Vanity Boxes",
          "Beauty and Personal Care >> Makeup >> Vanity Boxes",
          "Beauty and Personal Care >> Makeup >> Vanity Boxes >> Aapno Rajasthan Vanity Boxes",
          "Beauty and Personal Care >> Makeup >> Vanity Boxes",
          "Beauty and Personal Care >> Makeup >> Vanity Boxes >> MohanJodero Vanity Boxes",
          "Home Decor & Festive Needs",
          "Home Decor & Festive Needs >> Garden & Leisure",
          "Home Decor & Festive Needs >> Garden & Leisure >> Hammocks & Swings",
          "Home Decor & Festive Needs >> Garden & Leisure >> Hammocks & Swings >> Hammocks",
          "Home Decor & Festive Needs >> Garden & Leisure >> Hammocks & Swings >> Hammocks >> Rrsskids Hammocks",
          "Home Decor & Festive Needs >> Wall Decor & Clocks >> Wall Decals & Stickers >> Smart Wall Guru Wall Decals & Stickers",
          "Home Furnishing >> Cushions, Pillows & Covers >> Cushion Covers",
          "Baby Care >> Feeding & Nursing",
          "Baby Care >> Feeding & Nursing >> Bibs & Hankies",
          "Baby Care >> Feeding & Nursing >> Bibs & Hankies >> Bibs",
          "Baby Care >> Feeding & Nursing >> Bibs & Hankies >> Bibs >> Cheeky Chompers Bibs",
          "Baby Care >> Feeding & Nursing >> Bibs & Hankies >> Bibs",
          "Baby Care >> Feeding & Nursing >> Bibs & Hankies >> Bibs >> Piyo Piyo Bibs",
          "Home Decor & Festive Needs >> Wall Decor & Clocks >> Wall Shelves",
          "Home Decor & Festive Needs >> Wall Decor & Clocks >> Wall Shelves >> Innovative Wall Shelves",
          "Baby Care >> Baby Grooming",
          "Baby Care >> Baby Grooming >> Boreal Baby Grooming",
          "Baby Care >> Infant Wear >> Baby Girls' Clothes >> Dresses & Skirts >> Dresses",
          "Baby Care >> Infant Wear >> Baby Girls' Clothes >> Dresses & Skirts >> Dresses >> Pokizo Dresses",
          "Baby Care >> Infant Wear >> Baby Girls' Clothes >> Dresses & Skirts >> Dresses",
          "Baby Care >> Infant Wear >> Baby Girls' Clothes >> Dresses & Skirts >> Dresses >> Titrit Dresses",
          "Baby Care >> Infant Wear >> Baby Girls' Clothes >> Dresses & Skirts >> Dresses",
          "Baby Care >> Infant Wear >> Baby Girls' Clothes >> Dresses & Skirts >> Dresses >> Young Birds Dresses",
          "Baby Care >> Infant Wear >> Baby Boys' Clothes >> Bodysuits & Sleepsuits >> Bodysuits",
          "Baby Care >> Infant Wear >> Baby Boys' Clothes >> Bodysuits & Sleepsuits >> Bodysuits >> FS Mini Klub Bodysuits",
          "Baby Care >> Infant Wear >> Baby Boys' Clothes >> Bodysuits & Sleepsuits >> Bodysuits",
          "Baby Care >> Infant Wear >> Baby Boys' Clothes >> Bodysuits & Sleepsuits >> Bodysuits >> chota packet Bodysuits",
          "Baby Care >> Infant Wear >> Baby Boys' Clothes >> Bodysuits & Sleepsuits >> Bodysuits",
          "Baby Care >> Infant Wear >> Baby Boys' Clothes >> Bodysuits & Sleepsuits >> Bodysuits >> You Got Plan B Bodysuits",
          "Baby Care >> Diapering & Potty Training",
          "Baby Care >> Diapering & Potty Training >> Diaper Bags",
          "Baby Care >> Diapering & Potty Training >> Diaper Bags >> Mee Mee Diaper Bags",
          "Baby Care >> Infant Wear >> Baby Girls' Clothes >> Leggings & Jeggings",
          "Baby Care >> Infant Wear >> Baby Girls' Clothes >> Leggings & Jeggings >> Zero Leggings & Jeggings",
          "Baby Care >> Infant Wear >> Baby Boys' Clothes",
          "Baby Care >> Infant Wear >> Baby Boys' Clothes >> Suits and Blazers",
          "Baby Care >> Infant Wear >> Baby Boys' Clothes >> Suits and Blazers >> Blazers",
          "Baby Care >> Infant Wear >> Baby Boys' Clothes >> Suits and Blazers >> Blazers >> Oxolloxo Blazers",
          "Home Decor & Festive Needs >> Decorative Lighting & Lamps",
          "Home Decor & Festive Needs >> Decorative Lighting & Lamps >> Lanterns",
          "Home Decor & Festive Needs >> Decorative Lighting & Lamps >> Lanterns >> SHOPOJ Lanterns",
          "Home Furnishing >> Curtains & Accessories >> Curtains",
          "Beauty and Personal Care >> Hair Care >> Hair Care Accessories >> Hair Accessories",
          "Beauty and Personal Care >> Hair Care >> Hair Care Accessories >> Hair Accessories >> Sarah Hair Accessories",
          "Kitchen & Dining >> Cookware >> Pots & Pans",
          "Kitchen & Dining >> Cookware >> Pots & Pans >> Cookware Pots",
          "Kitchen & Dining >> Cookware >> Pots & Pans >> Cookware Pots >> Wonderchef Cookware Pots",
          "Baby Care >> Infant Wear >> Baby Girls' Clothes",
          "Baby Care >> Infant Wear >> Baby Girls' Clothes >> T-Shirts & Tops",
          "Baby Care >> Infant Wear >> Baby Girls' Clothes >> T-Shirts & Tops >> Shrugs",
          "Baby Care >> Infant Wear >> Baby Girls' Clothes >> T-Shirts & Tops >> Shrugs >> Kushies baby Shrugs",
          "Baby Care >> Infant Wear >> Baby Girls' Clothes >> Dresses & Skirts >> Dresses",
          "Baby Care >> Infant Wear >> Baby Girls' Clothes >> Dresses & Skirts >> Dresses >> Wow! Dresses",
          "Baby Care >> Infant Wear >> Baby Girls' Clothes >> Innerwear & Sleepwear >> Night Suits",
          "Baby Care >> Infant Wear >> Baby Girls' Clothes >> Innerwear & Sleepwear >> Night Suits >> CHOCOBERRY Night Suits",
          "Baby Care >> Infant Wear >> Baby Boys' Clothes >> Shorts & Trousers",
          "Baby Care >> Infant Wear >> Baby Boys' Clothes >> Shorts & Trousers >> Shorts",
          "Baby Care >> Infant Wear >> Baby Boys' Clothes >> Shorts & Trousers >> Shorts >> Lilliput Shorts",
          "Baby Care >> Infant Wear >> Baby Girls' Clothes >> Dresses & Skirts >> Dresses",
          "Baby Care >> Infant Wear >> Baby Girls' Clothes >> Dresses & Skirts >> Dresses >> Jacadi Paris Dresses",
          "Baby Care >> Infant Wear >> Baby Girls' Clothes >> Dresses & Skirts >> Dresses >> Wow! Dresses",
          "Baby Care >> Infant Wear >> Baby Girls' Clothes >> Dresses & Skirts >> Dresses >> Wow! Dresses",
          "Baby Care >> Infant Wear >> Baby Girls' Clothes >> Dresses & Skirts >> Dresses >> Jacadi Paris Dresses",
          "Baby Care >> Infant Wear >> Baby Boys' Clothes >> Shorts & Trousers >> Shorts",
          "Baby Care >> Infant Wear >> Baby Boys' Clothes >> Shorts & Trousers >> Shorts >> FS Mini Klub Shorts",
          "Kitchen & Dining",
          "Kitchen & Dining >> Housekeeping & Laundry",
          "Kitchen & Dining >> Housekeeping & Laundry >> Home Cleaning",
          "Kitchen & Dining >> Housekeeping & Laundry >> Home Cleaning >> Brooms & Brushes",
          "Kitchen & Dining >> Housekeeping & Laundry >> Home Cleaning >> Brooms & Brushes >> Geol Brooms & Brushes",
          "Computers >> Laptop Accessories",
          "Computers >> Laptop Accessories >> Laptop Bags",
          "Computers >> Laptop Accessories >> Laptop Bags >> Sunlast Laptop Bags",
          "Baby Care >> Infant Wear >> Baby Girls' Clothes >> Innerwear & Sleepwear >> Night Suits",
          "Baby Care >> Infant Wear >> Baby Girls' Clothes >> Innerwear & Sleepwear >> Night Suits >> NammaBaby Night Suits",
          "Baby Care >> Infant Wear >> Baby Girls' Clothes >> Innerwear & Sleepwear >> Night Suits",
          "Baby Care >> Infant Wear >> Baby Girls' Clothes >> Innerwear & Sleepwear >> Night Suits >> Thakkar Night Suits",
          "Baby Care >> Infant Wear >> Baby Girls' Clothes >> Innerwear & Sleepwear >> Night Suits",
          "Baby Care >> Infant Wear >> Baby Girls' Clothes >> Innerwear & Sleepwear >> Night Suits >> next steps Night Suits",
          "Computers",
          "Computers >> Computer Components",
          "Computers >> Computer Components >> Processors",
          "Computers >> Computer Components >> Processors >> Intel Processors",
          "Baby Care >> Infant Wear >> Baby Girls' Clothes >> Dresses & Skirts >> Dresses >> MKB Dresses",
          "Baby Care >> Infant Wear >> Baby Girls' Clothes >> Dresses & Skirts >> Dresses",
          "Baby Care >> Infant Wear >> Baby Girls' Clothes >> Dresses & Skirts >> Dresses >> NeedyBee Dresses",
          "Baby Care >> Infant Wear >> Baby Girls' Clothes >> Dresses & Skirts >> Dresses",
          "Baby Care >> Infant Wear >> Baby Girls' Clothes >> Dresses & Skirts >> Dresses >> Seals Dresses",
          "Baby Care >> Infant Wear >> Baby Girls' Clothes >> Dresses & Skirts >> Dresses >> Chokree Dresses",
          "Baby Care >> Infant Wear >> Baby Boys' Clothes",
          "Baby Care >> Infant Wear >> Baby Boys' Clothes >> Innerwear & Sleepwear",
          "Baby Care >> Infant Wear >> Baby Boys' Clothes >> Innerwear & Sleepwear >> Bloomers & Drawers",
          "Baby Care >> Infant Wear >> Baby Boys' Clothes >> Innerwear & Sleepwear >> Bloomers & Drawers >> Esteem Bloomers & Drawers",
          "Home Decor & Festive Needs >> Wall Decor & Clocks",
          "Home Decor & Festive Needs >> Wall Decor & Clocks >> Clocks",
          "Home Decor & Festive Needs >> Wall Decor & Clocks >> Clocks >> Wall Clocks",
          "Home Decor & Festive Needs >> Wall Decor & Clocks >> Clocks >> Wall Clocks >> KLOCX Wall Clocks",
          "Baby Care >> Baby Bath & Skin >> Baby Bath Towels",
          "Watches >> Wrist Watches",
          "Baby Care >> Baby Bath & Skin >> Baby Bath Towels",
          "Baby Care",
          "Baby Care >> Baby & Kids Gifts",
          "Baby Care >> Baby & Kids Gifts >> Photo Frames",
          "Baby Care >> Baby Bath & Skin >> Baby Bath Towels",
          "Baby Care >> Feeding & Nursing",
          "Baby Care >> Feeding & Nursing >> Utensils",
          "Baby Care >> Feeding & Nursing >> Utensils >> Sippers & Cups",
          "Home Decor & Festive Needs >> Wall Decor & Clocks >> Wall Decals & Stickers",
          "Home Decor & Festive Needs >> Table Decor & Handicrafts >> Showpieces >> Religious Idols",
          "Baby Care >> Feeding & Nursing >> Utensils >> Sippers & Cups",
          "Baby Care >> Baby Bath & Skin >> Baby Bath Towels",
          "Baby Care >> Infant Wear >> Baby Girls' Clothes",
          "Baby Care >> Infant Wear >> Baby Girls' Clothes >> Accessories",
          "Baby Care >> Infant Wear >> Baby Girls' Clothes >> Accessories >> Caps",
          "Baby Care >> Infant Wear >> Baby Girls' Clothes >> Ethnic Wear",
          "Baby Care >> Infant Wear >> Baby Girls' Clothes >> Ethnic Wear >> Ethnic Sets",
          "Kitchen & Dining >> Lighting >> Bulbs",
          "Baby Care >> Baby Bath & Skin >> Baby Bath Towels",
          "Baby Care >> Baby & Kids Gifts >> Photo Frames",
          "Kitchen & Dining >> Lighting >> Bulbs",
          "Baby Care >> Baby & Kids Gifts >> Photo Frames",
          "Kitchen & Dining >> Lighting >> Bulbs",
          "Baby Care >> Baby Bath & Skin >> Baby Bath Towels",
          "Kitchen & Dining >> Lighting >> Bulbs",
          "Baby Care >> Baby Bath & Skin >> Baby Bath Towels",
          "Home Decor & Festive Needs >> Table Decor & Handicrafts >> Showpieces >> Religious Idols",
          "Kitchen & Dining >> Lighting >> Bulbs",
          "Baby Care >> Baby & Kids Gifts >> Photo Frames",
          "Beauty and Personal Care >> Body and Skin Care",
          "Beauty and Personal Care >> Body and Skin Care >> Face Care",
          "Beauty and Personal Care >> Body and Skin Care >> Face Care >> Sunscreen",
          "Beauty and Personal Care >> Body and Skin Care >> Face Care >> Sunscreen",
          "Beauty and Personal Care >> Body and Skin Care >> Face Care >> Sunscreen",
          "Beauty and Personal Care >> Body and Skin Care >> Face Care >> Sunscreen",
          "Beauty and Personal Care >> Body and Skin Care >> Face Care >> Sunscreen",
          "Beauty and Personal Care >> Body and Skin Care >> Face Care >> Sunscreen",
          "Beauty and Personal Care >> Body and Skin Care >> Face Care >> Sunscreen",
          "Kitchen & Dining >> Lighting >> Bulbs",
          "Beauty and Personal Care >> Body and Skin Care >> Face Care >> Sunscreen",
          "Beauty and Personal Care >> Body and Skin Care >> Face Care >> Sunscreen",
          "Beauty and Personal Care >> Body and Skin Care >> Face Care >> Sunscreen",
          "Home Decor & Festive Needs >> Wall Decor & Clocks",
          "Home Decor & Festive Needs >> Wall Decor & Clocks >> Paintings",
          "Home Decor & Festive Needs >> Wall Decor & Clocks >> Paintings",
          "Home Furnishing >> Kitchen & Dining Linen",
          "Home Furnishing >> Kitchen & Dining Linen >> Table Placemats",
          "Home Decor & Festive Needs >> Showpieces",
          "Home Decor & Festive Needs >> Table Decor & Handicrafts >> Showpieces >> Religious Idols",
          "Baby Care >> Diapering & Potty Training",
          "Baby Care >> Diapering & Potty Training >> Nappies & Cloth Diapers",
          "Baby Care >> Diapering & Potty Training >> Nappies & Cloth Diapers",
          "Baby Care >> Diapering & Potty Training >> Nappies & Cloth Diapers",
          "Home Furnishing >> Kitchen & Dining Linen",
          "Home Decor & Festive Needs >> Table Decor & Handicrafts >> Showpieces >> Religious Idols",
          "Baby Care >> Diapering & Potty Training >> Nappies & Cloth Diapers",
          "Home Decor & Festive Needs >> Table Decor & Handicrafts >> Showpieces >> Religious Idols",
          "Home Decor & Festive Needs >> Decorative Lighting & Lamps",
          "Home Decor & Festive Needs >> Decorative Lighting & Lamps >> Series Lights",
          "Home Decor & Festive Needs >> Decorative Lighting & Lamps >> Series Lights >> VRCT Series Lights",
          "Beauty and Personal Care >> Makeup >> Lips",
          "Beauty and Personal Care >> Makeup >> Lips >> Lipsticks",
          "Home Furnishing >> Kitchen & Dining Linen >> Kitchen Linen Sets",
          "Home Furnishing >> Kitchen & Dining Linen >> Kitchen Linen Sets >> Tidy Kitchen Linen Sets",
          "Baby Care >> Infant Wear >> Baby Boys' Clothes >> Bodysuits & Sleepsuits >> Bodysuits",
          "Computers >> Computer Peripherals >> Printers & Inks >> Toners",
          "Home Decor & Festive Needs >> Table Decor & Handicrafts >> Showpieces >> Religious Idols",
          "Beauty and Personal Care >> Bath and Spa",
          "Beauty and Personal Care >> Bath and Spa >> Bath and Spa Accessories",
          "Beauty and Personal Care >> Bath and Spa >> Bath and Spa Accessories >> Loofahs",
          "Beauty and Personal Care >> Bath and Spa >> Bath and Spa Accessories >> Loofahs >> AntiqueShop Loofahs",
          "Beauty and Personal Care >> Bath and Spa >> Bath and Spa Accessories >> Loofahs >> AntiqueShop Loofahs",
          "Beauty and Personal Care >> Bath and Spa >> Bath and Spa Accessories >> Loofahs >> AntiqueShop Loofahs",
          "Home Decor & Festive Needs",
          "Home Decor & Festive Needs >> Religion & Devotion",
          "Home Decor & Festive Needs >> Religion & Devotion >> brass gift center Religion & Devotion",
          "Kitchen & Dining",
          "Kitchen & Dining >> Dinnerware & Crockery",
          "Kitchen & Dining >> Dinnerware & Crockery >> Cups & Saucers",
          "Kitchen & Dining >> Dinnerware & Crockery >> Cups & Saucers >> Buyer's Beach Cups & Saucers",
          "Computers >> Laptop Accessories",
          "Computers >> Laptop Accessories >> Anti Dust Plugs",
          "Watches >> Wrist Watches",
          "Kitchen & Dining >> Containers & Bottles >> Bottles & Sippers >> Water bottle",
          "Beauty and Personal Care >> Combos and Kits",
          "Watches >> Wrist Watches",
          "Watches >> Wrist Watches",
          "Watches >> Wrist Watches",
          "Watches >> Wrist Watches",
          "Watches >> Wrist Watches",
          "Beauty and Personal Care >> Combos and Kits",
          "Watches >> Wrist Watches",
          "Baby Care >> Baby Bedding",
          "Baby Care >> Baby Bedding >> Baby Blankets",
          "Baby Care >> Baby Bedding >> Baby Blankets",
          "Baby Care >> Baby Bedding >> Baby Blankets",
          "Baby Care >> Baby Bedding >> Baby Blankets",
          "Watches >> Wrist Watches",
          "Baby Care >> Feeding & Nursing >> Utensils",
          "Baby Care >> Feeding & Nursing >> Utensils >> Baby Spoons & Forks",
          "Baby Care >> Feeding & Nursing >> Utensils >> Baby Spoons & Forks",
          "Baby Care >> Baby Bath & Skin >> Baby Bath Towels",
          "Watches >> Wrist Watches",
          "Beauty and Personal Care",
          "Beauty and Personal Care >> Eye Care",
          "Baby Care >> Diapering & Potty Training >> Nappies & Cloth Diapers",
          "Watches >> Wrist Watches",
          "Watches >> Wrist Watches",
          "Computers >> Laptop Accessories >> Adapters",
          "Computers >> Laptop Accessories >> Adapters",
          "Home Decor & Festive Needs >> Wall Decor & Clocks >> Clocks >> Wall Clocks",
          "Home Decor & Festive Needs >> Wall Decor & Clocks >> Clocks >> Wall Clocks",
          "Home Decor & Festive Needs >> Showpiece",
          "Home Decor & Festive Needs >> Showpiece >> Bharatcraft Showpiece",
          "Watches >> Wrist Watches",
          "Watches >> Wrist Watches",
          "Watches >> Wrist Watches",
          "Computers >> Laptop Accessories >> USB Gadgets",
          "Computers >> Laptop Accessories >> USB Gadgets",
          "Computers >> Laptop Accessories >> USB Gadgets",
          "Computers >> Laptop Accessories >> USB Gadgets",
          "Computers >> Laptop Accessories >> USB Gadgets",
          "Computers >> Laptop Accessories >> USB Gadgets",
          "Computers >> Laptop Accessories >> USB Gadgets",
          "Computers >> Laptop Accessories >> USB Gadgets",
          "Computers >> Laptop Accessories >> USB Gadgets",
          "Computers >> Laptop Accessories >> USB Gadgets",
          "Computers >> Laptop Accessories >> USB Gadgets",
          "Computers >> Laptop Accessories >> USB Gadgets",
          "Computers >> Laptop Accessories >> USB Gadgets",
          "Computers >> Laptop Accessories >> USB Gadgets",
          "Baby Care >> Infant Wear >> Baby Girls' Clothes >> Shorts & Trousers",
          "Baby Care >> Infant Wear >> Baby Girls' Clothes >> Shorts & Trousers >> Trousers",
          "Computers >> Laptop Accessories >> USB Gadgets",
          "Computers >> Laptop Accessories >> USB Gadgets",
          "Computers >> Laptop Accessories >> USB Gadgets",
          "Computers >> Laptop Accessories >> USB Gadgets",
          "Computers >> Laptop Accessories >> USB Gadgets",
          "Computers >> Laptop Accessories >> USB Gadgets",
          "Computers >> Laptop Accessories >> USB Gadgets",
          "Computers >> Laptop Accessories >> USB Gadgets",
          "Computers >> Laptop Accessories >> USB Gadgets",
          "Computers >> Laptop Accessories >> USB Gadgets",
          "Computers >> Laptop Accessories >> USB Gadgets",
          "Computers >> Laptop Accessories >> Batteries",
          "Baby Care >> Infant Wear >> Baby Girls' Clothes",
          "Baby Care >> Infant Wear >> Baby Girls' Clothes >> Combo Sets",
          "Baby Care >> Infant Wear >> Baby Girls' Clothes >> Combo Sets >> kawal fashion Combo Sets",
          "Beauty and Personal Care",
          "Beauty and Personal Care >> Men's Grooming",
          "Beauty and Personal Care >> Men's Grooming >> Sivanna Men's Grooming",
          "Baby Care >> Infant Wear >> Baby Girls' Clothes >> Bodysuits & Sleepsuits",
          "Baby Care >> Infant Wear >> Baby Girls' Clothes >> Bodysuits & Sleepsuits >> Bodysuits",
          "Baby Care >> Infant Wear >> Baby Girls' Clothes >> Bodysuits & Sleepsuits >> Bodysuits >> Lula Bodysuits",
          "Home Furnishing >> Bath Linen",
          "Baby Care >> Baby Grooming",
          "Baby Care >> Baby Grooming >> Baby Massage Oils",
          "Beauty and Personal Care >> Bath and Spa >> Body and Essential Oils",
          "Baby Care >> Furniture & Furnishings >> Inflatable Products",
          "Beauty and Personal Care >> Health Care",
          "Beauty and Personal Care >> Health Care >> Health Care Accessories",
          "Beauty and Personal Care >> Health Care >> Health Care Accessories >> Health Care Accessories",
          "Beauty and Personal Care >> Health Care >> Health Care Accessories >> Health Care Accessories >> KDS SURGICAL Health Care Accessories",
          "Home Decor & Festive Needs >> Showpiece >> Contemporary",
          "Home Decor & Festive Needs >> Showpiece >> Contemporary >> Bharatcraft Contemporary",
          "Beauty and Personal Care >> Hair Care >> Hair Colors",
          "Beauty and Personal Care >> Hair Care >> Hair Colors >> Loreal Hair Colors",
          "Home Decor & Festive Needs >> Flowers, Plants & Vases >> Flower Vase >> @home Flower Vase",
          "Kitchen & Dining >> Tableware & Cutlery",
          "Kitchen & Dining >> Tableware & Cutlery >> Jugs & Pitchers",
          "Kitchen & Dining >> Tableware & Cutlery >> Jugs & Pitchers >> Jugs",
          "Kitchen & Dining >> Tableware & Cutlery >> Jugs & Pitchers >> Jugs >> Prisha India Craft Jugs",
          "Home Decor & Festive Needs >> Wall Decor & Clocks >> Paintings",
          "Home Decor & Festive Needs >> Wall Decor & Clocks >> Paintings >> BRANDWAGON Paintings",
          "Baby Care >> Baby Bedding >> Baby Blankets",
          "Baby Care >> Baby Bedding >> Baby Blankets >> Relaxfeel Baby Blankets",
          "Home Decor & Festive Needs >> Wall Decor & Clocks",
          "Home Decor & Festive Needs >> Wall Decor & Clocks >> Posters",
          "Home Decor & Festive Needs >> Wall Decor & Clocks >> Posters >> STYLE CLUES FASHION Posters",
          "Home Decor & Festive Needs >> Wall Decor & Clocks >> Posters",
          "Home Decor & Festive Needs >> Wall Decor & Clocks >> Posters >> Mega product Posters",
          "Baby Care >> Infant Wear >> Baby Boys' Clothes",
          "Baby Care >> Infant Wear >> Baby Boys' Clothes >> Shirts",
          "Baby Care >> Infant Wear >> Baby Boys' Clothes >> Shirts >> Fs Mini Klub Shirts",
          "Baby Care >> Infant Wear >> Baby Boys' Clothes >> Shirts",
          "Baby Care >> Infant Wear >> Baby Boys' Clothes >> Shirts >> Cotton On Kids Shirts",
          "Baby Care >> Infant Wear >> Baby Girls' Clothes >> Accessories",
          "Baby Care >> Infant Wear >> Baby Girls' Clothes >> Accessories >> Hats",
          "Baby Care >> Infant Wear >> Baby Girls' Clothes >> Accessories >> Hats >> Portia Hats",
          "Baby Care >> Infant Wear >> Baby Boys' Clothes >> Shirts",
          "Baby Care >> Infant Wear >> Baby Boys' Clothes >> Shirts >> Beebay Shirts",
          "Home Decor & Festive Needs >> Wall Decor & Clocks >> Posters",
          "Home Decor & Festive Needs >> Wall Decor & Clocks >> Posters >> Shoperite Posters",
          "Home Decor & Festive Needs >> Wall Decor & Clocks >> Posters",
          "Home Decor & Festive Needs >> Wall Decor & Clocks >> Posters >> Urban Monk Posters",
          "Watches",
          "Watches >> Clocks",
          "Watches >> Clocks >> Table Clocks",
          "Watches >> Clocks >> Table Clocks >> Like Table Clocks",
          "Baby Care >> Infant Wear >> Baby Boys' Clothes >> Shirts",
          "Baby Care >> Infant Wear >> Baby Boys' Clothes >> Shirts >> 612 League Shirts",
          "Baby Care >> Infant Wear >> Baby Boys' Clothes >> Shirts",
          "Baby Care >> Infant Wear >> Baby Boys' Clothes >> Shirts >> FS Mini Klub Shirts",
          "Home Decor & Festive Needs >> Wall Decor & Clocks",
          "Home Decor & Festive Needs >> Wall Decor & Clocks >> Wallpapers",
          "Home Decor & Festive Needs >> Wall Decor & Clocks >> Wallpapers >> wallskart Wallpapers",
          "Home Decor & Festive Needs >> Decorative Lighting & Lamps >> Series Lights",
          "Home Decor & Festive Needs >> Table Decor & Handicrafts >> Showpieces >> Religious Idols",
          "Home Decor & Festive Needs >> Decorative Lighting & Lamps >> Series Lights",
          "Home Decor & Festive Needs >> Table Decor & Handicrafts >> Showpieces >> Religious Idols",
          "Home Decor & Festive Needs >> Decorative Lighting & Lamps >> Series Lights",
          "Beauty and Personal Care >> Makeup >> Lips >> Lipsticks",
          "Home Decor & Festive Needs >> Decorative Lighting & Lamps >> Series Lights",
          "Home Decor & Festive Needs >> Showpieces",
          "Home Decor & Festive Needs >> Table Decor & Handicrafts >> Showpieces >> Religious Idols",
          "Beauty and Personal Care >> Makeup >> Lips >> Lipsticks",
          "Home Decor & Festive Needs >> Decorative Lighting & Lamps >> Series Lights",
          "Home Decor & Festive Needs >> Decorative Lighting & Lamps >> Series Lights",
          "Home Decor & Festive Needs >> Showpieces",
          "Home Decor & Festive Needs >> Table Decor & Handicrafts >> Table Decor >> Hookah & Hookah Flavours",
          "Home Decor & Festive Needs >> Table Decor & Handicrafts >> Table Decor >> Hookah & Hookah Flavours >> Hookah Flavors",
          "Home Decor & Festive Needs >> Decorative Lighting & Lamps >> Series Lights",
          "Beauty and Personal Care >> Makeup >> Lips >> Lipsticks",
          "Home Decor & Festive Needs >> Table Decor & Handicrafts >> Showpieces >> Religious Idols",
          "Home Decor & Festive Needs >> Table Decor & Handicrafts >> Table Decor >> Hookah & Hookah Flavours >> Hookah Flavors",
          "Home Decor & Festive Needs >> Religion & Devotion",
          "Home Decor & Festive Needs >> Religion & Devotion >> Shankh",
          "Kitchen & Dining >> Tableware & Cutlery",
          "Kitchen & Dining >> Tableware & Cutlery >> Cutlery",
          "Kitchen & Dining >> Tableware & Cutlery >> Cutlery >> Forks",
          "Kitchen & Dining >> Tableware & Cutlery >> Cutlery >> Forks >> Bhalaria Forks",
          "Home Decor & Festive Needs >> Decorative Lighting & Lamps",
          "Home Decor & Festive Needs >> Decorative Lighting & Lamps >> Floor Lamp",
          "Home Decor & Festive Needs >> Decorative Lighting & Lamps >> Floor Lamp >> Nutcase Floor Lamp",
          "Home Furnishing",
          "Home Furnishing >> Floor Coverings",
          "Home Furnishing >> Floor Coverings >> Carpets & Rugs",
          "Home Furnishing >> Floor Coverings >> Carpets & Rugs",
          "Home Furnishing >> Kitchen & Dining Linen >> Kitchen Linen Sets",
          "Home Furnishing >> Floor Coverings >> Carpets & Rugs",
          "Home Furnishing >> Floor Coverings >> Carpets & Rugs",
          "Home Furnishing >> Floor Coverings >> Carpets & Rugs",
          "Home Furnishing >> Floor Coverings >> Carpets & Rugs",
          "Beauty and Personal Care >> Body and Skin Care",
          "Beauty and Personal Care >> Body and Skin Care >> Lip Care",
          "Beauty and Personal Care >> Body and Skin Care >> Lip Care >> Lip Creams",
          "Beauty and Personal Care >> Body and Skin Care >> Lip Care >> Lip Creams >> NYX Lip Creams",
          "Kitchen & Dining >> Kitchen Tools >> Kitchen Implements",
          "Kitchen & Dining >> Kitchen Tools >> Kitchen Implements >> Kitchen Scissors",
          "Kitchen & Dining >> Kitchen Tools >> Kitchen Implements >> Kitchen Scissors >> Checkered Chef Kitchen Scissors",
          "Baby Care >> Baby Bedding",
          "Baby Care >> Baby Bedding >> Baby Bedsheets",
          "Baby Care >> Baby Bedding >> Baby Bedsheets >> Mahadev Handicrafts Baby Bedsheets",
          "Baby Care >> Baby Bedding >> Baby Bedsheets",
          "Baby Care >> Baby Bedding >> Baby Bedsheets >> Sparklings Baby Bedsheets",
          "Home Furnishing >> Living >> Sofa Covers",
          "Home Furnishing >> Living >> Sofa Covers >> Swastik Sofa Covers",
          "Baby Care >> Baby Bedding >> Baby Bedsheets",
          "Baby Care >> Baby Bedding >> Baby Bedsheets >> Bela Home Baby Bedsheets",
          "Baby Care >> Baby Bedding >> Baby Bedsheets >> Sparklings Baby Bedsheets",
          "Baby Care >> Infant Wear >> Baby Boys' Clothes >> Shirts",
          "Baby Care >> Infant Wear >> Baby Boys' Clothes >> Shirts >> CALCULUS Shirts",
          "Home Decor & Festive Needs >> Showpiece",
          "Home Decor & Festive Needs >> Showpiece >> Gramophones",
          "Home Decor & Festive Needs >> Showpiece >> Gramophones >> ROYLE KATOCH Gramophones",
          "Home Decor & Festive Needs >> Religion & Devotion",
          "Home Decor & Festive Needs >> Religion & Devotion >> Jaycoknit Religion & Devotion",
          "Baby Care >> Infant Wear >> Baby Boys' Clothes >> Shirts",
          "Baby Care >> Infant Wear >> Baby Boys' Clothes >> Shirts >> Jacadi paris Shirts",
          "Beauty and Personal Care",
          "Beauty and Personal Care >> Beauty Accessories",
          "Beauty and Personal Care >> Beauty Accessories >> Makeup Accessories",
          "Beauty and Personal Care >> Beauty Accessories >> Makeup Accessories >> Brushes and Applicators",
          "Beauty and Personal Care >> Beauty Accessories >> Makeup Accessories >> Brushes and Applicators >> LOTTIE LONDON Brushes and Applicators",
          "Baby Care >> Infant Wear >> Baby Girls' Clothes >> Bodysuits & Sleepsuits >> Bodysuits",
          "Baby Care >> Infant Wear >> Baby Girls' Clothes >> Bodysuits & Sleepsuits >> Bodysuits >> FS Mini Klub Bodysuits",
          "Kitchen & Dining >> Kitchen Tools",
          "Kitchen & Dining >> Kitchen Tools >> Choppers & Peelers",
          "Kitchen & Dining >> Kitchen Tools >> Choppers & Peelers >> Graters & Slicers",
          "Kitchen & Dining >> Kitchen Tools >> Choppers & Peelers >> Graters & Slicers >> Deep Graters & Slicers",
          "Baby Care >> Infant Wear >> Baby Boys' Clothes >> Polos & T-Shirts",
          "Baby Care >> Infant Wear >> Baby Boys' Clothes >> Polos & T-Shirts >> dongli Polos & T-Shirts",
          "Baby Care >> Infant Wear >> Baby Boys' Clothes >> Polos & T-Shirts",
          "Baby Care >> Infant Wear >> Baby Boys' Clothes >> Polos & T-Shirts >> Fs Mini Klub Polos & T-Shirts",
          "Baby Care >> Infant Wear >> Baby Girls' Clothes >> Ethnic Wear >> Salwar Kurta Dupattas",
          "Baby Care >> Infant Wear >> Baby Girls' Clothes >> Ethnic Wear >> Salwar Kurta Dupattas >> Aarika Salwar Kurta Dupattas",
          "Baby Care >> Infant Wear >> Baby Boys' Clothes >> Polos & T-Shirts",
          "Baby Care >> Infant Wear >> Baby Boys' Clothes >> Polos & T-Shirts >> Rishan Polos & T-Shirts",
          "Baby Care >> Infant Wear >> Baby Boys' Clothes >> Polos & T-Shirts",
          "Baby Care >> Infant Wear >> Baby Boys' Clothes >> Polos & T-Shirts >> YK Polos & T-Shirts",
          "Home Decor & Festive Needs >> Table Decor & Handicrafts >> Showpieces >> Human Figurines",
          "Beauty and Personal Care >> Makeup >> Vanity Boxes",
          "Home Decor & Festive Needs >> Showpieces",
          "Home Decor & Festive Needs >> Table Decor & Handicrafts >> Showpieces >> Human Figurines",
          "Beauty and Personal Care >> Makeup >> Vanity Boxes",
          "Home Decor & Festive Needs >> Table Decor & Handicrafts >> Showpieces >> Human Figurines",
          "Baby Care >> Infant Wear >> Baby Girls' Clothes >> Shorts & Trousers >> Trousers",
          "Baby Care >> Infant Wear >> Baby Girls' Clothes >> Shorts & Trousers >> Trousers >> CoffeeBean Trousers",
          "Kitchen & Dining >> Bar & Glassware >> Bar Accessories",
          "Kitchen & Dining >> Bar & Glassware >> Bar Accessories >> Cork Screws",
          "Kitchen & Dining >> Bar & Glassware >> Bar Accessories >> Cork Screws",
          "Kitchen & Dining >> Coffee Mugs",
          "Kitchen & Dining >> Coffee Mugs >> AM Creation Coffee Mugs",
          "Baby Care >> Baby Bath & Skin",
          "Baby Care >> Baby Bath & Skin >> Baby Body Wash",
          "Baby Care >> Baby Bath & Skin >> Baby Body Wash >> TRESemme Baby Body Wash",
          "Baby Care >> Baby Bath & Skin >> Baby Body Wash",
          "Baby Care >> Baby Bath & Skin >> Baby Body Wash >> L Oreal Baby Body Wash",
          "Home Decor & Festive Needs >> Table Decor & Handicrafts >> Showpieces >> Religious Idols",
          "Home Decor & Festive Needs >> Table Decor & Handicrafts >> Showpieces >> Religious Idols >> CTW Religious Idols",
          "Kitchen & Dining >> Coffee Mugs",
          "Kitchen & Dining >> Coffee Mugs >> Happiness Is Coffee Mugs",
          "Home Furnishing >> Living >> Sofa Covers",
          "Kitchen & Dining >> Containers & Bottles",
          "Kitchen & Dining >> Containers & Bottles >> Containers & Jars",
          "Kitchen & Dining >> Containers & Bottles >> Containers & Jars >> Kitchen Containers",
          "Kitchen & Dining >> Containers & Bottles >> Containers & Jars >> Kitchen Containers >> Lock&Lock Kitchen Containers",
          "Baby Care >> Infant Wear >> Baby Girls' Clothes >> Bodysuits & Sleepsuits >> Bodysuits",
          "Baby Care >> Infant Wear >> Baby Girls' Clothes >> Bodysuits & Sleepsuits >> Bodysuits >> Mom & Me Bodysuits",
          "Computers >> Laptop Accessories >> USB Gadgets",
          "Computers >> Laptop Accessories >> USB Gadgets >> APOLLO+ USB Gadgets",
          "Kitchen & Dining >> Coffee Mugs",
          "Kitchen & Dining >> Coffee Mugs >> HuppmeGift Coffee Mugs",
          "Baby Care >> Baby & Kids Gifts",
          "Baby Care >> Baby & Kids Gifts >> Decorations",
          "Baby Care >> Baby & Kids Gifts >> Decorations >> Doraemon Gift Family Ceramic Coffee Mug Decorations",
          "Beauty and Personal Care >> Makeup",
          "Beauty and Personal Care >> Makeup >> Eyes",
          "Beauty and Personal Care >> Makeup >> Eyes >> Eye Shadows",
          "Beauty and Personal Care >> Makeup >> Eyes >> Eye Shadows >> Milani Eye Shadows",
          "Beauty and Personal Care >> Makeup >> Eyes >> Eye Shadows",
          "Beauty and Personal Care >> Makeup >> Eyes >> Eye Shadows >> e.l.f. Cosmetics Eye Shadows",
          "Beauty and Personal Care >> Bath and Spa",
          "Beauty and Personal Care >> Bath and Spa >> Soaps",
          "Beauty and Personal Care >> Bath and Spa >> Soaps >> Aster Luxury Soaps",
          "Kitchen & Dining >> Kitchen Tools",
          "Kitchen & Dining >> Kitchen Tools >> Kitchen Tool Sets",
          "Kitchen & Dining >> Kitchen Tools >> Kitchen Tool Sets >> King Traders Kitchen Tool Sets",
          "Home Decor & Festive Needs >> Wall Decor & Clocks >> Wall Decals & Stickers",
          "Home Decor & Festive Needs >> Wall Decor & Clocks >> Wall Decals & Stickers >> Wall Decal Wall Decals & Stickers",
          "Baby Care >> Infant Wear >> Baby Boys' Clothes >> Polos & T-Shirts",
          "Baby Care >> Infant Wear >> Baby Boys' Clothes >> Polos & T-Shirts >> Dongli Polos & T-Shirts",
          "Baby Care >> Baby Grooming",
          "Baby Care >> Baby Grooming >> Cotton Buds",
          "Baby Care >> Baby Grooming >> Cotton Buds >> SJ Cotton Buds",
          "Home Decor & Festive Needs >> Table Decor & Handicrafts >> Table Decor",
          "Home Decor & Festive Needs >> Table Decor & Handicrafts >> Table Decor >> Hookah Mouth Tips",
          "Home Decor & Festive Needs >> Table Decor & Handicrafts >> Table Decor >> Hookah Mouth Tips >> Ech oly Hookah Mouth Tips",
          "Beauty and Personal Care >> Fragrances >> Deodorants",
          "Beauty and Personal Care >> Fragrances >> Deodorants >> Sprays",
          "Beauty and Personal Care >> Fragrances >> Deodorants >> Sprays >> LAWMAN PG3 Sprays",
          "Baby Care >> Infant Wear >> Baby Boys' Clothes >> Polos & T-Shirts",
          "Baby Care >> Infant Wear >> Baby Boys' Clothes >> Polos & T-Shirts >> Toons Polos & T-Shirts",
          "Computers >> Laptop Accessories",
          "Computers >> Laptop Accessories >> Computer Accessories Combos",
          "Computers >> Laptop Accessories >> Computer Accessories Combos >> PRINT SHAPES Computer Accessories Combos",
          "Beauty and Personal Care >> Body and Skin Care >> Lip Care",
          "Beauty and Personal Care >> Body and Skin Care >> Lip Care >> Lip Balms",
          "Beauty and Personal Care >> Body and Skin Care >> Lip Care >> Lip Balms >> Good Way Lip Balms",
          "Home Furnishing >> Curtains & Accessories >> Curtains",
          "Computers >> Laptop Accessories >> Computer Accessories Combos >> PRINT SHAPES Computer Accessories Combos",
          "Computers >> Laptop Accessories >> Computer Accessories Combos >> PRINT SHAPES Computer Accessories Combos",
          "Home Furnishing >> Curtains & Accessories >> Curtains",
          "Computers >> Laptop Accessories >> Computer Accessories Combos >> PRINT SHAPES Computer Accessories Combos",
          "Home Furnishing >> Curtains & Accessories >> Curtains",
          "Computers >> Computer Components",
          "Computers >> Computer Components >> RAMs",
          "Computers >> Computer Components >> RAMs >> Transcend RAMs",
          "Computers >> Laptop Accessories >> Computer Accessories Combos >> PRINT SHAPES Computer Accessories Combos",
          "Computers >> Laptop Accessories >> Computer Accessories Combos >> PRINT SHAPES Computer Accessories Combos",
          "Home Furnishing >> Curtains & Accessories >> Curtains",
          "Home Furnishing >> Curtains & Accessories >> Curtains",
          "Computers >> Laptop Accessories >> Computer Accessories Combos >> PRINT SHAPES Computer Accessories Combos",
          "Home Furnishing >> Curtains & Accessories >> Curtains",
          "Beauty and Personal Care >> Health Care",
          "Beauty and Personal Care >> Health Care >> Medicines & Treatment",
          "Beauty and Personal Care >> Health Care >> Medicines & Treatment >> First Aid",
          "Beauty and Personal Care >> Health Care >> Medicines & Treatment >> First Aid >> Hot & Cold Packs",
          "Beauty and Personal Care >> Health Care >> Medicines & Treatment >> First Aid >> Hot & Cold Packs >> OMRD Hot & Cold Packs",
          "Beauty and Personal Care >> Hair Care",
          "Beauty and Personal Care >> Hair Care >> Shampoos",
          "Beauty and Personal Care >> Hair Care >> Shampoos >> Kerastase Shampoos",
          "Computers >> Laptop Accessories >> Computer Accessories Combos >> PRINT SHAPES Computer Accessories Combos",
          "Home Furnishing >> Curtains & Accessories >> Curtains",
          "Computers >> Laptop Accessories >> Computer Accessories Combos >> PRINT SHAPES Computer Accessories Combos",
          "Computers >> Laptop Accessories >> Computer Accessories Combos >> PRINT SHAPES Computer Accessories Combos",
          "Computers >> Laptop Accessories >> Computer Accessories Combos >> PRINT SHAPES Computer Accessories Combos",
          "Beauty and Personal Care >> Health Care",
          "Beauty and Personal Care >> Health Care >> Medical Equipment & Accessories",
          "Beauty and Personal Care >> Health Care >> Medical Equipment & Accessories >> Surgical e Sstudio Medical Equipment & Accessories",
          "Home Decor & Festive Needs >> Showpieces >> Fengshui >> Reiki Crystal Products Fengshui",
          "Baby Care >> Baby & Kids Gifts",
          "Baby Care >> Baby & Kids Gifts >> Stickers",
          "Baby Care >> Baby & Kids Gifts >> Stickers",
          "Baby Care >> Baby & Kids Gifts >> Stickers",
          "Baby Care >> Baby & Kids Gifts >> Stickers",
          "Baby Care >> Baby & Kids Gifts >> Stickers",
          "Baby Care >> Baby & Kids Gifts >> Stickers"
         ],
         "type": "sunburst",
         "values": [
          150,
          19,
          19,
          1,
          150,
          14,
          11,
          1,
          1,
          1,
          1,
          65,
          7,
          1,
          1,
          1,
          1,
          150,
          149,
          1,
          1,
          1,
          2,
          1,
          1,
          1,
          1,
          1,
          1,
          1,
          1,
          1,
          2,
          1,
          2,
          2,
          1,
          2,
          1,
          1,
          1,
          1,
          1,
          3,
          2,
          1,
          1,
          1,
          1,
          1,
          21,
          2,
          150,
          1,
          1,
          1,
          1,
          150,
          3,
          1,
          1,
          1,
          7,
          7,
          1,
          1,
          1,
          1,
          84,
          49,
          7,
          7,
          2,
          1,
          1,
          1,
          1,
          150,
          9,
          4,
          1,
          1,
          74,
          5,
          1,
          1,
          1,
          150,
          49,
          49,
          4,
          1,
          1,
          1,
          1,
          1,
          3,
          2,
          1,
          1,
          27,
          1,
          1,
          1,
          87,
          38,
          3,
          1,
          1,
          1,
          18,
          10,
          1,
          24,
          3,
          3,
          1,
          1,
          1,
          1,
          1,
          1,
          1,
          1,
          8,
          1,
          1,
          1,
          1,
          2,
          2,
          15,
          1,
          1,
          1,
          14,
          2,
          1,
          13,
          2,
          1,
          1,
          1,
          1,
          1,
          1,
          1,
          1,
          1,
          10,
          7,
          1,
          1,
          5,
          3,
          3,
          1,
          1,
          1,
          1,
          1,
          5,
          1,
          1,
          1,
          1,
          1,
          35,
          1,
          1,
          1,
          1,
          22,
          2,
          1,
          1,
          27,
          23,
          1,
          1,
          1,
          1,
          1,
          1,
          1,
          1,
          1,
          5,
          2,
          2,
          1,
          4,
          2,
          1,
          24,
          1,
          1,
          1,
          1,
          1,
          1,
          1,
          1,
          1,
          1,
          1,
          71,
          1,
          4,
          2,
          1,
          18,
          1,
          4,
          1,
          2,
          1,
          1,
          1,
          1,
          1,
          57,
          2,
          2,
          1,
          1,
          3,
          2,
          1,
          1,
          14,
          2,
          1,
          1,
          7,
          2,
          1,
          1,
          1,
          1,
          1,
          4,
          1,
          1,
          4,
          2,
          2,
          1,
          1,
          5,
          1,
          1,
          1,
          1,
          13,
          12,
          1,
          1,
          1,
          2,
          2,
          1,
          1,
          1,
          1,
          7,
          4,
          1,
          1,
          1,
          15,
          3,
          3,
          1,
          1,
          1,
          4,
          3,
          1,
          1,
          26,
          22,
          1,
          13,
          1,
          14,
          12,
          10,
          1,
          1,
          2,
          3,
          34,
          3,
          1,
          1,
          1,
          1,
          10,
          5,
          2,
          1,
          1,
          1,
          3,
          2,
          1,
          1,
          1,
          1,
          1,
          1,
          1,
          1,
          1,
          1,
          2,
          2,
          1,
          2,
          1,
          22,
          1,
          1,
          1,
          3,
          1,
          2,
          1,
          1,
          1,
          1,
          2,
          1,
          1,
          1,
          1,
          1,
          1,
          1,
          1,
          2,
          1,
          1,
          1,
          1,
          1,
          1,
          1,
          1,
          1,
          1,
          1,
          3,
          1,
          1,
          1,
          1,
          3,
          1,
          1,
          1,
          1,
          1,
          1,
          6,
          4,
          1,
          1,
          1,
          1,
          1,
          5,
          3,
          2,
          1,
          1,
          1,
          1,
          1,
          1,
          1,
          1,
          1,
          1,
          21,
          21,
          2,
          1,
          1,
          1,
          1,
          1,
          1,
          1,
          8,
          3,
          1,
          1,
          1,
          1,
          1,
          1,
          7,
          1,
          1,
          1,
          1,
          1,
          1,
          1,
          1,
          1,
          1,
          1,
          1,
          1,
          1,
          1,
          1,
          65,
          65,
          64,
          5,
          1,
          5,
          3,
          8,
          3,
          6,
          1,
          2,
          7,
          1,
          4,
          5,
          5,
          2,
          1,
          1,
          1,
          3,
          1,
          1,
          4,
          1,
          3,
          4,
          5,
          1,
          3,
          3,
          2,
          4,
          1,
          1,
          1,
          1,
          1,
          1,
          2,
          1,
          1,
          1,
          1,
          1,
          1,
          1,
          1,
          1,
          1,
          1,
          2,
          2,
          1,
          1,
          1,
          1,
          1,
          7,
          1,
          1,
          1,
          9,
          7,
          7,
          1,
          1,
          1,
          1,
          5,
          1,
          1,
          2,
          2,
          1,
          1,
          1,
          1,
          1,
          1,
          1,
          1,
          1,
          1,
          1,
          1,
          1,
          1,
          1,
          4,
          1,
          1,
          1,
          1,
          1,
          1,
          1,
          3,
          3,
          1,
          1,
          1,
          1,
          1,
          1,
          1,
          1,
          1,
          1,
          1,
          1,
          1,
          1,
          1,
          1,
          2,
          1,
          1,
          1,
          1,
          1,
          1,
          1,
          1,
          1,
          1,
          1,
          2,
          1,
          1,
          1,
          1,
          2,
          1,
          4,
          2,
          2,
          1,
          1,
          1,
          1,
          1,
          1,
          1,
          1,
          2,
          1,
          1,
          7,
          3,
          2,
          1,
          1,
          1,
          1,
          5,
          1,
          1,
          1,
          22,
          10,
          3,
          2,
          1,
          1,
          4,
          19,
          10,
          23,
          1,
          1,
          1,
          2,
          2,
          2,
          4,
          9,
          1,
          1,
          1,
          1,
          2,
          1,
          2,
          3,
          2,
          1,
          1,
          1,
          4,
          2,
          1,
          1,
          1,
          1,
          1,
          1,
          1,
          3,
          1,
          1,
          1,
          1,
          1,
          1,
          1,
          1,
          1,
          1,
          2,
          1,
          1,
          1,
          1,
          1,
          1,
          2,
          2,
          1,
          1,
          1,
          1,
          1,
          1,
          1,
          1,
          1,
          1,
          1,
          1,
          1,
          2,
          2,
          1,
          1,
          1,
          1,
          1,
          1,
          1,
          1,
          1,
          1,
          1,
          1,
          1,
          1,
          1,
          1,
          1,
          1,
          1,
          1,
          1,
          1,
          1,
          1,
          1,
          1,
          1,
          1,
          1,
          1,
          1,
          1,
          1,
          1,
          1,
          1,
          1,
          1,
          1,
          1,
          1,
          1,
          3,
          1,
          1,
          1,
          2,
          1,
          1,
          2,
          1,
          1,
          1,
          1,
          1,
          1,
          1,
          1,
          1,
          1,
          1,
          1,
          1,
          1,
          1,
          1,
          1,
          1,
          1,
          1,
          2,
          1,
          1,
          1,
          1,
          1,
          1,
          1,
          1,
          1,
          1,
          1,
          1,
          1,
          3,
          3,
          1,
          1,
          1,
          1,
          1,
          15,
          4,
          1,
          1,
          5,
          2,
          1,
          1,
          1,
          1,
          1,
          2,
          1,
          1,
          1,
          1,
          1,
          1,
          1,
          1,
          1,
          1,
          1,
          1,
          1,
          1,
          1,
          1,
          10,
          10,
          1,
          1,
          1,
          1,
          1,
          1,
          1,
          1,
          1,
          1,
          1,
          6,
          3,
          2,
          1,
          1,
          1,
          2,
          5,
          1,
          1,
          1,
          4,
          1,
          1,
          2,
          10,
          1,
          1,
          4,
          1,
          1,
          1,
          1,
          1,
          1,
          3,
          3,
          3,
          1,
          1,
          1,
          3,
          1,
          1,
          1,
          1,
          1,
          1,
          1,
          1,
          1,
          6,
          9,
          1,
          1,
          1,
          9,
          1,
          10,
          1,
          8,
          4,
          1,
          1,
          1,
          1,
          3,
          2,
          1,
          1,
          1,
          2,
          2,
          1,
          1,
          1,
          1,
          1,
          1,
          1,
          1,
          1,
          1,
          1,
          1,
          2,
          1,
          2,
          1,
          1,
          1,
          2,
          1,
          3,
          3,
          1,
          3,
          1,
          1,
          2,
          1,
          1,
          1,
          1,
          1,
          1,
          1,
          1,
          1,
          1,
          1,
          1,
          1,
          1,
          1,
          1,
          1,
          1,
          1,
          3,
          1,
          1,
          19,
          1,
          1,
          1,
          1,
          1,
          1,
          1,
          1,
          1,
          1,
          1,
          1,
          1,
          1,
          1,
          1,
          1,
          1,
          1,
          1,
          1,
          4,
          1,
          1,
          1,
          1,
          7,
          1,
          1,
          1,
          1,
          1,
          1,
          1,
          1,
          1,
          1,
          1,
          1,
          1,
          1,
          1,
          1,
          1,
          1,
          1,
          1,
          1,
          1,
          1,
          1,
          1,
          1,
          3,
          1,
          1,
          1,
          1,
          1,
          1,
          1,
          1,
          1,
          1,
          2,
          1,
          1,
          1,
          1,
          1,
          1,
          1,
          1,
          1,
          1,
          1,
          1,
          1,
          1,
          6,
          6,
          1,
          1,
          1,
          1,
          1,
          1,
          1,
          2,
          1,
          1,
          1,
          1,
          1,
          1,
          4,
          1,
          1,
          2,
          1,
          1,
          1,
          1,
          1,
          1,
          1,
          1,
          1,
          1,
          1,
          1,
          1,
          1,
          1,
          1,
          1,
          1,
          1,
          1,
          1,
          1,
          1,
          1,
          1,
          1,
          1,
          1,
          1,
          1,
          1,
          1,
          1,
          1,
          1,
          1,
          1,
          1,
          1,
          1,
          1,
          1,
          1,
          1,
          2,
          1,
          1,
          1,
          1,
          2,
          1,
          1,
          1,
          1,
          1,
          1,
          1,
          1,
          1,
          1,
          1,
          1,
          1,
          1,
          1,
          1,
          1,
          1,
          1,
          1,
          1,
          1,
          2,
          2,
          1,
          1,
          1,
          1,
          1,
          1,
          1,
          1,
          1,
          1,
          1,
          1,
          1,
          1,
          1,
          1,
          1,
          1,
          1,
          1,
          1,
          1,
          1,
          1,
          1,
          11,
          11,
          1,
          1,
          1,
          1,
          1,
          1,
          1,
          1,
          1,
          1,
          1,
          1,
          1,
          1,
          1,
          1,
          2,
          1,
          1,
          1,
          1,
          1,
          1,
          1,
          1,
          1,
          1,
          1,
          1,
          1,
          1,
          1,
          1,
          1,
          1,
          1,
          10,
          1,
          4,
          1,
          1,
          1,
          2
         ]
        }
       ],
       "layout": {
        "height": 1000,
        "margin": {
         "b": 0,
         "l": 0,
         "r": 0,
         "t": 50
        },
        "template": {
         "data": {
          "bar": [
           {
            "error_x": {
             "color": "#2a3f5f"
            },
            "error_y": {
             "color": "#2a3f5f"
            },
            "marker": {
             "line": {
              "color": "#E5ECF6",
              "width": 0.5
             },
             "pattern": {
              "fillmode": "overlay",
              "size": 10,
              "solidity": 0.2
             }
            },
            "type": "bar"
           }
          ],
          "barpolar": [
           {
            "marker": {
             "line": {
              "color": "#E5ECF6",
              "width": 0.5
             },
             "pattern": {
              "fillmode": "overlay",
              "size": 10,
              "solidity": 0.2
             }
            },
            "type": "barpolar"
           }
          ],
          "carpet": [
           {
            "aaxis": {
             "endlinecolor": "#2a3f5f",
             "gridcolor": "white",
             "linecolor": "white",
             "minorgridcolor": "white",
             "startlinecolor": "#2a3f5f"
            },
            "baxis": {
             "endlinecolor": "#2a3f5f",
             "gridcolor": "white",
             "linecolor": "white",
             "minorgridcolor": "white",
             "startlinecolor": "#2a3f5f"
            },
            "type": "carpet"
           }
          ],
          "choropleth": [
           {
            "colorbar": {
             "outlinewidth": 0,
             "ticks": ""
            },
            "type": "choropleth"
           }
          ],
          "contour": [
           {
            "colorbar": {
             "outlinewidth": 0,
             "ticks": ""
            },
            "colorscale": [
             [
              0,
              "#0d0887"
             ],
             [
              0.1111111111111111,
              "#46039f"
             ],
             [
              0.2222222222222222,
              "#7201a8"
             ],
             [
              0.3333333333333333,
              "#9c179e"
             ],
             [
              0.4444444444444444,
              "#bd3786"
             ],
             [
              0.5555555555555556,
              "#d8576b"
             ],
             [
              0.6666666666666666,
              "#ed7953"
             ],
             [
              0.7777777777777778,
              "#fb9f3a"
             ],
             [
              0.8888888888888888,
              "#fdca26"
             ],
             [
              1,
              "#f0f921"
             ]
            ],
            "type": "contour"
           }
          ],
          "contourcarpet": [
           {
            "colorbar": {
             "outlinewidth": 0,
             "ticks": ""
            },
            "type": "contourcarpet"
           }
          ],
          "heatmap": [
           {
            "colorbar": {
             "outlinewidth": 0,
             "ticks": ""
            },
            "colorscale": [
             [
              0,
              "#0d0887"
             ],
             [
              0.1111111111111111,
              "#46039f"
             ],
             [
              0.2222222222222222,
              "#7201a8"
             ],
             [
              0.3333333333333333,
              "#9c179e"
             ],
             [
              0.4444444444444444,
              "#bd3786"
             ],
             [
              0.5555555555555556,
              "#d8576b"
             ],
             [
              0.6666666666666666,
              "#ed7953"
             ],
             [
              0.7777777777777778,
              "#fb9f3a"
             ],
             [
              0.8888888888888888,
              "#fdca26"
             ],
             [
              1,
              "#f0f921"
             ]
            ],
            "type": "heatmap"
           }
          ],
          "histogram": [
           {
            "marker": {
             "pattern": {
              "fillmode": "overlay",
              "size": 10,
              "solidity": 0.2
             }
            },
            "type": "histogram"
           }
          ],
          "histogram2d": [
           {
            "colorbar": {
             "outlinewidth": 0,
             "ticks": ""
            },
            "colorscale": [
             [
              0,
              "#0d0887"
             ],
             [
              0.1111111111111111,
              "#46039f"
             ],
             [
              0.2222222222222222,
              "#7201a8"
             ],
             [
              0.3333333333333333,
              "#9c179e"
             ],
             [
              0.4444444444444444,
              "#bd3786"
             ],
             [
              0.5555555555555556,
              "#d8576b"
             ],
             [
              0.6666666666666666,
              "#ed7953"
             ],
             [
              0.7777777777777778,
              "#fb9f3a"
             ],
             [
              0.8888888888888888,
              "#fdca26"
             ],
             [
              1,
              "#f0f921"
             ]
            ],
            "type": "histogram2d"
           }
          ],
          "histogram2dcontour": [
           {
            "colorbar": {
             "outlinewidth": 0,
             "ticks": ""
            },
            "colorscale": [
             [
              0,
              "#0d0887"
             ],
             [
              0.1111111111111111,
              "#46039f"
             ],
             [
              0.2222222222222222,
              "#7201a8"
             ],
             [
              0.3333333333333333,
              "#9c179e"
             ],
             [
              0.4444444444444444,
              "#bd3786"
             ],
             [
              0.5555555555555556,
              "#d8576b"
             ],
             [
              0.6666666666666666,
              "#ed7953"
             ],
             [
              0.7777777777777778,
              "#fb9f3a"
             ],
             [
              0.8888888888888888,
              "#fdca26"
             ],
             [
              1,
              "#f0f921"
             ]
            ],
            "type": "histogram2dcontour"
           }
          ],
          "mesh3d": [
           {
            "colorbar": {
             "outlinewidth": 0,
             "ticks": ""
            },
            "type": "mesh3d"
           }
          ],
          "parcoords": [
           {
            "line": {
             "colorbar": {
              "outlinewidth": 0,
              "ticks": ""
             }
            },
            "type": "parcoords"
           }
          ],
          "pie": [
           {
            "automargin": true,
            "type": "pie"
           }
          ],
          "scatter": [
           {
            "fillpattern": {
             "fillmode": "overlay",
             "size": 10,
             "solidity": 0.2
            },
            "type": "scatter"
           }
          ],
          "scatter3d": [
           {
            "line": {
             "colorbar": {
              "outlinewidth": 0,
              "ticks": ""
             }
            },
            "marker": {
             "colorbar": {
              "outlinewidth": 0,
              "ticks": ""
             }
            },
            "type": "scatter3d"
           }
          ],
          "scattercarpet": [
           {
            "marker": {
             "colorbar": {
              "outlinewidth": 0,
              "ticks": ""
             }
            },
            "type": "scattercarpet"
           }
          ],
          "scattergeo": [
           {
            "marker": {
             "colorbar": {
              "outlinewidth": 0,
              "ticks": ""
             }
            },
            "type": "scattergeo"
           }
          ],
          "scattergl": [
           {
            "marker": {
             "colorbar": {
              "outlinewidth": 0,
              "ticks": ""
             }
            },
            "type": "scattergl"
           }
          ],
          "scattermap": [
           {
            "marker": {
             "colorbar": {
              "outlinewidth": 0,
              "ticks": ""
             }
            },
            "type": "scattermap"
           }
          ],
          "scattermapbox": [
           {
            "marker": {
             "colorbar": {
              "outlinewidth": 0,
              "ticks": ""
             }
            },
            "type": "scattermapbox"
           }
          ],
          "scatterpolar": [
           {
            "marker": {
             "colorbar": {
              "outlinewidth": 0,
              "ticks": ""
             }
            },
            "type": "scatterpolar"
           }
          ],
          "scatterpolargl": [
           {
            "marker": {
             "colorbar": {
              "outlinewidth": 0,
              "ticks": ""
             }
            },
            "type": "scatterpolargl"
           }
          ],
          "scatterternary": [
           {
            "marker": {
             "colorbar": {
              "outlinewidth": 0,
              "ticks": ""
             }
            },
            "type": "scatterternary"
           }
          ],
          "surface": [
           {
            "colorbar": {
             "outlinewidth": 0,
             "ticks": ""
            },
            "colorscale": [
             [
              0,
              "#0d0887"
             ],
             [
              0.1111111111111111,
              "#46039f"
             ],
             [
              0.2222222222222222,
              "#7201a8"
             ],
             [
              0.3333333333333333,
              "#9c179e"
             ],
             [
              0.4444444444444444,
              "#bd3786"
             ],
             [
              0.5555555555555556,
              "#d8576b"
             ],
             [
              0.6666666666666666,
              "#ed7953"
             ],
             [
              0.7777777777777778,
              "#fb9f3a"
             ],
             [
              0.8888888888888888,
              "#fdca26"
             ],
             [
              1,
              "#f0f921"
             ]
            ],
            "type": "surface"
           }
          ],
          "table": [
           {
            "cells": {
             "fill": {
              "color": "#EBF0F8"
             },
             "line": {
              "color": "white"
             }
            },
            "header": {
             "fill": {
              "color": "#C8D4E3"
             },
             "line": {
              "color": "white"
             }
            },
            "type": "table"
           }
          ]
         },
         "layout": {
          "annotationdefaults": {
           "arrowcolor": "#2a3f5f",
           "arrowhead": 0,
           "arrowwidth": 1
          },
          "autotypenumbers": "strict",
          "coloraxis": {
           "colorbar": {
            "outlinewidth": 0,
            "ticks": ""
           }
          },
          "colorscale": {
           "diverging": [
            [
             0,
             "#8e0152"
            ],
            [
             0.1,
             "#c51b7d"
            ],
            [
             0.2,
             "#de77ae"
            ],
            [
             0.3,
             "#f1b6da"
            ],
            [
             0.4,
             "#fde0ef"
            ],
            [
             0.5,
             "#f7f7f7"
            ],
            [
             0.6,
             "#e6f5d0"
            ],
            [
             0.7,
             "#b8e186"
            ],
            [
             0.8,
             "#7fbc41"
            ],
            [
             0.9,
             "#4d9221"
            ],
            [
             1,
             "#276419"
            ]
           ],
           "sequential": [
            [
             0,
             "#0d0887"
            ],
            [
             0.1111111111111111,
             "#46039f"
            ],
            [
             0.2222222222222222,
             "#7201a8"
            ],
            [
             0.3333333333333333,
             "#9c179e"
            ],
            [
             0.4444444444444444,
             "#bd3786"
            ],
            [
             0.5555555555555556,
             "#d8576b"
            ],
            [
             0.6666666666666666,
             "#ed7953"
            ],
            [
             0.7777777777777778,
             "#fb9f3a"
            ],
            [
             0.8888888888888888,
             "#fdca26"
            ],
            [
             1,
             "#f0f921"
            ]
           ],
           "sequentialminus": [
            [
             0,
             "#0d0887"
            ],
            [
             0.1111111111111111,
             "#46039f"
            ],
            [
             0.2222222222222222,
             "#7201a8"
            ],
            [
             0.3333333333333333,
             "#9c179e"
            ],
            [
             0.4444444444444444,
             "#bd3786"
            ],
            [
             0.5555555555555556,
             "#d8576b"
            ],
            [
             0.6666666666666666,
             "#ed7953"
            ],
            [
             0.7777777777777778,
             "#fb9f3a"
            ],
            [
             0.8888888888888888,
             "#fdca26"
            ],
            [
             1,
             "#f0f921"
            ]
           ]
          },
          "colorway": [
           "#636efa",
           "#EF553B",
           "#00cc96",
           "#ab63fa",
           "#FFA15A",
           "#19d3f3",
           "#FF6692",
           "#B6E880",
           "#FF97FF",
           "#FECB52"
          ],
          "font": {
           "color": "#2a3f5f"
          },
          "geo": {
           "bgcolor": "white",
           "lakecolor": "white",
           "landcolor": "#E5ECF6",
           "showlakes": true,
           "showland": true,
           "subunitcolor": "white"
          },
          "hoverlabel": {
           "align": "left"
          },
          "hovermode": "closest",
          "mapbox": {
           "style": "light"
          },
          "paper_bgcolor": "white",
          "plot_bgcolor": "#E5ECF6",
          "polar": {
           "angularaxis": {
            "gridcolor": "white",
            "linecolor": "white",
            "ticks": ""
           },
           "bgcolor": "#E5ECF6",
           "radialaxis": {
            "gridcolor": "white",
            "linecolor": "white",
            "ticks": ""
           }
          },
          "scene": {
           "xaxis": {
            "backgroundcolor": "#E5ECF6",
            "gridcolor": "white",
            "gridwidth": 2,
            "linecolor": "white",
            "showbackground": true,
            "ticks": "",
            "zerolinecolor": "white"
           },
           "yaxis": {
            "backgroundcolor": "#E5ECF6",
            "gridcolor": "white",
            "gridwidth": 2,
            "linecolor": "white",
            "showbackground": true,
            "ticks": "",
            "zerolinecolor": "white"
           },
           "zaxis": {
            "backgroundcolor": "#E5ECF6",
            "gridcolor": "white",
            "gridwidth": 2,
            "linecolor": "white",
            "showbackground": true,
            "ticks": "",
            "zerolinecolor": "white"
           }
          },
          "shapedefaults": {
           "line": {
            "color": "#2a3f5f"
           }
          },
          "ternary": {
           "aaxis": {
            "gridcolor": "white",
            "linecolor": "white",
            "ticks": ""
           },
           "baxis": {
            "gridcolor": "white",
            "linecolor": "white",
            "ticks": ""
           },
           "bgcolor": "#E5ECF6",
           "caxis": {
            "gridcolor": "white",
            "linecolor": "white",
            "ticks": ""
           }
          },
          "title": {
           "x": 0.05
          },
          "xaxis": {
           "automargin": true,
           "gridcolor": "white",
           "linecolor": "white",
           "ticks": "",
           "title": {
            "standoff": 15
           },
           "zerolinecolor": "white",
           "zerolinewidth": 2
          },
          "yaxis": {
           "automargin": true,
           "gridcolor": "white",
           "linecolor": "white",
           "ticks": "",
           "title": {
            "standoff": 15
           },
           "zerolinecolor": "white",
           "zerolinewidth": 2
          }
         }
        },
        "title": {
         "text": "Product Category Hierarchy"
        },
        "width": 1000
       }
      }
     },
     "metadata": {},
     "output_type": "display_data"
    }
   ],
   "source": [
    "from src.classes.analyze_category_tree import CategoryTreeAnalyzer\n",
    "\n",
    "# Create analyzer instance with your dataframe\n",
    "category_analyzer = CategoryTreeAnalyzer(df)\n",
    "\n",
    "# Create and display the radial category chart\n",
    "fig = category_analyzer.create_radial_category_chart(max_depth=9)\n",
    "fig.show()"
   ]
  },
  {
   "cell_type": "markdown",
   "id": "f8f136d5",
   "metadata": {},
   "source": [
    "\n",
    "## 3. Basic NLP Classification Feasibility Study"
   ]
  },
  {
   "cell_type": "markdown",
   "id": "4504880f",
   "metadata": {},
   "source": [
    "### 3.1 Text Preprocessing\n",
    "**Steps**:\n",
    "- Clean text data\n",
    "- Remove stopwords\n",
    "- Perform stemming/lemmatization\n",
    "- Handle special characters"
   ]
  },
  {
   "cell_type": "code",
   "execution_count": 5,
   "id": "2a36fe70",
   "metadata": {},
   "outputs": [
    {
     "name": "stdout",
     "output_type": "stream",
     "text": [
      "\n",
      "Preprocessing Statistics:\n",
      "original_length: 58\n",
      "processed_length: 58\n",
      "original_words: 7\n",
      "processed_words: 7\n",
      "removed_stopwords: 0\n",
      "stopwords_percentage: 0.0\n",
      "reduction_percentage: 0.0\n",
      "unique_words_original: 7\n",
      "unique_words_processed: 7\n",
      "sample_removed_words: []\n",
      "\n",
      "Batch Statistics Summary:\n",
      "       original_length  processed_length  original_words  processed_words  \\\n",
      "count         5.000000          5.000000        5.000000         5.000000   \n",
      "mean         47.000000         47.000000        6.800000         6.800000   \n",
      "std          15.795569         15.795569        1.923538         1.923538   \n",
      "min          26.000000         26.000000        4.000000         4.000000   \n",
      "25%          35.000000         35.000000        6.000000         6.000000   \n",
      "50%          53.000000         53.000000        7.000000         7.000000   \n",
      "75%          58.000000         58.000000        8.000000         8.000000   \n",
      "max          63.000000         63.000000        9.000000         9.000000   \n",
      "\n",
      "       removed_stopwords  stopwords_percentage  reduction_percentage  \\\n",
      "count                5.0                   5.0                   5.0   \n",
      "mean                 0.0                   0.0                   0.0   \n",
      "std                  0.0                   0.0                   0.0   \n",
      "min                  0.0                   0.0                   0.0   \n",
      "25%                  0.0                   0.0                   0.0   \n",
      "50%                  0.0                   0.0                   0.0   \n",
      "75%                  0.0                   0.0                   0.0   \n",
      "max                  0.0                   0.0                   0.0   \n",
      "\n",
      "       unique_words_original  unique_words_processed  \n",
      "count               5.000000                5.000000  \n",
      "mean                6.800000                6.800000  \n",
      "std                 1.923538                1.923538  \n",
      "min                 4.000000                4.000000  \n",
      "25%                 6.000000                6.000000  \n",
      "50%                 7.000000                7.000000  \n",
      "75%                 8.000000                8.000000  \n",
      "max                 9.000000                9.000000  \n",
      "\n",
      "Processing Statistics:\n",
      "Total words before: 7631\n",
      "Total words after: 6512\n",
      "Word reduction: 14.66%\n",
      "Sample Text Processing Results:\n"
     ]
    },
    {
     "data": {
      "application/vnd.microsoft.datawrangler.viewer.v0+json": {
       "columns": [
        {
         "name": "index",
         "rawType": "int64",
         "type": "integer"
        },
        {
         "name": "Original",
         "rawType": "object",
         "type": "string"
        },
        {
         "name": "Lemmatized",
         "rawType": "object",
         "type": "string"
        }
       ],
       "ref": "577cf745-7d07-4cf3-831f-a4099f497848",
       "rows": [
        [
         "0",
         "Elegance Polyester Multicolor Abstract Eyelet Door Curtain",
         "elegance polyester multicolor abstract eyelet door curtain"
        ],
        [
         "1",
         "Sathiyas Cotton Bath Towel",
         "sathiyas cotton bath towel"
        ],
        [
         "2",
         "Eurospa Cotton Terry Face Towel Set",
         "eurospa cotton terry face towel set"
        ],
        [
         "3",
         "SANTOSH ROYAL FASHION Cotton Printed King sized Double Bedsheet",
         "santosh royal fashion cotton printed king sized double bedsheet"
        ],
        [
         "4",
         "Jaipur Print Cotton Floral King sized Double Bedsheet",
         "jaipur print cotton floral king sized double bedsheet"
        ]
       ],
       "shape": {
        "columns": 2,
        "rows": 5
       }
      },
      "text/html": [
       "<div>\n",
       "<style scoped>\n",
       "    .dataframe tbody tr th:only-of-type {\n",
       "        vertical-align: middle;\n",
       "    }\n",
       "\n",
       "    .dataframe tbody tr th {\n",
       "        vertical-align: top;\n",
       "    }\n",
       "\n",
       "    .dataframe thead th {\n",
       "        text-align: right;\n",
       "    }\n",
       "</style>\n",
       "<table border=\"1\" class=\"dataframe\">\n",
       "  <thead>\n",
       "    <tr style=\"text-align: right;\">\n",
       "      <th></th>\n",
       "      <th>Original</th>\n",
       "      <th>Lemmatized</th>\n",
       "    </tr>\n",
       "  </thead>\n",
       "  <tbody>\n",
       "    <tr>\n",
       "      <th>0</th>\n",
       "      <td>Elegance Polyester Multicolor Abstract Eyelet ...</td>\n",
       "      <td>elegance polyester multicolor abstract eyelet ...</td>\n",
       "    </tr>\n",
       "    <tr>\n",
       "      <th>1</th>\n",
       "      <td>Sathiyas Cotton Bath Towel</td>\n",
       "      <td>sathiyas cotton bath towel</td>\n",
       "    </tr>\n",
       "    <tr>\n",
       "      <th>2</th>\n",
       "      <td>Eurospa Cotton Terry Face Towel Set</td>\n",
       "      <td>eurospa cotton terry face towel set</td>\n",
       "    </tr>\n",
       "    <tr>\n",
       "      <th>3</th>\n",
       "      <td>SANTOSH ROYAL FASHION Cotton Printed King size...</td>\n",
       "      <td>santosh royal fashion cotton printed king size...</td>\n",
       "    </tr>\n",
       "    <tr>\n",
       "      <th>4</th>\n",
       "      <td>Jaipur Print Cotton Floral King sized Double B...</td>\n",
       "      <td>jaipur print cotton floral king sized double b...</td>\n",
       "    </tr>\n",
       "  </tbody>\n",
       "</table>\n",
       "</div>"
      ],
      "text/plain": [
       "                                            Original  \\\n",
       "0  Elegance Polyester Multicolor Abstract Eyelet ...   \n",
       "1                         Sathiyas Cotton Bath Towel   \n",
       "2                Eurospa Cotton Terry Face Towel Set   \n",
       "3  SANTOSH ROYAL FASHION Cotton Printed King size...   \n",
       "4  Jaipur Print Cotton Floral King sized Double B...   \n",
       "\n",
       "                                          Lemmatized  \n",
       "0  elegance polyester multicolor abstract eyelet ...  \n",
       "1                         sathiyas cotton bath towel  \n",
       "2                eurospa cotton terry face towel set  \n",
       "3  santosh royal fashion cotton printed king size...  \n",
       "4  jaipur print cotton floral king sized double b...  "
      ]
     },
     "execution_count": 5,
     "metadata": {},
     "output_type": "execute_result"
    }
   ],
   "source": [
    "from src.classes.preprocess_text import TextPreprocessor\n",
    "\n",
    "processor = TextPreprocessor()\n",
    "\n",
    "# Single text stats\n",
    "sample_text = df['product_name'].iloc[0]\n",
    "stats = processor.get_preprocessing_stats(sample_text)\n",
    "print(\"\\nPreprocessing Statistics:\")\n",
    "for key, value in stats.items():\n",
    "    print(f\"{key}: {value}\")\n",
    "\n",
    "# Batch statistics\n",
    "batch_stats = processor.get_batch_stats(df['product_name'].head())\n",
    "print(\"\\nBatch Statistics Summary:\")\n",
    "print(batch_stats.describe())\n",
    "\n",
    "# Extract the top-level category for each product\n",
    "df['product_category'] = df['product_category_tree'].apply(processor.extract_top_category)\n",
    "\n",
    "# Create lemmatized product names column\n",
    "df['product_name_lemmatized'] = df['product_name'].apply(processor.preprocess)\n",
    "\n",
    "# Display sample comparisons\n",
    "comparison_df = pd.DataFrame({\n",
    "    'Original': df['product_name'].head(),\n",
    "    'Lemmatized': df['product_name_lemmatized'].head()\n",
    "})\n",
    "\n",
    "\n",
    "# Get processing statistics\n",
    "total_words_before = df['product_name'].str.split().str.len().sum()\n",
    "total_words_after = df['product_name_lemmatized'].str.split().str.len().sum()\n",
    "reduction = ((total_words_before - total_words_after) / total_words_before) * 100\n",
    "\n",
    "print(f\"\\nProcessing Statistics:\")\n",
    "print(f\"Total words before: {total_words_before}\")\n",
    "print(f\"Total words after: {total_words_after}\")\n",
    "print(f\"Word reduction: {reduction:.2f}%\")\n",
    "\n",
    "\n",
    "print(\"Sample Text Processing Results:\")\n",
    "comparison_df"
   ]
  },
  {
   "cell_type": "markdown",
   "id": "fa9b6ceb",
   "metadata": {},
   "source": [
    "### 3.2 Basic Text Encoding\n",
    "**Methods**:\n",
    "- Bag of Words (BoW)\n",
    "- TF-IDF Vectorization"
   ]
  },
  {
   "cell_type": "code",
   "execution_count": 6,
   "id": "154e9fce",
   "metadata": {},
   "outputs": [
    {
     "data": {
      "application/vnd.plotly.v1+json": {
       "config": {
        "plotlyServerURL": "https://plot.ly"
       },
       "data": [],
       "layout": {
        "height": 500,
        "images": [
         {
          "layer": "below",
          "opacity": 1,
          "sizex": 1,
          "sizey": 1,
          "sizing": "stretch",
          "source": "data:image/png;base64,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",
          "x": 0,
          "xref": "paper",
          "y": 1,
          "yref": "paper"
         }
        ],
        "margin": {
         "b": 0,
         "l": 0,
         "r": 0,
         "t": 30
        },
        "template": {
         "data": {
          "bar": [
           {
            "error_x": {
             "color": "#2a3f5f"
            },
            "error_y": {
             "color": "#2a3f5f"
            },
            "marker": {
             "line": {
              "color": "#E5ECF6",
              "width": 0.5
             },
             "pattern": {
              "fillmode": "overlay",
              "size": 10,
              "solidity": 0.2
             }
            },
            "type": "bar"
           }
          ],
          "barpolar": [
           {
            "marker": {
             "line": {
              "color": "#E5ECF6",
              "width": 0.5
             },
             "pattern": {
              "fillmode": "overlay",
              "size": 10,
              "solidity": 0.2
             }
            },
            "type": "barpolar"
           }
          ],
          "carpet": [
           {
            "aaxis": {
             "endlinecolor": "#2a3f5f",
             "gridcolor": "white",
             "linecolor": "white",
             "minorgridcolor": "white",
             "startlinecolor": "#2a3f5f"
            },
            "baxis": {
             "endlinecolor": "#2a3f5f",
             "gridcolor": "white",
             "linecolor": "white",
             "minorgridcolor": "white",
             "startlinecolor": "#2a3f5f"
            },
            "type": "carpet"
           }
          ],
          "choropleth": [
           {
            "colorbar": {
             "outlinewidth": 0,
             "ticks": ""
            },
            "type": "choropleth"
           }
          ],
          "contour": [
           {
            "colorbar": {
             "outlinewidth": 0,
             "ticks": ""
            },
            "colorscale": [
             [
              0,
              "#0d0887"
             ],
             [
              0.1111111111111111,
              "#46039f"
             ],
             [
              0.2222222222222222,
              "#7201a8"
             ],
             [
              0.3333333333333333,
              "#9c179e"
             ],
             [
              0.4444444444444444,
              "#bd3786"
             ],
             [
              0.5555555555555556,
              "#d8576b"
             ],
             [
              0.6666666666666666,
              "#ed7953"
             ],
             [
              0.7777777777777778,
              "#fb9f3a"
             ],
             [
              0.8888888888888888,
              "#fdca26"
             ],
             [
              1,
              "#f0f921"
             ]
            ],
            "type": "contour"
           }
          ],
          "contourcarpet": [
           {
            "colorbar": {
             "outlinewidth": 0,
             "ticks": ""
            },
            "type": "contourcarpet"
           }
          ],
          "heatmap": [
           {
            "colorbar": {
             "outlinewidth": 0,
             "ticks": ""
            },
            "colorscale": [
             [
              0,
              "#0d0887"
             ],
             [
              0.1111111111111111,
              "#46039f"
             ],
             [
              0.2222222222222222,
              "#7201a8"
             ],
             [
              0.3333333333333333,
              "#9c179e"
             ],
             [
              0.4444444444444444,
              "#bd3786"
             ],
             [
              0.5555555555555556,
              "#d8576b"
             ],
             [
              0.6666666666666666,
              "#ed7953"
             ],
             [
              0.7777777777777778,
              "#fb9f3a"
             ],
             [
              0.8888888888888888,
              "#fdca26"
             ],
             [
              1,
              "#f0f921"
             ]
            ],
            "type": "heatmap"
           }
          ],
          "histogram": [
           {
            "marker": {
             "pattern": {
              "fillmode": "overlay",
              "size": 10,
              "solidity": 0.2
             }
            },
            "type": "histogram"
           }
          ],
          "histogram2d": [
           {
            "colorbar": {
             "outlinewidth": 0,
             "ticks": ""
            },
            "colorscale": [
             [
              0,
              "#0d0887"
             ],
             [
              0.1111111111111111,
              "#46039f"
             ],
             [
              0.2222222222222222,
              "#7201a8"
             ],
             [
              0.3333333333333333,
              "#9c179e"
             ],
             [
              0.4444444444444444,
              "#bd3786"
             ],
             [
              0.5555555555555556,
              "#d8576b"
             ],
             [
              0.6666666666666666,
              "#ed7953"
             ],
             [
              0.7777777777777778,
              "#fb9f3a"
             ],
             [
              0.8888888888888888,
              "#fdca26"
             ],
             [
              1,
              "#f0f921"
             ]
            ],
            "type": "histogram2d"
           }
          ],
          "histogram2dcontour": [
           {
            "colorbar": {
             "outlinewidth": 0,
             "ticks": ""
            },
            "colorscale": [
             [
              0,
              "#0d0887"
             ],
             [
              0.1111111111111111,
              "#46039f"
             ],
             [
              0.2222222222222222,
              "#7201a8"
             ],
             [
              0.3333333333333333,
              "#9c179e"
             ],
             [
              0.4444444444444444,
              "#bd3786"
             ],
             [
              0.5555555555555556,
              "#d8576b"
             ],
             [
              0.6666666666666666,
              "#ed7953"
             ],
             [
              0.7777777777777778,
              "#fb9f3a"
             ],
             [
              0.8888888888888888,
              "#fdca26"
             ],
             [
              1,
              "#f0f921"
             ]
            ],
            "type": "histogram2dcontour"
           }
          ],
          "mesh3d": [
           {
            "colorbar": {
             "outlinewidth": 0,
             "ticks": ""
            },
            "type": "mesh3d"
           }
          ],
          "parcoords": [
           {
            "line": {
             "colorbar": {
              "outlinewidth": 0,
              "ticks": ""
             }
            },
            "type": "parcoords"
           }
          ],
          "pie": [
           {
            "automargin": true,
            "type": "pie"
           }
          ],
          "scatter": [
           {
            "fillpattern": {
             "fillmode": "overlay",
             "size": 10,
             "solidity": 0.2
            },
            "type": "scatter"
           }
          ],
          "scatter3d": [
           {
            "line": {
             "colorbar": {
              "outlinewidth": 0,
              "ticks": ""
             }
            },
            "marker": {
             "colorbar": {
              "outlinewidth": 0,
              "ticks": ""
             }
            },
            "type": "scatter3d"
           }
          ],
          "scattercarpet": [
           {
            "marker": {
             "colorbar": {
              "outlinewidth": 0,
              "ticks": ""
             }
            },
            "type": "scattercarpet"
           }
          ],
          "scattergeo": [
           {
            "marker": {
             "colorbar": {
              "outlinewidth": 0,
              "ticks": ""
             }
            },
            "type": "scattergeo"
           }
          ],
          "scattergl": [
           {
            "marker": {
             "colorbar": {
              "outlinewidth": 0,
              "ticks": ""
             }
            },
            "type": "scattergl"
           }
          ],
          "scattermap": [
           {
            "marker": {
             "colorbar": {
              "outlinewidth": 0,
              "ticks": ""
             }
            },
            "type": "scattermap"
           }
          ],
          "scattermapbox": [
           {
            "marker": {
             "colorbar": {
              "outlinewidth": 0,
              "ticks": ""
             }
            },
            "type": "scattermapbox"
           }
          ],
          "scatterpolar": [
           {
            "marker": {
             "colorbar": {
              "outlinewidth": 0,
              "ticks": ""
             }
            },
            "type": "scatterpolar"
           }
          ],
          "scatterpolargl": [
           {
            "marker": {
             "colorbar": {
              "outlinewidth": 0,
              "ticks": ""
             }
            },
            "type": "scatterpolargl"
           }
          ],
          "scatterternary": [
           {
            "marker": {
             "colorbar": {
              "outlinewidth": 0,
              "ticks": ""
             }
            },
            "type": "scatterternary"
           }
          ],
          "surface": [
           {
            "colorbar": {
             "outlinewidth": 0,
             "ticks": ""
            },
            "colorscale": [
             [
              0,
              "#0d0887"
             ],
             [
              0.1111111111111111,
              "#46039f"
             ],
             [
              0.2222222222222222,
              "#7201a8"
             ],
             [
              0.3333333333333333,
              "#9c179e"
             ],
             [
              0.4444444444444444,
              "#bd3786"
             ],
             [
              0.5555555555555556,
              "#d8576b"
             ],
             [
              0.6666666666666666,
              "#ed7953"
             ],
             [
              0.7777777777777778,
              "#fb9f3a"
             ],
             [
              0.8888888888888888,
              "#fdca26"
             ],
             [
              1,
              "#f0f921"
             ]
            ],
            "type": "surface"
           }
          ],
          "table": [
           {
            "cells": {
             "fill": {
              "color": "#EBF0F8"
             },
             "line": {
              "color": "white"
             }
            },
            "header": {
             "fill": {
              "color": "#C8D4E3"
             },
             "line": {
              "color": "white"
             }
            },
            "type": "table"
           }
          ]
         },
         "layout": {
          "annotationdefaults": {
           "arrowcolor": "#2a3f5f",
           "arrowhead": 0,
           "arrowwidth": 1
          },
          "autotypenumbers": "strict",
          "coloraxis": {
           "colorbar": {
            "outlinewidth": 0,
            "ticks": ""
           }
          },
          "colorscale": {
           "diverging": [
            [
             0,
             "#8e0152"
            ],
            [
             0.1,
             "#c51b7d"
            ],
            [
             0.2,
             "#de77ae"
            ],
            [
             0.3,
             "#f1b6da"
            ],
            [
             0.4,
             "#fde0ef"
            ],
            [
             0.5,
             "#f7f7f7"
            ],
            [
             0.6,
             "#e6f5d0"
            ],
            [
             0.7,
             "#b8e186"
            ],
            [
             0.8,
             "#7fbc41"
            ],
            [
             0.9,
             "#4d9221"
            ],
            [
             1,
             "#276419"
            ]
           ],
           "sequential": [
            [
             0,
             "#0d0887"
            ],
            [
             0.1111111111111111,
             "#46039f"
            ],
            [
             0.2222222222222222,
             "#7201a8"
            ],
            [
             0.3333333333333333,
             "#9c179e"
            ],
            [
             0.4444444444444444,
             "#bd3786"
            ],
            [
             0.5555555555555556,
             "#d8576b"
            ],
            [
             0.6666666666666666,
             "#ed7953"
            ],
            [
             0.7777777777777778,
             "#fb9f3a"
            ],
            [
             0.8888888888888888,
             "#fdca26"
            ],
            [
             1,
             "#f0f921"
            ]
           ],
           "sequentialminus": [
            [
             0,
             "#0d0887"
            ],
            [
             0.1111111111111111,
             "#46039f"
            ],
            [
             0.2222222222222222,
             "#7201a8"
            ],
            [
             0.3333333333333333,
             "#9c179e"
            ],
            [
             0.4444444444444444,
             "#bd3786"
            ],
            [
             0.5555555555555556,
             "#d8576b"
            ],
            [
             0.6666666666666666,
             "#ed7953"
            ],
            [
             0.7777777777777778,
             "#fb9f3a"
            ],
            [
             0.8888888888888888,
             "#fdca26"
            ],
            [
             1,
             "#f0f921"
            ]
           ]
          },
          "colorway": [
           "#636efa",
           "#EF553B",
           "#00cc96",
           "#ab63fa",
           "#FFA15A",
           "#19d3f3",
           "#FF6692",
           "#B6E880",
           "#FF97FF",
           "#FECB52"
          ],
          "font": {
           "color": "#2a3f5f"
          },
          "geo": {
           "bgcolor": "white",
           "lakecolor": "white",
           "landcolor": "#E5ECF6",
           "showlakes": true,
           "showland": true,
           "subunitcolor": "white"
          },
          "hoverlabel": {
           "align": "left"
          },
          "hovermode": "closest",
          "mapbox": {
           "style": "light"
          },
          "paper_bgcolor": "white",
          "plot_bgcolor": "#E5ECF6",
          "polar": {
           "angularaxis": {
            "gridcolor": "white",
            "linecolor": "white",
            "ticks": ""
           },
           "bgcolor": "#E5ECF6",
           "radialaxis": {
            "gridcolor": "white",
            "linecolor": "white",
            "ticks": ""
           }
          },
          "scene": {
           "xaxis": {
            "backgroundcolor": "#E5ECF6",
            "gridcolor": "white",
            "gridwidth": 2,
            "linecolor": "white",
            "showbackground": true,
            "ticks": "",
            "zerolinecolor": "white"
           },
           "yaxis": {
            "backgroundcolor": "#E5ECF6",
            "gridcolor": "white",
            "gridwidth": 2,
            "linecolor": "white",
            "showbackground": true,
            "ticks": "",
            "zerolinecolor": "white"
           },
           "zaxis": {
            "backgroundcolor": "#E5ECF6",
            "gridcolor": "white",
            "gridwidth": 2,
            "linecolor": "white",
            "showbackground": true,
            "ticks": "",
            "zerolinecolor": "white"
           }
          },
          "shapedefaults": {
           "line": {
            "color": "#2a3f5f"
           }
          },
          "ternary": {
           "aaxis": {
            "gridcolor": "white",
            "linecolor": "white",
            "ticks": ""
           },
           "baxis": {
            "gridcolor": "white",
            "linecolor": "white",
            "ticks": ""
           },
           "bgcolor": "#E5ECF6",
           "caxis": {
            "gridcolor": "white",
            "linecolor": "white",
            "ticks": ""
           }
          },
          "title": {
           "x": 0.05
          },
          "xaxis": {
           "automargin": true,
           "gridcolor": "white",
           "linecolor": "white",
           "ticks": "",
           "title": {
            "standoff": 15
           },
           "zerolinecolor": "white",
           "zerolinewidth": 2
          },
          "yaxis": {
           "automargin": true,
           "gridcolor": "white",
           "linecolor": "white",
           "ticks": "",
           "title": {
            "standoff": 15
           },
           "zerolinecolor": "white",
           "zerolinewidth": 2
          }
         }
        },
        "title": {
         "text": "Bag of Words Cloud"
        },
        "width": 800,
        "xaxis": {
         "range": [
          0,
          1
         ],
         "showgrid": false,
         "showticklabels": false,
         "visible": false,
         "zeroline": false
        },
        "yaxis": {
         "range": [
          0,
          1
         ],
         "showgrid": false,
         "showticklabels": false,
         "visible": false,
         "zeroline": false
        }
       }
      }
     },
     "metadata": {},
     "output_type": "display_data"
    },
    {
     "name": "stdout",
     "output_type": "stream",
     "text": [
      "\n",
      "Bag of Words Feature Distribution:\n"
     ]
    },
    {
     "data": {
      "application/vnd.plotly.v1+json": {
       "config": {
        "plotlyServerURL": "https://plot.ly"
       },
       "data": [
        {
         "name": "Feature Importance",
         "type": "bar",
         "x": [
          "watch",
          "set",
          "analog",
          "cm",
          "showpiece",
          "baby",
          "combo",
          "ceramic",
          "men",
          "mug",
          "girl",
          "boy",
          "usb",
          "cotton",
          "woman",
          "single",
          "double",
          "laptop",
          "abstract",
          "blue",
          "light",
          "led",
          "towel",
          "multicolor",
          "printed",
          "design",
          "floral",
          "sticker",
          "blanket",
          "prithish",
          "black",
          "cell",
          "print",
          "cover",
          "sonata",
          "gift",
          "maximum",
          "kadhai",
          "dress",
          "quilt",
          "battery",
          "rockmantra",
          "comforter",
          "gold",
          "polyester",
          "red",
          "curtain",
          "eyelet",
          "cushion",
          "hp",
          "digital",
          "bath",
          "color",
          "door",
          "router",
          "home",
          "kit",
          "mini",
          "wall",
          "pc",
          "cream",
          "green",
          "shape",
          "pink",
          "time",
          "inch",
          "ml",
          "table",
          "skin",
          "printland",
          "pavilion",
          "plain",
          "pad",
          "brown",
          "adapter",
          "white",
          "wireless",
          "portable",
          "craft",
          "art",
          "charger",
          "india",
          "pack",
          "casual",
          "box"
         ],
         "y": {
          "bdata": "w/wRHWBvqz8IbajhJiqoP3eS2s0TE6c/LKdowF38oz8GcZLazROjP05g7uAqFKE/4bv2sqfloD/jMugC8FecP+Iy6ALwV5w/LKEJS+Odmz/iNF1/w8yZP09aj2uwtZg/bRMVjH3NlT8np2jAXfyTP0xeeWRXn5M/k84PKR5akD+SxMa6/BGNP5LExrr8EY0/2TLoAvBXjD+PyLCzo/uHP43IsLOj+4c/IqXzQ4qHhj8gpfNDioeGP7SBNtRwE4U/tIE21HAThT/971ccZFmEP0deeWRXn4M/ksyarErlgj+QzJqsSuWCP5DMmqxK5YI/2jq89D0rgj/aOrz0PSuCPyOp3TwxcYE/I6ndPDFxgT9sF/+EJLeAP2wX/4Qkt4A/bBf/hCS3gD9sC0GaL/p/P2wLQZov+n8/bAtBmi/6fz9sC0GaL/p/P2wLQZov+n8//+eDKhaGfj//54MqFoZ+P//ngyoWhn4/ksTGuvwRfT+SxMa6/BF9PyWhCUvjnXs/JaEJS+Odez+3fUzbySl6P7d9TNvJKXo/t31M28kpej/dNtL7lkF3P9020vuWQXc/3TbS+5ZBdz/dNtL7lkF3P28TFYx9zXU/bxMVjH3NdT9vExWMfc11P24TFYx9zXU/AfBXHGRZdD8B8FccZFl0PwHwVxxkWXQ/AfBXHGRZdD8B8FccZFl0PwHwVxxkWXQ/AfBXHGRZdD+TzJqsSuVyP5PMmqxK5XI/k8yarErlcj+TzJqsSuVyP5PMmqxK5XI/k8yarErlcj+TzJqsSuVyP5PMmqxK5XI/JandPDFxcT8lqd08MXFxPyWp3TwxcXE/JandPDFxcT8lqd08MXFxPyWp3TwxcXE/JandPDFxcT8lqd08MXFxP28LQZov+m8/bwtBmi/6bz8=",
          "dtype": "f8"
         }
        },
        {
         "line": {
          "color": "red"
         },
         "name": "Cumulative %",
         "type": "scatter",
         "x": [
          "watch",
          "set",
          "analog",
          "cm",
          "showpiece",
          "baby",
          "combo",
          "ceramic",
          "men",
          "mug",
          "girl",
          "boy",
          "usb",
          "cotton",
          "woman",
          "single",
          "double",
          "laptop",
          "abstract",
          "blue",
          "light",
          "led",
          "towel",
          "multicolor",
          "printed",
          "design",
          "floral",
          "sticker",
          "blanket",
          "prithish",
          "black",
          "cell",
          "print",
          "cover",
          "sonata",
          "gift",
          "maximum",
          "kadhai",
          "dress",
          "quilt",
          "battery",
          "rockmantra",
          "comforter",
          "gold",
          "polyester",
          "red",
          "curtain",
          "eyelet",
          "cushion",
          "hp",
          "digital",
          "bath",
          "color",
          "door",
          "router",
          "home",
          "kit",
          "mini",
          "wall",
          "pc",
          "cream",
          "green",
          "shape",
          "pink",
          "time",
          "inch",
          "ml",
          "table",
          "skin",
          "printland",
          "pavilion",
          "plain",
          "pad",
          "brown",
          "adapter",
          "white",
          "wireless",
          "portable",
          "craft",
          "art",
          "charger",
          "india",
          "pack",
          "casual",
          "box"
         ],
         "xaxis": "x",
         "y": {
          "bdata": "w/wRHWBvqz/mNF1/w8y5PxE/JbMmq8I/3Gg/Iz6qxz8eBeSZMW/MP5nODykeWtA/FaZuH9N20j9DKZ0fUjzUP3Gsyx/RAdY/hEZ8VK+71z/SGXKMe1jZP3cPK5PW49o/rmDsa65A3D8g6/JHdIDdPwWBOr5put4/7n3LoAvA3z8J2lDDTVTgPxv1O7aVyOA/5pVHdvU54T8IWRYF5JnhPyoc5ZPS+eE/v+r0vPBT4j9UuQTmDq7iP1uTValcAuM/Ym2mbKpW4z8izRf9D6jjP5uyqVqN9uM/zR1chSJC5D//iA6wt43kPzH0wNpM2eQ/HOWT0vkh5T8H1mbKpmrlP6xMWo9rsOU/UcNNVDD25T+vv2HmDDnmPw28dXjpe+Y/a7iJCsa+5j+COr5puv7mP5m88siuPuc/sD4nKKN+5z/HwFuHl77nP95CkOaL/uc/rkrlEpg76D9+Ujo/pHjoP05aj2uwteg/1+cEZdTv6D9gdXpe+CnpP6KIECU0Yek/5Jum62+Y6T/fNF1/w8zpP9rNExMXAeo/1WbKpmo16j9DC8LU7WPqP7GvuQJxkuo/H1SxMPTA6j+N+Khed+/qP7QiwVkSG+s/20zZVK1G6z8Cd/FPSHLrPymhCUvjnes/CVFCE5bG6z/pAHvbSO/rP8mws6P7F+w/qWDsa65A7D+JECU0YWnsP2nAXfwTkuw/SXCWxMa67D/ipe9ZkeDsP3vbSO9bBu0/FBGihCYs7T+tRvsZ8VHtP0Z8VK+7d+0/37GtRIad7T945wbaUMPtPxEdYG8b6e0/Y9jZ0f0L7j+1k1M04C7uPwdPzZbCUe4/WQpH+aR07j+rxcBbh5fuP/2AOr5puu4/Tzy0IEzd7j+h9y2DLgDvP6w4yLIoIO8/t3li4iJA7z8=",
          "dtype": "f8"
         },
         "yaxis": "y2"
        }
       ],
       "layout": {
        "showlegend": true,
        "template": {
         "data": {
          "bar": [
           {
            "error_x": {
             "color": "#2a3f5f"
            },
            "error_y": {
             "color": "#2a3f5f"
            },
            "marker": {
             "line": {
              "color": "#E5ECF6",
              "width": 0.5
             },
             "pattern": {
              "fillmode": "overlay",
              "size": 10,
              "solidity": 0.2
             }
            },
            "type": "bar"
           }
          ],
          "barpolar": [
           {
            "marker": {
             "line": {
              "color": "#E5ECF6",
              "width": 0.5
             },
             "pattern": {
              "fillmode": "overlay",
              "size": 10,
              "solidity": 0.2
             }
            },
            "type": "barpolar"
           }
          ],
          "carpet": [
           {
            "aaxis": {
             "endlinecolor": "#2a3f5f",
             "gridcolor": "white",
             "linecolor": "white",
             "minorgridcolor": "white",
             "startlinecolor": "#2a3f5f"
            },
            "baxis": {
             "endlinecolor": "#2a3f5f",
             "gridcolor": "white",
             "linecolor": "white",
             "minorgridcolor": "white",
             "startlinecolor": "#2a3f5f"
            },
            "type": "carpet"
           }
          ],
          "choropleth": [
           {
            "colorbar": {
             "outlinewidth": 0,
             "ticks": ""
            },
            "type": "choropleth"
           }
          ],
          "contour": [
           {
            "colorbar": {
             "outlinewidth": 0,
             "ticks": ""
            },
            "colorscale": [
             [
              0,
              "#0d0887"
             ],
             [
              0.1111111111111111,
              "#46039f"
             ],
             [
              0.2222222222222222,
              "#7201a8"
             ],
             [
              0.3333333333333333,
              "#9c179e"
             ],
             [
              0.4444444444444444,
              "#bd3786"
             ],
             [
              0.5555555555555556,
              "#d8576b"
             ],
             [
              0.6666666666666666,
              "#ed7953"
             ],
             [
              0.7777777777777778,
              "#fb9f3a"
             ],
             [
              0.8888888888888888,
              "#fdca26"
             ],
             [
              1,
              "#f0f921"
             ]
            ],
            "type": "contour"
           }
          ],
          "contourcarpet": [
           {
            "colorbar": {
             "outlinewidth": 0,
             "ticks": ""
            },
            "type": "contourcarpet"
           }
          ],
          "heatmap": [
           {
            "colorbar": {
             "outlinewidth": 0,
             "ticks": ""
            },
            "colorscale": [
             [
              0,
              "#0d0887"
             ],
             [
              0.1111111111111111,
              "#46039f"
             ],
             [
              0.2222222222222222,
              "#7201a8"
             ],
             [
              0.3333333333333333,
              "#9c179e"
             ],
             [
              0.4444444444444444,
              "#bd3786"
             ],
             [
              0.5555555555555556,
              "#d8576b"
             ],
             [
              0.6666666666666666,
              "#ed7953"
             ],
             [
              0.7777777777777778,
              "#fb9f3a"
             ],
             [
              0.8888888888888888,
              "#fdca26"
             ],
             [
              1,
              "#f0f921"
             ]
            ],
            "type": "heatmap"
           }
          ],
          "histogram": [
           {
            "marker": {
             "pattern": {
              "fillmode": "overlay",
              "size": 10,
              "solidity": 0.2
             }
            },
            "type": "histogram"
           }
          ],
          "histogram2d": [
           {
            "colorbar": {
             "outlinewidth": 0,
             "ticks": ""
            },
            "colorscale": [
             [
              0,
              "#0d0887"
             ],
             [
              0.1111111111111111,
              "#46039f"
             ],
             [
              0.2222222222222222,
              "#7201a8"
             ],
             [
              0.3333333333333333,
              "#9c179e"
             ],
             [
              0.4444444444444444,
              "#bd3786"
             ],
             [
              0.5555555555555556,
              "#d8576b"
             ],
             [
              0.6666666666666666,
              "#ed7953"
             ],
             [
              0.7777777777777778,
              "#fb9f3a"
             ],
             [
              0.8888888888888888,
              "#fdca26"
             ],
             [
              1,
              "#f0f921"
             ]
            ],
            "type": "histogram2d"
           }
          ],
          "histogram2dcontour": [
           {
            "colorbar": {
             "outlinewidth": 0,
             "ticks": ""
            },
            "colorscale": [
             [
              0,
              "#0d0887"
             ],
             [
              0.1111111111111111,
              "#46039f"
             ],
             [
              0.2222222222222222,
              "#7201a8"
             ],
             [
              0.3333333333333333,
              "#9c179e"
             ],
             [
              0.4444444444444444,
              "#bd3786"
             ],
             [
              0.5555555555555556,
              "#d8576b"
             ],
             [
              0.6666666666666666,
              "#ed7953"
             ],
             [
              0.7777777777777778,
              "#fb9f3a"
             ],
             [
              0.8888888888888888,
              "#fdca26"
             ],
             [
              1,
              "#f0f921"
             ]
            ],
            "type": "histogram2dcontour"
           }
          ],
          "mesh3d": [
           {
            "colorbar": {
             "outlinewidth": 0,
             "ticks": ""
            },
            "type": "mesh3d"
           }
          ],
          "parcoords": [
           {
            "line": {
             "colorbar": {
              "outlinewidth": 0,
              "ticks": ""
             }
            },
            "type": "parcoords"
           }
          ],
          "pie": [
           {
            "automargin": true,
            "type": "pie"
           }
          ],
          "scatter": [
           {
            "fillpattern": {
             "fillmode": "overlay",
             "size": 10,
             "solidity": 0.2
            },
            "type": "scatter"
           }
          ],
          "scatter3d": [
           {
            "line": {
             "colorbar": {
              "outlinewidth": 0,
              "ticks": ""
             }
            },
            "marker": {
             "colorbar": {
              "outlinewidth": 0,
              "ticks": ""
             }
            },
            "type": "scatter3d"
           }
          ],
          "scattercarpet": [
           {
            "marker": {
             "colorbar": {
              "outlinewidth": 0,
              "ticks": ""
             }
            },
            "type": "scattercarpet"
           }
          ],
          "scattergeo": [
           {
            "marker": {
             "colorbar": {
              "outlinewidth": 0,
              "ticks": ""
             }
            },
            "type": "scattergeo"
           }
          ],
          "scattergl": [
           {
            "marker": {
             "colorbar": {
              "outlinewidth": 0,
              "ticks": ""
             }
            },
            "type": "scattergl"
           }
          ],
          "scattermap": [
           {
            "marker": {
             "colorbar": {
              "outlinewidth": 0,
              "ticks": ""
             }
            },
            "type": "scattermap"
           }
          ],
          "scattermapbox": [
           {
            "marker": {
             "colorbar": {
              "outlinewidth": 0,
              "ticks": ""
             }
            },
            "type": "scattermapbox"
           }
          ],
          "scatterpolar": [
           {
            "marker": {
             "colorbar": {
              "outlinewidth": 0,
              "ticks": ""
             }
            },
            "type": "scatterpolar"
           }
          ],
          "scatterpolargl": [
           {
            "marker": {
             "colorbar": {
              "outlinewidth": 0,
              "ticks": ""
             }
            },
            "type": "scatterpolargl"
           }
          ],
          "scatterternary": [
           {
            "marker": {
             "colorbar": {
              "outlinewidth": 0,
              "ticks": ""
             }
            },
            "type": "scatterternary"
           }
          ],
          "surface": [
           {
            "colorbar": {
             "outlinewidth": 0,
             "ticks": ""
            },
            "colorscale": [
             [
              0,
              "#0d0887"
             ],
             [
              0.1111111111111111,
              "#46039f"
             ],
             [
              0.2222222222222222,
              "#7201a8"
             ],
             [
              0.3333333333333333,
              "#9c179e"
             ],
             [
              0.4444444444444444,
              "#bd3786"
             ],
             [
              0.5555555555555556,
              "#d8576b"
             ],
             [
              0.6666666666666666,
              "#ed7953"
             ],
             [
              0.7777777777777778,
              "#fb9f3a"
             ],
             [
              0.8888888888888888,
              "#fdca26"
             ],
             [
              1,
              "#f0f921"
             ]
            ],
            "type": "surface"
           }
          ],
          "table": [
           {
            "cells": {
             "fill": {
              "color": "#EBF0F8"
             },
             "line": {
              "color": "white"
             }
            },
            "header": {
             "fill": {
              "color": "#C8D4E3"
             },
             "line": {
              "color": "white"
             }
            },
            "type": "table"
           }
          ]
         },
         "layout": {
          "annotationdefaults": {
           "arrowcolor": "#2a3f5f",
           "arrowhead": 0,
           "arrowwidth": 1
          },
          "autotypenumbers": "strict",
          "coloraxis": {
           "colorbar": {
            "outlinewidth": 0,
            "ticks": ""
           }
          },
          "colorscale": {
           "diverging": [
            [
             0,
             "#8e0152"
            ],
            [
             0.1,
             "#c51b7d"
            ],
            [
             0.2,
             "#de77ae"
            ],
            [
             0.3,
             "#f1b6da"
            ],
            [
             0.4,
             "#fde0ef"
            ],
            [
             0.5,
             "#f7f7f7"
            ],
            [
             0.6,
             "#e6f5d0"
            ],
            [
             0.7,
             "#b8e186"
            ],
            [
             0.8,
             "#7fbc41"
            ],
            [
             0.9,
             "#4d9221"
            ],
            [
             1,
             "#276419"
            ]
           ],
           "sequential": [
            [
             0,
             "#0d0887"
            ],
            [
             0.1111111111111111,
             "#46039f"
            ],
            [
             0.2222222222222222,
             "#7201a8"
            ],
            [
             0.3333333333333333,
             "#9c179e"
            ],
            [
             0.4444444444444444,
             "#bd3786"
            ],
            [
             0.5555555555555556,
             "#d8576b"
            ],
            [
             0.6666666666666666,
             "#ed7953"
            ],
            [
             0.7777777777777778,
             "#fb9f3a"
            ],
            [
             0.8888888888888888,
             "#fdca26"
            ],
            [
             1,
             "#f0f921"
            ]
           ],
           "sequentialminus": [
            [
             0,
             "#0d0887"
            ],
            [
             0.1111111111111111,
             "#46039f"
            ],
            [
             0.2222222222222222,
             "#7201a8"
            ],
            [
             0.3333333333333333,
             "#9c179e"
            ],
            [
             0.4444444444444444,
             "#bd3786"
            ],
            [
             0.5555555555555556,
             "#d8576b"
            ],
            [
             0.6666666666666666,
             "#ed7953"
            ],
            [
             0.7777777777777778,
             "#fb9f3a"
            ],
            [
             0.8888888888888888,
             "#fdca26"
            ],
            [
             1,
             "#f0f921"
            ]
           ]
          },
          "colorway": [
           "#636efa",
           "#EF553B",
           "#00cc96",
           "#ab63fa",
           "#FFA15A",
           "#19d3f3",
           "#FF6692",
           "#B6E880",
           "#FF97FF",
           "#FECB52"
          ],
          "font": {
           "color": "#2a3f5f"
          },
          "geo": {
           "bgcolor": "white",
           "lakecolor": "white",
           "landcolor": "#E5ECF6",
           "showlakes": true,
           "showland": true,
           "subunitcolor": "white"
          },
          "hoverlabel": {
           "align": "left"
          },
          "hovermode": "closest",
          "mapbox": {
           "style": "light"
          },
          "paper_bgcolor": "white",
          "plot_bgcolor": "#E5ECF6",
          "polar": {
           "angularaxis": {
            "gridcolor": "white",
            "linecolor": "white",
            "ticks": ""
           },
           "bgcolor": "#E5ECF6",
           "radialaxis": {
            "gridcolor": "white",
            "linecolor": "white",
            "ticks": ""
           }
          },
          "scene": {
           "xaxis": {
            "backgroundcolor": "#E5ECF6",
            "gridcolor": "white",
            "gridwidth": 2,
            "linecolor": "white",
            "showbackground": true,
            "ticks": "",
            "zerolinecolor": "white"
           },
           "yaxis": {
            "backgroundcolor": "#E5ECF6",
            "gridcolor": "white",
            "gridwidth": 2,
            "linecolor": "white",
            "showbackground": true,
            "ticks": "",
            "zerolinecolor": "white"
           },
           "zaxis": {
            "backgroundcolor": "#E5ECF6",
            "gridcolor": "white",
            "gridwidth": 2,
            "linecolor": "white",
            "showbackground": true,
            "ticks": "",
            "zerolinecolor": "white"
           }
          },
          "shapedefaults": {
           "line": {
            "color": "#2a3f5f"
           }
          },
          "ternary": {
           "aaxis": {
            "gridcolor": "white",
            "linecolor": "white",
            "ticks": ""
           },
           "baxis": {
            "gridcolor": "white",
            "linecolor": "white",
            "ticks": ""
           },
           "bgcolor": "#E5ECF6",
           "caxis": {
            "gridcolor": "white",
            "linecolor": "white",
            "ticks": ""
           }
          },
          "title": {
           "x": 0.05
          },
          "xaxis": {
           "automargin": true,
           "gridcolor": "white",
           "linecolor": "white",
           "ticks": "",
           "title": {
            "standoff": 15
           },
           "zerolinecolor": "white",
           "zerolinewidth": 2
          },
          "yaxis": {
           "automargin": true,
           "gridcolor": "white",
           "linecolor": "white",
           "ticks": "",
           "title": {
            "standoff": 15
           },
           "zerolinecolor": "white",
           "zerolinewidth": 2
          }
         }
        },
        "title": {
         "text": "BoW Features (Top 98.0%)"
        },
        "xaxis": {
         "anchor": "y",
         "domain": [
          0,
          0.94
         ],
         "tickangle": 45,
         "title": {
          "text": "Features"
         }
        },
        "yaxis": {
         "anchor": "x",
         "domain": [
          0,
          1
         ],
         "title": {
          "text": "Importance %"
         }
        },
        "yaxis2": {
         "anchor": "x",
         "overlaying": "y",
         "side": "right",
         "title": {
          "text": "Cumulative %"
         }
        }
       }
      }
     },
     "metadata": {},
     "output_type": "display_data"
    }
   ],
   "source": [
    "from src.classes.encode_text import TextEncoder\n",
    "\n",
    "# Initialize encoder once\n",
    "encoder = TextEncoder()\n",
    "\n",
    "# Fit and transform product names\n",
    "encoding_results = encoder.fit_transform(df['product_name_lemmatized'])\n",
    "\n",
    "\n",
    "# For a Bag of Words cloud\n",
    "bow_cloud = encoder.plot_word_cloud(use_tfidf=False, max_words=100, colormap='plasma')\n",
    "bow_cloud.show()\n",
    "\n",
    "# Create and display BoW plot\n",
    "bow_fig = encoder.plot_bow_features(threshold=0.98)\n",
    "print(\"\\nBag of Words Feature Distribution:\")\n",
    "bow_fig.show()\n",
    "\n",
    "\n"
   ]
  },
  {
   "cell_type": "code",
   "execution_count": 7,
   "id": "ca4bcb7a",
   "metadata": {},
   "outputs": [
    {
     "data": {
      "application/vnd.plotly.v1+json": {
       "config": {
        "plotlyServerURL": "https://plot.ly"
       },
       "data": [],
       "layout": {
        "height": 500,
        "images": [
         {
          "layer": "below",
          "opacity": 1,
          "sizex": 1,
          "sizey": 1,
          "sizing": "stretch",
          "source": "data:image/png;base64,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",
          "x": 0,
          "xref": "paper",
          "y": 1,
          "yref": "paper"
         }
        ],
        "margin": {
         "b": 0,
         "l": 0,
         "r": 0,
         "t": 30
        },
        "template": {
         "data": {
          "bar": [
           {
            "error_x": {
             "color": "#2a3f5f"
            },
            "error_y": {
             "color": "#2a3f5f"
            },
            "marker": {
             "line": {
              "color": "#E5ECF6",
              "width": 0.5
             },
             "pattern": {
              "fillmode": "overlay",
              "size": 10,
              "solidity": 0.2
             }
            },
            "type": "bar"
           }
          ],
          "barpolar": [
           {
            "marker": {
             "line": {
              "color": "#E5ECF6",
              "width": 0.5
             },
             "pattern": {
              "fillmode": "overlay",
              "size": 10,
              "solidity": 0.2
             }
            },
            "type": "barpolar"
           }
          ],
          "carpet": [
           {
            "aaxis": {
             "endlinecolor": "#2a3f5f",
             "gridcolor": "white",
             "linecolor": "white",
             "minorgridcolor": "white",
             "startlinecolor": "#2a3f5f"
            },
            "baxis": {
             "endlinecolor": "#2a3f5f",
             "gridcolor": "white",
             "linecolor": "white",
             "minorgridcolor": "white",
             "startlinecolor": "#2a3f5f"
            },
            "type": "carpet"
           }
          ],
          "choropleth": [
           {
            "colorbar": {
             "outlinewidth": 0,
             "ticks": ""
            },
            "type": "choropleth"
           }
          ],
          "contour": [
           {
            "colorbar": {
             "outlinewidth": 0,
             "ticks": ""
            },
            "colorscale": [
             [
              0,
              "#0d0887"
             ],
             [
              0.1111111111111111,
              "#46039f"
             ],
             [
              0.2222222222222222,
              "#7201a8"
             ],
             [
              0.3333333333333333,
              "#9c179e"
             ],
             [
              0.4444444444444444,
              "#bd3786"
             ],
             [
              0.5555555555555556,
              "#d8576b"
             ],
             [
              0.6666666666666666,
              "#ed7953"
             ],
             [
              0.7777777777777778,
              "#fb9f3a"
             ],
             [
              0.8888888888888888,
              "#fdca26"
             ],
             [
              1,
              "#f0f921"
             ]
            ],
            "type": "contour"
           }
          ],
          "contourcarpet": [
           {
            "colorbar": {
             "outlinewidth": 0,
             "ticks": ""
            },
            "type": "contourcarpet"
           }
          ],
          "heatmap": [
           {
            "colorbar": {
             "outlinewidth": 0,
             "ticks": ""
            },
            "colorscale": [
             [
              0,
              "#0d0887"
             ],
             [
              0.1111111111111111,
              "#46039f"
             ],
             [
              0.2222222222222222,
              "#7201a8"
             ],
             [
              0.3333333333333333,
              "#9c179e"
             ],
             [
              0.4444444444444444,
              "#bd3786"
             ],
             [
              0.5555555555555556,
              "#d8576b"
             ],
             [
              0.6666666666666666,
              "#ed7953"
             ],
             [
              0.7777777777777778,
              "#fb9f3a"
             ],
             [
              0.8888888888888888,
              "#fdca26"
             ],
             [
              1,
              "#f0f921"
             ]
            ],
            "type": "heatmap"
           }
          ],
          "histogram": [
           {
            "marker": {
             "pattern": {
              "fillmode": "overlay",
              "size": 10,
              "solidity": 0.2
             }
            },
            "type": "histogram"
           }
          ],
          "histogram2d": [
           {
            "colorbar": {
             "outlinewidth": 0,
             "ticks": ""
            },
            "colorscale": [
             [
              0,
              "#0d0887"
             ],
             [
              0.1111111111111111,
              "#46039f"
             ],
             [
              0.2222222222222222,
              "#7201a8"
             ],
             [
              0.3333333333333333,
              "#9c179e"
             ],
             [
              0.4444444444444444,
              "#bd3786"
             ],
             [
              0.5555555555555556,
              "#d8576b"
             ],
             [
              0.6666666666666666,
              "#ed7953"
             ],
             [
              0.7777777777777778,
              "#fb9f3a"
             ],
             [
              0.8888888888888888,
              "#fdca26"
             ],
             [
              1,
              "#f0f921"
             ]
            ],
            "type": "histogram2d"
           }
          ],
          "histogram2dcontour": [
           {
            "colorbar": {
             "outlinewidth": 0,
             "ticks": ""
            },
            "colorscale": [
             [
              0,
              "#0d0887"
             ],
             [
              0.1111111111111111,
              "#46039f"
             ],
             [
              0.2222222222222222,
              "#7201a8"
             ],
             [
              0.3333333333333333,
              "#9c179e"
             ],
             [
              0.4444444444444444,
              "#bd3786"
             ],
             [
              0.5555555555555556,
              "#d8576b"
             ],
             [
              0.6666666666666666,
              "#ed7953"
             ],
             [
              0.7777777777777778,
              "#fb9f3a"
             ],
             [
              0.8888888888888888,
              "#fdca26"
             ],
             [
              1,
              "#f0f921"
             ]
            ],
            "type": "histogram2dcontour"
           }
          ],
          "mesh3d": [
           {
            "colorbar": {
             "outlinewidth": 0,
             "ticks": ""
            },
            "type": "mesh3d"
           }
          ],
          "parcoords": [
           {
            "line": {
             "colorbar": {
              "outlinewidth": 0,
              "ticks": ""
             }
            },
            "type": "parcoords"
           }
          ],
          "pie": [
           {
            "automargin": true,
            "type": "pie"
           }
          ],
          "scatter": [
           {
            "fillpattern": {
             "fillmode": "overlay",
             "size": 10,
             "solidity": 0.2
            },
            "type": "scatter"
           }
          ],
          "scatter3d": [
           {
            "line": {
             "colorbar": {
              "outlinewidth": 0,
              "ticks": ""
             }
            },
            "marker": {
             "colorbar": {
              "outlinewidth": 0,
              "ticks": ""
             }
            },
            "type": "scatter3d"
           }
          ],
          "scattercarpet": [
           {
            "marker": {
             "colorbar": {
              "outlinewidth": 0,
              "ticks": ""
             }
            },
            "type": "scattercarpet"
           }
          ],
          "scattergeo": [
           {
            "marker": {
             "colorbar": {
              "outlinewidth": 0,
              "ticks": ""
             }
            },
            "type": "scattergeo"
           }
          ],
          "scattergl": [
           {
            "marker": {
             "colorbar": {
              "outlinewidth": 0,
              "ticks": ""
             }
            },
            "type": "scattergl"
           }
          ],
          "scattermap": [
           {
            "marker": {
             "colorbar": {
              "outlinewidth": 0,
              "ticks": ""
             }
            },
            "type": "scattermap"
           }
          ],
          "scattermapbox": [
           {
            "marker": {
             "colorbar": {
              "outlinewidth": 0,
              "ticks": ""
             }
            },
            "type": "scattermapbox"
           }
          ],
          "scatterpolar": [
           {
            "marker": {
             "colorbar": {
              "outlinewidth": 0,
              "ticks": ""
             }
            },
            "type": "scatterpolar"
           }
          ],
          "scatterpolargl": [
           {
            "marker": {
             "colorbar": {
              "outlinewidth": 0,
              "ticks": ""
             }
            },
            "type": "scatterpolargl"
           }
          ],
          "scatterternary": [
           {
            "marker": {
             "colorbar": {
              "outlinewidth": 0,
              "ticks": ""
             }
            },
            "type": "scatterternary"
           }
          ],
          "surface": [
           {
            "colorbar": {
             "outlinewidth": 0,
             "ticks": ""
            },
            "colorscale": [
             [
              0,
              "#0d0887"
             ],
             [
              0.1111111111111111,
              "#46039f"
             ],
             [
              0.2222222222222222,
              "#7201a8"
             ],
             [
              0.3333333333333333,
              "#9c179e"
             ],
             [
              0.4444444444444444,
              "#bd3786"
             ],
             [
              0.5555555555555556,
              "#d8576b"
             ],
             [
              0.6666666666666666,
              "#ed7953"
             ],
             [
              0.7777777777777778,
              "#fb9f3a"
             ],
             [
              0.8888888888888888,
              "#fdca26"
             ],
             [
              1,
              "#f0f921"
             ]
            ],
            "type": "surface"
           }
          ],
          "table": [
           {
            "cells": {
             "fill": {
              "color": "#EBF0F8"
             },
             "line": {
              "color": "white"
             }
            },
            "header": {
             "fill": {
              "color": "#C8D4E3"
             },
             "line": {
              "color": "white"
             }
            },
            "type": "table"
           }
          ]
         },
         "layout": {
          "annotationdefaults": {
           "arrowcolor": "#2a3f5f",
           "arrowhead": 0,
           "arrowwidth": 1
          },
          "autotypenumbers": "strict",
          "coloraxis": {
           "colorbar": {
            "outlinewidth": 0,
            "ticks": ""
           }
          },
          "colorscale": {
           "diverging": [
            [
             0,
             "#8e0152"
            ],
            [
             0.1,
             "#c51b7d"
            ],
            [
             0.2,
             "#de77ae"
            ],
            [
             0.3,
             "#f1b6da"
            ],
            [
             0.4,
             "#fde0ef"
            ],
            [
             0.5,
             "#f7f7f7"
            ],
            [
             0.6,
             "#e6f5d0"
            ],
            [
             0.7,
             "#b8e186"
            ],
            [
             0.8,
             "#7fbc41"
            ],
            [
             0.9,
             "#4d9221"
            ],
            [
             1,
             "#276419"
            ]
           ],
           "sequential": [
            [
             0,
             "#0d0887"
            ],
            [
             0.1111111111111111,
             "#46039f"
            ],
            [
             0.2222222222222222,
             "#7201a8"
            ],
            [
             0.3333333333333333,
             "#9c179e"
            ],
            [
             0.4444444444444444,
             "#bd3786"
            ],
            [
             0.5555555555555556,
             "#d8576b"
            ],
            [
             0.6666666666666666,
             "#ed7953"
            ],
            [
             0.7777777777777778,
             "#fb9f3a"
            ],
            [
             0.8888888888888888,
             "#fdca26"
            ],
            [
             1,
             "#f0f921"
            ]
           ],
           "sequentialminus": [
            [
             0,
             "#0d0887"
            ],
            [
             0.1111111111111111,
             "#46039f"
            ],
            [
             0.2222222222222222,
             "#7201a8"
            ],
            [
             0.3333333333333333,
             "#9c179e"
            ],
            [
             0.4444444444444444,
             "#bd3786"
            ],
            [
             0.5555555555555556,
             "#d8576b"
            ],
            [
             0.6666666666666666,
             "#ed7953"
            ],
            [
             0.7777777777777778,
             "#fb9f3a"
            ],
            [
             0.8888888888888888,
             "#fdca26"
            ],
            [
             1,
             "#f0f921"
            ]
           ]
          },
          "colorway": [
           "#636efa",
           "#EF553B",
           "#00cc96",
           "#ab63fa",
           "#FFA15A",
           "#19d3f3",
           "#FF6692",
           "#B6E880",
           "#FF97FF",
           "#FECB52"
          ],
          "font": {
           "color": "#2a3f5f"
          },
          "geo": {
           "bgcolor": "white",
           "lakecolor": "white",
           "landcolor": "#E5ECF6",
           "showlakes": true,
           "showland": true,
           "subunitcolor": "white"
          },
          "hoverlabel": {
           "align": "left"
          },
          "hovermode": "closest",
          "mapbox": {
           "style": "light"
          },
          "paper_bgcolor": "white",
          "plot_bgcolor": "#E5ECF6",
          "polar": {
           "angularaxis": {
            "gridcolor": "white",
            "linecolor": "white",
            "ticks": ""
           },
           "bgcolor": "#E5ECF6",
           "radialaxis": {
            "gridcolor": "white",
            "linecolor": "white",
            "ticks": ""
           }
          },
          "scene": {
           "xaxis": {
            "backgroundcolor": "#E5ECF6",
            "gridcolor": "white",
            "gridwidth": 2,
            "linecolor": "white",
            "showbackground": true,
            "ticks": "",
            "zerolinecolor": "white"
           },
           "yaxis": {
            "backgroundcolor": "#E5ECF6",
            "gridcolor": "white",
            "gridwidth": 2,
            "linecolor": "white",
            "showbackground": true,
            "ticks": "",
            "zerolinecolor": "white"
           },
           "zaxis": {
            "backgroundcolor": "#E5ECF6",
            "gridcolor": "white",
            "gridwidth": 2,
            "linecolor": "white",
            "showbackground": true,
            "ticks": "",
            "zerolinecolor": "white"
           }
          },
          "shapedefaults": {
           "line": {
            "color": "#2a3f5f"
           }
          },
          "ternary": {
           "aaxis": {
            "gridcolor": "white",
            "linecolor": "white",
            "ticks": ""
           },
           "baxis": {
            "gridcolor": "white",
            "linecolor": "white",
            "ticks": ""
           },
           "bgcolor": "#E5ECF6",
           "caxis": {
            "gridcolor": "white",
            "linecolor": "white",
            "ticks": ""
           }
          },
          "title": {
           "x": 0.05
          },
          "xaxis": {
           "automargin": true,
           "gridcolor": "white",
           "linecolor": "white",
           "ticks": "",
           "title": {
            "standoff": 15
           },
           "zerolinecolor": "white",
           "zerolinewidth": 2
          },
          "yaxis": {
           "automargin": true,
           "gridcolor": "white",
           "linecolor": "white",
           "ticks": "",
           "title": {
            "standoff": 15
           },
           "zerolinecolor": "white",
           "zerolinewidth": 2
          }
         }
        },
        "title": {
         "text": "TF-IDF Word Cloud"
        },
        "width": 800,
        "xaxis": {
         "range": [
          0,
          1
         ],
         "showgrid": false,
         "showticklabels": false,
         "visible": false,
         "zeroline": false
        },
        "yaxis": {
         "range": [
          0,
          1
         ],
         "showgrid": false,
         "showticklabels": false,
         "visible": false,
         "zeroline": false
        }
       }
      }
     },
     "metadata": {},
     "output_type": "display_data"
    },
    {
     "name": "stdout",
     "output_type": "stream",
     "text": [
      "\n",
      "TF-IDF Feature Distribution:\n"
     ]
    },
    {
     "data": {
      "application/vnd.plotly.v1+json": {
       "config": {
        "plotlyServerURL": "https://plot.ly"
       },
       "data": [
        {
         "name": "Feature Importance",
         "type": "bar",
         "x": [
          "set",
          "watch",
          "cm",
          "showpiece",
          "analog",
          "combo",
          "baby",
          "men",
          "ceramic",
          "mug",
          "girl",
          "boy",
          "woman",
          "cotton",
          "usb",
          "kadhai",
          "single",
          "towel",
          "double",
          "blue",
          "abstract",
          "led",
          "printed",
          "sticker",
          "laptop",
          "cover",
          "black",
          "sonata",
          "light",
          "multicolor",
          "prithish",
          "design",
          "dress",
          "rockmantra",
          "blanket",
          "gift",
          "maximum",
          "print",
          "floral",
          "router",
          "gold",
          "cushion",
          "red",
          "digital",
          "bath",
          "kit",
          "cream",
          "cell",
          "wall",
          "quilt",
          "pc",
          "color",
          "comforter",
          "battery",
          "pack",
          "inch",
          "hp",
          "ml",
          "printland",
          "mini",
          "polyester",
          "wireless",
          "table",
          "home",
          "art",
          "green",
          "time",
          "box",
          "curtain",
          "plain",
          "india",
          "pink",
          "adapter",
          "eyelet",
          "craft",
          "casual",
          "orange",
          "brown",
          "portable",
          "charger",
          "door",
          "white",
          "bedsheet",
          "shape",
          "series"
         ],
         "y": {
          "bdata": "6g1KeF0xpj+tGPZuKbWlP+7C0Co8SKU/RkqIyde2pD/OCum2qYmjP63i8kkp4aE/qgtYvSylnz/PLS3Z92ybP/x7Z3fztpk/YQOpDc6UmD8xiAKDUQSYP9jpswWa2Zc/LAAd0XhYlD+NNx1Ex8WTP/vYdh7NIpM/pOC8vMMBjT8YgnUy782MP9/lpXbjlYk/ruq2Cck3iT9Cihw+lXSIP/8f6P3i7oc/YzJKUbZ8hz+f4rk1/meGPxkmCWpQoYU/W41xYQ2BhT8AB/k5r2eFP33IKfH+94Q/6n6kq7oahD+HYBuY8fuDP+Q6CJMfoYM/sYasrIR7gz9TP74TZC2DP/5TKt0m6II/CWqI9xzCgj/fdceOEsKCPxwfWNhofoI/D1wb2Nhrgj/6GsUrz12CP0y7H269HII/xFp8OzqCgT8VjyHG502AP94sZOsZDoA/TASnDTuqfz95mGgW/RF/P8+dVL4a3X4/grqgZLSxfT+hOMcq8JR9P9441FIEa30/tfKBpn3Fez+17P8JJo57P9MmLoDQY3s/3afRj8THej+gROWYrJ96P5Lr85U5l3o/8C5MuchWej99bwwTSFp5P2zFa/rSUXk/oTbm+mVCeT//PNhUPhl5PxC9lHzvBHk/bt4Rxz3KeD/mvOKEGJd4P7byTVDTMng/S9aEk9MjeD/elh8fqRx4PxZEJAYp8Hc/Z8PYtr9adz90RMLvrS53P+UJkqPs13U/26AH9mHWdT/9ymfkrMN1P7eNQJuxb3U/EZZqRrMgdT/wnVS2U890P1pKNTRpynQ/NY4mvOpicz//aCzXcUFzP2xFKe8993I/HTQIsbPUcj+DznzEcLByP7EvamtirnI/6H+A9TZZcj/YuMaAyA9yPwT5B7zvaXE/f1bCuDm/cD8=",
          "dtype": "f8"
         }
        },
        {
         "line": {
          "color": "red"
         },
         "name": "Cumulative %",
         "type": "scatter",
         "x": [
          "set",
          "watch",
          "cm",
          "showpiece",
          "analog",
          "combo",
          "baby",
          "men",
          "ceramic",
          "mug",
          "girl",
          "boy",
          "woman",
          "cotton",
          "usb",
          "kadhai",
          "single",
          "towel",
          "double",
          "blue",
          "abstract",
          "led",
          "printed",
          "sticker",
          "laptop",
          "cover",
          "black",
          "sonata",
          "light",
          "multicolor",
          "prithish",
          "design",
          "dress",
          "rockmantra",
          "blanket",
          "gift",
          "maximum",
          "print",
          "floral",
          "router",
          "gold",
          "cushion",
          "red",
          "digital",
          "bath",
          "kit",
          "cream",
          "cell",
          "wall",
          "quilt",
          "pc",
          "color",
          "comforter",
          "battery",
          "pack",
          "inch",
          "hp",
          "ml",
          "printland",
          "mini",
          "polyester",
          "wireless",
          "table",
          "home",
          "art",
          "green",
          "time",
          "box",
          "curtain",
          "plain",
          "india",
          "pink",
          "adapter",
          "eyelet",
          "craft",
          "casual",
          "orange",
          "brown",
          "portable",
          "charger",
          "door",
          "white",
          "bedsheet",
          "shape",
          "series"
         ],
         "xaxis": "x",
         "y": {
          "bdata": "6g1KeF0xpj9ME6BzQ/O1P2I6hMSwS8A/9EzmtmZ5xT+oj6Ak0VvKP1NIHXcb1M4/5CRkh2Bk0T/B9/YEMBvTP4FvbTyfttQ/t/9HHew/1j86KHg1McDXP9hm09XKPdk/2zblYlKD2j9UCifXrr/bP+R3Dqnb8dw/6V70xunZ3T/6CohAWcDePyk6PVwIjd8/v3hFUmMr4D/o6j2nNY3gP2iLNTPx7OA/MrR6DORK4T+8m1EFhKThP1TA+UYJ++E/iYZ/fA1R4j+lamc5rKbiP8cRLDWM+uI/w6PaH/dK4z9FETvm5prjPzEyh2Rr6eM/TOQ5d1k35D9J3YgHD4TkP5mG/aKvz+Q/QajbFrga5T8YxhZhwGXlP5QmeAS6r+U/BJTYZ2n55T9wqIek4ELmP10nQJpTi+Y/yBgug1zR5j8En0YilBLnP7cv9InMUuc/wH0PACGS5z/xTjz6RNDnPy34uC//Deg/ojmCmGJJ6D8TyNd4jIToP4VwfYFiv+g/anTKfO326D9DdN7ICS7pP5HQ3mnRZOk/4XP+8mCa6T9qPjBMoM/pP0EmXL/OBOo/n77OUHw56j9+1/TgMGzqPwmv6YbUnuo/dnvfUlnR6j/wK4nPiwPrP2pVgq6VNes/J3kQKipn6z+hPhpbWJjrP4baugG+yOs/M+ThqAX56z9hIyD7PinsP+lrLE0fWew/cB2azNSH7D/5oXkoMrbsPw3GwAHi4ew/T9WsxY4N7T/lpHUfFjntPwAmrIL1Y+0/LPs46TaO7T9opKWQ1bftP/0ODmNq4e0/GVyGODAI7j/rtDQcsy7uP3YHE5ihVO4/3hd1/0p67j97Ef7gq5/uP9rl1KUIxe4/2ua/E7vp7j9MdMGk2g3vPz6EOYSuMO8/6wir9yxS7z8=",
          "dtype": "f8"
         },
         "yaxis": "y2"
        }
       ],
       "layout": {
        "showlegend": true,
        "template": {
         "data": {
          "bar": [
           {
            "error_x": {
             "color": "#2a3f5f"
            },
            "error_y": {
             "color": "#2a3f5f"
            },
            "marker": {
             "line": {
              "color": "#E5ECF6",
              "width": 0.5
             },
             "pattern": {
              "fillmode": "overlay",
              "size": 10,
              "solidity": 0.2
             }
            },
            "type": "bar"
           }
          ],
          "barpolar": [
           {
            "marker": {
             "line": {
              "color": "#E5ECF6",
              "width": 0.5
             },
             "pattern": {
              "fillmode": "overlay",
              "size": 10,
              "solidity": 0.2
             }
            },
            "type": "barpolar"
           }
          ],
          "carpet": [
           {
            "aaxis": {
             "endlinecolor": "#2a3f5f",
             "gridcolor": "white",
             "linecolor": "white",
             "minorgridcolor": "white",
             "startlinecolor": "#2a3f5f"
            },
            "baxis": {
             "endlinecolor": "#2a3f5f",
             "gridcolor": "white",
             "linecolor": "white",
             "minorgridcolor": "white",
             "startlinecolor": "#2a3f5f"
            },
            "type": "carpet"
           }
          ],
          "choropleth": [
           {
            "colorbar": {
             "outlinewidth": 0,
             "ticks": ""
            },
            "type": "choropleth"
           }
          ],
          "contour": [
           {
            "colorbar": {
             "outlinewidth": 0,
             "ticks": ""
            },
            "colorscale": [
             [
              0,
              "#0d0887"
             ],
             [
              0.1111111111111111,
              "#46039f"
             ],
             [
              0.2222222222222222,
              "#7201a8"
             ],
             [
              0.3333333333333333,
              "#9c179e"
             ],
             [
              0.4444444444444444,
              "#bd3786"
             ],
             [
              0.5555555555555556,
              "#d8576b"
             ],
             [
              0.6666666666666666,
              "#ed7953"
             ],
             [
              0.7777777777777778,
              "#fb9f3a"
             ],
             [
              0.8888888888888888,
              "#fdca26"
             ],
             [
              1,
              "#f0f921"
             ]
            ],
            "type": "contour"
           }
          ],
          "contourcarpet": [
           {
            "colorbar": {
             "outlinewidth": 0,
             "ticks": ""
            },
            "type": "contourcarpet"
           }
          ],
          "heatmap": [
           {
            "colorbar": {
             "outlinewidth": 0,
             "ticks": ""
            },
            "colorscale": [
             [
              0,
              "#0d0887"
             ],
             [
              0.1111111111111111,
              "#46039f"
             ],
             [
              0.2222222222222222,
              "#7201a8"
             ],
             [
              0.3333333333333333,
              "#9c179e"
             ],
             [
              0.4444444444444444,
              "#bd3786"
             ],
             [
              0.5555555555555556,
              "#d8576b"
             ],
             [
              0.6666666666666666,
              "#ed7953"
             ],
             [
              0.7777777777777778,
              "#fb9f3a"
             ],
             [
              0.8888888888888888,
              "#fdca26"
             ],
             [
              1,
              "#f0f921"
             ]
            ],
            "type": "heatmap"
           }
          ],
          "histogram": [
           {
            "marker": {
             "pattern": {
              "fillmode": "overlay",
              "size": 10,
              "solidity": 0.2
             }
            },
            "type": "histogram"
           }
          ],
          "histogram2d": [
           {
            "colorbar": {
             "outlinewidth": 0,
             "ticks": ""
            },
            "colorscale": [
             [
              0,
              "#0d0887"
             ],
             [
              0.1111111111111111,
              "#46039f"
             ],
             [
              0.2222222222222222,
              "#7201a8"
             ],
             [
              0.3333333333333333,
              "#9c179e"
             ],
             [
              0.4444444444444444,
              "#bd3786"
             ],
             [
              0.5555555555555556,
              "#d8576b"
             ],
             [
              0.6666666666666666,
              "#ed7953"
             ],
             [
              0.7777777777777778,
              "#fb9f3a"
             ],
             [
              0.8888888888888888,
              "#fdca26"
             ],
             [
              1,
              "#f0f921"
             ]
            ],
            "type": "histogram2d"
           }
          ],
          "histogram2dcontour": [
           {
            "colorbar": {
             "outlinewidth": 0,
             "ticks": ""
            },
            "colorscale": [
             [
              0,
              "#0d0887"
             ],
             [
              0.1111111111111111,
              "#46039f"
             ],
             [
              0.2222222222222222,
              "#7201a8"
             ],
             [
              0.3333333333333333,
              "#9c179e"
             ],
             [
              0.4444444444444444,
              "#bd3786"
             ],
             [
              0.5555555555555556,
              "#d8576b"
             ],
             [
              0.6666666666666666,
              "#ed7953"
             ],
             [
              0.7777777777777778,
              "#fb9f3a"
             ],
             [
              0.8888888888888888,
              "#fdca26"
             ],
             [
              1,
              "#f0f921"
             ]
            ],
            "type": "histogram2dcontour"
           }
          ],
          "mesh3d": [
           {
            "colorbar": {
             "outlinewidth": 0,
             "ticks": ""
            },
            "type": "mesh3d"
           }
          ],
          "parcoords": [
           {
            "line": {
             "colorbar": {
              "outlinewidth": 0,
              "ticks": ""
             }
            },
            "type": "parcoords"
           }
          ],
          "pie": [
           {
            "automargin": true,
            "type": "pie"
           }
          ],
          "scatter": [
           {
            "fillpattern": {
             "fillmode": "overlay",
             "size": 10,
             "solidity": 0.2
            },
            "type": "scatter"
           }
          ],
          "scatter3d": [
           {
            "line": {
             "colorbar": {
              "outlinewidth": 0,
              "ticks": ""
             }
            },
            "marker": {
             "colorbar": {
              "outlinewidth": 0,
              "ticks": ""
             }
            },
            "type": "scatter3d"
           }
          ],
          "scattercarpet": [
           {
            "marker": {
             "colorbar": {
              "outlinewidth": 0,
              "ticks": ""
             }
            },
            "type": "scattercarpet"
           }
          ],
          "scattergeo": [
           {
            "marker": {
             "colorbar": {
              "outlinewidth": 0,
              "ticks": ""
             }
            },
            "type": "scattergeo"
           }
          ],
          "scattergl": [
           {
            "marker": {
             "colorbar": {
              "outlinewidth": 0,
              "ticks": ""
             }
            },
            "type": "scattergl"
           }
          ],
          "scattermap": [
           {
            "marker": {
             "colorbar": {
              "outlinewidth": 0,
              "ticks": ""
             }
            },
            "type": "scattermap"
           }
          ],
          "scattermapbox": [
           {
            "marker": {
             "colorbar": {
              "outlinewidth": 0,
              "ticks": ""
             }
            },
            "type": "scattermapbox"
           }
          ],
          "scatterpolar": [
           {
            "marker": {
             "colorbar": {
              "outlinewidth": 0,
              "ticks": ""
             }
            },
            "type": "scatterpolar"
           }
          ],
          "scatterpolargl": [
           {
            "marker": {
             "colorbar": {
              "outlinewidth": 0,
              "ticks": ""
             }
            },
            "type": "scatterpolargl"
           }
          ],
          "scatterternary": [
           {
            "marker": {
             "colorbar": {
              "outlinewidth": 0,
              "ticks": ""
             }
            },
            "type": "scatterternary"
           }
          ],
          "surface": [
           {
            "colorbar": {
             "outlinewidth": 0,
             "ticks": ""
            },
            "colorscale": [
             [
              0,
              "#0d0887"
             ],
             [
              0.1111111111111111,
              "#46039f"
             ],
             [
              0.2222222222222222,
              "#7201a8"
             ],
             [
              0.3333333333333333,
              "#9c179e"
             ],
             [
              0.4444444444444444,
              "#bd3786"
             ],
             [
              0.5555555555555556,
              "#d8576b"
             ],
             [
              0.6666666666666666,
              "#ed7953"
             ],
             [
              0.7777777777777778,
              "#fb9f3a"
             ],
             [
              0.8888888888888888,
              "#fdca26"
             ],
             [
              1,
              "#f0f921"
             ]
            ],
            "type": "surface"
           }
          ],
          "table": [
           {
            "cells": {
             "fill": {
              "color": "#EBF0F8"
             },
             "line": {
              "color": "white"
             }
            },
            "header": {
             "fill": {
              "color": "#C8D4E3"
             },
             "line": {
              "color": "white"
             }
            },
            "type": "table"
           }
          ]
         },
         "layout": {
          "annotationdefaults": {
           "arrowcolor": "#2a3f5f",
           "arrowhead": 0,
           "arrowwidth": 1
          },
          "autotypenumbers": "strict",
          "coloraxis": {
           "colorbar": {
            "outlinewidth": 0,
            "ticks": ""
           }
          },
          "colorscale": {
           "diverging": [
            [
             0,
             "#8e0152"
            ],
            [
             0.1,
             "#c51b7d"
            ],
            [
             0.2,
             "#de77ae"
            ],
            [
             0.3,
             "#f1b6da"
            ],
            [
             0.4,
             "#fde0ef"
            ],
            [
             0.5,
             "#f7f7f7"
            ],
            [
             0.6,
             "#e6f5d0"
            ],
            [
             0.7,
             "#b8e186"
            ],
            [
             0.8,
             "#7fbc41"
            ],
            [
             0.9,
             "#4d9221"
            ],
            [
             1,
             "#276419"
            ]
           ],
           "sequential": [
            [
             0,
             "#0d0887"
            ],
            [
             0.1111111111111111,
             "#46039f"
            ],
            [
             0.2222222222222222,
             "#7201a8"
            ],
            [
             0.3333333333333333,
             "#9c179e"
            ],
            [
             0.4444444444444444,
             "#bd3786"
            ],
            [
             0.5555555555555556,
             "#d8576b"
            ],
            [
             0.6666666666666666,
             "#ed7953"
            ],
            [
             0.7777777777777778,
             "#fb9f3a"
            ],
            [
             0.8888888888888888,
             "#fdca26"
            ],
            [
             1,
             "#f0f921"
            ]
           ],
           "sequentialminus": [
            [
             0,
             "#0d0887"
            ],
            [
             0.1111111111111111,
             "#46039f"
            ],
            [
             0.2222222222222222,
             "#7201a8"
            ],
            [
             0.3333333333333333,
             "#9c179e"
            ],
            [
             0.4444444444444444,
             "#bd3786"
            ],
            [
             0.5555555555555556,
             "#d8576b"
            ],
            [
             0.6666666666666666,
             "#ed7953"
            ],
            [
             0.7777777777777778,
             "#fb9f3a"
            ],
            [
             0.8888888888888888,
             "#fdca26"
            ],
            [
             1,
             "#f0f921"
            ]
           ]
          },
          "colorway": [
           "#636efa",
           "#EF553B",
           "#00cc96",
           "#ab63fa",
           "#FFA15A",
           "#19d3f3",
           "#FF6692",
           "#B6E880",
           "#FF97FF",
           "#FECB52"
          ],
          "font": {
           "color": "#2a3f5f"
          },
          "geo": {
           "bgcolor": "white",
           "lakecolor": "white",
           "landcolor": "#E5ECF6",
           "showlakes": true,
           "showland": true,
           "subunitcolor": "white"
          },
          "hoverlabel": {
           "align": "left"
          },
          "hovermode": "closest",
          "mapbox": {
           "style": "light"
          },
          "paper_bgcolor": "white",
          "plot_bgcolor": "#E5ECF6",
          "polar": {
           "angularaxis": {
            "gridcolor": "white",
            "linecolor": "white",
            "ticks": ""
           },
           "bgcolor": "#E5ECF6",
           "radialaxis": {
            "gridcolor": "white",
            "linecolor": "white",
            "ticks": ""
           }
          },
          "scene": {
           "xaxis": {
            "backgroundcolor": "#E5ECF6",
            "gridcolor": "white",
            "gridwidth": 2,
            "linecolor": "white",
            "showbackground": true,
            "ticks": "",
            "zerolinecolor": "white"
           },
           "yaxis": {
            "backgroundcolor": "#E5ECF6",
            "gridcolor": "white",
            "gridwidth": 2,
            "linecolor": "white",
            "showbackground": true,
            "ticks": "",
            "zerolinecolor": "white"
           },
           "zaxis": {
            "backgroundcolor": "#E5ECF6",
            "gridcolor": "white",
            "gridwidth": 2,
            "linecolor": "white",
            "showbackground": true,
            "ticks": "",
            "zerolinecolor": "white"
           }
          },
          "shapedefaults": {
           "line": {
            "color": "#2a3f5f"
           }
          },
          "ternary": {
           "aaxis": {
            "gridcolor": "white",
            "linecolor": "white",
            "ticks": ""
           },
           "baxis": {
            "gridcolor": "white",
            "linecolor": "white",
            "ticks": ""
           },
           "bgcolor": "#E5ECF6",
           "caxis": {
            "gridcolor": "white",
            "linecolor": "white",
            "ticks": ""
           }
          },
          "title": {
           "x": 0.05
          },
          "xaxis": {
           "automargin": true,
           "gridcolor": "white",
           "linecolor": "white",
           "ticks": "",
           "title": {
            "standoff": 15
           },
           "zerolinecolor": "white",
           "zerolinewidth": 2
          },
          "yaxis": {
           "automargin": true,
           "gridcolor": "white",
           "linecolor": "white",
           "ticks": "",
           "title": {
            "standoff": 15
           },
           "zerolinecolor": "white",
           "zerolinewidth": 2
          }
         }
        },
        "title": {
         "text": "TF-IDF Features (Top 98.0%)"
        },
        "xaxis": {
         "anchor": "y",
         "domain": [
          0,
          0.94
         ],
         "tickangle": 45,
         "title": {
          "text": "Features"
         }
        },
        "yaxis": {
         "anchor": "x",
         "domain": [
          0,
          1
         ],
         "title": {
          "text": "Importance %"
         }
        },
        "yaxis2": {
         "anchor": "x",
         "overlaying": "y",
         "side": "right",
         "title": {
          "text": "Cumulative %"
         }
        }
       }
      }
     },
     "metadata": {},
     "output_type": "display_data"
    }
   ],
   "source": [
    "# For a TF-IDF word cloud\n",
    "word_cloud = encoder.plot_word_cloud(use_tfidf=True, max_words=100, colormap='plasma')\n",
    "word_cloud.show()\n",
    "\n",
    "# Create and display TF-IDF plot\n",
    "tfidf_fig = encoder.plot_tfidf_features(threshold=0.98)\n",
    "print(\"\\nTF-IDF Feature Distribution:\")\n",
    "tfidf_fig.show()"
   ]
  },
  {
   "cell_type": "code",
   "execution_count": 8,
   "id": "c8e31827",
   "metadata": {},
   "outputs": [
    {
     "name": "stdout",
     "output_type": "stream",
     "text": [
      "\n",
      "Feature Comparison:\n"
     ]
    },
    {
     "data": {
      "application/vnd.plotly.v1+json": {
       "config": {
        "plotlyServerURL": "https://plot.ly"
       },
       "data": [
        {
         "name": "BoW",
         "offset": -0.2,
         "type": "bar",
         "width": 0.4,
         "x": [
          "watch",
          "set",
          "analog",
          "cm",
          "showpiece",
          "combo",
          "baby",
          "men",
          "ceramic",
          "mug",
          "girl",
          "boy",
          "usb",
          "woman",
          "cotton",
          "single",
          "double",
          "abstract",
          "laptop",
          "blue"
         ],
         "y": {
          "bdata": "u/wRHWBvqz8DbajhJiqoP3GS2s0TE6c/J6dowF38oz8DcZLazROjP9679rKn5aA/TGDu4CoUoT/fMugC8FecP98y6ALwV5w/KaEJS+Odmz/fNF1/w8yZP01aj2uwtZg/cRMVjH3NlT9MXnlkV5+TPyenaMBd/JM/lc4PKR5akD+WxMa6/BGNP98y6ALwV4w/lsTGuvwRjT+WyLCzo/uHPw==",
          "dtype": "f8"
         }
        },
        {
         "name": "TF-IDF",
         "offset": 0.2,
         "type": "bar",
         "width": 0.4,
         "x": [
          "watch",
          "set",
          "analog",
          "cm",
          "showpiece",
          "combo",
          "baby",
          "men",
          "ceramic",
          "mug",
          "girl",
          "boy",
          "usb",
          "woman",
          "cotton",
          "single",
          "double",
          "abstract",
          "laptop",
          "blue"
         ],
         "y": {
          "bdata": "rRj2bim1pT/qDUp4XTGmP84K6bapiaM/7sLQKjxIpT9GSojJ17akP63i8kkp4aE/qgtYvSylnz/PLS3Z92ybP/x7Z3fztpk/YQOpDc6UmD8xiAKDUQSYP9jpswWa2Zc/+9h2Hs0ikz8sAB3ReFiUP403HUTHxZM/GIJ1Mu/NjD+u6rYJyTeJP/8f6P3i7oc/W41xYQ2BhT9Cihw+lXSIPw==",
          "dtype": "f8"
         }
        }
       ],
       "layout": {
        "bargap": 0,
        "barmode": "overlay",
        "height": 600,
        "showlegend": true,
        "template": {
         "data": {
          "bar": [
           {
            "error_x": {
             "color": "#2a3f5f"
            },
            "error_y": {
             "color": "#2a3f5f"
            },
            "marker": {
             "line": {
              "color": "#E5ECF6",
              "width": 0.5
             },
             "pattern": {
              "fillmode": "overlay",
              "size": 10,
              "solidity": 0.2
             }
            },
            "type": "bar"
           }
          ],
          "barpolar": [
           {
            "marker": {
             "line": {
              "color": "#E5ECF6",
              "width": 0.5
             },
             "pattern": {
              "fillmode": "overlay",
              "size": 10,
              "solidity": 0.2
             }
            },
            "type": "barpolar"
           }
          ],
          "carpet": [
           {
            "aaxis": {
             "endlinecolor": "#2a3f5f",
             "gridcolor": "white",
             "linecolor": "white",
             "minorgridcolor": "white",
             "startlinecolor": "#2a3f5f"
            },
            "baxis": {
             "endlinecolor": "#2a3f5f",
             "gridcolor": "white",
             "linecolor": "white",
             "minorgridcolor": "white",
             "startlinecolor": "#2a3f5f"
            },
            "type": "carpet"
           }
          ],
          "choropleth": [
           {
            "colorbar": {
             "outlinewidth": 0,
             "ticks": ""
            },
            "type": "choropleth"
           }
          ],
          "contour": [
           {
            "colorbar": {
             "outlinewidth": 0,
             "ticks": ""
            },
            "colorscale": [
             [
              0,
              "#0d0887"
             ],
             [
              0.1111111111111111,
              "#46039f"
             ],
             [
              0.2222222222222222,
              "#7201a8"
             ],
             [
              0.3333333333333333,
              "#9c179e"
             ],
             [
              0.4444444444444444,
              "#bd3786"
             ],
             [
              0.5555555555555556,
              "#d8576b"
             ],
             [
              0.6666666666666666,
              "#ed7953"
             ],
             [
              0.7777777777777778,
              "#fb9f3a"
             ],
             [
              0.8888888888888888,
              "#fdca26"
             ],
             [
              1,
              "#f0f921"
             ]
            ],
            "type": "contour"
           }
          ],
          "contourcarpet": [
           {
            "colorbar": {
             "outlinewidth": 0,
             "ticks": ""
            },
            "type": "contourcarpet"
           }
          ],
          "heatmap": [
           {
            "colorbar": {
             "outlinewidth": 0,
             "ticks": ""
            },
            "colorscale": [
             [
              0,
              "#0d0887"
             ],
             [
              0.1111111111111111,
              "#46039f"
             ],
             [
              0.2222222222222222,
              "#7201a8"
             ],
             [
              0.3333333333333333,
              "#9c179e"
             ],
             [
              0.4444444444444444,
              "#bd3786"
             ],
             [
              0.5555555555555556,
              "#d8576b"
             ],
             [
              0.6666666666666666,
              "#ed7953"
             ],
             [
              0.7777777777777778,
              "#fb9f3a"
             ],
             [
              0.8888888888888888,
              "#fdca26"
             ],
             [
              1,
              "#f0f921"
             ]
            ],
            "type": "heatmap"
           }
          ],
          "histogram": [
           {
            "marker": {
             "pattern": {
              "fillmode": "overlay",
              "size": 10,
              "solidity": 0.2
             }
            },
            "type": "histogram"
           }
          ],
          "histogram2d": [
           {
            "colorbar": {
             "outlinewidth": 0,
             "ticks": ""
            },
            "colorscale": [
             [
              0,
              "#0d0887"
             ],
             [
              0.1111111111111111,
              "#46039f"
             ],
             [
              0.2222222222222222,
              "#7201a8"
             ],
             [
              0.3333333333333333,
              "#9c179e"
             ],
             [
              0.4444444444444444,
              "#bd3786"
             ],
             [
              0.5555555555555556,
              "#d8576b"
             ],
             [
              0.6666666666666666,
              "#ed7953"
             ],
             [
              0.7777777777777778,
              "#fb9f3a"
             ],
             [
              0.8888888888888888,
              "#fdca26"
             ],
             [
              1,
              "#f0f921"
             ]
            ],
            "type": "histogram2d"
           }
          ],
          "histogram2dcontour": [
           {
            "colorbar": {
             "outlinewidth": 0,
             "ticks": ""
            },
            "colorscale": [
             [
              0,
              "#0d0887"
             ],
             [
              0.1111111111111111,
              "#46039f"
             ],
             [
              0.2222222222222222,
              "#7201a8"
             ],
             [
              0.3333333333333333,
              "#9c179e"
             ],
             [
              0.4444444444444444,
              "#bd3786"
             ],
             [
              0.5555555555555556,
              "#d8576b"
             ],
             [
              0.6666666666666666,
              "#ed7953"
             ],
             [
              0.7777777777777778,
              "#fb9f3a"
             ],
             [
              0.8888888888888888,
              "#fdca26"
             ],
             [
              1,
              "#f0f921"
             ]
            ],
            "type": "histogram2dcontour"
           }
          ],
          "mesh3d": [
           {
            "colorbar": {
             "outlinewidth": 0,
             "ticks": ""
            },
            "type": "mesh3d"
           }
          ],
          "parcoords": [
           {
            "line": {
             "colorbar": {
              "outlinewidth": 0,
              "ticks": ""
             }
            },
            "type": "parcoords"
           }
          ],
          "pie": [
           {
            "automargin": true,
            "type": "pie"
           }
          ],
          "scatter": [
           {
            "fillpattern": {
             "fillmode": "overlay",
             "size": 10,
             "solidity": 0.2
            },
            "type": "scatter"
           }
          ],
          "scatter3d": [
           {
            "line": {
             "colorbar": {
              "outlinewidth": 0,
              "ticks": ""
             }
            },
            "marker": {
             "colorbar": {
              "outlinewidth": 0,
              "ticks": ""
             }
            },
            "type": "scatter3d"
           }
          ],
          "scattercarpet": [
           {
            "marker": {
             "colorbar": {
              "outlinewidth": 0,
              "ticks": ""
             }
            },
            "type": "scattercarpet"
           }
          ],
          "scattergeo": [
           {
            "marker": {
             "colorbar": {
              "outlinewidth": 0,
              "ticks": ""
             }
            },
            "type": "scattergeo"
           }
          ],
          "scattergl": [
           {
            "marker": {
             "colorbar": {
              "outlinewidth": 0,
              "ticks": ""
             }
            },
            "type": "scattergl"
           }
          ],
          "scattermap": [
           {
            "marker": {
             "colorbar": {
              "outlinewidth": 0,
              "ticks": ""
             }
            },
            "type": "scattermap"
           }
          ],
          "scattermapbox": [
           {
            "marker": {
             "colorbar": {
              "outlinewidth": 0,
              "ticks": ""
             }
            },
            "type": "scattermapbox"
           }
          ],
          "scatterpolar": [
           {
            "marker": {
             "colorbar": {
              "outlinewidth": 0,
              "ticks": ""
             }
            },
            "type": "scatterpolar"
           }
          ],
          "scatterpolargl": [
           {
            "marker": {
             "colorbar": {
              "outlinewidth": 0,
              "ticks": ""
             }
            },
            "type": "scatterpolargl"
           }
          ],
          "scatterternary": [
           {
            "marker": {
             "colorbar": {
              "outlinewidth": 0,
              "ticks": ""
             }
            },
            "type": "scatterternary"
           }
          ],
          "surface": [
           {
            "colorbar": {
             "outlinewidth": 0,
             "ticks": ""
            },
            "colorscale": [
             [
              0,
              "#0d0887"
             ],
             [
              0.1111111111111111,
              "#46039f"
             ],
             [
              0.2222222222222222,
              "#7201a8"
             ],
             [
              0.3333333333333333,
              "#9c179e"
             ],
             [
              0.4444444444444444,
              "#bd3786"
             ],
             [
              0.5555555555555556,
              "#d8576b"
             ],
             [
              0.6666666666666666,
              "#ed7953"
             ],
             [
              0.7777777777777778,
              "#fb9f3a"
             ],
             [
              0.8888888888888888,
              "#fdca26"
             ],
             [
              1,
              "#f0f921"
             ]
            ],
            "type": "surface"
           }
          ],
          "table": [
           {
            "cells": {
             "fill": {
              "color": "#EBF0F8"
             },
             "line": {
              "color": "white"
             }
            },
            "header": {
             "fill": {
              "color": "#C8D4E3"
             },
             "line": {
              "color": "white"
             }
            },
            "type": "table"
           }
          ]
         },
         "layout": {
          "annotationdefaults": {
           "arrowcolor": "#2a3f5f",
           "arrowhead": 0,
           "arrowwidth": 1
          },
          "autotypenumbers": "strict",
          "coloraxis": {
           "colorbar": {
            "outlinewidth": 0,
            "ticks": ""
           }
          },
          "colorscale": {
           "diverging": [
            [
             0,
             "#8e0152"
            ],
            [
             0.1,
             "#c51b7d"
            ],
            [
             0.2,
             "#de77ae"
            ],
            [
             0.3,
             "#f1b6da"
            ],
            [
             0.4,
             "#fde0ef"
            ],
            [
             0.5,
             "#f7f7f7"
            ],
            [
             0.6,
             "#e6f5d0"
            ],
            [
             0.7,
             "#b8e186"
            ],
            [
             0.8,
             "#7fbc41"
            ],
            [
             0.9,
             "#4d9221"
            ],
            [
             1,
             "#276419"
            ]
           ],
           "sequential": [
            [
             0,
             "#0d0887"
            ],
            [
             0.1111111111111111,
             "#46039f"
            ],
            [
             0.2222222222222222,
             "#7201a8"
            ],
            [
             0.3333333333333333,
             "#9c179e"
            ],
            [
             0.4444444444444444,
             "#bd3786"
            ],
            [
             0.5555555555555556,
             "#d8576b"
            ],
            [
             0.6666666666666666,
             "#ed7953"
            ],
            [
             0.7777777777777778,
             "#fb9f3a"
            ],
            [
             0.8888888888888888,
             "#fdca26"
            ],
            [
             1,
             "#f0f921"
            ]
           ],
           "sequentialminus": [
            [
             0,
             "#0d0887"
            ],
            [
             0.1111111111111111,
             "#46039f"
            ],
            [
             0.2222222222222222,
             "#7201a8"
            ],
            [
             0.3333333333333333,
             "#9c179e"
            ],
            [
             0.4444444444444444,
             "#bd3786"
            ],
            [
             0.5555555555555556,
             "#d8576b"
            ],
            [
             0.6666666666666666,
             "#ed7953"
            ],
            [
             0.7777777777777778,
             "#fb9f3a"
            ],
            [
             0.8888888888888888,
             "#fdca26"
            ],
            [
             1,
             "#f0f921"
            ]
           ]
          },
          "colorway": [
           "#636efa",
           "#EF553B",
           "#00cc96",
           "#ab63fa",
           "#FFA15A",
           "#19d3f3",
           "#FF6692",
           "#B6E880",
           "#FF97FF",
           "#FECB52"
          ],
          "font": {
           "color": "#2a3f5f"
          },
          "geo": {
           "bgcolor": "white",
           "lakecolor": "white",
           "landcolor": "#E5ECF6",
           "showlakes": true,
           "showland": true,
           "subunitcolor": "white"
          },
          "hoverlabel": {
           "align": "left"
          },
          "hovermode": "closest",
          "mapbox": {
           "style": "light"
          },
          "paper_bgcolor": "white",
          "plot_bgcolor": "#E5ECF6",
          "polar": {
           "angularaxis": {
            "gridcolor": "white",
            "linecolor": "white",
            "ticks": ""
           },
           "bgcolor": "#E5ECF6",
           "radialaxis": {
            "gridcolor": "white",
            "linecolor": "white",
            "ticks": ""
           }
          },
          "scene": {
           "xaxis": {
            "backgroundcolor": "#E5ECF6",
            "gridcolor": "white",
            "gridwidth": 2,
            "linecolor": "white",
            "showbackground": true,
            "ticks": "",
            "zerolinecolor": "white"
           },
           "yaxis": {
            "backgroundcolor": "#E5ECF6",
            "gridcolor": "white",
            "gridwidth": 2,
            "linecolor": "white",
            "showbackground": true,
            "ticks": "",
            "zerolinecolor": "white"
           },
           "zaxis": {
            "backgroundcolor": "#E5ECF6",
            "gridcolor": "white",
            "gridwidth": 2,
            "linecolor": "white",
            "showbackground": true,
            "ticks": "",
            "zerolinecolor": "white"
           }
          },
          "shapedefaults": {
           "line": {
            "color": "#2a3f5f"
           }
          },
          "ternary": {
           "aaxis": {
            "gridcolor": "white",
            "linecolor": "white",
            "ticks": ""
           },
           "baxis": {
            "gridcolor": "white",
            "linecolor": "white",
            "ticks": ""
           },
           "bgcolor": "#E5ECF6",
           "caxis": {
            "gridcolor": "white",
            "linecolor": "white",
            "ticks": ""
           }
          },
          "title": {
           "x": 0.05
          },
          "xaxis": {
           "automargin": true,
           "gridcolor": "white",
           "linecolor": "white",
           "ticks": "",
           "title": {
            "standoff": 15
           },
           "zerolinecolor": "white",
           "zerolinewidth": 2
          },
          "yaxis": {
           "automargin": true,
           "gridcolor": "white",
           "linecolor": "white",
           "ticks": "",
           "title": {
            "standoff": 15
           },
           "zerolinecolor": "white",
           "zerolinewidth": 2
          }
         }
        },
        "title": {
         "text": "BoW vs TF-IDF Top Features by Combined Importance"
        },
        "xaxis": {
         "tickangle": 45,
         "title": {
          "text": "Features"
         }
        },
        "yaxis": {
         "title": {
          "text": "Normalized Importance"
         }
        },
        "yaxis2": {
         "overlaying": "y",
         "showgrid": false,
         "side": "right",
         "title": {
          "text": "TF-IDF - BoW Difference"
         }
        }
       }
      }
     },
     "metadata": {},
     "output_type": "display_data"
    },
    {
     "name": "stdout",
     "output_type": "stream",
     "text": [
      "\n",
      "TF-IDF vs BoW Scatter Comparison:\n"
     ]
    },
    {
     "data": {
      "application/vnd.plotly.v1+json": {
       "config": {
        "plotlyServerURL": "https://plot.ly"
       },
       "data": [
        {
         "hovertemplate": "<b>%{text}</b><br>BoW: %{x:.5f}<br>TF-IDF: %{y:.5f}<br>Diff: %{marker.color:.5f}<extra></extra>",
         "marker": {
          "color": {
           "bdata": "gEsAFDSkYb/gS37ORNtBPxg9jLdQS3y/3LYHid+tWj9wpyUkSBlkv1CAIIxDzVI/gH80EdiLVb/4mDGdhZVAP/hsbOMHZlY/AFur6Q6cEb8Aa/CaYjwuP+z6hopYxlw/oA5uu8yCS78A13iOQvPxPuBDMHiXLks/ePOQWt6tW78YtwVc5Adlv8BV8nn48zM/cLyBpua9ZD/wh/ufbDFMP+DZhN8ycF8/IBv1jEwzT78AzbclPksrv8ju2ujvs18/mAm9ur/JSj88kd4cGHdiP8Tq0lxA6Fy/TOL6LkL5UT8AC5uJAMBCv/hqcOzMoFM/uBygQdJMUr9Az36IndFevyhyToB4WFc/5AzUUj46W78AMJplnylIv8B6kDVFdEw/4MqqxR+HXL8wsfkNy61AP5igYk4ntkw/gO1T9pJHLD/gCRcc3P4qv+j90dqPA1Q/WIconu5JUT/WtTjfVwl6P0ScLmLbkF8/sNoFWtZTMr/s3FRlvUNuv2Cn0aqBpT4/eECr3JD9X7/wScQxRUtLPwCiYDcFX02/+Ez9g4+7ST94Gjl6B6RTP2jAHqk6CVC/QO4E66lIaL9gbeQSFCVHvzAaX1DQIko/kgvd+C7LYT9Ar+4gLUxGv2wKWziigky/iE1k0EtZVj9A24nu12QxPzCiZku6iEc/WCbIjWHvVr9gr6hCJzg2P2A67ty9kz0/UA42GNZIRT+owfWgzs9YP4BDNwJAxzI/9HoEQSawUb+w/QGX8sFEP4AiP1MpKFY/Uv1M9rqFZz/wTk5qmM4wv8AYOnQ9RCg/kPHllZaMb7/4t38Co3tHvzCUXe+eMGo/kNhQ/WgyX7/WCgEET71Uv9A7KzWxHFs/IMxy6y3gVT+EmMyOIjZVPyCbBtTcCkg/uAWSlclyWD+w0/Fsg1VlvxB9s2kA4Fc/OJBvuNrohr8g2FoUtwAtP/xOFCCdl1w/ADx0lC0kRz8=",
           "dtype": "f8"
          },
          "colorbar": {
           "title": {
            "text": "TF-IDF - BoW"
           }
          },
          "colorscale": [
           [
            0,
            "rgb(103,0,31)"
           ],
           [
            0.1,
            "rgb(178,24,43)"
           ],
           [
            0.2,
            "rgb(214,96,77)"
           ],
           [
            0.3,
            "rgb(244,165,130)"
           ],
           [
            0.4,
            "rgb(253,219,199)"
           ],
           [
            0.5,
            "rgb(247,247,247)"
           ],
           [
            0.6,
            "rgb(209,229,240)"
           ],
           [
            0.7,
            "rgb(146,197,222)"
           ],
           [
            0.8,
            "rgb(67,147,195)"
           ],
           [
            0.9,
            "rgb(33,102,172)"
           ],
           [
            1,
            "rgb(5,48,97)"
           ]
          ],
          "showscale": true,
          "size": 8
         },
         "mode": "markers",
         "text": [
          "abstract",
          "adapter",
          "analog",
          "art",
          "baby",
          "bath",
          "battery",
          "bedsheet",
          "black",
          "blanket",
          "blue",
          "box",
          "boy",
          "brown",
          "casual",
          "cell",
          "ceramic",
          "charger",
          "cm",
          "color",
          "combo",
          "comforter",
          "cotton",
          "cover",
          "craft",
          "cream",
          "curtain",
          "cushion",
          "design",
          "digital",
          "door",
          "double",
          "dress",
          "eyelet",
          "floral",
          "gift",
          "girl",
          "gold",
          "green",
          "home",
          "hp",
          "inch",
          "india",
          "kadhai",
          "kit",
          "lapguard",
          "laptop",
          "led",
          "light",
          "maximum",
          "men",
          "mini",
          "ml",
          "mouse",
          "mug",
          "multicolor",
          "orange",
          "pack",
          "pad",
          "pavilion",
          "pc",
          "pink",
          "plain",
          "polyester",
          "portable",
          "print",
          "printed",
          "printland",
          "prithish",
          "quilt",
          "red",
          "rockmantra",
          "router",
          "self",
          "series",
          "set",
          "shape",
          "showpiece",
          "single",
          "skin",
          "sonata",
          "sticker",
          "table",
          "time",
          "towel",
          "usb",
          "wall",
          "watch",
          "white",
          "wireless",
          "woman"
         ],
         "type": "scatter",
         "x": {
          "bdata": "3zLoAvBXjD+VzJqsSuVyP3GS2s0TE6c/J6ndPDFxcT9MYO7gKhShP7t9TNvJKXo/cgtBmi/6fz9yC0GaL/pvP946vPQ9K4I/lcyarErlgj+WyLCzo/uHP3ILQZov+m8/TVqPa7C1mD+VzJqsSuVyP3ILQZov+m8/3jq89D0rgj/fMugC8FecPyep3TwxcXE/J6dowF38oz/fNtL7lkF3P9679rKn5aA/BOiDKhaGfj8np2jAXfyTPyep3TwxcYE/J6ndPDFxcT8D8FccZFl0P5bExrr8EX0/KaEJS+Odez8D8FccZFmEP7t9TNvJKXo/3zbS+5ZBdz+WxMa6/BGNP3ILQZov+n8/KaEJS+Odez9MXnlkV5+DP3AX/4Qkt4A/3zRdf8PMmT8E6IMqFoZ+PwPwVxxkWXQ/3zbS+5ZBdz+7fUzbySl6PwPwVxxkWXQ/J6ndPDFxcT9yC0GaL/p/P3ETFYx9zXU/cgtBmi/6bz+WxMa6/BGNPyil80OKh4Y/lsiws6P7hz9wF/+EJLeAP98y6ALwV5w/cRMVjH3NdT8D8FccZFl0P3ILQZov+m8/KaEJS+Odmz+6gTbUcBOFP3ILQZov+m8/J6ndPDFxcT+VzJqsSuVyP5XMmqxK5XI/cRMVjH3NdT8D8FccZFl0P5XMmqxK5XI/BOiDKhaGfj8nqd08MXFxPyep3TwxcYE/uoE21HAThT+VzJqsSuVyP5XMmqxK5YI/cgtBmi/6fz+WxMa6/BF9P3ILQZov+n8/3zbS+5ZBdz9yC0GaL/pvP3ILQZov+m8/A22o4SYqqD8D8FccZFl0PwNxktrNE6M/lc4PKR5akD+VzJqsSuVyP3AX/4Qkt4A/lcyarErlgj+VzJqsSuVyPwPwVxxkWXQ/KKXzQ4qHhj9xExWMfc2VP3ETFYx9zXU/u/wRHWBvqz8nqd08MXFxPyep3TwxcXE/TF55ZFefkz8=",
          "dtype": "f8"
         },
         "y": {
          "bdata": "/x/o/eLuhz8RlmpGsyB1P84K6bapiaM/3pYfH6kceD+qC1i9LKWfP8+dVL4a3X4/kuvzlTmXej/YuMaAyA9yP33IKfH+94Q/33XHjhLCgj9Cihw+lXSIP3REwu+tLnc/2OmzBZrZlz9sRSnvPfdyPzWOJrzqYnM/3jjUUgRrfT/8e2d387aZP4POfMRwsHI/7sLQKjxIpT/dp9GPxMd6P63i8kkp4aE/oETlmKyfej+NNx1Ex8WTPwAH+TmvZ4U/Wko1NGnKdD+hOMcq8JR9P+UJkqPs13U/3ixk6xkOgD9TP74TZC2DP3mYaBb9EX8/sS9qa2Kucj+u6rYJyTeJP/5TKt0m6II/8J1UtlPPdD9Mux9uvRyCPxwfWNhofoI/MYgCg1EEmD8VjyHG502APxZEJAYp8Hc/S9aEk9MjeD9sxWv60lF5P31vDBNIWnk//cpn5KzDdT+k4Ly8wwGNP4K6oGS0sX0/HFAAz7SvbT9bjXFhDYGFP2MySlG2fIc/h2AbmPH7gz8PXBvY2GuCP88tLdn3bJs/EL2UfO8EeT+hNub6ZUJ5Pz6rsUWS9Wc/YQOpDc6UmD/kOgiTH6GDP/9oLNdxQXM/8C5MuchWej+t9nwIxRtwP4/WHsvsqW4/0yYugNBjez+3jUCbsW91P9ugB/Zh1nU/bt4Rxz3KeD8dNAixs9RyP/oaxSvPXYI/n+K5Nf5nhj//PNhUPhl5P7GGrKyEe4M/tez/CSaOez9MBKcNO6p/PwlqiPccwoI/xFp8OzqCgT+UQfeMXOBtP39Wwrg5v3A/6g1KeF0xpj8E+Qe872lxP0ZKiMnXtqQ/GIJ1Mu/NjD+/EzXX7WtrP+p+pKu6GoQ/GSYJalChhT+28k1Q0zJ4P2fD2La/Wnc/3+WlduOViT/72HYezSKTP7XygaZ9xXs/rRj2bim1pT/of4D1NllyP+a84oQYl3g/LAAd0XhYlD8=",
          "dtype": "f8"
         }
        },
        {
         "line": {
          "color": "gray",
          "dash": "dash"
         },
         "mode": "lines",
         "name": "Equal Weight",
         "type": "scatter",
         "x": [
          0,
          0.053584102200141946
         ],
         "y": [
          0,
          0.053584102200141946
         ]
        }
       ],
       "layout": {
        "height": 600,
        "showlegend": true,
        "template": {
         "data": {
          "bar": [
           {
            "error_x": {
             "color": "#2a3f5f"
            },
            "error_y": {
             "color": "#2a3f5f"
            },
            "marker": {
             "line": {
              "color": "#E5ECF6",
              "width": 0.5
             },
             "pattern": {
              "fillmode": "overlay",
              "size": 10,
              "solidity": 0.2
             }
            },
            "type": "bar"
           }
          ],
          "barpolar": [
           {
            "marker": {
             "line": {
              "color": "#E5ECF6",
              "width": 0.5
             },
             "pattern": {
              "fillmode": "overlay",
              "size": 10,
              "solidity": 0.2
             }
            },
            "type": "barpolar"
           }
          ],
          "carpet": [
           {
            "aaxis": {
             "endlinecolor": "#2a3f5f",
             "gridcolor": "white",
             "linecolor": "white",
             "minorgridcolor": "white",
             "startlinecolor": "#2a3f5f"
            },
            "baxis": {
             "endlinecolor": "#2a3f5f",
             "gridcolor": "white",
             "linecolor": "white",
             "minorgridcolor": "white",
             "startlinecolor": "#2a3f5f"
            },
            "type": "carpet"
           }
          ],
          "choropleth": [
           {
            "colorbar": {
             "outlinewidth": 0,
             "ticks": ""
            },
            "type": "choropleth"
           }
          ],
          "contour": [
           {
            "colorbar": {
             "outlinewidth": 0,
             "ticks": ""
            },
            "colorscale": [
             [
              0,
              "#0d0887"
             ],
             [
              0.1111111111111111,
              "#46039f"
             ],
             [
              0.2222222222222222,
              "#7201a8"
             ],
             [
              0.3333333333333333,
              "#9c179e"
             ],
             [
              0.4444444444444444,
              "#bd3786"
             ],
             [
              0.5555555555555556,
              "#d8576b"
             ],
             [
              0.6666666666666666,
              "#ed7953"
             ],
             [
              0.7777777777777778,
              "#fb9f3a"
             ],
             [
              0.8888888888888888,
              "#fdca26"
             ],
             [
              1,
              "#f0f921"
             ]
            ],
            "type": "contour"
           }
          ],
          "contourcarpet": [
           {
            "colorbar": {
             "outlinewidth": 0,
             "ticks": ""
            },
            "type": "contourcarpet"
           }
          ],
          "heatmap": [
           {
            "colorbar": {
             "outlinewidth": 0,
             "ticks": ""
            },
            "colorscale": [
             [
              0,
              "#0d0887"
             ],
             [
              0.1111111111111111,
              "#46039f"
             ],
             [
              0.2222222222222222,
              "#7201a8"
             ],
             [
              0.3333333333333333,
              "#9c179e"
             ],
             [
              0.4444444444444444,
              "#bd3786"
             ],
             [
              0.5555555555555556,
              "#d8576b"
             ],
             [
              0.6666666666666666,
              "#ed7953"
             ],
             [
              0.7777777777777778,
              "#fb9f3a"
             ],
             [
              0.8888888888888888,
              "#fdca26"
             ],
             [
              1,
              "#f0f921"
             ]
            ],
            "type": "heatmap"
           }
          ],
          "histogram": [
           {
            "marker": {
             "pattern": {
              "fillmode": "overlay",
              "size": 10,
              "solidity": 0.2
             }
            },
            "type": "histogram"
           }
          ],
          "histogram2d": [
           {
            "colorbar": {
             "outlinewidth": 0,
             "ticks": ""
            },
            "colorscale": [
             [
              0,
              "#0d0887"
             ],
             [
              0.1111111111111111,
              "#46039f"
             ],
             [
              0.2222222222222222,
              "#7201a8"
             ],
             [
              0.3333333333333333,
              "#9c179e"
             ],
             [
              0.4444444444444444,
              "#bd3786"
             ],
             [
              0.5555555555555556,
              "#d8576b"
             ],
             [
              0.6666666666666666,
              "#ed7953"
             ],
             [
              0.7777777777777778,
              "#fb9f3a"
             ],
             [
              0.8888888888888888,
              "#fdca26"
             ],
             [
              1,
              "#f0f921"
             ]
            ],
            "type": "histogram2d"
           }
          ],
          "histogram2dcontour": [
           {
            "colorbar": {
             "outlinewidth": 0,
             "ticks": ""
            },
            "colorscale": [
             [
              0,
              "#0d0887"
             ],
             [
              0.1111111111111111,
              "#46039f"
             ],
             [
              0.2222222222222222,
              "#7201a8"
             ],
             [
              0.3333333333333333,
              "#9c179e"
             ],
             [
              0.4444444444444444,
              "#bd3786"
             ],
             [
              0.5555555555555556,
              "#d8576b"
             ],
             [
              0.6666666666666666,
              "#ed7953"
             ],
             [
              0.7777777777777778,
              "#fb9f3a"
             ],
             [
              0.8888888888888888,
              "#fdca26"
             ],
             [
              1,
              "#f0f921"
             ]
            ],
            "type": "histogram2dcontour"
           }
          ],
          "mesh3d": [
           {
            "colorbar": {
             "outlinewidth": 0,
             "ticks": ""
            },
            "type": "mesh3d"
           }
          ],
          "parcoords": [
           {
            "line": {
             "colorbar": {
              "outlinewidth": 0,
              "ticks": ""
             }
            },
            "type": "parcoords"
           }
          ],
          "pie": [
           {
            "automargin": true,
            "type": "pie"
           }
          ],
          "scatter": [
           {
            "fillpattern": {
             "fillmode": "overlay",
             "size": 10,
             "solidity": 0.2
            },
            "type": "scatter"
           }
          ],
          "scatter3d": [
           {
            "line": {
             "colorbar": {
              "outlinewidth": 0,
              "ticks": ""
             }
            },
            "marker": {
             "colorbar": {
              "outlinewidth": 0,
              "ticks": ""
             }
            },
            "type": "scatter3d"
           }
          ],
          "scattercarpet": [
           {
            "marker": {
             "colorbar": {
              "outlinewidth": 0,
              "ticks": ""
             }
            },
            "type": "scattercarpet"
           }
          ],
          "scattergeo": [
           {
            "marker": {
             "colorbar": {
              "outlinewidth": 0,
              "ticks": ""
             }
            },
            "type": "scattergeo"
           }
          ],
          "scattergl": [
           {
            "marker": {
             "colorbar": {
              "outlinewidth": 0,
              "ticks": ""
             }
            },
            "type": "scattergl"
           }
          ],
          "scattermap": [
           {
            "marker": {
             "colorbar": {
              "outlinewidth": 0,
              "ticks": ""
             }
            },
            "type": "scattermap"
           }
          ],
          "scattermapbox": [
           {
            "marker": {
             "colorbar": {
              "outlinewidth": 0,
              "ticks": ""
             }
            },
            "type": "scattermapbox"
           }
          ],
          "scatterpolar": [
           {
            "marker": {
             "colorbar": {
              "outlinewidth": 0,
              "ticks": ""
             }
            },
            "type": "scatterpolar"
           }
          ],
          "scatterpolargl": [
           {
            "marker": {
             "colorbar": {
              "outlinewidth": 0,
              "ticks": ""
             }
            },
            "type": "scatterpolargl"
           }
          ],
          "scatterternary": [
           {
            "marker": {
             "colorbar": {
              "outlinewidth": 0,
              "ticks": ""
             }
            },
            "type": "scatterternary"
           }
          ],
          "surface": [
           {
            "colorbar": {
             "outlinewidth": 0,
             "ticks": ""
            },
            "colorscale": [
             [
              0,
              "#0d0887"
             ],
             [
              0.1111111111111111,
              "#46039f"
             ],
             [
              0.2222222222222222,
              "#7201a8"
             ],
             [
              0.3333333333333333,
              "#9c179e"
             ],
             [
              0.4444444444444444,
              "#bd3786"
             ],
             [
              0.5555555555555556,
              "#d8576b"
             ],
             [
              0.6666666666666666,
              "#ed7953"
             ],
             [
              0.7777777777777778,
              "#fb9f3a"
             ],
             [
              0.8888888888888888,
              "#fdca26"
             ],
             [
              1,
              "#f0f921"
             ]
            ],
            "type": "surface"
           }
          ],
          "table": [
           {
            "cells": {
             "fill": {
              "color": "#EBF0F8"
             },
             "line": {
              "color": "white"
             }
            },
            "header": {
             "fill": {
              "color": "#C8D4E3"
             },
             "line": {
              "color": "white"
             }
            },
            "type": "table"
           }
          ]
         },
         "layout": {
          "annotationdefaults": {
           "arrowcolor": "#2a3f5f",
           "arrowhead": 0,
           "arrowwidth": 1
          },
          "autotypenumbers": "strict",
          "coloraxis": {
           "colorbar": {
            "outlinewidth": 0,
            "ticks": ""
           }
          },
          "colorscale": {
           "diverging": [
            [
             0,
             "#8e0152"
            ],
            [
             0.1,
             "#c51b7d"
            ],
            [
             0.2,
             "#de77ae"
            ],
            [
             0.3,
             "#f1b6da"
            ],
            [
             0.4,
             "#fde0ef"
            ],
            [
             0.5,
             "#f7f7f7"
            ],
            [
             0.6,
             "#e6f5d0"
            ],
            [
             0.7,
             "#b8e186"
            ],
            [
             0.8,
             "#7fbc41"
            ],
            [
             0.9,
             "#4d9221"
            ],
            [
             1,
             "#276419"
            ]
           ],
           "sequential": [
            [
             0,
             "#0d0887"
            ],
            [
             0.1111111111111111,
             "#46039f"
            ],
            [
             0.2222222222222222,
             "#7201a8"
            ],
            [
             0.3333333333333333,
             "#9c179e"
            ],
            [
             0.4444444444444444,
             "#bd3786"
            ],
            [
             0.5555555555555556,
             "#d8576b"
            ],
            [
             0.6666666666666666,
             "#ed7953"
            ],
            [
             0.7777777777777778,
             "#fb9f3a"
            ],
            [
             0.8888888888888888,
             "#fdca26"
            ],
            [
             1,
             "#f0f921"
            ]
           ],
           "sequentialminus": [
            [
             0,
             "#0d0887"
            ],
            [
             0.1111111111111111,
             "#46039f"
            ],
            [
             0.2222222222222222,
             "#7201a8"
            ],
            [
             0.3333333333333333,
             "#9c179e"
            ],
            [
             0.4444444444444444,
             "#bd3786"
            ],
            [
             0.5555555555555556,
             "#d8576b"
            ],
            [
             0.6666666666666666,
             "#ed7953"
            ],
            [
             0.7777777777777778,
             "#fb9f3a"
            ],
            [
             0.8888888888888888,
             "#fdca26"
            ],
            [
             1,
             "#f0f921"
            ]
           ]
          },
          "colorway": [
           "#636efa",
           "#EF553B",
           "#00cc96",
           "#ab63fa",
           "#FFA15A",
           "#19d3f3",
           "#FF6692",
           "#B6E880",
           "#FF97FF",
           "#FECB52"
          ],
          "font": {
           "color": "#2a3f5f"
          },
          "geo": {
           "bgcolor": "white",
           "lakecolor": "white",
           "landcolor": "#E5ECF6",
           "showlakes": true,
           "showland": true,
           "subunitcolor": "white"
          },
          "hoverlabel": {
           "align": "left"
          },
          "hovermode": "closest",
          "mapbox": {
           "style": "light"
          },
          "paper_bgcolor": "white",
          "plot_bgcolor": "#E5ECF6",
          "polar": {
           "angularaxis": {
            "gridcolor": "white",
            "linecolor": "white",
            "ticks": ""
           },
           "bgcolor": "#E5ECF6",
           "radialaxis": {
            "gridcolor": "white",
            "linecolor": "white",
            "ticks": ""
           }
          },
          "scene": {
           "xaxis": {
            "backgroundcolor": "#E5ECF6",
            "gridcolor": "white",
            "gridwidth": 2,
            "linecolor": "white",
            "showbackground": true,
            "ticks": "",
            "zerolinecolor": "white"
           },
           "yaxis": {
            "backgroundcolor": "#E5ECF6",
            "gridcolor": "white",
            "gridwidth": 2,
            "linecolor": "white",
            "showbackground": true,
            "ticks": "",
            "zerolinecolor": "white"
           },
           "zaxis": {
            "backgroundcolor": "#E5ECF6",
            "gridcolor": "white",
            "gridwidth": 2,
            "linecolor": "white",
            "showbackground": true,
            "ticks": "",
            "zerolinecolor": "white"
           }
          },
          "shapedefaults": {
           "line": {
            "color": "#2a3f5f"
           }
          },
          "ternary": {
           "aaxis": {
            "gridcolor": "white",
            "linecolor": "white",
            "ticks": ""
           },
           "baxis": {
            "gridcolor": "white",
            "linecolor": "white",
            "ticks": ""
           },
           "bgcolor": "#E5ECF6",
           "caxis": {
            "gridcolor": "white",
            "linecolor": "white",
            "ticks": ""
           }
          },
          "title": {
           "x": 0.05
          },
          "xaxis": {
           "automargin": true,
           "gridcolor": "white",
           "linecolor": "white",
           "ticks": "",
           "title": {
            "standoff": 15
           },
           "zerolinecolor": "white",
           "zerolinewidth": 2
          },
          "yaxis": {
           "automargin": true,
           "gridcolor": "white",
           "linecolor": "white",
           "ticks": "",
           "title": {
            "standoff": 15
           },
           "zerolinecolor": "white",
           "zerolinewidth": 2
          }
         }
        },
        "title": {
         "text": "TF-IDF vs BoW Feature Importance"
        },
        "xaxis": {
         "title": {
          "text": "BoW Weight (normalized)"
         }
        },
        "yaxis": {
         "title": {
          "text": "TF-IDF Weight (normalized)"
         }
        }
       }
      }
     },
     "metadata": {},
     "output_type": "display_data"
    }
   ],
   "source": [
    "\n",
    "# Show comparison\n",
    "comparison_fig = encoder.plot_feature_comparison(threshold=0.98)\n",
    "print(\"\\nFeature Comparison:\")\n",
    "comparison_fig.show()\n",
    "\n",
    "# Plot scatter comparison\n",
    "scatter_fig = encoder.plot_scatter_comparison()\n",
    "print(\"\\nTF-IDF vs BoW Scatter Comparison:\")\n",
    "scatter_fig.show()"
   ]
  },
  {
   "cell_type": "markdown",
   "id": "e8d19e2a",
   "metadata": {},
   "source": [
    "### 3.3 Dimensionality Reduction & Visualization\n",
    "**Analysis**:\n",
    "- Apply PCA/t-SNE\n",
    "- Visualize category distribution\n",
    "- Evaluate cluster separation"
   ]
  },
  {
   "cell_type": "code",
   "execution_count": 9,
   "id": "83e8ef75",
   "metadata": {},
   "outputs": [
    {
     "name": "stdout",
     "output_type": "stream",
     "text": [
      "\n",
      "Applying PCA to product name features...\n"
     ]
    },
    {
     "data": {
      "application/vnd.plotly.v1+json": {
       "config": {
        "plotlyServerURL": "https://plot.ly"
       },
       "data": [
        {
         "hovertemplate": "Category=Home Furnishing<br>PC1=%{x}<br>PC2=%{y}<extra></extra>",
         "legendgroup": "Home Furnishing",
         "marker": {
          "color": "#636efa",
          "symbol": "circle"
         },
         "mode": "markers",
         "name": "Home Furnishing",
         "showlegend": true,
         "type": "scattergl",
         "x": {
          "bdata": "+JV2VXx6Jr83qpBBwjdrv7CHrpYIdj6/AN+brAPMmz84bvAo6X8zP9Tx6tdisUA/FlmRonYLdL8WWZGidgt0v5QADN7xDnU/lAAM3vEOdT/OIi+U5N+PP0c+3NGa9p8/Vt11UjN5UL9W3XVSM3lQvzJdcfdV4U6/QCegRenyT79W3XVSM3lQv2OlayL0IVG/YT+XjLb3kD8P8rpa0AtTvw/yulrQC1O/6TmhGgERnj8WWZGidgt0vyMxCIE9q22/6ts3zmZxVb8gwuEafPAVPxiKYDAN0yQ/KGGXkWgbIb8md9m/OKlOv1GEYqKFC5E/PSOWlmWyij8H6pjLHQ6XP+hsAzqJd3e/FlmRonYLdL8447GyIMMwv0iBAKe9IYM/SDmZ1KqHNT+KMoYN4lGAPyYYy4GT7kQ/AkqcAvy2N78Cev6h3Ag7v/oRUCqsNmY/ED8sZm6oZb+6RfYrJ/FRv+PnpIEm+VO/1p23l477hT8cdKlwsYJWv4AZAqhdxla/9vs1ROp2Vz8L95pPfh5Ev+Y9rfHn/V8/aY8ZpRBwUL9Sx5eCmFtMv+Y9rfHn/V8/5j2t8ef9Xz+s9uRy7IJsP/0b6LTUwGE/MvM6UmBbb7/CDIo/kiVfP7JOZiWJcl6/CgeFEbrbVL+sRSril4kxP5KjH3aD5NI/TS/l7q2fzT9Vvx3mzd3NPwfqmMsdDpc/R59+EwYlUr9SILiOoHF2P6l3iOiVynQ/T2GqEs5Lcj/ohlhusO99P4JRN24X7UQ/RuoI8f7tS780DQc+OByKvx4K4zBHNk6/lSTY9u1DUL/j56SBJvlTv5/Uba/hsle/dFaiQBagUL89qYycisxhP+oBMHGmAGu/tBi813AiPT9GbjQAH+dmP47JiftBRVa/8vYNZj2RU78Sfat75EFFP7pF9isn8VG/4+ekgSb5U79WNPe4xldWP+PnpIEm+VO/tuYwvxy9lT9Hn34TBiVSv7bmML8cvZU/R59+EwYlUr9WNPe4xldWP7pF9isn8VG/vKbO+8nWkz9WNPe4xldWP1Y097jGV1Y/R6FYOpVQmT+25jC/HL2VP1Y097jGV1Y/VjT3uMZXVj+25jC/HL2VP4Ng+kWe25g/6OQqwvuIQD/COrYog0heP1Y097jGV1Y/VjT3uMZXVj+25jC/HL2VP5R0dz7uyHM/ukX2KyfxUb9WNPe4xldWPyQzOvQkd5U/wjq2KINIXj9ttFY/6OBnv5tIWwmTOpW/HHSpcLGCVr8L95pPfh5Ev8isDMTxSlC/G34k3chwYD8U33IYPulNv6uy1qkfA1O/vdAS3piKUr+xCM+oCCuRv1vPsKKFnYU/S/3+rCGETL8wu3vyxnpDP1LHl4KYW0y/Ml1x91XhTr8PdrfNsQrHP1aD2vmDLFi/2gCbRIfrcr/KNeL72/ROvwDfm6wDzJs//OiuBmdtcj/o+iSpbddPP228yhdKq3C/8KCHN7A1U78P8rpa0AtTv0wBKHOAFiu/D/K6WtALU7+9Q8DlFjOCP0FfW+LCdWC/BnqKOjBGML9mSTfNe3mFP/yYJuahCoE/iBPh+8wDab9Pc/b2nrJiv/yYJuahCoE/",
          "dtype": "f8"
         },
         "xaxis": "x",
         "y": {
          "bdata": "eH3yssGeqz/cpAHlKYu2P0LxocEWHLg/yhfM9J0P2D98LB1tpsm2P2koogwOO7g/GAiSC9n2rD8YCJIL2fasP5ycw6ZJ9Kg/nJzDpkn0qD+L7GNpIxDRP8PdE+RpE9E/w6Kq8300rT/DoqrzfTStP62x4xrNma4/FVqiTINGqz/DoqrzfTStP3oQ3n2Goqs/NZErOfrJpT/Zel+llWanP9l6X6WVZqc/rN4MZdznxT8YCJIL2fasPytlBNpCarY/5AgCUbSipz+eB8LM86+2PwL9Nlfj2bU/xCAOasXZtD+5qrI7tq+lP0YtZOsH4c8/BpsJNcMt0D+jH03OPbjRPw7AvywjTKs/GAiSC9n2rD+qKNVScY6pP5IgzqwdP6c/ikc1v0FYrT9+uButikSnP/5/4K/3B68/diEm2binqT++08f4FaioP268NZrWYKw/lgUTnV9drj+CmP5Yfx6sPwMZ2RCRyag/XCj1dYGXqD/RmN0N2a6rP94mBPEQbao/rnpYXNZYrz+oJQfZWMOuP2q++tWOHa8/Fr+uk/Hjqj+50yo0VnSuP2q++tWOHa8/ar761Y4drz9WSaUXbQ+wP8bUH13eoKw/Qlwy9wnJrz/o/n+0F8iuP2p+urct9qk/7lXA9gFtqj9Ru2Ftt8GwP9TQnd0r/MO/Q9sltWZUvL918N7Qtea4v6MfTc49uNE/FqExVUhBqz8FteT6qPysP+NpLiS5P64/jpC5vq1xrT9psnuddcOtP4a0xQg1ILE/WVu7VD8nrz9NYZnGF+2kP9LG9xzkp6w/6Jl+Fjn9rT8DGdkQkcmoP3rAU4LQ964/Jj+agh1Lrz8T10Ea91+vPxYalNui1bE/4q8gx7yXsj+yzi58eQexP8G5lfc/6K4/5E6Lsek/rj/a9Vu4RoSyP4KY/lh/Hqw/AxnZEJHJqD9UO+cp3UC9PwMZ2RCRyag/Oydcbw661D8WoTFVSEGrPzsnXG8OutQ/FqExVUhBqz9UO+cp3UC9P4KY/lh/Hqw/tNO/uEgVpj9UO+cp3UC9P1Q75yndQL0/4Y0POvKt1T87J1xvDrrUP1Q75yndQL0/VDvnKd1AvT87J1xvDrrUP5GG50VPzNA/Js95tIORsT+dIMh6ZBO/P1Q75yndQL0/VDvnKd1AvT87J1xvDrrUP3y/TqOiS7o/gpj+WH8erD9UO+cp3UC9P0mBOB1fCqE/nSDIemQTvz+gi4+Qw9KwPwy1VUgT5LU/0ZjdDdmuqz+oJQfZWMOuP3wIScdg5Ks/rTThqU0srj8KsXqqOpauP85pV0mIMq8/pWPUNgF9rD9kE1qJoMqfPwiDhgHBUqk/D9D8cF5Xrz98rNZwUpiwP7nTKjRWdK4/rbHjGs2Zrj8PhVL4Y6qxv9A3Ji0etKg/NUjKJBJFrD/yP74ZT4CkP8oXzPSdD9g/YP+aoWDVpT8w3BAXUuKrP7Dijtf6UKw/Zq8wpZ1boT/Zel+llWanPyAgInB7nbU/2XpfpZVmpz+QaZIRtDCnP8P2BpiXoa0/4rlsmykbqj8yJpD/+IynP+tOMs+vB6c/GCDlvKQGqz9yiinsAqSsP+tOMs+vB6c/",
          "dtype": "f8"
         },
         "yaxis": "y"
        },
        {
         "hovertemplate": "Category=Baby Care<br>PC1=%{x}<br>PC2=%{y}<extra></extra>",
         "legendgroup": "Baby Care",
         "marker": {
          "color": "#EF553B",
          "symbol": "circle"
         },
         "mode": "markers",
         "name": "Baby Care",
         "showlegend": true,
         "type": "scattergl",
         "x": {
          "bdata": "VjT3uMZXVj+25jC/HL2VP9FxEHMtmp2/gEqA0zlxor/woIc3sDVTv/CghzewNVO/vpc650LRs79ilH9xEXCtv76XOudC0bO/wV3ekdANl79S1qKswVBzv8LSgd1F9LK/8KCHN7A1U79YPVU8pQiAv+dcq3XE07K/yfYzULYzlj9i5WLcSzW9v7pzEMo+TL6/mgUO1c9rtr+WxIJGuMy3v7pzEMo+TL6/unMQyj5Mvr9i5WLcSzW9v9wruXL3eLC/3Cu5cvd4sL9qtFeyTn2wv9wruXL3eLC/rJ+LaZGTsL9k66sbN7CMP/CghzewNVO/Tqx7jcPsr798FiclJHylv76XOudC0bO/fBYnJSR8pb/cK7ly93iwv2LlYtxLNb2/3Cu5cvd4sL+88ayW+2qmv1f2HOGJ2bK/Gq5/z6M+s78fDuiEnLG3v8I6tiiDSF4/vpc650LRs790i/PAzoatv3azRy/oO6y/jLy8dLRapr/cK7ly93iwv/CghzewNVO/8KCHN7A1U7/woIc3sDVTv9wruXL3eLC/3Cu5cvd4sL/cK7ly93iwv+dcq3XE07K/YuVi3Es1vb9i5WLcSzW9v/CghzewNVO/vpc650LRs78jg+pSopmCvwO7znqve7G/3Cu5cvd4sL+E2sGXQZOfvx8O6IScsbe/6tpt+K8prb+knAS6hLKqv4KL/JwqRaq/6tpt+K8prb+gS+VbB9itv7wZPLrc6aG/NBivymD1o7+MvLx0tFqmv9wruXL3eLC/3Cu5cvd4sL/cK7ly93iwv9wruXL3eLC/unMQyj5Mvr9WNPe4xldWP/5yqe3gW4a/8KCHN7A1U79WNPe4xldWP/CghzewNVO/nBSD5VU7d7+25jC/HL2VP8xkte39vmC/jLy8dLRapr9WNPe4xldWP/CghzewNVO/q9bEaLGnhz9WNPe4xldWP7bmML8cvZU/8KCHN7A1U78lG3evvMVev/CghzewNVO/6YKi21E+mT9+SYlV03pTv7pzEMo+TL6/VGV8/6l6X79pm/tVDwd9v9g/iPgznnS/ReW/B1uObb/lu1kqSXlcv0YbQVmGGYQ/DVHYTooSgj9aKYlYOlajvwpH3ai80pO/8KCHN7A1U78Ix/l0RrtRv3wWJyUkfKW/8KCHN7A1U790FN/kcPipv3TQx/JZha+/qD3ahL+imr/woIc3sDVTv8mLwP1IuFO/Jcthr62asL8uuUxiJDiyv/CghzewNVO/MVt9bVSStr8xW31tVJK2vyXLYa+tmrC/GIpgMA3TJD8YimAwDdMkP4LUQhBVw2Y/GIpgMA3TJD+DoOWMxjS0v8NB3GU4DLS/hNHLjsXkpr+6cxDKPky+vy5TFRtu57C/hsEaGPrujj+WxIJGuMy3v7pzEMo+TL6/1rpNgff+q7/woIc3sDVTv/CghzewNVO/vpc650LRs7+nrrzt62CSP7pzEMo+TL6/ZgPvkRhPUj+WxIJGuMy3v4CnzcBlUS6/gKfNwGVRLr+Ap83AZVEuv4CnzcBlUS6/gKfNwGVRLr8AnWLK0FsXv4CnzcBlUS6/gKfNwGVRLr+Ap83AZVEuv4CnzcBlUS6/",
          "dtype": "f8"
         },
         "xaxis": "x",
         "y": {
          "bdata": "VDvnKd1AvT87J1xvDrrUP7QYelirac0/7vhC5eeYzz9mrzClnVuhP2avMKWdW6E/iv9hfHD9sz+g/tqWG6G2P4r/YXxw/bM/wBUNgh0ftz9yh35aGHG4P1CK9BcYics/Zq8wpZ1boT+0eTYhfSarP2frW9McIZE/PA8iKDHY0j+wcBvsTyOpP6u8/8f+Q5A/Qnq9PxXxpT+MZkuzyAGhP6u8/8f+Q5A/q7z/x/5DkD+wcBvsTyOpP2aEYOkJ3bM/ZoRg6Qndsz+1W7Nwa5W2P2aEYOkJ3bM/kCTxkgz/qj8/bSeFhEujP2avMKWdW6E/bN+asupdtD+DFgbzNhe3P4r/YXxw/bM/gxYG8zYXtz9mhGDpCd2zP7BwG+xPI6k/ZoRg6Qndsz8atq47PrKwP66UfnMEs7E/Nk4b5dydpz+Q8z8CF5OiP50gyHpkE78/iv9hfHD9sz8QfMH2WPayP4Qh1N3B57Q/DZX2m2X90z9mhGDpCd2zP2avMKWdW6E/Zq8wpZ1boT9mrzClnVuhP2aEYOkJ3bM/ZoRg6Qndsz9mhGDpCd2zP2frW9McIZE/sHAb7E8jqT+wcBvsTyOpP2avMKWdW6E/iv9hfHD9sz/efUocof+nP6Rhac5IVLY/ZoRg6Qndsz+QfGwJODTMP5DzPwIXk6I/RLpMmnJ2tT8+GG5ALMGyP0KAwUL9IrY/RLpMmnJ2tT9hZUwHiP2hP52kXDhZa9E/x6733mgT0T8NlfabZf3TP2aEYOkJ3bM/ZoRg6Qndsz9mhGDpCd2zP2aEYOkJ3bM/q7z/x/5DkD9UO+cp3UC9PyPg3jD4FsA/Zq8wpZ1boT9UO+cp3UC9P2avMKWdW6E/bkqMIZzSrT87J1xvDrrUPzvKxYx+AbE/DZX2m2X90z9UO+cp3UC9P2avMKWdW6E/tSu4Wy7doj9UO+cp3UC9PzsnXG8OutQ/Zq8wpZ1boT9W6cuOGrm4P2avMKWdW6E/oDnoSTIu0j+kDz6UcanRP6u8/8f+Q5A/Nm7JyJLtqz9WwJZH2ASyP1c/eqTwca8/okfcnLmssT9wPMIQsVCrPzTnMQb6F6o/08AxgIGmpz8g6geIThFhP/gXg/6E6YI/Zq8wpZ1boT9km3ZX8pXUP4MWBvM2F7c/Zq8wpZ1boT/bngNDo2bTP4o7l7ZuTLU/sMFi8saLZT9mrzClnVuhP2bbZWkuH60/WymUTpZglj/gn4YSwoSwP2avMKWdW6E/BMaBg6U5mD8ExoGDpTmYP1splE6WYJY/Av02V+PZtT8C/TZX49m1P0DrH+NXHLQ/Av02V+PZtT9B72yDPfmhPwg4q/gNM6M/AIhH5Rzarj+rvP/H/kOQP7va8+LMNp4/ggZGXtZcoT+MZkuzyAGhP6u8/8f+Q5A/7gP/e2jksT9mrzClnVuhP2avMKWdW6E/iv9hfHD9sz8yEHUuRne2P6u8/8f+Q5A/1gGdJLghuz+MZkuzyAGhPzoKWEtxUaY/OgpYS3FRpj86ClhLcVGmPzoKWEtxUaY/OgpYS3FRpj8OyBnNIfylPzoKWEtxUaY/OgpYS3FRpj86ClhLcVGmPzoKWEtxUaY/",
          "dtype": "f8"
         },
         "yaxis": "y"
        },
        {
         "hovertemplate": "Category=Watches<br>PC1=%{x}<br>PC2=%{y}<extra></extra>",
         "legendgroup": "Watches",
         "marker": {
          "color": "#00cc96",
          "symbol": "circle"
         },
         "mode": "markers",
         "name": "Watches",
         "showlegend": true,
         "type": "scattergl",
         "x": {
          "bdata": "+W/t2iOM17+3fOlaNSPhv5pulI5ZO96/1UNVPXsN1r+3fOlaNSPhvwuChvyr0dq/t3zpWjUj4b+3fOlaNSPhv7d86Vo1I+G/iKp5M5IU1b+3fOlaNSPhv9cJT4GMW9C/TxA0BObW07+3fOlaNSPhv0ycBQd+tsm/C4KG/KvR2r+abpSOWTvev7d86Vo1I+G/1UNVPXsN1r+3fOlaNSPhvx0KY9MVwNW/H4naYmup27/XCU+BjFvQv0Rq9Jt0GMu/t3zpWjUj4b9QiHDmDm/Qv7d86Vo1I+G/t3zpWjUj4b+AtVo7jvnhvzmnwEjzfN2/XTjAo8jz278K0BrQYxvgvzmnwEjzfN2/CtAa0GMb4L85p8BI83zdv4C1WjuO+eG/5xlSt/4o2r+qUptj9qzQv6pSm2P2rNC/3GV23SFA2b+D0lbMZ+XRv4OwLW2YCty/gLVaO4754b+nlF0SoDvYv7xbPHfjXdq/qlKbY/as0L+DsC1tmArcv3vDC/Qbbti/CtAa0GMb4L+AtVo7jvnhv7xbPHfjXdq/P1N/JVb+4b+qUptj9qzQv7ENExKxx9u/g7AtbZgK3L93hzH1t4vev3eHMfW3i96/d4cx9beL3r+8Wzx3413av7xbPHfjXdq/P1N/JVb+4b81Mm3jcLXTv1IqSN/gENy/vFs8d+Nd2r+xDRMSscfbv3q5BA9Th9u/d4cx9beL3r/cZXbdIUDZv4C1WjuO+eG/hKrjPC5E3r+AtVo7jvnhv3eHMfW3i96/3GV23SFA2b97wwv0G27Yv4Sq4zwuRN6/d4cx9beL3r/5b+3aI4zXv4C1WjuO+eG/g7AtbZgK3L+qUptj9qzQv1CIcOYOb9C/H4naYmup27+8Wzx3413av3vDC/Qbbti/gLVaO4754b+AtVo7jvnhv7ENExKxx9u/CtAa0GMb4L8K0BrQYxvgv7ENExKxx9u/gLVaO4754b+EquM8LkTevwrQGtBjG+C/HO+SObhW2r8K23HGDCjVv/lv7dojjNe/CtAa0GMb4L+AtVo7jvnhv7Gu4+ST6dO/GPooWbDE17/0iUZp2xrPv7ENExKxx9u/g7AtbZgK3L+xDRMSscfbv4C1WjuO+eG/CtAa0GMb4L9dOMCjyPPbvwrQGtBjG+C/3GV23SFA2b9L5h6AMS7XvwrQGtBjG+C/qlKbY/as0L8A7JNFnz/Vv4OwLW2YCty/CtAa0GMb4L+AtVo7jvnhv4Sq4zwuRN6/g9JWzGfl0b9Wms8hXYHXvwrQGtBjG+C/P1N/JVb+4b+AtVo7jvnhv4Sq4zwuRN6/g7AtbZgK3L+AtVo7jvnhvxp4K8H4yNy/t3zpWjUj4b8K0BrQYxvgvzmnwEjzfN2/tXIWPETMzL8K0BrQYxvgv4n4GVMbCNu/ifgZUxsI27+J+BlTGwjbvwrQGtBjG+C/CtAa0GMb4L8K0BrQYxvgv4C1WjuO+eG/ifgZUxsI279TNgMWzPjRv4n4GVMbCNu/ifgZUxsI27+AtVo7jvnhv4C1WjuO+eG/TZTasHYo3r+AtVo7jvnhv3J8AdI4nuC/CtAa0GMb4L+AtVo7jvnhvyBoefNpwta/",
          "dtype": "f8"
         },
         "xaxis": "x",
         "y": {
          "bdata": "TBW7tZ9q0r+LadGfPC3cv1NFiay6S9i/tDZJZWGb0L+LadGfPC3cv0lf7NUD69S/i2nRnzwt3L+LadGfPC3cv4tp0Z88Ldy/9PD1pjkTzr+LadGfPC3cv2wWbH2rcMa/Bo/31aLjyb+LadGfPC3cvztbQoTGOL+/SV/s1QPr1L9TRYmsukvYv4tp0Z88Ldy/tDZJZWGb0L+LadGfPC3cv8QPYzz1Ks2/YHwncmq9079sFmx9q3DGv1FWvAkP47y/i2nRnzwt3L9wl6EJF8/Cv4tp0Z88Ldy/i2nRnzwt3L8hsELr+v3ev4bscUqFvta/qfgDa1jO1L/wASjFEaXbv4bscUqFvta/8AEoxRGl27+G7HFKhb7WvyGwQuv6/d6/oL7NbrIx1r80rvrvnPjJvzSu+u+c+Mm/DhPb+KUX1b9CVk+iefDJv/Sj3PmgzNe/IbBC6/r93r8EEyR2InrUv/Kc4f8sdda/NK7675z4yb/0o9z5oMzXv/Ot/Soeu9S/8AEoxRGl278hsELr+v3ev/Kc4f8sdda//Th397gK3780rvrvnPjJv9H6Rl4xede/9KPc+aDM17/AduxyiQjav8B27HKJCNq/wHbscokI2r/ynOH/LHXWv/Kc4f8sdda//Th397gK37+qznQj1QrPv+q6vSZAcde/8pzh/yx11r/R+kZeMXnXv7hSrf1dHte/wHbscokI2r8OE9v4pRfVvyGwQuv6/d6/9zt4V2Cw2b8hsELr+v3ev8B27HKJCNq/DhPb+KUX1b/zrf0qHrvUv/c7eFdgsNm/wHbscokI2r9MFbu1n2rSvyGwQuv6/d6/9KPc+aDM1780rvrvnPjJv3CXoQkXz8K/YHwncmq907/ynOH/LHXWv/Ot/Soeu9S/IbBC6/r93r8hsELr+v3ev9H6Rl4xede/8AEoxRGl27/wASjFEaXbv9H6Rl4xede/IbBC6/r93r/3O3hXYLDZv/ABKMURpdu/4k015c0m1r///i59i+HQv0wVu7WfatK/8AEoxRGl278hsELr+v3ev9Jz1Uh5kc+/14/wvQqc07/gceQ+Sr/Kv9H6Rl4xede/9KPc+aDM17/R+kZeMXnXvyGwQuv6/d6/8AEoxRGl27+p+ANrWM7Uv/ABKMURpdu/DhPb+KUX1b+6yT+pyBjVv/ABKMURpdu/NK7675z4yb9+My2BZgDNv/Sj3PmgzNe/8AEoxRGl278hsELr+v3ev/c7eFdgsNm/QlZPonnwyb9ik0KSwjzRv/ABKMURpdu//Th397gK378hsELr+v3ev/c7eFdgsNm/9KPc+aDM178hsELr+v3ev317kDqRTta/i2nRnzwt3L/wASjFEaXbv4bscUqFvta/FNnl1yIgxb/wASjFEaXbv+dliWSyF9e/52WJZLIX17/nZYlkshfXv/ABKMURpdu/8AEoxRGl27/wASjFEaXbvyGwQuv6/d6/52WJZLIX178sxgPmk6LNv+dliWSyF9e/52WJZLIX178hsELr+v3evyGwQuv6/d6/CMz9sc54178hsELr+v3evwR7zF56mty/8AEoxRGl278hsELr+v3evxXFmwQtMdO/",
          "dtype": "f8"
         },
         "yaxis": "y"
        },
        {
         "hovertemplate": "Category=Home Decor & Festive Needs<br>PC1=%{x}<br>PC2=%{y}<extra></extra>",
         "legendgroup": "Home Decor & Festive Needs",
         "marker": {
          "color": "#ab63fa",
          "symbol": "circle"
         },
         "mode": "markers",
         "name": "Home Decor & Festive Needs",
         "showlegend": true,
         "type": "scattergl",
         "x": {
          "bdata": "/YEPNGSxSL/woIc3sDVTvyEEiPwIieg/LL3iHsaPcj+jYjevLuKSPyEEiPwIieg/v05mCmri4D/7rLapHgLiP79OZgpq4uA/v05mCmri4D8hBIj8CInoP79OZgpq4uA/FIX84gX14T8ic+VdI//gPxmDFVWZ3Ns/IQSI/AiJ6D8WOsJ5TdGNPyEEiPwIieg/v05mCmri4D/woIc3sDVTv+BWEA/TBFW/IQSI/AiJ6D8hBIj8CInoPyEEiPwIieg/IQSI/AiJ6D8jII0d/DvgP/ustqkeAuI/IQSI/AiJ6D8hBIj8CInoPxSF/OIF9eE/9jOGW3VZ2j+BsTCo1W3YP+PoI9tfs+A/IQSI/AiJ6D+mfc0mxf/dP4CSTU80e9w/9jOGW3VZ2j8hBIj8CInoP4VlxyobvNw/IQSI/AiJ6D/j6CPbX7PgPyEEiPwIieg/IQSI/AiJ6D+mfc0mxf/dPyEEiPwIieg/ZnIk/8Bl4D8hBIj8CInoP7H9DDTpOuc/ljFxSZRf4D8hBIj8CInoPyEEiPwIieg/IQSI/AiJ6D8hBIj8CInoP/ustqkeAuI/InPlXSP/4D8hBIj8CInoPyEEiPwIieg/8KCHN7A1U79iwVEAylLgPxSF/OIF9eE/v05mCmri4D8hBIj8CInoPyEEiPwIieg/IQSI/AiJ6D8hBIj8CInoPyMgjR38O+A/+6y2qR4C4j8hBIj8CInoPyEEiPwIieg/IQSI/AiJ6D8hBIj8CInoPxrPdLAc39s/bLYnHIn34j8WOsJ5TdGNP+PoI9tfs+A/IQSI/AiJ6D8hBIj8CInoPyEEiPwIieg/kyvOXoTq5T8hBIj8CInoP73Oo4CQXuA/IQSI/AiJ6D9T2yiN+2bdPyEEiPwIieg/8KCHN7A1U7/woIc3sDVTv/CghzewNVO/5sd7ifyNmT9mA++RGE9SPwxRz/ezRog/gi7Sf26Zkz+cFIPlVTt3v24ReqW9l8S/gKfNwGVRLr/aF8oJDsndPyEEiPwIieg/zGS17f2+YL/woIc3sDVTv9DzMQENnik/zFS8oehFfj83ehPBeTyYPyEEiPwIieg/IQSI/AiJ6D8hBIj8CInoPyEEiPwIieg/FIX84gX14T/LnwR320FhP2LBUQDKUuA/FIX84gX14T+ju5VZ/IG9P6O7lVn8gb0/InPlXSP/4D8hBIj8CInoP7jbkTjSmW4/QvpIvpVjo7/MZLXt/b5gv8xkte39vmC/zGS17f2+YL/MVLyh6EV+P3DyuXD1K1C/HaXLMSP4Vb8hBIj8CInoPy40hZnwamu/IQSI/AiJ6D/g2gg82zEIP0r6BKRpJ1Q/IQSI/AiJ6D8hBIj8CInoPxSF/OIF9eE/AiLuMydmUr8CIu4zJ2ZSvyEEiPwIieg/H98T+pqebr+d1farv7VIv1y/VabIizE/t5tJTgLK4D/woIc3sDVTv8xUvKHoRX4/XL9VpsiLMT8gJ7zSZsRKvyEEiPwIieg/IQSI/AiJ6D8WNB2h/TjgPyEEiPwIieg/FjQdof044D8hBIj8CInoPyEEiPwIieg/pkO7XM4+jj/9gQ80ZLFIvyEEiPwIieg/",
          "dtype": "f8"
         },
         "xaxis": "x",
         "y": {
          "bdata": "6nKdwHcltj9mrzClnVuhPwOIbV5uHt6/MHjhqvcuoz/Sr5+MUIKaPwOIbV5uHt6/5Jy9ydvd07/M/uCnAgDVv+Scvcnb3dO/5Jy9ydvd078DiG1ebh7ev+Scvcnb3dO/SHMMlM+W1L9H3JyJzFvUv/BgevJ/2c+/A4htXm4e3r8AbGk0/VKfPwOIbV5uHt6/5Jy9ydvd079mrzClnVuhP54TuQnPAqU/A4htXm4e3r8DiG1ebh7evwOIbV5uHt6/A4htXm4e3r+RYg88yq/Sv8z+4KcCANW/A4htXm4e3r8DiG1ebh7ev0hzDJTPltS/kuOrBtkgsL8kX28Fz/euv69kUzfrstO/A4htXm4e3r+jXT1OePW5v4yp742G6M6/kuOrBtkgsL8DiG1ebh7ev5Ay+JlMis+/A4htXm4e3r+vZFM367LTvwOIbV5uHt6/A4htXm4e3r+jXT1OePW5vwOIbV5uHt6/O+fLICTU0r8DiG1ebh7ev23C6chMVdy/MNHHbstm0r8DiG1ebh7evwOIbV5uHt6/A4htXm4e3r8DiG1ebh7ev8z+4KcCANW/R9ycicxb1L8DiG1ebh7evwOIbV5uHt6/Zq8wpZ1boT+0n+H758fSv0hzDJTPltS/5Jy9ydvd078DiG1ebh7evwOIbV5uHt6/A4htXm4e3r8DiG1ebh7ev5FiDzzKr9K/zP7gpwIA1b8DiG1ebh7evwOIbV5uHt6/A4htXm4e3r8DiG1ebh7evwTrkVim182/7qS+Kp1q2L8AbGk0/VKfP69kUzfrstO/A4htXm4e3r8DiG1ebh7evwOIbV5uHt6/JI9mflXxzL8DiG1ebh7ev240gtUkl9W/A4htXm4e3r8YC17DelfQvwOIbV5uHt6/Zq8wpZ1boT9mrzClnVuhP2avMKWdW6E/mmAuvv0EjD/WAZ0kuCG7Pw0Ug/nI6aA/0ruJXXrnnT9uSowhnNKtP1SVJspo1cO/OgpYS3FRpj/oJmC+oOjPvwOIbV5uHt6/O8rFjH4BsT9mrzClnVuhP9DW/e7Q2bM/rBPopGuxnj+3BSjui8mdPwOIbV5uHt6/A4htXm4e3r8DiG1ebh7evwOIbV5uHt6/SHMMlM+W1L/6/c2ODuypP7Sf4fvnx9K/SHMMlM+W1L+q9NxHmVrTv6r03EeZWtO/R9ycicxb1L8DiG1ebh7ev/HANfYxK7E/tM4D7fuefD87ysWMfgGxPzvKxYx+AbE/O8rFjH4BsT+sE+ika7GePzSzTyX0Cqg/0YE06NFZqj8DiG1ebh7ev2y0u+8s/64/A4htXm4e3r9we879e7yuP5bRmRzcSqk/A4htXm4e3r8DiG1ebh7ev0hzDJTPltS/1VQke9WRqj/VVCR71ZGqPwOIbV5uHt6/qMlQVP9Brj80ugOgTSWrP/Jm7+8LAbA/nLKDGCF4079mrzClnVuhP6wT6KRrsZ4/8mbv7wsBsD8UgGAz8PGmPwOIbV5uHt6/A4htXm4e3r+m15SbIB3TvwOIbV5uHt6/pteUmyAd078DiG1ebh7evwOIbV5uHt6/zEdtBh9Znj/qcp3AdyW2PwOIbV5uHt6/",
          "dtype": "f8"
         },
         "yaxis": "y"
        },
        {
         "hovertemplate": "Category=Kitchen & Dining<br>PC1=%{x}<br>PC2=%{y}<extra></extra>",
         "legendgroup": "Kitchen & Dining",
         "marker": {
          "color": "#FFA15A",
          "symbol": "circle"
         },
         "mode": "markers",
         "name": "Kitchen & Dining",
         "showlegend": true,
         "type": "scattergl",
         "x": {
          "bdata": "3M1vyyv1pz+wPEq6S81Xv450a2ATkkK/jnRrYBOSQr+OdGtgE5JCv450a2ATkkK/jnRrYBOSQr9ANJsQP8WVP++TUMIJsZs/75NQwgmxmz+OX0cnXbqpPyiMp9Vupp0/bP/H93GCoD/Auj3+WEIMP+rbCgTMTOE/wLo9/lhCDD8zSdJDkf56PwX6t3H4xHA/M0nSQ5H+ej/dcx7L7PWKP1DUX2SZvXw/b943r1ISm7/wOkBtJgEzvwX6t3H4xHA/5qsOIkJ3Uz/Nadnh1h1Sv+arDiJCd1M/zWnZ4dYdUr/o9L8vBbE9P930iLcMZVC/M0nSQ5H+ej/Nadnh1h1Sv3SkikvM4oc/NzeNAJcIS7/Nadnh1h1Sv81p2eHWHVK/8DpAbSYBM783N40AlwhLv91zHsvs9Yo/dKSKS8zihz/Nadnh1h1SvwxKbPZFX6C/NzeNAJcIS783N40AlwhLvzNJ0kOR/no/8DpAbSYBM7+bcn7ewNaQP7gsEwsIQkA/5qsOIkJ3Uz8zSdJDkf56Pzc3jQCXCEu/zWnZ4dYdUr/Nadnh1h1Sv/A6QG0mATO/NzeNAJcIS783N40AlwhLv/A6QG0mATO/JNQdFkIWNL/wOkBtJgEzv81p2eHWHVK/zWnZ4dYdUr+bcn7ewNaQP19D/+WUAFG/NzeNAJcIS783N40AlwhLv+arDiJCd1M/DEps9kVfoL83N40AlwhLvzc3jQCXCEu/NzeNAJcIS78YCytO0dRpv/A6QG0mATO/NzeNAJcIS7/Nadnh1h1Sv/A6QG0mATO/jnRrYBOSQr/Nadnh1h1Sv81p2eHWHVK/X85PnaRLj7/woIc3sDVTv/CghzewNVO/8KCHN7A1U7/86K4GZ21yPxv/TbNL/Zc/8KCHN7A1U7/woIc3sDVTv/CghzewNVO/8BQREdVsWb/woIc3sDVTv/AUERHVbFm/8BQREdVsWb/wFBER1WxZv8+efaX8TnQ/8BQREdVsWb/wFBER1WxZv/AUERHVbFm/8BQREdVsWb/wFBER1WxZv/AUERHVbFm/8BQREdVsWb/wFBER1WxZv/AUERHVbFm/8BQREdVsWb/wFBER1WxZv/AUERHVbFm/8BQREdVsWb/wFBER1WxZv/CghzewNVO/8BQREdVsWb/wFBER1WxZv7IyAiOJLaU/8KCHN7A1U7/gVhAP0wRVv/CghzewNVO/8KCHN7A1U78yzX1to81Zv8C6Pf5YQgw/8KCHN7A1U7/woIc3sDVTv/CghzewNVO/8KCHN7A1U7/MVLyh6EV+P3K69ii82qE/8BQREdVsWb/q2woEzEzhP/CghzewNVO/sDxKukvNV7+wPEq6S81Xv7A8SrpLzVe/sDxKukvNV7+wPEq6S81Xv7A8SrpLzVe/8KCHN7A1U7+aPeErYF2LP5o94StgXYs/mj3hK2Bdiz+aPeErYF2LP6daQKsvL4Y/mj3hK2Bdiz+kmghz2v6gP7IyAiOJLaU/8KCHN7A1U7/woIc3sDVTv/CghzewNVO/8KCHN7A1U7+OdGtgE5JCvyxe7AeiBHm/8KCHN7A1U7+UmLDdG/ZRP7IyAiOJLaU/",
          "dtype": "f8"
         },
         "xaxis": "x",
         "y": {
          "bdata": "dLHpx7lDyT9+7JKvPxapP0uHg9wRW7s/S4eD3BFbuz9Lh4PcEVu7P0uHg9wRW7s/S4eD3BFbuz+IAcDaCzHSP5CKFi3c+LQ/kIoWLdz4tD/O0sKRzwrLPwIK0v1AEcw/zmzJZRXS2j+PYMTJ8jmnPyX0DhC1xdS/j2DEyfI5pz/m/HCFg3i3P02DIt88l7U/5vxwhYN4tz87aqaKKHq2P+j4xSWRbbU/dFmeOvQvsT8ZoNUOOO+5P02DIt88l7U/IaBOEzIzuj8dPmN5E7q5PyGgThMyM7o/HT5jeRO6uT+P+OKxQ/G6PznLdp9Ra7k/5vxwhYN4tz8dPmN5E7q5PzLzeqcS3rY/MhpepQTutz8dPmN5E7q5Px0+Y3kTurk/GaDVDjjvuT8yGl6lBO63PztqpoooerY/MvN6pxLetj8dPmN5E7q5P8wOaWyXrrg/MhpepQTutz8yGl6lBO63P+b8cIWDeLc/GaDVDjjvuT8WK5MqI5K1PyBVsSsHELo/IaBOEzIzuj/m/HCFg3i3PzIaXqUE7rc/HT5jeRO6uT8dPmN5E7q5Pxmg1Q4477k/MhpepQTutz8yGl6lBO63Pxmg1Q4477k/TgLefuOOuT8ZoNUOOO+5Px0+Y3kTurk/HT5jeRO6uT8WK5MqI5K1PwDWOnPmNrw/MhpepQTutz8yGl6lBO63PyGgThMyM7o/zA5pbJeuuD8yGl6lBO63PzIaXqUE7rc/MhpepQTutz+qN8DRq1+6Pxmg1Q4477k/MhpepQTutz8dPmN5E7q5Pxmg1Q4477k/S4eD3BFbuz8dPmN5E7q5Px0+Y3kTurk/LjvPlv79sz9mrzClnVuhP2avMKWdW6E/Zq8wpZ1boT9g/5qhYNWlP6XkNZWjhZ4/Zq8wpZ1boT9mrzClnVuhP2avMKWdW6E/274RhHsUqT9mrzClnVuhP9u+EYR7FKk/274RhHsUqT/bvhGEexSpP/nG9tSBAaU/274RhHsUqT/bvhGEexSpP9u+EYR7FKk/274RhHsUqT/bvhGEexSpP9u+EYR7FKk/274RhHsUqT/bvhGEexSpP9u+EYR7FKk/274RhHsUqT/bvhGEexSpP9u+EYR7FKk/274RhHsUqT/bvhGEexSpP2avMKWdW6E/274RhHsUqT/bvhGEexSpP2wkYdEZfd8/Zq8wpZ1boT+eE7kJzwKlP2avMKWdW6E/Zq8wpZ1boT8oQFXOzWKmP49gxMnyOac/Zq8wpZ1boT9mrzClnVuhP2avMKWdW6E/Zq8wpZ1boT+sE+ika7GeP2d5WM7qha8/274RhHsUqT8l9A4QtcXUv2avMKWdW6E/fuySrz8WqT9+7JKvPxapP37skq8/Fqk/fuySrz8WqT9+7JKvPxapP37skq8/Fqk/Zq8wpZ1boT+WjBwnprKmP5aMHCemsqY/lowcJ6aypj+WjBwnprKmP+fd2SkS4Kc/lowcJ6aypj98O0T2VsCWP2wkYdEZfd8/Zq8wpZ1boT9mrzClnVuhP2avMKWdW6E/Zq8wpZ1boT9Lh4PcEVu7P2rflSjAkrQ/Zq8wpZ1boT83DHww09W6P2wkYdEZfd8/",
          "dtype": "f8"
         },
         "yaxis": "y"
        },
        {
         "hovertemplate": "Category=Beauty and Personal Care<br>PC1=%{x}<br>PC2=%{y}<extra></extra>",
         "legendgroup": "Beauty and Personal Care",
         "marker": {
          "color": "#19d3f3",
          "symbol": "circle"
         },
         "mode": "markers",
         "name": "Beauty and Personal Care",
         "showlegend": true,
         "type": "scattergl",
         "x": {
          "bdata": "8KCHN7A1U7/woIc3sDVTv/CghzewNVO/tLlGVzKwjz+0uUZXMrCPP3hzP6+HnZc/8KCHN7A1U7+0uUZXMrCPP1hSu4CVj5I/sG4u9GOxoj/woIc3sDVTv8j1u+oybIs/+zWLeRb8hD/woIc3sDVTv/CghzewNVO/RVmIhiu/i7/woIc3sDVTv0VZiIYrv4u/8KCHN7A1U79yoNnDCdGgP/wgZo5bP6c/PEEIXAJ2qD+MxmfqScOvP/wgZo5bP6c//CBmjls/pz/8IGaOWz+nP8u89pNg5J4//CBmjls/pz/8IGaOWz+nP/wgZo5bP6c//CBmjls/pz/cM6fBiE6gP/wgZo5bP6c//CBmjls/pz/8IGaOWz+nP/wgZo5bP6c//CBmjls/pz9yoNnDCdGgP1bm3Gdbu6M//CBmjls/pz/8IGaOWz+nP/wgZo5bP6c//CBmjls/pz86RPBXGBWWPxSqDsp7lqE/PEEIXAJ2qD/PTlL9vlm5v5BmVVGIIqs/lsJTcn83rD/8IGaOWz+nP3Kg2cMJ0aA//CBmjls/pz/8IGaOWz+nP/wgZo5bP6c//CBmjls/pz/8IGaOWz+nP/wgZo5bP6c//CBmjls/pz88QQhcAnaoP/wgZo5bP6c//CBmjls/pz+MxmfqScOvP/wgZo5bP6c/PEEIXAJ2qD/8IGaOWz+nP/wgZo5bP6c//CBmjls/pz8Uqg7Ke5ahP/wgZo5bP6c//CBmjls/pz/LvPaTYOSeP/wgZo5bP6c//CBmjls/pz85/IbfmL+KP/wgZo5bP6c//CBmjls/pz+7NZzV1yieP/wgZo5bP6c//CBmjls/pz/8IGaOWz+nP/wgZo5bP6c//CBmjls/pz84wPc0hV+rPy3+lMdgo0G/8KCHN7A1U7/woIc3sDVTv/CghzewNVO/8KCHN7A1U78MuWfcOTqIP/CghzewNVO/8KCHN7A1U7/woIc3sDVTv4LKkN7cDWc/8KCHN7A1U7/I9bvqMmyLP/CghzewNVO/gAOJp1MTAj/woIc3sDVTv/CghzewNVO/8KCHN7A1U7/woIc3sDVTv4ADiadTEwI/8KCHN7A1U7/woIc3sDVTv/CghzewNVO/8KCHN7A1U7+AA4mnUxMCP/CghzewNVO/8KCHN7A1U7/woIc3sDVTvzVRBIrKYYo/NVEEisphij9dmSpw2HhVv1LRriKoeZK/k98L5FG3jD81UQSKymGKP/CghzewNVO/8KCHN7A1U781UQSKymGKP12ZKnDYeFW/RN6WVsNUR79dmSpw2HhVv2YhqbW2fY2/XZkqcNh4Vb9dmSpw2HhVv5PfC+RRt4w/NVEEisphij+T3wvkUbeMP12ZKnDYeFW/XZkqcNh4Vb81UQSKymGKP/CghzewNVO/8KCHN7A1U7/woIc3sDVTv3E42YBnwHg/DLln3Dk6iD/woIc3sDVTv/CghzewNVO/BAejl6fOlD/woIc3sDVTv8j1u+oybIs/u7MnNwIS0j8Qe6fv6FRcP4Ceae7DUzi/gAOJp1MTAj/tZKRd2mHQv/CghzewNVO/gAOJp1MTAj/woIc3sDVTv/CghzewNVO/",
          "dtype": "f8"
         },
         "xaxis": "x",
         "y": {
          "bdata": "Zq8wpZ1boT9mrzClnVuhP2avMKWdW6E/srcFL1AD0z+ytwUvUAPTP/Unr55tu9w/Zq8wpZ1boT+ytwUvUAPTP2Z6uiuD78s/IyUEFjKonj9mrzClnVuhP8lcUWsk+KE/B0sFxxRnpT9mrzClnVuhP2avMKWdW6E/NGCDA7Y0oz9mrzClnVuhPzRggwO2NKM/Zq8wpZ1boT+ICPTnSpzeP6G7SaUAx+Q/RpynIFZS5D8yHpzLkufgP6G7SaUAx+Q/obtJpQDH5D+hu0mlAMfkPwguX36HBN0/obtJpQDH5D+hu0mlAMfkP6G7SaUAx+Q/obtJpQDH5D9uQDUihU3gP6G7SaUAx+Q/obtJpQDH5D+hu0mlAMfkP6G7SaUAx+Q/obtJpQDH5D+ICPTnSpzeP2VxJcU8QeM/obtJpQDH5D+hu0mlAMfkP6G7SaUAx+Q/obtJpQDH5D8mkeOxzNDbP+7NkAcgnNw/RpynIFZS5D9P3Ci2q6/UPwhq36qMBt8/VwDtDQ2X3j+hu0mlAMfkP4gI9OdKnN4/obtJpQDH5D+hu0mlAMfkP6G7SaUAx+Q/obtJpQDH5D+hu0mlAMfkP6G7SaUAx+Q/obtJpQDH5D9GnKcgVlLkP6G7SaUAx+Q/obtJpQDH5D8yHpzLkufgP6G7SaUAx+Q/RpynIFZS5D+hu0mlAMfkP6G7SaUAx+Q/obtJpQDH5D/uzZAHIJzcP6G7SaUAx+Q/obtJpQDH5D8ILl9+hwTdP6G7SaUAx+Q/obtJpQDH5D+4kYTSlfDbP6G7SaUAx+Q/obtJpQDH5D/DXk7+l8PfP6G7SaUAx+Q/obtJpQDH5D+hu0mlAMfkP6G7SaUAx+Q/obtJpQDH5D+jDaUScJTdP/hibBux7Ks/Zq8wpZ1boT9mrzClnVuhP2avMKWdW6E/Zq8wpZ1boT85bA7fPBOiP2avMKWdW6E/Zq8wpZ1boT9mrzClnVuhPxLzO+grFrI/Zq8wpZ1boT/JXFFrJPihP2avMKWdW6E/mODoK84wrT9mrzClnVuhP2avMKWdW6E/Zq8wpZ1boT9mrzClnVuhP5jg6CvOMK0/Zq8wpZ1boT9mrzClnVuhP2avMKWdW6E/Zq8wpZ1boT+Y4OgrzjCtP2avMKWdW6E/Zq8wpZ1boT9mrzClnVuhPxOC0NHQctI/E4LQ0dBy0j+XlCC4RlumP4Jxkw5meZQ/MFpuCh9lzj8TgtDR0HLSP2avMKWdW6E/Zq8wpZ1boT8TgtDR0HLSP5eUILhGW6Y//nTrC/Oyrz+XlCC4RlumP3un72wylKQ/l5QguEZbpj+XlCC4RlumPzBabgofZc4/E4LQ0dBy0j8wWm4KH2XOP5eUILhGW6Y/l5QguEZbpj8TgtDR0HLSP2avMKWdW6E/Zq8wpZ1boT9mrzClnVuhPySmWx9wuaw/OWwO3zwToj9mrzClnVuhP2avMKWdW6E/mld+SZ2a0T9mrzClnVuhP8lcUWsk+KE/wsB1BTAnsj8gHvvDtOqsP6PlaXAqY7A/mODoK84wrT/QhNhpLYbJv2avMKWdW6E/mODoK84wrT9mrzClnVuhP2avMKWdW6E/",
          "dtype": "f8"
         },
         "yaxis": "y"
        },
        {
         "hovertemplate": "Category=Computers<br>PC1=%{x}<br>PC2=%{y}<extra></extra>",
         "legendgroup": "Computers",
         "marker": {
          "color": "#FF6692",
          "symbol": "circle"
         },
         "mode": "markers",
         "name": "Computers",
         "showlegend": true,
         "type": "scattergl",
         "x": {
          "bdata": "8KCHN7A1U7/w4iP8UEdav4xTx2KdY1i/jFPHYp1jWL+MU8dinWNYv/CghzewNVO/EHun7+hUXD/woIc3sDVTv/CghzewNVO/8KCHN7A1U79QxEFxs7VWv/CghzewNVO/ouJKg+5PV7/woIc3sDVTv/CghzewNVO/UyTSnQuLVb/woIc3sDVTv/CghzewNVO/UMRBcbO1Vr+i4kqD7k9Xv6LiSoPuT1e/8KCHN7A1U7/woIc3sDVTv6LiSoPuT1e/8KCHN7A1U79QxEFxs7VWv6LiSoPuT1e/UMRBcbO1Vr/woIc3sDVTv/CghzewNVO/ouJKg+5PV7/woIc3sDVTv/CghzewNVO/UMRBcbO1Vr/woIc3sDVTv/CghzewNVO/8KCHN7A1U79QxEFxs7VWv/CghzewNVO/ouJKg+5PV7+i4kqD7k9Xv/CghzewNVO/8KCHN7A1U7/woIc3sDVTv/CghzewNVO/8KCHN7A1U7/woIc3sDVTv8pMmsRYZ1m/UMRBcbO1Vr/woIc3sDVTv/CghzewNVO/8KCHN7A1U7+0hvuAfW1eP/CghzewNVO/8KCHN7A1U7/woIc3sDVTv1Mk0p0Li1W/8KCHN7A1U79AzJnlf7Umvx4v7PDqAFe/mniwsIKfY7+aeLCwgp9jv5p4sLCCn2O/mniwsIKfY7+aeLCwgp9jv5p4sLCCn2O/mniwsIKfY7+SW8KcGG5Rv5JbwpwYblG/klvCnBhuUb9wpJN7t7VVv/ctVKHDNFG/RJp1OJSLX7/gAh00KPJev6Dz52e/tFK/RPmtatHzT79E+a1q0fNPv/ctVKHDNFG/oPPnZ7+0Ur+gEqsBwU8qP6osVf/ooVO/sNOlm3c2Ib8AbLgoVcpRv5D15/Z+Wz4/qixV/+ihU7/3LVShwzRRvwR9pGtXS1O/RPmtatHzT7+qLFX/6KFTvwR9pGtXS1O/BH2ka1dLU78EfaRrV0tTv2BP3IcdLUC/8OIj/FBHWr9wpJN7t7VVv3Ckk3u3tVW/lqj9X74/S7/woIc3sDVTvxB7p+/oVFw/Fi05d3AMWb9fcwojsDVWv+uPWqmxSle/8OIj/FBHWr8gkbPqC7Nav3Tx2T/sUFq/8OIj/FBHWr8jaFpNlKB0P1TczQ29a1u/GKE8DU7HW7908dk/7FBav4B3b7fFIlu/vqHxngh1Wb+Ad2+3xSJbv9MnW1sXBFq/gHdvt8UiW7/w4iP8UEdav/DiI/xQR1q/8OIj/FBHWr/w4iP8UEdav9Cr5XjFgkQ/IJGz6guzWr/oF+cdsARav/DiI/xQR1q/Db1xYuibhj/w4iP8UEdavzhQlW8J7Vm/gHdvt8UiW7/w4iP8UEdav1Wnks5ycoO/8OIj/FBHWr/6ujSHX1xSv4B3b7fFIlu/oksV9CsoYL8Y3QVKzxF3P/DiI/xQR1q/dPHZP+xQWr8AbLgoVcpRv05DILNZtUS/p/XdvVNLkj/qtcWpY4uSP+q1xalji5I/6rXFqWOLkj8KR92ovNKTv+q1xalji5I/6rXFqWOLkj/qtcWpY4uSP+q1xalji5I/6rXFqWOLkj/qtcWpY4uSP6f13b1TS5I/",
          "dtype": "f8"
         },
         "xaxis": "x",
         "y": {
          "bdata": "Zq8wpZ1boT9x6iayXFGuP/4BOxf1Fqw//gE7F/UWrD/+ATsX9RasP2avMKWdW6E/IB77w7TqrD9mrzClnVuhP2avMKWdW6E/Zq8wpZ1boT8APjBI/G+lP2avMKWdW6E/eqtxrW1Kpj9mrzClnVuhP2avMKWdW6E/0A7geztJpD9mrzClnVuhP2avMKWdW6E/AD4wSPxvpT96q3GtbUqmP3qrca1tSqY/Zq8wpZ1boT9mrzClnVuhP3qrca1tSqY/Zq8wpZ1boT8APjBI/G+lP3qrca1tSqY/AD4wSPxvpT9mrzClnVuhP2avMKWdW6E/eqtxrW1Kpj9mrzClnVuhP2avMKWdW6E/AD4wSPxvpT9mrzClnVuhP2avMKWdW6E/Zq8wpZ1boT8APjBI/G+lP2avMKWdW6E/eqtxrW1Kpj96q3GtbUqmP2avMKWdW6E/Zq8wpZ1boT9mrzClnVuhP2avMKWdW6E/Zq8wpZ1boT9mrzClnVuhP5jfimOXpqs/AD4wSPxvpT9mrzClnVuhP2avMKWdW6E/Zq8wpZ1boT/cMTU8sXSmP2avMKWdW6E/Zq8wpZ1boT9mrzClnVuhP9AO4Hs7SaQ/Zq8wpZ1boT8iQdiedrirP7f7SCSiDKk/EgbalFH/pD8SBtqUUf+kPxIG2pRR/6Q/EgbalFH/pD8SBtqUUf+kPxIG2pRR/6Q/EgbalFH/pD/TJyKZ1+mqP9MnIpnX6ao/0ycimdfpqj8swuSypuOkP1FRXlyny6w/HnNciUqPrD8icH16En+sP+6kchQ3Oq0/5JNqbDuqrT/kk2psO6qtP1FRXlyny6w/7qRyFDc6rT97zqDb41ewP9BkNR9WZaw/zeAnkJMtsD9O1bQxCautPx6ukHin6LA/0GQ1H1ZlrD9RUV5cp8usP0KByFha+Kw/5JNqbDuqrT/QZDUfVmWsP0KByFha+Kw/QoHIWFr4rD9CgchYWvisPyH6j4lEnq4/ceomslxRrj8swuSypuOkPyzC5LKm46Q/zi084BGJrD9mrzClnVuhPyAe+8O06qw/SeBYiSpTrD9idUUd6sikP2hStGmENqY/ceomslxRrj/uE9e5w4+tPxMm+k7WKLA/ceomslxRrj9Yh9YuOOisP3613e5TurA/pwH94WH+sD8TJvpO1iiwPxX6H5F+k7A/ZHRFSUZIrj8V+h+RfpOwP9/Ao+2ARK8/FfofkX6TsD9x6iayXFGuP3HqJrJcUa4/ceomslxRrj9x6iayXFGuP3JrKPJGlbI/7hPXucOPrT9ggV/VkHOrP3HqJrJcUa4/TA9mwSTlyT9x6iayXFGuP7jkCWzpk68/FfofkX6TsD9x6iayXFGuPxoDeva/q6w/ceomslxRrj8IZpU3OTyyPxX6H5F+k7A/YVhL2BVGsD+hoNWqXrGqP3HqJrJcUa4/Eyb6TtYosD9O1bQxCautP/t+K+5zd7A/+FPHkwnH0j8+rb0pqS7TPz6tvSmpLtM/Pq29Kaku0z/4F4P+hOmCPz6tvSmpLtM/Pq29Kaku0z8+rb0pqS7TPz6tvSmpLtM/Pq29Kaku0z8+rb0pqS7TP/hTx5MJx9I/",
          "dtype": "f8"
         },
         "yaxis": "y"
        }
       ],
       "layout": {
        "legend": {
         "title": {
          "text": "Category"
         },
         "tracegroupgap": 0
        },
        "template": {
         "data": {
          "bar": [
           {
            "error_x": {
             "color": "#2a3f5f"
            },
            "error_y": {
             "color": "#2a3f5f"
            },
            "marker": {
             "line": {
              "color": "#E5ECF6",
              "width": 0.5
             },
             "pattern": {
              "fillmode": "overlay",
              "size": 10,
              "solidity": 0.2
             }
            },
            "type": "bar"
           }
          ],
          "barpolar": [
           {
            "marker": {
             "line": {
              "color": "#E5ECF6",
              "width": 0.5
             },
             "pattern": {
              "fillmode": "overlay",
              "size": 10,
              "solidity": 0.2
             }
            },
            "type": "barpolar"
           }
          ],
          "carpet": [
           {
            "aaxis": {
             "endlinecolor": "#2a3f5f",
             "gridcolor": "white",
             "linecolor": "white",
             "minorgridcolor": "white",
             "startlinecolor": "#2a3f5f"
            },
            "baxis": {
             "endlinecolor": "#2a3f5f",
             "gridcolor": "white",
             "linecolor": "white",
             "minorgridcolor": "white",
             "startlinecolor": "#2a3f5f"
            },
            "type": "carpet"
           }
          ],
          "choropleth": [
           {
            "colorbar": {
             "outlinewidth": 0,
             "ticks": ""
            },
            "type": "choropleth"
           }
          ],
          "contour": [
           {
            "colorbar": {
             "outlinewidth": 0,
             "ticks": ""
            },
            "colorscale": [
             [
              0,
              "#0d0887"
             ],
             [
              0.1111111111111111,
              "#46039f"
             ],
             [
              0.2222222222222222,
              "#7201a8"
             ],
             [
              0.3333333333333333,
              "#9c179e"
             ],
             [
              0.4444444444444444,
              "#bd3786"
             ],
             [
              0.5555555555555556,
              "#d8576b"
             ],
             [
              0.6666666666666666,
              "#ed7953"
             ],
             [
              0.7777777777777778,
              "#fb9f3a"
             ],
             [
              0.8888888888888888,
              "#fdca26"
             ],
             [
              1,
              "#f0f921"
             ]
            ],
            "type": "contour"
           }
          ],
          "contourcarpet": [
           {
            "colorbar": {
             "outlinewidth": 0,
             "ticks": ""
            },
            "type": "contourcarpet"
           }
          ],
          "heatmap": [
           {
            "colorbar": {
             "outlinewidth": 0,
             "ticks": ""
            },
            "colorscale": [
             [
              0,
              "#0d0887"
             ],
             [
              0.1111111111111111,
              "#46039f"
             ],
             [
              0.2222222222222222,
              "#7201a8"
             ],
             [
              0.3333333333333333,
              "#9c179e"
             ],
             [
              0.4444444444444444,
              "#bd3786"
             ],
             [
              0.5555555555555556,
              "#d8576b"
             ],
             [
              0.6666666666666666,
              "#ed7953"
             ],
             [
              0.7777777777777778,
              "#fb9f3a"
             ],
             [
              0.8888888888888888,
              "#fdca26"
             ],
             [
              1,
              "#f0f921"
             ]
            ],
            "type": "heatmap"
           }
          ],
          "histogram": [
           {
            "marker": {
             "pattern": {
              "fillmode": "overlay",
              "size": 10,
              "solidity": 0.2
             }
            },
            "type": "histogram"
           }
          ],
          "histogram2d": [
           {
            "colorbar": {
             "outlinewidth": 0,
             "ticks": ""
            },
            "colorscale": [
             [
              0,
              "#0d0887"
             ],
             [
              0.1111111111111111,
              "#46039f"
             ],
             [
              0.2222222222222222,
              "#7201a8"
             ],
             [
              0.3333333333333333,
              "#9c179e"
             ],
             [
              0.4444444444444444,
              "#bd3786"
             ],
             [
              0.5555555555555556,
              "#d8576b"
             ],
             [
              0.6666666666666666,
              "#ed7953"
             ],
             [
              0.7777777777777778,
              "#fb9f3a"
             ],
             [
              0.8888888888888888,
              "#fdca26"
             ],
             [
              1,
              "#f0f921"
             ]
            ],
            "type": "histogram2d"
           }
          ],
          "histogram2dcontour": [
           {
            "colorbar": {
             "outlinewidth": 0,
             "ticks": ""
            },
            "colorscale": [
             [
              0,
              "#0d0887"
             ],
             [
              0.1111111111111111,
              "#46039f"
             ],
             [
              0.2222222222222222,
              "#7201a8"
             ],
             [
              0.3333333333333333,
              "#9c179e"
             ],
             [
              0.4444444444444444,
              "#bd3786"
             ],
             [
              0.5555555555555556,
              "#d8576b"
             ],
             [
              0.6666666666666666,
              "#ed7953"
             ],
             [
              0.7777777777777778,
              "#fb9f3a"
             ],
             [
              0.8888888888888888,
              "#fdca26"
             ],
             [
              1,
              "#f0f921"
             ]
            ],
            "type": "histogram2dcontour"
           }
          ],
          "mesh3d": [
           {
            "colorbar": {
             "outlinewidth": 0,
             "ticks": ""
            },
            "type": "mesh3d"
           }
          ],
          "parcoords": [
           {
            "line": {
             "colorbar": {
              "outlinewidth": 0,
              "ticks": ""
             }
            },
            "type": "parcoords"
           }
          ],
          "pie": [
           {
            "automargin": true,
            "type": "pie"
           }
          ],
          "scatter": [
           {
            "fillpattern": {
             "fillmode": "overlay",
             "size": 10,
             "solidity": 0.2
            },
            "type": "scatter"
           }
          ],
          "scatter3d": [
           {
            "line": {
             "colorbar": {
              "outlinewidth": 0,
              "ticks": ""
             }
            },
            "marker": {
             "colorbar": {
              "outlinewidth": 0,
              "ticks": ""
             }
            },
            "type": "scatter3d"
           }
          ],
          "scattercarpet": [
           {
            "marker": {
             "colorbar": {
              "outlinewidth": 0,
              "ticks": ""
             }
            },
            "type": "scattercarpet"
           }
          ],
          "scattergeo": [
           {
            "marker": {
             "colorbar": {
              "outlinewidth": 0,
              "ticks": ""
             }
            },
            "type": "scattergeo"
           }
          ],
          "scattergl": [
           {
            "marker": {
             "colorbar": {
              "outlinewidth": 0,
              "ticks": ""
             }
            },
            "type": "scattergl"
           }
          ],
          "scattermap": [
           {
            "marker": {
             "colorbar": {
              "outlinewidth": 0,
              "ticks": ""
             }
            },
            "type": "scattermap"
           }
          ],
          "scattermapbox": [
           {
            "marker": {
             "colorbar": {
              "outlinewidth": 0,
              "ticks": ""
             }
            },
            "type": "scattermapbox"
           }
          ],
          "scatterpolar": [
           {
            "marker": {
             "colorbar": {
              "outlinewidth": 0,
              "ticks": ""
             }
            },
            "type": "scatterpolar"
           }
          ],
          "scatterpolargl": [
           {
            "marker": {
             "colorbar": {
              "outlinewidth": 0,
              "ticks": ""
             }
            },
            "type": "scatterpolargl"
           }
          ],
          "scatterternary": [
           {
            "marker": {
             "colorbar": {
              "outlinewidth": 0,
              "ticks": ""
             }
            },
            "type": "scatterternary"
           }
          ],
          "surface": [
           {
            "colorbar": {
             "outlinewidth": 0,
             "ticks": ""
            },
            "colorscale": [
             [
              0,
              "#0d0887"
             ],
             [
              0.1111111111111111,
              "#46039f"
             ],
             [
              0.2222222222222222,
              "#7201a8"
             ],
             [
              0.3333333333333333,
              "#9c179e"
             ],
             [
              0.4444444444444444,
              "#bd3786"
             ],
             [
              0.5555555555555556,
              "#d8576b"
             ],
             [
              0.6666666666666666,
              "#ed7953"
             ],
             [
              0.7777777777777778,
              "#fb9f3a"
             ],
             [
              0.8888888888888888,
              "#fdca26"
             ],
             [
              1,
              "#f0f921"
             ]
            ],
            "type": "surface"
           }
          ],
          "table": [
           {
            "cells": {
             "fill": {
              "color": "#EBF0F8"
             },
             "line": {
              "color": "white"
             }
            },
            "header": {
             "fill": {
              "color": "#C8D4E3"
             },
             "line": {
              "color": "white"
             }
            },
            "type": "table"
           }
          ]
         },
         "layout": {
          "annotationdefaults": {
           "arrowcolor": "#2a3f5f",
           "arrowhead": 0,
           "arrowwidth": 1
          },
          "autotypenumbers": "strict",
          "coloraxis": {
           "colorbar": {
            "outlinewidth": 0,
            "ticks": ""
           }
          },
          "colorscale": {
           "diverging": [
            [
             0,
             "#8e0152"
            ],
            [
             0.1,
             "#c51b7d"
            ],
            [
             0.2,
             "#de77ae"
            ],
            [
             0.3,
             "#f1b6da"
            ],
            [
             0.4,
             "#fde0ef"
            ],
            [
             0.5,
             "#f7f7f7"
            ],
            [
             0.6,
             "#e6f5d0"
            ],
            [
             0.7,
             "#b8e186"
            ],
            [
             0.8,
             "#7fbc41"
            ],
            [
             0.9,
             "#4d9221"
            ],
            [
             1,
             "#276419"
            ]
           ],
           "sequential": [
            [
             0,
             "#0d0887"
            ],
            [
             0.1111111111111111,
             "#46039f"
            ],
            [
             0.2222222222222222,
             "#7201a8"
            ],
            [
             0.3333333333333333,
             "#9c179e"
            ],
            [
             0.4444444444444444,
             "#bd3786"
            ],
            [
             0.5555555555555556,
             "#d8576b"
            ],
            [
             0.6666666666666666,
             "#ed7953"
            ],
            [
             0.7777777777777778,
             "#fb9f3a"
            ],
            [
             0.8888888888888888,
             "#fdca26"
            ],
            [
             1,
             "#f0f921"
            ]
           ],
           "sequentialminus": [
            [
             0,
             "#0d0887"
            ],
            [
             0.1111111111111111,
             "#46039f"
            ],
            [
             0.2222222222222222,
             "#7201a8"
            ],
            [
             0.3333333333333333,
             "#9c179e"
            ],
            [
             0.4444444444444444,
             "#bd3786"
            ],
            [
             0.5555555555555556,
             "#d8576b"
            ],
            [
             0.6666666666666666,
             "#ed7953"
            ],
            [
             0.7777777777777778,
             "#fb9f3a"
            ],
            [
             0.8888888888888888,
             "#fdca26"
            ],
            [
             1,
             "#f0f921"
            ]
           ]
          },
          "colorway": [
           "#636efa",
           "#EF553B",
           "#00cc96",
           "#ab63fa",
           "#FFA15A",
           "#19d3f3",
           "#FF6692",
           "#B6E880",
           "#FF97FF",
           "#FECB52"
          ],
          "font": {
           "color": "#2a3f5f"
          },
          "geo": {
           "bgcolor": "white",
           "lakecolor": "white",
           "landcolor": "#E5ECF6",
           "showlakes": true,
           "showland": true,
           "subunitcolor": "white"
          },
          "hoverlabel": {
           "align": "left"
          },
          "hovermode": "closest",
          "mapbox": {
           "style": "light"
          },
          "paper_bgcolor": "white",
          "plot_bgcolor": "#E5ECF6",
          "polar": {
           "angularaxis": {
            "gridcolor": "white",
            "linecolor": "white",
            "ticks": ""
           },
           "bgcolor": "#E5ECF6",
           "radialaxis": {
            "gridcolor": "white",
            "linecolor": "white",
            "ticks": ""
           }
          },
          "scene": {
           "xaxis": {
            "backgroundcolor": "#E5ECF6",
            "gridcolor": "white",
            "gridwidth": 2,
            "linecolor": "white",
            "showbackground": true,
            "ticks": "",
            "zerolinecolor": "white"
           },
           "yaxis": {
            "backgroundcolor": "#E5ECF6",
            "gridcolor": "white",
            "gridwidth": 2,
            "linecolor": "white",
            "showbackground": true,
            "ticks": "",
            "zerolinecolor": "white"
           },
           "zaxis": {
            "backgroundcolor": "#E5ECF6",
            "gridcolor": "white",
            "gridwidth": 2,
            "linecolor": "white",
            "showbackground": true,
            "ticks": "",
            "zerolinecolor": "white"
           }
          },
          "shapedefaults": {
           "line": {
            "color": "#2a3f5f"
           }
          },
          "ternary": {
           "aaxis": {
            "gridcolor": "white",
            "linecolor": "white",
            "ticks": ""
           },
           "baxis": {
            "gridcolor": "white",
            "linecolor": "white",
            "ticks": ""
           },
           "bgcolor": "#E5ECF6",
           "caxis": {
            "gridcolor": "white",
            "linecolor": "white",
            "ticks": ""
           }
          },
          "title": {
           "x": 0.05
          },
          "xaxis": {
           "automargin": true,
           "gridcolor": "white",
           "linecolor": "white",
           "ticks": "",
           "title": {
            "standoff": 15
           },
           "zerolinecolor": "white",
           "zerolinewidth": 2
          },
          "yaxis": {
           "automargin": true,
           "gridcolor": "white",
           "linecolor": "white",
           "ticks": "",
           "title": {
            "standoff": 15
           },
           "zerolinecolor": "white",
           "zerolinewidth": 2
          }
         }
        },
        "title": {
         "text": "PCA Visualization"
        },
        "xaxis": {
         "anchor": "y",
         "domain": [
          0,
          1
         ],
         "title": {
          "text": "PC1 (8.75% variance)"
         }
        },
        "yaxis": {
         "anchor": "x",
         "domain": [
          0,
          1
         ],
         "title": {
          "text": "PC2 (7.94% variance)"
         }
        }
       }
      }
     },
     "metadata": {},
     "output_type": "display_data"
    }
   ],
   "source": [
    "from src.classes.reduce_dimensions import DimensionalityReducer\n",
    "\n",
    "# Initialize reducer\n",
    "reducer = DimensionalityReducer()\n",
    "\n",
    "\n",
    "# Apply dimensionality reduction to TF-IDF matrix of product names\n",
    "print(\"\\nApplying PCA to product name features...\")\n",
    "pca_results = reducer.fit_transform_pca(encoder.tfidf_matrix)\n",
    "pca_fig = reducer.plot_pca(labels=df['product_category'])\n",
    "pca_fig.show()"
   ]
  },
  {
   "cell_type": "code",
   "execution_count": 10,
   "id": "e6792440",
   "metadata": {},
   "outputs": [
    {
     "name": "stdout",
     "output_type": "stream",
     "text": [
      "\n",
      "Applying t-SNE to product name features...\n"
     ]
    },
    {
     "data": {
      "application/vnd.plotly.v1+json": {
       "config": {
        "plotlyServerURL": "https://plot.ly"
       },
       "data": [
        {
         "hovertemplate": "Category=Home Furnishing<br>t-SNE1=%{x}<br>t-SNE2=%{y}<extra></extra>",
         "legendgroup": "Home Furnishing",
         "marker": {
          "color": "#636efa",
          "symbol": "circle"
         },
         "mode": "markers",
         "name": "Home Furnishing",
         "showlegend": true,
         "type": "scattergl",
         "x": {
          "bdata": "tQ2IQplWnEFalJ1BPLCbQsJuqsKb0L9CmH2kwph9pMK32JVCt9iVQmosnUHIyW9C16qQwdeqkMEvzCvCdCfzwdeqkMFuNx/Cd2CLwrQMsMK0DLDCYD3BQph9pMJcic9BFpgywqZdw0F5v4RBUpgiQaklmULBcJbBlhWSwYIlo0JMCKDCmH2kwvGehELbFEhCTYiEQkRJO0LelX5Cp95rQroklkL/c59CLZQuQhooucJNe6PCs38fQhDNQ8Kp4DfCBAwcwnSnwsH2nzTC9IMWwrFl0cH2nzTC9p80wm0zL8K430vClTMuwqotD8KTRgDC8OdrwmPVS8LRKqpCUEOoQimNskKCJaNC2BaNwmm4TMHJY3bBngQXwVx2BsHyGUrC8G2wwX6prsHP1tTBeECnwU17o8LvxRfCv8YCwmUm1ME/1vTBAI4Awm8HHMLb4AXCFoMGwsaPkEIaKLnCTXujwsYjyUJNe6PCAZC+QtgWjcIBkL5C2BaNwsYjyUIaKLnCEYnjwMYjyULGI8lCkKLSQgGQvkLGI8lCxiPJQgGQvkJd27tCd5GQwUuxuELGI8lCxiPJQgGQvkKygqdCGii5wsYjyUJjSJjCS7G4QvzJqcE6YN/BEM1DwnSnwsHcGOXBft0/wavf1MGvk+LAAXscwp1MzcF2WsxCFQtcwobZL8KxZdHBL8wrwlcdmEL9yBfCvh9mwYTf0cE8sJtCHWyiQvyWYMLw4qfBBv86QrQMsMKXHO1BtAywwmgpNELwLYNCwmhxQiTaVEKqy09CBIBSQgk5l0Kqy09C",
          "dtype": "f4"
         },
         "xaxis": "x",
         "y": {
          "bdata": "SaqWwqWcakIWdZVCghutQnMDbkH+Ww1D7iPLwe4jy8H3+dc/9/nXP7UGo0I2YB9Cz9Sgws/UoMLOKExCOCu7ws/UoMJVNWZCajm5wEAU60BAFOtAcWd1v+4jy8GoTmNCiva3wCVrjEJ5g4NCr4p1QoaLmcIBc5VC9xadQi0ZeUKWLwXC7iPLwbFciMLGDU3CIU5rwkwca8KrHJ7Co/CVwnhBfcItkoDC1Jx2wtxdMsHMuUvBhJ6/QlVhT0E5lvQ/vclowhS3i8ItWWbC6bLqwHEDoMItWWbCLVlmwnOy9kHSC1nC2CG1QHX1iMI8vZBBLKEpwm5/AUAap5xB9bthQbUpvEEtGXlCK9tswYVvwcIGhLjCG8zIwseVucJW5TNCVwW2wu1Ly8IgEq7CVorBwsy5S8GhyznC4bM5wqllP8Jw4yfCJuxOwgd4CkLYjwtCYxbrQccZi8LcXTLBzLlLwSEPAUPMuUvB+TXFQivbbMH5NcVCK9tswSEPAUPcXTLBi3eKwiEPAUMhDwFDjZ67Qvk1xUIhDwFDIQ8BQ/k1xUJBt69CxmCFwmX/20IhDwFDIQ8BQ/k1xULMDt1C3F0ywSEPAUOr2pzAZf/bQqqVEsLBLTFCVWFPQRS3i8IMwfzBJpGLwgWsDsKQfKrCpKoWwjQ9/UF+BRBCddc5wk3NGMJxA6DCzihMQlTyi0Hfy5C/cA9MQs4L1MGCG61C+5U6QuDVBkL87nZCO7czvUAU60BHpnZCQBTrQDVsT8LgbX3CpRmKwgtdZcJoT4DCSTmTwvkaZ8JoT4DC",
          "dtype": "f4"
         },
         "yaxis": "y"
        },
        {
         "hovertemplate": "Category=Baby Care<br>t-SNE1=%{x}<br>t-SNE2=%{y}<extra></extra>",
         "legendgroup": "Baby Care",
         "marker": {
          "color": "#EF553B",
          "symbol": "circle"
         },
         "mode": "markers",
         "name": "Baby Care",
         "showlegend": true,
         "type": "scattergl",
         "x": {
          "bdata": "xiPJQgGQvkIk3S7CDvtSwlR1HcG8XvlAQK6Qwt3PPsJArpDCOfv7wtEZAMKV2+LCHu85vvVKDcLruIXCBCG7QiaRjMJYvIbCMNJLwoFeasJYvIbCWLyGwiaRjMJF+9HCRfvRwrzTwMJF+9HC84U5wtxIoEJCLP9B8MNFwpXlp8JArpDCleWnwkX70cImkYzCRfvRwqOKzMLPGLzCFXVNwtQMpcJLsbhCQK6QwukimMIfS33C9xpzwkX70cKXF9/BZdiTQB3cbkFF+9HCRfvRwkX70cLruIXCJpGMwiaRjMJyqhhBQK6QwiIvxsJch5jCRfvRwhFgTcLUDKXC7qTPwtvptcJj5O7C7qTPwoqAZMLRsD7ChPpFwvcac8JF+9HCRfvRwkX70cJF+9HCWLyGwsYjyUIuntNCBPIFQsYjyUKTO/5BY2h/wQGQvkI8WuPB9xpzwsYjyUILeRNCLD+AQsYjyUIBkL5Ccpj5QaP7EcCaHRVCCg/yQrXDlUJYvIbCXJPpwQw3v8Fm0QvCgcz2wf8aE8Iq+DRCiH2gQkafKcPZsLPCBv86Qmdw20KV5afCBv86Qoz5o8JHDovC65tSQgb/OkJLqzHC+HScwljej8IG/zpCaMCnwmjAp8L4dJzCeb+EQXm/hEHpHf1Beb+EQRu0mMK6xarCBKzFwli8hsJuA3TCoQ5CQoFeasJYvIbC0G6pwgb/OkIG/zpCQK6QwqGQq0JYvIbCoFGOQoFeasIZpvhCGab4Qhmm+EIZpvhCGab4QpGPCEMZpvhCGab4Qhmm+EIZpvhC",
          "dtype": "f4"
         },
         "xaxis": "x",
         "y": {
          "bdata": "IQ8BQ/k1xUI4GxdDaeYbQwPHBUAF2ozB/3YHQ/K4+0L/dgdDypIKQyTbp0I8Kv1CUuSJwP/ln0ItiYhC0KASQ3HW6UJ/xMlCb4zTQtyZqkJ/xMlCf8TJQnHW6UISQBBDEkAQQxbzCEMSQBBDJTfRQqEBEEI26fvBvOoRQ/WJ5kL/dgdD9YnmQhJAEENx1ulCEkAQQ8nTAEMO6hFDLmOrQq0lwEJl/9tC/3YHQwvKEEMGYAFD+HcNQxJAEEMktU7BUvkoQjK0MkISQBBDEkAQQxJAEEMtiYhCcdbpQnHW6UIVjOJB/3YHQwC2oEKuiv1CEkAQQ5BzIEOtJcBCaj4eQxw4G0NKLw1Daj4eQ3IQjkIpRAJDQ7QWQ/h3DUMSQBBDEkAQQxJAEEMSQBBDf8TJQiEPAUNoRO1CRJl1wSEPAUNJ4wJB6m9mQvk1xUJHu+BC+HcNQyEPAUMdRKdBPXYdQiEPAUP5NcVCbkgjPw0UW0IGdVhBjQh2QdwZoEJ/xMlCTLSoQbf0KEKh8WdC4JAdQka4h0FV6BbC7n9awW62mEFliF7CO7czvbH3tUL1ieZCO7czvZzZBkPLNhpDW3fuQju3M70vLphBU/6JQp/VokI7tzO9HY2cQh2NnEJT/olCeYODQnmDg0JVL2FCeYODQqgCoUK6palCszX1Qn/EyUK1vpNCfusfwtyZqkJ/xMlCDSocQzu3M707tzO9/3YHQ0CpCcN/xMlCmTvAQtyZqkLlG8rC5RvKwuUbysLlG8rC5RvKwvaVsMLlG8rC5RvKwuUbysLlG8rC",
          "dtype": "f4"
         },
         "yaxis": "y"
        },
        {
         "hovertemplate": "Category=Watches<br>t-SNE1=%{x}<br>t-SNE2=%{y}<extra></extra>",
         "legendgroup": "Watches",
         "marker": {
          "color": "#00cc96",
          "symbol": "circle"
         },
         "mode": "markers",
         "name": "Watches",
         "showlegend": true,
         "type": "scattergl",
         "x": {
          "bdata": "puUbwzKc68I46c3CqXuRwjKc68LJcuLCMpzrwjKc68IynOvCrAGPwjKc68JtHH7CbrqCwjKc68KCwWDCyXLiwjjpzcIynOvCqXuRwjKc68JR347CQrbHwm0cfsJ+0mXCMpzrwpxXgMIynOvCMpzrwtPXA8NAmhzDBKARwwpVLsNAmhzDClUuw0CaHMPT1wPD7WUAw3/N6MJ/zejCNC4pw6aVKMMPUDzD09cDw1e6B8NVfDHDf83owg9QPMM+dznDClUuw9PXA8NVfDHD33glw3/N6MIj6AjDD1A8w6beIsOm3iLDpt4iw1V8McNVfDHD33glw0iip8K5SgvDVXwxwyPoCMN+Yx3Dpt4iwzQuKcPT1wPDioDswtPXA8Om3iLDNC4pwz53OcOKgOzCpt4iw6blG8PT1wPDD1A8w3/N6MKcV4DCQrbHwlV8McM+dznD09cDw9PXA8Mj6AjDClUuwwpVLsMj6AjD09cDw4qA7MIKVS7Dcq/2wtWtJMOm5RvDClUuw9PXA8PD46bChH88w4KDlcIj6AjDD1A8wyPoCMPT1wPDClUuwwSgEcMKVS7DNC4pw8A0N8MKVS7Df83owqz6m8IPUDzDClUuw9PXA8OKgOzCppUow3afHMMKVS7D33glw9PXA8OKgOzCD1A8w9PXA8NhDP/CMpzrwgpVLsNAmhzD0kmCwgpVLsNP/9PCcZ7Nwk//08IKVS7DClUuwwpVLsPT1wPDcZ7NwpJYwsJxns3CcZ7NwtPXA8PT1wPDsjIQw9PXA8NytA/DClUuw9PXA8NnyhPD",
          "dtype": "f4"
         },
         "xaxis": "x",
         "y": {
          "bdata": "VfB9QWZH2cJ659TCxKCvwmZH2cLBcfLCZkfZwmZH2cJmR9nC9bSOwmZH2cIQG6/Cz5ORwmZH2cJ7QbDCwXHywnrn1MJmR9nCxKCvwmZH2cIrIqDCS7e/whAbr8JToZnCZkfZwmh/nsJmR9nCZkfZwj4JpML/3gDCVLI/wjbd7MH/3gDCNt3swf/eAMI+CaTC8tsiwhXexcEV3sXBkEBeQNljRUHZbWDCPgmkwnC16cG/iqrCFd7FwdltYMI1P43CNt3swT4JpMK/iqrCL6BFwhXexcHYo5vB2W1gwkwitMJMIrTCTCK0wr+KqsK/iqrCL6BFwsTLnsImUL7Cv4qqwtijm8F5NM9ATCK0wpBAXkA+CaTCz0Y0wj4JpMJMIrTCkEBeQDU/jcLPRjTCTCK0wlXwfUE+CaTC2W1gwhXexcFof57CS7e/wr+KqsI1P43CPgmkwj4JpMLYo5vBNt3swTbd7MHYo5vBPgmkws9GNMI23ezB4lYZwtlYb8BV8H1BNt3swT4JpMJ2u7vCpFvvwWybv8LYo5vB2W1gwtijm8E+CaTCNt3swVSyP8I23ezBkEBeQE9ujME23ezBFd7FweELnsLZbWDCNt3swT4JpMLPRjTC2WNFQSmxr8E23ezBL6BFwj4JpMLPRjTC2W1gwj4JpMJgv+rCZkfZwjbd7MH/3gDCApa+wjbd7MEH+3vCT56Kwgf7e8I23ezBNt3swTbd7ME+CaTCT56KwmxmeMJPnorCT56Kwj4JpMI+CaTCxypXwj4JpMJ4CHbCNt3swT4JpMLQhILC",
          "dtype": "f4"
         },
         "yaxis": "y"
        },
        {
         "hovertemplate": "Category=Home Decor & Festive Needs<br>t-SNE1=%{x}<br>t-SNE2=%{y}<extra></extra>",
         "legendgroup": "Home Decor & Festive Needs",
         "marker": {
          "color": "#ab63fa",
          "symbol": "circle"
         },
         "mode": "markers",
         "name": "Home Decor & Festive Needs",
         "showlegend": true,
         "type": "scattergl",
         "x": {
          "bdata": "vZ6SQq0Aw8BSKBVDRXVuQlXw+kJSKBVDkeY7QzHrBkOR5jtDkeY7Q1IoFUOR5jtD+J0tQ9Sq2UKhPNdCUigVQ4DCokJSKBVDkeY7Q3s0oMCRnUXCUigVQ1IoFUNSKBVDUigVQ4xG9kIx6wZDUigVQ1IoFUP4nS1Dy7+5QiyBzEJrA+JCUigVQwUqG0M4VrhCy7+5QlIoFUOGMSZDUigVQ2sD4kJSKBVDUigVQwUqG0NSKBVDoouwQlIoFUO61kBD0dz7QlIoFUNSKBVDUigVQ1IoFUMx6wZD1KrZQlIoFUNSKBVDokwHQD9KCkP4nS1DkeY7Q1IoFUNSKBVDUigVQ1IoFUOMRvZCMesGQ1IoFUNSKBVDUigVQ1IoFUOI9+pCkbUgQ4DCokJrA+JCUigVQ1IoFUNSKBVDQq06Q1IoFUO5rB1DUigVQ/5uOENSKBVDlsA/QcEWLUH5IlZBZpTYQqBRjkLbLPlCJjXdQmNof8FQP81CGab4QkVbNENSKBVDPFrjwe5Wz8CFIqzBHKAVQ5IJzUJSKBVDUigVQ1IoFUNSKBVD+J0tQ0F/ekE/SgpD+J0tQ0qsykJKrMpC1KrZQlIoFUMvG2NCZpR3wjxa48E8WuPBPFrjwRygFUO5vHbCcHLFQVIoFUP/r81BUigVQ0qF5UGVxMxAUigVQ1IoFUP4nS1DXOtbQVzrW0FSKBVDFIKvQdmSHMInMxNB+0vkQgb/OkIcoBVDJzMTQWTpK8JSKBVDUigVQ51eG0NSKBVDnV4bQ1IoFUNSKBVD+GkFQ72ekkJSKBVD",
          "dtype": "f4"
         },
         "xaxis": "x",
         "y": {
          "bdata": "HN8Aw1rE/MEszfrAOEK4wTpMqcIszfrAgcfOwQIwK8KBx87BgcfOwSzN+sCBx87BgZpSwpN1HMJ2fObBLM36wNj700EszfrAgcfOwZUQusEOsqnBLM36wCzN+sAszfrALM36wF0lG0ICMCvCLM36wCzN+sCBmlLCHBgXwuw5A79B2la/LM36wDq5GsKytYJBHBgXwizN+sC7y2vCLM36wEHaVr8szfrALM36wDq5GsIszfrAgGE6QizN+sDBc/M/qV4+QSzN+sAszfrALM36wCzN+sACMCvCk3UcwizN+sAszfrAgZ7EQEcguUGBmlLCgcfOwSzN+sAszfrALM36wCzN+sBdJRtCAjArwizN+sAszfrALM36wCzN+sCKJ6HBr6eaQdj700FB2la/LM36wCzN+sAszfrAX700vizN+sD5vK9BLM36wMQSEsIszfrAgStyQddirEFPKxBBUV9iwpk7wEIFE7TCaV10wupvZkLOUmDC5RvKwrR2bMIszfrAR7vgQsqAJEIdEexCCJBdQo6CycEszfrALM36wCzN+sAszfrAgZpSwrK+WMJHILlBgZpSwjLqR8Iy6kfCk3UcwizN+sASncvBh8nFwke74EJHu+BCR7vgQgiQXUIv5RrCv1tEwizN+sDt3FbCLM36wBLDPMKj/23CLM36wCzN+sCBmlLCKMx3wijMd8IszfrAg45lwr6c+cHQbkXChYW1wTu3M70IkF1C0G5FwmMyeUIszfrALM36wBSjIkIszfrAFKMiQizN+sAszfrAe2GpwhzfAMMszfrA",
          "dtype": "f4"
         },
         "yaxis": "y"
        },
        {
         "hovertemplate": "Category=Kitchen & Dining<br>t-SNE1=%{x}<br>t-SNE2=%{y}<extra></extra>",
         "legendgroup": "Kitchen & Dining",
         "marker": {
          "color": "#FFA15A",
          "symbol": "circle"
         },
         "mode": "markers",
         "name": "Kitchen & Dining",
         "showlegend": true,
         "type": "scattergl",
         "x": {
          "bdata": "hFhoQrYHu8IJCIJCCQiCQgkIgkIJCIJCCQiCQpPQ9UF3hLVCd4S1QteK00JF0+pCScJPwQKlkEJNsS5DAqWQQtU3ZUKS58FC1TdlQoPdIELQs6pC1sldQgfyN0KS58FCw3AOQgcupULDcA5CBy6lQrN4p0L8dJJC1TdlQgcupULTFwBCmCQGQgcupUIHLqVCB/I3QpgkBkKD3SBC0xcAQgcupUKrvLtCmCQGQpgkBkLVN2VCB/I3Qm+iQ0Ldb41Cw3AOQtU3ZUKYJAZCBy6lQgcupUIH8jdCmCQGQpgkBkIH8jdCZcEKQgfyN0IHLqVCBy6lQm+iQ0K/8WVCmCQGQpgkBkLDcA5Cq7y7QpgkBkKYJAZCmCQGQp9Qk0IH8jdCmCQGQgcupUIH8jdCCQiCQgcupUIHLqVCZwliQo78g0DC1DHBdAmlwR1sokIBYAJDZEuDQJs+Z0Gb+6ZBj/QbQ64BTsGP9BtDj/QbQ4/0G0PMqhdDj/QbQ4/0G0OP9BtDj/QbQ4/0G0OP9BtDj/QbQ4/0G0OP9BtDj/QbQ4/0G0OP9BtDj/QbQ4/0G0M6MzVBj/QbQ4/0G0Mh0BrBrj4HwZGdRcI8ZthBBEm+QSXagkICpZBCKs/XQcjht0Hv8p1BM5wUQRygFUN6sb1Cj/QbQ02xLkPOQuRBtge7wrYHu8K2B7vCtge7wrYHu8K2B7vCOuPnwaUqxUKlKsVCpSrFQqUqxULjrLxCpSrFQo0Nc0Ih0BrBBv86Qgb/OkIG/zpCBv86QgkIgkJY8w7CBv86QpuQlkIh0BrB",
          "dtype": "f4"
         },
         "xaxis": "x",
         "y": {
          "bdata": "Zz36QW4UHkK78RHDu/ERw7vxEcO78RHDu/ERwywC3ELukwTD7pMEw2GKbkL78V1C0B0RQ19zD8KJ/z9BX3MPwl4u0cLgFyLDXi7RwvAJ4cLCHTfDUZIWwzPG+cLgFyLD83UGw1JLKsPzdQbDUksqw8AsHsMGMzLDXi7RwlJLKsMATuPCqW0pw1JLKsNSSyrDM8b5wqltKcPwCeHCAE7jwlJLKsMxhS/DqW0pw6ltKcNeLtHCM8b5wqTUysL9UifD83UGw14u0cKpbSnDUksqw1JLKsMzxvnCqW0pw6ltKcMzxvnCx13zwjPG+cJSSyrDUksqw6TUysLYJOrCqW0pw6ltKcPzdQbDMYUvw6ltKcOpbSnDqW0pwwMrOMMzxvnCqW0pw1JLKsMzxvnCu/ERw1JLKsNSSyrD+Zn7wn6SZz7q7ZHBV/0uQfuVOkKD2UvCD1INwsQ1EMIftmPBe3+5QjHPzsF7f7lCe3+5Qnt/uUJ7eoRCe3+5Qnt/uUJ7f7lCe3+5Qnt/uUJ7f7lCe3+5Qnt/uUJ7f7lCe3+5Qnt/uUJ7f7lCe3+5Qnt/uULS18DAe3+5Qnt/uUK9iBhDSHidQQ6yqcHLf4bAJruPQaOBGsJfcw/ChV03wTRiyUEYh9ZADqI6wQiQXUKO6gDDe3+5Qon/P0GMNfpBbhQeQm4UHkJuFB5CbhQeQm4UHkJuFB5CClK2QFk5scJZObHCWTmxwlk5scJqhaPCWTmxwrzU5EG9iBhDO7czvTu3M707tzO9O7czvbvxEcMAW5dCO7czvd1vDcO9iBhD",
          "dtype": "f4"
         },
         "yaxis": "y"
        },
        {
         "hovertemplate": "Category=Beauty and Personal Care<br>t-SNE1=%{x}<br>t-SNE2=%{y}<extra></extra>",
         "legendgroup": "Beauty and Personal Care",
         "marker": {
          "color": "#19d3f3",
          "symbol": "circle"
         },
         "mode": "markers",
         "name": "Beauty and Personal Care",
         "showlegend": true,
         "type": "scattergl",
         "x": {
          "bdata": "T6wnwU+sJ8FKhARCTviIwk74iMJLAS1BI8GRwU74iMINUZlC/AbPQokflsFRL91CyPLSQhW7l8H+pmvBPvuBwl/Sp0A++4HCvNJdwWy2ucDI2thBgYNWPwtLVUHI2thByNrYQcja2EFdT+5ByNrYQcja2EHI2thByNrYQXEH50HI2thByNrYQcja2EHI2thByNrYQWy2ucCYGM9AyNrYQcja2EHI2thByNrYQZNJ0sL+iVVCgYNWP5IKE0LpYqNBgi2WQMja2EFstrnAyNrYQcja2EHI2thByNrYQcja2EHI2thByNrYQYGDVj/I2thByNrYQQtLVUHI2thBgYNWP8ja2EHI2thByNrYQf6JVULI2thByNrYQV1P7kHI2thByNrYQdzNSkLI2thByNrYQYYUAkLI2thByNrYQcja2EHI2thByNrYQfLIMUEFHnlC0NIBQufWrEE+us9BE2WTQfb9pkLaooVBUG0hQQWN00H+64LCIbTFQVEv3UJq8IpBdwz8QUpUpUHNERJCaHMgQhiTgkF3DPxB6/0RQujwM0IGZGvBYodLQXcM/EECF85BUgE0QgOe8UGugDfAroA3wNFnV0IdoVZCrFseQK6AN8AG/zpCBv86Qq6AN8DRZ1dCOIsxQtFnV0JIeD9C0WdXQtFnV0KsWx5AroA3wKxbHkDRZ1dC0WdXQq6AN8AG/zpCBv86Qgb/OkLQG9u+9v2mQgb/OkIG/zpCFwJGQgb/OkJRL91CiWbvQngXdML16ZxAdwz8QdH4DcMG/zpCdwz8QQb/OkIG/zpC",
          "dtype": "f4"
         },
         "xaxis": "x",
         "y": {
          "bdata": "UBIhwVASIcGOfgHBiRv9QYkb/UFJHwZD2gJmQIkb/UEuSeDBNHphQsSdj8HNNzxCkQwiQulaGsGXKTrA3rc/QV/TzMDetz9BaBJqQfmuOENzdB5DiKEhQ5gPOkNzdB5Dc3QeQ3N0HkOCLe5Cc3QeQ3N0HkNzdB5Dc3QeQwBZ+kJzdB5Dc3QeQ3N0HkNzdB5Dc3QeQ/muOEMl4QBDc3QeQ3N0HkNzdB5Dc3QeQ30mp0KAjA9DiKEhQ210OkOzljtDaJc7Q3N0HkP5rjhDc3QeQ3N0HkNzdB5Dc3QeQ3N0HkNzdB5Dc3QeQ4ihIUNzdB5Dc3QeQ5gPOkNzdB5DiKEhQ3N0HkNzdB5Dc3QeQ4CMD0NzdB5Dc3QeQ4It7kJzdB5Dc3QeQ2NY+EJzdB5Dc3QeQzEYOkNzdB5Dc3QeQ3N0HkNzdB5Dc3QeQ3h8M0NkRm9Cexq3wX6r5sBpPpVAmn5TQZ4Vl8GB2kPATVz6vp03lMHuFTlCjYIyQc03PEKaRJ5BPhTKQr9PBUKnueVBu1rOwTGu1kE+FMpCtPQmQoyaDEJn4wpCSiUMQj4UykJyUChCpXKiQQAUdUGPmbxCj5m8Qid1gkLdWJpC3vfVQo+ZvEI7tzO9O7czvY+ZvEIndYJCxreWQid1gkIdfp1CJ3WCQid1gkLe99VCj5m8Qt731UIndYJCJ3WCQo+ZvEI7tzO9O7czvTu3M72j35BCnhWXwTu3M707tzO98JdlQju3M73NNzxCHzo6Qmv9HkLlDbRCPhTKQph7ycI7tzO9PhTKQju3M707tzO9",
          "dtype": "f4"
         },
         "yaxis": "y"
        },
        {
         "hovertemplate": "Category=Computers<br>t-SNE1=%{x}<br>t-SNE2=%{y}<extra></extra>",
         "legendgroup": "Computers",
         "marker": {
          "color": "#FF6692",
          "symbol": "circle"
         },
         "mode": "markers",
         "name": "Computers",
         "showlegend": true,
         "type": "scattergl",
         "x": {
          "bdata": "W6OKwNLCFMM8JRLDPCUSwzwlEsNpRNfAeBd0wlCkLMCloxzAs0CWv6xdksLg3XVAGvJewuOOT0EZxZk/EJkxwp4ZjkHPSVU/rF2SwhryXsIa8l7ClHrDQJEynUEa8l7CqCAgQaxdksIa8l7CrF2SwlbEB0FqPnJBGvJewi83ucHEJkTBrF2SwrfKMcEXINlAj6mNwaxdksLUTmZBGvJewhryXsLNWXLA7mGcwLr3rECJiclBAGXQwDiwf0HqeyrCrF2SwjXHO8DdhJ4+oF13QMlmQcJmEDRA/NUjQmDYukEQmTHCHvauQbNPpD6C/eHCnvWJQZ71iUGe9YlBnvWJQZ71iUGe9YlBnvWJQc7160HO9etBzvXrQfxh8cBwkgrCZS8IwrABI8IzsPDB+6CxwfugscFwkgrCM7Dwwcw1+cFo8sHBHh80wvstqcHN9LjBaPLBwXCSCsK/exnC+6CxwWjywcG/exnCv3sZwr97GcJpTRfC0sIUw/xh8cD8YfHAKbgswupE7UF4F3TCFzNfwhFF68IG3gnB0sIUw2zCHcOyMvTC0sIUw7TX9MK8pPfClPH4wrIy9MK7w+nCLW/XwrvD6cJShtzCu8PpwtLCFMPSwhTD0sIUw9LCFMPWCiHDbMIdw2A5EMPSwhTDE/4Bw9LCFMO/SefCu8PpwtLCFMNqxALD0sIUw5ndEMO7w+nCl/niwlBmCcPSwhTDsjL0wvstqcE2brTALf5Gwc4VQMDOFUDAzhVAwNmws8LOFUDAzhVAwM4VQMDOFUDAzhVAwM4VQMAt/kbB",
          "dtype": "f4"
         },
         "xaxis": "x",
         "y": {
          "bdata": "8Tt+wTo3lkIi6DNCIugzQiLoM0KTC2DAa/0eQvSuGsFab8k/xS6SQfkdDcPtnAJCvcsAwyQ6tsGIk5rBlpnqwvnE4cFSMOHB+R0Nw73LAMO9ywDDUua/wYLTp8G9ywDDf//twfkdDcO9ywDD+R0Nw15DqEDb+zlAvcsAw5pCJsA5BgFB+R0Nw+aV00EMkDJBWEGnQfkdDcMYaIHBvcsAw73LAMNzl/9Bj2TkQADMikHc8s/BitVSQUyoHsECIN7C+R0Nwz0jx0FwTUBByznBQWNRB8PgyknBsKOKwRaaCMKWmerC8nh1PYnLUEJAhQNCuSatwrkmrcK5Jq3CuSatwrkmrcK5Jq3CuSatwhwam8IcGpvCHBqbwozHN8JyISTDa/s8w5WTOcMCUzXDYL0mw2C9JsNyISTDAlM1w0zFHcN/3jnD8Bouw8+wMMNK6x7Df945w3IhJMPbmjHDYL0mw3/eOcPbmjHD25oxw9uaMcMGHpbBOjeWQozHN8KMxzfCjLabwd3jtkFr/R5C9yKlwUAsYUHCFFfCOjeWQueaqUL3sBtCOjeWQiiC+kFymzlC7GFoQvewG0KCb1VCmghXQoJvVUIQgEFCgm9VQjo3lkI6N5ZCOjeWQjo3lkLyBYtC55qpQt4je0I6N5ZCOYkjQjo3lkIcZCxCgm9VQjo3lkLuJwtCOjeWQlcIrUKCb1VChlh4QiVknEI6N5ZC97AbQs+wMMPJtZJCsQwAw3wTAMN8EwDDfBMAw2WIXsJ8EwDDfBMAw3wTAMN8EwDDfBMAw3wTAMOxDADD",
          "dtype": "f4"
         },
         "yaxis": "y"
        }
       ],
       "layout": {
        "legend": {
         "title": {
          "text": "Category"
         },
         "tracegroupgap": 0
        },
        "template": {
         "data": {
          "bar": [
           {
            "error_x": {
             "color": "#2a3f5f"
            },
            "error_y": {
             "color": "#2a3f5f"
            },
            "marker": {
             "line": {
              "color": "#E5ECF6",
              "width": 0.5
             },
             "pattern": {
              "fillmode": "overlay",
              "size": 10,
              "solidity": 0.2
             }
            },
            "type": "bar"
           }
          ],
          "barpolar": [
           {
            "marker": {
             "line": {
              "color": "#E5ECF6",
              "width": 0.5
             },
             "pattern": {
              "fillmode": "overlay",
              "size": 10,
              "solidity": 0.2
             }
            },
            "type": "barpolar"
           }
          ],
          "carpet": [
           {
            "aaxis": {
             "endlinecolor": "#2a3f5f",
             "gridcolor": "white",
             "linecolor": "white",
             "minorgridcolor": "white",
             "startlinecolor": "#2a3f5f"
            },
            "baxis": {
             "endlinecolor": "#2a3f5f",
             "gridcolor": "white",
             "linecolor": "white",
             "minorgridcolor": "white",
             "startlinecolor": "#2a3f5f"
            },
            "type": "carpet"
           }
          ],
          "choropleth": [
           {
            "colorbar": {
             "outlinewidth": 0,
             "ticks": ""
            },
            "type": "choropleth"
           }
          ],
          "contour": [
           {
            "colorbar": {
             "outlinewidth": 0,
             "ticks": ""
            },
            "colorscale": [
             [
              0,
              "#0d0887"
             ],
             [
              0.1111111111111111,
              "#46039f"
             ],
             [
              0.2222222222222222,
              "#7201a8"
             ],
             [
              0.3333333333333333,
              "#9c179e"
             ],
             [
              0.4444444444444444,
              "#bd3786"
             ],
             [
              0.5555555555555556,
              "#d8576b"
             ],
             [
              0.6666666666666666,
              "#ed7953"
             ],
             [
              0.7777777777777778,
              "#fb9f3a"
             ],
             [
              0.8888888888888888,
              "#fdca26"
             ],
             [
              1,
              "#f0f921"
             ]
            ],
            "type": "contour"
           }
          ],
          "contourcarpet": [
           {
            "colorbar": {
             "outlinewidth": 0,
             "ticks": ""
            },
            "type": "contourcarpet"
           }
          ],
          "heatmap": [
           {
            "colorbar": {
             "outlinewidth": 0,
             "ticks": ""
            },
            "colorscale": [
             [
              0,
              "#0d0887"
             ],
             [
              0.1111111111111111,
              "#46039f"
             ],
             [
              0.2222222222222222,
              "#7201a8"
             ],
             [
              0.3333333333333333,
              "#9c179e"
             ],
             [
              0.4444444444444444,
              "#bd3786"
             ],
             [
              0.5555555555555556,
              "#d8576b"
             ],
             [
              0.6666666666666666,
              "#ed7953"
             ],
             [
              0.7777777777777778,
              "#fb9f3a"
             ],
             [
              0.8888888888888888,
              "#fdca26"
             ],
             [
              1,
              "#f0f921"
             ]
            ],
            "type": "heatmap"
           }
          ],
          "histogram": [
           {
            "marker": {
             "pattern": {
              "fillmode": "overlay",
              "size": 10,
              "solidity": 0.2
             }
            },
            "type": "histogram"
           }
          ],
          "histogram2d": [
           {
            "colorbar": {
             "outlinewidth": 0,
             "ticks": ""
            },
            "colorscale": [
             [
              0,
              "#0d0887"
             ],
             [
              0.1111111111111111,
              "#46039f"
             ],
             [
              0.2222222222222222,
              "#7201a8"
             ],
             [
              0.3333333333333333,
              "#9c179e"
             ],
             [
              0.4444444444444444,
              "#bd3786"
             ],
             [
              0.5555555555555556,
              "#d8576b"
             ],
             [
              0.6666666666666666,
              "#ed7953"
             ],
             [
              0.7777777777777778,
              "#fb9f3a"
             ],
             [
              0.8888888888888888,
              "#fdca26"
             ],
             [
              1,
              "#f0f921"
             ]
            ],
            "type": "histogram2d"
           }
          ],
          "histogram2dcontour": [
           {
            "colorbar": {
             "outlinewidth": 0,
             "ticks": ""
            },
            "colorscale": [
             [
              0,
              "#0d0887"
             ],
             [
              0.1111111111111111,
              "#46039f"
             ],
             [
              0.2222222222222222,
              "#7201a8"
             ],
             [
              0.3333333333333333,
              "#9c179e"
             ],
             [
              0.4444444444444444,
              "#bd3786"
             ],
             [
              0.5555555555555556,
              "#d8576b"
             ],
             [
              0.6666666666666666,
              "#ed7953"
             ],
             [
              0.7777777777777778,
              "#fb9f3a"
             ],
             [
              0.8888888888888888,
              "#fdca26"
             ],
             [
              1,
              "#f0f921"
             ]
            ],
            "type": "histogram2dcontour"
           }
          ],
          "mesh3d": [
           {
            "colorbar": {
             "outlinewidth": 0,
             "ticks": ""
            },
            "type": "mesh3d"
           }
          ],
          "parcoords": [
           {
            "line": {
             "colorbar": {
              "outlinewidth": 0,
              "ticks": ""
             }
            },
            "type": "parcoords"
           }
          ],
          "pie": [
           {
            "automargin": true,
            "type": "pie"
           }
          ],
          "scatter": [
           {
            "fillpattern": {
             "fillmode": "overlay",
             "size": 10,
             "solidity": 0.2
            },
            "type": "scatter"
           }
          ],
          "scatter3d": [
           {
            "line": {
             "colorbar": {
              "outlinewidth": 0,
              "ticks": ""
             }
            },
            "marker": {
             "colorbar": {
              "outlinewidth": 0,
              "ticks": ""
             }
            },
            "type": "scatter3d"
           }
          ],
          "scattercarpet": [
           {
            "marker": {
             "colorbar": {
              "outlinewidth": 0,
              "ticks": ""
             }
            },
            "type": "scattercarpet"
           }
          ],
          "scattergeo": [
           {
            "marker": {
             "colorbar": {
              "outlinewidth": 0,
              "ticks": ""
             }
            },
            "type": "scattergeo"
           }
          ],
          "scattergl": [
           {
            "marker": {
             "colorbar": {
              "outlinewidth": 0,
              "ticks": ""
             }
            },
            "type": "scattergl"
           }
          ],
          "scattermap": [
           {
            "marker": {
             "colorbar": {
              "outlinewidth": 0,
              "ticks": ""
             }
            },
            "type": "scattermap"
           }
          ],
          "scattermapbox": [
           {
            "marker": {
             "colorbar": {
              "outlinewidth": 0,
              "ticks": ""
             }
            },
            "type": "scattermapbox"
           }
          ],
          "scatterpolar": [
           {
            "marker": {
             "colorbar": {
              "outlinewidth": 0,
              "ticks": ""
             }
            },
            "type": "scatterpolar"
           }
          ],
          "scatterpolargl": [
           {
            "marker": {
             "colorbar": {
              "outlinewidth": 0,
              "ticks": ""
             }
            },
            "type": "scatterpolargl"
           }
          ],
          "scatterternary": [
           {
            "marker": {
             "colorbar": {
              "outlinewidth": 0,
              "ticks": ""
             }
            },
            "type": "scatterternary"
           }
          ],
          "surface": [
           {
            "colorbar": {
             "outlinewidth": 0,
             "ticks": ""
            },
            "colorscale": [
             [
              0,
              "#0d0887"
             ],
             [
              0.1111111111111111,
              "#46039f"
             ],
             [
              0.2222222222222222,
              "#7201a8"
             ],
             [
              0.3333333333333333,
              "#9c179e"
             ],
             [
              0.4444444444444444,
              "#bd3786"
             ],
             [
              0.5555555555555556,
              "#d8576b"
             ],
             [
              0.6666666666666666,
              "#ed7953"
             ],
             [
              0.7777777777777778,
              "#fb9f3a"
             ],
             [
              0.8888888888888888,
              "#fdca26"
             ],
             [
              1,
              "#f0f921"
             ]
            ],
            "type": "surface"
           }
          ],
          "table": [
           {
            "cells": {
             "fill": {
              "color": "#EBF0F8"
             },
             "line": {
              "color": "white"
             }
            },
            "header": {
             "fill": {
              "color": "#C8D4E3"
             },
             "line": {
              "color": "white"
             }
            },
            "type": "table"
           }
          ]
         },
         "layout": {
          "annotationdefaults": {
           "arrowcolor": "#2a3f5f",
           "arrowhead": 0,
           "arrowwidth": 1
          },
          "autotypenumbers": "strict",
          "coloraxis": {
           "colorbar": {
            "outlinewidth": 0,
            "ticks": ""
           }
          },
          "colorscale": {
           "diverging": [
            [
             0,
             "#8e0152"
            ],
            [
             0.1,
             "#c51b7d"
            ],
            [
             0.2,
             "#de77ae"
            ],
            [
             0.3,
             "#f1b6da"
            ],
            [
             0.4,
             "#fde0ef"
            ],
            [
             0.5,
             "#f7f7f7"
            ],
            [
             0.6,
             "#e6f5d0"
            ],
            [
             0.7,
             "#b8e186"
            ],
            [
             0.8,
             "#7fbc41"
            ],
            [
             0.9,
             "#4d9221"
            ],
            [
             1,
             "#276419"
            ]
           ],
           "sequential": [
            [
             0,
             "#0d0887"
            ],
            [
             0.1111111111111111,
             "#46039f"
            ],
            [
             0.2222222222222222,
             "#7201a8"
            ],
            [
             0.3333333333333333,
             "#9c179e"
            ],
            [
             0.4444444444444444,
             "#bd3786"
            ],
            [
             0.5555555555555556,
             "#d8576b"
            ],
            [
             0.6666666666666666,
             "#ed7953"
            ],
            [
             0.7777777777777778,
             "#fb9f3a"
            ],
            [
             0.8888888888888888,
             "#fdca26"
            ],
            [
             1,
             "#f0f921"
            ]
           ],
           "sequentialminus": [
            [
             0,
             "#0d0887"
            ],
            [
             0.1111111111111111,
             "#46039f"
            ],
            [
             0.2222222222222222,
             "#7201a8"
            ],
            [
             0.3333333333333333,
             "#9c179e"
            ],
            [
             0.4444444444444444,
             "#bd3786"
            ],
            [
             0.5555555555555556,
             "#d8576b"
            ],
            [
             0.6666666666666666,
             "#ed7953"
            ],
            [
             0.7777777777777778,
             "#fb9f3a"
            ],
            [
             0.8888888888888888,
             "#fdca26"
            ],
            [
             1,
             "#f0f921"
            ]
           ]
          },
          "colorway": [
           "#636efa",
           "#EF553B",
           "#00cc96",
           "#ab63fa",
           "#FFA15A",
           "#19d3f3",
           "#FF6692",
           "#B6E880",
           "#FF97FF",
           "#FECB52"
          ],
          "font": {
           "color": "#2a3f5f"
          },
          "geo": {
           "bgcolor": "white",
           "lakecolor": "white",
           "landcolor": "#E5ECF6",
           "showlakes": true,
           "showland": true,
           "subunitcolor": "white"
          },
          "hoverlabel": {
           "align": "left"
          },
          "hovermode": "closest",
          "mapbox": {
           "style": "light"
          },
          "paper_bgcolor": "white",
          "plot_bgcolor": "#E5ECF6",
          "polar": {
           "angularaxis": {
            "gridcolor": "white",
            "linecolor": "white",
            "ticks": ""
           },
           "bgcolor": "#E5ECF6",
           "radialaxis": {
            "gridcolor": "white",
            "linecolor": "white",
            "ticks": ""
           }
          },
          "scene": {
           "xaxis": {
            "backgroundcolor": "#E5ECF6",
            "gridcolor": "white",
            "gridwidth": 2,
            "linecolor": "white",
            "showbackground": true,
            "ticks": "",
            "zerolinecolor": "white"
           },
           "yaxis": {
            "backgroundcolor": "#E5ECF6",
            "gridcolor": "white",
            "gridwidth": 2,
            "linecolor": "white",
            "showbackground": true,
            "ticks": "",
            "zerolinecolor": "white"
           },
           "zaxis": {
            "backgroundcolor": "#E5ECF6",
            "gridcolor": "white",
            "gridwidth": 2,
            "linecolor": "white",
            "showbackground": true,
            "ticks": "",
            "zerolinecolor": "white"
           }
          },
          "shapedefaults": {
           "line": {
            "color": "#2a3f5f"
           }
          },
          "ternary": {
           "aaxis": {
            "gridcolor": "white",
            "linecolor": "white",
            "ticks": ""
           },
           "baxis": {
            "gridcolor": "white",
            "linecolor": "white",
            "ticks": ""
           },
           "bgcolor": "#E5ECF6",
           "caxis": {
            "gridcolor": "white",
            "linecolor": "white",
            "ticks": ""
           }
          },
          "title": {
           "x": 0.05
          },
          "xaxis": {
           "automargin": true,
           "gridcolor": "white",
           "linecolor": "white",
           "ticks": "",
           "title": {
            "standoff": 15
           },
           "zerolinecolor": "white",
           "zerolinewidth": 2
          },
          "yaxis": {
           "automargin": true,
           "gridcolor": "white",
           "linecolor": "white",
           "ticks": "",
           "title": {
            "standoff": 15
           },
           "zerolinecolor": "white",
           "zerolinewidth": 2
          }
         }
        },
        "title": {
         "text": "t-SNE Visualization"
        },
        "xaxis": {
         "anchor": "y",
         "domain": [
          0,
          1
         ],
         "title": {
          "text": "t-SNE1"
         }
        },
        "yaxis": {
         "anchor": "x",
         "domain": [
          0,
          1
         ],
         "title": {
          "text": "t-SNE2"
         }
        }
       }
      }
     },
     "metadata": {},
     "output_type": "display_data"
    }
   ],
   "source": [
    "print(\"\\nApplying t-SNE to product name features...\")\n",
    "tsne_results = reducer.fit_transform_tsne(encoder.tfidf_matrix)\n",
    "tsne_fig = reducer.plot_tsne(labels=df['product_category'])\n",
    "tsne_fig.show()"
   ]
  },
  {
   "cell_type": "code",
   "execution_count": 11,
   "id": "6b2f5d28",
   "metadata": {},
   "outputs": [
    {
     "name": "stdout",
     "output_type": "stream",
     "text": [
      "\n",
      "Generating silhouette plot for product categories...\n"
     ]
    },
    {
     "data": {
      "application/vnd.plotly.v1+json": {
       "config": {
        "plotlyServerURL": "https://plot.ly"
       },
       "data": [
        {
         "fill": "tozerox",
         "fillcolor": "rgba(99, 110, 250, 0.5)",
         "line": {
          "color": "#636EFA",
          "width": 0.5
         },
         "mode": "lines",
         "name": "Baby Care (150 samples, 14.3%)",
         "type": "scatter",
         "x": {
          "bdata": "pZXy+w5oxr+Hs9bQUTzFv4ez1tBRPMW/h7PW0FE8xb+Hs9bQUTzFv4ez1tBRPMW/h7PW0FE8xb+Hs9bQUTzFv4ez1tBRPMW/h7PW0FE8xb+Hs9bQUTzFv4ez1tBRPMW/h7PW0FE8xb+Hs9bQUTzFv4ez1tBRPMW/h7PW0FE8xb+Hs9bQUTzFv4ez1tBRPMW/h7PW0FE8xb+Hs9bQUTzFv42ZsfLzI72/rK1sJUfour/IYF60FYKuv8hgXrQVgq6/yGBetBWCrr+pJEE10Aqqv91SqJaA9ai/CiT0SwoUpr8gyxtDPK2lvyDLG0M8raW/ZOu48jrmpL8d4BnFngCjv/tNha+8raK/9oxfvmI+ob/ct2TSEqGfv2kZQ4EjO5u/dTe3itz0mr+tMQfd98GZv8A82evImZm/7VrXljwOlb9PUoEP7GiRv09SgQ/saJG/T1KBD+xokb9PUoEP7GiRv09SgQ/saJG/ly14iH7Vjb8IJihqeYKNv5Ya0W3dF4u/UpKzvk/8iL9gBHYkEbmFv2AEdiQRuYW/YAR2JBG5hb9bD1F2iamBvx8/vJdgcnK/JXRX7Uy6bL+EPCwWpFpev0fy53cXR1C/Hp2H9cxmfT8VdjCfOLyHP0u7OxcHh5E/S7s7FweHkT9LuzsXB4eRP0u7OxcHh5E/S7s7FweHkT9LuzsXB4eRP0u7OxcHh5E/S7s7FweHkT9LuzsXB4eRP8GB1hO4VKA/B37GbS22oD9EH2UIY0ipP+58va4wr6k/983UQGr0qT94w+eZth6rP3A/kv1pBaw/ykZiCuh4rT8B07nayH+xPyXJ8zab17M/sAMjw0mItT+wAyPDSYi1PzoIqhUNkrU/d38XWDW5tT+P8+Lk6h+2P4/z4uTqH7Y/j/Pi5Ooftj/MFZ4tjjS2PyLuSVafMrk/tMHMnjN4uT+0wcyeM3i5P1LO3DkTiLk/yCNICc/ruT/YSStR3Am6P5i+s5lko7o/mL6zmWSjuj+ykPicHMC6P21tXBugKLw/yZN0ooxSvT/Jk3SijFK9P2JL2JqXdb4//glXssWMvj9UUa8b7c6+Pzet5tsiir8/mVxkDy7lvz+ImHDNU8bAP4iYcM1TxsA/iJhwzVPGwD9hlG83z/fAP3dLjwrnYcE/8RJMRLbPwj/xEkxEts/CP/YFIFTv7cI/UfgIT5+xxD9R+AhPn7HEP1H4CE+fscQ/9wz2LsiBxT/3DPYuyIHFP/cM9i7IgcU/9wz2LsiBxT/3DPYuyIHFP/cM9i7IgcU/9wz2LsiBxT/3DPYuyIHFP1HZyqzbx8U/dcF2Vi8pyT91wXZWLynJP3XBdlYvKck/dcF2Vi8pyT91wXZWLynJP3XBdlYvKck/dcF2Vi8pyT91wXZWLynJP3XBdlYvKck/dcF2Vi8pyT91wXZWLynJP3XBdlYvKck/dcF2Vi8pyT91wXZWLynJP6O3L2+9qck/o7cvb72pyT+jty9vvanJP6O3L2+9qck/o7cvb72pyT+jty9vvanJP4xJTDePTso/SNEZminVyj85IeQCF1/MPzkh5AIXX8w/OSHkAhdfzD85IeQCF1/MPzkh5AIXX8w/",
          "dtype": "f8"
         },
         "y": {
          "bdata": "AAAAAAAAJEB0AvICvDYlQOkE5AV4bSZAXQfWCDSkJ0DRCcgL8NooQEYMug6sESpAug6sEWhIK0AuEZ4UJH8sQKITkBfgtS1AFxaCGpzsLkBGDLoOrBEwQIANMxAKrTBAug6sEWhIMUD0DyUTxuMxQC4RnhQkfzJAaBIXFoIaM0CiE5AX4LUzQNwUCRk+UTRAFxaCGpzsNEBRF/sb+oc1QIsYdB1YIzZAxhntHra+NkAAG2YgFFo3QDoc3yFy9TdAdB1YI9CQOECuHtEkLiw5QOgfSiaMxzlAIiHDJ+piOkBcIjwpSP46QJcjtSqmmTtA0SQuLAQ1PEALJqctYtA8QEUnIC/Aaz1AfyiZMB4HPkC5KRIyfKI+QPMqizPaPT9ALiwENTjZP0C0lj4bSzpAQFEX+xv6h0BA7pe3HKnVQECLGHQdWCNBQCiZMB4HcUFAxhntHra+QUBimqkfZQxCQAAbZiAUWkJAnJsiIcOnQkA6HN8hcvVCQNacmyIhQ0NAdB1YI9CQQ0ARnhQkf95DQK4e0SQuLERAS5+NJd15REDoH0omjMdEQIWgBic7FUVAIiHDJ+piRUC/oX8ombBFQFwiPClI/kVA+aL4KfdLRkCXI7UqpplGQDSkcStV50ZA0SQuLAQ1R0Bupeoss4JHQAsmpy1i0EdAqKZjLhEeSEBFJyAvwGtIQOKn3C9vuUhAfyiZMB4HSUAcqVUxzVRJQLkpEjJ8oklAVqrOMivwSUDzKosz2j1KQJGrRzSJi0pALiwENTjZSkDLrMA15yZLQGgtfTaWdEtABa45N0XCS0CiLvY39A9MQD+vsjijXUxA3C9vOVKrTEB5sCs6AflMQBYx6DqwRk1As7GkO1+UTUBQMmE8DuJNQO2yHT29L05AizPaPWx9TkAotJY+G8tOQMU0Uz/KGE9AYrUPQHlmT0D/NcxAKLRPQE5bxKDrAFBAnJsiIcMnUEDr24Chmk5QQDoc3yFydVBAiFw9okmcUEDWnJsiIcNQQCXd+aL46VBAdB1YI9AQUUDCXbajpzdRQBGeFCR/XlFAYN5ypFaFUUCuHtEkLqxRQPxeL6UF01FAS5+NJd35UUCa3+ultCBSQOgfSiaMR1JANmCopmNuUkCFoAYnO5VSQNTgZKcSvFJAIiHDJ+riUkBxYSGowQlTQL+hfyiZMFNADuLdqHBXU0BcIjwpSH5TQKtimqkfpVNA+aL4KffLU0BI41aqzvJTQJcjtSqmGVRA5WMTq31AVEA0pHErVWdUQILkz6ssjlRA0SQuLAS1VEAfZYys29tUQG6l6iyzAlVAvOVIrYopVUALJqctYlBVQFlmBa45d1VAqKZjLhGeVUD25sGu6MRVQEUnIC/A61VAlGd+r5cSVkDip9wvbzlWQDHoOrBGYFZAfyiZMB6HVkDOaPew9a1WQBypVTHN1FZAa+mzsaT7VkC5KRIyfCJXQAhqcLJTSVdAVqrOMitwV0Cl6iyzApdXQPMqizPavVdAQmvps7HkV0CRq0c0iQtYQN/rpbRgMlhALiwENThZWEB8bGK1D4BYQMuswDXnplhAGe0etr7NWEBoLX02lvRYQLZt27ZtG1lA",
          "dtype": "f8"
         }
        },
        {
         "fill": "tozerox",
         "fillcolor": "rgba(239, 85, 59, 0.5)",
         "line": {
          "color": "#EF553B",
          "width": 0.5
         },
         "mode": "lines",
         "name": "Beauty and Personal Care (150 samples, 14.3%)",
         "type": "scatter",
         "x": {
          "bdata": "b117zHt5tb/GwV4QxRV8P8QlRYYGr44/Nf5ECJoXkD+xi3fU68GXP7GLd9TrwZc/JxoijdAEnD8KR6c+6p2fPwHvtdt6PKE/TY0kcNo3oj+2k4GyAbOiP7aTgbIBs6I/tpOBsgGzoj/uK7wDWvmiP+4rvANa+aI/7iu8A1r5oj/uK7wDWvmiP+4rvANa+aI/7iu8A1r5oj/uK7wDWvmiP+4rvANa+aI/7iu8A1r5oj/uK7wDWvmiP+4rvANa+aI/7iu8A1r5oj/uK7wDWvmiP+4rvANa+aI/7iu8A1r5oj/uK7wDWvmiP+4rvANa+aI/7iu8A1r5oj/uK7wDWvmiP+4rvANa+aI/7iu8A1r5oj/uK7wDWvmiP+4rvANa+aI/7iu8A1r5oj/uK7wDWvmiP+4rvANa+aI/7iu8A1r5oj/uK7wDWvmiP+4rvANa+aI/7iu8A1r5oj/uK7wDWvmiP+4rvANa+aI/7iu8A1r5oj/uK7wDWvmiP+4rvANa+aI/7iu8A1r5oj/uK7wDWvmiP+4rvANa+aI/7iu8A1r5oj/uK7wDWvmiPziqp1smoqQ/OKqnWyaipD8uas/hxiGpP0qbFv2PN6k/SpsW/Y83qT9Kmxb9jzepP0qbFv2PN6k/SpsW/Y83qT89TcFIYk6sP3fBG/6BmrA/RjNpdQRTsj9GM2l1BFOyP0YzaXUEU7I/RjNpdQRTsj9GM2l1BFOyP0YzaXUEU7I/RjNpdQRTsj/uCtaecpyyP5X8QAtb0bg/6XxLlFOgwD/pfEuUU6DAP+l8S5RToMA/qyuDtLK2wD+rK4O0srbAP6srg7SytsA/WVd56xHhwD+vfzdlzjzFP69/N2XOPMU/r383Zc48xT+vfzdlzjzFP69/N2XOPMU/r383Zc48xT+zu9x3qb3HPz/JSx3K2Mc/+YOekPlsyT/5g56Q+WzJP56CKpaYssk/Qfds8802yj8hHSRz/9TKP7/ZydorC8s/v9nJ2isLyz+/2cnaKwvLP6i8aZ31V8s/3x+czjCAyz/fH5zOMIDLP9bl63mb98s/X+3BICr3zD8jb7jfwrzPPyNvuN/CvM8/ugtxAxxr0D+BxAvNRBnVP4HEC81EGdU/gcQLzUQZ1T+BxAvNRBnVP+4LeUlXb9U/7Hsuqvb12T/sey6q9vXZP+x7Lqr29dk/7Hsuqvb12T/sey6q9vXZP+x7Lqr29dk/7Hsuqvb12T/sey6q9vXZP+x7Lqr29dk/7Hsuqvb12T/sey6q9vXZP+x7Lqr29dk/7Hsuqvb12T/sey6q9vXZP+x7Lqr29dk/7Hsuqvb12T/sey6q9vXZP+x7Lqr29dk/7Hsuqvb12T/sey6q9vXZP+x7Lqr29dk/7Hsuqvb12T/sey6q9vXZP+x7Lqr29dk/7Hsuqvb12T/sey6q9vXZP+x7Lqr29dk/7Hsuqvb12T/sey6q9vXZP+x7Lqr29dk/7Hsuqvb12T/sey6q9vXZP+x7Lqr29dk/7Hsuqvb12T/sey6q9vXZP+x7Lqr29dk/7Hsuqvb12T/sey6q9vXZP+x7Lqr29dk/7Hsuqvb12T/sey6q9vXZP+x7Lqr29dk/",
          "dtype": "f8"
         },
         "y": {
          "bdata": "tm3btm2bWkAFrjk3RcJaQFPul7cc6VpAoi72N/QPW0DwblS4yzZbQD+vsjijXVtAje8QuXqEW0DcL285UqtbQCpwzbkp0ltAebArOgH5W0DH8Im62B9cQBYx6DqwRlxAZHFGu4dtXECzsaQ7X5RcQALyArw2u1xAUDJhPA7iXECfcr+85QhdQO2yHT29L11APPN7vZRWXUCKM9o9bH1dQNlzOL5DpF1AJ7SWPhvLXUB29PS+8vFdQMQ0Uz/KGF5AE3Wxv6E/XkBitQ9AeWZeQLD1bcBQjV5A/jXMQCi0XkBNdirB/9peQJy2iEHXAV9A6vbmwa4oX0A5N0VChk9fQId3o8Jddl9A1rcBQzWdX0Ak+F/DDMRfQHM4vkPk6l9AYTwO4t0IYECIXD2iSRxgQK98bGK1L2BA1pybIiFDYED+vMrijFZgQCXd+aL4aWBATP0oY2R9YEB0HVgj0JBgQJs9h+M7pGBAwl22o6e3YEDpfeVjE8tgQBGeFCR/3mBAOL5D5OrxYEBf3nKkVgVhQIb+oWTCGGFArh7RJC4sYUDVPgDlmT9hQPxeL6UFU2FAJH9eZXFmYUBLn40l3XlhQHK/vOVIjWFAmd/rpbSgYUDB/xpmILRhQOgfSiaMx2FAD0B55vfaYUA2YKimY+5hQF6A12bPAWJAhaAGJzsVYkCswDXnpihiQNTgZKcSPGJA+wCUZ35PYkAiIcMn6mJiQElB8udVdmJAcGEhqMGJYkCYgVBoLZ1iQL+hfyiZsGJA5sGu6ATEYkAO4t2ocNdiQDUCDWnc6mJAXCI8KUj+YkCEQmvpsxFjQKtimqkfJWNA0oLJaYs4Y0D5ovgp90tjQCDDJ+piX2NASONWqs5yY0BvA4ZqOoZjQJYjtSqmmWNAvkPk6hGtY0DlYxOrfcBjQAyEQmvp02NANKRxK1XnY0BbxKDrwPpjQILkz6ssDmRAqQT/a5ghZEDQJC4sBDVkQPhEXexvSGRAH2WMrNtbZEBGhbtsR29kQG6l6iyzgmRAlcUZ7R6WZEC85UitiqlkQOQFeG32vGRACyanLWLQZEAyRtbtzeNkQFlmBa4592RAgIY0bqUKZUCopmMuER5lQM/Gku58MWVA9ubBruhEZUAeB/FuVFhlQEUnIC/Aa2VAbEdP7yt/ZUCUZ36vl5JlQLqHrW8DpmVA4qfcL2+5ZUAJyAvw2sxlQDDoOrBG4GVAWAhqcLLzZUB/KJkwHgdmQKZIyPCJGmZAzmj3sPUtZkD1iCZxYUFmQBypVTHNVGZARMmE8ThoZkBq6bOxpHtmQJIJ43EQj2ZAuSkSMnyiZkDgSUHy57VmQAhqcLJTyWZAL4qfcr/cZkBWqs4yK/BmQH7K/fKWA2dApeosswIXZ0DMClxzbipnQPQqizPaPWdAGku680VRZ0BCa+mzsWRnQGmLGHQdeGdAkKtHNImLZ0C4y3b09J5nQN/rpbRgsmdABgzVdMzFZ0AuLAQ1ONlnQFRMM/Wj7GdAfGxitQ8AaECkjJF1exNoQMqswDXnJmhA8szv9VI6aEAZ7R62vk1oQEANTnYqYWhAaC19NpZ0aECPTaz2AYhoQLZt27Ztm2hA",
          "dtype": "f8"
         }
        },
        {
         "fill": "tozerox",
         "fillcolor": "rgba(0, 204, 150, 0.5)",
         "line": {
          "color": "#00CC96",
          "width": 0.5
         },
         "mode": "lines",
         "name": "Computers (150 samples, 14.3%)",
         "type": "scatter",
         "x": {
          "bdata": "bg6Lo5qGqb9uDoujmoapv24Oi6Oahqm/bg6Lo5qGqb9uDoujmoapv24Oi6Oahqm/bg6Lo5qGqb9uDoujmoapv24Oi6Oahqm/bg6Lo5qGqb9uDoujmoapv24Oi6Oahqm/bg6Lo5qGqb9uDoujmoapv24Oi6Oahqm/bg6Lo5qGqb9uDoujmoapv24Oi6Oahqm/bg6Lo5qGqb9uDoujmoapv24Oi6Oahqm/bg6Lo5qGqb9uDoujmoapv24Oi6Oahqm/bg6Lo5qGqb9uDoujmoapv24Oi6Oahqm/bg6Lo5qGqb9uDoujmoapv24Oi6Oahqm/bg6Lo5qGqb9uDoujmoapv24Oi6Oahqm/bg6Lo5qGqb9uDoujmoapvx+EWkjUvpy/H4RaSNS+nL+adA+vKImUv5p0D68oiZS/Anr7Hf0kkL8Cevsd/SSQvwJ6+x39JJC/Anr7Hf0kkL8Cevsd/SSQvwJ6+x39JJC/Anr7Hf0kkL8Cevsd/SSQvwJ6+x39JJC/x2FXOYxCjr/UCC80pJp/P/S48zlpo4s/ZcWiVf40mT8jGQlTHpifPwwETwrUEKA/DARPCtQQoD8MBE8K1BCgP9keISwBHKA/2R4hLAEcoD/FsR9jmHOkP31npgxBA6U/03v3+BHKqD/t4E6BWpaqP2hGus6WEqs/aEa6zpYSqz9oRrrOlhKrP2hGus6WEqs/aEa6zpYSqz9oRrrOlhKrP2hGus6WEqs/nVlUS7borj/v1gawYqivP+/WBrBiqK8/79YGsGKorz/v1gawYqivP+/WBrBiqK8/79YGsGKorz/v1gawYqivP4oG5M0OOLA/igbkzQ44sD+KBuTNDjiwP0LsM+EjV7E/FTfkzvd8sT9yE1ZvOzayPx9e7InlZ7M/THe5FQy6sz9Md7kVDLqzP0x3uRUMurM/THe5FQy6sz9Md7kVDLqzP0x3uRUMurM/THe5FQy6sz9Md7kVDLqzP+7cq4zm3bQ/8otlPfANtT9r2cMb0ha2P2vZwxvSFrY/a9nDG9IWtj9BviISk3W2P4RgoD/rkLY/X90EAJOvtj9maRO/59e2P2ZpE7/n17Y/ZmkTv+fXtj/G+mfO3iS3PzrPW5302bc/XFOuA/Letz9cU64D8t63P1xTrgPy3rc/XX6oBxbktz/t50FIe+23P44cUOekWLg/p9qJeA3HuD+n2ol4Dce4P6faiXgNx7g/gO9amZ3QuD+A71qZndC4P9ovKHkofLk/YfwJr2SJuT9h/AmvZIm5PyH9eX9YNLo/If15f1g0uj8h/Xl/WDS6PyH9eX9YNLo/LsdXg2+Auj8QqFeLg8C6PxfmdPTHiL0/F+Z09MeIvT8X5nT0x4i9P9tKVfRp9r0/20pV9Gn2vT/32+rHiMu/P/fb6seIy78/99vqx4jLvz/32+rHiMu/P/fb6seIy78/pT4YON5JwD+ONiivjuDBP5J6+KeR/cI/knr4p5H9wj+Sevinkf3CP5J6+KeR/cI/knr4p5H9wj+Sevinkf3CP5J6+KeR/cI/knr4p5H9wj+Sevinkf3CP5J6+KeR/cI/knr4p5H9wj+Sevinkf3CP5J6+KeR/cI/",
          "dtype": "f8"
         },
         "y": {
          "bdata": "tm3btm1baUDdjQp32W5pQAWuOTdFgmlALM5o97CVaUBT7pe3HKlpQHoOx3eIvGlAoi72N/TPaUDJTiX4X+NpQPBuVLjL9mlAF4+DeDcKakA/r7I4ox1qQGbP4fgOMWpAje8QuXpEakC0D0B55ldqQNwvbzlSa2pAA1Ce+b1+akAqcM25KZJqQFGQ/HmVpWpAebArOgG5akCg0Fr6bMxqQMfwibrY32pA7hC5ekTzakAWMeg6sAZrQD1RF/sbGmtAZHFGu4cta0CMkXV780BrQLOxpDtfVGtA2tHT+8pna0AB8gK8NntrQCkSMnyijmtAUDJhPA6ia0B3UpD8ebVrQJ5yv7zlyGtAxpLufFHca0Dtsh09ve9rQBTTTP0oA2xAO/N7vZQWbEBjE6t9ACpsQIoz2j1sPWxAsVMJ/tdQbEDYczi+Q2RsQACUZ36vd2xAJ7SWPhuLbEBO1MX+hp5sQHb09L7ysWxAnRQkf17FbEDENFM/ythsQOtUgv817GxAEnWxv6H/bEA6leB/DRNtQGG1D0B5Jm1AiNU+AOU5bUCw9W3AUE1tQNcVnYC8YG1A/jXMQCh0bUAmVvsAlIdtQE12KsH/mm1AdJZZgWuubUCbtohB18FtQMLWtwFD1W1A6vbmwa7obUARFxaCGvxtQDg3RUKGD25AYFd0AvIibkCHd6PCXTZuQK6X0oLJSW5A1bcBQzVdbkD81zADoXBuQCT4X8MMhG5ASxiPg3iXbkByOL5D5KpuQJpY7QNQvm5AwXgcxLvRbkDomEuEJ+VuQA+5ekST+G5AN9mpBP8Lb0Be+djEah9vQIUZCIXWMm9ArDk3RUJGb0DUWWYFrllvQPt5lcUZbW9AIprEhYWAb0BKuvNF8ZNvQHHaIgZdp29AmPpRxsi6b0C/GoGGNM5vQOY6sEag4W9ADlvfBgz1b0CaPYfjOwRwQK7NnsPxDXBAwl22o6cXcEDV7c2DXSFwQOl95WMTK3BA/Q39Q8k0cEAQnhQkfz5wQCQuLAQ1SHBAOL5D5OpRcEBLTlvEoFtwQF/ecqRWZXBAcm6KhAxvcECG/qFkwnhwQJqOuUR4gnBArR7RJC6McEDBrugE5JVwQNU+AOWZn3BA6M4XxU+pcED8Xi+lBbNwQBDvRoW7vHBAI39eZXHGcEA3D3ZFJ9BwQEqfjSXd2XBAXi+lBZPjcEByv7zlSO1wQIVP1MX+9nBAmd/rpbQAcUCsbwOGagpxQMD/GmYgFHFA1I8yRtYdcUDoH0omjCdxQPuvYQZCMXFAD0B55vc6cUAi0JDGrURxQDZgqKZjTnFASvC/hhlYcUBdgNdmz2FxQHEQ70aFa3FAhKAGJzt1cUCYMB4H8X5xQKzANeemiHFAwFBNx1yScUDT4GSnEpxxQOdwfIfIpXFA+gCUZ36vcUAOkatHNLlxQCIhwyfqwnFANbHaB6DMcUBJQfLnVdZxQFzRCcgL4HFAcGEhqMHpcUCE8TiId/NxQJeBUGgt/XFAqxFoSOMGckC+oX8omRByQNIxlwhPGnJA5sGu6AQkckD6UcbIui1yQA3i3ahwN3JAIXL1iCZBckA0Ag1p3EpyQEiSJEmSVHJA",
          "dtype": "f8"
         }
        },
        {
         "fill": "tozerox",
         "fillcolor": "rgba(171, 99, 250, 0.5)",
         "line": {
          "color": "#AB63FA",
          "width": 0.5
         },
         "mode": "lines",
         "name": "Home Decor & Festive Needs (150 samples, 14.3%)",
         "type": "scatter",
         "x": {
          "bdata": "7msn/I+Bzb/uayf8j4HNv+5rJ/yPgc2/7msn/I+Bzb/uayf8j4HNv+5rJ/yPgc2/7msn/I+Bzb/uayf8j4HNv5dzCac8ssS/l3MJpzyyxL8zlKPEZ3W3vz8gJ/4zmbO/SPjkb8O+sL8Cx42Xypqwvy6bIYFjObC/LpshgWM5sL8umyGBYzmwv8R+DgEFsK+/LYVbCoD9rb8U1SlUsFesvwSyxteU06u/N76NG8e3qr83vo0bx7eqv2FHHMFZoqq/MqjZcaPXqL93FwvHycKov3S+hJYmcai/dL6EliZxqL8/gHsCJWanv/JYWzkEVKe/8lhbOQRUp7/yWFs5BFSnv/JYWzkEVKe/u26xCK4Fp7/S8fMCaH2mv9Lx8wJofaa/f9+c6qbPpb8c5SFMwUqlvxzlIUzBSqW/HOUhTMFKpb8o558jSVSkv00Pi8FUS6O/gt4ZE/IAo78Z9PC0/k2ivxGkWJwPI6G/pByx4KGTm79Wbw1FIm6Xv3yBbGd8crA/lLNEJkwSsj+Us0QmTBKyP7SCT2SZJrU/tIJPZJkmtT/wnT30qb65P/CdPfSpvrk/YFTYozD5vz+9amWdEAnAP4xbAxSqIMM/wFEbSHOTwz9cMJADYeTDPz//OWw0OMQ/MooKJ3sbxT8yigonexvFP+Wx2O7ZTsc/iE7/d5ODxz+ITv93k4PHP5I2FmE4rMc/7/wykIjExz9oEshBM//IPy9FxDO7Jck/L0XEM7slyT8i5NcwSFrJPyLk1zBIWsk/IuTXMEhayT+9YXYdn7PKP71hdh2fs8o/vWF2HZ+zyj+9YXYdn7PKP71hdh2fs8o/vWF2HZ+zyj8Fv8Rb7brMPwW/xFvtusw/Bb/EW+26zD8Fv8Rb7brMP0OgoCpHxsw/Q6CgKkfGzD9DoKAqR8bMP0OgoCpHxsw/Q6CgKkfGzD9DoKAqR8bMP8e9EnZc3sw/x70SdlzezD/HvRJ2XN7MP6GL0G6+LdA/s9EYnxXO0D/DgTU8+bLXPy2ialOp790/LaJqU6nv3T8tompTqe/dPy2ialOp790/LaJqU6nv3T8tompTqe/dPy2ialOp790/LaJqU6nv3T8tompTqe/dPy2ialOp790/LaJqU6nv3T8tompTqe/dPy2ialOp790/LaJqU6nv3T8tompTqe/dPy2ialOp790/LaJqU6nv3T8tompTqe/dPy2ialOp790/LaJqU6nv3T8tompTqe/dPy2ialOp790/LaJqU6nv3T8tompTqe/dPy2ialOp790/LaJqU6nv3T8tompTqe/dPy+ialOp790/L6JqU6nv3T8vompTqe/dPy+ialOp790/L6JqU6nv3T8vompTqe/dPy+ialOp790/L6JqU6nv3T8vompTqe/dPy+ialOp790/L6JqU6nv3T8vompTqe/dPy+ialOp790/L6JqU6nv3T8vompTqe/dPy+ialOp790/L6JqU6nv3T8vompTqe/dPy+ialOp790/L6JqU6nv3T8vompTqe/dPy+ialOp790/L6JqU6nv3T8vompTqe/dPy+ialOp790/L6JqU6nv3T8vompTqe/dPy+ialOp790/",
          "dtype": "f8"
         },
         "y": {
          "bdata": "SJIkSZK0ckBcIjwpSL5yQG+yUwn+x3JAg0Jr6bPRckCX0oLJadtyQKpimqkf5XJAvvKxidXuckDRgslpi/hyQOUS4UlBAnNA+aL4KfcLc0AMMxAKrRVzQCDDJ+piH3NANFM/yhgpc0BH41aqzjJzQFtzboqEPHNAbwOGajpGc0CCk51K8E9zQJYjtSqmWXNAqbPMClxjc0C9Q+TqEW1zQNHT+8rHdnNA5GMTq32Ac0D48yqLM4pzQAyEQmvpk3NAHxRaS5+dc0AzpHErVadzQEc0iQsLsXNAWsSg68C6c0BuVLjLdsRzQIHkz6ssznNAlXTni+LXc0CpBP9rmOFzQLyUFkxO63NA0CQuLAT1c0DktEUMuv5zQPdEXexvCHRAC9V0zCUSdEAfZYys2xt0QDL1o4yRJXRARoW7bEcvdEBaFdNM/Th0QG2l6iyzQnRAgTUCDWlMdECUxRntHlZ0QKhVMc3UX3RAvOVIrYppdEDPdWCNQHN0QOMFeG32fHRA95WPTayGdEAKJqctYpB0QB62vg0YmnRAMkbW7c2jdEBF1u3Ng610QFlmBa45t3RAbPYcju/AdECAhjRupcp0QJQWTE5b1HRAp6ZjLhHedEC7NnsOx+d0QM/Gku588XRA4laqzjL7dED25sGu6AR1QAp32Y6eDnVAHQfxblQYdUAxlwhPCiJ1QEQnIC/AK3VAWLc3D3Y1dUBsR0/vKz91QH/XZs/hSHVAk2d+r5dSdUCn95WPTVx1QLqHrW8DZnVAzhfFT7lvdUDip9wvb3l1QPU39A8lg3VACcgL8NqMdUAcWCPQkJZ1QDDoOrBGoHVARHhSkPypdUBXCGpwsrN1QGuYgVBovXVAfyiZMB7HdUCSuLAQ1NB1QKZIyPCJ2nVAutjf0D/kdUDNaPew9e11QOH4DpGr93VA9IgmcWEBdkAIGT5RFwt2QBypVTHNFHZALzltEYMedkBDyYTxOCh2QFdZnNHuMXZAaumzsaQ7dkB+ecuRWkV2QJIJ43EQT3ZApZn6UcZYdkC5KRIyfGJ2QMy5KRIybHZA4ElB8ud1dkD02VjSnX92QAdqcLJTiXZAG/qHkgmTdkAvip9yv5x2QEIat1J1pnZAVqrOMiuwdkBqOuYS4bl2QH3K/fKWw3ZAkVoV00zNdkCk6iyzAtd2QLh6RJO44HZAzApcc27qdkDfmnNTJPR2QPMqizPa/XZABruiE5AHd0AaS7rzRRF3QC7b0dP7GndAQmvps7Ekd0BV+wCUZy53QGmLGHQdOHdAfBswVNNBd0CQq0c0iUt3QKQ7XxQ/VXdAt8t29PRed0DLW47Uqmh3QN7rpbRgcndA8nu9lBZ8d0AGDNV0zIV3QBqc7FSCj3dALSwENTiZd0BBvBsV7qJ3QFRMM/WjrHdAaNxK1Vm2d0B8bGK1D8B3QI/8eZXFyXdAo4yRdXvTd0C2HKlVMd13QMqswDXn5ndA3jzYFZ3wd0DyzO/1Uvp3QAVdB9YIBHhAGe0etr4NeEAsfTaWdBd4QEANTnYqIXhAVJ1lVuAqeEBnLX02ljR4QHu9lBZMPnhAjk2s9gFIeECi3cPWt1F4QLZt27ZtW3hA",
          "dtype": "f8"
         }
        },
        {
         "fill": "tozerox",
         "fillcolor": "rgba(255, 161, 90, 0.5)",
         "line": {
          "color": "#FFA15A",
          "width": 0.5
         },
         "mode": "lines",
         "name": "Home Furnishing (150 samples, 14.3%)",
         "type": "scatter",
         "x": {
          "bdata": "EhERERER0b/kEiPOmCfBv4oLjImyFsC/4Af/FMMsvr/pGaZ+q8i7v+kZpn6ryLu/hgd+yR9eub/5cB9swEG4vzv40Psvhre/W9Rywm2Gtr8u8wJIwDu2v5wDWATfiLW/ZgNCGLZUtb9mA0IYtlS1v20sLbKI2LO/FZIifOhOsr+YKFsdrumvvxVBIetXzq6/idLVGk2Wrr/3jzGP4TSuvxL4y7eJba2//547QM0rq7//njtAzSurv/+eO0DNK6u//547QM0rq7//njtAzSurv+EhAdnzPam/4Qh7Mgh9qL+AzD3cC1Sovw2+TUedpKK/dYy8RLmDor8vI5c1sEKiv2ZVsBU9XqG/Gx//Fnosob86nS5hHb2ev66vahB8cJ6/NnDgn2NNnr9PUmpGE3ydvw8v8Vqbd52/3ZxVM8sTm78a8zBUGiKZvxrzMFQaIpm/MmKfGnIDmb+Ao5hBf8uYv/rsV0fKVpW/pDo45jYtlL/M9kybt5iTv8z2TJu3mJO/QQTsxfW/kb9eDPTqkdCQvyXd25FjS5C/s5BaUiskkL/Xb2nqkj+PvykLyeU+wY2/jv6OgYzxjL+KsF+ct6uMvwvClY6eXIy/7d6pABxZjL/RrvqMH6eLv8rLQuAwSYq/td6gNfJHir8LNwlLQ/eHvxkj7+Gbeoe/FkkxcCohhr9pXhY/yY6Fv9TpHEWKbYO/C0KKpqTpgb869kPAsHmBvyeij9rw6YC/J6KP2vDpgL+F1ALVRhKAv/HObiUFGny/8c5uJQUafL/xzm4lBRp8v/HObiUFGny/jn1XsyAQe79ypmuBDiR4v1o1mXt32nO/Xhsfm9DocL/MdFbf7p1wv1uc2tPnI3C/UXEM787Lb79ZLlBn8IlKv6VNiiWbwg+/pU2KJZvCD79vyOE3ie4EP80gPTjVzzU/kzn5heWcRz/09bbvYOFYPxadpr2Uh2E/t0U8j4j1az/S8YLdbNNuP9Lxgt1s024/0vGC3WzTbj/S8YLdbNNuP9Lxgt1s024/0vGC3WzTbj/S8YLdbNNuP9Lxgt1s024/0vGC3WzTbj+macFSfAFzP3Ox0crZ0XU/cAssYW5Sez/FN4BwpAV/PyTM87jWfH8/aX+x/cG8gT+v6vJftdmBP04opGxJDIM/myvIqHZMgz+ky4yw4DKEP/JilC/bnYQ/N9Pnw8YThj8a+jQirLqGPxr6NCKsuoY//nB5ThrqiD/+cHlOGuqIP/5weU4a6og//nB5ThrqiD/pdzZPL5yLP/9OyxN0G40/bBXp4eM2jT9VFBagf1KNP7ofpFW3jpA/0Qg3LE7zkD/yX/c/rfOQP/Jf9z+t85A/8l/3P63zkD/yX/c/rfOQP2Z6hZbNR5M/ool0QXG7kz+/pgYxZo+UP7+mBjFmj5Q/v6YGMWaPlD9VBXtyv82UP1UFe3K/zZQ/BSOwLPYNlj8FI7As9g2WPwUjsCz2DZY/+tMXYYQkmD/60xdhhCSYP/rTF2GEJJg/TtkWMJqUmD+V5g3g1OiYP8HoyCS2L54/wejIJLYvnj+bAd2b0I2eP5sB3ZvQjZ4/mwHdm9CNnj+bAd2b0I2ePx1Y/daIIaA/",
          "dtype": "f8"
         },
         "y": {
          "bdata": "tm3btm27eEDK/fKWI8V4QN2NCnfZznhA8R0iV4/YeEAFrjk3ReJ4QBg+URf763hALM5o97D1eEA/XoDXZv94QFPul7ccCXlAZ36vl9ISeUB6Dsd3iBx5QI6e3lc+JnlAoi72N/QveUC1vg0Yqjl5QMlOJfhfQ3lA3d482BVNeUDwblS4y1Z5QAT/a5iBYHlAF4+DeDdqeUArH5tY7XN5QD+vsjijfXlAUj/KGFmHeUBmz+H4DpF5QHpf+djEmnlAje8QuXqkeUChfyiZMK55QLUPQHnmt3lAyJ9XWZzBeUDcL285Ust5QO+/hhkI1XlAA1Ce+b3eeUAX4LXZc+h5QCpwzbkp8nlAPgDlmd/7eUBSkPx5lQV6QGUgFFpLD3pAebArOgEZekCNQEMatyJ6QKDQWvpsLHpAtGBy2iI2ekDI8Im62D96QNuAoZqOSXpA7xC5ekRTekACodBa+lx6QBYx6DqwZnpAKsH/GmZwekA9URf7G3p6QFHhLtvRg3pAZXFGu4eNekB4AV6bPZd6QIyRdXvzoHpAoCGNW6mqekCzsaQ7X7R6QMdBvBsVvnpA2tHT+8rHekDuYevbgNF6QALyArw223pAFYIanOzkekApEjJ8ou56QD2iSVxY+HpAUDJhPA4Ce0BkwngcxAt7QHhSkPx5FXtAi+Kn3C8fe0Cfcr+85Sh7QLIC15ybMntAxpLufFE8e0DaIgZdB0Z7QO2yHT29T3tAAUM1HXNZe0AV00z9KGN7QChjZN3ebHtAPPN7vZR2e0BQg5OdSoB7QGMTq30AintAd6PCXbaTe0CKM9o9bJ17QJ7D8R0ip3tAslMJ/tewe0DF4yDejbp7QNlzOL5DxHtA7QNQnvnNe0AAlGd+r9d7QBQkf15l4XtAKLSWPhvre0A7RK4e0fR7QE/Uxf6G/ntAYmTd3jwIfEB29PS+8hF8QIqEDJ+oG3xAnRQkf14lfECxpDtfFC98QMU0Uz/KOHxA2MRqH4BCfEDsVIL/NUx8QADlmd/rVXxAE3Wxv6FffEAnBcmfV2l8QDqV4H8Nc3xATiX4X8N8fEBitQ9AeYZ8QHVFJyAvkHxAidU+AOWZfECdZVbgmqN8QLD1bcBQrXxAxIWFoAa3fEDYFZ2AvMB8QOultGByynxA/zXMQCjUfEASxuMg3t18QCZW+wCU53xAOuYS4UnxfEBNdirB//p8QGEGQqG1BH1AdJZZgWsOfUCIJnFhIRh9QJy2iEHXIX1AsEagIY0rfUDD1rcBQzV9QNdmz+H4Pn1A6vbmwa5IfUD+hv6hZFJ9QBIXFoIaXH1AJactYtBlfUA5N0VChm99QEzHXCI8eX1AYFd0AvKCfUB054vip4x9QIh3o8Jdln1Amwe7ohOgfUCvl9KCyal9QMIn6mJ/s31A1rcBQzW9fUDqRxkj68Z9QP3XMAOh0H1AEWhI41bafUAk+F/DDOR9QDiId6PC7X1ATBiPg3j3fUBgqKZjLgF+QHM4vkPkCn5Ah8jVI5oUfkCaWO0DUB5+QK7oBOQFKH5AwngcxLsxfkDVCDSkcTt+QOmYS4QnRX5A/ChjZN1OfkAQuXpEk1h+QCRJkiRJYn5A",
          "dtype": "f8"
         }
        },
        {
         "fill": "tozerox",
         "fillcolor": "rgba(25, 211, 243, 0.5)",
         "line": {
          "color": "#19D3F3",
          "width": 0.5
         },
         "mode": "lines",
         "name": "Kitchen & Dining (150 samples, 14.3%)",
         "type": "scatter",
         "x": {
          "bdata": "JsCnF3TJzL8mwKcXdMnMv/36lzta4cm//fqXO1rhyb/9+pc7WuHJv++kYzYMisS/vbu7u7u7wr+9u7u7u7vCv727u7u7u8K/vbu7u7u7wr+9u7u7u7vCv727u7u7u8K/vbu7u7u7wr+9u7u7u7vCv727u7u7u8K/vbu7u7u7wr+9u7u7u7vCv727u7u7u8K/vbu7u7u7wr+9u7u7u7vCv727u7u7u8K/vbu7u7u7wr+9u7u7u7vCv727u7u7u8K/vbu7u7u7wr+9u7u7u7vCv727u7u7u8K/vbu7u7u7wr+u9JPeszLCv9+mSuALlLy/N3803oppvL/FN528v521v4SkadeLp6K/hKRp14unor/8OhQQQSGgv5/66eo9pJ6/n/rp6j2knr+f+unqPaSev5/66eo9pJ6/n/rp6j2knr+f+unqPaSev5/66eo9pJ6/JK9REGeenL/5BoXn2J6Uv+Fnfj80lYe/Rn096/+7fL9GfT3r/7t8v0Z9Pev/u3y/t4/R6jfIV7/odTwSIBWKP+h1PBIgFYo/6HU8EiAVij/odTwSIBWKP+h1PBIgFYo/tT521z+CoT+zaEV+y6apP/gXNU7ui6w/cJo4enknuD/SiBtvVD66PyM0o5qbYbw/IzSjmpthvD8jNKOam2G8PyM0o5qbYbw/IzSjmpthvD8jNKOam2G8PyM0o5qbYbw/IzSjmpthvD8jNKOam2G8PyM0o5qbYbw/IzSjmpthvD8jNKOam2G8PyM0o5qbYbw/IzSjmpthvD8jNKOam2G8PyM0o5qbYbw/IzSjmpthvD8jNKOam2G8PyM0o5qbYbw/IzSjmpthvD8jNKOam2G8P4WefjfRd70/gCrO2xXYvT/swsNj+ye+P+zCw2P7J74/7lqn+I4mvz/uWqf4jia/P9CdaLgObL8/NQGA5E8nwD9sb5J6myvAP0Iu7LqBQcA/Qi7suoFBwD9CLuy6gUHAP0Iu7LqBQcA/Qi7suoFBwD8zBOKVtubAP7f3Krrq8MA/t/cquurwwD+zSqGbYi3BP7NKoZtiLcE/+rbCnUi8wT/6tsKdSLzBP/q2wp1IvME/+rbCnUi8wT+J4lpdcpzCP5H6QVIhpMI/GV8SGfkSwz8ZXxIZ+RLDP5B7zhjR2cM/kHvOGNHZwz9oOBj1tBrGP2g4GPW0GsY/aDgY9bQaxj9oOBj1tBrGP2g4GPW0GsY/aDgY9bQaxj9oOBj1tBrGP2g4GPW0GsY/aDgY9bQaxj9oOBj1tBrGP2g4GPW0GsY/aDgY9bQaxj9oOBj1tBrGP209PxfYmcg/bT0/F9iZyD9tPT8X2JnIP209PxfYmcg/bT0/F9iZyD9tPT8X2JnIP209PxfYmcg/bT0/F9iZyD/zdxMU46nJP/N3ExTjqck/83cTFOOpyT/zdxMU46nJP/N3ExTjqck/83cTFOOpyT/zdxMU46nJP/N3ExTjqck/83cTFOOpyT/zdxMU46nJP/N3ExTjqck/83cTFOOpyT/zdxMU46nJP0ZlrBr5i8o/RmWsGvmLyj9GZawa+YvKP0ZlrBr5i8o/RmWsGvmLyj9GZawa+YvKP0ZlrBr5i8o/",
          "dtype": "f8"
         },
         "y": {
          "bdata": "JEmSJEnCfkA42akE/8t+QEtpweS01X5AX/nYxGrffkBzifCkIOl+QIYZCIXW8n5AmqkfZYz8fkCtOTdFQgZ/QMHJTiX4D39A1VlmBa4Zf0Do6X3lYyN/QPx5lcUZLX9AEAqtpc82f0AjmsSFhUB/QDcq3GU7Sn9AS7rzRfFTf0BeSgsmp11/QHLaIgZdZ39AhWo65hJxf0CZ+lHGyHp/QK2KaaZ+hH9AwBqBhjSOf0DUqphm6pd/QOg6sEagoX9A+8rHJlarf0APW98GDLV/QCPr9ubBvn9ANnsOx3fIf0BKCyanLdJ/QF2bPYfj239AcStVZ5nlf0CFu2xHT+9/QJhLhCcF+X9A1u3Ng10BgEDgtdlzOAaAQOp95WMTC4BA80XxU+4PgED9Df1DyRSAQAfWCDSkGYBAEZ4UJH8egEAbZiAUWiOAQCUuLAQ1KIBALvY39A8tgEA4vkPk6jGAQEKGT9TFNoBATE5bxKA7gEBWFme0e0CAQF/ecqRWRYBAaaZ+lDFKgEBzboqEDE+AQH02lnTnU4BAh/6hZMJYgECRxq1UnV2AQJqOuUR4YoBApFbFNFNngECuHtEkLmyAQLjm3BQJcYBAwq7oBOR1gEDLdvT0vnqAQNU+AOWZf4BA3wYM1XSEgEDpzhfFT4mAQPOWI7UqjoBA/V4vpQWTgEAGJzuV4JeAQBDvRoW7nIBAGrdSdZahgEAkf15lcaaAQC5HalVMq4BANw92RSewgEBB14E1ArWAQEufjSXduYBAVWeZFbi+gEBfL6UFk8OAQGn3sPVtyIBAcr+85UjNgEB8h8jVI9KAQIZP1MX+1oBAkBfgtdnbgECa3+ultOCAQKSn95WP5YBArW8DhmrqgEC3Nw92Re+AQMH/GmYg9IBAy8cmVvv4gEDVjzJG1v2AQN5XPjaxAoFA6B9KJowHgUDy51UWZwyBQPyvYQZCEYFABnht9hwWgUAQQHnm9xqBQBkIhdbSH4FAI9CQxq0kgUAtmJy2iCmBQDdgqKZjLoFAQSi0lj4zgUBK8L+GGTiBQFS4y3b0PIFAXoDXZs9BgUBoSONWqkaBQHIQ70aFS4FAfNj6NmBQgUCFoAYnO1WBQI9oEhcWWoFAmTAeB/FegUCj+Cn3y2OBQK3ANeemaIFAtohB14FtgUDAUE3HXHKBQMoYWbc3d4FA1OBkpxJ8gUDeqHCX7YCBQOhwfIfIhYFA8TiId6OKgUD7AJRnfo+BQAXJn1dZlIFAD5GrRzSZgUAZWbc3D56BQCIhwyfqooFALOnOF8WngUA2sdoHoKyBQEB55vd6sYFASkHy51W2gUBUCf7XMLuBQF3RCcgLwIFAZ5kVuObEgUBxYSGowcmBQHspLZiczoFAhfE4iHfTgUCOuUR4UtiBQJiBUGgt3YFAoklcWAjigUCsEWhI4+aBQLbZczi+64FAwKF/KJnwgUDJaYsYdPWBQNMxlwhP+oFA3fmi+Cn/gUDnwa7oBASCQPGJutjfCIJA+lHGyLoNgkAEGtK4lRKCQA7i3ahwF4JAGKrpmEscgkAicvWIJiGCQCw6AXkBJoJANQINadwqgkA/yhhZty+CQEmSJEmSNIJA",
          "dtype": "f8"
         }
        },
        {
         "fill": "tozerox",
         "fillcolor": "rgba(255, 102, 146, 0.5)",
         "line": {
          "color": "#FF6692",
          "width": 0.5
         },
         "mode": "lines",
         "name": "Watches (150 samples, 14.3%)",
         "type": "scatter",
         "x": {
          "bdata": "bQvRf9NGpD96DwZbkaatPy1PZ5tzuLA/LU9nm3O4sD+2p0Vyi9G0P+HBdIxZ1bc/YjzDO/Vvuj9iPMM79W+6P+nsdbP86Lo/80lezKpIvD+lWjEMleC8P6VaMQyV4Lw/mACXV1XKvj+YAJdXVcq+P5gAl1dVyr4/mACXV1XKvj+YAJdXVcq+P5gAl1dVyr4/N7fNITanwD+Mk6MltuDAP1IvFh/FWsE//JycS4NcwT/TpPHGMOnBP4vKSyq/ncI/N3y2noZmwz+MCLRrixTEP8gK/MQo58Q/yAr8xCjnxD+qpBz0pvfFP6qkHPSm98U/2yIGBatRxj/bIgYFq1HGP9siBgWrUcY/RT1BmoEVyD8oSNRgNqzIPyUB2V6a2cg/6Y0sJleKyT/pjSwmV4rJP+mNLCZXisk/Y+bm6lXEyT9j5ubqVcTJP/US/jmv2Mo/zX2tm4Qdyz/Nfa2bhB3LP819rZuEHcs/zX2tm4Qdyz+gZ79+2TDLP6Bnv37ZMMs/cuewkoLdyz+JtlshqCnMP4m2WyGoKcw/ibZbIagpzD+JtlshqCnMP4m2WyGoKcw/ibZbIagpzD8EusEFhDTMP8JKD+m1tcw/wkoP6bW1zD/CSg/ptbXMP8JKD+m1tcw/wkoP6bW1zD/CSg/ptbXMPyBcEI501sw/n19BSwVyzT++t86ekNjPP5blL4ivGdA/luUviK8Z0D+W5S+IrxnQP5blL4ivGdA/nZWUy64v0D+dlZTLri/QP2J+wPQ/QdA/Yn7A9D9B0D9ifsD0P0HQP2J+wPQ/QdA/Yn7A9D9B0D9ifsD0P0HQPzMTCb94RtA/MxMJv3hG0D8zEwm/eEbQPzMTCb94RtA/MxMJv3hG0D8zEwm/eEbQPzMTCb94RtA/WtYXZkGD0T9a1hdmQYPRP1rWF2ZBg9E/WtYXZkGD0T9a1hdmQYPRP53qctenitE/nepy16eK0T+d6nLXp4rRP53qctenitE/nepy16eK0T+d6nLXp4rRP8E0dUSGR9M/MaJ7Qd9L1T8xontB30vVPzGie0HfS9U/MaJ7Qd9L1T8xontB30vVPzGie0HfS9U/MaJ7Qd9L1T8xontB30vVPzGie0HfS9U/MaJ7Qd9L1T8xontB30vVPzGie0HfS9U/MaJ7Qd9L1T8hAm5nMVrVPyECbmcxWtU/IQJuZzFa1T8hAm5nMVrVPyECbmcxWtU/IQJuZzFa1T8hAm5nMVrVPyECbmcxWtU/IQJuZzFa1T8hAm5nMVrVPyECbmcxWtU/IQJuZzFa1T8hAm5nMVrVPyECbmcxWtU/IQJuZzFa1T8hAm5nMVrVPyECbmcxWtU/IQJuZzFa1T+TBBuGfyPWP5MEG4Z/I9Y/kwQbhn8j1j+zaH2wcg7YP7NofbByDtg/s2h9sHIO2D+zaH2wcg7YP7NofbByDtg/s2h9sHIO2D+zaH2wcg7YP7NofbByDtg/s2h9sHIO2D+zaH2wcg7YP7NofbByDtg/s2h9sHIO2D+zaH2wcg7YP7NofbByDtg/s2h9sHIO2D+zaH2wcg7YP7NofbByDtg/s2h9sHIO2D+zaH2wcg7YP7NofbByDtg/",
          "dtype": "f8"
         },
         "y": {
          "bdata": "SZIkSZJkgkBTWjA5bWmCQF0iPClIboJAZupHGSNzgkBwslMJ/neCQHp6X/nYfIJAhEJr6bOBgkCOCnfZjoaCQJjSgslpi4JAoZqOuUSQgkCrYpqpH5WCQLUqppn6mYJAv/KxidWegkDJur15sKOCQNKCyWmLqIJA3ErVWWatgkDmEuFJQbKCQPDa7Dkct4JA+qL4Kfe7gkAEawQa0sCCQA0zEAqtxYJAF/sb+ofKgkAhwyfqYs+CQCuLM9o91IJANVM/yhjZgkA+G0u6892CQEjjVqrO4oJAUqtimqnngkBcc26KhOyCQGY7enpf8YJAcAOGajr2gkB5y5FaFfuCQIOTnUrw/4JAjVupOssEg0CXI7UqpgmDQKHrwBqBDoNAqrPMClwTg0C0e9j6NhiDQL5D5OoRHYNAyAvw2uwhg0DS0/vKxyaDQNybB7uiK4NA5WMTq30wg0DvKx+bWDWDQPnzKoszOoNAA7w2ew4/g0ANhEJr6UODQBZMTlvESINAIBRaS59Ng0Aq3GU7elKDQDSkcStVV4NAPmx9GzBcg0BINIkLC2GDQFH8lPvlZYNAW8Sg68Bqg0BljKzbm2+DQG9UuMt2dINAeRzEu1F5g0CC5M+rLH6DQIys25sHg4NAlnTni+KHg0CgPPN7vYyDQKoE/2uYkYNAtMwKXHOWg0C9lBZMTpuDQMdcIjwpoINA0SQuLASlg0Db7Dkc36mDQOW0RQy6roNA7nxR/JSzg0D4RF3sb7iDQAINadxKvYNADNV0zCXCg0AWnYC8AMeDQCBljKzby4NAKS2YnLbQg0Az9aOMkdWDQD29r3xs2oNAR4W7bEffg0BRTcdcIuSDQFoV00z96INAZN3ePNjtg0Bupeoss/KDQHht9hyO94NAgjUCDWn8g0CM/Q39QwGEQJXFGe0eBoRAn40l3fkKhECpVTHN1A+EQLMdPb2vFIRAveVIrYoZhEDGrVSdZR6EQNB1YI1AI4RA2j1sfRsohEDkBXht9iyEQO7Ng13RMYRA+JWPTaw2hEABXps9hzuEQAsmpy1iQIRAFe6yHT1FhEAftr4NGEqEQCl+yv3yToRAMkbW7c1ThEA8DuLdqFiEQEbW7c2DXYRAUJ75vV5ihEBaZgWuOWeEQGQuEZ4UbIRAbfYcju9whEB3vih+ynWEQIGGNG6leoRAi05AXoB/hECVFkxOW4SEQJ7eVz42iYRAqKZjLhGOhECybm8e7JKEQLw2ew7Hl4RAxv6G/qGchEDQxpLufKGEQNmOnt5XpoRA41aqzjKrhEDtHra+DbCEQPfmwa7otIRAAa/NnsO5hEAKd9mOnr6EQBQ/5X55w4RAHgfxblTIhEAoz/xeL82EQDKXCE8K0oRAPF8UP+XWhEBFJyAvwNuEQE/vKx+b4IRAWbc3D3blhEBjf0P/UOqEQG1HT+8r74RAdg9b3wb0hECA12bP4fiEQIqfcr+8/YRAlGd+r5cChUCeL4qfcgeFQKj3lY9NDIVAsb+hfygRhUC7h61vAxaFQMVPuV/eGoVAzxfFT7kfhUDZ39A/lCSFQOKn3C9vKYVA7G/oH0ouhUD2N/QPJTOFQAAAAAAAOIVA",
          "dtype": "f8"
         }
        }
       ],
       "layout": {
        "annotations": [
         {
          "showarrow": false,
          "text": "Avg Silhouette: 0.111",
          "x": 0.11137662855873046,
          "xanchor": "left",
          "xref": "x",
          "y": 1,
          "yanchor": "top",
          "yref": "y domain"
         }
        ],
        "height": 800,
        "shapes": [
         {
          "line": {
           "color": "red",
           "dash": "dash"
          },
          "type": "line",
          "x0": 0.11137662855873046,
          "x1": 0.11137662855873046,
          "xref": "x",
          "y0": 0,
          "y1": 1,
          "yref": "y domain"
         }
        ],
        "showlegend": true,
        "template": {
         "data": {
          "bar": [
           {
            "error_x": {
             "color": "#2a3f5f"
            },
            "error_y": {
             "color": "#2a3f5f"
            },
            "marker": {
             "line": {
              "color": "#E5ECF6",
              "width": 0.5
             },
             "pattern": {
              "fillmode": "overlay",
              "size": 10,
              "solidity": 0.2
             }
            },
            "type": "bar"
           }
          ],
          "barpolar": [
           {
            "marker": {
             "line": {
              "color": "#E5ECF6",
              "width": 0.5
             },
             "pattern": {
              "fillmode": "overlay",
              "size": 10,
              "solidity": 0.2
             }
            },
            "type": "barpolar"
           }
          ],
          "carpet": [
           {
            "aaxis": {
             "endlinecolor": "#2a3f5f",
             "gridcolor": "white",
             "linecolor": "white",
             "minorgridcolor": "white",
             "startlinecolor": "#2a3f5f"
            },
            "baxis": {
             "endlinecolor": "#2a3f5f",
             "gridcolor": "white",
             "linecolor": "white",
             "minorgridcolor": "white",
             "startlinecolor": "#2a3f5f"
            },
            "type": "carpet"
           }
          ],
          "choropleth": [
           {
            "colorbar": {
             "outlinewidth": 0,
             "ticks": ""
            },
            "type": "choropleth"
           }
          ],
          "contour": [
           {
            "colorbar": {
             "outlinewidth": 0,
             "ticks": ""
            },
            "colorscale": [
             [
              0,
              "#0d0887"
             ],
             [
              0.1111111111111111,
              "#46039f"
             ],
             [
              0.2222222222222222,
              "#7201a8"
             ],
             [
              0.3333333333333333,
              "#9c179e"
             ],
             [
              0.4444444444444444,
              "#bd3786"
             ],
             [
              0.5555555555555556,
              "#d8576b"
             ],
             [
              0.6666666666666666,
              "#ed7953"
             ],
             [
              0.7777777777777778,
              "#fb9f3a"
             ],
             [
              0.8888888888888888,
              "#fdca26"
             ],
             [
              1,
              "#f0f921"
             ]
            ],
            "type": "contour"
           }
          ],
          "contourcarpet": [
           {
            "colorbar": {
             "outlinewidth": 0,
             "ticks": ""
            },
            "type": "contourcarpet"
           }
          ],
          "heatmap": [
           {
            "colorbar": {
             "outlinewidth": 0,
             "ticks": ""
            },
            "colorscale": [
             [
              0,
              "#0d0887"
             ],
             [
              0.1111111111111111,
              "#46039f"
             ],
             [
              0.2222222222222222,
              "#7201a8"
             ],
             [
              0.3333333333333333,
              "#9c179e"
             ],
             [
              0.4444444444444444,
              "#bd3786"
             ],
             [
              0.5555555555555556,
              "#d8576b"
             ],
             [
              0.6666666666666666,
              "#ed7953"
             ],
             [
              0.7777777777777778,
              "#fb9f3a"
             ],
             [
              0.8888888888888888,
              "#fdca26"
             ],
             [
              1,
              "#f0f921"
             ]
            ],
            "type": "heatmap"
           }
          ],
          "histogram": [
           {
            "marker": {
             "pattern": {
              "fillmode": "overlay",
              "size": 10,
              "solidity": 0.2
             }
            },
            "type": "histogram"
           }
          ],
          "histogram2d": [
           {
            "colorbar": {
             "outlinewidth": 0,
             "ticks": ""
            },
            "colorscale": [
             [
              0,
              "#0d0887"
             ],
             [
              0.1111111111111111,
              "#46039f"
             ],
             [
              0.2222222222222222,
              "#7201a8"
             ],
             [
              0.3333333333333333,
              "#9c179e"
             ],
             [
              0.4444444444444444,
              "#bd3786"
             ],
             [
              0.5555555555555556,
              "#d8576b"
             ],
             [
              0.6666666666666666,
              "#ed7953"
             ],
             [
              0.7777777777777778,
              "#fb9f3a"
             ],
             [
              0.8888888888888888,
              "#fdca26"
             ],
             [
              1,
              "#f0f921"
             ]
            ],
            "type": "histogram2d"
           }
          ],
          "histogram2dcontour": [
           {
            "colorbar": {
             "outlinewidth": 0,
             "ticks": ""
            },
            "colorscale": [
             [
              0,
              "#0d0887"
             ],
             [
              0.1111111111111111,
              "#46039f"
             ],
             [
              0.2222222222222222,
              "#7201a8"
             ],
             [
              0.3333333333333333,
              "#9c179e"
             ],
             [
              0.4444444444444444,
              "#bd3786"
             ],
             [
              0.5555555555555556,
              "#d8576b"
             ],
             [
              0.6666666666666666,
              "#ed7953"
             ],
             [
              0.7777777777777778,
              "#fb9f3a"
             ],
             [
              0.8888888888888888,
              "#fdca26"
             ],
             [
              1,
              "#f0f921"
             ]
            ],
            "type": "histogram2dcontour"
           }
          ],
          "mesh3d": [
           {
            "colorbar": {
             "outlinewidth": 0,
             "ticks": ""
            },
            "type": "mesh3d"
           }
          ],
          "parcoords": [
           {
            "line": {
             "colorbar": {
              "outlinewidth": 0,
              "ticks": ""
             }
            },
            "type": "parcoords"
           }
          ],
          "pie": [
           {
            "automargin": true,
            "type": "pie"
           }
          ],
          "scatter": [
           {
            "fillpattern": {
             "fillmode": "overlay",
             "size": 10,
             "solidity": 0.2
            },
            "type": "scatter"
           }
          ],
          "scatter3d": [
           {
            "line": {
             "colorbar": {
              "outlinewidth": 0,
              "ticks": ""
             }
            },
            "marker": {
             "colorbar": {
              "outlinewidth": 0,
              "ticks": ""
             }
            },
            "type": "scatter3d"
           }
          ],
          "scattercarpet": [
           {
            "marker": {
             "colorbar": {
              "outlinewidth": 0,
              "ticks": ""
             }
            },
            "type": "scattercarpet"
           }
          ],
          "scattergeo": [
           {
            "marker": {
             "colorbar": {
              "outlinewidth": 0,
              "ticks": ""
             }
            },
            "type": "scattergeo"
           }
          ],
          "scattergl": [
           {
            "marker": {
             "colorbar": {
              "outlinewidth": 0,
              "ticks": ""
             }
            },
            "type": "scattergl"
           }
          ],
          "scattermap": [
           {
            "marker": {
             "colorbar": {
              "outlinewidth": 0,
              "ticks": ""
             }
            },
            "type": "scattermap"
           }
          ],
          "scattermapbox": [
           {
            "marker": {
             "colorbar": {
              "outlinewidth": 0,
              "ticks": ""
             }
            },
            "type": "scattermapbox"
           }
          ],
          "scatterpolar": [
           {
            "marker": {
             "colorbar": {
              "outlinewidth": 0,
              "ticks": ""
             }
            },
            "type": "scatterpolar"
           }
          ],
          "scatterpolargl": [
           {
            "marker": {
             "colorbar": {
              "outlinewidth": 0,
              "ticks": ""
             }
            },
            "type": "scatterpolargl"
           }
          ],
          "scatterternary": [
           {
            "marker": {
             "colorbar": {
              "outlinewidth": 0,
              "ticks": ""
             }
            },
            "type": "scatterternary"
           }
          ],
          "surface": [
           {
            "colorbar": {
             "outlinewidth": 0,
             "ticks": ""
            },
            "colorscale": [
             [
              0,
              "#0d0887"
             ],
             [
              0.1111111111111111,
              "#46039f"
             ],
             [
              0.2222222222222222,
              "#7201a8"
             ],
             [
              0.3333333333333333,
              "#9c179e"
             ],
             [
              0.4444444444444444,
              "#bd3786"
             ],
             [
              0.5555555555555556,
              "#d8576b"
             ],
             [
              0.6666666666666666,
              "#ed7953"
             ],
             [
              0.7777777777777778,
              "#fb9f3a"
             ],
             [
              0.8888888888888888,
              "#fdca26"
             ],
             [
              1,
              "#f0f921"
             ]
            ],
            "type": "surface"
           }
          ],
          "table": [
           {
            "cells": {
             "fill": {
              "color": "#EBF0F8"
             },
             "line": {
              "color": "white"
             }
            },
            "header": {
             "fill": {
              "color": "#C8D4E3"
             },
             "line": {
              "color": "white"
             }
            },
            "type": "table"
           }
          ]
         },
         "layout": {
          "annotationdefaults": {
           "arrowcolor": "#2a3f5f",
           "arrowhead": 0,
           "arrowwidth": 1
          },
          "autotypenumbers": "strict",
          "coloraxis": {
           "colorbar": {
            "outlinewidth": 0,
            "ticks": ""
           }
          },
          "colorscale": {
           "diverging": [
            [
             0,
             "#8e0152"
            ],
            [
             0.1,
             "#c51b7d"
            ],
            [
             0.2,
             "#de77ae"
            ],
            [
             0.3,
             "#f1b6da"
            ],
            [
             0.4,
             "#fde0ef"
            ],
            [
             0.5,
             "#f7f7f7"
            ],
            [
             0.6,
             "#e6f5d0"
            ],
            [
             0.7,
             "#b8e186"
            ],
            [
             0.8,
             "#7fbc41"
            ],
            [
             0.9,
             "#4d9221"
            ],
            [
             1,
             "#276419"
            ]
           ],
           "sequential": [
            [
             0,
             "#0d0887"
            ],
            [
             0.1111111111111111,
             "#46039f"
            ],
            [
             0.2222222222222222,
             "#7201a8"
            ],
            [
             0.3333333333333333,
             "#9c179e"
            ],
            [
             0.4444444444444444,
             "#bd3786"
            ],
            [
             0.5555555555555556,
             "#d8576b"
            ],
            [
             0.6666666666666666,
             "#ed7953"
            ],
            [
             0.7777777777777778,
             "#fb9f3a"
            ],
            [
             0.8888888888888888,
             "#fdca26"
            ],
            [
             1,
             "#f0f921"
            ]
           ],
           "sequentialminus": [
            [
             0,
             "#0d0887"
            ],
            [
             0.1111111111111111,
             "#46039f"
            ],
            [
             0.2222222222222222,
             "#7201a8"
            ],
            [
             0.3333333333333333,
             "#9c179e"
            ],
            [
             0.4444444444444444,
             "#bd3786"
            ],
            [
             0.5555555555555556,
             "#d8576b"
            ],
            [
             0.6666666666666666,
             "#ed7953"
            ],
            [
             0.7777777777777778,
             "#fb9f3a"
            ],
            [
             0.8888888888888888,
             "#fdca26"
            ],
            [
             1,
             "#f0f921"
            ]
           ]
          },
          "colorway": [
           "#636efa",
           "#EF553B",
           "#00cc96",
           "#ab63fa",
           "#FFA15A",
           "#19d3f3",
           "#FF6692",
           "#B6E880",
           "#FF97FF",
           "#FECB52"
          ],
          "font": {
           "color": "#2a3f5f"
          },
          "geo": {
           "bgcolor": "white",
           "lakecolor": "white",
           "landcolor": "#E5ECF6",
           "showlakes": true,
           "showland": true,
           "subunitcolor": "white"
          },
          "hoverlabel": {
           "align": "left"
          },
          "hovermode": "closest",
          "mapbox": {
           "style": "light"
          },
          "paper_bgcolor": "white",
          "plot_bgcolor": "#E5ECF6",
          "polar": {
           "angularaxis": {
            "gridcolor": "white",
            "linecolor": "white",
            "ticks": ""
           },
           "bgcolor": "#E5ECF6",
           "radialaxis": {
            "gridcolor": "white",
            "linecolor": "white",
            "ticks": ""
           }
          },
          "scene": {
           "xaxis": {
            "backgroundcolor": "#E5ECF6",
            "gridcolor": "white",
            "gridwidth": 2,
            "linecolor": "white",
            "showbackground": true,
            "ticks": "",
            "zerolinecolor": "white"
           },
           "yaxis": {
            "backgroundcolor": "#E5ECF6",
            "gridcolor": "white",
            "gridwidth": 2,
            "linecolor": "white",
            "showbackground": true,
            "ticks": "",
            "zerolinecolor": "white"
           },
           "zaxis": {
            "backgroundcolor": "#E5ECF6",
            "gridcolor": "white",
            "gridwidth": 2,
            "linecolor": "white",
            "showbackground": true,
            "ticks": "",
            "zerolinecolor": "white"
           }
          },
          "shapedefaults": {
           "line": {
            "color": "#2a3f5f"
           }
          },
          "ternary": {
           "aaxis": {
            "gridcolor": "white",
            "linecolor": "white",
            "ticks": ""
           },
           "baxis": {
            "gridcolor": "white",
            "linecolor": "white",
            "ticks": ""
           },
           "bgcolor": "#E5ECF6",
           "caxis": {
            "gridcolor": "white",
            "linecolor": "white",
            "ticks": ""
           }
          },
          "title": {
           "x": 0.05
          },
          "xaxis": {
           "automargin": true,
           "gridcolor": "white",
           "linecolor": "white",
           "ticks": "",
           "title": {
            "standoff": 15
           },
           "zerolinecolor": "white",
           "zerolinewidth": 2
          },
          "yaxis": {
           "automargin": true,
           "gridcolor": "white",
           "linecolor": "white",
           "ticks": "",
           "title": {
            "standoff": 15
           },
           "zerolinecolor": "white",
           "zerolinewidth": 2
          }
         }
        },
        "title": {
         "text": "Silhouette Analysis for Clustering (n=7 clusters)"
        },
        "xaxis": {
         "range": [
          -0.1,
          1.05
         ],
         "title": {
          "text": "Silhouette Coefficient"
         }
        },
        "yaxis": {
         "showticklabels": false,
         "title": {
          "text": "Cluster Distribution"
         }
        }
       }
      }
     },
     "metadata": {},
     "output_type": "display_data"
    }
   ],
   "source": [
    "# Create silhouette plot for categories\n",
    "print(\"\\nGenerating silhouette plot for product categories...\")\n",
    "silhouette_fig = reducer.plot_silhouette(\n",
    "    encoder.tfidf_matrix, \n",
    "    df['product_category']\n",
    ")\n",
    "silhouette_fig.show()"
   ]
  },
  {
   "cell_type": "code",
   "execution_count": 12,
   "id": "75580d8d",
   "metadata": {},
   "outputs": [
    {
     "name": "stdout",
     "output_type": "stream",
     "text": [
      "\n",
      "Generating intercluster distance visualization...\n"
     ]
    },
    {
     "data": {
      "application/vnd.plotly.v1+json": {
       "config": {
        "plotlyServerURL": "https://plot.ly"
       },
       "data": [
        {
         "hoverinfo": "text",
         "marker": {
          "color": "#636EFA",
          "line": {
           "color": "DarkSlateGrey",
           "width": 2
          },
          "size": 120
         },
         "mode": "markers",
         "name": "Baby Care (n=150)",
         "text": [
          "Baby Care: 150 samples"
         ],
         "type": "scatter",
         "x": [
          -0.07138621209360724
         ],
         "y": [
          -0.4022711011165815
         ]
        },
        {
         "hoverinfo": "text",
         "marker": {
          "color": "#EF553B",
          "line": {
           "color": "DarkSlateGrey",
           "width": 2
          },
          "size": 120
         },
         "mode": "markers",
         "name": "Beauty and Personal Care (n=150)",
         "text": [
          "Beauty and Personal Care: 150 samples"
         ],
         "type": "scatter",
         "x": [
          0.3396036690977084
         ],
         "y": [
          -0.2884150173970599
         ]
        },
        {
         "hoverinfo": "text",
         "marker": {
          "color": "#00CC96",
          "line": {
           "color": "DarkSlateGrey",
           "width": 2
          },
          "size": 120
         },
         "mode": "markers",
         "name": "Computers (n=150)",
         "text": [
          "Computers: 150 samples"
         ],
         "type": "scatter",
         "x": [
          -0.06481352793444817
         ],
         "y": [
          0.14746862145662262
         ]
        },
        {
         "hoverinfo": "text",
         "marker": {
          "color": "#AB63FA",
          "line": {
           "color": "DarkSlateGrey",
           "width": 2
          },
          "size": 120
         },
         "mode": "markers",
         "name": "Home Decor & Festive Needs (n=150)",
         "text": [
          "Home Decor & Festive Needs: 150 samples"
         ],
         "type": "scatter",
         "x": [
          0.25571759354571383
         ],
         "y": [
          0.49317914141435476
         ]
        },
        {
         "hoverinfo": "text",
         "marker": {
          "color": "#FFA15A",
          "line": {
           "color": "DarkSlateGrey",
           "width": 2
          },
          "size": 120
         },
         "mode": "markers",
         "name": "Home Furnishing (n=150)",
         "text": [
          "Home Furnishing: 150 samples"
         ],
         "type": "scatter",
         "x": [
          -0.12383667506909041
         ],
         "y": [
          -0.14596250984827655
         ]
        },
        {
         "hoverinfo": "text",
         "marker": {
          "color": "#19D3F3",
          "line": {
           "color": "DarkSlateGrey",
           "width": 2
          },
          "size": 120
         },
         "mode": "markers",
         "name": "Kitchen & Dining (n=150)",
         "text": [
          "Kitchen & Dining: 150 samples"
         ],
         "type": "scatter",
         "x": [
          0.2940207434808767
         ],
         "y": [
          0.04726527404596795
         ]
        },
        {
         "hoverinfo": "text",
         "marker": {
          "color": "#FF6692",
          "line": {
           "color": "DarkSlateGrey",
           "width": 2
          },
          "size": 120
         },
         "mode": "markers",
         "name": "Watches (n=150)",
         "text": [
          "Watches: 150 samples"
         ],
         "type": "scatter",
         "x": [
          -0.6293055910271531
         ],
         "y": [
          0.14873559144497261
         ]
        },
        {
         "hovertext": [
          "Distance: 0.59"
         ],
         "line": {
          "color": "#636EFA",
          "dash": "dot",
          "width": 2.554748941288625
         },
         "mode": "lines",
         "showlegend": false,
         "type": "scatter",
         "x": [
          -0.07138621209360724,
          0.3396036690977084
         ],
         "y": [
          -0.4022711011165815,
          -0.2884150173970599
         ]
        },
        {
         "hoverinfo": "none",
         "mode": "text",
         "showlegend": false,
         "text": [
          "0.59"
         ],
         "textfont": {
          "color": "#636EFA",
          "size": 10
         },
         "textposition": "middle center",
         "type": "scatter",
         "x": [
          0.13410872850205058
         ],
         "y": [
          -0.3453430592568207
         ]
        },
        {
         "hovertext": [
          "Distance: 0.52"
         ],
         "line": {
          "color": "#636EFA",
          "dash": "dot",
          "width": 2.787730166053746
         },
         "mode": "lines",
         "showlegend": false,
         "type": "scatter",
         "x": [
          -0.07138621209360724,
          -0.06481352793444817
         ],
         "y": [
          -0.4022711011165815,
          0.14746862145662262
         ]
        },
        {
         "hoverinfo": "none",
         "mode": "text",
         "showlegend": false,
         "text": [
          "0.52"
         ],
         "textfont": {
          "color": "#636EFA",
          "size": 10
         },
         "textposition": "middle center",
         "type": "scatter",
         "x": [
          -0.0680998700140277
         ],
         "y": [
          -0.12740123982997942
         ]
        },
        {
         "hovertext": [
          "Distance: 0.71"
         ],
         "line": {
          "color": "#636EFA",
          "dash": "dot",
          "width": 2.150345207778578
         },
         "mode": "lines",
         "showlegend": false,
         "type": "scatter",
         "x": [
          -0.07138621209360724,
          0.25571759354571383
         ],
         "y": [
          -0.4022711011165815,
          0.49317914141435476
         ]
        },
        {
         "hoverinfo": "none",
         "mode": "text",
         "showlegend": false,
         "text": [
          "0.71"
         ],
         "textfont": {
          "color": "#636EFA",
          "size": 10
         },
         "textposition": "middle center",
         "type": "scatter",
         "x": [
          0.0921656907260533
         ],
         "y": [
          0.04545402014888664
         ]
        },
        {
         "hovertext": [
          "Distance: 0.49"
         ],
         "line": {
          "color": "#636EFA",
          "dash": "dot",
          "width": 2.8949561365550878
         },
         "mode": "lines",
         "showlegend": false,
         "type": "scatter",
         "x": [
          -0.07138621209360724,
          -0.12383667506909041
         ],
         "y": [
          -0.4022711011165815,
          -0.14596250984827655
         ]
        },
        {
         "hoverinfo": "none",
         "mode": "text",
         "showlegend": false,
         "text": [
          "0.49"
         ],
         "textfont": {
          "color": "#636EFA",
          "size": 10
         },
         "textposition": "middle center",
         "type": "scatter",
         "x": [
          -0.09761144358134882
         ],
         "y": [
          -0.274116805482429
         ]
        },
        {
         "hovertext": [
          "Distance: 0.57"
         ],
         "line": {
          "color": "#636EFA",
          "dash": "dot",
          "width": 2.6090993928443176
         },
         "mode": "lines",
         "showlegend": false,
         "type": "scatter",
         "x": [
          -0.07138621209360724,
          0.2940207434808767
         ],
         "y": [
          -0.4022711011165815,
          0.04726527404596795
         ]
        },
        {
         "hoverinfo": "none",
         "mode": "text",
         "showlegend": false,
         "text": [
          "0.57"
         ],
         "textfont": {
          "color": "#636EFA",
          "size": 10
         },
         "textposition": "middle center",
         "type": "scatter",
         "x": [
          0.11131726569363473
         ],
         "y": [
          -0.17750291353530678
         ]
        },
        {
         "hovertext": [
          "Distance: 0.78"
         ],
         "line": {
          "color": "#636EFA",
          "dash": "dot",
          "width": 1.9148145443439546
         },
         "mode": "lines",
         "showlegend": false,
         "type": "scatter",
         "x": [
          -0.07138621209360724,
          -0.6293055910271531
         ],
         "y": [
          -0.4022711011165815,
          0.14873559144497261
         ]
        },
        {
         "hoverinfo": "none",
         "mode": "text",
         "showlegend": false,
         "text": [
          "0.78"
         ],
         "textfont": {
          "color": "#636EFA",
          "size": 10
         },
         "textposition": "middle center",
         "type": "scatter",
         "x": [
          -0.35034590156038015
         ],
         "y": [
          -0.12676775483580444
         ]
        },
        {
         "hovertext": [
          "Distance: 0.53"
         ],
         "line": {
          "color": "#EF553B",
          "dash": "dot",
          "width": 2.759741544413248
         },
         "mode": "lines",
         "showlegend": false,
         "type": "scatter",
         "x": [
          0.3396036690977084,
          -0.06481352793444817
         ],
         "y": [
          -0.2884150173970599,
          0.14746862145662262
         ]
        },
        {
         "hoverinfo": "none",
         "mode": "text",
         "showlegend": false,
         "text": [
          "0.53"
         ],
         "textfont": {
          "color": "#EF553B",
          "size": 10
         },
         "textposition": "middle center",
         "type": "scatter",
         "x": [
          0.1373950705816301
         ],
         "y": [
          -0.07047319797021863
         ]
        },
        {
         "hovertext": [
          "Distance: 0.73"
         ],
         "line": {
          "color": "#EF553B",
          "dash": "dot",
          "width": 2.0850107974794345
         },
         "mode": "lines",
         "showlegend": false,
         "type": "scatter",
         "x": [
          0.3396036690977084,
          0.25571759354571383
         ],
         "y": [
          -0.2884150173970599,
          0.49317914141435476
         ]
        },
        {
         "hoverinfo": "none",
         "mode": "text",
         "showlegend": false,
         "text": [
          "0.73"
         ],
         "textfont": {
          "color": "#EF553B",
          "size": 10
         },
         "textposition": "middle center",
         "type": "scatter",
         "x": [
          0.2976606313217111
         ],
         "y": [
          0.10238206200864744
         ]
        },
        {
         "hovertext": [
          "Distance: 0.54"
         ],
         "line": {
          "color": "#EF553B",
          "dash": "dot",
          "width": 2.6992263828084706
         },
         "mode": "lines",
         "showlegend": false,
         "type": "scatter",
         "x": [
          0.3396036690977084,
          -0.12383667506909041
         ],
         "y": [
          -0.2884150173970599,
          -0.14596250984827655
         ]
        },
        {
         "hoverinfo": "none",
         "mode": "text",
         "showlegend": false,
         "text": [
          "0.54"
         ],
         "textfont": {
          "color": "#EF553B",
          "size": 10
         },
         "textposition": "middle center",
         "type": "scatter",
         "x": [
          0.107883497014309
         ],
         "y": [
          -0.2171887636226682
         ]
        },
        {
         "hovertext": [
          "Distance: 0.59"
         ],
         "line": {
          "color": "#EF553B",
          "dash": "dot",
          "width": 2.550814251117945
         },
         "mode": "lines",
         "showlegend": false,
         "type": "scatter",
         "x": [
          0.3396036690977084,
          0.2940207434808767
         ],
         "y": [
          -0.2884150173970599,
          0.04726527404596795
         ]
        },
        {
         "hoverinfo": "none",
         "mode": "text",
         "showlegend": false,
         "text": [
          "0.59"
         ],
         "textfont": {
          "color": "#EF553B",
          "size": 10
         },
         "textposition": "middle center",
         "type": "scatter",
         "x": [
          0.3168122062892925
         ],
         "y": [
          -0.12057487167554597
         ]
        },
        {
         "hovertext": [
          "Distance: 0.83"
         ],
         "line": {
          "color": "#EF553B",
          "dash": "dot",
          "width": 1.7622995686115994
         },
         "mode": "lines",
         "showlegend": false,
         "type": "scatter",
         "x": [
          0.3396036690977084,
          -0.6293055910271531
         ],
         "y": [
          -0.2884150173970599,
          0.14873559144497261
         ]
        },
        {
         "hoverinfo": "none",
         "mode": "text",
         "showlegend": false,
         "text": [
          "0.83"
         ],
         "textfont": {
          "color": "#EF553B",
          "size": 10
         },
         "textposition": "middle center",
         "type": "scatter",
         "x": [
          -0.14485096096472236
         ],
         "y": [
          -0.06983971297604363
         ]
        },
        {
         "hovertext": [
          "Distance: 0.66"
         ],
         "line": {
          "color": "#00CC96",
          "dash": "dot",
          "width": 2.318650119349474
         },
         "mode": "lines",
         "showlegend": false,
         "type": "scatter",
         "x": [
          -0.06481352793444817,
          0.25571759354571383
         ],
         "y": [
          0.14746862145662262,
          0.49317914141435476
         ]
        },
        {
         "hoverinfo": "none",
         "mode": "text",
         "showlegend": false,
         "text": [
          "0.66"
         ],
         "textfont": {
          "color": "#00CC96",
          "size": 10
         },
         "textposition": "middle center",
         "type": "scatter",
         "x": [
          0.09545203280563283
         ],
         "y": [
          0.3203238814354887
         ]
        },
        {
         "hovertext": [
          "Distance: 0.47"
         ],
         "line": {
          "color": "#00CC96",
          "dash": "dot",
          "width": 2.9516386263928873
         },
         "mode": "lines",
         "showlegend": false,
         "type": "scatter",
         "x": [
          -0.06481352793444817,
          -0.12383667506909041
         ],
         "y": [
          0.14746862145662262,
          -0.14596250984827655
         ]
        },
        {
         "hoverinfo": "none",
         "mode": "text",
         "showlegend": false,
         "text": [
          "0.47"
         ],
         "textfont": {
          "color": "#00CC96",
          "size": 10
         },
         "textposition": "middle center",
         "type": "scatter",
         "x": [
          -0.09432510150176929
         ],
         "y": [
          0.0007530558041730362
         ]
        },
        {
         "hovertext": [
          "Distance: 0.51"
         ],
         "line": {
          "color": "#00CC96",
          "dash": "dot",
          "width": 2.8196001257695076
         },
         "mode": "lines",
         "showlegend": false,
         "type": "scatter",
         "x": [
          -0.06481352793444817,
          0.2940207434808767
         ],
         "y": [
          0.14746862145662262,
          0.04726527404596795
         ]
        },
        {
         "hoverinfo": "none",
         "mode": "text",
         "showlegend": false,
         "text": [
          "0.51"
         ],
         "textfont": {
          "color": "#00CC96",
          "size": 10
         },
         "textposition": "middle center",
         "type": "scatter",
         "x": [
          0.11460360777321427
         ],
         "y": [
          0.09736694775129529
         ]
        },
        {
         "hovertext": [
          "Distance: 0.77"
         ],
         "line": {
          "color": "#00CC96",
          "dash": "dot",
          "width": 1.9682553381712848
         },
         "mode": "lines",
         "showlegend": false,
         "type": "scatter",
         "x": [
          -0.06481352793444817,
          -0.6293055910271531
         ],
         "y": [
          0.14746862145662262,
          0.14873559144497261
         ]
        },
        {
         "hoverinfo": "none",
         "mode": "text",
         "showlegend": false,
         "text": [
          "0.77"
         ],
         "textfont": {
          "color": "#00CC96",
          "size": 10
         },
         "textposition": "middle center",
         "type": "scatter",
         "x": [
          -0.34705955948080064
         ],
         "y": [
          0.14810210645079763
         ]
        },
        {
         "hovertext": [
          "Distance: 0.67"
         ],
         "line": {
          "color": "#AB63FA",
          "dash": "dot",
          "width": 2.2991685736007175
         },
         "mode": "lines",
         "showlegend": false,
         "type": "scatter",
         "x": [
          0.25571759354571383,
          -0.12383667506909041
         ],
         "y": [
          0.49317914141435476,
          -0.14596250984827655
         ]
        },
        {
         "hoverinfo": "none",
         "mode": "text",
         "showlegend": false,
         "text": [
          "0.67"
         ],
         "textfont": {
          "color": "#AB63FA",
          "size": 10
         },
         "textposition": "middle center",
         "type": "scatter",
         "x": [
          0.06594045923831171
         ],
         "y": [
          0.1736083157830391
         ]
        },
        {
         "hovertext": [
          "Distance: 0.70"
         ],
         "line": {
          "color": "#AB63FA",
          "dash": "dot",
          "width": 2.1991546608860455
         },
         "mode": "lines",
         "showlegend": false,
         "type": "scatter",
         "x": [
          0.25571759354571383,
          0.2940207434808767
         ],
         "y": [
          0.49317914141435476,
          0.04726527404596795
         ]
        },
        {
         "hoverinfo": "none",
         "mode": "text",
         "showlegend": false,
         "text": [
          "0.70"
         ],
         "textfont": {
          "color": "#AB63FA",
          "size": 10
         },
         "textposition": "middle center",
         "type": "scatter",
         "x": [
          0.27486916851329524
         ],
         "y": [
          0.27022220773016137
         ]
        },
        {
         "hovertext": [
          "Distance: 0.91"
         ],
         "line": {
          "color": "#AB63FA",
          "dash": "dot",
          "width": 1.5
         },
         "mode": "lines",
         "showlegend": false,
         "type": "scatter",
         "x": [
          0.25571759354571383,
          -0.6293055910271531
         ],
         "y": [
          0.49317914141435476,
          0.14873559144497261
         ]
        },
        {
         "hoverinfo": "none",
         "mode": "text",
         "showlegend": false,
         "text": [
          "0.91"
         ],
         "textfont": {
          "color": "#AB63FA",
          "size": 10
         },
         "textposition": "middle center",
         "type": "scatter",
         "x": [
          -0.18679399874071964
         ],
         "y": [
          0.32095736642966366
         ]
        },
        {
         "hovertext": [
          "Distance: 0.53"
         ],
         "line": {
          "color": "#FFA15A",
          "dash": "dot",
          "width": 2.760094745064343
         },
         "mode": "lines",
         "showlegend": false,
         "type": "scatter",
         "x": [
          -0.12383667506909041,
          0.2940207434808767
         ],
         "y": [
          -0.14596250984827655,
          0.04726527404596795
         ]
        },
        {
         "hoverinfo": "none",
         "mode": "text",
         "showlegend": false,
         "text": [
          "0.53"
         ],
         "textfont": {
          "color": "#FFA15A",
          "size": 10
         },
         "textposition": "middle center",
         "type": "scatter",
         "x": [
          0.08509203420589315
         ],
         "y": [
          -0.0493486179011543
         ]
        },
        {
         "hovertext": [
          "Distance: 0.78"
         ],
         "line": {
          "color": "#FFA15A",
          "dash": "dot",
          "width": 1.913555341873441
         },
         "mode": "lines",
         "showlegend": false,
         "type": "scatter",
         "x": [
          -0.12383667506909041,
          -0.6293055910271531
         ],
         "y": [
          -0.14596250984827655,
          0.14873559144497261
         ]
        },
        {
         "hoverinfo": "none",
         "mode": "text",
         "showlegend": false,
         "text": [
          "0.78"
         ],
         "textfont": {
          "color": "#FFA15A",
          "size": 10
         },
         "textposition": "middle center",
         "type": "scatter",
         "x": [
          -0.37657113304812173
         ],
         "y": [
          0.0013865407983480321
         ]
        },
        {
         "hovertext": [
          "Distance: 0.81"
         ],
         "line": {
          "color": "#19D3F3",
          "dash": "dot",
          "width": 1.8230835748238958
         },
         "mode": "lines",
         "showlegend": false,
         "type": "scatter",
         "x": [
          0.2940207434808767,
          -0.6293055910271531
         ],
         "y": [
          0.04726527404596795,
          0.14873559144497261
         ]
        },
        {
         "hoverinfo": "none",
         "mode": "text",
         "showlegend": false,
         "text": [
          "0.81"
         ],
         "textfont": {
          "color": "#19D3F3",
          "size": 10
         },
         "textposition": "middle center",
         "type": "scatter",
         "x": [
          -0.1676424237731382
         ],
         "y": [
          0.09800043274547028
         ]
        }
       ],
       "layout": {
        "height": 900,
        "hovermode": "closest",
        "plot_bgcolor": "rgba(240, 240, 240, 0.5)",
        "showlegend": true,
        "template": {
         "data": {
          "bar": [
           {
            "error_x": {
             "color": "#2a3f5f"
            },
            "error_y": {
             "color": "#2a3f5f"
            },
            "marker": {
             "line": {
              "color": "#E5ECF6",
              "width": 0.5
             },
             "pattern": {
              "fillmode": "overlay",
              "size": 10,
              "solidity": 0.2
             }
            },
            "type": "bar"
           }
          ],
          "barpolar": [
           {
            "marker": {
             "line": {
              "color": "#E5ECF6",
              "width": 0.5
             },
             "pattern": {
              "fillmode": "overlay",
              "size": 10,
              "solidity": 0.2
             }
            },
            "type": "barpolar"
           }
          ],
          "carpet": [
           {
            "aaxis": {
             "endlinecolor": "#2a3f5f",
             "gridcolor": "white",
             "linecolor": "white",
             "minorgridcolor": "white",
             "startlinecolor": "#2a3f5f"
            },
            "baxis": {
             "endlinecolor": "#2a3f5f",
             "gridcolor": "white",
             "linecolor": "white",
             "minorgridcolor": "white",
             "startlinecolor": "#2a3f5f"
            },
            "type": "carpet"
           }
          ],
          "choropleth": [
           {
            "colorbar": {
             "outlinewidth": 0,
             "ticks": ""
            },
            "type": "choropleth"
           }
          ],
          "contour": [
           {
            "colorbar": {
             "outlinewidth": 0,
             "ticks": ""
            },
            "colorscale": [
             [
              0,
              "#0d0887"
             ],
             [
              0.1111111111111111,
              "#46039f"
             ],
             [
              0.2222222222222222,
              "#7201a8"
             ],
             [
              0.3333333333333333,
              "#9c179e"
             ],
             [
              0.4444444444444444,
              "#bd3786"
             ],
             [
              0.5555555555555556,
              "#d8576b"
             ],
             [
              0.6666666666666666,
              "#ed7953"
             ],
             [
              0.7777777777777778,
              "#fb9f3a"
             ],
             [
              0.8888888888888888,
              "#fdca26"
             ],
             [
              1,
              "#f0f921"
             ]
            ],
            "type": "contour"
           }
          ],
          "contourcarpet": [
           {
            "colorbar": {
             "outlinewidth": 0,
             "ticks": ""
            },
            "type": "contourcarpet"
           }
          ],
          "heatmap": [
           {
            "colorbar": {
             "outlinewidth": 0,
             "ticks": ""
            },
            "colorscale": [
             [
              0,
              "#0d0887"
             ],
             [
              0.1111111111111111,
              "#46039f"
             ],
             [
              0.2222222222222222,
              "#7201a8"
             ],
             [
              0.3333333333333333,
              "#9c179e"
             ],
             [
              0.4444444444444444,
              "#bd3786"
             ],
             [
              0.5555555555555556,
              "#d8576b"
             ],
             [
              0.6666666666666666,
              "#ed7953"
             ],
             [
              0.7777777777777778,
              "#fb9f3a"
             ],
             [
              0.8888888888888888,
              "#fdca26"
             ],
             [
              1,
              "#f0f921"
             ]
            ],
            "type": "heatmap"
           }
          ],
          "histogram": [
           {
            "marker": {
             "pattern": {
              "fillmode": "overlay",
              "size": 10,
              "solidity": 0.2
             }
            },
            "type": "histogram"
           }
          ],
          "histogram2d": [
           {
            "colorbar": {
             "outlinewidth": 0,
             "ticks": ""
            },
            "colorscale": [
             [
              0,
              "#0d0887"
             ],
             [
              0.1111111111111111,
              "#46039f"
             ],
             [
              0.2222222222222222,
              "#7201a8"
             ],
             [
              0.3333333333333333,
              "#9c179e"
             ],
             [
              0.4444444444444444,
              "#bd3786"
             ],
             [
              0.5555555555555556,
              "#d8576b"
             ],
             [
              0.6666666666666666,
              "#ed7953"
             ],
             [
              0.7777777777777778,
              "#fb9f3a"
             ],
             [
              0.8888888888888888,
              "#fdca26"
             ],
             [
              1,
              "#f0f921"
             ]
            ],
            "type": "histogram2d"
           }
          ],
          "histogram2dcontour": [
           {
            "colorbar": {
             "outlinewidth": 0,
             "ticks": ""
            },
            "colorscale": [
             [
              0,
              "#0d0887"
             ],
             [
              0.1111111111111111,
              "#46039f"
             ],
             [
              0.2222222222222222,
              "#7201a8"
             ],
             [
              0.3333333333333333,
              "#9c179e"
             ],
             [
              0.4444444444444444,
              "#bd3786"
             ],
             [
              0.5555555555555556,
              "#d8576b"
             ],
             [
              0.6666666666666666,
              "#ed7953"
             ],
             [
              0.7777777777777778,
              "#fb9f3a"
             ],
             [
              0.8888888888888888,
              "#fdca26"
             ],
             [
              1,
              "#f0f921"
             ]
            ],
            "type": "histogram2dcontour"
           }
          ],
          "mesh3d": [
           {
            "colorbar": {
             "outlinewidth": 0,
             "ticks": ""
            },
            "type": "mesh3d"
           }
          ],
          "parcoords": [
           {
            "line": {
             "colorbar": {
              "outlinewidth": 0,
              "ticks": ""
             }
            },
            "type": "parcoords"
           }
          ],
          "pie": [
           {
            "automargin": true,
            "type": "pie"
           }
          ],
          "scatter": [
           {
            "fillpattern": {
             "fillmode": "overlay",
             "size": 10,
             "solidity": 0.2
            },
            "type": "scatter"
           }
          ],
          "scatter3d": [
           {
            "line": {
             "colorbar": {
              "outlinewidth": 0,
              "ticks": ""
             }
            },
            "marker": {
             "colorbar": {
              "outlinewidth": 0,
              "ticks": ""
             }
            },
            "type": "scatter3d"
           }
          ],
          "scattercarpet": [
           {
            "marker": {
             "colorbar": {
              "outlinewidth": 0,
              "ticks": ""
             }
            },
            "type": "scattercarpet"
           }
          ],
          "scattergeo": [
           {
            "marker": {
             "colorbar": {
              "outlinewidth": 0,
              "ticks": ""
             }
            },
            "type": "scattergeo"
           }
          ],
          "scattergl": [
           {
            "marker": {
             "colorbar": {
              "outlinewidth": 0,
              "ticks": ""
             }
            },
            "type": "scattergl"
           }
          ],
          "scattermap": [
           {
            "marker": {
             "colorbar": {
              "outlinewidth": 0,
              "ticks": ""
             }
            },
            "type": "scattermap"
           }
          ],
          "scattermapbox": [
           {
            "marker": {
             "colorbar": {
              "outlinewidth": 0,
              "ticks": ""
             }
            },
            "type": "scattermapbox"
           }
          ],
          "scatterpolar": [
           {
            "marker": {
             "colorbar": {
              "outlinewidth": 0,
              "ticks": ""
             }
            },
            "type": "scatterpolar"
           }
          ],
          "scatterpolargl": [
           {
            "marker": {
             "colorbar": {
              "outlinewidth": 0,
              "ticks": ""
             }
            },
            "type": "scatterpolargl"
           }
          ],
          "scatterternary": [
           {
            "marker": {
             "colorbar": {
              "outlinewidth": 0,
              "ticks": ""
             }
            },
            "type": "scatterternary"
           }
          ],
          "surface": [
           {
            "colorbar": {
             "outlinewidth": 0,
             "ticks": ""
            },
            "colorscale": [
             [
              0,
              "#0d0887"
             ],
             [
              0.1111111111111111,
              "#46039f"
             ],
             [
              0.2222222222222222,
              "#7201a8"
             ],
             [
              0.3333333333333333,
              "#9c179e"
             ],
             [
              0.4444444444444444,
              "#bd3786"
             ],
             [
              0.5555555555555556,
              "#d8576b"
             ],
             [
              0.6666666666666666,
              "#ed7953"
             ],
             [
              0.7777777777777778,
              "#fb9f3a"
             ],
             [
              0.8888888888888888,
              "#fdca26"
             ],
             [
              1,
              "#f0f921"
             ]
            ],
            "type": "surface"
           }
          ],
          "table": [
           {
            "cells": {
             "fill": {
              "color": "#EBF0F8"
             },
             "line": {
              "color": "white"
             }
            },
            "header": {
             "fill": {
              "color": "#C8D4E3"
             },
             "line": {
              "color": "white"
             }
            },
            "type": "table"
           }
          ]
         },
         "layout": {
          "annotationdefaults": {
           "arrowcolor": "#2a3f5f",
           "arrowhead": 0,
           "arrowwidth": 1
          },
          "autotypenumbers": "strict",
          "coloraxis": {
           "colorbar": {
            "outlinewidth": 0,
            "ticks": ""
           }
          },
          "colorscale": {
           "diverging": [
            [
             0,
             "#8e0152"
            ],
            [
             0.1,
             "#c51b7d"
            ],
            [
             0.2,
             "#de77ae"
            ],
            [
             0.3,
             "#f1b6da"
            ],
            [
             0.4,
             "#fde0ef"
            ],
            [
             0.5,
             "#f7f7f7"
            ],
            [
             0.6,
             "#e6f5d0"
            ],
            [
             0.7,
             "#b8e186"
            ],
            [
             0.8,
             "#7fbc41"
            ],
            [
             0.9,
             "#4d9221"
            ],
            [
             1,
             "#276419"
            ]
           ],
           "sequential": [
            [
             0,
             "#0d0887"
            ],
            [
             0.1111111111111111,
             "#46039f"
            ],
            [
             0.2222222222222222,
             "#7201a8"
            ],
            [
             0.3333333333333333,
             "#9c179e"
            ],
            [
             0.4444444444444444,
             "#bd3786"
            ],
            [
             0.5555555555555556,
             "#d8576b"
            ],
            [
             0.6666666666666666,
             "#ed7953"
            ],
            [
             0.7777777777777778,
             "#fb9f3a"
            ],
            [
             0.8888888888888888,
             "#fdca26"
            ],
            [
             1,
             "#f0f921"
            ]
           ],
           "sequentialminus": [
            [
             0,
             "#0d0887"
            ],
            [
             0.1111111111111111,
             "#46039f"
            ],
            [
             0.2222222222222222,
             "#7201a8"
            ],
            [
             0.3333333333333333,
             "#9c179e"
            ],
            [
             0.4444444444444444,
             "#bd3786"
            ],
            [
             0.5555555555555556,
             "#d8576b"
            ],
            [
             0.6666666666666666,
             "#ed7953"
            ],
            [
             0.7777777777777778,
             "#fb9f3a"
            ],
            [
             0.8888888888888888,
             "#fdca26"
            ],
            [
             1,
             "#f0f921"
            ]
           ]
          },
          "colorway": [
           "#636efa",
           "#EF553B",
           "#00cc96",
           "#ab63fa",
           "#FFA15A",
           "#19d3f3",
           "#FF6692",
           "#B6E880",
           "#FF97FF",
           "#FECB52"
          ],
          "font": {
           "color": "#2a3f5f"
          },
          "geo": {
           "bgcolor": "white",
           "lakecolor": "white",
           "landcolor": "#E5ECF6",
           "showlakes": true,
           "showland": true,
           "subunitcolor": "white"
          },
          "hoverlabel": {
           "align": "left"
          },
          "hovermode": "closest",
          "mapbox": {
           "style": "light"
          },
          "paper_bgcolor": "white",
          "plot_bgcolor": "#E5ECF6",
          "polar": {
           "angularaxis": {
            "gridcolor": "white",
            "linecolor": "white",
            "ticks": ""
           },
           "bgcolor": "#E5ECF6",
           "radialaxis": {
            "gridcolor": "white",
            "linecolor": "white",
            "ticks": ""
           }
          },
          "scene": {
           "xaxis": {
            "backgroundcolor": "#E5ECF6",
            "gridcolor": "white",
            "gridwidth": 2,
            "linecolor": "white",
            "showbackground": true,
            "ticks": "",
            "zerolinecolor": "white"
           },
           "yaxis": {
            "backgroundcolor": "#E5ECF6",
            "gridcolor": "white",
            "gridwidth": 2,
            "linecolor": "white",
            "showbackground": true,
            "ticks": "",
            "zerolinecolor": "white"
           },
           "zaxis": {
            "backgroundcolor": "#E5ECF6",
            "gridcolor": "white",
            "gridwidth": 2,
            "linecolor": "white",
            "showbackground": true,
            "ticks": "",
            "zerolinecolor": "white"
           }
          },
          "shapedefaults": {
           "line": {
            "color": "#2a3f5f"
           }
          },
          "ternary": {
           "aaxis": {
            "gridcolor": "white",
            "linecolor": "white",
            "ticks": ""
           },
           "baxis": {
            "gridcolor": "white",
            "linecolor": "white",
            "ticks": ""
           },
           "bgcolor": "#E5ECF6",
           "caxis": {
            "gridcolor": "white",
            "linecolor": "white",
            "ticks": ""
           }
          },
          "title": {
           "x": 0.05
          },
          "xaxis": {
           "automargin": true,
           "gridcolor": "white",
           "linecolor": "white",
           "ticks": "",
           "title": {
            "standoff": 15
           },
           "zerolinecolor": "white",
           "zerolinewidth": 2
          },
          "yaxis": {
           "automargin": true,
           "gridcolor": "white",
           "linecolor": "white",
           "ticks": "",
           "title": {
            "standoff": 15
           },
           "zerolinecolor": "white",
           "zerolinewidth": 2
          }
         }
        },
        "title": {
         "text": "Intercluster Distance Visualization"
        },
        "xaxis": {
         "showgrid": false,
         "showticklabels": false,
         "zeroline": false
        },
        "yaxis": {
         "showgrid": false,
         "showticklabels": false,
         "zeroline": false
        }
       }
      }
     },
     "metadata": {},
     "output_type": "display_data"
    }
   ],
   "source": [
    "\n",
    "# Create intercluster distance visualization\n",
    "print(\"\\nGenerating intercluster distance visualization...\")\n",
    "distance_fig = reducer.plot_intercluster_distance(\n",
    "    encoder.tfidf_matrix,\n",
    "    df['product_category']\n",
    ")\n",
    "distance_fig.show()"
   ]
  },
  {
   "cell_type": "markdown",
   "id": "0f47ad15",
   "metadata": {},
   "source": [
    "### 3.4 Dimensionality Reduction Conclusion\n",
    "\n",
    "Based on the analysis of product descriptions through TF-IDF vectorization and dimensionality reduction techniques, we can conclude that **it is feasible to classify items at the first level using their sanitized names** (after lemmatization and preprocessing).\n",
    "\n",
    "Key findings:\n",
    "- The silhouette analysis shows clusters with sufficient separation to distinguish between product categories\n",
    "- The silhouette scores are significant enough for practical use in an e-commerce classification system\n",
    "- Intercluster distances between product categories range from 0.47 to 0.91, indicating substantial separation between different product types\n",
    "- The most distant categories (distance of 0.91) show clear differentiation in the feature space\n",
    "- Even the closest categories (distance of 0.47) maintain enough separation for classification purposes\n",
    "\n",
    "This analysis confirms that text-based features from product names alone can provide a solid foundation for an automated product classification system, at least for top-level category assignment."
   ]
  },
  {
   "cell_type": "markdown",
   "id": "c2c183bb",
   "metadata": {},
   "source": [
    "## 4. Advanced NLP Classification Feasibility Study"
   ]
  },
  {
   "cell_type": "markdown",
   "id": "60ff7281",
   "metadata": {},
   "source": [
    "### 4.1 Word Embeddings\n",
    "**Approaches**:\n",
    "- Word2Vec Implementation\n",
    "- BERT Embeddings\n",
    "- Universal Sentence Encoder"
   ]
  },
  {
   "cell_type": "markdown",
   "id": "e3d29f9a",
   "metadata": {},
   "source": [
    "### 4.2 Comparative Analysis\n",
    "**Evaluation**:\n",
    "- Compare embedding methods\n",
    "- Analyze clustering quality\n",
    "- Assess category separation"
   ]
  },
  {
   "cell_type": "markdown",
   "id": "50cf8f62",
   "metadata": {},
   "source": [
    "## 5. Basic Image Processing Classification Study"
   ]
  },
  {
   "cell_type": "markdown",
   "id": "3c64aad7",
   "metadata": {},
   "source": [
    "### 5.1 Image Preprocessing\n",
    "**Steps**:\n",
    "- Grayscale conversion\n",
    "- Noise reduction\n",
    "- Contrast enhancement\n",
    "- Size normalization"
   ]
  },
  {
   "cell_type": "markdown",
   "id": "eab6c8cf",
   "metadata": {},
   "source": [
    "### 5.2 Feature Extraction\n",
    "**Methods**:\n",
    "- SIFT implementation\n",
    "- Feature detection\n",
    "- Descriptor computation"
   ]
  },
  {
   "cell_type": "markdown",
   "id": "ca3db74c",
   "metadata": {},
   "source": [
    "### 5.3 Analysis\n",
    "**Evaluation**:\n",
    "- Dimension reduction\n",
    "- Cluster visualization\n",
    "- Category separation assessment\n"
   ]
  },
  {
   "cell_type": "markdown",
   "id": "39709493",
   "metadata": {},
   "source": [
    "## 6. Advanced Image Processing Study"
   ]
  },
  {
   "cell_type": "markdown",
   "id": "8146fb04",
   "metadata": {},
   "source": [
    "### 6.1 Transfer Learning\n",
    "**Implementation**:\n",
    "- Pre-trained CNN setup\n",
    "- Feature extraction\n",
    "- Model adaptation"
   ]
  },
  {
   "cell_type": "markdown",
   "id": "b71250e0",
   "metadata": {},
   "source": [
    "### 6.2 Comparative Analysis\n",
    "**Evaluation**:\n",
    "- Compare with basic methods\n",
    "- Assess classification accuracy\n",
    "- Analyze feature quality"
   ]
  },
  {
   "cell_type": "markdown",
   "id": "b905fede",
   "metadata": {},
   "source": [
    "## 7. Final Feasibility Assessment"
   ]
  },
  {
   "cell_type": "markdown",
   "id": "c697c0e9",
   "metadata": {},
   "source": [
    "### 7.1 Performance Metrics\n",
    "**Evaluation**:\n",
    "- Clustering quality metrics\n",
    "- Classification accuracy\n",
    "- Processing time analysis"
   ]
  },
  {
   "cell_type": "markdown",
   "id": "909e9097",
   "metadata": {},
   "source": [
    "### 7.2 Recommendations\n",
    "**Outcomes**:\n",
    "- Feasibility conclusion\n",
    "- Best approach identification\n",
    "- Implementation suggestions\n"
   ]
  },
  {
   "cell_type": "markdown",
   "id": "039d22f5",
   "metadata": {},
   "source": [
    "## 8. Future Improvements\n",
    "- Scalability considerations\n",
    "- Performance optimization\n",
    "- Integration recommendations"
   ]
  }
 ],
 "metadata": {
  "kernelspec": {
   "display_name": "mission6_venv",
   "language": "python",
   "name": "python3"
  },
  "language_info": {
   "codemirror_mode": {
    "name": "ipython",
    "version": 3
   },
   "file_extension": ".py",
   "mimetype": "text/x-python",
   "name": "python",
   "nbconvert_exporter": "python",
   "pygments_lexer": "ipython3",
   "version": "3.12.10"
  }
 },
 "nbformat": 4,
 "nbformat_minor": 5
}
