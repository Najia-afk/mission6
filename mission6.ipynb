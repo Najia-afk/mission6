{
 "cells": [
  {
   "cell_type": "markdown",
   "id": "08c85400",
   "metadata": {},
   "source": [
    "# Mission 6: Feasibility Study of Product Classification Engine\n",
    "\n",
    "## 1. Introduction\n",
    "**Objective**: Evaluate the feasibility of automatic product classification using text descriptions and images for an e-commerce marketplace."
   ]
  },
  {
   "cell_type": "markdown",
   "id": "f5312ead",
   "metadata": {},
   "source": [
    "## 2. Data Overview\n",
    "**Dataset Components**:\n",
    "- Product descriptions (English text)\n",
    "- Product images\n",
    "- Category labels"
   ]
  },
  {
   "cell_type": "code",
   "execution_count": 1,
   "id": "e1959ddc",
   "metadata": {},
   "outputs": [
    {
     "data": {
      "application/vnd.microsoft.datawrangler.viewer.v0+json": {
       "columns": [
        {
         "name": "index",
         "rawType": "int64",
         "type": "integer"
        },
        {
         "name": "uniq_id",
         "rawType": "object",
         "type": "string"
        },
        {
         "name": "crawl_timestamp",
         "rawType": "object",
         "type": "string"
        },
        {
         "name": "product_url",
         "rawType": "object",
         "type": "string"
        },
        {
         "name": "product_name",
         "rawType": "object",
         "type": "string"
        },
        {
         "name": "product_category_tree",
         "rawType": "object",
         "type": "string"
        },
        {
         "name": "pid",
         "rawType": "object",
         "type": "string"
        },
        {
         "name": "retail_price",
         "rawType": "float64",
         "type": "float"
        },
        {
         "name": "discounted_price",
         "rawType": "float64",
         "type": "float"
        },
        {
         "name": "image",
         "rawType": "object",
         "type": "string"
        },
        {
         "name": "is_FK_Advantage_product",
         "rawType": "bool",
         "type": "boolean"
        },
        {
         "name": "description",
         "rawType": "object",
         "type": "string"
        },
        {
         "name": "product_rating",
         "rawType": "object",
         "type": "string"
        },
        {
         "name": "overall_rating",
         "rawType": "object",
         "type": "string"
        },
        {
         "name": "brand",
         "rawType": "object",
         "type": "string"
        },
        {
         "name": "product_specifications",
         "rawType": "object",
         "type": "string"
        }
       ],
       "ref": "68165aa2-74b2-456b-9ad0-7f500c139388",
       "rows": [
        [
         "0",
         "55b85ea15a1536d46b7190ad6fff8ce7",
         "2016-04-30 03:22:56 +0000",
         "http://www.flipkart.com/elegance-polyester-multicolor-abstract-eyelet-door-curtain/p/itmeg7bkzdgthcts?pid=CRNEG7BKMFFYHQ8Z",
         "Elegance Polyester Multicolor Abstract Eyelet Door Curtain",
         "[\"Home Furnishing >> Curtains & Accessories >> Curtains >> Elegance Polyester Multicolor Abstract Eyelet Do...\"]",
         "CRNEG7BKMFFYHQ8Z",
         "1899.0",
         "899.0",
         "55b85ea15a1536d46b7190ad6fff8ce7.jpg",
         "False",
         "Key Features of Elegance Polyester Multicolor Abstract Eyelet Door Curtain Floral Curtain,Elegance Polyester Multicolor Abstract Eyelet Door Curtain (213 cm in Height, Pack of 2) Price: Rs. 899 This curtain enhances the look of the interiors.This curtain is made from 100% high quality polyester fabric.It features an eyelet style stitch with Metal Ring.It makes the room environment romantic and loving.This curtain is ant- wrinkle and anti shrinkage and have elegant apparance.Give your home a bright and modernistic appeal with these designs. The surreal attention is sure to steal hearts. These contemporary eyelet and valance curtains slide smoothly so when you draw them apart first thing in the morning to welcome the bright sun rays you want to wish good morning to the whole world and when you draw them close in the evening, you create the most special moments of joyous beauty given by the soothing prints. Bring home the elegant curtain that softly filters light in your room so that you get the right amount of sunlight.,Specifications of Elegance Polyester Multicolor Abstract Eyelet Door Curtain (213 cm in Height, Pack of 2) General Brand Elegance Designed For Door Type Eyelet Model Name Abstract Polyester Door Curtain Set Of 2 Model ID Duster25 Color Multicolor Dimensions Length 213 cm In the Box Number of Contents in Sales Package Pack of 2 Sales Package 2 Curtains Body & Design Material Polyester",
         "No rating available",
         "No rating available",
         "Elegance",
         "{\"product_specification\"=>[{\"key\"=>\"Brand\", \"value\"=>\"Elegance\"}, {\"key\"=>\"Designed For\", \"value\"=>\"Door\"}, {\"key\"=>\"Type\", \"value\"=>\"Eyelet\"}, {\"key\"=>\"Model Name\", \"value\"=>\"Abstract Polyester Door Curtain Set Of 2\"}, {\"key\"=>\"Model ID\", \"value\"=>\"Duster25\"}, {\"key\"=>\"Color\", \"value\"=>\"Multicolor\"}, {\"key\"=>\"Length\", \"value\"=>\"213 cm\"}, {\"key\"=>\"Number of Contents in Sales Package\", \"value\"=>\"Pack of 2\"}, {\"key\"=>\"Sales Package\", \"value\"=>\"2 Curtains\"}, {\"key\"=>\"Material\", \"value\"=>\"Polyester\"}]}"
        ],
        [
         "1",
         "7b72c92c2f6c40268628ec5f14c6d590",
         "2016-04-30 03:22:56 +0000",
         "http://www.flipkart.com/sathiyas-cotton-bath-towel/p/itmegfzhxbyucwgn?pid=BTWEGFZHGBXPHZUH",
         "Sathiyas Cotton Bath Towel",
         "[\"Baby Care >> Baby Bath & Skin >> Baby Bath Towels >> Sathiyas Baby Bath Towels >> Sathiyas Cotton Bath Towel (3 Bath Towel, Red, Y...\"]",
         "BTWEGFZHGBXPHZUH",
         "600.0",
         "449.0",
         "7b72c92c2f6c40268628ec5f14c6d590.jpg",
         "False",
         "Specifications of Sathiyas Cotton Bath Towel (3 Bath Towel, Red, Yellow, Blue) Bath Towel Features Machine Washable Yes Material Cotton Design Self Design General Brand Sathiyas Type Bath Towel GSM 500 Model Name Sathiyas cotton bath towel Ideal For Men, Women, Boys, Girls Model ID asvtwl322 Color Red, Yellow, Blue Size Mediam Dimensions Length 30 inch Width 60 inch In the Box Number of Contents in Sales Package 3 Sales Package 3 Bath Towel",
         "No rating available",
         "No rating available",
         "Sathiyas",
         "{\"product_specification\"=>[{\"key\"=>\"Machine Washable\", \"value\"=>\"Yes\"}, {\"key\"=>\"Material\", \"value\"=>\"Cotton\"}, {\"key\"=>\"Design\", \"value\"=>\"Self Design\"}, {\"key\"=>\"Brand\", \"value\"=>\"Sathiyas\"}, {\"key\"=>\"Type\", \"value\"=>\"Bath Towel\"}, {\"key\"=>\"GSM\", \"value\"=>\"500\"}, {\"key\"=>\"Model Name\", \"value\"=>\"Sathiyas cotton bath towel\"}, {\"key\"=>\"Ideal For\", \"value\"=>\"Men, Women, Boys, Girls\"}, {\"key\"=>\"Model ID\", \"value\"=>\"asvtwl322\"}, {\"key\"=>\"Color\", \"value\"=>\"Red, Yellow, Blue\"}, {\"key\"=>\"Size\", \"value\"=>\"Mediam\"}, {\"key\"=>\"Length\", \"value\"=>\"30 inch\"}, {\"key\"=>\"Width\", \"value\"=>\"60 inch\"}, {\"key\"=>\"Number of Contents in Sales Package\", \"value\"=>\"3\"}, {\"key\"=>\"Sales Package\", \"value\"=>\"3 Bath Towel\"}]}"
        ],
        [
         "2",
         "64d5d4a258243731dc7bbb1eef49ad74",
         "2016-04-30 03:22:56 +0000",
         "http://www.flipkart.com/eurospa-cotton-terry-face-towel-set/p/itmeg6shbrpubhca?pid=BTWEG6SHXTDB2A2Y",
         "Eurospa Cotton Terry Face Towel Set",
         "[\"Baby Care >> Baby Bath & Skin >> Baby Bath Towels >> Eurospa Baby Bath Towels >> Eurospa Cotton Terry Face Towel Set (20 PIECE FA...\"]",
         "BTWEG6SHXTDB2A2Y",
         null,
         null,
         "64d5d4a258243731dc7bbb1eef49ad74.jpg",
         "False",
         "Key Features of Eurospa Cotton Terry Face Towel Set Size: small Height: 9 inch GSM: 360,Eurospa Cotton Terry Face Towel Set (20 PIECE FACE TOWEL SET, Assorted) Price: Rs. 299 Eurospa brings to you an exclusively designed, 100% soft cotton towels of export quality. All our products have soft texture that takes care of your skin and gives you that enriched feeling you deserve. Eurospa has been exporting its bath towels to lot of renowned brands for last 10 years and is famous for its fine prints, absorbency, softness and durability. NOTE: Our product is 100% cotton, so it is susceptible to shrinkage. Product color may vary from the picture. Size may vary by ±3% WASH CARE: Wash in cold Water, Do not Iron, Do not Bleach, Flat dry, Wash before first use. SIZE- FACE TOWEL - 23 cms X 23 cms.,Specifications of Eurospa Cotton Terry Face Towel Set (20 PIECE FACE TOWEL SET, Assorted) Bath Towel Features Material Cotton Terry Design SHUVAM General Brand Eurospa GSM 360 Type Face Towel Set Model Name SHUVAM20PCFTSETASSORTED Ideal For Boys, Girls, Men, Women Model ID SHUVAM20PCFTSETASSORTED Size small Color Assorted Dimensions Weight 350 g Length 9 inch Width 9 inch In the Box Number of Contents in Sales Package 20 Sales Package 20 PIECE FACE TOWEL SET",
         "No rating available",
         "No rating available",
         "Eurospa",
         "{\"product_specification\"=>[{\"key\"=>\"Material\", \"value\"=>\"Cotton Terry\"}, {\"key\"=>\"Design\", \"value\"=>\"SHUVAM\"}, {\"key\"=>\"Brand\", \"value\"=>\"Eurospa\"}, {\"key\"=>\"GSM\", \"value\"=>\"360\"}, {\"key\"=>\"Type\", \"value\"=>\"Face Towel Set\"}, {\"key\"=>\"Model Name\", \"value\"=>\"SHUVAM20PCFTSETASSORTED\"}, {\"key\"=>\"Ideal For\", \"value\"=>\"Boys, Girls, Men, Women\"}, {\"key\"=>\"Model ID\", \"value\"=>\"SHUVAM20PCFTSETASSORTED\"}, {\"key\"=>\"Size\", \"value\"=>\"small\"}, {\"key\"=>\"Color\", \"value\"=>\"Assorted\"}, {\"key\"=>\"Weight\", \"value\"=>\"350 g\"}, {\"key\"=>\"Length\", \"value\"=>\"9 inch\"}, {\"key\"=>\"Width\", \"value\"=>\"9 inch\"}, {\"key\"=>\"Number of Contents in Sales Package\", \"value\"=>\"20\"}, {\"key\"=>\"Sales Package\", \"value\"=>\"20 PIECE FACE TOWEL SET\"}]}"
        ],
        [
         "3",
         "d4684dcdc759dd9cdf41504698d737d8",
         "2016-06-20 08:49:52 +0000",
         "http://www.flipkart.com/santosh-royal-fashion-cotton-printed-king-sized-double-bedsheet/p/itmejt9uaqahahuf?pid=BDSEJT9UQWHDUBH4",
         "SANTOSH ROYAL FASHION Cotton Printed King sized Double Bedsheet",
         "[\"Home Furnishing >> Bed Linen >> Bedsheets >> SANTOSH ROYAL FASHION Bedsheets >> SANTOSH ROYAL FASHION Cotton Printed King sized ...\"]",
         "BDSEJT9UQWHDUBH4",
         "2699.0",
         "1299.0",
         "d4684dcdc759dd9cdf41504698d737d8.jpg",
         "False",
         "Key Features of SANTOSH ROYAL FASHION Cotton Printed King sized Double Bedsheet Royal Bedsheet Perfact for Wedding & Gifting,Specifications of SANTOSH ROYAL FASHION Cotton Printed King sized Double Bedsheet (1 Bedsheet,2 Pillow Cover, Multicolor) General Brand SANTOSH ROYAL FASHION Machine Washable Yes Type Flat Material Cotton Model Name Gold Design Royal Cotton Printed Wedding & Gifted Double Bedsheet With 2 Pillow cover Model ID goldbedi-38 Color Multicolor Size King Fabric Care Machine Wash, Do Not Bleach Dimensions Flat Sheet Width 90 inch / 230 cm Fitted Sheet Width 228 cm Pillow Cover Width 16 inch / 43 cm Pillow Cover Length 28 inch / 72 cm Fitted Sheet Depth 280 cm Fitted Sheet Length 278 cm Flat Sheet Depth 282 cm Flat Sheet Length 110 inch / 280 cm In the Box Number of Contents in Sales Package 1 Sales Package 1 Bedsheet,2 Pillow Cover",
         "No rating available",
         "No rating available",
         "SANTOSH ROYAL FASHION",
         "{\"product_specification\"=>[{\"key\"=>\"Brand\", \"value\"=>\"SANTOSH ROYAL FASHION\"}, {\"key\"=>\"Machine Washable\", \"value\"=>\"Yes\"}, {\"key\"=>\"Type\", \"value\"=>\"Flat\"}, {\"key\"=>\"Material\", \"value\"=>\"Cotton\"}, {\"key\"=>\"Model Name\", \"value\"=>\"Gold Design Royal Cotton Printed Wedding and Gifted Double Bedsheet With 2 Pillow cover\"}, {\"key\"=>\"Model ID\", \"value\"=>\"goldbedi-38\"}, {\"key\"=>\"Color\", \"value\"=>\"Multicolor\"}, {\"key\"=>\"Size\", \"value\"=>\"King\"}, {\"key\"=>\"Fabric Care\", \"value\"=>\"Machine Wash, Do Not Bleach\"}, {\"key\"=>\"Flat Sheet Width\", \"value\"=>\"90 inch / 230 cm\"}, {\"key\"=>\"Fitted Sheet Width\", \"value\"=>\"228 cm\"}, {\"key\"=>\"Pillow Cover Width\", \"value\"=>\"16 inch / 43 cm\"}, {\"key\"=>\"Pillow Cover Length\", \"value\"=>\"28 inch / 72 cm\"}, {\"key\"=>\"Fitted Sheet Depth\", \"value\"=>\"280 cm\"}, {\"key\"=>\"Fitted Sheet Length\", \"value\"=>\"278 cm\"}, {\"key\"=>\"Flat Sheet Depth\", \"value\"=>\"282 cm\"}, {\"key\"=>\"Flat Sheet Length\", \"value\"=>\"110 inch / 280 cm\"}, {\"key\"=>\"Number of Contents in Sales Package\", \"value\"=>\"1\"}, {\"key\"=>\"Sales Package\", \"value\"=>\"1 Bedsheet,2 Pillow Cover\"}]}"
        ],
        [
         "4",
         "6325b6870c54cd47be6ebfbffa620ec7",
         "2016-06-20 08:49:52 +0000",
         "http://www.flipkart.com/jaipur-print-cotton-floral-king-sized-double-bedsheet/p/itmejthnwahrnt7v?pid=BDSEJTHNGWVGWWQU",
         "Jaipur Print Cotton Floral King sized Double Bedsheet",
         "[\"Home Furnishing >> Bed Linen >> Bedsheets >> Jaipur Print Bedsheets >> Jaipur Print Cotton Floral King sized Double Bed...\"]",
         "BDSEJTHNGWVGWWQU",
         "2599.0",
         "698.0",
         "6325b6870c54cd47be6ebfbffa620ec7.jpg",
         "False",
         "Key Features of Jaipur Print Cotton Floral King sized Double Bedsheet 100% cotton,Jaipur Print Cotton Floral King sized Double Bedsheet (1 bed sheet 2 pillow cover, White) Price: Rs. 998 This nice bed sheet made up of 100% cotton to give you comfort. This bed sheet is hand printed. This bedsheet gives nice look to your room And its fast colour and good quality gives this bedsheet long life.,Specifications of Jaipur Print Cotton Floral King sized Double Bedsheet (1 bed sheet 2 pillow cover, White) General Machine Washable Yes Brand Jaipur Print Type Flat Model Name jaipur117 Material Cotton Thread Count 140 Model ID jaipur117 Fabric Care machinewash, do not bleach Size King Color White Warranty waranty of the product only for manufacturing defect only and product will exchange onle when it is not used and returne its origional packing Dimensions Flat Sheet Width 86 inch / 220 cm Fitted Sheet Width 0 cm Pillow Cover Width 17 inch / 45 cm Pillow Cover Length 29 inch / 75 cm Weight 900 g Fitted Sheet Depth 0 cm Fitted Sheet Length 0 cm Flat Sheet Depth 0.2 cm Flat Sheet Length 104 inch / 265 cm In the Box Number of Contents in Sales Package 1 Sales Package 1 bed sheet 2 pillow cover",
         "No rating available",
         "No rating available",
         "Jaipur Print",
         "{\"product_specification\"=>[{\"key\"=>\"Machine Washable\", \"value\"=>\"Yes\"}, {\"key\"=>\"Brand\", \"value\"=>\"Jaipur Print\"}, {\"key\"=>\"Type\", \"value\"=>\"Flat\"}, {\"key\"=>\"Model Name\", \"value\"=>\"jaipur117\"}, {\"key\"=>\"Material\", \"value\"=>\"Cotton\"}, {\"key\"=>\"Thread Count\", \"value\"=>\"140\"}, {\"key\"=>\"Model ID\", \"value\"=>\"jaipur117\"}, {\"key\"=>\"Fabric Care\", \"value\"=>\"machinewash, do not bleach\"}, {\"key\"=>\"Size\", \"value\"=>\"King\"}, {\"key\"=>\"Color\", \"value\"=>\"White\"}, {\"value\"=>\"waranty of the product only for manufacturing defect only and product will exchange onle when it is not used and returne its origional packing\"}, {\"key\"=>\"Flat Sheet Width\", \"value\"=>\"86 inch / 220 cm\"}, {\"key\"=>\"Fitted Sheet Width\", \"value\"=>\"0 cm\"}, {\"key\"=>\"Pillow Cover Width\", \"value\"=>\"17 inch / 45 cm\"}, {\"key\"=>\"Pillow Cover Length\", \"value\"=>\"29 inch / 75 cm\"}, {\"key\"=>\"Weight\", \"value\"=>\"900 g\"}, {\"key\"=>\"Fitted Sheet Depth\", \"value\"=>\"0 cm\"}, {\"key\"=>\"Fitted Sheet Length\", \"value\"=>\"0 cm\"}, {\"key\"=>\"Flat Sheet Depth\", \"value\"=>\"0.2 cm\"}, {\"key\"=>\"Flat Sheet Length\", \"value\"=>\"104 inch / 265 cm\"}, {\"key\"=>\"Number of Contents in Sales Package\", \"value\"=>\"1\"}, {\"key\"=>\"Sales Package\", \"value\"=>\"1 bed sheet 2 pillow cover\"}]}"
        ]
       ],
       "shape": {
        "columns": 15,
        "rows": 5
       }
      },
      "text/html": [
       "<div>\n",
       "<style scoped>\n",
       "    .dataframe tbody tr th:only-of-type {\n",
       "        vertical-align: middle;\n",
       "    }\n",
       "\n",
       "    .dataframe tbody tr th {\n",
       "        vertical-align: top;\n",
       "    }\n",
       "\n",
       "    .dataframe thead th {\n",
       "        text-align: right;\n",
       "    }\n",
       "</style>\n",
       "<table border=\"1\" class=\"dataframe\">\n",
       "  <thead>\n",
       "    <tr style=\"text-align: right;\">\n",
       "      <th></th>\n",
       "      <th>uniq_id</th>\n",
       "      <th>crawl_timestamp</th>\n",
       "      <th>product_url</th>\n",
       "      <th>product_name</th>\n",
       "      <th>product_category_tree</th>\n",
       "      <th>pid</th>\n",
       "      <th>retail_price</th>\n",
       "      <th>discounted_price</th>\n",
       "      <th>image</th>\n",
       "      <th>is_FK_Advantage_product</th>\n",
       "      <th>description</th>\n",
       "      <th>product_rating</th>\n",
       "      <th>overall_rating</th>\n",
       "      <th>brand</th>\n",
       "      <th>product_specifications</th>\n",
       "    </tr>\n",
       "  </thead>\n",
       "  <tbody>\n",
       "    <tr>\n",
       "      <th>0</th>\n",
       "      <td>55b85ea15a1536d46b7190ad6fff8ce7</td>\n",
       "      <td>2016-04-30 03:22:56 +0000</td>\n",
       "      <td>http://www.flipkart.com/elegance-polyester-mul...</td>\n",
       "      <td>Elegance Polyester Multicolor Abstract Eyelet ...</td>\n",
       "      <td>[\"Home Furnishing &gt;&gt; Curtains &amp; Accessories &gt;&gt;...</td>\n",
       "      <td>CRNEG7BKMFFYHQ8Z</td>\n",
       "      <td>1899.0</td>\n",
       "      <td>899.0</td>\n",
       "      <td>55b85ea15a1536d46b7190ad6fff8ce7.jpg</td>\n",
       "      <td>False</td>\n",
       "      <td>Key Features of Elegance Polyester Multicolor ...</td>\n",
       "      <td>No rating available</td>\n",
       "      <td>No rating available</td>\n",
       "      <td>Elegance</td>\n",
       "      <td>{\"product_specification\"=&gt;[{\"key\"=&gt;\"Brand\", \"v...</td>\n",
       "    </tr>\n",
       "    <tr>\n",
       "      <th>1</th>\n",
       "      <td>7b72c92c2f6c40268628ec5f14c6d590</td>\n",
       "      <td>2016-04-30 03:22:56 +0000</td>\n",
       "      <td>http://www.flipkart.com/sathiyas-cotton-bath-t...</td>\n",
       "      <td>Sathiyas Cotton Bath Towel</td>\n",
       "      <td>[\"Baby Care &gt;&gt; Baby Bath &amp; Skin &gt;&gt; Baby Bath T...</td>\n",
       "      <td>BTWEGFZHGBXPHZUH</td>\n",
       "      <td>600.0</td>\n",
       "      <td>449.0</td>\n",
       "      <td>7b72c92c2f6c40268628ec5f14c6d590.jpg</td>\n",
       "      <td>False</td>\n",
       "      <td>Specifications of Sathiyas Cotton Bath Towel (...</td>\n",
       "      <td>No rating available</td>\n",
       "      <td>No rating available</td>\n",
       "      <td>Sathiyas</td>\n",
       "      <td>{\"product_specification\"=&gt;[{\"key\"=&gt;\"Machine Wa...</td>\n",
       "    </tr>\n",
       "    <tr>\n",
       "      <th>2</th>\n",
       "      <td>64d5d4a258243731dc7bbb1eef49ad74</td>\n",
       "      <td>2016-04-30 03:22:56 +0000</td>\n",
       "      <td>http://www.flipkart.com/eurospa-cotton-terry-f...</td>\n",
       "      <td>Eurospa Cotton Terry Face Towel Set</td>\n",
       "      <td>[\"Baby Care &gt;&gt; Baby Bath &amp; Skin &gt;&gt; Baby Bath T...</td>\n",
       "      <td>BTWEG6SHXTDB2A2Y</td>\n",
       "      <td>NaN</td>\n",
       "      <td>NaN</td>\n",
       "      <td>64d5d4a258243731dc7bbb1eef49ad74.jpg</td>\n",
       "      <td>False</td>\n",
       "      <td>Key Features of Eurospa Cotton Terry Face Towe...</td>\n",
       "      <td>No rating available</td>\n",
       "      <td>No rating available</td>\n",
       "      <td>Eurospa</td>\n",
       "      <td>{\"product_specification\"=&gt;[{\"key\"=&gt;\"Material\",...</td>\n",
       "    </tr>\n",
       "    <tr>\n",
       "      <th>3</th>\n",
       "      <td>d4684dcdc759dd9cdf41504698d737d8</td>\n",
       "      <td>2016-06-20 08:49:52 +0000</td>\n",
       "      <td>http://www.flipkart.com/santosh-royal-fashion-...</td>\n",
       "      <td>SANTOSH ROYAL FASHION Cotton Printed King size...</td>\n",
       "      <td>[\"Home Furnishing &gt;&gt; Bed Linen &gt;&gt; Bedsheets &gt;&gt;...</td>\n",
       "      <td>BDSEJT9UQWHDUBH4</td>\n",
       "      <td>2699.0</td>\n",
       "      <td>1299.0</td>\n",
       "      <td>d4684dcdc759dd9cdf41504698d737d8.jpg</td>\n",
       "      <td>False</td>\n",
       "      <td>Key Features of SANTOSH ROYAL FASHION Cotton P...</td>\n",
       "      <td>No rating available</td>\n",
       "      <td>No rating available</td>\n",
       "      <td>SANTOSH ROYAL FASHION</td>\n",
       "      <td>{\"product_specification\"=&gt;[{\"key\"=&gt;\"Brand\", \"v...</td>\n",
       "    </tr>\n",
       "    <tr>\n",
       "      <th>4</th>\n",
       "      <td>6325b6870c54cd47be6ebfbffa620ec7</td>\n",
       "      <td>2016-06-20 08:49:52 +0000</td>\n",
       "      <td>http://www.flipkart.com/jaipur-print-cotton-fl...</td>\n",
       "      <td>Jaipur Print Cotton Floral King sized Double B...</td>\n",
       "      <td>[\"Home Furnishing &gt;&gt; Bed Linen &gt;&gt; Bedsheets &gt;&gt;...</td>\n",
       "      <td>BDSEJTHNGWVGWWQU</td>\n",
       "      <td>2599.0</td>\n",
       "      <td>698.0</td>\n",
       "      <td>6325b6870c54cd47be6ebfbffa620ec7.jpg</td>\n",
       "      <td>False</td>\n",
       "      <td>Key Features of Jaipur Print Cotton Floral Kin...</td>\n",
       "      <td>No rating available</td>\n",
       "      <td>No rating available</td>\n",
       "      <td>Jaipur Print</td>\n",
       "      <td>{\"product_specification\"=&gt;[{\"key\"=&gt;\"Machine Wa...</td>\n",
       "    </tr>\n",
       "  </tbody>\n",
       "</table>\n",
       "</div>"
      ],
      "text/plain": [
       "                            uniq_id            crawl_timestamp  \\\n",
       "0  55b85ea15a1536d46b7190ad6fff8ce7  2016-04-30 03:22:56 +0000   \n",
       "1  7b72c92c2f6c40268628ec5f14c6d590  2016-04-30 03:22:56 +0000   \n",
       "2  64d5d4a258243731dc7bbb1eef49ad74  2016-04-30 03:22:56 +0000   \n",
       "3  d4684dcdc759dd9cdf41504698d737d8  2016-06-20 08:49:52 +0000   \n",
       "4  6325b6870c54cd47be6ebfbffa620ec7  2016-06-20 08:49:52 +0000   \n",
       "\n",
       "                                         product_url  \\\n",
       "0  http://www.flipkart.com/elegance-polyester-mul...   \n",
       "1  http://www.flipkart.com/sathiyas-cotton-bath-t...   \n",
       "2  http://www.flipkart.com/eurospa-cotton-terry-f...   \n",
       "3  http://www.flipkart.com/santosh-royal-fashion-...   \n",
       "4  http://www.flipkart.com/jaipur-print-cotton-fl...   \n",
       "\n",
       "                                        product_name  \\\n",
       "0  Elegance Polyester Multicolor Abstract Eyelet ...   \n",
       "1                         Sathiyas Cotton Bath Towel   \n",
       "2                Eurospa Cotton Terry Face Towel Set   \n",
       "3  SANTOSH ROYAL FASHION Cotton Printed King size...   \n",
       "4  Jaipur Print Cotton Floral King sized Double B...   \n",
       "\n",
       "                               product_category_tree               pid  \\\n",
       "0  [\"Home Furnishing >> Curtains & Accessories >>...  CRNEG7BKMFFYHQ8Z   \n",
       "1  [\"Baby Care >> Baby Bath & Skin >> Baby Bath T...  BTWEGFZHGBXPHZUH   \n",
       "2  [\"Baby Care >> Baby Bath & Skin >> Baby Bath T...  BTWEG6SHXTDB2A2Y   \n",
       "3  [\"Home Furnishing >> Bed Linen >> Bedsheets >>...  BDSEJT9UQWHDUBH4   \n",
       "4  [\"Home Furnishing >> Bed Linen >> Bedsheets >>...  BDSEJTHNGWVGWWQU   \n",
       "\n",
       "   retail_price  discounted_price                                 image  \\\n",
       "0        1899.0             899.0  55b85ea15a1536d46b7190ad6fff8ce7.jpg   \n",
       "1         600.0             449.0  7b72c92c2f6c40268628ec5f14c6d590.jpg   \n",
       "2           NaN               NaN  64d5d4a258243731dc7bbb1eef49ad74.jpg   \n",
       "3        2699.0            1299.0  d4684dcdc759dd9cdf41504698d737d8.jpg   \n",
       "4        2599.0             698.0  6325b6870c54cd47be6ebfbffa620ec7.jpg   \n",
       "\n",
       "   is_FK_Advantage_product                                        description  \\\n",
       "0                    False  Key Features of Elegance Polyester Multicolor ...   \n",
       "1                    False  Specifications of Sathiyas Cotton Bath Towel (...   \n",
       "2                    False  Key Features of Eurospa Cotton Terry Face Towe...   \n",
       "3                    False  Key Features of SANTOSH ROYAL FASHION Cotton P...   \n",
       "4                    False  Key Features of Jaipur Print Cotton Floral Kin...   \n",
       "\n",
       "        product_rating       overall_rating                  brand  \\\n",
       "0  No rating available  No rating available               Elegance   \n",
       "1  No rating available  No rating available               Sathiyas   \n",
       "2  No rating available  No rating available                Eurospa   \n",
       "3  No rating available  No rating available  SANTOSH ROYAL FASHION   \n",
       "4  No rating available  No rating available           Jaipur Print   \n",
       "\n",
       "                              product_specifications  \n",
       "0  {\"product_specification\"=>[{\"key\"=>\"Brand\", \"v...  \n",
       "1  {\"product_specification\"=>[{\"key\"=>\"Machine Wa...  \n",
       "2  {\"product_specification\"=>[{\"key\"=>\"Material\",...  \n",
       "3  {\"product_specification\"=>[{\"key\"=>\"Brand\", \"v...  \n",
       "4  {\"product_specification\"=>[{\"key\"=>\"Machine Wa...  "
      ]
     },
     "execution_count": 1,
     "metadata": {},
     "output_type": "execute_result"
    }
   ],
   "source": [
    "import pandas as pd\n",
    "import glob\n",
    "\n",
    "# Read all CSV files from dataset/Flipkart directory with glob\n",
    "csv_files = glob.glob('dataset/Flipkart/flipkart*.csv')\n",
    "\n",
    "# Import the CSV files into a dataframe\n",
    "df = pd.read_csv(csv_files[0])\n",
    "\n",
    "# Display first few rows\n",
    "df.head()"
   ]
  },
  {
   "cell_type": "code",
   "execution_count": 2,
   "id": "7ac3f69b",
   "metadata": {},
   "outputs": [
    {
     "data": {
      "application/vnd.microsoft.datawrangler.viewer.v0+json": {
       "columns": [
        {
         "name": "index",
         "rawType": "int64",
         "type": "integer"
        },
        {
         "name": "key",
         "rawType": "object",
         "type": "string"
        },
        {
         "name": "value",
         "rawType": "object",
         "type": "string"
        },
        {
         "name": "count",
         "rawType": "int64",
         "type": "integer"
        },
        {
         "name": "percentage",
         "rawType": "float64",
         "type": "float"
        },
        {
         "name": "total_occurrences",
         "rawType": "int64",
         "type": "integer"
        }
       ],
       "ref": "47e60e7f-c6e5-4cb1-a6dc-9d93ad89d2a6",
       "rows": [
        [
         "0",
         "Type",
         "Analog",
         "123",
         "16.9",
         "728"
        ],
        [
         "1",
         "Type",
         "Mug",
         "74",
         "10.16",
         "728"
        ],
        [
         "2",
         "Type",
         "Ethnic",
         "56",
         "7.69",
         "728"
        ],
        [
         "3",
         "Type",
         "Wireless Without modem",
         "27",
         "3.71",
         "728"
        ],
        [
         "4",
         "Type",
         "Religious Idols",
         "26",
         "3.57",
         "728"
        ],
        [
         "5",
         "Brand",
         "Lapguard",
         "11",
         "1.94",
         "568"
        ],
        [
         "6",
         "Brand",
         "PRINT SHAPES",
         "11",
         "1.94",
         "568"
        ],
        [
         "7",
         "Brand",
         "Lal Haveli",
         "10",
         "1.76",
         "568"
        ],
        [
         "8",
         "Brand",
         "Raymond",
         "8",
         "1.41",
         "568"
        ],
        [
         "9",
         "Brand",
         "Aroma Comfort",
         "8",
         "1.41",
         "568"
        ],
        [
         "10",
         "Sales Package",
         "1 Mug",
         "49",
         "9.59",
         "511"
        ],
        [
         "11",
         "Sales Package",
         "1 Showpiece Figurine",
         "44",
         "8.61",
         "511"
        ],
        [
         "12",
         "Sales Package",
         "1 mug",
         "22",
         "4.31",
         "511"
        ],
        [
         "13",
         "Sales Package",
         "Blanket",
         "12",
         "2.35",
         "511"
        ],
        [
         "14",
         "Sales Package",
         "1 Laptop Adapter",
         "10",
         "1.96",
         "511"
        ],
        [
         "15",
         "Color",
         "Multicolor",
         "98",
         "19.41",
         "505"
        ],
        [
         "16",
         "Color",
         "Black",
         "73",
         "14.46",
         "505"
        ],
        [
         "17",
         "Color",
         "White",
         "42",
         "8.32",
         "505"
        ],
        [
         "18",
         "Color",
         "Blue",
         "31",
         "6.14",
         "505"
        ],
        [
         "19",
         "Color",
         "Gold",
         "28",
         "5.54",
         "505"
        ],
        [
         "20",
         "Ideal For",
         "Men",
         "88",
         "18.8",
         "468"
        ],
        [
         "21",
         "Ideal For",
         "Women",
         "75",
         "16.03",
         "468"
        ],
        [
         "22",
         "Ideal For",
         "Men, Women",
         "47",
         "10.04",
         "468"
        ],
        [
         "23",
         "Ideal For",
         "Baby Girl's",
         "46",
         "9.83",
         "468"
        ],
        [
         "24",
         "Ideal For",
         "Men and Women",
         "35",
         "7.48",
         "468"
        ]
       ],
       "shape": {
        "columns": 5,
        "rows": 25
       }
      },
      "text/html": [
       "<div>\n",
       "<style scoped>\n",
       "    .dataframe tbody tr th:only-of-type {\n",
       "        vertical-align: middle;\n",
       "    }\n",
       "\n",
       "    .dataframe tbody tr th {\n",
       "        vertical-align: top;\n",
       "    }\n",
       "\n",
       "    .dataframe thead th {\n",
       "        text-align: right;\n",
       "    }\n",
       "</style>\n",
       "<table border=\"1\" class=\"dataframe\">\n",
       "  <thead>\n",
       "    <tr style=\"text-align: right;\">\n",
       "      <th></th>\n",
       "      <th>key</th>\n",
       "      <th>value</th>\n",
       "      <th>count</th>\n",
       "      <th>percentage</th>\n",
       "      <th>total_occurrences</th>\n",
       "    </tr>\n",
       "  </thead>\n",
       "  <tbody>\n",
       "    <tr>\n",
       "      <th>0</th>\n",
       "      <td>Type</td>\n",
       "      <td>Analog</td>\n",
       "      <td>123</td>\n",
       "      <td>16.90</td>\n",
       "      <td>728</td>\n",
       "    </tr>\n",
       "    <tr>\n",
       "      <th>1</th>\n",
       "      <td>Type</td>\n",
       "      <td>Mug</td>\n",
       "      <td>74</td>\n",
       "      <td>10.16</td>\n",
       "      <td>728</td>\n",
       "    </tr>\n",
       "    <tr>\n",
       "      <th>2</th>\n",
       "      <td>Type</td>\n",
       "      <td>Ethnic</td>\n",
       "      <td>56</td>\n",
       "      <td>7.69</td>\n",
       "      <td>728</td>\n",
       "    </tr>\n",
       "    <tr>\n",
       "      <th>3</th>\n",
       "      <td>Type</td>\n",
       "      <td>Wireless Without modem</td>\n",
       "      <td>27</td>\n",
       "      <td>3.71</td>\n",
       "      <td>728</td>\n",
       "    </tr>\n",
       "    <tr>\n",
       "      <th>4</th>\n",
       "      <td>Type</td>\n",
       "      <td>Religious Idols</td>\n",
       "      <td>26</td>\n",
       "      <td>3.57</td>\n",
       "      <td>728</td>\n",
       "    </tr>\n",
       "    <tr>\n",
       "      <th>5</th>\n",
       "      <td>Brand</td>\n",
       "      <td>Lapguard</td>\n",
       "      <td>11</td>\n",
       "      <td>1.94</td>\n",
       "      <td>568</td>\n",
       "    </tr>\n",
       "    <tr>\n",
       "      <th>6</th>\n",
       "      <td>Brand</td>\n",
       "      <td>PRINT SHAPES</td>\n",
       "      <td>11</td>\n",
       "      <td>1.94</td>\n",
       "      <td>568</td>\n",
       "    </tr>\n",
       "    <tr>\n",
       "      <th>7</th>\n",
       "      <td>Brand</td>\n",
       "      <td>Lal Haveli</td>\n",
       "      <td>10</td>\n",
       "      <td>1.76</td>\n",
       "      <td>568</td>\n",
       "    </tr>\n",
       "    <tr>\n",
       "      <th>8</th>\n",
       "      <td>Brand</td>\n",
       "      <td>Raymond</td>\n",
       "      <td>8</td>\n",
       "      <td>1.41</td>\n",
       "      <td>568</td>\n",
       "    </tr>\n",
       "    <tr>\n",
       "      <th>9</th>\n",
       "      <td>Brand</td>\n",
       "      <td>Aroma Comfort</td>\n",
       "      <td>8</td>\n",
       "      <td>1.41</td>\n",
       "      <td>568</td>\n",
       "    </tr>\n",
       "    <tr>\n",
       "      <th>10</th>\n",
       "      <td>Sales Package</td>\n",
       "      <td>1 Mug</td>\n",
       "      <td>49</td>\n",
       "      <td>9.59</td>\n",
       "      <td>511</td>\n",
       "    </tr>\n",
       "    <tr>\n",
       "      <th>11</th>\n",
       "      <td>Sales Package</td>\n",
       "      <td>1 Showpiece Figurine</td>\n",
       "      <td>44</td>\n",
       "      <td>8.61</td>\n",
       "      <td>511</td>\n",
       "    </tr>\n",
       "    <tr>\n",
       "      <th>12</th>\n",
       "      <td>Sales Package</td>\n",
       "      <td>1 mug</td>\n",
       "      <td>22</td>\n",
       "      <td>4.31</td>\n",
       "      <td>511</td>\n",
       "    </tr>\n",
       "    <tr>\n",
       "      <th>13</th>\n",
       "      <td>Sales Package</td>\n",
       "      <td>Blanket</td>\n",
       "      <td>12</td>\n",
       "      <td>2.35</td>\n",
       "      <td>511</td>\n",
       "    </tr>\n",
       "    <tr>\n",
       "      <th>14</th>\n",
       "      <td>Sales Package</td>\n",
       "      <td>1 Laptop Adapter</td>\n",
       "      <td>10</td>\n",
       "      <td>1.96</td>\n",
       "      <td>511</td>\n",
       "    </tr>\n",
       "    <tr>\n",
       "      <th>15</th>\n",
       "      <td>Color</td>\n",
       "      <td>Multicolor</td>\n",
       "      <td>98</td>\n",
       "      <td>19.41</td>\n",
       "      <td>505</td>\n",
       "    </tr>\n",
       "    <tr>\n",
       "      <th>16</th>\n",
       "      <td>Color</td>\n",
       "      <td>Black</td>\n",
       "      <td>73</td>\n",
       "      <td>14.46</td>\n",
       "      <td>505</td>\n",
       "    </tr>\n",
       "    <tr>\n",
       "      <th>17</th>\n",
       "      <td>Color</td>\n",
       "      <td>White</td>\n",
       "      <td>42</td>\n",
       "      <td>8.32</td>\n",
       "      <td>505</td>\n",
       "    </tr>\n",
       "    <tr>\n",
       "      <th>18</th>\n",
       "      <td>Color</td>\n",
       "      <td>Blue</td>\n",
       "      <td>31</td>\n",
       "      <td>6.14</td>\n",
       "      <td>505</td>\n",
       "    </tr>\n",
       "    <tr>\n",
       "      <th>19</th>\n",
       "      <td>Color</td>\n",
       "      <td>Gold</td>\n",
       "      <td>28</td>\n",
       "      <td>5.54</td>\n",
       "      <td>505</td>\n",
       "    </tr>\n",
       "    <tr>\n",
       "      <th>20</th>\n",
       "      <td>Ideal For</td>\n",
       "      <td>Men</td>\n",
       "      <td>88</td>\n",
       "      <td>18.80</td>\n",
       "      <td>468</td>\n",
       "    </tr>\n",
       "    <tr>\n",
       "      <th>21</th>\n",
       "      <td>Ideal For</td>\n",
       "      <td>Women</td>\n",
       "      <td>75</td>\n",
       "      <td>16.03</td>\n",
       "      <td>468</td>\n",
       "    </tr>\n",
       "    <tr>\n",
       "      <th>22</th>\n",
       "      <td>Ideal For</td>\n",
       "      <td>Men, Women</td>\n",
       "      <td>47</td>\n",
       "      <td>10.04</td>\n",
       "      <td>468</td>\n",
       "    </tr>\n",
       "    <tr>\n",
       "      <th>23</th>\n",
       "      <td>Ideal For</td>\n",
       "      <td>Baby Girl's</td>\n",
       "      <td>46</td>\n",
       "      <td>9.83</td>\n",
       "      <td>468</td>\n",
       "    </tr>\n",
       "    <tr>\n",
       "      <th>24</th>\n",
       "      <td>Ideal For</td>\n",
       "      <td>Men and Women</td>\n",
       "      <td>35</td>\n",
       "      <td>7.48</td>\n",
       "      <td>468</td>\n",
       "    </tr>\n",
       "  </tbody>\n",
       "</table>\n",
       "</div>"
      ],
      "text/plain": [
       "              key                   value  count  percentage  \\\n",
       "0            Type                  Analog    123       16.90   \n",
       "1            Type                     Mug     74       10.16   \n",
       "2            Type                  Ethnic     56        7.69   \n",
       "3            Type  Wireless Without modem     27        3.71   \n",
       "4            Type         Religious Idols     26        3.57   \n",
       "5           Brand                Lapguard     11        1.94   \n",
       "6           Brand            PRINT SHAPES     11        1.94   \n",
       "7           Brand              Lal Haveli     10        1.76   \n",
       "8           Brand                 Raymond      8        1.41   \n",
       "9           Brand           Aroma Comfort      8        1.41   \n",
       "10  Sales Package                   1 Mug     49        9.59   \n",
       "11  Sales Package    1 Showpiece Figurine     44        8.61   \n",
       "12  Sales Package                   1 mug     22        4.31   \n",
       "13  Sales Package                 Blanket     12        2.35   \n",
       "14  Sales Package        1 Laptop Adapter     10        1.96   \n",
       "15          Color              Multicolor     98       19.41   \n",
       "16          Color                   Black     73       14.46   \n",
       "17          Color                   White     42        8.32   \n",
       "18          Color                    Blue     31        6.14   \n",
       "19          Color                    Gold     28        5.54   \n",
       "20      Ideal For                     Men     88       18.80   \n",
       "21      Ideal For                   Women     75       16.03   \n",
       "22      Ideal For              Men, Women     47       10.04   \n",
       "23      Ideal For             Baby Girl's     46        9.83   \n",
       "24      Ideal For           Men and Women     35        7.48   \n",
       "\n",
       "    total_occurrences  \n",
       "0                 728  \n",
       "1                 728  \n",
       "2                 728  \n",
       "3                 728  \n",
       "4                 728  \n",
       "5                 568  \n",
       "6                 568  \n",
       "7                 568  \n",
       "8                 568  \n",
       "9                 568  \n",
       "10                511  \n",
       "11                511  \n",
       "12                511  \n",
       "13                511  \n",
       "14                511  \n",
       "15                505  \n",
       "16                505  \n",
       "17                505  \n",
       "18                505  \n",
       "19                505  \n",
       "20                468  \n",
       "21                468  \n",
       "22                468  \n",
       "23                468  \n",
       "24                468  "
      ]
     },
     "execution_count": 2,
     "metadata": {},
     "output_type": "execute_result"
    }
   ],
   "source": [
    "from src.classes.analyze_value_specifications import SpecificationsValueAnalyzer\n",
    "\n",
    "analyzer = SpecificationsValueAnalyzer(df)\n",
    "value_analysis = analyzer.get_top_values(top_keys=5, top_values=5)\n",
    "value_analysis"
   ]
  },
  {
   "cell_type": "code",
   "execution_count": 3,
   "id": "d9cfc9ba",
   "metadata": {},
   "outputs": [
    {
     "data": {
      "application/vnd.plotly.v1+json": {
       "config": {
        "plotlyServerURL": "https://plot.ly"
       },
       "data": [
        {
         "branchvalues": "total",
         "domain": {
          "x": [
           0,
           1
          ],
          "y": [
           0,
           1
          ]
         },
         "hovertemplate": "labels=%{label}<br>count=%{value}<br>parent=%{parent}<br>id=%{id}<extra></extra>",
         "ids": [
          "Specifications/Type/Analog",
          "Specifications/Type/Mug",
          "Specifications/Type/Ethnic",
          "Specifications/Type/Wireless Without modem",
          "Specifications/Type/Religious Idols",
          "Specifications/Type/Blanket",
          "Specifications/Type/Kadhai",
          "Specifications/Type/Quilts and Comforters",
          "Specifications/Type/Eyelet",
          "Specifications/Type/Led Light",
          "Specifications/Type/Digital",
          "Specifications/Type/Bath Towel",
          "Specifications/Type/Square",
          "Specifications/Type/Wireless With Modem",
          "Specifications/Type/Flat",
          "Specifications/Type/Human Figurines",
          "Specifications/Type/Gathered",
          "Specifications/Type/Range Extenders/Repeaters",
          "Specifications/Type/Dohar",
          "Specifications/Type/Set of Towels",
          "Specifications/Brand/Lapguard",
          "Specifications/Brand/PRINT SHAPES",
          "Specifications/Brand/Lal Haveli",
          "Specifications/Brand/Raymond",
          "Specifications/Brand/Aroma Comfort",
          "Specifications/Brand/Tenda",
          "Specifications/Brand/Smartpro",
          "Specifications/Brand/Wallmantra",
          "Specifications/Brand/Asus",
          "Specifications/Brand/HP",
          "Specifications/Brand/Home Originals",
          "Specifications/Brand/Exotic India",
          "Specifications/Brand/TRENDnet",
          "Specifications/Brand/Edimax",
          "Specifications/Brand/Rega IT",
          "Specifications/Brand/Sapatos",
          "Specifications/Brand/D-Link",
          "Specifications/Brand/TP-LINK",
          "Specifications/Brand/Netgear",
          "Specifications/Brand/Cotonex",
          "Specifications/Sales Package/1 Mug",
          "Specifications/Sales Package/1 Showpiece Figurine",
          "Specifications/Sales Package/1 mug",
          "Specifications/Sales Package/Blanket",
          "Specifications/Sales Package/1 Laptop Adapter",
          "Specifications/Sales Package/1 Kadhai",
          "Specifications/Sales Package/1 Showpiece",
          "Specifications/Sales Package/1 Pizza Cutter",
          "Specifications/Sales Package/2 Blankets",
          "Specifications/Sales Package/800 ML Bottle",
          "Specifications/Sales Package/Bath Towel",
          "Specifications/Sales Package/1 Blanket",
          "Specifications/Sales Package/USB Gadget",
          "Specifications/Sales Package/1 Sticker",
          "Specifications/Sales Package/2 Showpiece Figurine",
          "Specifications/Sales Package/2 Glove",
          "Specifications/Sales Package/Table Runner",
          "Specifications/Sales Package/1 Rajai",
          "Specifications/Sales Package/1 Bulb",
          "Specifications/Sales Package/One Jaipuri Print Light Weight Quilt",
          "Specifications/Color/Multicolor",
          "Specifications/Color/Black",
          "Specifications/Color/White",
          "Specifications/Color/Blue",
          "Specifications/Color/Gold",
          "Specifications/Color/Brown",
          "Specifications/Color/Green",
          "Specifications/Color/Silver",
          "Specifications/Color/Pink",
          "Specifications/Color/Yellow",
          "Specifications/Color/Red",
          "Specifications/Color/Grey",
          "Specifications/Color/Orange",
          "Specifications/Color/Purple",
          "Specifications/Color/Beige",
          "Specifications/Color/Copper",
          "Specifications/Color/Maroon",
          "Specifications/Color/Black, White",
          "Specifications/Color/Clear",
          "Specifications/Color/Steel",
          "Specifications/Ideal For/Men",
          "Specifications/Ideal For/Women",
          "Specifications/Ideal For/Men, Women",
          "Specifications/Ideal For/Baby Girl's",
          "Specifications/Ideal For/Men and Women",
          "Specifications/Ideal For/Baby Boy's",
          "Specifications/Ideal For/Boys, Girls",
          "Specifications/Ideal For/Boys",
          "Specifications/Ideal For/Girls",
          "Specifications/Ideal For/Men, Boys",
          "Specifications/Ideal For/Boys, Men",
          "Specifications/Ideal For/Girls, Women",
          "Specifications/Ideal For/Boys and Girls",
          "Specifications/Ideal For/Men, Women, Boys, Girls",
          "Specifications/Ideal For/Women, Men",
          "Specifications/Ideal For/Baby Boy's, Baby Girl's",
          "Specifications/Ideal For/Women, Girls",
          "Specifications/Ideal For/Baby Boys and Baby Girls",
          "Specifications/Ideal For/Girls, Boys",
          "Specifications/Ideal For/Boys, Girls, Men, Women",
          "Specifications/Material/Ceramic",
          "Specifications/Material/Cotton",
          "Specifications/Material/Brass",
          "Specifications/Material/Polyester",
          "Specifications/Material/Plastic",
          "Specifications/Material/Wooden",
          "Specifications/Material/Aluminium",
          "Specifications/Material/Glass",
          "Specifications/Material/Stoneware",
          "Specifications/Material/Stainless Steel",
          "Specifications/Material/Polyresin",
          "Specifications/Material/Copper",
          "Specifications/Material/Velvet",
          "Specifications/Material/Vinyl",
          "Specifications/Material/PVC",
          "Specifications/Material/Crystal",
          "Specifications/Material/Iron",
          "Specifications/Material/Nylon",
          "Specifications/Material/Rubber",
          "Specifications/Material/PLASTIC",
          "Specifications/Width/80 mm",
          "Specifications/Width/88 mm",
          "Specifications/Width/15 inch / 40 cm",
          "Specifications/Width/59 inch / 150 cm",
          "Specifications/Width/10 cm",
          "Specifications/Width/15 cm",
          "Specifications/Width/86 inch / 220 cm",
          "Specifications/Width/60 inch / 152.4 cm",
          "Specifications/Width/3 cm",
          "Specifications/Width/12 inch",
          "Specifications/Width/6 cm",
          "Specifications/Width/11 cm",
          "Specifications/Width/4 cm",
          "Specifications/Width/90 inch / 229 cm",
          "Specifications/Width/19 inch / 50 cm",
          "Specifications/Width/23 cm",
          "Specifications/Width/12.7 cm",
          "Specifications/Width/5 cm",
          "Specifications/Width/30 inch",
          "Specifications/Width/9 inch",
          "Specifications/Model Name/Double Blanket",
          "Specifications/Model Name/4 u design",
          "Specifications/Model Name/Floral Jaipuri Printed Quilt",
          "Specifications/Model Name/Single Blanket",
          "Specifications/Model Name/Hard Anodised",
          "Specifications/Model Name/100% Egyptian",
          "Specifications/Model Name/Baby Bath Towel",
          "Specifications/Model Name/Plain With Lace",
          "Specifications/Model Name/Plain",
          "Specifications/Model Name/Plain Box Quilted Brown Single Duvet",
          "Specifications/Model Name/Teddy Blanket",
          "Specifications/Model Name/Hooded Receiving",
          "Specifications/Model Name/Portable",
          "Specifications/Model Name/Mink",
          "Specifications/Model Name/PATTA",
          "Specifications/Model Name/Abstract Polyester Door Curtain Set Of 2",
          "Specifications/Model Name/Sathiyas cotton bath towel",
          "Specifications/Model Name/SHUVAM20PCFTSETASSORTED",
          "Specifications/Model Name/Gold Design Royal Cotton Printed Wedding and Gifted Double Bedsheet With 2 Pillow cover",
          "Specifications/Model Name/jaipur117",
          "Specifications/Weight/300 g",
          "Specifications/Weight/350 g",
          "Specifications/Weight/500 g",
          "Specifications/Weight/250 g",
          "Specifications/Weight/100 g",
          "Specifications/Weight/450 g",
          "Specifications/Weight/340 g",
          "Specifications/Weight/150 g",
          "Specifications/Weight/400 g",
          "Specifications/Weight/1800 g",
          "Specifications/Weight/50 g",
          "Specifications/Weight/200 g",
          "Specifications/Weight/1500 g",
          "Specifications/Weight/330 g",
          "Specifications/Weight/600 g",
          "Specifications/Weight/1980 g",
          "Specifications/Weight/40 g",
          "Specifications/Weight/900 g",
          "Specifications/Weight/1000 g",
          "Specifications/Weight/750 g",
          "Specifications/Number of Contents in Sales Package/Pack of 1",
          "Specifications/Number of Contents in Sales Package/1",
          "Specifications/Number of Contents in Sales Package/Pack of 2",
          "Specifications/Number of Contents in Sales Package/2",
          "Specifications/Number of Contents in Sales Package/Pack of 3",
          "Specifications/Number of Contents in Sales Package/Pack of 5",
          "Specifications/Number of Contents in Sales Package/Pack of 6",
          "Specifications/Number of Contents in Sales Package/Pack of 4",
          "Specifications/Number of Contents in Sales Package/Pack of 8",
          "Specifications/Number of Contents in Sales Package/5",
          "Specifications/Number of Contents in Sales Package/6",
          "Specifications/Number of Contents in Sales Package/3",
          "Specifications/Number of Contents in Sales Package/Pack of 10",
          "Specifications/Number of Contents in Sales Package/4",
          "Specifications/Number of Contents in Sales Package/8",
          "Specifications/Number of Contents in Sales Package/20",
          "Specifications/Number of Contents in Sales Package/Pack of 7",
          "Specifications/Number of Contents in Sales Package/Pack of 9",
          "Specifications/Number of Contents in Sales Package/Pack of 55",
          "Specifications/Type",
          "Specifications/Brand",
          "Specifications/Sales Package",
          "Specifications/Color",
          "Specifications/Ideal For",
          "Specifications/Material",
          "Specifications/Width",
          "Specifications/Model Name",
          "Specifications/Weight",
          "Specifications/Number of Contents in Sales Package",
          "Specifications"
         ],
         "labels": [
          "Analog",
          "Mug",
          "Ethnic",
          "Wireless Without modem",
          "Religious Idols",
          "Blanket",
          "Kadhai",
          "Quilts and Comforters",
          "Eyelet",
          "Led Light",
          "Digital",
          "Bath Towel",
          "Square",
          "Wireless With Modem",
          "Flat",
          "Human Figurines",
          "Gathered",
          "Range Extenders/Repeaters",
          "Dohar",
          "Set of Towels",
          "Lapguard",
          "PRINT SHAPES",
          "Lal Haveli",
          "Raymond",
          "Aroma Comfort",
          "Tenda",
          "Smartpro",
          "Wallmantra",
          "Asus",
          "HP",
          "Home Originals",
          "Exotic India",
          "TRENDnet",
          "Edimax",
          "Rega IT",
          "Sapatos",
          "D-Link",
          "TP-LINK",
          "Netgear",
          "Cotonex",
          "1 Mug",
          "1 Showpiece Figurine",
          "1 mug",
          "Blanket",
          "1 Laptop Adapter",
          "1 Kadhai",
          "1 Showpiece",
          "1 Pizza Cutter",
          "2 Blankets",
          "800 ML Bottle",
          "Bath Towel",
          "1 Blanket",
          "USB Gadget",
          "1 Sticker",
          "2 Showpiece Figurine",
          "2 Glove",
          "Table Runner",
          "1 Rajai",
          "1 Bulb",
          "One Jaipuri Print Light Weight Quilt",
          "Multicolor",
          "Black",
          "White",
          "Blue",
          "Gold",
          "Brown",
          "Green",
          "Silver",
          "Pink",
          "Yellow",
          "Red",
          "Grey",
          "Orange",
          "Purple",
          "Beige",
          "Copper",
          "Maroon",
          "Black, White",
          "Clear",
          "Steel",
          "Men",
          "Women",
          "Men, Women",
          "Baby Girl's",
          "Men and Women",
          "Baby Boy's",
          "Boys, Girls",
          "Boys",
          "Girls",
          "Men, Boys",
          "Boys, Men",
          "Girls, Women",
          "Boys and Girls",
          "Men, Women, Boys, Girls",
          "Women, Men",
          "Baby Boy's, Baby Girl's",
          "Women, Girls",
          "Baby Boys and Baby Girls",
          "Girls, Boys",
          "Boys, Girls, Men, Women",
          "Ceramic",
          "Cotton",
          "Brass",
          "Polyester",
          "Plastic",
          "Wooden",
          "Aluminium",
          "Glass",
          "Stoneware",
          "Stainless Steel",
          "Polyresin",
          "Copper",
          "Velvet",
          "Vinyl",
          "PVC",
          "Crystal",
          "Iron",
          "Nylon",
          "Rubber",
          "PLASTIC",
          "80 mm",
          "88 mm",
          "15 inch / 40 cm",
          "59 inch / 150 cm",
          "10 cm",
          "15 cm",
          "86 inch / 220 cm",
          "60 inch / 152.4 cm",
          "3 cm",
          "12 inch",
          "6 cm",
          "11 cm",
          "4 cm",
          "90 inch / 229 cm",
          "19 inch / 50 cm",
          "23 cm",
          "12.7 cm",
          "5 cm",
          "30 inch",
          "9 inch",
          "Double Blanket",
          "4 u design",
          "Floral Jaipuri Printed Quilt",
          "Single Blanket",
          "Hard Anodised",
          "100% Egyptian",
          "Baby Bath Towel",
          "Plain With Lace",
          "Plain",
          "Plain Box Quilted Brown Single Duvet",
          "Teddy Blanket",
          "Hooded Receiving",
          "Portable",
          "Mink",
          "PATTA",
          "Abstract Polyester Door Curtain Set Of 2",
          "Sathiyas cotton bath towel",
          "SHUVAM20PCFTSETASSORTED",
          "Gold Design Royal Cotton Printed Wedding and Gifted Double Bedsheet With 2 Pillow cover",
          "jaipur117",
          "300 g",
          "350 g",
          "500 g",
          "250 g",
          "100 g",
          "450 g",
          "340 g",
          "150 g",
          "400 g",
          "1800 g",
          "50 g",
          "200 g",
          "1500 g",
          "330 g",
          "600 g",
          "1980 g",
          "40 g",
          "900 g",
          "1000 g",
          "750 g",
          "Pack of 1",
          "1",
          "Pack of 2",
          "2",
          "Pack of 3",
          "Pack of 5",
          "Pack of 6",
          "Pack of 4",
          "Pack of 8",
          "5",
          "6",
          "3",
          "Pack of 10",
          "4",
          "8",
          "20",
          "Pack of 7",
          "Pack of 9",
          "Pack of 55",
          "Type",
          "Brand",
          "Sales Package",
          "Color",
          "Ideal For",
          "Material",
          "Width",
          "Model Name",
          "Weight",
          "Number of Contents in Sales Package",
          "Specifications"
         ],
         "name": "",
         "parents": [
          "Specifications/Type",
          "Specifications/Type",
          "Specifications/Type",
          "Specifications/Type",
          "Specifications/Type",
          "Specifications/Type",
          "Specifications/Type",
          "Specifications/Type",
          "Specifications/Type",
          "Specifications/Type",
          "Specifications/Type",
          "Specifications/Type",
          "Specifications/Type",
          "Specifications/Type",
          "Specifications/Type",
          "Specifications/Type",
          "Specifications/Type",
          "Specifications/Type",
          "Specifications/Type",
          "Specifications/Type",
          "Specifications/Brand",
          "Specifications/Brand",
          "Specifications/Brand",
          "Specifications/Brand",
          "Specifications/Brand",
          "Specifications/Brand",
          "Specifications/Brand",
          "Specifications/Brand",
          "Specifications/Brand",
          "Specifications/Brand",
          "Specifications/Brand",
          "Specifications/Brand",
          "Specifications/Brand",
          "Specifications/Brand",
          "Specifications/Brand",
          "Specifications/Brand",
          "Specifications/Brand",
          "Specifications/Brand",
          "Specifications/Brand",
          "Specifications/Brand",
          "Specifications/Sales Package",
          "Specifications/Sales Package",
          "Specifications/Sales Package",
          "Specifications/Sales Package",
          "Specifications/Sales Package",
          "Specifications/Sales Package",
          "Specifications/Sales Package",
          "Specifications/Sales Package",
          "Specifications/Sales Package",
          "Specifications/Sales Package",
          "Specifications/Sales Package",
          "Specifications/Sales Package",
          "Specifications/Sales Package",
          "Specifications/Sales Package",
          "Specifications/Sales Package",
          "Specifications/Sales Package",
          "Specifications/Sales Package",
          "Specifications/Sales Package",
          "Specifications/Sales Package",
          "Specifications/Sales Package",
          "Specifications/Color",
          "Specifications/Color",
          "Specifications/Color",
          "Specifications/Color",
          "Specifications/Color",
          "Specifications/Color",
          "Specifications/Color",
          "Specifications/Color",
          "Specifications/Color",
          "Specifications/Color",
          "Specifications/Color",
          "Specifications/Color",
          "Specifications/Color",
          "Specifications/Color",
          "Specifications/Color",
          "Specifications/Color",
          "Specifications/Color",
          "Specifications/Color",
          "Specifications/Color",
          "Specifications/Color",
          "Specifications/Ideal For",
          "Specifications/Ideal For",
          "Specifications/Ideal For",
          "Specifications/Ideal For",
          "Specifications/Ideal For",
          "Specifications/Ideal For",
          "Specifications/Ideal For",
          "Specifications/Ideal For",
          "Specifications/Ideal For",
          "Specifications/Ideal For",
          "Specifications/Ideal For",
          "Specifications/Ideal For",
          "Specifications/Ideal For",
          "Specifications/Ideal For",
          "Specifications/Ideal For",
          "Specifications/Ideal For",
          "Specifications/Ideal For",
          "Specifications/Ideal For",
          "Specifications/Ideal For",
          "Specifications/Ideal For",
          "Specifications/Material",
          "Specifications/Material",
          "Specifications/Material",
          "Specifications/Material",
          "Specifications/Material",
          "Specifications/Material",
          "Specifications/Material",
          "Specifications/Material",
          "Specifications/Material",
          "Specifications/Material",
          "Specifications/Material",
          "Specifications/Material",
          "Specifications/Material",
          "Specifications/Material",
          "Specifications/Material",
          "Specifications/Material",
          "Specifications/Material",
          "Specifications/Material",
          "Specifications/Material",
          "Specifications/Material",
          "Specifications/Width",
          "Specifications/Width",
          "Specifications/Width",
          "Specifications/Width",
          "Specifications/Width",
          "Specifications/Width",
          "Specifications/Width",
          "Specifications/Width",
          "Specifications/Width",
          "Specifications/Width",
          "Specifications/Width",
          "Specifications/Width",
          "Specifications/Width",
          "Specifications/Width",
          "Specifications/Width",
          "Specifications/Width",
          "Specifications/Width",
          "Specifications/Width",
          "Specifications/Width",
          "Specifications/Width",
          "Specifications/Model Name",
          "Specifications/Model Name",
          "Specifications/Model Name",
          "Specifications/Model Name",
          "Specifications/Model Name",
          "Specifications/Model Name",
          "Specifications/Model Name",
          "Specifications/Model Name",
          "Specifications/Model Name",
          "Specifications/Model Name",
          "Specifications/Model Name",
          "Specifications/Model Name",
          "Specifications/Model Name",
          "Specifications/Model Name",
          "Specifications/Model Name",
          "Specifications/Model Name",
          "Specifications/Model Name",
          "Specifications/Model Name",
          "Specifications/Model Name",
          "Specifications/Model Name",
          "Specifications/Weight",
          "Specifications/Weight",
          "Specifications/Weight",
          "Specifications/Weight",
          "Specifications/Weight",
          "Specifications/Weight",
          "Specifications/Weight",
          "Specifications/Weight",
          "Specifications/Weight",
          "Specifications/Weight",
          "Specifications/Weight",
          "Specifications/Weight",
          "Specifications/Weight",
          "Specifications/Weight",
          "Specifications/Weight",
          "Specifications/Weight",
          "Specifications/Weight",
          "Specifications/Weight",
          "Specifications/Weight",
          "Specifications/Weight",
          "Specifications/Number of Contents in Sales Package",
          "Specifications/Number of Contents in Sales Package",
          "Specifications/Number of Contents in Sales Package",
          "Specifications/Number of Contents in Sales Package",
          "Specifications/Number of Contents in Sales Package",
          "Specifications/Number of Contents in Sales Package",
          "Specifications/Number of Contents in Sales Package",
          "Specifications/Number of Contents in Sales Package",
          "Specifications/Number of Contents in Sales Package",
          "Specifications/Number of Contents in Sales Package",
          "Specifications/Number of Contents in Sales Package",
          "Specifications/Number of Contents in Sales Package",
          "Specifications/Number of Contents in Sales Package",
          "Specifications/Number of Contents in Sales Package",
          "Specifications/Number of Contents in Sales Package",
          "Specifications/Number of Contents in Sales Package",
          "Specifications/Number of Contents in Sales Package",
          "Specifications/Number of Contents in Sales Package",
          "Specifications/Number of Contents in Sales Package",
          "Specifications",
          "Specifications",
          "Specifications",
          "Specifications",
          "Specifications",
          "Specifications",
          "Specifications",
          "Specifications",
          "Specifications",
          "Specifications",
          ""
         ],
         "type": "sunburst",
         "values": {
          "bdata": "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",
          "dtype": "f8"
         }
        }
       ],
       "layout": {
        "height": 900,
        "legend": {
         "tracegroupgap": 0
        },
        "margin": {
         "b": 0,
         "l": 0,
         "r": 0,
         "t": 50
        },
        "template": {
         "data": {
          "bar": [
           {
            "error_x": {
             "color": "#2a3f5f"
            },
            "error_y": {
             "color": "#2a3f5f"
            },
            "marker": {
             "line": {
              "color": "#E5ECF6",
              "width": 0.5
             },
             "pattern": {
              "fillmode": "overlay",
              "size": 10,
              "solidity": 0.2
             }
            },
            "type": "bar"
           }
          ],
          "barpolar": [
           {
            "marker": {
             "line": {
              "color": "#E5ECF6",
              "width": 0.5
             },
             "pattern": {
              "fillmode": "overlay",
              "size": 10,
              "solidity": 0.2
             }
            },
            "type": "barpolar"
           }
          ],
          "carpet": [
           {
            "aaxis": {
             "endlinecolor": "#2a3f5f",
             "gridcolor": "white",
             "linecolor": "white",
             "minorgridcolor": "white",
             "startlinecolor": "#2a3f5f"
            },
            "baxis": {
             "endlinecolor": "#2a3f5f",
             "gridcolor": "white",
             "linecolor": "white",
             "minorgridcolor": "white",
             "startlinecolor": "#2a3f5f"
            },
            "type": "carpet"
           }
          ],
          "choropleth": [
           {
            "colorbar": {
             "outlinewidth": 0,
             "ticks": ""
            },
            "type": "choropleth"
           }
          ],
          "contour": [
           {
            "colorbar": {
             "outlinewidth": 0,
             "ticks": ""
            },
            "colorscale": [
             [
              0,
              "#0d0887"
             ],
             [
              0.1111111111111111,
              "#46039f"
             ],
             [
              0.2222222222222222,
              "#7201a8"
             ],
             [
              0.3333333333333333,
              "#9c179e"
             ],
             [
              0.4444444444444444,
              "#bd3786"
             ],
             [
              0.5555555555555556,
              "#d8576b"
             ],
             [
              0.6666666666666666,
              "#ed7953"
             ],
             [
              0.7777777777777778,
              "#fb9f3a"
             ],
             [
              0.8888888888888888,
              "#fdca26"
             ],
             [
              1,
              "#f0f921"
             ]
            ],
            "type": "contour"
           }
          ],
          "contourcarpet": [
           {
            "colorbar": {
             "outlinewidth": 0,
             "ticks": ""
            },
            "type": "contourcarpet"
           }
          ],
          "heatmap": [
           {
            "colorbar": {
             "outlinewidth": 0,
             "ticks": ""
            },
            "colorscale": [
             [
              0,
              "#0d0887"
             ],
             [
              0.1111111111111111,
              "#46039f"
             ],
             [
              0.2222222222222222,
              "#7201a8"
             ],
             [
              0.3333333333333333,
              "#9c179e"
             ],
             [
              0.4444444444444444,
              "#bd3786"
             ],
             [
              0.5555555555555556,
              "#d8576b"
             ],
             [
              0.6666666666666666,
              "#ed7953"
             ],
             [
              0.7777777777777778,
              "#fb9f3a"
             ],
             [
              0.8888888888888888,
              "#fdca26"
             ],
             [
              1,
              "#f0f921"
             ]
            ],
            "type": "heatmap"
           }
          ],
          "histogram": [
           {
            "marker": {
             "pattern": {
              "fillmode": "overlay",
              "size": 10,
              "solidity": 0.2
             }
            },
            "type": "histogram"
           }
          ],
          "histogram2d": [
           {
            "colorbar": {
             "outlinewidth": 0,
             "ticks": ""
            },
            "colorscale": [
             [
              0,
              "#0d0887"
             ],
             [
              0.1111111111111111,
              "#46039f"
             ],
             [
              0.2222222222222222,
              "#7201a8"
             ],
             [
              0.3333333333333333,
              "#9c179e"
             ],
             [
              0.4444444444444444,
              "#bd3786"
             ],
             [
              0.5555555555555556,
              "#d8576b"
             ],
             [
              0.6666666666666666,
              "#ed7953"
             ],
             [
              0.7777777777777778,
              "#fb9f3a"
             ],
             [
              0.8888888888888888,
              "#fdca26"
             ],
             [
              1,
              "#f0f921"
             ]
            ],
            "type": "histogram2d"
           }
          ],
          "histogram2dcontour": [
           {
            "colorbar": {
             "outlinewidth": 0,
             "ticks": ""
            },
            "colorscale": [
             [
              0,
              "#0d0887"
             ],
             [
              0.1111111111111111,
              "#46039f"
             ],
             [
              0.2222222222222222,
              "#7201a8"
             ],
             [
              0.3333333333333333,
              "#9c179e"
             ],
             [
              0.4444444444444444,
              "#bd3786"
             ],
             [
              0.5555555555555556,
              "#d8576b"
             ],
             [
              0.6666666666666666,
              "#ed7953"
             ],
             [
              0.7777777777777778,
              "#fb9f3a"
             ],
             [
              0.8888888888888888,
              "#fdca26"
             ],
             [
              1,
              "#f0f921"
             ]
            ],
            "type": "histogram2dcontour"
           }
          ],
          "mesh3d": [
           {
            "colorbar": {
             "outlinewidth": 0,
             "ticks": ""
            },
            "type": "mesh3d"
           }
          ],
          "parcoords": [
           {
            "line": {
             "colorbar": {
              "outlinewidth": 0,
              "ticks": ""
             }
            },
            "type": "parcoords"
           }
          ],
          "pie": [
           {
            "automargin": true,
            "type": "pie"
           }
          ],
          "scatter": [
           {
            "fillpattern": {
             "fillmode": "overlay",
             "size": 10,
             "solidity": 0.2
            },
            "type": "scatter"
           }
          ],
          "scatter3d": [
           {
            "line": {
             "colorbar": {
              "outlinewidth": 0,
              "ticks": ""
             }
            },
            "marker": {
             "colorbar": {
              "outlinewidth": 0,
              "ticks": ""
             }
            },
            "type": "scatter3d"
           }
          ],
          "scattercarpet": [
           {
            "marker": {
             "colorbar": {
              "outlinewidth": 0,
              "ticks": ""
             }
            },
            "type": "scattercarpet"
           }
          ],
          "scattergeo": [
           {
            "marker": {
             "colorbar": {
              "outlinewidth": 0,
              "ticks": ""
             }
            },
            "type": "scattergeo"
           }
          ],
          "scattergl": [
           {
            "marker": {
             "colorbar": {
              "outlinewidth": 0,
              "ticks": ""
             }
            },
            "type": "scattergl"
           }
          ],
          "scattermap": [
           {
            "marker": {
             "colorbar": {
              "outlinewidth": 0,
              "ticks": ""
             }
            },
            "type": "scattermap"
           }
          ],
          "scattermapbox": [
           {
            "marker": {
             "colorbar": {
              "outlinewidth": 0,
              "ticks": ""
             }
            },
            "type": "scattermapbox"
           }
          ],
          "scatterpolar": [
           {
            "marker": {
             "colorbar": {
              "outlinewidth": 0,
              "ticks": ""
             }
            },
            "type": "scatterpolar"
           }
          ],
          "scatterpolargl": [
           {
            "marker": {
             "colorbar": {
              "outlinewidth": 0,
              "ticks": ""
             }
            },
            "type": "scatterpolargl"
           }
          ],
          "scatterternary": [
           {
            "marker": {
             "colorbar": {
              "outlinewidth": 0,
              "ticks": ""
             }
            },
            "type": "scatterternary"
           }
          ],
          "surface": [
           {
            "colorbar": {
             "outlinewidth": 0,
             "ticks": ""
            },
            "colorscale": [
             [
              0,
              "#0d0887"
             ],
             [
              0.1111111111111111,
              "#46039f"
             ],
             [
              0.2222222222222222,
              "#7201a8"
             ],
             [
              0.3333333333333333,
              "#9c179e"
             ],
             [
              0.4444444444444444,
              "#bd3786"
             ],
             [
              0.5555555555555556,
              "#d8576b"
             ],
             [
              0.6666666666666666,
              "#ed7953"
             ],
             [
              0.7777777777777778,
              "#fb9f3a"
             ],
             [
              0.8888888888888888,
              "#fdca26"
             ],
             [
              1,
              "#f0f921"
             ]
            ],
            "type": "surface"
           }
          ],
          "table": [
           {
            "cells": {
             "fill": {
              "color": "#EBF0F8"
             },
             "line": {
              "color": "white"
             }
            },
            "header": {
             "fill": {
              "color": "#C8D4E3"
             },
             "line": {
              "color": "white"
             }
            },
            "type": "table"
           }
          ]
         },
         "layout": {
          "annotationdefaults": {
           "arrowcolor": "#2a3f5f",
           "arrowhead": 0,
           "arrowwidth": 1
          },
          "autotypenumbers": "strict",
          "coloraxis": {
           "colorbar": {
            "outlinewidth": 0,
            "ticks": ""
           }
          },
          "colorscale": {
           "diverging": [
            [
             0,
             "#8e0152"
            ],
            [
             0.1,
             "#c51b7d"
            ],
            [
             0.2,
             "#de77ae"
            ],
            [
             0.3,
             "#f1b6da"
            ],
            [
             0.4,
             "#fde0ef"
            ],
            [
             0.5,
             "#f7f7f7"
            ],
            [
             0.6,
             "#e6f5d0"
            ],
            [
             0.7,
             "#b8e186"
            ],
            [
             0.8,
             "#7fbc41"
            ],
            [
             0.9,
             "#4d9221"
            ],
            [
             1,
             "#276419"
            ]
           ],
           "sequential": [
            [
             0,
             "#0d0887"
            ],
            [
             0.1111111111111111,
             "#46039f"
            ],
            [
             0.2222222222222222,
             "#7201a8"
            ],
            [
             0.3333333333333333,
             "#9c179e"
            ],
            [
             0.4444444444444444,
             "#bd3786"
            ],
            [
             0.5555555555555556,
             "#d8576b"
            ],
            [
             0.6666666666666666,
             "#ed7953"
            ],
            [
             0.7777777777777778,
             "#fb9f3a"
            ],
            [
             0.8888888888888888,
             "#fdca26"
            ],
            [
             1,
             "#f0f921"
            ]
           ],
           "sequentialminus": [
            [
             0,
             "#0d0887"
            ],
            [
             0.1111111111111111,
             "#46039f"
            ],
            [
             0.2222222222222222,
             "#7201a8"
            ],
            [
             0.3333333333333333,
             "#9c179e"
            ],
            [
             0.4444444444444444,
             "#bd3786"
            ],
            [
             0.5555555555555556,
             "#d8576b"
            ],
            [
             0.6666666666666666,
             "#ed7953"
            ],
            [
             0.7777777777777778,
             "#fb9f3a"
            ],
            [
             0.8888888888888888,
             "#fdca26"
            ],
            [
             1,
             "#f0f921"
            ]
           ]
          },
          "colorway": [
           "#636efa",
           "#EF553B",
           "#00cc96",
           "#ab63fa",
           "#FFA15A",
           "#19d3f3",
           "#FF6692",
           "#B6E880",
           "#FF97FF",
           "#FECB52"
          ],
          "font": {
           "color": "#2a3f5f"
          },
          "geo": {
           "bgcolor": "white",
           "lakecolor": "white",
           "landcolor": "#E5ECF6",
           "showlakes": true,
           "showland": true,
           "subunitcolor": "white"
          },
          "hoverlabel": {
           "align": "left"
          },
          "hovermode": "closest",
          "mapbox": {
           "style": "light"
          },
          "paper_bgcolor": "white",
          "plot_bgcolor": "#E5ECF6",
          "polar": {
           "angularaxis": {
            "gridcolor": "white",
            "linecolor": "white",
            "ticks": ""
           },
           "bgcolor": "#E5ECF6",
           "radialaxis": {
            "gridcolor": "white",
            "linecolor": "white",
            "ticks": ""
           }
          },
          "scene": {
           "xaxis": {
            "backgroundcolor": "#E5ECF6",
            "gridcolor": "white",
            "gridwidth": 2,
            "linecolor": "white",
            "showbackground": true,
            "ticks": "",
            "zerolinecolor": "white"
           },
           "yaxis": {
            "backgroundcolor": "#E5ECF6",
            "gridcolor": "white",
            "gridwidth": 2,
            "linecolor": "white",
            "showbackground": true,
            "ticks": "",
            "zerolinecolor": "white"
           },
           "zaxis": {
            "backgroundcolor": "#E5ECF6",
            "gridcolor": "white",
            "gridwidth": 2,
            "linecolor": "white",
            "showbackground": true,
            "ticks": "",
            "zerolinecolor": "white"
           }
          },
          "shapedefaults": {
           "line": {
            "color": "#2a3f5f"
           }
          },
          "ternary": {
           "aaxis": {
            "gridcolor": "white",
            "linecolor": "white",
            "ticks": ""
           },
           "baxis": {
            "gridcolor": "white",
            "linecolor": "white",
            "ticks": ""
           },
           "bgcolor": "#E5ECF6",
           "caxis": {
            "gridcolor": "white",
            "linecolor": "white",
            "ticks": ""
           }
          },
          "title": {
           "x": 0.05
          },
          "xaxis": {
           "automargin": true,
           "gridcolor": "white",
           "linecolor": "white",
           "ticks": "",
           "title": {
            "standoff": 15
           },
           "zerolinecolor": "white",
           "zerolinewidth": 2
          },
          "yaxis": {
           "automargin": true,
           "gridcolor": "white",
           "linecolor": "white",
           "ticks": "",
           "title": {
            "standoff": 15
           },
           "zerolinecolor": "white",
           "zerolinewidth": 2
          }
         }
        },
        "title": {
         "text": "Product Specifications Hierarchy"
        },
        "uniformtext": {
         "minsize": 10,
         "mode": "hide"
        },
        "width": 900
       }
      }
     },
     "metadata": {},
     "output_type": "display_data"
    }
   ],
   "source": [
    "\n",
    "fig = analyzer.create_radial_icicle_chart(top_keys=10, top_values=20)\n",
    "fig.show()"
   ]
  },
  {
   "cell_type": "code",
   "execution_count": 4,
   "id": "001319bf",
   "metadata": {},
   "outputs": [
    {
     "data": {
      "application/vnd.plotly.v1+json": {
       "config": {
        "plotlyServerURL": "https://plot.ly"
       },
       "data": [
        {
         "branchvalues": "remainder",
         "domain": {
          "x": [
           0,
           1
          ],
          "y": [
           0,
           1
          ]
         },
         "hovertemplate": "labels=%{label}<br>count=%{value}<br>parent=%{parent}<br>id=%{id}<extra></extra>",
         "ids": [
          "Baby Care",
          "Beauty and Personal Care",
          "Computers",
          "Home Decor & Festive Needs",
          "Home Furnishing",
          "Kitchen & Dining",
          "Watches"
         ],
         "labels": [
          "Baby Care",
          "Beauty and Personal Care",
          "Computers",
          "Home Decor & Festive Needs",
          "Home Furnishing",
          "Kitchen & Dining",
          "Watches"
         ],
         "name": "",
         "parents": [
          "",
          "",
          "",
          "",
          "",
          "",
          ""
         ],
         "type": "sunburst",
         "values": {
          "bdata": "AAAAAADAYkAAAAAAAMBiQAAAAAAAwGJAAAAAAADAYkAAAAAAAMBiQAAAAAAAwGJAAAAAAADAYkA=",
          "dtype": "f8"
         }
        }
       ],
       "layout": {
        "height": 1000,
        "legend": {
         "tracegroupgap": 0
        },
        "margin": {
         "b": 0,
         "l": 0,
         "r": 0,
         "t": 50
        },
        "template": {
         "data": {
          "bar": [
           {
            "error_x": {
             "color": "#2a3f5f"
            },
            "error_y": {
             "color": "#2a3f5f"
            },
            "marker": {
             "line": {
              "color": "#E5ECF6",
              "width": 0.5
             },
             "pattern": {
              "fillmode": "overlay",
              "size": 10,
              "solidity": 0.2
             }
            },
            "type": "bar"
           }
          ],
          "barpolar": [
           {
            "marker": {
             "line": {
              "color": "#E5ECF6",
              "width": 0.5
             },
             "pattern": {
              "fillmode": "overlay",
              "size": 10,
              "solidity": 0.2
             }
            },
            "type": "barpolar"
           }
          ],
          "carpet": [
           {
            "aaxis": {
             "endlinecolor": "#2a3f5f",
             "gridcolor": "white",
             "linecolor": "white",
             "minorgridcolor": "white",
             "startlinecolor": "#2a3f5f"
            },
            "baxis": {
             "endlinecolor": "#2a3f5f",
             "gridcolor": "white",
             "linecolor": "white",
             "minorgridcolor": "white",
             "startlinecolor": "#2a3f5f"
            },
            "type": "carpet"
           }
          ],
          "choropleth": [
           {
            "colorbar": {
             "outlinewidth": 0,
             "ticks": ""
            },
            "type": "choropleth"
           }
          ],
          "contour": [
           {
            "colorbar": {
             "outlinewidth": 0,
             "ticks": ""
            },
            "colorscale": [
             [
              0,
              "#0d0887"
             ],
             [
              0.1111111111111111,
              "#46039f"
             ],
             [
              0.2222222222222222,
              "#7201a8"
             ],
             [
              0.3333333333333333,
              "#9c179e"
             ],
             [
              0.4444444444444444,
              "#bd3786"
             ],
             [
              0.5555555555555556,
              "#d8576b"
             ],
             [
              0.6666666666666666,
              "#ed7953"
             ],
             [
              0.7777777777777778,
              "#fb9f3a"
             ],
             [
              0.8888888888888888,
              "#fdca26"
             ],
             [
              1,
              "#f0f921"
             ]
            ],
            "type": "contour"
           }
          ],
          "contourcarpet": [
           {
            "colorbar": {
             "outlinewidth": 0,
             "ticks": ""
            },
            "type": "contourcarpet"
           }
          ],
          "heatmap": [
           {
            "colorbar": {
             "outlinewidth": 0,
             "ticks": ""
            },
            "colorscale": [
             [
              0,
              "#0d0887"
             ],
             [
              0.1111111111111111,
              "#46039f"
             ],
             [
              0.2222222222222222,
              "#7201a8"
             ],
             [
              0.3333333333333333,
              "#9c179e"
             ],
             [
              0.4444444444444444,
              "#bd3786"
             ],
             [
              0.5555555555555556,
              "#d8576b"
             ],
             [
              0.6666666666666666,
              "#ed7953"
             ],
             [
              0.7777777777777778,
              "#fb9f3a"
             ],
             [
              0.8888888888888888,
              "#fdca26"
             ],
             [
              1,
              "#f0f921"
             ]
            ],
            "type": "heatmap"
           }
          ],
          "histogram": [
           {
            "marker": {
             "pattern": {
              "fillmode": "overlay",
              "size": 10,
              "solidity": 0.2
             }
            },
            "type": "histogram"
           }
          ],
          "histogram2d": [
           {
            "colorbar": {
             "outlinewidth": 0,
             "ticks": ""
            },
            "colorscale": [
             [
              0,
              "#0d0887"
             ],
             [
              0.1111111111111111,
              "#46039f"
             ],
             [
              0.2222222222222222,
              "#7201a8"
             ],
             [
              0.3333333333333333,
              "#9c179e"
             ],
             [
              0.4444444444444444,
              "#bd3786"
             ],
             [
              0.5555555555555556,
              "#d8576b"
             ],
             [
              0.6666666666666666,
              "#ed7953"
             ],
             [
              0.7777777777777778,
              "#fb9f3a"
             ],
             [
              0.8888888888888888,
              "#fdca26"
             ],
             [
              1,
              "#f0f921"
             ]
            ],
            "type": "histogram2d"
           }
          ],
          "histogram2dcontour": [
           {
            "colorbar": {
             "outlinewidth": 0,
             "ticks": ""
            },
            "colorscale": [
             [
              0,
              "#0d0887"
             ],
             [
              0.1111111111111111,
              "#46039f"
             ],
             [
              0.2222222222222222,
              "#7201a8"
             ],
             [
              0.3333333333333333,
              "#9c179e"
             ],
             [
              0.4444444444444444,
              "#bd3786"
             ],
             [
              0.5555555555555556,
              "#d8576b"
             ],
             [
              0.6666666666666666,
              "#ed7953"
             ],
             [
              0.7777777777777778,
              "#fb9f3a"
             ],
             [
              0.8888888888888888,
              "#fdca26"
             ],
             [
              1,
              "#f0f921"
             ]
            ],
            "type": "histogram2dcontour"
           }
          ],
          "mesh3d": [
           {
            "colorbar": {
             "outlinewidth": 0,
             "ticks": ""
            },
            "type": "mesh3d"
           }
          ],
          "parcoords": [
           {
            "line": {
             "colorbar": {
              "outlinewidth": 0,
              "ticks": ""
             }
            },
            "type": "parcoords"
           }
          ],
          "pie": [
           {
            "automargin": true,
            "type": "pie"
           }
          ],
          "scatter": [
           {
            "fillpattern": {
             "fillmode": "overlay",
             "size": 10,
             "solidity": 0.2
            },
            "type": "scatter"
           }
          ],
          "scatter3d": [
           {
            "line": {
             "colorbar": {
              "outlinewidth": 0,
              "ticks": ""
             }
            },
            "marker": {
             "colorbar": {
              "outlinewidth": 0,
              "ticks": ""
             }
            },
            "type": "scatter3d"
           }
          ],
          "scattercarpet": [
           {
            "marker": {
             "colorbar": {
              "outlinewidth": 0,
              "ticks": ""
             }
            },
            "type": "scattercarpet"
           }
          ],
          "scattergeo": [
           {
            "marker": {
             "colorbar": {
              "outlinewidth": 0,
              "ticks": ""
             }
            },
            "type": "scattergeo"
           }
          ],
          "scattergl": [
           {
            "marker": {
             "colorbar": {
              "outlinewidth": 0,
              "ticks": ""
             }
            },
            "type": "scattergl"
           }
          ],
          "scattermap": [
           {
            "marker": {
             "colorbar": {
              "outlinewidth": 0,
              "ticks": ""
             }
            },
            "type": "scattermap"
           }
          ],
          "scattermapbox": [
           {
            "marker": {
             "colorbar": {
              "outlinewidth": 0,
              "ticks": ""
             }
            },
            "type": "scattermapbox"
           }
          ],
          "scatterpolar": [
           {
            "marker": {
             "colorbar": {
              "outlinewidth": 0,
              "ticks": ""
             }
            },
            "type": "scatterpolar"
           }
          ],
          "scatterpolargl": [
           {
            "marker": {
             "colorbar": {
              "outlinewidth": 0,
              "ticks": ""
             }
            },
            "type": "scatterpolargl"
           }
          ],
          "scatterternary": [
           {
            "marker": {
             "colorbar": {
              "outlinewidth": 0,
              "ticks": ""
             }
            },
            "type": "scatterternary"
           }
          ],
          "surface": [
           {
            "colorbar": {
             "outlinewidth": 0,
             "ticks": ""
            },
            "colorscale": [
             [
              0,
              "#0d0887"
             ],
             [
              0.1111111111111111,
              "#46039f"
             ],
             [
              0.2222222222222222,
              "#7201a8"
             ],
             [
              0.3333333333333333,
              "#9c179e"
             ],
             [
              0.4444444444444444,
              "#bd3786"
             ],
             [
              0.5555555555555556,
              "#d8576b"
             ],
             [
              0.6666666666666666,
              "#ed7953"
             ],
             [
              0.7777777777777778,
              "#fb9f3a"
             ],
             [
              0.8888888888888888,
              "#fdca26"
             ],
             [
              1,
              "#f0f921"
             ]
            ],
            "type": "surface"
           }
          ],
          "table": [
           {
            "cells": {
             "fill": {
              "color": "#EBF0F8"
             },
             "line": {
              "color": "white"
             }
            },
            "header": {
             "fill": {
              "color": "#C8D4E3"
             },
             "line": {
              "color": "white"
             }
            },
            "type": "table"
           }
          ]
         },
         "layout": {
          "annotationdefaults": {
           "arrowcolor": "#2a3f5f",
           "arrowhead": 0,
           "arrowwidth": 1
          },
          "autotypenumbers": "strict",
          "coloraxis": {
           "colorbar": {
            "outlinewidth": 0,
            "ticks": ""
           }
          },
          "colorscale": {
           "diverging": [
            [
             0,
             "#8e0152"
            ],
            [
             0.1,
             "#c51b7d"
            ],
            [
             0.2,
             "#de77ae"
            ],
            [
             0.3,
             "#f1b6da"
            ],
            [
             0.4,
             "#fde0ef"
            ],
            [
             0.5,
             "#f7f7f7"
            ],
            [
             0.6,
             "#e6f5d0"
            ],
            [
             0.7,
             "#b8e186"
            ],
            [
             0.8,
             "#7fbc41"
            ],
            [
             0.9,
             "#4d9221"
            ],
            [
             1,
             "#276419"
            ]
           ],
           "sequential": [
            [
             0,
             "#0d0887"
            ],
            [
             0.1111111111111111,
             "#46039f"
            ],
            [
             0.2222222222222222,
             "#7201a8"
            ],
            [
             0.3333333333333333,
             "#9c179e"
            ],
            [
             0.4444444444444444,
             "#bd3786"
            ],
            [
             0.5555555555555556,
             "#d8576b"
            ],
            [
             0.6666666666666666,
             "#ed7953"
            ],
            [
             0.7777777777777778,
             "#fb9f3a"
            ],
            [
             0.8888888888888888,
             "#fdca26"
            ],
            [
             1,
             "#f0f921"
            ]
           ],
           "sequentialminus": [
            [
             0,
             "#0d0887"
            ],
            [
             0.1111111111111111,
             "#46039f"
            ],
            [
             0.2222222222222222,
             "#7201a8"
            ],
            [
             0.3333333333333333,
             "#9c179e"
            ],
            [
             0.4444444444444444,
             "#bd3786"
            ],
            [
             0.5555555555555556,
             "#d8576b"
            ],
            [
             0.6666666666666666,
             "#ed7953"
            ],
            [
             0.7777777777777778,
             "#fb9f3a"
            ],
            [
             0.8888888888888888,
             "#fdca26"
            ],
            [
             1,
             "#f0f921"
            ]
           ]
          },
          "colorway": [
           "#636efa",
           "#EF553B",
           "#00cc96",
           "#ab63fa",
           "#FFA15A",
           "#19d3f3",
           "#FF6692",
           "#B6E880",
           "#FF97FF",
           "#FECB52"
          ],
          "font": {
           "color": "#2a3f5f"
          },
          "geo": {
           "bgcolor": "white",
           "lakecolor": "white",
           "landcolor": "#E5ECF6",
           "showlakes": true,
           "showland": true,
           "subunitcolor": "white"
          },
          "hoverlabel": {
           "align": "left"
          },
          "hovermode": "closest",
          "mapbox": {
           "style": "light"
          },
          "paper_bgcolor": "white",
          "plot_bgcolor": "#E5ECF6",
          "polar": {
           "angularaxis": {
            "gridcolor": "white",
            "linecolor": "white",
            "ticks": ""
           },
           "bgcolor": "#E5ECF6",
           "radialaxis": {
            "gridcolor": "white",
            "linecolor": "white",
            "ticks": ""
           }
          },
          "scene": {
           "xaxis": {
            "backgroundcolor": "#E5ECF6",
            "gridcolor": "white",
            "gridwidth": 2,
            "linecolor": "white",
            "showbackground": true,
            "ticks": "",
            "zerolinecolor": "white"
           },
           "yaxis": {
            "backgroundcolor": "#E5ECF6",
            "gridcolor": "white",
            "gridwidth": 2,
            "linecolor": "white",
            "showbackground": true,
            "ticks": "",
            "zerolinecolor": "white"
           },
           "zaxis": {
            "backgroundcolor": "#E5ECF6",
            "gridcolor": "white",
            "gridwidth": 2,
            "linecolor": "white",
            "showbackground": true,
            "ticks": "",
            "zerolinecolor": "white"
           }
          },
          "shapedefaults": {
           "line": {
            "color": "#2a3f5f"
           }
          },
          "ternary": {
           "aaxis": {
            "gridcolor": "white",
            "linecolor": "white",
            "ticks": ""
           },
           "baxis": {
            "gridcolor": "white",
            "linecolor": "white",
            "ticks": ""
           },
           "bgcolor": "#E5ECF6",
           "caxis": {
            "gridcolor": "white",
            "linecolor": "white",
            "ticks": ""
           }
          },
          "title": {
           "x": 0.05
          },
          "xaxis": {
           "automargin": true,
           "gridcolor": "white",
           "linecolor": "white",
           "ticks": "",
           "title": {
            "standoff": 15
           },
           "zerolinecolor": "white",
           "zerolinewidth": 2
          },
          "yaxis": {
           "automargin": true,
           "gridcolor": "white",
           "linecolor": "white",
           "ticks": "",
           "title": {
            "standoff": 15
           },
           "zerolinecolor": "white",
           "zerolinewidth": 2
          }
         }
        },
        "title": {
         "text": "Product Category Hierarchy"
        },
        "uniformtext": {
         "minsize": 10,
         "mode": "hide"
        },
        "width": 1000
       }
      }
     },
     "metadata": {},
     "output_type": "display_data"
    }
   ],
   "source": [
    "from src.classes.analyze_category_tree import CategoryTreeAnalyzer\n",
    "\n",
    "# Create analyzer instance with your dataframe\n",
    "category_analyzer = CategoryTreeAnalyzer(df)\n",
    "\n",
    "# Create and display the radial category chart\n",
    "fig = category_analyzer.create_radial_category_chart(max_depth=1)\n",
    "fig.show()"
   ]
  },
  {
   "cell_type": "code",
   "execution_count": 12,
   "id": "ffc39750",
   "metadata": {},
   "outputs": [
    {
     "data": {
      "application/vnd.plotly.v1+json": {
       "config": {
        "plotlyServerURL": "https://plot.ly"
       },
       "data": [
        {
         "branchvalues": "remainder",
         "domain": {
          "x": [
           0,
           1
          ],
          "y": [
           0,
           1
          ]
         },
         "hovertemplate": "labels=%{label}<br>count=%{value}<br>parent=%{parent}<br>id=%{id}<extra></extra>",
         "ids": [
          "Baby Care/Baby & Kids Gifts/Decorations/Doraemon Gift Family Ceramic Coffee Mug Decorations/Doraemon Gift Family Ceramic Coffee Mug Multicol...",
          "Baby Care/Baby Bath & Skin/Baby Bath Towels/Eurospa Baby Bath Towels/Eurospa Cotton Terry Face Towel Set (20 PIECE FA...",
          "Baby Care/Baby Bath & Skin/Baby Bath Towels/Sathiyas Baby Bath Towels/Sathiyas Cotton Bath Towel (3 Bath Towel, Red, Y...",
          "Baby Care/Baby Bath & Skin/Baby Bath Towels/Tks Baby Bath Towels/Tks Cotton Hair Towel (1 Hair towel, Orange)",
          "Baby Care/Baby Bath & Skin/Baby Body Wash/L Oreal Baby Body Wash/L Oreal Eversleek Sulfate - Free Smoothing Syste...",
          "Baby Care/Baby Bath & Skin/Baby Body Wash/TRESemme Baby Body Wash/TRESemme Naturals Vibrantly Smooth Shampoo (591)",
          "Baby Care/Baby Bath & Skin/Baby Shower Caps/3kFactory Baby Shower Caps/3kFactory Baby Shower Cap- Purple",
          "Baby Care/Baby Bedding/Baby Bedsheets/Bela Home Baby Bedsheets/Bela Home Cotton Cartoon Single Bedsheet (1 Sing...",
          "Baby Care/Baby Bedding/Baby Bedsheets/Mahadev Handicrafts Baby Bedsheets/Mahadev Handicrafts Cotton Cartoon Double Bedshe...",
          "Baby Care/Baby Bedding/Baby Bedsheets/Sparklings Baby Bedsheets/Sparklings Cotton Checkered Double Bedsheet (dou...",
          "Baby Care/Baby Bedding/Baby Bedsheets/Sparklings Baby Bedsheets/Sparklings Cotton Geometric Double Bedsheet (dou...",
          "Baby Care/Baby Bedding/Baby Blankets/Relaxfeel Baby Blankets/Relaxfeel Floral Single Dohar White (AC Dohar)",
          "Baby Care/Baby Bedding/Baby Mattresses/CHHOTE JANAB Baby Mattresses/CHHOTE JANAB COZY MATTRESS PROTECTOR(SET OF 2) (...",
          "Baby Care/Baby Bedding/Baby Mosquito Nets/CHINMAY KIDS Baby Mosquito Nets/CHINMAY KIDS Printed Cotton Padded Mosquito Net ...",
          "Baby Care/Baby Bedding/Baby Sleeping Bags/Baby Bucket Baby Sleeping Bags/Baby Bucket SHERIN MULTI BEAR Sleeping Bag (Green)",
          "Baby Care/Baby Grooming/Cotton Buds/SJ Cotton Buds/SJ Tulip multi use cotton Balls (Pack of 100)",
          "Baby Care/Diapering & Potty Training/Changing Tables/BASRA Changing Tables/BASRA uepgrn Green Changing Table",
          "Baby Care/Diapering & Potty Training/Diaper Bags/Mee Mee Diaper Bags/Mee Mee Multifunctional Nursery Diaper Bag (Dark...",
          "Baby Care/Feeding & Nursing/Bibs & Hankies/Bibs/Cheeky Chompers Bibs",
          "Baby Care/Feeding & Nursing/Bibs & Hankies/Bibs/Piyo Piyo Bibs",
          "Baby Care/Feeding & Nursing/Bottles & Accessories/Bottle Covers/KOHL Bottle Covers",
          "Baby Care/Feeding & Nursing/Utensils/Baby Spoons & Forks/EZ Life Baby Spoons & Forks",
          "Baby Care/Feeding & Nursing/Utensils/Baby Spoons & Forks/Funcart Baby Spoons & Forks",
          "Baby Care/Feeding & Nursing/Utensils/Sippers & Cups/Blue Bell Sippers & Cups",
          "Baby Care/Feeding & Nursing/Utensils/Sippers & Cups/Munchkin Sippers & Cups",
          "Baby Care/Infant Wear/Baby Boys' Clothes/Accessories/Caps",
          "Baby Care/Infant Wear/Baby Boys' Clothes/Bodysuits & Sleepsuits/Bodysuits",
          "Baby Care/Infant Wear/Baby Boys' Clothes/Bodysuits & Sleepsuits/Sleepsuits",
          "Baby Care/Infant Wear/Baby Boys' Clothes/Combo Sets/HEAVENLY Combo Sets",
          "Baby Care/Infant Wear/Baby Boys' Clothes/Dungarees & Jumpsuits/Dungarees",
          "Baby Care/Infant Wear/Baby Boys' Clothes/Dungarees & Jumpsuits/Jumpsuits",
          "Baby Care/Infant Wear/Baby Boys' Clothes/Innerwear & Sleepwear/Bloomers & Drawers",
          "Baby Care/Infant Wear/Baby Boys' Clothes/Polos & T-Shirts/Dongli Polos & T-Shirts",
          "Baby Care/Infant Wear/Baby Boys' Clothes/Polos & T-Shirts/Fs Mini Klub Polos & T-Shirts",
          "Baby Care/Infant Wear/Baby Boys' Clothes/Polos & T-Shirts/Globe Polos & T-Shirts",
          "Baby Care/Infant Wear/Baby Boys' Clothes/Polos & T-Shirts/Rishan Polos & T-Shirts",
          "Baby Care/Infant Wear/Baby Boys' Clothes/Polos & T-Shirts/Toons Polos & T-Shirts",
          "Baby Care/Infant Wear/Baby Boys' Clothes/Polos & T-Shirts/YK Polos & T-Shirts",
          "Baby Care/Infant Wear/Baby Boys' Clothes/Polos & T-Shirts/dongli Polos & T-Shirts",
          "Baby Care/Infant Wear/Baby Boys' Clothes/Shirts/612 League Shirts",
          "Baby Care/Infant Wear/Baby Boys' Clothes/Shirts/Beebay Shirts",
          "Baby Care/Infant Wear/Baby Boys' Clothes/Shirts/CALCULUS Shirts",
          "Baby Care/Infant Wear/Baby Boys' Clothes/Shirts/Cotton On Kids Shirts",
          "Baby Care/Infant Wear/Baby Boys' Clothes/Shirts/FS Mini Klub Shirts",
          "Baby Care/Infant Wear/Baby Boys' Clothes/Shirts/Fs Mini Klub Shirts",
          "Baby Care/Infant Wear/Baby Boys' Clothes/Shirts/Jacadi paris Shirts",
          "Baby Care/Infant Wear/Baby Boys' Clothes/Shorts & Trousers/Shorts",
          "Baby Care/Infant Wear/Baby Boys' Clothes/Shorts & Trousers/Track Pants",
          "Baby Care/Infant Wear/Baby Boys' Clothes/Suits and Blazers/Blazers",
          "Baby Care/Infant Wear/Baby Boys' Clothes/Winter & Seasonal Wear/Jackets",
          "Baby Care/Infant Wear/Baby Girls' Clothes/Accessories/Caps",
          "Baby Care/Infant Wear/Baby Girls' Clothes/Accessories/Hats",
          "Baby Care/Infant Wear/Baby Girls' Clothes/Bodysuits & Sleepsuits/Bodysuits",
          "Baby Care/Infant Wear/Baby Girls' Clothes/Bodysuits & Sleepsuits/Sleepsuits",
          "Baby Care/Infant Wear/Baby Girls' Clothes/Combo Sets/kawal fashion Combo Sets",
          "Baby Care/Infant Wear/Baby Girls' Clothes/Dresses & Skirts/Dresses",
          "Baby Care/Infant Wear/Baby Girls' Clothes/Dungarees & Jumpsuits/Jumpsuits",
          "Baby Care/Infant Wear/Baby Girls' Clothes/Ethnic Wear/Ethnic Sets",
          "Baby Care/Infant Wear/Baby Girls' Clothes/Ethnic Wear/Salwar Kurta Dupattas",
          "Baby Care/Infant Wear/Baby Girls' Clothes/Innerwear & Sleepwear/Night Suits",
          "Baby Care/Infant Wear/Baby Girls' Clothes/Leggings & Jeggings/Babyoye Premium Leggings & Jeggings",
          "Baby Care/Infant Wear/Baby Girls' Clothes/Leggings & Jeggings/GREENWICH Leggings & Jeggings",
          "Baby Care/Infant Wear/Baby Girls' Clothes/Leggings & Jeggings/Zero Leggings & Jeggings",
          "Baby Care/Infant Wear/Baby Girls' Clothes/Shorts & Trousers/Shorts",
          "Baby Care/Infant Wear/Baby Girls' Clothes/Shorts & Trousers/Trousers",
          "Baby Care/Infant Wear/Baby Girls' Clothes/T-Shirts & Tops/Shrugs",
          "Baby Care/Strollers & Activity Gear/Strollers & Prams/Graco Strollers & Prams/Graco LiteRider Click Connect � Marco (Multicolor)",
          "Beauty and Personal Care/Bath and Spa/Bath and Spa Accessories/Loofahs/AntiqueShop Loofahs",
          "Beauty and Personal Care/Bath and Spa/Body and Essential Oils/Allin Exporters Body and Essential Oils/Allin Exporters Cumin Seed Oil (Co2 Extract) (25...",
          "Beauty and Personal Care/Bath and Spa/Body and Essential Oils/Allin Exporters Body and Essential Oils/Allin Exporters Fennel Oil (Co2 Extract) (30 ml)",
          "Beauty and Personal Care/Bath and Spa/Soaps/Aster Luxury Soaps/Aster Luxury Arabic Oudh Bathing Bar - Pack of 4...",
          "Beauty and Personal Care/Beauty Accessories/Makeup Accessories/Brushes and Applicators/LOTTIE LONDON Brushes and Applicators",
          "Beauty and Personal Care/Body and Skin Care/Face Care/Sunscreen/Aveeno Sunscreen",
          "Beauty and Personal Care/Body and Skin Care/Face Care/Sunscreen/Jovees Sunscreen",
          "Beauty and Personal Care/Body and Skin Care/Face Care/Sunscreen/Keya Seth Sunscreen",
          "Beauty and Personal Care/Body and Skin Care/Face Care/Sunscreen/La Roche-Posay Sunscreen",
          "Beauty and Personal Care/Body and Skin Care/Face Care/Sunscreen/Lotus Sunscreen",
          "Beauty and Personal Care/Body and Skin Care/Face Care/Sunscreen/Oriflame Sweden Sunscreen",
          "Beauty and Personal Care/Body and Skin Care/Face Care/Sunscreen/Oshea Herbals Sunscreen",
          "Beauty and Personal Care/Body and Skin Care/Face Care/Sunscreen/Richfeel Sunscreen",
          "Beauty and Personal Care/Body and Skin Care/Face Care/Sunscreen/VLCC Sunscreen",
          "Beauty and Personal Care/Body and Skin Care/Face Care/Sunscreen/Whiteherbs Sunscreen",
          "Beauty and Personal Care/Body and Skin Care/Hand Care/Manicure and Kits/Go Bonjour Manicure and Kits",
          "Beauty and Personal Care/Body and Skin Care/Hand Care/Manicure and Kits/Sally Hansen Manicure and Kits",
          "Beauty and Personal Care/Body and Skin Care/Hand Care/Manicure and Kits/Svayam Manicure and Kits",
          "Beauty and Personal Care/Body and Skin Care/Lip Care/Lip Balms/Good Way Lip Balms",
          "Beauty and Personal Care/Body and Skin Care/Lip Care/Lip Creams/NYX Lip Creams",
          "Beauty and Personal Care/Fragrances/Deodorants/Combos/Addiction Combos",
          "Beauty and Personal Care/Fragrances/Deodorants/Combos/Adidas Combos",
          "Beauty and Personal Care/Fragrances/Deodorants/Combos/Aero Care Combos",
          "Beauty and Personal Care/Fragrances/Deodorants/Combos/Ajmal Combos",
          "Beauty and Personal Care/Fragrances/Deodorants/Combos/Anna Andre Paris Combos",
          "Beauty and Personal Care/Fragrances/Deodorants/Combos/Arabian Nights Combos",
          "Beauty and Personal Care/Fragrances/Deodorants/Combos/Archies Combos",
          "Beauty and Personal Care/Fragrances/Deodorants/Combos/Beverly Hills Polo Club Combos",
          "Beauty and Personal Care/Fragrances/Deodorants/Combos/Cinthol Combos",
          "Beauty and Personal Care/Fragrances/Deodorants/Combos/Denim Combos",
          "Beauty and Personal Care/Fragrances/Deodorants/Combos/Denver Combos",
          "Beauty and Personal Care/Fragrances/Deodorants/Combos/ENVY 1000 Combos",
          "Beauty and Personal Care/Fragrances/Deodorants/Combos/Engage Combos",
          "Beauty and Personal Care/Fragrances/Deodorants/Combos/Envy-1000 Combos",
          "Beauty and Personal Care/Fragrances/Deodorants/Combos/Fogg Combos",
          "Beauty and Personal Care/Fragrances/Deodorants/Combos/French Factor Combos",
          "Beauty and Personal Care/Fragrances/Deodorants/Combos/KamaSutra Combos",
          "Beauty and Personal Care/Fragrances/Deodorants/Combos/Layer'r Combos",
          "Beauty and Personal Care/Fragrances/Deodorants/Combos/Nike Combos",
          "Beauty and Personal Care/Fragrances/Deodorants/Combos/Nivea Combos",
          "Beauty and Personal Care/Fragrances/Deodorants/Combos/Park Avenue Combos",
          "Beauty and Personal Care/Fragrances/Deodorants/Combos/Playboy Combos",
          "Beauty and Personal Care/Fragrances/Deodorants/Combos/Spinz Combos",
          "Beauty and Personal Care/Fragrances/Deodorants/Combos/Vincent Valentine Paris Combos",
          "Beauty and Personal Care/Fragrances/Deodorants/Combos/Wild Stone Combos",
          "Beauty and Personal Care/Fragrances/Deodorants/Combos/Yardley Combos",
          "Beauty and Personal Care/Fragrances/Deodorants/Sprays/LAWMAN PG3 Sprays",
          "Beauty and Personal Care/Hair Care/Conditioners/Burt s Bees Conditioners/Burt s Bees Hair Repair Shea And Grapefruit Deep...",
          "Beauty and Personal Care/Hair Care/Conditioners/OGX Conditioners/OGX Sunkissed Blonde Lemon Highlights Conditione...",
          "Beauty and Personal Care/Hair Care/Conditioners/Suave Conditioners/Suave Naturals Everlasting Sunshine Conditioner ...",
          "Beauty and Personal Care/Hair Care/Conditioners/TIGI BED HEAD Conditioners/TIGI BED HEAD COLOUR GODDESS OIL INFUSED CONDITI...",
          "Beauty and Personal Care/Hair Care/Hair Care Accessories/Hair Accessories/Majik Hair Accessories",
          "Beauty and Personal Care/Hair Care/Hair Care Accessories/Hair Accessories/Sarah Hair Accessories",
          "Beauty and Personal Care/Hair Care/Hair Colors/Garnier Hair Colors/Garnier Nutrisse Haircolor Hair Color (43 Dark G...",
          "Beauty and Personal Care/Hair Care/Hair Colors/Loreal Hair Colors/Loreal Diarichesse No- 5 Light Brown ( Pack of 3...",
          "Beauty and Personal Care/Hair Care/Shampoos/Kerastase Shampoos/Kerastase Nutritive Bain Satin 1 Complete Nutrit...",
          "Beauty and Personal Care/Health Care/Health Care Accessories/Health Care Accessories/KDS SURGICAL Health Care Accessories",
          "Beauty and Personal Care/Health Care/Health Care Devices/Body Fat Analyzers/Equinox Body Fat Analyzers",
          "Beauty and Personal Care/Health Care/Health Care Devices/Electrotherapy/SOS Electrotherapy",
          "Beauty and Personal Care/Health Care/Health Care Devices/HomeEdge Health Care Devices/HomeEdge Solid Wood King Bed (Finish Color -  Na...",
          "Beauty and Personal Care/Health Care/Health Care Devices/Pulse Oximeters/NAMS Pulse Oximeters",
          "Beauty and Personal Care/Health Care/Medical Equipment & Accessories/Surgical e Sstudio Medical Equipment & Accessories/Surgical e Sstudio S0004 Gown, Pant Hospital Scr...",
          "Beauty and Personal Care/Health Care/Medicines & Treatment/First Aid/Hot & Cold Packs",
          "Beauty and Personal Care/Makeup/Eyes/Eye Shadows/Milani Eye Shadows",
          "Beauty and Personal Care/Makeup/Eyes/Eye Shadows/e.l.f. Cosmetics Eye Shadows",
          "Beauty and Personal Care/Makeup/Lips/Lip Liners/Giorgio Armani Lip Liners",
          "Beauty and Personal Care/Makeup/Lips/Lipsticks/Elfani Lipsticks",
          "Beauty and Personal Care/Makeup/Lips/Lipsticks/Foolzy Lipsticks",
          "Beauty and Personal Care/Makeup/Lips/Lipsticks/Incolor Lipsticks",
          "Beauty and Personal Care/Makeup/Lips/Lipsticks/Organistick Lipsticks",
          "Beauty and Personal Care/Makeup/Nails/Nail Polishes/Aroma Care Nail Polishes",
          "Beauty and Personal Care/Makeup/Vanity Boxes/Aapno Rajasthan Vanity Boxes/Aapno Rajasthan Lovely Jewellery Vanity Jeweller...",
          "Beauty and Personal Care/Makeup/Vanity Boxes/KE Vanity Boxes/KE GIFT BOX STOR JEWELLARY Vanity Jewellery (BLUE)",
          "Beauty and Personal Care/Makeup/Vanity Boxes/MohanJodero Vanity Boxes/MohanJodero Jewellery Box Jewellery Vanity Jewel...",
          "Beauty and Personal Care/Makeup/Vanity Boxes/Soulful Threads Vanity Boxes/Soulful Threads Red Thread Aari Embroidered Blac...",
          "Beauty and Personal Care/Women's Hygiene/Combo & kits/Clear Face Combo & kits/Clear Face Kesar Chandan Multivitamin Nourishing...",
          "Computers/Computer Components/Processors/Intel Processors/Intel 3.2 GHz LGA 1150 3250 Processor (BLACK)",
          "Computers/Computer Components/RAMs/Transcend RAMs/Transcend Premium Memory DDR2 2 GB (1x2GB) PC SD...",
          "Computers/Computer Peripherals/CPU/I Ball CPU/I Ball IBCTDC 160/2gb/DDR2 with Dual Core 2 RAM ...",
          "Computers/Computer Peripherals/Portable Projectors/Zingalalaa Portable Projectors/Zingalalaa LP-50 50 lm LED Corded Portable Proje...",
          "Computers/Computer Peripherals/Printers & Inks/Toners/Canon Toners",
          "Computers/Computer Peripherals/Printers & Inks/Toners/Filink Toners",
          "Computers/Laptop Accessories/Adapters/Smartpro Adapters/Smartpro 19.5v,3.9a Replacement Charger for Vaio...",
          "Computers/Laptop Accessories/Cleaning Kits/Shopfloor.XYZ Cleaning Kits/Shopfloor.XYZ Vacuum Cleaner for Computers, Lapt...",
          "Computers/Laptop Accessories/Computer Accessories Combos/PRINT SHAPES Computer Accessories Combos/PRINT SHAPES Graphic Dancer Laptop Skin with Mou...",
          "Computers/Laptop Accessories/Computer Accessories Combos/PRINT SHAPES Computer Accessories Combos/PRINT SHAPES Peacock Feather Laptop Skin with Mo...",
          "Computers/Laptop Accessories/Computer Accessories Combos/PRINT SHAPES Computer Accessories Combos/PRINT SHAPES Power of roman reigns Laptop Skin w...",
          "Computers/Laptop Accessories/Computer Accessories Combos/PRINT SHAPES Computer Accessories Combos/PRINT SHAPES Red bull Laptop Skin with Mouse pad...",
          "Computers/Laptop Accessories/Computer Accessories Combos/PRINT SHAPES Computer Accessories Combos/PRINT SHAPES Sony headphone Laptop Skin with Mou...",
          "Computers/Laptop Accessories/Computer Accessories Combos/PRINT SHAPES Computer Accessories Combos/PRINT SHAPES despicable me 2 looking upwards Lap...",
          "Computers/Laptop Accessories/Computer Accessories Combos/PRINT SHAPES Computer Accessories Combos/PRINT SHAPES doraemon Laptop Skin with Mouse pad...",
          "Computers/Laptop Accessories/Computer Accessories Combos/PRINT SHAPES Computer Accessories Combos/PRINT SHAPES mary and max cartoon Laptop Skin wi...",
          "Computers/Laptop Accessories/Computer Accessories Combos/PRINT SHAPES Computer Accessories Combos/PRINT SHAPES monster university party Laptop Ski...",
          "Computers/Laptop Accessories/Computer Accessories Combos/PRINT SHAPES Computer Accessories Combos/PRINT SHAPES red Heart Laptop Skin with Mouse pa...",
          "Computers/Laptop Accessories/Computer Accessories Combos/PRINT SHAPES Computer Accessories Combos/PRINT SHAPES roronoa Zora Laptop Skin with Mouse...",
          "Computers/Laptop Accessories/Laptop Adapters/Hako Laptop Adapters/Hako 45W Magsafe Laptop Charger For APPLE MacBoo...",
          "Computers/Laptop Accessories/Laptop Adapters/Hako Laptop Adapters/Hako 60W Magsafe Laptop Charger For APPLE MacBoo...",
          "Computers/Laptop Accessories/Laptop Adapters/Hako Laptop Adapters/Hako 85W Magsafe Laptop Charger For APPLE MacBoo...",
          "Computers/Laptop Accessories/Laptop Bags/Sunlast Laptop Bags/Sunlast 16 inch Laptop Backpack (Yellow)",
          "Computers/Laptop Accessories/Mouse Pads/FRENEMY Mouse Pads/FRENEMY MPAD271 Mousepad (Multicolor)",
          "Computers/Laptop Accessories/USB Gadgets/APOLLO+ USB Gadgets/APOLLO+ Pack Of 3 Flexible Led Light (Multicolour)",
          "Computers/Laptop Accessories/USB Gadgets/JRB USB Gadgets/JRB 1033 Smallest Mobile Powered By OTG Enabled ...",
          "Computers/Laptop Accessories/USB Gadgets/JRB USB Gadgets/JRB 1038 Smallest Mobile Powered By OTG Enabled ...",
          "Computers/Laptop Accessories/USB Gadgets/JRB USB Gadgets/JRB 1042 Smallest Mobile Powered By OTG Enabled ...",
          "Computers/Network Components/Routers/D-Link Routers/D-Link DAP1320 (White)",
          "Computers/Software/Language Learning/Physical/Eureka.in Physical",
          "Computers/Storage/Pen Drives/HP Pen Drives/HP v220w 16 GB  Pen Drive (Silver, Black)",
          "Computers/Storage/Pen Drives/Shopizone Pen Drives/Shopizone BMW Wheel 32 GB  Pen Drive (Black)",
          "Computers/Tablet Accessories/Cases & Covers/YGS Cases & Covers/YGS Keyboard Case for Asus Memo Pad 7in Tab (Pink)",
          "Computers/Tablet Accessories/Keyboards/RoQ Keyboards/RoQ Slim Multimedia 105key Flexible Wired USB Fl...",
          "Home Decor & Festive Needs/Candles & Fragrances/Home Fragrances/Aroma Oils/Myesquire Aroma Oils",
          "Home Decor & Festive Needs/Decorative Lighting & Lamps/Floor Lamp/Nutcase Floor Lamp/Nutcase Multicolor Column Floor Lamp (31 cm)",
          "Home Decor & Festive Needs/Decorative Lighting & Lamps/Lanterns/SHOPOJ Lanterns/SHOPOJ Blue Paper Sky Lantern (80 cm X 34 cm, Pa...",
          "Home Decor & Festive Needs/Decorative Lighting & Lamps/Series Lights/VRCT Series Lights/VRCT 196 inch Green Rice Lights (Pack of 1)",
          "Home Decor & Festive Needs/Decorative Lighting & Lamps/Table Lamps/Brahmz Table Lamps/Brahmz Glass Mossiac Table Lamp (18 cm, Multi Co...",
          "Home Decor & Festive Needs/Decorative Lighting & Lamps/Table Lamps/Eternity Table Lamps/Eternity Handcrafted unique Mosaic Glass Table L...",
          "Home Decor & Festive Needs/Flowers, Plants & Vases/Artificial Plants/Mayursflora Artificial Plants/Mayursflora Bonsai Aloe, Maple, Arecaceae, Palm,...",
          "Home Decor & Festive Needs/Flowers, Plants & Vases/Artificial Plants/Miracle Retail Artificial Plants/Miracle Retail Bonsai Wild Plant Artificial Plan...",
          "Home Decor & Festive Needs/Flowers, Plants & Vases/Artificial Plants/V Creations Artificial Plants/V Creations Bonsai Cactus Artificial Plant  with...",
          "Home Decor & Festive Needs/Flowers, Plants & Vases/Flower Vase/@home Flower Vase/@home Earthy Wine Net Ceramic Vase (9.8250000000...",
          "Home Decor & Festive Needs/Flowers, Plants & Vases/Flower Vase/@home Flower Vase/@home Glass Vase (18 inch, Grey)",
          "Home Decor & Festive Needs/Garden & Leisure/Hammocks & Swings/Hammocks/Rrsskids Hammocks",
          "Home Decor & Festive Needs/Showpiece/Contemporary/Bharatcraft Contemporary/Bharatcraft Showpiece  -  5 cm (Polyresin, Brown)",
          "Home Decor & Festive Needs/Showpiece/Contemporary/Services Junction Contemporary/Services Junction Beautiful Black and Golden col...",
          "Home Decor & Festive Needs/Showpiece/Contemporary/Services Junction Contemporary/Services Junction Gold Plated Ganesh Idol Showpi...",
          "Home Decor & Festive Needs/Showpiece/Gramophones/ROYLE KATOCH Gramophones/ROYLE KATOCH Showpiece  -  24 cm (Crystal, Woode...",
          "Home Decor & Festive Needs/Showpieces/Fengshui/Reiki Crystal Products Fengshui/Reiki Crystal Products Showpiece  -  6 cm (Brass...",
          "Home Decor & Festive Needs/Showpieces/Fengshui/Reiki Crystal Products Fengshui/Reiki Crystal Products Showpiece  -  8 cm (Cryst...",
          "Home Decor & Festive Needs/Table Decor & Handicrafts/Showpieces/Fengshui/Treasure Fengshui",
          "Home Decor & Festive Needs/Table Decor & Handicrafts/Showpieces/Human Figurines/Art Godaam Human Figurines",
          "Home Decor & Festive Needs/Table Decor & Handicrafts/Showpieces/Human Figurines/Hand Art Human Figurines",
          "Home Decor & Festive Needs/Table Decor & Handicrafts/Showpieces/Human Figurines/Kaatru Human Figurines",
          "Home Decor & Festive Needs/Table Decor & Handicrafts/Showpieces/Human Figurines/My Angel Human Figurines",
          "Home Decor & Festive Needs/Table Decor & Handicrafts/Showpieces/Religious Idols/Agrasen International Religious Idols",
          "Home Decor & Festive Needs/Table Decor & Handicrafts/Showpieces/Religious Idols/Anjalika Religious Idols",
          "Home Decor & Festive Needs/Table Decor & Handicrafts/Showpieces/Religious Idols/AsiaCraft Religious Idols",
          "Home Decor & Festive Needs/Table Decor & Handicrafts/Showpieces/Religious Idols/CTW Religious Idols",
          "Home Decor & Festive Needs/Table Decor & Handicrafts/Showpieces/Religious Idols/Craftartz Religious Idols",
          "Home Decor & Festive Needs/Table Decor & Handicrafts/Showpieces/Religious Idols/Divine Gifts & Artificial Jewellery Religious Idols",
          "Home Decor & Festive Needs/Table Decor & Handicrafts/Showpieces/Religious Idols/Diviniti Religious Idols",
          "Home Decor & Festive Needs/Table Decor & Handicrafts/Showpieces/Religious Idols/Eshoppee Religious Idols",
          "Home Decor & Festive Needs/Table Decor & Handicrafts/Showpieces/Religious Idols/Exotic India Religious Idols",
          "Home Decor & Festive Needs/Table Decor & Handicrafts/Showpieces/Religious Idols/Gift Studios Religious Idols",
          "Home Decor & Festive Needs/Table Decor & Handicrafts/Showpieces/Religious Idols/Golmaalshop Religious Idols",
          "Home Decor & Festive Needs/Table Decor & Handicrafts/Showpieces/Religious Idols/K&P Religious Idols",
          "Home Decor & Festive Needs/Table Decor & Handicrafts/Showpieces/Religious Idols/Radhika's World of Crafts Religious Idols",
          "Home Decor & Festive Needs/Table Decor & Handicrafts/Showpieces/Religious Idols/Recrafto Religious Idols",
          "Home Decor & Festive Needs/Table Decor & Handicrafts/Showpieces/Religious Idols/Utsav Handicraft Religious Idols",
          "Home Decor & Festive Needs/Table Decor & Handicrafts/Table Decor/Hookah & Hookah Flavours/Hookah",
          "Home Decor & Festive Needs/Table Decor & Handicrafts/Table Decor/Hookah & Hookah Flavours/Hookah Flavors",
          "Home Decor & Festive Needs/Table Decor & Handicrafts/Table Decor/Hookah Mouth Tips/Ech oly Hookah Mouth Tips",
          "Home Decor & Festive Needs/Wall Decor & Clocks/Clocks/Wall Clocks/KLOCX Wall Clocks",
          "Home Decor & Festive Needs/Wall Decor & Clocks/Clocks/Wall Clocks/Regent Wall Clocks",
          "Home Decor & Festive Needs/Wall Decor & Clocks/Clocks/Wall Clocks/eCraftIndia Wall Clocks",
          "Home Decor & Festive Needs/Wall Decor & Clocks/Key Holders/Craftcart Key Holders/Craftcart Parrot Antique Brass Key Holder (5 Hoo...",
          "Home Decor & Festive Needs/Wall Decor & Clocks/Key Holders/VarEesha Key Holders/VarEesha Wooden Key Holder (8 Hooks, Multicolor)",
          "Home Decor & Festive Needs/Wall Decor & Clocks/Paintings/BRANDWAGON Paintings/BRANDWAGON DIGIPRINT Digital Reprint Painting (1...",
          "Home Decor & Festive Needs/Wall Decor & Clocks/Posters/Mega product Posters/good-night-angel-sleep-well-pics Paper Print (18...",
          "Home Decor & Festive Needs/Wall Decor & Clocks/Posters/STYLE CLUES FASHION Posters/scarlet tanager bird normal POSTER Paper Print (...",
          "Home Decor & Festive Needs/Wall Decor & Clocks/Posters/Shoperite Posters/painting_art_couple_love__Dance Paper Print (12 ...",
          "Home Decor & Festive Needs/Wall Decor & Clocks/Posters/Urban Monk Posters/Bourne Supermacy Canvas Art (18 inch X 12 inch, ...",
          "Home Decor & Festive Needs/Wall Decor & Clocks/Wall Decals & Stickers/Smart Wall Guru Wall Decals & Stickers/Smart Wall Guru Large Adhesive Sticker Sticker (...",
          "Home Decor & Festive Needs/Wall Decor & Clocks/Wall Decals & Stickers/Smart Wall Guru Wall Decals & Stickers/Smart Wall Guru Medium Adhesive Sticker (Pack of 1)",
          "Home Decor & Festive Needs/Wall Decor & Clocks/Wall Decals & Stickers/Wall Decal Wall Decals & Stickers/Wall Decal Small Self Adhesive Sticker (Pack of 1)",
          "Home Decor & Festive Needs/Wall Decor & Clocks/Wall Shelves/Innovative Wall Shelves/Innovative Single Corner Stainless Steel Wall Sh...",
          "Home Decor & Festive Needs/Wall Decor & Clocks/Wall Shelves/R&Mshoppee Wall Shelves/R&Mshoppee MDF Wall Shelf (Number of Shelves - 1...",
          "Home Decor & Festive Needs/Wall Decor & Clocks/Wallpapers/wallskart Wallpapers/wallskart Floral & Botanical Wallpaper (35.56 cm...",
          "Home Furnishing/Bed Linen/Bedsheets/JBC Collection Bedsheets/JBC Collection Cotton Printed Single Bedsheet (1...",
          "Home Furnishing/Bed Linen/Bedsheets/Jaipur Print Bedsheets/Jaipur Print Cotton Floral King sized Double Bed...",
          "Home Furnishing/Bed Linen/Bedsheets/SANTOSH ROYAL FASHION Bedsheets/SANTOSH ROYAL FASHION Cotton Printed King sized ...",
          "Home Furnishing/Bed Linen/Duvet Covers/House This Duvet Covers/House This Queen Cotton Duvet Cover (Grey)",
          "Home Furnishing/Cushions, Pillows & Covers/Cushions/Furnishing Zone Cushions/Furnishing Zone Printed Back Cushion (Pack of2, ...",
          "Home Furnishing/Kitchen & Dining Linen/Coasters/Craft Trade Coasters/Craft Trade Oval Wood Coaster Set (Brown, Pack o...",
          "Home Furnishing/Kitchen & Dining Linen/Kitchen Linen Sets/Tidy Kitchen Linen Sets/Tidy Green Cotton Kitchen Linen Set (Pack of 3)",
          "Home Furnishing/Living/Sofa Covers/Swastik Sofa Covers/Swastik Velvet Sofa Cover (Multicolor Pack of 10)",
          "Home Furnishing/Living Room Furnishing/Diwan Sets/Jaipur Print Diwan Sets/Jaipur Print Cotton Floral Diwan Set",
          "Home Furnishing/Living Room Furnishing/Diwan Sets/SANTOSH ROYAL FASHION Diwan Sets/SANTOSH ROYAL FASHION Cotton Embroidered Diwan Set",
          "Kitchen & Dining/Bar & Glassware/Bar Accessories/Bottle Openers/arnavs Bottle Openers",
          "Kitchen & Dining/Bar & Glassware/Bar Accessories/Cork Screws/Pedrini Cork Screws",
          "Kitchen & Dining/Bar & Glassware/Bar Accessories/Cork Screws/Seven Seas Cork Screws",
          "Kitchen & Dining/Bar & Glassware/Bar Glasses/Art n Beyond Bar Glasses/Art n Beyond 150013 (300 ml, Clear, Pack of 6)",
          "Kitchen & Dining/Bar & Glassware/Bar Glasses/Ocean Bar Glasses/Ocean CPGW087 (280 ml, Clear, Pack of 6)",
          "Kitchen & Dining/Bar & Glassware/Bar Glasses/giftsthatwow Bar Glasses/giftsthatwow GTW-G-04 (300 ml, White, Pack of 1)",
          "Kitchen & Dining/Bar & Glassware/Bar Glasses/giftsthatwow Bar Glasses/giftsthatwow GTW-G-06 (600 ml, White, Pack of 1)",
          "Kitchen & Dining/Bar & Glassware/Bar Glasses/ocean Bar Glasses/ocean VGLASS0051 (325 ml, Clear, Pack of 6)",
          "Kitchen & Dining/Consumables & Disposables/Bowls/Caffeine Bowls/Caffeine Handmade Tribal Print Influenced Katori...",
          "Kitchen & Dining/Containers & Bottles/Bottles & Sippers/Sippers/Omic Sippers",
          "Kitchen & Dining/Containers & Bottles/Bottles & Sippers/Water bottle/Garnet Water bottle",
          "Kitchen & Dining/Containers & Bottles/Bottles & Sippers/Water bottle/Nutcase Water bottle",
          "Kitchen & Dining/Containers & Bottles/Containers & Jars/Kitchen Containers/Lock&Lock Kitchen Containers",
          "Kitchen & Dining/Containers & Bottles/Lunch Boxes/GAYATRI CREATIONS Lunch Boxes/GAYATRI CREATIONS ORANGE KIDS SET 2 Containers L...",
          "Kitchen & Dining/Containers & Bottles/Lunch Boxes/SKI Lunch Boxes/SKI WINNER GIFT SET SKYBLUE02 2 Containers Lunch...",
          "Kitchen & Dining/Cookware/Casserole & Sets/Cookart Casserole & Sets/Cookart Elegant S.S. Handi With Hot Pot Pack of ...",
          "Kitchen & Dining/Cookware/Pots & Pans/Cookware Pots/Wonderchef Cookware Pots",
          "Kitchen & Dining/Cookware/Pots & Pans/Pans & Tawas/oxford Pans & Tawas",
          "Kitchen & Dining/Cookware/Pots & Pans/Woks & Kadhais/Bergner Woks & Kadhais",
          "Kitchen & Dining/Cookware/Pots & Pans/Woks & Kadhais/Indian Art Villa Woks & Kadhais",
          "Kitchen & Dining/Cookware/Pots & Pans/Woks & Kadhais/JSM Woks & Kadhais",
          "Kitchen & Dining/Cookware/Pots & Pans/Woks & Kadhais/Jaipan Woks & Kadhais",
          "Kitchen & Dining/Cookware/Pots & Pans/Woks & Kadhais/Kalash Woks & Kadhais",
          "Kitchen & Dining/Cookware/Pots & Pans/Woks & Kadhais/Kosher Woks & Kadhais",
          "Kitchen & Dining/Cookware/Pots & Pans/Woks & Kadhais/Leo Natura Woks & Kadhais",
          "Kitchen & Dining/Cookware/Pots & Pans/Woks & Kadhais/Metallino Woks & Kadhais",
          "Kitchen & Dining/Cookware/Pots & Pans/Woks & Kadhais/Ndura Woks & Kadhais",
          "Kitchen & Dining/Cookware/Pots & Pans/Woks & Kadhais/Nirlon Woks & Kadhais",
          "Kitchen & Dining/Cookware/Pots & Pans/Woks & Kadhais/Peacock Woks & Kadhais",
          "Kitchen & Dining/Cookware/Pots & Pans/Woks & Kadhais/Pigeon Woks & Kadhais",
          "Kitchen & Dining/Cookware/Pots & Pans/Woks & Kadhais/Pristine Woks & Kadhais",
          "Kitchen & Dining/Cookware/Pots & Pans/Woks & Kadhais/Recon Woks & Kadhais",
          "Kitchen & Dining/Cookware/Pots & Pans/Woks & Kadhais/Sahara Q Shop Woks & Kadhais",
          "Kitchen & Dining/Cookware/Pots & Pans/Woks & Kadhais/Sumeet Woks & Kadhais",
          "Kitchen & Dining/Cookware/Pots & Pans/Woks & Kadhais/Supreme Cookwares Woks & Kadhais",
          "Kitchen & Dining/Cookware/Pots & Pans/Woks & Kadhais/Suruchi Woks & Kadhais",
          "Kitchen & Dining/Cookware/Steamers & Idli Makers/Idli Makers/vatika Idli Makers",
          "Kitchen & Dining/Dinnerware & Crockery/Cups & Saucers/Buyer's Beach Cups & Saucers/Buyer's Beach BB349 (Brown)",
          "Kitchen & Dining/Housekeeping & Laundry/Home Cleaning/Brooms & Brushes/Geol Brooms & Brushes",
          "Kitchen & Dining/Kitchen Tools/Choppers & Peelers/Graters & Slicers/Deep Graters & Slicers",
          "Kitchen & Dining/Kitchen Tools/Kitchen Implements/Hand Juicers/JayEnterprise Hand Juicers",
          "Kitchen & Dining/Kitchen Tools/Kitchen Implements/Kitchen Scissors/Checkered Chef Kitchen Scissors",
          "Kitchen & Dining/Kitchen Tools/Kitchen Implements/Pizza Cutters/Agromech Pizza Cutters",
          "Kitchen & Dining/Kitchen Tools/Kitchen Implements/Pizza Cutters/Apex Pizza Cutters",
          "Kitchen & Dining/Kitchen Tools/Kitchen Implements/Pizza Cutters/Celebrity Pizza Cutters",
          "Kitchen & Dining/Kitchen Tools/Kitchen Implements/Pizza Cutters/Famous Pizza Cutters",
          "Kitchen & Dining/Kitchen Tools/Kitchen Implements/Pizza Cutters/Go Hooked Pizza Cutters",
          "Kitchen & Dining/Kitchen Tools/Kitchen Implements/Pizza Cutters/King International Pizza Cutters",
          "Kitchen & Dining/Kitchen Tools/Kitchen Implements/Pizza Cutters/Mom Italy Pizza Cutters",
          "Kitchen & Dining/Kitchen Tools/Kitchen Implements/Pizza Cutters/Sam Pizza Cutters",
          "Kitchen & Dining/Kitchen Tools/Kitchen Implements/Pizza Cutters/Step4deal Pizza Cutters",
          "Kitchen & Dining/Kitchen Tools/Kitchen Implements/Pizza Cutters/Tirupati Pizza Cutters",
          "Kitchen & Dining/Kitchen Tools/Kitchen Tool Sets/King Traders Kitchen Tool Sets/King Traders KI-BD-01 1 Kitchen Tool Set",
          "Kitchen & Dining/Lighting/Bulbs/BFT Bulbs/BFT 6 W LED Bulb (White)",
          "Kitchen & Dining/Tableware & Cutlery/Cutlery/Forks/Bhalaria Forks",
          "Kitchen & Dining/Tableware & Cutlery/Jug, Glass & Tray Sets/Dungri India Craft Jug, Glass & Tray Sets/Dungri India Craft Ducjug010-ducgl012-2 Jug Glas...",
          "Kitchen & Dining/Tableware & Cutlery/Jugs & Pitchers/Jugs/Prisha India Craft Jugs",
          "Watches/Clocks/Table Clocks/Like Table Clocks/Like Analog Purple Clock",
          "Baby Care/Baby & Kids Gifts/Decorations/Doraemon Gift Family Ceramic Coffee Mug Decorations",
          "Baby Care/Baby Bath & Skin/Baby Bath Towels/Eurospa Baby Bath Towels",
          "Baby Care/Baby Bath & Skin/Baby Bath Towels/Sathiyas Baby Bath Towels",
          "Baby Care/Baby Bath & Skin/Baby Bath Towels/Tks Baby Bath Towels",
          "Baby Care/Baby Bath & Skin/Baby Body Wash/L Oreal Baby Body Wash",
          "Baby Care/Baby Bath & Skin/Baby Body Wash/TRESemme Baby Body Wash",
          "Baby Care/Baby Bath & Skin/Baby Shower Caps/3kFactory Baby Shower Caps",
          "Baby Care/Baby Bedding/Baby Bedsheets/Bela Home Baby Bedsheets",
          "Baby Care/Baby Bedding/Baby Bedsheets/Mahadev Handicrafts Baby Bedsheets",
          "Baby Care/Baby Bedding/Baby Bedsheets/Sparklings Baby Bedsheets",
          "Baby Care/Baby Bedding/Baby Blankets/Relaxfeel Baby Blankets",
          "Baby Care/Baby Bedding/Baby Mattresses/CHHOTE JANAB Baby Mattresses",
          "Baby Care/Baby Bedding/Baby Mosquito Nets/CHINMAY KIDS Baby Mosquito Nets",
          "Baby Care/Baby Bedding/Baby Sleeping Bags/Baby Bucket Baby Sleeping Bags",
          "Baby Care/Baby Grooming/Cotton Buds/SJ Cotton Buds",
          "Baby Care/Diapering & Potty Training/Changing Tables/BASRA Changing Tables",
          "Baby Care/Diapering & Potty Training/Diaper Bags/Mee Mee Diaper Bags",
          "Baby Care/Feeding & Nursing/Bibs & Hankies/Bibs",
          "Baby Care/Feeding & Nursing/Bottles & Accessories/Bottle Covers",
          "Baby Care/Feeding & Nursing/Utensils/Baby Spoons & Forks",
          "Baby Care/Feeding & Nursing/Utensils/Sippers & Cups",
          "Baby Care/Infant Wear/Baby Boys' Clothes/Accessories",
          "Baby Care/Infant Wear/Baby Boys' Clothes/Bodysuits & Sleepsuits",
          "Baby Care/Infant Wear/Baby Boys' Clothes/Combo Sets",
          "Baby Care/Infant Wear/Baby Boys' Clothes/Dungarees & Jumpsuits",
          "Baby Care/Infant Wear/Baby Boys' Clothes/Innerwear & Sleepwear",
          "Baby Care/Infant Wear/Baby Boys' Clothes/Polos & T-Shirts",
          "Baby Care/Infant Wear/Baby Boys' Clothes/Shirts",
          "Baby Care/Infant Wear/Baby Boys' Clothes/Shorts & Trousers",
          "Baby Care/Infant Wear/Baby Boys' Clothes/Suits and Blazers",
          "Baby Care/Infant Wear/Baby Boys' Clothes/Winter & Seasonal Wear",
          "Baby Care/Infant Wear/Baby Girls' Clothes/Accessories",
          "Baby Care/Infant Wear/Baby Girls' Clothes/Bodysuits & Sleepsuits",
          "Baby Care/Infant Wear/Baby Girls' Clothes/Combo Sets",
          "Baby Care/Infant Wear/Baby Girls' Clothes/Dresses & Skirts",
          "Baby Care/Infant Wear/Baby Girls' Clothes/Dungarees & Jumpsuits",
          "Baby Care/Infant Wear/Baby Girls' Clothes/Ethnic Wear",
          "Baby Care/Infant Wear/Baby Girls' Clothes/Innerwear & Sleepwear",
          "Baby Care/Infant Wear/Baby Girls' Clothes/Leggings & Jeggings",
          "Baby Care/Infant Wear/Baby Girls' Clothes/Shorts & Trousers",
          "Baby Care/Infant Wear/Baby Girls' Clothes/T-Shirts & Tops",
          "Baby Care/Strollers & Activity Gear/Strollers & Prams/Graco Strollers & Prams",
          "Beauty and Personal Care/Bath and Spa/Bath and Spa Accessories/Loofahs",
          "Beauty and Personal Care/Bath and Spa/Body and Essential Oils/Allin Exporters Body and Essential Oils",
          "Beauty and Personal Care/Bath and Spa/Soaps/Aster Luxury Soaps",
          "Beauty and Personal Care/Beauty Accessories/Makeup Accessories/Brushes and Applicators",
          "Beauty and Personal Care/Body and Skin Care/Face Care/Sunscreen",
          "Beauty and Personal Care/Body and Skin Care/Hand Care/Manicure and Kits",
          "Beauty and Personal Care/Body and Skin Care/Lip Care/Lip Balms",
          "Beauty and Personal Care/Body and Skin Care/Lip Care/Lip Creams",
          "Beauty and Personal Care/Fragrances/Deodorants/Combos",
          "Beauty and Personal Care/Fragrances/Deodorants/Sprays",
          "Beauty and Personal Care/Hair Care/Conditioners/Burt s Bees Conditioners",
          "Beauty and Personal Care/Hair Care/Conditioners/OGX Conditioners",
          "Beauty and Personal Care/Hair Care/Conditioners/Suave Conditioners",
          "Beauty and Personal Care/Hair Care/Conditioners/TIGI BED HEAD Conditioners",
          "Beauty and Personal Care/Hair Care/Hair Care Accessories/Hair Accessories",
          "Beauty and Personal Care/Hair Care/Hair Colors/Garnier Hair Colors",
          "Beauty and Personal Care/Hair Care/Hair Colors/Loreal Hair Colors",
          "Beauty and Personal Care/Hair Care/Shampoos/Kerastase Shampoos",
          "Beauty and Personal Care/Health Care/Health Care Accessories/Health Care Accessories",
          "Beauty and Personal Care/Health Care/Health Care Devices/Body Fat Analyzers",
          "Beauty and Personal Care/Health Care/Health Care Devices/Electrotherapy",
          "Beauty and Personal Care/Health Care/Health Care Devices/HomeEdge Health Care Devices",
          "Beauty and Personal Care/Health Care/Health Care Devices/Pulse Oximeters",
          "Beauty and Personal Care/Health Care/Medical Equipment & Accessories/Surgical e Sstudio Medical Equipment & Accessories",
          "Beauty and Personal Care/Health Care/Medicines & Treatment/First Aid",
          "Beauty and Personal Care/Makeup/Eyes/Eye Shadows",
          "Beauty and Personal Care/Makeup/Lips/Lip Liners",
          "Beauty and Personal Care/Makeup/Lips/Lipsticks",
          "Beauty and Personal Care/Makeup/Nails/Nail Polishes",
          "Beauty and Personal Care/Makeup/Vanity Boxes/Aapno Rajasthan Vanity Boxes",
          "Beauty and Personal Care/Makeup/Vanity Boxes/KE Vanity Boxes",
          "Beauty and Personal Care/Makeup/Vanity Boxes/MohanJodero Vanity Boxes",
          "Beauty and Personal Care/Makeup/Vanity Boxes/Soulful Threads Vanity Boxes",
          "Beauty and Personal Care/Women's Hygiene/Combo & kits/Clear Face Combo & kits",
          "Computers/Computer Components/Processors/Intel Processors",
          "Computers/Computer Components/RAMs/Transcend RAMs",
          "Computers/Computer Peripherals/CPU/I Ball CPU",
          "Computers/Computer Peripherals/Portable Projectors/Zingalalaa Portable Projectors",
          "Computers/Computer Peripherals/Printers & Inks/Toners",
          "Computers/Laptop Accessories/Adapters/Smartpro Adapters",
          "Computers/Laptop Accessories/Cleaning Kits/Shopfloor.XYZ Cleaning Kits",
          "Computers/Laptop Accessories/Computer Accessories Combos/PRINT SHAPES Computer Accessories Combos",
          "Computers/Laptop Accessories/Laptop Adapters/Hako Laptop Adapters",
          "Computers/Laptop Accessories/Laptop Bags/Sunlast Laptop Bags",
          "Computers/Laptop Accessories/Mouse Pads/FRENEMY Mouse Pads",
          "Computers/Laptop Accessories/USB Gadgets/APOLLO+ USB Gadgets",
          "Computers/Laptop Accessories/USB Gadgets/JRB USB Gadgets",
          "Computers/Network Components/Routers/D-Link Routers",
          "Computers/Software/Language Learning/Physical",
          "Computers/Storage/Pen Drives/HP Pen Drives",
          "Computers/Storage/Pen Drives/Shopizone Pen Drives",
          "Computers/Tablet Accessories/Cases & Covers/YGS Cases & Covers",
          "Computers/Tablet Accessories/Keyboards/RoQ Keyboards",
          "Home Decor & Festive Needs/Candles & Fragrances/Home Fragrances/Aroma Oils",
          "Home Decor & Festive Needs/Decorative Lighting & Lamps/Floor Lamp/Nutcase Floor Lamp",
          "Home Decor & Festive Needs/Decorative Lighting & Lamps/Lanterns/SHOPOJ Lanterns",
          "Home Decor & Festive Needs/Decorative Lighting & Lamps/Series Lights/VRCT Series Lights",
          "Home Decor & Festive Needs/Decorative Lighting & Lamps/Table Lamps/Brahmz Table Lamps",
          "Home Decor & Festive Needs/Decorative Lighting & Lamps/Table Lamps/Eternity Table Lamps",
          "Home Decor & Festive Needs/Flowers, Plants & Vases/Artificial Plants/Mayursflora Artificial Plants",
          "Home Decor & Festive Needs/Flowers, Plants & Vases/Artificial Plants/Miracle Retail Artificial Plants",
          "Home Decor & Festive Needs/Flowers, Plants & Vases/Artificial Plants/V Creations Artificial Plants",
          "Home Decor & Festive Needs/Flowers, Plants & Vases/Flower Vase/@home Flower Vase",
          "Home Decor & Festive Needs/Garden & Leisure/Hammocks & Swings/Hammocks",
          "Home Decor & Festive Needs/Showpiece/Contemporary/Bharatcraft Contemporary",
          "Home Decor & Festive Needs/Showpiece/Contemporary/Services Junction Contemporary",
          "Home Decor & Festive Needs/Showpiece/Gramophones/ROYLE KATOCH Gramophones",
          "Home Decor & Festive Needs/Showpieces/Fengshui/Reiki Crystal Products Fengshui",
          "Home Decor & Festive Needs/Table Decor & Handicrafts/Showpieces/Fengshui",
          "Home Decor & Festive Needs/Table Decor & Handicrafts/Showpieces/Human Figurines",
          "Home Decor & Festive Needs/Table Decor & Handicrafts/Showpieces/Religious Idols",
          "Home Decor & Festive Needs/Table Decor & Handicrafts/Table Decor/Hookah & Hookah Flavours",
          "Home Decor & Festive Needs/Table Decor & Handicrafts/Table Decor/Hookah Mouth Tips",
          "Home Decor & Festive Needs/Wall Decor & Clocks/Clocks/Wall Clocks",
          "Home Decor & Festive Needs/Wall Decor & Clocks/Key Holders/Craftcart Key Holders",
          "Home Decor & Festive Needs/Wall Decor & Clocks/Key Holders/VarEesha Key Holders",
          "Home Decor & Festive Needs/Wall Decor & Clocks/Paintings/BRANDWAGON Paintings",
          "Home Decor & Festive Needs/Wall Decor & Clocks/Posters/Mega product Posters",
          "Home Decor & Festive Needs/Wall Decor & Clocks/Posters/STYLE CLUES FASHION Posters",
          "Home Decor & Festive Needs/Wall Decor & Clocks/Posters/Shoperite Posters",
          "Home Decor & Festive Needs/Wall Decor & Clocks/Posters/Urban Monk Posters",
          "Home Decor & Festive Needs/Wall Decor & Clocks/Wall Decals & Stickers/Smart Wall Guru Wall Decals & Stickers",
          "Home Decor & Festive Needs/Wall Decor & Clocks/Wall Decals & Stickers/Wall Decal Wall Decals & Stickers",
          "Home Decor & Festive Needs/Wall Decor & Clocks/Wall Shelves/Innovative Wall Shelves",
          "Home Decor & Festive Needs/Wall Decor & Clocks/Wall Shelves/R&Mshoppee Wall Shelves",
          "Home Decor & Festive Needs/Wall Decor & Clocks/Wallpapers/wallskart Wallpapers",
          "Home Furnishing/Bed Linen/Bedsheets/JBC Collection Bedsheets",
          "Home Furnishing/Bed Linen/Bedsheets/Jaipur Print Bedsheets",
          "Home Furnishing/Bed Linen/Bedsheets/SANTOSH ROYAL FASHION Bedsheets",
          "Home Furnishing/Bed Linen/Duvet Covers/House This Duvet Covers",
          "Home Furnishing/Cushions, Pillows & Covers/Cushions/Furnishing Zone Cushions",
          "Home Furnishing/Kitchen & Dining Linen/Coasters/Craft Trade Coasters",
          "Home Furnishing/Kitchen & Dining Linen/Kitchen Linen Sets/Tidy Kitchen Linen Sets",
          "Home Furnishing/Living/Sofa Covers/Swastik Sofa Covers",
          "Home Furnishing/Living Room Furnishing/Diwan Sets/Jaipur Print Diwan Sets",
          "Home Furnishing/Living Room Furnishing/Diwan Sets/SANTOSH ROYAL FASHION Diwan Sets",
          "Kitchen & Dining/Bar & Glassware/Bar Accessories/Bottle Openers",
          "Kitchen & Dining/Bar & Glassware/Bar Accessories/Cork Screws",
          "Kitchen & Dining/Bar & Glassware/Bar Glasses/Art n Beyond Bar Glasses",
          "Kitchen & Dining/Bar & Glassware/Bar Glasses/Ocean Bar Glasses",
          "Kitchen & Dining/Bar & Glassware/Bar Glasses/giftsthatwow Bar Glasses",
          "Kitchen & Dining/Bar & Glassware/Bar Glasses/ocean Bar Glasses",
          "Kitchen & Dining/Consumables & Disposables/Bowls/Caffeine Bowls",
          "Kitchen & Dining/Containers & Bottles/Bottles & Sippers/Sippers",
          "Kitchen & Dining/Containers & Bottles/Bottles & Sippers/Water bottle",
          "Kitchen & Dining/Containers & Bottles/Containers & Jars/Kitchen Containers",
          "Kitchen & Dining/Containers & Bottles/Lunch Boxes/GAYATRI CREATIONS Lunch Boxes",
          "Kitchen & Dining/Containers & Bottles/Lunch Boxes/SKI Lunch Boxes",
          "Kitchen & Dining/Cookware/Casserole & Sets/Cookart Casserole & Sets",
          "Kitchen & Dining/Cookware/Pots & Pans/Cookware Pots",
          "Kitchen & Dining/Cookware/Pots & Pans/Pans & Tawas",
          "Kitchen & Dining/Cookware/Pots & Pans/Woks & Kadhais",
          "Kitchen & Dining/Cookware/Steamers & Idli Makers/Idli Makers",
          "Kitchen & Dining/Dinnerware & Crockery/Cups & Saucers/Buyer's Beach Cups & Saucers",
          "Kitchen & Dining/Housekeeping & Laundry/Home Cleaning/Brooms & Brushes",
          "Kitchen & Dining/Kitchen Tools/Choppers & Peelers/Graters & Slicers",
          "Kitchen & Dining/Kitchen Tools/Kitchen Implements/Hand Juicers",
          "Kitchen & Dining/Kitchen Tools/Kitchen Implements/Kitchen Scissors",
          "Kitchen & Dining/Kitchen Tools/Kitchen Implements/Pizza Cutters",
          "Kitchen & Dining/Kitchen Tools/Kitchen Tool Sets/King Traders Kitchen Tool Sets",
          "Kitchen & Dining/Lighting/Bulbs/BFT Bulbs",
          "Kitchen & Dining/Tableware & Cutlery/Cutlery/Forks",
          "Kitchen & Dining/Tableware & Cutlery/Jug, Glass & Tray Sets/Dungri India Craft Jug, Glass & Tray Sets",
          "Kitchen & Dining/Tableware & Cutlery/Jugs & Pitchers/Jugs",
          "Watches/Clocks/Table Clocks/Like Table Clocks",
          "Baby Care/Baby & Kids Gifts/Decorations",
          "Baby Care/Baby Bath & Skin/Baby Bath Towels",
          "Baby Care/Baby Bath & Skin/Baby Body Wash",
          "Baby Care/Baby Bath & Skin/Baby Shower Caps",
          "Baby Care/Baby Bedding/Baby Bedsheets",
          "Baby Care/Baby Bedding/Baby Blankets",
          "Baby Care/Baby Bedding/Baby Mattresses",
          "Baby Care/Baby Bedding/Baby Mosquito Nets",
          "Baby Care/Baby Bedding/Baby Sleeping Bags",
          "Baby Care/Baby Grooming/Cotton Buds",
          "Baby Care/Diapering & Potty Training/Changing Tables",
          "Baby Care/Diapering & Potty Training/Diaper Bags",
          "Baby Care/Feeding & Nursing/Bibs & Hankies",
          "Baby Care/Feeding & Nursing/Bottles & Accessories",
          "Baby Care/Feeding & Nursing/Utensils",
          "Baby Care/Infant Wear/Baby Boys' Clothes",
          "Baby Care/Infant Wear/Baby Girls' Clothes",
          "Baby Care/Strollers & Activity Gear/Strollers & Prams",
          "Beauty and Personal Care/Bath and Spa/Bath and Spa Accessories",
          "Beauty and Personal Care/Bath and Spa/Body and Essential Oils",
          "Beauty and Personal Care/Bath and Spa/Soaps",
          "Beauty and Personal Care/Beauty Accessories/Makeup Accessories",
          "Beauty and Personal Care/Body and Skin Care/Face Care",
          "Beauty and Personal Care/Body and Skin Care/Hand Care",
          "Beauty and Personal Care/Body and Skin Care/Lip Care",
          "Beauty and Personal Care/Fragrances/Deodorants",
          "Beauty and Personal Care/Hair Care/Conditioners",
          "Beauty and Personal Care/Hair Care/Hair Care Accessories",
          "Beauty and Personal Care/Hair Care/Hair Colors",
          "Beauty and Personal Care/Hair Care/Shampoos",
          "Beauty and Personal Care/Health Care/Health Care Accessories",
          "Beauty and Personal Care/Health Care/Health Care Devices",
          "Beauty and Personal Care/Health Care/Medical Equipment & Accessories",
          "Beauty and Personal Care/Health Care/Medicines & Treatment",
          "Beauty and Personal Care/Makeup/Eyes",
          "Beauty and Personal Care/Makeup/Lips",
          "Beauty and Personal Care/Makeup/Nails",
          "Beauty and Personal Care/Makeup/Vanity Boxes",
          "Beauty and Personal Care/Women's Hygiene/Combo & kits",
          "Computers/Computer Components/Processors",
          "Computers/Computer Components/RAMs",
          "Computers/Computer Peripherals/CPU",
          "Computers/Computer Peripherals/Portable Projectors",
          "Computers/Computer Peripherals/Printers & Inks",
          "Computers/Laptop Accessories/Adapters",
          "Computers/Laptop Accessories/Cleaning Kits",
          "Computers/Laptop Accessories/Computer Accessories Combos",
          "Computers/Laptop Accessories/Laptop Adapters",
          "Computers/Laptop Accessories/Laptop Bags",
          "Computers/Laptop Accessories/Mouse Pads",
          "Computers/Laptop Accessories/USB Gadgets",
          "Computers/Network Components/Routers",
          "Computers/Software/Language Learning",
          "Computers/Storage/Pen Drives",
          "Computers/Tablet Accessories/Cases & Covers",
          "Computers/Tablet Accessories/Keyboards",
          "Home Decor & Festive Needs/Candles & Fragrances/Home Fragrances",
          "Home Decor & Festive Needs/Decorative Lighting & Lamps/Floor Lamp",
          "Home Decor & Festive Needs/Decorative Lighting & Lamps/Lanterns",
          "Home Decor & Festive Needs/Decorative Lighting & Lamps/Series Lights",
          "Home Decor & Festive Needs/Decorative Lighting & Lamps/Table Lamps",
          "Home Decor & Festive Needs/Flowers, Plants & Vases/Artificial Plants",
          "Home Decor & Festive Needs/Flowers, Plants & Vases/Flower Vase",
          "Home Decor & Festive Needs/Garden & Leisure/Hammocks & Swings",
          "Home Decor & Festive Needs/Showpiece/Contemporary",
          "Home Decor & Festive Needs/Showpiece/Gramophones",
          "Home Decor & Festive Needs/Showpieces/Fengshui",
          "Home Decor & Festive Needs/Table Decor & Handicrafts/Showpieces",
          "Home Decor & Festive Needs/Table Decor & Handicrafts/Table Decor",
          "Home Decor & Festive Needs/Wall Decor & Clocks/Clocks",
          "Home Decor & Festive Needs/Wall Decor & Clocks/Key Holders",
          "Home Decor & Festive Needs/Wall Decor & Clocks/Paintings",
          "Home Decor & Festive Needs/Wall Decor & Clocks/Posters",
          "Home Decor & Festive Needs/Wall Decor & Clocks/Wall Decals & Stickers",
          "Home Decor & Festive Needs/Wall Decor & Clocks/Wall Shelves",
          "Home Decor & Festive Needs/Wall Decor & Clocks/Wallpapers",
          "Home Furnishing/Bed Linen/Bedsheets",
          "Home Furnishing/Bed Linen/Duvet Covers",
          "Home Furnishing/Cushions, Pillows & Covers/Cushions",
          "Home Furnishing/Kitchen & Dining Linen/Coasters",
          "Home Furnishing/Kitchen & Dining Linen/Kitchen Linen Sets",
          "Home Furnishing/Living/Sofa Covers",
          "Home Furnishing/Living Room Furnishing/Diwan Sets",
          "Kitchen & Dining/Bar & Glassware/Bar Accessories",
          "Kitchen & Dining/Bar & Glassware/Bar Glasses",
          "Kitchen & Dining/Consumables & Disposables/Bowls",
          "Kitchen & Dining/Containers & Bottles/Bottles & Sippers",
          "Kitchen & Dining/Containers & Bottles/Containers & Jars",
          "Kitchen & Dining/Containers & Bottles/Lunch Boxes",
          "Kitchen & Dining/Cookware/Casserole & Sets",
          "Kitchen & Dining/Cookware/Pots & Pans",
          "Kitchen & Dining/Cookware/Steamers & Idli Makers",
          "Kitchen & Dining/Dinnerware & Crockery/Cups & Saucers",
          "Kitchen & Dining/Housekeeping & Laundry/Home Cleaning",
          "Kitchen & Dining/Kitchen Tools/Choppers & Peelers",
          "Kitchen & Dining/Kitchen Tools/Kitchen Implements",
          "Kitchen & Dining/Kitchen Tools/Kitchen Tool Sets",
          "Kitchen & Dining/Lighting/Bulbs",
          "Kitchen & Dining/Tableware & Cutlery/Cutlery",
          "Kitchen & Dining/Tableware & Cutlery/Jug, Glass & Tray Sets",
          "Kitchen & Dining/Tableware & Cutlery/Jugs & Pitchers",
          "Watches/Clocks/Table Clocks",
          "Baby Care/Baby & Kids Gifts",
          "Baby Care/Baby Bath & Skin",
          "Baby Care/Baby Bedding",
          "Baby Care/Baby Grooming",
          "Baby Care/Diapering & Potty Training",
          "Baby Care/Feeding & Nursing",
          "Baby Care/Infant Wear",
          "Baby Care/Strollers & Activity Gear",
          "Beauty and Personal Care/Bath and Spa",
          "Beauty and Personal Care/Beauty Accessories",
          "Beauty and Personal Care/Body and Skin Care",
          "Beauty and Personal Care/Fragrances",
          "Beauty and Personal Care/Hair Care",
          "Beauty and Personal Care/Health Care",
          "Beauty and Personal Care/Makeup",
          "Beauty and Personal Care/Women's Hygiene",
          "Computers/Computer Components",
          "Computers/Computer Peripherals",
          "Computers/Laptop Accessories",
          "Computers/Network Components",
          "Computers/Software",
          "Computers/Storage",
          "Computers/Tablet Accessories",
          "Home Decor & Festive Needs/Candles & Fragrances",
          "Home Decor & Festive Needs/Decorative Lighting & Lamps",
          "Home Decor & Festive Needs/Flowers, Plants & Vases",
          "Home Decor & Festive Needs/Garden & Leisure",
          "Home Decor & Festive Needs/Showpiece",
          "Home Decor & Festive Needs/Showpieces",
          "Home Decor & Festive Needs/Table Decor & Handicrafts",
          "Home Decor & Festive Needs/Wall Decor & Clocks",
          "Home Furnishing/Bed Linen",
          "Home Furnishing/Cushions, Pillows & Covers",
          "Home Furnishing/Kitchen & Dining Linen",
          "Home Furnishing/Living",
          "Home Furnishing/Living Room Furnishing",
          "Kitchen & Dining/Bar & Glassware",
          "Kitchen & Dining/Consumables & Disposables",
          "Kitchen & Dining/Containers & Bottles",
          "Kitchen & Dining/Cookware",
          "Kitchen & Dining/Dinnerware & Crockery",
          "Kitchen & Dining/Housekeeping & Laundry",
          "Kitchen & Dining/Kitchen Tools",
          "Kitchen & Dining/Lighting",
          "Kitchen & Dining/Tableware & Cutlery",
          "Watches/Clocks",
          "Baby Care",
          "Beauty and Personal Care",
          "Computers",
          "Home Decor & Festive Needs",
          "Home Furnishing",
          "Kitchen & Dining",
          "Watches"
         ],
         "labels": [
          "Doraemon Gift Family Ceramic Coffee Mug Multicol...",
          "Eurospa Cotton Terry Face Towel Set (20 PIECE FA...",
          "Sathiyas Cotton Bath Towel (3 Bath Towel, Red, Y...",
          "Tks Cotton Hair Towel (1 Hair towel, Orange)",
          "L Oreal Eversleek Sulfate - Free Smoothing Syste...",
          "TRESemme Naturals Vibrantly Smooth Shampoo (591)",
          "3kFactory Baby Shower Cap- Purple",
          "Bela Home Cotton Cartoon Single Bedsheet (1 Sing...",
          "Mahadev Handicrafts Cotton Cartoon Double Bedshe...",
          "Sparklings Cotton Checkered Double Bedsheet (dou...",
          "Sparklings Cotton Geometric Double Bedsheet (dou...",
          "Relaxfeel Floral Single Dohar White (AC Dohar)",
          "CHHOTE JANAB COZY MATTRESS PROTECTOR(SET OF 2) (...",
          "CHINMAY KIDS Printed Cotton Padded Mosquito Net ...",
          "Baby Bucket SHERIN MULTI BEAR Sleeping Bag (Green)",
          "SJ Tulip multi use cotton Balls (Pack of 100)",
          "BASRA uepgrn Green Changing Table",
          "Mee Mee Multifunctional Nursery Diaper Bag (Dark...",
          "Cheeky Chompers Bibs",
          "Piyo Piyo Bibs",
          "KOHL Bottle Covers",
          "EZ Life Baby Spoons & Forks",
          "Funcart Baby Spoons & Forks",
          "Blue Bell Sippers & Cups",
          "Munchkin Sippers & Cups",
          "Caps",
          "Bodysuits",
          "Sleepsuits",
          "HEAVENLY Combo Sets",
          "Dungarees",
          "Jumpsuits",
          "Bloomers & Drawers",
          "Dongli Polos & T-Shirts",
          "Fs Mini Klub Polos & T-Shirts",
          "Globe Polos & T-Shirts",
          "Rishan Polos & T-Shirts",
          "Toons Polos & T-Shirts",
          "YK Polos & T-Shirts",
          "dongli Polos & T-Shirts",
          "612 League Shirts",
          "Beebay Shirts",
          "CALCULUS Shirts",
          "Cotton On Kids Shirts",
          "FS Mini Klub Shirts",
          "Fs Mini Klub Shirts",
          "Jacadi paris Shirts",
          "Shorts",
          "Track Pants",
          "Blazers",
          "Jackets",
          "Caps",
          "Hats",
          "Bodysuits",
          "Sleepsuits",
          "kawal fashion Combo Sets",
          "Dresses",
          "Jumpsuits",
          "Ethnic Sets",
          "Salwar Kurta Dupattas",
          "Night Suits",
          "Babyoye Premium Leggings & Jeggings",
          "GREENWICH Leggings & Jeggings",
          "Zero Leggings & Jeggings",
          "Shorts",
          "Trousers",
          "Shrugs",
          "Graco LiteRider Click Connect � Marco (Multicolor)",
          "AntiqueShop Loofahs",
          "Allin Exporters Cumin Seed Oil (Co2 Extract) (25...",
          "Allin Exporters Fennel Oil (Co2 Extract) (30 ml)",
          "Aster Luxury Arabic Oudh Bathing Bar - Pack of 4...",
          "LOTTIE LONDON Brushes and Applicators",
          "Aveeno Sunscreen",
          "Jovees Sunscreen",
          "Keya Seth Sunscreen",
          "La Roche-Posay Sunscreen",
          "Lotus Sunscreen",
          "Oriflame Sweden Sunscreen",
          "Oshea Herbals Sunscreen",
          "Richfeel Sunscreen",
          "VLCC Sunscreen",
          "Whiteherbs Sunscreen",
          "Go Bonjour Manicure and Kits",
          "Sally Hansen Manicure and Kits",
          "Svayam Manicure and Kits",
          "Good Way Lip Balms",
          "NYX Lip Creams",
          "Addiction Combos",
          "Adidas Combos",
          "Aero Care Combos",
          "Ajmal Combos",
          "Anna Andre Paris Combos",
          "Arabian Nights Combos",
          "Archies Combos",
          "Beverly Hills Polo Club Combos",
          "Cinthol Combos",
          "Denim Combos",
          "Denver Combos",
          "ENVY 1000 Combos",
          "Engage Combos",
          "Envy-1000 Combos",
          "Fogg Combos",
          "French Factor Combos",
          "KamaSutra Combos",
          "Layer'r Combos",
          "Nike Combos",
          "Nivea Combos",
          "Park Avenue Combos",
          "Playboy Combos",
          "Spinz Combos",
          "Vincent Valentine Paris Combos",
          "Wild Stone Combos",
          "Yardley Combos",
          "LAWMAN PG3 Sprays",
          "Burt s Bees Hair Repair Shea And Grapefruit Deep...",
          "OGX Sunkissed Blonde Lemon Highlights Conditione...",
          "Suave Naturals Everlasting Sunshine Conditioner ...",
          "TIGI BED HEAD COLOUR GODDESS OIL INFUSED CONDITI...",
          "Majik Hair Accessories",
          "Sarah Hair Accessories",
          "Garnier Nutrisse Haircolor Hair Color (43 Dark G...",
          "Loreal Diarichesse No- 5 Light Brown ( Pack of 3...",
          "Kerastase Nutritive Bain Satin 1 Complete Nutrit...",
          "KDS SURGICAL Health Care Accessories",
          "Equinox Body Fat Analyzers",
          "SOS Electrotherapy",
          "HomeEdge Solid Wood King Bed (Finish Color -  Na...",
          "NAMS Pulse Oximeters",
          "Surgical e Sstudio S0004 Gown, Pant Hospital Scr...",
          "Hot & Cold Packs",
          "Milani Eye Shadows",
          "e.l.f. Cosmetics Eye Shadows",
          "Giorgio Armani Lip Liners",
          "Elfani Lipsticks",
          "Foolzy Lipsticks",
          "Incolor Lipsticks",
          "Organistick Lipsticks",
          "Aroma Care Nail Polishes",
          "Aapno Rajasthan Lovely Jewellery Vanity Jeweller...",
          "KE GIFT BOX STOR JEWELLARY Vanity Jewellery (BLUE)",
          "MohanJodero Jewellery Box Jewellery Vanity Jewel...",
          "Soulful Threads Red Thread Aari Embroidered Blac...",
          "Clear Face Kesar Chandan Multivitamin Nourishing...",
          "Intel 3.2 GHz LGA 1150 3250 Processor (BLACK)",
          "Transcend Premium Memory DDR2 2 GB (1x2GB) PC SD...",
          "I Ball IBCTDC 160/2gb/DDR2 with Dual Core 2 RAM ...",
          "Zingalalaa LP-50 50 lm LED Corded Portable Proje...",
          "Canon Toners",
          "Filink Toners",
          "Smartpro 19.5v,3.9a Replacement Charger for Vaio...",
          "Shopfloor.XYZ Vacuum Cleaner for Computers, Lapt...",
          "PRINT SHAPES Graphic Dancer Laptop Skin with Mou...",
          "PRINT SHAPES Peacock Feather Laptop Skin with Mo...",
          "PRINT SHAPES Power of roman reigns Laptop Skin w...",
          "PRINT SHAPES Red bull Laptop Skin with Mouse pad...",
          "PRINT SHAPES Sony headphone Laptop Skin with Mou...",
          "PRINT SHAPES despicable me 2 looking upwards Lap...",
          "PRINT SHAPES doraemon Laptop Skin with Mouse pad...",
          "PRINT SHAPES mary and max cartoon Laptop Skin wi...",
          "PRINT SHAPES monster university party Laptop Ski...",
          "PRINT SHAPES red Heart Laptop Skin with Mouse pa...",
          "PRINT SHAPES roronoa Zora Laptop Skin with Mouse...",
          "Hako 45W Magsafe Laptop Charger For APPLE MacBoo...",
          "Hako 60W Magsafe Laptop Charger For APPLE MacBoo...",
          "Hako 85W Magsafe Laptop Charger For APPLE MacBoo...",
          "Sunlast 16 inch Laptop Backpack (Yellow)",
          "FRENEMY MPAD271 Mousepad (Multicolor)",
          "APOLLO+ Pack Of 3 Flexible Led Light (Multicolour)",
          "JRB 1033 Smallest Mobile Powered By OTG Enabled ...",
          "JRB 1038 Smallest Mobile Powered By OTG Enabled ...",
          "JRB 1042 Smallest Mobile Powered By OTG Enabled ...",
          "D-Link DAP1320 (White)",
          "Eureka.in Physical",
          "HP v220w 16 GB  Pen Drive (Silver, Black)",
          "Shopizone BMW Wheel 32 GB  Pen Drive (Black)",
          "YGS Keyboard Case for Asus Memo Pad 7in Tab (Pink)",
          "RoQ Slim Multimedia 105key Flexible Wired USB Fl...",
          "Myesquire Aroma Oils",
          "Nutcase Multicolor Column Floor Lamp (31 cm)",
          "SHOPOJ Blue Paper Sky Lantern (80 cm X 34 cm, Pa...",
          "VRCT 196 inch Green Rice Lights (Pack of 1)",
          "Brahmz Glass Mossiac Table Lamp (18 cm, Multi Co...",
          "Eternity Handcrafted unique Mosaic Glass Table L...",
          "Mayursflora Bonsai Aloe, Maple, Arecaceae, Palm,...",
          "Miracle Retail Bonsai Wild Plant Artificial Plan...",
          "V Creations Bonsai Cactus Artificial Plant  with...",
          "@home Earthy Wine Net Ceramic Vase (9.8250000000...",
          "@home Glass Vase (18 inch, Grey)",
          "Rrsskids Hammocks",
          "Bharatcraft Showpiece  -  5 cm (Polyresin, Brown)",
          "Services Junction Beautiful Black and Golden col...",
          "Services Junction Gold Plated Ganesh Idol Showpi...",
          "ROYLE KATOCH Showpiece  -  24 cm (Crystal, Woode...",
          "Reiki Crystal Products Showpiece  -  6 cm (Brass...",
          "Reiki Crystal Products Showpiece  -  8 cm (Cryst...",
          "Treasure Fengshui",
          "Art Godaam Human Figurines",
          "Hand Art Human Figurines",
          "Kaatru Human Figurines",
          "My Angel Human Figurines",
          "Agrasen International Religious Idols",
          "Anjalika Religious Idols",
          "AsiaCraft Religious Idols",
          "CTW Religious Idols",
          "Craftartz Religious Idols",
          "Divine Gifts & Artificial Jewellery Religious Idols",
          "Diviniti Religious Idols",
          "Eshoppee Religious Idols",
          "Exotic India Religious Idols",
          "Gift Studios Religious Idols",
          "Golmaalshop Religious Idols",
          "K&P Religious Idols",
          "Radhika's World of Crafts Religious Idols",
          "Recrafto Religious Idols",
          "Utsav Handicraft Religious Idols",
          "Hookah",
          "Hookah Flavors",
          "Ech oly Hookah Mouth Tips",
          "KLOCX Wall Clocks",
          "Regent Wall Clocks",
          "eCraftIndia Wall Clocks",
          "Craftcart Parrot Antique Brass Key Holder (5 Hoo...",
          "VarEesha Wooden Key Holder (8 Hooks, Multicolor)",
          "BRANDWAGON DIGIPRINT Digital Reprint Painting (1...",
          "good-night-angel-sleep-well-pics Paper Print (18...",
          "scarlet tanager bird normal POSTER Paper Print (...",
          "painting_art_couple_love__Dance Paper Print (12 ...",
          "Bourne Supermacy Canvas Art (18 inch X 12 inch, ...",
          "Smart Wall Guru Large Adhesive Sticker Sticker (...",
          "Smart Wall Guru Medium Adhesive Sticker (Pack of 1)",
          "Wall Decal Small Self Adhesive Sticker (Pack of 1)",
          "Innovative Single Corner Stainless Steel Wall Sh...",
          "R&Mshoppee MDF Wall Shelf (Number of Shelves - 1...",
          "wallskart Floral & Botanical Wallpaper (35.56 cm...",
          "JBC Collection Cotton Printed Single Bedsheet (1...",
          "Jaipur Print Cotton Floral King sized Double Bed...",
          "SANTOSH ROYAL FASHION Cotton Printed King sized ...",
          "House This Queen Cotton Duvet Cover (Grey)",
          "Furnishing Zone Printed Back Cushion (Pack of2, ...",
          "Craft Trade Oval Wood Coaster Set (Brown, Pack o...",
          "Tidy Green Cotton Kitchen Linen Set (Pack of 3)",
          "Swastik Velvet Sofa Cover (Multicolor Pack of 10)",
          "Jaipur Print Cotton Floral Diwan Set",
          "SANTOSH ROYAL FASHION Cotton Embroidered Diwan Set",
          "arnavs Bottle Openers",
          "Pedrini Cork Screws",
          "Seven Seas Cork Screws",
          "Art n Beyond 150013 (300 ml, Clear, Pack of 6)",
          "Ocean CPGW087 (280 ml, Clear, Pack of 6)",
          "giftsthatwow GTW-G-04 (300 ml, White, Pack of 1)",
          "giftsthatwow GTW-G-06 (600 ml, White, Pack of 1)",
          "ocean VGLASS0051 (325 ml, Clear, Pack of 6)",
          "Caffeine Handmade Tribal Print Influenced Katori...",
          "Omic Sippers",
          "Garnet Water bottle",
          "Nutcase Water bottle",
          "Lock&Lock Kitchen Containers",
          "GAYATRI CREATIONS ORANGE KIDS SET 2 Containers L...",
          "SKI WINNER GIFT SET SKYBLUE02 2 Containers Lunch...",
          "Cookart Elegant S.S. Handi With Hot Pot Pack of ...",
          "Wonderchef Cookware Pots",
          "oxford Pans & Tawas",
          "Bergner Woks & Kadhais",
          "Indian Art Villa Woks & Kadhais",
          "JSM Woks & Kadhais",
          "Jaipan Woks & Kadhais",
          "Kalash Woks & Kadhais",
          "Kosher Woks & Kadhais",
          "Leo Natura Woks & Kadhais",
          "Metallino Woks & Kadhais",
          "Ndura Woks & Kadhais",
          "Nirlon Woks & Kadhais",
          "Peacock Woks & Kadhais",
          "Pigeon Woks & Kadhais",
          "Pristine Woks & Kadhais",
          "Recon Woks & Kadhais",
          "Sahara Q Shop Woks & Kadhais",
          "Sumeet Woks & Kadhais",
          "Supreme Cookwares Woks & Kadhais",
          "Suruchi Woks & Kadhais",
          "vatika Idli Makers",
          "Buyer's Beach BB349 (Brown)",
          "Geol Brooms & Brushes",
          "Deep Graters & Slicers",
          "JayEnterprise Hand Juicers",
          "Checkered Chef Kitchen Scissors",
          "Agromech Pizza Cutters",
          "Apex Pizza Cutters",
          "Celebrity Pizza Cutters",
          "Famous Pizza Cutters",
          "Go Hooked Pizza Cutters",
          "King International Pizza Cutters",
          "Mom Italy Pizza Cutters",
          "Sam Pizza Cutters",
          "Step4deal Pizza Cutters",
          "Tirupati Pizza Cutters",
          "King Traders KI-BD-01 1 Kitchen Tool Set",
          "BFT 6 W LED Bulb (White)",
          "Bhalaria Forks",
          "Dungri India Craft Ducjug010-ducgl012-2 Jug Glas...",
          "Prisha India Craft Jugs",
          "Like Analog Purple Clock",
          "Doraemon Gift Family Ceramic Coffee Mug Decorations",
          "Eurospa Baby Bath Towels",
          "Sathiyas Baby Bath Towels",
          "Tks Baby Bath Towels",
          "L Oreal Baby Body Wash",
          "TRESemme Baby Body Wash",
          "3kFactory Baby Shower Caps",
          "Bela Home Baby Bedsheets",
          "Mahadev Handicrafts Baby Bedsheets",
          "Sparklings Baby Bedsheets",
          "Relaxfeel Baby Blankets",
          "CHHOTE JANAB Baby Mattresses",
          "CHINMAY KIDS Baby Mosquito Nets",
          "Baby Bucket Baby Sleeping Bags",
          "SJ Cotton Buds",
          "BASRA Changing Tables",
          "Mee Mee Diaper Bags",
          "Bibs",
          "Bottle Covers",
          "Baby Spoons & Forks",
          "Sippers & Cups",
          "Accessories",
          "Bodysuits & Sleepsuits",
          "Combo Sets",
          "Dungarees & Jumpsuits",
          "Innerwear & Sleepwear",
          "Polos & T-Shirts",
          "Shirts",
          "Shorts & Trousers",
          "Suits and Blazers",
          "Winter & Seasonal Wear",
          "Accessories",
          "Bodysuits & Sleepsuits",
          "Combo Sets",
          "Dresses & Skirts",
          "Dungarees & Jumpsuits",
          "Ethnic Wear",
          "Innerwear & Sleepwear",
          "Leggings & Jeggings",
          "Shorts & Trousers",
          "T-Shirts & Tops",
          "Graco Strollers & Prams",
          "Loofahs",
          "Allin Exporters Body and Essential Oils",
          "Aster Luxury Soaps",
          "Brushes and Applicators",
          "Sunscreen",
          "Manicure and Kits",
          "Lip Balms",
          "Lip Creams",
          "Combos",
          "Sprays",
          "Burt s Bees Conditioners",
          "OGX Conditioners",
          "Suave Conditioners",
          "TIGI BED HEAD Conditioners",
          "Hair Accessories",
          "Garnier Hair Colors",
          "Loreal Hair Colors",
          "Kerastase Shampoos",
          "Health Care Accessories",
          "Body Fat Analyzers",
          "Electrotherapy",
          "HomeEdge Health Care Devices",
          "Pulse Oximeters",
          "Surgical e Sstudio Medical Equipment & Accessories",
          "First Aid",
          "Eye Shadows",
          "Lip Liners",
          "Lipsticks",
          "Nail Polishes",
          "Aapno Rajasthan Vanity Boxes",
          "KE Vanity Boxes",
          "MohanJodero Vanity Boxes",
          "Soulful Threads Vanity Boxes",
          "Clear Face Combo & kits",
          "Intel Processors",
          "Transcend RAMs",
          "I Ball CPU",
          "Zingalalaa Portable Projectors",
          "Toners",
          "Smartpro Adapters",
          "Shopfloor.XYZ Cleaning Kits",
          "PRINT SHAPES Computer Accessories Combos",
          "Hako Laptop Adapters",
          "Sunlast Laptop Bags",
          "FRENEMY Mouse Pads",
          "APOLLO+ USB Gadgets",
          "JRB USB Gadgets",
          "D-Link Routers",
          "Physical",
          "HP Pen Drives",
          "Shopizone Pen Drives",
          "YGS Cases & Covers",
          "RoQ Keyboards",
          "Aroma Oils",
          "Nutcase Floor Lamp",
          "SHOPOJ Lanterns",
          "VRCT Series Lights",
          "Brahmz Table Lamps",
          "Eternity Table Lamps",
          "Mayursflora Artificial Plants",
          "Miracle Retail Artificial Plants",
          "V Creations Artificial Plants",
          "@home Flower Vase",
          "Hammocks",
          "Bharatcraft Contemporary",
          "Services Junction Contemporary",
          "ROYLE KATOCH Gramophones",
          "Reiki Crystal Products Fengshui",
          "Fengshui",
          "Human Figurines",
          "Religious Idols",
          "Hookah & Hookah Flavours",
          "Hookah Mouth Tips",
          "Wall Clocks",
          "Craftcart Key Holders",
          "VarEesha Key Holders",
          "BRANDWAGON Paintings",
          "Mega product Posters",
          "STYLE CLUES FASHION Posters",
          "Shoperite Posters",
          "Urban Monk Posters",
          "Smart Wall Guru Wall Decals & Stickers",
          "Wall Decal Wall Decals & Stickers",
          "Innovative Wall Shelves",
          "R&Mshoppee Wall Shelves",
          "wallskart Wallpapers",
          "JBC Collection Bedsheets",
          "Jaipur Print Bedsheets",
          "SANTOSH ROYAL FASHION Bedsheets",
          "House This Duvet Covers",
          "Furnishing Zone Cushions",
          "Craft Trade Coasters",
          "Tidy Kitchen Linen Sets",
          "Swastik Sofa Covers",
          "Jaipur Print Diwan Sets",
          "SANTOSH ROYAL FASHION Diwan Sets",
          "Bottle Openers",
          "Cork Screws",
          "Art n Beyond Bar Glasses",
          "Ocean Bar Glasses",
          "giftsthatwow Bar Glasses",
          "ocean Bar Glasses",
          "Caffeine Bowls",
          "Sippers",
          "Water bottle",
          "Kitchen Containers",
          "GAYATRI CREATIONS Lunch Boxes",
          "SKI Lunch Boxes",
          "Cookart Casserole & Sets",
          "Cookware Pots",
          "Pans & Tawas",
          "Woks & Kadhais",
          "Idli Makers",
          "Buyer's Beach Cups & Saucers",
          "Brooms & Brushes",
          "Graters & Slicers",
          "Hand Juicers",
          "Kitchen Scissors",
          "Pizza Cutters",
          "King Traders Kitchen Tool Sets",
          "BFT Bulbs",
          "Forks",
          "Dungri India Craft Jug, Glass & Tray Sets",
          "Jugs",
          "Like Table Clocks",
          "Decorations",
          "Baby Bath Towels",
          "Baby Body Wash",
          "Baby Shower Caps",
          "Baby Bedsheets",
          "Baby Blankets",
          "Baby Mattresses",
          "Baby Mosquito Nets",
          "Baby Sleeping Bags",
          "Cotton Buds",
          "Changing Tables",
          "Diaper Bags",
          "Bibs & Hankies",
          "Bottles & Accessories",
          "Utensils",
          "Baby Boys' Clothes",
          "Baby Girls' Clothes",
          "Strollers & Prams",
          "Bath and Spa Accessories",
          "Body and Essential Oils",
          "Soaps",
          "Makeup Accessories",
          "Face Care",
          "Hand Care",
          "Lip Care",
          "Deodorants",
          "Conditioners",
          "Hair Care Accessories",
          "Hair Colors",
          "Shampoos",
          "Health Care Accessories",
          "Health Care Devices",
          "Medical Equipment & Accessories",
          "Medicines & Treatment",
          "Eyes",
          "Lips",
          "Nails",
          "Vanity Boxes",
          "Combo & kits",
          "Processors",
          "RAMs",
          "CPU",
          "Portable Projectors",
          "Printers & Inks",
          "Adapters",
          "Cleaning Kits",
          "Computer Accessories Combos",
          "Laptop Adapters",
          "Laptop Bags",
          "Mouse Pads",
          "USB Gadgets",
          "Routers",
          "Language Learning",
          "Pen Drives",
          "Cases & Covers",
          "Keyboards",
          "Home Fragrances",
          "Floor Lamp",
          "Lanterns",
          "Series Lights",
          "Table Lamps",
          "Artificial Plants",
          "Flower Vase",
          "Hammocks & Swings",
          "Contemporary",
          "Gramophones",
          "Fengshui",
          "Showpieces",
          "Table Decor",
          "Clocks",
          "Key Holders",
          "Paintings",
          "Posters",
          "Wall Decals & Stickers",
          "Wall Shelves",
          "Wallpapers",
          "Bedsheets",
          "Duvet Covers",
          "Cushions",
          "Coasters",
          "Kitchen Linen Sets",
          "Sofa Covers",
          "Diwan Sets",
          "Bar Accessories",
          "Bar Glasses",
          "Bowls",
          "Bottles & Sippers",
          "Containers & Jars",
          "Lunch Boxes",
          "Casserole & Sets",
          "Pots & Pans",
          "Steamers & Idli Makers",
          "Cups & Saucers",
          "Home Cleaning",
          "Choppers & Peelers",
          "Kitchen Implements",
          "Kitchen Tool Sets",
          "Bulbs",
          "Cutlery",
          "Jug, Glass & Tray Sets",
          "Jugs & Pitchers",
          "Table Clocks",
          "Baby & Kids Gifts",
          "Baby Bath & Skin",
          "Baby Bedding",
          "Baby Grooming",
          "Diapering & Potty Training",
          "Feeding & Nursing",
          "Infant Wear",
          "Strollers & Activity Gear",
          "Bath and Spa",
          "Beauty Accessories",
          "Body and Skin Care",
          "Fragrances",
          "Hair Care",
          "Health Care",
          "Makeup",
          "Women's Hygiene",
          "Computer Components",
          "Computer Peripherals",
          "Laptop Accessories",
          "Network Components",
          "Software",
          "Storage",
          "Tablet Accessories",
          "Candles & Fragrances",
          "Decorative Lighting & Lamps",
          "Flowers, Plants & Vases",
          "Garden & Leisure",
          "Showpiece",
          "Showpieces",
          "Table Decor & Handicrafts",
          "Wall Decor & Clocks",
          "Bed Linen",
          "Cushions, Pillows & Covers",
          "Kitchen & Dining Linen",
          "Living",
          "Living Room Furnishing",
          "Bar & Glassware",
          "Consumables & Disposables",
          "Containers & Bottles",
          "Cookware",
          "Dinnerware & Crockery",
          "Housekeeping & Laundry",
          "Kitchen Tools",
          "Lighting",
          "Tableware & Cutlery",
          "Clocks",
          "Baby Care",
          "Beauty and Personal Care",
          "Computers",
          "Home Decor & Festive Needs",
          "Home Furnishing",
          "Kitchen & Dining",
          "Watches"
         ],
         "name": "",
         "parents": [
          "Baby Care/Baby & Kids Gifts/Decorations/Doraemon Gift Family Ceramic Coffee Mug Decorations",
          "Baby Care/Baby Bath & Skin/Baby Bath Towels/Eurospa Baby Bath Towels",
          "Baby Care/Baby Bath & Skin/Baby Bath Towels/Sathiyas Baby Bath Towels",
          "Baby Care/Baby Bath & Skin/Baby Bath Towels/Tks Baby Bath Towels",
          "Baby Care/Baby Bath & Skin/Baby Body Wash/L Oreal Baby Body Wash",
          "Baby Care/Baby Bath & Skin/Baby Body Wash/TRESemme Baby Body Wash",
          "Baby Care/Baby Bath & Skin/Baby Shower Caps/3kFactory Baby Shower Caps",
          "Baby Care/Baby Bedding/Baby Bedsheets/Bela Home Baby Bedsheets",
          "Baby Care/Baby Bedding/Baby Bedsheets/Mahadev Handicrafts Baby Bedsheets",
          "Baby Care/Baby Bedding/Baby Bedsheets/Sparklings Baby Bedsheets",
          "Baby Care/Baby Bedding/Baby Bedsheets/Sparklings Baby Bedsheets",
          "Baby Care/Baby Bedding/Baby Blankets/Relaxfeel Baby Blankets",
          "Baby Care/Baby Bedding/Baby Mattresses/CHHOTE JANAB Baby Mattresses",
          "Baby Care/Baby Bedding/Baby Mosquito Nets/CHINMAY KIDS Baby Mosquito Nets",
          "Baby Care/Baby Bedding/Baby Sleeping Bags/Baby Bucket Baby Sleeping Bags",
          "Baby Care/Baby Grooming/Cotton Buds/SJ Cotton Buds",
          "Baby Care/Diapering & Potty Training/Changing Tables/BASRA Changing Tables",
          "Baby Care/Diapering & Potty Training/Diaper Bags/Mee Mee Diaper Bags",
          "Baby Care/Feeding & Nursing/Bibs & Hankies/Bibs",
          "Baby Care/Feeding & Nursing/Bibs & Hankies/Bibs",
          "Baby Care/Feeding & Nursing/Bottles & Accessories/Bottle Covers",
          "Baby Care/Feeding & Nursing/Utensils/Baby Spoons & Forks",
          "Baby Care/Feeding & Nursing/Utensils/Baby Spoons & Forks",
          "Baby Care/Feeding & Nursing/Utensils/Sippers & Cups",
          "Baby Care/Feeding & Nursing/Utensils/Sippers & Cups",
          "Baby Care/Infant Wear/Baby Boys' Clothes/Accessories",
          "Baby Care/Infant Wear/Baby Boys' Clothes/Bodysuits & Sleepsuits",
          "Baby Care/Infant Wear/Baby Boys' Clothes/Bodysuits & Sleepsuits",
          "Baby Care/Infant Wear/Baby Boys' Clothes/Combo Sets",
          "Baby Care/Infant Wear/Baby Boys' Clothes/Dungarees & Jumpsuits",
          "Baby Care/Infant Wear/Baby Boys' Clothes/Dungarees & Jumpsuits",
          "Baby Care/Infant Wear/Baby Boys' Clothes/Innerwear & Sleepwear",
          "Baby Care/Infant Wear/Baby Boys' Clothes/Polos & T-Shirts",
          "Baby Care/Infant Wear/Baby Boys' Clothes/Polos & T-Shirts",
          "Baby Care/Infant Wear/Baby Boys' Clothes/Polos & T-Shirts",
          "Baby Care/Infant Wear/Baby Boys' Clothes/Polos & T-Shirts",
          "Baby Care/Infant Wear/Baby Boys' Clothes/Polos & T-Shirts",
          "Baby Care/Infant Wear/Baby Boys' Clothes/Polos & T-Shirts",
          "Baby Care/Infant Wear/Baby Boys' Clothes/Polos & T-Shirts",
          "Baby Care/Infant Wear/Baby Boys' Clothes/Shirts",
          "Baby Care/Infant Wear/Baby Boys' Clothes/Shirts",
          "Baby Care/Infant Wear/Baby Boys' Clothes/Shirts",
          "Baby Care/Infant Wear/Baby Boys' Clothes/Shirts",
          "Baby Care/Infant Wear/Baby Boys' Clothes/Shirts",
          "Baby Care/Infant Wear/Baby Boys' Clothes/Shirts",
          "Baby Care/Infant Wear/Baby Boys' Clothes/Shirts",
          "Baby Care/Infant Wear/Baby Boys' Clothes/Shorts & Trousers",
          "Baby Care/Infant Wear/Baby Boys' Clothes/Shorts & Trousers",
          "Baby Care/Infant Wear/Baby Boys' Clothes/Suits and Blazers",
          "Baby Care/Infant Wear/Baby Boys' Clothes/Winter & Seasonal Wear",
          "Baby Care/Infant Wear/Baby Girls' Clothes/Accessories",
          "Baby Care/Infant Wear/Baby Girls' Clothes/Accessories",
          "Baby Care/Infant Wear/Baby Girls' Clothes/Bodysuits & Sleepsuits",
          "Baby Care/Infant Wear/Baby Girls' Clothes/Bodysuits & Sleepsuits",
          "Baby Care/Infant Wear/Baby Girls' Clothes/Combo Sets",
          "Baby Care/Infant Wear/Baby Girls' Clothes/Dresses & Skirts",
          "Baby Care/Infant Wear/Baby Girls' Clothes/Dungarees & Jumpsuits",
          "Baby Care/Infant Wear/Baby Girls' Clothes/Ethnic Wear",
          "Baby Care/Infant Wear/Baby Girls' Clothes/Ethnic Wear",
          "Baby Care/Infant Wear/Baby Girls' Clothes/Innerwear & Sleepwear",
          "Baby Care/Infant Wear/Baby Girls' Clothes/Leggings & Jeggings",
          "Baby Care/Infant Wear/Baby Girls' Clothes/Leggings & Jeggings",
          "Baby Care/Infant Wear/Baby Girls' Clothes/Leggings & Jeggings",
          "Baby Care/Infant Wear/Baby Girls' Clothes/Shorts & Trousers",
          "Baby Care/Infant Wear/Baby Girls' Clothes/Shorts & Trousers",
          "Baby Care/Infant Wear/Baby Girls' Clothes/T-Shirts & Tops",
          "Baby Care/Strollers & Activity Gear/Strollers & Prams/Graco Strollers & Prams",
          "Beauty and Personal Care/Bath and Spa/Bath and Spa Accessories/Loofahs",
          "Beauty and Personal Care/Bath and Spa/Body and Essential Oils/Allin Exporters Body and Essential Oils",
          "Beauty and Personal Care/Bath and Spa/Body and Essential Oils/Allin Exporters Body and Essential Oils",
          "Beauty and Personal Care/Bath and Spa/Soaps/Aster Luxury Soaps",
          "Beauty and Personal Care/Beauty Accessories/Makeup Accessories/Brushes and Applicators",
          "Beauty and Personal Care/Body and Skin Care/Face Care/Sunscreen",
          "Beauty and Personal Care/Body and Skin Care/Face Care/Sunscreen",
          "Beauty and Personal Care/Body and Skin Care/Face Care/Sunscreen",
          "Beauty and Personal Care/Body and Skin Care/Face Care/Sunscreen",
          "Beauty and Personal Care/Body and Skin Care/Face Care/Sunscreen",
          "Beauty and Personal Care/Body and Skin Care/Face Care/Sunscreen",
          "Beauty and Personal Care/Body and Skin Care/Face Care/Sunscreen",
          "Beauty and Personal Care/Body and Skin Care/Face Care/Sunscreen",
          "Beauty and Personal Care/Body and Skin Care/Face Care/Sunscreen",
          "Beauty and Personal Care/Body and Skin Care/Face Care/Sunscreen",
          "Beauty and Personal Care/Body and Skin Care/Hand Care/Manicure and Kits",
          "Beauty and Personal Care/Body and Skin Care/Hand Care/Manicure and Kits",
          "Beauty and Personal Care/Body and Skin Care/Hand Care/Manicure and Kits",
          "Beauty and Personal Care/Body and Skin Care/Lip Care/Lip Balms",
          "Beauty and Personal Care/Body and Skin Care/Lip Care/Lip Creams",
          "Beauty and Personal Care/Fragrances/Deodorants/Combos",
          "Beauty and Personal Care/Fragrances/Deodorants/Combos",
          "Beauty and Personal Care/Fragrances/Deodorants/Combos",
          "Beauty and Personal Care/Fragrances/Deodorants/Combos",
          "Beauty and Personal Care/Fragrances/Deodorants/Combos",
          "Beauty and Personal Care/Fragrances/Deodorants/Combos",
          "Beauty and Personal Care/Fragrances/Deodorants/Combos",
          "Beauty and Personal Care/Fragrances/Deodorants/Combos",
          "Beauty and Personal Care/Fragrances/Deodorants/Combos",
          "Beauty and Personal Care/Fragrances/Deodorants/Combos",
          "Beauty and Personal Care/Fragrances/Deodorants/Combos",
          "Beauty and Personal Care/Fragrances/Deodorants/Combos",
          "Beauty and Personal Care/Fragrances/Deodorants/Combos",
          "Beauty and Personal Care/Fragrances/Deodorants/Combos",
          "Beauty and Personal Care/Fragrances/Deodorants/Combos",
          "Beauty and Personal Care/Fragrances/Deodorants/Combos",
          "Beauty and Personal Care/Fragrances/Deodorants/Combos",
          "Beauty and Personal Care/Fragrances/Deodorants/Combos",
          "Beauty and Personal Care/Fragrances/Deodorants/Combos",
          "Beauty and Personal Care/Fragrances/Deodorants/Combos",
          "Beauty and Personal Care/Fragrances/Deodorants/Combos",
          "Beauty and Personal Care/Fragrances/Deodorants/Combos",
          "Beauty and Personal Care/Fragrances/Deodorants/Combos",
          "Beauty and Personal Care/Fragrances/Deodorants/Combos",
          "Beauty and Personal Care/Fragrances/Deodorants/Combos",
          "Beauty and Personal Care/Fragrances/Deodorants/Combos",
          "Beauty and Personal Care/Fragrances/Deodorants/Sprays",
          "Beauty and Personal Care/Hair Care/Conditioners/Burt s Bees Conditioners",
          "Beauty and Personal Care/Hair Care/Conditioners/OGX Conditioners",
          "Beauty and Personal Care/Hair Care/Conditioners/Suave Conditioners",
          "Beauty and Personal Care/Hair Care/Conditioners/TIGI BED HEAD Conditioners",
          "Beauty and Personal Care/Hair Care/Hair Care Accessories/Hair Accessories",
          "Beauty and Personal Care/Hair Care/Hair Care Accessories/Hair Accessories",
          "Beauty and Personal Care/Hair Care/Hair Colors/Garnier Hair Colors",
          "Beauty and Personal Care/Hair Care/Hair Colors/Loreal Hair Colors",
          "Beauty and Personal Care/Hair Care/Shampoos/Kerastase Shampoos",
          "Beauty and Personal Care/Health Care/Health Care Accessories/Health Care Accessories",
          "Beauty and Personal Care/Health Care/Health Care Devices/Body Fat Analyzers",
          "Beauty and Personal Care/Health Care/Health Care Devices/Electrotherapy",
          "Beauty and Personal Care/Health Care/Health Care Devices/HomeEdge Health Care Devices",
          "Beauty and Personal Care/Health Care/Health Care Devices/Pulse Oximeters",
          "Beauty and Personal Care/Health Care/Medical Equipment & Accessories/Surgical e Sstudio Medical Equipment & Accessories",
          "Beauty and Personal Care/Health Care/Medicines & Treatment/First Aid",
          "Beauty and Personal Care/Makeup/Eyes/Eye Shadows",
          "Beauty and Personal Care/Makeup/Eyes/Eye Shadows",
          "Beauty and Personal Care/Makeup/Lips/Lip Liners",
          "Beauty and Personal Care/Makeup/Lips/Lipsticks",
          "Beauty and Personal Care/Makeup/Lips/Lipsticks",
          "Beauty and Personal Care/Makeup/Lips/Lipsticks",
          "Beauty and Personal Care/Makeup/Lips/Lipsticks",
          "Beauty and Personal Care/Makeup/Nails/Nail Polishes",
          "Beauty and Personal Care/Makeup/Vanity Boxes/Aapno Rajasthan Vanity Boxes",
          "Beauty and Personal Care/Makeup/Vanity Boxes/KE Vanity Boxes",
          "Beauty and Personal Care/Makeup/Vanity Boxes/MohanJodero Vanity Boxes",
          "Beauty and Personal Care/Makeup/Vanity Boxes/Soulful Threads Vanity Boxes",
          "Beauty and Personal Care/Women's Hygiene/Combo & kits/Clear Face Combo & kits",
          "Computers/Computer Components/Processors/Intel Processors",
          "Computers/Computer Components/RAMs/Transcend RAMs",
          "Computers/Computer Peripherals/CPU/I Ball CPU",
          "Computers/Computer Peripherals/Portable Projectors/Zingalalaa Portable Projectors",
          "Computers/Computer Peripherals/Printers & Inks/Toners",
          "Computers/Computer Peripherals/Printers & Inks/Toners",
          "Computers/Laptop Accessories/Adapters/Smartpro Adapters",
          "Computers/Laptop Accessories/Cleaning Kits/Shopfloor.XYZ Cleaning Kits",
          "Computers/Laptop Accessories/Computer Accessories Combos/PRINT SHAPES Computer Accessories Combos",
          "Computers/Laptop Accessories/Computer Accessories Combos/PRINT SHAPES Computer Accessories Combos",
          "Computers/Laptop Accessories/Computer Accessories Combos/PRINT SHAPES Computer Accessories Combos",
          "Computers/Laptop Accessories/Computer Accessories Combos/PRINT SHAPES Computer Accessories Combos",
          "Computers/Laptop Accessories/Computer Accessories Combos/PRINT SHAPES Computer Accessories Combos",
          "Computers/Laptop Accessories/Computer Accessories Combos/PRINT SHAPES Computer Accessories Combos",
          "Computers/Laptop Accessories/Computer Accessories Combos/PRINT SHAPES Computer Accessories Combos",
          "Computers/Laptop Accessories/Computer Accessories Combos/PRINT SHAPES Computer Accessories Combos",
          "Computers/Laptop Accessories/Computer Accessories Combos/PRINT SHAPES Computer Accessories Combos",
          "Computers/Laptop Accessories/Computer Accessories Combos/PRINT SHAPES Computer Accessories Combos",
          "Computers/Laptop Accessories/Computer Accessories Combos/PRINT SHAPES Computer Accessories Combos",
          "Computers/Laptop Accessories/Laptop Adapters/Hako Laptop Adapters",
          "Computers/Laptop Accessories/Laptop Adapters/Hako Laptop Adapters",
          "Computers/Laptop Accessories/Laptop Adapters/Hako Laptop Adapters",
          "Computers/Laptop Accessories/Laptop Bags/Sunlast Laptop Bags",
          "Computers/Laptop Accessories/Mouse Pads/FRENEMY Mouse Pads",
          "Computers/Laptop Accessories/USB Gadgets/APOLLO+ USB Gadgets",
          "Computers/Laptop Accessories/USB Gadgets/JRB USB Gadgets",
          "Computers/Laptop Accessories/USB Gadgets/JRB USB Gadgets",
          "Computers/Laptop Accessories/USB Gadgets/JRB USB Gadgets",
          "Computers/Network Components/Routers/D-Link Routers",
          "Computers/Software/Language Learning/Physical",
          "Computers/Storage/Pen Drives/HP Pen Drives",
          "Computers/Storage/Pen Drives/Shopizone Pen Drives",
          "Computers/Tablet Accessories/Cases & Covers/YGS Cases & Covers",
          "Computers/Tablet Accessories/Keyboards/RoQ Keyboards",
          "Home Decor & Festive Needs/Candles & Fragrances/Home Fragrances/Aroma Oils",
          "Home Decor & Festive Needs/Decorative Lighting & Lamps/Floor Lamp/Nutcase Floor Lamp",
          "Home Decor & Festive Needs/Decorative Lighting & Lamps/Lanterns/SHOPOJ Lanterns",
          "Home Decor & Festive Needs/Decorative Lighting & Lamps/Series Lights/VRCT Series Lights",
          "Home Decor & Festive Needs/Decorative Lighting & Lamps/Table Lamps/Brahmz Table Lamps",
          "Home Decor & Festive Needs/Decorative Lighting & Lamps/Table Lamps/Eternity Table Lamps",
          "Home Decor & Festive Needs/Flowers, Plants & Vases/Artificial Plants/Mayursflora Artificial Plants",
          "Home Decor & Festive Needs/Flowers, Plants & Vases/Artificial Plants/Miracle Retail Artificial Plants",
          "Home Decor & Festive Needs/Flowers, Plants & Vases/Artificial Plants/V Creations Artificial Plants",
          "Home Decor & Festive Needs/Flowers, Plants & Vases/Flower Vase/@home Flower Vase",
          "Home Decor & Festive Needs/Flowers, Plants & Vases/Flower Vase/@home Flower Vase",
          "Home Decor & Festive Needs/Garden & Leisure/Hammocks & Swings/Hammocks",
          "Home Decor & Festive Needs/Showpiece/Contemporary/Bharatcraft Contemporary",
          "Home Decor & Festive Needs/Showpiece/Contemporary/Services Junction Contemporary",
          "Home Decor & Festive Needs/Showpiece/Contemporary/Services Junction Contemporary",
          "Home Decor & Festive Needs/Showpiece/Gramophones/ROYLE KATOCH Gramophones",
          "Home Decor & Festive Needs/Showpieces/Fengshui/Reiki Crystal Products Fengshui",
          "Home Decor & Festive Needs/Showpieces/Fengshui/Reiki Crystal Products Fengshui",
          "Home Decor & Festive Needs/Table Decor & Handicrafts/Showpieces/Fengshui",
          "Home Decor & Festive Needs/Table Decor & Handicrafts/Showpieces/Human Figurines",
          "Home Decor & Festive Needs/Table Decor & Handicrafts/Showpieces/Human Figurines",
          "Home Decor & Festive Needs/Table Decor & Handicrafts/Showpieces/Human Figurines",
          "Home Decor & Festive Needs/Table Decor & Handicrafts/Showpieces/Human Figurines",
          "Home Decor & Festive Needs/Table Decor & Handicrafts/Showpieces/Religious Idols",
          "Home Decor & Festive Needs/Table Decor & Handicrafts/Showpieces/Religious Idols",
          "Home Decor & Festive Needs/Table Decor & Handicrafts/Showpieces/Religious Idols",
          "Home Decor & Festive Needs/Table Decor & Handicrafts/Showpieces/Religious Idols",
          "Home Decor & Festive Needs/Table Decor & Handicrafts/Showpieces/Religious Idols",
          "Home Decor & Festive Needs/Table Decor & Handicrafts/Showpieces/Religious Idols",
          "Home Decor & Festive Needs/Table Decor & Handicrafts/Showpieces/Religious Idols",
          "Home Decor & Festive Needs/Table Decor & Handicrafts/Showpieces/Religious Idols",
          "Home Decor & Festive Needs/Table Decor & Handicrafts/Showpieces/Religious Idols",
          "Home Decor & Festive Needs/Table Decor & Handicrafts/Showpieces/Religious Idols",
          "Home Decor & Festive Needs/Table Decor & Handicrafts/Showpieces/Religious Idols",
          "Home Decor & Festive Needs/Table Decor & Handicrafts/Showpieces/Religious Idols",
          "Home Decor & Festive Needs/Table Decor & Handicrafts/Showpieces/Religious Idols",
          "Home Decor & Festive Needs/Table Decor & Handicrafts/Showpieces/Religious Idols",
          "Home Decor & Festive Needs/Table Decor & Handicrafts/Showpieces/Religious Idols",
          "Home Decor & Festive Needs/Table Decor & Handicrafts/Table Decor/Hookah & Hookah Flavours",
          "Home Decor & Festive Needs/Table Decor & Handicrafts/Table Decor/Hookah & Hookah Flavours",
          "Home Decor & Festive Needs/Table Decor & Handicrafts/Table Decor/Hookah Mouth Tips",
          "Home Decor & Festive Needs/Wall Decor & Clocks/Clocks/Wall Clocks",
          "Home Decor & Festive Needs/Wall Decor & Clocks/Clocks/Wall Clocks",
          "Home Decor & Festive Needs/Wall Decor & Clocks/Clocks/Wall Clocks",
          "Home Decor & Festive Needs/Wall Decor & Clocks/Key Holders/Craftcart Key Holders",
          "Home Decor & Festive Needs/Wall Decor & Clocks/Key Holders/VarEesha Key Holders",
          "Home Decor & Festive Needs/Wall Decor & Clocks/Paintings/BRANDWAGON Paintings",
          "Home Decor & Festive Needs/Wall Decor & Clocks/Posters/Mega product Posters",
          "Home Decor & Festive Needs/Wall Decor & Clocks/Posters/STYLE CLUES FASHION Posters",
          "Home Decor & Festive Needs/Wall Decor & Clocks/Posters/Shoperite Posters",
          "Home Decor & Festive Needs/Wall Decor & Clocks/Posters/Urban Monk Posters",
          "Home Decor & Festive Needs/Wall Decor & Clocks/Wall Decals & Stickers/Smart Wall Guru Wall Decals & Stickers",
          "Home Decor & Festive Needs/Wall Decor & Clocks/Wall Decals & Stickers/Smart Wall Guru Wall Decals & Stickers",
          "Home Decor & Festive Needs/Wall Decor & Clocks/Wall Decals & Stickers/Wall Decal Wall Decals & Stickers",
          "Home Decor & Festive Needs/Wall Decor & Clocks/Wall Shelves/Innovative Wall Shelves",
          "Home Decor & Festive Needs/Wall Decor & Clocks/Wall Shelves/R&Mshoppee Wall Shelves",
          "Home Decor & Festive Needs/Wall Decor & Clocks/Wallpapers/wallskart Wallpapers",
          "Home Furnishing/Bed Linen/Bedsheets/JBC Collection Bedsheets",
          "Home Furnishing/Bed Linen/Bedsheets/Jaipur Print Bedsheets",
          "Home Furnishing/Bed Linen/Bedsheets/SANTOSH ROYAL FASHION Bedsheets",
          "Home Furnishing/Bed Linen/Duvet Covers/House This Duvet Covers",
          "Home Furnishing/Cushions, Pillows & Covers/Cushions/Furnishing Zone Cushions",
          "Home Furnishing/Kitchen & Dining Linen/Coasters/Craft Trade Coasters",
          "Home Furnishing/Kitchen & Dining Linen/Kitchen Linen Sets/Tidy Kitchen Linen Sets",
          "Home Furnishing/Living/Sofa Covers/Swastik Sofa Covers",
          "Home Furnishing/Living Room Furnishing/Diwan Sets/Jaipur Print Diwan Sets",
          "Home Furnishing/Living Room Furnishing/Diwan Sets/SANTOSH ROYAL FASHION Diwan Sets",
          "Kitchen & Dining/Bar & Glassware/Bar Accessories/Bottle Openers",
          "Kitchen & Dining/Bar & Glassware/Bar Accessories/Cork Screws",
          "Kitchen & Dining/Bar & Glassware/Bar Accessories/Cork Screws",
          "Kitchen & Dining/Bar & Glassware/Bar Glasses/Art n Beyond Bar Glasses",
          "Kitchen & Dining/Bar & Glassware/Bar Glasses/Ocean Bar Glasses",
          "Kitchen & Dining/Bar & Glassware/Bar Glasses/giftsthatwow Bar Glasses",
          "Kitchen & Dining/Bar & Glassware/Bar Glasses/giftsthatwow Bar Glasses",
          "Kitchen & Dining/Bar & Glassware/Bar Glasses/ocean Bar Glasses",
          "Kitchen & Dining/Consumables & Disposables/Bowls/Caffeine Bowls",
          "Kitchen & Dining/Containers & Bottles/Bottles & Sippers/Sippers",
          "Kitchen & Dining/Containers & Bottles/Bottles & Sippers/Water bottle",
          "Kitchen & Dining/Containers & Bottles/Bottles & Sippers/Water bottle",
          "Kitchen & Dining/Containers & Bottles/Containers & Jars/Kitchen Containers",
          "Kitchen & Dining/Containers & Bottles/Lunch Boxes/GAYATRI CREATIONS Lunch Boxes",
          "Kitchen & Dining/Containers & Bottles/Lunch Boxes/SKI Lunch Boxes",
          "Kitchen & Dining/Cookware/Casserole & Sets/Cookart Casserole & Sets",
          "Kitchen & Dining/Cookware/Pots & Pans/Cookware Pots",
          "Kitchen & Dining/Cookware/Pots & Pans/Pans & Tawas",
          "Kitchen & Dining/Cookware/Pots & Pans/Woks & Kadhais",
          "Kitchen & Dining/Cookware/Pots & Pans/Woks & Kadhais",
          "Kitchen & Dining/Cookware/Pots & Pans/Woks & Kadhais",
          "Kitchen & Dining/Cookware/Pots & Pans/Woks & Kadhais",
          "Kitchen & Dining/Cookware/Pots & Pans/Woks & Kadhais",
          "Kitchen & Dining/Cookware/Pots & Pans/Woks & Kadhais",
          "Kitchen & Dining/Cookware/Pots & Pans/Woks & Kadhais",
          "Kitchen & Dining/Cookware/Pots & Pans/Woks & Kadhais",
          "Kitchen & Dining/Cookware/Pots & Pans/Woks & Kadhais",
          "Kitchen & Dining/Cookware/Pots & Pans/Woks & Kadhais",
          "Kitchen & Dining/Cookware/Pots & Pans/Woks & Kadhais",
          "Kitchen & Dining/Cookware/Pots & Pans/Woks & Kadhais",
          "Kitchen & Dining/Cookware/Pots & Pans/Woks & Kadhais",
          "Kitchen & Dining/Cookware/Pots & Pans/Woks & Kadhais",
          "Kitchen & Dining/Cookware/Pots & Pans/Woks & Kadhais",
          "Kitchen & Dining/Cookware/Pots & Pans/Woks & Kadhais",
          "Kitchen & Dining/Cookware/Pots & Pans/Woks & Kadhais",
          "Kitchen & Dining/Cookware/Pots & Pans/Woks & Kadhais",
          "Kitchen & Dining/Cookware/Steamers & Idli Makers/Idli Makers",
          "Kitchen & Dining/Dinnerware & Crockery/Cups & Saucers/Buyer's Beach Cups & Saucers",
          "Kitchen & Dining/Housekeeping & Laundry/Home Cleaning/Brooms & Brushes",
          "Kitchen & Dining/Kitchen Tools/Choppers & Peelers/Graters & Slicers",
          "Kitchen & Dining/Kitchen Tools/Kitchen Implements/Hand Juicers",
          "Kitchen & Dining/Kitchen Tools/Kitchen Implements/Kitchen Scissors",
          "Kitchen & Dining/Kitchen Tools/Kitchen Implements/Pizza Cutters",
          "Kitchen & Dining/Kitchen Tools/Kitchen Implements/Pizza Cutters",
          "Kitchen & Dining/Kitchen Tools/Kitchen Implements/Pizza Cutters",
          "Kitchen & Dining/Kitchen Tools/Kitchen Implements/Pizza Cutters",
          "Kitchen & Dining/Kitchen Tools/Kitchen Implements/Pizza Cutters",
          "Kitchen & Dining/Kitchen Tools/Kitchen Implements/Pizza Cutters",
          "Kitchen & Dining/Kitchen Tools/Kitchen Implements/Pizza Cutters",
          "Kitchen & Dining/Kitchen Tools/Kitchen Implements/Pizza Cutters",
          "Kitchen & Dining/Kitchen Tools/Kitchen Implements/Pizza Cutters",
          "Kitchen & Dining/Kitchen Tools/Kitchen Implements/Pizza Cutters",
          "Kitchen & Dining/Kitchen Tools/Kitchen Tool Sets/King Traders Kitchen Tool Sets",
          "Kitchen & Dining/Lighting/Bulbs/BFT Bulbs",
          "Kitchen & Dining/Tableware & Cutlery/Cutlery/Forks",
          "Kitchen & Dining/Tableware & Cutlery/Jug, Glass & Tray Sets/Dungri India Craft Jug, Glass & Tray Sets",
          "Kitchen & Dining/Tableware & Cutlery/Jugs & Pitchers/Jugs",
          "Watches/Clocks/Table Clocks/Like Table Clocks",
          "Baby Care/Baby & Kids Gifts/Decorations",
          "Baby Care/Baby Bath & Skin/Baby Bath Towels",
          "Baby Care/Baby Bath & Skin/Baby Bath Towels",
          "Baby Care/Baby Bath & Skin/Baby Bath Towels",
          "Baby Care/Baby Bath & Skin/Baby Body Wash",
          "Baby Care/Baby Bath & Skin/Baby Body Wash",
          "Baby Care/Baby Bath & Skin/Baby Shower Caps",
          "Baby Care/Baby Bedding/Baby Bedsheets",
          "Baby Care/Baby Bedding/Baby Bedsheets",
          "Baby Care/Baby Bedding/Baby Bedsheets",
          "Baby Care/Baby Bedding/Baby Blankets",
          "Baby Care/Baby Bedding/Baby Mattresses",
          "Baby Care/Baby Bedding/Baby Mosquito Nets",
          "Baby Care/Baby Bedding/Baby Sleeping Bags",
          "Baby Care/Baby Grooming/Cotton Buds",
          "Baby Care/Diapering & Potty Training/Changing Tables",
          "Baby Care/Diapering & Potty Training/Diaper Bags",
          "Baby Care/Feeding & Nursing/Bibs & Hankies",
          "Baby Care/Feeding & Nursing/Bottles & Accessories",
          "Baby Care/Feeding & Nursing/Utensils",
          "Baby Care/Feeding & Nursing/Utensils",
          "Baby Care/Infant Wear/Baby Boys' Clothes",
          "Baby Care/Infant Wear/Baby Boys' Clothes",
          "Baby Care/Infant Wear/Baby Boys' Clothes",
          "Baby Care/Infant Wear/Baby Boys' Clothes",
          "Baby Care/Infant Wear/Baby Boys' Clothes",
          "Baby Care/Infant Wear/Baby Boys' Clothes",
          "Baby Care/Infant Wear/Baby Boys' Clothes",
          "Baby Care/Infant Wear/Baby Boys' Clothes",
          "Baby Care/Infant Wear/Baby Boys' Clothes",
          "Baby Care/Infant Wear/Baby Boys' Clothes",
          "Baby Care/Infant Wear/Baby Girls' Clothes",
          "Baby Care/Infant Wear/Baby Girls' Clothes",
          "Baby Care/Infant Wear/Baby Girls' Clothes",
          "Baby Care/Infant Wear/Baby Girls' Clothes",
          "Baby Care/Infant Wear/Baby Girls' Clothes",
          "Baby Care/Infant Wear/Baby Girls' Clothes",
          "Baby Care/Infant Wear/Baby Girls' Clothes",
          "Baby Care/Infant Wear/Baby Girls' Clothes",
          "Baby Care/Infant Wear/Baby Girls' Clothes",
          "Baby Care/Infant Wear/Baby Girls' Clothes",
          "Baby Care/Strollers & Activity Gear/Strollers & Prams",
          "Beauty and Personal Care/Bath and Spa/Bath and Spa Accessories",
          "Beauty and Personal Care/Bath and Spa/Body and Essential Oils",
          "Beauty and Personal Care/Bath and Spa/Soaps",
          "Beauty and Personal Care/Beauty Accessories/Makeup Accessories",
          "Beauty and Personal Care/Body and Skin Care/Face Care",
          "Beauty and Personal Care/Body and Skin Care/Hand Care",
          "Beauty and Personal Care/Body and Skin Care/Lip Care",
          "Beauty and Personal Care/Body and Skin Care/Lip Care",
          "Beauty and Personal Care/Fragrances/Deodorants",
          "Beauty and Personal Care/Fragrances/Deodorants",
          "Beauty and Personal Care/Hair Care/Conditioners",
          "Beauty and Personal Care/Hair Care/Conditioners",
          "Beauty and Personal Care/Hair Care/Conditioners",
          "Beauty and Personal Care/Hair Care/Conditioners",
          "Beauty and Personal Care/Hair Care/Hair Care Accessories",
          "Beauty and Personal Care/Hair Care/Hair Colors",
          "Beauty and Personal Care/Hair Care/Hair Colors",
          "Beauty and Personal Care/Hair Care/Shampoos",
          "Beauty and Personal Care/Health Care/Health Care Accessories",
          "Beauty and Personal Care/Health Care/Health Care Devices",
          "Beauty and Personal Care/Health Care/Health Care Devices",
          "Beauty and Personal Care/Health Care/Health Care Devices",
          "Beauty and Personal Care/Health Care/Health Care Devices",
          "Beauty and Personal Care/Health Care/Medical Equipment & Accessories",
          "Beauty and Personal Care/Health Care/Medicines & Treatment",
          "Beauty and Personal Care/Makeup/Eyes",
          "Beauty and Personal Care/Makeup/Lips",
          "Beauty and Personal Care/Makeup/Lips",
          "Beauty and Personal Care/Makeup/Nails",
          "Beauty and Personal Care/Makeup/Vanity Boxes",
          "Beauty and Personal Care/Makeup/Vanity Boxes",
          "Beauty and Personal Care/Makeup/Vanity Boxes",
          "Beauty and Personal Care/Makeup/Vanity Boxes",
          "Beauty and Personal Care/Women's Hygiene/Combo & kits",
          "Computers/Computer Components/Processors",
          "Computers/Computer Components/RAMs",
          "Computers/Computer Peripherals/CPU",
          "Computers/Computer Peripherals/Portable Projectors",
          "Computers/Computer Peripherals/Printers & Inks",
          "Computers/Laptop Accessories/Adapters",
          "Computers/Laptop Accessories/Cleaning Kits",
          "Computers/Laptop Accessories/Computer Accessories Combos",
          "Computers/Laptop Accessories/Laptop Adapters",
          "Computers/Laptop Accessories/Laptop Bags",
          "Computers/Laptop Accessories/Mouse Pads",
          "Computers/Laptop Accessories/USB Gadgets",
          "Computers/Laptop Accessories/USB Gadgets",
          "Computers/Network Components/Routers",
          "Computers/Software/Language Learning",
          "Computers/Storage/Pen Drives",
          "Computers/Storage/Pen Drives",
          "Computers/Tablet Accessories/Cases & Covers",
          "Computers/Tablet Accessories/Keyboards",
          "Home Decor & Festive Needs/Candles & Fragrances/Home Fragrances",
          "Home Decor & Festive Needs/Decorative Lighting & Lamps/Floor Lamp",
          "Home Decor & Festive Needs/Decorative Lighting & Lamps/Lanterns",
          "Home Decor & Festive Needs/Decorative Lighting & Lamps/Series Lights",
          "Home Decor & Festive Needs/Decorative Lighting & Lamps/Table Lamps",
          "Home Decor & Festive Needs/Decorative Lighting & Lamps/Table Lamps",
          "Home Decor & Festive Needs/Flowers, Plants & Vases/Artificial Plants",
          "Home Decor & Festive Needs/Flowers, Plants & Vases/Artificial Plants",
          "Home Decor & Festive Needs/Flowers, Plants & Vases/Artificial Plants",
          "Home Decor & Festive Needs/Flowers, Plants & Vases/Flower Vase",
          "Home Decor & Festive Needs/Garden & Leisure/Hammocks & Swings",
          "Home Decor & Festive Needs/Showpiece/Contemporary",
          "Home Decor & Festive Needs/Showpiece/Contemporary",
          "Home Decor & Festive Needs/Showpiece/Gramophones",
          "Home Decor & Festive Needs/Showpieces/Fengshui",
          "Home Decor & Festive Needs/Table Decor & Handicrafts/Showpieces",
          "Home Decor & Festive Needs/Table Decor & Handicrafts/Showpieces",
          "Home Decor & Festive Needs/Table Decor & Handicrafts/Showpieces",
          "Home Decor & Festive Needs/Table Decor & Handicrafts/Table Decor",
          "Home Decor & Festive Needs/Table Decor & Handicrafts/Table Decor",
          "Home Decor & Festive Needs/Wall Decor & Clocks/Clocks",
          "Home Decor & Festive Needs/Wall Decor & Clocks/Key Holders",
          "Home Decor & Festive Needs/Wall Decor & Clocks/Key Holders",
          "Home Decor & Festive Needs/Wall Decor & Clocks/Paintings",
          "Home Decor & Festive Needs/Wall Decor & Clocks/Posters",
          "Home Decor & Festive Needs/Wall Decor & Clocks/Posters",
          "Home Decor & Festive Needs/Wall Decor & Clocks/Posters",
          "Home Decor & Festive Needs/Wall Decor & Clocks/Posters",
          "Home Decor & Festive Needs/Wall Decor & Clocks/Wall Decals & Stickers",
          "Home Decor & Festive Needs/Wall Decor & Clocks/Wall Decals & Stickers",
          "Home Decor & Festive Needs/Wall Decor & Clocks/Wall Shelves",
          "Home Decor & Festive Needs/Wall Decor & Clocks/Wall Shelves",
          "Home Decor & Festive Needs/Wall Decor & Clocks/Wallpapers",
          "Home Furnishing/Bed Linen/Bedsheets",
          "Home Furnishing/Bed Linen/Bedsheets",
          "Home Furnishing/Bed Linen/Bedsheets",
          "Home Furnishing/Bed Linen/Duvet Covers",
          "Home Furnishing/Cushions, Pillows & Covers/Cushions",
          "Home Furnishing/Kitchen & Dining Linen/Coasters",
          "Home Furnishing/Kitchen & Dining Linen/Kitchen Linen Sets",
          "Home Furnishing/Living/Sofa Covers",
          "Home Furnishing/Living Room Furnishing/Diwan Sets",
          "Home Furnishing/Living Room Furnishing/Diwan Sets",
          "Kitchen & Dining/Bar & Glassware/Bar Accessories",
          "Kitchen & Dining/Bar & Glassware/Bar Accessories",
          "Kitchen & Dining/Bar & Glassware/Bar Glasses",
          "Kitchen & Dining/Bar & Glassware/Bar Glasses",
          "Kitchen & Dining/Bar & Glassware/Bar Glasses",
          "Kitchen & Dining/Bar & Glassware/Bar Glasses",
          "Kitchen & Dining/Consumables & Disposables/Bowls",
          "Kitchen & Dining/Containers & Bottles/Bottles & Sippers",
          "Kitchen & Dining/Containers & Bottles/Bottles & Sippers",
          "Kitchen & Dining/Containers & Bottles/Containers & Jars",
          "Kitchen & Dining/Containers & Bottles/Lunch Boxes",
          "Kitchen & Dining/Containers & Bottles/Lunch Boxes",
          "Kitchen & Dining/Cookware/Casserole & Sets",
          "Kitchen & Dining/Cookware/Pots & Pans",
          "Kitchen & Dining/Cookware/Pots & Pans",
          "Kitchen & Dining/Cookware/Pots & Pans",
          "Kitchen & Dining/Cookware/Steamers & Idli Makers",
          "Kitchen & Dining/Dinnerware & Crockery/Cups & Saucers",
          "Kitchen & Dining/Housekeeping & Laundry/Home Cleaning",
          "Kitchen & Dining/Kitchen Tools/Choppers & Peelers",
          "Kitchen & Dining/Kitchen Tools/Kitchen Implements",
          "Kitchen & Dining/Kitchen Tools/Kitchen Implements",
          "Kitchen & Dining/Kitchen Tools/Kitchen Implements",
          "Kitchen & Dining/Kitchen Tools/Kitchen Tool Sets",
          "Kitchen & Dining/Lighting/Bulbs",
          "Kitchen & Dining/Tableware & Cutlery/Cutlery",
          "Kitchen & Dining/Tableware & Cutlery/Jug, Glass & Tray Sets",
          "Kitchen & Dining/Tableware & Cutlery/Jugs & Pitchers",
          "Watches/Clocks/Table Clocks",
          "Baby Care/Baby & Kids Gifts",
          "Baby Care/Baby Bath & Skin",
          "Baby Care/Baby Bath & Skin",
          "Baby Care/Baby Bath & Skin",
          "Baby Care/Baby Bedding",
          "Baby Care/Baby Bedding",
          "Baby Care/Baby Bedding",
          "Baby Care/Baby Bedding",
          "Baby Care/Baby Bedding",
          "Baby Care/Baby Grooming",
          "Baby Care/Diapering & Potty Training",
          "Baby Care/Diapering & Potty Training",
          "Baby Care/Feeding & Nursing",
          "Baby Care/Feeding & Nursing",
          "Baby Care/Feeding & Nursing",
          "Baby Care/Infant Wear",
          "Baby Care/Infant Wear",
          "Baby Care/Strollers & Activity Gear",
          "Beauty and Personal Care/Bath and Spa",
          "Beauty and Personal Care/Bath and Spa",
          "Beauty and Personal Care/Bath and Spa",
          "Beauty and Personal Care/Beauty Accessories",
          "Beauty and Personal Care/Body and Skin Care",
          "Beauty and Personal Care/Body and Skin Care",
          "Beauty and Personal Care/Body and Skin Care",
          "Beauty and Personal Care/Fragrances",
          "Beauty and Personal Care/Hair Care",
          "Beauty and Personal Care/Hair Care",
          "Beauty and Personal Care/Hair Care",
          "Beauty and Personal Care/Hair Care",
          "Beauty and Personal Care/Health Care",
          "Beauty and Personal Care/Health Care",
          "Beauty and Personal Care/Health Care",
          "Beauty and Personal Care/Health Care",
          "Beauty and Personal Care/Makeup",
          "Beauty and Personal Care/Makeup",
          "Beauty and Personal Care/Makeup",
          "Beauty and Personal Care/Makeup",
          "Beauty and Personal Care/Women's Hygiene",
          "Computers/Computer Components",
          "Computers/Computer Components",
          "Computers/Computer Peripherals",
          "Computers/Computer Peripherals",
          "Computers/Computer Peripherals",
          "Computers/Laptop Accessories",
          "Computers/Laptop Accessories",
          "Computers/Laptop Accessories",
          "Computers/Laptop Accessories",
          "Computers/Laptop Accessories",
          "Computers/Laptop Accessories",
          "Computers/Laptop Accessories",
          "Computers/Network Components",
          "Computers/Software",
          "Computers/Storage",
          "Computers/Tablet Accessories",
          "Computers/Tablet Accessories",
          "Home Decor & Festive Needs/Candles & Fragrances",
          "Home Decor & Festive Needs/Decorative Lighting & Lamps",
          "Home Decor & Festive Needs/Decorative Lighting & Lamps",
          "Home Decor & Festive Needs/Decorative Lighting & Lamps",
          "Home Decor & Festive Needs/Decorative Lighting & Lamps",
          "Home Decor & Festive Needs/Flowers, Plants & Vases",
          "Home Decor & Festive Needs/Flowers, Plants & Vases",
          "Home Decor & Festive Needs/Garden & Leisure",
          "Home Decor & Festive Needs/Showpiece",
          "Home Decor & Festive Needs/Showpiece",
          "Home Decor & Festive Needs/Showpieces",
          "Home Decor & Festive Needs/Table Decor & Handicrafts",
          "Home Decor & Festive Needs/Table Decor & Handicrafts",
          "Home Decor & Festive Needs/Wall Decor & Clocks",
          "Home Decor & Festive Needs/Wall Decor & Clocks",
          "Home Decor & Festive Needs/Wall Decor & Clocks",
          "Home Decor & Festive Needs/Wall Decor & Clocks",
          "Home Decor & Festive Needs/Wall Decor & Clocks",
          "Home Decor & Festive Needs/Wall Decor & Clocks",
          "Home Decor & Festive Needs/Wall Decor & Clocks",
          "Home Furnishing/Bed Linen",
          "Home Furnishing/Bed Linen",
          "Home Furnishing/Cushions, Pillows & Covers",
          "Home Furnishing/Kitchen & Dining Linen",
          "Home Furnishing/Kitchen & Dining Linen",
          "Home Furnishing/Living",
          "Home Furnishing/Living Room Furnishing",
          "Kitchen & Dining/Bar & Glassware",
          "Kitchen & Dining/Bar & Glassware",
          "Kitchen & Dining/Consumables & Disposables",
          "Kitchen & Dining/Containers & Bottles",
          "Kitchen & Dining/Containers & Bottles",
          "Kitchen & Dining/Containers & Bottles",
          "Kitchen & Dining/Cookware",
          "Kitchen & Dining/Cookware",
          "Kitchen & Dining/Cookware",
          "Kitchen & Dining/Dinnerware & Crockery",
          "Kitchen & Dining/Housekeeping & Laundry",
          "Kitchen & Dining/Kitchen Tools",
          "Kitchen & Dining/Kitchen Tools",
          "Kitchen & Dining/Kitchen Tools",
          "Kitchen & Dining/Lighting",
          "Kitchen & Dining/Tableware & Cutlery",
          "Kitchen & Dining/Tableware & Cutlery",
          "Kitchen & Dining/Tableware & Cutlery",
          "Watches/Clocks",
          "Baby Care",
          "Baby Care",
          "Baby Care",
          "Baby Care",
          "Baby Care",
          "Baby Care",
          "Baby Care",
          "Baby Care",
          "Beauty and Personal Care",
          "Beauty and Personal Care",
          "Beauty and Personal Care",
          "Beauty and Personal Care",
          "Beauty and Personal Care",
          "Beauty and Personal Care",
          "Beauty and Personal Care",
          "Beauty and Personal Care",
          "Computers",
          "Computers",
          "Computers",
          "Computers",
          "Computers",
          "Computers",
          "Computers",
          "Home Decor & Festive Needs",
          "Home Decor & Festive Needs",
          "Home Decor & Festive Needs",
          "Home Decor & Festive Needs",
          "Home Decor & Festive Needs",
          "Home Decor & Festive Needs",
          "Home Decor & Festive Needs",
          "Home Decor & Festive Needs",
          "Home Furnishing",
          "Home Furnishing",
          "Home Furnishing",
          "Home Furnishing",
          "Home Furnishing",
          "Kitchen & Dining",
          "Kitchen & Dining",
          "Kitchen & Dining",
          "Kitchen & Dining",
          "Kitchen & Dining",
          "Kitchen & Dining",
          "Kitchen & Dining",
          "Kitchen & Dining",
          "Kitchen & Dining",
          "Watches",
          "",
          "",
          "",
          "",
          "",
          "",
          ""
         ],
         "type": "sunburst",
         "values": {
          "bdata": "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",
          "dtype": "f8"
         }
        }
       ],
       "layout": {
        "height": 1000,
        "legend": {
         "tracegroupgap": 0
        },
        "margin": {
         "b": 0,
         "l": 0,
         "r": 0,
         "t": 50
        },
        "template": {
         "data": {
          "bar": [
           {
            "error_x": {
             "color": "#2a3f5f"
            },
            "error_y": {
             "color": "#2a3f5f"
            },
            "marker": {
             "line": {
              "color": "#E5ECF6",
              "width": 0.5
             },
             "pattern": {
              "fillmode": "overlay",
              "size": 10,
              "solidity": 0.2
             }
            },
            "type": "bar"
           }
          ],
          "barpolar": [
           {
            "marker": {
             "line": {
              "color": "#E5ECF6",
              "width": 0.5
             },
             "pattern": {
              "fillmode": "overlay",
              "size": 10,
              "solidity": 0.2
             }
            },
            "type": "barpolar"
           }
          ],
          "carpet": [
           {
            "aaxis": {
             "endlinecolor": "#2a3f5f",
             "gridcolor": "white",
             "linecolor": "white",
             "minorgridcolor": "white",
             "startlinecolor": "#2a3f5f"
            },
            "baxis": {
             "endlinecolor": "#2a3f5f",
             "gridcolor": "white",
             "linecolor": "white",
             "minorgridcolor": "white",
             "startlinecolor": "#2a3f5f"
            },
            "type": "carpet"
           }
          ],
          "choropleth": [
           {
            "colorbar": {
             "outlinewidth": 0,
             "ticks": ""
            },
            "type": "choropleth"
           }
          ],
          "contour": [
           {
            "colorbar": {
             "outlinewidth": 0,
             "ticks": ""
            },
            "colorscale": [
             [
              0,
              "#0d0887"
             ],
             [
              0.1111111111111111,
              "#46039f"
             ],
             [
              0.2222222222222222,
              "#7201a8"
             ],
             [
              0.3333333333333333,
              "#9c179e"
             ],
             [
              0.4444444444444444,
              "#bd3786"
             ],
             [
              0.5555555555555556,
              "#d8576b"
             ],
             [
              0.6666666666666666,
              "#ed7953"
             ],
             [
              0.7777777777777778,
              "#fb9f3a"
             ],
             [
              0.8888888888888888,
              "#fdca26"
             ],
             [
              1,
              "#f0f921"
             ]
            ],
            "type": "contour"
           }
          ],
          "contourcarpet": [
           {
            "colorbar": {
             "outlinewidth": 0,
             "ticks": ""
            },
            "type": "contourcarpet"
           }
          ],
          "heatmap": [
           {
            "colorbar": {
             "outlinewidth": 0,
             "ticks": ""
            },
            "colorscale": [
             [
              0,
              "#0d0887"
             ],
             [
              0.1111111111111111,
              "#46039f"
             ],
             [
              0.2222222222222222,
              "#7201a8"
             ],
             [
              0.3333333333333333,
              "#9c179e"
             ],
             [
              0.4444444444444444,
              "#bd3786"
             ],
             [
              0.5555555555555556,
              "#d8576b"
             ],
             [
              0.6666666666666666,
              "#ed7953"
             ],
             [
              0.7777777777777778,
              "#fb9f3a"
             ],
             [
              0.8888888888888888,
              "#fdca26"
             ],
             [
              1,
              "#f0f921"
             ]
            ],
            "type": "heatmap"
           }
          ],
          "histogram": [
           {
            "marker": {
             "pattern": {
              "fillmode": "overlay",
              "size": 10,
              "solidity": 0.2
             }
            },
            "type": "histogram"
           }
          ],
          "histogram2d": [
           {
            "colorbar": {
             "outlinewidth": 0,
             "ticks": ""
            },
            "colorscale": [
             [
              0,
              "#0d0887"
             ],
             [
              0.1111111111111111,
              "#46039f"
             ],
             [
              0.2222222222222222,
              "#7201a8"
             ],
             [
              0.3333333333333333,
              "#9c179e"
             ],
             [
              0.4444444444444444,
              "#bd3786"
             ],
             [
              0.5555555555555556,
              "#d8576b"
             ],
             [
              0.6666666666666666,
              "#ed7953"
             ],
             [
              0.7777777777777778,
              "#fb9f3a"
             ],
             [
              0.8888888888888888,
              "#fdca26"
             ],
             [
              1,
              "#f0f921"
             ]
            ],
            "type": "histogram2d"
           }
          ],
          "histogram2dcontour": [
           {
            "colorbar": {
             "outlinewidth": 0,
             "ticks": ""
            },
            "colorscale": [
             [
              0,
              "#0d0887"
             ],
             [
              0.1111111111111111,
              "#46039f"
             ],
             [
              0.2222222222222222,
              "#7201a8"
             ],
             [
              0.3333333333333333,
              "#9c179e"
             ],
             [
              0.4444444444444444,
              "#bd3786"
             ],
             [
              0.5555555555555556,
              "#d8576b"
             ],
             [
              0.6666666666666666,
              "#ed7953"
             ],
             [
              0.7777777777777778,
              "#fb9f3a"
             ],
             [
              0.8888888888888888,
              "#fdca26"
             ],
             [
              1,
              "#f0f921"
             ]
            ],
            "type": "histogram2dcontour"
           }
          ],
          "mesh3d": [
           {
            "colorbar": {
             "outlinewidth": 0,
             "ticks": ""
            },
            "type": "mesh3d"
           }
          ],
          "parcoords": [
           {
            "line": {
             "colorbar": {
              "outlinewidth": 0,
              "ticks": ""
             }
            },
            "type": "parcoords"
           }
          ],
          "pie": [
           {
            "automargin": true,
            "type": "pie"
           }
          ],
          "scatter": [
           {
            "fillpattern": {
             "fillmode": "overlay",
             "size": 10,
             "solidity": 0.2
            },
            "type": "scatter"
           }
          ],
          "scatter3d": [
           {
            "line": {
             "colorbar": {
              "outlinewidth": 0,
              "ticks": ""
             }
            },
            "marker": {
             "colorbar": {
              "outlinewidth": 0,
              "ticks": ""
             }
            },
            "type": "scatter3d"
           }
          ],
          "scattercarpet": [
           {
            "marker": {
             "colorbar": {
              "outlinewidth": 0,
              "ticks": ""
             }
            },
            "type": "scattercarpet"
           }
          ],
          "scattergeo": [
           {
            "marker": {
             "colorbar": {
              "outlinewidth": 0,
              "ticks": ""
             }
            },
            "type": "scattergeo"
           }
          ],
          "scattergl": [
           {
            "marker": {
             "colorbar": {
              "outlinewidth": 0,
              "ticks": ""
             }
            },
            "type": "scattergl"
           }
          ],
          "scattermap": [
           {
            "marker": {
             "colorbar": {
              "outlinewidth": 0,
              "ticks": ""
             }
            },
            "type": "scattermap"
           }
          ],
          "scattermapbox": [
           {
            "marker": {
             "colorbar": {
              "outlinewidth": 0,
              "ticks": ""
             }
            },
            "type": "scattermapbox"
           }
          ],
          "scatterpolar": [
           {
            "marker": {
             "colorbar": {
              "outlinewidth": 0,
              "ticks": ""
             }
            },
            "type": "scatterpolar"
           }
          ],
          "scatterpolargl": [
           {
            "marker": {
             "colorbar": {
              "outlinewidth": 0,
              "ticks": ""
             }
            },
            "type": "scatterpolargl"
           }
          ],
          "scatterternary": [
           {
            "marker": {
             "colorbar": {
              "outlinewidth": 0,
              "ticks": ""
             }
            },
            "type": "scatterternary"
           }
          ],
          "surface": [
           {
            "colorbar": {
             "outlinewidth": 0,
             "ticks": ""
            },
            "colorscale": [
             [
              0,
              "#0d0887"
             ],
             [
              0.1111111111111111,
              "#46039f"
             ],
             [
              0.2222222222222222,
              "#7201a8"
             ],
             [
              0.3333333333333333,
              "#9c179e"
             ],
             [
              0.4444444444444444,
              "#bd3786"
             ],
             [
              0.5555555555555556,
              "#d8576b"
             ],
             [
              0.6666666666666666,
              "#ed7953"
             ],
             [
              0.7777777777777778,
              "#fb9f3a"
             ],
             [
              0.8888888888888888,
              "#fdca26"
             ],
             [
              1,
              "#f0f921"
             ]
            ],
            "type": "surface"
           }
          ],
          "table": [
           {
            "cells": {
             "fill": {
              "color": "#EBF0F8"
             },
             "line": {
              "color": "white"
             }
            },
            "header": {
             "fill": {
              "color": "#C8D4E3"
             },
             "line": {
              "color": "white"
             }
            },
            "type": "table"
           }
          ]
         },
         "layout": {
          "annotationdefaults": {
           "arrowcolor": "#2a3f5f",
           "arrowhead": 0,
           "arrowwidth": 1
          },
          "autotypenumbers": "strict",
          "coloraxis": {
           "colorbar": {
            "outlinewidth": 0,
            "ticks": ""
           }
          },
          "colorscale": {
           "diverging": [
            [
             0,
             "#8e0152"
            ],
            [
             0.1,
             "#c51b7d"
            ],
            [
             0.2,
             "#de77ae"
            ],
            [
             0.3,
             "#f1b6da"
            ],
            [
             0.4,
             "#fde0ef"
            ],
            [
             0.5,
             "#f7f7f7"
            ],
            [
             0.6,
             "#e6f5d0"
            ],
            [
             0.7,
             "#b8e186"
            ],
            [
             0.8,
             "#7fbc41"
            ],
            [
             0.9,
             "#4d9221"
            ],
            [
             1,
             "#276419"
            ]
           ],
           "sequential": [
            [
             0,
             "#0d0887"
            ],
            [
             0.1111111111111111,
             "#46039f"
            ],
            [
             0.2222222222222222,
             "#7201a8"
            ],
            [
             0.3333333333333333,
             "#9c179e"
            ],
            [
             0.4444444444444444,
             "#bd3786"
            ],
            [
             0.5555555555555556,
             "#d8576b"
            ],
            [
             0.6666666666666666,
             "#ed7953"
            ],
            [
             0.7777777777777778,
             "#fb9f3a"
            ],
            [
             0.8888888888888888,
             "#fdca26"
            ],
            [
             1,
             "#f0f921"
            ]
           ],
           "sequentialminus": [
            [
             0,
             "#0d0887"
            ],
            [
             0.1111111111111111,
             "#46039f"
            ],
            [
             0.2222222222222222,
             "#7201a8"
            ],
            [
             0.3333333333333333,
             "#9c179e"
            ],
            [
             0.4444444444444444,
             "#bd3786"
            ],
            [
             0.5555555555555556,
             "#d8576b"
            ],
            [
             0.6666666666666666,
             "#ed7953"
            ],
            [
             0.7777777777777778,
             "#fb9f3a"
            ],
            [
             0.8888888888888888,
             "#fdca26"
            ],
            [
             1,
             "#f0f921"
            ]
           ]
          },
          "colorway": [
           "#636efa",
           "#EF553B",
           "#00cc96",
           "#ab63fa",
           "#FFA15A",
           "#19d3f3",
           "#FF6692",
           "#B6E880",
           "#FF97FF",
           "#FECB52"
          ],
          "font": {
           "color": "#2a3f5f"
          },
          "geo": {
           "bgcolor": "white",
           "lakecolor": "white",
           "landcolor": "#E5ECF6",
           "showlakes": true,
           "showland": true,
           "subunitcolor": "white"
          },
          "hoverlabel": {
           "align": "left"
          },
          "hovermode": "closest",
          "mapbox": {
           "style": "light"
          },
          "paper_bgcolor": "white",
          "plot_bgcolor": "#E5ECF6",
          "polar": {
           "angularaxis": {
            "gridcolor": "white",
            "linecolor": "white",
            "ticks": ""
           },
           "bgcolor": "#E5ECF6",
           "radialaxis": {
            "gridcolor": "white",
            "linecolor": "white",
            "ticks": ""
           }
          },
          "scene": {
           "xaxis": {
            "backgroundcolor": "#E5ECF6",
            "gridcolor": "white",
            "gridwidth": 2,
            "linecolor": "white",
            "showbackground": true,
            "ticks": "",
            "zerolinecolor": "white"
           },
           "yaxis": {
            "backgroundcolor": "#E5ECF6",
            "gridcolor": "white",
            "gridwidth": 2,
            "linecolor": "white",
            "showbackground": true,
            "ticks": "",
            "zerolinecolor": "white"
           },
           "zaxis": {
            "backgroundcolor": "#E5ECF6",
            "gridcolor": "white",
            "gridwidth": 2,
            "linecolor": "white",
            "showbackground": true,
            "ticks": "",
            "zerolinecolor": "white"
           }
          },
          "shapedefaults": {
           "line": {
            "color": "#2a3f5f"
           }
          },
          "ternary": {
           "aaxis": {
            "gridcolor": "white",
            "linecolor": "white",
            "ticks": ""
           },
           "baxis": {
            "gridcolor": "white",
            "linecolor": "white",
            "ticks": ""
           },
           "bgcolor": "#E5ECF6",
           "caxis": {
            "gridcolor": "white",
            "linecolor": "white",
            "ticks": ""
           }
          },
          "title": {
           "x": 0.05
          },
          "xaxis": {
           "automargin": true,
           "gridcolor": "white",
           "linecolor": "white",
           "ticks": "",
           "title": {
            "standoff": 15
           },
           "zerolinecolor": "white",
           "zerolinewidth": 2
          },
          "yaxis": {
           "automargin": true,
           "gridcolor": "white",
           "linecolor": "white",
           "ticks": "",
           "title": {
            "standoff": 15
           },
           "zerolinecolor": "white",
           "zerolinewidth": 2
          }
         }
        },
        "title": {
         "text": "Product Category Hierarchy"
        },
        "uniformtext": {
         "minsize": 10,
         "mode": "hide"
        },
        "width": 1000
       }
      }
     },
     "metadata": {},
     "output_type": "display_data"
    }
   ],
   "source": [
    "# Create and display the radial category chart\n",
    "fig = category_analyzer.create_radial_category_chart3(max_depth=5)\n",
    "fig.show()"
   ]
  },
  {
   "cell_type": "markdown",
   "id": "f8f136d5",
   "metadata": {},
   "source": [
    "\n",
    "## 3. Basic NLP Classification Feasibility Study"
   ]
  },
  {
   "cell_type": "markdown",
   "id": "4504880f",
   "metadata": {},
   "source": [
    "### 3.1 Text Preprocessing\n",
    "**Steps**:\n",
    "- Clean text data\n",
    "- Remove stopwords\n",
    "- Perform stemming/lemmatization\n",
    "- Handle special characters"
   ]
  },
  {
   "cell_type": "code",
   "execution_count": 6,
   "id": "2a36fe70",
   "metadata": {},
   "outputs": [
    {
     "name": "stdout",
     "output_type": "stream",
     "text": [
      "\n",
      "Preprocessing Statistics:\n",
      "original_length: 58\n",
      "processed_length: 58\n",
      "original_words: 7\n",
      "processed_words: 7\n",
      "removed_stopwords: 0\n",
      "stopwords_percentage: 0.0\n",
      "reduction_percentage: 0.0\n",
      "unique_words_original: 7\n",
      "unique_words_processed: 7\n",
      "sample_removed_words: []\n",
      "\n",
      "Batch Statistics Summary:\n",
      "       original_length  processed_length  original_words  processed_words  \\\n",
      "count         5.000000          5.000000        5.000000         5.000000   \n",
      "mean         47.000000         47.000000        6.800000         6.800000   \n",
      "std          15.795569         15.795569        1.923538         1.923538   \n",
      "min          26.000000         26.000000        4.000000         4.000000   \n",
      "25%          35.000000         35.000000        6.000000         6.000000   \n",
      "50%          53.000000         53.000000        7.000000         7.000000   \n",
      "75%          58.000000         58.000000        8.000000         8.000000   \n",
      "max          63.000000         63.000000        9.000000         9.000000   \n",
      "\n",
      "       removed_stopwords  stopwords_percentage  reduction_percentage  \\\n",
      "count                5.0                   5.0                   5.0   \n",
      "mean                 0.0                   0.0                   0.0   \n",
      "std                  0.0                   0.0                   0.0   \n",
      "min                  0.0                   0.0                   0.0   \n",
      "25%                  0.0                   0.0                   0.0   \n",
      "50%                  0.0                   0.0                   0.0   \n",
      "75%                  0.0                   0.0                   0.0   \n",
      "max                  0.0                   0.0                   0.0   \n",
      "\n",
      "       unique_words_original  unique_words_processed  \n",
      "count               5.000000                5.000000  \n",
      "mean                6.800000                6.800000  \n",
      "std                 1.923538                1.923538  \n",
      "min                 4.000000                4.000000  \n",
      "25%                 6.000000                6.000000  \n",
      "50%                 7.000000                7.000000  \n",
      "75%                 8.000000                8.000000  \n",
      "max                 9.000000                9.000000  \n",
      "\n",
      "Processing Statistics:\n",
      "Total words before: 7631\n",
      "Total words after: 6512\n",
      "Word reduction: 14.66%\n",
      "Sample Text Processing Results:\n"
     ]
    },
    {
     "data": {
      "application/vnd.microsoft.datawrangler.viewer.v0+json": {
       "columns": [
        {
         "name": "index",
         "rawType": "int64",
         "type": "integer"
        },
        {
         "name": "Original",
         "rawType": "object",
         "type": "string"
        },
        {
         "name": "Lemmatized",
         "rawType": "object",
         "type": "string"
        }
       ],
       "ref": "485fcf15-fe18-4a99-8408-b985f7c23bff",
       "rows": [
        [
         "0",
         "Elegance Polyester Multicolor Abstract Eyelet Door Curtain",
         "elegance polyester multicolor abstract eyelet door curtain"
        ],
        [
         "1",
         "Sathiyas Cotton Bath Towel",
         "sathiyas cotton bath towel"
        ],
        [
         "2",
         "Eurospa Cotton Terry Face Towel Set",
         "eurospa cotton terry face towel set"
        ],
        [
         "3",
         "SANTOSH ROYAL FASHION Cotton Printed King sized Double Bedsheet",
         "santosh royal fashion cotton printed king sized double bedsheet"
        ],
        [
         "4",
         "Jaipur Print Cotton Floral King sized Double Bedsheet",
         "jaipur print cotton floral king sized double bedsheet"
        ]
       ],
       "shape": {
        "columns": 2,
        "rows": 5
       }
      },
      "text/html": [
       "<div>\n",
       "<style scoped>\n",
       "    .dataframe tbody tr th:only-of-type {\n",
       "        vertical-align: middle;\n",
       "    }\n",
       "\n",
       "    .dataframe tbody tr th {\n",
       "        vertical-align: top;\n",
       "    }\n",
       "\n",
       "    .dataframe thead th {\n",
       "        text-align: right;\n",
       "    }\n",
       "</style>\n",
       "<table border=\"1\" class=\"dataframe\">\n",
       "  <thead>\n",
       "    <tr style=\"text-align: right;\">\n",
       "      <th></th>\n",
       "      <th>Original</th>\n",
       "      <th>Lemmatized</th>\n",
       "    </tr>\n",
       "  </thead>\n",
       "  <tbody>\n",
       "    <tr>\n",
       "      <th>0</th>\n",
       "      <td>Elegance Polyester Multicolor Abstract Eyelet ...</td>\n",
       "      <td>elegance polyester multicolor abstract eyelet ...</td>\n",
       "    </tr>\n",
       "    <tr>\n",
       "      <th>1</th>\n",
       "      <td>Sathiyas Cotton Bath Towel</td>\n",
       "      <td>sathiyas cotton bath towel</td>\n",
       "    </tr>\n",
       "    <tr>\n",
       "      <th>2</th>\n",
       "      <td>Eurospa Cotton Terry Face Towel Set</td>\n",
       "      <td>eurospa cotton terry face towel set</td>\n",
       "    </tr>\n",
       "    <tr>\n",
       "      <th>3</th>\n",
       "      <td>SANTOSH ROYAL FASHION Cotton Printed King size...</td>\n",
       "      <td>santosh royal fashion cotton printed king size...</td>\n",
       "    </tr>\n",
       "    <tr>\n",
       "      <th>4</th>\n",
       "      <td>Jaipur Print Cotton Floral King sized Double B...</td>\n",
       "      <td>jaipur print cotton floral king sized double b...</td>\n",
       "    </tr>\n",
       "  </tbody>\n",
       "</table>\n",
       "</div>"
      ],
      "text/plain": [
       "                                            Original  \\\n",
       "0  Elegance Polyester Multicolor Abstract Eyelet ...   \n",
       "1                         Sathiyas Cotton Bath Towel   \n",
       "2                Eurospa Cotton Terry Face Towel Set   \n",
       "3  SANTOSH ROYAL FASHION Cotton Printed King size...   \n",
       "4  Jaipur Print Cotton Floral King sized Double B...   \n",
       "\n",
       "                                          Lemmatized  \n",
       "0  elegance polyester multicolor abstract eyelet ...  \n",
       "1                         sathiyas cotton bath towel  \n",
       "2                eurospa cotton terry face towel set  \n",
       "3  santosh royal fashion cotton printed king size...  \n",
       "4  jaipur print cotton floral king sized double b...  "
      ]
     },
     "execution_count": 6,
     "metadata": {},
     "output_type": "execute_result"
    }
   ],
   "source": [
    "from src.classes.preprocess_text import TextPreprocessor\n",
    "\n",
    "processor = TextPreprocessor()\n",
    "\n",
    "# Single text stats\n",
    "sample_text = df['product_name'].iloc[0]\n",
    "stats = processor.get_preprocessing_stats(sample_text)\n",
    "print(\"\\nPreprocessing Statistics:\")\n",
    "for key, value in stats.items():\n",
    "    print(f\"{key}: {value}\")\n",
    "\n",
    "# Batch statistics\n",
    "batch_stats = processor.get_batch_stats(df['product_name'].head())\n",
    "print(\"\\nBatch Statistics Summary:\")\n",
    "print(batch_stats.describe())\n",
    "\n",
    "# Create lemmatized product names column\n",
    "df['product_name_lemmatized'] = df['product_name'].apply(processor.preprocess)\n",
    "\n",
    "# Display sample comparisons\n",
    "comparison_df = pd.DataFrame({\n",
    "    'Original': df['product_name'].head(),\n",
    "    'Lemmatized': df['product_name_lemmatized'].head()\n",
    "})\n",
    "\n",
    "\n",
    "# Get processing statistics\n",
    "total_words_before = df['product_name'].str.split().str.len().sum()\n",
    "total_words_after = df['product_name_lemmatized'].str.split().str.len().sum()\n",
    "reduction = ((total_words_before - total_words_after) / total_words_before) * 100\n",
    "\n",
    "print(f\"\\nProcessing Statistics:\")\n",
    "print(f\"Total words before: {total_words_before}\")\n",
    "print(f\"Total words after: {total_words_after}\")\n",
    "print(f\"Word reduction: {reduction:.2f}%\")\n",
    "\n",
    "\n",
    "print(\"Sample Text Processing Results:\")\n",
    "comparison_df"
   ]
  },
  {
   "cell_type": "markdown",
   "id": "fa9b6ceb",
   "metadata": {},
   "source": [
    "### 3.2 Basic Text Encoding\n",
    "**Methods**:\n",
    "- Bag of Words (BoW)\n",
    "- TF-IDF Vectorization"
   ]
  },
  {
   "cell_type": "code",
   "execution_count": 7,
   "id": "154e9fce",
   "metadata": {},
   "outputs": [
    {
     "name": "stdout",
     "output_type": "stream",
     "text": [
      "\n",
      "Top features by TF-IDF score:\n",
      "      feature     score\n",
      "75        set  0.063150\n",
      "87      watch  0.061769\n",
      "18         cm  0.060559\n",
      "77  showpiece  0.058942\n",
      "2      analog  0.055595\n",
      "20      combo  0.050876\n",
      "4        baby  0.045023\n",
      "50        men  0.039020\n",
      "16    ceramic  0.036586\n",
      "54        mug  0.034973\n",
      "36       girl  0.034170\n",
      "12        boy  0.033933\n",
      "90      woman  0.028947\n",
      "22     cotton  0.028131\n",
      "85        usb  0.027226\n",
      "\n",
      "Bag of Words Feature Distribution:\n"
     ]
    },
    {
     "data": {
      "application/vnd.plotly.v1+json": {
       "config": {
        "plotlyServerURL": "https://plot.ly"
       },
       "data": [
        {
         "name": "Feature Importance",
         "type": "bar",
         "x": [
          "watch",
          "set",
          "analog",
          "cm",
          "showpiece",
          "baby",
          "combo",
          "ceramic",
          "men",
          "mug",
          "girl",
          "boy",
          "usb",
          "cotton",
          "woman",
          "single",
          "laptop",
          "double",
          "abstract",
          "blue",
          "light",
          "led",
          "towel",
          "printed",
          "multicolor",
          "design",
          "floral",
          "sticker",
          "prithish",
          "blanket",
          "cell",
          "black",
          "cover",
          "print",
          "maximum",
          "sonata",
          "gift",
          "rockmantra",
          "quilt",
          "kadhai",
          "battery",
          "dress",
          "gold",
          "comforter",
          "polyester",
          "red",
          "curtain",
          "eyelet",
          "cushion",
          "hp",
          "digital",
          "bath",
          "router",
          "color",
          "home",
          "door",
          "kit",
          "mini",
          "wall",
          "pc",
          "cream",
          "pink",
          "shape",
          "ml",
          "green",
          "inch",
          "time",
          "skin",
          "brown",
          "adapter",
          "printland",
          "plain",
          "pavilion",
          "pad",
          "table",
          "india",
          "charger",
          "art",
          "white",
          "portable",
          "craft",
          "pack",
          "wireless",
          "mouse",
          "casual"
         ],
         "y": {
          "bdata": "w/wRHWBvqz8IbajhJiqoP3eS2s0TE6c/LKdowF38oz8GcZLazROjP05g7uAqFKE/4bv2sqfloD/jMugC8FecP+Iy6ALwV5w/LKEJS+Odmz/iNF1/w8yZP09aj2uwtZg/bRMVjH3NlT8np2jAXfyTP0xeeWRXn5M/k84PKR5akD+SxMa6/BGNP5LExrr8EY0/2TLoAvBXjD+PyLCzo/uHP43IsLOj+4c/IqXzQ4qHhj8gpfNDioeGP7SBNtRwE4U/tIE21HAThT/971ccZFmEP0deeWRXn4M/ksyarErlgj+QzJqsSuWCP5DMmqxK5YI/2jq89D0rgj/aOrz0PSuCPyOp3TwxcYE/I6ndPDFxgT9sF/+EJLeAP2wX/4Qkt4A/bBf/hCS3gD9sC0GaL/p/P2wLQZov+n8/bAtBmi/6fz9sC0GaL/p/P2wLQZov+n8//+eDKhaGfj//54MqFoZ+P//ngyoWhn4/ksTGuvwRfT+SxMa6/BF9PyWhCUvjnXs/JaEJS+Odez+3fUzbySl6P7d9TNvJKXo/t31M28kpej/dNtL7lkF3P9020vuWQXc/3TbS+5ZBdz/dNtL7lkF3P28TFYx9zXU/bxMVjH3NdT9vExWMfc11P24TFYx9zXU/AfBXHGRZdD8B8FccZFl0PwHwVxxkWXQ/AfBXHGRZdD8B8FccZFl0PwHwVxxkWXQ/AfBXHGRZdD+TzJqsSuVyP5PMmqxK5XI/k8yarErlcj+TzJqsSuVyP5PMmqxK5XI/k8yarErlcj+TzJqsSuVyP5PMmqxK5XI/JandPDFxcT8lqd08MXFxPyWp3TwxcXE/JandPDFxcT8lqd08MXFxPyWp3TwxcXE/JandPDFxcT8lqd08MXFxP28LQZov+m8/bwtBmi/6bz8=",
          "dtype": "f8"
         }
        },
        {
         "line": {
          "color": "red"
         },
         "name": "Cumulative %",
         "type": "scatter",
         "x": [
          "watch",
          "set",
          "analog",
          "cm",
          "showpiece",
          "baby",
          "combo",
          "ceramic",
          "men",
          "mug",
          "girl",
          "boy",
          "usb",
          "cotton",
          "woman",
          "single",
          "laptop",
          "double",
          "abstract",
          "blue",
          "light",
          "led",
          "towel",
          "printed",
          "multicolor",
          "design",
          "floral",
          "sticker",
          "prithish",
          "blanket",
          "cell",
          "black",
          "cover",
          "print",
          "maximum",
          "sonata",
          "gift",
          "rockmantra",
          "quilt",
          "kadhai",
          "battery",
          "dress",
          "gold",
          "comforter",
          "polyester",
          "red",
          "curtain",
          "eyelet",
          "cushion",
          "hp",
          "digital",
          "bath",
          "router",
          "color",
          "home",
          "door",
          "kit",
          "mini",
          "wall",
          "pc",
          "cream",
          "pink",
          "shape",
          "ml",
          "green",
          "inch",
          "time",
          "skin",
          "brown",
          "adapter",
          "printland",
          "plain",
          "pavilion",
          "pad",
          "table",
          "india",
          "charger",
          "art",
          "white",
          "portable",
          "craft",
          "pack",
          "wireless",
          "mouse",
          "casual"
         ],
         "xaxis": "x",
         "y": {
          "bdata": "w/wRHWBvqz/mNF1/w8y5PxE/JbMmq8I/3Gg/Iz6qxz8eBeSZMW/MP5nODykeWtA/FaZuH9N20j9DKZ0fUjzUP3Gsyx/RAdY/hEZ8VK+71z/SGXKMe1jZP3cPK5PW49o/rmDsa65A3D8g6/JHdIDdPwWBOr5put4/7n3LoAvA3z8J2lDDTVTgPxv1O7aVyOA/5pVHdvU54T8IWRYF5JnhPyoc5ZPS+eE/v+r0vPBT4j9UuQTmDq7iP1uTValcAuM/Ym2mbKpW4z8izRf9D6jjP5uyqVqN9uM/zR1chSJC5D//iA6wt43kPzH0wNpM2eQ/HOWT0vkh5T8H1mbKpmrlP6xMWo9rsOU/UcNNVDD25T+vv2HmDDnmPw28dXjpe+Y/a7iJCsa+5j+COr5puv7mP5m88siuPuc/sD4nKKN+5z/HwFuHl77nP95CkOaL/uc/rkrlEpg76D9+Ujo/pHjoP05aj2uwteg/1+cEZdTv6D9gdXpe+CnpP6KIECU0Yek/5Jum62+Y6T/fNF1/w8zpP9rNExMXAeo/1WbKpmo16j9DC8LU7WPqP7GvuQJxkuo/H1SxMPTA6j+N+Khed+/qP7QiwVkSG+s/20zZVK1G6z8Cd/FPSHLrPymhCUvjnes/CVFCE5bG6z/pAHvbSO/rP8mws6P7F+w/qWDsa65A7D+JECU0YWnsP2nAXfwTkuw/SXCWxMa67D/ipe9ZkeDsP3vbSO9bBu0/FBGihCYs7T+tRvsZ8VHtP0Z8VK+7d+0/37GtRIad7T945wbaUMPtPxEdYG8b6e0/Y9jZ0f0L7j+1k1M04C7uPwdPzZbCUe4/WQpH+aR07j+rxcBbh5fuP/2AOr5puu4/Tzy0IEzd7j+h9y2DLgDvP6w4yLIoIO8/t3li4iJA7z8=",
          "dtype": "f8"
         },
         "yaxis": "y2"
        }
       ],
       "layout": {
        "showlegend": true,
        "template": {
         "data": {
          "bar": [
           {
            "error_x": {
             "color": "#2a3f5f"
            },
            "error_y": {
             "color": "#2a3f5f"
            },
            "marker": {
             "line": {
              "color": "#E5ECF6",
              "width": 0.5
             },
             "pattern": {
              "fillmode": "overlay",
              "size": 10,
              "solidity": 0.2
             }
            },
            "type": "bar"
           }
          ],
          "barpolar": [
           {
            "marker": {
             "line": {
              "color": "#E5ECF6",
              "width": 0.5
             },
             "pattern": {
              "fillmode": "overlay",
              "size": 10,
              "solidity": 0.2
             }
            },
            "type": "barpolar"
           }
          ],
          "carpet": [
           {
            "aaxis": {
             "endlinecolor": "#2a3f5f",
             "gridcolor": "white",
             "linecolor": "white",
             "minorgridcolor": "white",
             "startlinecolor": "#2a3f5f"
            },
            "baxis": {
             "endlinecolor": "#2a3f5f",
             "gridcolor": "white",
             "linecolor": "white",
             "minorgridcolor": "white",
             "startlinecolor": "#2a3f5f"
            },
            "type": "carpet"
           }
          ],
          "choropleth": [
           {
            "colorbar": {
             "outlinewidth": 0,
             "ticks": ""
            },
            "type": "choropleth"
           }
          ],
          "contour": [
           {
            "colorbar": {
             "outlinewidth": 0,
             "ticks": ""
            },
            "colorscale": [
             [
              0,
              "#0d0887"
             ],
             [
              0.1111111111111111,
              "#46039f"
             ],
             [
              0.2222222222222222,
              "#7201a8"
             ],
             [
              0.3333333333333333,
              "#9c179e"
             ],
             [
              0.4444444444444444,
              "#bd3786"
             ],
             [
              0.5555555555555556,
              "#d8576b"
             ],
             [
              0.6666666666666666,
              "#ed7953"
             ],
             [
              0.7777777777777778,
              "#fb9f3a"
             ],
             [
              0.8888888888888888,
              "#fdca26"
             ],
             [
              1,
              "#f0f921"
             ]
            ],
            "type": "contour"
           }
          ],
          "contourcarpet": [
           {
            "colorbar": {
             "outlinewidth": 0,
             "ticks": ""
            },
            "type": "contourcarpet"
           }
          ],
          "heatmap": [
           {
            "colorbar": {
             "outlinewidth": 0,
             "ticks": ""
            },
            "colorscale": [
             [
              0,
              "#0d0887"
             ],
             [
              0.1111111111111111,
              "#46039f"
             ],
             [
              0.2222222222222222,
              "#7201a8"
             ],
             [
              0.3333333333333333,
              "#9c179e"
             ],
             [
              0.4444444444444444,
              "#bd3786"
             ],
             [
              0.5555555555555556,
              "#d8576b"
             ],
             [
              0.6666666666666666,
              "#ed7953"
             ],
             [
              0.7777777777777778,
              "#fb9f3a"
             ],
             [
              0.8888888888888888,
              "#fdca26"
             ],
             [
              1,
              "#f0f921"
             ]
            ],
            "type": "heatmap"
           }
          ],
          "histogram": [
           {
            "marker": {
             "pattern": {
              "fillmode": "overlay",
              "size": 10,
              "solidity": 0.2
             }
            },
            "type": "histogram"
           }
          ],
          "histogram2d": [
           {
            "colorbar": {
             "outlinewidth": 0,
             "ticks": ""
            },
            "colorscale": [
             [
              0,
              "#0d0887"
             ],
             [
              0.1111111111111111,
              "#46039f"
             ],
             [
              0.2222222222222222,
              "#7201a8"
             ],
             [
              0.3333333333333333,
              "#9c179e"
             ],
             [
              0.4444444444444444,
              "#bd3786"
             ],
             [
              0.5555555555555556,
              "#d8576b"
             ],
             [
              0.6666666666666666,
              "#ed7953"
             ],
             [
              0.7777777777777778,
              "#fb9f3a"
             ],
             [
              0.8888888888888888,
              "#fdca26"
             ],
             [
              1,
              "#f0f921"
             ]
            ],
            "type": "histogram2d"
           }
          ],
          "histogram2dcontour": [
           {
            "colorbar": {
             "outlinewidth": 0,
             "ticks": ""
            },
            "colorscale": [
             [
              0,
              "#0d0887"
             ],
             [
              0.1111111111111111,
              "#46039f"
             ],
             [
              0.2222222222222222,
              "#7201a8"
             ],
             [
              0.3333333333333333,
              "#9c179e"
             ],
             [
              0.4444444444444444,
              "#bd3786"
             ],
             [
              0.5555555555555556,
              "#d8576b"
             ],
             [
              0.6666666666666666,
              "#ed7953"
             ],
             [
              0.7777777777777778,
              "#fb9f3a"
             ],
             [
              0.8888888888888888,
              "#fdca26"
             ],
             [
              1,
              "#f0f921"
             ]
            ],
            "type": "histogram2dcontour"
           }
          ],
          "mesh3d": [
           {
            "colorbar": {
             "outlinewidth": 0,
             "ticks": ""
            },
            "type": "mesh3d"
           }
          ],
          "parcoords": [
           {
            "line": {
             "colorbar": {
              "outlinewidth": 0,
              "ticks": ""
             }
            },
            "type": "parcoords"
           }
          ],
          "pie": [
           {
            "automargin": true,
            "type": "pie"
           }
          ],
          "scatter": [
           {
            "fillpattern": {
             "fillmode": "overlay",
             "size": 10,
             "solidity": 0.2
            },
            "type": "scatter"
           }
          ],
          "scatter3d": [
           {
            "line": {
             "colorbar": {
              "outlinewidth": 0,
              "ticks": ""
             }
            },
            "marker": {
             "colorbar": {
              "outlinewidth": 0,
              "ticks": ""
             }
            },
            "type": "scatter3d"
           }
          ],
          "scattercarpet": [
           {
            "marker": {
             "colorbar": {
              "outlinewidth": 0,
              "ticks": ""
             }
            },
            "type": "scattercarpet"
           }
          ],
          "scattergeo": [
           {
            "marker": {
             "colorbar": {
              "outlinewidth": 0,
              "ticks": ""
             }
            },
            "type": "scattergeo"
           }
          ],
          "scattergl": [
           {
            "marker": {
             "colorbar": {
              "outlinewidth": 0,
              "ticks": ""
             }
            },
            "type": "scattergl"
           }
          ],
          "scattermap": [
           {
            "marker": {
             "colorbar": {
              "outlinewidth": 0,
              "ticks": ""
             }
            },
            "type": "scattermap"
           }
          ],
          "scattermapbox": [
           {
            "marker": {
             "colorbar": {
              "outlinewidth": 0,
              "ticks": ""
             }
            },
            "type": "scattermapbox"
           }
          ],
          "scatterpolar": [
           {
            "marker": {
             "colorbar": {
              "outlinewidth": 0,
              "ticks": ""
             }
            },
            "type": "scatterpolar"
           }
          ],
          "scatterpolargl": [
           {
            "marker": {
             "colorbar": {
              "outlinewidth": 0,
              "ticks": ""
             }
            },
            "type": "scatterpolargl"
           }
          ],
          "scatterternary": [
           {
            "marker": {
             "colorbar": {
              "outlinewidth": 0,
              "ticks": ""
             }
            },
            "type": "scatterternary"
           }
          ],
          "surface": [
           {
            "colorbar": {
             "outlinewidth": 0,
             "ticks": ""
            },
            "colorscale": [
             [
              0,
              "#0d0887"
             ],
             [
              0.1111111111111111,
              "#46039f"
             ],
             [
              0.2222222222222222,
              "#7201a8"
             ],
             [
              0.3333333333333333,
              "#9c179e"
             ],
             [
              0.4444444444444444,
              "#bd3786"
             ],
             [
              0.5555555555555556,
              "#d8576b"
             ],
             [
              0.6666666666666666,
              "#ed7953"
             ],
             [
              0.7777777777777778,
              "#fb9f3a"
             ],
             [
              0.8888888888888888,
              "#fdca26"
             ],
             [
              1,
              "#f0f921"
             ]
            ],
            "type": "surface"
           }
          ],
          "table": [
           {
            "cells": {
             "fill": {
              "color": "#EBF0F8"
             },
             "line": {
              "color": "white"
             }
            },
            "header": {
             "fill": {
              "color": "#C8D4E3"
             },
             "line": {
              "color": "white"
             }
            },
            "type": "table"
           }
          ]
         },
         "layout": {
          "annotationdefaults": {
           "arrowcolor": "#2a3f5f",
           "arrowhead": 0,
           "arrowwidth": 1
          },
          "autotypenumbers": "strict",
          "coloraxis": {
           "colorbar": {
            "outlinewidth": 0,
            "ticks": ""
           }
          },
          "colorscale": {
           "diverging": [
            [
             0,
             "#8e0152"
            ],
            [
             0.1,
             "#c51b7d"
            ],
            [
             0.2,
             "#de77ae"
            ],
            [
             0.3,
             "#f1b6da"
            ],
            [
             0.4,
             "#fde0ef"
            ],
            [
             0.5,
             "#f7f7f7"
            ],
            [
             0.6,
             "#e6f5d0"
            ],
            [
             0.7,
             "#b8e186"
            ],
            [
             0.8,
             "#7fbc41"
            ],
            [
             0.9,
             "#4d9221"
            ],
            [
             1,
             "#276419"
            ]
           ],
           "sequential": [
            [
             0,
             "#0d0887"
            ],
            [
             0.1111111111111111,
             "#46039f"
            ],
            [
             0.2222222222222222,
             "#7201a8"
            ],
            [
             0.3333333333333333,
             "#9c179e"
            ],
            [
             0.4444444444444444,
             "#bd3786"
            ],
            [
             0.5555555555555556,
             "#d8576b"
            ],
            [
             0.6666666666666666,
             "#ed7953"
            ],
            [
             0.7777777777777778,
             "#fb9f3a"
            ],
            [
             0.8888888888888888,
             "#fdca26"
            ],
            [
             1,
             "#f0f921"
            ]
           ],
           "sequentialminus": [
            [
             0,
             "#0d0887"
            ],
            [
             0.1111111111111111,
             "#46039f"
            ],
            [
             0.2222222222222222,
             "#7201a8"
            ],
            [
             0.3333333333333333,
             "#9c179e"
            ],
            [
             0.4444444444444444,
             "#bd3786"
            ],
            [
             0.5555555555555556,
             "#d8576b"
            ],
            [
             0.6666666666666666,
             "#ed7953"
            ],
            [
             0.7777777777777778,
             "#fb9f3a"
            ],
            [
             0.8888888888888888,
             "#fdca26"
            ],
            [
             1,
             "#f0f921"
            ]
           ]
          },
          "colorway": [
           "#636efa",
           "#EF553B",
           "#00cc96",
           "#ab63fa",
           "#FFA15A",
           "#19d3f3",
           "#FF6692",
           "#B6E880",
           "#FF97FF",
           "#FECB52"
          ],
          "font": {
           "color": "#2a3f5f"
          },
          "geo": {
           "bgcolor": "white",
           "lakecolor": "white",
           "landcolor": "#E5ECF6",
           "showlakes": true,
           "showland": true,
           "subunitcolor": "white"
          },
          "hoverlabel": {
           "align": "left"
          },
          "hovermode": "closest",
          "mapbox": {
           "style": "light"
          },
          "paper_bgcolor": "white",
          "plot_bgcolor": "#E5ECF6",
          "polar": {
           "angularaxis": {
            "gridcolor": "white",
            "linecolor": "white",
            "ticks": ""
           },
           "bgcolor": "#E5ECF6",
           "radialaxis": {
            "gridcolor": "white",
            "linecolor": "white",
            "ticks": ""
           }
          },
          "scene": {
           "xaxis": {
            "backgroundcolor": "#E5ECF6",
            "gridcolor": "white",
            "gridwidth": 2,
            "linecolor": "white",
            "showbackground": true,
            "ticks": "",
            "zerolinecolor": "white"
           },
           "yaxis": {
            "backgroundcolor": "#E5ECF6",
            "gridcolor": "white",
            "gridwidth": 2,
            "linecolor": "white",
            "showbackground": true,
            "ticks": "",
            "zerolinecolor": "white"
           },
           "zaxis": {
            "backgroundcolor": "#E5ECF6",
            "gridcolor": "white",
            "gridwidth": 2,
            "linecolor": "white",
            "showbackground": true,
            "ticks": "",
            "zerolinecolor": "white"
           }
          },
          "shapedefaults": {
           "line": {
            "color": "#2a3f5f"
           }
          },
          "ternary": {
           "aaxis": {
            "gridcolor": "white",
            "linecolor": "white",
            "ticks": ""
           },
           "baxis": {
            "gridcolor": "white",
            "linecolor": "white",
            "ticks": ""
           },
           "bgcolor": "#E5ECF6",
           "caxis": {
            "gridcolor": "white",
            "linecolor": "white",
            "ticks": ""
           }
          },
          "title": {
           "x": 0.05
          },
          "xaxis": {
           "automargin": true,
           "gridcolor": "white",
           "linecolor": "white",
           "ticks": "",
           "title": {
            "standoff": 15
           },
           "zerolinecolor": "white",
           "zerolinewidth": 2
          },
          "yaxis": {
           "automargin": true,
           "gridcolor": "white",
           "linecolor": "white",
           "ticks": "",
           "title": {
            "standoff": 15
           },
           "zerolinecolor": "white",
           "zerolinewidth": 2
          }
         }
        },
        "title": {
         "text": "BoW Features (Top 98.0%)"
        },
        "xaxis": {
         "anchor": "y",
         "domain": [
          0,
          0.94
         ],
         "tickangle": 45,
         "title": {
          "text": "Features"
         }
        },
        "yaxis": {
         "anchor": "x",
         "domain": [
          0,
          1
         ],
         "title": {
          "text": "Importance %"
         }
        },
        "yaxis2": {
         "anchor": "x",
         "overlaying": "y",
         "side": "right",
         "title": {
          "text": "Cumulative %"
         }
        }
       }
      }
     },
     "metadata": {},
     "output_type": "display_data"
    },
    {
     "name": "stdout",
     "output_type": "stream",
     "text": [
      "\n",
      "TF-IDF Feature Distribution:\n"
     ]
    },
    {
     "data": {
      "application/vnd.plotly.v1+json": {
       "config": {
        "plotlyServerURL": "https://plot.ly"
       },
       "data": [
        {
         "name": "Feature Importance",
         "type": "bar",
         "x": [
          "set",
          "watch",
          "cm",
          "showpiece",
          "analog",
          "combo",
          "baby",
          "men",
          "ceramic",
          "mug",
          "girl",
          "boy",
          "woman",
          "cotton",
          "usb",
          "kadhai",
          "single",
          "towel",
          "double",
          "blue",
          "abstract",
          "led",
          "printed",
          "sticker",
          "laptop",
          "cover",
          "black",
          "sonata",
          "light",
          "multicolor",
          "prithish",
          "design",
          "dress",
          "rockmantra",
          "blanket",
          "gift",
          "maximum",
          "print",
          "floral",
          "router",
          "gold",
          "cushion",
          "red",
          "digital",
          "bath",
          "kit",
          "cream",
          "cell",
          "wall",
          "quilt",
          "pc",
          "color",
          "comforter",
          "battery",
          "pack",
          "inch",
          "hp",
          "ml",
          "printland",
          "mini",
          "polyester",
          "wireless",
          "table",
          "home",
          "art",
          "green",
          "time",
          "box",
          "curtain",
          "plain",
          "india",
          "pink",
          "adapter",
          "eyelet",
          "craft",
          "casual",
          "orange",
          "brown",
          "portable",
          "charger",
          "door",
          "white",
          "bedsheet",
          "shape",
          "series"
         ],
         "y": {
          "bdata": "6g1KeF0xpj+tGPZuKbWlP+7C0Co8SKU/RkqIyde2pD/OCum2qYmjP63i8kkp4aE/qQtYvSylnz/PLS3Z92ybP/x7Z3fztpk/YQOpDc6UmD8xiAKDUQSYP9jpswWa2Zc/LAAd0XhYlD+ONx1Ex8WTP/vYdh7NIpM/pOC8vMMBjT8YgnUy782MP9/lpXbjlYk/ruq2Cck3iT9Cihw+lXSIP/8f6P3i7oc/YzJKUbZ8hz+f4rk1/meGPxkmCWpQoYU/W41xYQ2BhT8AB/k5r2eFP33IKfH+94Q/6n6kq7oahD+HYBuY8fuDP+Q6CJMfoYM/sYasrIR7gz9TP74TZC2DP/5TKt0m6II/CWqI9xzCgj/fdceOEsKCPxwfWNhofoI/D1wb2Nhrgj/6GsUrz12CP0y7H269HII/xFp8OzqCgT8VjyHG502AP94sZOsZDoA/TASnDTuqfz95mGgW/RF/P8+dVL4a3X4/grqgZLSxfT+hOMcq8JR9P9441FIEa30/tfKBpn3Fez+17P8JJo57P9MmLoDQY3s/3afRj8THej+gROWYrJ96P5Lr85U5l3o/8C5MuchWej99bwwTSFp5P2zFa/rSUXk/oTbm+mVCeT//PNhUPhl5PxC9lHzvBHk/bt4Rxz3KeD/ovOKEGJd4P7byTVDTMng/S9aEk9MjeD/elh8fqRx4PxZEJAYp8Hc/Z8PYtr9adz90RMLvrS53P+UJkqPs13U/26AH9mHWdT/9ymfkrMN1P7eNQJuxb3U/EZZqRrMgdT/wnVS2U890P1pKNTRpynQ/NY4mvOpicz//aCzXcUFzP2xFKe8993I/HTQIsbPUcj+DznzEcLByP7EvamtirnI/6H+A9TZZcj/YuMaAyA9yPwT5B7zvaXE/f1bCuDm/cD8=",
          "dtype": "f8"
         }
        },
        {
         "line": {
          "color": "red"
         },
         "name": "Cumulative %",
         "type": "scatter",
         "x": [
          "set",
          "watch",
          "cm",
          "showpiece",
          "analog",
          "combo",
          "baby",
          "men",
          "ceramic",
          "mug",
          "girl",
          "boy",
          "woman",
          "cotton",
          "usb",
          "kadhai",
          "single",
          "towel",
          "double",
          "blue",
          "abstract",
          "led",
          "printed",
          "sticker",
          "laptop",
          "cover",
          "black",
          "sonata",
          "light",
          "multicolor",
          "prithish",
          "design",
          "dress",
          "rockmantra",
          "blanket",
          "gift",
          "maximum",
          "print",
          "floral",
          "router",
          "gold",
          "cushion",
          "red",
          "digital",
          "bath",
          "kit",
          "cream",
          "cell",
          "wall",
          "quilt",
          "pc",
          "color",
          "comforter",
          "battery",
          "pack",
          "inch",
          "hp",
          "ml",
          "printland",
          "mini",
          "polyester",
          "wireless",
          "table",
          "home",
          "art",
          "green",
          "time",
          "box",
          "curtain",
          "plain",
          "india",
          "pink",
          "adapter",
          "eyelet",
          "craft",
          "casual",
          "orange",
          "brown",
          "portable",
          "charger",
          "door",
          "white",
          "bedsheet",
          "shape",
          "series"
         ],
         "xaxis": "x",
         "y": {
          "bdata": "6g1KeF0xpj9ME6BzQ/O1P2I6hMSwS8A/9EzmtmZ5xT+oj6Ak0VvKP1NIHXcb1M4/5CRkh2Bk0T/B9/YEMBvTP4FvbTyfttQ/t/9HHew/1j86KHg1McDXP9hm09XKPdk/2zblYlKD2j9UCifXrr/bP+R3Dqnb8dw/6V70xunZ3T/6CohAWcDePyk6PVwIjd8/v3hFUmMr4D/o6j2nNY3gP2iLNTPx7OA/MrR6DORK4T+8m1EFhKThP1TA+UYJ++E/iYZ/fA1R4j+lamc5rKbiP8cRLDWM+uI/w6PaH/dK4z9FETvm5prjPzEyh2Rr6eM/TOQ5d1k35D9J3YgHD4TkP5mG/aKvz+Q/QajbFrga5T8YxhZhwGXlP5QmeAS6r+U/BJTYZ2n55T9wqIek4ELmP10nQJpTi+Y/yBgug1zR5j8En0YilBLnP7cv9InMUuc/wH0PACGS5z/xTjz6RNDnPy34uC//Deg/ojmCmGJJ6D8TyNd4jIToP4VwfYFiv+g/anTKfO326D9DdN7ICS7pP5HQ3mnRZOk/4XP+8mCa6T9qPjBMoM/pP0EmXL/OBOo/n77OUHw56j9+1/TgMGzqPwmv6YbUnuo/dnvfUlnR6j/wK4nPiwPrP2pVgq6VNes/J3kQKipn6z+hPhpbWJjrP4baugG+yOs/M+ThqAX56z9hIyD7PinsP+lrLE0fWew/cB2azNSH7D/5oXkoMrbsPw3GwAHi4ew/T9WsxY4N7T/lpHUfFjntPwAmrIL1Y+0/LPs46TaO7T9opKWQ1bftP/0ODmNq4e0/GVyGODAI7j/rtDQcsy7uP3YHE5ihVO4/3hd1/0p67j97Ef7gq5/uP9rl1KUIxe4/2ua/E7vp7j9MdMGk2g3vPz6EOYSuMO8/6wir9yxS7z8=",
          "dtype": "f8"
         },
         "yaxis": "y2"
        }
       ],
       "layout": {
        "showlegend": true,
        "template": {
         "data": {
          "bar": [
           {
            "error_x": {
             "color": "#2a3f5f"
            },
            "error_y": {
             "color": "#2a3f5f"
            },
            "marker": {
             "line": {
              "color": "#E5ECF6",
              "width": 0.5
             },
             "pattern": {
              "fillmode": "overlay",
              "size": 10,
              "solidity": 0.2
             }
            },
            "type": "bar"
           }
          ],
          "barpolar": [
           {
            "marker": {
             "line": {
              "color": "#E5ECF6",
              "width": 0.5
             },
             "pattern": {
              "fillmode": "overlay",
              "size": 10,
              "solidity": 0.2
             }
            },
            "type": "barpolar"
           }
          ],
          "carpet": [
           {
            "aaxis": {
             "endlinecolor": "#2a3f5f",
             "gridcolor": "white",
             "linecolor": "white",
             "minorgridcolor": "white",
             "startlinecolor": "#2a3f5f"
            },
            "baxis": {
             "endlinecolor": "#2a3f5f",
             "gridcolor": "white",
             "linecolor": "white",
             "minorgridcolor": "white",
             "startlinecolor": "#2a3f5f"
            },
            "type": "carpet"
           }
          ],
          "choropleth": [
           {
            "colorbar": {
             "outlinewidth": 0,
             "ticks": ""
            },
            "type": "choropleth"
           }
          ],
          "contour": [
           {
            "colorbar": {
             "outlinewidth": 0,
             "ticks": ""
            },
            "colorscale": [
             [
              0,
              "#0d0887"
             ],
             [
              0.1111111111111111,
              "#46039f"
             ],
             [
              0.2222222222222222,
              "#7201a8"
             ],
             [
              0.3333333333333333,
              "#9c179e"
             ],
             [
              0.4444444444444444,
              "#bd3786"
             ],
             [
              0.5555555555555556,
              "#d8576b"
             ],
             [
              0.6666666666666666,
              "#ed7953"
             ],
             [
              0.7777777777777778,
              "#fb9f3a"
             ],
             [
              0.8888888888888888,
              "#fdca26"
             ],
             [
              1,
              "#f0f921"
             ]
            ],
            "type": "contour"
           }
          ],
          "contourcarpet": [
           {
            "colorbar": {
             "outlinewidth": 0,
             "ticks": ""
            },
            "type": "contourcarpet"
           }
          ],
          "heatmap": [
           {
            "colorbar": {
             "outlinewidth": 0,
             "ticks": ""
            },
            "colorscale": [
             [
              0,
              "#0d0887"
             ],
             [
              0.1111111111111111,
              "#46039f"
             ],
             [
              0.2222222222222222,
              "#7201a8"
             ],
             [
              0.3333333333333333,
              "#9c179e"
             ],
             [
              0.4444444444444444,
              "#bd3786"
             ],
             [
              0.5555555555555556,
              "#d8576b"
             ],
             [
              0.6666666666666666,
              "#ed7953"
             ],
             [
              0.7777777777777778,
              "#fb9f3a"
             ],
             [
              0.8888888888888888,
              "#fdca26"
             ],
             [
              1,
              "#f0f921"
             ]
            ],
            "type": "heatmap"
           }
          ],
          "histogram": [
           {
            "marker": {
             "pattern": {
              "fillmode": "overlay",
              "size": 10,
              "solidity": 0.2
             }
            },
            "type": "histogram"
           }
          ],
          "histogram2d": [
           {
            "colorbar": {
             "outlinewidth": 0,
             "ticks": ""
            },
            "colorscale": [
             [
              0,
              "#0d0887"
             ],
             [
              0.1111111111111111,
              "#46039f"
             ],
             [
              0.2222222222222222,
              "#7201a8"
             ],
             [
              0.3333333333333333,
              "#9c179e"
             ],
             [
              0.4444444444444444,
              "#bd3786"
             ],
             [
              0.5555555555555556,
              "#d8576b"
             ],
             [
              0.6666666666666666,
              "#ed7953"
             ],
             [
              0.7777777777777778,
              "#fb9f3a"
             ],
             [
              0.8888888888888888,
              "#fdca26"
             ],
             [
              1,
              "#f0f921"
             ]
            ],
            "type": "histogram2d"
           }
          ],
          "histogram2dcontour": [
           {
            "colorbar": {
             "outlinewidth": 0,
             "ticks": ""
            },
            "colorscale": [
             [
              0,
              "#0d0887"
             ],
             [
              0.1111111111111111,
              "#46039f"
             ],
             [
              0.2222222222222222,
              "#7201a8"
             ],
             [
              0.3333333333333333,
              "#9c179e"
             ],
             [
              0.4444444444444444,
              "#bd3786"
             ],
             [
              0.5555555555555556,
              "#d8576b"
             ],
             [
              0.6666666666666666,
              "#ed7953"
             ],
             [
              0.7777777777777778,
              "#fb9f3a"
             ],
             [
              0.8888888888888888,
              "#fdca26"
             ],
             [
              1,
              "#f0f921"
             ]
            ],
            "type": "histogram2dcontour"
           }
          ],
          "mesh3d": [
           {
            "colorbar": {
             "outlinewidth": 0,
             "ticks": ""
            },
            "type": "mesh3d"
           }
          ],
          "parcoords": [
           {
            "line": {
             "colorbar": {
              "outlinewidth": 0,
              "ticks": ""
             }
            },
            "type": "parcoords"
           }
          ],
          "pie": [
           {
            "automargin": true,
            "type": "pie"
           }
          ],
          "scatter": [
           {
            "fillpattern": {
             "fillmode": "overlay",
             "size": 10,
             "solidity": 0.2
            },
            "type": "scatter"
           }
          ],
          "scatter3d": [
           {
            "line": {
             "colorbar": {
              "outlinewidth": 0,
              "ticks": ""
             }
            },
            "marker": {
             "colorbar": {
              "outlinewidth": 0,
              "ticks": ""
             }
            },
            "type": "scatter3d"
           }
          ],
          "scattercarpet": [
           {
            "marker": {
             "colorbar": {
              "outlinewidth": 0,
              "ticks": ""
             }
            },
            "type": "scattercarpet"
           }
          ],
          "scattergeo": [
           {
            "marker": {
             "colorbar": {
              "outlinewidth": 0,
              "ticks": ""
             }
            },
            "type": "scattergeo"
           }
          ],
          "scattergl": [
           {
            "marker": {
             "colorbar": {
              "outlinewidth": 0,
              "ticks": ""
             }
            },
            "type": "scattergl"
           }
          ],
          "scattermap": [
           {
            "marker": {
             "colorbar": {
              "outlinewidth": 0,
              "ticks": ""
             }
            },
            "type": "scattermap"
           }
          ],
          "scattermapbox": [
           {
            "marker": {
             "colorbar": {
              "outlinewidth": 0,
              "ticks": ""
             }
            },
            "type": "scattermapbox"
           }
          ],
          "scatterpolar": [
           {
            "marker": {
             "colorbar": {
              "outlinewidth": 0,
              "ticks": ""
             }
            },
            "type": "scatterpolar"
           }
          ],
          "scatterpolargl": [
           {
            "marker": {
             "colorbar": {
              "outlinewidth": 0,
              "ticks": ""
             }
            },
            "type": "scatterpolargl"
           }
          ],
          "scatterternary": [
           {
            "marker": {
             "colorbar": {
              "outlinewidth": 0,
              "ticks": ""
             }
            },
            "type": "scatterternary"
           }
          ],
          "surface": [
           {
            "colorbar": {
             "outlinewidth": 0,
             "ticks": ""
            },
            "colorscale": [
             [
              0,
              "#0d0887"
             ],
             [
              0.1111111111111111,
              "#46039f"
             ],
             [
              0.2222222222222222,
              "#7201a8"
             ],
             [
              0.3333333333333333,
              "#9c179e"
             ],
             [
              0.4444444444444444,
              "#bd3786"
             ],
             [
              0.5555555555555556,
              "#d8576b"
             ],
             [
              0.6666666666666666,
              "#ed7953"
             ],
             [
              0.7777777777777778,
              "#fb9f3a"
             ],
             [
              0.8888888888888888,
              "#fdca26"
             ],
             [
              1,
              "#f0f921"
             ]
            ],
            "type": "surface"
           }
          ],
          "table": [
           {
            "cells": {
             "fill": {
              "color": "#EBF0F8"
             },
             "line": {
              "color": "white"
             }
            },
            "header": {
             "fill": {
              "color": "#C8D4E3"
             },
             "line": {
              "color": "white"
             }
            },
            "type": "table"
           }
          ]
         },
         "layout": {
          "annotationdefaults": {
           "arrowcolor": "#2a3f5f",
           "arrowhead": 0,
           "arrowwidth": 1
          },
          "autotypenumbers": "strict",
          "coloraxis": {
           "colorbar": {
            "outlinewidth": 0,
            "ticks": ""
           }
          },
          "colorscale": {
           "diverging": [
            [
             0,
             "#8e0152"
            ],
            [
             0.1,
             "#c51b7d"
            ],
            [
             0.2,
             "#de77ae"
            ],
            [
             0.3,
             "#f1b6da"
            ],
            [
             0.4,
             "#fde0ef"
            ],
            [
             0.5,
             "#f7f7f7"
            ],
            [
             0.6,
             "#e6f5d0"
            ],
            [
             0.7,
             "#b8e186"
            ],
            [
             0.8,
             "#7fbc41"
            ],
            [
             0.9,
             "#4d9221"
            ],
            [
             1,
             "#276419"
            ]
           ],
           "sequential": [
            [
             0,
             "#0d0887"
            ],
            [
             0.1111111111111111,
             "#46039f"
            ],
            [
             0.2222222222222222,
             "#7201a8"
            ],
            [
             0.3333333333333333,
             "#9c179e"
            ],
            [
             0.4444444444444444,
             "#bd3786"
            ],
            [
             0.5555555555555556,
             "#d8576b"
            ],
            [
             0.6666666666666666,
             "#ed7953"
            ],
            [
             0.7777777777777778,
             "#fb9f3a"
            ],
            [
             0.8888888888888888,
             "#fdca26"
            ],
            [
             1,
             "#f0f921"
            ]
           ],
           "sequentialminus": [
            [
             0,
             "#0d0887"
            ],
            [
             0.1111111111111111,
             "#46039f"
            ],
            [
             0.2222222222222222,
             "#7201a8"
            ],
            [
             0.3333333333333333,
             "#9c179e"
            ],
            [
             0.4444444444444444,
             "#bd3786"
            ],
            [
             0.5555555555555556,
             "#d8576b"
            ],
            [
             0.6666666666666666,
             "#ed7953"
            ],
            [
             0.7777777777777778,
             "#fb9f3a"
            ],
            [
             0.8888888888888888,
             "#fdca26"
            ],
            [
             1,
             "#f0f921"
            ]
           ]
          },
          "colorway": [
           "#636efa",
           "#EF553B",
           "#00cc96",
           "#ab63fa",
           "#FFA15A",
           "#19d3f3",
           "#FF6692",
           "#B6E880",
           "#FF97FF",
           "#FECB52"
          ],
          "font": {
           "color": "#2a3f5f"
          },
          "geo": {
           "bgcolor": "white",
           "lakecolor": "white",
           "landcolor": "#E5ECF6",
           "showlakes": true,
           "showland": true,
           "subunitcolor": "white"
          },
          "hoverlabel": {
           "align": "left"
          },
          "hovermode": "closest",
          "mapbox": {
           "style": "light"
          },
          "paper_bgcolor": "white",
          "plot_bgcolor": "#E5ECF6",
          "polar": {
           "angularaxis": {
            "gridcolor": "white",
            "linecolor": "white",
            "ticks": ""
           },
           "bgcolor": "#E5ECF6",
           "radialaxis": {
            "gridcolor": "white",
            "linecolor": "white",
            "ticks": ""
           }
          },
          "scene": {
           "xaxis": {
            "backgroundcolor": "#E5ECF6",
            "gridcolor": "white",
            "gridwidth": 2,
            "linecolor": "white",
            "showbackground": true,
            "ticks": "",
            "zerolinecolor": "white"
           },
           "yaxis": {
            "backgroundcolor": "#E5ECF6",
            "gridcolor": "white",
            "gridwidth": 2,
            "linecolor": "white",
            "showbackground": true,
            "ticks": "",
            "zerolinecolor": "white"
           },
           "zaxis": {
            "backgroundcolor": "#E5ECF6",
            "gridcolor": "white",
            "gridwidth": 2,
            "linecolor": "white",
            "showbackground": true,
            "ticks": "",
            "zerolinecolor": "white"
           }
          },
          "shapedefaults": {
           "line": {
            "color": "#2a3f5f"
           }
          },
          "ternary": {
           "aaxis": {
            "gridcolor": "white",
            "linecolor": "white",
            "ticks": ""
           },
           "baxis": {
            "gridcolor": "white",
            "linecolor": "white",
            "ticks": ""
           },
           "bgcolor": "#E5ECF6",
           "caxis": {
            "gridcolor": "white",
            "linecolor": "white",
            "ticks": ""
           }
          },
          "title": {
           "x": 0.05
          },
          "xaxis": {
           "automargin": true,
           "gridcolor": "white",
           "linecolor": "white",
           "ticks": "",
           "title": {
            "standoff": 15
           },
           "zerolinecolor": "white",
           "zerolinewidth": 2
          },
          "yaxis": {
           "automargin": true,
           "gridcolor": "white",
           "linecolor": "white",
           "ticks": "",
           "title": {
            "standoff": 15
           },
           "zerolinecolor": "white",
           "zerolinewidth": 2
          }
         }
        },
        "title": {
         "text": "TF-IDF Features (Top 98.0%)"
        },
        "xaxis": {
         "anchor": "y",
         "domain": [
          0,
          0.94
         ],
         "tickangle": 45,
         "title": {
          "text": "Features"
         }
        },
        "yaxis": {
         "anchor": "x",
         "domain": [
          0,
          1
         ],
         "title": {
          "text": "Importance %"
         }
        },
        "yaxis2": {
         "anchor": "x",
         "overlaying": "y",
         "side": "right",
         "title": {
          "text": "Cumulative %"
         }
        }
       }
      }
     },
     "metadata": {},
     "output_type": "display_data"
    },
    {
     "name": "stdout",
     "output_type": "stream",
     "text": [
      "\n",
      "Feature Comparison:\n"
     ]
    },
    {
     "name": "stderr",
     "output_type": "stream",
     "text": [
      "/Users/najia/git_repo/mission6/src/classes/encode_text.py:143: SettingWithCopyWarning:\n",
      "\n",
      "\n",
      "A value is trying to be set on a copy of a slice from a DataFrame.\n",
      "Try using .loc[row_indexer,col_indexer] = value instead\n",
      "\n",
      "See the caveats in the documentation: https://pandas.pydata.org/pandas-docs/stable/user_guide/indexing.html#returning-a-view-versus-a-copy\n",
      "\n"
     ]
    },
    {
     "data": {
      "application/vnd.plotly.v1+json": {
       "config": {
        "plotlyServerURL": "https://plot.ly"
       },
       "data": [
        {
         "name": "BoW",
         "offset": -0.2,
         "type": "bar",
         "width": 0.4,
         "x": [
          "watch",
          "set",
          "analog",
          "cm",
          "showpiece",
          "combo",
          "baby",
          "men",
          "ceramic",
          "mug",
          "girl",
          "boy",
          "usb",
          "woman",
          "cotton",
          "single",
          "double",
          "abstract",
          "laptop",
          "blue"
         ],
         "y": {
          "bdata": "u/wRHWBvqz8DbajhJiqoP3GS2s0TE6c/J6dowF38oz8DcZLazROjP9679rKn5aA/TGDu4CoUoT/fMugC8FecP98y6ALwV5w/KaEJS+Odmz/fNF1/w8yZP01aj2uwtZg/cRMVjH3NlT9MXnlkV5+TPyenaMBd/JM/lc4PKR5akD+WxMa6/BGNP98y6ALwV4w/lsTGuvwRjT+WyLCzo/uHPw==",
          "dtype": "f8"
         }
        },
        {
         "name": "TF-IDF",
         "offset": 0.2,
         "type": "bar",
         "width": 0.4,
         "x": [
          "watch",
          "set",
          "analog",
          "cm",
          "showpiece",
          "combo",
          "baby",
          "men",
          "ceramic",
          "mug",
          "girl",
          "boy",
          "usb",
          "woman",
          "cotton",
          "single",
          "double",
          "abstract",
          "laptop",
          "blue"
         ],
         "y": {
          "bdata": "rRj2bim1pT/qDUp4XTGmP84K6bapiaM/7sLQKjxIpT9GSojJ17akP63i8kkp4aE/qQtYvSylnz/PLS3Z92ybP/x7Z3fztpk/YQOpDc6UmD8xiAKDUQSYP9jpswWa2Zc/+9h2Hs0ikz8sAB3ReFiUP443HUTHxZM/GIJ1Mu/NjD+u6rYJyTeJP/8f6P3i7oc/W41xYQ2BhT9Cihw+lXSIPw==",
          "dtype": "f8"
         }
        }
       ],
       "layout": {
        "bargap": 0,
        "barmode": "overlay",
        "height": 600,
        "showlegend": true,
        "template": {
         "data": {
          "bar": [
           {
            "error_x": {
             "color": "#2a3f5f"
            },
            "error_y": {
             "color": "#2a3f5f"
            },
            "marker": {
             "line": {
              "color": "#E5ECF6",
              "width": 0.5
             },
             "pattern": {
              "fillmode": "overlay",
              "size": 10,
              "solidity": 0.2
             }
            },
            "type": "bar"
           }
          ],
          "barpolar": [
           {
            "marker": {
             "line": {
              "color": "#E5ECF6",
              "width": 0.5
             },
             "pattern": {
              "fillmode": "overlay",
              "size": 10,
              "solidity": 0.2
             }
            },
            "type": "barpolar"
           }
          ],
          "carpet": [
           {
            "aaxis": {
             "endlinecolor": "#2a3f5f",
             "gridcolor": "white",
             "linecolor": "white",
             "minorgridcolor": "white",
             "startlinecolor": "#2a3f5f"
            },
            "baxis": {
             "endlinecolor": "#2a3f5f",
             "gridcolor": "white",
             "linecolor": "white",
             "minorgridcolor": "white",
             "startlinecolor": "#2a3f5f"
            },
            "type": "carpet"
           }
          ],
          "choropleth": [
           {
            "colorbar": {
             "outlinewidth": 0,
             "ticks": ""
            },
            "type": "choropleth"
           }
          ],
          "contour": [
           {
            "colorbar": {
             "outlinewidth": 0,
             "ticks": ""
            },
            "colorscale": [
             [
              0,
              "#0d0887"
             ],
             [
              0.1111111111111111,
              "#46039f"
             ],
             [
              0.2222222222222222,
              "#7201a8"
             ],
             [
              0.3333333333333333,
              "#9c179e"
             ],
             [
              0.4444444444444444,
              "#bd3786"
             ],
             [
              0.5555555555555556,
              "#d8576b"
             ],
             [
              0.6666666666666666,
              "#ed7953"
             ],
             [
              0.7777777777777778,
              "#fb9f3a"
             ],
             [
              0.8888888888888888,
              "#fdca26"
             ],
             [
              1,
              "#f0f921"
             ]
            ],
            "type": "contour"
           }
          ],
          "contourcarpet": [
           {
            "colorbar": {
             "outlinewidth": 0,
             "ticks": ""
            },
            "type": "contourcarpet"
           }
          ],
          "heatmap": [
           {
            "colorbar": {
             "outlinewidth": 0,
             "ticks": ""
            },
            "colorscale": [
             [
              0,
              "#0d0887"
             ],
             [
              0.1111111111111111,
              "#46039f"
             ],
             [
              0.2222222222222222,
              "#7201a8"
             ],
             [
              0.3333333333333333,
              "#9c179e"
             ],
             [
              0.4444444444444444,
              "#bd3786"
             ],
             [
              0.5555555555555556,
              "#d8576b"
             ],
             [
              0.6666666666666666,
              "#ed7953"
             ],
             [
              0.7777777777777778,
              "#fb9f3a"
             ],
             [
              0.8888888888888888,
              "#fdca26"
             ],
             [
              1,
              "#f0f921"
             ]
            ],
            "type": "heatmap"
           }
          ],
          "histogram": [
           {
            "marker": {
             "pattern": {
              "fillmode": "overlay",
              "size": 10,
              "solidity": 0.2
             }
            },
            "type": "histogram"
           }
          ],
          "histogram2d": [
           {
            "colorbar": {
             "outlinewidth": 0,
             "ticks": ""
            },
            "colorscale": [
             [
              0,
              "#0d0887"
             ],
             [
              0.1111111111111111,
              "#46039f"
             ],
             [
              0.2222222222222222,
              "#7201a8"
             ],
             [
              0.3333333333333333,
              "#9c179e"
             ],
             [
              0.4444444444444444,
              "#bd3786"
             ],
             [
              0.5555555555555556,
              "#d8576b"
             ],
             [
              0.6666666666666666,
              "#ed7953"
             ],
             [
              0.7777777777777778,
              "#fb9f3a"
             ],
             [
              0.8888888888888888,
              "#fdca26"
             ],
             [
              1,
              "#f0f921"
             ]
            ],
            "type": "histogram2d"
           }
          ],
          "histogram2dcontour": [
           {
            "colorbar": {
             "outlinewidth": 0,
             "ticks": ""
            },
            "colorscale": [
             [
              0,
              "#0d0887"
             ],
             [
              0.1111111111111111,
              "#46039f"
             ],
             [
              0.2222222222222222,
              "#7201a8"
             ],
             [
              0.3333333333333333,
              "#9c179e"
             ],
             [
              0.4444444444444444,
              "#bd3786"
             ],
             [
              0.5555555555555556,
              "#d8576b"
             ],
             [
              0.6666666666666666,
              "#ed7953"
             ],
             [
              0.7777777777777778,
              "#fb9f3a"
             ],
             [
              0.8888888888888888,
              "#fdca26"
             ],
             [
              1,
              "#f0f921"
             ]
            ],
            "type": "histogram2dcontour"
           }
          ],
          "mesh3d": [
           {
            "colorbar": {
             "outlinewidth": 0,
             "ticks": ""
            },
            "type": "mesh3d"
           }
          ],
          "parcoords": [
           {
            "line": {
             "colorbar": {
              "outlinewidth": 0,
              "ticks": ""
             }
            },
            "type": "parcoords"
           }
          ],
          "pie": [
           {
            "automargin": true,
            "type": "pie"
           }
          ],
          "scatter": [
           {
            "fillpattern": {
             "fillmode": "overlay",
             "size": 10,
             "solidity": 0.2
            },
            "type": "scatter"
           }
          ],
          "scatter3d": [
           {
            "line": {
             "colorbar": {
              "outlinewidth": 0,
              "ticks": ""
             }
            },
            "marker": {
             "colorbar": {
              "outlinewidth": 0,
              "ticks": ""
             }
            },
            "type": "scatter3d"
           }
          ],
          "scattercarpet": [
           {
            "marker": {
             "colorbar": {
              "outlinewidth": 0,
              "ticks": ""
             }
            },
            "type": "scattercarpet"
           }
          ],
          "scattergeo": [
           {
            "marker": {
             "colorbar": {
              "outlinewidth": 0,
              "ticks": ""
             }
            },
            "type": "scattergeo"
           }
          ],
          "scattergl": [
           {
            "marker": {
             "colorbar": {
              "outlinewidth": 0,
              "ticks": ""
             }
            },
            "type": "scattergl"
           }
          ],
          "scattermap": [
           {
            "marker": {
             "colorbar": {
              "outlinewidth": 0,
              "ticks": ""
             }
            },
            "type": "scattermap"
           }
          ],
          "scattermapbox": [
           {
            "marker": {
             "colorbar": {
              "outlinewidth": 0,
              "ticks": ""
             }
            },
            "type": "scattermapbox"
           }
          ],
          "scatterpolar": [
           {
            "marker": {
             "colorbar": {
              "outlinewidth": 0,
              "ticks": ""
             }
            },
            "type": "scatterpolar"
           }
          ],
          "scatterpolargl": [
           {
            "marker": {
             "colorbar": {
              "outlinewidth": 0,
              "ticks": ""
             }
            },
            "type": "scatterpolargl"
           }
          ],
          "scatterternary": [
           {
            "marker": {
             "colorbar": {
              "outlinewidth": 0,
              "ticks": ""
             }
            },
            "type": "scatterternary"
           }
          ],
          "surface": [
           {
            "colorbar": {
             "outlinewidth": 0,
             "ticks": ""
            },
            "colorscale": [
             [
              0,
              "#0d0887"
             ],
             [
              0.1111111111111111,
              "#46039f"
             ],
             [
              0.2222222222222222,
              "#7201a8"
             ],
             [
              0.3333333333333333,
              "#9c179e"
             ],
             [
              0.4444444444444444,
              "#bd3786"
             ],
             [
              0.5555555555555556,
              "#d8576b"
             ],
             [
              0.6666666666666666,
              "#ed7953"
             ],
             [
              0.7777777777777778,
              "#fb9f3a"
             ],
             [
              0.8888888888888888,
              "#fdca26"
             ],
             [
              1,
              "#f0f921"
             ]
            ],
            "type": "surface"
           }
          ],
          "table": [
           {
            "cells": {
             "fill": {
              "color": "#EBF0F8"
             },
             "line": {
              "color": "white"
             }
            },
            "header": {
             "fill": {
              "color": "#C8D4E3"
             },
             "line": {
              "color": "white"
             }
            },
            "type": "table"
           }
          ]
         },
         "layout": {
          "annotationdefaults": {
           "arrowcolor": "#2a3f5f",
           "arrowhead": 0,
           "arrowwidth": 1
          },
          "autotypenumbers": "strict",
          "coloraxis": {
           "colorbar": {
            "outlinewidth": 0,
            "ticks": ""
           }
          },
          "colorscale": {
           "diverging": [
            [
             0,
             "#8e0152"
            ],
            [
             0.1,
             "#c51b7d"
            ],
            [
             0.2,
             "#de77ae"
            ],
            [
             0.3,
             "#f1b6da"
            ],
            [
             0.4,
             "#fde0ef"
            ],
            [
             0.5,
             "#f7f7f7"
            ],
            [
             0.6,
             "#e6f5d0"
            ],
            [
             0.7,
             "#b8e186"
            ],
            [
             0.8,
             "#7fbc41"
            ],
            [
             0.9,
             "#4d9221"
            ],
            [
             1,
             "#276419"
            ]
           ],
           "sequential": [
            [
             0,
             "#0d0887"
            ],
            [
             0.1111111111111111,
             "#46039f"
            ],
            [
             0.2222222222222222,
             "#7201a8"
            ],
            [
             0.3333333333333333,
             "#9c179e"
            ],
            [
             0.4444444444444444,
             "#bd3786"
            ],
            [
             0.5555555555555556,
             "#d8576b"
            ],
            [
             0.6666666666666666,
             "#ed7953"
            ],
            [
             0.7777777777777778,
             "#fb9f3a"
            ],
            [
             0.8888888888888888,
             "#fdca26"
            ],
            [
             1,
             "#f0f921"
            ]
           ],
           "sequentialminus": [
            [
             0,
             "#0d0887"
            ],
            [
             0.1111111111111111,
             "#46039f"
            ],
            [
             0.2222222222222222,
             "#7201a8"
            ],
            [
             0.3333333333333333,
             "#9c179e"
            ],
            [
             0.4444444444444444,
             "#bd3786"
            ],
            [
             0.5555555555555556,
             "#d8576b"
            ],
            [
             0.6666666666666666,
             "#ed7953"
            ],
            [
             0.7777777777777778,
             "#fb9f3a"
            ],
            [
             0.8888888888888888,
             "#fdca26"
            ],
            [
             1,
             "#f0f921"
            ]
           ]
          },
          "colorway": [
           "#636efa",
           "#EF553B",
           "#00cc96",
           "#ab63fa",
           "#FFA15A",
           "#19d3f3",
           "#FF6692",
           "#B6E880",
           "#FF97FF",
           "#FECB52"
          ],
          "font": {
           "color": "#2a3f5f"
          },
          "geo": {
           "bgcolor": "white",
           "lakecolor": "white",
           "landcolor": "#E5ECF6",
           "showlakes": true,
           "showland": true,
           "subunitcolor": "white"
          },
          "hoverlabel": {
           "align": "left"
          },
          "hovermode": "closest",
          "mapbox": {
           "style": "light"
          },
          "paper_bgcolor": "white",
          "plot_bgcolor": "#E5ECF6",
          "polar": {
           "angularaxis": {
            "gridcolor": "white",
            "linecolor": "white",
            "ticks": ""
           },
           "bgcolor": "#E5ECF6",
           "radialaxis": {
            "gridcolor": "white",
            "linecolor": "white",
            "ticks": ""
           }
          },
          "scene": {
           "xaxis": {
            "backgroundcolor": "#E5ECF6",
            "gridcolor": "white",
            "gridwidth": 2,
            "linecolor": "white",
            "showbackground": true,
            "ticks": "",
            "zerolinecolor": "white"
           },
           "yaxis": {
            "backgroundcolor": "#E5ECF6",
            "gridcolor": "white",
            "gridwidth": 2,
            "linecolor": "white",
            "showbackground": true,
            "ticks": "",
            "zerolinecolor": "white"
           },
           "zaxis": {
            "backgroundcolor": "#E5ECF6",
            "gridcolor": "white",
            "gridwidth": 2,
            "linecolor": "white",
            "showbackground": true,
            "ticks": "",
            "zerolinecolor": "white"
           }
          },
          "shapedefaults": {
           "line": {
            "color": "#2a3f5f"
           }
          },
          "ternary": {
           "aaxis": {
            "gridcolor": "white",
            "linecolor": "white",
            "ticks": ""
           },
           "baxis": {
            "gridcolor": "white",
            "linecolor": "white",
            "ticks": ""
           },
           "bgcolor": "#E5ECF6",
           "caxis": {
            "gridcolor": "white",
            "linecolor": "white",
            "ticks": ""
           }
          },
          "title": {
           "x": 0.05
          },
          "xaxis": {
           "automargin": true,
           "gridcolor": "white",
           "linecolor": "white",
           "ticks": "",
           "title": {
            "standoff": 15
           },
           "zerolinecolor": "white",
           "zerolinewidth": 2
          },
          "yaxis": {
           "automargin": true,
           "gridcolor": "white",
           "linecolor": "white",
           "ticks": "",
           "title": {
            "standoff": 15
           },
           "zerolinecolor": "white",
           "zerolinewidth": 2
          }
         }
        },
        "title": {
         "text": "BoW vs TF-IDF Top Features by Combined Importance"
        },
        "xaxis": {
         "tickangle": 45,
         "title": {
          "text": "Features"
         }
        },
        "yaxis": {
         "title": {
          "text": "Normalized Importance"
         }
        },
        "yaxis2": {
         "overlaying": "y",
         "showgrid": false,
         "side": "right",
         "title": {
          "text": "TF-IDF - BoW Difference"
         }
        }
       }
      }
     },
     "metadata": {},
     "output_type": "display_data"
    },
    {
     "name": "stdout",
     "output_type": "stream",
     "text": [
      "\n",
      "TF-IDF vs BoW Scatter Comparison:\n"
     ]
    },
    {
     "data": {
      "application/vnd.plotly.v1+json": {
       "config": {
        "plotlyServerURL": "https://plot.ly"
       },
       "data": [
        {
         "hovertemplate": "<b>%{text}</b><br>BoW: %{x:.5f}<br>TF-IDF: %{y:.5f}<br>Diff: %{marker.color:.5f}<extra></extra>",
         "marker": {
          "color": {
           "bdata": "gEsAFDSkYb/gS37ORNtBPxg9jLdQS3y/3LYHid+tWj94pyUkSBlkv1CAIIxDzVI/gH80EdiLVb/4mDGdhZVAP/hsbOMHZlY/AFur6Q6cEb8Aa/CaYjwuP+z6hopYxlw/oA5uu8yCS78A13iOQvPxPuBDMHiXLks/ePOQWt6tW78YtwVc5Adlv8BV8nn48zM/cLyBpua9ZD/wh/ufbDFMP+DZhN8ycF8/IBv1jEwzT7+AzLclPksrv8ju2ujvs18/mAm9ur/JSj88kd4cGHdiP8Tq0lxA6Fy/TOL6LkL5UT8AC5uJAMBCv/hqcOzMoFM/uBygQdJMUr9Az36IndFevyhyToB4WFc/5AzUUj46W78AMJplnylIv8B6kDVFdEw/4MqqxR+HXL8wsfkNy61AP5igYk4ntkw/gO1T9pJHLD/gCRcc3P4qv+j90dqPA1Q/WIconu5JUT/WtTjfVwl6P0ScLmLbkF8/sNoFWtZTMr/s3FRlvUNuv2Cn0aqBpT4/eECr3JD9X7/wScQxRUtLPwCiYDcFX02/+Ez9g4+7ST94Gjl6B6RTP2jAHqk6CVC/QO4E66lIaL9gbeQSFCVHvzAaX1DQIko/kgvd+C7LYT9Ar+4gLUxGv2wKWziigky/iE1k0EtZVj9A24nu12QxPzCiZku6iEc/WCbIjWHvVr9gr6hCJzg2P2A67ty9kz0/UA42GNZIRT+owfWgzs9YP4BDNwJAxzI/9HoEQSawUb+w/QGX8sFEP4AiP1MpKFY/Uv1M9rqFZz/wTk5qmM4wv8AYOnQ9RCg/kPHllZaMb7/4t38Co3tHvzCUXe+eMGo/kNhQ/WgyX7/WCgEET71Uv9A7KzWxHFs/IMxy6y3gVT+EmMyOIjZVPyCbBtTcCkg/uAWSlclyWD+w0/Fsg1VlvxB9s2kA4Fc/OJBvuNrohr8g2FoUtwAtPwRPFCCdl1w/ADx0lC0kRz8=",
           "dtype": "f8"
          },
          "colorbar": {
           "title": {
            "text": "TF-IDF - BoW"
           }
          },
          "colorscale": [
           [
            0,
            "rgb(103,0,31)"
           ],
           [
            0.1,
            "rgb(178,24,43)"
           ],
           [
            0.2,
            "rgb(214,96,77)"
           ],
           [
            0.3,
            "rgb(244,165,130)"
           ],
           [
            0.4,
            "rgb(253,219,199)"
           ],
           [
            0.5,
            "rgb(247,247,247)"
           ],
           [
            0.6,
            "rgb(209,229,240)"
           ],
           [
            0.7,
            "rgb(146,197,222)"
           ],
           [
            0.8,
            "rgb(67,147,195)"
           ],
           [
            0.9,
            "rgb(33,102,172)"
           ],
           [
            1,
            "rgb(5,48,97)"
           ]
          ],
          "showscale": true,
          "size": 8
         },
         "mode": "markers",
         "text": [
          "abstract",
          "adapter",
          "analog",
          "art",
          "baby",
          "bath",
          "battery",
          "bedsheet",
          "black",
          "blanket",
          "blue",
          "box",
          "boy",
          "brown",
          "casual",
          "cell",
          "ceramic",
          "charger",
          "cm",
          "color",
          "combo",
          "comforter",
          "cotton",
          "cover",
          "craft",
          "cream",
          "curtain",
          "cushion",
          "design",
          "digital",
          "door",
          "double",
          "dress",
          "eyelet",
          "floral",
          "gift",
          "girl",
          "gold",
          "green",
          "home",
          "hp",
          "inch",
          "india",
          "kadhai",
          "kit",
          "lapguard",
          "laptop",
          "led",
          "light",
          "maximum",
          "men",
          "mini",
          "ml",
          "mouse",
          "mug",
          "multicolor",
          "orange",
          "pack",
          "pad",
          "pavilion",
          "pc",
          "pink",
          "plain",
          "polyester",
          "portable",
          "print",
          "printed",
          "printland",
          "prithish",
          "quilt",
          "red",
          "rockmantra",
          "router",
          "self",
          "series",
          "set",
          "shape",
          "showpiece",
          "single",
          "skin",
          "sonata",
          "sticker",
          "table",
          "time",
          "towel",
          "usb",
          "wall",
          "watch",
          "white",
          "wireless",
          "woman"
         ],
         "type": "scatter",
         "x": {
          "bdata": "3zLoAvBXjD+VzJqsSuVyP3GS2s0TE6c/J6ndPDFxcT9MYO7gKhShP7t9TNvJKXo/cgtBmi/6fz9yC0GaL/pvP946vPQ9K4I/lcyarErlgj+WyLCzo/uHP3ILQZov+m8/TVqPa7C1mD+VzJqsSuVyP3ILQZov+m8/3jq89D0rgj/fMugC8FecPyep3TwxcXE/J6dowF38oz/fNtL7lkF3P9679rKn5aA/BOiDKhaGfj8np2jAXfyTPyep3TwxcYE/J6ndPDFxcT8D8FccZFl0P5bExrr8EX0/KaEJS+Odez8D8FccZFmEP7t9TNvJKXo/3zbS+5ZBdz+WxMa6/BGNP3ILQZov+n8/KaEJS+Odez9MXnlkV5+DP3AX/4Qkt4A/3zRdf8PMmT8E6IMqFoZ+PwPwVxxkWXQ/3zbS+5ZBdz+7fUzbySl6PwPwVxxkWXQ/J6ndPDFxcT9yC0GaL/p/P3ETFYx9zXU/cgtBmi/6bz+WxMa6/BGNPyil80OKh4Y/lsiws6P7hz9wF/+EJLeAP98y6ALwV5w/cRMVjH3NdT8D8FccZFl0P3ILQZov+m8/KaEJS+Odmz+6gTbUcBOFP3ILQZov+m8/J6ndPDFxcT+VzJqsSuVyP5XMmqxK5XI/cRMVjH3NdT8D8FccZFl0P5XMmqxK5XI/BOiDKhaGfj8nqd08MXFxPyep3TwxcYE/uoE21HAThT+VzJqsSuVyP5XMmqxK5YI/cgtBmi/6fz+WxMa6/BF9P3ILQZov+n8/3zbS+5ZBdz9yC0GaL/pvP3ILQZov+m8/A22o4SYqqD8D8FccZFl0PwNxktrNE6M/lc4PKR5akD+VzJqsSuVyP3AX/4Qkt4A/lcyarErlgj+VzJqsSuVyPwPwVxxkWXQ/KKXzQ4qHhj9xExWMfc2VP3ETFYx9zXU/u/wRHWBvqz8nqd08MXFxPyep3TwxcXE/TF55ZFefkz8=",
          "dtype": "f8"
         },
         "y": {
          "bdata": "/x/o/eLuhz8RlmpGsyB1P84K6bapiaM/3pYfH6kceD+pC1i9LKWfP8+dVL4a3X4/kuvzlTmXej/YuMaAyA9yP33IKfH+94Q/33XHjhLCgj9Cihw+lXSIP3REwu+tLnc/2OmzBZrZlz9sRSnvPfdyPzWOJrzqYnM/3jjUUgRrfT/8e2d387aZP4POfMRwsHI/7sLQKjxIpT/dp9GPxMd6P63i8kkp4aE/oETlmKyfej+ONx1Ex8WTPwAH+TmvZ4U/Wko1NGnKdD+hOMcq8JR9P+UJkqPs13U/3ixk6xkOgD9TP74TZC2DP3mYaBb9EX8/sS9qa2Kucj+u6rYJyTeJP/5TKt0m6II/8J1UtlPPdD9Mux9uvRyCPxwfWNhofoI/MYgCg1EEmD8VjyHG502APxZEJAYp8Hc/S9aEk9MjeD9sxWv60lF5P31vDBNIWnk//cpn5KzDdT+k4Ly8wwGNP4K6oGS0sX0/HFAAz7SvbT9bjXFhDYGFP2MySlG2fIc/h2AbmPH7gz8PXBvY2GuCP88tLdn3bJs/EL2UfO8EeT+hNub6ZUJ5Pz6rsUWS9Wc/YQOpDc6UmD/kOgiTH6GDP/9oLNdxQXM/8C5MuchWej+t9nwIxRtwP4/WHsvsqW4/0yYugNBjez+3jUCbsW91P9ugB/Zh1nU/bt4Rxz3KeD8dNAixs9RyP/oaxSvPXYI/n+K5Nf5nhj//PNhUPhl5P7GGrKyEe4M/tez/CSaOez9MBKcNO6p/PwlqiPccwoI/xFp8OzqCgT+UQfeMXOBtP39Wwrg5v3A/6g1KeF0xpj8E+Qe872lxP0ZKiMnXtqQ/GIJ1Mu/NjD+/EzXX7WtrP+p+pKu6GoQ/GSYJalChhT+28k1Q0zJ4P2fD2La/Wnc/3+WlduOViT/72HYezSKTP7XygaZ9xXs/rRj2bim1pT/of4D1NllyP+i84oQYl3g/LAAd0XhYlD8=",
          "dtype": "f8"
         }
        },
        {
         "line": {
          "color": "gray",
          "dash": "dash"
         },
         "mode": "lines",
         "name": "Equal Weight",
         "type": "scatter",
         "x": [
          0,
          0.053584102200141946
         ],
         "y": [
          0,
          0.053584102200141946
         ]
        }
       ],
       "layout": {
        "height": 600,
        "showlegend": true,
        "template": {
         "data": {
          "bar": [
           {
            "error_x": {
             "color": "#2a3f5f"
            },
            "error_y": {
             "color": "#2a3f5f"
            },
            "marker": {
             "line": {
              "color": "#E5ECF6",
              "width": 0.5
             },
             "pattern": {
              "fillmode": "overlay",
              "size": 10,
              "solidity": 0.2
             }
            },
            "type": "bar"
           }
          ],
          "barpolar": [
           {
            "marker": {
             "line": {
              "color": "#E5ECF6",
              "width": 0.5
             },
             "pattern": {
              "fillmode": "overlay",
              "size": 10,
              "solidity": 0.2
             }
            },
            "type": "barpolar"
           }
          ],
          "carpet": [
           {
            "aaxis": {
             "endlinecolor": "#2a3f5f",
             "gridcolor": "white",
             "linecolor": "white",
             "minorgridcolor": "white",
             "startlinecolor": "#2a3f5f"
            },
            "baxis": {
             "endlinecolor": "#2a3f5f",
             "gridcolor": "white",
             "linecolor": "white",
             "minorgridcolor": "white",
             "startlinecolor": "#2a3f5f"
            },
            "type": "carpet"
           }
          ],
          "choropleth": [
           {
            "colorbar": {
             "outlinewidth": 0,
             "ticks": ""
            },
            "type": "choropleth"
           }
          ],
          "contour": [
           {
            "colorbar": {
             "outlinewidth": 0,
             "ticks": ""
            },
            "colorscale": [
             [
              0,
              "#0d0887"
             ],
             [
              0.1111111111111111,
              "#46039f"
             ],
             [
              0.2222222222222222,
              "#7201a8"
             ],
             [
              0.3333333333333333,
              "#9c179e"
             ],
             [
              0.4444444444444444,
              "#bd3786"
             ],
             [
              0.5555555555555556,
              "#d8576b"
             ],
             [
              0.6666666666666666,
              "#ed7953"
             ],
             [
              0.7777777777777778,
              "#fb9f3a"
             ],
             [
              0.8888888888888888,
              "#fdca26"
             ],
             [
              1,
              "#f0f921"
             ]
            ],
            "type": "contour"
           }
          ],
          "contourcarpet": [
           {
            "colorbar": {
             "outlinewidth": 0,
             "ticks": ""
            },
            "type": "contourcarpet"
           }
          ],
          "heatmap": [
           {
            "colorbar": {
             "outlinewidth": 0,
             "ticks": ""
            },
            "colorscale": [
             [
              0,
              "#0d0887"
             ],
             [
              0.1111111111111111,
              "#46039f"
             ],
             [
              0.2222222222222222,
              "#7201a8"
             ],
             [
              0.3333333333333333,
              "#9c179e"
             ],
             [
              0.4444444444444444,
              "#bd3786"
             ],
             [
              0.5555555555555556,
              "#d8576b"
             ],
             [
              0.6666666666666666,
              "#ed7953"
             ],
             [
              0.7777777777777778,
              "#fb9f3a"
             ],
             [
              0.8888888888888888,
              "#fdca26"
             ],
             [
              1,
              "#f0f921"
             ]
            ],
            "type": "heatmap"
           }
          ],
          "histogram": [
           {
            "marker": {
             "pattern": {
              "fillmode": "overlay",
              "size": 10,
              "solidity": 0.2
             }
            },
            "type": "histogram"
           }
          ],
          "histogram2d": [
           {
            "colorbar": {
             "outlinewidth": 0,
             "ticks": ""
            },
            "colorscale": [
             [
              0,
              "#0d0887"
             ],
             [
              0.1111111111111111,
              "#46039f"
             ],
             [
              0.2222222222222222,
              "#7201a8"
             ],
             [
              0.3333333333333333,
              "#9c179e"
             ],
             [
              0.4444444444444444,
              "#bd3786"
             ],
             [
              0.5555555555555556,
              "#d8576b"
             ],
             [
              0.6666666666666666,
              "#ed7953"
             ],
             [
              0.7777777777777778,
              "#fb9f3a"
             ],
             [
              0.8888888888888888,
              "#fdca26"
             ],
             [
              1,
              "#f0f921"
             ]
            ],
            "type": "histogram2d"
           }
          ],
          "histogram2dcontour": [
           {
            "colorbar": {
             "outlinewidth": 0,
             "ticks": ""
            },
            "colorscale": [
             [
              0,
              "#0d0887"
             ],
             [
              0.1111111111111111,
              "#46039f"
             ],
             [
              0.2222222222222222,
              "#7201a8"
             ],
             [
              0.3333333333333333,
              "#9c179e"
             ],
             [
              0.4444444444444444,
              "#bd3786"
             ],
             [
              0.5555555555555556,
              "#d8576b"
             ],
             [
              0.6666666666666666,
              "#ed7953"
             ],
             [
              0.7777777777777778,
              "#fb9f3a"
             ],
             [
              0.8888888888888888,
              "#fdca26"
             ],
             [
              1,
              "#f0f921"
             ]
            ],
            "type": "histogram2dcontour"
           }
          ],
          "mesh3d": [
           {
            "colorbar": {
             "outlinewidth": 0,
             "ticks": ""
            },
            "type": "mesh3d"
           }
          ],
          "parcoords": [
           {
            "line": {
             "colorbar": {
              "outlinewidth": 0,
              "ticks": ""
             }
            },
            "type": "parcoords"
           }
          ],
          "pie": [
           {
            "automargin": true,
            "type": "pie"
           }
          ],
          "scatter": [
           {
            "fillpattern": {
             "fillmode": "overlay",
             "size": 10,
             "solidity": 0.2
            },
            "type": "scatter"
           }
          ],
          "scatter3d": [
           {
            "line": {
             "colorbar": {
              "outlinewidth": 0,
              "ticks": ""
             }
            },
            "marker": {
             "colorbar": {
              "outlinewidth": 0,
              "ticks": ""
             }
            },
            "type": "scatter3d"
           }
          ],
          "scattercarpet": [
           {
            "marker": {
             "colorbar": {
              "outlinewidth": 0,
              "ticks": ""
             }
            },
            "type": "scattercarpet"
           }
          ],
          "scattergeo": [
           {
            "marker": {
             "colorbar": {
              "outlinewidth": 0,
              "ticks": ""
             }
            },
            "type": "scattergeo"
           }
          ],
          "scattergl": [
           {
            "marker": {
             "colorbar": {
              "outlinewidth": 0,
              "ticks": ""
             }
            },
            "type": "scattergl"
           }
          ],
          "scattermap": [
           {
            "marker": {
             "colorbar": {
              "outlinewidth": 0,
              "ticks": ""
             }
            },
            "type": "scattermap"
           }
          ],
          "scattermapbox": [
           {
            "marker": {
             "colorbar": {
              "outlinewidth": 0,
              "ticks": ""
             }
            },
            "type": "scattermapbox"
           }
          ],
          "scatterpolar": [
           {
            "marker": {
             "colorbar": {
              "outlinewidth": 0,
              "ticks": ""
             }
            },
            "type": "scatterpolar"
           }
          ],
          "scatterpolargl": [
           {
            "marker": {
             "colorbar": {
              "outlinewidth": 0,
              "ticks": ""
             }
            },
            "type": "scatterpolargl"
           }
          ],
          "scatterternary": [
           {
            "marker": {
             "colorbar": {
              "outlinewidth": 0,
              "ticks": ""
             }
            },
            "type": "scatterternary"
           }
          ],
          "surface": [
           {
            "colorbar": {
             "outlinewidth": 0,
             "ticks": ""
            },
            "colorscale": [
             [
              0,
              "#0d0887"
             ],
             [
              0.1111111111111111,
              "#46039f"
             ],
             [
              0.2222222222222222,
              "#7201a8"
             ],
             [
              0.3333333333333333,
              "#9c179e"
             ],
             [
              0.4444444444444444,
              "#bd3786"
             ],
             [
              0.5555555555555556,
              "#d8576b"
             ],
             [
              0.6666666666666666,
              "#ed7953"
             ],
             [
              0.7777777777777778,
              "#fb9f3a"
             ],
             [
              0.8888888888888888,
              "#fdca26"
             ],
             [
              1,
              "#f0f921"
             ]
            ],
            "type": "surface"
           }
          ],
          "table": [
           {
            "cells": {
             "fill": {
              "color": "#EBF0F8"
             },
             "line": {
              "color": "white"
             }
            },
            "header": {
             "fill": {
              "color": "#C8D4E3"
             },
             "line": {
              "color": "white"
             }
            },
            "type": "table"
           }
          ]
         },
         "layout": {
          "annotationdefaults": {
           "arrowcolor": "#2a3f5f",
           "arrowhead": 0,
           "arrowwidth": 1
          },
          "autotypenumbers": "strict",
          "coloraxis": {
           "colorbar": {
            "outlinewidth": 0,
            "ticks": ""
           }
          },
          "colorscale": {
           "diverging": [
            [
             0,
             "#8e0152"
            ],
            [
             0.1,
             "#c51b7d"
            ],
            [
             0.2,
             "#de77ae"
            ],
            [
             0.3,
             "#f1b6da"
            ],
            [
             0.4,
             "#fde0ef"
            ],
            [
             0.5,
             "#f7f7f7"
            ],
            [
             0.6,
             "#e6f5d0"
            ],
            [
             0.7,
             "#b8e186"
            ],
            [
             0.8,
             "#7fbc41"
            ],
            [
             0.9,
             "#4d9221"
            ],
            [
             1,
             "#276419"
            ]
           ],
           "sequential": [
            [
             0,
             "#0d0887"
            ],
            [
             0.1111111111111111,
             "#46039f"
            ],
            [
             0.2222222222222222,
             "#7201a8"
            ],
            [
             0.3333333333333333,
             "#9c179e"
            ],
            [
             0.4444444444444444,
             "#bd3786"
            ],
            [
             0.5555555555555556,
             "#d8576b"
            ],
            [
             0.6666666666666666,
             "#ed7953"
            ],
            [
             0.7777777777777778,
             "#fb9f3a"
            ],
            [
             0.8888888888888888,
             "#fdca26"
            ],
            [
             1,
             "#f0f921"
            ]
           ],
           "sequentialminus": [
            [
             0,
             "#0d0887"
            ],
            [
             0.1111111111111111,
             "#46039f"
            ],
            [
             0.2222222222222222,
             "#7201a8"
            ],
            [
             0.3333333333333333,
             "#9c179e"
            ],
            [
             0.4444444444444444,
             "#bd3786"
            ],
            [
             0.5555555555555556,
             "#d8576b"
            ],
            [
             0.6666666666666666,
             "#ed7953"
            ],
            [
             0.7777777777777778,
             "#fb9f3a"
            ],
            [
             0.8888888888888888,
             "#fdca26"
            ],
            [
             1,
             "#f0f921"
            ]
           ]
          },
          "colorway": [
           "#636efa",
           "#EF553B",
           "#00cc96",
           "#ab63fa",
           "#FFA15A",
           "#19d3f3",
           "#FF6692",
           "#B6E880",
           "#FF97FF",
           "#FECB52"
          ],
          "font": {
           "color": "#2a3f5f"
          },
          "geo": {
           "bgcolor": "white",
           "lakecolor": "white",
           "landcolor": "#E5ECF6",
           "showlakes": true,
           "showland": true,
           "subunitcolor": "white"
          },
          "hoverlabel": {
           "align": "left"
          },
          "hovermode": "closest",
          "mapbox": {
           "style": "light"
          },
          "paper_bgcolor": "white",
          "plot_bgcolor": "#E5ECF6",
          "polar": {
           "angularaxis": {
            "gridcolor": "white",
            "linecolor": "white",
            "ticks": ""
           },
           "bgcolor": "#E5ECF6",
           "radialaxis": {
            "gridcolor": "white",
            "linecolor": "white",
            "ticks": ""
           }
          },
          "scene": {
           "xaxis": {
            "backgroundcolor": "#E5ECF6",
            "gridcolor": "white",
            "gridwidth": 2,
            "linecolor": "white",
            "showbackground": true,
            "ticks": "",
            "zerolinecolor": "white"
           },
           "yaxis": {
            "backgroundcolor": "#E5ECF6",
            "gridcolor": "white",
            "gridwidth": 2,
            "linecolor": "white",
            "showbackground": true,
            "ticks": "",
            "zerolinecolor": "white"
           },
           "zaxis": {
            "backgroundcolor": "#E5ECF6",
            "gridcolor": "white",
            "gridwidth": 2,
            "linecolor": "white",
            "showbackground": true,
            "ticks": "",
            "zerolinecolor": "white"
           }
          },
          "shapedefaults": {
           "line": {
            "color": "#2a3f5f"
           }
          },
          "ternary": {
           "aaxis": {
            "gridcolor": "white",
            "linecolor": "white",
            "ticks": ""
           },
           "baxis": {
            "gridcolor": "white",
            "linecolor": "white",
            "ticks": ""
           },
           "bgcolor": "#E5ECF6",
           "caxis": {
            "gridcolor": "white",
            "linecolor": "white",
            "ticks": ""
           }
          },
          "title": {
           "x": 0.05
          },
          "xaxis": {
           "automargin": true,
           "gridcolor": "white",
           "linecolor": "white",
           "ticks": "",
           "title": {
            "standoff": 15
           },
           "zerolinecolor": "white",
           "zerolinewidth": 2
          },
          "yaxis": {
           "automargin": true,
           "gridcolor": "white",
           "linecolor": "white",
           "ticks": "",
           "title": {
            "standoff": 15
           },
           "zerolinecolor": "white",
           "zerolinewidth": 2
          }
         }
        },
        "title": {
         "text": "TF-IDF vs BoW Feature Importance"
        },
        "xaxis": {
         "title": {
          "text": "BoW Weight (normalized)"
         }
        },
        "yaxis": {
         "title": {
          "text": "TF-IDF Weight (normalized)"
         }
        }
       }
      }
     },
     "metadata": {},
     "output_type": "display_data"
    }
   ],
   "source": [
    "from src.classes.encode_text import TextEncoder\n",
    "\n",
    "# Initialize encoder once\n",
    "encoder = TextEncoder()\n",
    "\n",
    "# Fit and transform product names\n",
    "encoding_results = encoder.fit_transform(df['product_name_lemmatized'])\n",
    "\n",
    "# Get top features\n",
    "top_features = encoder.get_top_features(n_features=15)\n",
    "print(\"\\nTop features by TF-IDF score:\")\n",
    "print(top_features)\n",
    "\n",
    "# Create and display BoW plot\n",
    "bow_fig = encoder.plot_bow_features(threshold=0.98)\n",
    "print(\"\\nBag of Words Feature Distribution:\")\n",
    "bow_fig.show()\n",
    "\n",
    "# Create and display TF-IDF plot\n",
    "tfidf_fig = encoder.plot_tfidf_features(threshold=0.98)\n",
    "print(\"\\nTF-IDF Feature Distribution:\")\n",
    "tfidf_fig.show()\n",
    "\n",
    "# Show comparison\n",
    "comparison_fig = encoder.plot_feature_comparison(threshold=0.98)\n",
    "print(\"\\nFeature Comparison:\")\n",
    "comparison_fig.show()\n",
    "\n",
    "# Plot scatter comparison\n",
    "scatter_fig = encoder.plot_scatter_comparison()\n",
    "print(\"\\nTF-IDF vs BoW Scatter Comparison:\")\n",
    "scatter_fig.show()"
   ]
  },
  {
   "cell_type": "markdown",
   "id": "e8d19e2a",
   "metadata": {},
   "source": [
    "### 3.3 Dimensionality Reduction & Visualization\n",
    "**Analysis**:\n",
    "- Apply PCA/t-SNE\n",
    "- Visualize category distribution\n",
    "- Evaluate cluster separation"
   ]
  },
  {
   "cell_type": "code",
   "execution_count": 8,
   "id": "83e8ef75",
   "metadata": {},
   "outputs": [
    {
     "name": "stdout",
     "output_type": "stream",
     "text": [
      "\n",
      "Applying PCA to product name features...\n"
     ]
    },
    {
     "name": "stderr",
     "output_type": "stream",
     "text": [
      "/Users/najia/git_repo/mission6/mission6_venv/lib/python3.12/site-packages/sklearn/decomposition/_pca.py:606: RuntimeWarning:\n",
      "\n",
      "divide by zero encountered in matmul\n",
      "\n",
      "/Users/najia/git_repo/mission6/mission6_venv/lib/python3.12/site-packages/sklearn/decomposition/_pca.py:606: RuntimeWarning:\n",
      "\n",
      "overflow encountered in matmul\n",
      "\n",
      "/Users/najia/git_repo/mission6/mission6_venv/lib/python3.12/site-packages/sklearn/decomposition/_pca.py:606: RuntimeWarning:\n",
      "\n",
      "invalid value encountered in matmul\n",
      "\n",
      "/Users/najia/git_repo/mission6/mission6_venv/lib/python3.12/site-packages/sklearn/decomposition/_base.py:148: RuntimeWarning:\n",
      "\n",
      "divide by zero encountered in matmul\n",
      "\n",
      "/Users/najia/git_repo/mission6/mission6_venv/lib/python3.12/site-packages/sklearn/decomposition/_base.py:148: RuntimeWarning:\n",
      "\n",
      "overflow encountered in matmul\n",
      "\n",
      "/Users/najia/git_repo/mission6/mission6_venv/lib/python3.12/site-packages/sklearn/decomposition/_base.py:148: RuntimeWarning:\n",
      "\n",
      "invalid value encountered in matmul\n",
      "\n"
     ]
    },
    {
     "data": {
      "application/vnd.plotly.v1+json": {
       "config": {
        "plotlyServerURL": "https://plot.ly"
       },
       "data": [
        {
         "hovertemplate": "Category=[\"Home Furnishing<br>PC1=%{x}<br>PC2=%{y}<extra></extra>",
         "legendgroup": "[\"Home Furnishing",
         "marker": {
          "color": "#636efa",
          "symbol": "circle"
         },
         "mode": "markers",
         "name": "[\"Home Furnishing",
         "showlegend": true,
         "type": "scattergl",
         "x": {
          "bdata": "yHV2VXx6Jr84qpBBwjdrv1aDrpYIdj6/Gt+brAPMmz+we/Ao6X8zPxb06tdisUA/TFiRonYLdL9MWJGidgt0v4EBDN7xDnU/gQEM3vEOdT85Iy+U5N+PP2A+3NGa9p8/L9t1UjN5UL8v23VSM3lQv65bcfdV4U6/TSSgRenyT78v23VSM3lQv5CkayL0IVG/lD+XjLb3kD+Z7rpa0AtTv5nuulrQC1O/GDqhGgERnj9MWJGidgt0v50wCIE9q22/VNk3zmZxVb8QwOEafPAVP0iDYDAN0yQ/WF+XkWgbIb8Sb9m/OKlOv5CEYqKFC5E/fyOWlmWyij8o6pjLHQ6XP05sAzqJd3e/TFiRonYLdL+UzbGyIMMwv/WBAKe9IYM/3EyZ1KqHNT9HM4YN4lGAPz4jy4GT7kQ/NjicAvy2N7+CZf6h3Ag7v+8UUCqsNmY/ZDwsZm6oZb9aQ/YrJ/FRvyPlpIEm+VO/OZ63l477hT/lcalwsYJWvzEXAqhdxla/ZPs1ROp2Vz9c9ZpPfh5Ev+w8rfHn/V8/i44ZpRBwUL/Aw5eCmFtMv+w8rfHn/V8/7Dyt8ef9Xz/49+Ry7IJsP3cb6LTUwGE/7PE6UmBbb7+kDIo/kiVfP+hMZiWJcl6/MQWFEbrbVL8kTyril4kxP5ejH3aD5NI/Vy/l7q2fzT9fvx3mzd3NPyjqmMsdDpc/tpt+EwYlUr+iILiOoHF2P+l3iOiVynQ/sWGqEs5Lcj9Ih1husO99P/pYN24X7UQ/qugI8f7tS78ZDQc+OByKv0oI4zBHNk6/hiPY9u1DUL8j5aSBJvlTvw7Vba/hsle/s1eiQBagUL8FqYycisxhPzACMHGmAGu/OBa813AiPT+EbjQAH+dmP4jJiftBRVa/afYNZj2RU7/Ohat75EFFP1pD9isn8VG/I+WkgSb5U7+0Nfe4xldWPyPlpIEm+VO/0uYwvxy9lT+2m34TBiVSv9LmML8cvZU/tpt+EwYlUr+0Nfe4xldWP1pD9isn8VG/yqbO+8nWkz+0Nfe4xldWP7Q197jGV1Y/XqFYOpVQmT/S5jC/HL2VP7Q197jGV1Y/tDX3uMZXVj/S5jC/HL2VP6Bg+kWe25g/fOcqwvuIQD8oPbYog0heP7Q197jGV1Y/tDX3uMZXVj/S5jC/HL2VPxV1dz7uyHM/WkP2KyfxUb+0Nfe4xldWP1AzOvQkd5U/KD22KINIXj8RtFY/6OBnv5xIWwmTOpW/5XGpcLGCVr9c9ZpPfh5Ev1qtDMTxSlC/z34k3chwYD8Z4HIYPulNv66w1qkfA1O/VNIS3piKUr+xCM+oCCuRv7HPsKKFnYU/Wv3+rCGETL9AvnvyxnpDP8DDl4KYW0y/rltx91XhTr8YdrfNsQrHP8aB2vmDLFi/LACbRIfrcr8jMeL72/ROvxrfm6wDzJs/mumuBmdtcj8cByWpbddPP4C7yhdKq3C/2J6HN7A1U7+Z7rpa0AtTv8T1J3OAFiu/me66WtALU7+JRMDlFjOCP5RcW+LCdWC/VGWKOjBGML8jSjfNe3mFP7eZJuahCoE/MhHh+8wDab/acPb2nrJiv7eZJuahCoE/",
          "dtype": "f8"
         },
         "xaxis": "x",
         "y": {
          "bdata": "ln3yssGeqz/cpAHlKYu2PzrxocEWHLg/wBfM9J0P2D+ILB1tpsm2P4IoogwOO7g/MgiSC9n2rD8yCJIL2fasP6Ccw6ZJ9Kg/oJzDpkn0qD+A7GNpIxDRP7vdE+RpE9E/waKq8300rT/BoqrzfTStP8Kx4xrNma4/NVqiTINGqz/BoqrzfTStP5IQ3n2Goqs/M5ErOfrJpT/wel+llWanP/B6X6WVZqc/ot4MZdznxT8yCJIL2fasPy5lBNpCarY/6wgCUbSipz+iB8LM86+2Pwf9Nlfj2bU/wCAOasXZtD/SqrI7tq+lPzotZOsH4c8//5oJNcMt0D+cH03OPbjRPyLAvywjTKs/MgiSC9n2rD+wKNVScY6pP6ogzqwdP6c/k0c1v0FYrT+UuButikSnPxqA4K/3B68/lCEm2binqT/O08f4FaioP4S8NZrWYKw/oAUTnV9drj+jmP5Yfx6sPykZ2RCRyag/WCj1dYGXqD/OmN0N2a6rP9omBPEQbao/y3pYXNZYrz+mJQfZWMOuP42++tWOHa8/DL+uk/Hjqj+60yo0VnSuP42++tWOHa8/jb761Y4drz9OSaUXbQ+wP+zUH13eoKw/Plwy9wnJrz8B/3+0F8iuP3h+urct9qk/6VXA9gFtqj9Pu2Ftt8GwP+TQnd0r/MO/WdsltWZUvL+T8N7Qtea4v5wfTc49uNE/GaExVUhBqz8iteT6qPysPwBqLiS5P64/pJC5vq1xrT+EsnuddcOtP5C0xQg1ILE/c1u7VD8nrz9nYZnGF+2kP/DG9xzkp6w/AZp+Fjn9rT8pGdkQkcmoP5TAU4LQ964/Rz+agh1Lrz8y10Ea91+vPyQalNui1bE/8K8gx7yXsj/Bzi58eQexP+i5lfc/6K4/DU+Lsek/rj/p9Vu4RoSyP6OY/lh/Hqw/KRnZEJHJqD9sO+cp3UC9PykZ2RCRyag/NCdcbw661D8ZoTFVSEGrPzQnXG8OutQ/GaExVUhBqz9sO+cp3UC9P6OY/lh/Hqw/v9O/uEgVpj9sO+cp3UC9P2w75yndQL0/140POvKt1T80J1xvDrrUP2w75yndQL0/bDvnKd1AvT80J1xvDrrUP4yG50VPzNA/Is95tIORsT+nIMh6ZBO/P2w75yndQL0/bDvnKd1AvT80J1xvDrrUP4e/TqOiS7o/o5j+WH8erD9sO+cp3UC9P12BOB1fCqE/pyDIemQTvz+oi4+Qw9KwPxS1VUgT5LU/zpjdDdmuqz+mJQfZWMOuP6QIScdg5Ks/qjThqU0srj8usXqqOpauP+FpV0mIMq8/zWPUNgF9rD+2E1qJoMqfP/KChgHBUqk/FND8cF5Xrz+PrNZwUpiwP7rTKjRWdK4/wrHjGs2Zrj8YhVL4Y6qxv9w3Ji0etKg/NEjKJBJFrD8GQL4ZT4CkP8AXzPSdD9g/av+aoWDVpT9F3BAXUuKrP77ijtf6UKw/bq8wpZ1boT/wel+llWanPxggInB7nbU/8HpfpZVmpz+oaZIRtDCnP8f2BpiXoa0/7rlsmykbqj9MJpD/+IynPwlPMs+vB6c/MCDlvKQGqz96iinsAqSsPwlPMs+vB6c/",
          "dtype": "f8"
         },
         "yaxis": "y"
        },
        {
         "hovertemplate": "Category=[\"Baby Care<br>PC1=%{x}<br>PC2=%{y}<extra></extra>",
         "legendgroup": "[\"Baby Care",
         "marker": {
          "color": "#EF553B",
          "symbol": "circle"
         },
         "mode": "markers",
         "name": "[\"Baby Care",
         "showlegend": true,
         "type": "scattergl",
         "x": {
          "bdata": "tDX3uMZXVj/S5jC/HL2VP9JxEHMtmp2/gEqA0zlxor/Ynoc3sDVTv9iehzewNVO/xpc650LRs79klH9xEXCtv8aXOudC0bO/sF3ekdANl7+S1aKswVBzv8jSgd1F9LK/2J6HN7A1U7/4PFU8pQiAv+pcq3XE07K/zPYzULYzlj9t5WLcSzW9v8FzEMo+TL6/mwUO1c9rtr+XxIJGuMy3v8FzEMo+TL6/wXMQyj5Mvr9t5WLcSzW9v+MruXL3eLC/4yu5cvd4sL9vtFeyTn2wv+MruXL3eLC/q5+LaZGTsL+866sbN7CMP9iehzewNVO/Uqx7jcPsr797FiclJHylv8aXOudC0bO/exYnJSR8pb/jK7ly93iwv23lYtxLNb2/4yu5cvd4sL/H8ayW+2qmv2D2HOGJ2bK/Ea5/z6M+s78hDuiEnLG3vyg9tiiDSF4/xpc650LRs7+Ci/PAzoatv2qzRy/oO6y/n7y8dLRapr/jK7ly93iwv9iehzewNVO/2J6HN7A1U7/Ynoc3sDVTv+MruXL3eLC/4yu5cvd4sL/jK7ly93iwv+pcq3XE07K/beVi3Es1vb9t5WLcSzW9v9iehzewNVO/xpc650LRs7/0gupSopmCvwi7znqve7G/4yu5cvd4sL+C2sGXQZOfvyEO6IScsbe/89pt+K8prb+snAS6hLKqv4qL/JwqRaq/89pt+K8prb+hS+VbB9itv8IZPLrc6aG/OxivymD1o7+fvLx0tFqmv+MruXL3eLC/4yu5cvd4sL/jK7ly93iwv+MruXL3eLC/wXMQyj5Mvr+0Nfe4xldWP9xyqe3gW4a/2J6HN7A1U7+0Nfe4xldWP9iehzewNVO/9hOD5VU7d7/S5jC/HL2VPy9jte39vmC/n7y8dLRapr+0Nfe4xldWP9iehzewNVO/8dbEaLGnhz+0Nfe4xldWP9LmML8cvZU/2J6HN7A1U78qGHevvMVev9iehzewNVO/BoOi21E+mT/SR4lV03pTv8FzEMo+TL6/omR8/6l6X78Wm/tVDwd9v3E/iPgznnS//uS/B1uObb8WulkqSXlcv5IbQVmGGYQ/PVHYTooSgj9UKYlYOlajv+5G3ai80pO/2J6HN7A1U795xvl0RrtRv3sWJyUkfKW/2J6HN7A1U7+DFN/kcPipv3rQx/JZha+/kD3ahL+imr/Ynoc3sDVTv06JwP1IuFO/Jcthr62asL8tuUxiJDiyv9iehzewNVO/NFt9bVSStr80W31tVJK2vyXLYa+tmrC/SINgMA3TJD9Ig2AwDdMkP7LUQhBVw2Y/SINgMA3TJD+CoOWMxjS0v8JB3GU4DLS/jNHLjsXkpr/BcxDKPky+vyxTFRtu57C/I8IaGPrujj+XxIJGuMy3v8FzEMo+TL6/3LpNgff+q7/Ynoc3sDVTv9iehzewNVO/xpc650LRs78Yr7zt62CSP8FzEMo+TL6/2AXvkRhPUj+XxIJGuMy3v+x8zcBlUS6/7HzNwGVRLr/sfM3AZVEuv+x8zcBlUS6/7HzNwGVRLr/gO2LK0FsXv+x8zcBlUS6/7HzNwGVRLr/sfM3AZVEuv+x8zcBlUS6/",
          "dtype": "f8"
         },
         "xaxis": "x",
         "y": {
          "bdata": "bDvnKd1AvT80J1xvDrrUP54Yelirac0/2PhC5eeYzz9urzClnVuhP26vMKWdW6E/eP9hfHD9sz+U/tqWG6G2P3j/YXxw/bM/tBUNgh0ftz90h35aGHG4PzyK9BcYics/bq8wpZ1boT+veTYhfSarP1jrW9McIZE/Nw8iKDHY0j+ScBvsTyOpP5S8/8f+Q5A/O3q9PxXxpT98ZkuzyAGhP5S8/8f+Q5A/lLz/x/5DkD+ScBvsTyOpP1aEYOkJ3bM/VoRg6Qndsz+gW7Nwa5W2P1aEYOkJ3bM/iCTxkgz/qj9CbSeFhEujP26vMKWdW6E/Wt+asupdtD9vFgbzNhe3P3j/YXxw/bM/bxYG8zYXtz9WhGDpCd2zP5JwG+xPI6k/VoRg6Qndsz8Otq47PrKwP6GUfnMEs7E/L04b5dydpz+G8z8CF5OiP6cgyHpkE78/eP9hfHD9sz8EfMH2WPayP3oh1N3B57Q//pT2m2X90z9WhGDpCd2zP26vMKWdW6E/bq8wpZ1boT9urzClnVuhP1aEYOkJ3bM/VoRg6Qndsz9WhGDpCd2zP1jrW9McIZE/knAb7E8jqT+ScBvsTyOpP26vMKWdW6E/eP9hfHD9sz/ufUocof+nP49hac5IVLY/VoRg6Qndsz98fGwJODTMP4bzPwIXk6I/OLpMmnJ2tT8wGG5ALMGyPzSAwUL9IrY/OLpMmnJ2tT9bZUwHiP2hP5KkXDhZa9E/uq733mgT0T/+lPabZf3TP1aEYOkJ3bM/VoRg6Qndsz9WhGDpCd2zP1aEYOkJ3bM/lLz/x/5DkD9sO+cp3UC9Pyjg3jD4FsA/bq8wpZ1boT9sO+cp3UC9P26vMKWdW6E/cUqMIZzSrT80J1xvDrrUPz7KxYx+AbE//pT2m2X90z9sO+cp3UC9P26vMKWdW6E/xyu4Wy7doj9sO+cp3UC9PzQnXG8OutQ/bq8wpZ1boT9a6cuOGrm4P26vMKWdW6E/lTnoSTIu0j+ZDz6UcanRP5S8/8f+Q5A/V27JyJLtqz9jwJZH2ASyP2Q/eqTwca8/skfcnLmssT96PMIQsVCrP1bnMQb6F6o/4cAxgIGmpz/A6geIThFhPzAYg/6E6YI/bq8wpZ1boT9Ym3ZX8pXUP28WBvM2F7c/bq8wpZ1boT/NngNDo2bTP3s7l7ZuTLU/cMJi8saLZT9urzClnVuhP1bbZWkuH60/UCmUTpZglj/cn4YSwoSwP26vMKWdW6E/9cWBg6U5mD/1xYGDpTmYP1AplE6WYJY/B/02V+PZtT8H/TZX49m1P0jrH+NXHLQ/B/02V+PZtT8172yDPfmhP/83q/gNM6M/54dH5Rzarj+UvP/H/kOQP6Pa8+LMNp4/igZGXtZcoT98ZkuzyAGhP5S8/8f+Q5A/4AP/e2jksT9urzClnVuhP26vMKWdW6E/eP9hfHD9sz9YEHUuRne2P5S8/8f+Q5A/3gGdJLghuz98ZkuzyAGhP1MKWEtxUaY/UwpYS3FRpj9TClhLcVGmP1MKWEtxUaY/UwpYS3FRpj8cyBnNIfylP1MKWEtxUaY/UwpYS3FRpj9TClhLcVGmP1MKWEtxUaY/",
          "dtype": "f8"
         },
         "yaxis": "y"
        },
        {
         "hovertemplate": "Category=[\"Watches<br>PC1=%{x}<br>PC2=%{y}<extra></extra>",
         "legendgroup": "[\"Watches",
         "marker": {
          "color": "#00cc96",
          "symbol": "circle"
         },
         "mode": "markers",
         "name": "[\"Watches",
         "showlegend": true,
         "type": "scattergl",
         "x": {
          "bdata": "A3Dt2iOM17/BfOlaNSPhv6pulI5ZO96/4ENVPXsN1r/BfOlaNSPhvxiChvyr0dq/wXzpWjUj4b/BfOlaNSPhv8F86Vo1I+G/kqp5M5IU1b/BfOlaNSPhv90JT4GMW9C/VxA0BObW07/BfOlaNSPhv1ScBQd+tsm/GIKG/KvR2r+qbpSOWTvev8F86Vo1I+G/4ENVPXsN1r/BfOlaNSPhvygKY9MVwNW/LYnaYmup27/dCU+BjFvQv09q9Jt0GMu/wXzpWjUj4b9XiHDmDm/Qv8F86Vo1I+G/wXzpWjUj4b+KtVo7jvnhv0inwEjzfN2/bTjAo8jz278S0BrQYxvgv0inwEjzfN2/EtAa0GMb4L9Ip8BI83zdv4q1WjuO+eG/9BlSt/4o2r+vUptj9qzQv69Sm2P2rNC/52V23SFA2b+M0lbMZ+XRv5GwLW2YCty/irVaO4754b+ylF0SoDvYv8lbPHfjXdq/r1KbY/as0L+RsC1tmArcv4fDC/Qbbti/EtAa0GMb4L+KtVo7jvnhv8lbPHfjXdq/SVN/JVb+4b+vUptj9qzQv78NExKxx9u/kbAtbZgK3L+IhzH1t4vev4iHMfW3i96/iIcx9beL3r/JWzx3413av8lbPHfjXdq/SVN/JVb+4b8+Mm3jcLXTv2MqSN/gENy/yVs8d+Nd2r+/DRMSscfbv4q5BA9Th9u/iIcx9beL3r/nZXbdIUDZv4q1WjuO+eG/lKrjPC5E3r+KtVo7jvnhv4iHMfW3i96/52V23SFA2b+Hwwv0G27Yv5Sq4zwuRN6/iIcx9beL3r8DcO3aI4zXv4q1WjuO+eG/kbAtbZgK3L+vUptj9qzQv1eIcOYOb9C/LYnaYmup27/JWzx3413av4fDC/Qbbti/irVaO4754b+KtVo7jvnhv78NExKxx9u/EtAa0GMb4L8S0BrQYxvgv78NExKxx9u/irVaO4754b+UquM8LkTevxLQGtBjG+C/Ke+SObhW2r8V23HGDCjVvwNw7dojjNe/EtAa0GMb4L+KtVo7jvnhv7uu4+ST6dO/IvooWbDE178EikZp2xrPv78NExKxx9u/kbAtbZgK3L+/DRMSscfbv4q1WjuO+eG/EtAa0GMb4L9tOMCjyPPbvxLQGtBjG+C/52V23SFA2b9X5h6AMS7XvxLQGtBjG+C/r1KbY/as0L8K7JNFnz/Vv5GwLW2YCty/EtAa0GMb4L+KtVo7jvnhv5Sq4zwuRN6/jNJWzGfl0b9hms8hXYHXvxLQGtBjG+C/SVN/JVb+4b+KtVo7jvnhv5Sq4zwuRN6/kbAtbZgK3L+KtVo7jvnhvyl4K8H4yNy/wXzpWjUj4b8S0BrQYxvgv0inwEjzfN2/v3IWPETMzL8S0BrQYxvgv5f4GVMbCNu/l/gZUxsI27+X+BlTGwjbvxLQGtBjG+C/EtAa0GMb4L8S0BrQYxvgv4q1WjuO+eG/l/gZUxsI279cNgMWzPjRv5f4GVMbCNu/l/gZUxsI27+KtVo7jvnhv4q1WjuO+eG/XZTasHYo3r+KtVo7jvnhv3t8AdI4nuC/EtAa0GMb4L+KtVo7jvnhvy1oefNpwta/",
          "dtype": "f8"
         },
         "xaxis": "x",
         "y": {
          "bdata": "QRW7tZ9q0r96adGfPC3cv0RFiay6S9i/qzZJZWGb0L96adGfPC3cvz5f7NUD69S/emnRnzwt3L96adGfPC3cv3pp0Z88Ldy/5vD1pjkTzr96adGfPC3cv1oWbH2rcMa/9o731aLjyb96adGfPC3cvx9bQoTGOL+/Pl/s1QPr1L9ERYmsukvYv3pp0Z88Ldy/qzZJZWGb0L96adGfPC3cv7IPYzz1Ks2/VHwncmq9079aFmx9q3DGvzlWvAkP47y/emnRnzwt3L9il6EJF8/Cv3pp0Z88Ldy/emnRnzwt3L8QsELr+v3ev3nscUqFvta/nPgDa1jO1L/gASjFEaXbv3nscUqFvta/4AEoxRGl27957HFKhb7WvxCwQuv6/d6/lL7NbrIx1r8irvrvnPjJvyKu+u+c+Mm/ABPb+KUX1b8yVk+iefDJv+Wj3PmgzNe/ELBC6/r93r/3EiR2InrUv+Sc4f8sdda/Iq7675z4yb/lo9z5oMzXv+at/Soeu9S/4AEoxRGl278QsELr+v3ev+Sc4f8sdda/7Dh397gK378irvrvnPjJv8P6Rl4xede/5aPc+aDM17+xduxyiQjav7F27HKJCNq/sXbscokI2r/knOH/LHXWv+Sc4f8sdda/7Dh397gK37+YznQj1QrPv9+6vSZAcde/5Jzh/yx11r/D+kZeMXnXv6tSrf1dHte/sXbscokI2r8AE9v4pRfVvxCwQuv6/d6/6Dt4V2Cw2b8QsELr+v3ev7F27HKJCNq/ABPb+KUX1b/mrf0qHrvUv+g7eFdgsNm/sXbscokI2r9BFbu1n2rSvxCwQuv6/d6/5aPc+aDM178irvrvnPjJv2KXoQkXz8K/VHwncmq907/knOH/LHXWv+at/Soeu9S/ELBC6/r93r8QsELr+v3ev8P6Rl4xede/4AEoxRGl27/gASjFEaXbv8P6Rl4xede/ELBC6/r93r/oO3hXYLDZv+ABKMURpdu/1U015c0m1r/0/i59i+HQv0EVu7WfatK/4AEoxRGl278QsELr+v3ev75z1Uh5kc+/yo/wvQqc07/QceQ+Sr/Kv8P6Rl4xede/5aPc+aDM17/D+kZeMXnXvxCwQuv6/d6/4AEoxRGl27+c+ANrWM7Uv+ABKMURpdu/ABPb+KUX1b+uyT+pyBjVv+ABKMURpdu/Iq7675z4yb9uMy2BZgDNv+Wj3PmgzNe/4AEoxRGl278QsELr+v3ev+g7eFdgsNm/MlZPonnwyb9Xk0KSwjzRv+ABKMURpdu/7Dh397gK378QsELr+v3ev+g7eFdgsNm/5aPc+aDM178QsELr+v3ev3B7kDqRTta/emnRnzwt3L/gASjFEaXbv3nscUqFvta/Atnl1yIgxb/gASjFEaXbv9pliWSyF9e/2mWJZLIX17/aZYlkshfXv+ABKMURpdu/4AEoxRGl27/gASjFEaXbvxCwQuv6/d6/2mWJZLIX178axgPmk6LNv9pliWSyF9e/2mWJZLIX178QsELr+v3evxCwQuv6/d6/+cv9sc54178QsELr+v3ev/F6zF56mty/4AEoxRGl278QsELr+v3evwjFmwQtMdO/",
          "dtype": "f8"
         },
         "yaxis": "y"
        },
        {
         "hovertemplate": "Category=[\"Home Decor & Festive Needs<br>PC1=%{x}<br>PC2=%{y}<extra></extra>",
         "legendgroup": "[\"Home Decor & Festive Needs",
         "marker": {
          "color": "#ab63fa",
          "symbol": "circle"
         },
         "mode": "markers",
         "name": "[\"Home Decor & Festive Needs",
         "showlegend": true,
         "type": "scattergl",
         "x": {
          "bdata": "0HYPNGSxSL/Ynoc3sDVTvyAEiPwIieg/lL3iHsaPcj/sYjevLuKSPyAEiPwIieg/wE5mCmri4D/8rLapHgLiP8BOZgpq4uA/wE5mCmri4D8gBIj8CInoP8BOZgpq4uA/FYX84gX14T8jc+VdI//gPxqDFVWZ3Ns/IASI/AiJ6D9rOsJ5TdGNPyAEiPwIieg/wE5mCmri4D/Ynoc3sDVTv0VUEA/TBFW/IASI/AiJ6D8gBIj8CInoPyAEiPwIieg/IASI/AiJ6D8kII0d/DvgP/ystqkeAuI/IASI/AiJ6D8gBIj8CInoPxWF/OIF9eE/+DOGW3VZ2j+CsTCo1W3YP+ToI9tfs+A/IASI/AiJ6D+mfc0mxf/dP4GSTU80e9w/+DOGW3VZ2j8gBIj8CInoP4dlxyobvNw/IASI/AiJ6D/k6CPbX7PgPyAEiPwIieg/IASI/AiJ6D+mfc0mxf/dPyAEiPwIieg/Z3Ik/8Bl4D8gBIj8CInoP7D9DDTpOuc/lzFxSZRf4D8gBIj8CInoPyAEiPwIieg/IASI/AiJ6D8gBIj8CInoP/ystqkeAuI/I3PlXSP/4D8gBIj8CInoPyAEiPwIieg/2J6HN7A1U79jwVEAylLgPxWF/OIF9eE/wE5mCmri4D8gBIj8CInoPyAEiPwIieg/IASI/AiJ6D8gBIj8CInoPyQgjR38O+A//Ky2qR4C4j8gBIj8CInoPyAEiPwIieg/IASI/AiJ6D8gBIj8CInoPx/PdLAc39s/bLYnHIn34j9rOsJ5TdGNP+ToI9tfs+A/IASI/AiJ6D8gBIj8CInoPyAEiPwIieg/kyvOXoTq5T8gBIj8CInoP73Oo4CQXuA/IASI/AiJ6D9W2yiN+2bdPyAEiPwIieg/2J6HN7A1U7/Ynoc3sDVTv9iehzewNVO/Dsh7ifyNmT/YBe+RGE9SP7BRz/ezRog/ni7Sf26Zkz/2E4PlVTt3v3kReqW9l8S/7HzNwGVRLr/bF8oJDsndPyAEiPwIieg/L2O17f2+YL/Ynoc3sDVTv+ALMgENnik/ilW8oehFfj9gehPBeTyYPyAEiPwIieg/IASI/AiJ6D8gBIj8CInoPyAEiPwIieg/FYX84gX14T/noAR320FhP2PBUQDKUuA/FYX84gX14T+fu5VZ/IG9P5+7lVn8gb0/I3PlXSP/4D8gBIj8CInoP5TdkTjSmW4/OvpIvpVjo78vY7Xt/b5gvy9jte39vmC/L2O17f2+YL+KVbyh6EV+P67uuXD1K1C/K6PLMSP4Vb8gBIj8CInoPxYzhZnwamu/IASI/AiJ6D8AVgk82zEIP0T8BKRpJ1Q/IASI/AiJ6D8gBIj8CInoPxWF/OIF9eE/dyDuMydmUr93IO4zJ2ZSvyAEiPwIieg//t0T+pqebr/61/arv7VIv7DHVabIizE/t5tJTgLK4D/Ynoc3sDVTv4pVvKHoRX4/sMdVpsiLMT+OJLzSZsRKvyAEiPwIieg/IASI/AiJ6D8XNB2h/TjgPyAEiPwIieg/FzQdof044D8gBIj8CInoPyAEiPwIieg/V0S7XM4+jj/Qdg80ZLFIvyAEiPwIieg/",
          "dtype": "f8"
         },
         "xaxis": "x",
         "y": {
          "bdata": "FnOdwHcltj9urzClnVuhPxKIbV5uHt6/QXjhqvcuoz/2r5+MUIKaPxKIbV5uHt6/75y9ydvd07/W/uCnAgDVv++cvcnb3dO/75y9ydvd078SiG1ebh7ev++cvcnb3dO/VHMMlM+W1L9R3JyJzFvUvwJhevJ/2c+/EohtXm4e3r/+a2k0/VKfPxKIbV5uHt6/75y9ydvd079urzClnVuhP6gTuQnPAqU/EohtXm4e3r8SiG1ebh7evxKIbV5uHt6/EohtXm4e3r+bYg88yq/Sv9b+4KcCANW/EohtXm4e3r8SiG1ebh7ev1RzDJTPltS/zuOrBtkgsL+IX28Fz/euv7pkUzfrstO/EohtXm4e3r/nXT1OePW5v6ap742G6M6/zuOrBtkgsL8SiG1ebh7ev54y+JlMis+/EohtXm4e3r+6ZFM367LTvxKIbV5uHt6/EohtXm4e3r/nXT1OePW5vxKIbV5uHt6/RefLICTU0r8SiG1ebh7ev3rC6chMVdy/O9HHbstm0r8SiG1ebh7evxKIbV5uHt6/EohtXm4e3r8SiG1ebh7ev9b+4KcCANW/Udycicxb1L8SiG1ebh7evxKIbV5uHt6/bq8wpZ1boT+9n+H758fSv1RzDJTPltS/75y9ydvd078SiG1ebh7evxKIbV5uHt6/EohtXm4e3r8SiG1ebh7ev5tiDzzKr9K/1v7gpwIA1b8SiG1ebh7evxKIbV5uHt6/EohtXm4e3r8SiG1ebh7evxbrkVim182/+KS+Kp1q2L/+a2k0/VKfP7pkUzfrstO/EohtXm4e3r8SiG1ebh7evxKIbV5uHt6/TI9mflXxzL8SiG1ebh7ev3g0gtUkl9W/EohtXm4e3r8jC17DelfQvxKIbV5uHt6/bq8wpZ1boT9urzClnVuhP26vMKWdW6E/sGAuvv0EjD/eAZ0kuCG7PyMUg/nI6aA/9LuJXXrnnT9xSowhnNKtP0aVJspo1cO/UwpYS3FRpj/6JmC+oOjPvxKIbV5uHt6/PsrFjH4BsT9urzClnVuhP9LW/e7Q2bM/jBPopGuxnj+jBSjui8mdPxKIbV5uHt6/EohtXm4e3r8SiG1ebh7evxKIbV5uHt6/VHMMlM+W1L8M/s2ODuypP72f4fvnx9K/VHMMlM+W1L+r9NxHmVrTv6v03EeZWtO/Udycicxb1L8SiG1ebh7evxDBNfYxK7E/VM8D7fuefD8+ysWMfgGxPz7KxYx+AbE/PsrFjH4BsT+ME+ika7GePwWzTyX0Cqg/3oE06NFZqj8SiG1ebh7ev3a0u+8s/64/EohtXm4e3r+Ae879e7yuP6bRmRzcSqk/EohtXm4e3r8SiG1ebh7ev1RzDJTPltS/6FQke9WRqj/oVCR71ZGqPxKIbV5uHt6/tslQVP9Brj9EugOgTSWrP/hm7+8LAbA/prKDGCF4079urzClnVuhP4wT6KRrsZ4/+Gbv7wsBsD8igGAz8PGmPxKIbV5uHt6/EohtXm4e3r+y15SbIB3TvxKIbV5uHt6/steUmyAd078SiG1ebh7evxKIbV5uHt6/4kdtBh9Znj8Wc53AdyW2PxKIbV5uHt6/",
          "dtype": "f8"
         },
         "yaxis": "y"
        },
        {
         "hovertemplate": "Category=[\"Kitchen & Dining<br>PC1=%{x}<br>PC2=%{y}<extra></extra>",
         "legendgroup": "[\"Kitchen & Dining",
         "marker": {
          "color": "#FFA15A",
          "symbol": "circle"
         },
         "mode": "markers",
         "name": "[\"Kitchen & Dining",
         "showlegend": true,
         "type": "scattergl",
         "x": {
          "bdata": "6s1vyyv1pz89O0q6S81Xv4Nla2ATkkK/g2VrYBOSQr+DZWtgE5JCv4Nla2ATkkK/g2VrYBOSQr9iNJsQP8WVP1SUUMIJsZs/VJRQwgmxmz+eX0cnXbqpP0aMp9Vupp0/ev/H93GCoD+ALj7+WEIMP+7bCgTMTOE/gC4+/lhCDD8hStJDkf56P5H7t3H4xHA/IUrSQ5H+ej+sdB7L7PWKP7bVX2SZvXw/Gt43r1ISm7+iIUBtJgEzv5H7t3H4xHA/wLMOIkJ3Uz8+Y9nh1h1Sv8CzDiJCd1M/PmPZ4dYdUr9MDMAvBbE9PzzviLcMZVC/IUrSQ5H+ej8+Y9nh1h1SvyqlikvM4oc/ciqNAJcIS78+Y9nh1h1Svz5j2eHWHVK/oiFAbSYBM79yKo0AlwhLv6x0Hsvs9Yo/KqWKS8zihz8+Y9nh1h1Sv+xJbPZFX6C/ciqNAJcIS79yKo0AlwhLvyFK0kOR/no/oiFAbSYBM7/ecn7ewNaQP8g8EwsIQkA/wLMOIkJ3Uz8hStJDkf56P3IqjQCXCEu/PmPZ4dYdUr8+Y9nh1h1Sv6IhQG0mATO/ciqNAJcIS79yKo0AlwhLv6IhQG0mATO/dr4dFkIWNL+iIUBtJgEzvz5j2eHWHVK/PmPZ4dYdUr/ecn7ewNaQP4U//+WUAFG/ciqNAJcIS79yKo0AlwhLv8CzDiJCd1M/7Els9kVfoL9yKo0AlwhLv3IqjQCXCEu/ciqNAJcIS79fCCtO0dRpv6IhQG0mATO/ciqNAJcIS78+Y9nh1h1Sv6IhQG0mATO/g2VrYBOSQr8+Y9nh1h1Svz5j2eHWHVK/vs1PnaRLj7/Ynoc3sDVTv9iehzewNVO/2J6HN7A1U7+a6a4GZ21yP1T/TbNL/Zc/2J6HN7A1U7/Ynoc3sDVTv9iehzewNVO/mhEREdVsWb/Ynoc3sDVTv5oRERHVbFm/mhEREdVsWb+aERER1WxZv7OffaX8TnQ/mhEREdVsWb+aERER1WxZv5oRERHVbFm/mhEREdVsWb+aERER1WxZv5oRERHVbFm/mhEREdVsWb+aERER1WxZv5oRERHVbFm/mhEREdVsWb+aERER1WxZv5oRERHVbFm/mhEREdVsWb+aERER1WxZv9iehzewNVO/mhEREdVsWb+aERER1WxZv7kyAiOJLaU/2J6HN7A1U79FVBAP0wRVv9iehzewNVO/2J6HN7A1U7+AyX1to81Zv4AuPv5YQgw/2J6HN7A1U7/Ynoc3sDVTv9iehzewNVO/2J6HN7A1U7+KVbyh6EV+P5u69ii82qE/mhEREdVsWb/u2woEzEzhP9iehzewNVO/PTtKukvNV789O0q6S81Xvz07SrpLzVe/PTtKukvNV789O0q6S81Xvz07SrpLzVe/2J6HN7A1U79RPuErYF2LP1E+4StgXYs/UT7hK2Bdiz9RPuErYF2LP1JbQKsvL4Y/UT7hK2Bdiz+3mghz2v6gP7kyAiOJLaU/2J6HN7A1U7/Ynoc3sDVTv9iehzewNVO/2J6HN7A1U7+DZWtgE5JCv9Jc7AeiBHm/2J6HN7A1U784n7DdG/ZRP7kyAiOJLaU/",
          "dtype": "f8"
         },
         "xaxis": "x",
         "y": {
          "bdata": "ZrHpx7lDyT+Z7JKvPxapP4KHg9wRW7s/goeD3BFbuz+Ch4PcEVu7P4KHg9wRW7s/goeD3BFbuz9+AcDaCzHSP7aKFi3c+LQ/tooWLdz4tD+80sKRzwrLP/IJ0v1AEcw/v2zJZRXS2j+aYMTJ8jmnPzT0DhC1xdS/mmDEyfI5pz8O/XCFg3i3P3KDIt88l7U/Dv1whYN4tz9saqaKKHq2PxP5xSWRbbU/olmeOvQvsT9QoNUOOO+5P3KDIt88l7U/UaBOEzIzuj9TPmN5E7q5P1GgThMyM7o/Uz5jeRO6uT+6+OKxQ/G6P2fLdp9Ra7k/Dv1whYN4tz9TPmN5E7q5P17zeqcS3rY/XxpepQTutz9TPmN5E7q5P1M+Y3kTurk/UKDVDjjvuT9fGl6lBO63P2xqpoooerY/XvN6pxLetj9TPmN5E7q5P/gOaWyXrrg/XxpepQTutz9fGl6lBO63Pw79cIWDeLc/UKDVDjjvuT88K5MqI5K1P1BVsSsHELo/UaBOEzIzuj8O/XCFg3i3P18aXqUE7rc/Uz5jeRO6uT9TPmN5E7q5P1Cg1Q4477k/XxpepQTutz9fGl6lBO63P1Cg1Q4477k/fwLefuOOuT9QoNUOOO+5P1M+Y3kTurk/Uz5jeRO6uT88K5MqI5K1PyXWOnPmNrw/XxpepQTutz9fGl6lBO63P1GgThMyM7o/+A5pbJeuuD9fGl6lBO63P18aXqUE7rc/XxpepQTutz/SN8DRq1+6P1Cg1Q4477k/XxpepQTutz9TPmN5E7q5P1Cg1Q4477k/goeD3BFbuz9TPmN5E7q5P1M+Y3kTurk/VjvPlv79sz9urzClnVuhP26vMKWdW6E/bq8wpZ1boT9q/5qhYNWlP8jkNZWjhZ4/bq8wpZ1boT9urzClnVuhP26vMKWdW6E/9b4RhHsUqT9urzClnVuhP/W+EYR7FKk/9b4RhHsUqT/1vhGEexSpP/zG9tSBAaU/9b4RhHsUqT/1vhGEexSpP/W+EYR7FKk/9b4RhHsUqT/1vhGEexSpP/W+EYR7FKk/9b4RhHsUqT/1vhGEexSpP/W+EYR7FKk/9b4RhHsUqT/1vhGEexSpP/W+EYR7FKk/9b4RhHsUqT/1vhGEexSpP26vMKWdW6E/9b4RhHsUqT/1vhGEexSpP1gkYdEZfd8/bq8wpZ1boT+oE7kJzwKlP26vMKWdW6E/bq8wpZ1boT83QFXOzWKmP5pgxMnyOac/bq8wpZ1boT9urzClnVuhP26vMKWdW6E/bq8wpZ1boT+ME+ika7GeP5R5WM7qha8/9b4RhHsUqT809A4QtcXUv26vMKWdW6E/meySrz8WqT+Z7JKvPxapP5nskq8/Fqk/meySrz8WqT+Z7JKvPxapP5nskq8/Fqk/bq8wpZ1boT+vjBwnprKmP6+MHCemsqY/r4wcJ6aypj+vjBwnprKmP/rd2SkS4Kc/r4wcJ6aypj+AO0T2VsCWP1gkYdEZfd8/bq8wpZ1boT9urzClnVuhP26vMKWdW6E/bq8wpZ1boT+Ch4PcEVu7P3zflSjAkrQ/bq8wpZ1boT9gDHww09W6P1gkYdEZfd8/",
          "dtype": "f8"
         },
         "yaxis": "y"
        },
        {
         "hovertemplate": "Category=[\"Beauty and Personal Care<br>PC1=%{x}<br>PC2=%{y}<extra></extra>",
         "legendgroup": "[\"Beauty and Personal Care",
         "marker": {
          "color": "#19d3f3",
          "symbol": "circle"
         },
         "mode": "markers",
         "name": "[\"Beauty and Personal Care",
         "showlegend": true,
         "type": "scattergl",
         "x": {
          "bdata": "2J6HN7A1U7/Ynoc3sDVTv9iehzewNVO/V7pGVzKwjz9XukZXMrCPP5JzP6+HnZc/2J6HN7A1U79XukZXMrCPP4ZSu4CVj5I/xm4u9GOxoj/Ynoc3sDVTvxf2u+oybIs/NzaLeRb8hD/Ynoc3sDVTv9iehzewNVO/8FiIhiu/i7/Ynoc3sDVTv/BYiIYrv4u/2J6HN7A1U79+oNnDCdGgPwQhZo5bP6c/QkEIXAJ2qD+XxmfqScOvPwQhZo5bP6c/BCFmjls/pz8EIWaOWz+nP+q89pNg5J4/BCFmjls/pz8EIWaOWz+nPwQhZo5bP6c/BCFmjls/pz/qM6fBiE6gPwQhZo5bP6c/BCFmjls/pz8EIWaOWz+nPwQhZo5bP6c/BCFmjls/pz9+oNnDCdGgP17m3Gdbu6M/BCFmjls/pz8EIWaOWz+nPwQhZo5bP6c/BCFmjls/pz9ORPBXGBWWPx+qDsp7lqE/QkEIXAJ2qD/fTlL9vlm5v51mVVGIIqs/ocJTcn83rD8EIWaOWz+nP36g2cMJ0aA/BCFmjls/pz8EIWaOWz+nPwQhZo5bP6c/BCFmjls/pz8EIWaOWz+nPwQhZo5bP6c/BCFmjls/pz9CQQhcAnaoPwQhZo5bP6c/BCFmjls/pz+XxmfqScOvPwQhZo5bP6c/QkEIXAJ2qD8EIWaOWz+nPwQhZo5bP6c/BCFmjls/pz8fqg7Ke5ahPwQhZo5bP6c/BCFmjls/pz/qvPaTYOSePwQhZo5bP6c/BCFmjls/pz9T/IbfmL+KPwQhZo5bP6c/BCFmjls/pz/WNZzV1yiePwQhZo5bP6c/BCFmjls/pz8EIWaOWz+nPwQhZo5bP6c/BCFmjls/pz9KwPc0hV+rP8D2lMdgo0G/2J6HN7A1U7/Ynoc3sDVTv9iehzewNVO/2J6HN7A1U79QuWfcOTqIP9iehzewNVO/2J6HN7A1U7/Ynoc3sDVTvwDNkN7cDWc/2J6HN7A1U78X9rvqMmyLP9iehzewNVO/4GCJp1MTAj/Ynoc3sDVTv9iehzewNVO/2J6HN7A1U7/Ynoc3sDVTv+BgiadTEwI/2J6HN7A1U7/Ynoc3sDVTv9iehzewNVO/2J6HN7A1U7/gYImnUxMCP9iehzewNVO/2J6HN7A1U7/Ynoc3sDVTv49RBIrKYYo/j1EEisphij+MlSpw2HhVvyTRriKoeZK/6d8L5FG3jD+PUQSKymGKP9iehzewNVO/2J6HN7A1U7+PUQSKymGKP4yVKnDYeFW/B9aWVsNUR7+MlSpw2HhVv/ggqbW2fY2/jJUqcNh4Vb+MlSpw2HhVv+nfC+RRt4w/j1EEisphij/p3wvkUbeMP4yVKnDYeFW/jJUqcNh4Vb+PUQSKymGKP9iehzewNVO/2J6HN7A1U7/Ynoc3sDVTvwY52YBnwHg/ULln3Dk6iD/Ynoc3sDVTv9iehzewNVO/Mgejl6fOlD/Ynoc3sDVTvxf2u+oybIs/urMnNwIS0j8ogafv6FRcP5iRae7DUzi/4GCJp1MTAj/3ZKRd2mHQv9iehzewNVO/4GCJp1MTAj/Ynoc3sDVTv9iehzewNVO/",
          "dtype": "f8"
         },
         "xaxis": "x",
         "y": {
          "bdata": "bq8wpZ1boT9urzClnVuhP26vMKWdW6E/qLcFL1AD0z+otwUvUAPTP+Inr55tu9w/bq8wpZ1boT+otwUvUAPTP1Z6uiuD78s/FiUEFjKonj9urzClnVuhP8lcUWsk+KE/DEsFxxRnpT9urzClnVuhP26vMKWdW6E/PGCDA7Y0oz9urzClnVuhPzxggwO2NKM/bq8wpZ1boT91CPTnSpzeP5O7SaUAx+Q/OZynIFZS5D8nHpzLkufgP5O7SaUAx+Q/k7tJpQDH5D+Tu0mlAMfkP/UtX36HBN0/k7tJpQDH5D+Tu0mlAMfkP5O7SaUAx+Q/k7tJpQDH5D9kQDUihU3gP5O7SaUAx+Q/k7tJpQDH5D+Tu0mlAMfkP5O7SaUAx+Q/k7tJpQDH5D91CPTnSpzeP1lxJcU8QeM/k7tJpQDH5D+Tu0mlAMfkP5O7SaUAx+Q/k7tJpQDH5D8UkeOxzNDbP9zNkAcgnNw/OZynIFZS5D8/3Ci2q6/UP/Np36qMBt8/QgDtDQ2X3j+Tu0mlAMfkP3UI9OdKnN4/k7tJpQDH5D+Tu0mlAMfkP5O7SaUAx+Q/k7tJpQDH5D+Tu0mlAMfkP5O7SaUAx+Q/k7tJpQDH5D85nKcgVlLkP5O7SaUAx+Q/k7tJpQDH5D8nHpzLkufgP5O7SaUAx+Q/OZynIFZS5D+Tu0mlAMfkP5O7SaUAx+Q/k7tJpQDH5D/czZAHIJzcP5O7SaUAx+Q/k7tJpQDH5D/1LV9+hwTdP5O7SaUAx+Q/k7tJpQDH5D+mkYTSlfDbP5O7SaUAx+Q/k7tJpQDH5D+vXk7+l8PfP5O7SaUAx+Q/k7tJpQDH5D+Tu0mlAMfkP5O7SaUAx+Q/k7tJpQDH5D+PDaUScJTdPwFjbBux7Ks/bq8wpZ1boT9urzClnVuhP26vMKWdW6E/bq8wpZ1boT87bA7fPBOiP26vMKWdW6E/bq8wpZ1boT9urzClnVuhPxfzO+grFrI/bq8wpZ1boT/JXFFrJPihP26vMKWdW6E/muDoK84wrT9urzClnVuhP26vMKWdW6E/bq8wpZ1boT9urzClnVuhP5rg6CvOMK0/bq8wpZ1boT9urzClnVuhP26vMKWdW6E/bq8wpZ1boT+a4OgrzjCtP26vMKWdW6E/bq8wpZ1boT9urzClnVuhPwiC0NHQctI/CILQ0dBy0j+mlCC4RlumP6Fxkw5meZQ/HlpuCh9lzj8IgtDR0HLSP26vMKWdW6E/bq8wpZ1boT8IgtDR0HLSP6aUILhGW6Y/BnXrC/Oyrz+mlCC4RlumP4Wn72wylKQ/ppQguEZbpj+mlCC4RlumPx5abgofZc4/CILQ0dBy0j8eWm4KH2XOP6aUILhGW6Y/ppQguEZbpj8IgtDR0HLSP26vMKWdW6E/bq8wpZ1boT9urzClnVuhPzKmWx9wuaw/O2wO3zwToj9urzClnVuhP26vMKWdW6E/kFd+SZ2a0T9urzClnVuhP8lcUWsk+KE/kMB1BTAnsj8vHvvDtOqsP6TlaXAqY7A/muDoK84wrT/GhNhpLYbJv26vMKWdW6E/muDoK84wrT9urzClnVuhP26vMKWdW6E/",
          "dtype": "f8"
         },
         "yaxis": "y"
        },
        {
         "hovertemplate": "Category=[\"Computers<br>PC1=%{x}<br>PC2=%{y}<extra></extra>",
         "legendgroup": "[\"Computers",
         "marker": {
          "color": "#FF6692",
          "symbol": "circle"
         },
         "mode": "markers",
         "name": "[\"Computers",
         "showlegend": true,
         "type": "scattergl",
         "x": {
          "bdata": "2J6HN7A1U7/95CP8UEdav1NUx2KdY1i/U1THYp1jWL9TVMdinWNYv9iehzewNVO/KIGn7+hUXD/Ynoc3sDVTv9iehzewNVO/2J6HN7A1U7+kv0Fxs7VWv9iehzewNVO/id1Kg+5PV7/Ynoc3sDVTv9iehzewNVO/iiDSnQuLVb/Ynoc3sDVTv9iehzewNVO/pL9BcbO1Vr+J3UqD7k9Xv4ndSoPuT1e/2J6HN7A1U7/Ynoc3sDVTv4ndSoPuT1e/2J6HN7A1U7+kv0Fxs7VWv4ndSoPuT1e/pL9BcbO1Vr/Ynoc3sDVTv9iehzewNVO/id1Kg+5PV7/Ynoc3sDVTv9iehzewNVO/pL9BcbO1Vr/Ynoc3sDVTv9iehzewNVO/2J6HN7A1U7+kv0Fxs7VWv9iehzewNVO/id1Kg+5PV7+J3UqD7k9Xv9iehzewNVO/2J6HN7A1U7/Ynoc3sDVTv9iehzewNVO/2J6HN7A1U7/Ynoc3sDVTv+pLmsRYZ1m/pL9BcbO1Vr/Ynoc3sDVTv9iehzewNVO/2J6HN7A1U78Ai/uAfW1eP9iehzewNVO/2J6HN7A1U7/Ynoc3sDVTv4og0p0Li1W/2J6HN7A1U79Ytpnlf7Umv8At7PDqAFe/rnWwsIKfY7+udbCwgp9jv651sLCCn2O/rnWwsIKfY7+udbCwgp9jv651sLCCn2O/rnWwsIKfY7/2VMKcGG5Rv/ZUwpwYblG/9lTCnBhuUb9yoZN7t7VVv9woVKHDNFG/FJV1OJSLX7+w/Rw0KPJev3Tu52e/tFK/se6tatHzT7+x7q1q0fNPv9woVKHDNFG/dO7nZ7+0Ur/4RqsBwU8qP5snVf/ooVO/qKClm3c2Ib+5ZrgoVcpRvwQR6PZ+Wz4/mydV/+ihU7/cKFShwzRRv+B3pGtXS1O/se6tatHzT7+bJ1X/6KFTv+B3pGtXS1O/4Heka1dLU7/gd6RrV0tTv1NH3IcdLUC//eQj/FBHWr9yoZN7t7VVv3Khk3u3tVW/LaH9X74/S7/Ynoc3sDVTvyiBp+/oVFw/MC05d3AMWb9dbQojsDVWvw+KWqmxSle//eQj/FBHWr8NkrPqC7NavyPy2T/sUFq//eQj/FBHWr8IaFpNlKB0P3rdzQ29a1u/5qI8DU7HW78j8tk/7FBav4J4b7fFIlu/gqHxngh1Wb+CeG+3xSJbv/gnW1sXBFq/gnhvt8UiW7/95CP8UEdav/3kI/xQR1q//eQj/FBHWr/95CP8UEdav9qq5XjFgkQ/DZKz6guzWr+FFOcdsARav/3kI/xQR1q/EL1xYuibhj/95CP8UEdav1xQlW8J7Vm/gnhvt8UiW7/95CP8UEdav0inks5ycoO//eQj/FBHWr/SuzSHX1xSv4J4b7fFIlu/w0sV9CsoYL+33AVKzxF3P/3kI/xQR1q/I/LZP+xQWr+5ZrgoVcpRv6A/ILNZtUS/4PXdvVNLkj8ktsWpY4uSPyS2xalji5I/JLbFqWOLkj/uRt2ovNKTvyS2xalji5I/JLbFqWOLkj8ktsWpY4uSPyS2xalji5I/JLbFqWOLkj8ktsWpY4uSP+D13b1TS5I/",
          "dtype": "f8"
         },
         "xaxis": "x",
         "y": {
          "bdata": "bq8wpZ1boT+O6iayXFGuPxkCOxf1Fqw/GQI7F/UWrD8ZAjsX9RasP26vMKWdW6E/Lx77w7TqrD9urzClnVuhP26vMKWdW6E/bq8wpZ1boT8UPjBI/G+lP26vMKWdW6E/kKtxrW1Kpj9urzClnVuhP26vMKWdW6E/4g7geztJpD9urzClnVuhP26vMKWdW6E/FD4wSPxvpT+Qq3GtbUqmP5Crca1tSqY/bq8wpZ1boT9urzClnVuhP5Crca1tSqY/bq8wpZ1boT8UPjBI/G+lP5Crca1tSqY/FD4wSPxvpT9urzClnVuhP26vMKWdW6E/kKtxrW1Kpj9urzClnVuhP26vMKWdW6E/FD4wSPxvpT9urzClnVuhP26vMKWdW6E/bq8wpZ1boT8UPjBI/G+lP26vMKWdW6E/kKtxrW1Kpj+Qq3GtbUqmP26vMKWdW6E/bq8wpZ1boT9urzClnVuhP26vMKWdW6E/bq8wpZ1boT9urzClnVuhP7TfimOXpqs/FD4wSPxvpT9urzClnVuhP26vMKWdW6E/bq8wpZ1boT/2MTU8sXSmP26vMKWdW6E/bq8wpZ1boT9urzClnVuhP+IO4Hs7SaQ/bq8wpZ1boT8mQdiedrirP9H7SCSiDKk/JwbalFH/pD8nBtqUUf+kPycG2pRR/6Q/JwbalFH/pD8nBtqUUf+kPycG2pRR/6Q/JwbalFH/pD/oJyKZ1+mqP+gnIpnX6ao/6Ccimdfpqj88wuSypuOkP2ZRXlyny6w/N3NciUqPrD88cH16En+sPwalchQ3Oq0/+JNqbDuqrT/4k2psO6qtP2ZRXlyny6w/BqVyFDc6rT+GzqDb41ewP+hkNR9WZaw/2uAnkJMtsD9k1bQxCautPymukHin6LA/6GQ1H1ZlrD9mUV5cp8usP1qByFha+Kw/+JNqbDuqrT/oZDUfVmWsP1qByFha+Kw/WoHIWFr4rD9agchYWvisPzH6j4lEnq4/juomslxRrj88wuSypuOkPzzC5LKm46Q/3C084BGJrD9urzClnVuhPy8e+8O06qw/X+BYiSpTrD90dUUd6sikP31StGmENqY/juomslxRrj8LFNe5w4+tPyYm+k7WKLA/juomslxRrj96h9YuOOisP5K13e5TurA/ugH94WH+sD8mJvpO1iiwPyj6H5F+k7A/hnRFSUZIrj8o+h+RfpOwPwTBo+2ARK8/KPofkX6TsD+O6iayXFGuP47qJrJcUa4/juomslxRrj+O6iayXFGuP3prKPJGlbI/CxTXucOPrT97gV/VkHOrP47qJrJcUa4/SA9mwSTlyT+O6iayXFGuP9zkCWzpk68/KPofkX6TsD+O6iayXFGuP0ADeva/q6w/juomslxRrj8UZpU3OTyyPyj6H5F+k7A/cFhL2BVGsD+6oNWqXrGqP47qJrJcUa4/Jib6TtYosD9k1bQxCautPwZ/K+5zd7A/7VPHkwnH0j81rb0pqS7TPzWtvSmpLtM/Na29Kaku0z8wGIP+hOmCPzWtvSmpLtM/Na29Kaku0z81rb0pqS7TPzWtvSmpLtM/Na29Kaku0z81rb0pqS7TP+1Tx5MJx9I/",
          "dtype": "f8"
         },
         "yaxis": "y"
        }
       ],
       "layout": {
        "legend": {
         "title": {
          "text": "Category"
         },
         "tracegroupgap": 0
        },
        "template": {
         "data": {
          "bar": [
           {
            "error_x": {
             "color": "#2a3f5f"
            },
            "error_y": {
             "color": "#2a3f5f"
            },
            "marker": {
             "line": {
              "color": "#E5ECF6",
              "width": 0.5
             },
             "pattern": {
              "fillmode": "overlay",
              "size": 10,
              "solidity": 0.2
             }
            },
            "type": "bar"
           }
          ],
          "barpolar": [
           {
            "marker": {
             "line": {
              "color": "#E5ECF6",
              "width": 0.5
             },
             "pattern": {
              "fillmode": "overlay",
              "size": 10,
              "solidity": 0.2
             }
            },
            "type": "barpolar"
           }
          ],
          "carpet": [
           {
            "aaxis": {
             "endlinecolor": "#2a3f5f",
             "gridcolor": "white",
             "linecolor": "white",
             "minorgridcolor": "white",
             "startlinecolor": "#2a3f5f"
            },
            "baxis": {
             "endlinecolor": "#2a3f5f",
             "gridcolor": "white",
             "linecolor": "white",
             "minorgridcolor": "white",
             "startlinecolor": "#2a3f5f"
            },
            "type": "carpet"
           }
          ],
          "choropleth": [
           {
            "colorbar": {
             "outlinewidth": 0,
             "ticks": ""
            },
            "type": "choropleth"
           }
          ],
          "contour": [
           {
            "colorbar": {
             "outlinewidth": 0,
             "ticks": ""
            },
            "colorscale": [
             [
              0,
              "#0d0887"
             ],
             [
              0.1111111111111111,
              "#46039f"
             ],
             [
              0.2222222222222222,
              "#7201a8"
             ],
             [
              0.3333333333333333,
              "#9c179e"
             ],
             [
              0.4444444444444444,
              "#bd3786"
             ],
             [
              0.5555555555555556,
              "#d8576b"
             ],
             [
              0.6666666666666666,
              "#ed7953"
             ],
             [
              0.7777777777777778,
              "#fb9f3a"
             ],
             [
              0.8888888888888888,
              "#fdca26"
             ],
             [
              1,
              "#f0f921"
             ]
            ],
            "type": "contour"
           }
          ],
          "contourcarpet": [
           {
            "colorbar": {
             "outlinewidth": 0,
             "ticks": ""
            },
            "type": "contourcarpet"
           }
          ],
          "heatmap": [
           {
            "colorbar": {
             "outlinewidth": 0,
             "ticks": ""
            },
            "colorscale": [
             [
              0,
              "#0d0887"
             ],
             [
              0.1111111111111111,
              "#46039f"
             ],
             [
              0.2222222222222222,
              "#7201a8"
             ],
             [
              0.3333333333333333,
              "#9c179e"
             ],
             [
              0.4444444444444444,
              "#bd3786"
             ],
             [
              0.5555555555555556,
              "#d8576b"
             ],
             [
              0.6666666666666666,
              "#ed7953"
             ],
             [
              0.7777777777777778,
              "#fb9f3a"
             ],
             [
              0.8888888888888888,
              "#fdca26"
             ],
             [
              1,
              "#f0f921"
             ]
            ],
            "type": "heatmap"
           }
          ],
          "histogram": [
           {
            "marker": {
             "pattern": {
              "fillmode": "overlay",
              "size": 10,
              "solidity": 0.2
             }
            },
            "type": "histogram"
           }
          ],
          "histogram2d": [
           {
            "colorbar": {
             "outlinewidth": 0,
             "ticks": ""
            },
            "colorscale": [
             [
              0,
              "#0d0887"
             ],
             [
              0.1111111111111111,
              "#46039f"
             ],
             [
              0.2222222222222222,
              "#7201a8"
             ],
             [
              0.3333333333333333,
              "#9c179e"
             ],
             [
              0.4444444444444444,
              "#bd3786"
             ],
             [
              0.5555555555555556,
              "#d8576b"
             ],
             [
              0.6666666666666666,
              "#ed7953"
             ],
             [
              0.7777777777777778,
              "#fb9f3a"
             ],
             [
              0.8888888888888888,
              "#fdca26"
             ],
             [
              1,
              "#f0f921"
             ]
            ],
            "type": "histogram2d"
           }
          ],
          "histogram2dcontour": [
           {
            "colorbar": {
             "outlinewidth": 0,
             "ticks": ""
            },
            "colorscale": [
             [
              0,
              "#0d0887"
             ],
             [
              0.1111111111111111,
              "#46039f"
             ],
             [
              0.2222222222222222,
              "#7201a8"
             ],
             [
              0.3333333333333333,
              "#9c179e"
             ],
             [
              0.4444444444444444,
              "#bd3786"
             ],
             [
              0.5555555555555556,
              "#d8576b"
             ],
             [
              0.6666666666666666,
              "#ed7953"
             ],
             [
              0.7777777777777778,
              "#fb9f3a"
             ],
             [
              0.8888888888888888,
              "#fdca26"
             ],
             [
              1,
              "#f0f921"
             ]
            ],
            "type": "histogram2dcontour"
           }
          ],
          "mesh3d": [
           {
            "colorbar": {
             "outlinewidth": 0,
             "ticks": ""
            },
            "type": "mesh3d"
           }
          ],
          "parcoords": [
           {
            "line": {
             "colorbar": {
              "outlinewidth": 0,
              "ticks": ""
             }
            },
            "type": "parcoords"
           }
          ],
          "pie": [
           {
            "automargin": true,
            "type": "pie"
           }
          ],
          "scatter": [
           {
            "fillpattern": {
             "fillmode": "overlay",
             "size": 10,
             "solidity": 0.2
            },
            "type": "scatter"
           }
          ],
          "scatter3d": [
           {
            "line": {
             "colorbar": {
              "outlinewidth": 0,
              "ticks": ""
             }
            },
            "marker": {
             "colorbar": {
              "outlinewidth": 0,
              "ticks": ""
             }
            },
            "type": "scatter3d"
           }
          ],
          "scattercarpet": [
           {
            "marker": {
             "colorbar": {
              "outlinewidth": 0,
              "ticks": ""
             }
            },
            "type": "scattercarpet"
           }
          ],
          "scattergeo": [
           {
            "marker": {
             "colorbar": {
              "outlinewidth": 0,
              "ticks": ""
             }
            },
            "type": "scattergeo"
           }
          ],
          "scattergl": [
           {
            "marker": {
             "colorbar": {
              "outlinewidth": 0,
              "ticks": ""
             }
            },
            "type": "scattergl"
           }
          ],
          "scattermap": [
           {
            "marker": {
             "colorbar": {
              "outlinewidth": 0,
              "ticks": ""
             }
            },
            "type": "scattermap"
           }
          ],
          "scattermapbox": [
           {
            "marker": {
             "colorbar": {
              "outlinewidth": 0,
              "ticks": ""
             }
            },
            "type": "scattermapbox"
           }
          ],
          "scatterpolar": [
           {
            "marker": {
             "colorbar": {
              "outlinewidth": 0,
              "ticks": ""
             }
            },
            "type": "scatterpolar"
           }
          ],
          "scatterpolargl": [
           {
            "marker": {
             "colorbar": {
              "outlinewidth": 0,
              "ticks": ""
             }
            },
            "type": "scatterpolargl"
           }
          ],
          "scatterternary": [
           {
            "marker": {
             "colorbar": {
              "outlinewidth": 0,
              "ticks": ""
             }
            },
            "type": "scatterternary"
           }
          ],
          "surface": [
           {
            "colorbar": {
             "outlinewidth": 0,
             "ticks": ""
            },
            "colorscale": [
             [
              0,
              "#0d0887"
             ],
             [
              0.1111111111111111,
              "#46039f"
             ],
             [
              0.2222222222222222,
              "#7201a8"
             ],
             [
              0.3333333333333333,
              "#9c179e"
             ],
             [
              0.4444444444444444,
              "#bd3786"
             ],
             [
              0.5555555555555556,
              "#d8576b"
             ],
             [
              0.6666666666666666,
              "#ed7953"
             ],
             [
              0.7777777777777778,
              "#fb9f3a"
             ],
             [
              0.8888888888888888,
              "#fdca26"
             ],
             [
              1,
              "#f0f921"
             ]
            ],
            "type": "surface"
           }
          ],
          "table": [
           {
            "cells": {
             "fill": {
              "color": "#EBF0F8"
             },
             "line": {
              "color": "white"
             }
            },
            "header": {
             "fill": {
              "color": "#C8D4E3"
             },
             "line": {
              "color": "white"
             }
            },
            "type": "table"
           }
          ]
         },
         "layout": {
          "annotationdefaults": {
           "arrowcolor": "#2a3f5f",
           "arrowhead": 0,
           "arrowwidth": 1
          },
          "autotypenumbers": "strict",
          "coloraxis": {
           "colorbar": {
            "outlinewidth": 0,
            "ticks": ""
           }
          },
          "colorscale": {
           "diverging": [
            [
             0,
             "#8e0152"
            ],
            [
             0.1,
             "#c51b7d"
            ],
            [
             0.2,
             "#de77ae"
            ],
            [
             0.3,
             "#f1b6da"
            ],
            [
             0.4,
             "#fde0ef"
            ],
            [
             0.5,
             "#f7f7f7"
            ],
            [
             0.6,
             "#e6f5d0"
            ],
            [
             0.7,
             "#b8e186"
            ],
            [
             0.8,
             "#7fbc41"
            ],
            [
             0.9,
             "#4d9221"
            ],
            [
             1,
             "#276419"
            ]
           ],
           "sequential": [
            [
             0,
             "#0d0887"
            ],
            [
             0.1111111111111111,
             "#46039f"
            ],
            [
             0.2222222222222222,
             "#7201a8"
            ],
            [
             0.3333333333333333,
             "#9c179e"
            ],
            [
             0.4444444444444444,
             "#bd3786"
            ],
            [
             0.5555555555555556,
             "#d8576b"
            ],
            [
             0.6666666666666666,
             "#ed7953"
            ],
            [
             0.7777777777777778,
             "#fb9f3a"
            ],
            [
             0.8888888888888888,
             "#fdca26"
            ],
            [
             1,
             "#f0f921"
            ]
           ],
           "sequentialminus": [
            [
             0,
             "#0d0887"
            ],
            [
             0.1111111111111111,
             "#46039f"
            ],
            [
             0.2222222222222222,
             "#7201a8"
            ],
            [
             0.3333333333333333,
             "#9c179e"
            ],
            [
             0.4444444444444444,
             "#bd3786"
            ],
            [
             0.5555555555555556,
             "#d8576b"
            ],
            [
             0.6666666666666666,
             "#ed7953"
            ],
            [
             0.7777777777777778,
             "#fb9f3a"
            ],
            [
             0.8888888888888888,
             "#fdca26"
            ],
            [
             1,
             "#f0f921"
            ]
           ]
          },
          "colorway": [
           "#636efa",
           "#EF553B",
           "#00cc96",
           "#ab63fa",
           "#FFA15A",
           "#19d3f3",
           "#FF6692",
           "#B6E880",
           "#FF97FF",
           "#FECB52"
          ],
          "font": {
           "color": "#2a3f5f"
          },
          "geo": {
           "bgcolor": "white",
           "lakecolor": "white",
           "landcolor": "#E5ECF6",
           "showlakes": true,
           "showland": true,
           "subunitcolor": "white"
          },
          "hoverlabel": {
           "align": "left"
          },
          "hovermode": "closest",
          "mapbox": {
           "style": "light"
          },
          "paper_bgcolor": "white",
          "plot_bgcolor": "#E5ECF6",
          "polar": {
           "angularaxis": {
            "gridcolor": "white",
            "linecolor": "white",
            "ticks": ""
           },
           "bgcolor": "#E5ECF6",
           "radialaxis": {
            "gridcolor": "white",
            "linecolor": "white",
            "ticks": ""
           }
          },
          "scene": {
           "xaxis": {
            "backgroundcolor": "#E5ECF6",
            "gridcolor": "white",
            "gridwidth": 2,
            "linecolor": "white",
            "showbackground": true,
            "ticks": "",
            "zerolinecolor": "white"
           },
           "yaxis": {
            "backgroundcolor": "#E5ECF6",
            "gridcolor": "white",
            "gridwidth": 2,
            "linecolor": "white",
            "showbackground": true,
            "ticks": "",
            "zerolinecolor": "white"
           },
           "zaxis": {
            "backgroundcolor": "#E5ECF6",
            "gridcolor": "white",
            "gridwidth": 2,
            "linecolor": "white",
            "showbackground": true,
            "ticks": "",
            "zerolinecolor": "white"
           }
          },
          "shapedefaults": {
           "line": {
            "color": "#2a3f5f"
           }
          },
          "ternary": {
           "aaxis": {
            "gridcolor": "white",
            "linecolor": "white",
            "ticks": ""
           },
           "baxis": {
            "gridcolor": "white",
            "linecolor": "white",
            "ticks": ""
           },
           "bgcolor": "#E5ECF6",
           "caxis": {
            "gridcolor": "white",
            "linecolor": "white",
            "ticks": ""
           }
          },
          "title": {
           "x": 0.05
          },
          "xaxis": {
           "automargin": true,
           "gridcolor": "white",
           "linecolor": "white",
           "ticks": "",
           "title": {
            "standoff": 15
           },
           "zerolinecolor": "white",
           "zerolinewidth": 2
          },
          "yaxis": {
           "automargin": true,
           "gridcolor": "white",
           "linecolor": "white",
           "ticks": "",
           "title": {
            "standoff": 15
           },
           "zerolinecolor": "white",
           "zerolinewidth": 2
          }
         }
        },
        "title": {
         "text": "PCA Visualization"
        },
        "xaxis": {
         "anchor": "y",
         "domain": [
          0,
          1
         ],
         "title": {
          "text": "PC1 (8.75% variance)"
         }
        },
        "yaxis": {
         "anchor": "x",
         "domain": [
          0,
          1
         ],
         "title": {
          "text": "PC2 (7.94% variance)"
         }
        }
       }
      }
     },
     "metadata": {},
     "output_type": "display_data"
    },
    {
     "name": "stdout",
     "output_type": "stream",
     "text": [
      "\n",
      "Applying t-SNE to product name features...\n"
     ]
    },
    {
     "name": "stderr",
     "output_type": "stream",
     "text": [
      "/Users/najia/git_repo/mission6/mission6_venv/lib/python3.12/site-packages/sklearn/utils/extmath.py:335: RuntimeWarning:\n",
      "\n",
      "divide by zero encountered in matmul\n",
      "\n",
      "/Users/najia/git_repo/mission6/mission6_venv/lib/python3.12/site-packages/sklearn/utils/extmath.py:335: RuntimeWarning:\n",
      "\n",
      "overflow encountered in matmul\n",
      "\n",
      "/Users/najia/git_repo/mission6/mission6_venv/lib/python3.12/site-packages/sklearn/utils/extmath.py:335: RuntimeWarning:\n",
      "\n",
      "invalid value encountered in matmul\n",
      "\n",
      "/Users/najia/git_repo/mission6/mission6_venv/lib/python3.12/site-packages/sklearn/utils/extmath.py:336: RuntimeWarning:\n",
      "\n",
      "divide by zero encountered in matmul\n",
      "\n",
      "/Users/najia/git_repo/mission6/mission6_venv/lib/python3.12/site-packages/sklearn/utils/extmath.py:336: RuntimeWarning:\n",
      "\n",
      "overflow encountered in matmul\n",
      "\n",
      "/Users/najia/git_repo/mission6/mission6_venv/lib/python3.12/site-packages/sklearn/utils/extmath.py:336: RuntimeWarning:\n",
      "\n",
      "invalid value encountered in matmul\n",
      "\n",
      "/Users/najia/git_repo/mission6/mission6_venv/lib/python3.12/site-packages/sklearn/utils/extmath.py:340: RuntimeWarning:\n",
      "\n",
      "divide by zero encountered in matmul\n",
      "\n",
      "/Users/najia/git_repo/mission6/mission6_venv/lib/python3.12/site-packages/sklearn/utils/extmath.py:340: RuntimeWarning:\n",
      "\n",
      "overflow encountered in matmul\n",
      "\n",
      "/Users/najia/git_repo/mission6/mission6_venv/lib/python3.12/site-packages/sklearn/utils/extmath.py:340: RuntimeWarning:\n",
      "\n",
      "invalid value encountered in matmul\n",
      "\n",
      "/Users/najia/git_repo/mission6/mission6_venv/lib/python3.12/site-packages/sklearn/utils/extmath.py:533: RuntimeWarning:\n",
      "\n",
      "divide by zero encountered in matmul\n",
      "\n",
      "/Users/najia/git_repo/mission6/mission6_venv/lib/python3.12/site-packages/sklearn/utils/extmath.py:533: RuntimeWarning:\n",
      "\n",
      "overflow encountered in matmul\n",
      "\n",
      "/Users/najia/git_repo/mission6/mission6_venv/lib/python3.12/site-packages/sklearn/utils/extmath.py:533: RuntimeWarning:\n",
      "\n",
      "invalid value encountered in matmul\n",
      "\n",
      "/Users/najia/git_repo/mission6/mission6_venv/lib/python3.12/site-packages/sklearn/utils/extmath.py:547: RuntimeWarning:\n",
      "\n",
      "divide by zero encountered in matmul\n",
      "\n",
      "/Users/najia/git_repo/mission6/mission6_venv/lib/python3.12/site-packages/sklearn/utils/extmath.py:547: RuntimeWarning:\n",
      "\n",
      "overflow encountered in matmul\n",
      "\n",
      "/Users/najia/git_repo/mission6/mission6_venv/lib/python3.12/site-packages/sklearn/utils/extmath.py:547: RuntimeWarning:\n",
      "\n",
      "invalid value encountered in matmul\n",
      "\n"
     ]
    },
    {
     "data": {
      "application/vnd.plotly.v1+json": {
       "config": {
        "plotlyServerURL": "https://plot.ly"
       },
       "data": [
        {
         "hovertemplate": "Category=[\"Home Furnishing<br>t-SNE1=%{x}<br>t-SNE2=%{y}<extra></extra>",
         "legendgroup": "[\"Home Furnishing",
         "marker": {
          "color": "#636efa",
          "symbol": "circle"
         },
         "mode": "markers",
         "name": "[\"Home Furnishing",
         "showlegend": true,
         "type": "scattergl",
         "x": {
          "bdata": "iSSVQlTF3kHKwfJBE1SlQlKPrMLKPsxCDEOXwgxDl8KNbYtCjW2LQqcOAULaPZhCijamwYo2psERtmfC56Y1wIo2psEJHYPCyYupwgH+ssIB/rLC9AHPQgxDl8L8awxCkO4qwlKjCEKW5sVBAlyIQcAxnUKOJMvBvELawc3ivUJ9H4vCDEOXwuv7kEJrc0VCtbKPQjH9dEJfpYpCBmGAQi0VpULibapCvSttQq+ivcIf46jCNCtCQuc0G8IQNx7CO7kQwkkk58EisynCxLMUwmDejsEisynCIrMpwupdlcE/p0bCfSgvwocUAsIu58PBvFV2woWRDMLZi69CeBKyQlyMpELN4r1CW9+YwjZF2cBjECbBEf5zwGOPSMEFVGHCNjcPweVH1j+MoC3BlspkwB/jqMKNjTjCjE8jwhpsM8IPGBDC2bIUwnY3R8E5Sc/AFtXSwK0hokKvor3CH+OowqgC3EIf46jC27LPQlvfmMLbss9CW9+YwqgC3EKvor3CqJARwqgC3EKoAtxCiMrkQtuyz0KoAtxCqALcQtuyz0JlYclCr54NwmVKykKoAtxCqALcQtuyz0KtqbdCr6K9wqgC3EIYd7LCZUrKQgFXx8F424fA5zQbwkkk58FW9tDB5LkHwiPh4cGFYqXB2ygTwjXO7j9Bt71Ci95iwstEJsJg3o7Bqe9ywhenn0KMJQrCfo/9weACn8ETVKVCW8LPQi5MSsIbrybCXGZNQgH+ssLGbh1CAf6ywgn2O0LWt5ZCYiSEQpxLW0JKv2JCUuBkQgf4rkJKv2JC",
          "dtype": "f4"
         },
         "xaxis": "x",
         "y": {
          "bdata": "zaefwh4jfkKRYqBCIFTJQt9CgEFIOxpDrIsFwayLBcFpPm7BaT5uwX0erkK7xxNC/hSrwv4Uq8IKatVBba2fwv4Uq8Ku1L9BfuQEwuGT+0Dhk/tAT5kOwayLBcHsFHVCXScuQS4mlUKJxo5C4EGHQo7nrsIKXbhCeAjAQk/tFkLH5Pa/rIsFwb09ksL/emHC3GWCwg8UbsLCWqfCtyKfwuAhlcKoCJ7CmIxcwjlqP8HLo47BkVbNQvRX/0Ftl5lBzOJSwjlZlcIDsV3CIM+vQH5HmsIDsV3CA7Fdwik3bEK7ql/CX5GvQejggMKFoTJC46U3wrI+sEGWm7BAd9kFv2llDUFP7RZC3zzcwfsLxcLwObzCij7Owu6SysJA4xpCtRCuwt9vt8JzR6HCl820wsujjsEbOgnCBeIXwgVyKMLFVifC2AQJwpyWakKxWWlC4AtQQkOffMI5aj/By6OOwUXvDUPLo47Bzp3aQt883MHOndpC3zzcwUXvDUM5aj/BRhG1wkXvDUNF7w1Dt3POQs6d2kJF7w1DRe8NQ86d2kLTucNCgyidwpip80JF7w1DRe8NQ86d2kJJ7PVCOWo/wUXvDUOF/tzBmKnzQu1tJ8JfhYxC9Ff/QTlZlcKq2P/BkJGrwnpcEsKXwcXCfBXTwcQfaEKMkVxCw2hGwi19wsF+R5rC0/vuQeK0Lr5hiEBBK4ZeQnfpAcIgVMlCldjYQVROSEI5xHpCcCUvQeGT+0Bju4RC4ZP7QDSbdcJgrInC8J2Swv+DdMLw4IfCIFKcwphwjsLw4IfC",
          "dtype": "f4"
         },
         "yaxis": "y"
        },
        {
         "hovertemplate": "Category=[\"Baby Care<br>t-SNE1=%{x}<br>t-SNE2=%{y}<extra></extra>",
         "legendgroup": "[\"Baby Care",
         "marker": {
          "color": "#EF553B",
          "symbol": "circle"
         },
         "mode": "markers",
         "name": "[\"Baby Care",
         "showlegend": true,
         "type": "scattergl",
         "x": {
          "bdata": "qALcQtuyz0J+BUzCKdtqwnTPU8H/x2o/ta6YwvlTRsK1rpjCKVUIw6rSGcIk3fTC7YYgwBo1LsKL95nCs67EQjSVlcIYA5PCUbNawuLteMIYA5PCGAOTwjSVlcIpB+PCKQfjwkI/z8IpB+PCt1NGwqfOvkLDZ95B0Zd4wlnmssK1rpjCWeaywikH48I0lZXCKQfjwtfM3ML3TcvCBKtawr0VtMJlSspCta6Ywnh4n8LimIXCoCZ6wikH48Jcr8bBdN3FQKoHCMEpB+PCKQfjwikH48KL95nCNJWVwjSVlcLDClRBta6YwjP648IUVaLCKQfjwrBqYcK9FbTCs9XiwmmaxsKQRgHDs9XiwmMriMIvQ0bCEaZjwqAmesIpB+PCKQfjwikH48IpB+PCGAOTwqgC3EIeOOhCMdgJQqgC3EKj6RRC5dgJwtuyz0J9nPLBoCZ6wqgC3EJH0ApCOMScQqgC3ELbss9CTI4qQqf7ucHWCExCLc77QuqknUIYA5PCKgWhwe0xPj+WNYHCFR2rwIEE58EiMipC5OGtQo4iOsM4mrzCXGZNQrqQ7EJZ5rLCXGZNQojLrcIrPprCztNhQlxmTUK//RDCrRSvwvYavsJcZk1CNlHFwjZRxcKtFK/ClubFQZbmxUF7AiZClubFQfWjw8LyBcLCOPrVwhgDk8KY7YnCdvU6QuLteMIYA5PCzhi5wlxmTUJcZk1Cta6YwpiCsEIYA5PC5dGYQuLteMIfLAZDHywGQx8sBkMfLAZDHywGQ/W6EUMfLAZDHywGQx8sBkMfLAZD",
          "dtype": "f4"
         },
         "xaxis": "x",
         "y": {
          "bdata": "Re8NQ86d2kJF0SBDjA8pQ/uf4MBKI/zAr/wOQ/jQBUOv/A5DK3QNQzDYpkLZDwFDFfLTwfbpoUJRl6VCl1wfQ8Wx9UK2qtJCWm/fQg5+s0K2qtJCtqrSQsWx9ULvaRRD72kUQz/rDEPvaRRDK1fdQh2tqUFifBnB+jghQ2ks9EKv/A5DaSz0Qu9pFEPFsfVC72kUQ2mwA0N6+RZD6Pq3Qg+7ykKYqfNCr/wOQ0VMGUORqQdD3wIUQ+9pFEMMAsxBZ188QjhTIkLvaRRD72kUQ+9pFENRl6VCxbH1QsWx9UKu9ZpBr/wOQ8P+sUIaxQVD72kUQ6OzLUMPu8pCBNgjQ5tZIUN2lRBDBNgjQxqzlkLvsApDCDsiQ98CFEPvaRRD72kUQ+9pFEPvaRRDtqrSQkXvDUPiqwJDgm3SQUXvDUMVPvA/ioh6Qs6d2kLTRvFC3wIUQ0XvDUM6FJVBOesjQkXvDUPOndpCd6nqQZjQlEIRbh5CXjV3QZKvu0K2qtJC3TQ4QiUfi0JoNZZB/jqAQjnwJkLUVi7CqyWWwetRhEEIjWPCcCUvQUr0xUJpLPRCcCUvQV0qD0M7hCRD2nAEQ3AlL0EDBR9CEQyiQm+ajkJwJS9BMcqnQjHKp0IRDKJCicaOQonGjkKWV3JCicaOQl87l0L5A7ZCvDr5Qraq0kIuEqFCLYMzwg5+s0K2qtJCSs8iQ3AlL0FwJS9Br/wOQ0eeDMO2qtJCaOreQg5+s0Ln9NPC5/TTwuf008Ln9NPC5/TTwryjtcLn9NPC5/TTwuf008Ln9NPC",
          "dtype": "f4"
         },
         "yaxis": "y"
        },
        {
         "hovertemplate": "Category=[\"Watches<br>t-SNE1=%{x}<br>t-SNE2=%{y}<extra></extra>",
         "legendgroup": "[\"Watches",
         "marker": {
          "color": "#00cc96",
          "symbol": "circle"
         },
         "mode": "markers",
         "name": "[\"Watches",
         "showlegend": true,
         "type": "scattergl",
         "x": {
          "bdata": "KhorwzxK6sK5qcrCbz6WwjxK6sI/4N3CPErqwjxK6sI8SurCqdGQwjxK6sLzf4LCHcyDwjxK6sK1sWXCP+DdwrmpysI8SurCbz6WwjxK6sL9C5LCxZjHwvN/gsLUlWbCPErqwvIxgsI8SurCPErqwuMfBsPlWCDDm24Rwy+MMsPSohnDL4wyw+VYIMPjHwbDSFQDwzN09cIzdPXCyRc2wzg3OMNeVELD4x8GwwITDcPOizbDM3T1wl5UQsO7Uj/DL4wyw+MfBsPOizbDEPIowzN09cIK9BHDXlRCwxpzJsMacybDGnMmw86LNsPOizbDEPIow456rMKqMA3Dzos2wwr0EcMkcyrDGnMmw8kXNsPjHwbDfvPvwuMfBsMacybDyRc2w7tSP8N+8+/CGnMmwyoaK8PjHwbDXlRCwzN09cLyMYLCxZjHws6LNsO7Uj/D4x8Gw+MfBsMK9BHDL4wywy+MMsMK9BHD4x8Gw37z78IvjDLDpg/8whI5P8MqGivDL4wyw+MfBsOpxK7CRvs6w4SOnMIK9BHDXlRCwwr0EcPjHwbDL4wyw5tuEcMvjDLDyRc2wyoGQ8MvjDLDM3T1wnnTn8JeVELDL4wyw+MfBsN+8+/CODc4w5aAHsMvjDLDEPIow+MfBsN+8+/CXlRCw+MfBsMOD/7CPErqwi+MMsPlWCDDK7qHwi+MMsN/i9/CChvXwn+L38IvjDLDL4wywy+MMsPjHwbDChvXwjQ4zMIKG9fCChvXwuMfBsPjHwbDC4YPw+MfBsPfQxDDL4wyw+MfBsP7ghXD",
          "dtype": "f4"
         },
         "xaxis": "x",
         "y": {
          "bdata": "CHlxQRcn7sKYSuXCBB+wwhcn7sJUWQTDFyfuwhcn7sIXJ+7ChlaMwhcn7sKCdrHCruOQwhcn7sLiLrTCVFkEw5hK5cIXJ+7CBB+wwhcn7sLbk5/CD3PNwoJ2scLcyZrCFyfuwgg2n8IXJ+7CFyfuwknAtsJiLirCPuBawpxQEMLVfCPCnFAQwmIuKsJJwLbCiisXwlYaksFWGpLBxnXcvhnxE0EbUn/CScC2wi7o1cGmJb/CVhqSwRtSf8KTY5/CnFAQwknAtsKmJb/CYehrwlYaksGW4IjBG1J/wj2+yMI9vsjCPb7IwqYlv8KmJb/CYehrwtZTmsLdvNTCpiW/wpbgiME6kI5APb7IwsZ13L5JwLbCh80mwknAtsI9vsjCxnXcvpNjn8KHzSbCPb7Iwgh5cUFJwLbCG1J/wlYaksEINp/CD3PNwqYlv8KTY5/CScC2wknAtsKW4IjBnFAQwpxQEMKW4IjBScC2wofNJsKcUBDCy6YKwlZ8McAIeXFBnFAQwknAtsLY07fCnLu7wbDUwMKW4IjBG1J/wpbgiMFJwLbCnFAQwj7gWsKcUBDCxnXcvkuvDsKcUBDCVhqSwRKpm8IbUn/CnFAQwknAtsKHzSbCGfETQfWUAcKcUBDCYehrwknAtsKHzSbCG1J/wknAtsJEdQHDFyfuwpxQEMJiLirC4QHCwpxQEMKR+4PChgqRwpH7g8KcUBDCnFAQwpxQEMJJwLbChgqRwpJggMKGCpHChgqRwknAtsJJwLbCO/tzwknAtsIWVorCnFAQwknAtsIduJDC",
          "dtype": "f4"
         },
         "yaxis": "y"
        },
        {
         "hovertemplate": "Category=[\"Home Decor & Festive Needs<br>t-SNE1=%{x}<br>t-SNE2=%{y}<extra></extra>",
         "legendgroup": "[\"Home Decor & Festive Needs",
         "marker": {
          "color": "#ab63fa",
          "symbol": "circle"
         },
         "mode": "markers",
         "name": "[\"Home Decor & Festive Needs",
         "showlegend": true,
         "type": "scattergl",
         "x": {
          "bdata": "kIqVQu4e6cB1ohxDIvJrQncpBUN1ohxD2KRHQylSEEPYpEdD2KRHQ3WiHEPYpEdDE1k4Q+pN6EJxlOVCdaIcQ5OGs0J1ohxD2KRHQwibEMEHv07CdaIcQ3WiHEN1ohxDdaIcQ1Dx9kIpUhBDdaIcQ3WiHEMTWThD2SvFQjCD2kJmrvBCdaIcQyRvJUNib79C2SvFQnWiHENWUzBDdaIcQ2au8EJ1ohxDdaIcQyRvJUN1ohxDGLvfQnWiHEO7JUJD43IDQ3WiHEN1ohxDdaIcQ3WiHEMpUhBD6k3oQnWiHEN1ohxDu8oTv+6IDUMTWThD2KRHQ3WiHEN1ohxDdaIcQ3WiHENQ8fZCKVIQQ3WiHEN1ohxDdaIcQ3WiHENIHftCyTwsQ5OGs0JmrvBCdaIcQ3WiHEN1ohxDKmo9Q3WiHENcvChDdaIcQ38IREN1ohxDGWuaQRd3l0FQ/MZAlF3oQuXRmEJj4gRDNADuQuXYCcKJ1NtCHywGQ8/BP0N1ohxDfZzywY/ZhEGlcajBRA8YQyhy2kJ1ohxDdaIcQ3WiHEN1ohxDE1k4Q77FP0HuiA1DE1k4Qyj410Io+NdC6k3oQnWiHEO87F9C47aBwn2c8sF9nPLBfZzywUQPGENkSILC2p64QXWiHEMDF7lBdaIcQ33L3kG4nEBBdaIcQ3WiHEMTWThDK3CcQCtwnEB1ohxDojyUQZ/cBML8NwRBujjzQlxmTUJEDxhD/DcEQU22jsJ1ohxDdaIcQ6shH0N1ohxDqyEfQ3WiHEN1ohxDK+YNQ5CKlUJ1ohxD",
          "dtype": "f4"
         },
         "xaxis": "x",
         "y": {
          "bdata": "xgIDw0dJ/L9p5ffAv23mwRmar8Jp5ffAbB3MwSz/OsJsHczBbB3MwWnl98BsHczB5V9ewhfrNMJZfgnCaeX3wHhNW0Fp5ffAbB3MwbBet0DOmmTBaeX3wGnl98Bp5ffAaeX3wJyoPUIs/zrCaeX3wGnl98DlX17C1pwvwmnR2sCh+I/AaeX3wKlMH8JwDaRA1pwvwmnl98DTp3rCaeX3wKH4j8Bp5ffAaeX3wKlMH8Jp5ffAHbHIQWnl98Balt1BkKI/QWnl98Bp5ffAaeX3wGnl98As/zrCF+s0wmnl98Bp5ffAeoHTv+Kk0EHlX17CbB3MwWnl98Bp5ffAaeX3wGnl98CcqD1CLP86wmnl98Bp5ffAaeX3wGnl98AZU8vBZJKjQXhNW0Gh+I/AaeX3wGnl98Bp5ffAp2O0QWnl98Ckg7lBaeX3wMdLFcJp5ffA84DCQWoD/kHy3K1BN9B8wmjq3kIKsrvCCfeHwoqIekKJvXzC5/TTwrWxesJp5ffA00bxQnIxTELpYvdCyYVhQgQn9MFp5ffAaeX3wGnl98Bp5ffA5V9ewkoNZMLipNBB5V9ewuF5YsLheWLCF+s0wmnl98DO0vzBS87KwtNG8ULTRvFC00bxQsmFYUKunynC0LlPwmnl98DgYmTCaeX3wN12S8IGIobCaeX3wGnl98DlX17COyF3wjshd8Jp5ffAm9pywjxKn8FucEXCVG7ewXAlL0HJhWFCbnBFwmP800Fp5ffAaeX3wPHdI0Jp5ffA8d0jQmnl98Bp5ffAmGGuwsYCA8Np5ffA",
          "dtype": "f4"
         },
         "yaxis": "y"
        },
        {
         "hovertemplate": "Category=[\"Kitchen & Dining<br>t-SNE1=%{x}<br>t-SNE2=%{y}<extra></extra>",
         "legendgroup": "[\"Kitchen & Dining",
         "marker": {
          "color": "#FFA15A",
          "symbol": "circle"
         },
         "mode": "markers",
         "name": "[\"Kitchen & Dining",
         "showlegend": true,
         "type": "scattergl",
         "x": {
          "bdata": "zTKGQtCiwsKJAYdCiQGHQokBh0KJAYdCiQGHQl/5EELdU7tC3VO7QtXm1kKl8O1CmmyDwVsLl0Ju4zxDWwuXQkXeWkIYudJCRd5aQlerE0JZE8BCvYFoQndBMUIYudJCatkHQlSvtUJq2QdCVK+1QpC6tEIUmalCRd5aQlSvtUKBq+BBoSQSQlSvtUJUr7VCd0ExQqEkEkJXqxNCgavgQVSvtUKTz89CoSQSQqEkEkJF3lpCd0ExQjRmNUKFUJtCatkHQkXeWkKhJBJCVK+1QlSvtUJ3QTFCoSQSQqEkEkJ3QTFCLXX9QXdBMUJUr7VCVK+1QjRmNULI+l9CoSQSQqEkEkJq2QdCk8/PQqEkEkKhJBJCoSQSQguHnEJ3QTFCoSQSQlSvtUJ3QTFCiQGHQlSvtUJUr7VCw09fQvkXvsAYIVZBxz47QVvCz0Ie3QtDWdbsQW7ynkH2mJjB2y4kQzgy8kDbLiRD2y4kQ9suJEPevhtD2y4kQ9suJEPbLiRD2y4kQ9suJEPbLiRD2y4kQ9suJEPbLiRD2y4kQ9suJEPbLiRD2y4kQ9suJEPc3idA2y4kQ9suJENqnk/BxhcUPwe/TsJTRyVCpPzXwGXuhkJbC5dCuoqkQf5VK0KvQjFB6YMOQkQPGEOM1cNC2y4kQ27jPEOvr8xB0KLCwtCiwsLQosLC0KLCwtCiwsLQosLCfxDLQYr90UKK/dFCiv3RQor90UIwPsFCiv3RQkFChEJqnk/BXGZNQlxmTUJcZk1CXGZNQokBh0Id/DfCXGZNQjLrmUJqnk/B",
          "dtype": "f4"
         },
         "xaxis": "x",
         "y": {
          "bdata": "x+YbQlcKHkIV0hfDFdIXwxXSF8MV0hfDFdIXwwIo60LTAgfD0wIHw5vKkELDFoNCwFgXQ5yBIcKPYhdAnIEhwrqM28LwVyPDuozbwixC78Kl/DvDpZ8ew/SFBMPwVyPDEeoPw1ZWLsMR6g/DVlYuw3EHIcOxYjrDuozbwlZWLsM5+PLCsl80w1ZWLsNWVi7D9IUEw7JfNMMsQu/COfjywlZWLsPqQTLDsl80w7JfNMO6jNvC9IUEw9v/1cKzJC3DEeoPw7qM28KyXzTDVlYuw1ZWLsP0hQTDsl80w7JfNMP0hQTDJhICw/SFBMNWVi7DVlYuw9v/1cJGQPbCsl80w7JfNMMR6g/D6kEyw7JfNMOyXzTDsl80w7v2OsP0hQTDsl80w1ZWLsP0hQTDFdIXw1ZWLsNWVi7D56QEwxvyGMEo2bvASAFnP5XY2EFEtF/CsasNwqRIFMIdgp/BGLG8Qt5DGsEYsbxCGLG8QhixvEI9lodCGLG8QhixvEIYsbxCGLG8QhixvEIYsbxCGLG8QhixvEIYsbxCGLG8QhixvEIYsbxCGLG8QhixvEIuoB9BGLG8QhixvELhiR9DM8KHQc6aZMHe9a7AQAWbQZdcIsKcgSHC5zgAwQ3dYMHuQQlC4sszwcmFYUKkugLDGLG8Qo9iF0Dg7DzAVwoeQlcKHkJXCh5CVwoeQlcKHkJXCh5CJYkXQjfYwcI32MHCN9jBwjfYwcKs4MfCN9jBwvgiLELhiR9DcCUvQXAlL0FwJS9BcCUvQRXSF8On2JlCcCUvQXFSEMPhiR9D",
          "dtype": "f4"
         },
         "yaxis": "y"
        },
        {
         "hovertemplate": "Category=[\"Beauty and Personal Care<br>t-SNE1=%{x}<br>t-SNE2=%{y}<extra></extra>",
         "legendgroup": "[\"Beauty and Personal Care",
         "marker": {
          "color": "#19d3f3",
          "symbol": "circle"
         },
         "mode": "markers",
         "name": "[\"Beauty and Personal Care",
         "showlegend": true,
         "type": "scattergl",
         "x": {
          "bdata": "z2huQc9obkGaeEhCs3qNwrN6jcKY3RhBph9owbN6jcJjtaJCItDPQg6drMGrp9tCMO/JQqC6DsAQ8jHBMQJgwvU1kD4xAmDCR4WQwFAkI8EMqddBWyPhv39MMUEMqddBDKnXQQyp10ESVARCDKnXQQyp10EMqddBDKnXQfJ09UEMqddBDKnXQQyp10EMqddBDKnXQVAkI8EY/J5ADKnXQQyp10EMqddBDKnXQQni8MKZQW5CWyPhv7WjE0K6w5ZBkCG/Pwyp10FQJCPBDKnXQQyp10EMqddBDKnXQQyp10EMqddBDKnXQVsj4b8MqddBDKnXQX9MMUEMqddBWyPhvwyp10EMqddBDKnXQZlBbkIMqddBDKnXQRJUBEIMqddBDKnXQZ0AVkIMqddBDKnXQTLsAEIMqddBDKnXQQyp10EMqddBDKnXQai5HEG69ZtCHcKTQaYMzkEy+tZBpBCDQWWas0JpZRtCKXyTQQnZZkHkWmzCGuanQaun20JSPoRBO0cdQrnh9sEdK9VBBl/mQU4yT0I7Rx1CXkMJQnWYCkIYGCVC0TiLwTtHHUKBadtB7zDcQbrn8UG68CDAuvAgwDFgh0K6yYBCu3QRvbrwIMBcZk1CXGZNQrrwIMAxYIdCOD9cQjFgh0KVO2dCMWCHQjFgh0K7dBG9uvAgwLt0Eb0xYIdCMWCHQrrwIMBcZk1CXGZNQlxmTUJl6btBZZqzQlxmTUJcZk1CRz15QlxmTUKrp9tCbBzvQr/5a8LRVrZAO0cdQsbhD8NcZk1CO0cdQlxmTUJcZk1C",
          "dtype": "f4"
         },
         "xaxis": "x",
         "y": {
          "bdata": "2LBdwdiwXcHQYQPBjP1IQoz9SELh8wpDntj7Poz9SEJOvgPC8KmLQhqkP8CZL2lC7T9gQh80mkCSjL/BiX28QLhdZ8GJfbxA+Lw8QWSHQUMziiVDrKIpQ/MCREMziiVDM4olQzOKJUNvJ/1CM4olQzOKJUMziiVDM4olQxDTBEMziiVDM4olQzOKJUMziiVDM4olQ2SHQUPPFQVDM4olQzOKJUMziiVDM4olQwWIuUKudB5DrKIpQ1hNREPXuEVDec5EQzOKJUNkh0FDM4olQzOKJUMziiVDM4olQzOKJUMziiVDM4olQ6yiKUMziiVDM4olQ/MCREMziiVDrKIpQzOKJUMziiVDM4olQ650HkMziiVDM4olQ28n/UIziiVDM4olQ6OGCUMziiVDM4olQ+3mQ0MziiVDM4olQzOKJUMziiVDM4olQ6CQPEO4qYNCb8Stwa9Qr8H53e5B6T2vQIvxxsFfqPXBElu4v0BDR0HUQ25CLDYpQZkvaUJIfSFCMsfYQk+G4MDyirRBHZM+QhCAhsEyx9hC95MmQS5RDUJQ+zRCYPEEQjLH2EKgGXxBMdsPQYqxKEC4hrxCuIa8QnNAi0JeQ6RCCkfaQriGvEJwJS9BcCUvQbiGvEJzQItCIsObQnNAi0KG56RCc0CLQnNAi0IKR9pCuIa8QgpH2kJzQItCc0CLQriGvEJwJS9BcCUvQXAlL0FqPMZCi/HGwXAlL0FwJS9BBrJ1QnAlL0GZL2lCBLReQptiS0LXWbJCMsfYQgJC4cJwJS9BMsfYQnAlL0FwJS9B",
          "dtype": "f4"
         },
         "yaxis": "y"
        },
        {
         "hovertemplate": "Category=[\"Computers<br>t-SNE1=%{x}<br>t-SNE2=%{y}<extra></extra>",
         "legendgroup": "[\"Computers",
         "marker": {
          "color": "#FF6692",
          "symbol": "circle"
         },
         "mode": "markers",
         "name": "[\"Computers",
         "showlegend": true,
         "type": "scattergl",
         "x": {
          "bdata": "SsXOQL67HsMQDRrDEA0awxANGsPqzuZAv/lrwqMpQMEU8KTBmoCXQJOZisLOi0bA895IwoozMkG4+rZBGOMfwrgn/UHgm8xAk5mKwvPeSMLz3kjCvDT0wJ3EMUDz3kjCvplxQZOZisLz3kjCk5mKwvasq8CFoTFC895Iwnb79UAcF4TBk5mKwvAG80Gt/q4/1fVywZOZisLgZKnB895IwvPeSMJuCD3Bv2zBwX+AFsHEo0JBCXiVQARkuEGMkiLCk5mKwioLuUE68hlBLRhiQFz2KMK5gCpBHeSQvwg9E0IY4x/C4eMDQrr0nMGL0uzCFcfBQRXHwUEVx8FBFcfBQRXHwUEVx8FBFcfBQbcSBUK3EgVCtxIFQjffJsGFCzjC4pGNwRxWqsFGSc7Bm+E4wpvhOMKFCzjCRknOwVouV8KgosrBYiT6wQ4DDsJm71nCoKLKwYULOMLmhvTBm+E4wqCiysHmhvTB5ob0weaG9MEoyinCvrsewzffJsE33ybBib07wlEQokG/+WvCgVdmwjok6cL+NmLBvrsewxqHKcMDwADDvrsew4AxCcMIBgPDOI0EwwPAAMNN7PfCyAXkwk3s98Lbv+jCTez3wr67HsO+ux7Dvrsew767HsOHnCvDGocpw2u0F8O+ux7DawoBw767HsNw2fPCTez3wr67HsPQvQfDvrsew0GtG8NN7PfCqtvxwmeuEsO+ux7DA8AAww4DDsJT8ahBuVOUwEQS2MBEEtjARBLYwDiavMJEEtjARBLYwEQS2MBEEtjARBLYwEQS2MC5U5TA",
          "dtype": "f4"
         },
         "xaxis": "x",
         "y": {
          "bdata": "SJxEwIF3kkJmxyNCZscjQmbHI0KjgILBm2JLQtKpasGVUjbB8BjqQafwDcNS4gFC1eUBw4JkssEBUXDB+nvowsoW1MHBD+TBp/ANw9XlAcPV5QHDiwgDwhlTrcHV5QHDfcznwafwDcPV5QHDp/ANw5iDk8EE97rB1eUBw7IQakFAJvxAp/ANw4VWg8Hljw3CeRyrQafwDcOlhG1B1eUBw9XlAcN9HVxBV36kQEnS2kHmbdRBPaNRQGs9Y0BYXNrCp/ANw5FI6cFFhvVA7E0XQgYtCcPDaBDC4dnCQYDqoMH6e+jCdXyMwIFumELILPNBdUmvwnVJr8J1Sa/CdUmvwnVJr8J1Sa/CdUmvwoarlMKGq5TChquUwpaTRsLgXj3DVrc2w2aTPsPcMTTDnYUvw52FL8PgXj3D3DE0wzk7O8PnJCzDDktFw/aZLcMZUjLD5yQsw+BePcMzCD3DnYUvw+ckLMMzCD3DMwg9wzMIPcPHaLHAgXeSQpaTRsKWk0bC0tYRwdfKikGbYktC1bmRwbAMSkEjY2bCgXeSQvzYpUIkNRBCgXeSQh82GELKlDBCjoJjQiQ1EEJ1lVBCPOBUQnWVUEJffDxCdZVQQoF3kkKBd5JCgXeSQoF3kkKH54NC/NilQi3hckKBd5JCcrzbQYF3kkIyJCRCdZVQQoF3kkKvjeBBgXeSQk87rEJ1lVBCrbR3Qryzm0KBd5JCJDUQQvaZLcP/6tBC/TcOw1UTBMNVEwTDVRMEwwiNY8JVEwTDVRMEw1UTBMNVEwTDVRMEw1UTBMP9Nw7D",
          "dtype": "f4"
         },
         "yaxis": "y"
        }
       ],
       "layout": {
        "legend": {
         "title": {
          "text": "Category"
         },
         "tracegroupgap": 0
        },
        "template": {
         "data": {
          "bar": [
           {
            "error_x": {
             "color": "#2a3f5f"
            },
            "error_y": {
             "color": "#2a3f5f"
            },
            "marker": {
             "line": {
              "color": "#E5ECF6",
              "width": 0.5
             },
             "pattern": {
              "fillmode": "overlay",
              "size": 10,
              "solidity": 0.2
             }
            },
            "type": "bar"
           }
          ],
          "barpolar": [
           {
            "marker": {
             "line": {
              "color": "#E5ECF6",
              "width": 0.5
             },
             "pattern": {
              "fillmode": "overlay",
              "size": 10,
              "solidity": 0.2
             }
            },
            "type": "barpolar"
           }
          ],
          "carpet": [
           {
            "aaxis": {
             "endlinecolor": "#2a3f5f",
             "gridcolor": "white",
             "linecolor": "white",
             "minorgridcolor": "white",
             "startlinecolor": "#2a3f5f"
            },
            "baxis": {
             "endlinecolor": "#2a3f5f",
             "gridcolor": "white",
             "linecolor": "white",
             "minorgridcolor": "white",
             "startlinecolor": "#2a3f5f"
            },
            "type": "carpet"
           }
          ],
          "choropleth": [
           {
            "colorbar": {
             "outlinewidth": 0,
             "ticks": ""
            },
            "type": "choropleth"
           }
          ],
          "contour": [
           {
            "colorbar": {
             "outlinewidth": 0,
             "ticks": ""
            },
            "colorscale": [
             [
              0,
              "#0d0887"
             ],
             [
              0.1111111111111111,
              "#46039f"
             ],
             [
              0.2222222222222222,
              "#7201a8"
             ],
             [
              0.3333333333333333,
              "#9c179e"
             ],
             [
              0.4444444444444444,
              "#bd3786"
             ],
             [
              0.5555555555555556,
              "#d8576b"
             ],
             [
              0.6666666666666666,
              "#ed7953"
             ],
             [
              0.7777777777777778,
              "#fb9f3a"
             ],
             [
              0.8888888888888888,
              "#fdca26"
             ],
             [
              1,
              "#f0f921"
             ]
            ],
            "type": "contour"
           }
          ],
          "contourcarpet": [
           {
            "colorbar": {
             "outlinewidth": 0,
             "ticks": ""
            },
            "type": "contourcarpet"
           }
          ],
          "heatmap": [
           {
            "colorbar": {
             "outlinewidth": 0,
             "ticks": ""
            },
            "colorscale": [
             [
              0,
              "#0d0887"
             ],
             [
              0.1111111111111111,
              "#46039f"
             ],
             [
              0.2222222222222222,
              "#7201a8"
             ],
             [
              0.3333333333333333,
              "#9c179e"
             ],
             [
              0.4444444444444444,
              "#bd3786"
             ],
             [
              0.5555555555555556,
              "#d8576b"
             ],
             [
              0.6666666666666666,
              "#ed7953"
             ],
             [
              0.7777777777777778,
              "#fb9f3a"
             ],
             [
              0.8888888888888888,
              "#fdca26"
             ],
             [
              1,
              "#f0f921"
             ]
            ],
            "type": "heatmap"
           }
          ],
          "histogram": [
           {
            "marker": {
             "pattern": {
              "fillmode": "overlay",
              "size": 10,
              "solidity": 0.2
             }
            },
            "type": "histogram"
           }
          ],
          "histogram2d": [
           {
            "colorbar": {
             "outlinewidth": 0,
             "ticks": ""
            },
            "colorscale": [
             [
              0,
              "#0d0887"
             ],
             [
              0.1111111111111111,
              "#46039f"
             ],
             [
              0.2222222222222222,
              "#7201a8"
             ],
             [
              0.3333333333333333,
              "#9c179e"
             ],
             [
              0.4444444444444444,
              "#bd3786"
             ],
             [
              0.5555555555555556,
              "#d8576b"
             ],
             [
              0.6666666666666666,
              "#ed7953"
             ],
             [
              0.7777777777777778,
              "#fb9f3a"
             ],
             [
              0.8888888888888888,
              "#fdca26"
             ],
             [
              1,
              "#f0f921"
             ]
            ],
            "type": "histogram2d"
           }
          ],
          "histogram2dcontour": [
           {
            "colorbar": {
             "outlinewidth": 0,
             "ticks": ""
            },
            "colorscale": [
             [
              0,
              "#0d0887"
             ],
             [
              0.1111111111111111,
              "#46039f"
             ],
             [
              0.2222222222222222,
              "#7201a8"
             ],
             [
              0.3333333333333333,
              "#9c179e"
             ],
             [
              0.4444444444444444,
              "#bd3786"
             ],
             [
              0.5555555555555556,
              "#d8576b"
             ],
             [
              0.6666666666666666,
              "#ed7953"
             ],
             [
              0.7777777777777778,
              "#fb9f3a"
             ],
             [
              0.8888888888888888,
              "#fdca26"
             ],
             [
              1,
              "#f0f921"
             ]
            ],
            "type": "histogram2dcontour"
           }
          ],
          "mesh3d": [
           {
            "colorbar": {
             "outlinewidth": 0,
             "ticks": ""
            },
            "type": "mesh3d"
           }
          ],
          "parcoords": [
           {
            "line": {
             "colorbar": {
              "outlinewidth": 0,
              "ticks": ""
             }
            },
            "type": "parcoords"
           }
          ],
          "pie": [
           {
            "automargin": true,
            "type": "pie"
           }
          ],
          "scatter": [
           {
            "fillpattern": {
             "fillmode": "overlay",
             "size": 10,
             "solidity": 0.2
            },
            "type": "scatter"
           }
          ],
          "scatter3d": [
           {
            "line": {
             "colorbar": {
              "outlinewidth": 0,
              "ticks": ""
             }
            },
            "marker": {
             "colorbar": {
              "outlinewidth": 0,
              "ticks": ""
             }
            },
            "type": "scatter3d"
           }
          ],
          "scattercarpet": [
           {
            "marker": {
             "colorbar": {
              "outlinewidth": 0,
              "ticks": ""
             }
            },
            "type": "scattercarpet"
           }
          ],
          "scattergeo": [
           {
            "marker": {
             "colorbar": {
              "outlinewidth": 0,
              "ticks": ""
             }
            },
            "type": "scattergeo"
           }
          ],
          "scattergl": [
           {
            "marker": {
             "colorbar": {
              "outlinewidth": 0,
              "ticks": ""
             }
            },
            "type": "scattergl"
           }
          ],
          "scattermap": [
           {
            "marker": {
             "colorbar": {
              "outlinewidth": 0,
              "ticks": ""
             }
            },
            "type": "scattermap"
           }
          ],
          "scattermapbox": [
           {
            "marker": {
             "colorbar": {
              "outlinewidth": 0,
              "ticks": ""
             }
            },
            "type": "scattermapbox"
           }
          ],
          "scatterpolar": [
           {
            "marker": {
             "colorbar": {
              "outlinewidth": 0,
              "ticks": ""
             }
            },
            "type": "scatterpolar"
           }
          ],
          "scatterpolargl": [
           {
            "marker": {
             "colorbar": {
              "outlinewidth": 0,
              "ticks": ""
             }
            },
            "type": "scatterpolargl"
           }
          ],
          "scatterternary": [
           {
            "marker": {
             "colorbar": {
              "outlinewidth": 0,
              "ticks": ""
             }
            },
            "type": "scatterternary"
           }
          ],
          "surface": [
           {
            "colorbar": {
             "outlinewidth": 0,
             "ticks": ""
            },
            "colorscale": [
             [
              0,
              "#0d0887"
             ],
             [
              0.1111111111111111,
              "#46039f"
             ],
             [
              0.2222222222222222,
              "#7201a8"
             ],
             [
              0.3333333333333333,
              "#9c179e"
             ],
             [
              0.4444444444444444,
              "#bd3786"
             ],
             [
              0.5555555555555556,
              "#d8576b"
             ],
             [
              0.6666666666666666,
              "#ed7953"
             ],
             [
              0.7777777777777778,
              "#fb9f3a"
             ],
             [
              0.8888888888888888,
              "#fdca26"
             ],
             [
              1,
              "#f0f921"
             ]
            ],
            "type": "surface"
           }
          ],
          "table": [
           {
            "cells": {
             "fill": {
              "color": "#EBF0F8"
             },
             "line": {
              "color": "white"
             }
            },
            "header": {
             "fill": {
              "color": "#C8D4E3"
             },
             "line": {
              "color": "white"
             }
            },
            "type": "table"
           }
          ]
         },
         "layout": {
          "annotationdefaults": {
           "arrowcolor": "#2a3f5f",
           "arrowhead": 0,
           "arrowwidth": 1
          },
          "autotypenumbers": "strict",
          "coloraxis": {
           "colorbar": {
            "outlinewidth": 0,
            "ticks": ""
           }
          },
          "colorscale": {
           "diverging": [
            [
             0,
             "#8e0152"
            ],
            [
             0.1,
             "#c51b7d"
            ],
            [
             0.2,
             "#de77ae"
            ],
            [
             0.3,
             "#f1b6da"
            ],
            [
             0.4,
             "#fde0ef"
            ],
            [
             0.5,
             "#f7f7f7"
            ],
            [
             0.6,
             "#e6f5d0"
            ],
            [
             0.7,
             "#b8e186"
            ],
            [
             0.8,
             "#7fbc41"
            ],
            [
             0.9,
             "#4d9221"
            ],
            [
             1,
             "#276419"
            ]
           ],
           "sequential": [
            [
             0,
             "#0d0887"
            ],
            [
             0.1111111111111111,
             "#46039f"
            ],
            [
             0.2222222222222222,
             "#7201a8"
            ],
            [
             0.3333333333333333,
             "#9c179e"
            ],
            [
             0.4444444444444444,
             "#bd3786"
            ],
            [
             0.5555555555555556,
             "#d8576b"
            ],
            [
             0.6666666666666666,
             "#ed7953"
            ],
            [
             0.7777777777777778,
             "#fb9f3a"
            ],
            [
             0.8888888888888888,
             "#fdca26"
            ],
            [
             1,
             "#f0f921"
            ]
           ],
           "sequentialminus": [
            [
             0,
             "#0d0887"
            ],
            [
             0.1111111111111111,
             "#46039f"
            ],
            [
             0.2222222222222222,
             "#7201a8"
            ],
            [
             0.3333333333333333,
             "#9c179e"
            ],
            [
             0.4444444444444444,
             "#bd3786"
            ],
            [
             0.5555555555555556,
             "#d8576b"
            ],
            [
             0.6666666666666666,
             "#ed7953"
            ],
            [
             0.7777777777777778,
             "#fb9f3a"
            ],
            [
             0.8888888888888888,
             "#fdca26"
            ],
            [
             1,
             "#f0f921"
            ]
           ]
          },
          "colorway": [
           "#636efa",
           "#EF553B",
           "#00cc96",
           "#ab63fa",
           "#FFA15A",
           "#19d3f3",
           "#FF6692",
           "#B6E880",
           "#FF97FF",
           "#FECB52"
          ],
          "font": {
           "color": "#2a3f5f"
          },
          "geo": {
           "bgcolor": "white",
           "lakecolor": "white",
           "landcolor": "#E5ECF6",
           "showlakes": true,
           "showland": true,
           "subunitcolor": "white"
          },
          "hoverlabel": {
           "align": "left"
          },
          "hovermode": "closest",
          "mapbox": {
           "style": "light"
          },
          "paper_bgcolor": "white",
          "plot_bgcolor": "#E5ECF6",
          "polar": {
           "angularaxis": {
            "gridcolor": "white",
            "linecolor": "white",
            "ticks": ""
           },
           "bgcolor": "#E5ECF6",
           "radialaxis": {
            "gridcolor": "white",
            "linecolor": "white",
            "ticks": ""
           }
          },
          "scene": {
           "xaxis": {
            "backgroundcolor": "#E5ECF6",
            "gridcolor": "white",
            "gridwidth": 2,
            "linecolor": "white",
            "showbackground": true,
            "ticks": "",
            "zerolinecolor": "white"
           },
           "yaxis": {
            "backgroundcolor": "#E5ECF6",
            "gridcolor": "white",
            "gridwidth": 2,
            "linecolor": "white",
            "showbackground": true,
            "ticks": "",
            "zerolinecolor": "white"
           },
           "zaxis": {
            "backgroundcolor": "#E5ECF6",
            "gridcolor": "white",
            "gridwidth": 2,
            "linecolor": "white",
            "showbackground": true,
            "ticks": "",
            "zerolinecolor": "white"
           }
          },
          "shapedefaults": {
           "line": {
            "color": "#2a3f5f"
           }
          },
          "ternary": {
           "aaxis": {
            "gridcolor": "white",
            "linecolor": "white",
            "ticks": ""
           },
           "baxis": {
            "gridcolor": "white",
            "linecolor": "white",
            "ticks": ""
           },
           "bgcolor": "#E5ECF6",
           "caxis": {
            "gridcolor": "white",
            "linecolor": "white",
            "ticks": ""
           }
          },
          "title": {
           "x": 0.05
          },
          "xaxis": {
           "automargin": true,
           "gridcolor": "white",
           "linecolor": "white",
           "ticks": "",
           "title": {
            "standoff": 15
           },
           "zerolinecolor": "white",
           "zerolinewidth": 2
          },
          "yaxis": {
           "automargin": true,
           "gridcolor": "white",
           "linecolor": "white",
           "ticks": "",
           "title": {
            "standoff": 15
           },
           "zerolinecolor": "white",
           "zerolinewidth": 2
          }
         }
        },
        "title": {
         "text": "t-SNE Visualization"
        },
        "xaxis": {
         "anchor": "y",
         "domain": [
          0,
          1
         ],
         "title": {
          "text": "t-SNE1"
         }
        },
        "yaxis": {
         "anchor": "x",
         "domain": [
          0,
          1
         ],
         "title": {
          "text": "t-SNE2"
         }
        }
       }
      }
     },
     "metadata": {},
     "output_type": "display_data"
    },
    {
     "name": "stdout",
     "output_type": "stream",
     "text": [
      "\n",
      "Cluster separation metrics: {'silhouette_score': np.float64(0.11137662887614042), 'num_clusters': 7}\n"
     ]
    },
    {
     "name": "stderr",
     "output_type": "stream",
     "text": [
      "/Users/najia/git_repo/mission6/mission6_venv/lib/python3.12/site-packages/sklearn/utils/extmath.py:203: RuntimeWarning:\n",
      "\n",
      "divide by zero encountered in matmul\n",
      "\n",
      "/Users/najia/git_repo/mission6/mission6_venv/lib/python3.12/site-packages/sklearn/utils/extmath.py:203: RuntimeWarning:\n",
      "\n",
      "overflow encountered in matmul\n",
      "\n",
      "/Users/najia/git_repo/mission6/mission6_venv/lib/python3.12/site-packages/sklearn/utils/extmath.py:203: RuntimeWarning:\n",
      "\n",
      "invalid value encountered in matmul\n",
      "\n"
     ]
    }
   ],
   "source": [
    "from src.classes.reduce_dimensions import DimensionalityReducer\n",
    "\n",
    "# Initialize reducer\n",
    "reducer = DimensionalityReducer()\n",
    "\n",
    "# Clean and preprocess categories (sample code, adjust as needed)\n",
    "def extract_main_category(category_string):\n",
    "    if pd.isna(category_string):\n",
    "        return \"Unknown\"\n",
    "    try:\n",
    "        # Extract first category from tree structure\n",
    "        return category_string.split('>>')[0].strip()\n",
    "    except:\n",
    "        return \"Unknown\"\n",
    "\n",
    "# Extract main product category\n",
    "df['main_category'] = df['product_category_tree'].apply(extract_main_category)\n",
    "\n",
    "# Apply dimensionality reduction to TF-IDF matrix of product names\n",
    "print(\"\\nApplying PCA to product name features...\")\n",
    "pca_results = reducer.fit_transform_pca(encoder.tfidf_matrix)\n",
    "pca_fig = reducer.plot_pca(labels=df['main_category'])\n",
    "pca_fig.show()\n",
    "\n",
    "print(\"\\nApplying t-SNE to product name features...\")\n",
    "tsne_results = reducer.fit_transform_tsne(encoder.tfidf_matrix)\n",
    "tsne_fig = reducer.plot_tsne(labels=df['main_category'])\n",
    "tsne_fig.show()\n",
    "\n",
    "# Evaluate separation based on categories\n",
    "metrics = reducer.evaluate_separation(encoder.tfidf_matrix, df['main_category'])\n",
    "print(\"\\nCluster separation metrics:\", metrics)"
   ]
  },
  {
   "cell_type": "markdown",
   "id": "c2c183bb",
   "metadata": {},
   "source": [
    "## 4. Advanced NLP Classification Feasibility Study"
   ]
  },
  {
   "cell_type": "markdown",
   "id": "60ff7281",
   "metadata": {},
   "source": [
    "### 4.1 Word Embeddings\n",
    "**Approaches**:\n",
    "- Word2Vec Implementation\n",
    "- BERT Embeddings\n",
    "- Universal Sentence Encoder"
   ]
  },
  {
   "cell_type": "markdown",
   "id": "e3d29f9a",
   "metadata": {},
   "source": [
    "### 4.2 Comparative Analysis\n",
    "**Evaluation**:\n",
    "- Compare embedding methods\n",
    "- Analyze clustering quality\n",
    "- Assess category separation"
   ]
  },
  {
   "cell_type": "markdown",
   "id": "50cf8f62",
   "metadata": {},
   "source": [
    "## 5. Basic Image Processing Classification Study"
   ]
  },
  {
   "cell_type": "markdown",
   "id": "3c64aad7",
   "metadata": {},
   "source": [
    "### 5.1 Image Preprocessing\n",
    "**Steps**:\n",
    "- Grayscale conversion\n",
    "- Noise reduction\n",
    "- Contrast enhancement\n",
    "- Size normalization"
   ]
  },
  {
   "cell_type": "markdown",
   "id": "eab6c8cf",
   "metadata": {},
   "source": [
    "### 5.2 Feature Extraction\n",
    "**Methods**:\n",
    "- SIFT implementation\n",
    "- Feature detection\n",
    "- Descriptor computation"
   ]
  },
  {
   "cell_type": "markdown",
   "id": "ca3db74c",
   "metadata": {},
   "source": [
    "### 5.3 Analysis\n",
    "**Evaluation**:\n",
    "- Dimension reduction\n",
    "- Cluster visualization\n",
    "- Category separation assessment\n"
   ]
  },
  {
   "cell_type": "markdown",
   "id": "39709493",
   "metadata": {},
   "source": [
    "## 6. Advanced Image Processing Study"
   ]
  },
  {
   "cell_type": "markdown",
   "id": "8146fb04",
   "metadata": {},
   "source": [
    "### 6.1 Transfer Learning\n",
    "**Implementation**:\n",
    "- Pre-trained CNN setup\n",
    "- Feature extraction\n",
    "- Model adaptation"
   ]
  },
  {
   "cell_type": "markdown",
   "id": "b71250e0",
   "metadata": {},
   "source": [
    "### 6.2 Comparative Analysis\n",
    "**Evaluation**:\n",
    "- Compare with basic methods\n",
    "- Assess classification accuracy\n",
    "- Analyze feature quality"
   ]
  },
  {
   "cell_type": "markdown",
   "id": "b905fede",
   "metadata": {},
   "source": [
    "## 7. Final Feasibility Assessment"
   ]
  },
  {
   "cell_type": "markdown",
   "id": "c697c0e9",
   "metadata": {},
   "source": [
    "### 7.1 Performance Metrics\n",
    "**Evaluation**:\n",
    "- Clustering quality metrics\n",
    "- Classification accuracy\n",
    "- Processing time analysis"
   ]
  },
  {
   "cell_type": "markdown",
   "id": "909e9097",
   "metadata": {},
   "source": [
    "### 7.2 Recommendations\n",
    "**Outcomes**:\n",
    "- Feasibility conclusion\n",
    "- Best approach identification\n",
    "- Implementation suggestions\n"
   ]
  },
  {
   "cell_type": "markdown",
   "id": "039d22f5",
   "metadata": {},
   "source": [
    "## 8. Future Improvements\n",
    "- Scalability considerations\n",
    "- Performance optimization\n",
    "- Integration recommendations"
   ]
  }
 ],
 "metadata": {
  "kernelspec": {
   "display_name": "mission6_venv",
   "language": "python",
   "name": "python3"
  },
  "language_info": {
   "codemirror_mode": {
    "name": "ipython",
    "version": 3
   },
   "file_extension": ".py",
   "mimetype": "text/x-python",
   "name": "python",
   "nbconvert_exporter": "python",
   "pygments_lexer": "ipython3",
   "version": "3.12.9"
  }
 },
 "nbformat": 4,
 "nbformat_minor": 5
}
