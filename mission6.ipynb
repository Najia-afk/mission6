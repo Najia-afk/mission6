{
 "cells": [
  {
   "cell_type": "markdown",
   "id": "08c85400",
   "metadata": {},
   "source": [
    "# Mission 6: Feasibility Study of Product Classification Engine\n",
    "\n",
    "## 1. Introduction\n",
    "**Objective**: Evaluate the feasibility of automatic product classification using text descriptions and images for an e-commerce marketplace."
   ]
  },
  {
   "cell_type": "markdown",
   "id": "f5312ead",
   "metadata": {},
   "source": [
    "## 2. Data Overview\n",
    "**Dataset Components**:\n",
    "- Product descriptions (English text)\n",
    "- Product images\n",
    "- Category labels"
   ]
  },
  {
   "cell_type": "code",
   "execution_count": 1,
   "id": "e1959ddc",
   "metadata": {},
   "outputs": [
    {
     "data": {
      "application/vnd.microsoft.datawrangler.viewer.v0+json": {
       "columns": [
        {
         "name": "index",
         "rawType": "int64",
         "type": "integer"
        },
        {
         "name": "uniq_id",
         "rawType": "object",
         "type": "string"
        },
        {
         "name": "crawl_timestamp",
         "rawType": "object",
         "type": "string"
        },
        {
         "name": "product_url",
         "rawType": "object",
         "type": "string"
        },
        {
         "name": "product_name",
         "rawType": "object",
         "type": "string"
        },
        {
         "name": "product_category_tree",
         "rawType": "object",
         "type": "string"
        },
        {
         "name": "pid",
         "rawType": "object",
         "type": "string"
        },
        {
         "name": "retail_price",
         "rawType": "float64",
         "type": "float"
        },
        {
         "name": "discounted_price",
         "rawType": "float64",
         "type": "float"
        },
        {
         "name": "image",
         "rawType": "object",
         "type": "string"
        },
        {
         "name": "is_FK_Advantage_product",
         "rawType": "bool",
         "type": "boolean"
        },
        {
         "name": "description",
         "rawType": "object",
         "type": "string"
        },
        {
         "name": "product_rating",
         "rawType": "object",
         "type": "string"
        },
        {
         "name": "overall_rating",
         "rawType": "object",
         "type": "string"
        },
        {
         "name": "brand",
         "rawType": "object",
         "type": "string"
        },
        {
         "name": "product_specifications",
         "rawType": "object",
         "type": "string"
        }
       ],
       "ref": "55d68fe8-054e-4ef3-a3af-5419ced2f56e",
       "rows": [
        [
         "0",
         "55b85ea15a1536d46b7190ad6fff8ce7",
         "2016-04-30 03:22:56 +0000",
         "http://www.flipkart.com/elegance-polyester-multicolor-abstract-eyelet-door-curtain/p/itmeg7bkzdgthcts?pid=CRNEG7BKMFFYHQ8Z",
         "Elegance Polyester Multicolor Abstract Eyelet Door Curtain",
         "[\"Home Furnishing >> Curtains & Accessories >> Curtains >> Elegance Polyester Multicolor Abstract Eyelet Do...\"]",
         "CRNEG7BKMFFYHQ8Z",
         "1899.0",
         "899.0",
         "55b85ea15a1536d46b7190ad6fff8ce7.jpg",
         "False",
         "Key Features of Elegance Polyester Multicolor Abstract Eyelet Door Curtain Floral Curtain,Elegance Polyester Multicolor Abstract Eyelet Door Curtain (213 cm in Height, Pack of 2) Price: Rs. 899 This curtain enhances the look of the interiors.This curtain is made from 100% high quality polyester fabric.It features an eyelet style stitch with Metal Ring.It makes the room environment romantic and loving.This curtain is ant- wrinkle and anti shrinkage and have elegant apparance.Give your home a bright and modernistic appeal with these designs. The surreal attention is sure to steal hearts. These contemporary eyelet and valance curtains slide smoothly so when you draw them apart first thing in the morning to welcome the bright sun rays you want to wish good morning to the whole world and when you draw them close in the evening, you create the most special moments of joyous beauty given by the soothing prints. Bring home the elegant curtain that softly filters light in your room so that you get the right amount of sunlight.,Specifications of Elegance Polyester Multicolor Abstract Eyelet Door Curtain (213 cm in Height, Pack of 2) General Brand Elegance Designed For Door Type Eyelet Model Name Abstract Polyester Door Curtain Set Of 2 Model ID Duster25 Color Multicolor Dimensions Length 213 cm In the Box Number of Contents in Sales Package Pack of 2 Sales Package 2 Curtains Body & Design Material Polyester",
         "No rating available",
         "No rating available",
         "Elegance",
         "{\"product_specification\"=>[{\"key\"=>\"Brand\", \"value\"=>\"Elegance\"}, {\"key\"=>\"Designed For\", \"value\"=>\"Door\"}, {\"key\"=>\"Type\", \"value\"=>\"Eyelet\"}, {\"key\"=>\"Model Name\", \"value\"=>\"Abstract Polyester Door Curtain Set Of 2\"}, {\"key\"=>\"Model ID\", \"value\"=>\"Duster25\"}, {\"key\"=>\"Color\", \"value\"=>\"Multicolor\"}, {\"key\"=>\"Length\", \"value\"=>\"213 cm\"}, {\"key\"=>\"Number of Contents in Sales Package\", \"value\"=>\"Pack of 2\"}, {\"key\"=>\"Sales Package\", \"value\"=>\"2 Curtains\"}, {\"key\"=>\"Material\", \"value\"=>\"Polyester\"}]}"
        ],
        [
         "1",
         "7b72c92c2f6c40268628ec5f14c6d590",
         "2016-04-30 03:22:56 +0000",
         "http://www.flipkart.com/sathiyas-cotton-bath-towel/p/itmegfzhxbyucwgn?pid=BTWEGFZHGBXPHZUH",
         "Sathiyas Cotton Bath Towel",
         "[\"Baby Care >> Baby Bath & Skin >> Baby Bath Towels >> Sathiyas Baby Bath Towels >> Sathiyas Cotton Bath Towel (3 Bath Towel, Red, Y...\"]",
         "BTWEGFZHGBXPHZUH",
         "600.0",
         "449.0",
         "7b72c92c2f6c40268628ec5f14c6d590.jpg",
         "False",
         "Specifications of Sathiyas Cotton Bath Towel (3 Bath Towel, Red, Yellow, Blue) Bath Towel Features Machine Washable Yes Material Cotton Design Self Design General Brand Sathiyas Type Bath Towel GSM 500 Model Name Sathiyas cotton bath towel Ideal For Men, Women, Boys, Girls Model ID asvtwl322 Color Red, Yellow, Blue Size Mediam Dimensions Length 30 inch Width 60 inch In the Box Number of Contents in Sales Package 3 Sales Package 3 Bath Towel",
         "No rating available",
         "No rating available",
         "Sathiyas",
         "{\"product_specification\"=>[{\"key\"=>\"Machine Washable\", \"value\"=>\"Yes\"}, {\"key\"=>\"Material\", \"value\"=>\"Cotton\"}, {\"key\"=>\"Design\", \"value\"=>\"Self Design\"}, {\"key\"=>\"Brand\", \"value\"=>\"Sathiyas\"}, {\"key\"=>\"Type\", \"value\"=>\"Bath Towel\"}, {\"key\"=>\"GSM\", \"value\"=>\"500\"}, {\"key\"=>\"Model Name\", \"value\"=>\"Sathiyas cotton bath towel\"}, {\"key\"=>\"Ideal For\", \"value\"=>\"Men, Women, Boys, Girls\"}, {\"key\"=>\"Model ID\", \"value\"=>\"asvtwl322\"}, {\"key\"=>\"Color\", \"value\"=>\"Red, Yellow, Blue\"}, {\"key\"=>\"Size\", \"value\"=>\"Mediam\"}, {\"key\"=>\"Length\", \"value\"=>\"30 inch\"}, {\"key\"=>\"Width\", \"value\"=>\"60 inch\"}, {\"key\"=>\"Number of Contents in Sales Package\", \"value\"=>\"3\"}, {\"key\"=>\"Sales Package\", \"value\"=>\"3 Bath Towel\"}]}"
        ],
        [
         "2",
         "64d5d4a258243731dc7bbb1eef49ad74",
         "2016-04-30 03:22:56 +0000",
         "http://www.flipkart.com/eurospa-cotton-terry-face-towel-set/p/itmeg6shbrpubhca?pid=BTWEG6SHXTDB2A2Y",
         "Eurospa Cotton Terry Face Towel Set",
         "[\"Baby Care >> Baby Bath & Skin >> Baby Bath Towels >> Eurospa Baby Bath Towels >> Eurospa Cotton Terry Face Towel Set (20 PIECE FA...\"]",
         "BTWEG6SHXTDB2A2Y",
         null,
         null,
         "64d5d4a258243731dc7bbb1eef49ad74.jpg",
         "False",
         "Key Features of Eurospa Cotton Terry Face Towel Set Size: small Height: 9 inch GSM: 360,Eurospa Cotton Terry Face Towel Set (20 PIECE FACE TOWEL SET, Assorted) Price: Rs. 299 Eurospa brings to you an exclusively designed, 100% soft cotton towels of export quality. All our products have soft texture that takes care of your skin and gives you that enriched feeling you deserve. Eurospa has been exporting its bath towels to lot of renowned brands for last 10 years and is famous for its fine prints, absorbency, softness and durability. NOTE: Our product is 100% cotton, so it is susceptible to shrinkage. Product color may vary from the picture. Size may vary by ±3% WASH CARE: Wash in cold Water, Do not Iron, Do not Bleach, Flat dry, Wash before first use. SIZE- FACE TOWEL - 23 cms X 23 cms.,Specifications of Eurospa Cotton Terry Face Towel Set (20 PIECE FACE TOWEL SET, Assorted) Bath Towel Features Material Cotton Terry Design SHUVAM General Brand Eurospa GSM 360 Type Face Towel Set Model Name SHUVAM20PCFTSETASSORTED Ideal For Boys, Girls, Men, Women Model ID SHUVAM20PCFTSETASSORTED Size small Color Assorted Dimensions Weight 350 g Length 9 inch Width 9 inch In the Box Number of Contents in Sales Package 20 Sales Package 20 PIECE FACE TOWEL SET",
         "No rating available",
         "No rating available",
         "Eurospa",
         "{\"product_specification\"=>[{\"key\"=>\"Material\", \"value\"=>\"Cotton Terry\"}, {\"key\"=>\"Design\", \"value\"=>\"SHUVAM\"}, {\"key\"=>\"Brand\", \"value\"=>\"Eurospa\"}, {\"key\"=>\"GSM\", \"value\"=>\"360\"}, {\"key\"=>\"Type\", \"value\"=>\"Face Towel Set\"}, {\"key\"=>\"Model Name\", \"value\"=>\"SHUVAM20PCFTSETASSORTED\"}, {\"key\"=>\"Ideal For\", \"value\"=>\"Boys, Girls, Men, Women\"}, {\"key\"=>\"Model ID\", \"value\"=>\"SHUVAM20PCFTSETASSORTED\"}, {\"key\"=>\"Size\", \"value\"=>\"small\"}, {\"key\"=>\"Color\", \"value\"=>\"Assorted\"}, {\"key\"=>\"Weight\", \"value\"=>\"350 g\"}, {\"key\"=>\"Length\", \"value\"=>\"9 inch\"}, {\"key\"=>\"Width\", \"value\"=>\"9 inch\"}, {\"key\"=>\"Number of Contents in Sales Package\", \"value\"=>\"20\"}, {\"key\"=>\"Sales Package\", \"value\"=>\"20 PIECE FACE TOWEL SET\"}]}"
        ],
        [
         "3",
         "d4684dcdc759dd9cdf41504698d737d8",
         "2016-06-20 08:49:52 +0000",
         "http://www.flipkart.com/santosh-royal-fashion-cotton-printed-king-sized-double-bedsheet/p/itmejt9uaqahahuf?pid=BDSEJT9UQWHDUBH4",
         "SANTOSH ROYAL FASHION Cotton Printed King sized Double Bedsheet",
         "[\"Home Furnishing >> Bed Linen >> Bedsheets >> SANTOSH ROYAL FASHION Bedsheets >> SANTOSH ROYAL FASHION Cotton Printed King sized ...\"]",
         "BDSEJT9UQWHDUBH4",
         "2699.0",
         "1299.0",
         "d4684dcdc759dd9cdf41504698d737d8.jpg",
         "False",
         "Key Features of SANTOSH ROYAL FASHION Cotton Printed King sized Double Bedsheet Royal Bedsheet Perfact for Wedding & Gifting,Specifications of SANTOSH ROYAL FASHION Cotton Printed King sized Double Bedsheet (1 Bedsheet,2 Pillow Cover, Multicolor) General Brand SANTOSH ROYAL FASHION Machine Washable Yes Type Flat Material Cotton Model Name Gold Design Royal Cotton Printed Wedding & Gifted Double Bedsheet With 2 Pillow cover Model ID goldbedi-38 Color Multicolor Size King Fabric Care Machine Wash, Do Not Bleach Dimensions Flat Sheet Width 90 inch / 230 cm Fitted Sheet Width 228 cm Pillow Cover Width 16 inch / 43 cm Pillow Cover Length 28 inch / 72 cm Fitted Sheet Depth 280 cm Fitted Sheet Length 278 cm Flat Sheet Depth 282 cm Flat Sheet Length 110 inch / 280 cm In the Box Number of Contents in Sales Package 1 Sales Package 1 Bedsheet,2 Pillow Cover",
         "No rating available",
         "No rating available",
         "SANTOSH ROYAL FASHION",
         "{\"product_specification\"=>[{\"key\"=>\"Brand\", \"value\"=>\"SANTOSH ROYAL FASHION\"}, {\"key\"=>\"Machine Washable\", \"value\"=>\"Yes\"}, {\"key\"=>\"Type\", \"value\"=>\"Flat\"}, {\"key\"=>\"Material\", \"value\"=>\"Cotton\"}, {\"key\"=>\"Model Name\", \"value\"=>\"Gold Design Royal Cotton Printed Wedding and Gifted Double Bedsheet With 2 Pillow cover\"}, {\"key\"=>\"Model ID\", \"value\"=>\"goldbedi-38\"}, {\"key\"=>\"Color\", \"value\"=>\"Multicolor\"}, {\"key\"=>\"Size\", \"value\"=>\"King\"}, {\"key\"=>\"Fabric Care\", \"value\"=>\"Machine Wash, Do Not Bleach\"}, {\"key\"=>\"Flat Sheet Width\", \"value\"=>\"90 inch / 230 cm\"}, {\"key\"=>\"Fitted Sheet Width\", \"value\"=>\"228 cm\"}, {\"key\"=>\"Pillow Cover Width\", \"value\"=>\"16 inch / 43 cm\"}, {\"key\"=>\"Pillow Cover Length\", \"value\"=>\"28 inch / 72 cm\"}, {\"key\"=>\"Fitted Sheet Depth\", \"value\"=>\"280 cm\"}, {\"key\"=>\"Fitted Sheet Length\", \"value\"=>\"278 cm\"}, {\"key\"=>\"Flat Sheet Depth\", \"value\"=>\"282 cm\"}, {\"key\"=>\"Flat Sheet Length\", \"value\"=>\"110 inch / 280 cm\"}, {\"key\"=>\"Number of Contents in Sales Package\", \"value\"=>\"1\"}, {\"key\"=>\"Sales Package\", \"value\"=>\"1 Bedsheet,2 Pillow Cover\"}]}"
        ],
        [
         "4",
         "6325b6870c54cd47be6ebfbffa620ec7",
         "2016-06-20 08:49:52 +0000",
         "http://www.flipkart.com/jaipur-print-cotton-floral-king-sized-double-bedsheet/p/itmejthnwahrnt7v?pid=BDSEJTHNGWVGWWQU",
         "Jaipur Print Cotton Floral King sized Double Bedsheet",
         "[\"Home Furnishing >> Bed Linen >> Bedsheets >> Jaipur Print Bedsheets >> Jaipur Print Cotton Floral King sized Double Bed...\"]",
         "BDSEJTHNGWVGWWQU",
         "2599.0",
         "698.0",
         "6325b6870c54cd47be6ebfbffa620ec7.jpg",
         "False",
         "Key Features of Jaipur Print Cotton Floral King sized Double Bedsheet 100% cotton,Jaipur Print Cotton Floral King sized Double Bedsheet (1 bed sheet 2 pillow cover, White) Price: Rs. 998 This nice bed sheet made up of 100% cotton to give you comfort. This bed sheet is hand printed. This bedsheet gives nice look to your room And its fast colour and good quality gives this bedsheet long life.,Specifications of Jaipur Print Cotton Floral King sized Double Bedsheet (1 bed sheet 2 pillow cover, White) General Machine Washable Yes Brand Jaipur Print Type Flat Model Name jaipur117 Material Cotton Thread Count 140 Model ID jaipur117 Fabric Care machinewash, do not bleach Size King Color White Warranty waranty of the product only for manufacturing defect only and product will exchange onle when it is not used and returne its origional packing Dimensions Flat Sheet Width 86 inch / 220 cm Fitted Sheet Width 0 cm Pillow Cover Width 17 inch / 45 cm Pillow Cover Length 29 inch / 75 cm Weight 900 g Fitted Sheet Depth 0 cm Fitted Sheet Length 0 cm Flat Sheet Depth 0.2 cm Flat Sheet Length 104 inch / 265 cm In the Box Number of Contents in Sales Package 1 Sales Package 1 bed sheet 2 pillow cover",
         "No rating available",
         "No rating available",
         "Jaipur Print",
         "{\"product_specification\"=>[{\"key\"=>\"Machine Washable\", \"value\"=>\"Yes\"}, {\"key\"=>\"Brand\", \"value\"=>\"Jaipur Print\"}, {\"key\"=>\"Type\", \"value\"=>\"Flat\"}, {\"key\"=>\"Model Name\", \"value\"=>\"jaipur117\"}, {\"key\"=>\"Material\", \"value\"=>\"Cotton\"}, {\"key\"=>\"Thread Count\", \"value\"=>\"140\"}, {\"key\"=>\"Model ID\", \"value\"=>\"jaipur117\"}, {\"key\"=>\"Fabric Care\", \"value\"=>\"machinewash, do not bleach\"}, {\"key\"=>\"Size\", \"value\"=>\"King\"}, {\"key\"=>\"Color\", \"value\"=>\"White\"}, {\"value\"=>\"waranty of the product only for manufacturing defect only and product will exchange onle when it is not used and returne its origional packing\"}, {\"key\"=>\"Flat Sheet Width\", \"value\"=>\"86 inch / 220 cm\"}, {\"key\"=>\"Fitted Sheet Width\", \"value\"=>\"0 cm\"}, {\"key\"=>\"Pillow Cover Width\", \"value\"=>\"17 inch / 45 cm\"}, {\"key\"=>\"Pillow Cover Length\", \"value\"=>\"29 inch / 75 cm\"}, {\"key\"=>\"Weight\", \"value\"=>\"900 g\"}, {\"key\"=>\"Fitted Sheet Depth\", \"value\"=>\"0 cm\"}, {\"key\"=>\"Fitted Sheet Length\", \"value\"=>\"0 cm\"}, {\"key\"=>\"Flat Sheet Depth\", \"value\"=>\"0.2 cm\"}, {\"key\"=>\"Flat Sheet Length\", \"value\"=>\"104 inch / 265 cm\"}, {\"key\"=>\"Number of Contents in Sales Package\", \"value\"=>\"1\"}, {\"key\"=>\"Sales Package\", \"value\"=>\"1 bed sheet 2 pillow cover\"}]}"
        ]
       ],
       "shape": {
        "columns": 15,
        "rows": 5
       }
      },
      "text/html": [
       "<div>\n",
       "<style scoped>\n",
       "    .dataframe tbody tr th:only-of-type {\n",
       "        vertical-align: middle;\n",
       "    }\n",
       "\n",
       "    .dataframe tbody tr th {\n",
       "        vertical-align: top;\n",
       "    }\n",
       "\n",
       "    .dataframe thead th {\n",
       "        text-align: right;\n",
       "    }\n",
       "</style>\n",
       "<table border=\"1\" class=\"dataframe\">\n",
       "  <thead>\n",
       "    <tr style=\"text-align: right;\">\n",
       "      <th></th>\n",
       "      <th>uniq_id</th>\n",
       "      <th>crawl_timestamp</th>\n",
       "      <th>product_url</th>\n",
       "      <th>product_name</th>\n",
       "      <th>product_category_tree</th>\n",
       "      <th>pid</th>\n",
       "      <th>retail_price</th>\n",
       "      <th>discounted_price</th>\n",
       "      <th>image</th>\n",
       "      <th>is_FK_Advantage_product</th>\n",
       "      <th>description</th>\n",
       "      <th>product_rating</th>\n",
       "      <th>overall_rating</th>\n",
       "      <th>brand</th>\n",
       "      <th>product_specifications</th>\n",
       "    </tr>\n",
       "  </thead>\n",
       "  <tbody>\n",
       "    <tr>\n",
       "      <th>0</th>\n",
       "      <td>55b85ea15a1536d46b7190ad6fff8ce7</td>\n",
       "      <td>2016-04-30 03:22:56 +0000</td>\n",
       "      <td>http://www.flipkart.com/elegance-polyester-mul...</td>\n",
       "      <td>Elegance Polyester Multicolor Abstract Eyelet ...</td>\n",
       "      <td>[\"Home Furnishing &gt;&gt; Curtains &amp; Accessories &gt;&gt;...</td>\n",
       "      <td>CRNEG7BKMFFYHQ8Z</td>\n",
       "      <td>1899.0</td>\n",
       "      <td>899.0</td>\n",
       "      <td>55b85ea15a1536d46b7190ad6fff8ce7.jpg</td>\n",
       "      <td>False</td>\n",
       "      <td>Key Features of Elegance Polyester Multicolor ...</td>\n",
       "      <td>No rating available</td>\n",
       "      <td>No rating available</td>\n",
       "      <td>Elegance</td>\n",
       "      <td>{\"product_specification\"=&gt;[{\"key\"=&gt;\"Brand\", \"v...</td>\n",
       "    </tr>\n",
       "    <tr>\n",
       "      <th>1</th>\n",
       "      <td>7b72c92c2f6c40268628ec5f14c6d590</td>\n",
       "      <td>2016-04-30 03:22:56 +0000</td>\n",
       "      <td>http://www.flipkart.com/sathiyas-cotton-bath-t...</td>\n",
       "      <td>Sathiyas Cotton Bath Towel</td>\n",
       "      <td>[\"Baby Care &gt;&gt; Baby Bath &amp; Skin &gt;&gt; Baby Bath T...</td>\n",
       "      <td>BTWEGFZHGBXPHZUH</td>\n",
       "      <td>600.0</td>\n",
       "      <td>449.0</td>\n",
       "      <td>7b72c92c2f6c40268628ec5f14c6d590.jpg</td>\n",
       "      <td>False</td>\n",
       "      <td>Specifications of Sathiyas Cotton Bath Towel (...</td>\n",
       "      <td>No rating available</td>\n",
       "      <td>No rating available</td>\n",
       "      <td>Sathiyas</td>\n",
       "      <td>{\"product_specification\"=&gt;[{\"key\"=&gt;\"Machine Wa...</td>\n",
       "    </tr>\n",
       "    <tr>\n",
       "      <th>2</th>\n",
       "      <td>64d5d4a258243731dc7bbb1eef49ad74</td>\n",
       "      <td>2016-04-30 03:22:56 +0000</td>\n",
       "      <td>http://www.flipkart.com/eurospa-cotton-terry-f...</td>\n",
       "      <td>Eurospa Cotton Terry Face Towel Set</td>\n",
       "      <td>[\"Baby Care &gt;&gt; Baby Bath &amp; Skin &gt;&gt; Baby Bath T...</td>\n",
       "      <td>BTWEG6SHXTDB2A2Y</td>\n",
       "      <td>NaN</td>\n",
       "      <td>NaN</td>\n",
       "      <td>64d5d4a258243731dc7bbb1eef49ad74.jpg</td>\n",
       "      <td>False</td>\n",
       "      <td>Key Features of Eurospa Cotton Terry Face Towe...</td>\n",
       "      <td>No rating available</td>\n",
       "      <td>No rating available</td>\n",
       "      <td>Eurospa</td>\n",
       "      <td>{\"product_specification\"=&gt;[{\"key\"=&gt;\"Material\",...</td>\n",
       "    </tr>\n",
       "    <tr>\n",
       "      <th>3</th>\n",
       "      <td>d4684dcdc759dd9cdf41504698d737d8</td>\n",
       "      <td>2016-06-20 08:49:52 +0000</td>\n",
       "      <td>http://www.flipkart.com/santosh-royal-fashion-...</td>\n",
       "      <td>SANTOSH ROYAL FASHION Cotton Printed King size...</td>\n",
       "      <td>[\"Home Furnishing &gt;&gt; Bed Linen &gt;&gt; Bedsheets &gt;&gt;...</td>\n",
       "      <td>BDSEJT9UQWHDUBH4</td>\n",
       "      <td>2699.0</td>\n",
       "      <td>1299.0</td>\n",
       "      <td>d4684dcdc759dd9cdf41504698d737d8.jpg</td>\n",
       "      <td>False</td>\n",
       "      <td>Key Features of SANTOSH ROYAL FASHION Cotton P...</td>\n",
       "      <td>No rating available</td>\n",
       "      <td>No rating available</td>\n",
       "      <td>SANTOSH ROYAL FASHION</td>\n",
       "      <td>{\"product_specification\"=&gt;[{\"key\"=&gt;\"Brand\", \"v...</td>\n",
       "    </tr>\n",
       "    <tr>\n",
       "      <th>4</th>\n",
       "      <td>6325b6870c54cd47be6ebfbffa620ec7</td>\n",
       "      <td>2016-06-20 08:49:52 +0000</td>\n",
       "      <td>http://www.flipkart.com/jaipur-print-cotton-fl...</td>\n",
       "      <td>Jaipur Print Cotton Floral King sized Double B...</td>\n",
       "      <td>[\"Home Furnishing &gt;&gt; Bed Linen &gt;&gt; Bedsheets &gt;&gt;...</td>\n",
       "      <td>BDSEJTHNGWVGWWQU</td>\n",
       "      <td>2599.0</td>\n",
       "      <td>698.0</td>\n",
       "      <td>6325b6870c54cd47be6ebfbffa620ec7.jpg</td>\n",
       "      <td>False</td>\n",
       "      <td>Key Features of Jaipur Print Cotton Floral Kin...</td>\n",
       "      <td>No rating available</td>\n",
       "      <td>No rating available</td>\n",
       "      <td>Jaipur Print</td>\n",
       "      <td>{\"product_specification\"=&gt;[{\"key\"=&gt;\"Machine Wa...</td>\n",
       "    </tr>\n",
       "  </tbody>\n",
       "</table>\n",
       "</div>"
      ],
      "text/plain": [
       "                            uniq_id            crawl_timestamp  \\\n",
       "0  55b85ea15a1536d46b7190ad6fff8ce7  2016-04-30 03:22:56 +0000   \n",
       "1  7b72c92c2f6c40268628ec5f14c6d590  2016-04-30 03:22:56 +0000   \n",
       "2  64d5d4a258243731dc7bbb1eef49ad74  2016-04-30 03:22:56 +0000   \n",
       "3  d4684dcdc759dd9cdf41504698d737d8  2016-06-20 08:49:52 +0000   \n",
       "4  6325b6870c54cd47be6ebfbffa620ec7  2016-06-20 08:49:52 +0000   \n",
       "\n",
       "                                         product_url  \\\n",
       "0  http://www.flipkart.com/elegance-polyester-mul...   \n",
       "1  http://www.flipkart.com/sathiyas-cotton-bath-t...   \n",
       "2  http://www.flipkart.com/eurospa-cotton-terry-f...   \n",
       "3  http://www.flipkart.com/santosh-royal-fashion-...   \n",
       "4  http://www.flipkart.com/jaipur-print-cotton-fl...   \n",
       "\n",
       "                                        product_name  \\\n",
       "0  Elegance Polyester Multicolor Abstract Eyelet ...   \n",
       "1                         Sathiyas Cotton Bath Towel   \n",
       "2                Eurospa Cotton Terry Face Towel Set   \n",
       "3  SANTOSH ROYAL FASHION Cotton Printed King size...   \n",
       "4  Jaipur Print Cotton Floral King sized Double B...   \n",
       "\n",
       "                               product_category_tree               pid  \\\n",
       "0  [\"Home Furnishing >> Curtains & Accessories >>...  CRNEG7BKMFFYHQ8Z   \n",
       "1  [\"Baby Care >> Baby Bath & Skin >> Baby Bath T...  BTWEGFZHGBXPHZUH   \n",
       "2  [\"Baby Care >> Baby Bath & Skin >> Baby Bath T...  BTWEG6SHXTDB2A2Y   \n",
       "3  [\"Home Furnishing >> Bed Linen >> Bedsheets >>...  BDSEJT9UQWHDUBH4   \n",
       "4  [\"Home Furnishing >> Bed Linen >> Bedsheets >>...  BDSEJTHNGWVGWWQU   \n",
       "\n",
       "   retail_price  discounted_price                                 image  \\\n",
       "0        1899.0             899.0  55b85ea15a1536d46b7190ad6fff8ce7.jpg   \n",
       "1         600.0             449.0  7b72c92c2f6c40268628ec5f14c6d590.jpg   \n",
       "2           NaN               NaN  64d5d4a258243731dc7bbb1eef49ad74.jpg   \n",
       "3        2699.0            1299.0  d4684dcdc759dd9cdf41504698d737d8.jpg   \n",
       "4        2599.0             698.0  6325b6870c54cd47be6ebfbffa620ec7.jpg   \n",
       "\n",
       "   is_FK_Advantage_product                                        description  \\\n",
       "0                    False  Key Features of Elegance Polyester Multicolor ...   \n",
       "1                    False  Specifications of Sathiyas Cotton Bath Towel (...   \n",
       "2                    False  Key Features of Eurospa Cotton Terry Face Towe...   \n",
       "3                    False  Key Features of SANTOSH ROYAL FASHION Cotton P...   \n",
       "4                    False  Key Features of Jaipur Print Cotton Floral Kin...   \n",
       "\n",
       "        product_rating       overall_rating                  brand  \\\n",
       "0  No rating available  No rating available               Elegance   \n",
       "1  No rating available  No rating available               Sathiyas   \n",
       "2  No rating available  No rating available                Eurospa   \n",
       "3  No rating available  No rating available  SANTOSH ROYAL FASHION   \n",
       "4  No rating available  No rating available           Jaipur Print   \n",
       "\n",
       "                              product_specifications  \n",
       "0  {\"product_specification\"=>[{\"key\"=>\"Brand\", \"v...  \n",
       "1  {\"product_specification\"=>[{\"key\"=>\"Machine Wa...  \n",
       "2  {\"product_specification\"=>[{\"key\"=>\"Material\",...  \n",
       "3  {\"product_specification\"=>[{\"key\"=>\"Brand\", \"v...  \n",
       "4  {\"product_specification\"=>[{\"key\"=>\"Machine Wa...  "
      ]
     },
     "execution_count": 1,
     "metadata": {},
     "output_type": "execute_result"
    }
   ],
   "source": [
    "import pandas as pd\n",
    "import glob\n",
    "\n",
    "# Read all CSV files from dataset/Flipkart directory with glob\n",
    "csv_files = glob.glob('dataset/Flipkart/flipkart*.csv')\n",
    "\n",
    "# Import the CSV files into a dataframe\n",
    "df = pd.read_csv(csv_files[0])\n",
    "\n",
    "# Display first few rows\n",
    "df.head()"
   ]
  },
  {
   "cell_type": "code",
   "execution_count": 2,
   "id": "7ac3f69b",
   "metadata": {},
   "outputs": [
    {
     "data": {
      "application/vnd.microsoft.datawrangler.viewer.v0+json": {
       "columns": [
        {
         "name": "index",
         "rawType": "int64",
         "type": "integer"
        },
        {
         "name": "key",
         "rawType": "object",
         "type": "string"
        },
        {
         "name": "value",
         "rawType": "object",
         "type": "string"
        },
        {
         "name": "count",
         "rawType": "int64",
         "type": "integer"
        },
        {
         "name": "percentage",
         "rawType": "float64",
         "type": "float"
        },
        {
         "name": "total_occurrences",
         "rawType": "int64",
         "type": "integer"
        }
       ],
       "ref": "c8b04452-9540-491d-baba-86f3b98eb7f2",
       "rows": [
        [
         "0",
         "Type",
         "Analog",
         "123",
         "16.9",
         "728"
        ],
        [
         "1",
         "Type",
         "Mug",
         "74",
         "10.16",
         "728"
        ],
        [
         "2",
         "Type",
         "Ethnic",
         "56",
         "7.69",
         "728"
        ],
        [
         "3",
         "Type",
         "Wireless Without modem",
         "27",
         "3.71",
         "728"
        ],
        [
         "4",
         "Type",
         "Religious Idols",
         "26",
         "3.57",
         "728"
        ],
        [
         "5",
         "Brand",
         "Lapguard",
         "11",
         "1.94",
         "568"
        ],
        [
         "6",
         "Brand",
         "PRINT SHAPES",
         "11",
         "1.94",
         "568"
        ],
        [
         "7",
         "Brand",
         "Lal Haveli",
         "10",
         "1.76",
         "568"
        ],
        [
         "8",
         "Brand",
         "Raymond",
         "8",
         "1.41",
         "568"
        ],
        [
         "9",
         "Brand",
         "Aroma Comfort",
         "8",
         "1.41",
         "568"
        ],
        [
         "10",
         "Sales Package",
         "1 Mug",
         "49",
         "9.59",
         "511"
        ],
        [
         "11",
         "Sales Package",
         "1 Showpiece Figurine",
         "44",
         "8.61",
         "511"
        ],
        [
         "12",
         "Sales Package",
         "1 mug",
         "22",
         "4.31",
         "511"
        ],
        [
         "13",
         "Sales Package",
         "Blanket",
         "12",
         "2.35",
         "511"
        ],
        [
         "14",
         "Sales Package",
         "1 Laptop Adapter",
         "10",
         "1.96",
         "511"
        ],
        [
         "15",
         "Color",
         "Multicolor",
         "98",
         "19.41",
         "505"
        ],
        [
         "16",
         "Color",
         "Black",
         "73",
         "14.46",
         "505"
        ],
        [
         "17",
         "Color",
         "White",
         "42",
         "8.32",
         "505"
        ],
        [
         "18",
         "Color",
         "Blue",
         "31",
         "6.14",
         "505"
        ],
        [
         "19",
         "Color",
         "Gold",
         "28",
         "5.54",
         "505"
        ],
        [
         "20",
         "Ideal For",
         "Men",
         "88",
         "18.8",
         "468"
        ],
        [
         "21",
         "Ideal For",
         "Women",
         "75",
         "16.03",
         "468"
        ],
        [
         "22",
         "Ideal For",
         "Men, Women",
         "47",
         "10.04",
         "468"
        ],
        [
         "23",
         "Ideal For",
         "Baby Girl's",
         "46",
         "9.83",
         "468"
        ],
        [
         "24",
         "Ideal For",
         "Men and Women",
         "35",
         "7.48",
         "468"
        ]
       ],
       "shape": {
        "columns": 5,
        "rows": 25
       }
      },
      "text/html": [
       "<div>\n",
       "<style scoped>\n",
       "    .dataframe tbody tr th:only-of-type {\n",
       "        vertical-align: middle;\n",
       "    }\n",
       "\n",
       "    .dataframe tbody tr th {\n",
       "        vertical-align: top;\n",
       "    }\n",
       "\n",
       "    .dataframe thead th {\n",
       "        text-align: right;\n",
       "    }\n",
       "</style>\n",
       "<table border=\"1\" class=\"dataframe\">\n",
       "  <thead>\n",
       "    <tr style=\"text-align: right;\">\n",
       "      <th></th>\n",
       "      <th>key</th>\n",
       "      <th>value</th>\n",
       "      <th>count</th>\n",
       "      <th>percentage</th>\n",
       "      <th>total_occurrences</th>\n",
       "    </tr>\n",
       "  </thead>\n",
       "  <tbody>\n",
       "    <tr>\n",
       "      <th>0</th>\n",
       "      <td>Type</td>\n",
       "      <td>Analog</td>\n",
       "      <td>123</td>\n",
       "      <td>16.90</td>\n",
       "      <td>728</td>\n",
       "    </tr>\n",
       "    <tr>\n",
       "      <th>1</th>\n",
       "      <td>Type</td>\n",
       "      <td>Mug</td>\n",
       "      <td>74</td>\n",
       "      <td>10.16</td>\n",
       "      <td>728</td>\n",
       "    </tr>\n",
       "    <tr>\n",
       "      <th>2</th>\n",
       "      <td>Type</td>\n",
       "      <td>Ethnic</td>\n",
       "      <td>56</td>\n",
       "      <td>7.69</td>\n",
       "      <td>728</td>\n",
       "    </tr>\n",
       "    <tr>\n",
       "      <th>3</th>\n",
       "      <td>Type</td>\n",
       "      <td>Wireless Without modem</td>\n",
       "      <td>27</td>\n",
       "      <td>3.71</td>\n",
       "      <td>728</td>\n",
       "    </tr>\n",
       "    <tr>\n",
       "      <th>4</th>\n",
       "      <td>Type</td>\n",
       "      <td>Religious Idols</td>\n",
       "      <td>26</td>\n",
       "      <td>3.57</td>\n",
       "      <td>728</td>\n",
       "    </tr>\n",
       "    <tr>\n",
       "      <th>5</th>\n",
       "      <td>Brand</td>\n",
       "      <td>Lapguard</td>\n",
       "      <td>11</td>\n",
       "      <td>1.94</td>\n",
       "      <td>568</td>\n",
       "    </tr>\n",
       "    <tr>\n",
       "      <th>6</th>\n",
       "      <td>Brand</td>\n",
       "      <td>PRINT SHAPES</td>\n",
       "      <td>11</td>\n",
       "      <td>1.94</td>\n",
       "      <td>568</td>\n",
       "    </tr>\n",
       "    <tr>\n",
       "      <th>7</th>\n",
       "      <td>Brand</td>\n",
       "      <td>Lal Haveli</td>\n",
       "      <td>10</td>\n",
       "      <td>1.76</td>\n",
       "      <td>568</td>\n",
       "    </tr>\n",
       "    <tr>\n",
       "      <th>8</th>\n",
       "      <td>Brand</td>\n",
       "      <td>Raymond</td>\n",
       "      <td>8</td>\n",
       "      <td>1.41</td>\n",
       "      <td>568</td>\n",
       "    </tr>\n",
       "    <tr>\n",
       "      <th>9</th>\n",
       "      <td>Brand</td>\n",
       "      <td>Aroma Comfort</td>\n",
       "      <td>8</td>\n",
       "      <td>1.41</td>\n",
       "      <td>568</td>\n",
       "    </tr>\n",
       "    <tr>\n",
       "      <th>10</th>\n",
       "      <td>Sales Package</td>\n",
       "      <td>1 Mug</td>\n",
       "      <td>49</td>\n",
       "      <td>9.59</td>\n",
       "      <td>511</td>\n",
       "    </tr>\n",
       "    <tr>\n",
       "      <th>11</th>\n",
       "      <td>Sales Package</td>\n",
       "      <td>1 Showpiece Figurine</td>\n",
       "      <td>44</td>\n",
       "      <td>8.61</td>\n",
       "      <td>511</td>\n",
       "    </tr>\n",
       "    <tr>\n",
       "      <th>12</th>\n",
       "      <td>Sales Package</td>\n",
       "      <td>1 mug</td>\n",
       "      <td>22</td>\n",
       "      <td>4.31</td>\n",
       "      <td>511</td>\n",
       "    </tr>\n",
       "    <tr>\n",
       "      <th>13</th>\n",
       "      <td>Sales Package</td>\n",
       "      <td>Blanket</td>\n",
       "      <td>12</td>\n",
       "      <td>2.35</td>\n",
       "      <td>511</td>\n",
       "    </tr>\n",
       "    <tr>\n",
       "      <th>14</th>\n",
       "      <td>Sales Package</td>\n",
       "      <td>1 Laptop Adapter</td>\n",
       "      <td>10</td>\n",
       "      <td>1.96</td>\n",
       "      <td>511</td>\n",
       "    </tr>\n",
       "    <tr>\n",
       "      <th>15</th>\n",
       "      <td>Color</td>\n",
       "      <td>Multicolor</td>\n",
       "      <td>98</td>\n",
       "      <td>19.41</td>\n",
       "      <td>505</td>\n",
       "    </tr>\n",
       "    <tr>\n",
       "      <th>16</th>\n",
       "      <td>Color</td>\n",
       "      <td>Black</td>\n",
       "      <td>73</td>\n",
       "      <td>14.46</td>\n",
       "      <td>505</td>\n",
       "    </tr>\n",
       "    <tr>\n",
       "      <th>17</th>\n",
       "      <td>Color</td>\n",
       "      <td>White</td>\n",
       "      <td>42</td>\n",
       "      <td>8.32</td>\n",
       "      <td>505</td>\n",
       "    </tr>\n",
       "    <tr>\n",
       "      <th>18</th>\n",
       "      <td>Color</td>\n",
       "      <td>Blue</td>\n",
       "      <td>31</td>\n",
       "      <td>6.14</td>\n",
       "      <td>505</td>\n",
       "    </tr>\n",
       "    <tr>\n",
       "      <th>19</th>\n",
       "      <td>Color</td>\n",
       "      <td>Gold</td>\n",
       "      <td>28</td>\n",
       "      <td>5.54</td>\n",
       "      <td>505</td>\n",
       "    </tr>\n",
       "    <tr>\n",
       "      <th>20</th>\n",
       "      <td>Ideal For</td>\n",
       "      <td>Men</td>\n",
       "      <td>88</td>\n",
       "      <td>18.80</td>\n",
       "      <td>468</td>\n",
       "    </tr>\n",
       "    <tr>\n",
       "      <th>21</th>\n",
       "      <td>Ideal For</td>\n",
       "      <td>Women</td>\n",
       "      <td>75</td>\n",
       "      <td>16.03</td>\n",
       "      <td>468</td>\n",
       "    </tr>\n",
       "    <tr>\n",
       "      <th>22</th>\n",
       "      <td>Ideal For</td>\n",
       "      <td>Men, Women</td>\n",
       "      <td>47</td>\n",
       "      <td>10.04</td>\n",
       "      <td>468</td>\n",
       "    </tr>\n",
       "    <tr>\n",
       "      <th>23</th>\n",
       "      <td>Ideal For</td>\n",
       "      <td>Baby Girl's</td>\n",
       "      <td>46</td>\n",
       "      <td>9.83</td>\n",
       "      <td>468</td>\n",
       "    </tr>\n",
       "    <tr>\n",
       "      <th>24</th>\n",
       "      <td>Ideal For</td>\n",
       "      <td>Men and Women</td>\n",
       "      <td>35</td>\n",
       "      <td>7.48</td>\n",
       "      <td>468</td>\n",
       "    </tr>\n",
       "  </tbody>\n",
       "</table>\n",
       "</div>"
      ],
      "text/plain": [
       "              key                   value  count  percentage  \\\n",
       "0            Type                  Analog    123       16.90   \n",
       "1            Type                     Mug     74       10.16   \n",
       "2            Type                  Ethnic     56        7.69   \n",
       "3            Type  Wireless Without modem     27        3.71   \n",
       "4            Type         Religious Idols     26        3.57   \n",
       "5           Brand                Lapguard     11        1.94   \n",
       "6           Brand            PRINT SHAPES     11        1.94   \n",
       "7           Brand              Lal Haveli     10        1.76   \n",
       "8           Brand                 Raymond      8        1.41   \n",
       "9           Brand           Aroma Comfort      8        1.41   \n",
       "10  Sales Package                   1 Mug     49        9.59   \n",
       "11  Sales Package    1 Showpiece Figurine     44        8.61   \n",
       "12  Sales Package                   1 mug     22        4.31   \n",
       "13  Sales Package                 Blanket     12        2.35   \n",
       "14  Sales Package        1 Laptop Adapter     10        1.96   \n",
       "15          Color              Multicolor     98       19.41   \n",
       "16          Color                   Black     73       14.46   \n",
       "17          Color                   White     42        8.32   \n",
       "18          Color                    Blue     31        6.14   \n",
       "19          Color                    Gold     28        5.54   \n",
       "20      Ideal For                     Men     88       18.80   \n",
       "21      Ideal For                   Women     75       16.03   \n",
       "22      Ideal For              Men, Women     47       10.04   \n",
       "23      Ideal For             Baby Girl's     46        9.83   \n",
       "24      Ideal For           Men and Women     35        7.48   \n",
       "\n",
       "    total_occurrences  \n",
       "0                 728  \n",
       "1                 728  \n",
       "2                 728  \n",
       "3                 728  \n",
       "4                 728  \n",
       "5                 568  \n",
       "6                 568  \n",
       "7                 568  \n",
       "8                 568  \n",
       "9                 568  \n",
       "10                511  \n",
       "11                511  \n",
       "12                511  \n",
       "13                511  \n",
       "14                511  \n",
       "15                505  \n",
       "16                505  \n",
       "17                505  \n",
       "18                505  \n",
       "19                505  \n",
       "20                468  \n",
       "21                468  \n",
       "22                468  \n",
       "23                468  \n",
       "24                468  "
      ]
     },
     "execution_count": 2,
     "metadata": {},
     "output_type": "execute_result"
    }
   ],
   "source": [
    "from src.classes.analyze_value_specifications import SpecificationsValueAnalyzer\n",
    "\n",
    "analyzer = SpecificationsValueAnalyzer(df)\n",
    "value_analysis = analyzer.get_top_values(top_keys=5, top_values=5)\n",
    "value_analysis"
   ]
  },
  {
   "cell_type": "code",
   "execution_count": 3,
   "id": "d9cfc9ba",
   "metadata": {},
   "outputs": [
    {
     "data": {
      "application/vnd.plotly.v1+json": {
       "config": {
        "plotlyServerURL": "https://plot.ly"
       },
       "data": [
        {
         "branchvalues": "total",
         "domain": {
          "x": [
           0,
           1
          ],
          "y": [
           0,
           1
          ]
         },
         "hovertemplate": "labels=%{label}<br>count=%{value}<br>parent=%{parent}<br>id=%{id}<extra></extra>",
         "ids": [
          "Specifications/Type/Analog",
          "Specifications/Type/Mug",
          "Specifications/Type/Ethnic",
          "Specifications/Type/Wireless Without modem",
          "Specifications/Type/Religious Idols",
          "Specifications/Type/Blanket",
          "Specifications/Type/Kadhai",
          "Specifications/Type/Quilts and Comforters",
          "Specifications/Type/Eyelet",
          "Specifications/Type/Led Light",
          "Specifications/Type/Digital",
          "Specifications/Type/Bath Towel",
          "Specifications/Type/Square",
          "Specifications/Type/Wireless With Modem",
          "Specifications/Type/Flat",
          "Specifications/Type/Human Figurines",
          "Specifications/Type/Gathered",
          "Specifications/Type/Range Extenders/Repeaters",
          "Specifications/Type/Dohar",
          "Specifications/Type/Set of Towels",
          "Specifications/Brand/Lapguard",
          "Specifications/Brand/PRINT SHAPES",
          "Specifications/Brand/Lal Haveli",
          "Specifications/Brand/Raymond",
          "Specifications/Brand/Aroma Comfort",
          "Specifications/Brand/Tenda",
          "Specifications/Brand/Smartpro",
          "Specifications/Brand/Wallmantra",
          "Specifications/Brand/Asus",
          "Specifications/Brand/HP",
          "Specifications/Brand/Home Originals",
          "Specifications/Brand/Exotic India",
          "Specifications/Brand/TRENDnet",
          "Specifications/Brand/Edimax",
          "Specifications/Brand/Rega IT",
          "Specifications/Brand/Sapatos",
          "Specifications/Brand/D-Link",
          "Specifications/Brand/TP-LINK",
          "Specifications/Brand/Netgear",
          "Specifications/Brand/Cotonex",
          "Specifications/Sales Package/1 Mug",
          "Specifications/Sales Package/1 Showpiece Figurine",
          "Specifications/Sales Package/1 mug",
          "Specifications/Sales Package/Blanket",
          "Specifications/Sales Package/1 Laptop Adapter",
          "Specifications/Sales Package/1 Kadhai",
          "Specifications/Sales Package/1 Showpiece",
          "Specifications/Sales Package/1 Pizza Cutter",
          "Specifications/Sales Package/2 Blankets",
          "Specifications/Sales Package/800 ML Bottle",
          "Specifications/Sales Package/Bath Towel",
          "Specifications/Sales Package/1 Blanket",
          "Specifications/Sales Package/USB Gadget",
          "Specifications/Sales Package/1 Sticker",
          "Specifications/Sales Package/2 Showpiece Figurine",
          "Specifications/Sales Package/2 Glove",
          "Specifications/Sales Package/Table Runner",
          "Specifications/Sales Package/1 Rajai",
          "Specifications/Sales Package/1 Bulb",
          "Specifications/Sales Package/One Jaipuri Print Light Weight Quilt",
          "Specifications/Color/Multicolor",
          "Specifications/Color/Black",
          "Specifications/Color/White",
          "Specifications/Color/Blue",
          "Specifications/Color/Gold",
          "Specifications/Color/Brown",
          "Specifications/Color/Green",
          "Specifications/Color/Silver",
          "Specifications/Color/Pink",
          "Specifications/Color/Yellow",
          "Specifications/Color/Red",
          "Specifications/Color/Grey",
          "Specifications/Color/Orange",
          "Specifications/Color/Purple",
          "Specifications/Color/Beige",
          "Specifications/Color/Copper",
          "Specifications/Color/Maroon",
          "Specifications/Color/Black, White",
          "Specifications/Color/Clear",
          "Specifications/Color/Steel",
          "Specifications/Ideal For/Men",
          "Specifications/Ideal For/Women",
          "Specifications/Ideal For/Men, Women",
          "Specifications/Ideal For/Baby Girl's",
          "Specifications/Ideal For/Men and Women",
          "Specifications/Ideal For/Baby Boy's",
          "Specifications/Ideal For/Boys, Girls",
          "Specifications/Ideal For/Boys",
          "Specifications/Ideal For/Girls",
          "Specifications/Ideal For/Men, Boys",
          "Specifications/Ideal For/Boys, Men",
          "Specifications/Ideal For/Girls, Women",
          "Specifications/Ideal For/Boys and Girls",
          "Specifications/Ideal For/Men, Women, Boys, Girls",
          "Specifications/Ideal For/Women, Men",
          "Specifications/Ideal For/Baby Boy's, Baby Girl's",
          "Specifications/Ideal For/Women, Girls",
          "Specifications/Ideal For/Baby Boys and Baby Girls",
          "Specifications/Ideal For/Girls, Boys",
          "Specifications/Ideal For/Boys, Girls, Men, Women",
          "Specifications/Material/Ceramic",
          "Specifications/Material/Cotton",
          "Specifications/Material/Brass",
          "Specifications/Material/Polyester",
          "Specifications/Material/Plastic",
          "Specifications/Material/Wooden",
          "Specifications/Material/Aluminium",
          "Specifications/Material/Glass",
          "Specifications/Material/Stoneware",
          "Specifications/Material/Stainless Steel",
          "Specifications/Material/Polyresin",
          "Specifications/Material/Copper",
          "Specifications/Material/Velvet",
          "Specifications/Material/Vinyl",
          "Specifications/Material/PVC",
          "Specifications/Material/Crystal",
          "Specifications/Material/Iron",
          "Specifications/Material/Nylon",
          "Specifications/Material/Rubber",
          "Specifications/Material/PLASTIC",
          "Specifications/Width/80 mm",
          "Specifications/Width/88 mm",
          "Specifications/Width/15 inch / 40 cm",
          "Specifications/Width/59 inch / 150 cm",
          "Specifications/Width/10 cm",
          "Specifications/Width/15 cm",
          "Specifications/Width/86 inch / 220 cm",
          "Specifications/Width/60 inch / 152.4 cm",
          "Specifications/Width/3 cm",
          "Specifications/Width/12 inch",
          "Specifications/Width/6 cm",
          "Specifications/Width/11 cm",
          "Specifications/Width/4 cm",
          "Specifications/Width/90 inch / 229 cm",
          "Specifications/Width/19 inch / 50 cm",
          "Specifications/Width/23 cm",
          "Specifications/Width/12.7 cm",
          "Specifications/Width/5 cm",
          "Specifications/Width/30 inch",
          "Specifications/Width/9 inch",
          "Specifications/Model Name/Double Blanket",
          "Specifications/Model Name/4 u design",
          "Specifications/Model Name/Floral Jaipuri Printed Quilt",
          "Specifications/Model Name/Single Blanket",
          "Specifications/Model Name/Hard Anodised",
          "Specifications/Model Name/100% Egyptian",
          "Specifications/Model Name/Baby Bath Towel",
          "Specifications/Model Name/Plain With Lace",
          "Specifications/Model Name/Plain",
          "Specifications/Model Name/Plain Box Quilted Brown Single Duvet",
          "Specifications/Model Name/Teddy Blanket",
          "Specifications/Model Name/Hooded Receiving",
          "Specifications/Model Name/Portable",
          "Specifications/Model Name/Mink",
          "Specifications/Model Name/PATTA",
          "Specifications/Model Name/Abstract Polyester Door Curtain Set Of 2",
          "Specifications/Model Name/Sathiyas cotton bath towel",
          "Specifications/Model Name/SHUVAM20PCFTSETASSORTED",
          "Specifications/Model Name/Gold Design Royal Cotton Printed Wedding and Gifted Double Bedsheet With 2 Pillow cover",
          "Specifications/Model Name/jaipur117",
          "Specifications/Weight/300 g",
          "Specifications/Weight/350 g",
          "Specifications/Weight/500 g",
          "Specifications/Weight/250 g",
          "Specifications/Weight/100 g",
          "Specifications/Weight/450 g",
          "Specifications/Weight/340 g",
          "Specifications/Weight/150 g",
          "Specifications/Weight/400 g",
          "Specifications/Weight/1800 g",
          "Specifications/Weight/50 g",
          "Specifications/Weight/200 g",
          "Specifications/Weight/1500 g",
          "Specifications/Weight/330 g",
          "Specifications/Weight/600 g",
          "Specifications/Weight/1980 g",
          "Specifications/Weight/40 g",
          "Specifications/Weight/900 g",
          "Specifications/Weight/1000 g",
          "Specifications/Weight/750 g",
          "Specifications/Number of Contents in Sales Package/Pack of 1",
          "Specifications/Number of Contents in Sales Package/1",
          "Specifications/Number of Contents in Sales Package/Pack of 2",
          "Specifications/Number of Contents in Sales Package/2",
          "Specifications/Number of Contents in Sales Package/Pack of 3",
          "Specifications/Number of Contents in Sales Package/Pack of 5",
          "Specifications/Number of Contents in Sales Package/Pack of 6",
          "Specifications/Number of Contents in Sales Package/Pack of 4",
          "Specifications/Number of Contents in Sales Package/Pack of 8",
          "Specifications/Number of Contents in Sales Package/5",
          "Specifications/Number of Contents in Sales Package/6",
          "Specifications/Number of Contents in Sales Package/3",
          "Specifications/Number of Contents in Sales Package/Pack of 10",
          "Specifications/Number of Contents in Sales Package/4",
          "Specifications/Number of Contents in Sales Package/8",
          "Specifications/Number of Contents in Sales Package/20",
          "Specifications/Number of Contents in Sales Package/Pack of 7",
          "Specifications/Number of Contents in Sales Package/Pack of 9",
          "Specifications/Number of Contents in Sales Package/Pack of 55",
          "Specifications/Type",
          "Specifications/Brand",
          "Specifications/Sales Package",
          "Specifications/Color",
          "Specifications/Ideal For",
          "Specifications/Material",
          "Specifications/Width",
          "Specifications/Model Name",
          "Specifications/Weight",
          "Specifications/Number of Contents in Sales Package",
          "Specifications"
         ],
         "labels": [
          "Analog",
          "Mug",
          "Ethnic",
          "Wireless Without modem",
          "Religious Idols",
          "Blanket",
          "Kadhai",
          "Quilts and Comforters",
          "Eyelet",
          "Led Light",
          "Digital",
          "Bath Towel",
          "Square",
          "Wireless With Modem",
          "Flat",
          "Human Figurines",
          "Gathered",
          "Range Extenders/Repeaters",
          "Dohar",
          "Set of Towels",
          "Lapguard",
          "PRINT SHAPES",
          "Lal Haveli",
          "Raymond",
          "Aroma Comfort",
          "Tenda",
          "Smartpro",
          "Wallmantra",
          "Asus",
          "HP",
          "Home Originals",
          "Exotic India",
          "TRENDnet",
          "Edimax",
          "Rega IT",
          "Sapatos",
          "D-Link",
          "TP-LINK",
          "Netgear",
          "Cotonex",
          "1 Mug",
          "1 Showpiece Figurine",
          "1 mug",
          "Blanket",
          "1 Laptop Adapter",
          "1 Kadhai",
          "1 Showpiece",
          "1 Pizza Cutter",
          "2 Blankets",
          "800 ML Bottle",
          "Bath Towel",
          "1 Blanket",
          "USB Gadget",
          "1 Sticker",
          "2 Showpiece Figurine",
          "2 Glove",
          "Table Runner",
          "1 Rajai",
          "1 Bulb",
          "One Jaipuri Print Light Weight Quilt",
          "Multicolor",
          "Black",
          "White",
          "Blue",
          "Gold",
          "Brown",
          "Green",
          "Silver",
          "Pink",
          "Yellow",
          "Red",
          "Grey",
          "Orange",
          "Purple",
          "Beige",
          "Copper",
          "Maroon",
          "Black, White",
          "Clear",
          "Steel",
          "Men",
          "Women",
          "Men, Women",
          "Baby Girl's",
          "Men and Women",
          "Baby Boy's",
          "Boys, Girls",
          "Boys",
          "Girls",
          "Men, Boys",
          "Boys, Men",
          "Girls, Women",
          "Boys and Girls",
          "Men, Women, Boys, Girls",
          "Women, Men",
          "Baby Boy's, Baby Girl's",
          "Women, Girls",
          "Baby Boys and Baby Girls",
          "Girls, Boys",
          "Boys, Girls, Men, Women",
          "Ceramic",
          "Cotton",
          "Brass",
          "Polyester",
          "Plastic",
          "Wooden",
          "Aluminium",
          "Glass",
          "Stoneware",
          "Stainless Steel",
          "Polyresin",
          "Copper",
          "Velvet",
          "Vinyl",
          "PVC",
          "Crystal",
          "Iron",
          "Nylon",
          "Rubber",
          "PLASTIC",
          "80 mm",
          "88 mm",
          "15 inch / 40 cm",
          "59 inch / 150 cm",
          "10 cm",
          "15 cm",
          "86 inch / 220 cm",
          "60 inch / 152.4 cm",
          "3 cm",
          "12 inch",
          "6 cm",
          "11 cm",
          "4 cm",
          "90 inch / 229 cm",
          "19 inch / 50 cm",
          "23 cm",
          "12.7 cm",
          "5 cm",
          "30 inch",
          "9 inch",
          "Double Blanket",
          "4 u design",
          "Floral Jaipuri Printed Quilt",
          "Single Blanket",
          "Hard Anodised",
          "100% Egyptian",
          "Baby Bath Towel",
          "Plain With Lace",
          "Plain",
          "Plain Box Quilted Brown Single Duvet",
          "Teddy Blanket",
          "Hooded Receiving",
          "Portable",
          "Mink",
          "PATTA",
          "Abstract Polyester Door Curtain Set Of 2",
          "Sathiyas cotton bath towel",
          "SHUVAM20PCFTSETASSORTED",
          "Gold Design Royal Cotton Printed Wedding and Gifted Double Bedsheet With 2 Pillow cover",
          "jaipur117",
          "300 g",
          "350 g",
          "500 g",
          "250 g",
          "100 g",
          "450 g",
          "340 g",
          "150 g",
          "400 g",
          "1800 g",
          "50 g",
          "200 g",
          "1500 g",
          "330 g",
          "600 g",
          "1980 g",
          "40 g",
          "900 g",
          "1000 g",
          "750 g",
          "Pack of 1",
          "1",
          "Pack of 2",
          "2",
          "Pack of 3",
          "Pack of 5",
          "Pack of 6",
          "Pack of 4",
          "Pack of 8",
          "5",
          "6",
          "3",
          "Pack of 10",
          "4",
          "8",
          "20",
          "Pack of 7",
          "Pack of 9",
          "Pack of 55",
          "Type",
          "Brand",
          "Sales Package",
          "Color",
          "Ideal For",
          "Material",
          "Width",
          "Model Name",
          "Weight",
          "Number of Contents in Sales Package",
          "Specifications"
         ],
         "name": "",
         "parents": [
          "Specifications/Type",
          "Specifications/Type",
          "Specifications/Type",
          "Specifications/Type",
          "Specifications/Type",
          "Specifications/Type",
          "Specifications/Type",
          "Specifications/Type",
          "Specifications/Type",
          "Specifications/Type",
          "Specifications/Type",
          "Specifications/Type",
          "Specifications/Type",
          "Specifications/Type",
          "Specifications/Type",
          "Specifications/Type",
          "Specifications/Type",
          "Specifications/Type",
          "Specifications/Type",
          "Specifications/Type",
          "Specifications/Brand",
          "Specifications/Brand",
          "Specifications/Brand",
          "Specifications/Brand",
          "Specifications/Brand",
          "Specifications/Brand",
          "Specifications/Brand",
          "Specifications/Brand",
          "Specifications/Brand",
          "Specifications/Brand",
          "Specifications/Brand",
          "Specifications/Brand",
          "Specifications/Brand",
          "Specifications/Brand",
          "Specifications/Brand",
          "Specifications/Brand",
          "Specifications/Brand",
          "Specifications/Brand",
          "Specifications/Brand",
          "Specifications/Brand",
          "Specifications/Sales Package",
          "Specifications/Sales Package",
          "Specifications/Sales Package",
          "Specifications/Sales Package",
          "Specifications/Sales Package",
          "Specifications/Sales Package",
          "Specifications/Sales Package",
          "Specifications/Sales Package",
          "Specifications/Sales Package",
          "Specifications/Sales Package",
          "Specifications/Sales Package",
          "Specifications/Sales Package",
          "Specifications/Sales Package",
          "Specifications/Sales Package",
          "Specifications/Sales Package",
          "Specifications/Sales Package",
          "Specifications/Sales Package",
          "Specifications/Sales Package",
          "Specifications/Sales Package",
          "Specifications/Sales Package",
          "Specifications/Color",
          "Specifications/Color",
          "Specifications/Color",
          "Specifications/Color",
          "Specifications/Color",
          "Specifications/Color",
          "Specifications/Color",
          "Specifications/Color",
          "Specifications/Color",
          "Specifications/Color",
          "Specifications/Color",
          "Specifications/Color",
          "Specifications/Color",
          "Specifications/Color",
          "Specifications/Color",
          "Specifications/Color",
          "Specifications/Color",
          "Specifications/Color",
          "Specifications/Color",
          "Specifications/Color",
          "Specifications/Ideal For",
          "Specifications/Ideal For",
          "Specifications/Ideal For",
          "Specifications/Ideal For",
          "Specifications/Ideal For",
          "Specifications/Ideal For",
          "Specifications/Ideal For",
          "Specifications/Ideal For",
          "Specifications/Ideal For",
          "Specifications/Ideal For",
          "Specifications/Ideal For",
          "Specifications/Ideal For",
          "Specifications/Ideal For",
          "Specifications/Ideal For",
          "Specifications/Ideal For",
          "Specifications/Ideal For",
          "Specifications/Ideal For",
          "Specifications/Ideal For",
          "Specifications/Ideal For",
          "Specifications/Ideal For",
          "Specifications/Material",
          "Specifications/Material",
          "Specifications/Material",
          "Specifications/Material",
          "Specifications/Material",
          "Specifications/Material",
          "Specifications/Material",
          "Specifications/Material",
          "Specifications/Material",
          "Specifications/Material",
          "Specifications/Material",
          "Specifications/Material",
          "Specifications/Material",
          "Specifications/Material",
          "Specifications/Material",
          "Specifications/Material",
          "Specifications/Material",
          "Specifications/Material",
          "Specifications/Material",
          "Specifications/Material",
          "Specifications/Width",
          "Specifications/Width",
          "Specifications/Width",
          "Specifications/Width",
          "Specifications/Width",
          "Specifications/Width",
          "Specifications/Width",
          "Specifications/Width",
          "Specifications/Width",
          "Specifications/Width",
          "Specifications/Width",
          "Specifications/Width",
          "Specifications/Width",
          "Specifications/Width",
          "Specifications/Width",
          "Specifications/Width",
          "Specifications/Width",
          "Specifications/Width",
          "Specifications/Width",
          "Specifications/Width",
          "Specifications/Model Name",
          "Specifications/Model Name",
          "Specifications/Model Name",
          "Specifications/Model Name",
          "Specifications/Model Name",
          "Specifications/Model Name",
          "Specifications/Model Name",
          "Specifications/Model Name",
          "Specifications/Model Name",
          "Specifications/Model Name",
          "Specifications/Model Name",
          "Specifications/Model Name",
          "Specifications/Model Name",
          "Specifications/Model Name",
          "Specifications/Model Name",
          "Specifications/Model Name",
          "Specifications/Model Name",
          "Specifications/Model Name",
          "Specifications/Model Name",
          "Specifications/Model Name",
          "Specifications/Weight",
          "Specifications/Weight",
          "Specifications/Weight",
          "Specifications/Weight",
          "Specifications/Weight",
          "Specifications/Weight",
          "Specifications/Weight",
          "Specifications/Weight",
          "Specifications/Weight",
          "Specifications/Weight",
          "Specifications/Weight",
          "Specifications/Weight",
          "Specifications/Weight",
          "Specifications/Weight",
          "Specifications/Weight",
          "Specifications/Weight",
          "Specifications/Weight",
          "Specifications/Weight",
          "Specifications/Weight",
          "Specifications/Weight",
          "Specifications/Number of Contents in Sales Package",
          "Specifications/Number of Contents in Sales Package",
          "Specifications/Number of Contents in Sales Package",
          "Specifications/Number of Contents in Sales Package",
          "Specifications/Number of Contents in Sales Package",
          "Specifications/Number of Contents in Sales Package",
          "Specifications/Number of Contents in Sales Package",
          "Specifications/Number of Contents in Sales Package",
          "Specifications/Number of Contents in Sales Package",
          "Specifications/Number of Contents in Sales Package",
          "Specifications/Number of Contents in Sales Package",
          "Specifications/Number of Contents in Sales Package",
          "Specifications/Number of Contents in Sales Package",
          "Specifications/Number of Contents in Sales Package",
          "Specifications/Number of Contents in Sales Package",
          "Specifications/Number of Contents in Sales Package",
          "Specifications/Number of Contents in Sales Package",
          "Specifications/Number of Contents in Sales Package",
          "Specifications/Number of Contents in Sales Package",
          "Specifications",
          "Specifications",
          "Specifications",
          "Specifications",
          "Specifications",
          "Specifications",
          "Specifications",
          "Specifications",
          "Specifications",
          "Specifications",
          ""
         ],
         "type": "sunburst",
         "values": {
          "bdata": "AAAAAADAXkAAAAAAAIBSQAAAAAAAAExAAAAAAAAAO0AAAAAAAAA6QAAAAAAAADlAAAAAAAAANkAAAAAAAAA1QAAAAAAAADNAAAAAAAAAMUAAAAAAAAAwQAAAAAAAACxAAAAAAAAAKkAAAAAAAAAoQAAAAAAAACRAAAAAAAAAIkAAAAAAAAAiQAAAAAAAACBAAAAAAAAAIEAAAAAAAAAgQAAAAAAAACZAAAAAAAAAJkAAAAAAAAAkQAAAAAAAACBAAAAAAAAAIEAAAAAAAAAcQAAAAAAAABxAAAAAAAAAHEAAAAAAAAAYQAAAAAAAABhAAAAAAAAAGEAAAAAAAAAUQAAAAAAAABRAAAAAAAAAFEAAAAAAAAAUQAAAAAAAABRAAAAAAAAAEEAAAAAAAAAQQAAAAAAAABBAAAAAAAAAEEAAAAAAAIBIQAAAAAAAAEZAAAAAAAAANkAAAAAAAAAoQAAAAAAAACRAAAAAAAAAIEAAAAAAAAAcQAAAAAAAABhAAAAAAAAAGEAAAAAAAAAYQAAAAAAAABhAAAAAAAAAFEAAAAAAAAAUQAAAAAAAABBAAAAAAAAAEEAAAAAAAAAQQAAAAAAAABBAAAAAAAAAEEAAAAAAAAAIQAAAAAAAAAhAAAAAAACAWEAAAAAAAEBSQAAAAAAAAEVAAAAAAAAAP0AAAAAAAAA8QAAAAAAAADpAAAAAAAAANEAAAAAAAAAxQAAAAAAAADFAAAAAAAAAMEAAAAAAAAAwQAAAAAAAACJAAAAAAAAAIEAAAAAAAAAYQAAAAAAAABRAAAAAAAAAFEAAAAAAAAAUQAAAAAAAABRAAAAAAAAAEEAAAAAAAAAIQAAAAAAAAFZAAAAAAADAUkAAAAAAAIBHQAAAAAAAAEdAAAAAAACAQUAAAAAAAAA8QAAAAAAAADtAAAAAAAAANEAAAAAAAAAwQAAAAAAAACZAAAAAAAAAIEAAAAAAAAAcQAAAAAAAABhAAAAAAAAAFEAAAAAAAAAUQAAAAAAAABRAAAAAAAAAEEAAAAAAAAAQQAAAAAAAAAhAAAAAAAAAAEAAAAAAAABUQAAAAAAAAE5AAAAAAAAAOkAAAAAAAAA4QAAAAAAAADhAAAAAAAAANUAAAAAAAAAzQAAAAAAAACZAAAAAAAAAJEAAAAAAAAAiQAAAAAAAACJAAAAAAAAAGEAAAAAAAAAYQAAAAAAAABhAAAAAAAAAEEAAAAAAAAAQQAAAAAAAABBAAAAAAAAAEEAAAAAAAAAQQAAAAAAAABBAAAAAAAAAO0AAAAAAAAA2QAAAAAAAACZAAAAAAAAAIkAAAAAAAAAgQAAAAAAAACBAAAAAAAAAIEAAAAAAAAAcQAAAAAAAABhAAAAAAAAAGEAAAAAAAAAUQAAAAAAAABRAAAAAAAAAFEAAAAAAAAAQQAAAAAAAABBAAAAAAAAAEEAAAAAAAAAQQAAAAAAAABBAAAAAAAAAEEAAAAAAAAAIQAAAAAAAABhAAAAAAAAAEEAAAAAAAAAIQAAAAAAAAAhAAAAAAAAAAEAAAAAAAAAAQAAAAAAAAABAAAAAAAAAAEAAAAAAAAAAQAAAAAAAAABAAAAAAAAAAEAAAAAAAAAAQAAAAAAAAABAAAAAAAAAAEAAAAAAAAAAQAAAAAAAAPA/AAAAAAAA8D8AAAAAAADwPwAAAAAAAPA/AAAAAAAA8D8AAAAAAAA9QAAAAAAAADRAAAAAAAAAMUAAAAAAAAAoQAAAAAAAACZAAAAAAAAAJkAAAAAAAAAmQAAAAAAAACJAAAAAAAAAHEAAAAAAAAAcQAAAAAAAABhAAAAAAAAAGEAAAAAAAAAYQAAAAAAAABRAAAAAAAAAFEAAAAAAAAAUQAAAAAAAABBAAAAAAAAACEAAAAAAAAAIQAAAAAAAAAhAAAAAAADAWEAAAAAAAIBUQAAAAAAAAEJAAAAAAAAAMEAAAAAAAAAsQAAAAAAAACBAAAAAAAAAGEAAAAAAAAAYQAAAAAAAABRAAAAAAAAAFEAAAAAAAAAQQAAAAAAAAAhAAAAAAAAACEAAAAAAAAAIQAAAAAAAAABAAAAAAAAA8D8AAAAAAADwPwAAAAAAAPA/AAAAAAAA8D8AAAAAACiAQAAAAAAAAGBAAAAAAACAakAAAAAAACB7QAAAAAAAoHtAAAAAAADwdEAAAAAAAEBjQAAAAAAAgEVAAAAAAACAZkAAAAAAAIByQAAAAAAAaqVA",
          "dtype": "f8"
         }
        }
       ],
       "layout": {
        "height": 900,
        "legend": {
         "tracegroupgap": 0
        },
        "margin": {
         "b": 0,
         "l": 0,
         "r": 0,
         "t": 50
        },
        "template": {
         "data": {
          "bar": [
           {
            "error_x": {
             "color": "#2a3f5f"
            },
            "error_y": {
             "color": "#2a3f5f"
            },
            "marker": {
             "line": {
              "color": "#E5ECF6",
              "width": 0.5
             },
             "pattern": {
              "fillmode": "overlay",
              "size": 10,
              "solidity": 0.2
             }
            },
            "type": "bar"
           }
          ],
          "barpolar": [
           {
            "marker": {
             "line": {
              "color": "#E5ECF6",
              "width": 0.5
             },
             "pattern": {
              "fillmode": "overlay",
              "size": 10,
              "solidity": 0.2
             }
            },
            "type": "barpolar"
           }
          ],
          "carpet": [
           {
            "aaxis": {
             "endlinecolor": "#2a3f5f",
             "gridcolor": "white",
             "linecolor": "white",
             "minorgridcolor": "white",
             "startlinecolor": "#2a3f5f"
            },
            "baxis": {
             "endlinecolor": "#2a3f5f",
             "gridcolor": "white",
             "linecolor": "white",
             "minorgridcolor": "white",
             "startlinecolor": "#2a3f5f"
            },
            "type": "carpet"
           }
          ],
          "choropleth": [
           {
            "colorbar": {
             "outlinewidth": 0,
             "ticks": ""
            },
            "type": "choropleth"
           }
          ],
          "contour": [
           {
            "colorbar": {
             "outlinewidth": 0,
             "ticks": ""
            },
            "colorscale": [
             [
              0,
              "#0d0887"
             ],
             [
              0.1111111111111111,
              "#46039f"
             ],
             [
              0.2222222222222222,
              "#7201a8"
             ],
             [
              0.3333333333333333,
              "#9c179e"
             ],
             [
              0.4444444444444444,
              "#bd3786"
             ],
             [
              0.5555555555555556,
              "#d8576b"
             ],
             [
              0.6666666666666666,
              "#ed7953"
             ],
             [
              0.7777777777777778,
              "#fb9f3a"
             ],
             [
              0.8888888888888888,
              "#fdca26"
             ],
             [
              1,
              "#f0f921"
             ]
            ],
            "type": "contour"
           }
          ],
          "contourcarpet": [
           {
            "colorbar": {
             "outlinewidth": 0,
             "ticks": ""
            },
            "type": "contourcarpet"
           }
          ],
          "heatmap": [
           {
            "colorbar": {
             "outlinewidth": 0,
             "ticks": ""
            },
            "colorscale": [
             [
              0,
              "#0d0887"
             ],
             [
              0.1111111111111111,
              "#46039f"
             ],
             [
              0.2222222222222222,
              "#7201a8"
             ],
             [
              0.3333333333333333,
              "#9c179e"
             ],
             [
              0.4444444444444444,
              "#bd3786"
             ],
             [
              0.5555555555555556,
              "#d8576b"
             ],
             [
              0.6666666666666666,
              "#ed7953"
             ],
             [
              0.7777777777777778,
              "#fb9f3a"
             ],
             [
              0.8888888888888888,
              "#fdca26"
             ],
             [
              1,
              "#f0f921"
             ]
            ],
            "type": "heatmap"
           }
          ],
          "histogram": [
           {
            "marker": {
             "pattern": {
              "fillmode": "overlay",
              "size": 10,
              "solidity": 0.2
             }
            },
            "type": "histogram"
           }
          ],
          "histogram2d": [
           {
            "colorbar": {
             "outlinewidth": 0,
             "ticks": ""
            },
            "colorscale": [
             [
              0,
              "#0d0887"
             ],
             [
              0.1111111111111111,
              "#46039f"
             ],
             [
              0.2222222222222222,
              "#7201a8"
             ],
             [
              0.3333333333333333,
              "#9c179e"
             ],
             [
              0.4444444444444444,
              "#bd3786"
             ],
             [
              0.5555555555555556,
              "#d8576b"
             ],
             [
              0.6666666666666666,
              "#ed7953"
             ],
             [
              0.7777777777777778,
              "#fb9f3a"
             ],
             [
              0.8888888888888888,
              "#fdca26"
             ],
             [
              1,
              "#f0f921"
             ]
            ],
            "type": "histogram2d"
           }
          ],
          "histogram2dcontour": [
           {
            "colorbar": {
             "outlinewidth": 0,
             "ticks": ""
            },
            "colorscale": [
             [
              0,
              "#0d0887"
             ],
             [
              0.1111111111111111,
              "#46039f"
             ],
             [
              0.2222222222222222,
              "#7201a8"
             ],
             [
              0.3333333333333333,
              "#9c179e"
             ],
             [
              0.4444444444444444,
              "#bd3786"
             ],
             [
              0.5555555555555556,
              "#d8576b"
             ],
             [
              0.6666666666666666,
              "#ed7953"
             ],
             [
              0.7777777777777778,
              "#fb9f3a"
             ],
             [
              0.8888888888888888,
              "#fdca26"
             ],
             [
              1,
              "#f0f921"
             ]
            ],
            "type": "histogram2dcontour"
           }
          ],
          "mesh3d": [
           {
            "colorbar": {
             "outlinewidth": 0,
             "ticks": ""
            },
            "type": "mesh3d"
           }
          ],
          "parcoords": [
           {
            "line": {
             "colorbar": {
              "outlinewidth": 0,
              "ticks": ""
             }
            },
            "type": "parcoords"
           }
          ],
          "pie": [
           {
            "automargin": true,
            "type": "pie"
           }
          ],
          "scatter": [
           {
            "fillpattern": {
             "fillmode": "overlay",
             "size": 10,
             "solidity": 0.2
            },
            "type": "scatter"
           }
          ],
          "scatter3d": [
           {
            "line": {
             "colorbar": {
              "outlinewidth": 0,
              "ticks": ""
             }
            },
            "marker": {
             "colorbar": {
              "outlinewidth": 0,
              "ticks": ""
             }
            },
            "type": "scatter3d"
           }
          ],
          "scattercarpet": [
           {
            "marker": {
             "colorbar": {
              "outlinewidth": 0,
              "ticks": ""
             }
            },
            "type": "scattercarpet"
           }
          ],
          "scattergeo": [
           {
            "marker": {
             "colorbar": {
              "outlinewidth": 0,
              "ticks": ""
             }
            },
            "type": "scattergeo"
           }
          ],
          "scattergl": [
           {
            "marker": {
             "colorbar": {
              "outlinewidth": 0,
              "ticks": ""
             }
            },
            "type": "scattergl"
           }
          ],
          "scattermap": [
           {
            "marker": {
             "colorbar": {
              "outlinewidth": 0,
              "ticks": ""
             }
            },
            "type": "scattermap"
           }
          ],
          "scattermapbox": [
           {
            "marker": {
             "colorbar": {
              "outlinewidth": 0,
              "ticks": ""
             }
            },
            "type": "scattermapbox"
           }
          ],
          "scatterpolar": [
           {
            "marker": {
             "colorbar": {
              "outlinewidth": 0,
              "ticks": ""
             }
            },
            "type": "scatterpolar"
           }
          ],
          "scatterpolargl": [
           {
            "marker": {
             "colorbar": {
              "outlinewidth": 0,
              "ticks": ""
             }
            },
            "type": "scatterpolargl"
           }
          ],
          "scatterternary": [
           {
            "marker": {
             "colorbar": {
              "outlinewidth": 0,
              "ticks": ""
             }
            },
            "type": "scatterternary"
           }
          ],
          "surface": [
           {
            "colorbar": {
             "outlinewidth": 0,
             "ticks": ""
            },
            "colorscale": [
             [
              0,
              "#0d0887"
             ],
             [
              0.1111111111111111,
              "#46039f"
             ],
             [
              0.2222222222222222,
              "#7201a8"
             ],
             [
              0.3333333333333333,
              "#9c179e"
             ],
             [
              0.4444444444444444,
              "#bd3786"
             ],
             [
              0.5555555555555556,
              "#d8576b"
             ],
             [
              0.6666666666666666,
              "#ed7953"
             ],
             [
              0.7777777777777778,
              "#fb9f3a"
             ],
             [
              0.8888888888888888,
              "#fdca26"
             ],
             [
              1,
              "#f0f921"
             ]
            ],
            "type": "surface"
           }
          ],
          "table": [
           {
            "cells": {
             "fill": {
              "color": "#EBF0F8"
             },
             "line": {
              "color": "white"
             }
            },
            "header": {
             "fill": {
              "color": "#C8D4E3"
             },
             "line": {
              "color": "white"
             }
            },
            "type": "table"
           }
          ]
         },
         "layout": {
          "annotationdefaults": {
           "arrowcolor": "#2a3f5f",
           "arrowhead": 0,
           "arrowwidth": 1
          },
          "autotypenumbers": "strict",
          "coloraxis": {
           "colorbar": {
            "outlinewidth": 0,
            "ticks": ""
           }
          },
          "colorscale": {
           "diverging": [
            [
             0,
             "#8e0152"
            ],
            [
             0.1,
             "#c51b7d"
            ],
            [
             0.2,
             "#de77ae"
            ],
            [
             0.3,
             "#f1b6da"
            ],
            [
             0.4,
             "#fde0ef"
            ],
            [
             0.5,
             "#f7f7f7"
            ],
            [
             0.6,
             "#e6f5d0"
            ],
            [
             0.7,
             "#b8e186"
            ],
            [
             0.8,
             "#7fbc41"
            ],
            [
             0.9,
             "#4d9221"
            ],
            [
             1,
             "#276419"
            ]
           ],
           "sequential": [
            [
             0,
             "#0d0887"
            ],
            [
             0.1111111111111111,
             "#46039f"
            ],
            [
             0.2222222222222222,
             "#7201a8"
            ],
            [
             0.3333333333333333,
             "#9c179e"
            ],
            [
             0.4444444444444444,
             "#bd3786"
            ],
            [
             0.5555555555555556,
             "#d8576b"
            ],
            [
             0.6666666666666666,
             "#ed7953"
            ],
            [
             0.7777777777777778,
             "#fb9f3a"
            ],
            [
             0.8888888888888888,
             "#fdca26"
            ],
            [
             1,
             "#f0f921"
            ]
           ],
           "sequentialminus": [
            [
             0,
             "#0d0887"
            ],
            [
             0.1111111111111111,
             "#46039f"
            ],
            [
             0.2222222222222222,
             "#7201a8"
            ],
            [
             0.3333333333333333,
             "#9c179e"
            ],
            [
             0.4444444444444444,
             "#bd3786"
            ],
            [
             0.5555555555555556,
             "#d8576b"
            ],
            [
             0.6666666666666666,
             "#ed7953"
            ],
            [
             0.7777777777777778,
             "#fb9f3a"
            ],
            [
             0.8888888888888888,
             "#fdca26"
            ],
            [
             1,
             "#f0f921"
            ]
           ]
          },
          "colorway": [
           "#636efa",
           "#EF553B",
           "#00cc96",
           "#ab63fa",
           "#FFA15A",
           "#19d3f3",
           "#FF6692",
           "#B6E880",
           "#FF97FF",
           "#FECB52"
          ],
          "font": {
           "color": "#2a3f5f"
          },
          "geo": {
           "bgcolor": "white",
           "lakecolor": "white",
           "landcolor": "#E5ECF6",
           "showlakes": true,
           "showland": true,
           "subunitcolor": "white"
          },
          "hoverlabel": {
           "align": "left"
          },
          "hovermode": "closest",
          "mapbox": {
           "style": "light"
          },
          "paper_bgcolor": "white",
          "plot_bgcolor": "#E5ECF6",
          "polar": {
           "angularaxis": {
            "gridcolor": "white",
            "linecolor": "white",
            "ticks": ""
           },
           "bgcolor": "#E5ECF6",
           "radialaxis": {
            "gridcolor": "white",
            "linecolor": "white",
            "ticks": ""
           }
          },
          "scene": {
           "xaxis": {
            "backgroundcolor": "#E5ECF6",
            "gridcolor": "white",
            "gridwidth": 2,
            "linecolor": "white",
            "showbackground": true,
            "ticks": "",
            "zerolinecolor": "white"
           },
           "yaxis": {
            "backgroundcolor": "#E5ECF6",
            "gridcolor": "white",
            "gridwidth": 2,
            "linecolor": "white",
            "showbackground": true,
            "ticks": "",
            "zerolinecolor": "white"
           },
           "zaxis": {
            "backgroundcolor": "#E5ECF6",
            "gridcolor": "white",
            "gridwidth": 2,
            "linecolor": "white",
            "showbackground": true,
            "ticks": "",
            "zerolinecolor": "white"
           }
          },
          "shapedefaults": {
           "line": {
            "color": "#2a3f5f"
           }
          },
          "ternary": {
           "aaxis": {
            "gridcolor": "white",
            "linecolor": "white",
            "ticks": ""
           },
           "baxis": {
            "gridcolor": "white",
            "linecolor": "white",
            "ticks": ""
           },
           "bgcolor": "#E5ECF6",
           "caxis": {
            "gridcolor": "white",
            "linecolor": "white",
            "ticks": ""
           }
          },
          "title": {
           "x": 0.05
          },
          "xaxis": {
           "automargin": true,
           "gridcolor": "white",
           "linecolor": "white",
           "ticks": "",
           "title": {
            "standoff": 15
           },
           "zerolinecolor": "white",
           "zerolinewidth": 2
          },
          "yaxis": {
           "automargin": true,
           "gridcolor": "white",
           "linecolor": "white",
           "ticks": "",
           "title": {
            "standoff": 15
           },
           "zerolinecolor": "white",
           "zerolinewidth": 2
          }
         }
        },
        "title": {
         "text": "Product Specifications Hierarchy"
        },
        "uniformtext": {
         "minsize": 10,
         "mode": "hide"
        },
        "width": 900
       }
      }
     },
     "metadata": {},
     "output_type": "display_data"
    }
   ],
   "source": [
    "\n",
    "fig = analyzer.create_radial_icicle_chart(top_keys=10, top_values=20)\n",
    "fig.show()"
   ]
  },
  {
   "cell_type": "code",
   "execution_count": 4,
   "id": "001319bf",
   "metadata": {},
   "outputs": [
    {
     "data": {
      "application/vnd.plotly.v1+json": {
       "config": {
        "plotlyServerURL": "https://plot.ly"
       },
       "data": [
        {
         "branchvalues": "total",
         "ids": [
          "Home Furnishing",
          "Home Furnishing >> Curtains & Accessories",
          "Home Furnishing >> Curtains & Accessories >> Curtains",
          "Home Furnishing >> Curtains & Accessories >> Curtains >> Elegance Polyester Multicolor Abstract Eyelet Do...",
          "Baby Care",
          "Baby Care >> Baby Bath & Skin",
          "Baby Care >> Baby Bath & Skin >> Baby Bath Towels",
          "Baby Care >> Baby Bath & Skin >> Baby Bath Towels >> Sathiyas Baby Bath Towels",
          "Baby Care >> Baby Bath & Skin >> Baby Bath Towels >> Sathiyas Baby Bath Towels >> Sathiyas Cotton Bath Towel (3 Bath Towel, Red, Y...",
          "Baby Care >> Baby Bath & Skin >> Baby Bath Towels >> Eurospa Baby Bath Towels",
          "Baby Care >> Baby Bath & Skin >> Baby Bath Towels >> Eurospa Baby Bath Towels >> Eurospa Cotton Terry Face Towel Set (20 PIECE FA...",
          "Home Furnishing >> Bed Linen",
          "Home Furnishing >> Bed Linen >> Bedsheets",
          "Home Furnishing >> Bed Linen >> Bedsheets >> SANTOSH ROYAL FASHION Bedsheets",
          "Home Furnishing >> Bed Linen >> Bedsheets >> SANTOSH ROYAL FASHION Bedsheets >> SANTOSH ROYAL FASHION Cotton Printed King sized ...",
          "Home Furnishing >> Bed Linen >> Bedsheets >> Jaipur Print Bedsheets",
          "Home Furnishing >> Bed Linen >> Bedsheets >> Jaipur Print Bedsheets >> Jaipur Print Cotton Floral King sized Double Bed...",
          "Watches",
          "Watches >> Wrist Watches",
          "Watches >> Wrist Watches >> Maserati Time Wrist Watches",
          "Watches >> Wrist Watches >> Camerii Wrist Watches",
          "Watches >> Wrist Watches >> T STAR Wrist Watches",
          "Watches >> Wrist Watches >> Alfajr Wrist Watches",
          "Watches >> Wrist Watches >> TAG Heuer Wrist Watches",
          "Watches >> Wrist Watches >> Calibro Wrist Watches",
          "Watches >> Wrist Watches >> Cartier Wrist Watches",
          "Watches >> Wrist Watches >> Lois Caron Wrist Watches",
          "Watches >> Wrist Watches >> Titan Wrist Watches",
          "Watches >> Wrist Watches >> Srushti Art Jewelry Wrist Watches",
          "Watches >> Wrist Watches >> Escort Wrist Watches",
          "Watches >> Wrist Watches >> Jack klein Wrist Watches",
          "Watches >> Wrist Watches >> North Moon Wrist Watches",
          "Watches >> Wrist Watches >> Franck Bella Wrist Watches",
          "Watches >> Wrist Watches >> Ridas Wrist Watches",
          "Watches >> Wrist Watches >> Skmei Wrist Watches",
          "Watches >> Wrist Watches >> Now Wrist Watches",
          "Watches >> Wrist Watches >> fastrack Wrist Watches",
          "Watches >> Wrist Watches >> Disney Wrist Watches",
          "Watches >> Wrist Watches >> Vizion Wrist Watches",
          "Watches >> Wrist Watches >> Elantra Wrist Watches",
          "Watches >> Wrist Watches >> Marvel Wrist Watches",
          "Watches >> Wrist Watches >> Lenco Wrist Watches",
          "Watches >> Wrist Watches >> D'Signer Wrist Watches",
          "Home Furnishing >> Living Room Furnishing",
          "Home Furnishing >> Living Room Furnishing >> Diwan Sets",
          "Home Furnishing >> Living Room Furnishing >> Diwan Sets >> SANTOSH ROYAL FASHION Diwan Sets",
          "Home Furnishing >> Living Room Furnishing >> Diwan Sets >> SANTOSH ROYAL FASHION Diwan Sets >> SANTOSH ROYAL FASHION Cotton Embroidered Diwan Set",
          "Home Furnishing >> Bed Linen >> Duvet Covers",
          "Home Furnishing >> Bed Linen >> Duvet Covers >> House This Duvet Covers",
          "Home Furnishing >> Bed Linen >> Duvet Covers >> House This Duvet Covers >> House This Queen Cotton Duvet Cover (Grey)",
          "Home Furnishing >> Bath Linen",
          "Home Furnishing >> Bath Linen >> Bath Mats",
          "Home Decor & Festive Needs",
          "Home Decor & Festive Needs >> Candles & Fragrances",
          "Home Decor & Festive Needs >> Candles & Fragrances >> Home Fragrances",
          "Home Decor & Festive Needs >> Candles & Fragrances >> Home Fragrances >> Aroma Oils",
          "Home Decor & Festive Needs >> Candles & Fragrances >> Home Fragrances >> Aroma Oils >> Myesquire Aroma Oils",
          "Kitchen & Dining",
          "Kitchen & Dining >> Tableware & Cutlery",
          "Kitchen & Dining >> Tableware & Cutlery >> Jug, Glass & Tray Sets",
          "Kitchen & Dining >> Tableware & Cutlery >> Jug, Glass & Tray Sets >> Dungri India Craft Jug, Glass & Tray Sets",
          "Kitchen & Dining >> Tableware & Cutlery >> Jug, Glass & Tray Sets >> Dungri India Craft Jug, Glass & Tray Sets >> Dungri India Craft Ducjug010-ducgl012-2 Jug Glas...",
          "Kitchen & Dining >> Lighting",
          "Kitchen & Dining >> Lighting >> Bulbs",
          "Kitchen & Dining >> Lighting >> Bulbs >> BFT Bulbs",
          "Kitchen & Dining >> Lighting >> Bulbs >> BFT Bulbs >> BFT 6 W LED Bulb (White)",
          "Home Furnishing >> JMD Home Furnishing",
          "Home Furnishing >> JMD Home Furnishing >> JMD Printed Cushions Cover (Pack of 2, 40 cm*40 ...",
          "Baby Care >> Infant Wear",
          "Baby Care >> Infant Wear >> Baby Girls' Clothes",
          "Baby Care >> Infant Wear >> Baby Girls' Clothes >> Innerwear & Sleepwear",
          "Baby Care >> Infant Wear >> Baby Girls' Clothes >> Innerwear & Sleepwear >> Night Suits",
          "Baby Care >> Infant Wear >> Baby Girls' Clothes >> Innerwear & Sleepwear >> Night Suits >> Mom and Kid Night Suits",
          "Baby Care >> Infant Wear >> Baby Girls' Clothes >> Innerwear & Sleepwear >> Night Suits >> Mom and Kid Night Suits >> Mom and Kid Baby Girl's Printed Green Top & Pyja...",
          "Home Furnishing >> Kripa's Home Furnishing",
          "Home Furnishing >> Kripa's Home Furnishing >> Kripa's Printed Cushions Cover (Pack of 2, 45 cm...",
          "Baby Care >> Infant Wear >> Baby Girls' Clothes >> Innerwear & Sleepwear >> Night Suits >> Mom and Kid Night Suits >> Mom and Kid Baby Girl's Printed Blue, Grey Top &...",
          "Beauty and Personal Care",
          "Beauty and Personal Care >> Hair Care",
          "Beauty and Personal Care >> Hair Care >> Conditioners",
          "Beauty and Personal Care >> Hair Care >> Conditioners >> Burt s Bees Conditioners",
          "Beauty and Personal Care >> Hair Care >> Conditioners >> Burt s Bees Conditioners >> Burt s Bees Hair Repair Shea And Grapefruit Deep...",
          "Kitchen & Dining >> Coffee Mugs",
          "Kitchen & Dining >> Coffee Mugs >> AKUP Coffee Mugs",
          "Kitchen & Dining >> Coffee Mugs >> AKUP Coffee Mugs >> AKUP i-loves-music Ceramic Mug (300 ml)",
          "Kitchen & Dining >> Coffee Mugs >> AKUP Coffee Mugs >> AKUP i-love-my-mom Ceramic Mug (300 ml)",
          "Kitchen & Dining >> Coffee Mugs >> AKUP Coffee Mugs >> AKUP keep-calm Ceramic Mug (300 ml)",
          "Computers",
          "Computers >> Network Components",
          "Computers >> Network Components >> Routers",
          "Computers >> Network Components >> Routers >> D-Link Routers",
          "Computers >> Network Components >> Routers >> D-Link Routers >> D-Link DAP1320 (White)",
          "Kitchen & Dining >> Coffee Mugs >> AKUP Coffee Mugs >> AKUP league-of-legends Ceramic Mug (300 ml)",
          "Beauty and Personal Care >> Hair Care >> Conditioners >> Suave Conditioners",
          "Beauty and Personal Care >> Hair Care >> Conditioners >> Suave Conditioners >> Suave Naturals Everlasting Sunshine Conditioner ...",
          "Kitchen & Dining >> Coffee Mugs >> AKUP Coffee Mugs >> AKUP life-is-not-living Ceramic Mug (300 ml)",
          "Computers >> Tablet Accessories",
          "Computers >> Tablet Accessories >> Keyboards",
          "Computers >> Tablet Accessories >> Keyboards >> RoQ Keyboards",
          "Computers >> Tablet Accessories >> Keyboards >> RoQ Keyboards >> RoQ Slim Multimedia 105key Flexible Wired USB Fl...",
          "Kitchen & Dining >> Cookware",
          "Kitchen & Dining >> Cookware >> Casserole & Sets",
          "Kitchen & Dining >> Cookware >> Casserole & Sets >> Cookart Casserole & Sets",
          "Kitchen & Dining >> Cookware >> Casserole & Sets >> Cookart Casserole & Sets >> Cookart Elegant S.S. Handi With Hot Pot Pack of ...",
          "Computers >> Laptop Accessories",
          "Computers >> Laptop Accessories >> USB Gadgets",
          "Computers >> Laptop Accessories >> USB Gadgets >> JRB USB Gadgets",
          "Computers >> Laptop Accessories >> USB Gadgets >> JRB USB Gadgets >> JRB 1038 Smallest Mobile Powered By OTG Enabled ...",
          "Computers >> Laptop Accessories >> USB Gadgets >> JRB USB Gadgets >> JRB 1033 Smallest Mobile Powered By OTG Enabled ...",
          "Computers >> Laptop Accessories >> USB Gadgets >> JRB USB Gadgets >> JRB 1042 Smallest Mobile Powered By OTG Enabled ...",
          "Beauty and Personal Care >> Makeup",
          "Beauty and Personal Care >> Makeup >> Vanity Boxes",
          "Beauty and Personal Care >> Makeup >> Vanity Boxes >> Borse Vanity Boxes",
          "Beauty and Personal Care >> Combos and Kits",
          "Beauty and Personal Care >> Combos and Kits >> RYTHMX Combos and Kits",
          "Beauty and Personal Care >> Combos and Kits >> RYTHMX Combos and Kits >> RYTHMX FB NAIL POLISHES BLACK LIPSTICKS IMPORTAN...",
          "Beauty and Personal Care >> Combos and Kits >> Brillare Science Combos and Kits",
          "Beauty and Personal Care >> Combos and Kits >> Brillare Science Combos and Kits >> Brillare Science Dandruff Control Shampoo & Inte...",
          "Beauty and Personal Care >> Combos and Kits >> Mars Combos and Kits",
          "Beauty and Personal Care >> Combos and Kits >> Mars Combos and Kits >> Mars Queen Eye Liner, Lip Gloss, EyeLiner (Set o...",
          "Beauty and Personal Care >> Makeup >> Nails",
          "Beauty and Personal Care >> Makeup >> Nails >> Nail Polishes",
          "Beauty and Personal Care >> Makeup >> Nails >> Nail Polishes >> Aroma Care Nail Polishes",
          "Beauty and Personal Care >> Makeup >> Nails >> Nail Polishes >> Aroma Care Nail Polishes >> Aroma Care Intense Color Nail Polish Combo 17505...",
          "Baby Care >> Feeding & Nursing",
          "Baby Care >> Feeding & Nursing >> Bottles & Accessories",
          "Baby Care >> Feeding & Nursing >> Bottles & Accessories >> Bottle Covers",
          "Baby Care >> Feeding & Nursing >> Bottles & Accessories >> Bottle Covers >> KOHL Bottle Covers",
          "Baby Care >> Feeding & Nursing >> Bottles & Accessories >> Bottle Covers >> KOHL Bottle Covers >> KOHL Wine Bag Yellow (Yellow)",
          "Kitchen & Dining >> Coffee Mugs >> Shopmania Coffee Mugs",
          "Kitchen & Dining >> Coffee Mugs >> Shopmania Coffee Mugs >> Shopmania Happy Birthday Gift For Starting Lette...",
          "Baby Care >> Baby Bedding",
          "Baby Care >> Baby Bedding >> Baby Mattresses",
          "Baby Care >> Baby Bedding >> Baby Mattresses >> CHHOTE JANAB Baby Mattresses",
          "Baby Care >> Baby Bedding >> Baby Mattresses >> CHHOTE JANAB Baby Mattresses >> CHHOTE JANAB COZY MATTRESS PROTECTOR(SET OF 2) (...",
          "Home Furnishing >> Kitchen & Dining Linen",
          "Home Furnishing >> Kitchen & Dining Linen >> Table Covers",
          "Home Furnishing >> Kitchen & Dining Linen >> Table Covers >> Prime Printed 4 Seater Table Cover (Multicolor, ...",
          "Kitchen & Dining >> Containers & Bottles",
          "Kitchen & Dining >> Containers & Bottles >> Lunch Boxes",
          "Kitchen & Dining >> Containers & Bottles >> Lunch Boxes >> SKI Lunch Boxes",
          "Kitchen & Dining >> Containers & Bottles >> Lunch Boxes >> SKI Lunch Boxes >> SKI WINNER GIFT SET SKYBLUE02 2 Containers Lunch...",
          "Kitchen & Dining >> Containers & Bottles >> Lunch Boxes >> GAYATRI CREATIONS Lunch Boxes",
          "Kitchen & Dining >> Containers & Bottles >> Lunch Boxes >> GAYATRI CREATIONS Lunch Boxes >> GAYATRI CREATIONS ORANGE KIDS SET 2 Containers L...",
          "Kitchen & Dining >> Consumables & Disposables",
          "Kitchen & Dining >> Consumables & Disposables >> Bowls",
          "Kitchen & Dining >> Consumables & Disposables >> Bowls >> Caffeine Bowls",
          "Kitchen & Dining >> Consumables & Disposables >> Bowls >> Caffeine Bowls >> Caffeine Handmade Tribal Print Influenced Katori...",
          "Home Furnishing >> Kitchen & Dining Linen >> Table Covers >> Prime Printed 8 Seater Table Cover (Multicolor, ...",
          "Kitchen & Dining >> Containers & Bottles >> Bottles & Sippers",
          "Kitchen & Dining >> Containers & Bottles >> Bottles & Sippers >> Water bottle",
          "Kitchen & Dining >> Containers & Bottles >> Bottles & Sippers >> Water bottle >> Garnet Water bottle",
          "Kitchen & Dining >> Containers & Bottles >> Bottles & Sippers >> Water bottle >> Garnet Water bottle >> Garnet Traveller 1500 ml Bottle (Pack of 6, Mult...",
          "Baby Care >> Infant Wear >> Baby Girls' Clothes >> Shorts & Trousers",
          "Baby Care >> Infant Wear >> Baby Girls' Clothes >> Shorts & Trousers >> Shorts",
          "Baby Care >> Infant Wear >> Baby Girls' Clothes >> Shorts & Trousers >> Shorts >> Vitamins Shorts",
          "Baby Care >> Infant Wear >> Baby Girls' Clothes >> Shorts & Trousers >> Shorts >> Vitamins Shorts >> Vitamins Solid Baby Girl's Basic Shorts",
          "Baby Care >> Infant Wear >> Baby Girls' Clothes >> Shorts & Trousers >> Shorts >> Vitamins Shorts >> Vitamins Graphic Print Baby Girl's Basic Shorts",
          "Baby Care >> Infant Wear >> Baby Girls' Clothes >> Shorts & Trousers >> Shorts >> Vitamins Shorts >> Vitamins Embroidered Baby Girl's Denim Shorts",
          "Beauty and Personal Care >> Makeup >> Vanity Boxes >> KE Vanity Boxes",
          "Beauty and Personal Care >> Makeup >> Vanity Boxes >> KE Vanity Boxes >> KE GIFT BOX STOR JEWELLARY Vanity Jewellery (BLUE)",
          "Beauty and Personal Care >> Makeup >> Lips",
          "Beauty and Personal Care >> Makeup >> Lips >> Lip Liners",
          "Beauty and Personal Care >> Makeup >> Lips >> Lip Liners >> Giorgio Armani Lip Liners",
          "Beauty and Personal Care >> Makeup >> Lips >> Lip Liners >> Giorgio Armani Lip Liners >> Giorgio Armani SMOOTH SILK LIP PENCIL 12 (Soyeux...",
          "Home Furnishing >> Living Room Furnishing >> Diwan Sets >> Jaipur Print Diwan Sets",
          "Home Furnishing >> Living Room Furnishing >> Diwan Sets >> Jaipur Print Diwan Sets >> Jaipur Print Cotton Floral Diwan Set",
          "Baby Care >> Infant Wear >> Baby Boys' Clothes",
          "Baby Care >> Infant Wear >> Baby Boys' Clothes >> Accessories",
          "Baby Care >> Infant Wear >> Baby Boys' Clothes >> Accessories >> Caps",
          "Baby Care >> Infant Wear >> Baby Boys' Clothes >> Accessories >> Caps >> florence9 Caps",
          "Baby Care >> Infant Wear >> Baby Boys' Clothes >> Accessories >> Caps >> florence9 Caps >> florence9 baby cap red checks Cap",
          "Home Decor & Festive Needs >> Wall Decor & Clocks",
          "Home Decor & Festive Needs >> Wall Decor & Clocks >> Key Holders",
          "Home Decor & Festive Needs >> Wall Decor & Clocks >> Key Holders >> VarEesha Key Holders",
          "Home Decor & Festive Needs >> Wall Decor & Clocks >> Key Holders >> VarEesha Key Holders >> VarEesha Wooden Key Holder (8 Hooks, Multicolor)",
          "Home Decor & Festive Needs >> Table Decor & Handicrafts",
          "Home Decor & Festive Needs >> Table Decor & Handicrafts >> Showpieces",
          "Home Decor & Festive Needs >> Table Decor & Handicrafts >> Showpieces >> Fengshui",
          "Home Decor & Festive Needs >> Table Decor & Handicrafts >> Showpieces >> Fengshui >> Treasure Fengshui",
          "Home Decor & Festive Needs >> Table Decor & Handicrafts >> Showpieces >> Fengshui >> Treasure Fengshui >> Treasure Showpiece  -  23 cm (Polyresin, Blue)",
          "Baby Care >> Baby Bedding >> Baby Mosquito Nets",
          "Baby Care >> Baby Bedding >> Baby Mosquito Nets >> CHINMAY KIDS Baby Mosquito Nets",
          "Baby Care >> Baby Bedding >> Baby Mosquito Nets >> CHINMAY KIDS Baby Mosquito Nets >> CHINMAY KIDS Printed Cotton Padded Mosquito Net ...",
          "Baby Care >> Infant Wear >> Baby Boys' Clothes >> Combo Sets",
          "Baby Care >> Infant Wear >> Baby Boys' Clothes >> Combo Sets >> HEAVENLY Combo Sets",
          "Baby Care >> Infant Wear >> Baby Boys' Clothes >> Combo Sets >> HEAVENLY Combo Sets >> HEAVENLY Dress Baby Boy's  Combo",
          "Home Decor & Festive Needs >> Flowers, Plants & Vases",
          "Home Decor & Festive Needs >> Flowers, Plants & Vases >> Flower Vase",
          "Home Decor & Festive Needs >> Flowers, Plants & Vases >> Flower Vase >> @home Flower Vase",
          "Home Decor & Festive Needs >> Flowers, Plants & Vases >> Flower Vase >> @home Flower Vase >> @home Glass Vase (18 inch, Grey)",
          "Home Decor & Festive Needs >> Wall Decor & Clocks >> Wall Decals & Stickers",
          "Home Decor & Festive Needs >> Wall Decor & Clocks >> Wall Decals & Stickers >> Smart Wall Guru Wall Decals & Stickers",
          "Home Decor & Festive Needs >> Wall Decor & Clocks >> Wall Decals & Stickers >> Smart Wall Guru Wall Decals & Stickers >> Smart Wall Guru Medium Adhesive Sticker (Pack of 1)",
          "Kitchen & Dining >> Cookware >> Pots & Pans",
          "Kitchen & Dining >> Cookware >> Pots & Pans >> Pans & Tawas",
          "Kitchen & Dining >> Cookware >> Pots & Pans >> Pans & Tawas >> oxford Pans & Tawas",
          "Kitchen & Dining >> Cookware >> Pots & Pans >> Pans & Tawas >> oxford Pans & Tawas >> oxford Tawa 15 cm cm diameter (Aluminium, Non-st...",
          "Computers >> Software",
          "Computers >> Software >> Language Learning",
          "Computers >> Software >> Language Learning >> Physical",
          "Computers >> Software >> Language Learning >> Physical >> Eureka.in Physical",
          "Computers >> Software >> Language Learning >> Physical >> Eureka.in Physical >> Eureka.in GSEB Class VII (Pen drive)",
          "Home Furnishing >> Kitchen & Dining Linen >> Coasters",
          "Home Furnishing >> Kitchen & Dining Linen >> Coasters >> Craft Trade Coasters",
          "Home Furnishing >> Kitchen & Dining Linen >> Coasters >> Craft Trade Coasters >> Craft Trade Oval Wood Coaster Set (Brown, Pack o...",
          "Home Decor & Festive Needs >> Showpieces",
          "Home Decor & Festive Needs >> Showpieces >> Parv Collections Showpieces",
          "Home Decor & Festive Needs >> Showpieces >> Exotic India Showpieces",
          "Home Decor & Festive Needs >> Showpieces >> Aapno Rajasthan Showpieces",
          "Home Decor & Festive Needs >> Showpieces >> BeYOUtiful Showpieces",
          "Home Decor & Festive Needs >> Table Decor & Handicrafts >> Showpieces >> Religious Idols",
          "Home Decor & Festive Needs >> Table Decor & Handicrafts >> Showpieces >> Religious Idols >> Exotic India Religious Idols",
          "Home Decor & Festive Needs >> Table Decor & Handicrafts >> Showpieces >> Human Figurines",
          "Home Decor & Festive Needs >> Table Decor & Handicrafts >> Showpieces >> Human Figurines >> My Angel Human Figurines",
          "Home Decor & Festive Needs >> Table Decor & Handicrafts >> Showpieces >> Religious Idols >> Diviniti Religious Idols",
          "Beauty and Personal Care >> Makeup >> Vanity Boxes >> Kuber Industries Vanity Boxes",
          "Beauty and Personal Care >> Makeup >> Vanity Boxes >> Thar Handloom Vanity Boxes",
          "Beauty and Personal Care >> Makeup >> Vanity Boxes >> Goldencollections Vanity Boxes",
          "Home Decor & Festive Needs >> Table Decor & Handicrafts >> Showpieces >> Religious Idols >> K&P Religious Idols",
          "Home Decor & Festive Needs >> Table Decor & Handicrafts >> Showpieces >> Religious Idols >> K&P Religious Idols >> K&P Lord Ganesha Regular 16 Showpiece  -  13 cm ...",
          "Home Furnishing >> Bed Linen >> Blankets, Quilts & Dohars",
          "Baby Care >> Furniture & Furnishings",
          "Baby Care >> Furniture & Furnishings >> Inflatable Products",
          "Baby Care >> Furniture & Furnishings >> Inflatable Products >> Bestway Inflatable Products",
          "Home Furnishing >> Bed Linen >> Blankets, Quilts & Dohars >> Remtex Export Cartoon Single Dohar Multicolor (1...",
          "Baby Care >> Infant Wear >> Baby Girls' Clothes >> Ethnic Wear",
          "Baby Care >> Infant Wear >> Baby Girls' Clothes >> Ethnic Wear >> Salwar Kurta Dupattas",
          "Baby Care >> Infant Wear >> Baby Girls' Clothes >> Ethnic Wear >> Salwar Kurta Dupattas >> TWISHA Salwar Kurta Dupattas",
          "Baby Care >> Infant Wear >> Baby Girls' Clothes >> Ethnic Wear >> Salwar Kurta Dupattas >> TWISHA Salwar Kurta Dupattas >> TWISHA Printed Kurti & Salwar",
          "Home Decor & Festive Needs >> Decorative Lighting & Lamps",
          "Home Decor & Festive Needs >> Decorative Lighting & Lamps >> Table Lamps",
          "Home Decor & Festive Needs >> Decorative Lighting & Lamps >> Table Lamps >> Eternity Table Lamps",
          "Home Decor & Festive Needs >> Decorative Lighting & Lamps >> Table Lamps >> Eternity Table Lamps >> Eternity Handcrafted unique Mosaic Glass Table L...",
          "Baby Care >> Infant Wear >> Baby Boys' Clothes >> Bodysuits & Sleepsuits",
          "Baby Care >> Infant Wear >> Baby Boys' Clothes >> Bodysuits & Sleepsuits >> Sleepsuits",
          "Baby Care >> Infant Wear >> Baby Boys' Clothes >> Bodysuits & Sleepsuits >> Sleepsuits >> FS Mini Klub Sleepsuits",
          "Baby Care >> Infant Wear >> Baby Boys' Clothes >> Bodysuits & Sleepsuits >> Sleepsuits >> FS Mini Klub Sleepsuits >> FS Mini Klub Baby Boy's Sleepsuit",
          "Kitchen & Dining >> Containers & Bottles >> Bottles & Sippers >> Sippers",
          "Kitchen & Dining >> Containers & Bottles >> Bottles & Sippers >> Sippers >> Omic Sippers",
          "Kitchen & Dining >> Containers & Bottles >> Bottles & Sippers >> Sippers >> Omic Sippers >> Omic Poto-Blue 1000 ml Sipper (Pack of 1, Blue)",
          "Baby Care >> Baby Grooming",
          "Baby Care >> Baby Grooming >> Baby Grooming Combos",
          "Baby Care >> Baby Grooming >> Baby Grooming Combos >> Lollipop Lane Baby Grooming Combos",
          "Computers >> Computer Peripherals",
          "Computers >> Computer Peripherals >> Printers & Inks",
          "Computers >> Computer Peripherals >> Printers & Inks >> Toners",
          "Computers >> Computer Peripherals >> Printers & Inks >> Toners >> Filink Toners",
          "Home Decor & Festive Needs >> Table Decor & Handicrafts >> Showpieces >> Religious Idols >> Recrafto Religious Idols",
          "Baby Care >> Infant Wear >> Baby Boys' Clothes >> Bodysuits & Sleepsuits >> Bodysuits",
          "Baby Care >> Infant Wear >> Baby Boys' Clothes >> Bodysuits & Sleepsuits >> Bodysuits >> Anthill Bodysuits",
          "Computers >> Laptop Accessories >> Mouse Pads",
          "Computers >> Laptop Accessories >> Mouse Pads >> FRENEMY Mouse Pads",
          "Computers >> Laptop Accessories >> Mouse Pads >> FRENEMY Mouse Pads >> FRENEMY MPAD271 Mousepad (Multicolor)",
          "Home Furnishing >> Cushions, Pillows & Covers",
          "Home Furnishing >> Cushions, Pillows & Covers >> Cushion Covers",
          "Home Furnishing >> Cushions, Pillows & Covers >> Cushion Covers >> Quilt India Floral Cushions Cover (77 cm, Gold)",
          "Baby Care >> Infant Wear >> Baby Boys' Clothes >> Bodysuits & Sleepsuits >> Sleepsuits >> Toffyhouse Sleepsuits",
          "Baby Care >> Infant Wear >> Baby Boys' Clothes >> Bodysuits & Sleepsuits >> Sleepsuits >> Toffyhouse Sleepsuits >> Toffyhouse Baby Boy's Sleepsuit",
          "Computers >> Storage",
          "Computers >> Storage >> Pen Drives",
          "Computers >> Storage >> Pen Drives >> Shopizone Pen Drives",
          "Computers >> Storage >> Pen Drives >> Shopizone Pen Drives >> Shopizone BMW Wheel 32 GB  Pen Drive (Black)",
          "Home Decor & Festive Needs >> Wall Decor & Clocks >> Key Holders >> Craftcart Key Holders",
          "Home Decor & Festive Needs >> Wall Decor & Clocks >> Key Holders >> Craftcart Key Holders >> Craftcart Parrot Antique Brass Key Holder (5 Hoo...",
          "Beauty and Personal Care >> Health Care",
          "Beauty and Personal Care >> Health Care >> Health Care Devices",
          "Beauty and Personal Care >> Health Care >> Health Care Devices >> Electrotherapy",
          "Beauty and Personal Care >> Health Care >> Health Care Devices >> Electrotherapy >> SOS Electrotherapy",
          "Beauty and Personal Care >> Health Care >> Health Care Devices >> Electrotherapy >> SOS Electrotherapy >> SOS COMPUTRISED LCD INTRFERENTIAL UNIT-125PROG. ...",
          "Beauty and Personal Care >> Body and Skin Care",
          "Beauty and Personal Care >> Body and Skin Care >> Hand Care",
          "Beauty and Personal Care >> Body and Skin Care >> Hand Care >> Manicure and Kits",
          "Beauty and Personal Care >> Body and Skin Care >> Hand Care >> Manicure and Kits >> Sally Hansen Manicure and Kits",
          "Beauty and Personal Care >> Body and Skin Care >> Hand Care >> Manicure and Kits >> Svayam Manicure and Kits",
          "Beauty and Personal Care >> Body and Skin Care >> Hand Care >> Manicure and Kits >> Go Bonjour Manicure and Kits",
          "Home Decor & Festive Needs >> Table Decor & Handicrafts >> Table Decor",
          "Home Decor & Festive Needs >> Table Decor & Handicrafts >> Table Decor >> Hookah & Hookah Flavours",
          "Home Decor & Festive Needs >> Table Decor & Handicrafts >> Table Decor >> Hookah & Hookah Flavours >> Hookah",
          "Home Decor & Festive Needs >> Table Decor & Handicrafts >> Table Decor >> Hookah & Hookah Flavours >> Hookah >> Arsalan Hookah",
          "Kitchen & Dining >> Coffee Mugs >> Prithish Coffee Mugs",
          "Kitchen & Dining >> Coffee Mugs >> Rockmantra Coffee Mugs",
          "Kitchen & Dining >> Coffee Mugs >> Rajesh Digital Coffee Mugs",
          "Kitchen & Dining >> Coffee Mugs >> Printland Coffee Mugs",
          "Kitchen & Dining >> Coffee Mugs >> Returnfavors Coffee Mugs",
          "Kitchen & Dining >> Kitchen Tools",
          "Kitchen & Dining >> Kitchen Tools >> Kitchen Implements",
          "Kitchen & Dining >> Kitchen Tools >> Kitchen Implements >> Pizza Cutters",
          "Kitchen & Dining >> Kitchen Tools >> Kitchen Implements >> Pizza Cutters >> Famous Pizza Cutters",
          "Home Decor & Festive Needs >> Showpieces >> Rastogi Handicrafts Showpieces",
          "Home Decor & Festive Needs >> Showpieces >> NEHP Showpieces",
          "Home Decor & Festive Needs >> Showpieces >> S C Handicrafts Showpieces",
          "Home Decor & Festive Needs >> Showpieces >> Ethnic",
          "Home Decor & Festive Needs >> Showpieces >> Ethnic >> Tatvaarts Ethnic",
          "Kitchen & Dining >> Kitchen Tools >> Kitchen Implements >> Pizza Cutters >> Sam Pizza Cutters",
          "Home Decor & Festive Needs >> Showpieces >> Ethnic >> Surface180 Ethnic",
          "Kitchen & Dining >> Kitchen Tools >> Kitchen Implements >> Pizza Cutters >> Step4deal Pizza Cutters",
          "Home Decor & Festive Needs >> Showpieces >> MA Design Hut Showpieces",
          "Home Decor & Festive Needs >> Showpieces >> Ethnic >> Lal Haveli Ethnic",
          "Baby Care >> Infant Wear >> Baby Boys' Clothes >> Dungarees & Jumpsuits",
          "Baby Care >> Infant Wear >> Baby Boys' Clothes >> Dungarees & Jumpsuits >> Jumpsuits",
          "Baby Care >> Infant Wear >> Baby Boys' Clothes >> Dungarees & Jumpsuits >> Jumpsuits >> Earth Conscious Jumpsuits",
          "Home Decor & Festive Needs >> Showpieces >> Purpledip Showpieces",
          "Kitchen & Dining >> Kitchen Tools >> Kitchen Implements >> Pizza Cutters >> Tirupati Pizza Cutters",
          "Home Decor & Festive Needs >> Showpieces >> Shoppingtara Showpieces",
          "Home Decor & Festive Needs >> Showpieces >> Orange Tree Showpieces",
          "Home Decor & Festive Needs >> Showpieces >> Ethnic >> Unique Design Ethnic",
          "Home Decor & Festive Needs >> Showpieces >> Port Showpieces",
          "Kitchen & Dining >> Kitchen Tools >> Kitchen Implements >> Pizza Cutters >> King International Pizza Cutters",
          "Kitchen & Dining >> Kitchen Tools >> Kitchen Implements >> Pizza Cutters >> Go Hooked Pizza Cutters",
          "Home Decor & Festive Needs >> Showpieces >> Ethnic >> RoyalsCart Ethnic",
          "Kitchen & Dining >> Kitchen Tools >> Kitchen Implements >> Pizza Cutters >> Apex Pizza Cutters",
          "Home Decor & Festive Needs >> Showpieces >> Ethnic >> MCB Exports Ethnic",
          "Baby Care >> Infant Wear >> Baby Boys' Clothes >> Dungarees & Jumpsuits >> Jumpsuits >> Poppins Jumpsuits",
          "Home Decor & Festive Needs >> Showpieces >> Ethnic >> Purpledip Ethnic",
          "Kitchen & Dining >> Kitchen Tools >> Kitchen Implements >> Pizza Cutters >> Agromech Pizza Cutters",
          "Home Decor & Festive Needs >> Showpieces >> Tiedribbons Showpieces",
          "Home Decor & Festive Needs >> Showpieces >> Ethnic >> Rajo Raja Ethnic",
          "Home Decor & Festive Needs >> Showpieces >> Ethnic >> Surface 180 Ethnic",
          "Home Decor & Festive Needs >> Showpieces >> Ethnic >> Sovam International Ethnic",
          "Home Decor & Festive Needs >> Showpieces >> Ethnic >> The Ethnic Story Ethnic",
          "Kitchen & Dining >> Cookware >> Pots & Pans >> Woks & Kadhais",
          "Kitchen & Dining >> Cookware >> Pots & Pans >> Woks & Kadhais >> JSM Woks & Kadhais",
          "Kitchen & Dining >> Kitchen Tools >> Kitchen Implements >> Pizza Cutters >> Celebrity Pizza Cutters",
          "Home Decor & Festive Needs >> Showpieces >> Unique Design Showpieces",
          "Kitchen & Dining >> Cookware >> Pots & Pans >> Woks & Kadhais >> Metallino Woks & Kadhais",
          "Home Decor & Festive Needs >> Showpieces >> Ethnic >> Ruchiworld Ethnic",
          "Kitchen & Dining >> Cookware >> Pots & Pans >> Woks & Kadhais >> Kosher Woks & Kadhais",
          "Kitchen & Dining >> Cookware >> Pots & Pans >> Woks & Kadhais >> Recon Woks & Kadhais",
          "Kitchen & Dining >> Cookware >> Pots & Pans >> Woks & Kadhais >> Indian Art Villa Woks & Kadhais",
          "Kitchen & Dining >> Cookware >> Pots & Pans >> Woks & Kadhais >> Suruchi Woks & Kadhais",
          "Kitchen & Dining >> Cookware >> Pots & Pans >> Woks & Kadhais >> Bergner Woks & Kadhais",
          "Kitchen & Dining >> Cookware >> Pots & Pans >> Woks & Kadhais >> Kalash Woks & Kadhais",
          "Kitchen & Dining >> Cookware >> Pots & Pans >> Woks & Kadhais >> Peacock Woks & Kadhais",
          "Kitchen & Dining >> Cookware >> Pots & Pans >> Woks & Kadhais >> Leo Natura Woks & Kadhais",
          "Home Decor & Festive Needs >> Showpieces >> Malhar Showpieces",
          "Kitchen & Dining >> Cookware >> Pots & Pans >> Woks & Kadhais >> Sumeet Woks & Kadhais",
          "Home Decor & Festive Needs >> TRUE Home Decor & Festive Needs",
          "Home Decor & Festive Needs >> Showpieces >> The Crafts House Showpieces",
          "Kitchen & Dining >> Cookware >> Pots & Pans >> Woks & Kadhais >> Jaipan Woks & Kadhais",
          "Home Decor & Festive Needs >> Showpieces >> Unravel India Showpieces",
          "Home Decor & Festive Needs >> Showpieces >> Ethnic >> Ruchikainternational Ethnic",
          "Kitchen & Dining >> Cookware >> Pots & Pans >> Woks & Kadhais >> Nirlon Woks & Kadhais",
          "Home Decor & Festive Needs >> Showpieces >> Ethnic >> Monil Ethnic",
          "Kitchen & Dining >> Cookware >> Pots & Pans >> Woks & Kadhais >> Pristine Woks & Kadhais",
          "Home Decor & Festive Needs >> Showpieces >> Woodino Handicrafts Showpieces",
          "Home Decor & Festive Needs >> Showpieces >> Unique Handicrafts Showpieces",
          "Kitchen & Dining >> Cookware >> Pots & Pans >> Woks & Kadhais >> Pigeon Woks & Kadhais",
          "Kitchen & Dining >> Cookware >> Pots & Pans >> Woks & Kadhais >> Sahara Q Shop Woks & Kadhais",
          "Kitchen & Dining >> Kitchen Tools >> Kitchen Implements >> Pizza Cutters >> Mom Italy Pizza Cutters",
          "Home Decor & Festive Needs >> Showpieces >> Mavi Showpieces",
          "Kitchen & Dining >> Cookware >> Pots & Pans >> Woks & Kadhais >> Ndura Woks & Kadhais",
          "Kitchen & Dining >> Cookware >> Pots & Pans >> Woks & Kadhais >> Supreme Cookwares Woks & Kadhais",
          "Baby Care >> Infant Wear >> Baby Boys' Clothes >> Dungarees & Jumpsuits >> Dungarees",
          "Baby Care >> Infant Wear >> Baby Boys' Clothes >> Dungarees & Jumpsuits >> Dungarees >> Babeezworld Dungarees",
          "Baby Care >> Infant Wear >> Baby Boys' Clothes >> Dungarees & Jumpsuits >> Dungarees >> Babeezworld Dungarees >> Babeezworld Baby Boy's Romper",
          "Watches >> Wrist Watches >> Pittsburgh Polo Club Wrist Watches",
          "Watches >> Wrist Watches >> Pittsburgh Polo Club Wrist Watches >> Pittsburgh Polo Club PBPC-505-GRN Analog Watch  ...",
          "Watches >> Wrist Watches >> palito Wrist Watches",
          "Watches >> Wrist Watches >> palito Wrist Watches >> palito PLO 169 Analog Watch  - For Girls, Women",
          "Watches >> Wrist Watches >> Adino Wrist Watches",
          "Watches >> Wrist Watches >> Adino Wrist Watches >> Adino ADF04 Analog Watch  - For Girls",
          "Watches >> Wrist Watches >> ESIDON Wrist Watches",
          "Watches >> Wrist Watches >> ESIDON Wrist Watches >> ESIDON AKADA06 Analog Watch  - For Women",
          "Watches >> Wrist Watches >> palito Wrist Watches >> palito PLO 166 Analog Watch  - For Girls, Women",
          "Home Furnishing >> Living",
          "Home Furnishing >> Living >> Sofa Covers",
          "Home Furnishing >> Living >> Sofa Covers >> Bhavya Velvet Sofa Cover (Grey Pack of 10)",
          "Baby Care >> Infant Wear >> Baby Boys' Clothes >> Dungarees & Jumpsuits >> Dungarees >> cherry crumble california Dungarees",
          "Baby Care >> Infant Wear >> Baby Boys' Clothes >> Dungarees & Jumpsuits >> Dungarees >> cherry crumble california Dungarees >> cherry crumble california Baby Boy's Dungaree",
          "Watches >> Wrist Watches >> Yves Bertelin Wrist Watches",
          "Watches >> Wrist Watches >> Yves Bertelin Wrist Watches >> Yves Bertelin YBSCR557 Analog Watch  - For Women",
          "Home Decor & Festive Needs >> Showpiece",
          "Home Decor & Festive Needs >> Showpiece >> Contemporary",
          "Home Decor & Festive Needs >> Showpiece >> Contemporary >> Services Junction Contemporary",
          "Home Decor & Festive Needs >> Showpiece >> Contemporary >> Services Junction Contemporary >> Services Junction Beautiful Black and Golden col...",
          "Watches >> Wrist Watches >> palito Wrist Watches >> palito PLO 149 Analog Watch  - For Girls, Women",
          "Watches >> Wrist Watches >> V9 Wrist Watches",
          "Watches >> Wrist Watches >> V9 Wrist Watches >> V9 METAL STRAP Analog Watch  - For Men",
          "Home Furnishing >> Living >> Sofa Covers >> Dreamshomes Velvet Sofa Cover (Multicolour Pack ...",
          "Baby Care >> Infant Wear >> Baby Boys' Clothes >> Dungarees & Jumpsuits >> Dungarees >> Kandyfloss Dungarees",
          "Baby Care >> Infant Wear >> Baby Boys' Clothes >> Dungarees & Jumpsuits >> Dungarees >> Kandyfloss Dungarees >> Kandyfloss Baby Boy's, Baby Girl's Romper",
          "Home Decor & Festive Needs >> Showpiece >> Contemporary >> Services Junction Contemporary >> Services Junction Gold Plated Ganesh Idol Showpi...",
          "Home Decor & Festive Needs >> Decorative Lighting & Lamps >> Table Lamps >> Brahmz Table Lamps",
          "Home Decor & Festive Needs >> Decorative Lighting & Lamps >> Table Lamps >> Brahmz Table Lamps >> Brahmz Glass Mossiac Table Lamp (18 cm, Multi Co...",
          "Baby Care >> Infant Wear >> Baby Girls' Clothes >> Dresses & Skirts",
          "Baby Care >> Infant Wear >> Baby Girls' Clothes >> Dresses & Skirts >> Dresses",
          "Baby Care >> Infant Wear >> Baby Girls' Clothes >> Dresses & Skirts >> Dresses >> MKB Dresses",
          "Baby Care >> Infant Wear >> Baby Girls' Clothes >> Dresses & Skirts >> Dresses >> MKB Dresses >> MKB Baby Girl's Shirt Dress",
          "Baby Care >> Infant Wear >> Baby Girls' Clothes >> Dresses & Skirts >> Dresses >> Toddla Dresses",
          "Baby Care >> Infant Wear >> Baby Girls' Clothes >> Dresses & Skirts >> Dresses >> Toddla Dresses >> Toddla Baby Girl's Gathered Dress",
          "Baby Care >> Infant Wear >> Baby Girls' Clothes >> Dresses & Skirts >> Dresses >> Baby Moshai Dresses",
          "Baby Care >> Infant Wear >> Baby Girls' Clothes >> Dresses & Skirts >> Dresses >> Baby Moshai Dresses >> Baby Moshai Baby Girl's A-line Dress",
          "Baby Care >> Infant Wear >> Baby Girls' Clothes >> Dresses & Skirts >> Dresses >> My Little Lambs Dresses",
          "Baby Care >> Infant Wear >> Baby Girls' Clothes >> Dresses & Skirts >> Dresses >> My Little Lambs Dresses >> My Little Lambs Baby Girl's Gathered Dress",
          "Kitchen & Dining >> Bar & Glassware",
          "Kitchen & Dining >> Bar & Glassware >> Bar Accessories",
          "Kitchen & Dining >> Bar & Glassware >> Bar Accessories >> Bottle Openers",
          "Kitchen & Dining >> Bar & Glassware >> Bar Accessories >> Bottle Openers >> arnavs Bottle Openers",
          "Kitchen & Dining >> Bar & Glassware >> Bar Accessories >> Bottle Openers >> arnavs Bottle Openers >> arnavs Multi1 Bottle Opener Set",
          "Computers >> Computer Peripherals >> CPU",
          "Computers >> Computer Peripherals >> CPU >> I Ball CPU",
          "Computers >> Computer Peripherals >> CPU >> I Ball CPU >> I Ball IBCTDC 160/2gb/DDR2 with Dual Core 2 RAM ...",
          "Baby Care >> Infant Wear >> Baby Boys' Clothes >> Polos & T-Shirts",
          "Baby Care >> Infant Wear >> Baby Boys' Clothes >> Polos & T-Shirts >> Globe Polos & T-Shirts",
          "Baby Care >> Infant Wear >> Baby Boys' Clothes >> Polos & T-Shirts >> Globe Polos & T-Shirts >> Globe Graphic Print Baby Boy's Round Neck Orange...",
          "Kitchen & Dining >> Kitchen Tools >> Kitchen Implements >> Hand Juicers",
          "Kitchen & Dining >> Kitchen Tools >> Kitchen Implements >> Hand Juicers >> JayEnterprise Hand Juicers",
          "Kitchen & Dining >> Kitchen Tools >> Kitchen Implements >> Hand Juicers >> JayEnterprise Hand Juicers >> JayEnterprise Plastic Hand Juicer (Multicolor)",
          "Home Decor & Festive Needs >> Showpieces >> Ethnic >> Craftuno Ethnic",
          "Kitchen & Dining >> Cookware >> Lids",
          "Kitchen & Dining >> Cookware >> Lids >> Elephant Lids",
          "Beauty and Personal Care >> Health Care >> Health Care Devices >> Body Fat Analyzers",
          "Beauty and Personal Care >> Health Care >> Health Care Devices >> Body Fat Analyzers >> Equinox Body Fat Analyzers",
          "Home Decor & Festive Needs >> Showpieces >> Ethnic >> Nihar Ethnic",
          "Home Decor & Festive Needs >> Showpieces >> Ethnic >> Homedesires Ethnic",
          "Home Decor & Festive Needs >> Showpieces >> Ethnic >> Pg handicrafts Ethnic",
          "Home Decor & Festive Needs >> Showpieces >> Ethnic >> Ravishing Variety Ethnic",
          "Home Decor & Festive Needs >> Showpieces >> Ethnic >> Infinity India Ethnic",
          "Computers >> Network Components >> Routers >> Linksys Routers",
          "Beauty and Personal Care >> Fragrances",
          "Beauty and Personal Care >> Fragrances >> Deodorants",
          "Beauty and Personal Care >> Fragrances >> Deodorants >> Combos",
          "Beauty and Personal Care >> Fragrances >> Deodorants >> Combos >> Wild Stone Combos",
          "Computers >> Network Components >> Routers >> Intex Routers",
          "Beauty and Personal Care >> Fragrances >> Deodorants >> Combos >> Adidas Combos",
          "Beauty and Personal Care >> Fragrances >> Deodorants >> Combos >> Vincent Valentine Paris Combos",
          "Beauty and Personal Care >> Fragrances >> Deodorants >> Combos >> Denver Combos",
          "Beauty and Personal Care >> Fragrances >> Deodorants >> Combos >> Archies Combos",
          "Computers >> Network Components >> Routers >> Asus Routers",
          "Beauty and Personal Care >> Fragrances >> Deodorants >> Combos >> Layer'r Combos",
          "Computers >> Network Components >> Routers >> Apple Routers",
          "Computers >> Network Components >> Routers >> Tenda Routers",
          "Computers >> Network Components >> Routers >> Huawei Routers",
          "Beauty and Personal Care >> Fragrances >> Deodorants >> Combos >> Anna Andre Paris Combos",
          "Computers >> Network Components >> Routers >> TRENDnet Routers",
          "Computers >> Network Components >> Routers >> Edimax Routers",
          "Beauty and Personal Care >> Fragrances >> Deodorants >> Combos >> Park Avenue Combos",
          "Computers >> Network Components >> Routers >> Binatone Routers",
          "Beauty and Personal Care >> Fragrances >> Deodorants >> Combos >> KamaSutra Combos",
          "Beauty and Personal Care >> Fragrances >> Deodorants >> Combos >> Arabian Nights Combos",
          "Beauty and Personal Care >> Fragrances >> Deodorants >> Combos >> Engage Combos",
          "Computers >> Network Components >> Routers >> Belkin Routers",
          "Beauty and Personal Care >> Fragrances >> Deodorants >> Combos >> Envy-1000 Combos",
          "Beauty and Personal Care >> Fragrances >> Deodorants >> Combos >> Yardley Combos",
          "Beauty and Personal Care >> Fragrances >> Deodorants >> Combos >> Nivea Combos",
          "Computers >> Network Components >> Routers >> Zyxel Routers",
          "Computers >> Network Components >> Routers >> TP-LINK Routers",
          "Beauty and Personal Care >> Fragrances >> Deodorants >> Combos >> Playboy Combos",
          "Beauty and Personal Care >> Fragrances >> Deodorants >> Combos >> Spinz Combos",
          "Beauty and Personal Care >> Fragrances >> Deodorants >> Combos >> Nike Combos",
          "Beauty and Personal Care >> Fragrances >> Deodorants >> Combos >> Aero Care Combos",
          "Beauty and Personal Care >> Fragrances >> Deodorants >> Combos >> Beverly Hills Polo Club Combos",
          "Computers >> Network Components >> Routers >> Netgear Routers",
          "Beauty and Personal Care >> Fragrances >> Deodorants >> Combos >> Addiction Combos",
          "Computers >> Network Components >> Routers >> iBall Routers",
          "Beauty and Personal Care >> Fragrances >> Deodorants >> Combos >> ENVY 1000 Combos",
          "Computers >> Network Components >> Routers >> Netis Routers",
          "Beauty and Personal Care >> Fragrances >> Deodorants >> Combos >> French Factor Combos",
          "Beauty and Personal Care >> Fragrances >> Deodorants >> Combos >> Fogg Combos",
          "Beauty and Personal Care >> Fragrances >> Deodorants >> Combos >> Denim Combos",
          "Beauty and Personal Care >> Fragrances >> Deodorants >> Combos >> Cinthol Combos",
          "Computers >> Network Components >> Routers >> Airtel Routers",
          "Computers >> Network Components >> Routers >> Digisol Routers",
          "Beauty and Personal Care >> Fragrances >> Deodorants >> Combos >> Ajmal Combos",
          "Beauty and Personal Care >> Women's Hygiene",
          "Beauty and Personal Care >> Women's Hygiene >> Combo & kits",
          "Beauty and Personal Care >> Women's Hygiene >> Combo & kits >> Clear Face Combo & kits",
          "Beauty and Personal Care >> Women's Hygiene >> Combo & kits >> Clear Face Combo & kits >> Clear Face Kesar Chandan Multivitamin Nourishing...",
          "Computers >> Tablet Accessories >> Cases & Covers",
          "Computers >> Tablet Accessories >> Cases & Covers >> YGS Cases & Covers",
          "Computers >> Tablet Accessories >> Cases & Covers >> YGS Cases & Covers >> YGS Keyboard Case for Asus Memo Pad 7in Tab (Pink)",
          "Beauty and Personal Care >> Hair Care >> Hair Care Accessories",
          "Beauty and Personal Care >> Hair Care >> Hair Care Accessories >> Hair Accessories",
          "Beauty and Personal Care >> Hair Care >> Hair Care Accessories >> Hair Accessories >> Majik Hair Accessories",
          "Beauty and Personal Care >> Hair Care >> Hair Care Accessories >> Hair Accessories >> Majik Hair Accessories >> Majik Styling Decoration Hair Clip (Multicolor)",
          "Computers >> Computer Peripherals >> Portable Projectors",
          "Computers >> Computer Peripherals >> Portable Projectors >> Zingalalaa Portable Projectors",
          "Computers >> Computer Peripherals >> Portable Projectors >> Zingalalaa Portable Projectors >> Zingalalaa LP-50 50 lm LED Corded Portable Proje...",
          "Baby Care >> Diapering & Potty Training",
          "Baby Care >> Diapering & Potty Training >> Changing Tables",
          "Baby Care >> Diapering & Potty Training >> Changing Tables >> BASRA Changing Tables",
          "Baby Care >> Diapering & Potty Training >> Changing Tables >> BASRA Changing Tables >> BASRA uepgrn Green Changing Table",
          "Computers >> Laptop Accessories >> Adapters",
          "Computers >> Laptop Accessories >> Adapters >> Smartpro Adapters",
          "Computers >> Laptop Accessories >> Adapters >> Smartpro Adapters >> Smartpro 19.5v,3.9a Replacement Charger for Vaio...",
          "Baby Care >> Strollers & Activity Gear",
          "Baby Care >> Strollers & Activity Gear >> Strollers & Prams",
          "Baby Care >> Strollers & Activity Gear >> Strollers & Prams >> Graco Strollers & Prams",
          "Baby Care >> Strollers & Activity Gear >> Strollers & Prams >> Graco Strollers & Prams >> Graco LiteRider Click Connect � Marco (Multicolor)",
          "Kitchen & Dining >> Bar & Glassware >> Bar Glasses",
          "Kitchen & Dining >> Bar & Glassware >> Bar Glasses >> ocean Bar Glasses",
          "Kitchen & Dining >> Bar & Glassware >> Bar Glasses >> ocean Bar Glasses >> ocean VGLASS0051 (325 ml, Clear, Pack of 6)",
          "Home Decor & Festive Needs >> Showpieces >> Fengshui",
          "Home Decor & Festive Needs >> Showpieces >> Fengshui >> Reiki Crystal Products Fengshui",
          "Home Decor & Festive Needs >> Showpieces >> Fengshui >> Reiki Crystal Products Fengshui >> Reiki Crystal Products Showpiece  -  8 cm (Cryst...",
          "Beauty and Personal Care >> Health Care >> Health Care Devices >> HomeEdge Health Care Devices",
          "Beauty and Personal Care >> Health Care >> Health Care Devices >> HomeEdge Health Care Devices >> HomeEdge Solid Wood King Bed (Finish Color -  Na...",
          "Baby Care >> Infant Wear >> Baby Girls' Clothes >> Dungarees & Jumpsuits",
          "Baby Care >> Infant Wear >> Baby Girls' Clothes >> Dungarees & Jumpsuits >> Jumpsuits",
          "Baby Care >> Infant Wear >> Baby Girls' Clothes >> Dungarees & Jumpsuits >> Jumpsuits >> Budding Bees Jumpsuits",
          "Baby Care >> Infant Wear >> Baby Girls' Clothes >> Dungarees & Jumpsuits >> Jumpsuits >> Budding Bees Jumpsuits >> Budding Bees Printed Baby Girl's Jumpsuit",
          "Home Furnishing >> Kitchen & Dining Linen >> Table Linen Sets",
          "Home Furnishing >> Kitchen & Dining Linen >> Table Linen Sets >> JewelKraft Designs Brown, Pink Table Linen Set",
          "Baby Care >> Baby Bedding >> Baby Sleeping Bags",
          "Baby Care >> Baby Bedding >> Baby Sleeping Bags >> Baby Bucket Baby Sleeping Bags",
          "Baby Care >> Baby Bedding >> Baby Sleeping Bags >> Baby Bucket Baby Sleeping Bags >> Baby Bucket SHERIN MULTI BEAR Sleeping Bag (Green)",
          "Beauty and Personal Care >> Health Care >> Health Care Devices >> Pulse Oximeters",
          "Beauty and Personal Care >> Health Care >> Health Care Devices >> Pulse Oximeters >> NAMS Pulse Oximeters",
          "Beauty and Personal Care >> Health Care >> Health Care Devices >> Pulse Oximeters >> NAMS Pulse Oximeters >> NAMS 06 Fully Automatic Pulse Oximeter (White)",
          "Baby Care >> Infant Wear >> Baby Girls' Clothes >> Bodysuits & Sleepsuits",
          "Baby Care >> Infant Wear >> Baby Girls' Clothes >> Bodysuits & Sleepsuits >> Sleepsuits",
          "Baby Care >> Infant Wear >> Baby Girls' Clothes >> Bodysuits & Sleepsuits >> Sleepsuits >> Rute Sleepsuits",
          "Baby Care >> Infant Wear >> Baby Girls' Clothes >> Bodysuits & Sleepsuits >> Sleepsuits >> Rute Sleepsuits >> Rute Baby Girl's Sleepsuit",
          "Home Furnishing >> Tidy Home Furnishing",
          "Home Furnishing >> Tidy Home Furnishing >> Tidy Printed Cushions Cover (Pack of 9, 50 cm*50...",
          "Home Furnishing >> Bed Linen >> Bedsheets >> JBC Collection Bedsheets",
          "Home Furnishing >> Bed Linen >> Bedsheets >> JBC Collection Bedsheets >> JBC Collection Cotton Printed Single Bedsheet (1...",
          "Computers >> Laptop Accessories >> Laptop Adapters",
          "Computers >> Laptop Accessories >> Laptop Adapters >> Hako Laptop Adapters",
          "Computers >> Laptop Accessories >> Laptop Adapters >> Hako Laptop Adapters >> Hako 45W Magsafe Laptop Charger For APPLE MacBoo...",
          "Computers >> Laptop Accessories >> Laptop Adapters >> Hako Laptop Adapters >> Hako 85W Magsafe Laptop Charger For APPLE MacBoo...",
          "Computers >> Laptop Accessories >> Laptop Adapters >> Hako Laptop Adapters >> Hako 60W Magsafe Laptop Charger For APPLE MacBoo...",
          "Baby Care >> Baby Bath & Skin >> Baby Shower Caps",
          "Baby Care >> Baby Bath & Skin >> Baby Shower Caps >> 3kFactory Baby Shower Caps",
          "Baby Care >> Baby Bath & Skin >> Baby Shower Caps >> 3kFactory Baby Shower Caps >> 3kFactory Baby Shower Cap- Purple",
          "Baby Care >> Infant Wear >> Baby Girls' Clothes >> Dresses & Skirts >> Dresses >> Saba Garments Dresses",
          "Baby Care >> Infant Wear >> Baby Girls' Clothes >> Dresses & Skirts >> Dresses >> Saba Garments Dresses >> Saba Garments Baby Girl's Gathered Dress",
          "Baby Care >> Infant Wear >> Baby Boys' Clothes >> Winter & Seasonal Wear",
          "Baby Care >> Infant Wear >> Baby Boys' Clothes >> Winter & Seasonal Wear >> Jackets",
          "Baby Care >> Infant Wear >> Baby Boys' Clothes >> Winter & Seasonal Wear >> Jackets >> Upside Down Jackets",
          "Baby Care >> Infant Wear >> Baby Boys' Clothes >> Winter & Seasonal Wear >> Jackets >> Upside Down Jackets >> Upside Down Sleeveless Applique Baby Girl's, Bab...",
          "Home Furnishing >> Living Room Furnishing >> Lushomes Living Room Furnishing",
          "Home Furnishing >> Living Room Furnishing >> Lushomes Living Room Furnishing >> Lushomes Plain Back Cushion (Pack of5, Brown)",
          "Kitchen & Dining >> Pressure Cookers & Pans",
          "Kitchen & Dining >> Pressure Cookers & Pans >> Prestige Pressure Cookers & Pans",
          "Kitchen & Dining >> Containers & Bottles >> Bottles & Sippers >> Milton Bottles & Sippers",
          "Computers >> Storage >> Pen Drives >> HP Pen Drives",
          "Computers >> Storage >> Pen Drives >> HP Pen Drives >> HP v220w 16 GB  Pen Drive (Silver, Black)",
          "Beauty and Personal Care >> Hair Care >> Conditioners >> TIGI BED HEAD Conditioners",
          "Beauty and Personal Care >> Hair Care >> Conditioners >> TIGI BED HEAD Conditioners >> TIGI BED HEAD COLOUR GODDESS OIL INFUSED CONDITI...",
          "Baby Care >> Infant Wear >> Baby Girls' Clothes >> Dresses & Skirts >> Dresses >> Beebay Dresses",
          "Baby Care >> Infant Wear >> Baby Girls' Clothes >> Dresses & Skirts >> Dresses >> Beebay Dresses >> Beebay Baby Girl's Fit and Flare Dress",
          "Kitchen & Dining >> Cookware >> Steamers & Idli Makers",
          "Kitchen & Dining >> Cookware >> Steamers & Idli Makers >> Idli Makers",
          "Kitchen & Dining >> Cookware >> Steamers & Idli Makers >> Idli Makers >> vatika Idli Makers",
          "Kitchen & Dining >> Cookware >> Steamers & Idli Makers >> Idli Makers >> vatika Idli Makers >> vatika Advance Standard Idli Maker (7 Plates , 1...",
          "Home Furnishing >> Bath Linen >> Bath Mats >> Amit Carpet Polyester Medium Door Mat ACI2016034...",
          "Beauty and Personal Care >> Hair Care >> Hair Colors",
          "Beauty and Personal Care >> Hair Care >> Hair Colors >> Garnier Hair Colors",
          "Beauty and Personal Care >> Hair Care >> Hair Colors >> Garnier Hair Colors >> Garnier Nutrisse Haircolor Hair Color (43 Dark G...",
          "Baby Care >> Infant Wear >> Baby Girls' Clothes >> Dresses & Skirts >> Dresses >> Fs Mini Klub Dresses",
          "Baby Care >> Infant Wear >> Baby Girls' Clothes >> Dresses & Skirts >> Dresses >> Fs Mini Klub Dresses >> Fs Mini Klub Baby Girl's Fit and Flare Dress",
          "Baby Care >> Infant Wear >> Baby Girls' Clothes >> Dresses & Skirts >> Dresses >> Chokree Dresses",
          "Baby Care >> Infant Wear >> Baby Girls' Clothes >> Dresses & Skirts >> Dresses >> Chokree Dresses >> Chokree Baby Girl's, Girl's A-line Dress",
          "Baby Care >> Infant Wear >> Baby Boys' Clothes >> Shorts & Trousers",
          "Baby Care >> Infant Wear >> Baby Boys' Clothes >> Shorts & Trousers >> Track Pants",
          "Baby Care >> Infant Wear >> Baby Boys' Clothes >> Shorts & Trousers >> Track Pants >> Shaun Track Pants",
          "Baby Care >> Infant Wear >> Baby Boys' Clothes >> Shorts & Trousers >> Track Pants >> Shaun Track Pants >> Shaun Printed Baby Boy's Yellow, Grey, Black Tra...",
          "Baby Care >> Infant Wear >> Baby Boys' Clothes >> Shorts & Trousers >> Track Pants >> Shaun Track Pants >> Shaun Solid Baby Boy's Grey, Dark Blue Track Pants",
          "Baby Care >> Baby Bath & Skin >> Baby Bath Towels >> Tks Baby Bath Towels",
          "Baby Care >> Baby Bath & Skin >> Baby Bath Towels >> Tks Baby Bath Towels >> Tks Cotton Hair Towel (1 Hair towel, Orange)",
          "Kitchen & Dining >> Bar & Glassware >> Bar Glasses >> Ocean Bar Glasses",
          "Kitchen & Dining >> Bar & Glassware >> Bar Glasses >> Ocean Bar Glasses >> Ocean CPGW087 (280 ml, Clear, Pack of 6)",
          "Beauty and Personal Care >> Hair Care >> Conditioners >> OGX Conditioners",
          "Beauty and Personal Care >> Hair Care >> Conditioners >> OGX Conditioners >> OGX Sunkissed Blonde Lemon Highlights Conditione...",
          "Kitchen & Dining >> Bar & Glassware >> Bar Glasses >> giftsthatwow Bar Glasses",
          "Kitchen & Dining >> Bar & Glassware >> Bar Glasses >> giftsthatwow Bar Glasses >> giftsthatwow GTW-G-04 (300 ml, White, Pack of 1)",
          "Kitchen & Dining >> Bar & Glassware >> Bar Glasses >> giftsthatwow Bar Glasses >> giftsthatwow GTW-G-06 (600 ml, White, Pack of 1)",
          "Beauty and Personal Care >> Bath and Spa",
          "Beauty and Personal Care >> Bath and Spa >> Body and Essential Oils",
          "Beauty and Personal Care >> Bath and Spa >> Body and Essential Oils >> Allin Exporters Body and Essential Oils",
          "Beauty and Personal Care >> Bath and Spa >> Body and Essential Oils >> Allin Exporters Body and Essential Oils >> Allin Exporters Fennel Oil (Co2 Extract) (30 ml)",
          "Kitchen & Dining >> Bar & Glassware >> Bar Glasses >> Art n Beyond Bar Glasses",
          "Kitchen & Dining >> Bar & Glassware >> Bar Glasses >> Art n Beyond Bar Glasses >> Art n Beyond 150013 (300 ml, Clear, Pack of 6)",
          "Beauty and Personal Care >> Bath and Spa >> Body and Essential Oils >> Allin Exporters Body and Essential Oils >> Allin Exporters Cumin Seed Oil (Co2 Extract) (25...",
          "Home Furnishing >> Kitchen & Dining Linen >> Kitchen Linen Sets",
          "Home Furnishing >> Kitchen & Dining Linen >> Kitchen Linen Sets >> Cotonex Black, White Cotton Kitchen Linen Set (P...",
          "Home Furnishing >> Kitchen & Dining Linen >> Kitchen Linen Sets >> Cotonex Blue, White Cotton Kitchen Linen Set (Pa...",
          "Home Furnishing >> Kitchen & Dining Linen >> Kitchen Linen Sets >> Cotonex Yellow, Green Cotton Kitchen Linen Set (...",
          "Computers >> Laptop Accessories >> Batteries",
          "Computers >> Laptop Accessories >> Batteries >> Lapguard Batteries",
          "Computers >> Laptop Accessories >> Batteries >> HP Batteries",
          "Computers >> Laptop Accessories >> Batteries >> ARB Batteries",
          "Computers >> Laptop Accessories >> Batteries >> 4D Batteries",
          "Computers >> Laptop Accessories >> Batteries >> Clublaptop Batteries",
          "Computers >> Laptop Accessories >> Batteries >> Rega IT Batteries",
          "Watches >> Wrist Watches >> Sonata Wrist Watches",
          "Watches >> Wrist Watches >> Times Wrist Watches",
          "Watches >> Wrist Watches >> Maxima Wrist Watches",
          "Watches >> Wrist Watches >> Nexus Wrist Watches",
          "Watches >> Wrist Watches >> Logues Wrist Watches",
          "Watches >> Wrist Watches >> Global Nomad Wrist Watches",
          "Watches >> Wrist Watches >> Noise Wrist Watches",
          "Watches >> Wrist Watches >> SF by Sonata Wrist Watches",
          "Watches >> Wrist Watches >> Fluid Wrist Watches",
          "Watches >> Wrist Watches >> HMT Wrist Watches",
          "Watches >> Wrist Watches >> Timewel Wrist Watches",
          "Watches >> Wrist Watches >> Petrol Wrist Watches",
          "Watches >> Wrist Watches >> Only Kidz Wrist Watches",
          "Watches >> Wrist Watches >> Kool Kidz Wrist Watches",
          "Watches >> Wrist Watches >> Olvin Wrist Watches",
          "Watches >> Wrist Watches >> Fastrack Wrist Watches",
          "Watches >> Wrist Watches >> Hourglass Wrist Watches",
          "Watches >> Wrist Watches >> Gift Island Wrist Watches",
          "Watches >> Wrist Watches >> Flippd Wrist Watches",
          "Watches >> Wrist Watches >> Neo Classic Wrist Watches",
          "Computers >> Laptop Accessories >> Cleaning Kits",
          "Computers >> Laptop Accessories >> Cleaning Kits >> Shopfloor.XYZ Cleaning Kits",
          "Computers >> Laptop Accessories >> Cleaning Kits >> Shopfloor.XYZ Cleaning Kits >> Shopfloor.XYZ Vacuum Cleaner for Computers, Lapt...",
          "Baby Care >> Infant Wear >> Baby Girls' Clothes >> Leggings & Jeggings",
          "Baby Care >> Infant Wear >> Baby Girls' Clothes >> Leggings & Jeggings >> Babyoye Premium Leggings & Jeggings",
          "Baby Care >> Infant Wear >> Baby Girls' Clothes >> Leggings & Jeggings >> Babyoye Premium Leggings & Jeggings >> Babyoye Premium Baby Girl's Grey Leggings",
          "Home Furnishing >> Cushions, Pillows & Covers >> Cushions",
          "Home Furnishing >> Cushions, Pillows & Covers >> Cushions >> Furnishing Zone Cushions",
          "Home Furnishing >> Cushions, Pillows & Covers >> Cushions >> Furnishing Zone Cushions >> Furnishing Zone Printed Back Cushion (Pack of2, ...",
          "Baby Care >> Infant Wear >> Baby Girls' Clothes >> Leggings & Jeggings >> Babyoye Premium Leggings & Jeggings >> Babyoye Premium Baby Girl's Multicolor Leggings ...",
          "Baby Care >> Infant Wear >> Baby Girls' Clothes >> Leggings & Jeggings >> GREENWICH Leggings & Jeggings",
          "Baby Care >> Infant Wear >> Baby Girls' Clothes >> Leggings & Jeggings >> GREENWICH Leggings & Jeggings >> GREENWICH Baby Girl's Black Jeggings",
          "Home Decor & Festive Needs >> Flowers, Plants & Vases >> Artificial Plants",
          "Home Decor & Festive Needs >> Flowers, Plants & Vases >> Artificial Plants >> Miracle Retail Artificial Plants",
          "Home Decor & Festive Needs >> Flowers, Plants & Vases >> Artificial Plants >> Miracle Retail Artificial Plants >> Miracle Retail Bonsai Wild Plant Artificial Plan...",
          "Home Decor & Festive Needs >> Flowers, Plants & Vases >> Artificial Plants >> Mayursflora Artificial Plants",
          "Home Decor & Festive Needs >> Flowers, Plants & Vases >> Artificial Plants >> Mayursflora Artificial Plants >> Mayursflora Bonsai Aloe, Maple, Arecaceae, Palm,...",
          "Home Decor & Festive Needs >> Flowers, Plants & Vases >> Artificial Plants >> V Creations Artificial Plants",
          "Home Decor & Festive Needs >> Flowers, Plants & Vases >> Artificial Plants >> V Creations Artificial Plants >> V Creations Bonsai Cactus Artificial Plant  with...",
          "Baby Care >> Infant Wear >> Baby Girls' Clothes >> Innerwear & Sleepwear >> Night Suits >> LITTLE FEETZ Night Suits",
          "Baby Care >> Infant Wear >> Baby Girls' Clothes >> Innerwear & Sleepwear >> Night Suits >> LITTLE FEETZ Night Suits >> LITTLE FEETZ Baby Girl's Solid Top & Skirt Set",
          "Computers >> Tablet Accessories >> Keyboards >> Saco Keyboards",
          "Baby Care >> Infant Wear >> Baby Girls' Clothes >> Dresses & Skirts >> Dresses >> Next Steps Dresses",
          "Home Decor & Festive Needs >> Wall Decor & Clocks >> Wall Shelves",
          "Home Decor & Festive Needs >> Wall Decor & Clocks >> Wall Shelves >> R&Mshoppee Wall Shelves",
          "Home Decor & Festive Needs >> Wall Decor & Clocks >> Wall Shelves >> R&Mshoppee Wall Shelves >> R&Mshoppee MDF Wall Shelf (Number of Shelves - 1...",
          "Kitchen & Dining >> Coffee Mugs >> posterchacha Coffee Mugs",
          "Kitchen & Dining >> Coffee Mugs >> posterchacha Coffee Mugs >> posterchacha Ishita Personalised Custom Name Hap...",
          "Watches >> Wrist Watches >> Curren Nx Wrist Watches",
          "Watches >> Wrist Watches >> Curren Nx Wrist Watches >> Curren Nx Blue Dial Stiched Strap Analog Watch  ...",
          "Computers >> Laptops",
          "Computers >> Laptops >> HP Laptops",
          "Beauty and Personal Care >> Makeup >> Vanity Boxes >> Soulful Threads Vanity Boxes",
          "Beauty and Personal Care >> Makeup >> Vanity Boxes >> Soulful Threads Vanity Boxes >> Soulful Threads Red Thread Aari Embroidered Blac...",
          "Beauty and Personal Care >> Makeup >> Vanity Boxes >> Aapno Rajasthan Vanity Boxes",
          "Beauty and Personal Care >> Makeup >> Vanity Boxes >> Aapno Rajasthan Vanity Boxes >> Aapno Rajasthan Lovely Jewellery Vanity Jeweller...",
          "Beauty and Personal Care >> Makeup >> Vanity Boxes >> MohanJodero Vanity Boxes",
          "Beauty and Personal Care >> Makeup >> Vanity Boxes >> MohanJodero Vanity Boxes >> MohanJodero Jewellery Box Jewellery Vanity Jewel...",
          "Home Decor & Festive Needs >> Garden & Leisure",
          "Home Decor & Festive Needs >> Garden & Leisure >> Hammocks & Swings",
          "Home Decor & Festive Needs >> Garden & Leisure >> Hammocks & Swings >> Hammocks",
          "Home Decor & Festive Needs >> Garden & Leisure >> Hammocks & Swings >> Hammocks >> Rrsskids Hammocks",
          "Home Decor & Festive Needs >> Garden & Leisure >> Hammocks & Swings >> Hammocks >> Rrsskids Hammocks >> Rrsskids Swing King Cotton Hammock (White)",
          "Home Decor & Festive Needs >> Wall Decor & Clocks >> Wall Decals & Stickers >> Smart Wall Guru Wall Decals & Stickers >> Smart Wall Guru Large Adhesive Sticker Sticker (...",
          "Home Furnishing >> Cushions, Pillows & Covers >> Cushion Covers >> Ally The Creations Printed Cushions Cover (Pack ...",
          "Baby Care >> Feeding & Nursing >> Bibs & Hankies",
          "Baby Care >> Feeding & Nursing >> Bibs & Hankies >> Bibs",
          "Baby Care >> Feeding & Nursing >> Bibs & Hankies >> Bibs >> Cheeky Chompers Bibs",
          "Baby Care >> Feeding & Nursing >> Bibs & Hankies >> Bibs >> Cheeky Chompers Bibs >> Cheeky Chompers The Neckerchew - Simple Classic ...",
          "Baby Care >> Feeding & Nursing >> Bibs & Hankies >> Bibs >> Piyo Piyo Bibs",
          "Baby Care >> Feeding & Nursing >> Bibs & Hankies >> Bibs >> Piyo Piyo Bibs >> Piyo Piyo Four Stage Waterproof Bib (Yellow)",
          "Home Decor & Festive Needs >> Wall Decor & Clocks >> Wall Shelves >> Innovative Wall Shelves",
          "Home Decor & Festive Needs >> Wall Decor & Clocks >> Wall Shelves >> Innovative Wall Shelves >> Innovative Single Corner Stainless Steel Wall Sh...",
          "Baby Care >> Baby Grooming >> Boreal Baby Grooming",
          "Baby Care >> Baby Grooming >> Boreal Baby Grooming >> Boreal Plastic rectangular hair brush 633D",
          "Baby Care >> Infant Wear >> Baby Girls' Clothes >> Dresses & Skirts >> Dresses >> Pokizo Dresses",
          "Baby Care >> Infant Wear >> Baby Girls' Clothes >> Dresses & Skirts >> Dresses >> Pokizo Dresses >> Pokizo Baby Girl's A-line Dress",
          "Baby Care >> Infant Wear >> Baby Girls' Clothes >> Dresses & Skirts >> Dresses >> Titrit Dresses",
          "Baby Care >> Infant Wear >> Baby Girls' Clothes >> Dresses & Skirts >> Dresses >> Titrit Dresses >> Titrit Baby Girl's Gathered Dress",
          "Baby Care >> Infant Wear >> Baby Girls' Clothes >> Dresses & Skirts >> Dresses >> Young Birds Dresses",
          "Baby Care >> Infant Wear >> Baby Girls' Clothes >> Dresses & Skirts >> Dresses >> Young Birds Dresses >> Young Birds Baby Girl's Fit and Flare Dress",
          "Baby Care >> Infant Wear >> Baby Boys' Clothes >> Bodysuits & Sleepsuits >> Bodysuits >> FS Mini Klub Bodysuits",
          "Baby Care >> Infant Wear >> Baby Boys' Clothes >> Bodysuits & Sleepsuits >> Bodysuits >> FS Mini Klub Bodysuits >> FS Mini Klub Baby Boy's Bodysuit",
          "Baby Care >> Infant Wear >> Baby Boys' Clothes >> Bodysuits & Sleepsuits >> Bodysuits >> chota packet Bodysuits",
          "Baby Care >> Infant Wear >> Baby Boys' Clothes >> Bodysuits & Sleepsuits >> Bodysuits >> chota packet Bodysuits >> chota packet Baby Boy's, Baby Girl's Bodysuit",
          "Baby Care >> Infant Wear >> Baby Boys' Clothes >> Bodysuits & Sleepsuits >> Bodysuits >> You Got Plan B Bodysuits",
          "Baby Care >> Infant Wear >> Baby Boys' Clothes >> Bodysuits & Sleepsuits >> Bodysuits >> You Got Plan B Bodysuits >> You Got Plan B Baby Boy's, Baby Girl's Romper",
          "Baby Care >> Diapering & Potty Training >> Diaper Bags",
          "Baby Care >> Diapering & Potty Training >> Diaper Bags >> Mee Mee Diaper Bags",
          "Baby Care >> Diapering & Potty Training >> Diaper Bags >> Mee Mee Diaper Bags >> Mee Mee Multifunctional Nursery Diaper Bag (Dark...",
          "Baby Care >> Infant Wear >> Baby Girls' Clothes >> Leggings & Jeggings >> Zero Leggings & Jeggings",
          "Baby Care >> Infant Wear >> Baby Girls' Clothes >> Leggings & Jeggings >> Zero Leggings & Jeggings >> Zero Baby Girl's Leggings (Pack of 3)",
          "Baby Care >> Infant Wear >> Baby Boys' Clothes >> Suits and Blazers",
          "Baby Care >> Infant Wear >> Baby Boys' Clothes >> Suits and Blazers >> Blazers",
          "Baby Care >> Infant Wear >> Baby Boys' Clothes >> Suits and Blazers >> Blazers >> Oxolloxo Blazers",
          "Baby Care >> Infant Wear >> Baby Boys' Clothes >> Suits and Blazers >> Blazers >> Oxolloxo Blazers >> Oxolloxo Solid Single Breasted Casual Women's Bl...",
          "Home Decor & Festive Needs >> Decorative Lighting & Lamps >> Lanterns",
          "Home Decor & Festive Needs >> Decorative Lighting & Lamps >> Lanterns >> SHOPOJ Lanterns",
          "Home Decor & Festive Needs >> Decorative Lighting & Lamps >> Lanterns >> SHOPOJ Lanterns >> SHOPOJ Blue Paper Sky Lantern (80 cm X 34 cm, Pa...",
          "Home Furnishing >> Curtains & Accessories >> Curtains >> Ville Style Polyester Maroon Floral Eyelet Door ...",
          "Beauty and Personal Care >> Hair Care >> Hair Care Accessories >> Hair Accessories >> Sarah Hair Accessories",
          "Beauty and Personal Care >> Hair Care >> Hair Care Accessories >> Hair Accessories >> Sarah Hair Accessories >> Sarah Stylish Hair Claw (Brown)",
          "Kitchen & Dining >> Cookware >> Pots & Pans >> Cookware Pots",
          "Kitchen & Dining >> Cookware >> Pots & Pans >> Cookware Pots >> Wonderchef Cookware Pots",
          "Kitchen & Dining >> Cookware >> Pots & Pans >> Cookware Pots >> Wonderchef Cookware Pots >> Wonderchef Windsor Roaster 26cm Pot 3.4 L (Alumi...",
          "Baby Care >> Infant Wear >> Baby Girls' Clothes >> T-Shirts & Tops",
          "Baby Care >> Infant Wear >> Baby Girls' Clothes >> T-Shirts & Tops >> Shrugs",
          "Baby Care >> Infant Wear >> Baby Girls' Clothes >> T-Shirts & Tops >> Shrugs >> Kushies baby Shrugs",
          "Baby Care >> Infant Wear >> Baby Girls' Clothes >> T-Shirts & Tops >> Shrugs >> Kushies baby Shrugs >> Kushies baby Baby Girl's Shrug",
          "Baby Care >> Infant Wear >> Baby Girls' Clothes >> Dresses & Skirts >> Dresses >> Wow! Dresses",
          "Baby Care >> Infant Wear >> Baby Girls' Clothes >> Dresses & Skirts >> Dresses >> Wow! Dresses >> Wow! Baby Girl's Gathered Yellow Dress",
          "Baby Care >> Infant Wear >> Baby Girls' Clothes >> Innerwear & Sleepwear >> Night Suits >> CHOCOBERRY Night Suits",
          "Baby Care >> Infant Wear >> Baby Girls' Clothes >> Innerwear & Sleepwear >> Night Suits >> CHOCOBERRY Night Suits >> CHOCOBERRY Baby Girl's Printed White, Dark Blue ...",
          "Baby Care >> Infant Wear >> Baby Boys' Clothes >> Shorts & Trousers >> Shorts",
          "Baby Care >> Infant Wear >> Baby Boys' Clothes >> Shorts & Trousers >> Shorts >> Lilliput Shorts",
          "Baby Care >> Infant Wear >> Baby Boys' Clothes >> Shorts & Trousers >> Shorts >> Lilliput Shorts >> Lilliput Solid Baby Boy's Blue Cargo Shorts",
          "Baby Care >> Infant Wear >> Baby Girls' Clothes >> Dresses & Skirts >> Dresses >> Jacadi Paris Dresses",
          "Baby Care >> Infant Wear >> Baby Girls' Clothes >> Dresses & Skirts >> Dresses >> Jacadi Paris Dresses >> Jacadi Paris Baby Girl's Gathered Dark Blue Dress",
          "Baby Care >> Infant Wear >> Baby Girls' Clothes >> Dresses & Skirts >> Dresses >> Wow! Dresses >> Wow! Baby Girl's Gathered Pink Dress",
          "Baby Care >> Infant Wear >> Baby Girls' Clothes >> Dresses & Skirts >> Dresses >> Wow! Dresses >> Wow! Baby Girl's Gathered Red Dress",
          "Baby Care >> Infant Wear >> Baby Girls' Clothes >> Dresses & Skirts >> Dresses >> Jacadi Paris Dresses >> Jacadi Paris Baby Girl's Gathered Blue Dress",
          "Baby Care >> Infant Wear >> Baby Boys' Clothes >> Shorts & Trousers >> Shorts >> FS Mini Klub Shorts",
          "Baby Care >> Infant Wear >> Baby Boys' Clothes >> Shorts & Trousers >> Shorts >> FS Mini Klub Shorts >> FS Mini Klub Printed Baby Boy's Multicolor Basic...",
          "Kitchen & Dining >> Housekeeping & Laundry",
          "Kitchen & Dining >> Housekeeping & Laundry >> Home Cleaning",
          "Kitchen & Dining >> Housekeeping & Laundry >> Home Cleaning >> Brooms & Brushes",
          "Kitchen & Dining >> Housekeeping & Laundry >> Home Cleaning >> Brooms & Brushes >> Geol Brooms & Brushes",
          "Kitchen & Dining >> Housekeeping & Laundry >> Home Cleaning >> Brooms & Brushes >> Geol Brooms & Brushes >> Geol Wooden Wet and Dry Broom (Brown, Pack of 1)",
          "Computers >> Laptop Accessories >> Laptop Bags",
          "Computers >> Laptop Accessories >> Laptop Bags >> Sunlast Laptop Bags",
          "Computers >> Laptop Accessories >> Laptop Bags >> Sunlast Laptop Bags >> Sunlast 16 inch Laptop Backpack (Yellow)",
          "Baby Care >> Infant Wear >> Baby Girls' Clothes >> Innerwear & Sleepwear >> Night Suits >> NammaBaby Night Suits",
          "Baby Care >> Infant Wear >> Baby Girls' Clothes >> Innerwear & Sleepwear >> Night Suits >> NammaBaby Night Suits >> NammaBaby Baby Girl's Animal Print Top & Pyjama Set",
          "Baby Care >> Infant Wear >> Baby Girls' Clothes >> Innerwear & Sleepwear >> Night Suits >> Thakkar Night Suits",
          "Baby Care >> Infant Wear >> Baby Girls' Clothes >> Innerwear & Sleepwear >> Night Suits >> Thakkar Night Suits >> Thakkar Baby Girl's Printed Top & Pyjama Set",
          "Baby Care >> Infant Wear >> Baby Girls' Clothes >> Innerwear & Sleepwear >> Night Suits >> next steps Night Suits",
          "Baby Care >> Infant Wear >> Baby Girls' Clothes >> Innerwear & Sleepwear >> Night Suits >> next steps Night Suits >> next steps Baby Girl's Striped Top & Pyjama Set",
          "Computers >> Computer Components",
          "Computers >> Computer Components >> Processors",
          "Computers >> Computer Components >> Processors >> Intel Processors",
          "Computers >> Computer Components >> Processors >> Intel Processors >> Intel 3.2 GHz LGA 1150 3250 Processor (BLACK)",
          "Baby Care >> Infant Wear >> Baby Girls' Clothes >> Dresses & Skirts >> Dresses >> MKB Dresses >> MKB Baby Girl's Empire Waist Dress",
          "Baby Care >> Infant Wear >> Baby Girls' Clothes >> Dresses & Skirts >> Dresses >> NeedyBee Dresses",
          "Baby Care >> Infant Wear >> Baby Girls' Clothes >> Dresses & Skirts >> Dresses >> NeedyBee Dresses >> NeedyBee Baby Girl's Layered Dress",
          "Baby Care >> Infant Wear >> Baby Girls' Clothes >> Dresses & Skirts >> Dresses >> Seals Dresses",
          "Baby Care >> Infant Wear >> Baby Girls' Clothes >> Dresses & Skirts >> Dresses >> Seals Dresses >> Seals Baby Girl's A-line Dress",
          "Baby Care >> Infant Wear >> Baby Girls' Clothes >> Dresses & Skirts >> Dresses >> Chokree Dresses >> Chokree Baby Girl's A-line Dress",
          "Baby Care >> Infant Wear >> Baby Boys' Clothes >> Innerwear & Sleepwear",
          "Baby Care >> Infant Wear >> Baby Boys' Clothes >> Innerwear & Sleepwear >> Bloomers & Drawers",
          "Baby Care >> Infant Wear >> Baby Boys' Clothes >> Innerwear & Sleepwear >> Bloomers & Drawers >> Esteem Bloomers & Drawers",
          "Baby Care >> Infant Wear >> Baby Boys' Clothes >> Innerwear & Sleepwear >> Bloomers & Drawers >> Esteem Bloomers & Drawers >> Esteem Baby Boy's Drawer",
          "Home Decor & Festive Needs >> Wall Decor & Clocks >> Clocks",
          "Home Decor & Festive Needs >> Wall Decor & Clocks >> Clocks >> Wall Clocks",
          "Home Decor & Festive Needs >> Wall Decor & Clocks >> Clocks >> Wall Clocks >> KLOCX Wall Clocks",
          "Home Decor & Festive Needs >> Wall Decor & Clocks >> Clocks >> Wall Clocks >> KLOCX Wall Clocks >> KLOCX Analog Wall Clock (Black, With Glass)",
          "Baby Care >> Baby Bath & Skin >> Baby Bath Towels >> Marvel Baby Bath Towels",
          "Watches >> Wrist Watches >> Romex Wrist Watches",
          "Baby Care >> Baby Bath & Skin >> Baby Bath Towels >> The Intellect Bazaar Baby Bath Towels",
          "Baby Care >> Baby & Kids Gifts",
          "Baby Care >> Baby & Kids Gifts >> Photo Frames",
          "Baby Care >> Baby & Kids Gifts >> Photo Frames >> Wood Beauty Photo Frames",
          "Baby Care >> Baby Bath & Skin >> Baby Bath Towels >> BornBabyKids Baby Bath Towels",
          "Baby Care >> Feeding & Nursing >> Utensils",
          "Baby Care >> Feeding & Nursing >> Utensils >> Sippers & Cups",
          "Baby Care >> Feeding & Nursing >> Utensils >> Sippers & Cups >> Munchkin Sippers & Cups",
          "Home Decor & Festive Needs >> Wall Decor & Clocks >> Wall Decals & Stickers >> Creative Width Decor Wall Decals & Stickers",
          "Home Decor & Festive Needs >> Table Decor & Handicrafts >> Showpieces >> Religious Idols >> Divine Gifts & Artificial Jewellery Religious Idols",
          "Baby Care >> Feeding & Nursing >> Utensils >> Sippers & Cups >> Blue Bell Sippers & Cups",
          "Baby Care >> Baby Bath & Skin >> Baby Bath Towels >> Welhouse Baby Bath Towels",
          "Baby Care >> Infant Wear >> Baby Girls' Clothes >> Accessories",
          "Baby Care >> Infant Wear >> Baby Girls' Clothes >> Accessories >> Caps",
          "Baby Care >> Infant Wear >> Baby Girls' Clothes >> Accessories >> Caps >> Portia Caps",
          "Baby Care >> Infant Wear >> Baby Girls' Clothes >> Ethnic Wear >> Ethnic Sets",
          "Baby Care >> Infant Wear >> Baby Girls' Clothes >> Ethnic Wear >> Ethnic Sets >> RTD Ethnic Sets",
          "Kitchen & Dining >> Lighting >> Bulbs >> Ornate Bulbs",
          "Baby Care >> Baby Bath & Skin >> Baby Bath Towels >> Shrikant Traders Baby Bath Towels",
          "Baby Care >> Baby & Kids Gifts >> Photo Frames >> MH Photo Frames",
          "Kitchen & Dining >> Lighting >> Bulbs >> NIKsales Bulbs",
          "Baby Care >> Baby & Kids Gifts >> Photo Frames >> Indha Craft Photo Frames",
          "Kitchen & Dining >> Lighting >> Bulbs >> VRCT Bulbs",
          "Baby Care >> Baby Bath & Skin >> Baby Bath Towels >> BabyBucket Baby Bath Towels",
          "Kitchen & Dining >> Lighting >> Bulbs >> Simoco Bulbs",
          "Baby Care >> Baby Bath & Skin >> Baby Bath Towels >> Neyth Baby Bath Towels",
          "Home Decor & Festive Needs >> Table Decor & Handicrafts >> Showpieces >> Religious Idols >> AsiaCraft Religious Idols",
          "Kitchen & Dining >> Lighting >> Bulbs >> Soy Impulse Bulbs",
          "Baby Care >> Baby & Kids Gifts >> Photo Frames >> Cocovey Photo Frames",
          "Beauty and Personal Care >> Body and Skin Care >> Face Care",
          "Beauty and Personal Care >> Body and Skin Care >> Face Care >> Sunscreen",
          "Beauty and Personal Care >> Body and Skin Care >> Face Care >> Sunscreen >> VLCC Sunscreen",
          "Beauty and Personal Care >> Body and Skin Care >> Face Care >> Sunscreen >> Lotus Sunscreen",
          "Beauty and Personal Care >> Body and Skin Care >> Face Care >> Sunscreen >> Oshea Herbals Sunscreen",
          "Beauty and Personal Care >> Body and Skin Care >> Face Care >> Sunscreen >> Richfeel Sunscreen",
          "Beauty and Personal Care >> Body and Skin Care >> Face Care >> Sunscreen >> Keya Seth Sunscreen",
          "Beauty and Personal Care >> Body and Skin Care >> Face Care >> Sunscreen >> Jovees Sunscreen",
          "Beauty and Personal Care >> Body and Skin Care >> Face Care >> Sunscreen >> Whiteherbs Sunscreen",
          "Kitchen & Dining >> Lighting >> Bulbs >> Philips Bulbs",
          "Beauty and Personal Care >> Body and Skin Care >> Face Care >> Sunscreen >> Oriflame Sweden Sunscreen",
          "Beauty and Personal Care >> Body and Skin Care >> Face Care >> Sunscreen >> Aveeno Sunscreen",
          "Beauty and Personal Care >> Body and Skin Care >> Face Care >> Sunscreen >> La Roche-Posay Sunscreen",
          "Home Decor & Festive Needs >> Wall Decor & Clocks >> Paintings",
          "Home Decor & Festive Needs >> Wall Decor & Clocks >> Paintings >> Wallmantra Paintings",
          "Home Decor & Festive Needs >> Wall Decor & Clocks >> Paintings >> Tallenge Paintings",
          "Home Furnishing >> Kitchen & Dining Linen >> Table Placemats",
          "Home Furnishing >> Kitchen & Dining Linen >> Table Placemats >> Vgstore Rectangular Pack of 6 Table Placemat (Da...",
          "Home Decor & Festive Needs >> Showpieces >> Jaipur Raga Showpieces",
          "Home Decor & Festive Needs >> Table Decor & Handicrafts >> Showpieces >> Religious Idols >> Golmaalshop Religious Idols",
          "Baby Care >> Diapering & Potty Training >> Nappies & Cloth Diapers",
          "Baby Care >> Diapering & Potty Training >> Nappies & Cloth Diapers >> U & ME Nappies & Cloth Diapers",
          "Baby Care >> Diapering & Potty Training >> Nappies & Cloth Diapers >> MyKid Nappies & Cloth Diapers",
          "Baby Care >> Diapering & Potty Training >> Nappies & Cloth Diapers >> Pompom Sweethearts Nappies & Cloth Diapers",
          "Home Furnishing >> Kitchen & Dining Linen >> Table Runners",
          "Home Decor & Festive Needs >> Table Decor & Handicrafts >> Showpieces >> Religious Idols >> Craftartz Religious Idols",
          "Baby Care >> Diapering & Potty Training >> Nappies & Cloth Diapers >> HoA Nappies & Cloth Diapers",
          "Home Decor & Festive Needs >> Table Decor & Handicrafts >> Showpieces >> Religious Idols >> Gift Studios Religious Idols",
          "Home Decor & Festive Needs >> Decorative Lighting & Lamps >> Series Lights",
          "Home Decor & Festive Needs >> Decorative Lighting & Lamps >> Series Lights >> VRCT Series Lights",
          "Home Decor & Festive Needs >> Decorative Lighting & Lamps >> Series Lights >> VRCT Series Lights >> VRCT 196 inch Green Rice Lights (Pack of 1)",
          "Beauty and Personal Care >> Makeup >> Lips >> Lipsticks",
          "Beauty and Personal Care >> Makeup >> Lips >> Lipsticks >> Foolzy Lipsticks",
          "Home Furnishing >> Kitchen & Dining Linen >> Kitchen Linen Sets >> Tidy Kitchen Linen Sets",
          "Home Furnishing >> Kitchen & Dining Linen >> Kitchen Linen Sets >> Tidy Kitchen Linen Sets >> Tidy Green Cotton Kitchen Linen Set (Pack of 3)",
          "Baby Care >> Infant Wear >> Baby Boys' Clothes >> Bodysuits & Sleepsuits >> Bodysuits >> Sonpra Bodysuits",
          "Computers >> Computer Peripherals >> Printers & Inks >> Toners >> Canon Toners",
          "Home Decor & Festive Needs >> Table Decor & Handicrafts >> Showpieces >> Religious Idols >> Radhika's World of Crafts Religious Idols",
          "Beauty and Personal Care >> Bath and Spa >> Bath and Spa Accessories",
          "Beauty and Personal Care >> Bath and Spa >> Bath and Spa Accessories >> Loofahs",
          "Beauty and Personal Care >> Bath and Spa >> Bath and Spa Accessories >> Loofahs >> AntiqueShop Loofahs",
          "Beauty and Personal Care >> Bath and Spa >> Bath and Spa Accessories >> Loofahs >> AntiqueShop Loofahs >> AntiqueShop ABKL_GRN_GRN_GRN",
          "Beauty and Personal Care >> Bath and Spa >> Bath and Spa Accessories >> Loofahs >> AntiqueShop Loofahs >> AntiqueShop ABKL_PL_PNK_PNK",
          "Beauty and Personal Care >> Bath and Spa >> Bath and Spa Accessories >> Loofahs >> AntiqueShop Loofahs >> AntiqueShop ABKL_PL_PL_PNK",
          "Home Decor & Festive Needs >> Religion & Devotion",
          "Home Decor & Festive Needs >> Religion & Devotion >> brass gift center Religion & Devotion",
          "Home Decor & Festive Needs >> Religion & Devotion >> brass gift center Religion & Devotion >> brass gift center Showpiece  -  48 cm (Brass, Mu...",
          "Kitchen & Dining >> Dinnerware & Crockery",
          "Kitchen & Dining >> Dinnerware & Crockery >> Cups & Saucers",
          "Kitchen & Dining >> Dinnerware & Crockery >> Cups & Saucers >> Buyer's Beach Cups & Saucers",
          "Kitchen & Dining >> Dinnerware & Crockery >> Cups & Saucers >> Buyer's Beach Cups & Saucers >> Buyer's Beach BB349 (Brown)",
          "Computers >> Laptop Accessories >> Anti Dust Plugs",
          "Computers >> Laptop Accessories >> Anti Dust Plugs >> Pindia Anti Dust Plugs",
          "Watches >> Wrist Watches >> Fogg Fashion Store Wrist Watches",
          "Kitchen & Dining >> Containers & Bottles >> Bottles & Sippers >> Water bottle >> Nutcase Water bottle",
          "Beauty and Personal Care >> Combos and Kits >> Mxofere Combos and Kits",
          "Watches >> Wrist Watches >> SVM Wrist Watches",
          "Watches >> Wrist Watches >> Fighter Wrist Watches",
          "Watches >> Wrist Watches >> Luba Wrist Watches",
          "Watches >> Wrist Watches >> Perucci Wrist Watches",
          "Watches >> Wrist Watches >> Chappin & Nellson Wrist Watches",
          "Beauty and Personal Care >> Combos and Kits >> Oxyglow Combos and Kits",
          "Watches >> Wrist Watches >> Xemex Wrist Watches",
          "Baby Care >> Baby Bedding >> Baby Blankets",
          "Baby Care >> Baby Bedding >> Baby Blankets >> Offspring Baby Blankets",
          "Baby Care >> Baby Bedding >> Baby Blankets >> Ireeya Baby Blankets",
          "Baby Care >> Baby Bedding >> Baby Blankets >> Carter'S Baby Blankets",
          "Baby Care >> Baby Bedding >> Baby Blankets >> My NewBorn Baby Blankets",
          "Watches >> Wrist Watches >> RRTC Wrist Watches",
          "Baby Care >> Feeding & Nursing >> Utensils >> Baby Spoons & Forks",
          "Baby Care >> Feeding & Nursing >> Utensils >> Baby Spoons & Forks >> Funcart Baby Spoons & Forks",
          "Baby Care >> Feeding & Nursing >> Utensils >> Baby Spoons & Forks >> EZ Life Baby Spoons & Forks",
          "Baby Care >> Baby Bath & Skin >> Baby Bath Towels >> Love Baby Baby Bath Towels",
          "Watches >> Wrist Watches >> LUBA Wrist Watches",
          "Beauty and Personal Care >> Eye Care",
          "Beauty and Personal Care >> Eye Care >> Wild Ferns Eye Care",
          "Baby Care >> Diapering & Potty Training >> Nappies & Cloth Diapers >> Ollington St. Collection Nappies & Cloth Diapers",
          "Watches >> Wrist Watches >> Rana Watches Wrist Watches",
          "Watches >> Wrist Watches >> R.S Wrist Watches",
          "Computers >> Laptop Accessories >> Adapters >> Lapguard Adapters",
          "Computers >> Laptop Accessories >> Adapters >> Rega IT Adapters",
          "Home Decor & Festive Needs >> Wall Decor & Clocks >> Clocks >> Wall Clocks >> Regent Wall Clocks",
          "Home Decor & Festive Needs >> Wall Decor & Clocks >> Clocks >> Wall Clocks >> eCraftIndia Wall Clocks",
          "Home Decor & Festive Needs >> Showpiece >> Bharatcraft Showpiece",
          "Home Decor & Festive Needs >> Showpiece >> Bharatcraft Showpiece >> Bharatcraft Wall Hanging Of Lord Ganesha On A Cr...",
          "Watches >> Wrist Watches >> Firstrace Wrist Watches",
          "Watches >> Wrist Watches >> CB Fashion Wrist Watches",
          "Watches >> Wrist Watches >> Timex Wrist Watches",
          "Computers >> Laptop Accessories >> USB Gadgets >> Casotec USB Gadgets",
          "Computers >> Laptop Accessories >> USB Gadgets >> Fonokase USB Gadgets",
          "Computers >> Laptop Accessories >> USB Gadgets >> Memore USB Gadgets",
          "Computers >> Laptop Accessories >> USB Gadgets >> Orico USB Gadgets",
          "Computers >> Laptop Accessories >> USB Gadgets >> Bigkik USB Gadgets",
          "Computers >> Laptop Accessories >> USB Gadgets >> Tapawire USB Gadgets",
          "Computers >> Laptop Accessories >> USB Gadgets >> Crystle USB Gadgets",
          "Computers >> Laptop Accessories >> USB Gadgets >> Amaze Fashion USB Gadgets",
          "Computers >> Laptop Accessories >> USB Gadgets >> RRP USB Gadgets",
          "Computers >> Laptop Accessories >> USB Gadgets >> Techone+ USB Gadgets",
          "Computers >> Laptop Accessories >> USB Gadgets >> Himtek USB Gadgets",
          "Computers >> Laptop Accessories >> USB Gadgets >> KLIQVIK USB Gadgets",
          "Computers >> Laptop Accessories >> USB Gadgets >> Epresent USB Gadgets",
          "Computers >> Laptop Accessories >> USB Gadgets >> Task Logistics USB Gadgets",
          "Baby Care >> Infant Wear >> Baby Girls' Clothes >> Shorts & Trousers >> Trousers",
          "Baby Care >> Infant Wear >> Baby Girls' Clothes >> Shorts & Trousers >> Trousers >> Feetje Trousers",
          "Computers >> Laptop Accessories >> USB Gadgets >> LUV USB Gadgets",
          "Computers >> Laptop Accessories >> USB Gadgets >> Rock USB Gadgets",
          "Computers >> Laptop Accessories >> USB Gadgets >> Generix USB Gadgets",
          "Computers >> Laptop Accessories >> USB Gadgets >> QP360 USB Gadgets",
          "Computers >> Laptop Accessories >> USB Gadgets >> Zaicus USB Gadgets",
          "Computers >> Laptop Accessories >> USB Gadgets >> Akshaj USB Gadgets",
          "Computers >> Laptop Accessories >> USB Gadgets >> Lifestyle-You USB Gadgets",
          "Computers >> Laptop Accessories >> USB Gadgets >> 99Gems USB Gadgets",
          "Computers >> Laptop Accessories >> USB Gadgets >> De TechInn USB Gadgets",
          "Computers >> Laptop Accessories >> USB Gadgets >> Dizionario USB Gadgets",
          "Computers >> Laptop Accessories >> USB Gadgets >> Kensington USB Gadgets",
          "Computers >> Laptop Accessories >> Batteries >> RCE Batteries",
          "Baby Care >> Infant Wear >> Baby Girls' Clothes >> Combo Sets",
          "Baby Care >> Infant Wear >> Baby Girls' Clothes >> Combo Sets >> kawal fashion Combo Sets",
          "Baby Care >> Infant Wear >> Baby Girls' Clothes >> Combo Sets >> kawal fashion Combo Sets >> kawal fashion Pyjama Baby Girl's  Combo",
          "Beauty and Personal Care >> Men's Grooming",
          "Beauty and Personal Care >> Men's Grooming >> Sivanna Men's Grooming",
          "Beauty and Personal Care >> Men's Grooming >> Sivanna Men's Grooming >> Sivanna Baking Powder Rouge  Highlighter (Dark p...",
          "Baby Care >> Infant Wear >> Baby Girls' Clothes >> Bodysuits & Sleepsuits >> Bodysuits",
          "Baby Care >> Infant Wear >> Baby Girls' Clothes >> Bodysuits & Sleepsuits >> Bodysuits >> Lula Bodysuits",
          "Baby Care >> Infant Wear >> Baby Girls' Clothes >> Bodysuits & Sleepsuits >> Bodysuits >> Lula Bodysuits >> Lula Baby Girl's Dark Blue Bodysuit",
          "Home Furnishing >> Bath Linen >> Towels",
          "Baby Care >> Baby Grooming >> Baby Massage Oils",
          "Baby Care >> Baby Grooming >> Baby Massage Oils >> Shagun Gold Baby Massage Oils",
          "Beauty and Personal Care >> Bath and Spa >> Body and Essential Oils >> SSCP Body and Essential Oils",
          "Baby Care >> Furniture & Furnishings >> Inflatable Products >> Intex Inflatable Products",
          "Beauty and Personal Care >> Health Care >> Health Care Accessories",
          "Beauty and Personal Care >> Health Care >> Health Care Accessories >> Health Care Accessories",
          "Beauty and Personal Care >> Health Care >> Health Care Accessories >> Health Care Accessories >> KDS SURGICAL Health Care Accessories",
          "Beauty and Personal Care >> Health Care >> Health Care Accessories >> Health Care Accessories >> KDS SURGICAL Health Care Accessories >> KDS SURGICAL Tripod Walking Stick",
          "Home Decor & Festive Needs >> Showpiece >> Contemporary >> Bharatcraft Contemporary",
          "Home Decor & Festive Needs >> Showpiece >> Contemporary >> Bharatcraft Contemporary >> Bharatcraft Showpiece  -  5 cm (Polyresin, Brown)",
          "Beauty and Personal Care >> Hair Care >> Hair Colors >> Loreal Hair Colors",
          "Beauty and Personal Care >> Hair Care >> Hair Colors >> Loreal Hair Colors >> Loreal Diarichesse No- 5 Light Brown ( Pack of 3...",
          "Home Decor & Festive Needs >> Flowers, Plants & Vases >> Flower Vase >> @home Flower Vase >> @home Earthy Wine Net Ceramic Vase (9.8250000000...",
          "Kitchen & Dining >> Tableware & Cutlery >> Jugs & Pitchers",
          "Kitchen & Dining >> Tableware & Cutlery >> Jugs & Pitchers >> Jugs",
          "Kitchen & Dining >> Tableware & Cutlery >> Jugs & Pitchers >> Jugs >> Prisha India Craft Jugs",
          "Kitchen & Dining >> Tableware & Cutlery >> Jugs & Pitchers >> Jugs >> Prisha India Craft Jugs >> Prisha India Craft m_jug015-1-prishaindia Water ...",
          "Home Decor & Festive Needs >> Wall Decor & Clocks >> Paintings >> BRANDWAGON Paintings",
          "Home Decor & Festive Needs >> Wall Decor & Clocks >> Paintings >> BRANDWAGON Paintings >> BRANDWAGON DIGIPRINT Digital Reprint Painting (1...",
          "Baby Care >> Baby Bedding >> Baby Blankets >> Relaxfeel Baby Blankets",
          "Baby Care >> Baby Bedding >> Baby Blankets >> Relaxfeel Baby Blankets >> Relaxfeel Floral Single Dohar White (AC Dohar)",
          "Home Decor & Festive Needs >> Wall Decor & Clocks >> Posters",
          "Home Decor & Festive Needs >> Wall Decor & Clocks >> Posters >> STYLE CLUES FASHION Posters",
          "Home Decor & Festive Needs >> Wall Decor & Clocks >> Posters >> STYLE CLUES FASHION Posters >> scarlet tanager bird normal POSTER Paper Print (...",
          "Home Decor & Festive Needs >> Wall Decor & Clocks >> Posters >> Mega product Posters",
          "Home Decor & Festive Needs >> Wall Decor & Clocks >> Posters >> Mega product Posters >> good-night-angel-sleep-well-pics Paper Print (18...",
          "Baby Care >> Infant Wear >> Baby Boys' Clothes >> Shirts",
          "Baby Care >> Infant Wear >> Baby Boys' Clothes >> Shirts >> Fs Mini Klub Shirts",
          "Baby Care >> Infant Wear >> Baby Boys' Clothes >> Shirts >> Fs Mini Klub Shirts >> Fs Mini Klub Baby Boy's Woven Casual Shirt",
          "Baby Care >> Infant Wear >> Baby Boys' Clothes >> Shirts >> Cotton On Kids Shirts",
          "Baby Care >> Infant Wear >> Baby Boys' Clothes >> Shirts >> Cotton On Kids Shirts >> Cotton On Kids Baby Boy's Printed Casual Shirt",
          "Baby Care >> Infant Wear >> Baby Girls' Clothes >> Accessories >> Hats",
          "Baby Care >> Infant Wear >> Baby Girls' Clothes >> Accessories >> Hats >> Portia Hats",
          "Baby Care >> Infant Wear >> Baby Girls' Clothes >> Accessories >> Hats >> Portia Hats >> Portia Hat (Pink, Pack of 1)",
          "Baby Care >> Infant Wear >> Baby Boys' Clothes >> Shirts >> Beebay Shirts",
          "Baby Care >> Infant Wear >> Baby Boys' Clothes >> Shirts >> Beebay Shirts >> Beebay Baby Boy's Checkered Casual Shirt",
          "Home Decor & Festive Needs >> Wall Decor & Clocks >> Posters >> Shoperite Posters",
          "Home Decor & Festive Needs >> Wall Decor & Clocks >> Posters >> Shoperite Posters >> painting_art_couple_love__Dance Paper Print (12 ...",
          "Home Decor & Festive Needs >> Wall Decor & Clocks >> Posters >> Urban Monk Posters",
          "Home Decor & Festive Needs >> Wall Decor & Clocks >> Posters >> Urban Monk Posters >> Bourne Supermacy Canvas Art (18 inch X 12 inch, ...",
          "Watches >> Clocks",
          "Watches >> Clocks >> Table Clocks",
          "Watches >> Clocks >> Table Clocks >> Like Table Clocks",
          "Watches >> Clocks >> Table Clocks >> Like Table Clocks >> Like Analog Purple Clock",
          "Baby Care >> Infant Wear >> Baby Boys' Clothes >> Shirts >> 612 League Shirts",
          "Baby Care >> Infant Wear >> Baby Boys' Clothes >> Shirts >> 612 League Shirts >> 612 League Baby Boy's Checkered Casual Shirt",
          "Baby Care >> Infant Wear >> Baby Boys' Clothes >> Shirts >> FS Mini Klub Shirts",
          "Baby Care >> Infant Wear >> Baby Boys' Clothes >> Shirts >> FS Mini Klub Shirts >> FS Mini Klub Baby Boy's Woven Casual Shirt",
          "Home Decor & Festive Needs >> Wall Decor & Clocks >> Wallpapers",
          "Home Decor & Festive Needs >> Wall Decor & Clocks >> Wallpapers >> wallskart Wallpapers",
          "Home Decor & Festive Needs >> Wall Decor & Clocks >> Wallpapers >> wallskart Wallpapers >> wallskart Floral & Botanical Wallpaper (35.56 cm...",
          "Home Decor & Festive Needs >> Decorative Lighting & Lamps >> Series Lights >> Megaway Series Lights",
          "Home Decor & Festive Needs >> Table Decor & Handicrafts >> Showpieces >> Religious Idols >> Anjalika Religious Idols",
          "Home Decor & Festive Needs >> Decorative Lighting & Lamps >> Series Lights >> Digilight Series Lights",
          "Home Decor & Festive Needs >> Table Decor & Handicrafts >> Showpieces >> Religious Idols >> Agrasen International Religious Idols",
          "Home Decor & Festive Needs >> Decorative Lighting & Lamps >> Series Lights >> Pinc Ginger Series Lights",
          "Beauty and Personal Care >> Makeup >> Lips >> Lipsticks >> Elfani Lipsticks",
          "Home Decor & Festive Needs >> Decorative Lighting & Lamps >> Series Lights >> Home Delight Series Lights",
          "Home Decor & Festive Needs >> Showpieces >> Adaa Showpieces",
          "Home Decor & Festive Needs >> Table Decor & Handicrafts >> Showpieces >> Religious Idols >> Utsav Handicraft Religious Idols",
          "Beauty and Personal Care >> Makeup >> Lips >> Lipsticks >> Incolor Lipsticks",
          "Home Decor & Festive Needs >> Decorative Lighting & Lamps >> Series Lights >> My Party Suppliers Series Lights",
          "Home Decor & Festive Needs >> Decorative Lighting & Lamps >> Series Lights >> GrandShop Series Lights",
          "Home Decor & Festive Needs >> Showpieces >> eCraftIndia Showpieces",
          "Home Decor & Festive Needs >> Table Decor & Handicrafts >> Table Decor >> Hookah & Hookah Flavours >> Hookah Flavors",
          "Home Decor & Festive Needs >> Table Decor & Handicrafts >> Table Decor >> Hookah & Hookah Flavours >> Hookah Flavors >> Al Fakher Hookah Flavors",
          "Home Decor & Festive Needs >> Decorative Lighting & Lamps >> Series Lights >> Weldecor Series Lights",
          "Beauty and Personal Care >> Makeup >> Lips >> Lipsticks >> Organistick Lipsticks",
          "Home Decor & Festive Needs >> Table Decor & Handicrafts >> Showpieces >> Religious Idols >> Eshoppee Religious Idols",
          "Home Decor & Festive Needs >> Table Decor & Handicrafts >> Table Decor >> Hookah & Hookah Flavours >> Hookah Flavors >> Arabian Nights Hookah Flavors",
          "Home Decor & Festive Needs >> Religion & Devotion >> Shankh",
          "Home Decor & Festive Needs >> Religion & Devotion >> Shankh >> The Art Treasure Shankh",
          "Kitchen & Dining >> Tableware & Cutlery >> Cutlery",
          "Kitchen & Dining >> Tableware & Cutlery >> Cutlery >> Forks",
          "Kitchen & Dining >> Tableware & Cutlery >> Cutlery >> Forks >> Bhalaria Forks",
          "Kitchen & Dining >> Tableware & Cutlery >> Cutlery >> Forks >> Bhalaria Forks >> Bhalaria Dessert Fork Stainless Steel Dessert Fo...",
          "Home Decor & Festive Needs >> Decorative Lighting & Lamps >> Floor Lamp",
          "Home Decor & Festive Needs >> Decorative Lighting & Lamps >> Floor Lamp >> Nutcase Floor Lamp",
          "Home Decor & Festive Needs >> Decorative Lighting & Lamps >> Floor Lamp >> Nutcase Floor Lamp >> Nutcase Multicolor Column Floor Lamp (31 cm)",
          "Home Furnishing >> Floor Coverings",
          "Home Furnishing >> Floor Coverings >> Carpets & Rugs",
          "Home Furnishing >> Floor Coverings >> Carpets & Rugs >> M S Rugs Pink, Blue Wool Dhurrie (120 cm  X 180 cm)",
          "Home Furnishing >> Floor Coverings >> Carpets & Rugs >> GIMS Brown Viscose Carpet (165 cm  X 120 cm)",
          "Home Furnishing >> Kitchen & Dining Linen >> Kitchen Linen Sets >> Cotonex Beige Cotton Kitchen Linen Set (Pack of 2)",
          "Home Furnishing >> Floor Coverings >> Carpets & Rugs >> FURNISHINGLAND Green Silk Carpet (60 cm  X 180 cm)",
          "Home Furnishing >> Floor Coverings >> Carpets & Rugs >> FURNISHINGLAND Black Polyester Carpet (90 cm  X ...",
          "Home Furnishing >> Floor Coverings >> Carpets & Rugs >> loomkart Blue Polyester Runner (55 cm  X 147 cm)",
          "Home Furnishing >> Floor Coverings >> Carpets & Rugs >> FURNISHINGLAND Maroon Silk Carpet (60 cm  X 180 cm)",
          "Beauty and Personal Care >> Body and Skin Care >> Lip Care",
          "Beauty and Personal Care >> Body and Skin Care >> Lip Care >> Lip Creams",
          "Beauty and Personal Care >> Body and Skin Care >> Lip Care >> Lip Creams >> NYX Lip Creams",
          "Beauty and Personal Care >> Body and Skin Care >> Lip Care >> Lip Creams >> NYX Lip Creams >> NYX Set Of 2 Soft Matte Lip Cream 06,22 (Multi c...",
          "Kitchen & Dining >> Kitchen Tools >> Kitchen Implements >> Kitchen Scissors",
          "Kitchen & Dining >> Kitchen Tools >> Kitchen Implements >> Kitchen Scissors >> Checkered Chef Kitchen Scissors",
          "Kitchen & Dining >> Kitchen Tools >> Kitchen Implements >> Kitchen Scissors >> Checkered Chef Kitchen Scissors >> Checkered Chef Steel All-Purpose Scissor (Red, B...",
          "Baby Care >> Baby Bedding >> Baby Bedsheets",
          "Baby Care >> Baby Bedding >> Baby Bedsheets >> Mahadev Handicrafts Baby Bedsheets",
          "Baby Care >> Baby Bedding >> Baby Bedsheets >> Mahadev Handicrafts Baby Bedsheets >> Mahadev Handicrafts Cotton Cartoon Double Bedshe...",
          "Baby Care >> Baby Bedding >> Baby Bedsheets >> Sparklings Baby Bedsheets",
          "Baby Care >> Baby Bedding >> Baby Bedsheets >> Sparklings Baby Bedsheets >> Sparklings Cotton Checkered Double Bedsheet (dou...",
          "Home Furnishing >> Living >> Sofa Covers >> Swastik Sofa Covers",
          "Home Furnishing >> Living >> Sofa Covers >> Swastik Sofa Covers >> Swastik Velvet Sofa Cover (Multicolor Pack of 10)",
          "Baby Care >> Baby Bedding >> Baby Bedsheets >> Bela Home Baby Bedsheets",
          "Baby Care >> Baby Bedding >> Baby Bedsheets >> Bela Home Baby Bedsheets >> Bela Home Cotton Cartoon Single Bedsheet (1 Sing...",
          "Baby Care >> Baby Bedding >> Baby Bedsheets >> Sparklings Baby Bedsheets >> Sparklings Cotton Geometric Double Bedsheet (dou...",
          "Baby Care >> Infant Wear >> Baby Boys' Clothes >> Shirts >> CALCULUS Shirts",
          "Baby Care >> Infant Wear >> Baby Boys' Clothes >> Shirts >> CALCULUS Shirts >> CALCULUS Baby Boy's Printed Casual Beige Shirt",
          "Home Decor & Festive Needs >> Showpiece >> Gramophones",
          "Home Decor & Festive Needs >> Showpiece >> Gramophones >> ROYLE KATOCH Gramophones",
          "Home Decor & Festive Needs >> Showpiece >> Gramophones >> ROYLE KATOCH Gramophones >> ROYLE KATOCH Showpiece  -  24 cm (Crystal, Woode...",
          "Home Decor & Festive Needs >> Religion & Devotion >> Jaycoknit Religion & Devotion",
          "Home Decor & Festive Needs >> Religion & Devotion >> Jaycoknit Religion & Devotion >> Jaycoknit Mediterranean Sea's Lucky Wooden Handc...",
          "Baby Care >> Infant Wear >> Baby Boys' Clothes >> Shirts >> Jacadi paris Shirts",
          "Baby Care >> Infant Wear >> Baby Boys' Clothes >> Shirts >> Jacadi paris Shirts >> Jacadi paris Baby Boy's Striped Casual Blue Shirt",
          "Beauty and Personal Care >> Beauty Accessories",
          "Beauty and Personal Care >> Beauty Accessories >> Makeup Accessories",
          "Beauty and Personal Care >> Beauty Accessories >> Makeup Accessories >> Brushes and Applicators",
          "Beauty and Personal Care >> Beauty Accessories >> Makeup Accessories >> Brushes and Applicators >> LOTTIE LONDON Brushes and Applicators",
          "Beauty and Personal Care >> Beauty Accessories >> Makeup Accessories >> Brushes and Applicators >> LOTTIE LONDON Brushes and Applicators >> LOTTIE LONDON MAKE ME BLUSH (Pack of 1)",
          "Baby Care >> Infant Wear >> Baby Girls' Clothes >> Bodysuits & Sleepsuits >> Bodysuits >> FS Mini Klub Bodysuits",
          "Baby Care >> Infant Wear >> Baby Girls' Clothes >> Bodysuits & Sleepsuits >> Bodysuits >> FS Mini Klub Bodysuits >> FS Mini Klub Baby Girl's Bodysuit",
          "Kitchen & Dining >> Kitchen Tools >> Choppers & Peelers",
          "Kitchen & Dining >> Kitchen Tools >> Choppers & Peelers >> Graters & Slicers",
          "Kitchen & Dining >> Kitchen Tools >> Choppers & Peelers >> Graters & Slicers >> Deep Graters & Slicers",
          "Kitchen & Dining >> Kitchen Tools >> Choppers & Peelers >> Graters & Slicers >> Deep Graters & Slicers >> Deep kitchen press Steel Grater and Slicer (Stee...",
          "Baby Care >> Infant Wear >> Baby Boys' Clothes >> Polos & T-Shirts >> dongli Polos & T-Shirts",
          "Baby Care >> Infant Wear >> Baby Boys' Clothes >> Polos & T-Shirts >> dongli Polos & T-Shirts >> dongli Striped Baby Boy's Polo Neck T-Shirt (Pac...",
          "Baby Care >> Infant Wear >> Baby Boys' Clothes >> Polos & T-Shirts >> Fs Mini Klub Polos & T-Shirts",
          "Baby Care >> Infant Wear >> Baby Boys' Clothes >> Polos & T-Shirts >> Fs Mini Klub Polos & T-Shirts >> Fs Mini Klub Printed Baby Boy's Round Neck T-Shirt",
          "Baby Care >> Infant Wear >> Baby Girls' Clothes >> Ethnic Wear >> Salwar Kurta Dupattas >> Aarika Salwar Kurta Dupattas",
          "Baby Care >> Infant Wear >> Baby Girls' Clothes >> Ethnic Wear >> Salwar Kurta Dupattas >> Aarika Salwar Kurta Dupattas >> Aarika Self Design Kurta & Patiyala",
          "Baby Care >> Infant Wear >> Baby Boys' Clothes >> Polos & T-Shirts >> Rishan Polos & T-Shirts",
          "Baby Care >> Infant Wear >> Baby Boys' Clothes >> Polos & T-Shirts >> Rishan Polos & T-Shirts >> Rishan Printed Baby Boy's V-neck T-Shirt",
          "Baby Care >> Infant Wear >> Baby Boys' Clothes >> Polos & T-Shirts >> YK Polos & T-Shirts",
          "Baby Care >> Infant Wear >> Baby Boys' Clothes >> Polos & T-Shirts >> YK Polos & T-Shirts >> YK Striped Baby Boy's Round Neck T-Shirt",
          "Home Decor & Festive Needs >> Table Decor & Handicrafts >> Showpieces >> Human Figurines >> Art Godaam Human Figurines",
          "Beauty and Personal Care >> Makeup >> Vanity Boxes >> Artist Haat Vanity Boxes",
          "Home Decor & Festive Needs >> Showpieces >> Vedic Deals Showpieces",
          "Home Decor & Festive Needs >> Table Decor & Handicrafts >> Showpieces >> Human Figurines >> Hand Art Human Figurines",
          "Beauty and Personal Care >> Makeup >> Vanity Boxes >> Craftuno Vanity Boxes",
          "Home Decor & Festive Needs >> Table Decor & Handicrafts >> Showpieces >> Human Figurines >> Kaatru Human Figurines",
          "Baby Care >> Infant Wear >> Baby Girls' Clothes >> Shorts & Trousers >> Trousers >> CoffeeBean Trousers",
          "Baby Care >> Infant Wear >> Baby Girls' Clothes >> Shorts & Trousers >> Trousers >> CoffeeBean Trousers >> CoffeeBean Regular Fit Baby Girl's Pink Trousers",
          "Kitchen & Dining >> Bar & Glassware >> Bar Accessories >> Cork Screws",
          "Kitchen & Dining >> Bar & Glassware >> Bar Accessories >> Cork Screws >> Seven Seas Cork Screws",
          "Kitchen & Dining >> Bar & Glassware >> Bar Accessories >> Cork Screws >> Pedrini Cork Screws",
          "Kitchen & Dining >> Coffee Mugs >> AM Creation Coffee Mugs",
          "Kitchen & Dining >> Coffee Mugs >> AM Creation Coffee Mugs >> AM Creation Magic  Ceramic Mug (273 ml, Pack of 2)",
          "Baby Care >> Baby Bath & Skin >> Baby Body Wash",
          "Baby Care >> Baby Bath & Skin >> Baby Body Wash >> TRESemme Baby Body Wash",
          "Baby Care >> Baby Bath & Skin >> Baby Body Wash >> TRESemme Baby Body Wash >> TRESemme Naturals Vibrantly Smooth Shampoo (591)",
          "Baby Care >> Baby Bath & Skin >> Baby Body Wash >> L Oreal Baby Body Wash",
          "Baby Care >> Baby Bath & Skin >> Baby Body Wash >> L Oreal Baby Body Wash >> L Oreal Eversleek Sulfate - Free Smoothing Syste...",
          "Home Decor & Festive Needs >> Table Decor & Handicrafts >> Showpieces >> Religious Idols >> CTW Religious Idols",
          "Home Decor & Festive Needs >> Table Decor & Handicrafts >> Showpieces >> Religious Idols >> CTW Religious Idols >> CTW Ganpati Bapa Moriya Statue Showpiece  -  12 ...",
          "Kitchen & Dining >> Coffee Mugs >> Happiness Is Coffee Mugs",
          "Kitchen & Dining >> Coffee Mugs >> Happiness Is Coffee Mugs >> Happiness Is Printed Bone China Mug (300 ml)",
          "Home Furnishing >> Living >> Sofa Covers >> Balaji Velvet Sofa Cover (Brown Pack of 6)",
          "Kitchen & Dining >> Containers & Bottles >> Containers & Jars",
          "Kitchen & Dining >> Containers & Bottles >> Containers & Jars >> Kitchen Containers",
          "Kitchen & Dining >> Containers & Bottles >> Containers & Jars >> Kitchen Containers >> Lock&Lock Kitchen Containers",
          "Kitchen & Dining >> Containers & Bottles >> Containers & Jars >> Kitchen Containers >> Lock&Lock Kitchen Containers >> Lock&Lock Kitchen  - 5.5 L Polypropylene Multi-p...",
          "Baby Care >> Infant Wear >> Baby Girls' Clothes >> Bodysuits & Sleepsuits >> Bodysuits >> Mom & Me Bodysuits",
          "Baby Care >> Infant Wear >> Baby Girls' Clothes >> Bodysuits & Sleepsuits >> Bodysuits >> Mom & Me Bodysuits >> Mom & Me Baby Girl's Bodysuit",
          "Computers >> Laptop Accessories >> USB Gadgets >> APOLLO+ USB Gadgets",
          "Computers >> Laptop Accessories >> USB Gadgets >> APOLLO+ USB Gadgets >> APOLLO+ Pack Of 3 Flexible Led Light (Multicolour)",
          "Kitchen & Dining >> Coffee Mugs >> HuppmeGift Coffee Mugs",
          "Kitchen & Dining >> Coffee Mugs >> HuppmeGift Coffee Mugs >> HuppmeGift Happy Birthday Navneet Inner Red Cera...",
          "Baby Care >> Baby & Kids Gifts >> Decorations",
          "Baby Care >> Baby & Kids Gifts >> Decorations >> Doraemon Gift Family Ceramic Coffee Mug Decorations",
          "Baby Care >> Baby & Kids Gifts >> Decorations >> Doraemon Gift Family Ceramic Coffee Mug Decorations >> Doraemon Gift Family Ceramic Coffee Mug Multicol...",
          "Beauty and Personal Care >> Makeup >> Eyes",
          "Beauty and Personal Care >> Makeup >> Eyes >> Eye Shadows",
          "Beauty and Personal Care >> Makeup >> Eyes >> Eye Shadows >> Milani Eye Shadows",
          "Beauty and Personal Care >> Makeup >> Eyes >> Eye Shadows >> Milani Eye Shadows >> Milani Runway shadow Wet/Dry Black Out 3 g (Shadow)",
          "Beauty and Personal Care >> Makeup >> Eyes >> Eye Shadows >> e.l.f. Cosmetics Eye Shadows",
          "Beauty and Personal Care >> Makeup >> Eyes >> Eye Shadows >> e.l.f. Cosmetics Eye Shadows >> e.l.f. Cosmetics Studio brow Kit Ash Brow Makeup...",
          "Beauty and Personal Care >> Bath and Spa >> Soaps",
          "Beauty and Personal Care >> Bath and Spa >> Soaps >> Aster Luxury Soaps",
          "Beauty and Personal Care >> Bath and Spa >> Soaps >> Aster Luxury Soaps >> Aster Luxury Arabic Oudh Bathing Bar - Pack of 4...",
          "Kitchen & Dining >> Kitchen Tools >> Kitchen Tool Sets",
          "Kitchen & Dining >> Kitchen Tools >> Kitchen Tool Sets >> King Traders Kitchen Tool Sets",
          "Kitchen & Dining >> Kitchen Tools >> Kitchen Tool Sets >> King Traders Kitchen Tool Sets >> King Traders KI-BD-01 1 Kitchen Tool Set",
          "Home Decor & Festive Needs >> Wall Decor & Clocks >> Wall Decals & Stickers >> Wall Decal Wall Decals & Stickers",
          "Home Decor & Festive Needs >> Wall Decor & Clocks >> Wall Decals & Stickers >> Wall Decal Wall Decals & Stickers >> Wall Decal Small Self Adhesive Sticker (Pack of 1)",
          "Baby Care >> Infant Wear >> Baby Boys' Clothes >> Polos & T-Shirts >> Dongli Polos & T-Shirts",
          "Baby Care >> Infant Wear >> Baby Boys' Clothes >> Polos & T-Shirts >> Dongli Polos & T-Shirts >> Dongli Striped Baby Boy's Polo Neck T-Shirt",
          "Baby Care >> Baby Grooming >> Cotton Buds",
          "Baby Care >> Baby Grooming >> Cotton Buds >> SJ Cotton Buds",
          "Baby Care >> Baby Grooming >> Cotton Buds >> SJ Cotton Buds >> SJ Tulip multi use cotton Balls (Pack of 100)",
          "Home Decor & Festive Needs >> Table Decor & Handicrafts >> Table Decor >> Hookah Mouth Tips",
          "Home Decor & Festive Needs >> Table Decor & Handicrafts >> Table Decor >> Hookah Mouth Tips >> Ech oly Hookah Mouth Tips",
          "Home Decor & Festive Needs >> Table Decor & Handicrafts >> Table Decor >> Hookah Mouth Tips >> Ech oly Hookah Mouth Tips >> Ech oly Ceramic Inside Fitting Hookah Mouth Tip ...",
          "Beauty and Personal Care >> Fragrances >> Deodorants >> Sprays",
          "Beauty and Personal Care >> Fragrances >> Deodorants >> Sprays >> LAWMAN PG3 Sprays",
          "Beauty and Personal Care >> Fragrances >> Deodorants >> Sprays >> LAWMAN PG3 Sprays >> LAWMAN PG3 Striker,, Winger , Contender Deodoran...",
          "Baby Care >> Infant Wear >> Baby Boys' Clothes >> Polos & T-Shirts >> Toons Polos & T-Shirts",
          "Baby Care >> Infant Wear >> Baby Boys' Clothes >> Polos & T-Shirts >> Toons Polos & T-Shirts >> Toons Printed Baby Boy's Round Neck T-Shirt",
          "Computers >> Laptop Accessories >> Computer Accessories Combos",
          "Computers >> Laptop Accessories >> Computer Accessories Combos >> PRINT SHAPES Computer Accessories Combos",
          "Computers >> Laptop Accessories >> Computer Accessories Combos >> PRINT SHAPES Computer Accessories Combos >> PRINT SHAPES red Heart Laptop Skin with Mouse pa...",
          "Beauty and Personal Care >> Body and Skin Care >> Lip Care >> Lip Balms",
          "Beauty and Personal Care >> Body and Skin Care >> Lip Care >> Lip Balms >> Good Way Lip Balms",
          "Beauty and Personal Care >> Body and Skin Care >> Lip Care >> Lip Balms >> Good Way Lip Balms >> Good Way Peppermint Lip Balm Pepper (8 g)",
          "Home Furnishing >> Curtains & Accessories >> Curtains >> Aroma Comfort Polyester Cream Self Design Eyelet...",
          "Computers >> Laptop Accessories >> Computer Accessories Combos >> PRINT SHAPES Computer Accessories Combos >> PRINT SHAPES Sony headphone Laptop Skin with Mou...",
          "Computers >> Laptop Accessories >> Computer Accessories Combos >> PRINT SHAPES Computer Accessories Combos >> PRINT SHAPES Power of roman reigns Laptop Skin w...",
          "Home Furnishing >> Curtains & Accessories >> Curtains >> Aroma Comfort Polyester Blue Floral Eyelet Long ...",
          "Computers >> Laptop Accessories >> Computer Accessories Combos >> PRINT SHAPES Computer Accessories Combos >> PRINT SHAPES roronoa Zora Laptop Skin with Mouse...",
          "Home Furnishing >> Curtains & Accessories >> Curtains >> Aroma Comfort Polyester Brown Floral Eyelet Long...",
          "Computers >> Computer Components >> RAMs",
          "Computers >> Computer Components >> RAMs >> Transcend RAMs",
          "Computers >> Computer Components >> RAMs >> Transcend RAMs >> Transcend Premium Memory DDR2 2 GB (1x2GB) PC SD...",
          "Computers >> Laptop Accessories >> Computer Accessories Combos >> PRINT SHAPES Computer Accessories Combos >> PRINT SHAPES doraemon Laptop Skin with Mouse pad...",
          "Computers >> Laptop Accessories >> Computer Accessories Combos >> PRINT SHAPES Computer Accessories Combos >> PRINT SHAPES monster university party Laptop Ski...",
          "Home Furnishing >> Curtains & Accessories >> Curtains >> Aroma Comfort Polyester Green Self Design Eyelet...",
          "Home Furnishing >> Curtains & Accessories >> Curtains >> Aroma Comfort Polyester Brown Self Design Eyelet...",
          "Computers >> Laptop Accessories >> Computer Accessories Combos >> PRINT SHAPES Computer Accessories Combos >> PRINT SHAPES Graphic Dancer Laptop Skin with Mou...",
          "Home Furnishing >> Curtains & Accessories >> Curtains >> Aroma Comfort Polyester Brown Printed Eyelet Win...",
          "Beauty and Personal Care >> Health Care >> Medicines & Treatment",
          "Beauty and Personal Care >> Health Care >> Medicines & Treatment >> First Aid",
          "Beauty and Personal Care >> Health Care >> Medicines & Treatment >> First Aid >> Hot & Cold Packs",
          "Beauty and Personal Care >> Health Care >> Medicines & Treatment >> First Aid >> Hot & Cold Packs >> OMRD Hot & Cold Packs",
          "Beauty and Personal Care >> Health Care >> Medicines & Treatment >> First Aid >> Hot & Cold Packs >> OMRD Hot & Cold Packs >> OMRD RD6697 Hot and cold Pack (GREEN)",
          "Beauty and Personal Care >> Hair Care >> Shampoos",
          "Beauty and Personal Care >> Hair Care >> Shampoos >> Kerastase Shampoos",
          "Beauty and Personal Care >> Hair Care >> Shampoos >> Kerastase Shampoos >> Kerastase Nutritive Bain Satin 1 Complete Nutrit...",
          "Computers >> Laptop Accessories >> Computer Accessories Combos >> PRINT SHAPES Computer Accessories Combos >> PRINT SHAPES mary and max cartoon Laptop Skin wi...",
          "Home Furnishing >> Curtains & Accessories >> Curtains >> Aroma Comfort Polyester Dark Blue Plain Eyelet W...",
          "Computers >> Laptop Accessories >> Computer Accessories Combos >> PRINT SHAPES Computer Accessories Combos >> PRINT SHAPES Peacock Feather Laptop Skin with Mo...",
          "Computers >> Laptop Accessories >> Computer Accessories Combos >> PRINT SHAPES Computer Accessories Combos >> PRINT SHAPES despicable me 2 looking upwards Lap...",
          "Computers >> Laptop Accessories >> Computer Accessories Combos >> PRINT SHAPES Computer Accessories Combos >> PRINT SHAPES Red bull Laptop Skin with Mouse pad...",
          "Beauty and Personal Care >> Health Care >> Medical Equipment & Accessories",
          "Beauty and Personal Care >> Health Care >> Medical Equipment & Accessories >> Surgical e Sstudio Medical Equipment & Accessories",
          "Beauty and Personal Care >> Health Care >> Medical Equipment & Accessories >> Surgical e Sstudio Medical Equipment & Accessories >> Surgical e Sstudio S0004 Gown, Pant Hospital Scr...",
          "Home Decor & Festive Needs >> Showpieces >> Fengshui >> Reiki Crystal Products Fengshui >> Reiki Crystal Products Showpiece  -  6 cm (Brass...",
          "Baby Care >> Baby & Kids Gifts >> Stickers",
          "Baby Care >> Baby & Kids Gifts >> Stickers >> Elite Collection Stickers",
          "Baby Care >> Baby & Kids Gifts >> Stickers >> Wallmantra Stickers",
          "Baby Care >> Baby & Kids Gifts >> Stickers >> WallDesign Stickers",
          "Baby Care >> Baby & Kids Gifts >> Stickers >> 999store Stickers",
          "Baby Care >> Baby & Kids Gifts >> Stickers >> Oren Empower Stickers",
          "Baby Care >> Baby & Kids Gifts >> Stickers >> Uberlyfe Stickers"
         ],
         "labels": [
          "Home Furnishing",
          "Curtains & Accessories",
          "Curtains",
          "Elegance Polyester Multicolor Abstract Eyelet Do...",
          "Baby Care",
          "Baby Bath & Skin",
          "Baby Bath Towels",
          "Sathiyas Baby Bath Towels",
          "Sathiyas Cotton Bath Towel (3 Bath Towel, Red, Y...",
          "Eurospa Baby Bath Towels",
          "Eurospa Cotton Terry Face Towel Set (20 PIECE FA...",
          "Bed Linen",
          "Bedsheets",
          "SANTOSH ROYAL FASHION Bedsheets",
          "SANTOSH ROYAL FASHION Cotton Printed King sized ...",
          "Jaipur Print Bedsheets",
          "Jaipur Print Cotton Floral King sized Double Bed...",
          "Watches",
          "Wrist Watches",
          "Maserati Time Wrist Watches",
          "Camerii Wrist Watches",
          "T STAR Wrist Watches",
          "Alfajr Wrist Watches",
          "TAG Heuer Wrist Watches",
          "Calibro Wrist Watches",
          "Cartier Wrist Watches",
          "Lois Caron Wrist Watches",
          "Titan Wrist Watches",
          "Srushti Art Jewelry Wrist Watches",
          "Escort Wrist Watches",
          "Jack klein Wrist Watches",
          "North Moon Wrist Watches",
          "Franck Bella Wrist Watches",
          "Ridas Wrist Watches",
          "Skmei Wrist Watches",
          "Now Wrist Watches",
          "fastrack Wrist Watches",
          "Disney Wrist Watches",
          "Vizion Wrist Watches",
          "Elantra Wrist Watches",
          "Marvel Wrist Watches",
          "Lenco Wrist Watches",
          "D'Signer Wrist Watches",
          "Living Room Furnishing",
          "Diwan Sets",
          "SANTOSH ROYAL FASHION Diwan Sets",
          "SANTOSH ROYAL FASHION Cotton Embroidered Diwan Set",
          "Duvet Covers",
          "House This Duvet Covers",
          "House This Queen Cotton Duvet Cover (Grey)",
          "Bath Linen",
          "Bath Mats",
          "Home Decor & Festive Needs",
          "Candles & Fragrances",
          "Home Fragrances",
          "Aroma Oils",
          "Myesquire Aroma Oils",
          "Kitchen & Dining",
          "Tableware & Cutlery",
          "Jug, Glass & Tray Sets",
          "Dungri India Craft Jug, Glass & Tray Sets",
          "Dungri India Craft Ducjug010-ducgl012-2 Jug Glas...",
          "Lighting",
          "Bulbs",
          "BFT Bulbs",
          "BFT 6 W LED Bulb (White)",
          "JMD Home Furnishing",
          "JMD Printed Cushions Cover (Pack of 2, 40 cm*40 ...",
          "Infant Wear",
          "Baby Girls' Clothes",
          "Innerwear & Sleepwear",
          "Night Suits",
          "Mom and Kid Night Suits",
          "Mom and Kid Baby Girl's Printed Green Top & Pyja...",
          "Kripa's Home Furnishing",
          "Kripa's Printed Cushions Cover (Pack of 2, 45 cm...",
          "Mom and Kid Baby Girl's Printed Blue, Grey Top &...",
          "Beauty and Personal Care",
          "Hair Care",
          "Conditioners",
          "Burt s Bees Conditioners",
          "Burt s Bees Hair Repair Shea And Grapefruit Deep...",
          "Coffee Mugs",
          "AKUP Coffee Mugs",
          "AKUP i-loves-music Ceramic Mug (300 ml)",
          "AKUP i-love-my-mom Ceramic Mug (300 ml)",
          "AKUP keep-calm Ceramic Mug (300 ml)",
          "Computers",
          "Network Components",
          "Routers",
          "D-Link Routers",
          "D-Link DAP1320 (White)",
          "AKUP league-of-legends Ceramic Mug (300 ml)",
          "Suave Conditioners",
          "Suave Naturals Everlasting Sunshine Conditioner ...",
          "AKUP life-is-not-living Ceramic Mug (300 ml)",
          "Tablet Accessories",
          "Keyboards",
          "RoQ Keyboards",
          "RoQ Slim Multimedia 105key Flexible Wired USB Fl...",
          "Cookware",
          "Casserole & Sets",
          "Cookart Casserole & Sets",
          "Cookart Elegant S.S. Handi With Hot Pot Pack of ...",
          "Laptop Accessories",
          "USB Gadgets",
          "JRB USB Gadgets",
          "JRB 1038 Smallest Mobile Powered By OTG Enabled ...",
          "JRB 1033 Smallest Mobile Powered By OTG Enabled ...",
          "JRB 1042 Smallest Mobile Powered By OTG Enabled ...",
          "Makeup",
          "Vanity Boxes",
          "Borse Vanity Boxes",
          "Combos and Kits",
          "RYTHMX Combos and Kits",
          "RYTHMX FB NAIL POLISHES BLACK LIPSTICKS IMPORTAN...",
          "Brillare Science Combos and Kits",
          "Brillare Science Dandruff Control Shampoo & Inte...",
          "Mars Combos and Kits",
          "Mars Queen Eye Liner, Lip Gloss, EyeLiner (Set o...",
          "Nails",
          "Nail Polishes",
          "Aroma Care Nail Polishes",
          "Aroma Care Intense Color Nail Polish Combo 17505...",
          "Feeding & Nursing",
          "Bottles & Accessories",
          "Bottle Covers",
          "KOHL Bottle Covers",
          "KOHL Wine Bag Yellow (Yellow)",
          "Shopmania Coffee Mugs",
          "Shopmania Happy Birthday Gift For Starting Lette...",
          "Baby Bedding",
          "Baby Mattresses",
          "CHHOTE JANAB Baby Mattresses",
          "CHHOTE JANAB COZY MATTRESS PROTECTOR(SET OF 2) (...",
          "Kitchen & Dining Linen",
          "Table Covers",
          "Prime Printed 4 Seater Table Cover (Multicolor, ...",
          "Containers & Bottles",
          "Lunch Boxes",
          "SKI Lunch Boxes",
          "SKI WINNER GIFT SET SKYBLUE02 2 Containers Lunch...",
          "GAYATRI CREATIONS Lunch Boxes",
          "GAYATRI CREATIONS ORANGE KIDS SET 2 Containers L...",
          "Consumables & Disposables",
          "Bowls",
          "Caffeine Bowls",
          "Caffeine Handmade Tribal Print Influenced Katori...",
          "Prime Printed 8 Seater Table Cover (Multicolor, ...",
          "Bottles & Sippers",
          "Water bottle",
          "Garnet Water bottle",
          "Garnet Traveller 1500 ml Bottle (Pack of 6, Mult...",
          "Shorts & Trousers",
          "Shorts",
          "Vitamins Shorts",
          "Vitamins Solid Baby Girl's Basic Shorts",
          "Vitamins Graphic Print Baby Girl's Basic Shorts",
          "Vitamins Embroidered Baby Girl's Denim Shorts",
          "KE Vanity Boxes",
          "KE GIFT BOX STOR JEWELLARY Vanity Jewellery (BLUE)",
          "Lips",
          "Lip Liners",
          "Giorgio Armani Lip Liners",
          "Giorgio Armani SMOOTH SILK LIP PENCIL 12 (Soyeux...",
          "Jaipur Print Diwan Sets",
          "Jaipur Print Cotton Floral Diwan Set",
          "Baby Boys' Clothes",
          "Accessories",
          "Caps",
          "florence9 Caps",
          "florence9 baby cap red checks Cap",
          "Wall Decor & Clocks",
          "Key Holders",
          "VarEesha Key Holders",
          "VarEesha Wooden Key Holder (8 Hooks, Multicolor)",
          "Table Decor & Handicrafts",
          "Showpieces",
          "Fengshui",
          "Treasure Fengshui",
          "Treasure Showpiece  -  23 cm (Polyresin, Blue)",
          "Baby Mosquito Nets",
          "CHINMAY KIDS Baby Mosquito Nets",
          "CHINMAY KIDS Printed Cotton Padded Mosquito Net ...",
          "Combo Sets",
          "HEAVENLY Combo Sets",
          "HEAVENLY Dress Baby Boy's  Combo",
          "Flowers, Plants & Vases",
          "Flower Vase",
          "@home Flower Vase",
          "@home Glass Vase (18 inch, Grey)",
          "Wall Decals & Stickers",
          "Smart Wall Guru Wall Decals & Stickers",
          "Smart Wall Guru Medium Adhesive Sticker (Pack of 1)",
          "Pots & Pans",
          "Pans & Tawas",
          "oxford Pans & Tawas",
          "oxford Tawa 15 cm cm diameter (Aluminium, Non-st...",
          "Software",
          "Language Learning",
          "Physical",
          "Eureka.in Physical",
          "Eureka.in GSEB Class VII (Pen drive)",
          "Coasters",
          "Craft Trade Coasters",
          "Craft Trade Oval Wood Coaster Set (Brown, Pack o...",
          "Showpieces",
          "Parv Collections Showpieces",
          "Exotic India Showpieces",
          "Aapno Rajasthan Showpieces",
          "BeYOUtiful Showpieces",
          "Religious Idols",
          "Exotic India Religious Idols",
          "Human Figurines",
          "My Angel Human Figurines",
          "Diviniti Religious Idols",
          "Kuber Industries Vanity Boxes",
          "Thar Handloom Vanity Boxes",
          "Goldencollections Vanity Boxes",
          "K&P Religious Idols",
          "K&P Lord Ganesha Regular 16 Showpiece  -  13 cm ...",
          "Blankets, Quilts & Dohars",
          "Furniture & Furnishings",
          "Inflatable Products",
          "Bestway Inflatable Products",
          "Remtex Export Cartoon Single Dohar Multicolor (1...",
          "Ethnic Wear",
          "Salwar Kurta Dupattas",
          "TWISHA Salwar Kurta Dupattas",
          "TWISHA Printed Kurti & Salwar",
          "Decorative Lighting & Lamps",
          "Table Lamps",
          "Eternity Table Lamps",
          "Eternity Handcrafted unique Mosaic Glass Table L...",
          "Bodysuits & Sleepsuits",
          "Sleepsuits",
          "FS Mini Klub Sleepsuits",
          "FS Mini Klub Baby Boy's Sleepsuit",
          "Sippers",
          "Omic Sippers",
          "Omic Poto-Blue 1000 ml Sipper (Pack of 1, Blue)",
          "Baby Grooming",
          "Baby Grooming Combos",
          "Lollipop Lane Baby Grooming Combos",
          "Computer Peripherals",
          "Printers & Inks",
          "Toners",
          "Filink Toners",
          "Recrafto Religious Idols",
          "Bodysuits",
          "Anthill Bodysuits",
          "Mouse Pads",
          "FRENEMY Mouse Pads",
          "FRENEMY MPAD271 Mousepad (Multicolor)",
          "Cushions, Pillows & Covers",
          "Cushion Covers",
          "Quilt India Floral Cushions Cover (77 cm, Gold)",
          "Toffyhouse Sleepsuits",
          "Toffyhouse Baby Boy's Sleepsuit",
          "Storage",
          "Pen Drives",
          "Shopizone Pen Drives",
          "Shopizone BMW Wheel 32 GB  Pen Drive (Black)",
          "Craftcart Key Holders",
          "Craftcart Parrot Antique Brass Key Holder (5 Hoo...",
          "Health Care",
          "Health Care Devices",
          "Electrotherapy",
          "SOS Electrotherapy",
          "SOS COMPUTRISED LCD INTRFERENTIAL UNIT-125PROG. ...",
          "Body and Skin Care",
          "Hand Care",
          "Manicure and Kits",
          "Sally Hansen Manicure and Kits",
          "Svayam Manicure and Kits",
          "Go Bonjour Manicure and Kits",
          "Table Decor",
          "Hookah & Hookah Flavours",
          "Hookah",
          "Arsalan Hookah",
          "Prithish Coffee Mugs",
          "Rockmantra Coffee Mugs",
          "Rajesh Digital Coffee Mugs",
          "Printland Coffee Mugs",
          "Returnfavors Coffee Mugs",
          "Kitchen Tools",
          "Kitchen Implements",
          "Pizza Cutters",
          "Famous Pizza Cutters",
          "Rastogi Handicrafts Showpieces",
          "NEHP Showpieces",
          "S C Handicrafts Showpieces",
          "Ethnic",
          "Tatvaarts Ethnic",
          "Sam Pizza Cutters",
          "Surface180 Ethnic",
          "Step4deal Pizza Cutters",
          "MA Design Hut Showpieces",
          "Lal Haveli Ethnic",
          "Dungarees & Jumpsuits",
          "Jumpsuits",
          "Earth Conscious Jumpsuits",
          "Purpledip Showpieces",
          "Tirupati Pizza Cutters",
          "Shoppingtara Showpieces",
          "Orange Tree Showpieces",
          "Unique Design Ethnic",
          "Port Showpieces",
          "King International Pizza Cutters",
          "Go Hooked Pizza Cutters",
          "RoyalsCart Ethnic",
          "Apex Pizza Cutters",
          "MCB Exports Ethnic",
          "Poppins Jumpsuits",
          "Purpledip Ethnic",
          "Agromech Pizza Cutters",
          "Tiedribbons Showpieces",
          "Rajo Raja Ethnic",
          "Surface 180 Ethnic",
          "Sovam International Ethnic",
          "The Ethnic Story Ethnic",
          "Woks & Kadhais",
          "JSM Woks & Kadhais",
          "Celebrity Pizza Cutters",
          "Unique Design Showpieces",
          "Metallino Woks & Kadhais",
          "Ruchiworld Ethnic",
          "Kosher Woks & Kadhais",
          "Recon Woks & Kadhais",
          "Indian Art Villa Woks & Kadhais",
          "Suruchi Woks & Kadhais",
          "Bergner Woks & Kadhais",
          "Kalash Woks & Kadhais",
          "Peacock Woks & Kadhais",
          "Leo Natura Woks & Kadhais",
          "Malhar Showpieces",
          "Sumeet Woks & Kadhais",
          "TRUE Home Decor & Festive Needs",
          "The Crafts House Showpieces",
          "Jaipan Woks & Kadhais",
          "Unravel India Showpieces",
          "Ruchikainternational Ethnic",
          "Nirlon Woks & Kadhais",
          "Monil Ethnic",
          "Pristine Woks & Kadhais",
          "Woodino Handicrafts Showpieces",
          "Unique Handicrafts Showpieces",
          "Pigeon Woks & Kadhais",
          "Sahara Q Shop Woks & Kadhais",
          "Mom Italy Pizza Cutters",
          "Mavi Showpieces",
          "Ndura Woks & Kadhais",
          "Supreme Cookwares Woks & Kadhais",
          "Dungarees",
          "Babeezworld Dungarees",
          "Babeezworld Baby Boy's Romper",
          "Pittsburgh Polo Club Wrist Watches",
          "Pittsburgh Polo Club PBPC-505-GRN Analog Watch  ...",
          "palito Wrist Watches",
          "palito PLO 169 Analog Watch  - For Girls, Women",
          "Adino Wrist Watches",
          "Adino ADF04 Analog Watch  - For Girls",
          "ESIDON Wrist Watches",
          "ESIDON AKADA06 Analog Watch  - For Women",
          "palito PLO 166 Analog Watch  - For Girls, Women",
          "Living",
          "Sofa Covers",
          "Bhavya Velvet Sofa Cover (Grey Pack of 10)",
          "cherry crumble california Dungarees",
          "cherry crumble california Baby Boy's Dungaree",
          "Yves Bertelin Wrist Watches",
          "Yves Bertelin YBSCR557 Analog Watch  - For Women",
          "Showpiece",
          "Contemporary",
          "Services Junction Contemporary",
          "Services Junction Beautiful Black and Golden col...",
          "palito PLO 149 Analog Watch  - For Girls, Women",
          "V9 Wrist Watches",
          "V9 METAL STRAP Analog Watch  - For Men",
          "Dreamshomes Velvet Sofa Cover (Multicolour Pack ...",
          "Kandyfloss Dungarees",
          "Kandyfloss Baby Boy's, Baby Girl's Romper",
          "Services Junction Gold Plated Ganesh Idol Showpi...",
          "Brahmz Table Lamps",
          "Brahmz Glass Mossiac Table Lamp (18 cm, Multi Co...",
          "Dresses & Skirts",
          "Dresses",
          "MKB Dresses",
          "MKB Baby Girl's Shirt Dress",
          "Toddla Dresses",
          "Toddla Baby Girl's Gathered Dress",
          "Baby Moshai Dresses",
          "Baby Moshai Baby Girl's A-line Dress",
          "My Little Lambs Dresses",
          "My Little Lambs Baby Girl's Gathered Dress",
          "Bar & Glassware",
          "Bar Accessories",
          "Bottle Openers",
          "arnavs Bottle Openers",
          "arnavs Multi1 Bottle Opener Set",
          "CPU",
          "I Ball CPU",
          "I Ball IBCTDC 160/2gb/DDR2 with Dual Core 2 RAM ...",
          "Polos & T-Shirts",
          "Globe Polos & T-Shirts",
          "Globe Graphic Print Baby Boy's Round Neck Orange...",
          "Hand Juicers",
          "JayEnterprise Hand Juicers",
          "JayEnterprise Plastic Hand Juicer (Multicolor)",
          "Craftuno Ethnic",
          "Lids",
          "Elephant Lids",
          "Body Fat Analyzers",
          "Equinox Body Fat Analyzers",
          "Nihar Ethnic",
          "Homedesires Ethnic",
          "Pg handicrafts Ethnic",
          "Ravishing Variety Ethnic",
          "Infinity India Ethnic",
          "Linksys Routers",
          "Fragrances",
          "Deodorants",
          "Combos",
          "Wild Stone Combos",
          "Intex Routers",
          "Adidas Combos",
          "Vincent Valentine Paris Combos",
          "Denver Combos",
          "Archies Combos",
          "Asus Routers",
          "Layer'r Combos",
          "Apple Routers",
          "Tenda Routers",
          "Huawei Routers",
          "Anna Andre Paris Combos",
          "TRENDnet Routers",
          "Edimax Routers",
          "Park Avenue Combos",
          "Binatone Routers",
          "KamaSutra Combos",
          "Arabian Nights Combos",
          "Engage Combos",
          "Belkin Routers",
          "Envy-1000 Combos",
          "Yardley Combos",
          "Nivea Combos",
          "Zyxel Routers",
          "TP-LINK Routers",
          "Playboy Combos",
          "Spinz Combos",
          "Nike Combos",
          "Aero Care Combos",
          "Beverly Hills Polo Club Combos",
          "Netgear Routers",
          "Addiction Combos",
          "iBall Routers",
          "ENVY 1000 Combos",
          "Netis Routers",
          "French Factor Combos",
          "Fogg Combos",
          "Denim Combos",
          "Cinthol Combos",
          "Airtel Routers",
          "Digisol Routers",
          "Ajmal Combos",
          "Women's Hygiene",
          "Combo & kits",
          "Clear Face Combo & kits",
          "Clear Face Kesar Chandan Multivitamin Nourishing...",
          "Cases & Covers",
          "YGS Cases & Covers",
          "YGS Keyboard Case for Asus Memo Pad 7in Tab (Pink)",
          "Hair Care Accessories",
          "Hair Accessories",
          "Majik Hair Accessories",
          "Majik Styling Decoration Hair Clip (Multicolor)",
          "Portable Projectors",
          "Zingalalaa Portable Projectors",
          "Zingalalaa LP-50 50 lm LED Corded Portable Proje...",
          "Diapering & Potty Training",
          "Changing Tables",
          "BASRA Changing Tables",
          "BASRA uepgrn Green Changing Table",
          "Adapters",
          "Smartpro Adapters",
          "Smartpro 19.5v,3.9a Replacement Charger for Vaio...",
          "Strollers & Activity Gear",
          "Strollers & Prams",
          "Graco Strollers & Prams",
          "Graco LiteRider Click Connect � Marco (Multicolor)",
          "Bar Glasses",
          "ocean Bar Glasses",
          "ocean VGLASS0051 (325 ml, Clear, Pack of 6)",
          "Fengshui",
          "Reiki Crystal Products Fengshui",
          "Reiki Crystal Products Showpiece  -  8 cm (Cryst...",
          "HomeEdge Health Care Devices",
          "HomeEdge Solid Wood King Bed (Finish Color -  Na...",
          "Dungarees & Jumpsuits",
          "Jumpsuits",
          "Budding Bees Jumpsuits",
          "Budding Bees Printed Baby Girl's Jumpsuit",
          "Table Linen Sets",
          "JewelKraft Designs Brown, Pink Table Linen Set",
          "Baby Sleeping Bags",
          "Baby Bucket Baby Sleeping Bags",
          "Baby Bucket SHERIN MULTI BEAR Sleeping Bag (Green)",
          "Pulse Oximeters",
          "NAMS Pulse Oximeters",
          "NAMS 06 Fully Automatic Pulse Oximeter (White)",
          "Bodysuits & Sleepsuits",
          "Sleepsuits",
          "Rute Sleepsuits",
          "Rute Baby Girl's Sleepsuit",
          "Tidy Home Furnishing",
          "Tidy Printed Cushions Cover (Pack of 9, 50 cm*50...",
          "JBC Collection Bedsheets",
          "JBC Collection Cotton Printed Single Bedsheet (1...",
          "Laptop Adapters",
          "Hako Laptop Adapters",
          "Hako 45W Magsafe Laptop Charger For APPLE MacBoo...",
          "Hako 85W Magsafe Laptop Charger For APPLE MacBoo...",
          "Hako 60W Magsafe Laptop Charger For APPLE MacBoo...",
          "Baby Shower Caps",
          "3kFactory Baby Shower Caps",
          "3kFactory Baby Shower Cap- Purple",
          "Saba Garments Dresses",
          "Saba Garments Baby Girl's Gathered Dress",
          "Winter & Seasonal Wear",
          "Jackets",
          "Upside Down Jackets",
          "Upside Down Sleeveless Applique Baby Girl's, Bab...",
          "Lushomes Living Room Furnishing",
          "Lushomes Plain Back Cushion (Pack of5, Brown)",
          "Pressure Cookers & Pans",
          "Prestige Pressure Cookers & Pans",
          "Milton Bottles & Sippers",
          "HP Pen Drives",
          "HP v220w 16 GB  Pen Drive (Silver, Black)",
          "TIGI BED HEAD Conditioners",
          "TIGI BED HEAD COLOUR GODDESS OIL INFUSED CONDITI...",
          "Beebay Dresses",
          "Beebay Baby Girl's Fit and Flare Dress",
          "Steamers & Idli Makers",
          "Idli Makers",
          "vatika Idli Makers",
          "vatika Advance Standard Idli Maker (7 Plates , 1...",
          "Amit Carpet Polyester Medium Door Mat ACI2016034...",
          "Hair Colors",
          "Garnier Hair Colors",
          "Garnier Nutrisse Haircolor Hair Color (43 Dark G...",
          "Fs Mini Klub Dresses",
          "Fs Mini Klub Baby Girl's Fit and Flare Dress",
          "Chokree Dresses",
          "Chokree Baby Girl's, Girl's A-line Dress",
          "Shorts & Trousers",
          "Track Pants",
          "Shaun Track Pants",
          "Shaun Printed Baby Boy's Yellow, Grey, Black Tra...",
          "Shaun Solid Baby Boy's Grey, Dark Blue Track Pants",
          "Tks Baby Bath Towels",
          "Tks Cotton Hair Towel (1 Hair towel, Orange)",
          "Ocean Bar Glasses",
          "Ocean CPGW087 (280 ml, Clear, Pack of 6)",
          "OGX Conditioners",
          "OGX Sunkissed Blonde Lemon Highlights Conditione...",
          "giftsthatwow Bar Glasses",
          "giftsthatwow GTW-G-04 (300 ml, White, Pack of 1)",
          "giftsthatwow GTW-G-06 (600 ml, White, Pack of 1)",
          "Bath and Spa",
          "Body and Essential Oils",
          "Allin Exporters Body and Essential Oils",
          "Allin Exporters Fennel Oil (Co2 Extract) (30 ml)",
          "Art n Beyond Bar Glasses",
          "Art n Beyond 150013 (300 ml, Clear, Pack of 6)",
          "Allin Exporters Cumin Seed Oil (Co2 Extract) (25...",
          "Kitchen Linen Sets",
          "Cotonex Black, White Cotton Kitchen Linen Set (P...",
          "Cotonex Blue, White Cotton Kitchen Linen Set (Pa...",
          "Cotonex Yellow, Green Cotton Kitchen Linen Set (...",
          "Batteries",
          "Lapguard Batteries",
          "HP Batteries",
          "ARB Batteries",
          "4D Batteries",
          "Clublaptop Batteries",
          "Rega IT Batteries",
          "Sonata Wrist Watches",
          "Times Wrist Watches",
          "Maxima Wrist Watches",
          "Nexus Wrist Watches",
          "Logues Wrist Watches",
          "Global Nomad Wrist Watches",
          "Noise Wrist Watches",
          "SF by Sonata Wrist Watches",
          "Fluid Wrist Watches",
          "HMT Wrist Watches",
          "Timewel Wrist Watches",
          "Petrol Wrist Watches",
          "Only Kidz Wrist Watches",
          "Kool Kidz Wrist Watches",
          "Olvin Wrist Watches",
          "Fastrack Wrist Watches",
          "Hourglass Wrist Watches",
          "Gift Island Wrist Watches",
          "Flippd Wrist Watches",
          "Neo Classic Wrist Watches",
          "Cleaning Kits",
          "Shopfloor.XYZ Cleaning Kits",
          "Shopfloor.XYZ Vacuum Cleaner for Computers, Lapt...",
          "Leggings & Jeggings",
          "Babyoye Premium Leggings & Jeggings",
          "Babyoye Premium Baby Girl's Grey Leggings",
          "Cushions",
          "Furnishing Zone Cushions",
          "Furnishing Zone Printed Back Cushion (Pack of2, ...",
          "Babyoye Premium Baby Girl's Multicolor Leggings ...",
          "GREENWICH Leggings & Jeggings",
          "GREENWICH Baby Girl's Black Jeggings",
          "Artificial Plants",
          "Miracle Retail Artificial Plants",
          "Miracle Retail Bonsai Wild Plant Artificial Plan...",
          "Mayursflora Artificial Plants",
          "Mayursflora Bonsai Aloe, Maple, Arecaceae, Palm,...",
          "V Creations Artificial Plants",
          "V Creations Bonsai Cactus Artificial Plant  with...",
          "LITTLE FEETZ Night Suits",
          "LITTLE FEETZ Baby Girl's Solid Top & Skirt Set",
          "Saco Keyboards",
          "Next Steps Dresses",
          "Wall Shelves",
          "R&Mshoppee Wall Shelves",
          "R&Mshoppee MDF Wall Shelf (Number of Shelves - 1...",
          "posterchacha Coffee Mugs",
          "posterchacha Ishita Personalised Custom Name Hap...",
          "Curren Nx Wrist Watches",
          "Curren Nx Blue Dial Stiched Strap Analog Watch  ...",
          "Laptops",
          "HP Laptops",
          "Soulful Threads Vanity Boxes",
          "Soulful Threads Red Thread Aari Embroidered Blac...",
          "Aapno Rajasthan Vanity Boxes",
          "Aapno Rajasthan Lovely Jewellery Vanity Jeweller...",
          "MohanJodero Vanity Boxes",
          "MohanJodero Jewellery Box Jewellery Vanity Jewel...",
          "Garden & Leisure",
          "Hammocks & Swings",
          "Hammocks",
          "Rrsskids Hammocks",
          "Rrsskids Swing King Cotton Hammock (White)",
          "Smart Wall Guru Large Adhesive Sticker Sticker (...",
          "Ally The Creations Printed Cushions Cover (Pack ...",
          "Bibs & Hankies",
          "Bibs",
          "Cheeky Chompers Bibs",
          "Cheeky Chompers The Neckerchew - Simple Classic ...",
          "Piyo Piyo Bibs",
          "Piyo Piyo Four Stage Waterproof Bib (Yellow)",
          "Innovative Wall Shelves",
          "Innovative Single Corner Stainless Steel Wall Sh...",
          "Boreal Baby Grooming",
          "Boreal Plastic rectangular hair brush 633D",
          "Pokizo Dresses",
          "Pokizo Baby Girl's A-line Dress",
          "Titrit Dresses",
          "Titrit Baby Girl's Gathered Dress",
          "Young Birds Dresses",
          "Young Birds Baby Girl's Fit and Flare Dress",
          "FS Mini Klub Bodysuits",
          "FS Mini Klub Baby Boy's Bodysuit",
          "chota packet Bodysuits",
          "chota packet Baby Boy's, Baby Girl's Bodysuit",
          "You Got Plan B Bodysuits",
          "You Got Plan B Baby Boy's, Baby Girl's Romper",
          "Diaper Bags",
          "Mee Mee Diaper Bags",
          "Mee Mee Multifunctional Nursery Diaper Bag (Dark...",
          "Zero Leggings & Jeggings",
          "Zero Baby Girl's Leggings (Pack of 3)",
          "Suits and Blazers",
          "Blazers",
          "Oxolloxo Blazers",
          "Oxolloxo Solid Single Breasted Casual Women's Bl...",
          "Lanterns",
          "SHOPOJ Lanterns",
          "SHOPOJ Blue Paper Sky Lantern (80 cm X 34 cm, Pa...",
          "Ville Style Polyester Maroon Floral Eyelet Door ...",
          "Sarah Hair Accessories",
          "Sarah Stylish Hair Claw (Brown)",
          "Cookware Pots",
          "Wonderchef Cookware Pots",
          "Wonderchef Windsor Roaster 26cm Pot 3.4 L (Alumi...",
          "T-Shirts & Tops",
          "Shrugs",
          "Kushies baby Shrugs",
          "Kushies baby Baby Girl's Shrug",
          "Wow! Dresses",
          "Wow! Baby Girl's Gathered Yellow Dress",
          "CHOCOBERRY Night Suits",
          "CHOCOBERRY Baby Girl's Printed White, Dark Blue ...",
          "Shorts",
          "Lilliput Shorts",
          "Lilliput Solid Baby Boy's Blue Cargo Shorts",
          "Jacadi Paris Dresses",
          "Jacadi Paris Baby Girl's Gathered Dark Blue Dress",
          "Wow! Baby Girl's Gathered Pink Dress",
          "Wow! Baby Girl's Gathered Red Dress",
          "Jacadi Paris Baby Girl's Gathered Blue Dress",
          "FS Mini Klub Shorts",
          "FS Mini Klub Printed Baby Boy's Multicolor Basic...",
          "Housekeeping & Laundry",
          "Home Cleaning",
          "Brooms & Brushes",
          "Geol Brooms & Brushes",
          "Geol Wooden Wet and Dry Broom (Brown, Pack of 1)",
          "Laptop Bags",
          "Sunlast Laptop Bags",
          "Sunlast 16 inch Laptop Backpack (Yellow)",
          "NammaBaby Night Suits",
          "NammaBaby Baby Girl's Animal Print Top & Pyjama Set",
          "Thakkar Night Suits",
          "Thakkar Baby Girl's Printed Top & Pyjama Set",
          "next steps Night Suits",
          "next steps Baby Girl's Striped Top & Pyjama Set",
          "Computer Components",
          "Processors",
          "Intel Processors",
          "Intel 3.2 GHz LGA 1150 3250 Processor (BLACK)",
          "MKB Baby Girl's Empire Waist Dress",
          "NeedyBee Dresses",
          "NeedyBee Baby Girl's Layered Dress",
          "Seals Dresses",
          "Seals Baby Girl's A-line Dress",
          "Chokree Baby Girl's A-line Dress",
          "Innerwear & Sleepwear",
          "Bloomers & Drawers",
          "Esteem Bloomers & Drawers",
          "Esteem Baby Boy's Drawer",
          "Clocks",
          "Wall Clocks",
          "KLOCX Wall Clocks",
          "KLOCX Analog Wall Clock (Black, With Glass)",
          "Marvel Baby Bath Towels",
          "Romex Wrist Watches",
          "The Intellect Bazaar Baby Bath Towels",
          "Baby & Kids Gifts",
          "Photo Frames",
          "Wood Beauty Photo Frames",
          "BornBabyKids Baby Bath Towels",
          "Utensils",
          "Sippers & Cups",
          "Munchkin Sippers & Cups",
          "Creative Width Decor Wall Decals & Stickers",
          "Divine Gifts & Artificial Jewellery Religious Idols",
          "Blue Bell Sippers & Cups",
          "Welhouse Baby Bath Towels",
          "Accessories",
          "Caps",
          "Portia Caps",
          "Ethnic Sets",
          "RTD Ethnic Sets",
          "Ornate Bulbs",
          "Shrikant Traders Baby Bath Towels",
          "MH Photo Frames",
          "NIKsales Bulbs",
          "Indha Craft Photo Frames",
          "VRCT Bulbs",
          "BabyBucket Baby Bath Towels",
          "Simoco Bulbs",
          "Neyth Baby Bath Towels",
          "AsiaCraft Religious Idols",
          "Soy Impulse Bulbs",
          "Cocovey Photo Frames",
          "Face Care",
          "Sunscreen",
          "VLCC Sunscreen",
          "Lotus Sunscreen",
          "Oshea Herbals Sunscreen",
          "Richfeel Sunscreen",
          "Keya Seth Sunscreen",
          "Jovees Sunscreen",
          "Whiteherbs Sunscreen",
          "Philips Bulbs",
          "Oriflame Sweden Sunscreen",
          "Aveeno Sunscreen",
          "La Roche-Posay Sunscreen",
          "Paintings",
          "Wallmantra Paintings",
          "Tallenge Paintings",
          "Table Placemats",
          "Vgstore Rectangular Pack of 6 Table Placemat (Da...",
          "Jaipur Raga Showpieces",
          "Golmaalshop Religious Idols",
          "Nappies & Cloth Diapers",
          "U & ME Nappies & Cloth Diapers",
          "MyKid Nappies & Cloth Diapers",
          "Pompom Sweethearts Nappies & Cloth Diapers",
          "Table Runners",
          "Craftartz Religious Idols",
          "HoA Nappies & Cloth Diapers",
          "Gift Studios Religious Idols",
          "Series Lights",
          "VRCT Series Lights",
          "VRCT 196 inch Green Rice Lights (Pack of 1)",
          "Lipsticks",
          "Foolzy Lipsticks",
          "Tidy Kitchen Linen Sets",
          "Tidy Green Cotton Kitchen Linen Set (Pack of 3)",
          "Sonpra Bodysuits",
          "Canon Toners",
          "Radhika's World of Crafts Religious Idols",
          "Bath and Spa Accessories",
          "Loofahs",
          "AntiqueShop Loofahs",
          "AntiqueShop ABKL_GRN_GRN_GRN",
          "AntiqueShop ABKL_PL_PNK_PNK",
          "AntiqueShop ABKL_PL_PL_PNK",
          "Religion & Devotion",
          "brass gift center Religion & Devotion",
          "brass gift center Showpiece  -  48 cm (Brass, Mu...",
          "Dinnerware & Crockery",
          "Cups & Saucers",
          "Buyer's Beach Cups & Saucers",
          "Buyer's Beach BB349 (Brown)",
          "Anti Dust Plugs",
          "Pindia Anti Dust Plugs",
          "Fogg Fashion Store Wrist Watches",
          "Nutcase Water bottle",
          "Mxofere Combos and Kits",
          "SVM Wrist Watches",
          "Fighter Wrist Watches",
          "Luba Wrist Watches",
          "Perucci Wrist Watches",
          "Chappin & Nellson Wrist Watches",
          "Oxyglow Combos and Kits",
          "Xemex Wrist Watches",
          "Baby Blankets",
          "Offspring Baby Blankets",
          "Ireeya Baby Blankets",
          "Carter'S Baby Blankets",
          "My NewBorn Baby Blankets",
          "RRTC Wrist Watches",
          "Baby Spoons & Forks",
          "Funcart Baby Spoons & Forks",
          "EZ Life Baby Spoons & Forks",
          "Love Baby Baby Bath Towels",
          "LUBA Wrist Watches",
          "Eye Care",
          "Wild Ferns Eye Care",
          "Ollington St. Collection Nappies & Cloth Diapers",
          "Rana Watches Wrist Watches",
          "R.S Wrist Watches",
          "Lapguard Adapters",
          "Rega IT Adapters",
          "Regent Wall Clocks",
          "eCraftIndia Wall Clocks",
          "Bharatcraft Showpiece",
          "Bharatcraft Wall Hanging Of Lord Ganesha On A Cr...",
          "Firstrace Wrist Watches",
          "CB Fashion Wrist Watches",
          "Timex Wrist Watches",
          "Casotec USB Gadgets",
          "Fonokase USB Gadgets",
          "Memore USB Gadgets",
          "Orico USB Gadgets",
          "Bigkik USB Gadgets",
          "Tapawire USB Gadgets",
          "Crystle USB Gadgets",
          "Amaze Fashion USB Gadgets",
          "RRP USB Gadgets",
          "Techone+ USB Gadgets",
          "Himtek USB Gadgets",
          "KLIQVIK USB Gadgets",
          "Epresent USB Gadgets",
          "Task Logistics USB Gadgets",
          "Trousers",
          "Feetje Trousers",
          "LUV USB Gadgets",
          "Rock USB Gadgets",
          "Generix USB Gadgets",
          "QP360 USB Gadgets",
          "Zaicus USB Gadgets",
          "Akshaj USB Gadgets",
          "Lifestyle-You USB Gadgets",
          "99Gems USB Gadgets",
          "De TechInn USB Gadgets",
          "Dizionario USB Gadgets",
          "Kensington USB Gadgets",
          "RCE Batteries",
          "Combo Sets",
          "kawal fashion Combo Sets",
          "kawal fashion Pyjama Baby Girl's  Combo",
          "Men's Grooming",
          "Sivanna Men's Grooming",
          "Sivanna Baking Powder Rouge  Highlighter (Dark p...",
          "Bodysuits",
          "Lula Bodysuits",
          "Lula Baby Girl's Dark Blue Bodysuit",
          "Towels",
          "Baby Massage Oils",
          "Shagun Gold Baby Massage Oils",
          "SSCP Body and Essential Oils",
          "Intex Inflatable Products",
          "Health Care Accessories",
          "Health Care Accessories",
          "KDS SURGICAL Health Care Accessories",
          "KDS SURGICAL Tripod Walking Stick",
          "Bharatcraft Contemporary",
          "Bharatcraft Showpiece  -  5 cm (Polyresin, Brown)",
          "Loreal Hair Colors",
          "Loreal Diarichesse No- 5 Light Brown ( Pack of 3...",
          "@home Earthy Wine Net Ceramic Vase (9.8250000000...",
          "Jugs & Pitchers",
          "Jugs",
          "Prisha India Craft Jugs",
          "Prisha India Craft m_jug015-1-prishaindia Water ...",
          "BRANDWAGON Paintings",
          "BRANDWAGON DIGIPRINT Digital Reprint Painting (1...",
          "Relaxfeel Baby Blankets",
          "Relaxfeel Floral Single Dohar White (AC Dohar)",
          "Posters",
          "STYLE CLUES FASHION Posters",
          "scarlet tanager bird normal POSTER Paper Print (...",
          "Mega product Posters",
          "good-night-angel-sleep-well-pics Paper Print (18...",
          "Shirts",
          "Fs Mini Klub Shirts",
          "Fs Mini Klub Baby Boy's Woven Casual Shirt",
          "Cotton On Kids Shirts",
          "Cotton On Kids Baby Boy's Printed Casual Shirt",
          "Hats",
          "Portia Hats",
          "Portia Hat (Pink, Pack of 1)",
          "Beebay Shirts",
          "Beebay Baby Boy's Checkered Casual Shirt",
          "Shoperite Posters",
          "painting_art_couple_love__Dance Paper Print (12 ...",
          "Urban Monk Posters",
          "Bourne Supermacy Canvas Art (18 inch X 12 inch, ...",
          "Clocks",
          "Table Clocks",
          "Like Table Clocks",
          "Like Analog Purple Clock",
          "612 League Shirts",
          "612 League Baby Boy's Checkered Casual Shirt",
          "FS Mini Klub Shirts",
          "FS Mini Klub Baby Boy's Woven Casual Shirt",
          "Wallpapers",
          "wallskart Wallpapers",
          "wallskart Floral & Botanical Wallpaper (35.56 cm...",
          "Megaway Series Lights",
          "Anjalika Religious Idols",
          "Digilight Series Lights",
          "Agrasen International Religious Idols",
          "Pinc Ginger Series Lights",
          "Elfani Lipsticks",
          "Home Delight Series Lights",
          "Adaa Showpieces",
          "Utsav Handicraft Religious Idols",
          "Incolor Lipsticks",
          "My Party Suppliers Series Lights",
          "GrandShop Series Lights",
          "eCraftIndia Showpieces",
          "Hookah Flavors",
          "Al Fakher Hookah Flavors",
          "Weldecor Series Lights",
          "Organistick Lipsticks",
          "Eshoppee Religious Idols",
          "Arabian Nights Hookah Flavors",
          "Shankh",
          "The Art Treasure Shankh",
          "Cutlery",
          "Forks",
          "Bhalaria Forks",
          "Bhalaria Dessert Fork Stainless Steel Dessert Fo...",
          "Floor Lamp",
          "Nutcase Floor Lamp",
          "Nutcase Multicolor Column Floor Lamp (31 cm)",
          "Floor Coverings",
          "Carpets & Rugs",
          "M S Rugs Pink, Blue Wool Dhurrie (120 cm  X 180 cm)",
          "GIMS Brown Viscose Carpet (165 cm  X 120 cm)",
          "Cotonex Beige Cotton Kitchen Linen Set (Pack of 2)",
          "FURNISHINGLAND Green Silk Carpet (60 cm  X 180 cm)",
          "FURNISHINGLAND Black Polyester Carpet (90 cm  X ...",
          "loomkart Blue Polyester Runner (55 cm  X 147 cm)",
          "FURNISHINGLAND Maroon Silk Carpet (60 cm  X 180 cm)",
          "Lip Care",
          "Lip Creams",
          "NYX Lip Creams",
          "NYX Set Of 2 Soft Matte Lip Cream 06,22 (Multi c...",
          "Kitchen Scissors",
          "Checkered Chef Kitchen Scissors",
          "Checkered Chef Steel All-Purpose Scissor (Red, B...",
          "Baby Bedsheets",
          "Mahadev Handicrafts Baby Bedsheets",
          "Mahadev Handicrafts Cotton Cartoon Double Bedshe...",
          "Sparklings Baby Bedsheets",
          "Sparklings Cotton Checkered Double Bedsheet (dou...",
          "Swastik Sofa Covers",
          "Swastik Velvet Sofa Cover (Multicolor Pack of 10)",
          "Bela Home Baby Bedsheets",
          "Bela Home Cotton Cartoon Single Bedsheet (1 Sing...",
          "Sparklings Cotton Geometric Double Bedsheet (dou...",
          "CALCULUS Shirts",
          "CALCULUS Baby Boy's Printed Casual Beige Shirt",
          "Gramophones",
          "ROYLE KATOCH Gramophones",
          "ROYLE KATOCH Showpiece  -  24 cm (Crystal, Woode...",
          "Jaycoknit Religion & Devotion",
          "Jaycoknit Mediterranean Sea's Lucky Wooden Handc...",
          "Jacadi paris Shirts",
          "Jacadi paris Baby Boy's Striped Casual Blue Shirt",
          "Beauty Accessories",
          "Makeup Accessories",
          "Brushes and Applicators",
          "LOTTIE LONDON Brushes and Applicators",
          "LOTTIE LONDON MAKE ME BLUSH (Pack of 1)",
          "FS Mini Klub Bodysuits",
          "FS Mini Klub Baby Girl's Bodysuit",
          "Choppers & Peelers",
          "Graters & Slicers",
          "Deep Graters & Slicers",
          "Deep kitchen press Steel Grater and Slicer (Stee...",
          "dongli Polos & T-Shirts",
          "dongli Striped Baby Boy's Polo Neck T-Shirt (Pac...",
          "Fs Mini Klub Polos & T-Shirts",
          "Fs Mini Klub Printed Baby Boy's Round Neck T-Shirt",
          "Aarika Salwar Kurta Dupattas",
          "Aarika Self Design Kurta & Patiyala",
          "Rishan Polos & T-Shirts",
          "Rishan Printed Baby Boy's V-neck T-Shirt",
          "YK Polos & T-Shirts",
          "YK Striped Baby Boy's Round Neck T-Shirt",
          "Art Godaam Human Figurines",
          "Artist Haat Vanity Boxes",
          "Vedic Deals Showpieces",
          "Hand Art Human Figurines",
          "Craftuno Vanity Boxes",
          "Kaatru Human Figurines",
          "CoffeeBean Trousers",
          "CoffeeBean Regular Fit Baby Girl's Pink Trousers",
          "Cork Screws",
          "Seven Seas Cork Screws",
          "Pedrini Cork Screws",
          "AM Creation Coffee Mugs",
          "AM Creation Magic  Ceramic Mug (273 ml, Pack of 2)",
          "Baby Body Wash",
          "TRESemme Baby Body Wash",
          "TRESemme Naturals Vibrantly Smooth Shampoo (591)",
          "L Oreal Baby Body Wash",
          "L Oreal Eversleek Sulfate - Free Smoothing Syste...",
          "CTW Religious Idols",
          "CTW Ganpati Bapa Moriya Statue Showpiece  -  12 ...",
          "Happiness Is Coffee Mugs",
          "Happiness Is Printed Bone China Mug (300 ml)",
          "Balaji Velvet Sofa Cover (Brown Pack of 6)",
          "Containers & Jars",
          "Kitchen Containers",
          "Lock&Lock Kitchen Containers",
          "Lock&Lock Kitchen  - 5.5 L Polypropylene Multi-p...",
          "Mom & Me Bodysuits",
          "Mom & Me Baby Girl's Bodysuit",
          "APOLLO+ USB Gadgets",
          "APOLLO+ Pack Of 3 Flexible Led Light (Multicolour)",
          "HuppmeGift Coffee Mugs",
          "HuppmeGift Happy Birthday Navneet Inner Red Cera...",
          "Decorations",
          "Doraemon Gift Family Ceramic Coffee Mug Decorations",
          "Doraemon Gift Family Ceramic Coffee Mug Multicol...",
          "Eyes",
          "Eye Shadows",
          "Milani Eye Shadows",
          "Milani Runway shadow Wet/Dry Black Out 3 g (Shadow)",
          "e.l.f. Cosmetics Eye Shadows",
          "e.l.f. Cosmetics Studio brow Kit Ash Brow Makeup...",
          "Soaps",
          "Aster Luxury Soaps",
          "Aster Luxury Arabic Oudh Bathing Bar - Pack of 4...",
          "Kitchen Tool Sets",
          "King Traders Kitchen Tool Sets",
          "King Traders KI-BD-01 1 Kitchen Tool Set",
          "Wall Decal Wall Decals & Stickers",
          "Wall Decal Small Self Adhesive Sticker (Pack of 1)",
          "Dongli Polos & T-Shirts",
          "Dongli Striped Baby Boy's Polo Neck T-Shirt",
          "Cotton Buds",
          "SJ Cotton Buds",
          "SJ Tulip multi use cotton Balls (Pack of 100)",
          "Hookah Mouth Tips",
          "Ech oly Hookah Mouth Tips",
          "Ech oly Ceramic Inside Fitting Hookah Mouth Tip ...",
          "Sprays",
          "LAWMAN PG3 Sprays",
          "LAWMAN PG3 Striker,, Winger , Contender Deodoran...",
          "Toons Polos & T-Shirts",
          "Toons Printed Baby Boy's Round Neck T-Shirt",
          "Computer Accessories Combos",
          "PRINT SHAPES Computer Accessories Combos",
          "PRINT SHAPES red Heart Laptop Skin with Mouse pa...",
          "Lip Balms",
          "Good Way Lip Balms",
          "Good Way Peppermint Lip Balm Pepper (8 g)",
          "Aroma Comfort Polyester Cream Self Design Eyelet...",
          "PRINT SHAPES Sony headphone Laptop Skin with Mou...",
          "PRINT SHAPES Power of roman reigns Laptop Skin w...",
          "Aroma Comfort Polyester Blue Floral Eyelet Long ...",
          "PRINT SHAPES roronoa Zora Laptop Skin with Mouse...",
          "Aroma Comfort Polyester Brown Floral Eyelet Long...",
          "RAMs",
          "Transcend RAMs",
          "Transcend Premium Memory DDR2 2 GB (1x2GB) PC SD...",
          "PRINT SHAPES doraemon Laptop Skin with Mouse pad...",
          "PRINT SHAPES monster university party Laptop Ski...",
          "Aroma Comfort Polyester Green Self Design Eyelet...",
          "Aroma Comfort Polyester Brown Self Design Eyelet...",
          "PRINT SHAPES Graphic Dancer Laptop Skin with Mou...",
          "Aroma Comfort Polyester Brown Printed Eyelet Win...",
          "Medicines & Treatment",
          "First Aid",
          "Hot & Cold Packs",
          "OMRD Hot & Cold Packs",
          "OMRD RD6697 Hot and cold Pack (GREEN)",
          "Shampoos",
          "Kerastase Shampoos",
          "Kerastase Nutritive Bain Satin 1 Complete Nutrit...",
          "PRINT SHAPES mary and max cartoon Laptop Skin wi...",
          "Aroma Comfort Polyester Dark Blue Plain Eyelet W...",
          "PRINT SHAPES Peacock Feather Laptop Skin with Mo...",
          "PRINT SHAPES despicable me 2 looking upwards Lap...",
          "PRINT SHAPES Red bull Laptop Skin with Mouse pad...",
          "Medical Equipment & Accessories",
          "Surgical e Sstudio Medical Equipment & Accessories",
          "Surgical e Sstudio S0004 Gown, Pant Hospital Scr...",
          "Reiki Crystal Products Showpiece  -  6 cm (Brass...",
          "Stickers",
          "Elite Collection Stickers",
          "Wallmantra Stickers",
          "WallDesign Stickers",
          "999store Stickers",
          "Oren Empower Stickers",
          "Uberlyfe Stickers"
         ],
         "parents": [
          "",
          "Home Furnishing",
          "Home Furnishing >> Curtains & Accessories",
          "Home Furnishing >> Curtains & Accessories >> Curtains",
          "",
          "Baby Care",
          "Baby Care >> Baby Bath & Skin",
          "Baby Care >> Baby Bath & Skin >> Baby Bath Towels",
          "Baby Care >> Baby Bath & Skin >> Baby Bath Towels >> Sathiyas Baby Bath Towels",
          "Baby Care >> Baby Bath & Skin >> Baby Bath Towels",
          "Baby Care >> Baby Bath & Skin >> Baby Bath Towels >> Eurospa Baby Bath Towels",
          "Home Furnishing",
          "Home Furnishing >> Bed Linen",
          "Home Furnishing >> Bed Linen >> Bedsheets",
          "Home Furnishing >> Bed Linen >> Bedsheets >> SANTOSH ROYAL FASHION Bedsheets",
          "Home Furnishing >> Bed Linen >> Bedsheets",
          "Home Furnishing >> Bed Linen >> Bedsheets >> Jaipur Print Bedsheets",
          "",
          "Watches",
          "Watches >> Wrist Watches",
          "Watches >> Wrist Watches",
          "Watches >> Wrist Watches",
          "Watches >> Wrist Watches",
          "Watches >> Wrist Watches",
          "Watches >> Wrist Watches",
          "Watches >> Wrist Watches",
          "Watches >> Wrist Watches",
          "Watches >> Wrist Watches",
          "Watches >> Wrist Watches",
          "Watches >> Wrist Watches",
          "Watches >> Wrist Watches",
          "Watches >> Wrist Watches",
          "Watches >> Wrist Watches",
          "Watches >> Wrist Watches",
          "Watches >> Wrist Watches",
          "Watches >> Wrist Watches",
          "Watches >> Wrist Watches",
          "Watches >> Wrist Watches",
          "Watches >> Wrist Watches",
          "Watches >> Wrist Watches",
          "Watches >> Wrist Watches",
          "Watches >> Wrist Watches",
          "Watches >> Wrist Watches",
          "Home Furnishing",
          "Home Furnishing >> Living Room Furnishing",
          "Home Furnishing >> Living Room Furnishing >> Diwan Sets",
          "Home Furnishing >> Living Room Furnishing >> Diwan Sets >> SANTOSH ROYAL FASHION Diwan Sets",
          "Home Furnishing >> Bed Linen",
          "Home Furnishing >> Bed Linen >> Duvet Covers",
          "Home Furnishing >> Bed Linen >> Duvet Covers >> House This Duvet Covers",
          "Home Furnishing",
          "Home Furnishing >> Bath Linen",
          "",
          "Home Decor & Festive Needs",
          "Home Decor & Festive Needs >> Candles & Fragrances",
          "Home Decor & Festive Needs >> Candles & Fragrances >> Home Fragrances",
          "Home Decor & Festive Needs >> Candles & Fragrances >> Home Fragrances >> Aroma Oils",
          "",
          "Kitchen & Dining",
          "Kitchen & Dining >> Tableware & Cutlery",
          "Kitchen & Dining >> Tableware & Cutlery >> Jug, Glass & Tray Sets",
          "Kitchen & Dining >> Tableware & Cutlery >> Jug, Glass & Tray Sets >> Dungri India Craft Jug, Glass & Tray Sets",
          "Kitchen & Dining",
          "Kitchen & Dining >> Lighting",
          "Kitchen & Dining >> Lighting >> Bulbs",
          "Kitchen & Dining >> Lighting >> Bulbs >> BFT Bulbs",
          "Home Furnishing",
          "Home Furnishing >> JMD Home Furnishing",
          "Baby Care",
          "Baby Care >> Infant Wear",
          "Baby Care >> Infant Wear >> Baby Girls' Clothes",
          "Baby Care >> Infant Wear >> Baby Girls' Clothes >> Innerwear & Sleepwear",
          "Baby Care >> Infant Wear >> Baby Girls' Clothes >> Innerwear & Sleepwear >> Night Suits",
          "Baby Care >> Infant Wear >> Baby Girls' Clothes >> Innerwear & Sleepwear >> Night Suits >> Mom and Kid Night Suits",
          "Home Furnishing",
          "Home Furnishing >> Kripa's Home Furnishing",
          "Baby Care >> Infant Wear >> Baby Girls' Clothes >> Innerwear & Sleepwear >> Night Suits >> Mom and Kid Night Suits",
          "",
          "Beauty and Personal Care",
          "Beauty and Personal Care >> Hair Care",
          "Beauty and Personal Care >> Hair Care >> Conditioners",
          "Beauty and Personal Care >> Hair Care >> Conditioners >> Burt s Bees Conditioners",
          "Kitchen & Dining",
          "Kitchen & Dining >> Coffee Mugs",
          "Kitchen & Dining >> Coffee Mugs >> AKUP Coffee Mugs",
          "Kitchen & Dining >> Coffee Mugs >> AKUP Coffee Mugs",
          "Kitchen & Dining >> Coffee Mugs >> AKUP Coffee Mugs",
          "",
          "Computers",
          "Computers >> Network Components",
          "Computers >> Network Components >> Routers",
          "Computers >> Network Components >> Routers >> D-Link Routers",
          "Kitchen & Dining >> Coffee Mugs >> AKUP Coffee Mugs",
          "Beauty and Personal Care >> Hair Care >> Conditioners",
          "Beauty and Personal Care >> Hair Care >> Conditioners >> Suave Conditioners",
          "Kitchen & Dining >> Coffee Mugs >> AKUP Coffee Mugs",
          "Computers",
          "Computers >> Tablet Accessories",
          "Computers >> Tablet Accessories >> Keyboards",
          "Computers >> Tablet Accessories >> Keyboards >> RoQ Keyboards",
          "Kitchen & Dining",
          "Kitchen & Dining >> Cookware",
          "Kitchen & Dining >> Cookware >> Casserole & Sets",
          "Kitchen & Dining >> Cookware >> Casserole & Sets >> Cookart Casserole & Sets",
          "Computers",
          "Computers >> Laptop Accessories",
          "Computers >> Laptop Accessories >> USB Gadgets",
          "Computers >> Laptop Accessories >> USB Gadgets >> JRB USB Gadgets",
          "Computers >> Laptop Accessories >> USB Gadgets >> JRB USB Gadgets",
          "Computers >> Laptop Accessories >> USB Gadgets >> JRB USB Gadgets",
          "Beauty and Personal Care",
          "Beauty and Personal Care >> Makeup",
          "Beauty and Personal Care >> Makeup >> Vanity Boxes",
          "Beauty and Personal Care",
          "Beauty and Personal Care >> Combos and Kits",
          "Beauty and Personal Care >> Combos and Kits >> RYTHMX Combos and Kits",
          "Beauty and Personal Care >> Combos and Kits",
          "Beauty and Personal Care >> Combos and Kits >> Brillare Science Combos and Kits",
          "Beauty and Personal Care >> Combos and Kits",
          "Beauty and Personal Care >> Combos and Kits >> Mars Combos and Kits",
          "Beauty and Personal Care >> Makeup",
          "Beauty and Personal Care >> Makeup >> Nails",
          "Beauty and Personal Care >> Makeup >> Nails >> Nail Polishes",
          "Beauty and Personal Care >> Makeup >> Nails >> Nail Polishes >> Aroma Care Nail Polishes",
          "Baby Care",
          "Baby Care >> Feeding & Nursing",
          "Baby Care >> Feeding & Nursing >> Bottles & Accessories",
          "Baby Care >> Feeding & Nursing >> Bottles & Accessories >> Bottle Covers",
          "Baby Care >> Feeding & Nursing >> Bottles & Accessories >> Bottle Covers >> KOHL Bottle Covers",
          "Kitchen & Dining >> Coffee Mugs",
          "Kitchen & Dining >> Coffee Mugs >> Shopmania Coffee Mugs",
          "Baby Care",
          "Baby Care >> Baby Bedding",
          "Baby Care >> Baby Bedding >> Baby Mattresses",
          "Baby Care >> Baby Bedding >> Baby Mattresses >> CHHOTE JANAB Baby Mattresses",
          "Home Furnishing",
          "Home Furnishing >> Kitchen & Dining Linen",
          "Home Furnishing >> Kitchen & Dining Linen >> Table Covers",
          "Kitchen & Dining",
          "Kitchen & Dining >> Containers & Bottles",
          "Kitchen & Dining >> Containers & Bottles >> Lunch Boxes",
          "Kitchen & Dining >> Containers & Bottles >> Lunch Boxes >> SKI Lunch Boxes",
          "Kitchen & Dining >> Containers & Bottles >> Lunch Boxes",
          "Kitchen & Dining >> Containers & Bottles >> Lunch Boxes >> GAYATRI CREATIONS Lunch Boxes",
          "Kitchen & Dining",
          "Kitchen & Dining >> Consumables & Disposables",
          "Kitchen & Dining >> Consumables & Disposables >> Bowls",
          "Kitchen & Dining >> Consumables & Disposables >> Bowls >> Caffeine Bowls",
          "Home Furnishing >> Kitchen & Dining Linen >> Table Covers",
          "Kitchen & Dining >> Containers & Bottles",
          "Kitchen & Dining >> Containers & Bottles >> Bottles & Sippers",
          "Kitchen & Dining >> Containers & Bottles >> Bottles & Sippers >> Water bottle",
          "Kitchen & Dining >> Containers & Bottles >> Bottles & Sippers >> Water bottle >> Garnet Water bottle",
          "Baby Care >> Infant Wear >> Baby Girls' Clothes",
          "Baby Care >> Infant Wear >> Baby Girls' Clothes >> Shorts & Trousers",
          "Baby Care >> Infant Wear >> Baby Girls' Clothes >> Shorts & Trousers >> Shorts",
          "Baby Care >> Infant Wear >> Baby Girls' Clothes >> Shorts & Trousers >> Shorts >> Vitamins Shorts",
          "Baby Care >> Infant Wear >> Baby Girls' Clothes >> Shorts & Trousers >> Shorts >> Vitamins Shorts",
          "Baby Care >> Infant Wear >> Baby Girls' Clothes >> Shorts & Trousers >> Shorts >> Vitamins Shorts",
          "Beauty and Personal Care >> Makeup >> Vanity Boxes",
          "Beauty and Personal Care >> Makeup >> Vanity Boxes >> KE Vanity Boxes",
          "Beauty and Personal Care >> Makeup",
          "Beauty and Personal Care >> Makeup >> Lips",
          "Beauty and Personal Care >> Makeup >> Lips >> Lip Liners",
          "Beauty and Personal Care >> Makeup >> Lips >> Lip Liners >> Giorgio Armani Lip Liners",
          "Home Furnishing >> Living Room Furnishing >> Diwan Sets",
          "Home Furnishing >> Living Room Furnishing >> Diwan Sets >> Jaipur Print Diwan Sets",
          "Baby Care >> Infant Wear",
          "Baby Care >> Infant Wear >> Baby Boys' Clothes",
          "Baby Care >> Infant Wear >> Baby Boys' Clothes >> Accessories",
          "Baby Care >> Infant Wear >> Baby Boys' Clothes >> Accessories >> Caps",
          "Baby Care >> Infant Wear >> Baby Boys' Clothes >> Accessories >> Caps >> florence9 Caps",
          "Home Decor & Festive Needs",
          "Home Decor & Festive Needs >> Wall Decor & Clocks",
          "Home Decor & Festive Needs >> Wall Decor & Clocks >> Key Holders",
          "Home Decor & Festive Needs >> Wall Decor & Clocks >> Key Holders >> VarEesha Key Holders",
          "Home Decor & Festive Needs",
          "Home Decor & Festive Needs >> Table Decor & Handicrafts",
          "Home Decor & Festive Needs >> Table Decor & Handicrafts >> Showpieces",
          "Home Decor & Festive Needs >> Table Decor & Handicrafts >> Showpieces >> Fengshui",
          "Home Decor & Festive Needs >> Table Decor & Handicrafts >> Showpieces >> Fengshui >> Treasure Fengshui",
          "Baby Care >> Baby Bedding",
          "Baby Care >> Baby Bedding >> Baby Mosquito Nets",
          "Baby Care >> Baby Bedding >> Baby Mosquito Nets >> CHINMAY KIDS Baby Mosquito Nets",
          "Baby Care >> Infant Wear >> Baby Boys' Clothes",
          "Baby Care >> Infant Wear >> Baby Boys' Clothes >> Combo Sets",
          "Baby Care >> Infant Wear >> Baby Boys' Clothes >> Combo Sets >> HEAVENLY Combo Sets",
          "Home Decor & Festive Needs",
          "Home Decor & Festive Needs >> Flowers, Plants & Vases",
          "Home Decor & Festive Needs >> Flowers, Plants & Vases >> Flower Vase",
          "Home Decor & Festive Needs >> Flowers, Plants & Vases >> Flower Vase >> @home Flower Vase",
          "Home Decor & Festive Needs >> Wall Decor & Clocks",
          "Home Decor & Festive Needs >> Wall Decor & Clocks >> Wall Decals & Stickers",
          "Home Decor & Festive Needs >> Wall Decor & Clocks >> Wall Decals & Stickers >> Smart Wall Guru Wall Decals & Stickers",
          "Kitchen & Dining >> Cookware",
          "Kitchen & Dining >> Cookware >> Pots & Pans",
          "Kitchen & Dining >> Cookware >> Pots & Pans >> Pans & Tawas",
          "Kitchen & Dining >> Cookware >> Pots & Pans >> Pans & Tawas >> oxford Pans & Tawas",
          "Computers",
          "Computers >> Software",
          "Computers >> Software >> Language Learning",
          "Computers >> Software >> Language Learning >> Physical",
          "Computers >> Software >> Language Learning >> Physical >> Eureka.in Physical",
          "Home Furnishing >> Kitchen & Dining Linen",
          "Home Furnishing >> Kitchen & Dining Linen >> Coasters",
          "Home Furnishing >> Kitchen & Dining Linen >> Coasters >> Craft Trade Coasters",
          "Home Decor & Festive Needs",
          "Home Decor & Festive Needs >> Showpieces",
          "Home Decor & Festive Needs >> Showpieces",
          "Home Decor & Festive Needs >> Showpieces",
          "Home Decor & Festive Needs >> Showpieces",
          "Home Decor & Festive Needs >> Table Decor & Handicrafts >> Showpieces",
          "Home Decor & Festive Needs >> Table Decor & Handicrafts >> Showpieces >> Religious Idols",
          "Home Decor & Festive Needs >> Table Decor & Handicrafts >> Showpieces",
          "Home Decor & Festive Needs >> Table Decor & Handicrafts >> Showpieces >> Human Figurines",
          "Home Decor & Festive Needs >> Table Decor & Handicrafts >> Showpieces >> Religious Idols",
          "Beauty and Personal Care >> Makeup >> Vanity Boxes",
          "Beauty and Personal Care >> Makeup >> Vanity Boxes",
          "Beauty and Personal Care >> Makeup >> Vanity Boxes",
          "Home Decor & Festive Needs >> Table Decor & Handicrafts >> Showpieces >> Religious Idols",
          "Home Decor & Festive Needs >> Table Decor & Handicrafts >> Showpieces >> Religious Idols >> K&P Religious Idols",
          "Home Furnishing >> Bed Linen",
          "Baby Care",
          "Baby Care >> Furniture & Furnishings",
          "Baby Care >> Furniture & Furnishings >> Inflatable Products",
          "Home Furnishing >> Bed Linen >> Blankets, Quilts & Dohars",
          "Baby Care >> Infant Wear >> Baby Girls' Clothes",
          "Baby Care >> Infant Wear >> Baby Girls' Clothes >> Ethnic Wear",
          "Baby Care >> Infant Wear >> Baby Girls' Clothes >> Ethnic Wear >> Salwar Kurta Dupattas",
          "Baby Care >> Infant Wear >> Baby Girls' Clothes >> Ethnic Wear >> Salwar Kurta Dupattas >> TWISHA Salwar Kurta Dupattas",
          "Home Decor & Festive Needs",
          "Home Decor & Festive Needs >> Decorative Lighting & Lamps",
          "Home Decor & Festive Needs >> Decorative Lighting & Lamps >> Table Lamps",
          "Home Decor & Festive Needs >> Decorative Lighting & Lamps >> Table Lamps >> Eternity Table Lamps",
          "Baby Care >> Infant Wear >> Baby Boys' Clothes",
          "Baby Care >> Infant Wear >> Baby Boys' Clothes >> Bodysuits & Sleepsuits",
          "Baby Care >> Infant Wear >> Baby Boys' Clothes >> Bodysuits & Sleepsuits >> Sleepsuits",
          "Baby Care >> Infant Wear >> Baby Boys' Clothes >> Bodysuits & Sleepsuits >> Sleepsuits >> FS Mini Klub Sleepsuits",
          "Kitchen & Dining >> Containers & Bottles >> Bottles & Sippers",
          "Kitchen & Dining >> Containers & Bottles >> Bottles & Sippers >> Sippers",
          "Kitchen & Dining >> Containers & Bottles >> Bottles & Sippers >> Sippers >> Omic Sippers",
          "Baby Care",
          "Baby Care >> Baby Grooming",
          "Baby Care >> Baby Grooming >> Baby Grooming Combos",
          "Computers",
          "Computers >> Computer Peripherals",
          "Computers >> Computer Peripherals >> Printers & Inks",
          "Computers >> Computer Peripherals >> Printers & Inks >> Toners",
          "Home Decor & Festive Needs >> Table Decor & Handicrafts >> Showpieces >> Religious Idols",
          "Baby Care >> Infant Wear >> Baby Boys' Clothes >> Bodysuits & Sleepsuits",
          "Baby Care >> Infant Wear >> Baby Boys' Clothes >> Bodysuits & Sleepsuits >> Bodysuits",
          "Computers >> Laptop Accessories",
          "Computers >> Laptop Accessories >> Mouse Pads",
          "Computers >> Laptop Accessories >> Mouse Pads >> FRENEMY Mouse Pads",
          "Home Furnishing",
          "Home Furnishing >> Cushions, Pillows & Covers",
          "Home Furnishing >> Cushions, Pillows & Covers >> Cushion Covers",
          "Baby Care >> Infant Wear >> Baby Boys' Clothes >> Bodysuits & Sleepsuits >> Sleepsuits",
          "Baby Care >> Infant Wear >> Baby Boys' Clothes >> Bodysuits & Sleepsuits >> Sleepsuits >> Toffyhouse Sleepsuits",
          "Computers",
          "Computers >> Storage",
          "Computers >> Storage >> Pen Drives",
          "Computers >> Storage >> Pen Drives >> Shopizone Pen Drives",
          "Home Decor & Festive Needs >> Wall Decor & Clocks >> Key Holders",
          "Home Decor & Festive Needs >> Wall Decor & Clocks >> Key Holders >> Craftcart Key Holders",
          "Beauty and Personal Care",
          "Beauty and Personal Care >> Health Care",
          "Beauty and Personal Care >> Health Care >> Health Care Devices",
          "Beauty and Personal Care >> Health Care >> Health Care Devices >> Electrotherapy",
          "Beauty and Personal Care >> Health Care >> Health Care Devices >> Electrotherapy >> SOS Electrotherapy",
          "Beauty and Personal Care",
          "Beauty and Personal Care >> Body and Skin Care",
          "Beauty and Personal Care >> Body and Skin Care >> Hand Care",
          "Beauty and Personal Care >> Body and Skin Care >> Hand Care >> Manicure and Kits",
          "Beauty and Personal Care >> Body and Skin Care >> Hand Care >> Manicure and Kits",
          "Beauty and Personal Care >> Body and Skin Care >> Hand Care >> Manicure and Kits",
          "Home Decor & Festive Needs >> Table Decor & Handicrafts",
          "Home Decor & Festive Needs >> Table Decor & Handicrafts >> Table Decor",
          "Home Decor & Festive Needs >> Table Decor & Handicrafts >> Table Decor >> Hookah & Hookah Flavours",
          "Home Decor & Festive Needs >> Table Decor & Handicrafts >> Table Decor >> Hookah & Hookah Flavours >> Hookah",
          "Kitchen & Dining >> Coffee Mugs",
          "Kitchen & Dining >> Coffee Mugs",
          "Kitchen & Dining >> Coffee Mugs",
          "Kitchen & Dining >> Coffee Mugs",
          "Kitchen & Dining >> Coffee Mugs",
          "Kitchen & Dining",
          "Kitchen & Dining >> Kitchen Tools",
          "Kitchen & Dining >> Kitchen Tools >> Kitchen Implements",
          "Kitchen & Dining >> Kitchen Tools >> Kitchen Implements >> Pizza Cutters",
          "Home Decor & Festive Needs >> Showpieces",
          "Home Decor & Festive Needs >> Showpieces",
          "Home Decor & Festive Needs >> Showpieces",
          "Home Decor & Festive Needs >> Showpieces",
          "Home Decor & Festive Needs >> Showpieces >> Ethnic",
          "Kitchen & Dining >> Kitchen Tools >> Kitchen Implements >> Pizza Cutters",
          "Home Decor & Festive Needs >> Showpieces >> Ethnic",
          "Kitchen & Dining >> Kitchen Tools >> Kitchen Implements >> Pizza Cutters",
          "Home Decor & Festive Needs >> Showpieces",
          "Home Decor & Festive Needs >> Showpieces >> Ethnic",
          "Baby Care >> Infant Wear >> Baby Boys' Clothes",
          "Baby Care >> Infant Wear >> Baby Boys' Clothes >> Dungarees & Jumpsuits",
          "Baby Care >> Infant Wear >> Baby Boys' Clothes >> Dungarees & Jumpsuits >> Jumpsuits",
          "Home Decor & Festive Needs >> Showpieces",
          "Kitchen & Dining >> Kitchen Tools >> Kitchen Implements >> Pizza Cutters",
          "Home Decor & Festive Needs >> Showpieces",
          "Home Decor & Festive Needs >> Showpieces",
          "Home Decor & Festive Needs >> Showpieces >> Ethnic",
          "Home Decor & Festive Needs >> Showpieces",
          "Kitchen & Dining >> Kitchen Tools >> Kitchen Implements >> Pizza Cutters",
          "Kitchen & Dining >> Kitchen Tools >> Kitchen Implements >> Pizza Cutters",
          "Home Decor & Festive Needs >> Showpieces >> Ethnic",
          "Kitchen & Dining >> Kitchen Tools >> Kitchen Implements >> Pizza Cutters",
          "Home Decor & Festive Needs >> Showpieces >> Ethnic",
          "Baby Care >> Infant Wear >> Baby Boys' Clothes >> Dungarees & Jumpsuits >> Jumpsuits",
          "Home Decor & Festive Needs >> Showpieces >> Ethnic",
          "Kitchen & Dining >> Kitchen Tools >> Kitchen Implements >> Pizza Cutters",
          "Home Decor & Festive Needs >> Showpieces",
          "Home Decor & Festive Needs >> Showpieces >> Ethnic",
          "Home Decor & Festive Needs >> Showpieces >> Ethnic",
          "Home Decor & Festive Needs >> Showpieces >> Ethnic",
          "Home Decor & Festive Needs >> Showpieces >> Ethnic",
          "Kitchen & Dining >> Cookware >> Pots & Pans",
          "Kitchen & Dining >> Cookware >> Pots & Pans >> Woks & Kadhais",
          "Kitchen & Dining >> Kitchen Tools >> Kitchen Implements >> Pizza Cutters",
          "Home Decor & Festive Needs >> Showpieces",
          "Kitchen & Dining >> Cookware >> Pots & Pans >> Woks & Kadhais",
          "Home Decor & Festive Needs >> Showpieces >> Ethnic",
          "Kitchen & Dining >> Cookware >> Pots & Pans >> Woks & Kadhais",
          "Kitchen & Dining >> Cookware >> Pots & Pans >> Woks & Kadhais",
          "Kitchen & Dining >> Cookware >> Pots & Pans >> Woks & Kadhais",
          "Kitchen & Dining >> Cookware >> Pots & Pans >> Woks & Kadhais",
          "Kitchen & Dining >> Cookware >> Pots & Pans >> Woks & Kadhais",
          "Kitchen & Dining >> Cookware >> Pots & Pans >> Woks & Kadhais",
          "Kitchen & Dining >> Cookware >> Pots & Pans >> Woks & Kadhais",
          "Kitchen & Dining >> Cookware >> Pots & Pans >> Woks & Kadhais",
          "Home Decor & Festive Needs >> Showpieces",
          "Kitchen & Dining >> Cookware >> Pots & Pans >> Woks & Kadhais",
          "Home Decor & Festive Needs",
          "Home Decor & Festive Needs >> Showpieces",
          "Kitchen & Dining >> Cookware >> Pots & Pans >> Woks & Kadhais",
          "Home Decor & Festive Needs >> Showpieces",
          "Home Decor & Festive Needs >> Showpieces >> Ethnic",
          "Kitchen & Dining >> Cookware >> Pots & Pans >> Woks & Kadhais",
          "Home Decor & Festive Needs >> Showpieces >> Ethnic",
          "Kitchen & Dining >> Cookware >> Pots & Pans >> Woks & Kadhais",
          "Home Decor & Festive Needs >> Showpieces",
          "Home Decor & Festive Needs >> Showpieces",
          "Kitchen & Dining >> Cookware >> Pots & Pans >> Woks & Kadhais",
          "Kitchen & Dining >> Cookware >> Pots & Pans >> Woks & Kadhais",
          "Kitchen & Dining >> Kitchen Tools >> Kitchen Implements >> Pizza Cutters",
          "Home Decor & Festive Needs >> Showpieces",
          "Kitchen & Dining >> Cookware >> Pots & Pans >> Woks & Kadhais",
          "Kitchen & Dining >> Cookware >> Pots & Pans >> Woks & Kadhais",
          "Baby Care >> Infant Wear >> Baby Boys' Clothes >> Dungarees & Jumpsuits",
          "Baby Care >> Infant Wear >> Baby Boys' Clothes >> Dungarees & Jumpsuits >> Dungarees",
          "Baby Care >> Infant Wear >> Baby Boys' Clothes >> Dungarees & Jumpsuits >> Dungarees >> Babeezworld Dungarees",
          "Watches >> Wrist Watches",
          "Watches >> Wrist Watches >> Pittsburgh Polo Club Wrist Watches",
          "Watches >> Wrist Watches",
          "Watches >> Wrist Watches >> palito Wrist Watches",
          "Watches >> Wrist Watches",
          "Watches >> Wrist Watches >> Adino Wrist Watches",
          "Watches >> Wrist Watches",
          "Watches >> Wrist Watches >> ESIDON Wrist Watches",
          "Watches >> Wrist Watches >> palito Wrist Watches",
          "Home Furnishing",
          "Home Furnishing >> Living",
          "Home Furnishing >> Living >> Sofa Covers",
          "Baby Care >> Infant Wear >> Baby Boys' Clothes >> Dungarees & Jumpsuits >> Dungarees",
          "Baby Care >> Infant Wear >> Baby Boys' Clothes >> Dungarees & Jumpsuits >> Dungarees >> cherry crumble california Dungarees",
          "Watches >> Wrist Watches",
          "Watches >> Wrist Watches >> Yves Bertelin Wrist Watches",
          "Home Decor & Festive Needs",
          "Home Decor & Festive Needs >> Showpiece",
          "Home Decor & Festive Needs >> Showpiece >> Contemporary",
          "Home Decor & Festive Needs >> Showpiece >> Contemporary >> Services Junction Contemporary",
          "Watches >> Wrist Watches >> palito Wrist Watches",
          "Watches >> Wrist Watches",
          "Watches >> Wrist Watches >> V9 Wrist Watches",
          "Home Furnishing >> Living >> Sofa Covers",
          "Baby Care >> Infant Wear >> Baby Boys' Clothes >> Dungarees & Jumpsuits >> Dungarees",
          "Baby Care >> Infant Wear >> Baby Boys' Clothes >> Dungarees & Jumpsuits >> Dungarees >> Kandyfloss Dungarees",
          "Home Decor & Festive Needs >> Showpiece >> Contemporary >> Services Junction Contemporary",
          "Home Decor & Festive Needs >> Decorative Lighting & Lamps >> Table Lamps",
          "Home Decor & Festive Needs >> Decorative Lighting & Lamps >> Table Lamps >> Brahmz Table Lamps",
          "Baby Care >> Infant Wear >> Baby Girls' Clothes",
          "Baby Care >> Infant Wear >> Baby Girls' Clothes >> Dresses & Skirts",
          "Baby Care >> Infant Wear >> Baby Girls' Clothes >> Dresses & Skirts >> Dresses",
          "Baby Care >> Infant Wear >> Baby Girls' Clothes >> Dresses & Skirts >> Dresses >> MKB Dresses",
          "Baby Care >> Infant Wear >> Baby Girls' Clothes >> Dresses & Skirts >> Dresses",
          "Baby Care >> Infant Wear >> Baby Girls' Clothes >> Dresses & Skirts >> Dresses >> Toddla Dresses",
          "Baby Care >> Infant Wear >> Baby Girls' Clothes >> Dresses & Skirts >> Dresses",
          "Baby Care >> Infant Wear >> Baby Girls' Clothes >> Dresses & Skirts >> Dresses >> Baby Moshai Dresses",
          "Baby Care >> Infant Wear >> Baby Girls' Clothes >> Dresses & Skirts >> Dresses",
          "Baby Care >> Infant Wear >> Baby Girls' Clothes >> Dresses & Skirts >> Dresses >> My Little Lambs Dresses",
          "Kitchen & Dining",
          "Kitchen & Dining >> Bar & Glassware",
          "Kitchen & Dining >> Bar & Glassware >> Bar Accessories",
          "Kitchen & Dining >> Bar & Glassware >> Bar Accessories >> Bottle Openers",
          "Kitchen & Dining >> Bar & Glassware >> Bar Accessories >> Bottle Openers >> arnavs Bottle Openers",
          "Computers >> Computer Peripherals",
          "Computers >> Computer Peripherals >> CPU",
          "Computers >> Computer Peripherals >> CPU >> I Ball CPU",
          "Baby Care >> Infant Wear >> Baby Boys' Clothes",
          "Baby Care >> Infant Wear >> Baby Boys' Clothes >> Polos & T-Shirts",
          "Baby Care >> Infant Wear >> Baby Boys' Clothes >> Polos & T-Shirts >> Globe Polos & T-Shirts",
          "Kitchen & Dining >> Kitchen Tools >> Kitchen Implements",
          "Kitchen & Dining >> Kitchen Tools >> Kitchen Implements >> Hand Juicers",
          "Kitchen & Dining >> Kitchen Tools >> Kitchen Implements >> Hand Juicers >> JayEnterprise Hand Juicers",
          "Home Decor & Festive Needs >> Showpieces >> Ethnic",
          "Kitchen & Dining >> Cookware",
          "Kitchen & Dining >> Cookware >> Lids",
          "Beauty and Personal Care >> Health Care >> Health Care Devices",
          "Beauty and Personal Care >> Health Care >> Health Care Devices >> Body Fat Analyzers",
          "Home Decor & Festive Needs >> Showpieces >> Ethnic",
          "Home Decor & Festive Needs >> Showpieces >> Ethnic",
          "Home Decor & Festive Needs >> Showpieces >> Ethnic",
          "Home Decor & Festive Needs >> Showpieces >> Ethnic",
          "Home Decor & Festive Needs >> Showpieces >> Ethnic",
          "Computers >> Network Components >> Routers",
          "Beauty and Personal Care",
          "Beauty and Personal Care >> Fragrances",
          "Beauty and Personal Care >> Fragrances >> Deodorants",
          "Beauty and Personal Care >> Fragrances >> Deodorants >> Combos",
          "Computers >> Network Components >> Routers",
          "Beauty and Personal Care >> Fragrances >> Deodorants >> Combos",
          "Beauty and Personal Care >> Fragrances >> Deodorants >> Combos",
          "Beauty and Personal Care >> Fragrances >> Deodorants >> Combos",
          "Beauty and Personal Care >> Fragrances >> Deodorants >> Combos",
          "Computers >> Network Components >> Routers",
          "Beauty and Personal Care >> Fragrances >> Deodorants >> Combos",
          "Computers >> Network Components >> Routers",
          "Computers >> Network Components >> Routers",
          "Computers >> Network Components >> Routers",
          "Beauty and Personal Care >> Fragrances >> Deodorants >> Combos",
          "Computers >> Network Components >> Routers",
          "Computers >> Network Components >> Routers",
          "Beauty and Personal Care >> Fragrances >> Deodorants >> Combos",
          "Computers >> Network Components >> Routers",
          "Beauty and Personal Care >> Fragrances >> Deodorants >> Combos",
          "Beauty and Personal Care >> Fragrances >> Deodorants >> Combos",
          "Beauty and Personal Care >> Fragrances >> Deodorants >> Combos",
          "Computers >> Network Components >> Routers",
          "Beauty and Personal Care >> Fragrances >> Deodorants >> Combos",
          "Beauty and Personal Care >> Fragrances >> Deodorants >> Combos",
          "Beauty and Personal Care >> Fragrances >> Deodorants >> Combos",
          "Computers >> Network Components >> Routers",
          "Computers >> Network Components >> Routers",
          "Beauty and Personal Care >> Fragrances >> Deodorants >> Combos",
          "Beauty and Personal Care >> Fragrances >> Deodorants >> Combos",
          "Beauty and Personal Care >> Fragrances >> Deodorants >> Combos",
          "Beauty and Personal Care >> Fragrances >> Deodorants >> Combos",
          "Beauty and Personal Care >> Fragrances >> Deodorants >> Combos",
          "Computers >> Network Components >> Routers",
          "Beauty and Personal Care >> Fragrances >> Deodorants >> Combos",
          "Computers >> Network Components >> Routers",
          "Beauty and Personal Care >> Fragrances >> Deodorants >> Combos",
          "Computers >> Network Components >> Routers",
          "Beauty and Personal Care >> Fragrances >> Deodorants >> Combos",
          "Beauty and Personal Care >> Fragrances >> Deodorants >> Combos",
          "Beauty and Personal Care >> Fragrances >> Deodorants >> Combos",
          "Beauty and Personal Care >> Fragrances >> Deodorants >> Combos",
          "Computers >> Network Components >> Routers",
          "Computers >> Network Components >> Routers",
          "Beauty and Personal Care >> Fragrances >> Deodorants >> Combos",
          "Beauty and Personal Care",
          "Beauty and Personal Care >> Women's Hygiene",
          "Beauty and Personal Care >> Women's Hygiene >> Combo & kits",
          "Beauty and Personal Care >> Women's Hygiene >> Combo & kits >> Clear Face Combo & kits",
          "Computers >> Tablet Accessories",
          "Computers >> Tablet Accessories >> Cases & Covers",
          "Computers >> Tablet Accessories >> Cases & Covers >> YGS Cases & Covers",
          "Beauty and Personal Care >> Hair Care",
          "Beauty and Personal Care >> Hair Care >> Hair Care Accessories",
          "Beauty and Personal Care >> Hair Care >> Hair Care Accessories >> Hair Accessories",
          "Beauty and Personal Care >> Hair Care >> Hair Care Accessories >> Hair Accessories >> Majik Hair Accessories",
          "Computers >> Computer Peripherals",
          "Computers >> Computer Peripherals >> Portable Projectors",
          "Computers >> Computer Peripherals >> Portable Projectors >> Zingalalaa Portable Projectors",
          "Baby Care",
          "Baby Care >> Diapering & Potty Training",
          "Baby Care >> Diapering & Potty Training >> Changing Tables",
          "Baby Care >> Diapering & Potty Training >> Changing Tables >> BASRA Changing Tables",
          "Computers >> Laptop Accessories",
          "Computers >> Laptop Accessories >> Adapters",
          "Computers >> Laptop Accessories >> Adapters >> Smartpro Adapters",
          "Baby Care",
          "Baby Care >> Strollers & Activity Gear",
          "Baby Care >> Strollers & Activity Gear >> Strollers & Prams",
          "Baby Care >> Strollers & Activity Gear >> Strollers & Prams >> Graco Strollers & Prams",
          "Kitchen & Dining >> Bar & Glassware",
          "Kitchen & Dining >> Bar & Glassware >> Bar Glasses",
          "Kitchen & Dining >> Bar & Glassware >> Bar Glasses >> ocean Bar Glasses",
          "Home Decor & Festive Needs >> Showpieces",
          "Home Decor & Festive Needs >> Showpieces >> Fengshui",
          "Home Decor & Festive Needs >> Showpieces >> Fengshui >> Reiki Crystal Products Fengshui",
          "Beauty and Personal Care >> Health Care >> Health Care Devices",
          "Beauty and Personal Care >> Health Care >> Health Care Devices >> HomeEdge Health Care Devices",
          "Baby Care >> Infant Wear >> Baby Girls' Clothes",
          "Baby Care >> Infant Wear >> Baby Girls' Clothes >> Dungarees & Jumpsuits",
          "Baby Care >> Infant Wear >> Baby Girls' Clothes >> Dungarees & Jumpsuits >> Jumpsuits",
          "Baby Care >> Infant Wear >> Baby Girls' Clothes >> Dungarees & Jumpsuits >> Jumpsuits >> Budding Bees Jumpsuits",
          "Home Furnishing >> Kitchen & Dining Linen",
          "Home Furnishing >> Kitchen & Dining Linen >> Table Linen Sets",
          "Baby Care >> Baby Bedding",
          "Baby Care >> Baby Bedding >> Baby Sleeping Bags",
          "Baby Care >> Baby Bedding >> Baby Sleeping Bags >> Baby Bucket Baby Sleeping Bags",
          "Beauty and Personal Care >> Health Care >> Health Care Devices",
          "Beauty and Personal Care >> Health Care >> Health Care Devices >> Pulse Oximeters",
          "Beauty and Personal Care >> Health Care >> Health Care Devices >> Pulse Oximeters >> NAMS Pulse Oximeters",
          "Baby Care >> Infant Wear >> Baby Girls' Clothes",
          "Baby Care >> Infant Wear >> Baby Girls' Clothes >> Bodysuits & Sleepsuits",
          "Baby Care >> Infant Wear >> Baby Girls' Clothes >> Bodysuits & Sleepsuits >> Sleepsuits",
          "Baby Care >> Infant Wear >> Baby Girls' Clothes >> Bodysuits & Sleepsuits >> Sleepsuits >> Rute Sleepsuits",
          "Home Furnishing",
          "Home Furnishing >> Tidy Home Furnishing",
          "Home Furnishing >> Bed Linen >> Bedsheets",
          "Home Furnishing >> Bed Linen >> Bedsheets >> JBC Collection Bedsheets",
          "Computers >> Laptop Accessories",
          "Computers >> Laptop Accessories >> Laptop Adapters",
          "Computers >> Laptop Accessories >> Laptop Adapters >> Hako Laptop Adapters",
          "Computers >> Laptop Accessories >> Laptop Adapters >> Hako Laptop Adapters",
          "Computers >> Laptop Accessories >> Laptop Adapters >> Hako Laptop Adapters",
          "Baby Care >> Baby Bath & Skin",
          "Baby Care >> Baby Bath & Skin >> Baby Shower Caps",
          "Baby Care >> Baby Bath & Skin >> Baby Shower Caps >> 3kFactory Baby Shower Caps",
          "Baby Care >> Infant Wear >> Baby Girls' Clothes >> Dresses & Skirts >> Dresses",
          "Baby Care >> Infant Wear >> Baby Girls' Clothes >> Dresses & Skirts >> Dresses >> Saba Garments Dresses",
          "Baby Care >> Infant Wear >> Baby Boys' Clothes",
          "Baby Care >> Infant Wear >> Baby Boys' Clothes >> Winter & Seasonal Wear",
          "Baby Care >> Infant Wear >> Baby Boys' Clothes >> Winter & Seasonal Wear >> Jackets",
          "Baby Care >> Infant Wear >> Baby Boys' Clothes >> Winter & Seasonal Wear >> Jackets >> Upside Down Jackets",
          "Home Furnishing >> Living Room Furnishing",
          "Home Furnishing >> Living Room Furnishing >> Lushomes Living Room Furnishing",
          "Kitchen & Dining",
          "Kitchen & Dining >> Pressure Cookers & Pans",
          "Kitchen & Dining >> Containers & Bottles >> Bottles & Sippers",
          "Computers >> Storage >> Pen Drives",
          "Computers >> Storage >> Pen Drives >> HP Pen Drives",
          "Beauty and Personal Care >> Hair Care >> Conditioners",
          "Beauty and Personal Care >> Hair Care >> Conditioners >> TIGI BED HEAD Conditioners",
          "Baby Care >> Infant Wear >> Baby Girls' Clothes >> Dresses & Skirts >> Dresses",
          "Baby Care >> Infant Wear >> Baby Girls' Clothes >> Dresses & Skirts >> Dresses >> Beebay Dresses",
          "Kitchen & Dining >> Cookware",
          "Kitchen & Dining >> Cookware >> Steamers & Idli Makers",
          "Kitchen & Dining >> Cookware >> Steamers & Idli Makers >> Idli Makers",
          "Kitchen & Dining >> Cookware >> Steamers & Idli Makers >> Idli Makers >> vatika Idli Makers",
          "Home Furnishing >> Bath Linen >> Bath Mats",
          "Beauty and Personal Care >> Hair Care",
          "Beauty and Personal Care >> Hair Care >> Hair Colors",
          "Beauty and Personal Care >> Hair Care >> Hair Colors >> Garnier Hair Colors",
          "Baby Care >> Infant Wear >> Baby Girls' Clothes >> Dresses & Skirts >> Dresses",
          "Baby Care >> Infant Wear >> Baby Girls' Clothes >> Dresses & Skirts >> Dresses >> Fs Mini Klub Dresses",
          "Baby Care >> Infant Wear >> Baby Girls' Clothes >> Dresses & Skirts >> Dresses",
          "Baby Care >> Infant Wear >> Baby Girls' Clothes >> Dresses & Skirts >> Dresses >> Chokree Dresses",
          "Baby Care >> Infant Wear >> Baby Boys' Clothes",
          "Baby Care >> Infant Wear >> Baby Boys' Clothes >> Shorts & Trousers",
          "Baby Care >> Infant Wear >> Baby Boys' Clothes >> Shorts & Trousers >> Track Pants",
          "Baby Care >> Infant Wear >> Baby Boys' Clothes >> Shorts & Trousers >> Track Pants >> Shaun Track Pants",
          "Baby Care >> Infant Wear >> Baby Boys' Clothes >> Shorts & Trousers >> Track Pants >> Shaun Track Pants",
          "Baby Care >> Baby Bath & Skin >> Baby Bath Towels",
          "Baby Care >> Baby Bath & Skin >> Baby Bath Towels >> Tks Baby Bath Towels",
          "Kitchen & Dining >> Bar & Glassware >> Bar Glasses",
          "Kitchen & Dining >> Bar & Glassware >> Bar Glasses >> Ocean Bar Glasses",
          "Beauty and Personal Care >> Hair Care >> Conditioners",
          "Beauty and Personal Care >> Hair Care >> Conditioners >> OGX Conditioners",
          "Kitchen & Dining >> Bar & Glassware >> Bar Glasses",
          "Kitchen & Dining >> Bar & Glassware >> Bar Glasses >> giftsthatwow Bar Glasses",
          "Kitchen & Dining >> Bar & Glassware >> Bar Glasses >> giftsthatwow Bar Glasses",
          "Beauty and Personal Care",
          "Beauty and Personal Care >> Bath and Spa",
          "Beauty and Personal Care >> Bath and Spa >> Body and Essential Oils",
          "Beauty and Personal Care >> Bath and Spa >> Body and Essential Oils >> Allin Exporters Body and Essential Oils",
          "Kitchen & Dining >> Bar & Glassware >> Bar Glasses",
          "Kitchen & Dining >> Bar & Glassware >> Bar Glasses >> Art n Beyond Bar Glasses",
          "Beauty and Personal Care >> Bath and Spa >> Body and Essential Oils >> Allin Exporters Body and Essential Oils",
          "Home Furnishing >> Kitchen & Dining Linen",
          "Home Furnishing >> Kitchen & Dining Linen >> Kitchen Linen Sets",
          "Home Furnishing >> Kitchen & Dining Linen >> Kitchen Linen Sets",
          "Home Furnishing >> Kitchen & Dining Linen >> Kitchen Linen Sets",
          "Computers >> Laptop Accessories",
          "Computers >> Laptop Accessories >> Batteries",
          "Computers >> Laptop Accessories >> Batteries",
          "Computers >> Laptop Accessories >> Batteries",
          "Computers >> Laptop Accessories >> Batteries",
          "Computers >> Laptop Accessories >> Batteries",
          "Computers >> Laptop Accessories >> Batteries",
          "Watches >> Wrist Watches",
          "Watches >> Wrist Watches",
          "Watches >> Wrist Watches",
          "Watches >> Wrist Watches",
          "Watches >> Wrist Watches",
          "Watches >> Wrist Watches",
          "Watches >> Wrist Watches",
          "Watches >> Wrist Watches",
          "Watches >> Wrist Watches",
          "Watches >> Wrist Watches",
          "Watches >> Wrist Watches",
          "Watches >> Wrist Watches",
          "Watches >> Wrist Watches",
          "Watches >> Wrist Watches",
          "Watches >> Wrist Watches",
          "Watches >> Wrist Watches",
          "Watches >> Wrist Watches",
          "Watches >> Wrist Watches",
          "Watches >> Wrist Watches",
          "Watches >> Wrist Watches",
          "Computers >> Laptop Accessories",
          "Computers >> Laptop Accessories >> Cleaning Kits",
          "Computers >> Laptop Accessories >> Cleaning Kits >> Shopfloor.XYZ Cleaning Kits",
          "Baby Care >> Infant Wear >> Baby Girls' Clothes",
          "Baby Care >> Infant Wear >> Baby Girls' Clothes >> Leggings & Jeggings",
          "Baby Care >> Infant Wear >> Baby Girls' Clothes >> Leggings & Jeggings >> Babyoye Premium Leggings & Jeggings",
          "Home Furnishing >> Cushions, Pillows & Covers",
          "Home Furnishing >> Cushions, Pillows & Covers >> Cushions",
          "Home Furnishing >> Cushions, Pillows & Covers >> Cushions >> Furnishing Zone Cushions",
          "Baby Care >> Infant Wear >> Baby Girls' Clothes >> Leggings & Jeggings >> Babyoye Premium Leggings & Jeggings",
          "Baby Care >> Infant Wear >> Baby Girls' Clothes >> Leggings & Jeggings",
          "Baby Care >> Infant Wear >> Baby Girls' Clothes >> Leggings & Jeggings >> GREENWICH Leggings & Jeggings",
          "Home Decor & Festive Needs >> Flowers, Plants & Vases",
          "Home Decor & Festive Needs >> Flowers, Plants & Vases >> Artificial Plants",
          "Home Decor & Festive Needs >> Flowers, Plants & Vases >> Artificial Plants >> Miracle Retail Artificial Plants",
          "Home Decor & Festive Needs >> Flowers, Plants & Vases >> Artificial Plants",
          "Home Decor & Festive Needs >> Flowers, Plants & Vases >> Artificial Plants >> Mayursflora Artificial Plants",
          "Home Decor & Festive Needs >> Flowers, Plants & Vases >> Artificial Plants",
          "Home Decor & Festive Needs >> Flowers, Plants & Vases >> Artificial Plants >> V Creations Artificial Plants",
          "Baby Care >> Infant Wear >> Baby Girls' Clothes >> Innerwear & Sleepwear >> Night Suits",
          "Baby Care >> Infant Wear >> Baby Girls' Clothes >> Innerwear & Sleepwear >> Night Suits >> LITTLE FEETZ Night Suits",
          "Computers >> Tablet Accessories >> Keyboards",
          "Baby Care >> Infant Wear >> Baby Girls' Clothes >> Dresses & Skirts >> Dresses",
          "Home Decor & Festive Needs >> Wall Decor & Clocks",
          "Home Decor & Festive Needs >> Wall Decor & Clocks >> Wall Shelves",
          "Home Decor & Festive Needs >> Wall Decor & Clocks >> Wall Shelves >> R&Mshoppee Wall Shelves",
          "Kitchen & Dining >> Coffee Mugs",
          "Kitchen & Dining >> Coffee Mugs >> posterchacha Coffee Mugs",
          "Watches >> Wrist Watches",
          "Watches >> Wrist Watches >> Curren Nx Wrist Watches",
          "Computers",
          "Computers >> Laptops",
          "Beauty and Personal Care >> Makeup >> Vanity Boxes",
          "Beauty and Personal Care >> Makeup >> Vanity Boxes >> Soulful Threads Vanity Boxes",
          "Beauty and Personal Care >> Makeup >> Vanity Boxes",
          "Beauty and Personal Care >> Makeup >> Vanity Boxes >> Aapno Rajasthan Vanity Boxes",
          "Beauty and Personal Care >> Makeup >> Vanity Boxes",
          "Beauty and Personal Care >> Makeup >> Vanity Boxes >> MohanJodero Vanity Boxes",
          "Home Decor & Festive Needs",
          "Home Decor & Festive Needs >> Garden & Leisure",
          "Home Decor & Festive Needs >> Garden & Leisure >> Hammocks & Swings",
          "Home Decor & Festive Needs >> Garden & Leisure >> Hammocks & Swings >> Hammocks",
          "Home Decor & Festive Needs >> Garden & Leisure >> Hammocks & Swings >> Hammocks >> Rrsskids Hammocks",
          "Home Decor & Festive Needs >> Wall Decor & Clocks >> Wall Decals & Stickers >> Smart Wall Guru Wall Decals & Stickers",
          "Home Furnishing >> Cushions, Pillows & Covers >> Cushion Covers",
          "Baby Care >> Feeding & Nursing",
          "Baby Care >> Feeding & Nursing >> Bibs & Hankies",
          "Baby Care >> Feeding & Nursing >> Bibs & Hankies >> Bibs",
          "Baby Care >> Feeding & Nursing >> Bibs & Hankies >> Bibs >> Cheeky Chompers Bibs",
          "Baby Care >> Feeding & Nursing >> Bibs & Hankies >> Bibs",
          "Baby Care >> Feeding & Nursing >> Bibs & Hankies >> Bibs >> Piyo Piyo Bibs",
          "Home Decor & Festive Needs >> Wall Decor & Clocks >> Wall Shelves",
          "Home Decor & Festive Needs >> Wall Decor & Clocks >> Wall Shelves >> Innovative Wall Shelves",
          "Baby Care >> Baby Grooming",
          "Baby Care >> Baby Grooming >> Boreal Baby Grooming",
          "Baby Care >> Infant Wear >> Baby Girls' Clothes >> Dresses & Skirts >> Dresses",
          "Baby Care >> Infant Wear >> Baby Girls' Clothes >> Dresses & Skirts >> Dresses >> Pokizo Dresses",
          "Baby Care >> Infant Wear >> Baby Girls' Clothes >> Dresses & Skirts >> Dresses",
          "Baby Care >> Infant Wear >> Baby Girls' Clothes >> Dresses & Skirts >> Dresses >> Titrit Dresses",
          "Baby Care >> Infant Wear >> Baby Girls' Clothes >> Dresses & Skirts >> Dresses",
          "Baby Care >> Infant Wear >> Baby Girls' Clothes >> Dresses & Skirts >> Dresses >> Young Birds Dresses",
          "Baby Care >> Infant Wear >> Baby Boys' Clothes >> Bodysuits & Sleepsuits >> Bodysuits",
          "Baby Care >> Infant Wear >> Baby Boys' Clothes >> Bodysuits & Sleepsuits >> Bodysuits >> FS Mini Klub Bodysuits",
          "Baby Care >> Infant Wear >> Baby Boys' Clothes >> Bodysuits & Sleepsuits >> Bodysuits",
          "Baby Care >> Infant Wear >> Baby Boys' Clothes >> Bodysuits & Sleepsuits >> Bodysuits >> chota packet Bodysuits",
          "Baby Care >> Infant Wear >> Baby Boys' Clothes >> Bodysuits & Sleepsuits >> Bodysuits",
          "Baby Care >> Infant Wear >> Baby Boys' Clothes >> Bodysuits & Sleepsuits >> Bodysuits >> You Got Plan B Bodysuits",
          "Baby Care >> Diapering & Potty Training",
          "Baby Care >> Diapering & Potty Training >> Diaper Bags",
          "Baby Care >> Diapering & Potty Training >> Diaper Bags >> Mee Mee Diaper Bags",
          "Baby Care >> Infant Wear >> Baby Girls' Clothes >> Leggings & Jeggings",
          "Baby Care >> Infant Wear >> Baby Girls' Clothes >> Leggings & Jeggings >> Zero Leggings & Jeggings",
          "Baby Care >> Infant Wear >> Baby Boys' Clothes",
          "Baby Care >> Infant Wear >> Baby Boys' Clothes >> Suits and Blazers",
          "Baby Care >> Infant Wear >> Baby Boys' Clothes >> Suits and Blazers >> Blazers",
          "Baby Care >> Infant Wear >> Baby Boys' Clothes >> Suits and Blazers >> Blazers >> Oxolloxo Blazers",
          "Home Decor & Festive Needs >> Decorative Lighting & Lamps",
          "Home Decor & Festive Needs >> Decorative Lighting & Lamps >> Lanterns",
          "Home Decor & Festive Needs >> Decorative Lighting & Lamps >> Lanterns >> SHOPOJ Lanterns",
          "Home Furnishing >> Curtains & Accessories >> Curtains",
          "Beauty and Personal Care >> Hair Care >> Hair Care Accessories >> Hair Accessories",
          "Beauty and Personal Care >> Hair Care >> Hair Care Accessories >> Hair Accessories >> Sarah Hair Accessories",
          "Kitchen & Dining >> Cookware >> Pots & Pans",
          "Kitchen & Dining >> Cookware >> Pots & Pans >> Cookware Pots",
          "Kitchen & Dining >> Cookware >> Pots & Pans >> Cookware Pots >> Wonderchef Cookware Pots",
          "Baby Care >> Infant Wear >> Baby Girls' Clothes",
          "Baby Care >> Infant Wear >> Baby Girls' Clothes >> T-Shirts & Tops",
          "Baby Care >> Infant Wear >> Baby Girls' Clothes >> T-Shirts & Tops >> Shrugs",
          "Baby Care >> Infant Wear >> Baby Girls' Clothes >> T-Shirts & Tops >> Shrugs >> Kushies baby Shrugs",
          "Baby Care >> Infant Wear >> Baby Girls' Clothes >> Dresses & Skirts >> Dresses",
          "Baby Care >> Infant Wear >> Baby Girls' Clothes >> Dresses & Skirts >> Dresses >> Wow! Dresses",
          "Baby Care >> Infant Wear >> Baby Girls' Clothes >> Innerwear & Sleepwear >> Night Suits",
          "Baby Care >> Infant Wear >> Baby Girls' Clothes >> Innerwear & Sleepwear >> Night Suits >> CHOCOBERRY Night Suits",
          "Baby Care >> Infant Wear >> Baby Boys' Clothes >> Shorts & Trousers",
          "Baby Care >> Infant Wear >> Baby Boys' Clothes >> Shorts & Trousers >> Shorts",
          "Baby Care >> Infant Wear >> Baby Boys' Clothes >> Shorts & Trousers >> Shorts >> Lilliput Shorts",
          "Baby Care >> Infant Wear >> Baby Girls' Clothes >> Dresses & Skirts >> Dresses",
          "Baby Care >> Infant Wear >> Baby Girls' Clothes >> Dresses & Skirts >> Dresses >> Jacadi Paris Dresses",
          "Baby Care >> Infant Wear >> Baby Girls' Clothes >> Dresses & Skirts >> Dresses >> Wow! Dresses",
          "Baby Care >> Infant Wear >> Baby Girls' Clothes >> Dresses & Skirts >> Dresses >> Wow! Dresses",
          "Baby Care >> Infant Wear >> Baby Girls' Clothes >> Dresses & Skirts >> Dresses >> Jacadi Paris Dresses",
          "Baby Care >> Infant Wear >> Baby Boys' Clothes >> Shorts & Trousers >> Shorts",
          "Baby Care >> Infant Wear >> Baby Boys' Clothes >> Shorts & Trousers >> Shorts >> FS Mini Klub Shorts",
          "Kitchen & Dining",
          "Kitchen & Dining >> Housekeeping & Laundry",
          "Kitchen & Dining >> Housekeeping & Laundry >> Home Cleaning",
          "Kitchen & Dining >> Housekeeping & Laundry >> Home Cleaning >> Brooms & Brushes",
          "Kitchen & Dining >> Housekeeping & Laundry >> Home Cleaning >> Brooms & Brushes >> Geol Brooms & Brushes",
          "Computers >> Laptop Accessories",
          "Computers >> Laptop Accessories >> Laptop Bags",
          "Computers >> Laptop Accessories >> Laptop Bags >> Sunlast Laptop Bags",
          "Baby Care >> Infant Wear >> Baby Girls' Clothes >> Innerwear & Sleepwear >> Night Suits",
          "Baby Care >> Infant Wear >> Baby Girls' Clothes >> Innerwear & Sleepwear >> Night Suits >> NammaBaby Night Suits",
          "Baby Care >> Infant Wear >> Baby Girls' Clothes >> Innerwear & Sleepwear >> Night Suits",
          "Baby Care >> Infant Wear >> Baby Girls' Clothes >> Innerwear & Sleepwear >> Night Suits >> Thakkar Night Suits",
          "Baby Care >> Infant Wear >> Baby Girls' Clothes >> Innerwear & Sleepwear >> Night Suits",
          "Baby Care >> Infant Wear >> Baby Girls' Clothes >> Innerwear & Sleepwear >> Night Suits >> next steps Night Suits",
          "Computers",
          "Computers >> Computer Components",
          "Computers >> Computer Components >> Processors",
          "Computers >> Computer Components >> Processors >> Intel Processors",
          "Baby Care >> Infant Wear >> Baby Girls' Clothes >> Dresses & Skirts >> Dresses >> MKB Dresses",
          "Baby Care >> Infant Wear >> Baby Girls' Clothes >> Dresses & Skirts >> Dresses",
          "Baby Care >> Infant Wear >> Baby Girls' Clothes >> Dresses & Skirts >> Dresses >> NeedyBee Dresses",
          "Baby Care >> Infant Wear >> Baby Girls' Clothes >> Dresses & Skirts >> Dresses",
          "Baby Care >> Infant Wear >> Baby Girls' Clothes >> Dresses & Skirts >> Dresses >> Seals Dresses",
          "Baby Care >> Infant Wear >> Baby Girls' Clothes >> Dresses & Skirts >> Dresses >> Chokree Dresses",
          "Baby Care >> Infant Wear >> Baby Boys' Clothes",
          "Baby Care >> Infant Wear >> Baby Boys' Clothes >> Innerwear & Sleepwear",
          "Baby Care >> Infant Wear >> Baby Boys' Clothes >> Innerwear & Sleepwear >> Bloomers & Drawers",
          "Baby Care >> Infant Wear >> Baby Boys' Clothes >> Innerwear & Sleepwear >> Bloomers & Drawers >> Esteem Bloomers & Drawers",
          "Home Decor & Festive Needs >> Wall Decor & Clocks",
          "Home Decor & Festive Needs >> Wall Decor & Clocks >> Clocks",
          "Home Decor & Festive Needs >> Wall Decor & Clocks >> Clocks >> Wall Clocks",
          "Home Decor & Festive Needs >> Wall Decor & Clocks >> Clocks >> Wall Clocks >> KLOCX Wall Clocks",
          "Baby Care >> Baby Bath & Skin >> Baby Bath Towels",
          "Watches >> Wrist Watches",
          "Baby Care >> Baby Bath & Skin >> Baby Bath Towels",
          "Baby Care",
          "Baby Care >> Baby & Kids Gifts",
          "Baby Care >> Baby & Kids Gifts >> Photo Frames",
          "Baby Care >> Baby Bath & Skin >> Baby Bath Towels",
          "Baby Care >> Feeding & Nursing",
          "Baby Care >> Feeding & Nursing >> Utensils",
          "Baby Care >> Feeding & Nursing >> Utensils >> Sippers & Cups",
          "Home Decor & Festive Needs >> Wall Decor & Clocks >> Wall Decals & Stickers",
          "Home Decor & Festive Needs >> Table Decor & Handicrafts >> Showpieces >> Religious Idols",
          "Baby Care >> Feeding & Nursing >> Utensils >> Sippers & Cups",
          "Baby Care >> Baby Bath & Skin >> Baby Bath Towels",
          "Baby Care >> Infant Wear >> Baby Girls' Clothes",
          "Baby Care >> Infant Wear >> Baby Girls' Clothes >> Accessories",
          "Baby Care >> Infant Wear >> Baby Girls' Clothes >> Accessories >> Caps",
          "Baby Care >> Infant Wear >> Baby Girls' Clothes >> Ethnic Wear",
          "Baby Care >> Infant Wear >> Baby Girls' Clothes >> Ethnic Wear >> Ethnic Sets",
          "Kitchen & Dining >> Lighting >> Bulbs",
          "Baby Care >> Baby Bath & Skin >> Baby Bath Towels",
          "Baby Care >> Baby & Kids Gifts >> Photo Frames",
          "Kitchen & Dining >> Lighting >> Bulbs",
          "Baby Care >> Baby & Kids Gifts >> Photo Frames",
          "Kitchen & Dining >> Lighting >> Bulbs",
          "Baby Care >> Baby Bath & Skin >> Baby Bath Towels",
          "Kitchen & Dining >> Lighting >> Bulbs",
          "Baby Care >> Baby Bath & Skin >> Baby Bath Towels",
          "Home Decor & Festive Needs >> Table Decor & Handicrafts >> Showpieces >> Religious Idols",
          "Kitchen & Dining >> Lighting >> Bulbs",
          "Baby Care >> Baby & Kids Gifts >> Photo Frames",
          "Beauty and Personal Care >> Body and Skin Care",
          "Beauty and Personal Care >> Body and Skin Care >> Face Care",
          "Beauty and Personal Care >> Body and Skin Care >> Face Care >> Sunscreen",
          "Beauty and Personal Care >> Body and Skin Care >> Face Care >> Sunscreen",
          "Beauty and Personal Care >> Body and Skin Care >> Face Care >> Sunscreen",
          "Beauty and Personal Care >> Body and Skin Care >> Face Care >> Sunscreen",
          "Beauty and Personal Care >> Body and Skin Care >> Face Care >> Sunscreen",
          "Beauty and Personal Care >> Body and Skin Care >> Face Care >> Sunscreen",
          "Beauty and Personal Care >> Body and Skin Care >> Face Care >> Sunscreen",
          "Kitchen & Dining >> Lighting >> Bulbs",
          "Beauty and Personal Care >> Body and Skin Care >> Face Care >> Sunscreen",
          "Beauty and Personal Care >> Body and Skin Care >> Face Care >> Sunscreen",
          "Beauty and Personal Care >> Body and Skin Care >> Face Care >> Sunscreen",
          "Home Decor & Festive Needs >> Wall Decor & Clocks",
          "Home Decor & Festive Needs >> Wall Decor & Clocks >> Paintings",
          "Home Decor & Festive Needs >> Wall Decor & Clocks >> Paintings",
          "Home Furnishing >> Kitchen & Dining Linen",
          "Home Furnishing >> Kitchen & Dining Linen >> Table Placemats",
          "Home Decor & Festive Needs >> Showpieces",
          "Home Decor & Festive Needs >> Table Decor & Handicrafts >> Showpieces >> Religious Idols",
          "Baby Care >> Diapering & Potty Training",
          "Baby Care >> Diapering & Potty Training >> Nappies & Cloth Diapers",
          "Baby Care >> Diapering & Potty Training >> Nappies & Cloth Diapers",
          "Baby Care >> Diapering & Potty Training >> Nappies & Cloth Diapers",
          "Home Furnishing >> Kitchen & Dining Linen",
          "Home Decor & Festive Needs >> Table Decor & Handicrafts >> Showpieces >> Religious Idols",
          "Baby Care >> Diapering & Potty Training >> Nappies & Cloth Diapers",
          "Home Decor & Festive Needs >> Table Decor & Handicrafts >> Showpieces >> Religious Idols",
          "Home Decor & Festive Needs >> Decorative Lighting & Lamps",
          "Home Decor & Festive Needs >> Decorative Lighting & Lamps >> Series Lights",
          "Home Decor & Festive Needs >> Decorative Lighting & Lamps >> Series Lights >> VRCT Series Lights",
          "Beauty and Personal Care >> Makeup >> Lips",
          "Beauty and Personal Care >> Makeup >> Lips >> Lipsticks",
          "Home Furnishing >> Kitchen & Dining Linen >> Kitchen Linen Sets",
          "Home Furnishing >> Kitchen & Dining Linen >> Kitchen Linen Sets >> Tidy Kitchen Linen Sets",
          "Baby Care >> Infant Wear >> Baby Boys' Clothes >> Bodysuits & Sleepsuits >> Bodysuits",
          "Computers >> Computer Peripherals >> Printers & Inks >> Toners",
          "Home Decor & Festive Needs >> Table Decor & Handicrafts >> Showpieces >> Religious Idols",
          "Beauty and Personal Care >> Bath and Spa",
          "Beauty and Personal Care >> Bath and Spa >> Bath and Spa Accessories",
          "Beauty and Personal Care >> Bath and Spa >> Bath and Spa Accessories >> Loofahs",
          "Beauty and Personal Care >> Bath and Spa >> Bath and Spa Accessories >> Loofahs >> AntiqueShop Loofahs",
          "Beauty and Personal Care >> Bath and Spa >> Bath and Spa Accessories >> Loofahs >> AntiqueShop Loofahs",
          "Beauty and Personal Care >> Bath and Spa >> Bath and Spa Accessories >> Loofahs >> AntiqueShop Loofahs",
          "Home Decor & Festive Needs",
          "Home Decor & Festive Needs >> Religion & Devotion",
          "Home Decor & Festive Needs >> Religion & Devotion >> brass gift center Religion & Devotion",
          "Kitchen & Dining",
          "Kitchen & Dining >> Dinnerware & Crockery",
          "Kitchen & Dining >> Dinnerware & Crockery >> Cups & Saucers",
          "Kitchen & Dining >> Dinnerware & Crockery >> Cups & Saucers >> Buyer's Beach Cups & Saucers",
          "Computers >> Laptop Accessories",
          "Computers >> Laptop Accessories >> Anti Dust Plugs",
          "Watches >> Wrist Watches",
          "Kitchen & Dining >> Containers & Bottles >> Bottles & Sippers >> Water bottle",
          "Beauty and Personal Care >> Combos and Kits",
          "Watches >> Wrist Watches",
          "Watches >> Wrist Watches",
          "Watches >> Wrist Watches",
          "Watches >> Wrist Watches",
          "Watches >> Wrist Watches",
          "Beauty and Personal Care >> Combos and Kits",
          "Watches >> Wrist Watches",
          "Baby Care >> Baby Bedding",
          "Baby Care >> Baby Bedding >> Baby Blankets",
          "Baby Care >> Baby Bedding >> Baby Blankets",
          "Baby Care >> Baby Bedding >> Baby Blankets",
          "Baby Care >> Baby Bedding >> Baby Blankets",
          "Watches >> Wrist Watches",
          "Baby Care >> Feeding & Nursing >> Utensils",
          "Baby Care >> Feeding & Nursing >> Utensils >> Baby Spoons & Forks",
          "Baby Care >> Feeding & Nursing >> Utensils >> Baby Spoons & Forks",
          "Baby Care >> Baby Bath & Skin >> Baby Bath Towels",
          "Watches >> Wrist Watches",
          "Beauty and Personal Care",
          "Beauty and Personal Care >> Eye Care",
          "Baby Care >> Diapering & Potty Training >> Nappies & Cloth Diapers",
          "Watches >> Wrist Watches",
          "Watches >> Wrist Watches",
          "Computers >> Laptop Accessories >> Adapters",
          "Computers >> Laptop Accessories >> Adapters",
          "Home Decor & Festive Needs >> Wall Decor & Clocks >> Clocks >> Wall Clocks",
          "Home Decor & Festive Needs >> Wall Decor & Clocks >> Clocks >> Wall Clocks",
          "Home Decor & Festive Needs >> Showpiece",
          "Home Decor & Festive Needs >> Showpiece >> Bharatcraft Showpiece",
          "Watches >> Wrist Watches",
          "Watches >> Wrist Watches",
          "Watches >> Wrist Watches",
          "Computers >> Laptop Accessories >> USB Gadgets",
          "Computers >> Laptop Accessories >> USB Gadgets",
          "Computers >> Laptop Accessories >> USB Gadgets",
          "Computers >> Laptop Accessories >> USB Gadgets",
          "Computers >> Laptop Accessories >> USB Gadgets",
          "Computers >> Laptop Accessories >> USB Gadgets",
          "Computers >> Laptop Accessories >> USB Gadgets",
          "Computers >> Laptop Accessories >> USB Gadgets",
          "Computers >> Laptop Accessories >> USB Gadgets",
          "Computers >> Laptop Accessories >> USB Gadgets",
          "Computers >> Laptop Accessories >> USB Gadgets",
          "Computers >> Laptop Accessories >> USB Gadgets",
          "Computers >> Laptop Accessories >> USB Gadgets",
          "Computers >> Laptop Accessories >> USB Gadgets",
          "Baby Care >> Infant Wear >> Baby Girls' Clothes >> Shorts & Trousers",
          "Baby Care >> Infant Wear >> Baby Girls' Clothes >> Shorts & Trousers >> Trousers",
          "Computers >> Laptop Accessories >> USB Gadgets",
          "Computers >> Laptop Accessories >> USB Gadgets",
          "Computers >> Laptop Accessories >> USB Gadgets",
          "Computers >> Laptop Accessories >> USB Gadgets",
          "Computers >> Laptop Accessories >> USB Gadgets",
          "Computers >> Laptop Accessories >> USB Gadgets",
          "Computers >> Laptop Accessories >> USB Gadgets",
          "Computers >> Laptop Accessories >> USB Gadgets",
          "Computers >> Laptop Accessories >> USB Gadgets",
          "Computers >> Laptop Accessories >> USB Gadgets",
          "Computers >> Laptop Accessories >> USB Gadgets",
          "Computers >> Laptop Accessories >> Batteries",
          "Baby Care >> Infant Wear >> Baby Girls' Clothes",
          "Baby Care >> Infant Wear >> Baby Girls' Clothes >> Combo Sets",
          "Baby Care >> Infant Wear >> Baby Girls' Clothes >> Combo Sets >> kawal fashion Combo Sets",
          "Beauty and Personal Care",
          "Beauty and Personal Care >> Men's Grooming",
          "Beauty and Personal Care >> Men's Grooming >> Sivanna Men's Grooming",
          "Baby Care >> Infant Wear >> Baby Girls' Clothes >> Bodysuits & Sleepsuits",
          "Baby Care >> Infant Wear >> Baby Girls' Clothes >> Bodysuits & Sleepsuits >> Bodysuits",
          "Baby Care >> Infant Wear >> Baby Girls' Clothes >> Bodysuits & Sleepsuits >> Bodysuits >> Lula Bodysuits",
          "Home Furnishing >> Bath Linen",
          "Baby Care >> Baby Grooming",
          "Baby Care >> Baby Grooming >> Baby Massage Oils",
          "Beauty and Personal Care >> Bath and Spa >> Body and Essential Oils",
          "Baby Care >> Furniture & Furnishings >> Inflatable Products",
          "Beauty and Personal Care >> Health Care",
          "Beauty and Personal Care >> Health Care >> Health Care Accessories",
          "Beauty and Personal Care >> Health Care >> Health Care Accessories >> Health Care Accessories",
          "Beauty and Personal Care >> Health Care >> Health Care Accessories >> Health Care Accessories >> KDS SURGICAL Health Care Accessories",
          "Home Decor & Festive Needs >> Showpiece >> Contemporary",
          "Home Decor & Festive Needs >> Showpiece >> Contemporary >> Bharatcraft Contemporary",
          "Beauty and Personal Care >> Hair Care >> Hair Colors",
          "Beauty and Personal Care >> Hair Care >> Hair Colors >> Loreal Hair Colors",
          "Home Decor & Festive Needs >> Flowers, Plants & Vases >> Flower Vase >> @home Flower Vase",
          "Kitchen & Dining >> Tableware & Cutlery",
          "Kitchen & Dining >> Tableware & Cutlery >> Jugs & Pitchers",
          "Kitchen & Dining >> Tableware & Cutlery >> Jugs & Pitchers >> Jugs",
          "Kitchen & Dining >> Tableware & Cutlery >> Jugs & Pitchers >> Jugs >> Prisha India Craft Jugs",
          "Home Decor & Festive Needs >> Wall Decor & Clocks >> Paintings",
          "Home Decor & Festive Needs >> Wall Decor & Clocks >> Paintings >> BRANDWAGON Paintings",
          "Baby Care >> Baby Bedding >> Baby Blankets",
          "Baby Care >> Baby Bedding >> Baby Blankets >> Relaxfeel Baby Blankets",
          "Home Decor & Festive Needs >> Wall Decor & Clocks",
          "Home Decor & Festive Needs >> Wall Decor & Clocks >> Posters",
          "Home Decor & Festive Needs >> Wall Decor & Clocks >> Posters >> STYLE CLUES FASHION Posters",
          "Home Decor & Festive Needs >> Wall Decor & Clocks >> Posters",
          "Home Decor & Festive Needs >> Wall Decor & Clocks >> Posters >> Mega product Posters",
          "Baby Care >> Infant Wear >> Baby Boys' Clothes",
          "Baby Care >> Infant Wear >> Baby Boys' Clothes >> Shirts",
          "Baby Care >> Infant Wear >> Baby Boys' Clothes >> Shirts >> Fs Mini Klub Shirts",
          "Baby Care >> Infant Wear >> Baby Boys' Clothes >> Shirts",
          "Baby Care >> Infant Wear >> Baby Boys' Clothes >> Shirts >> Cotton On Kids Shirts",
          "Baby Care >> Infant Wear >> Baby Girls' Clothes >> Accessories",
          "Baby Care >> Infant Wear >> Baby Girls' Clothes >> Accessories >> Hats",
          "Baby Care >> Infant Wear >> Baby Girls' Clothes >> Accessories >> Hats >> Portia Hats",
          "Baby Care >> Infant Wear >> Baby Boys' Clothes >> Shirts",
          "Baby Care >> Infant Wear >> Baby Boys' Clothes >> Shirts >> Beebay Shirts",
          "Home Decor & Festive Needs >> Wall Decor & Clocks >> Posters",
          "Home Decor & Festive Needs >> Wall Decor & Clocks >> Posters >> Shoperite Posters",
          "Home Decor & Festive Needs >> Wall Decor & Clocks >> Posters",
          "Home Decor & Festive Needs >> Wall Decor & Clocks >> Posters >> Urban Monk Posters",
          "Watches",
          "Watches >> Clocks",
          "Watches >> Clocks >> Table Clocks",
          "Watches >> Clocks >> Table Clocks >> Like Table Clocks",
          "Baby Care >> Infant Wear >> Baby Boys' Clothes >> Shirts",
          "Baby Care >> Infant Wear >> Baby Boys' Clothes >> Shirts >> 612 League Shirts",
          "Baby Care >> Infant Wear >> Baby Boys' Clothes >> Shirts",
          "Baby Care >> Infant Wear >> Baby Boys' Clothes >> Shirts >> FS Mini Klub Shirts",
          "Home Decor & Festive Needs >> Wall Decor & Clocks",
          "Home Decor & Festive Needs >> Wall Decor & Clocks >> Wallpapers",
          "Home Decor & Festive Needs >> Wall Decor & Clocks >> Wallpapers >> wallskart Wallpapers",
          "Home Decor & Festive Needs >> Decorative Lighting & Lamps >> Series Lights",
          "Home Decor & Festive Needs >> Table Decor & Handicrafts >> Showpieces >> Religious Idols",
          "Home Decor & Festive Needs >> Decorative Lighting & Lamps >> Series Lights",
          "Home Decor & Festive Needs >> Table Decor & Handicrafts >> Showpieces >> Religious Idols",
          "Home Decor & Festive Needs >> Decorative Lighting & Lamps >> Series Lights",
          "Beauty and Personal Care >> Makeup >> Lips >> Lipsticks",
          "Home Decor & Festive Needs >> Decorative Lighting & Lamps >> Series Lights",
          "Home Decor & Festive Needs >> Showpieces",
          "Home Decor & Festive Needs >> Table Decor & Handicrafts >> Showpieces >> Religious Idols",
          "Beauty and Personal Care >> Makeup >> Lips >> Lipsticks",
          "Home Decor & Festive Needs >> Decorative Lighting & Lamps >> Series Lights",
          "Home Decor & Festive Needs >> Decorative Lighting & Lamps >> Series Lights",
          "Home Decor & Festive Needs >> Showpieces",
          "Home Decor & Festive Needs >> Table Decor & Handicrafts >> Table Decor >> Hookah & Hookah Flavours",
          "Home Decor & Festive Needs >> Table Decor & Handicrafts >> Table Decor >> Hookah & Hookah Flavours >> Hookah Flavors",
          "Home Decor & Festive Needs >> Decorative Lighting & Lamps >> Series Lights",
          "Beauty and Personal Care >> Makeup >> Lips >> Lipsticks",
          "Home Decor & Festive Needs >> Table Decor & Handicrafts >> Showpieces >> Religious Idols",
          "Home Decor & Festive Needs >> Table Decor & Handicrafts >> Table Decor >> Hookah & Hookah Flavours >> Hookah Flavors",
          "Home Decor & Festive Needs >> Religion & Devotion",
          "Home Decor & Festive Needs >> Religion & Devotion >> Shankh",
          "Kitchen & Dining >> Tableware & Cutlery",
          "Kitchen & Dining >> Tableware & Cutlery >> Cutlery",
          "Kitchen & Dining >> Tableware & Cutlery >> Cutlery >> Forks",
          "Kitchen & Dining >> Tableware & Cutlery >> Cutlery >> Forks >> Bhalaria Forks",
          "Home Decor & Festive Needs >> Decorative Lighting & Lamps",
          "Home Decor & Festive Needs >> Decorative Lighting & Lamps >> Floor Lamp",
          "Home Decor & Festive Needs >> Decorative Lighting & Lamps >> Floor Lamp >> Nutcase Floor Lamp",
          "Home Furnishing",
          "Home Furnishing >> Floor Coverings",
          "Home Furnishing >> Floor Coverings >> Carpets & Rugs",
          "Home Furnishing >> Floor Coverings >> Carpets & Rugs",
          "Home Furnishing >> Kitchen & Dining Linen >> Kitchen Linen Sets",
          "Home Furnishing >> Floor Coverings >> Carpets & Rugs",
          "Home Furnishing >> Floor Coverings >> Carpets & Rugs",
          "Home Furnishing >> Floor Coverings >> Carpets & Rugs",
          "Home Furnishing >> Floor Coverings >> Carpets & Rugs",
          "Beauty and Personal Care >> Body and Skin Care",
          "Beauty and Personal Care >> Body and Skin Care >> Lip Care",
          "Beauty and Personal Care >> Body and Skin Care >> Lip Care >> Lip Creams",
          "Beauty and Personal Care >> Body and Skin Care >> Lip Care >> Lip Creams >> NYX Lip Creams",
          "Kitchen & Dining >> Kitchen Tools >> Kitchen Implements",
          "Kitchen & Dining >> Kitchen Tools >> Kitchen Implements >> Kitchen Scissors",
          "Kitchen & Dining >> Kitchen Tools >> Kitchen Implements >> Kitchen Scissors >> Checkered Chef Kitchen Scissors",
          "Baby Care >> Baby Bedding",
          "Baby Care >> Baby Bedding >> Baby Bedsheets",
          "Baby Care >> Baby Bedding >> Baby Bedsheets >> Mahadev Handicrafts Baby Bedsheets",
          "Baby Care >> Baby Bedding >> Baby Bedsheets",
          "Baby Care >> Baby Bedding >> Baby Bedsheets >> Sparklings Baby Bedsheets",
          "Home Furnishing >> Living >> Sofa Covers",
          "Home Furnishing >> Living >> Sofa Covers >> Swastik Sofa Covers",
          "Baby Care >> Baby Bedding >> Baby Bedsheets",
          "Baby Care >> Baby Bedding >> Baby Bedsheets >> Bela Home Baby Bedsheets",
          "Baby Care >> Baby Bedding >> Baby Bedsheets >> Sparklings Baby Bedsheets",
          "Baby Care >> Infant Wear >> Baby Boys' Clothes >> Shirts",
          "Baby Care >> Infant Wear >> Baby Boys' Clothes >> Shirts >> CALCULUS Shirts",
          "Home Decor & Festive Needs >> Showpiece",
          "Home Decor & Festive Needs >> Showpiece >> Gramophones",
          "Home Decor & Festive Needs >> Showpiece >> Gramophones >> ROYLE KATOCH Gramophones",
          "Home Decor & Festive Needs >> Religion & Devotion",
          "Home Decor & Festive Needs >> Religion & Devotion >> Jaycoknit Religion & Devotion",
          "Baby Care >> Infant Wear >> Baby Boys' Clothes >> Shirts",
          "Baby Care >> Infant Wear >> Baby Boys' Clothes >> Shirts >> Jacadi paris Shirts",
          "Beauty and Personal Care",
          "Beauty and Personal Care >> Beauty Accessories",
          "Beauty and Personal Care >> Beauty Accessories >> Makeup Accessories",
          "Beauty and Personal Care >> Beauty Accessories >> Makeup Accessories >> Brushes and Applicators",
          "Beauty and Personal Care >> Beauty Accessories >> Makeup Accessories >> Brushes and Applicators >> LOTTIE LONDON Brushes and Applicators",
          "Baby Care >> Infant Wear >> Baby Girls' Clothes >> Bodysuits & Sleepsuits >> Bodysuits",
          "Baby Care >> Infant Wear >> Baby Girls' Clothes >> Bodysuits & Sleepsuits >> Bodysuits >> FS Mini Klub Bodysuits",
          "Kitchen & Dining >> Kitchen Tools",
          "Kitchen & Dining >> Kitchen Tools >> Choppers & Peelers",
          "Kitchen & Dining >> Kitchen Tools >> Choppers & Peelers >> Graters & Slicers",
          "Kitchen & Dining >> Kitchen Tools >> Choppers & Peelers >> Graters & Slicers >> Deep Graters & Slicers",
          "Baby Care >> Infant Wear >> Baby Boys' Clothes >> Polos & T-Shirts",
          "Baby Care >> Infant Wear >> Baby Boys' Clothes >> Polos & T-Shirts >> dongli Polos & T-Shirts",
          "Baby Care >> Infant Wear >> Baby Boys' Clothes >> Polos & T-Shirts",
          "Baby Care >> Infant Wear >> Baby Boys' Clothes >> Polos & T-Shirts >> Fs Mini Klub Polos & T-Shirts",
          "Baby Care >> Infant Wear >> Baby Girls' Clothes >> Ethnic Wear >> Salwar Kurta Dupattas",
          "Baby Care >> Infant Wear >> Baby Girls' Clothes >> Ethnic Wear >> Salwar Kurta Dupattas >> Aarika Salwar Kurta Dupattas",
          "Baby Care >> Infant Wear >> Baby Boys' Clothes >> Polos & T-Shirts",
          "Baby Care >> Infant Wear >> Baby Boys' Clothes >> Polos & T-Shirts >> Rishan Polos & T-Shirts",
          "Baby Care >> Infant Wear >> Baby Boys' Clothes >> Polos & T-Shirts",
          "Baby Care >> Infant Wear >> Baby Boys' Clothes >> Polos & T-Shirts >> YK Polos & T-Shirts",
          "Home Decor & Festive Needs >> Table Decor & Handicrafts >> Showpieces >> Human Figurines",
          "Beauty and Personal Care >> Makeup >> Vanity Boxes",
          "Home Decor & Festive Needs >> Showpieces",
          "Home Decor & Festive Needs >> Table Decor & Handicrafts >> Showpieces >> Human Figurines",
          "Beauty and Personal Care >> Makeup >> Vanity Boxes",
          "Home Decor & Festive Needs >> Table Decor & Handicrafts >> Showpieces >> Human Figurines",
          "Baby Care >> Infant Wear >> Baby Girls' Clothes >> Shorts & Trousers >> Trousers",
          "Baby Care >> Infant Wear >> Baby Girls' Clothes >> Shorts & Trousers >> Trousers >> CoffeeBean Trousers",
          "Kitchen & Dining >> Bar & Glassware >> Bar Accessories",
          "Kitchen & Dining >> Bar & Glassware >> Bar Accessories >> Cork Screws",
          "Kitchen & Dining >> Bar & Glassware >> Bar Accessories >> Cork Screws",
          "Kitchen & Dining >> Coffee Mugs",
          "Kitchen & Dining >> Coffee Mugs >> AM Creation Coffee Mugs",
          "Baby Care >> Baby Bath & Skin",
          "Baby Care >> Baby Bath & Skin >> Baby Body Wash",
          "Baby Care >> Baby Bath & Skin >> Baby Body Wash >> TRESemme Baby Body Wash",
          "Baby Care >> Baby Bath & Skin >> Baby Body Wash",
          "Baby Care >> Baby Bath & Skin >> Baby Body Wash >> L Oreal Baby Body Wash",
          "Home Decor & Festive Needs >> Table Decor & Handicrafts >> Showpieces >> Religious Idols",
          "Home Decor & Festive Needs >> Table Decor & Handicrafts >> Showpieces >> Religious Idols >> CTW Religious Idols",
          "Kitchen & Dining >> Coffee Mugs",
          "Kitchen & Dining >> Coffee Mugs >> Happiness Is Coffee Mugs",
          "Home Furnishing >> Living >> Sofa Covers",
          "Kitchen & Dining >> Containers & Bottles",
          "Kitchen & Dining >> Containers & Bottles >> Containers & Jars",
          "Kitchen & Dining >> Containers & Bottles >> Containers & Jars >> Kitchen Containers",
          "Kitchen & Dining >> Containers & Bottles >> Containers & Jars >> Kitchen Containers >> Lock&Lock Kitchen Containers",
          "Baby Care >> Infant Wear >> Baby Girls' Clothes >> Bodysuits & Sleepsuits >> Bodysuits",
          "Baby Care >> Infant Wear >> Baby Girls' Clothes >> Bodysuits & Sleepsuits >> Bodysuits >> Mom & Me Bodysuits",
          "Computers >> Laptop Accessories >> USB Gadgets",
          "Computers >> Laptop Accessories >> USB Gadgets >> APOLLO+ USB Gadgets",
          "Kitchen & Dining >> Coffee Mugs",
          "Kitchen & Dining >> Coffee Mugs >> HuppmeGift Coffee Mugs",
          "Baby Care >> Baby & Kids Gifts",
          "Baby Care >> Baby & Kids Gifts >> Decorations",
          "Baby Care >> Baby & Kids Gifts >> Decorations >> Doraemon Gift Family Ceramic Coffee Mug Decorations",
          "Beauty and Personal Care >> Makeup",
          "Beauty and Personal Care >> Makeup >> Eyes",
          "Beauty and Personal Care >> Makeup >> Eyes >> Eye Shadows",
          "Beauty and Personal Care >> Makeup >> Eyes >> Eye Shadows >> Milani Eye Shadows",
          "Beauty and Personal Care >> Makeup >> Eyes >> Eye Shadows",
          "Beauty and Personal Care >> Makeup >> Eyes >> Eye Shadows >> e.l.f. Cosmetics Eye Shadows",
          "Beauty and Personal Care >> Bath and Spa",
          "Beauty and Personal Care >> Bath and Spa >> Soaps",
          "Beauty and Personal Care >> Bath and Spa >> Soaps >> Aster Luxury Soaps",
          "Kitchen & Dining >> Kitchen Tools",
          "Kitchen & Dining >> Kitchen Tools >> Kitchen Tool Sets",
          "Kitchen & Dining >> Kitchen Tools >> Kitchen Tool Sets >> King Traders Kitchen Tool Sets",
          "Home Decor & Festive Needs >> Wall Decor & Clocks >> Wall Decals & Stickers",
          "Home Decor & Festive Needs >> Wall Decor & Clocks >> Wall Decals & Stickers >> Wall Decal Wall Decals & Stickers",
          "Baby Care >> Infant Wear >> Baby Boys' Clothes >> Polos & T-Shirts",
          "Baby Care >> Infant Wear >> Baby Boys' Clothes >> Polos & T-Shirts >> Dongli Polos & T-Shirts",
          "Baby Care >> Baby Grooming",
          "Baby Care >> Baby Grooming >> Cotton Buds",
          "Baby Care >> Baby Grooming >> Cotton Buds >> SJ Cotton Buds",
          "Home Decor & Festive Needs >> Table Decor & Handicrafts >> Table Decor",
          "Home Decor & Festive Needs >> Table Decor & Handicrafts >> Table Decor >> Hookah Mouth Tips",
          "Home Decor & Festive Needs >> Table Decor & Handicrafts >> Table Decor >> Hookah Mouth Tips >> Ech oly Hookah Mouth Tips",
          "Beauty and Personal Care >> Fragrances >> Deodorants",
          "Beauty and Personal Care >> Fragrances >> Deodorants >> Sprays",
          "Beauty and Personal Care >> Fragrances >> Deodorants >> Sprays >> LAWMAN PG3 Sprays",
          "Baby Care >> Infant Wear >> Baby Boys' Clothes >> Polos & T-Shirts",
          "Baby Care >> Infant Wear >> Baby Boys' Clothes >> Polos & T-Shirts >> Toons Polos & T-Shirts",
          "Computers >> Laptop Accessories",
          "Computers >> Laptop Accessories >> Computer Accessories Combos",
          "Computers >> Laptop Accessories >> Computer Accessories Combos >> PRINT SHAPES Computer Accessories Combos",
          "Beauty and Personal Care >> Body and Skin Care >> Lip Care",
          "Beauty and Personal Care >> Body and Skin Care >> Lip Care >> Lip Balms",
          "Beauty and Personal Care >> Body and Skin Care >> Lip Care >> Lip Balms >> Good Way Lip Balms",
          "Home Furnishing >> Curtains & Accessories >> Curtains",
          "Computers >> Laptop Accessories >> Computer Accessories Combos >> PRINT SHAPES Computer Accessories Combos",
          "Computers >> Laptop Accessories >> Computer Accessories Combos >> PRINT SHAPES Computer Accessories Combos",
          "Home Furnishing >> Curtains & Accessories >> Curtains",
          "Computers >> Laptop Accessories >> Computer Accessories Combos >> PRINT SHAPES Computer Accessories Combos",
          "Home Furnishing >> Curtains & Accessories >> Curtains",
          "Computers >> Computer Components",
          "Computers >> Computer Components >> RAMs",
          "Computers >> Computer Components >> RAMs >> Transcend RAMs",
          "Computers >> Laptop Accessories >> Computer Accessories Combos >> PRINT SHAPES Computer Accessories Combos",
          "Computers >> Laptop Accessories >> Computer Accessories Combos >> PRINT SHAPES Computer Accessories Combos",
          "Home Furnishing >> Curtains & Accessories >> Curtains",
          "Home Furnishing >> Curtains & Accessories >> Curtains",
          "Computers >> Laptop Accessories >> Computer Accessories Combos >> PRINT SHAPES Computer Accessories Combos",
          "Home Furnishing >> Curtains & Accessories >> Curtains",
          "Beauty and Personal Care >> Health Care",
          "Beauty and Personal Care >> Health Care >> Medicines & Treatment",
          "Beauty and Personal Care >> Health Care >> Medicines & Treatment >> First Aid",
          "Beauty and Personal Care >> Health Care >> Medicines & Treatment >> First Aid >> Hot & Cold Packs",
          "Beauty and Personal Care >> Health Care >> Medicines & Treatment >> First Aid >> Hot & Cold Packs >> OMRD Hot & Cold Packs",
          "Beauty and Personal Care >> Hair Care",
          "Beauty and Personal Care >> Hair Care >> Shampoos",
          "Beauty and Personal Care >> Hair Care >> Shampoos >> Kerastase Shampoos",
          "Computers >> Laptop Accessories >> Computer Accessories Combos >> PRINT SHAPES Computer Accessories Combos",
          "Home Furnishing >> Curtains & Accessories >> Curtains",
          "Computers >> Laptop Accessories >> Computer Accessories Combos >> PRINT SHAPES Computer Accessories Combos",
          "Computers >> Laptop Accessories >> Computer Accessories Combos >> PRINT SHAPES Computer Accessories Combos",
          "Computers >> Laptop Accessories >> Computer Accessories Combos >> PRINT SHAPES Computer Accessories Combos",
          "Beauty and Personal Care >> Health Care",
          "Beauty and Personal Care >> Health Care >> Medical Equipment & Accessories",
          "Beauty and Personal Care >> Health Care >> Medical Equipment & Accessories >> Surgical e Sstudio Medical Equipment & Accessories",
          "Home Decor & Festive Needs >> Showpieces >> Fengshui >> Reiki Crystal Products Fengshui",
          "Baby Care >> Baby & Kids Gifts",
          "Baby Care >> Baby & Kids Gifts >> Stickers",
          "Baby Care >> Baby & Kids Gifts >> Stickers",
          "Baby Care >> Baby & Kids Gifts >> Stickers",
          "Baby Care >> Baby & Kids Gifts >> Stickers",
          "Baby Care >> Baby & Kids Gifts >> Stickers",
          "Baby Care >> Baby & Kids Gifts >> Stickers"
         ],
         "type": "sunburst",
         "values": [
          150,
          19,
          19,
          1,
          150,
          14,
          11,
          1,
          1,
          1,
          1,
          65,
          7,
          1,
          1,
          1,
          1,
          150,
          149,
          1,
          1,
          1,
          2,
          1,
          1,
          1,
          1,
          1,
          1,
          1,
          1,
          1,
          2,
          1,
          2,
          2,
          1,
          2,
          1,
          1,
          1,
          1,
          1,
          3,
          2,
          1,
          1,
          1,
          1,
          1,
          21,
          2,
          150,
          1,
          1,
          1,
          1,
          150,
          3,
          1,
          1,
          1,
          7,
          7,
          1,
          1,
          1,
          1,
          84,
          49,
          7,
          7,
          2,
          1,
          1,
          1,
          1,
          150,
          9,
          4,
          1,
          1,
          74,
          5,
          1,
          1,
          1,
          150,
          49,
          49,
          4,
          1,
          1,
          1,
          1,
          1,
          3,
          2,
          1,
          1,
          27,
          1,
          1,
          1,
          87,
          38,
          3,
          1,
          1,
          1,
          18,
          10,
          1,
          24,
          3,
          3,
          1,
          1,
          1,
          1,
          1,
          1,
          1,
          1,
          8,
          1,
          1,
          1,
          1,
          2,
          2,
          15,
          1,
          1,
          1,
          14,
          2,
          1,
          13,
          2,
          1,
          1,
          1,
          1,
          1,
          1,
          1,
          1,
          1,
          10,
          7,
          1,
          1,
          5,
          3,
          3,
          1,
          1,
          1,
          1,
          1,
          5,
          1,
          1,
          1,
          1,
          1,
          35,
          1,
          1,
          1,
          1,
          22,
          2,
          1,
          1,
          27,
          23,
          1,
          1,
          1,
          1,
          1,
          1,
          1,
          1,
          1,
          5,
          2,
          2,
          1,
          4,
          2,
          1,
          24,
          1,
          1,
          1,
          1,
          1,
          1,
          1,
          1,
          1,
          1,
          1,
          71,
          1,
          4,
          2,
          1,
          18,
          1,
          4,
          1,
          2,
          1,
          1,
          1,
          1,
          1,
          57,
          2,
          2,
          1,
          1,
          3,
          2,
          1,
          1,
          14,
          2,
          1,
          1,
          7,
          2,
          1,
          1,
          1,
          1,
          1,
          4,
          1,
          1,
          4,
          2,
          2,
          1,
          1,
          5,
          1,
          1,
          1,
          1,
          13,
          12,
          1,
          1,
          1,
          2,
          2,
          1,
          1,
          1,
          1,
          7,
          4,
          1,
          1,
          1,
          15,
          3,
          3,
          1,
          1,
          1,
          4,
          3,
          1,
          1,
          26,
          22,
          1,
          13,
          1,
          14,
          12,
          10,
          1,
          1,
          2,
          3,
          34,
          3,
          1,
          1,
          1,
          1,
          10,
          5,
          2,
          1,
          1,
          1,
          3,
          2,
          1,
          1,
          1,
          1,
          1,
          1,
          1,
          1,
          1,
          1,
          2,
          2,
          1,
          2,
          1,
          22,
          1,
          1,
          1,
          3,
          1,
          2,
          1,
          1,
          1,
          1,
          2,
          1,
          1,
          1,
          1,
          1,
          1,
          1,
          1,
          2,
          1,
          1,
          1,
          1,
          1,
          1,
          1,
          1,
          1,
          1,
          1,
          3,
          1,
          1,
          1,
          1,
          3,
          1,
          1,
          1,
          1,
          1,
          1,
          6,
          4,
          1,
          1,
          1,
          1,
          1,
          5,
          3,
          2,
          1,
          1,
          1,
          1,
          1,
          1,
          1,
          1,
          1,
          1,
          21,
          21,
          2,
          1,
          1,
          1,
          1,
          1,
          1,
          1,
          8,
          3,
          1,
          1,
          1,
          1,
          1,
          1,
          7,
          1,
          1,
          1,
          1,
          1,
          1,
          1,
          1,
          1,
          1,
          1,
          1,
          1,
          1,
          1,
          1,
          65,
          65,
          64,
          5,
          1,
          5,
          3,
          8,
          3,
          6,
          1,
          2,
          7,
          1,
          4,
          5,
          5,
          2,
          1,
          1,
          1,
          3,
          1,
          1,
          4,
          1,
          3,
          4,
          5,
          1,
          3,
          3,
          2,
          4,
          1,
          1,
          1,
          1,
          1,
          1,
          2,
          1,
          1,
          1,
          1,
          1,
          1,
          1,
          1,
          1,
          1,
          1,
          2,
          2,
          1,
          1,
          1,
          1,
          1,
          7,
          1,
          1,
          1,
          9,
          7,
          7,
          1,
          1,
          1,
          1,
          5,
          1,
          1,
          2,
          2,
          1,
          1,
          1,
          1,
          1,
          1,
          1,
          1,
          1,
          1,
          1,
          1,
          1,
          1,
          1,
          4,
          1,
          1,
          1,
          1,
          1,
          1,
          1,
          3,
          3,
          1,
          1,
          1,
          1,
          1,
          1,
          1,
          1,
          1,
          1,
          1,
          1,
          1,
          1,
          1,
          1,
          2,
          1,
          1,
          1,
          1,
          1,
          1,
          1,
          1,
          1,
          1,
          1,
          2,
          1,
          1,
          1,
          1,
          2,
          1,
          4,
          2,
          2,
          1,
          1,
          1,
          1,
          1,
          1,
          1,
          1,
          2,
          1,
          1,
          7,
          3,
          2,
          1,
          1,
          1,
          1,
          5,
          1,
          1,
          1,
          22,
          10,
          3,
          2,
          1,
          1,
          4,
          19,
          10,
          23,
          1,
          1,
          1,
          2,
          2,
          2,
          4,
          9,
          1,
          1,
          1,
          1,
          2,
          1,
          2,
          3,
          2,
          1,
          1,
          1,
          4,
          2,
          1,
          1,
          1,
          1,
          1,
          1,
          1,
          3,
          1,
          1,
          1,
          1,
          1,
          1,
          1,
          1,
          1,
          1,
          2,
          1,
          1,
          1,
          1,
          1,
          1,
          2,
          2,
          1,
          1,
          1,
          1,
          1,
          1,
          1,
          1,
          1,
          1,
          1,
          1,
          1,
          2,
          2,
          1,
          1,
          1,
          1,
          1,
          1,
          1,
          1,
          1,
          1,
          1,
          1,
          1,
          1,
          1,
          1,
          1,
          1,
          1,
          1,
          1,
          1,
          1,
          1,
          1,
          1,
          1,
          1,
          1,
          1,
          1,
          1,
          1,
          1,
          1,
          1,
          1,
          1,
          1,
          1,
          1,
          1,
          3,
          1,
          1,
          1,
          2,
          1,
          1,
          2,
          1,
          1,
          1,
          1,
          1,
          1,
          1,
          1,
          1,
          1,
          1,
          1,
          1,
          1,
          1,
          1,
          1,
          1,
          1,
          1,
          2,
          1,
          1,
          1,
          1,
          1,
          1,
          1,
          1,
          1,
          1,
          1,
          1,
          1,
          3,
          3,
          1,
          1,
          1,
          1,
          1,
          15,
          4,
          1,
          1,
          5,
          2,
          1,
          1,
          1,
          1,
          1,
          2,
          1,
          1,
          1,
          1,
          1,
          1,
          1,
          1,
          1,
          1,
          1,
          1,
          1,
          1,
          1,
          1,
          10,
          10,
          1,
          1,
          1,
          1,
          1,
          1,
          1,
          1,
          1,
          1,
          1,
          6,
          3,
          2,
          1,
          1,
          1,
          2,
          5,
          1,
          1,
          1,
          4,
          1,
          1,
          2,
          10,
          1,
          1,
          4,
          1,
          1,
          1,
          1,
          1,
          1,
          3,
          3,
          3,
          1,
          1,
          1,
          3,
          1,
          1,
          1,
          1,
          1,
          1,
          1,
          1,
          1,
          6,
          9,
          1,
          1,
          1,
          9,
          1,
          10,
          1,
          8,
          4,
          1,
          1,
          1,
          1,
          3,
          2,
          1,
          1,
          1,
          2,
          2,
          1,
          1,
          1,
          1,
          1,
          1,
          1,
          1,
          1,
          1,
          1,
          1,
          2,
          1,
          2,
          1,
          1,
          1,
          2,
          1,
          3,
          3,
          1,
          3,
          1,
          1,
          2,
          1,
          1,
          1,
          1,
          1,
          1,
          1,
          1,
          1,
          1,
          1,
          1,
          1,
          1,
          1,
          1,
          1,
          1,
          1,
          3,
          1,
          1,
          19,
          1,
          1,
          1,
          1,
          1,
          1,
          1,
          1,
          1,
          1,
          1,
          1,
          1,
          1,
          1,
          1,
          1,
          1,
          1,
          1,
          1,
          4,
          1,
          1,
          1,
          1,
          7,
          1,
          1,
          1,
          1,
          1,
          1,
          1,
          1,
          1,
          1,
          1,
          1,
          1,
          1,
          1,
          1,
          1,
          1,
          1,
          1,
          1,
          1,
          1,
          1,
          1,
          1,
          3,
          1,
          1,
          1,
          1,
          1,
          1,
          1,
          1,
          1,
          1,
          2,
          1,
          1,
          1,
          1,
          1,
          1,
          1,
          1,
          1,
          1,
          1,
          1,
          1,
          1,
          6,
          6,
          1,
          1,
          1,
          1,
          1,
          1,
          1,
          2,
          1,
          1,
          1,
          1,
          1,
          1,
          4,
          1,
          1,
          2,
          1,
          1,
          1,
          1,
          1,
          1,
          1,
          1,
          1,
          1,
          1,
          1,
          1,
          1,
          1,
          1,
          1,
          1,
          1,
          1,
          1,
          1,
          1,
          1,
          1,
          1,
          1,
          1,
          1,
          1,
          1,
          1,
          1,
          1,
          1,
          1,
          1,
          1,
          1,
          1,
          1,
          1,
          1,
          1,
          2,
          1,
          1,
          1,
          1,
          2,
          1,
          1,
          1,
          1,
          1,
          1,
          1,
          1,
          1,
          1,
          1,
          1,
          1,
          1,
          1,
          1,
          1,
          1,
          1,
          1,
          1,
          1,
          2,
          2,
          1,
          1,
          1,
          1,
          1,
          1,
          1,
          1,
          1,
          1,
          1,
          1,
          1,
          1,
          1,
          1,
          1,
          1,
          1,
          1,
          1,
          1,
          1,
          1,
          1,
          11,
          11,
          1,
          1,
          1,
          1,
          1,
          1,
          1,
          1,
          1,
          1,
          1,
          1,
          1,
          1,
          1,
          1,
          2,
          1,
          1,
          1,
          1,
          1,
          1,
          1,
          1,
          1,
          1,
          1,
          1,
          1,
          1,
          1,
          1,
          1,
          1,
          1,
          10,
          1,
          4,
          1,
          1,
          1,
          2
         ]
        }
       ],
       "layout": {
        "height": 1000,
        "margin": {
         "b": 0,
         "l": 0,
         "r": 0,
         "t": 50
        },
        "template": {
         "data": {
          "bar": [
           {
            "error_x": {
             "color": "#2a3f5f"
            },
            "error_y": {
             "color": "#2a3f5f"
            },
            "marker": {
             "line": {
              "color": "#E5ECF6",
              "width": 0.5
             },
             "pattern": {
              "fillmode": "overlay",
              "size": 10,
              "solidity": 0.2
             }
            },
            "type": "bar"
           }
          ],
          "barpolar": [
           {
            "marker": {
             "line": {
              "color": "#E5ECF6",
              "width": 0.5
             },
             "pattern": {
              "fillmode": "overlay",
              "size": 10,
              "solidity": 0.2
             }
            },
            "type": "barpolar"
           }
          ],
          "carpet": [
           {
            "aaxis": {
             "endlinecolor": "#2a3f5f",
             "gridcolor": "white",
             "linecolor": "white",
             "minorgridcolor": "white",
             "startlinecolor": "#2a3f5f"
            },
            "baxis": {
             "endlinecolor": "#2a3f5f",
             "gridcolor": "white",
             "linecolor": "white",
             "minorgridcolor": "white",
             "startlinecolor": "#2a3f5f"
            },
            "type": "carpet"
           }
          ],
          "choropleth": [
           {
            "colorbar": {
             "outlinewidth": 0,
             "ticks": ""
            },
            "type": "choropleth"
           }
          ],
          "contour": [
           {
            "colorbar": {
             "outlinewidth": 0,
             "ticks": ""
            },
            "colorscale": [
             [
              0,
              "#0d0887"
             ],
             [
              0.1111111111111111,
              "#46039f"
             ],
             [
              0.2222222222222222,
              "#7201a8"
             ],
             [
              0.3333333333333333,
              "#9c179e"
             ],
             [
              0.4444444444444444,
              "#bd3786"
             ],
             [
              0.5555555555555556,
              "#d8576b"
             ],
             [
              0.6666666666666666,
              "#ed7953"
             ],
             [
              0.7777777777777778,
              "#fb9f3a"
             ],
             [
              0.8888888888888888,
              "#fdca26"
             ],
             [
              1,
              "#f0f921"
             ]
            ],
            "type": "contour"
           }
          ],
          "contourcarpet": [
           {
            "colorbar": {
             "outlinewidth": 0,
             "ticks": ""
            },
            "type": "contourcarpet"
           }
          ],
          "heatmap": [
           {
            "colorbar": {
             "outlinewidth": 0,
             "ticks": ""
            },
            "colorscale": [
             [
              0,
              "#0d0887"
             ],
             [
              0.1111111111111111,
              "#46039f"
             ],
             [
              0.2222222222222222,
              "#7201a8"
             ],
             [
              0.3333333333333333,
              "#9c179e"
             ],
             [
              0.4444444444444444,
              "#bd3786"
             ],
             [
              0.5555555555555556,
              "#d8576b"
             ],
             [
              0.6666666666666666,
              "#ed7953"
             ],
             [
              0.7777777777777778,
              "#fb9f3a"
             ],
             [
              0.8888888888888888,
              "#fdca26"
             ],
             [
              1,
              "#f0f921"
             ]
            ],
            "type": "heatmap"
           }
          ],
          "histogram": [
           {
            "marker": {
             "pattern": {
              "fillmode": "overlay",
              "size": 10,
              "solidity": 0.2
             }
            },
            "type": "histogram"
           }
          ],
          "histogram2d": [
           {
            "colorbar": {
             "outlinewidth": 0,
             "ticks": ""
            },
            "colorscale": [
             [
              0,
              "#0d0887"
             ],
             [
              0.1111111111111111,
              "#46039f"
             ],
             [
              0.2222222222222222,
              "#7201a8"
             ],
             [
              0.3333333333333333,
              "#9c179e"
             ],
             [
              0.4444444444444444,
              "#bd3786"
             ],
             [
              0.5555555555555556,
              "#d8576b"
             ],
             [
              0.6666666666666666,
              "#ed7953"
             ],
             [
              0.7777777777777778,
              "#fb9f3a"
             ],
             [
              0.8888888888888888,
              "#fdca26"
             ],
             [
              1,
              "#f0f921"
             ]
            ],
            "type": "histogram2d"
           }
          ],
          "histogram2dcontour": [
           {
            "colorbar": {
             "outlinewidth": 0,
             "ticks": ""
            },
            "colorscale": [
             [
              0,
              "#0d0887"
             ],
             [
              0.1111111111111111,
              "#46039f"
             ],
             [
              0.2222222222222222,
              "#7201a8"
             ],
             [
              0.3333333333333333,
              "#9c179e"
             ],
             [
              0.4444444444444444,
              "#bd3786"
             ],
             [
              0.5555555555555556,
              "#d8576b"
             ],
             [
              0.6666666666666666,
              "#ed7953"
             ],
             [
              0.7777777777777778,
              "#fb9f3a"
             ],
             [
              0.8888888888888888,
              "#fdca26"
             ],
             [
              1,
              "#f0f921"
             ]
            ],
            "type": "histogram2dcontour"
           }
          ],
          "mesh3d": [
           {
            "colorbar": {
             "outlinewidth": 0,
             "ticks": ""
            },
            "type": "mesh3d"
           }
          ],
          "parcoords": [
           {
            "line": {
             "colorbar": {
              "outlinewidth": 0,
              "ticks": ""
             }
            },
            "type": "parcoords"
           }
          ],
          "pie": [
           {
            "automargin": true,
            "type": "pie"
           }
          ],
          "scatter": [
           {
            "fillpattern": {
             "fillmode": "overlay",
             "size": 10,
             "solidity": 0.2
            },
            "type": "scatter"
           }
          ],
          "scatter3d": [
           {
            "line": {
             "colorbar": {
              "outlinewidth": 0,
              "ticks": ""
             }
            },
            "marker": {
             "colorbar": {
              "outlinewidth": 0,
              "ticks": ""
             }
            },
            "type": "scatter3d"
           }
          ],
          "scattercarpet": [
           {
            "marker": {
             "colorbar": {
              "outlinewidth": 0,
              "ticks": ""
             }
            },
            "type": "scattercarpet"
           }
          ],
          "scattergeo": [
           {
            "marker": {
             "colorbar": {
              "outlinewidth": 0,
              "ticks": ""
             }
            },
            "type": "scattergeo"
           }
          ],
          "scattergl": [
           {
            "marker": {
             "colorbar": {
              "outlinewidth": 0,
              "ticks": ""
             }
            },
            "type": "scattergl"
           }
          ],
          "scattermap": [
           {
            "marker": {
             "colorbar": {
              "outlinewidth": 0,
              "ticks": ""
             }
            },
            "type": "scattermap"
           }
          ],
          "scattermapbox": [
           {
            "marker": {
             "colorbar": {
              "outlinewidth": 0,
              "ticks": ""
             }
            },
            "type": "scattermapbox"
           }
          ],
          "scatterpolar": [
           {
            "marker": {
             "colorbar": {
              "outlinewidth": 0,
              "ticks": ""
             }
            },
            "type": "scatterpolar"
           }
          ],
          "scatterpolargl": [
           {
            "marker": {
             "colorbar": {
              "outlinewidth": 0,
              "ticks": ""
             }
            },
            "type": "scatterpolargl"
           }
          ],
          "scatterternary": [
           {
            "marker": {
             "colorbar": {
              "outlinewidth": 0,
              "ticks": ""
             }
            },
            "type": "scatterternary"
           }
          ],
          "surface": [
           {
            "colorbar": {
             "outlinewidth": 0,
             "ticks": ""
            },
            "colorscale": [
             [
              0,
              "#0d0887"
             ],
             [
              0.1111111111111111,
              "#46039f"
             ],
             [
              0.2222222222222222,
              "#7201a8"
             ],
             [
              0.3333333333333333,
              "#9c179e"
             ],
             [
              0.4444444444444444,
              "#bd3786"
             ],
             [
              0.5555555555555556,
              "#d8576b"
             ],
             [
              0.6666666666666666,
              "#ed7953"
             ],
             [
              0.7777777777777778,
              "#fb9f3a"
             ],
             [
              0.8888888888888888,
              "#fdca26"
             ],
             [
              1,
              "#f0f921"
             ]
            ],
            "type": "surface"
           }
          ],
          "table": [
           {
            "cells": {
             "fill": {
              "color": "#EBF0F8"
             },
             "line": {
              "color": "white"
             }
            },
            "header": {
             "fill": {
              "color": "#C8D4E3"
             },
             "line": {
              "color": "white"
             }
            },
            "type": "table"
           }
          ]
         },
         "layout": {
          "annotationdefaults": {
           "arrowcolor": "#2a3f5f",
           "arrowhead": 0,
           "arrowwidth": 1
          },
          "autotypenumbers": "strict",
          "coloraxis": {
           "colorbar": {
            "outlinewidth": 0,
            "ticks": ""
           }
          },
          "colorscale": {
           "diverging": [
            [
             0,
             "#8e0152"
            ],
            [
             0.1,
             "#c51b7d"
            ],
            [
             0.2,
             "#de77ae"
            ],
            [
             0.3,
             "#f1b6da"
            ],
            [
             0.4,
             "#fde0ef"
            ],
            [
             0.5,
             "#f7f7f7"
            ],
            [
             0.6,
             "#e6f5d0"
            ],
            [
             0.7,
             "#b8e186"
            ],
            [
             0.8,
             "#7fbc41"
            ],
            [
             0.9,
             "#4d9221"
            ],
            [
             1,
             "#276419"
            ]
           ],
           "sequential": [
            [
             0,
             "#0d0887"
            ],
            [
             0.1111111111111111,
             "#46039f"
            ],
            [
             0.2222222222222222,
             "#7201a8"
            ],
            [
             0.3333333333333333,
             "#9c179e"
            ],
            [
             0.4444444444444444,
             "#bd3786"
            ],
            [
             0.5555555555555556,
             "#d8576b"
            ],
            [
             0.6666666666666666,
             "#ed7953"
            ],
            [
             0.7777777777777778,
             "#fb9f3a"
            ],
            [
             0.8888888888888888,
             "#fdca26"
            ],
            [
             1,
             "#f0f921"
            ]
           ],
           "sequentialminus": [
            [
             0,
             "#0d0887"
            ],
            [
             0.1111111111111111,
             "#46039f"
            ],
            [
             0.2222222222222222,
             "#7201a8"
            ],
            [
             0.3333333333333333,
             "#9c179e"
            ],
            [
             0.4444444444444444,
             "#bd3786"
            ],
            [
             0.5555555555555556,
             "#d8576b"
            ],
            [
             0.6666666666666666,
             "#ed7953"
            ],
            [
             0.7777777777777778,
             "#fb9f3a"
            ],
            [
             0.8888888888888888,
             "#fdca26"
            ],
            [
             1,
             "#f0f921"
            ]
           ]
          },
          "colorway": [
           "#636efa",
           "#EF553B",
           "#00cc96",
           "#ab63fa",
           "#FFA15A",
           "#19d3f3",
           "#FF6692",
           "#B6E880",
           "#FF97FF",
           "#FECB52"
          ],
          "font": {
           "color": "#2a3f5f"
          },
          "geo": {
           "bgcolor": "white",
           "lakecolor": "white",
           "landcolor": "#E5ECF6",
           "showlakes": true,
           "showland": true,
           "subunitcolor": "white"
          },
          "hoverlabel": {
           "align": "left"
          },
          "hovermode": "closest",
          "mapbox": {
           "style": "light"
          },
          "paper_bgcolor": "white",
          "plot_bgcolor": "#E5ECF6",
          "polar": {
           "angularaxis": {
            "gridcolor": "white",
            "linecolor": "white",
            "ticks": ""
           },
           "bgcolor": "#E5ECF6",
           "radialaxis": {
            "gridcolor": "white",
            "linecolor": "white",
            "ticks": ""
           }
          },
          "scene": {
           "xaxis": {
            "backgroundcolor": "#E5ECF6",
            "gridcolor": "white",
            "gridwidth": 2,
            "linecolor": "white",
            "showbackground": true,
            "ticks": "",
            "zerolinecolor": "white"
           },
           "yaxis": {
            "backgroundcolor": "#E5ECF6",
            "gridcolor": "white",
            "gridwidth": 2,
            "linecolor": "white",
            "showbackground": true,
            "ticks": "",
            "zerolinecolor": "white"
           },
           "zaxis": {
            "backgroundcolor": "#E5ECF6",
            "gridcolor": "white",
            "gridwidth": 2,
            "linecolor": "white",
            "showbackground": true,
            "ticks": "",
            "zerolinecolor": "white"
           }
          },
          "shapedefaults": {
           "line": {
            "color": "#2a3f5f"
           }
          },
          "ternary": {
           "aaxis": {
            "gridcolor": "white",
            "linecolor": "white",
            "ticks": ""
           },
           "baxis": {
            "gridcolor": "white",
            "linecolor": "white",
            "ticks": ""
           },
           "bgcolor": "#E5ECF6",
           "caxis": {
            "gridcolor": "white",
            "linecolor": "white",
            "ticks": ""
           }
          },
          "title": {
           "x": 0.05
          },
          "xaxis": {
           "automargin": true,
           "gridcolor": "white",
           "linecolor": "white",
           "ticks": "",
           "title": {
            "standoff": 15
           },
           "zerolinecolor": "white",
           "zerolinewidth": 2
          },
          "yaxis": {
           "automargin": true,
           "gridcolor": "white",
           "linecolor": "white",
           "ticks": "",
           "title": {
            "standoff": 15
           },
           "zerolinecolor": "white",
           "zerolinewidth": 2
          }
         }
        },
        "title": {
         "text": "Product Category Hierarchy"
        },
        "width": 1000
       }
      }
     },
     "metadata": {},
     "output_type": "display_data"
    }
   ],
   "source": [
    "from src.classes.analyze_category_tree import CategoryTreeAnalyzer\n",
    "\n",
    "# Create analyzer instance with your dataframe\n",
    "category_analyzer = CategoryTreeAnalyzer(df)\n",
    "\n",
    "# Create and display the radial category chart\n",
    "fig = category_analyzer.create_radial_category_chart(max_depth=9)\n",
    "fig.show()"
   ]
  },
  {
   "cell_type": "markdown",
   "id": "f8f136d5",
   "metadata": {},
   "source": [
    "\n",
    "## 3. Basic NLP Classification Feasibility Study"
   ]
  },
  {
   "cell_type": "markdown",
   "id": "4504880f",
   "metadata": {},
   "source": [
    "### 3.1 Text Preprocessing\n",
    "**Steps**:\n",
    "- Clean text data\n",
    "- Remove stopwords\n",
    "- Perform stemming/lemmatization\n",
    "- Handle special characters"
   ]
  },
  {
   "cell_type": "code",
   "execution_count": 5,
   "id": "2a36fe70",
   "metadata": {},
   "outputs": [
    {
     "name": "stdout",
     "output_type": "stream",
     "text": [
      "\n",
      "Preprocessing Statistics:\n",
      "original_length: 58\n",
      "processed_length: 58\n",
      "original_words: 7\n",
      "processed_words: 7\n",
      "removed_stopwords: 0\n",
      "stopwords_percentage: 0.0\n",
      "reduction_percentage: 0.0\n",
      "unique_words_original: 7\n",
      "unique_words_processed: 7\n",
      "sample_removed_words: []\n",
      "\n",
      "Batch Statistics Summary:\n",
      "       original_length  processed_length  original_words  processed_words  \\\n",
      "count         5.000000          5.000000        5.000000         5.000000   \n",
      "mean         47.000000         47.000000        6.800000         6.800000   \n",
      "std          15.795569         15.795569        1.923538         1.923538   \n",
      "min          26.000000         26.000000        4.000000         4.000000   \n",
      "25%          35.000000         35.000000        6.000000         6.000000   \n",
      "50%          53.000000         53.000000        7.000000         7.000000   \n",
      "75%          58.000000         58.000000        8.000000         8.000000   \n",
      "max          63.000000         63.000000        9.000000         9.000000   \n",
      "\n",
      "       removed_stopwords  stopwords_percentage  reduction_percentage  \\\n",
      "count                5.0                   5.0                   5.0   \n",
      "mean                 0.0                   0.0                   0.0   \n",
      "std                  0.0                   0.0                   0.0   \n",
      "min                  0.0                   0.0                   0.0   \n",
      "25%                  0.0                   0.0                   0.0   \n",
      "50%                  0.0                   0.0                   0.0   \n",
      "75%                  0.0                   0.0                   0.0   \n",
      "max                  0.0                   0.0                   0.0   \n",
      "\n",
      "       unique_words_original  unique_words_processed  \n",
      "count               5.000000                5.000000  \n",
      "mean                6.800000                6.800000  \n",
      "std                 1.923538                1.923538  \n",
      "min                 4.000000                4.000000  \n",
      "25%                 6.000000                6.000000  \n",
      "50%                 7.000000                7.000000  \n",
      "75%                 8.000000                8.000000  \n",
      "max                 9.000000                9.000000  \n",
      "\n",
      "Processing Statistics:\n",
      "Total words before: 7631\n",
      "Total words after: 6512\n",
      "Word reduction: 14.66%\n",
      "Sample Text Processing Results:\n"
     ]
    },
    {
     "data": {
      "application/vnd.microsoft.datawrangler.viewer.v0+json": {
       "columns": [
        {
         "name": "index",
         "rawType": "int64",
         "type": "integer"
        },
        {
         "name": "Original",
         "rawType": "object",
         "type": "string"
        },
        {
         "name": "Lemmatized",
         "rawType": "object",
         "type": "string"
        }
       ],
       "ref": "7bd9b416-dd42-4752-9c76-71eb72728a55",
       "rows": [
        [
         "0",
         "Elegance Polyester Multicolor Abstract Eyelet Door Curtain",
         "elegance polyester multicolor abstract eyelet door curtain"
        ],
        [
         "1",
         "Sathiyas Cotton Bath Towel",
         "sathiyas cotton bath towel"
        ],
        [
         "2",
         "Eurospa Cotton Terry Face Towel Set",
         "eurospa cotton terry face towel set"
        ],
        [
         "3",
         "SANTOSH ROYAL FASHION Cotton Printed King sized Double Bedsheet",
         "santosh royal fashion cotton printed king sized double bedsheet"
        ],
        [
         "4",
         "Jaipur Print Cotton Floral King sized Double Bedsheet",
         "jaipur print cotton floral king sized double bedsheet"
        ]
       ],
       "shape": {
        "columns": 2,
        "rows": 5
       }
      },
      "text/html": [
       "<div>\n",
       "<style scoped>\n",
       "    .dataframe tbody tr th:only-of-type {\n",
       "        vertical-align: middle;\n",
       "    }\n",
       "\n",
       "    .dataframe tbody tr th {\n",
       "        vertical-align: top;\n",
       "    }\n",
       "\n",
       "    .dataframe thead th {\n",
       "        text-align: right;\n",
       "    }\n",
       "</style>\n",
       "<table border=\"1\" class=\"dataframe\">\n",
       "  <thead>\n",
       "    <tr style=\"text-align: right;\">\n",
       "      <th></th>\n",
       "      <th>Original</th>\n",
       "      <th>Lemmatized</th>\n",
       "    </tr>\n",
       "  </thead>\n",
       "  <tbody>\n",
       "    <tr>\n",
       "      <th>0</th>\n",
       "      <td>Elegance Polyester Multicolor Abstract Eyelet ...</td>\n",
       "      <td>elegance polyester multicolor abstract eyelet ...</td>\n",
       "    </tr>\n",
       "    <tr>\n",
       "      <th>1</th>\n",
       "      <td>Sathiyas Cotton Bath Towel</td>\n",
       "      <td>sathiyas cotton bath towel</td>\n",
       "    </tr>\n",
       "    <tr>\n",
       "      <th>2</th>\n",
       "      <td>Eurospa Cotton Terry Face Towel Set</td>\n",
       "      <td>eurospa cotton terry face towel set</td>\n",
       "    </tr>\n",
       "    <tr>\n",
       "      <th>3</th>\n",
       "      <td>SANTOSH ROYAL FASHION Cotton Printed King size...</td>\n",
       "      <td>santosh royal fashion cotton printed king size...</td>\n",
       "    </tr>\n",
       "    <tr>\n",
       "      <th>4</th>\n",
       "      <td>Jaipur Print Cotton Floral King sized Double B...</td>\n",
       "      <td>jaipur print cotton floral king sized double b...</td>\n",
       "    </tr>\n",
       "  </tbody>\n",
       "</table>\n",
       "</div>"
      ],
      "text/plain": [
       "                                            Original  \\\n",
       "0  Elegance Polyester Multicolor Abstract Eyelet ...   \n",
       "1                         Sathiyas Cotton Bath Towel   \n",
       "2                Eurospa Cotton Terry Face Towel Set   \n",
       "3  SANTOSH ROYAL FASHION Cotton Printed King size...   \n",
       "4  Jaipur Print Cotton Floral King sized Double B...   \n",
       "\n",
       "                                          Lemmatized  \n",
       "0  elegance polyester multicolor abstract eyelet ...  \n",
       "1                         sathiyas cotton bath towel  \n",
       "2                eurospa cotton terry face towel set  \n",
       "3  santosh royal fashion cotton printed king size...  \n",
       "4  jaipur print cotton floral king sized double b...  "
      ]
     },
     "execution_count": 5,
     "metadata": {},
     "output_type": "execute_result"
    }
   ],
   "source": [
    "from src.classes.preprocess_text import TextPreprocessor\n",
    "\n",
    "processor = TextPreprocessor()\n",
    "\n",
    "# Single text stats\n",
    "sample_text = df['product_name'].iloc[0]\n",
    "stats = processor.get_preprocessing_stats(sample_text)\n",
    "print(\"\\nPreprocessing Statistics:\")\n",
    "for key, value in stats.items():\n",
    "    print(f\"{key}: {value}\")\n",
    "\n",
    "# Batch statistics\n",
    "batch_stats = processor.get_batch_stats(df['product_name'].head())\n",
    "print(\"\\nBatch Statistics Summary:\")\n",
    "print(batch_stats.describe())\n",
    "\n",
    "# Extract the top-level category for each product\n",
    "df['product_category'] = df['product_category_tree'].apply(processor.extract_top_category)\n",
    "\n",
    "# Create lemmatized product names column\n",
    "df['product_name_lemmatized'] = df['product_name'].apply(processor.preprocess)\n",
    "\n",
    "# Display sample comparisons\n",
    "comparison_df = pd.DataFrame({\n",
    "    'Original': df['product_name'].head(),\n",
    "    'Lemmatized': df['product_name_lemmatized'].head()\n",
    "})\n",
    "\n",
    "\n",
    "# Get processing statistics\n",
    "total_words_before = df['product_name'].str.split().str.len().sum()\n",
    "total_words_after = df['product_name_lemmatized'].str.split().str.len().sum()\n",
    "reduction = ((total_words_before - total_words_after) / total_words_before) * 100\n",
    "\n",
    "print(f\"\\nProcessing Statistics:\")\n",
    "print(f\"Total words before: {total_words_before}\")\n",
    "print(f\"Total words after: {total_words_after}\")\n",
    "print(f\"Word reduction: {reduction:.2f}%\")\n",
    "\n",
    "\n",
    "print(\"Sample Text Processing Results:\")\n",
    "comparison_df"
   ]
  },
  {
   "cell_type": "markdown",
   "id": "fa9b6ceb",
   "metadata": {},
   "source": [
    "### 3.2 Basic Text Encoding\n",
    "**Methods**:\n",
    "- Bag of Words (BoW)\n",
    "- TF-IDF Vectorization"
   ]
  },
  {
   "cell_type": "code",
   "execution_count": 6,
   "id": "154e9fce",
   "metadata": {},
   "outputs": [
    {
     "data": {
      "application/vnd.plotly.v1+json": {
       "config": {
        "plotlyServerURL": "https://plot.ly"
       },
       "data": [],
       "layout": {
        "height": 500,
        "images": [
         {
          "layer": "below",
          "opacity": 1,
          "sizex": 1,
          "sizey": 1,
          "sizing": "stretch",
          "source": "data:image/png;base64,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",
          "x": 0,
          "xref": "paper",
          "y": 1,
          "yref": "paper"
         }
        ],
        "margin": {
         "b": 0,
         "l": 0,
         "r": 0,
         "t": 30
        },
        "template": {
         "data": {
          "bar": [
           {
            "error_x": {
             "color": "#2a3f5f"
            },
            "error_y": {
             "color": "#2a3f5f"
            },
            "marker": {
             "line": {
              "color": "#E5ECF6",
              "width": 0.5
             },
             "pattern": {
              "fillmode": "overlay",
              "size": 10,
              "solidity": 0.2
             }
            },
            "type": "bar"
           }
          ],
          "barpolar": [
           {
            "marker": {
             "line": {
              "color": "#E5ECF6",
              "width": 0.5
             },
             "pattern": {
              "fillmode": "overlay",
              "size": 10,
              "solidity": 0.2
             }
            },
            "type": "barpolar"
           }
          ],
          "carpet": [
           {
            "aaxis": {
             "endlinecolor": "#2a3f5f",
             "gridcolor": "white",
             "linecolor": "white",
             "minorgridcolor": "white",
             "startlinecolor": "#2a3f5f"
            },
            "baxis": {
             "endlinecolor": "#2a3f5f",
             "gridcolor": "white",
             "linecolor": "white",
             "minorgridcolor": "white",
             "startlinecolor": "#2a3f5f"
            },
            "type": "carpet"
           }
          ],
          "choropleth": [
           {
            "colorbar": {
             "outlinewidth": 0,
             "ticks": ""
            },
            "type": "choropleth"
           }
          ],
          "contour": [
           {
            "colorbar": {
             "outlinewidth": 0,
             "ticks": ""
            },
            "colorscale": [
             [
              0,
              "#0d0887"
             ],
             [
              0.1111111111111111,
              "#46039f"
             ],
             [
              0.2222222222222222,
              "#7201a8"
             ],
             [
              0.3333333333333333,
              "#9c179e"
             ],
             [
              0.4444444444444444,
              "#bd3786"
             ],
             [
              0.5555555555555556,
              "#d8576b"
             ],
             [
              0.6666666666666666,
              "#ed7953"
             ],
             [
              0.7777777777777778,
              "#fb9f3a"
             ],
             [
              0.8888888888888888,
              "#fdca26"
             ],
             [
              1,
              "#f0f921"
             ]
            ],
            "type": "contour"
           }
          ],
          "contourcarpet": [
           {
            "colorbar": {
             "outlinewidth": 0,
             "ticks": ""
            },
            "type": "contourcarpet"
           }
          ],
          "heatmap": [
           {
            "colorbar": {
             "outlinewidth": 0,
             "ticks": ""
            },
            "colorscale": [
             [
              0,
              "#0d0887"
             ],
             [
              0.1111111111111111,
              "#46039f"
             ],
             [
              0.2222222222222222,
              "#7201a8"
             ],
             [
              0.3333333333333333,
              "#9c179e"
             ],
             [
              0.4444444444444444,
              "#bd3786"
             ],
             [
              0.5555555555555556,
              "#d8576b"
             ],
             [
              0.6666666666666666,
              "#ed7953"
             ],
             [
              0.7777777777777778,
              "#fb9f3a"
             ],
             [
              0.8888888888888888,
              "#fdca26"
             ],
             [
              1,
              "#f0f921"
             ]
            ],
            "type": "heatmap"
           }
          ],
          "histogram": [
           {
            "marker": {
             "pattern": {
              "fillmode": "overlay",
              "size": 10,
              "solidity": 0.2
             }
            },
            "type": "histogram"
           }
          ],
          "histogram2d": [
           {
            "colorbar": {
             "outlinewidth": 0,
             "ticks": ""
            },
            "colorscale": [
             [
              0,
              "#0d0887"
             ],
             [
              0.1111111111111111,
              "#46039f"
             ],
             [
              0.2222222222222222,
              "#7201a8"
             ],
             [
              0.3333333333333333,
              "#9c179e"
             ],
             [
              0.4444444444444444,
              "#bd3786"
             ],
             [
              0.5555555555555556,
              "#d8576b"
             ],
             [
              0.6666666666666666,
              "#ed7953"
             ],
             [
              0.7777777777777778,
              "#fb9f3a"
             ],
             [
              0.8888888888888888,
              "#fdca26"
             ],
             [
              1,
              "#f0f921"
             ]
            ],
            "type": "histogram2d"
           }
          ],
          "histogram2dcontour": [
           {
            "colorbar": {
             "outlinewidth": 0,
             "ticks": ""
            },
            "colorscale": [
             [
              0,
              "#0d0887"
             ],
             [
              0.1111111111111111,
              "#46039f"
             ],
             [
              0.2222222222222222,
              "#7201a8"
             ],
             [
              0.3333333333333333,
              "#9c179e"
             ],
             [
              0.4444444444444444,
              "#bd3786"
             ],
             [
              0.5555555555555556,
              "#d8576b"
             ],
             [
              0.6666666666666666,
              "#ed7953"
             ],
             [
              0.7777777777777778,
              "#fb9f3a"
             ],
             [
              0.8888888888888888,
              "#fdca26"
             ],
             [
              1,
              "#f0f921"
             ]
            ],
            "type": "histogram2dcontour"
           }
          ],
          "mesh3d": [
           {
            "colorbar": {
             "outlinewidth": 0,
             "ticks": ""
            },
            "type": "mesh3d"
           }
          ],
          "parcoords": [
           {
            "line": {
             "colorbar": {
              "outlinewidth": 0,
              "ticks": ""
             }
            },
            "type": "parcoords"
           }
          ],
          "pie": [
           {
            "automargin": true,
            "type": "pie"
           }
          ],
          "scatter": [
           {
            "fillpattern": {
             "fillmode": "overlay",
             "size": 10,
             "solidity": 0.2
            },
            "type": "scatter"
           }
          ],
          "scatter3d": [
           {
            "line": {
             "colorbar": {
              "outlinewidth": 0,
              "ticks": ""
             }
            },
            "marker": {
             "colorbar": {
              "outlinewidth": 0,
              "ticks": ""
             }
            },
            "type": "scatter3d"
           }
          ],
          "scattercarpet": [
           {
            "marker": {
             "colorbar": {
              "outlinewidth": 0,
              "ticks": ""
             }
            },
            "type": "scattercarpet"
           }
          ],
          "scattergeo": [
           {
            "marker": {
             "colorbar": {
              "outlinewidth": 0,
              "ticks": ""
             }
            },
            "type": "scattergeo"
           }
          ],
          "scattergl": [
           {
            "marker": {
             "colorbar": {
              "outlinewidth": 0,
              "ticks": ""
             }
            },
            "type": "scattergl"
           }
          ],
          "scattermap": [
           {
            "marker": {
             "colorbar": {
              "outlinewidth": 0,
              "ticks": ""
             }
            },
            "type": "scattermap"
           }
          ],
          "scattermapbox": [
           {
            "marker": {
             "colorbar": {
              "outlinewidth": 0,
              "ticks": ""
             }
            },
            "type": "scattermapbox"
           }
          ],
          "scatterpolar": [
           {
            "marker": {
             "colorbar": {
              "outlinewidth": 0,
              "ticks": ""
             }
            },
            "type": "scatterpolar"
           }
          ],
          "scatterpolargl": [
           {
            "marker": {
             "colorbar": {
              "outlinewidth": 0,
              "ticks": ""
             }
            },
            "type": "scatterpolargl"
           }
          ],
          "scatterternary": [
           {
            "marker": {
             "colorbar": {
              "outlinewidth": 0,
              "ticks": ""
             }
            },
            "type": "scatterternary"
           }
          ],
          "surface": [
           {
            "colorbar": {
             "outlinewidth": 0,
             "ticks": ""
            },
            "colorscale": [
             [
              0,
              "#0d0887"
             ],
             [
              0.1111111111111111,
              "#46039f"
             ],
             [
              0.2222222222222222,
              "#7201a8"
             ],
             [
              0.3333333333333333,
              "#9c179e"
             ],
             [
              0.4444444444444444,
              "#bd3786"
             ],
             [
              0.5555555555555556,
              "#d8576b"
             ],
             [
              0.6666666666666666,
              "#ed7953"
             ],
             [
              0.7777777777777778,
              "#fb9f3a"
             ],
             [
              0.8888888888888888,
              "#fdca26"
             ],
             [
              1,
              "#f0f921"
             ]
            ],
            "type": "surface"
           }
          ],
          "table": [
           {
            "cells": {
             "fill": {
              "color": "#EBF0F8"
             },
             "line": {
              "color": "white"
             }
            },
            "header": {
             "fill": {
              "color": "#C8D4E3"
             },
             "line": {
              "color": "white"
             }
            },
            "type": "table"
           }
          ]
         },
         "layout": {
          "annotationdefaults": {
           "arrowcolor": "#2a3f5f",
           "arrowhead": 0,
           "arrowwidth": 1
          },
          "autotypenumbers": "strict",
          "coloraxis": {
           "colorbar": {
            "outlinewidth": 0,
            "ticks": ""
           }
          },
          "colorscale": {
           "diverging": [
            [
             0,
             "#8e0152"
            ],
            [
             0.1,
             "#c51b7d"
            ],
            [
             0.2,
             "#de77ae"
            ],
            [
             0.3,
             "#f1b6da"
            ],
            [
             0.4,
             "#fde0ef"
            ],
            [
             0.5,
             "#f7f7f7"
            ],
            [
             0.6,
             "#e6f5d0"
            ],
            [
             0.7,
             "#b8e186"
            ],
            [
             0.8,
             "#7fbc41"
            ],
            [
             0.9,
             "#4d9221"
            ],
            [
             1,
             "#276419"
            ]
           ],
           "sequential": [
            [
             0,
             "#0d0887"
            ],
            [
             0.1111111111111111,
             "#46039f"
            ],
            [
             0.2222222222222222,
             "#7201a8"
            ],
            [
             0.3333333333333333,
             "#9c179e"
            ],
            [
             0.4444444444444444,
             "#bd3786"
            ],
            [
             0.5555555555555556,
             "#d8576b"
            ],
            [
             0.6666666666666666,
             "#ed7953"
            ],
            [
             0.7777777777777778,
             "#fb9f3a"
            ],
            [
             0.8888888888888888,
             "#fdca26"
            ],
            [
             1,
             "#f0f921"
            ]
           ],
           "sequentialminus": [
            [
             0,
             "#0d0887"
            ],
            [
             0.1111111111111111,
             "#46039f"
            ],
            [
             0.2222222222222222,
             "#7201a8"
            ],
            [
             0.3333333333333333,
             "#9c179e"
            ],
            [
             0.4444444444444444,
             "#bd3786"
            ],
            [
             0.5555555555555556,
             "#d8576b"
            ],
            [
             0.6666666666666666,
             "#ed7953"
            ],
            [
             0.7777777777777778,
             "#fb9f3a"
            ],
            [
             0.8888888888888888,
             "#fdca26"
            ],
            [
             1,
             "#f0f921"
            ]
           ]
          },
          "colorway": [
           "#636efa",
           "#EF553B",
           "#00cc96",
           "#ab63fa",
           "#FFA15A",
           "#19d3f3",
           "#FF6692",
           "#B6E880",
           "#FF97FF",
           "#FECB52"
          ],
          "font": {
           "color": "#2a3f5f"
          },
          "geo": {
           "bgcolor": "white",
           "lakecolor": "white",
           "landcolor": "#E5ECF6",
           "showlakes": true,
           "showland": true,
           "subunitcolor": "white"
          },
          "hoverlabel": {
           "align": "left"
          },
          "hovermode": "closest",
          "mapbox": {
           "style": "light"
          },
          "paper_bgcolor": "white",
          "plot_bgcolor": "#E5ECF6",
          "polar": {
           "angularaxis": {
            "gridcolor": "white",
            "linecolor": "white",
            "ticks": ""
           },
           "bgcolor": "#E5ECF6",
           "radialaxis": {
            "gridcolor": "white",
            "linecolor": "white",
            "ticks": ""
           }
          },
          "scene": {
           "xaxis": {
            "backgroundcolor": "#E5ECF6",
            "gridcolor": "white",
            "gridwidth": 2,
            "linecolor": "white",
            "showbackground": true,
            "ticks": "",
            "zerolinecolor": "white"
           },
           "yaxis": {
            "backgroundcolor": "#E5ECF6",
            "gridcolor": "white",
            "gridwidth": 2,
            "linecolor": "white",
            "showbackground": true,
            "ticks": "",
            "zerolinecolor": "white"
           },
           "zaxis": {
            "backgroundcolor": "#E5ECF6",
            "gridcolor": "white",
            "gridwidth": 2,
            "linecolor": "white",
            "showbackground": true,
            "ticks": "",
            "zerolinecolor": "white"
           }
          },
          "shapedefaults": {
           "line": {
            "color": "#2a3f5f"
           }
          },
          "ternary": {
           "aaxis": {
            "gridcolor": "white",
            "linecolor": "white",
            "ticks": ""
           },
           "baxis": {
            "gridcolor": "white",
            "linecolor": "white",
            "ticks": ""
           },
           "bgcolor": "#E5ECF6",
           "caxis": {
            "gridcolor": "white",
            "linecolor": "white",
            "ticks": ""
           }
          },
          "title": {
           "x": 0.05
          },
          "xaxis": {
           "automargin": true,
           "gridcolor": "white",
           "linecolor": "white",
           "ticks": "",
           "title": {
            "standoff": 15
           },
           "zerolinecolor": "white",
           "zerolinewidth": 2
          },
          "yaxis": {
           "automargin": true,
           "gridcolor": "white",
           "linecolor": "white",
           "ticks": "",
           "title": {
            "standoff": 15
           },
           "zerolinecolor": "white",
           "zerolinewidth": 2
          }
         }
        },
        "title": {
         "text": "Bag of Words Cloud"
        },
        "width": 800,
        "xaxis": {
         "range": [
          0,
          1
         ],
         "showgrid": false,
         "showticklabels": false,
         "visible": false,
         "zeroline": false
        },
        "yaxis": {
         "range": [
          0,
          1
         ],
         "showgrid": false,
         "showticklabels": false,
         "visible": false,
         "zeroline": false
        }
       }
      }
     },
     "metadata": {},
     "output_type": "display_data"
    },
    {
     "name": "stdout",
     "output_type": "stream",
     "text": [
      "\n",
      "Bag of Words Feature Distribution:\n"
     ]
    },
    {
     "data": {
      "application/vnd.plotly.v1+json": {
       "config": {
        "plotlyServerURL": "https://plot.ly"
       },
       "data": [
        {
         "name": "Feature Importance",
         "type": "bar",
         "x": [
          "watch",
          "set",
          "analog",
          "cm",
          "showpiece",
          "baby",
          "combo",
          "ceramic",
          "men",
          "mug",
          "girl",
          "boy",
          "usb",
          "cotton",
          "woman",
          "single",
          "laptop",
          "double",
          "abstract",
          "blue",
          "light",
          "led",
          "towel",
          "printed",
          "multicolor",
          "design",
          "floral",
          "sticker",
          "prithish",
          "blanket",
          "cell",
          "black",
          "cover",
          "print",
          "maximum",
          "sonata",
          "gift",
          "rockmantra",
          "quilt",
          "kadhai",
          "battery",
          "dress",
          "gold",
          "comforter",
          "polyester",
          "red",
          "curtain",
          "eyelet",
          "cushion",
          "hp",
          "digital",
          "bath",
          "router",
          "color",
          "home",
          "door",
          "kit",
          "mini",
          "wall",
          "pc",
          "cream",
          "pink",
          "shape",
          "ml",
          "green",
          "inch",
          "time",
          "skin",
          "brown",
          "adapter",
          "printland",
          "plain",
          "pavilion",
          "pad",
          "table",
          "india",
          "charger",
          "art",
          "white",
          "portable",
          "craft",
          "pack",
          "wireless",
          "mouse",
          "casual"
         ],
         "y": {
          "bdata": "w/wRHWBvqz8IbajhJiqoP3eS2s0TE6c/LKdowF38oz8GcZLazROjP05g7uAqFKE/4bv2sqfloD/jMugC8FecP+Iy6ALwV5w/LKEJS+Odmz/iNF1/w8yZP09aj2uwtZg/bRMVjH3NlT8np2jAXfyTP0xeeWRXn5M/k84PKR5akD+SxMa6/BGNP5LExrr8EY0/2TLoAvBXjD+PyLCzo/uHP43IsLOj+4c/IqXzQ4qHhj8gpfNDioeGP7SBNtRwE4U/tIE21HAThT/971ccZFmEP0deeWRXn4M/ksyarErlgj+QzJqsSuWCP5DMmqxK5YI/2jq89D0rgj/aOrz0PSuCPyOp3TwxcYE/I6ndPDFxgT9sF/+EJLeAP2wX/4Qkt4A/bBf/hCS3gD9sC0GaL/p/P2wLQZov+n8/bAtBmi/6fz9sC0GaL/p/P2wLQZov+n8//+eDKhaGfj//54MqFoZ+P//ngyoWhn4/ksTGuvwRfT+SxMa6/BF9PyWhCUvjnXs/JaEJS+Odez+3fUzbySl6P7d9TNvJKXo/t31M28kpej/dNtL7lkF3P9020vuWQXc/3TbS+5ZBdz/dNtL7lkF3P28TFYx9zXU/bxMVjH3NdT9vExWMfc11P24TFYx9zXU/AfBXHGRZdD8B8FccZFl0PwHwVxxkWXQ/AfBXHGRZdD8B8FccZFl0PwHwVxxkWXQ/AfBXHGRZdD+TzJqsSuVyP5PMmqxK5XI/k8yarErlcj+TzJqsSuVyP5PMmqxK5XI/k8yarErlcj+TzJqsSuVyP5PMmqxK5XI/JandPDFxcT8lqd08MXFxPyWp3TwxcXE/JandPDFxcT8lqd08MXFxPyWp3TwxcXE/JandPDFxcT8lqd08MXFxP28LQZov+m8/bwtBmi/6bz8=",
          "dtype": "f8"
         }
        },
        {
         "line": {
          "color": "red"
         },
         "name": "Cumulative %",
         "type": "scatter",
         "x": [
          "watch",
          "set",
          "analog",
          "cm",
          "showpiece",
          "baby",
          "combo",
          "ceramic",
          "men",
          "mug",
          "girl",
          "boy",
          "usb",
          "cotton",
          "woman",
          "single",
          "laptop",
          "double",
          "abstract",
          "blue",
          "light",
          "led",
          "towel",
          "printed",
          "multicolor",
          "design",
          "floral",
          "sticker",
          "prithish",
          "blanket",
          "cell",
          "black",
          "cover",
          "print",
          "maximum",
          "sonata",
          "gift",
          "rockmantra",
          "quilt",
          "kadhai",
          "battery",
          "dress",
          "gold",
          "comforter",
          "polyester",
          "red",
          "curtain",
          "eyelet",
          "cushion",
          "hp",
          "digital",
          "bath",
          "router",
          "color",
          "home",
          "door",
          "kit",
          "mini",
          "wall",
          "pc",
          "cream",
          "pink",
          "shape",
          "ml",
          "green",
          "inch",
          "time",
          "skin",
          "brown",
          "adapter",
          "printland",
          "plain",
          "pavilion",
          "pad",
          "table",
          "india",
          "charger",
          "art",
          "white",
          "portable",
          "craft",
          "pack",
          "wireless",
          "mouse",
          "casual"
         ],
         "xaxis": "x",
         "y": {
          "bdata": "w/wRHWBvqz/mNF1/w8y5PxE/JbMmq8I/3Gg/Iz6qxz8eBeSZMW/MP5nODykeWtA/FaZuH9N20j9DKZ0fUjzUP3Gsyx/RAdY/hEZ8VK+71z/SGXKMe1jZP3cPK5PW49o/rmDsa65A3D8g6/JHdIDdPwWBOr5put4/7n3LoAvA3z8J2lDDTVTgPxv1O7aVyOA/5pVHdvU54T8IWRYF5JnhPyoc5ZPS+eE/v+r0vPBT4j9UuQTmDq7iP1uTValcAuM/Ym2mbKpW4z8izRf9D6jjP5uyqVqN9uM/zR1chSJC5D//iA6wt43kPzH0wNpM2eQ/HOWT0vkh5T8H1mbKpmrlP6xMWo9rsOU/UcNNVDD25T+vv2HmDDnmPw28dXjpe+Y/a7iJCsa+5j+COr5puv7mP5m88siuPuc/sD4nKKN+5z/HwFuHl77nP95CkOaL/uc/rkrlEpg76D9+Ujo/pHjoP05aj2uwteg/1+cEZdTv6D9gdXpe+CnpP6KIECU0Yek/5Jum62+Y6T/fNF1/w8zpP9rNExMXAeo/1WbKpmo16j9DC8LU7WPqP7GvuQJxkuo/H1SxMPTA6j+N+Khed+/qP7QiwVkSG+s/20zZVK1G6z8Cd/FPSHLrPymhCUvjnes/CVFCE5bG6z/pAHvbSO/rP8mws6P7F+w/qWDsa65A7D+JECU0YWnsP2nAXfwTkuw/SXCWxMa67D/ipe9ZkeDsP3vbSO9bBu0/FBGihCYs7T+tRvsZ8VHtP0Z8VK+7d+0/37GtRIad7T945wbaUMPtPxEdYG8b6e0/Y9jZ0f0L7j+1k1M04C7uPwdPzZbCUe4/WQpH+aR07j+rxcBbh5fuP/2AOr5puu4/Tzy0IEzd7j+h9y2DLgDvP6w4yLIoIO8/t3li4iJA7z8=",
          "dtype": "f8"
         },
         "yaxis": "y2"
        }
       ],
       "layout": {
        "showlegend": true,
        "template": {
         "data": {
          "bar": [
           {
            "error_x": {
             "color": "#2a3f5f"
            },
            "error_y": {
             "color": "#2a3f5f"
            },
            "marker": {
             "line": {
              "color": "#E5ECF6",
              "width": 0.5
             },
             "pattern": {
              "fillmode": "overlay",
              "size": 10,
              "solidity": 0.2
             }
            },
            "type": "bar"
           }
          ],
          "barpolar": [
           {
            "marker": {
             "line": {
              "color": "#E5ECF6",
              "width": 0.5
             },
             "pattern": {
              "fillmode": "overlay",
              "size": 10,
              "solidity": 0.2
             }
            },
            "type": "barpolar"
           }
          ],
          "carpet": [
           {
            "aaxis": {
             "endlinecolor": "#2a3f5f",
             "gridcolor": "white",
             "linecolor": "white",
             "minorgridcolor": "white",
             "startlinecolor": "#2a3f5f"
            },
            "baxis": {
             "endlinecolor": "#2a3f5f",
             "gridcolor": "white",
             "linecolor": "white",
             "minorgridcolor": "white",
             "startlinecolor": "#2a3f5f"
            },
            "type": "carpet"
           }
          ],
          "choropleth": [
           {
            "colorbar": {
             "outlinewidth": 0,
             "ticks": ""
            },
            "type": "choropleth"
           }
          ],
          "contour": [
           {
            "colorbar": {
             "outlinewidth": 0,
             "ticks": ""
            },
            "colorscale": [
             [
              0,
              "#0d0887"
             ],
             [
              0.1111111111111111,
              "#46039f"
             ],
             [
              0.2222222222222222,
              "#7201a8"
             ],
             [
              0.3333333333333333,
              "#9c179e"
             ],
             [
              0.4444444444444444,
              "#bd3786"
             ],
             [
              0.5555555555555556,
              "#d8576b"
             ],
             [
              0.6666666666666666,
              "#ed7953"
             ],
             [
              0.7777777777777778,
              "#fb9f3a"
             ],
             [
              0.8888888888888888,
              "#fdca26"
             ],
             [
              1,
              "#f0f921"
             ]
            ],
            "type": "contour"
           }
          ],
          "contourcarpet": [
           {
            "colorbar": {
             "outlinewidth": 0,
             "ticks": ""
            },
            "type": "contourcarpet"
           }
          ],
          "heatmap": [
           {
            "colorbar": {
             "outlinewidth": 0,
             "ticks": ""
            },
            "colorscale": [
             [
              0,
              "#0d0887"
             ],
             [
              0.1111111111111111,
              "#46039f"
             ],
             [
              0.2222222222222222,
              "#7201a8"
             ],
             [
              0.3333333333333333,
              "#9c179e"
             ],
             [
              0.4444444444444444,
              "#bd3786"
             ],
             [
              0.5555555555555556,
              "#d8576b"
             ],
             [
              0.6666666666666666,
              "#ed7953"
             ],
             [
              0.7777777777777778,
              "#fb9f3a"
             ],
             [
              0.8888888888888888,
              "#fdca26"
             ],
             [
              1,
              "#f0f921"
             ]
            ],
            "type": "heatmap"
           }
          ],
          "histogram": [
           {
            "marker": {
             "pattern": {
              "fillmode": "overlay",
              "size": 10,
              "solidity": 0.2
             }
            },
            "type": "histogram"
           }
          ],
          "histogram2d": [
           {
            "colorbar": {
             "outlinewidth": 0,
             "ticks": ""
            },
            "colorscale": [
             [
              0,
              "#0d0887"
             ],
             [
              0.1111111111111111,
              "#46039f"
             ],
             [
              0.2222222222222222,
              "#7201a8"
             ],
             [
              0.3333333333333333,
              "#9c179e"
             ],
             [
              0.4444444444444444,
              "#bd3786"
             ],
             [
              0.5555555555555556,
              "#d8576b"
             ],
             [
              0.6666666666666666,
              "#ed7953"
             ],
             [
              0.7777777777777778,
              "#fb9f3a"
             ],
             [
              0.8888888888888888,
              "#fdca26"
             ],
             [
              1,
              "#f0f921"
             ]
            ],
            "type": "histogram2d"
           }
          ],
          "histogram2dcontour": [
           {
            "colorbar": {
             "outlinewidth": 0,
             "ticks": ""
            },
            "colorscale": [
             [
              0,
              "#0d0887"
             ],
             [
              0.1111111111111111,
              "#46039f"
             ],
             [
              0.2222222222222222,
              "#7201a8"
             ],
             [
              0.3333333333333333,
              "#9c179e"
             ],
             [
              0.4444444444444444,
              "#bd3786"
             ],
             [
              0.5555555555555556,
              "#d8576b"
             ],
             [
              0.6666666666666666,
              "#ed7953"
             ],
             [
              0.7777777777777778,
              "#fb9f3a"
             ],
             [
              0.8888888888888888,
              "#fdca26"
             ],
             [
              1,
              "#f0f921"
             ]
            ],
            "type": "histogram2dcontour"
           }
          ],
          "mesh3d": [
           {
            "colorbar": {
             "outlinewidth": 0,
             "ticks": ""
            },
            "type": "mesh3d"
           }
          ],
          "parcoords": [
           {
            "line": {
             "colorbar": {
              "outlinewidth": 0,
              "ticks": ""
             }
            },
            "type": "parcoords"
           }
          ],
          "pie": [
           {
            "automargin": true,
            "type": "pie"
           }
          ],
          "scatter": [
           {
            "fillpattern": {
             "fillmode": "overlay",
             "size": 10,
             "solidity": 0.2
            },
            "type": "scatter"
           }
          ],
          "scatter3d": [
           {
            "line": {
             "colorbar": {
              "outlinewidth": 0,
              "ticks": ""
             }
            },
            "marker": {
             "colorbar": {
              "outlinewidth": 0,
              "ticks": ""
             }
            },
            "type": "scatter3d"
           }
          ],
          "scattercarpet": [
           {
            "marker": {
             "colorbar": {
              "outlinewidth": 0,
              "ticks": ""
             }
            },
            "type": "scattercarpet"
           }
          ],
          "scattergeo": [
           {
            "marker": {
             "colorbar": {
              "outlinewidth": 0,
              "ticks": ""
             }
            },
            "type": "scattergeo"
           }
          ],
          "scattergl": [
           {
            "marker": {
             "colorbar": {
              "outlinewidth": 0,
              "ticks": ""
             }
            },
            "type": "scattergl"
           }
          ],
          "scattermap": [
           {
            "marker": {
             "colorbar": {
              "outlinewidth": 0,
              "ticks": ""
             }
            },
            "type": "scattermap"
           }
          ],
          "scattermapbox": [
           {
            "marker": {
             "colorbar": {
              "outlinewidth": 0,
              "ticks": ""
             }
            },
            "type": "scattermapbox"
           }
          ],
          "scatterpolar": [
           {
            "marker": {
             "colorbar": {
              "outlinewidth": 0,
              "ticks": ""
             }
            },
            "type": "scatterpolar"
           }
          ],
          "scatterpolargl": [
           {
            "marker": {
             "colorbar": {
              "outlinewidth": 0,
              "ticks": ""
             }
            },
            "type": "scatterpolargl"
           }
          ],
          "scatterternary": [
           {
            "marker": {
             "colorbar": {
              "outlinewidth": 0,
              "ticks": ""
             }
            },
            "type": "scatterternary"
           }
          ],
          "surface": [
           {
            "colorbar": {
             "outlinewidth": 0,
             "ticks": ""
            },
            "colorscale": [
             [
              0,
              "#0d0887"
             ],
             [
              0.1111111111111111,
              "#46039f"
             ],
             [
              0.2222222222222222,
              "#7201a8"
             ],
             [
              0.3333333333333333,
              "#9c179e"
             ],
             [
              0.4444444444444444,
              "#bd3786"
             ],
             [
              0.5555555555555556,
              "#d8576b"
             ],
             [
              0.6666666666666666,
              "#ed7953"
             ],
             [
              0.7777777777777778,
              "#fb9f3a"
             ],
             [
              0.8888888888888888,
              "#fdca26"
             ],
             [
              1,
              "#f0f921"
             ]
            ],
            "type": "surface"
           }
          ],
          "table": [
           {
            "cells": {
             "fill": {
              "color": "#EBF0F8"
             },
             "line": {
              "color": "white"
             }
            },
            "header": {
             "fill": {
              "color": "#C8D4E3"
             },
             "line": {
              "color": "white"
             }
            },
            "type": "table"
           }
          ]
         },
         "layout": {
          "annotationdefaults": {
           "arrowcolor": "#2a3f5f",
           "arrowhead": 0,
           "arrowwidth": 1
          },
          "autotypenumbers": "strict",
          "coloraxis": {
           "colorbar": {
            "outlinewidth": 0,
            "ticks": ""
           }
          },
          "colorscale": {
           "diverging": [
            [
             0,
             "#8e0152"
            ],
            [
             0.1,
             "#c51b7d"
            ],
            [
             0.2,
             "#de77ae"
            ],
            [
             0.3,
             "#f1b6da"
            ],
            [
             0.4,
             "#fde0ef"
            ],
            [
             0.5,
             "#f7f7f7"
            ],
            [
             0.6,
             "#e6f5d0"
            ],
            [
             0.7,
             "#b8e186"
            ],
            [
             0.8,
             "#7fbc41"
            ],
            [
             0.9,
             "#4d9221"
            ],
            [
             1,
             "#276419"
            ]
           ],
           "sequential": [
            [
             0,
             "#0d0887"
            ],
            [
             0.1111111111111111,
             "#46039f"
            ],
            [
             0.2222222222222222,
             "#7201a8"
            ],
            [
             0.3333333333333333,
             "#9c179e"
            ],
            [
             0.4444444444444444,
             "#bd3786"
            ],
            [
             0.5555555555555556,
             "#d8576b"
            ],
            [
             0.6666666666666666,
             "#ed7953"
            ],
            [
             0.7777777777777778,
             "#fb9f3a"
            ],
            [
             0.8888888888888888,
             "#fdca26"
            ],
            [
             1,
             "#f0f921"
            ]
           ],
           "sequentialminus": [
            [
             0,
             "#0d0887"
            ],
            [
             0.1111111111111111,
             "#46039f"
            ],
            [
             0.2222222222222222,
             "#7201a8"
            ],
            [
             0.3333333333333333,
             "#9c179e"
            ],
            [
             0.4444444444444444,
             "#bd3786"
            ],
            [
             0.5555555555555556,
             "#d8576b"
            ],
            [
             0.6666666666666666,
             "#ed7953"
            ],
            [
             0.7777777777777778,
             "#fb9f3a"
            ],
            [
             0.8888888888888888,
             "#fdca26"
            ],
            [
             1,
             "#f0f921"
            ]
           ]
          },
          "colorway": [
           "#636efa",
           "#EF553B",
           "#00cc96",
           "#ab63fa",
           "#FFA15A",
           "#19d3f3",
           "#FF6692",
           "#B6E880",
           "#FF97FF",
           "#FECB52"
          ],
          "font": {
           "color": "#2a3f5f"
          },
          "geo": {
           "bgcolor": "white",
           "lakecolor": "white",
           "landcolor": "#E5ECF6",
           "showlakes": true,
           "showland": true,
           "subunitcolor": "white"
          },
          "hoverlabel": {
           "align": "left"
          },
          "hovermode": "closest",
          "mapbox": {
           "style": "light"
          },
          "paper_bgcolor": "white",
          "plot_bgcolor": "#E5ECF6",
          "polar": {
           "angularaxis": {
            "gridcolor": "white",
            "linecolor": "white",
            "ticks": ""
           },
           "bgcolor": "#E5ECF6",
           "radialaxis": {
            "gridcolor": "white",
            "linecolor": "white",
            "ticks": ""
           }
          },
          "scene": {
           "xaxis": {
            "backgroundcolor": "#E5ECF6",
            "gridcolor": "white",
            "gridwidth": 2,
            "linecolor": "white",
            "showbackground": true,
            "ticks": "",
            "zerolinecolor": "white"
           },
           "yaxis": {
            "backgroundcolor": "#E5ECF6",
            "gridcolor": "white",
            "gridwidth": 2,
            "linecolor": "white",
            "showbackground": true,
            "ticks": "",
            "zerolinecolor": "white"
           },
           "zaxis": {
            "backgroundcolor": "#E5ECF6",
            "gridcolor": "white",
            "gridwidth": 2,
            "linecolor": "white",
            "showbackground": true,
            "ticks": "",
            "zerolinecolor": "white"
           }
          },
          "shapedefaults": {
           "line": {
            "color": "#2a3f5f"
           }
          },
          "ternary": {
           "aaxis": {
            "gridcolor": "white",
            "linecolor": "white",
            "ticks": ""
           },
           "baxis": {
            "gridcolor": "white",
            "linecolor": "white",
            "ticks": ""
           },
           "bgcolor": "#E5ECF6",
           "caxis": {
            "gridcolor": "white",
            "linecolor": "white",
            "ticks": ""
           }
          },
          "title": {
           "x": 0.05
          },
          "xaxis": {
           "automargin": true,
           "gridcolor": "white",
           "linecolor": "white",
           "ticks": "",
           "title": {
            "standoff": 15
           },
           "zerolinecolor": "white",
           "zerolinewidth": 2
          },
          "yaxis": {
           "automargin": true,
           "gridcolor": "white",
           "linecolor": "white",
           "ticks": "",
           "title": {
            "standoff": 15
           },
           "zerolinecolor": "white",
           "zerolinewidth": 2
          }
         }
        },
        "title": {
         "text": "BoW Features (Top 98.0%)"
        },
        "xaxis": {
         "anchor": "y",
         "domain": [
          0,
          0.94
         ],
         "tickangle": 45,
         "title": {
          "text": "Features"
         }
        },
        "yaxis": {
         "anchor": "x",
         "domain": [
          0,
          1
         ],
         "title": {
          "text": "Importance %"
         }
        },
        "yaxis2": {
         "anchor": "x",
         "overlaying": "y",
         "side": "right",
         "title": {
          "text": "Cumulative %"
         }
        }
       }
      }
     },
     "metadata": {},
     "output_type": "display_data"
    }
   ],
   "source": [
    "from src.classes.encode_text import TextEncoder\n",
    "\n",
    "# Initialize encoder once\n",
    "encoder = TextEncoder()\n",
    "\n",
    "# Fit and transform product names\n",
    "encoding_results = encoder.fit_transform(df['product_name_lemmatized'])\n",
    "\n",
    "\n",
    "# For a Bag of Words cloud\n",
    "bow_cloud = encoder.plot_word_cloud(use_tfidf=False, max_words=100, colormap='plasma')\n",
    "bow_cloud.show()\n",
    "\n",
    "# Create and display BoW plot\n",
    "bow_fig = encoder.plot_bow_features(threshold=0.98)\n",
    "print(\"\\nBag of Words Feature Distribution:\")\n",
    "bow_fig.show()\n",
    "\n",
    "\n"
   ]
  },
  {
   "cell_type": "code",
   "execution_count": 7,
   "id": "ca4bcb7a",
   "metadata": {},
   "outputs": [
    {
     "data": {
      "application/vnd.plotly.v1+json": {
       "config": {
        "plotlyServerURL": "https://plot.ly"
       },
       "data": [],
       "layout": {
        "height": 500,
        "images": [
         {
          "layer": "below",
          "opacity": 1,
          "sizex": 1,
          "sizey": 1,
          "sizing": "stretch",
          "source": "data:image/png;base64,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",
          "x": 0,
          "xref": "paper",
          "y": 1,
          "yref": "paper"
         }
        ],
        "margin": {
         "b": 0,
         "l": 0,
         "r": 0,
         "t": 30
        },
        "template": {
         "data": {
          "bar": [
           {
            "error_x": {
             "color": "#2a3f5f"
            },
            "error_y": {
             "color": "#2a3f5f"
            },
            "marker": {
             "line": {
              "color": "#E5ECF6",
              "width": 0.5
             },
             "pattern": {
              "fillmode": "overlay",
              "size": 10,
              "solidity": 0.2
             }
            },
            "type": "bar"
           }
          ],
          "barpolar": [
           {
            "marker": {
             "line": {
              "color": "#E5ECF6",
              "width": 0.5
             },
             "pattern": {
              "fillmode": "overlay",
              "size": 10,
              "solidity": 0.2
             }
            },
            "type": "barpolar"
           }
          ],
          "carpet": [
           {
            "aaxis": {
             "endlinecolor": "#2a3f5f",
             "gridcolor": "white",
             "linecolor": "white",
             "minorgridcolor": "white",
             "startlinecolor": "#2a3f5f"
            },
            "baxis": {
             "endlinecolor": "#2a3f5f",
             "gridcolor": "white",
             "linecolor": "white",
             "minorgridcolor": "white",
             "startlinecolor": "#2a3f5f"
            },
            "type": "carpet"
           }
          ],
          "choropleth": [
           {
            "colorbar": {
             "outlinewidth": 0,
             "ticks": ""
            },
            "type": "choropleth"
           }
          ],
          "contour": [
           {
            "colorbar": {
             "outlinewidth": 0,
             "ticks": ""
            },
            "colorscale": [
             [
              0,
              "#0d0887"
             ],
             [
              0.1111111111111111,
              "#46039f"
             ],
             [
              0.2222222222222222,
              "#7201a8"
             ],
             [
              0.3333333333333333,
              "#9c179e"
             ],
             [
              0.4444444444444444,
              "#bd3786"
             ],
             [
              0.5555555555555556,
              "#d8576b"
             ],
             [
              0.6666666666666666,
              "#ed7953"
             ],
             [
              0.7777777777777778,
              "#fb9f3a"
             ],
             [
              0.8888888888888888,
              "#fdca26"
             ],
             [
              1,
              "#f0f921"
             ]
            ],
            "type": "contour"
           }
          ],
          "contourcarpet": [
           {
            "colorbar": {
             "outlinewidth": 0,
             "ticks": ""
            },
            "type": "contourcarpet"
           }
          ],
          "heatmap": [
           {
            "colorbar": {
             "outlinewidth": 0,
             "ticks": ""
            },
            "colorscale": [
             [
              0,
              "#0d0887"
             ],
             [
              0.1111111111111111,
              "#46039f"
             ],
             [
              0.2222222222222222,
              "#7201a8"
             ],
             [
              0.3333333333333333,
              "#9c179e"
             ],
             [
              0.4444444444444444,
              "#bd3786"
             ],
             [
              0.5555555555555556,
              "#d8576b"
             ],
             [
              0.6666666666666666,
              "#ed7953"
             ],
             [
              0.7777777777777778,
              "#fb9f3a"
             ],
             [
              0.8888888888888888,
              "#fdca26"
             ],
             [
              1,
              "#f0f921"
             ]
            ],
            "type": "heatmap"
           }
          ],
          "histogram": [
           {
            "marker": {
             "pattern": {
              "fillmode": "overlay",
              "size": 10,
              "solidity": 0.2
             }
            },
            "type": "histogram"
           }
          ],
          "histogram2d": [
           {
            "colorbar": {
             "outlinewidth": 0,
             "ticks": ""
            },
            "colorscale": [
             [
              0,
              "#0d0887"
             ],
             [
              0.1111111111111111,
              "#46039f"
             ],
             [
              0.2222222222222222,
              "#7201a8"
             ],
             [
              0.3333333333333333,
              "#9c179e"
             ],
             [
              0.4444444444444444,
              "#bd3786"
             ],
             [
              0.5555555555555556,
              "#d8576b"
             ],
             [
              0.6666666666666666,
              "#ed7953"
             ],
             [
              0.7777777777777778,
              "#fb9f3a"
             ],
             [
              0.8888888888888888,
              "#fdca26"
             ],
             [
              1,
              "#f0f921"
             ]
            ],
            "type": "histogram2d"
           }
          ],
          "histogram2dcontour": [
           {
            "colorbar": {
             "outlinewidth": 0,
             "ticks": ""
            },
            "colorscale": [
             [
              0,
              "#0d0887"
             ],
             [
              0.1111111111111111,
              "#46039f"
             ],
             [
              0.2222222222222222,
              "#7201a8"
             ],
             [
              0.3333333333333333,
              "#9c179e"
             ],
             [
              0.4444444444444444,
              "#bd3786"
             ],
             [
              0.5555555555555556,
              "#d8576b"
             ],
             [
              0.6666666666666666,
              "#ed7953"
             ],
             [
              0.7777777777777778,
              "#fb9f3a"
             ],
             [
              0.8888888888888888,
              "#fdca26"
             ],
             [
              1,
              "#f0f921"
             ]
            ],
            "type": "histogram2dcontour"
           }
          ],
          "mesh3d": [
           {
            "colorbar": {
             "outlinewidth": 0,
             "ticks": ""
            },
            "type": "mesh3d"
           }
          ],
          "parcoords": [
           {
            "line": {
             "colorbar": {
              "outlinewidth": 0,
              "ticks": ""
             }
            },
            "type": "parcoords"
           }
          ],
          "pie": [
           {
            "automargin": true,
            "type": "pie"
           }
          ],
          "scatter": [
           {
            "fillpattern": {
             "fillmode": "overlay",
             "size": 10,
             "solidity": 0.2
            },
            "type": "scatter"
           }
          ],
          "scatter3d": [
           {
            "line": {
             "colorbar": {
              "outlinewidth": 0,
              "ticks": ""
             }
            },
            "marker": {
             "colorbar": {
              "outlinewidth": 0,
              "ticks": ""
             }
            },
            "type": "scatter3d"
           }
          ],
          "scattercarpet": [
           {
            "marker": {
             "colorbar": {
              "outlinewidth": 0,
              "ticks": ""
             }
            },
            "type": "scattercarpet"
           }
          ],
          "scattergeo": [
           {
            "marker": {
             "colorbar": {
              "outlinewidth": 0,
              "ticks": ""
             }
            },
            "type": "scattergeo"
           }
          ],
          "scattergl": [
           {
            "marker": {
             "colorbar": {
              "outlinewidth": 0,
              "ticks": ""
             }
            },
            "type": "scattergl"
           }
          ],
          "scattermap": [
           {
            "marker": {
             "colorbar": {
              "outlinewidth": 0,
              "ticks": ""
             }
            },
            "type": "scattermap"
           }
          ],
          "scattermapbox": [
           {
            "marker": {
             "colorbar": {
              "outlinewidth": 0,
              "ticks": ""
             }
            },
            "type": "scattermapbox"
           }
          ],
          "scatterpolar": [
           {
            "marker": {
             "colorbar": {
              "outlinewidth": 0,
              "ticks": ""
             }
            },
            "type": "scatterpolar"
           }
          ],
          "scatterpolargl": [
           {
            "marker": {
             "colorbar": {
              "outlinewidth": 0,
              "ticks": ""
             }
            },
            "type": "scatterpolargl"
           }
          ],
          "scatterternary": [
           {
            "marker": {
             "colorbar": {
              "outlinewidth": 0,
              "ticks": ""
             }
            },
            "type": "scatterternary"
           }
          ],
          "surface": [
           {
            "colorbar": {
             "outlinewidth": 0,
             "ticks": ""
            },
            "colorscale": [
             [
              0,
              "#0d0887"
             ],
             [
              0.1111111111111111,
              "#46039f"
             ],
             [
              0.2222222222222222,
              "#7201a8"
             ],
             [
              0.3333333333333333,
              "#9c179e"
             ],
             [
              0.4444444444444444,
              "#bd3786"
             ],
             [
              0.5555555555555556,
              "#d8576b"
             ],
             [
              0.6666666666666666,
              "#ed7953"
             ],
             [
              0.7777777777777778,
              "#fb9f3a"
             ],
             [
              0.8888888888888888,
              "#fdca26"
             ],
             [
              1,
              "#f0f921"
             ]
            ],
            "type": "surface"
           }
          ],
          "table": [
           {
            "cells": {
             "fill": {
              "color": "#EBF0F8"
             },
             "line": {
              "color": "white"
             }
            },
            "header": {
             "fill": {
              "color": "#C8D4E3"
             },
             "line": {
              "color": "white"
             }
            },
            "type": "table"
           }
          ]
         },
         "layout": {
          "annotationdefaults": {
           "arrowcolor": "#2a3f5f",
           "arrowhead": 0,
           "arrowwidth": 1
          },
          "autotypenumbers": "strict",
          "coloraxis": {
           "colorbar": {
            "outlinewidth": 0,
            "ticks": ""
           }
          },
          "colorscale": {
           "diverging": [
            [
             0,
             "#8e0152"
            ],
            [
             0.1,
             "#c51b7d"
            ],
            [
             0.2,
             "#de77ae"
            ],
            [
             0.3,
             "#f1b6da"
            ],
            [
             0.4,
             "#fde0ef"
            ],
            [
             0.5,
             "#f7f7f7"
            ],
            [
             0.6,
             "#e6f5d0"
            ],
            [
             0.7,
             "#b8e186"
            ],
            [
             0.8,
             "#7fbc41"
            ],
            [
             0.9,
             "#4d9221"
            ],
            [
             1,
             "#276419"
            ]
           ],
           "sequential": [
            [
             0,
             "#0d0887"
            ],
            [
             0.1111111111111111,
             "#46039f"
            ],
            [
             0.2222222222222222,
             "#7201a8"
            ],
            [
             0.3333333333333333,
             "#9c179e"
            ],
            [
             0.4444444444444444,
             "#bd3786"
            ],
            [
             0.5555555555555556,
             "#d8576b"
            ],
            [
             0.6666666666666666,
             "#ed7953"
            ],
            [
             0.7777777777777778,
             "#fb9f3a"
            ],
            [
             0.8888888888888888,
             "#fdca26"
            ],
            [
             1,
             "#f0f921"
            ]
           ],
           "sequentialminus": [
            [
             0,
             "#0d0887"
            ],
            [
             0.1111111111111111,
             "#46039f"
            ],
            [
             0.2222222222222222,
             "#7201a8"
            ],
            [
             0.3333333333333333,
             "#9c179e"
            ],
            [
             0.4444444444444444,
             "#bd3786"
            ],
            [
             0.5555555555555556,
             "#d8576b"
            ],
            [
             0.6666666666666666,
             "#ed7953"
            ],
            [
             0.7777777777777778,
             "#fb9f3a"
            ],
            [
             0.8888888888888888,
             "#fdca26"
            ],
            [
             1,
             "#f0f921"
            ]
           ]
          },
          "colorway": [
           "#636efa",
           "#EF553B",
           "#00cc96",
           "#ab63fa",
           "#FFA15A",
           "#19d3f3",
           "#FF6692",
           "#B6E880",
           "#FF97FF",
           "#FECB52"
          ],
          "font": {
           "color": "#2a3f5f"
          },
          "geo": {
           "bgcolor": "white",
           "lakecolor": "white",
           "landcolor": "#E5ECF6",
           "showlakes": true,
           "showland": true,
           "subunitcolor": "white"
          },
          "hoverlabel": {
           "align": "left"
          },
          "hovermode": "closest",
          "mapbox": {
           "style": "light"
          },
          "paper_bgcolor": "white",
          "plot_bgcolor": "#E5ECF6",
          "polar": {
           "angularaxis": {
            "gridcolor": "white",
            "linecolor": "white",
            "ticks": ""
           },
           "bgcolor": "#E5ECF6",
           "radialaxis": {
            "gridcolor": "white",
            "linecolor": "white",
            "ticks": ""
           }
          },
          "scene": {
           "xaxis": {
            "backgroundcolor": "#E5ECF6",
            "gridcolor": "white",
            "gridwidth": 2,
            "linecolor": "white",
            "showbackground": true,
            "ticks": "",
            "zerolinecolor": "white"
           },
           "yaxis": {
            "backgroundcolor": "#E5ECF6",
            "gridcolor": "white",
            "gridwidth": 2,
            "linecolor": "white",
            "showbackground": true,
            "ticks": "",
            "zerolinecolor": "white"
           },
           "zaxis": {
            "backgroundcolor": "#E5ECF6",
            "gridcolor": "white",
            "gridwidth": 2,
            "linecolor": "white",
            "showbackground": true,
            "ticks": "",
            "zerolinecolor": "white"
           }
          },
          "shapedefaults": {
           "line": {
            "color": "#2a3f5f"
           }
          },
          "ternary": {
           "aaxis": {
            "gridcolor": "white",
            "linecolor": "white",
            "ticks": ""
           },
           "baxis": {
            "gridcolor": "white",
            "linecolor": "white",
            "ticks": ""
           },
           "bgcolor": "#E5ECF6",
           "caxis": {
            "gridcolor": "white",
            "linecolor": "white",
            "ticks": ""
           }
          },
          "title": {
           "x": 0.05
          },
          "xaxis": {
           "automargin": true,
           "gridcolor": "white",
           "linecolor": "white",
           "ticks": "",
           "title": {
            "standoff": 15
           },
           "zerolinecolor": "white",
           "zerolinewidth": 2
          },
          "yaxis": {
           "automargin": true,
           "gridcolor": "white",
           "linecolor": "white",
           "ticks": "",
           "title": {
            "standoff": 15
           },
           "zerolinecolor": "white",
           "zerolinewidth": 2
          }
         }
        },
        "title": {
         "text": "TF-IDF Word Cloud"
        },
        "width": 800,
        "xaxis": {
         "range": [
          0,
          1
         ],
         "showgrid": false,
         "showticklabels": false,
         "visible": false,
         "zeroline": false
        },
        "yaxis": {
         "range": [
          0,
          1
         ],
         "showgrid": false,
         "showticklabels": false,
         "visible": false,
         "zeroline": false
        }
       }
      }
     },
     "metadata": {},
     "output_type": "display_data"
    },
    {
     "name": "stdout",
     "output_type": "stream",
     "text": [
      "\n",
      "TF-IDF Feature Distribution:\n"
     ]
    },
    {
     "data": {
      "application/vnd.plotly.v1+json": {
       "config": {
        "plotlyServerURL": "https://plot.ly"
       },
       "data": [
        {
         "name": "Feature Importance",
         "type": "bar",
         "x": [
          "set",
          "watch",
          "cm",
          "showpiece",
          "analog",
          "combo",
          "baby",
          "men",
          "ceramic",
          "mug",
          "girl",
          "boy",
          "woman",
          "cotton",
          "usb",
          "kadhai",
          "single",
          "towel",
          "double",
          "blue",
          "abstract",
          "led",
          "printed",
          "sticker",
          "laptop",
          "cover",
          "black",
          "sonata",
          "light",
          "multicolor",
          "prithish",
          "design",
          "dress",
          "rockmantra",
          "blanket",
          "gift",
          "maximum",
          "print",
          "floral",
          "router",
          "gold",
          "cushion",
          "red",
          "digital",
          "bath",
          "kit",
          "cream",
          "cell",
          "wall",
          "quilt",
          "pc",
          "color",
          "comforter",
          "battery",
          "pack",
          "inch",
          "hp",
          "ml",
          "printland",
          "mini",
          "polyester",
          "wireless",
          "table",
          "home",
          "art",
          "green",
          "time",
          "box",
          "curtain",
          "plain",
          "india",
          "pink",
          "adapter",
          "eyelet",
          "craft",
          "casual",
          "orange",
          "brown",
          "portable",
          "charger",
          "door",
          "white",
          "bedsheet",
          "shape",
          "series"
         ],
         "y": {
          "bdata": "6g1KeF0xpj+tGPZuKbWlP+7C0Co8SKU/RkqIyde2pD/OCum2qYmjP63i8kkp4aE/qQtYvSylnz/PLS3Z92ybP/x7Z3fztpk/YQOpDc6UmD8xiAKDUQSYP9jpswWa2Zc/LAAd0XhYlD+ONx1Ex8WTP/vYdh7NIpM/pOC8vMMBjT8YgnUy782MP9/lpXbjlYk/ruq2Cck3iT9Cihw+lXSIP/8f6P3i7oc/YzJKUbZ8hz+f4rk1/meGPxkmCWpQoYU/W41xYQ2BhT8AB/k5r2eFP33IKfH+94Q/6n6kq7oahD+HYBuY8fuDP+Q6CJMfoYM/sYasrIR7gz9TP74TZC2DP/5TKt0m6II/CWqI9xzCgj/fdceOEsKCPxwfWNhofoI/D1wb2Nhrgj/6GsUrz12CP0y7H269HII/xFp8OzqCgT8VjyHG502AP94sZOsZDoA/TASnDTuqfz95mGgW/RF/P8+dVL4a3X4/grqgZLSxfT+hOMcq8JR9P9441FIEa30/tfKBpn3Fez+17P8JJo57P9MmLoDQY3s/3afRj8THej+gROWYrJ96P5Lr85U5l3o/8C5MuchWej99bwwTSFp5P2zFa/rSUXk/oTbm+mVCeT//PNhUPhl5PxC9lHzvBHk/bt4Rxz3KeD/ovOKEGJd4P7byTVDTMng/S9aEk9MjeD/elh8fqRx4PxZEJAYp8Hc/Z8PYtr9adz90RMLvrS53P+UJkqPs13U/26AH9mHWdT/9ymfkrMN1P7eNQJuxb3U/EZZqRrMgdT/wnVS2U890P1pKNTRpynQ/NY4mvOpicz//aCzXcUFzP2xFKe8993I/HTQIsbPUcj+DznzEcLByP7EvamtirnI/6H+A9TZZcj/YuMaAyA9yPwT5B7zvaXE/f1bCuDm/cD8=",
          "dtype": "f8"
         }
        },
        {
         "line": {
          "color": "red"
         },
         "name": "Cumulative %",
         "type": "scatter",
         "x": [
          "set",
          "watch",
          "cm",
          "showpiece",
          "analog",
          "combo",
          "baby",
          "men",
          "ceramic",
          "mug",
          "girl",
          "boy",
          "woman",
          "cotton",
          "usb",
          "kadhai",
          "single",
          "towel",
          "double",
          "blue",
          "abstract",
          "led",
          "printed",
          "sticker",
          "laptop",
          "cover",
          "black",
          "sonata",
          "light",
          "multicolor",
          "prithish",
          "design",
          "dress",
          "rockmantra",
          "blanket",
          "gift",
          "maximum",
          "print",
          "floral",
          "router",
          "gold",
          "cushion",
          "red",
          "digital",
          "bath",
          "kit",
          "cream",
          "cell",
          "wall",
          "quilt",
          "pc",
          "color",
          "comforter",
          "battery",
          "pack",
          "inch",
          "hp",
          "ml",
          "printland",
          "mini",
          "polyester",
          "wireless",
          "table",
          "home",
          "art",
          "green",
          "time",
          "box",
          "curtain",
          "plain",
          "india",
          "pink",
          "adapter",
          "eyelet",
          "craft",
          "casual",
          "orange",
          "brown",
          "portable",
          "charger",
          "door",
          "white",
          "bedsheet",
          "shape",
          "series"
         ],
         "xaxis": "x",
         "y": {
          "bdata": "6g1KeF0xpj9ME6BzQ/O1P2I6hMSwS8A/9EzmtmZ5xT+oj6Ak0VvKP1NIHXcb1M4/5CRkh2Bk0T/B9/YEMBvTP4FvbTyfttQ/t/9HHew/1j86KHg1McDXP9hm09XKPdk/2zblYlKD2j9UCifXrr/bP+R3Dqnb8dw/6V70xunZ3T/6CohAWcDePyk6PVwIjd8/v3hFUmMr4D/o6j2nNY3gP2iLNTPx7OA/MrR6DORK4T+8m1EFhKThP1TA+UYJ++E/iYZ/fA1R4j+lamc5rKbiP8cRLDWM+uI/w6PaH/dK4z9FETvm5prjPzEyh2Rr6eM/TOQ5d1k35D9J3YgHD4TkP5mG/aKvz+Q/QajbFrga5T8YxhZhwGXlP5QmeAS6r+U/BJTYZ2n55T9wqIek4ELmP10nQJpTi+Y/yBgug1zR5j8En0YilBLnP7cv9InMUuc/wH0PACGS5z/xTjz6RNDnPy34uC//Deg/ojmCmGJJ6D8TyNd4jIToP4VwfYFiv+g/anTKfO326D9DdN7ICS7pP5HQ3mnRZOk/4XP+8mCa6T9qPjBMoM/pP0EmXL/OBOo/n77OUHw56j9+1/TgMGzqPwmv6YbUnuo/dnvfUlnR6j/wK4nPiwPrP2pVgq6VNes/J3kQKipn6z+hPhpbWJjrP4baugG+yOs/M+ThqAX56z9hIyD7PinsP+lrLE0fWew/cB2azNSH7D/5oXkoMrbsPw3GwAHi4ew/T9WsxY4N7T/lpHUfFjntPwAmrIL1Y+0/LPs46TaO7T9opKWQ1bftP/0ODmNq4e0/GVyGODAI7j/rtDQcsy7uP3YHE5ihVO4/3hd1/0p67j97Ef7gq5/uP9rl1KUIxe4/2ua/E7vp7j9MdMGk2g3vPz6EOYSuMO8/6wir9yxS7z8=",
          "dtype": "f8"
         },
         "yaxis": "y2"
        }
       ],
       "layout": {
        "showlegend": true,
        "template": {
         "data": {
          "bar": [
           {
            "error_x": {
             "color": "#2a3f5f"
            },
            "error_y": {
             "color": "#2a3f5f"
            },
            "marker": {
             "line": {
              "color": "#E5ECF6",
              "width": 0.5
             },
             "pattern": {
              "fillmode": "overlay",
              "size": 10,
              "solidity": 0.2
             }
            },
            "type": "bar"
           }
          ],
          "barpolar": [
           {
            "marker": {
             "line": {
              "color": "#E5ECF6",
              "width": 0.5
             },
             "pattern": {
              "fillmode": "overlay",
              "size": 10,
              "solidity": 0.2
             }
            },
            "type": "barpolar"
           }
          ],
          "carpet": [
           {
            "aaxis": {
             "endlinecolor": "#2a3f5f",
             "gridcolor": "white",
             "linecolor": "white",
             "minorgridcolor": "white",
             "startlinecolor": "#2a3f5f"
            },
            "baxis": {
             "endlinecolor": "#2a3f5f",
             "gridcolor": "white",
             "linecolor": "white",
             "minorgridcolor": "white",
             "startlinecolor": "#2a3f5f"
            },
            "type": "carpet"
           }
          ],
          "choropleth": [
           {
            "colorbar": {
             "outlinewidth": 0,
             "ticks": ""
            },
            "type": "choropleth"
           }
          ],
          "contour": [
           {
            "colorbar": {
             "outlinewidth": 0,
             "ticks": ""
            },
            "colorscale": [
             [
              0,
              "#0d0887"
             ],
             [
              0.1111111111111111,
              "#46039f"
             ],
             [
              0.2222222222222222,
              "#7201a8"
             ],
             [
              0.3333333333333333,
              "#9c179e"
             ],
             [
              0.4444444444444444,
              "#bd3786"
             ],
             [
              0.5555555555555556,
              "#d8576b"
             ],
             [
              0.6666666666666666,
              "#ed7953"
             ],
             [
              0.7777777777777778,
              "#fb9f3a"
             ],
             [
              0.8888888888888888,
              "#fdca26"
             ],
             [
              1,
              "#f0f921"
             ]
            ],
            "type": "contour"
           }
          ],
          "contourcarpet": [
           {
            "colorbar": {
             "outlinewidth": 0,
             "ticks": ""
            },
            "type": "contourcarpet"
           }
          ],
          "heatmap": [
           {
            "colorbar": {
             "outlinewidth": 0,
             "ticks": ""
            },
            "colorscale": [
             [
              0,
              "#0d0887"
             ],
             [
              0.1111111111111111,
              "#46039f"
             ],
             [
              0.2222222222222222,
              "#7201a8"
             ],
             [
              0.3333333333333333,
              "#9c179e"
             ],
             [
              0.4444444444444444,
              "#bd3786"
             ],
             [
              0.5555555555555556,
              "#d8576b"
             ],
             [
              0.6666666666666666,
              "#ed7953"
             ],
             [
              0.7777777777777778,
              "#fb9f3a"
             ],
             [
              0.8888888888888888,
              "#fdca26"
             ],
             [
              1,
              "#f0f921"
             ]
            ],
            "type": "heatmap"
           }
          ],
          "histogram": [
           {
            "marker": {
             "pattern": {
              "fillmode": "overlay",
              "size": 10,
              "solidity": 0.2
             }
            },
            "type": "histogram"
           }
          ],
          "histogram2d": [
           {
            "colorbar": {
             "outlinewidth": 0,
             "ticks": ""
            },
            "colorscale": [
             [
              0,
              "#0d0887"
             ],
             [
              0.1111111111111111,
              "#46039f"
             ],
             [
              0.2222222222222222,
              "#7201a8"
             ],
             [
              0.3333333333333333,
              "#9c179e"
             ],
             [
              0.4444444444444444,
              "#bd3786"
             ],
             [
              0.5555555555555556,
              "#d8576b"
             ],
             [
              0.6666666666666666,
              "#ed7953"
             ],
             [
              0.7777777777777778,
              "#fb9f3a"
             ],
             [
              0.8888888888888888,
              "#fdca26"
             ],
             [
              1,
              "#f0f921"
             ]
            ],
            "type": "histogram2d"
           }
          ],
          "histogram2dcontour": [
           {
            "colorbar": {
             "outlinewidth": 0,
             "ticks": ""
            },
            "colorscale": [
             [
              0,
              "#0d0887"
             ],
             [
              0.1111111111111111,
              "#46039f"
             ],
             [
              0.2222222222222222,
              "#7201a8"
             ],
             [
              0.3333333333333333,
              "#9c179e"
             ],
             [
              0.4444444444444444,
              "#bd3786"
             ],
             [
              0.5555555555555556,
              "#d8576b"
             ],
             [
              0.6666666666666666,
              "#ed7953"
             ],
             [
              0.7777777777777778,
              "#fb9f3a"
             ],
             [
              0.8888888888888888,
              "#fdca26"
             ],
             [
              1,
              "#f0f921"
             ]
            ],
            "type": "histogram2dcontour"
           }
          ],
          "mesh3d": [
           {
            "colorbar": {
             "outlinewidth": 0,
             "ticks": ""
            },
            "type": "mesh3d"
           }
          ],
          "parcoords": [
           {
            "line": {
             "colorbar": {
              "outlinewidth": 0,
              "ticks": ""
             }
            },
            "type": "parcoords"
           }
          ],
          "pie": [
           {
            "automargin": true,
            "type": "pie"
           }
          ],
          "scatter": [
           {
            "fillpattern": {
             "fillmode": "overlay",
             "size": 10,
             "solidity": 0.2
            },
            "type": "scatter"
           }
          ],
          "scatter3d": [
           {
            "line": {
             "colorbar": {
              "outlinewidth": 0,
              "ticks": ""
             }
            },
            "marker": {
             "colorbar": {
              "outlinewidth": 0,
              "ticks": ""
             }
            },
            "type": "scatter3d"
           }
          ],
          "scattercarpet": [
           {
            "marker": {
             "colorbar": {
              "outlinewidth": 0,
              "ticks": ""
             }
            },
            "type": "scattercarpet"
           }
          ],
          "scattergeo": [
           {
            "marker": {
             "colorbar": {
              "outlinewidth": 0,
              "ticks": ""
             }
            },
            "type": "scattergeo"
           }
          ],
          "scattergl": [
           {
            "marker": {
             "colorbar": {
              "outlinewidth": 0,
              "ticks": ""
             }
            },
            "type": "scattergl"
           }
          ],
          "scattermap": [
           {
            "marker": {
             "colorbar": {
              "outlinewidth": 0,
              "ticks": ""
             }
            },
            "type": "scattermap"
           }
          ],
          "scattermapbox": [
           {
            "marker": {
             "colorbar": {
              "outlinewidth": 0,
              "ticks": ""
             }
            },
            "type": "scattermapbox"
           }
          ],
          "scatterpolar": [
           {
            "marker": {
             "colorbar": {
              "outlinewidth": 0,
              "ticks": ""
             }
            },
            "type": "scatterpolar"
           }
          ],
          "scatterpolargl": [
           {
            "marker": {
             "colorbar": {
              "outlinewidth": 0,
              "ticks": ""
             }
            },
            "type": "scatterpolargl"
           }
          ],
          "scatterternary": [
           {
            "marker": {
             "colorbar": {
              "outlinewidth": 0,
              "ticks": ""
             }
            },
            "type": "scatterternary"
           }
          ],
          "surface": [
           {
            "colorbar": {
             "outlinewidth": 0,
             "ticks": ""
            },
            "colorscale": [
             [
              0,
              "#0d0887"
             ],
             [
              0.1111111111111111,
              "#46039f"
             ],
             [
              0.2222222222222222,
              "#7201a8"
             ],
             [
              0.3333333333333333,
              "#9c179e"
             ],
             [
              0.4444444444444444,
              "#bd3786"
             ],
             [
              0.5555555555555556,
              "#d8576b"
             ],
             [
              0.6666666666666666,
              "#ed7953"
             ],
             [
              0.7777777777777778,
              "#fb9f3a"
             ],
             [
              0.8888888888888888,
              "#fdca26"
             ],
             [
              1,
              "#f0f921"
             ]
            ],
            "type": "surface"
           }
          ],
          "table": [
           {
            "cells": {
             "fill": {
              "color": "#EBF0F8"
             },
             "line": {
              "color": "white"
             }
            },
            "header": {
             "fill": {
              "color": "#C8D4E3"
             },
             "line": {
              "color": "white"
             }
            },
            "type": "table"
           }
          ]
         },
         "layout": {
          "annotationdefaults": {
           "arrowcolor": "#2a3f5f",
           "arrowhead": 0,
           "arrowwidth": 1
          },
          "autotypenumbers": "strict",
          "coloraxis": {
           "colorbar": {
            "outlinewidth": 0,
            "ticks": ""
           }
          },
          "colorscale": {
           "diverging": [
            [
             0,
             "#8e0152"
            ],
            [
             0.1,
             "#c51b7d"
            ],
            [
             0.2,
             "#de77ae"
            ],
            [
             0.3,
             "#f1b6da"
            ],
            [
             0.4,
             "#fde0ef"
            ],
            [
             0.5,
             "#f7f7f7"
            ],
            [
             0.6,
             "#e6f5d0"
            ],
            [
             0.7,
             "#b8e186"
            ],
            [
             0.8,
             "#7fbc41"
            ],
            [
             0.9,
             "#4d9221"
            ],
            [
             1,
             "#276419"
            ]
           ],
           "sequential": [
            [
             0,
             "#0d0887"
            ],
            [
             0.1111111111111111,
             "#46039f"
            ],
            [
             0.2222222222222222,
             "#7201a8"
            ],
            [
             0.3333333333333333,
             "#9c179e"
            ],
            [
             0.4444444444444444,
             "#bd3786"
            ],
            [
             0.5555555555555556,
             "#d8576b"
            ],
            [
             0.6666666666666666,
             "#ed7953"
            ],
            [
             0.7777777777777778,
             "#fb9f3a"
            ],
            [
             0.8888888888888888,
             "#fdca26"
            ],
            [
             1,
             "#f0f921"
            ]
           ],
           "sequentialminus": [
            [
             0,
             "#0d0887"
            ],
            [
             0.1111111111111111,
             "#46039f"
            ],
            [
             0.2222222222222222,
             "#7201a8"
            ],
            [
             0.3333333333333333,
             "#9c179e"
            ],
            [
             0.4444444444444444,
             "#bd3786"
            ],
            [
             0.5555555555555556,
             "#d8576b"
            ],
            [
             0.6666666666666666,
             "#ed7953"
            ],
            [
             0.7777777777777778,
             "#fb9f3a"
            ],
            [
             0.8888888888888888,
             "#fdca26"
            ],
            [
             1,
             "#f0f921"
            ]
           ]
          },
          "colorway": [
           "#636efa",
           "#EF553B",
           "#00cc96",
           "#ab63fa",
           "#FFA15A",
           "#19d3f3",
           "#FF6692",
           "#B6E880",
           "#FF97FF",
           "#FECB52"
          ],
          "font": {
           "color": "#2a3f5f"
          },
          "geo": {
           "bgcolor": "white",
           "lakecolor": "white",
           "landcolor": "#E5ECF6",
           "showlakes": true,
           "showland": true,
           "subunitcolor": "white"
          },
          "hoverlabel": {
           "align": "left"
          },
          "hovermode": "closest",
          "mapbox": {
           "style": "light"
          },
          "paper_bgcolor": "white",
          "plot_bgcolor": "#E5ECF6",
          "polar": {
           "angularaxis": {
            "gridcolor": "white",
            "linecolor": "white",
            "ticks": ""
           },
           "bgcolor": "#E5ECF6",
           "radialaxis": {
            "gridcolor": "white",
            "linecolor": "white",
            "ticks": ""
           }
          },
          "scene": {
           "xaxis": {
            "backgroundcolor": "#E5ECF6",
            "gridcolor": "white",
            "gridwidth": 2,
            "linecolor": "white",
            "showbackground": true,
            "ticks": "",
            "zerolinecolor": "white"
           },
           "yaxis": {
            "backgroundcolor": "#E5ECF6",
            "gridcolor": "white",
            "gridwidth": 2,
            "linecolor": "white",
            "showbackground": true,
            "ticks": "",
            "zerolinecolor": "white"
           },
           "zaxis": {
            "backgroundcolor": "#E5ECF6",
            "gridcolor": "white",
            "gridwidth": 2,
            "linecolor": "white",
            "showbackground": true,
            "ticks": "",
            "zerolinecolor": "white"
           }
          },
          "shapedefaults": {
           "line": {
            "color": "#2a3f5f"
           }
          },
          "ternary": {
           "aaxis": {
            "gridcolor": "white",
            "linecolor": "white",
            "ticks": ""
           },
           "baxis": {
            "gridcolor": "white",
            "linecolor": "white",
            "ticks": ""
           },
           "bgcolor": "#E5ECF6",
           "caxis": {
            "gridcolor": "white",
            "linecolor": "white",
            "ticks": ""
           }
          },
          "title": {
           "x": 0.05
          },
          "xaxis": {
           "automargin": true,
           "gridcolor": "white",
           "linecolor": "white",
           "ticks": "",
           "title": {
            "standoff": 15
           },
           "zerolinecolor": "white",
           "zerolinewidth": 2
          },
          "yaxis": {
           "automargin": true,
           "gridcolor": "white",
           "linecolor": "white",
           "ticks": "",
           "title": {
            "standoff": 15
           },
           "zerolinecolor": "white",
           "zerolinewidth": 2
          }
         }
        },
        "title": {
         "text": "TF-IDF Features (Top 98.0%)"
        },
        "xaxis": {
         "anchor": "y",
         "domain": [
          0,
          0.94
         ],
         "tickangle": 45,
         "title": {
          "text": "Features"
         }
        },
        "yaxis": {
         "anchor": "x",
         "domain": [
          0,
          1
         ],
         "title": {
          "text": "Importance %"
         }
        },
        "yaxis2": {
         "anchor": "x",
         "overlaying": "y",
         "side": "right",
         "title": {
          "text": "Cumulative %"
         }
        }
       }
      }
     },
     "metadata": {},
     "output_type": "display_data"
    }
   ],
   "source": [
    "# For a TF-IDF word cloud\n",
    "word_cloud = encoder.plot_word_cloud(use_tfidf=True, max_words=100, colormap='plasma')\n",
    "word_cloud.show()\n",
    "\n",
    "# Create and display TF-IDF plot\n",
    "tfidf_fig = encoder.plot_tfidf_features(threshold=0.98)\n",
    "print(\"\\nTF-IDF Feature Distribution:\")\n",
    "tfidf_fig.show()"
   ]
  },
  {
   "cell_type": "code",
   "execution_count": 8,
   "id": "c8e31827",
   "metadata": {},
   "outputs": [
    {
     "name": "stdout",
     "output_type": "stream",
     "text": [
      "\n",
      "Feature Comparison:\n"
     ]
    },
    {
     "data": {
      "application/vnd.plotly.v1+json": {
       "config": {
        "plotlyServerURL": "https://plot.ly"
       },
       "data": [
        {
         "name": "BoW",
         "offset": -0.2,
         "type": "bar",
         "width": 0.4,
         "x": [
          "watch",
          "set",
          "analog",
          "cm",
          "showpiece",
          "combo",
          "baby",
          "men",
          "ceramic",
          "mug",
          "girl",
          "boy",
          "usb",
          "woman",
          "cotton",
          "single",
          "double",
          "abstract",
          "laptop",
          "blue"
         ],
         "y": {
          "bdata": "u/wRHWBvqz8DbajhJiqoP3GS2s0TE6c/J6dowF38oz8DcZLazROjP9679rKn5aA/TGDu4CoUoT/fMugC8FecP98y6ALwV5w/KaEJS+Odmz/fNF1/w8yZP01aj2uwtZg/cRMVjH3NlT9MXnlkV5+TPyenaMBd/JM/lc4PKR5akD+WxMa6/BGNP98y6ALwV4w/lsTGuvwRjT+WyLCzo/uHPw==",
          "dtype": "f8"
         }
        },
        {
         "name": "TF-IDF",
         "offset": 0.2,
         "type": "bar",
         "width": 0.4,
         "x": [
          "watch",
          "set",
          "analog",
          "cm",
          "showpiece",
          "combo",
          "baby",
          "men",
          "ceramic",
          "mug",
          "girl",
          "boy",
          "usb",
          "woman",
          "cotton",
          "single",
          "double",
          "abstract",
          "laptop",
          "blue"
         ],
         "y": {
          "bdata": "rRj2bim1pT/qDUp4XTGmP84K6bapiaM/7sLQKjxIpT9GSojJ17akP63i8kkp4aE/qQtYvSylnz/PLS3Z92ybP/x7Z3fztpk/YQOpDc6UmD8xiAKDUQSYP9jpswWa2Zc/+9h2Hs0ikz8sAB3ReFiUP443HUTHxZM/GIJ1Mu/NjD+u6rYJyTeJP/8f6P3i7oc/W41xYQ2BhT9Cihw+lXSIPw==",
          "dtype": "f8"
         }
        }
       ],
       "layout": {
        "bargap": 0,
        "barmode": "overlay",
        "height": 600,
        "showlegend": true,
        "template": {
         "data": {
          "bar": [
           {
            "error_x": {
             "color": "#2a3f5f"
            },
            "error_y": {
             "color": "#2a3f5f"
            },
            "marker": {
             "line": {
              "color": "#E5ECF6",
              "width": 0.5
             },
             "pattern": {
              "fillmode": "overlay",
              "size": 10,
              "solidity": 0.2
             }
            },
            "type": "bar"
           }
          ],
          "barpolar": [
           {
            "marker": {
             "line": {
              "color": "#E5ECF6",
              "width": 0.5
             },
             "pattern": {
              "fillmode": "overlay",
              "size": 10,
              "solidity": 0.2
             }
            },
            "type": "barpolar"
           }
          ],
          "carpet": [
           {
            "aaxis": {
             "endlinecolor": "#2a3f5f",
             "gridcolor": "white",
             "linecolor": "white",
             "minorgridcolor": "white",
             "startlinecolor": "#2a3f5f"
            },
            "baxis": {
             "endlinecolor": "#2a3f5f",
             "gridcolor": "white",
             "linecolor": "white",
             "minorgridcolor": "white",
             "startlinecolor": "#2a3f5f"
            },
            "type": "carpet"
           }
          ],
          "choropleth": [
           {
            "colorbar": {
             "outlinewidth": 0,
             "ticks": ""
            },
            "type": "choropleth"
           }
          ],
          "contour": [
           {
            "colorbar": {
             "outlinewidth": 0,
             "ticks": ""
            },
            "colorscale": [
             [
              0,
              "#0d0887"
             ],
             [
              0.1111111111111111,
              "#46039f"
             ],
             [
              0.2222222222222222,
              "#7201a8"
             ],
             [
              0.3333333333333333,
              "#9c179e"
             ],
             [
              0.4444444444444444,
              "#bd3786"
             ],
             [
              0.5555555555555556,
              "#d8576b"
             ],
             [
              0.6666666666666666,
              "#ed7953"
             ],
             [
              0.7777777777777778,
              "#fb9f3a"
             ],
             [
              0.8888888888888888,
              "#fdca26"
             ],
             [
              1,
              "#f0f921"
             ]
            ],
            "type": "contour"
           }
          ],
          "contourcarpet": [
           {
            "colorbar": {
             "outlinewidth": 0,
             "ticks": ""
            },
            "type": "contourcarpet"
           }
          ],
          "heatmap": [
           {
            "colorbar": {
             "outlinewidth": 0,
             "ticks": ""
            },
            "colorscale": [
             [
              0,
              "#0d0887"
             ],
             [
              0.1111111111111111,
              "#46039f"
             ],
             [
              0.2222222222222222,
              "#7201a8"
             ],
             [
              0.3333333333333333,
              "#9c179e"
             ],
             [
              0.4444444444444444,
              "#bd3786"
             ],
             [
              0.5555555555555556,
              "#d8576b"
             ],
             [
              0.6666666666666666,
              "#ed7953"
             ],
             [
              0.7777777777777778,
              "#fb9f3a"
             ],
             [
              0.8888888888888888,
              "#fdca26"
             ],
             [
              1,
              "#f0f921"
             ]
            ],
            "type": "heatmap"
           }
          ],
          "histogram": [
           {
            "marker": {
             "pattern": {
              "fillmode": "overlay",
              "size": 10,
              "solidity": 0.2
             }
            },
            "type": "histogram"
           }
          ],
          "histogram2d": [
           {
            "colorbar": {
             "outlinewidth": 0,
             "ticks": ""
            },
            "colorscale": [
             [
              0,
              "#0d0887"
             ],
             [
              0.1111111111111111,
              "#46039f"
             ],
             [
              0.2222222222222222,
              "#7201a8"
             ],
             [
              0.3333333333333333,
              "#9c179e"
             ],
             [
              0.4444444444444444,
              "#bd3786"
             ],
             [
              0.5555555555555556,
              "#d8576b"
             ],
             [
              0.6666666666666666,
              "#ed7953"
             ],
             [
              0.7777777777777778,
              "#fb9f3a"
             ],
             [
              0.8888888888888888,
              "#fdca26"
             ],
             [
              1,
              "#f0f921"
             ]
            ],
            "type": "histogram2d"
           }
          ],
          "histogram2dcontour": [
           {
            "colorbar": {
             "outlinewidth": 0,
             "ticks": ""
            },
            "colorscale": [
             [
              0,
              "#0d0887"
             ],
             [
              0.1111111111111111,
              "#46039f"
             ],
             [
              0.2222222222222222,
              "#7201a8"
             ],
             [
              0.3333333333333333,
              "#9c179e"
             ],
             [
              0.4444444444444444,
              "#bd3786"
             ],
             [
              0.5555555555555556,
              "#d8576b"
             ],
             [
              0.6666666666666666,
              "#ed7953"
             ],
             [
              0.7777777777777778,
              "#fb9f3a"
             ],
             [
              0.8888888888888888,
              "#fdca26"
             ],
             [
              1,
              "#f0f921"
             ]
            ],
            "type": "histogram2dcontour"
           }
          ],
          "mesh3d": [
           {
            "colorbar": {
             "outlinewidth": 0,
             "ticks": ""
            },
            "type": "mesh3d"
           }
          ],
          "parcoords": [
           {
            "line": {
             "colorbar": {
              "outlinewidth": 0,
              "ticks": ""
             }
            },
            "type": "parcoords"
           }
          ],
          "pie": [
           {
            "automargin": true,
            "type": "pie"
           }
          ],
          "scatter": [
           {
            "fillpattern": {
             "fillmode": "overlay",
             "size": 10,
             "solidity": 0.2
            },
            "type": "scatter"
           }
          ],
          "scatter3d": [
           {
            "line": {
             "colorbar": {
              "outlinewidth": 0,
              "ticks": ""
             }
            },
            "marker": {
             "colorbar": {
              "outlinewidth": 0,
              "ticks": ""
             }
            },
            "type": "scatter3d"
           }
          ],
          "scattercarpet": [
           {
            "marker": {
             "colorbar": {
              "outlinewidth": 0,
              "ticks": ""
             }
            },
            "type": "scattercarpet"
           }
          ],
          "scattergeo": [
           {
            "marker": {
             "colorbar": {
              "outlinewidth": 0,
              "ticks": ""
             }
            },
            "type": "scattergeo"
           }
          ],
          "scattergl": [
           {
            "marker": {
             "colorbar": {
              "outlinewidth": 0,
              "ticks": ""
             }
            },
            "type": "scattergl"
           }
          ],
          "scattermap": [
           {
            "marker": {
             "colorbar": {
              "outlinewidth": 0,
              "ticks": ""
             }
            },
            "type": "scattermap"
           }
          ],
          "scattermapbox": [
           {
            "marker": {
             "colorbar": {
              "outlinewidth": 0,
              "ticks": ""
             }
            },
            "type": "scattermapbox"
           }
          ],
          "scatterpolar": [
           {
            "marker": {
             "colorbar": {
              "outlinewidth": 0,
              "ticks": ""
             }
            },
            "type": "scatterpolar"
           }
          ],
          "scatterpolargl": [
           {
            "marker": {
             "colorbar": {
              "outlinewidth": 0,
              "ticks": ""
             }
            },
            "type": "scatterpolargl"
           }
          ],
          "scatterternary": [
           {
            "marker": {
             "colorbar": {
              "outlinewidth": 0,
              "ticks": ""
             }
            },
            "type": "scatterternary"
           }
          ],
          "surface": [
           {
            "colorbar": {
             "outlinewidth": 0,
             "ticks": ""
            },
            "colorscale": [
             [
              0,
              "#0d0887"
             ],
             [
              0.1111111111111111,
              "#46039f"
             ],
             [
              0.2222222222222222,
              "#7201a8"
             ],
             [
              0.3333333333333333,
              "#9c179e"
             ],
             [
              0.4444444444444444,
              "#bd3786"
             ],
             [
              0.5555555555555556,
              "#d8576b"
             ],
             [
              0.6666666666666666,
              "#ed7953"
             ],
             [
              0.7777777777777778,
              "#fb9f3a"
             ],
             [
              0.8888888888888888,
              "#fdca26"
             ],
             [
              1,
              "#f0f921"
             ]
            ],
            "type": "surface"
           }
          ],
          "table": [
           {
            "cells": {
             "fill": {
              "color": "#EBF0F8"
             },
             "line": {
              "color": "white"
             }
            },
            "header": {
             "fill": {
              "color": "#C8D4E3"
             },
             "line": {
              "color": "white"
             }
            },
            "type": "table"
           }
          ]
         },
         "layout": {
          "annotationdefaults": {
           "arrowcolor": "#2a3f5f",
           "arrowhead": 0,
           "arrowwidth": 1
          },
          "autotypenumbers": "strict",
          "coloraxis": {
           "colorbar": {
            "outlinewidth": 0,
            "ticks": ""
           }
          },
          "colorscale": {
           "diverging": [
            [
             0,
             "#8e0152"
            ],
            [
             0.1,
             "#c51b7d"
            ],
            [
             0.2,
             "#de77ae"
            ],
            [
             0.3,
             "#f1b6da"
            ],
            [
             0.4,
             "#fde0ef"
            ],
            [
             0.5,
             "#f7f7f7"
            ],
            [
             0.6,
             "#e6f5d0"
            ],
            [
             0.7,
             "#b8e186"
            ],
            [
             0.8,
             "#7fbc41"
            ],
            [
             0.9,
             "#4d9221"
            ],
            [
             1,
             "#276419"
            ]
           ],
           "sequential": [
            [
             0,
             "#0d0887"
            ],
            [
             0.1111111111111111,
             "#46039f"
            ],
            [
             0.2222222222222222,
             "#7201a8"
            ],
            [
             0.3333333333333333,
             "#9c179e"
            ],
            [
             0.4444444444444444,
             "#bd3786"
            ],
            [
             0.5555555555555556,
             "#d8576b"
            ],
            [
             0.6666666666666666,
             "#ed7953"
            ],
            [
             0.7777777777777778,
             "#fb9f3a"
            ],
            [
             0.8888888888888888,
             "#fdca26"
            ],
            [
             1,
             "#f0f921"
            ]
           ],
           "sequentialminus": [
            [
             0,
             "#0d0887"
            ],
            [
             0.1111111111111111,
             "#46039f"
            ],
            [
             0.2222222222222222,
             "#7201a8"
            ],
            [
             0.3333333333333333,
             "#9c179e"
            ],
            [
             0.4444444444444444,
             "#bd3786"
            ],
            [
             0.5555555555555556,
             "#d8576b"
            ],
            [
             0.6666666666666666,
             "#ed7953"
            ],
            [
             0.7777777777777778,
             "#fb9f3a"
            ],
            [
             0.8888888888888888,
             "#fdca26"
            ],
            [
             1,
             "#f0f921"
            ]
           ]
          },
          "colorway": [
           "#636efa",
           "#EF553B",
           "#00cc96",
           "#ab63fa",
           "#FFA15A",
           "#19d3f3",
           "#FF6692",
           "#B6E880",
           "#FF97FF",
           "#FECB52"
          ],
          "font": {
           "color": "#2a3f5f"
          },
          "geo": {
           "bgcolor": "white",
           "lakecolor": "white",
           "landcolor": "#E5ECF6",
           "showlakes": true,
           "showland": true,
           "subunitcolor": "white"
          },
          "hoverlabel": {
           "align": "left"
          },
          "hovermode": "closest",
          "mapbox": {
           "style": "light"
          },
          "paper_bgcolor": "white",
          "plot_bgcolor": "#E5ECF6",
          "polar": {
           "angularaxis": {
            "gridcolor": "white",
            "linecolor": "white",
            "ticks": ""
           },
           "bgcolor": "#E5ECF6",
           "radialaxis": {
            "gridcolor": "white",
            "linecolor": "white",
            "ticks": ""
           }
          },
          "scene": {
           "xaxis": {
            "backgroundcolor": "#E5ECF6",
            "gridcolor": "white",
            "gridwidth": 2,
            "linecolor": "white",
            "showbackground": true,
            "ticks": "",
            "zerolinecolor": "white"
           },
           "yaxis": {
            "backgroundcolor": "#E5ECF6",
            "gridcolor": "white",
            "gridwidth": 2,
            "linecolor": "white",
            "showbackground": true,
            "ticks": "",
            "zerolinecolor": "white"
           },
           "zaxis": {
            "backgroundcolor": "#E5ECF6",
            "gridcolor": "white",
            "gridwidth": 2,
            "linecolor": "white",
            "showbackground": true,
            "ticks": "",
            "zerolinecolor": "white"
           }
          },
          "shapedefaults": {
           "line": {
            "color": "#2a3f5f"
           }
          },
          "ternary": {
           "aaxis": {
            "gridcolor": "white",
            "linecolor": "white",
            "ticks": ""
           },
           "baxis": {
            "gridcolor": "white",
            "linecolor": "white",
            "ticks": ""
           },
           "bgcolor": "#E5ECF6",
           "caxis": {
            "gridcolor": "white",
            "linecolor": "white",
            "ticks": ""
           }
          },
          "title": {
           "x": 0.05
          },
          "xaxis": {
           "automargin": true,
           "gridcolor": "white",
           "linecolor": "white",
           "ticks": "",
           "title": {
            "standoff": 15
           },
           "zerolinecolor": "white",
           "zerolinewidth": 2
          },
          "yaxis": {
           "automargin": true,
           "gridcolor": "white",
           "linecolor": "white",
           "ticks": "",
           "title": {
            "standoff": 15
           },
           "zerolinecolor": "white",
           "zerolinewidth": 2
          }
         }
        },
        "title": {
         "text": "BoW vs TF-IDF Top Features by Combined Importance"
        },
        "xaxis": {
         "tickangle": 45,
         "title": {
          "text": "Features"
         }
        },
        "yaxis": {
         "title": {
          "text": "Normalized Importance"
         }
        },
        "yaxis2": {
         "overlaying": "y",
         "showgrid": false,
         "side": "right",
         "title": {
          "text": "TF-IDF - BoW Difference"
         }
        }
       }
      }
     },
     "metadata": {},
     "output_type": "display_data"
    },
    {
     "name": "stdout",
     "output_type": "stream",
     "text": [
      "\n",
      "TF-IDF vs BoW Scatter Comparison:\n"
     ]
    },
    {
     "data": {
      "application/vnd.plotly.v1+json": {
       "config": {
        "plotlyServerURL": "https://plot.ly"
       },
       "data": [
        {
         "hovertemplate": "<b>%{text}</b><br>BoW: %{x:.5f}<br>TF-IDF: %{y:.5f}<br>Diff: %{marker.color:.5f}<extra></extra>",
         "marker": {
          "color": {
           "bdata": "gEsAFDSkYb/gS37ORNtBPxg9jLdQS3y/3LYHid+tWj94pyUkSBlkv1CAIIxDzVI/gH80EdiLVb/4mDGdhZVAP/hsbOMHZlY/AFur6Q6cEb8Aa/CaYjwuP+z6hopYxlw/oA5uu8yCS78A13iOQvPxPuBDMHiXLks/ePOQWt6tW78YtwVc5Adlv8BV8nn48zM/cLyBpua9ZD/wh/ufbDFMP+DZhN8ycF8/IBv1jEwzT7+AzLclPksrv8ju2ujvs18/mAm9ur/JSj88kd4cGHdiP8Tq0lxA6Fy/TOL6LkL5UT8AC5uJAMBCv/hqcOzMoFM/uBygQdJMUr9Az36IndFevyhyToB4WFc/5AzUUj46W78AMJplnylIv8B6kDVFdEw/4MqqxR+HXL8wsfkNy61AP5igYk4ntkw/gO1T9pJHLD/gCRcc3P4qv+j90dqPA1Q/WIconu5JUT/WtTjfVwl6P0ScLmLbkF8/sNoFWtZTMr/s3FRlvUNuv2Cn0aqBpT4/eECr3JD9X7/wScQxRUtLPwCiYDcFX02/+Ez9g4+7ST94Gjl6B6RTP2jAHqk6CVC/QO4E66lIaL9gbeQSFCVHvzAaX1DQIko/kgvd+C7LYT9Ar+4gLUxGv2wKWziigky/iE1k0EtZVj9A24nu12QxPzCiZku6iEc/WCbIjWHvVr9gr6hCJzg2P2A67ty9kz0/UA42GNZIRT+owfWgzs9YP4BDNwJAxzI/9HoEQSawUb+w/QGX8sFEP4AiP1MpKFY/Uv1M9rqFZz/wTk5qmM4wv8AYOnQ9RCg/kPHllZaMb7/4t38Co3tHvzCUXe+eMGo/kNhQ/WgyX7/WCgEET71Uv9A7KzWxHFs/IMxy6y3gVT+EmMyOIjZVPyCbBtTcCkg/uAWSlclyWD+w0/Fsg1VlvxB9s2kA4Fc/OJBvuNrohr8g2FoUtwAtPwRPFCCdl1w/ADx0lC0kRz8=",
           "dtype": "f8"
          },
          "colorbar": {
           "title": {
            "text": "TF-IDF - BoW"
           }
          },
          "colorscale": [
           [
            0,
            "rgb(103,0,31)"
           ],
           [
            0.1,
            "rgb(178,24,43)"
           ],
           [
            0.2,
            "rgb(214,96,77)"
           ],
           [
            0.3,
            "rgb(244,165,130)"
           ],
           [
            0.4,
            "rgb(253,219,199)"
           ],
           [
            0.5,
            "rgb(247,247,247)"
           ],
           [
            0.6,
            "rgb(209,229,240)"
           ],
           [
            0.7,
            "rgb(146,197,222)"
           ],
           [
            0.8,
            "rgb(67,147,195)"
           ],
           [
            0.9,
            "rgb(33,102,172)"
           ],
           [
            1,
            "rgb(5,48,97)"
           ]
          ],
          "showscale": true,
          "size": 8
         },
         "mode": "markers",
         "text": [
          "abstract",
          "adapter",
          "analog",
          "art",
          "baby",
          "bath",
          "battery",
          "bedsheet",
          "black",
          "blanket",
          "blue",
          "box",
          "boy",
          "brown",
          "casual",
          "cell",
          "ceramic",
          "charger",
          "cm",
          "color",
          "combo",
          "comforter",
          "cotton",
          "cover",
          "craft",
          "cream",
          "curtain",
          "cushion",
          "design",
          "digital",
          "door",
          "double",
          "dress",
          "eyelet",
          "floral",
          "gift",
          "girl",
          "gold",
          "green",
          "home",
          "hp",
          "inch",
          "india",
          "kadhai",
          "kit",
          "lapguard",
          "laptop",
          "led",
          "light",
          "maximum",
          "men",
          "mini",
          "ml",
          "mouse",
          "mug",
          "multicolor",
          "orange",
          "pack",
          "pad",
          "pavilion",
          "pc",
          "pink",
          "plain",
          "polyester",
          "portable",
          "print",
          "printed",
          "printland",
          "prithish",
          "quilt",
          "red",
          "rockmantra",
          "router",
          "self",
          "series",
          "set",
          "shape",
          "showpiece",
          "single",
          "skin",
          "sonata",
          "sticker",
          "table",
          "time",
          "towel",
          "usb",
          "wall",
          "watch",
          "white",
          "wireless",
          "woman"
         ],
         "type": "scatter",
         "x": {
          "bdata": "3zLoAvBXjD+VzJqsSuVyP3GS2s0TE6c/J6ndPDFxcT9MYO7gKhShP7t9TNvJKXo/cgtBmi/6fz9yC0GaL/pvP946vPQ9K4I/lcyarErlgj+WyLCzo/uHP3ILQZov+m8/TVqPa7C1mD+VzJqsSuVyP3ILQZov+m8/3jq89D0rgj/fMugC8FecPyep3TwxcXE/J6dowF38oz/fNtL7lkF3P9679rKn5aA/BOiDKhaGfj8np2jAXfyTPyep3TwxcYE/J6ndPDFxcT8D8FccZFl0P5bExrr8EX0/KaEJS+Odez8D8FccZFmEP7t9TNvJKXo/3zbS+5ZBdz+WxMa6/BGNP3ILQZov+n8/KaEJS+Odez9MXnlkV5+DP3AX/4Qkt4A/3zRdf8PMmT8E6IMqFoZ+PwPwVxxkWXQ/3zbS+5ZBdz+7fUzbySl6PwPwVxxkWXQ/J6ndPDFxcT9yC0GaL/p/P3ETFYx9zXU/cgtBmi/6bz+WxMa6/BGNPyil80OKh4Y/lsiws6P7hz9wF/+EJLeAP98y6ALwV5w/cRMVjH3NdT8D8FccZFl0P3ILQZov+m8/KaEJS+Odmz+6gTbUcBOFP3ILQZov+m8/J6ndPDFxcT+VzJqsSuVyP5XMmqxK5XI/cRMVjH3NdT8D8FccZFl0P5XMmqxK5XI/BOiDKhaGfj8nqd08MXFxPyep3TwxcYE/uoE21HAThT+VzJqsSuVyP5XMmqxK5YI/cgtBmi/6fz+WxMa6/BF9P3ILQZov+n8/3zbS+5ZBdz9yC0GaL/pvP3ILQZov+m8/A22o4SYqqD8D8FccZFl0PwNxktrNE6M/lc4PKR5akD+VzJqsSuVyP3AX/4Qkt4A/lcyarErlgj+VzJqsSuVyPwPwVxxkWXQ/KKXzQ4qHhj9xExWMfc2VP3ETFYx9zXU/u/wRHWBvqz8nqd08MXFxPyep3TwxcXE/TF55ZFefkz8=",
          "dtype": "f8"
         },
         "y": {
          "bdata": "/x/o/eLuhz8RlmpGsyB1P84K6bapiaM/3pYfH6kceD+pC1i9LKWfP8+dVL4a3X4/kuvzlTmXej/YuMaAyA9yP33IKfH+94Q/33XHjhLCgj9Cihw+lXSIP3REwu+tLnc/2OmzBZrZlz9sRSnvPfdyPzWOJrzqYnM/3jjUUgRrfT/8e2d387aZP4POfMRwsHI/7sLQKjxIpT/dp9GPxMd6P63i8kkp4aE/oETlmKyfej+ONx1Ex8WTPwAH+TmvZ4U/Wko1NGnKdD+hOMcq8JR9P+UJkqPs13U/3ixk6xkOgD9TP74TZC2DP3mYaBb9EX8/sS9qa2Kucj+u6rYJyTeJP/5TKt0m6II/8J1UtlPPdD9Mux9uvRyCPxwfWNhofoI/MYgCg1EEmD8VjyHG502APxZEJAYp8Hc/S9aEk9MjeD9sxWv60lF5P31vDBNIWnk//cpn5KzDdT+k4Ly8wwGNP4K6oGS0sX0/HFAAz7SvbT9bjXFhDYGFP2MySlG2fIc/h2AbmPH7gz8PXBvY2GuCP88tLdn3bJs/EL2UfO8EeT+hNub6ZUJ5Pz6rsUWS9Wc/YQOpDc6UmD/kOgiTH6GDP/9oLNdxQXM/8C5MuchWej+t9nwIxRtwP4/WHsvsqW4/0yYugNBjez+3jUCbsW91P9ugB/Zh1nU/bt4Rxz3KeD8dNAixs9RyP/oaxSvPXYI/n+K5Nf5nhj//PNhUPhl5P7GGrKyEe4M/tez/CSaOez9MBKcNO6p/PwlqiPccwoI/xFp8OzqCgT+UQfeMXOBtP39Wwrg5v3A/6g1KeF0xpj8E+Qe872lxP0ZKiMnXtqQ/GIJ1Mu/NjD+/EzXX7WtrP+p+pKu6GoQ/GSYJalChhT+28k1Q0zJ4P2fD2La/Wnc/3+WlduOViT/72HYezSKTP7XygaZ9xXs/rRj2bim1pT/of4D1NllyP+i84oQYl3g/LAAd0XhYlD8=",
          "dtype": "f8"
         }
        },
        {
         "line": {
          "color": "gray",
          "dash": "dash"
         },
         "mode": "lines",
         "name": "Equal Weight",
         "type": "scatter",
         "x": [
          0,
          0.053584102200141946
         ],
         "y": [
          0,
          0.053584102200141946
         ]
        }
       ],
       "layout": {
        "height": 600,
        "showlegend": true,
        "template": {
         "data": {
          "bar": [
           {
            "error_x": {
             "color": "#2a3f5f"
            },
            "error_y": {
             "color": "#2a3f5f"
            },
            "marker": {
             "line": {
              "color": "#E5ECF6",
              "width": 0.5
             },
             "pattern": {
              "fillmode": "overlay",
              "size": 10,
              "solidity": 0.2
             }
            },
            "type": "bar"
           }
          ],
          "barpolar": [
           {
            "marker": {
             "line": {
              "color": "#E5ECF6",
              "width": 0.5
             },
             "pattern": {
              "fillmode": "overlay",
              "size": 10,
              "solidity": 0.2
             }
            },
            "type": "barpolar"
           }
          ],
          "carpet": [
           {
            "aaxis": {
             "endlinecolor": "#2a3f5f",
             "gridcolor": "white",
             "linecolor": "white",
             "minorgridcolor": "white",
             "startlinecolor": "#2a3f5f"
            },
            "baxis": {
             "endlinecolor": "#2a3f5f",
             "gridcolor": "white",
             "linecolor": "white",
             "minorgridcolor": "white",
             "startlinecolor": "#2a3f5f"
            },
            "type": "carpet"
           }
          ],
          "choropleth": [
           {
            "colorbar": {
             "outlinewidth": 0,
             "ticks": ""
            },
            "type": "choropleth"
           }
          ],
          "contour": [
           {
            "colorbar": {
             "outlinewidth": 0,
             "ticks": ""
            },
            "colorscale": [
             [
              0,
              "#0d0887"
             ],
             [
              0.1111111111111111,
              "#46039f"
             ],
             [
              0.2222222222222222,
              "#7201a8"
             ],
             [
              0.3333333333333333,
              "#9c179e"
             ],
             [
              0.4444444444444444,
              "#bd3786"
             ],
             [
              0.5555555555555556,
              "#d8576b"
             ],
             [
              0.6666666666666666,
              "#ed7953"
             ],
             [
              0.7777777777777778,
              "#fb9f3a"
             ],
             [
              0.8888888888888888,
              "#fdca26"
             ],
             [
              1,
              "#f0f921"
             ]
            ],
            "type": "contour"
           }
          ],
          "contourcarpet": [
           {
            "colorbar": {
             "outlinewidth": 0,
             "ticks": ""
            },
            "type": "contourcarpet"
           }
          ],
          "heatmap": [
           {
            "colorbar": {
             "outlinewidth": 0,
             "ticks": ""
            },
            "colorscale": [
             [
              0,
              "#0d0887"
             ],
             [
              0.1111111111111111,
              "#46039f"
             ],
             [
              0.2222222222222222,
              "#7201a8"
             ],
             [
              0.3333333333333333,
              "#9c179e"
             ],
             [
              0.4444444444444444,
              "#bd3786"
             ],
             [
              0.5555555555555556,
              "#d8576b"
             ],
             [
              0.6666666666666666,
              "#ed7953"
             ],
             [
              0.7777777777777778,
              "#fb9f3a"
             ],
             [
              0.8888888888888888,
              "#fdca26"
             ],
             [
              1,
              "#f0f921"
             ]
            ],
            "type": "heatmap"
           }
          ],
          "histogram": [
           {
            "marker": {
             "pattern": {
              "fillmode": "overlay",
              "size": 10,
              "solidity": 0.2
             }
            },
            "type": "histogram"
           }
          ],
          "histogram2d": [
           {
            "colorbar": {
             "outlinewidth": 0,
             "ticks": ""
            },
            "colorscale": [
             [
              0,
              "#0d0887"
             ],
             [
              0.1111111111111111,
              "#46039f"
             ],
             [
              0.2222222222222222,
              "#7201a8"
             ],
             [
              0.3333333333333333,
              "#9c179e"
             ],
             [
              0.4444444444444444,
              "#bd3786"
             ],
             [
              0.5555555555555556,
              "#d8576b"
             ],
             [
              0.6666666666666666,
              "#ed7953"
             ],
             [
              0.7777777777777778,
              "#fb9f3a"
             ],
             [
              0.8888888888888888,
              "#fdca26"
             ],
             [
              1,
              "#f0f921"
             ]
            ],
            "type": "histogram2d"
           }
          ],
          "histogram2dcontour": [
           {
            "colorbar": {
             "outlinewidth": 0,
             "ticks": ""
            },
            "colorscale": [
             [
              0,
              "#0d0887"
             ],
             [
              0.1111111111111111,
              "#46039f"
             ],
             [
              0.2222222222222222,
              "#7201a8"
             ],
             [
              0.3333333333333333,
              "#9c179e"
             ],
             [
              0.4444444444444444,
              "#bd3786"
             ],
             [
              0.5555555555555556,
              "#d8576b"
             ],
             [
              0.6666666666666666,
              "#ed7953"
             ],
             [
              0.7777777777777778,
              "#fb9f3a"
             ],
             [
              0.8888888888888888,
              "#fdca26"
             ],
             [
              1,
              "#f0f921"
             ]
            ],
            "type": "histogram2dcontour"
           }
          ],
          "mesh3d": [
           {
            "colorbar": {
             "outlinewidth": 0,
             "ticks": ""
            },
            "type": "mesh3d"
           }
          ],
          "parcoords": [
           {
            "line": {
             "colorbar": {
              "outlinewidth": 0,
              "ticks": ""
             }
            },
            "type": "parcoords"
           }
          ],
          "pie": [
           {
            "automargin": true,
            "type": "pie"
           }
          ],
          "scatter": [
           {
            "fillpattern": {
             "fillmode": "overlay",
             "size": 10,
             "solidity": 0.2
            },
            "type": "scatter"
           }
          ],
          "scatter3d": [
           {
            "line": {
             "colorbar": {
              "outlinewidth": 0,
              "ticks": ""
             }
            },
            "marker": {
             "colorbar": {
              "outlinewidth": 0,
              "ticks": ""
             }
            },
            "type": "scatter3d"
           }
          ],
          "scattercarpet": [
           {
            "marker": {
             "colorbar": {
              "outlinewidth": 0,
              "ticks": ""
             }
            },
            "type": "scattercarpet"
           }
          ],
          "scattergeo": [
           {
            "marker": {
             "colorbar": {
              "outlinewidth": 0,
              "ticks": ""
             }
            },
            "type": "scattergeo"
           }
          ],
          "scattergl": [
           {
            "marker": {
             "colorbar": {
              "outlinewidth": 0,
              "ticks": ""
             }
            },
            "type": "scattergl"
           }
          ],
          "scattermap": [
           {
            "marker": {
             "colorbar": {
              "outlinewidth": 0,
              "ticks": ""
             }
            },
            "type": "scattermap"
           }
          ],
          "scattermapbox": [
           {
            "marker": {
             "colorbar": {
              "outlinewidth": 0,
              "ticks": ""
             }
            },
            "type": "scattermapbox"
           }
          ],
          "scatterpolar": [
           {
            "marker": {
             "colorbar": {
              "outlinewidth": 0,
              "ticks": ""
             }
            },
            "type": "scatterpolar"
           }
          ],
          "scatterpolargl": [
           {
            "marker": {
             "colorbar": {
              "outlinewidth": 0,
              "ticks": ""
             }
            },
            "type": "scatterpolargl"
           }
          ],
          "scatterternary": [
           {
            "marker": {
             "colorbar": {
              "outlinewidth": 0,
              "ticks": ""
             }
            },
            "type": "scatterternary"
           }
          ],
          "surface": [
           {
            "colorbar": {
             "outlinewidth": 0,
             "ticks": ""
            },
            "colorscale": [
             [
              0,
              "#0d0887"
             ],
             [
              0.1111111111111111,
              "#46039f"
             ],
             [
              0.2222222222222222,
              "#7201a8"
             ],
             [
              0.3333333333333333,
              "#9c179e"
             ],
             [
              0.4444444444444444,
              "#bd3786"
             ],
             [
              0.5555555555555556,
              "#d8576b"
             ],
             [
              0.6666666666666666,
              "#ed7953"
             ],
             [
              0.7777777777777778,
              "#fb9f3a"
             ],
             [
              0.8888888888888888,
              "#fdca26"
             ],
             [
              1,
              "#f0f921"
             ]
            ],
            "type": "surface"
           }
          ],
          "table": [
           {
            "cells": {
             "fill": {
              "color": "#EBF0F8"
             },
             "line": {
              "color": "white"
             }
            },
            "header": {
             "fill": {
              "color": "#C8D4E3"
             },
             "line": {
              "color": "white"
             }
            },
            "type": "table"
           }
          ]
         },
         "layout": {
          "annotationdefaults": {
           "arrowcolor": "#2a3f5f",
           "arrowhead": 0,
           "arrowwidth": 1
          },
          "autotypenumbers": "strict",
          "coloraxis": {
           "colorbar": {
            "outlinewidth": 0,
            "ticks": ""
           }
          },
          "colorscale": {
           "diverging": [
            [
             0,
             "#8e0152"
            ],
            [
             0.1,
             "#c51b7d"
            ],
            [
             0.2,
             "#de77ae"
            ],
            [
             0.3,
             "#f1b6da"
            ],
            [
             0.4,
             "#fde0ef"
            ],
            [
             0.5,
             "#f7f7f7"
            ],
            [
             0.6,
             "#e6f5d0"
            ],
            [
             0.7,
             "#b8e186"
            ],
            [
             0.8,
             "#7fbc41"
            ],
            [
             0.9,
             "#4d9221"
            ],
            [
             1,
             "#276419"
            ]
           ],
           "sequential": [
            [
             0,
             "#0d0887"
            ],
            [
             0.1111111111111111,
             "#46039f"
            ],
            [
             0.2222222222222222,
             "#7201a8"
            ],
            [
             0.3333333333333333,
             "#9c179e"
            ],
            [
             0.4444444444444444,
             "#bd3786"
            ],
            [
             0.5555555555555556,
             "#d8576b"
            ],
            [
             0.6666666666666666,
             "#ed7953"
            ],
            [
             0.7777777777777778,
             "#fb9f3a"
            ],
            [
             0.8888888888888888,
             "#fdca26"
            ],
            [
             1,
             "#f0f921"
            ]
           ],
           "sequentialminus": [
            [
             0,
             "#0d0887"
            ],
            [
             0.1111111111111111,
             "#46039f"
            ],
            [
             0.2222222222222222,
             "#7201a8"
            ],
            [
             0.3333333333333333,
             "#9c179e"
            ],
            [
             0.4444444444444444,
             "#bd3786"
            ],
            [
             0.5555555555555556,
             "#d8576b"
            ],
            [
             0.6666666666666666,
             "#ed7953"
            ],
            [
             0.7777777777777778,
             "#fb9f3a"
            ],
            [
             0.8888888888888888,
             "#fdca26"
            ],
            [
             1,
             "#f0f921"
            ]
           ]
          },
          "colorway": [
           "#636efa",
           "#EF553B",
           "#00cc96",
           "#ab63fa",
           "#FFA15A",
           "#19d3f3",
           "#FF6692",
           "#B6E880",
           "#FF97FF",
           "#FECB52"
          ],
          "font": {
           "color": "#2a3f5f"
          },
          "geo": {
           "bgcolor": "white",
           "lakecolor": "white",
           "landcolor": "#E5ECF6",
           "showlakes": true,
           "showland": true,
           "subunitcolor": "white"
          },
          "hoverlabel": {
           "align": "left"
          },
          "hovermode": "closest",
          "mapbox": {
           "style": "light"
          },
          "paper_bgcolor": "white",
          "plot_bgcolor": "#E5ECF6",
          "polar": {
           "angularaxis": {
            "gridcolor": "white",
            "linecolor": "white",
            "ticks": ""
           },
           "bgcolor": "#E5ECF6",
           "radialaxis": {
            "gridcolor": "white",
            "linecolor": "white",
            "ticks": ""
           }
          },
          "scene": {
           "xaxis": {
            "backgroundcolor": "#E5ECF6",
            "gridcolor": "white",
            "gridwidth": 2,
            "linecolor": "white",
            "showbackground": true,
            "ticks": "",
            "zerolinecolor": "white"
           },
           "yaxis": {
            "backgroundcolor": "#E5ECF6",
            "gridcolor": "white",
            "gridwidth": 2,
            "linecolor": "white",
            "showbackground": true,
            "ticks": "",
            "zerolinecolor": "white"
           },
           "zaxis": {
            "backgroundcolor": "#E5ECF6",
            "gridcolor": "white",
            "gridwidth": 2,
            "linecolor": "white",
            "showbackground": true,
            "ticks": "",
            "zerolinecolor": "white"
           }
          },
          "shapedefaults": {
           "line": {
            "color": "#2a3f5f"
           }
          },
          "ternary": {
           "aaxis": {
            "gridcolor": "white",
            "linecolor": "white",
            "ticks": ""
           },
           "baxis": {
            "gridcolor": "white",
            "linecolor": "white",
            "ticks": ""
           },
           "bgcolor": "#E5ECF6",
           "caxis": {
            "gridcolor": "white",
            "linecolor": "white",
            "ticks": ""
           }
          },
          "title": {
           "x": 0.05
          },
          "xaxis": {
           "automargin": true,
           "gridcolor": "white",
           "linecolor": "white",
           "ticks": "",
           "title": {
            "standoff": 15
           },
           "zerolinecolor": "white",
           "zerolinewidth": 2
          },
          "yaxis": {
           "automargin": true,
           "gridcolor": "white",
           "linecolor": "white",
           "ticks": "",
           "title": {
            "standoff": 15
           },
           "zerolinecolor": "white",
           "zerolinewidth": 2
          }
         }
        },
        "title": {
         "text": "TF-IDF vs BoW Feature Importance"
        },
        "xaxis": {
         "title": {
          "text": "BoW Weight (normalized)"
         }
        },
        "yaxis": {
         "title": {
          "text": "TF-IDF Weight (normalized)"
         }
        }
       }
      }
     },
     "metadata": {},
     "output_type": "display_data"
    }
   ],
   "source": [
    "\n",
    "# Show comparison\n",
    "comparison_fig = encoder.plot_feature_comparison(threshold=0.98)\n",
    "print(\"\\nFeature Comparison:\")\n",
    "comparison_fig.show()\n",
    "\n",
    "# Plot scatter comparison\n",
    "scatter_fig = encoder.plot_scatter_comparison()\n",
    "print(\"\\nTF-IDF vs BoW Scatter Comparison:\")\n",
    "scatter_fig.show()"
   ]
  },
  {
   "cell_type": "markdown",
   "id": "e8d19e2a",
   "metadata": {},
   "source": [
    "### 3.3 Dimensionality Reduction & Visualization\n",
    "**Analysis**:\n",
    "- Apply PCA/t-SNE\n",
    "- Visualize category distribution\n",
    "- Evaluate cluster separation"
   ]
  },
  {
   "cell_type": "code",
   "execution_count": 9,
   "id": "83e8ef75",
   "metadata": {},
   "outputs": [
    {
     "name": "stdout",
     "output_type": "stream",
     "text": [
      "\n",
      "Applying PCA to product name features...\n"
     ]
    },
    {
     "data": {
      "application/vnd.plotly.v1+json": {
       "config": {
        "plotlyServerURL": "https://plot.ly"
       },
       "data": [
        {
         "hovertemplate": "Category=Home Furnishing<br>PC1=%{x}<br>PC2=%{y}<extra></extra>",
         "legendgroup": "Home Furnishing",
         "marker": {
          "color": "#636efa",
          "symbol": "circle"
         },
         "mode": "markers",
         "name": "Home Furnishing",
         "showlegend": true,
         "type": "scattergl",
         "x": {
          "bdata": "yHV2VXx6Jr84qpBBwjdrv1aDrpYIdj6/Gt+brAPMmz+we/Ao6X8zPxb06tdisUA/TFiRonYLdL9MWJGidgt0v4EBDN7xDnU/gQEM3vEOdT85Iy+U5N+PP2A+3NGa9p8/L9t1UjN5UL8v23VSM3lQv65bcfdV4U6/TSSgRenyT78v23VSM3lQv5CkayL0IVG/lD+XjLb3kD+Z7rpa0AtTv5nuulrQC1O/GDqhGgERnj9MWJGidgt0v50wCIE9q22/VNk3zmZxVb8QwOEafPAVP0iDYDAN0yQ/WF+XkWgbIb8Sb9m/OKlOv5CEYqKFC5E/fyOWlmWyij8o6pjLHQ6XP05sAzqJd3e/TFiRonYLdL+UzbGyIMMwv/WBAKe9IYM/3EyZ1KqHNT9HM4YN4lGAPz4jy4GT7kQ/NjicAvy2N7+CZf6h3Ag7v+8UUCqsNmY/ZDwsZm6oZb9aQ/YrJ/FRvyPlpIEm+VO/OZ63l477hT/lcalwsYJWvzEXAqhdxla/ZPs1ROp2Vz9c9ZpPfh5Ev+w8rfHn/V8/i44ZpRBwUL/Aw5eCmFtMv+w8rfHn/V8/7Dyt8ef9Xz/49+Ry7IJsP3cb6LTUwGE/7PE6UmBbb7+kDIo/kiVfP+hMZiWJcl6/MQWFEbrbVL8kTyril4kxP5ejH3aD5NI/Vy/l7q2fzT9fvx3mzd3NPyjqmMsdDpc/tpt+EwYlUr+iILiOoHF2P+l3iOiVynQ/sWGqEs5Lcj9Ih1husO99P/pYN24X7UQ/qugI8f7tS78ZDQc+OByKv0oI4zBHNk6/hiPY9u1DUL8j5aSBJvlTvw7Vba/hsle/s1eiQBagUL8FqYycisxhPzACMHGmAGu/OBa813AiPT+EbjQAH+dmP4jJiftBRVa/afYNZj2RU7/Ohat75EFFP1pD9isn8VG/I+WkgSb5U7+0Nfe4xldWPyPlpIEm+VO/0uYwvxy9lT+2m34TBiVSv9LmML8cvZU/tpt+EwYlUr+0Nfe4xldWP1pD9isn8VG/yqbO+8nWkz+0Nfe4xldWP7Q197jGV1Y/XqFYOpVQmT/S5jC/HL2VP7Q197jGV1Y/tDX3uMZXVj/S5jC/HL2VP6Bg+kWe25g/fOcqwvuIQD8oPbYog0heP7Q197jGV1Y/tDX3uMZXVj/S5jC/HL2VPxV1dz7uyHM/WkP2KyfxUb+0Nfe4xldWP1AzOvQkd5U/KD22KINIXj8RtFY/6OBnv5xIWwmTOpW/5XGpcLGCVr9c9ZpPfh5Ev1qtDMTxSlC/z34k3chwYD8Z4HIYPulNv66w1qkfA1O/VNIS3piKUr+xCM+oCCuRv7HPsKKFnYU/Wv3+rCGETL9AvnvyxnpDP8DDl4KYW0y/rltx91XhTr8YdrfNsQrHP8aB2vmDLFi/LACbRIfrcr8jMeL72/ROvxrfm6wDzJs/mumuBmdtcj8cByWpbddPP4C7yhdKq3C/2J6HN7A1U7+Z7rpa0AtTv8T1J3OAFiu/me66WtALU7+JRMDlFjOCP5RcW+LCdWC/VGWKOjBGML8jSjfNe3mFP7eZJuahCoE/MhHh+8wDab/acPb2nrJiv7eZJuahCoE/",
          "dtype": "f8"
         },
         "xaxis": "x",
         "y": {
          "bdata": "ln3yssGeqz/cpAHlKYu2PzrxocEWHLg/wBfM9J0P2D+ILB1tpsm2P4IoogwOO7g/MgiSC9n2rD8yCJIL2fasP6Ccw6ZJ9Kg/oJzDpkn0qD+A7GNpIxDRP7vdE+RpE9E/waKq8300rT/BoqrzfTStP8Kx4xrNma4/NVqiTINGqz/BoqrzfTStP5IQ3n2Goqs/M5ErOfrJpT/wel+llWanP/B6X6WVZqc/ot4MZdznxT8yCJIL2fasPy5lBNpCarY/6wgCUbSipz+iB8LM86+2Pwf9Nlfj2bU/wCAOasXZtD/SqrI7tq+lPzotZOsH4c8//5oJNcMt0D+cH03OPbjRPyLAvywjTKs/MgiSC9n2rD+wKNVScY6pP6ogzqwdP6c/k0c1v0FYrT+UuButikSnPxqA4K/3B68/lCEm2binqT/O08f4FaioP4S8NZrWYKw/oAUTnV9drj+jmP5Yfx6sPykZ2RCRyag/WCj1dYGXqD/OmN0N2a6rP9omBPEQbao/y3pYXNZYrz+mJQfZWMOuP42++tWOHa8/DL+uk/Hjqj+60yo0VnSuP42++tWOHa8/jb761Y4drz9OSaUXbQ+wP+zUH13eoKw/Plwy9wnJrz8B/3+0F8iuP3h+urct9qk/6VXA9gFtqj9Pu2Ftt8GwP+TQnd0r/MO/WdsltWZUvL+T8N7Qtea4v5wfTc49uNE/GaExVUhBqz8iteT6qPysPwBqLiS5P64/pJC5vq1xrT+EsnuddcOtP5C0xQg1ILE/c1u7VD8nrz9nYZnGF+2kP/DG9xzkp6w/AZp+Fjn9rT8pGdkQkcmoP5TAU4LQ964/Rz+agh1Lrz8y10Ea91+vPyQalNui1bE/8K8gx7yXsj/Bzi58eQexP+i5lfc/6K4/DU+Lsek/rj/p9Vu4RoSyP6OY/lh/Hqw/KRnZEJHJqD9sO+cp3UC9PykZ2RCRyag/NCdcbw661D8ZoTFVSEGrPzQnXG8OutQ/GaExVUhBqz9sO+cp3UC9P6OY/lh/Hqw/v9O/uEgVpj9sO+cp3UC9P2w75yndQL0/140POvKt1T80J1xvDrrUP2w75yndQL0/bDvnKd1AvT80J1xvDrrUP4yG50VPzNA/Is95tIORsT+nIMh6ZBO/P2w75yndQL0/bDvnKd1AvT80J1xvDrrUP4e/TqOiS7o/o5j+WH8erD9sO+cp3UC9P12BOB1fCqE/pyDIemQTvz+oi4+Qw9KwPxS1VUgT5LU/zpjdDdmuqz+mJQfZWMOuP6QIScdg5Ks/qjThqU0srj8usXqqOpauP+FpV0mIMq8/zWPUNgF9rD+2E1qJoMqfP/KChgHBUqk/FND8cF5Xrz+PrNZwUpiwP7rTKjRWdK4/wrHjGs2Zrj8YhVL4Y6qxv9w3Ji0etKg/NEjKJBJFrD8GQL4ZT4CkP8AXzPSdD9g/av+aoWDVpT9F3BAXUuKrP77ijtf6UKw/bq8wpZ1boT/wel+llWanPxggInB7nbU/8HpfpZVmpz+oaZIRtDCnP8f2BpiXoa0/7rlsmykbqj9MJpD/+IynPwlPMs+vB6c/MCDlvKQGqz96iinsAqSsPwlPMs+vB6c/",
          "dtype": "f8"
         },
         "yaxis": "y"
        },
        {
         "hovertemplate": "Category=Baby Care<br>PC1=%{x}<br>PC2=%{y}<extra></extra>",
         "legendgroup": "Baby Care",
         "marker": {
          "color": "#EF553B",
          "symbol": "circle"
         },
         "mode": "markers",
         "name": "Baby Care",
         "showlegend": true,
         "type": "scattergl",
         "x": {
          "bdata": "tDX3uMZXVj/S5jC/HL2VP9JxEHMtmp2/gEqA0zlxor/Ynoc3sDVTv9iehzewNVO/xpc650LRs79klH9xEXCtv8aXOudC0bO/sF3ekdANl7+S1aKswVBzv8jSgd1F9LK/2J6HN7A1U7/4PFU8pQiAv+pcq3XE07K/zPYzULYzlj9t5WLcSzW9v8FzEMo+TL6/mwUO1c9rtr+XxIJGuMy3v8FzEMo+TL6/wXMQyj5Mvr9t5WLcSzW9v+MruXL3eLC/4yu5cvd4sL9vtFeyTn2wv+MruXL3eLC/q5+LaZGTsL+866sbN7CMP9iehzewNVO/Uqx7jcPsr797FiclJHylv8aXOudC0bO/exYnJSR8pb/jK7ly93iwv23lYtxLNb2/4yu5cvd4sL/H8ayW+2qmv2D2HOGJ2bK/Ea5/z6M+s78hDuiEnLG3vyg9tiiDSF4/xpc650LRs7+Ci/PAzoatv2qzRy/oO6y/n7y8dLRapr/jK7ly93iwv9iehzewNVO/2J6HN7A1U7/Ynoc3sDVTv+MruXL3eLC/4yu5cvd4sL/jK7ly93iwv+pcq3XE07K/beVi3Es1vb9t5WLcSzW9v9iehzewNVO/xpc650LRs7/0gupSopmCvwi7znqve7G/4yu5cvd4sL+C2sGXQZOfvyEO6IScsbe/89pt+K8prb+snAS6hLKqv4qL/JwqRaq/89pt+K8prb+hS+VbB9itv8IZPLrc6aG/OxivymD1o7+fvLx0tFqmv+MruXL3eLC/4yu5cvd4sL/jK7ly93iwv+MruXL3eLC/wXMQyj5Mvr+0Nfe4xldWP9xyqe3gW4a/2J6HN7A1U7+0Nfe4xldWP9iehzewNVO/9hOD5VU7d7/S5jC/HL2VPy9jte39vmC/n7y8dLRapr+0Nfe4xldWP9iehzewNVO/8dbEaLGnhz+0Nfe4xldWP9LmML8cvZU/2J6HN7A1U78qGHevvMVev9iehzewNVO/BoOi21E+mT/SR4lV03pTv8FzEMo+TL6/omR8/6l6X78Wm/tVDwd9v3E/iPgznnS//uS/B1uObb8WulkqSXlcv5IbQVmGGYQ/PVHYTooSgj9UKYlYOlajv+5G3ai80pO/2J6HN7A1U795xvl0RrtRv3sWJyUkfKW/2J6HN7A1U7+DFN/kcPipv3rQx/JZha+/kD3ahL+imr/Ynoc3sDVTv06JwP1IuFO/Jcthr62asL8tuUxiJDiyv9iehzewNVO/NFt9bVSStr80W31tVJK2vyXLYa+tmrC/SINgMA3TJD9Ig2AwDdMkP7LUQhBVw2Y/SINgMA3TJD+CoOWMxjS0v8JB3GU4DLS/jNHLjsXkpr/BcxDKPky+vyxTFRtu57C/I8IaGPrujj+XxIJGuMy3v8FzEMo+TL6/3LpNgff+q7/Ynoc3sDVTv9iehzewNVO/xpc650LRs78Yr7zt62CSP8FzEMo+TL6/2AXvkRhPUj+XxIJGuMy3v+x8zcBlUS6/7HzNwGVRLr/sfM3AZVEuv+x8zcBlUS6/7HzNwGVRLr/gO2LK0FsXv+x8zcBlUS6/7HzNwGVRLr/sfM3AZVEuv+x8zcBlUS6/",
          "dtype": "f8"
         },
         "xaxis": "x",
         "y": {
          "bdata": "bDvnKd1AvT80J1xvDrrUP54Yelirac0/2PhC5eeYzz9urzClnVuhP26vMKWdW6E/eP9hfHD9sz+U/tqWG6G2P3j/YXxw/bM/tBUNgh0ftz90h35aGHG4PzyK9BcYics/bq8wpZ1boT+veTYhfSarP1jrW9McIZE/Nw8iKDHY0j+ScBvsTyOpP5S8/8f+Q5A/O3q9PxXxpT98ZkuzyAGhP5S8/8f+Q5A/lLz/x/5DkD+ScBvsTyOpP1aEYOkJ3bM/VoRg6Qndsz+gW7Nwa5W2P1aEYOkJ3bM/iCTxkgz/qj9CbSeFhEujP26vMKWdW6E/Wt+asupdtD9vFgbzNhe3P3j/YXxw/bM/bxYG8zYXtz9WhGDpCd2zP5JwG+xPI6k/VoRg6Qndsz8Otq47PrKwP6GUfnMEs7E/L04b5dydpz+G8z8CF5OiP6cgyHpkE78/eP9hfHD9sz8EfMH2WPayP3oh1N3B57Q//pT2m2X90z9WhGDpCd2zP26vMKWdW6E/bq8wpZ1boT9urzClnVuhP1aEYOkJ3bM/VoRg6Qndsz9WhGDpCd2zP1jrW9McIZE/knAb7E8jqT+ScBvsTyOpP26vMKWdW6E/eP9hfHD9sz/ufUocof+nP49hac5IVLY/VoRg6Qndsz98fGwJODTMP4bzPwIXk6I/OLpMmnJ2tT8wGG5ALMGyPzSAwUL9IrY/OLpMmnJ2tT9bZUwHiP2hP5KkXDhZa9E/uq733mgT0T/+lPabZf3TP1aEYOkJ3bM/VoRg6Qndsz9WhGDpCd2zP1aEYOkJ3bM/lLz/x/5DkD9sO+cp3UC9Pyjg3jD4FsA/bq8wpZ1boT9sO+cp3UC9P26vMKWdW6E/cUqMIZzSrT80J1xvDrrUPz7KxYx+AbE//pT2m2X90z9sO+cp3UC9P26vMKWdW6E/xyu4Wy7doj9sO+cp3UC9PzQnXG8OutQ/bq8wpZ1boT9a6cuOGrm4P26vMKWdW6E/lTnoSTIu0j+ZDz6UcanRP5S8/8f+Q5A/V27JyJLtqz9jwJZH2ASyP2Q/eqTwca8/skfcnLmssT96PMIQsVCrP1bnMQb6F6o/4cAxgIGmpz/A6geIThFhPzAYg/6E6YI/bq8wpZ1boT9Ym3ZX8pXUP28WBvM2F7c/bq8wpZ1boT/NngNDo2bTP3s7l7ZuTLU/cMJi8saLZT9urzClnVuhP1bbZWkuH60/UCmUTpZglj/cn4YSwoSwP26vMKWdW6E/9cWBg6U5mD/1xYGDpTmYP1AplE6WYJY/B/02V+PZtT8H/TZX49m1P0jrH+NXHLQ/B/02V+PZtT8172yDPfmhP/83q/gNM6M/54dH5Rzarj+UvP/H/kOQP6Pa8+LMNp4/igZGXtZcoT98ZkuzyAGhP5S8/8f+Q5A/4AP/e2jksT9urzClnVuhP26vMKWdW6E/eP9hfHD9sz9YEHUuRne2P5S8/8f+Q5A/3gGdJLghuz98ZkuzyAGhP1MKWEtxUaY/UwpYS3FRpj9TClhLcVGmP1MKWEtxUaY/UwpYS3FRpj8cyBnNIfylP1MKWEtxUaY/UwpYS3FRpj9TClhLcVGmP1MKWEtxUaY/",
          "dtype": "f8"
         },
         "yaxis": "y"
        },
        {
         "hovertemplate": "Category=Watches<br>PC1=%{x}<br>PC2=%{y}<extra></extra>",
         "legendgroup": "Watches",
         "marker": {
          "color": "#00cc96",
          "symbol": "circle"
         },
         "mode": "markers",
         "name": "Watches",
         "showlegend": true,
         "type": "scattergl",
         "x": {
          "bdata": "A3Dt2iOM17/BfOlaNSPhv6pulI5ZO96/4ENVPXsN1r/BfOlaNSPhvxiChvyr0dq/wXzpWjUj4b/BfOlaNSPhv8F86Vo1I+G/kqp5M5IU1b/BfOlaNSPhv90JT4GMW9C/VxA0BObW07/BfOlaNSPhv1ScBQd+tsm/GIKG/KvR2r+qbpSOWTvev8F86Vo1I+G/4ENVPXsN1r/BfOlaNSPhvygKY9MVwNW/LYnaYmup27/dCU+BjFvQv09q9Jt0GMu/wXzpWjUj4b9XiHDmDm/Qv8F86Vo1I+G/wXzpWjUj4b+KtVo7jvnhv0inwEjzfN2/bTjAo8jz278S0BrQYxvgv0inwEjzfN2/EtAa0GMb4L9Ip8BI83zdv4q1WjuO+eG/9BlSt/4o2r+vUptj9qzQv69Sm2P2rNC/52V23SFA2b+M0lbMZ+XRv5GwLW2YCty/irVaO4754b+ylF0SoDvYv8lbPHfjXdq/r1KbY/as0L+RsC1tmArcv4fDC/Qbbti/EtAa0GMb4L+KtVo7jvnhv8lbPHfjXdq/SVN/JVb+4b+vUptj9qzQv78NExKxx9u/kbAtbZgK3L+IhzH1t4vev4iHMfW3i96/iIcx9beL3r/JWzx3413av8lbPHfjXdq/SVN/JVb+4b8+Mm3jcLXTv2MqSN/gENy/yVs8d+Nd2r+/DRMSscfbv4q5BA9Th9u/iIcx9beL3r/nZXbdIUDZv4q1WjuO+eG/lKrjPC5E3r+KtVo7jvnhv4iHMfW3i96/52V23SFA2b+Hwwv0G27Yv5Sq4zwuRN6/iIcx9beL3r8DcO3aI4zXv4q1WjuO+eG/kbAtbZgK3L+vUptj9qzQv1eIcOYOb9C/LYnaYmup27/JWzx3413av4fDC/Qbbti/irVaO4754b+KtVo7jvnhv78NExKxx9u/EtAa0GMb4L8S0BrQYxvgv78NExKxx9u/irVaO4754b+UquM8LkTevxLQGtBjG+C/Ke+SObhW2r8V23HGDCjVvwNw7dojjNe/EtAa0GMb4L+KtVo7jvnhv7uu4+ST6dO/IvooWbDE178EikZp2xrPv78NExKxx9u/kbAtbZgK3L+/DRMSscfbv4q1WjuO+eG/EtAa0GMb4L9tOMCjyPPbvxLQGtBjG+C/52V23SFA2b9X5h6AMS7XvxLQGtBjG+C/r1KbY/as0L8K7JNFnz/Vv5GwLW2YCty/EtAa0GMb4L+KtVo7jvnhv5Sq4zwuRN6/jNJWzGfl0b9hms8hXYHXvxLQGtBjG+C/SVN/JVb+4b+KtVo7jvnhv5Sq4zwuRN6/kbAtbZgK3L+KtVo7jvnhvyl4K8H4yNy/wXzpWjUj4b8S0BrQYxvgv0inwEjzfN2/v3IWPETMzL8S0BrQYxvgv5f4GVMbCNu/l/gZUxsI27+X+BlTGwjbvxLQGtBjG+C/EtAa0GMb4L8S0BrQYxvgv4q1WjuO+eG/l/gZUxsI279cNgMWzPjRv5f4GVMbCNu/l/gZUxsI27+KtVo7jvnhv4q1WjuO+eG/XZTasHYo3r+KtVo7jvnhv3t8AdI4nuC/EtAa0GMb4L+KtVo7jvnhvy1oefNpwta/",
          "dtype": "f8"
         },
         "xaxis": "x",
         "y": {
          "bdata": "QRW7tZ9q0r96adGfPC3cv0RFiay6S9i/qzZJZWGb0L96adGfPC3cvz5f7NUD69S/emnRnzwt3L96adGfPC3cv3pp0Z88Ldy/5vD1pjkTzr96adGfPC3cv1oWbH2rcMa/9o731aLjyb96adGfPC3cvx9bQoTGOL+/Pl/s1QPr1L9ERYmsukvYv3pp0Z88Ldy/qzZJZWGb0L96adGfPC3cv7IPYzz1Ks2/VHwncmq9079aFmx9q3DGvzlWvAkP47y/emnRnzwt3L9il6EJF8/Cv3pp0Z88Ldy/emnRnzwt3L8QsELr+v3ev3nscUqFvta/nPgDa1jO1L/gASjFEaXbv3nscUqFvta/4AEoxRGl27957HFKhb7WvxCwQuv6/d6/lL7NbrIx1r8irvrvnPjJvyKu+u+c+Mm/ABPb+KUX1b8yVk+iefDJv+Wj3PmgzNe/ELBC6/r93r/3EiR2InrUv+Sc4f8sdda/Iq7675z4yb/lo9z5oMzXv+at/Soeu9S/4AEoxRGl278QsELr+v3ev+Sc4f8sdda/7Dh397gK378irvrvnPjJv8P6Rl4xede/5aPc+aDM17+xduxyiQjav7F27HKJCNq/sXbscokI2r/knOH/LHXWv+Sc4f8sdda/7Dh397gK37+YznQj1QrPv9+6vSZAcde/5Jzh/yx11r/D+kZeMXnXv6tSrf1dHte/sXbscokI2r8AE9v4pRfVvxCwQuv6/d6/6Dt4V2Cw2b8QsELr+v3ev7F27HKJCNq/ABPb+KUX1b/mrf0qHrvUv+g7eFdgsNm/sXbscokI2r9BFbu1n2rSvxCwQuv6/d6/5aPc+aDM178irvrvnPjJv2KXoQkXz8K/VHwncmq907/knOH/LHXWv+at/Soeu9S/ELBC6/r93r8QsELr+v3ev8P6Rl4xede/4AEoxRGl27/gASjFEaXbv8P6Rl4xede/ELBC6/r93r/oO3hXYLDZv+ABKMURpdu/1U015c0m1r/0/i59i+HQv0EVu7WfatK/4AEoxRGl278QsELr+v3ev75z1Uh5kc+/yo/wvQqc07/QceQ+Sr/Kv8P6Rl4xede/5aPc+aDM17/D+kZeMXnXvxCwQuv6/d6/4AEoxRGl27+c+ANrWM7Uv+ABKMURpdu/ABPb+KUX1b+uyT+pyBjVv+ABKMURpdu/Iq7675z4yb9uMy2BZgDNv+Wj3PmgzNe/4AEoxRGl278QsELr+v3ev+g7eFdgsNm/MlZPonnwyb9Xk0KSwjzRv+ABKMURpdu/7Dh397gK378QsELr+v3ev+g7eFdgsNm/5aPc+aDM178QsELr+v3ev3B7kDqRTta/emnRnzwt3L/gASjFEaXbv3nscUqFvta/Atnl1yIgxb/gASjFEaXbv9pliWSyF9e/2mWJZLIX17/aZYlkshfXv+ABKMURpdu/4AEoxRGl27/gASjFEaXbvxCwQuv6/d6/2mWJZLIX178axgPmk6LNv9pliWSyF9e/2mWJZLIX178QsELr+v3evxCwQuv6/d6/+cv9sc54178QsELr+v3ev/F6zF56mty/4AEoxRGl278QsELr+v3evwjFmwQtMdO/",
          "dtype": "f8"
         },
         "yaxis": "y"
        },
        {
         "hovertemplate": "Category=Home Decor & Festive Needs<br>PC1=%{x}<br>PC2=%{y}<extra></extra>",
         "legendgroup": "Home Decor & Festive Needs",
         "marker": {
          "color": "#ab63fa",
          "symbol": "circle"
         },
         "mode": "markers",
         "name": "Home Decor & Festive Needs",
         "showlegend": true,
         "type": "scattergl",
         "x": {
          "bdata": "0HYPNGSxSL/Ynoc3sDVTvyAEiPwIieg/lL3iHsaPcj/sYjevLuKSPyAEiPwIieg/wE5mCmri4D/8rLapHgLiP8BOZgpq4uA/wE5mCmri4D8gBIj8CInoP8BOZgpq4uA/FYX84gX14T8jc+VdI//gPxqDFVWZ3Ns/IASI/AiJ6D9rOsJ5TdGNPyAEiPwIieg/wE5mCmri4D/Ynoc3sDVTv0VUEA/TBFW/IASI/AiJ6D8gBIj8CInoPyAEiPwIieg/IASI/AiJ6D8kII0d/DvgP/ystqkeAuI/IASI/AiJ6D8gBIj8CInoPxWF/OIF9eE/+DOGW3VZ2j+CsTCo1W3YP+ToI9tfs+A/IASI/AiJ6D+mfc0mxf/dP4GSTU80e9w/+DOGW3VZ2j8gBIj8CInoP4dlxyobvNw/IASI/AiJ6D/k6CPbX7PgPyAEiPwIieg/IASI/AiJ6D+mfc0mxf/dPyAEiPwIieg/Z3Ik/8Bl4D8gBIj8CInoP7D9DDTpOuc/lzFxSZRf4D8gBIj8CInoPyAEiPwIieg/IASI/AiJ6D8gBIj8CInoP/ystqkeAuI/I3PlXSP/4D8gBIj8CInoPyAEiPwIieg/2J6HN7A1U79jwVEAylLgPxWF/OIF9eE/wE5mCmri4D8gBIj8CInoPyAEiPwIieg/IASI/AiJ6D8gBIj8CInoPyQgjR38O+A//Ky2qR4C4j8gBIj8CInoPyAEiPwIieg/IASI/AiJ6D8gBIj8CInoPx/PdLAc39s/bLYnHIn34j9rOsJ5TdGNP+ToI9tfs+A/IASI/AiJ6D8gBIj8CInoPyAEiPwIieg/kyvOXoTq5T8gBIj8CInoP73Oo4CQXuA/IASI/AiJ6D9W2yiN+2bdPyAEiPwIieg/2J6HN7A1U7/Ynoc3sDVTv9iehzewNVO/Dsh7ifyNmT/YBe+RGE9SP7BRz/ezRog/ni7Sf26Zkz/2E4PlVTt3v3kReqW9l8S/7HzNwGVRLr/bF8oJDsndPyAEiPwIieg/L2O17f2+YL/Ynoc3sDVTv+ALMgENnik/ilW8oehFfj9gehPBeTyYPyAEiPwIieg/IASI/AiJ6D8gBIj8CInoPyAEiPwIieg/FYX84gX14T/noAR320FhP2PBUQDKUuA/FYX84gX14T+fu5VZ/IG9P5+7lVn8gb0/I3PlXSP/4D8gBIj8CInoP5TdkTjSmW4/OvpIvpVjo78vY7Xt/b5gvy9jte39vmC/L2O17f2+YL+KVbyh6EV+P67uuXD1K1C/K6PLMSP4Vb8gBIj8CInoPxYzhZnwamu/IASI/AiJ6D8AVgk82zEIP0T8BKRpJ1Q/IASI/AiJ6D8gBIj8CInoPxWF/OIF9eE/dyDuMydmUr93IO4zJ2ZSvyAEiPwIieg//t0T+pqebr/61/arv7VIv7DHVabIizE/t5tJTgLK4D/Ynoc3sDVTv4pVvKHoRX4/sMdVpsiLMT+OJLzSZsRKvyAEiPwIieg/IASI/AiJ6D8XNB2h/TjgPyAEiPwIieg/FzQdof044D8gBIj8CInoPyAEiPwIieg/V0S7XM4+jj/Qdg80ZLFIvyAEiPwIieg/",
          "dtype": "f8"
         },
         "xaxis": "x",
         "y": {
          "bdata": "FnOdwHcltj9urzClnVuhPxKIbV5uHt6/QXjhqvcuoz/2r5+MUIKaPxKIbV5uHt6/75y9ydvd07/W/uCnAgDVv++cvcnb3dO/75y9ydvd078SiG1ebh7ev++cvcnb3dO/VHMMlM+W1L9R3JyJzFvUvwJhevJ/2c+/EohtXm4e3r/+a2k0/VKfPxKIbV5uHt6/75y9ydvd079urzClnVuhP6gTuQnPAqU/EohtXm4e3r8SiG1ebh7evxKIbV5uHt6/EohtXm4e3r+bYg88yq/Sv9b+4KcCANW/EohtXm4e3r8SiG1ebh7ev1RzDJTPltS/zuOrBtkgsL+IX28Fz/euv7pkUzfrstO/EohtXm4e3r/nXT1OePW5v6ap742G6M6/zuOrBtkgsL8SiG1ebh7ev54y+JlMis+/EohtXm4e3r+6ZFM367LTvxKIbV5uHt6/EohtXm4e3r/nXT1OePW5vxKIbV5uHt6/RefLICTU0r8SiG1ebh7ev3rC6chMVdy/O9HHbstm0r8SiG1ebh7evxKIbV5uHt6/EohtXm4e3r8SiG1ebh7ev9b+4KcCANW/Udycicxb1L8SiG1ebh7evxKIbV5uHt6/bq8wpZ1boT+9n+H758fSv1RzDJTPltS/75y9ydvd078SiG1ebh7evxKIbV5uHt6/EohtXm4e3r8SiG1ebh7ev5tiDzzKr9K/1v7gpwIA1b8SiG1ebh7evxKIbV5uHt6/EohtXm4e3r8SiG1ebh7evxbrkVim182/+KS+Kp1q2L/+a2k0/VKfP7pkUzfrstO/EohtXm4e3r8SiG1ebh7evxKIbV5uHt6/TI9mflXxzL8SiG1ebh7ev3g0gtUkl9W/EohtXm4e3r8jC17DelfQvxKIbV5uHt6/bq8wpZ1boT9urzClnVuhP26vMKWdW6E/sGAuvv0EjD/eAZ0kuCG7PyMUg/nI6aA/9LuJXXrnnT9xSowhnNKtP0aVJspo1cO/UwpYS3FRpj/6JmC+oOjPvxKIbV5uHt6/PsrFjH4BsT9urzClnVuhP9LW/e7Q2bM/jBPopGuxnj+jBSjui8mdPxKIbV5uHt6/EohtXm4e3r8SiG1ebh7evxKIbV5uHt6/VHMMlM+W1L8M/s2ODuypP72f4fvnx9K/VHMMlM+W1L+r9NxHmVrTv6v03EeZWtO/Udycicxb1L8SiG1ebh7evxDBNfYxK7E/VM8D7fuefD8+ysWMfgGxPz7KxYx+AbE/PsrFjH4BsT+ME+ika7GePwWzTyX0Cqg/3oE06NFZqj8SiG1ebh7ev3a0u+8s/64/EohtXm4e3r+Ae879e7yuP6bRmRzcSqk/EohtXm4e3r8SiG1ebh7ev1RzDJTPltS/6FQke9WRqj/oVCR71ZGqPxKIbV5uHt6/tslQVP9Brj9EugOgTSWrP/hm7+8LAbA/prKDGCF4079urzClnVuhP4wT6KRrsZ4/+Gbv7wsBsD8igGAz8PGmPxKIbV5uHt6/EohtXm4e3r+y15SbIB3TvxKIbV5uHt6/steUmyAd078SiG1ebh7evxKIbV5uHt6/4kdtBh9Znj8Wc53AdyW2PxKIbV5uHt6/",
          "dtype": "f8"
         },
         "yaxis": "y"
        },
        {
         "hovertemplate": "Category=Kitchen & Dining<br>PC1=%{x}<br>PC2=%{y}<extra></extra>",
         "legendgroup": "Kitchen & Dining",
         "marker": {
          "color": "#FFA15A",
          "symbol": "circle"
         },
         "mode": "markers",
         "name": "Kitchen & Dining",
         "showlegend": true,
         "type": "scattergl",
         "x": {
          "bdata": "6s1vyyv1pz89O0q6S81Xv4Nla2ATkkK/g2VrYBOSQr+DZWtgE5JCv4Nla2ATkkK/g2VrYBOSQr9iNJsQP8WVP1SUUMIJsZs/VJRQwgmxmz+eX0cnXbqpP0aMp9Vupp0/ev/H93GCoD+ALj7+WEIMP+7bCgTMTOE/gC4+/lhCDD8hStJDkf56P5H7t3H4xHA/IUrSQ5H+ej+sdB7L7PWKP7bVX2SZvXw/Gt43r1ISm7+iIUBtJgEzv5H7t3H4xHA/wLMOIkJ3Uz8+Y9nh1h1Sv8CzDiJCd1M/PmPZ4dYdUr9MDMAvBbE9PzzviLcMZVC/IUrSQ5H+ej8+Y9nh1h1SvyqlikvM4oc/ciqNAJcIS78+Y9nh1h1Svz5j2eHWHVK/oiFAbSYBM79yKo0AlwhLv6x0Hsvs9Yo/KqWKS8zihz8+Y9nh1h1Sv+xJbPZFX6C/ciqNAJcIS79yKo0AlwhLvyFK0kOR/no/oiFAbSYBM7/ecn7ewNaQP8g8EwsIQkA/wLMOIkJ3Uz8hStJDkf56P3IqjQCXCEu/PmPZ4dYdUr8+Y9nh1h1Sv6IhQG0mATO/ciqNAJcIS79yKo0AlwhLv6IhQG0mATO/dr4dFkIWNL+iIUBtJgEzvz5j2eHWHVK/PmPZ4dYdUr/ecn7ewNaQP4U//+WUAFG/ciqNAJcIS79yKo0AlwhLv8CzDiJCd1M/7Els9kVfoL9yKo0AlwhLv3IqjQCXCEu/ciqNAJcIS79fCCtO0dRpv6IhQG0mATO/ciqNAJcIS78+Y9nh1h1Sv6IhQG0mATO/g2VrYBOSQr8+Y9nh1h1Svz5j2eHWHVK/vs1PnaRLj7/Ynoc3sDVTv9iehzewNVO/2J6HN7A1U7+a6a4GZ21yP1T/TbNL/Zc/2J6HN7A1U7/Ynoc3sDVTv9iehzewNVO/mhEREdVsWb/Ynoc3sDVTv5oRERHVbFm/mhEREdVsWb+aERER1WxZv7OffaX8TnQ/mhEREdVsWb+aERER1WxZv5oRERHVbFm/mhEREdVsWb+aERER1WxZv5oRERHVbFm/mhEREdVsWb+aERER1WxZv5oRERHVbFm/mhEREdVsWb+aERER1WxZv5oRERHVbFm/mhEREdVsWb+aERER1WxZv9iehzewNVO/mhEREdVsWb+aERER1WxZv7kyAiOJLaU/2J6HN7A1U79FVBAP0wRVv9iehzewNVO/2J6HN7A1U7+AyX1to81Zv4AuPv5YQgw/2J6HN7A1U7/Ynoc3sDVTv9iehzewNVO/2J6HN7A1U7+KVbyh6EV+P5u69ii82qE/mhEREdVsWb/u2woEzEzhP9iehzewNVO/PTtKukvNV789O0q6S81Xvz07SrpLzVe/PTtKukvNV789O0q6S81Xvz07SrpLzVe/2J6HN7A1U79RPuErYF2LP1E+4StgXYs/UT7hK2Bdiz9RPuErYF2LP1JbQKsvL4Y/UT7hK2Bdiz+3mghz2v6gP7kyAiOJLaU/2J6HN7A1U7/Ynoc3sDVTv9iehzewNVO/2J6HN7A1U7+DZWtgE5JCv9Jc7AeiBHm/2J6HN7A1U784n7DdG/ZRP7kyAiOJLaU/",
          "dtype": "f8"
         },
         "xaxis": "x",
         "y": {
          "bdata": "ZrHpx7lDyT+Z7JKvPxapP4KHg9wRW7s/goeD3BFbuz+Ch4PcEVu7P4KHg9wRW7s/goeD3BFbuz9+AcDaCzHSP7aKFi3c+LQ/tooWLdz4tD+80sKRzwrLP/IJ0v1AEcw/v2zJZRXS2j+aYMTJ8jmnPzT0DhC1xdS/mmDEyfI5pz8O/XCFg3i3P3KDIt88l7U/Dv1whYN4tz9saqaKKHq2PxP5xSWRbbU/olmeOvQvsT9QoNUOOO+5P3KDIt88l7U/UaBOEzIzuj9TPmN5E7q5P1GgThMyM7o/Uz5jeRO6uT+6+OKxQ/G6P2fLdp9Ra7k/Dv1whYN4tz9TPmN5E7q5P17zeqcS3rY/XxpepQTutz9TPmN5E7q5P1M+Y3kTurk/UKDVDjjvuT9fGl6lBO63P2xqpoooerY/XvN6pxLetj9TPmN5E7q5P/gOaWyXrrg/XxpepQTutz9fGl6lBO63Pw79cIWDeLc/UKDVDjjvuT88K5MqI5K1P1BVsSsHELo/UaBOEzIzuj8O/XCFg3i3P18aXqUE7rc/Uz5jeRO6uT9TPmN5E7q5P1Cg1Q4477k/XxpepQTutz9fGl6lBO63P1Cg1Q4477k/fwLefuOOuT9QoNUOOO+5P1M+Y3kTurk/Uz5jeRO6uT88K5MqI5K1PyXWOnPmNrw/XxpepQTutz9fGl6lBO63P1GgThMyM7o/+A5pbJeuuD9fGl6lBO63P18aXqUE7rc/XxpepQTutz/SN8DRq1+6P1Cg1Q4477k/XxpepQTutz9TPmN5E7q5P1Cg1Q4477k/goeD3BFbuz9TPmN5E7q5P1M+Y3kTurk/VjvPlv79sz9urzClnVuhP26vMKWdW6E/bq8wpZ1boT9q/5qhYNWlP8jkNZWjhZ4/bq8wpZ1boT9urzClnVuhP26vMKWdW6E/9b4RhHsUqT9urzClnVuhP/W+EYR7FKk/9b4RhHsUqT/1vhGEexSpP/zG9tSBAaU/9b4RhHsUqT/1vhGEexSpP/W+EYR7FKk/9b4RhHsUqT/1vhGEexSpP/W+EYR7FKk/9b4RhHsUqT/1vhGEexSpP/W+EYR7FKk/9b4RhHsUqT/1vhGEexSpP/W+EYR7FKk/9b4RhHsUqT/1vhGEexSpP26vMKWdW6E/9b4RhHsUqT/1vhGEexSpP1gkYdEZfd8/bq8wpZ1boT+oE7kJzwKlP26vMKWdW6E/bq8wpZ1boT83QFXOzWKmP5pgxMnyOac/bq8wpZ1boT9urzClnVuhP26vMKWdW6E/bq8wpZ1boT+ME+ika7GeP5R5WM7qha8/9b4RhHsUqT809A4QtcXUv26vMKWdW6E/meySrz8WqT+Z7JKvPxapP5nskq8/Fqk/meySrz8WqT+Z7JKvPxapP5nskq8/Fqk/bq8wpZ1boT+vjBwnprKmP6+MHCemsqY/r4wcJ6aypj+vjBwnprKmP/rd2SkS4Kc/r4wcJ6aypj+AO0T2VsCWP1gkYdEZfd8/bq8wpZ1boT9urzClnVuhP26vMKWdW6E/bq8wpZ1boT+Ch4PcEVu7P3zflSjAkrQ/bq8wpZ1boT9gDHww09W6P1gkYdEZfd8/",
          "dtype": "f8"
         },
         "yaxis": "y"
        },
        {
         "hovertemplate": "Category=Beauty and Personal Care<br>PC1=%{x}<br>PC2=%{y}<extra></extra>",
         "legendgroup": "Beauty and Personal Care",
         "marker": {
          "color": "#19d3f3",
          "symbol": "circle"
         },
         "mode": "markers",
         "name": "Beauty and Personal Care",
         "showlegend": true,
         "type": "scattergl",
         "x": {
          "bdata": "2J6HN7A1U7/Ynoc3sDVTv9iehzewNVO/V7pGVzKwjz9XukZXMrCPP5JzP6+HnZc/2J6HN7A1U79XukZXMrCPP4ZSu4CVj5I/xm4u9GOxoj/Ynoc3sDVTvxf2u+oybIs/NzaLeRb8hD/Ynoc3sDVTv9iehzewNVO/8FiIhiu/i7/Ynoc3sDVTv/BYiIYrv4u/2J6HN7A1U79+oNnDCdGgPwQhZo5bP6c/QkEIXAJ2qD+XxmfqScOvPwQhZo5bP6c/BCFmjls/pz8EIWaOWz+nP+q89pNg5J4/BCFmjls/pz8EIWaOWz+nPwQhZo5bP6c/BCFmjls/pz/qM6fBiE6gPwQhZo5bP6c/BCFmjls/pz8EIWaOWz+nPwQhZo5bP6c/BCFmjls/pz9+oNnDCdGgP17m3Gdbu6M/BCFmjls/pz8EIWaOWz+nPwQhZo5bP6c/BCFmjls/pz9ORPBXGBWWPx+qDsp7lqE/QkEIXAJ2qD/fTlL9vlm5v51mVVGIIqs/ocJTcn83rD8EIWaOWz+nP36g2cMJ0aA/BCFmjls/pz8EIWaOWz+nPwQhZo5bP6c/BCFmjls/pz8EIWaOWz+nPwQhZo5bP6c/BCFmjls/pz9CQQhcAnaoPwQhZo5bP6c/BCFmjls/pz+XxmfqScOvPwQhZo5bP6c/QkEIXAJ2qD8EIWaOWz+nPwQhZo5bP6c/BCFmjls/pz8fqg7Ke5ahPwQhZo5bP6c/BCFmjls/pz/qvPaTYOSePwQhZo5bP6c/BCFmjls/pz9T/IbfmL+KPwQhZo5bP6c/BCFmjls/pz/WNZzV1yiePwQhZo5bP6c/BCFmjls/pz8EIWaOWz+nPwQhZo5bP6c/BCFmjls/pz9KwPc0hV+rP8D2lMdgo0G/2J6HN7A1U7/Ynoc3sDVTv9iehzewNVO/2J6HN7A1U79QuWfcOTqIP9iehzewNVO/2J6HN7A1U7/Ynoc3sDVTvwDNkN7cDWc/2J6HN7A1U78X9rvqMmyLP9iehzewNVO/4GCJp1MTAj/Ynoc3sDVTv9iehzewNVO/2J6HN7A1U7/Ynoc3sDVTv+BgiadTEwI/2J6HN7A1U7/Ynoc3sDVTv9iehzewNVO/2J6HN7A1U7/gYImnUxMCP9iehzewNVO/2J6HN7A1U7/Ynoc3sDVTv49RBIrKYYo/j1EEisphij+MlSpw2HhVvyTRriKoeZK/6d8L5FG3jD+PUQSKymGKP9iehzewNVO/2J6HN7A1U7+PUQSKymGKP4yVKnDYeFW/B9aWVsNUR7+MlSpw2HhVv/ggqbW2fY2/jJUqcNh4Vb+MlSpw2HhVv+nfC+RRt4w/j1EEisphij/p3wvkUbeMP4yVKnDYeFW/jJUqcNh4Vb+PUQSKymGKP9iehzewNVO/2J6HN7A1U7/Ynoc3sDVTvwY52YBnwHg/ULln3Dk6iD/Ynoc3sDVTv9iehzewNVO/Mgejl6fOlD/Ynoc3sDVTvxf2u+oybIs/urMnNwIS0j8ogafv6FRcP5iRae7DUzi/4GCJp1MTAj/3ZKRd2mHQv9iehzewNVO/4GCJp1MTAj/Ynoc3sDVTv9iehzewNVO/",
          "dtype": "f8"
         },
         "xaxis": "x",
         "y": {
          "bdata": "bq8wpZ1boT9urzClnVuhP26vMKWdW6E/qLcFL1AD0z+otwUvUAPTP+Inr55tu9w/bq8wpZ1boT+otwUvUAPTP1Z6uiuD78s/FiUEFjKonj9urzClnVuhP8lcUWsk+KE/DEsFxxRnpT9urzClnVuhP26vMKWdW6E/PGCDA7Y0oz9urzClnVuhPzxggwO2NKM/bq8wpZ1boT91CPTnSpzeP5O7SaUAx+Q/OZynIFZS5D8nHpzLkufgP5O7SaUAx+Q/k7tJpQDH5D+Tu0mlAMfkP/UtX36HBN0/k7tJpQDH5D+Tu0mlAMfkP5O7SaUAx+Q/k7tJpQDH5D9kQDUihU3gP5O7SaUAx+Q/k7tJpQDH5D+Tu0mlAMfkP5O7SaUAx+Q/k7tJpQDH5D91CPTnSpzeP1lxJcU8QeM/k7tJpQDH5D+Tu0mlAMfkP5O7SaUAx+Q/k7tJpQDH5D8UkeOxzNDbP9zNkAcgnNw/OZynIFZS5D8/3Ci2q6/UP/Np36qMBt8/QgDtDQ2X3j+Tu0mlAMfkP3UI9OdKnN4/k7tJpQDH5D+Tu0mlAMfkP5O7SaUAx+Q/k7tJpQDH5D+Tu0mlAMfkP5O7SaUAx+Q/k7tJpQDH5D85nKcgVlLkP5O7SaUAx+Q/k7tJpQDH5D8nHpzLkufgP5O7SaUAx+Q/OZynIFZS5D+Tu0mlAMfkP5O7SaUAx+Q/k7tJpQDH5D/czZAHIJzcP5O7SaUAx+Q/k7tJpQDH5D/1LV9+hwTdP5O7SaUAx+Q/k7tJpQDH5D+mkYTSlfDbP5O7SaUAx+Q/k7tJpQDH5D+vXk7+l8PfP5O7SaUAx+Q/k7tJpQDH5D+Tu0mlAMfkP5O7SaUAx+Q/k7tJpQDH5D+PDaUScJTdPwFjbBux7Ks/bq8wpZ1boT9urzClnVuhP26vMKWdW6E/bq8wpZ1boT87bA7fPBOiP26vMKWdW6E/bq8wpZ1boT9urzClnVuhPxfzO+grFrI/bq8wpZ1boT/JXFFrJPihP26vMKWdW6E/muDoK84wrT9urzClnVuhP26vMKWdW6E/bq8wpZ1boT9urzClnVuhP5rg6CvOMK0/bq8wpZ1boT9urzClnVuhP26vMKWdW6E/bq8wpZ1boT+a4OgrzjCtP26vMKWdW6E/bq8wpZ1boT9urzClnVuhPwiC0NHQctI/CILQ0dBy0j+mlCC4RlumP6Fxkw5meZQ/HlpuCh9lzj8IgtDR0HLSP26vMKWdW6E/bq8wpZ1boT8IgtDR0HLSP6aUILhGW6Y/BnXrC/Oyrz+mlCC4RlumP4Wn72wylKQ/ppQguEZbpj+mlCC4RlumPx5abgofZc4/CILQ0dBy0j8eWm4KH2XOP6aUILhGW6Y/ppQguEZbpj8IgtDR0HLSP26vMKWdW6E/bq8wpZ1boT9urzClnVuhPzKmWx9wuaw/O2wO3zwToj9urzClnVuhP26vMKWdW6E/kFd+SZ2a0T9urzClnVuhP8lcUWsk+KE/kMB1BTAnsj8vHvvDtOqsP6TlaXAqY7A/muDoK84wrT/GhNhpLYbJv26vMKWdW6E/muDoK84wrT9urzClnVuhP26vMKWdW6E/",
          "dtype": "f8"
         },
         "yaxis": "y"
        },
        {
         "hovertemplate": "Category=Computers<br>PC1=%{x}<br>PC2=%{y}<extra></extra>",
         "legendgroup": "Computers",
         "marker": {
          "color": "#FF6692",
          "symbol": "circle"
         },
         "mode": "markers",
         "name": "Computers",
         "showlegend": true,
         "type": "scattergl",
         "x": {
          "bdata": "2J6HN7A1U7/95CP8UEdav1NUx2KdY1i/U1THYp1jWL9TVMdinWNYv9iehzewNVO/KIGn7+hUXD/Ynoc3sDVTv9iehzewNVO/2J6HN7A1U7+kv0Fxs7VWv9iehzewNVO/id1Kg+5PV7/Ynoc3sDVTv9iehzewNVO/iiDSnQuLVb/Ynoc3sDVTv9iehzewNVO/pL9BcbO1Vr+J3UqD7k9Xv4ndSoPuT1e/2J6HN7A1U7/Ynoc3sDVTv4ndSoPuT1e/2J6HN7A1U7+kv0Fxs7VWv4ndSoPuT1e/pL9BcbO1Vr/Ynoc3sDVTv9iehzewNVO/id1Kg+5PV7/Ynoc3sDVTv9iehzewNVO/pL9BcbO1Vr/Ynoc3sDVTv9iehzewNVO/2J6HN7A1U7+kv0Fxs7VWv9iehzewNVO/id1Kg+5PV7+J3UqD7k9Xv9iehzewNVO/2J6HN7A1U7/Ynoc3sDVTv9iehzewNVO/2J6HN7A1U7/Ynoc3sDVTv+pLmsRYZ1m/pL9BcbO1Vr/Ynoc3sDVTv9iehzewNVO/2J6HN7A1U78Ai/uAfW1eP9iehzewNVO/2J6HN7A1U7/Ynoc3sDVTv4og0p0Li1W/2J6HN7A1U79Ytpnlf7Umv8At7PDqAFe/rnWwsIKfY7+udbCwgp9jv651sLCCn2O/rnWwsIKfY7+udbCwgp9jv651sLCCn2O/rnWwsIKfY7/2VMKcGG5Rv/ZUwpwYblG/9lTCnBhuUb9yoZN7t7VVv9woVKHDNFG/FJV1OJSLX7+w/Rw0KPJev3Tu52e/tFK/se6tatHzT7+x7q1q0fNPv9woVKHDNFG/dO7nZ7+0Ur/4RqsBwU8qP5snVf/ooVO/qKClm3c2Ib+5ZrgoVcpRvwQR6PZ+Wz4/mydV/+ihU7/cKFShwzRRv+B3pGtXS1O/se6tatHzT7+bJ1X/6KFTv+B3pGtXS1O/4Heka1dLU7/gd6RrV0tTv1NH3IcdLUC//eQj/FBHWr9yoZN7t7VVv3Khk3u3tVW/LaH9X74/S7/Ynoc3sDVTvyiBp+/oVFw/MC05d3AMWb9dbQojsDVWvw+KWqmxSle//eQj/FBHWr8NkrPqC7NavyPy2T/sUFq//eQj/FBHWr8IaFpNlKB0P3rdzQ29a1u/5qI8DU7HW78j8tk/7FBav4J4b7fFIlu/gqHxngh1Wb+CeG+3xSJbv/gnW1sXBFq/gnhvt8UiW7/95CP8UEdav/3kI/xQR1q//eQj/FBHWr/95CP8UEdav9qq5XjFgkQ/DZKz6guzWr+FFOcdsARav/3kI/xQR1q/EL1xYuibhj/95CP8UEdav1xQlW8J7Vm/gnhvt8UiW7/95CP8UEdav0inks5ycoO//eQj/FBHWr/SuzSHX1xSv4J4b7fFIlu/w0sV9CsoYL+33AVKzxF3P/3kI/xQR1q/I/LZP+xQWr+5ZrgoVcpRv6A/ILNZtUS/4PXdvVNLkj8ktsWpY4uSPyS2xalji5I/JLbFqWOLkj/uRt2ovNKTvyS2xalji5I/JLbFqWOLkj8ktsWpY4uSPyS2xalji5I/JLbFqWOLkj8ktsWpY4uSP+D13b1TS5I/",
          "dtype": "f8"
         },
         "xaxis": "x",
         "y": {
          "bdata": "bq8wpZ1boT+O6iayXFGuPxkCOxf1Fqw/GQI7F/UWrD8ZAjsX9RasP26vMKWdW6E/Lx77w7TqrD9urzClnVuhP26vMKWdW6E/bq8wpZ1boT8UPjBI/G+lP26vMKWdW6E/kKtxrW1Kpj9urzClnVuhP26vMKWdW6E/4g7geztJpD9urzClnVuhP26vMKWdW6E/FD4wSPxvpT+Qq3GtbUqmP5Crca1tSqY/bq8wpZ1boT9urzClnVuhP5Crca1tSqY/bq8wpZ1boT8UPjBI/G+lP5Crca1tSqY/FD4wSPxvpT9urzClnVuhP26vMKWdW6E/kKtxrW1Kpj9urzClnVuhP26vMKWdW6E/FD4wSPxvpT9urzClnVuhP26vMKWdW6E/bq8wpZ1boT8UPjBI/G+lP26vMKWdW6E/kKtxrW1Kpj+Qq3GtbUqmP26vMKWdW6E/bq8wpZ1boT9urzClnVuhP26vMKWdW6E/bq8wpZ1boT9urzClnVuhP7TfimOXpqs/FD4wSPxvpT9urzClnVuhP26vMKWdW6E/bq8wpZ1boT/2MTU8sXSmP26vMKWdW6E/bq8wpZ1boT9urzClnVuhP+IO4Hs7SaQ/bq8wpZ1boT8mQdiedrirP9H7SCSiDKk/JwbalFH/pD8nBtqUUf+kPycG2pRR/6Q/JwbalFH/pD8nBtqUUf+kPycG2pRR/6Q/JwbalFH/pD/oJyKZ1+mqP+gnIpnX6ao/6Ccimdfpqj88wuSypuOkP2ZRXlyny6w/N3NciUqPrD88cH16En+sPwalchQ3Oq0/+JNqbDuqrT/4k2psO6qtP2ZRXlyny6w/BqVyFDc6rT+GzqDb41ewP+hkNR9WZaw/2uAnkJMtsD9k1bQxCautPymukHin6LA/6GQ1H1ZlrD9mUV5cp8usP1qByFha+Kw/+JNqbDuqrT/oZDUfVmWsP1qByFha+Kw/WoHIWFr4rD9agchYWvisPzH6j4lEnq4/juomslxRrj88wuSypuOkPzzC5LKm46Q/3C084BGJrD9urzClnVuhPy8e+8O06qw/X+BYiSpTrD90dUUd6sikP31StGmENqY/juomslxRrj8LFNe5w4+tPyYm+k7WKLA/juomslxRrj96h9YuOOisP5K13e5TurA/ugH94WH+sD8mJvpO1iiwPyj6H5F+k7A/hnRFSUZIrj8o+h+RfpOwPwTBo+2ARK8/KPofkX6TsD+O6iayXFGuP47qJrJcUa4/juomslxRrj+O6iayXFGuP3prKPJGlbI/CxTXucOPrT97gV/VkHOrP47qJrJcUa4/SA9mwSTlyT+O6iayXFGuP9zkCWzpk68/KPofkX6TsD+O6iayXFGuP0ADeva/q6w/juomslxRrj8UZpU3OTyyPyj6H5F+k7A/cFhL2BVGsD+6oNWqXrGqP47qJrJcUa4/Jib6TtYosD9k1bQxCautPwZ/K+5zd7A/7VPHkwnH0j81rb0pqS7TPzWtvSmpLtM/Na29Kaku0z8wGIP+hOmCPzWtvSmpLtM/Na29Kaku0z81rb0pqS7TPzWtvSmpLtM/Na29Kaku0z81rb0pqS7TP+1Tx5MJx9I/",
          "dtype": "f8"
         },
         "yaxis": "y"
        }
       ],
       "layout": {
        "legend": {
         "title": {
          "text": "Category"
         },
         "tracegroupgap": 0
        },
        "template": {
         "data": {
          "bar": [
           {
            "error_x": {
             "color": "#2a3f5f"
            },
            "error_y": {
             "color": "#2a3f5f"
            },
            "marker": {
             "line": {
              "color": "#E5ECF6",
              "width": 0.5
             },
             "pattern": {
              "fillmode": "overlay",
              "size": 10,
              "solidity": 0.2
             }
            },
            "type": "bar"
           }
          ],
          "barpolar": [
           {
            "marker": {
             "line": {
              "color": "#E5ECF6",
              "width": 0.5
             },
             "pattern": {
              "fillmode": "overlay",
              "size": 10,
              "solidity": 0.2
             }
            },
            "type": "barpolar"
           }
          ],
          "carpet": [
           {
            "aaxis": {
             "endlinecolor": "#2a3f5f",
             "gridcolor": "white",
             "linecolor": "white",
             "minorgridcolor": "white",
             "startlinecolor": "#2a3f5f"
            },
            "baxis": {
             "endlinecolor": "#2a3f5f",
             "gridcolor": "white",
             "linecolor": "white",
             "minorgridcolor": "white",
             "startlinecolor": "#2a3f5f"
            },
            "type": "carpet"
           }
          ],
          "choropleth": [
           {
            "colorbar": {
             "outlinewidth": 0,
             "ticks": ""
            },
            "type": "choropleth"
           }
          ],
          "contour": [
           {
            "colorbar": {
             "outlinewidth": 0,
             "ticks": ""
            },
            "colorscale": [
             [
              0,
              "#0d0887"
             ],
             [
              0.1111111111111111,
              "#46039f"
             ],
             [
              0.2222222222222222,
              "#7201a8"
             ],
             [
              0.3333333333333333,
              "#9c179e"
             ],
             [
              0.4444444444444444,
              "#bd3786"
             ],
             [
              0.5555555555555556,
              "#d8576b"
             ],
             [
              0.6666666666666666,
              "#ed7953"
             ],
             [
              0.7777777777777778,
              "#fb9f3a"
             ],
             [
              0.8888888888888888,
              "#fdca26"
             ],
             [
              1,
              "#f0f921"
             ]
            ],
            "type": "contour"
           }
          ],
          "contourcarpet": [
           {
            "colorbar": {
             "outlinewidth": 0,
             "ticks": ""
            },
            "type": "contourcarpet"
           }
          ],
          "heatmap": [
           {
            "colorbar": {
             "outlinewidth": 0,
             "ticks": ""
            },
            "colorscale": [
             [
              0,
              "#0d0887"
             ],
             [
              0.1111111111111111,
              "#46039f"
             ],
             [
              0.2222222222222222,
              "#7201a8"
             ],
             [
              0.3333333333333333,
              "#9c179e"
             ],
             [
              0.4444444444444444,
              "#bd3786"
             ],
             [
              0.5555555555555556,
              "#d8576b"
             ],
             [
              0.6666666666666666,
              "#ed7953"
             ],
             [
              0.7777777777777778,
              "#fb9f3a"
             ],
             [
              0.8888888888888888,
              "#fdca26"
             ],
             [
              1,
              "#f0f921"
             ]
            ],
            "type": "heatmap"
           }
          ],
          "histogram": [
           {
            "marker": {
             "pattern": {
              "fillmode": "overlay",
              "size": 10,
              "solidity": 0.2
             }
            },
            "type": "histogram"
           }
          ],
          "histogram2d": [
           {
            "colorbar": {
             "outlinewidth": 0,
             "ticks": ""
            },
            "colorscale": [
             [
              0,
              "#0d0887"
             ],
             [
              0.1111111111111111,
              "#46039f"
             ],
             [
              0.2222222222222222,
              "#7201a8"
             ],
             [
              0.3333333333333333,
              "#9c179e"
             ],
             [
              0.4444444444444444,
              "#bd3786"
             ],
             [
              0.5555555555555556,
              "#d8576b"
             ],
             [
              0.6666666666666666,
              "#ed7953"
             ],
             [
              0.7777777777777778,
              "#fb9f3a"
             ],
             [
              0.8888888888888888,
              "#fdca26"
             ],
             [
              1,
              "#f0f921"
             ]
            ],
            "type": "histogram2d"
           }
          ],
          "histogram2dcontour": [
           {
            "colorbar": {
             "outlinewidth": 0,
             "ticks": ""
            },
            "colorscale": [
             [
              0,
              "#0d0887"
             ],
             [
              0.1111111111111111,
              "#46039f"
             ],
             [
              0.2222222222222222,
              "#7201a8"
             ],
             [
              0.3333333333333333,
              "#9c179e"
             ],
             [
              0.4444444444444444,
              "#bd3786"
             ],
             [
              0.5555555555555556,
              "#d8576b"
             ],
             [
              0.6666666666666666,
              "#ed7953"
             ],
             [
              0.7777777777777778,
              "#fb9f3a"
             ],
             [
              0.8888888888888888,
              "#fdca26"
             ],
             [
              1,
              "#f0f921"
             ]
            ],
            "type": "histogram2dcontour"
           }
          ],
          "mesh3d": [
           {
            "colorbar": {
             "outlinewidth": 0,
             "ticks": ""
            },
            "type": "mesh3d"
           }
          ],
          "parcoords": [
           {
            "line": {
             "colorbar": {
              "outlinewidth": 0,
              "ticks": ""
             }
            },
            "type": "parcoords"
           }
          ],
          "pie": [
           {
            "automargin": true,
            "type": "pie"
           }
          ],
          "scatter": [
           {
            "fillpattern": {
             "fillmode": "overlay",
             "size": 10,
             "solidity": 0.2
            },
            "type": "scatter"
           }
          ],
          "scatter3d": [
           {
            "line": {
             "colorbar": {
              "outlinewidth": 0,
              "ticks": ""
             }
            },
            "marker": {
             "colorbar": {
              "outlinewidth": 0,
              "ticks": ""
             }
            },
            "type": "scatter3d"
           }
          ],
          "scattercarpet": [
           {
            "marker": {
             "colorbar": {
              "outlinewidth": 0,
              "ticks": ""
             }
            },
            "type": "scattercarpet"
           }
          ],
          "scattergeo": [
           {
            "marker": {
             "colorbar": {
              "outlinewidth": 0,
              "ticks": ""
             }
            },
            "type": "scattergeo"
           }
          ],
          "scattergl": [
           {
            "marker": {
             "colorbar": {
              "outlinewidth": 0,
              "ticks": ""
             }
            },
            "type": "scattergl"
           }
          ],
          "scattermap": [
           {
            "marker": {
             "colorbar": {
              "outlinewidth": 0,
              "ticks": ""
             }
            },
            "type": "scattermap"
           }
          ],
          "scattermapbox": [
           {
            "marker": {
             "colorbar": {
              "outlinewidth": 0,
              "ticks": ""
             }
            },
            "type": "scattermapbox"
           }
          ],
          "scatterpolar": [
           {
            "marker": {
             "colorbar": {
              "outlinewidth": 0,
              "ticks": ""
             }
            },
            "type": "scatterpolar"
           }
          ],
          "scatterpolargl": [
           {
            "marker": {
             "colorbar": {
              "outlinewidth": 0,
              "ticks": ""
             }
            },
            "type": "scatterpolargl"
           }
          ],
          "scatterternary": [
           {
            "marker": {
             "colorbar": {
              "outlinewidth": 0,
              "ticks": ""
             }
            },
            "type": "scatterternary"
           }
          ],
          "surface": [
           {
            "colorbar": {
             "outlinewidth": 0,
             "ticks": ""
            },
            "colorscale": [
             [
              0,
              "#0d0887"
             ],
             [
              0.1111111111111111,
              "#46039f"
             ],
             [
              0.2222222222222222,
              "#7201a8"
             ],
             [
              0.3333333333333333,
              "#9c179e"
             ],
             [
              0.4444444444444444,
              "#bd3786"
             ],
             [
              0.5555555555555556,
              "#d8576b"
             ],
             [
              0.6666666666666666,
              "#ed7953"
             ],
             [
              0.7777777777777778,
              "#fb9f3a"
             ],
             [
              0.8888888888888888,
              "#fdca26"
             ],
             [
              1,
              "#f0f921"
             ]
            ],
            "type": "surface"
           }
          ],
          "table": [
           {
            "cells": {
             "fill": {
              "color": "#EBF0F8"
             },
             "line": {
              "color": "white"
             }
            },
            "header": {
             "fill": {
              "color": "#C8D4E3"
             },
             "line": {
              "color": "white"
             }
            },
            "type": "table"
           }
          ]
         },
         "layout": {
          "annotationdefaults": {
           "arrowcolor": "#2a3f5f",
           "arrowhead": 0,
           "arrowwidth": 1
          },
          "autotypenumbers": "strict",
          "coloraxis": {
           "colorbar": {
            "outlinewidth": 0,
            "ticks": ""
           }
          },
          "colorscale": {
           "diverging": [
            [
             0,
             "#8e0152"
            ],
            [
             0.1,
             "#c51b7d"
            ],
            [
             0.2,
             "#de77ae"
            ],
            [
             0.3,
             "#f1b6da"
            ],
            [
             0.4,
             "#fde0ef"
            ],
            [
             0.5,
             "#f7f7f7"
            ],
            [
             0.6,
             "#e6f5d0"
            ],
            [
             0.7,
             "#b8e186"
            ],
            [
             0.8,
             "#7fbc41"
            ],
            [
             0.9,
             "#4d9221"
            ],
            [
             1,
             "#276419"
            ]
           ],
           "sequential": [
            [
             0,
             "#0d0887"
            ],
            [
             0.1111111111111111,
             "#46039f"
            ],
            [
             0.2222222222222222,
             "#7201a8"
            ],
            [
             0.3333333333333333,
             "#9c179e"
            ],
            [
             0.4444444444444444,
             "#bd3786"
            ],
            [
             0.5555555555555556,
             "#d8576b"
            ],
            [
             0.6666666666666666,
             "#ed7953"
            ],
            [
             0.7777777777777778,
             "#fb9f3a"
            ],
            [
             0.8888888888888888,
             "#fdca26"
            ],
            [
             1,
             "#f0f921"
            ]
           ],
           "sequentialminus": [
            [
             0,
             "#0d0887"
            ],
            [
             0.1111111111111111,
             "#46039f"
            ],
            [
             0.2222222222222222,
             "#7201a8"
            ],
            [
             0.3333333333333333,
             "#9c179e"
            ],
            [
             0.4444444444444444,
             "#bd3786"
            ],
            [
             0.5555555555555556,
             "#d8576b"
            ],
            [
             0.6666666666666666,
             "#ed7953"
            ],
            [
             0.7777777777777778,
             "#fb9f3a"
            ],
            [
             0.8888888888888888,
             "#fdca26"
            ],
            [
             1,
             "#f0f921"
            ]
           ]
          },
          "colorway": [
           "#636efa",
           "#EF553B",
           "#00cc96",
           "#ab63fa",
           "#FFA15A",
           "#19d3f3",
           "#FF6692",
           "#B6E880",
           "#FF97FF",
           "#FECB52"
          ],
          "font": {
           "color": "#2a3f5f"
          },
          "geo": {
           "bgcolor": "white",
           "lakecolor": "white",
           "landcolor": "#E5ECF6",
           "showlakes": true,
           "showland": true,
           "subunitcolor": "white"
          },
          "hoverlabel": {
           "align": "left"
          },
          "hovermode": "closest",
          "mapbox": {
           "style": "light"
          },
          "paper_bgcolor": "white",
          "plot_bgcolor": "#E5ECF6",
          "polar": {
           "angularaxis": {
            "gridcolor": "white",
            "linecolor": "white",
            "ticks": ""
           },
           "bgcolor": "#E5ECF6",
           "radialaxis": {
            "gridcolor": "white",
            "linecolor": "white",
            "ticks": ""
           }
          },
          "scene": {
           "xaxis": {
            "backgroundcolor": "#E5ECF6",
            "gridcolor": "white",
            "gridwidth": 2,
            "linecolor": "white",
            "showbackground": true,
            "ticks": "",
            "zerolinecolor": "white"
           },
           "yaxis": {
            "backgroundcolor": "#E5ECF6",
            "gridcolor": "white",
            "gridwidth": 2,
            "linecolor": "white",
            "showbackground": true,
            "ticks": "",
            "zerolinecolor": "white"
           },
           "zaxis": {
            "backgroundcolor": "#E5ECF6",
            "gridcolor": "white",
            "gridwidth": 2,
            "linecolor": "white",
            "showbackground": true,
            "ticks": "",
            "zerolinecolor": "white"
           }
          },
          "shapedefaults": {
           "line": {
            "color": "#2a3f5f"
           }
          },
          "ternary": {
           "aaxis": {
            "gridcolor": "white",
            "linecolor": "white",
            "ticks": ""
           },
           "baxis": {
            "gridcolor": "white",
            "linecolor": "white",
            "ticks": ""
           },
           "bgcolor": "#E5ECF6",
           "caxis": {
            "gridcolor": "white",
            "linecolor": "white",
            "ticks": ""
           }
          },
          "title": {
           "x": 0.05
          },
          "xaxis": {
           "automargin": true,
           "gridcolor": "white",
           "linecolor": "white",
           "ticks": "",
           "title": {
            "standoff": 15
           },
           "zerolinecolor": "white",
           "zerolinewidth": 2
          },
          "yaxis": {
           "automargin": true,
           "gridcolor": "white",
           "linecolor": "white",
           "ticks": "",
           "title": {
            "standoff": 15
           },
           "zerolinecolor": "white",
           "zerolinewidth": 2
          }
         }
        },
        "title": {
         "text": "PCA Visualization"
        },
        "xaxis": {
         "anchor": "y",
         "domain": [
          0,
          1
         ],
         "title": {
          "text": "PC1 (8.75% variance)"
         }
        },
        "yaxis": {
         "anchor": "x",
         "domain": [
          0,
          1
         ],
         "title": {
          "text": "PC2 (7.94% variance)"
         }
        }
       }
      }
     },
     "metadata": {},
     "output_type": "display_data"
    },
    {
     "name": "stdout",
     "output_type": "stream",
     "text": [
      "\n",
      "Applying t-SNE to product name features...\n"
     ]
    },
    {
     "data": {
      "application/vnd.plotly.v1+json": {
       "config": {
        "plotlyServerURL": "https://plot.ly"
       },
       "data": [
        {
         "hovertemplate": "Category=Home Furnishing<br>t-SNE1=%{x}<br>t-SNE2=%{y}<extra></extra>",
         "legendgroup": "Home Furnishing",
         "marker": {
          "color": "#636efa",
          "symbol": "circle"
         },
         "mode": "markers",
         "name": "Home Furnishing",
         "showlegend": true,
         "type": "scattergl",
         "x": {
          "bdata": "iSSVQlTF3kHKwfJBE1SlQlKPrMLKPsxCDEOXwgxDl8KNbYtCjW2LQqcOAULaPZhCijamwYo2psERtmfC56Y1wIo2psEJHYPCyYupwgH+ssIB/rLC9AHPQgxDl8L8awxCkO4qwlKjCEKW5sVBAlyIQcAxnUKOJMvBvELawc3ivUJ9H4vCDEOXwuv7kEJrc0VCtbKPQjH9dEJfpYpCBmGAQi0VpULibapCvSttQq+ivcIf46jCNCtCQuc0G8IQNx7CO7kQwkkk58EisynCxLMUwmDejsEisynCIrMpwupdlcE/p0bCfSgvwocUAsIu58PBvFV2woWRDMLZi69CeBKyQlyMpELN4r1CW9+YwjZF2cBjECbBEf5zwGOPSMEFVGHCNjcPweVH1j+MoC3BlspkwB/jqMKNjTjCjE8jwhpsM8IPGBDC2bIUwnY3R8E5Sc/AFtXSwK0hokKvor3CH+OowqgC3EIf46jC27LPQlvfmMLbss9CW9+YwqgC3EKvor3CqJARwqgC3EKoAtxCiMrkQtuyz0KoAtxCqALcQtuyz0JlYclCr54NwmVKykKoAtxCqALcQtuyz0KtqbdCr6K9wqgC3EIYd7LCZUrKQgFXx8F424fA5zQbwkkk58FW9tDB5LkHwiPh4cGFYqXB2ygTwjXO7j9Bt71Ci95iwstEJsJg3o7Bqe9ywhenn0KMJQrCfo/9weACn8ETVKVCW8LPQi5MSsIbrybCXGZNQgH+ssLGbh1CAf6ywgn2O0LWt5ZCYiSEQpxLW0JKv2JCUuBkQgf4rkJKv2JC",
          "dtype": "f4"
         },
         "xaxis": "x",
         "y": {
          "bdata": "zaefwh4jfkKRYqBCIFTJQt9CgEFIOxpDrIsFwayLBcFpPm7BaT5uwX0erkK7xxNC/hSrwv4Uq8IKatVBba2fwv4Uq8Ku1L9BfuQEwuGT+0Dhk/tAT5kOwayLBcHsFHVCXScuQS4mlUKJxo5C4EGHQo7nrsIKXbhCeAjAQk/tFkLH5Pa/rIsFwb09ksL/emHC3GWCwg8UbsLCWqfCtyKfwuAhlcKoCJ7CmIxcwjlqP8HLo47BkVbNQvRX/0Ftl5lBzOJSwjlZlcIDsV3CIM+vQH5HmsIDsV3CA7Fdwik3bEK7ql/CX5GvQejggMKFoTJC46U3wrI+sEGWm7BAd9kFv2llDUFP7RZC3zzcwfsLxcLwObzCij7Owu6SysJA4xpCtRCuwt9vt8JzR6HCl820wsujjsEbOgnCBeIXwgVyKMLFVifC2AQJwpyWakKxWWlC4AtQQkOffMI5aj/By6OOwUXvDUPLo47Bzp3aQt883MHOndpC3zzcwUXvDUM5aj/BRhG1wkXvDUNF7w1Dt3POQs6d2kJF7w1DRe8NQ86d2kLTucNCgyidwpip80JF7w1DRe8NQ86d2kJJ7PVCOWo/wUXvDUOF/tzBmKnzQu1tJ8JfhYxC9Ff/QTlZlcKq2P/BkJGrwnpcEsKXwcXCfBXTwcQfaEKMkVxCw2hGwi19wsF+R5rC0/vuQeK0Lr5hiEBBK4ZeQnfpAcIgVMlCldjYQVROSEI5xHpCcCUvQeGT+0Bju4RC4ZP7QDSbdcJgrInC8J2Swv+DdMLw4IfCIFKcwphwjsLw4IfC",
          "dtype": "f4"
         },
         "yaxis": "y"
        },
        {
         "hovertemplate": "Category=Baby Care<br>t-SNE1=%{x}<br>t-SNE2=%{y}<extra></extra>",
         "legendgroup": "Baby Care",
         "marker": {
          "color": "#EF553B",
          "symbol": "circle"
         },
         "mode": "markers",
         "name": "Baby Care",
         "showlegend": true,
         "type": "scattergl",
         "x": {
          "bdata": "qALcQtuyz0J+BUzCKdtqwnTPU8H/x2o/ta6YwvlTRsK1rpjCKVUIw6rSGcIk3fTC7YYgwBo1LsKL95nCs67EQjSVlcIYA5PCUbNawuLteMIYA5PCGAOTwjSVlcIpB+PCKQfjwkI/z8IpB+PCt1NGwqfOvkLDZ95B0Zd4wlnmssK1rpjCWeaywikH48I0lZXCKQfjwtfM3ML3TcvCBKtawr0VtMJlSspCta6Ywnh4n8LimIXCoCZ6wikH48Jcr8bBdN3FQKoHCMEpB+PCKQfjwikH48KL95nCNJWVwjSVlcLDClRBta6YwjP648IUVaLCKQfjwrBqYcK9FbTCs9XiwmmaxsKQRgHDs9XiwmMriMIvQ0bCEaZjwqAmesIpB+PCKQfjwikH48IpB+PCGAOTwqgC3EIeOOhCMdgJQqgC3EKj6RRC5dgJwtuyz0J9nPLBoCZ6wqgC3EJH0ApCOMScQqgC3ELbss9CTI4qQqf7ucHWCExCLc77QuqknUIYA5PCKgWhwe0xPj+WNYHCFR2rwIEE58EiMipC5OGtQo4iOsM4mrzCXGZNQrqQ7EJZ5rLCXGZNQojLrcIrPprCztNhQlxmTUK//RDCrRSvwvYavsJcZk1CNlHFwjZRxcKtFK/ClubFQZbmxUF7AiZClubFQfWjw8LyBcLCOPrVwhgDk8KY7YnCdvU6QuLteMIYA5PCzhi5wlxmTUJcZk1Cta6YwpiCsEIYA5PC5dGYQuLteMIfLAZDHywGQx8sBkMfLAZDHywGQ/W6EUMfLAZDHywGQx8sBkMfLAZD",
          "dtype": "f4"
         },
         "xaxis": "x",
         "y": {
          "bdata": "Re8NQ86d2kJF0SBDjA8pQ/uf4MBKI/zAr/wOQ/jQBUOv/A5DK3QNQzDYpkLZDwFDFfLTwfbpoUJRl6VCl1wfQ8Wx9UK2qtJCWm/fQg5+s0K2qtJCtqrSQsWx9ULvaRRD72kUQz/rDEPvaRRDK1fdQh2tqUFifBnB+jghQ2ks9EKv/A5DaSz0Qu9pFEPFsfVC72kUQ2mwA0N6+RZD6Pq3Qg+7ykKYqfNCr/wOQ0VMGUORqQdD3wIUQ+9pFEMMAsxBZ188QjhTIkLvaRRD72kUQ+9pFENRl6VCxbH1QsWx9UKu9ZpBr/wOQ8P+sUIaxQVD72kUQ6OzLUMPu8pCBNgjQ5tZIUN2lRBDBNgjQxqzlkLvsApDCDsiQ98CFEPvaRRD72kUQ+9pFEPvaRRDtqrSQkXvDUPiqwJDgm3SQUXvDUMVPvA/ioh6Qs6d2kLTRvFC3wIUQ0XvDUM6FJVBOesjQkXvDUPOndpCd6nqQZjQlEIRbh5CXjV3QZKvu0K2qtJC3TQ4QiUfi0JoNZZB/jqAQjnwJkLUVi7CqyWWwetRhEEIjWPCcCUvQUr0xUJpLPRCcCUvQV0qD0M7hCRD2nAEQ3AlL0EDBR9CEQyiQm+ajkJwJS9BMcqnQjHKp0IRDKJCicaOQonGjkKWV3JCicaOQl87l0L5A7ZCvDr5Qraq0kIuEqFCLYMzwg5+s0K2qtJCSs8iQ3AlL0FwJS9Br/wOQ0eeDMO2qtJCaOreQg5+s0Ln9NPC5/TTwuf008Ln9NPC5/TTwryjtcLn9NPC5/TTwuf008Ln9NPC",
          "dtype": "f4"
         },
         "yaxis": "y"
        },
        {
         "hovertemplate": "Category=Watches<br>t-SNE1=%{x}<br>t-SNE2=%{y}<extra></extra>",
         "legendgroup": "Watches",
         "marker": {
          "color": "#00cc96",
          "symbol": "circle"
         },
         "mode": "markers",
         "name": "Watches",
         "showlegend": true,
         "type": "scattergl",
         "x": {
          "bdata": "KhorwzxK6sK5qcrCbz6WwjxK6sI/4N3CPErqwjxK6sI8SurCqdGQwjxK6sLzf4LCHcyDwjxK6sK1sWXCP+DdwrmpysI8SurCbz6WwjxK6sL9C5LCxZjHwvN/gsLUlWbCPErqwvIxgsI8SurCPErqwuMfBsPlWCDDm24Rwy+MMsPSohnDL4wyw+VYIMPjHwbDSFQDwzN09cIzdPXCyRc2wzg3OMNeVELD4x8GwwITDcPOizbDM3T1wl5UQsO7Uj/DL4wyw+MfBsPOizbDEPIowzN09cIK9BHDXlRCwxpzJsMacybDGnMmw86LNsPOizbDEPIow456rMKqMA3Dzos2wwr0EcMkcyrDGnMmw8kXNsPjHwbDfvPvwuMfBsMacybDyRc2w7tSP8N+8+/CGnMmwyoaK8PjHwbDXlRCwzN09cLyMYLCxZjHws6LNsO7Uj/D4x8Gw+MfBsMK9BHDL4wywy+MMsMK9BHD4x8Gw37z78IvjDLDpg/8whI5P8MqGivDL4wyw+MfBsOpxK7CRvs6w4SOnMIK9BHDXlRCwwr0EcPjHwbDL4wyw5tuEcMvjDLDyRc2wyoGQ8MvjDLDM3T1wnnTn8JeVELDL4wyw+MfBsN+8+/CODc4w5aAHsMvjDLDEPIow+MfBsN+8+/CXlRCw+MfBsMOD/7CPErqwi+MMsPlWCDDK7qHwi+MMsN/i9/CChvXwn+L38IvjDLDL4wywy+MMsPjHwbDChvXwjQ4zMIKG9fCChvXwuMfBsPjHwbDC4YPw+MfBsPfQxDDL4wyw+MfBsP7ghXD",
          "dtype": "f4"
         },
         "xaxis": "x",
         "y": {
          "bdata": "CHlxQRcn7sKYSuXCBB+wwhcn7sJUWQTDFyfuwhcn7sIXJ+7ChlaMwhcn7sKCdrHCruOQwhcn7sLiLrTCVFkEw5hK5cIXJ+7CBB+wwhcn7sLbk5/CD3PNwoJ2scLcyZrCFyfuwgg2n8IXJ+7CFyfuwknAtsJiLirCPuBawpxQEMLVfCPCnFAQwmIuKsJJwLbCiisXwlYaksFWGpLBxnXcvhnxE0EbUn/CScC2wi7o1cGmJb/CVhqSwRtSf8KTY5/CnFAQwknAtsKmJb/CYehrwlYaksGW4IjBG1J/wj2+yMI9vsjCPb7IwqYlv8KmJb/CYehrwtZTmsLdvNTCpiW/wpbgiME6kI5APb7IwsZ13L5JwLbCh80mwknAtsI9vsjCxnXcvpNjn8KHzSbCPb7Iwgh5cUFJwLbCG1J/wlYaksEINp/CD3PNwqYlv8KTY5/CScC2wknAtsKW4IjBnFAQwpxQEMKW4IjBScC2wofNJsKcUBDCy6YKwlZ8McAIeXFBnFAQwknAtsLY07fCnLu7wbDUwMKW4IjBG1J/wpbgiMFJwLbCnFAQwj7gWsKcUBDCxnXcvkuvDsKcUBDCVhqSwRKpm8IbUn/CnFAQwknAtsKHzSbCGfETQfWUAcKcUBDCYehrwknAtsKHzSbCG1J/wknAtsJEdQHDFyfuwpxQEMJiLirC4QHCwpxQEMKR+4PChgqRwpH7g8KcUBDCnFAQwpxQEMJJwLbChgqRwpJggMKGCpHChgqRwknAtsJJwLbCO/tzwknAtsIWVorCnFAQwknAtsIduJDC",
          "dtype": "f4"
         },
         "yaxis": "y"
        },
        {
         "hovertemplate": "Category=Home Decor & Festive Needs<br>t-SNE1=%{x}<br>t-SNE2=%{y}<extra></extra>",
         "legendgroup": "Home Decor & Festive Needs",
         "marker": {
          "color": "#ab63fa",
          "symbol": "circle"
         },
         "mode": "markers",
         "name": "Home Decor & Festive Needs",
         "showlegend": true,
         "type": "scattergl",
         "x": {
          "bdata": "kIqVQu4e6cB1ohxDIvJrQncpBUN1ohxD2KRHQylSEEPYpEdD2KRHQ3WiHEPYpEdDE1k4Q+pN6EJxlOVCdaIcQ5OGs0J1ohxD2KRHQwibEMEHv07CdaIcQ3WiHEN1ohxDdaIcQ1Dx9kIpUhBDdaIcQ3WiHEMTWThD2SvFQjCD2kJmrvBCdaIcQyRvJUNib79C2SvFQnWiHENWUzBDdaIcQ2au8EJ1ohxDdaIcQyRvJUN1ohxDGLvfQnWiHEO7JUJD43IDQ3WiHEN1ohxDdaIcQ3WiHEMpUhBD6k3oQnWiHEN1ohxDu8oTv+6IDUMTWThD2KRHQ3WiHEN1ohxDdaIcQ3WiHENQ8fZCKVIQQ3WiHEN1ohxDdaIcQ3WiHENIHftCyTwsQ5OGs0JmrvBCdaIcQ3WiHEN1ohxDKmo9Q3WiHENcvChDdaIcQ38IREN1ohxDGWuaQRd3l0FQ/MZAlF3oQuXRmEJj4gRDNADuQuXYCcKJ1NtCHywGQ8/BP0N1ohxDfZzywY/ZhEGlcajBRA8YQyhy2kJ1ohxDdaIcQ3WiHEN1ohxDE1k4Q77FP0HuiA1DE1k4Qyj410Io+NdC6k3oQnWiHEO87F9C47aBwn2c8sF9nPLBfZzywUQPGENkSILC2p64QXWiHEMDF7lBdaIcQ33L3kG4nEBBdaIcQ3WiHEMTWThDK3CcQCtwnEB1ohxDojyUQZ/cBML8NwRBujjzQlxmTUJEDxhD/DcEQU22jsJ1ohxDdaIcQ6shH0N1ohxDqyEfQ3WiHEN1ohxDK+YNQ5CKlUJ1ohxD",
          "dtype": "f4"
         },
         "xaxis": "x",
         "y": {
          "bdata": "xgIDw0dJ/L9p5ffAv23mwRmar8Jp5ffAbB3MwSz/OsJsHczBbB3MwWnl98BsHczB5V9ewhfrNMJZfgnCaeX3wHhNW0Fp5ffAbB3MwbBet0DOmmTBaeX3wGnl98Bp5ffAaeX3wJyoPUIs/zrCaeX3wGnl98DlX17C1pwvwmnR2sCh+I/AaeX3wKlMH8JwDaRA1pwvwmnl98DTp3rCaeX3wKH4j8Bp5ffAaeX3wKlMH8Jp5ffAHbHIQWnl98Balt1BkKI/QWnl98Bp5ffAaeX3wGnl98As/zrCF+s0wmnl98Bp5ffAeoHTv+Kk0EHlX17CbB3MwWnl98Bp5ffAaeX3wGnl98CcqD1CLP86wmnl98Bp5ffAaeX3wGnl98AZU8vBZJKjQXhNW0Gh+I/AaeX3wGnl98Bp5ffAp2O0QWnl98Ckg7lBaeX3wMdLFcJp5ffA84DCQWoD/kHy3K1BN9B8wmjq3kIKsrvCCfeHwoqIekKJvXzC5/TTwrWxesJp5ffA00bxQnIxTELpYvdCyYVhQgQn9MFp5ffAaeX3wGnl98Bp5ffA5V9ewkoNZMLipNBB5V9ewuF5YsLheWLCF+s0wmnl98DO0vzBS87KwtNG8ULTRvFC00bxQsmFYUKunynC0LlPwmnl98DgYmTCaeX3wN12S8IGIobCaeX3wGnl98DlX17COyF3wjshd8Jp5ffAm9pywjxKn8FucEXCVG7ewXAlL0HJhWFCbnBFwmP800Fp5ffAaeX3wPHdI0Jp5ffA8d0jQmnl98Bp5ffAmGGuwsYCA8Np5ffA",
          "dtype": "f4"
         },
         "yaxis": "y"
        },
        {
         "hovertemplate": "Category=Kitchen & Dining<br>t-SNE1=%{x}<br>t-SNE2=%{y}<extra></extra>",
         "legendgroup": "Kitchen & Dining",
         "marker": {
          "color": "#FFA15A",
          "symbol": "circle"
         },
         "mode": "markers",
         "name": "Kitchen & Dining",
         "showlegend": true,
         "type": "scattergl",
         "x": {
          "bdata": "zTKGQtCiwsKJAYdCiQGHQokBh0KJAYdCiQGHQl/5EELdU7tC3VO7QtXm1kKl8O1CmmyDwVsLl0Ju4zxDWwuXQkXeWkIYudJCRd5aQlerE0JZE8BCvYFoQndBMUIYudJCatkHQlSvtUJq2QdCVK+1QpC6tEIUmalCRd5aQlSvtUKBq+BBoSQSQlSvtUJUr7VCd0ExQqEkEkJXqxNCgavgQVSvtUKTz89CoSQSQqEkEkJF3lpCd0ExQjRmNUKFUJtCatkHQkXeWkKhJBJCVK+1QlSvtUJ3QTFCoSQSQqEkEkJ3QTFCLXX9QXdBMUJUr7VCVK+1QjRmNULI+l9CoSQSQqEkEkJq2QdCk8/PQqEkEkKhJBJCoSQSQguHnEJ3QTFCoSQSQlSvtUJ3QTFCiQGHQlSvtUJUr7VCw09fQvkXvsAYIVZBxz47QVvCz0Ie3QtDWdbsQW7ynkH2mJjB2y4kQzgy8kDbLiRD2y4kQ9suJEPevhtD2y4kQ9suJEPbLiRD2y4kQ9suJEPbLiRD2y4kQ9suJEPbLiRD2y4kQ9suJEPbLiRD2y4kQ9suJEPc3idA2y4kQ9suJENqnk/BxhcUPwe/TsJTRyVCpPzXwGXuhkJbC5dCuoqkQf5VK0KvQjFB6YMOQkQPGEOM1cNC2y4kQ27jPEOvr8xB0KLCwtCiwsLQosLC0KLCwtCiwsLQosLCfxDLQYr90UKK/dFCiv3RQor90UIwPsFCiv3RQkFChEJqnk/BXGZNQlxmTUJcZk1CXGZNQokBh0Id/DfCXGZNQjLrmUJqnk/B",
          "dtype": "f4"
         },
         "xaxis": "x",
         "y": {
          "bdata": "x+YbQlcKHkIV0hfDFdIXwxXSF8MV0hfDFdIXwwIo60LTAgfD0wIHw5vKkELDFoNCwFgXQ5yBIcKPYhdAnIEhwrqM28LwVyPDuozbwixC78Kl/DvDpZ8ew/SFBMPwVyPDEeoPw1ZWLsMR6g/DVlYuw3EHIcOxYjrDuozbwlZWLsM5+PLCsl80w1ZWLsNWVi7D9IUEw7JfNMMsQu/COfjywlZWLsPqQTLDsl80w7JfNMO6jNvC9IUEw9v/1cKzJC3DEeoPw7qM28KyXzTDVlYuw1ZWLsP0hQTDsl80w7JfNMP0hQTDJhICw/SFBMNWVi7DVlYuw9v/1cJGQPbCsl80w7JfNMMR6g/D6kEyw7JfNMOyXzTDsl80w7v2OsP0hQTDsl80w1ZWLsP0hQTDFdIXw1ZWLsNWVi7D56QEwxvyGMEo2bvASAFnP5XY2EFEtF/CsasNwqRIFMIdgp/BGLG8Qt5DGsEYsbxCGLG8QhixvEI9lodCGLG8QhixvEIYsbxCGLG8QhixvEIYsbxCGLG8QhixvEIYsbxCGLG8QhixvEIYsbxCGLG8QhixvEIuoB9BGLG8QhixvELhiR9DM8KHQc6aZMHe9a7AQAWbQZdcIsKcgSHC5zgAwQ3dYMHuQQlC4sszwcmFYUKkugLDGLG8Qo9iF0Dg7DzAVwoeQlcKHkJXCh5CVwoeQlcKHkJXCh5CJYkXQjfYwcI32MHCN9jBwjfYwcKs4MfCN9jBwvgiLELhiR9DcCUvQXAlL0FwJS9BcCUvQRXSF8On2JlCcCUvQXFSEMPhiR9D",
          "dtype": "f4"
         },
         "yaxis": "y"
        },
        {
         "hovertemplate": "Category=Beauty and Personal Care<br>t-SNE1=%{x}<br>t-SNE2=%{y}<extra></extra>",
         "legendgroup": "Beauty and Personal Care",
         "marker": {
          "color": "#19d3f3",
          "symbol": "circle"
         },
         "mode": "markers",
         "name": "Beauty and Personal Care",
         "showlegend": true,
         "type": "scattergl",
         "x": {
          "bdata": "z2huQc9obkGaeEhCs3qNwrN6jcKY3RhBph9owbN6jcJjtaJCItDPQg6drMGrp9tCMO/JQqC6DsAQ8jHBMQJgwvU1kD4xAmDCR4WQwFAkI8EMqddBWyPhv39MMUEMqddBDKnXQQyp10ESVARCDKnXQQyp10EMqddBDKnXQfJ09UEMqddBDKnXQQyp10EMqddBDKnXQVAkI8EY/J5ADKnXQQyp10EMqddBDKnXQQni8MKZQW5CWyPhv7WjE0K6w5ZBkCG/Pwyp10FQJCPBDKnXQQyp10EMqddBDKnXQQyp10EMqddBDKnXQVsj4b8MqddBDKnXQX9MMUEMqddBWyPhvwyp10EMqddBDKnXQZlBbkIMqddBDKnXQRJUBEIMqddBDKnXQZ0AVkIMqddBDKnXQTLsAEIMqddBDKnXQQyp10EMqddBDKnXQai5HEG69ZtCHcKTQaYMzkEy+tZBpBCDQWWas0JpZRtCKXyTQQnZZkHkWmzCGuanQaun20JSPoRBO0cdQrnh9sEdK9VBBl/mQU4yT0I7Rx1CXkMJQnWYCkIYGCVC0TiLwTtHHUKBadtB7zDcQbrn8UG68CDAuvAgwDFgh0K6yYBCu3QRvbrwIMBcZk1CXGZNQrrwIMAxYIdCOD9cQjFgh0KVO2dCMWCHQjFgh0K7dBG9uvAgwLt0Eb0xYIdCMWCHQrrwIMBcZk1CXGZNQlxmTUJl6btBZZqzQlxmTUJcZk1CRz15QlxmTUKrp9tCbBzvQr/5a8LRVrZAO0cdQsbhD8NcZk1CO0cdQlxmTUJcZk1C",
          "dtype": "f4"
         },
         "xaxis": "x",
         "y": {
          "bdata": "2LBdwdiwXcHQYQPBjP1IQoz9SELh8wpDntj7Poz9SEJOvgPC8KmLQhqkP8CZL2lC7T9gQh80mkCSjL/BiX28QLhdZ8GJfbxA+Lw8QWSHQUMziiVDrKIpQ/MCREMziiVDM4olQzOKJUNvJ/1CM4olQzOKJUMziiVDM4olQxDTBEMziiVDM4olQzOKJUMziiVDM4olQ2SHQUPPFQVDM4olQzOKJUMziiVDM4olQwWIuUKudB5DrKIpQ1hNREPXuEVDec5EQzOKJUNkh0FDM4olQzOKJUMziiVDM4olQzOKJUMziiVDM4olQ6yiKUMziiVDM4olQ/MCREMziiVDrKIpQzOKJUMziiVDM4olQ650HkMziiVDM4olQ28n/UIziiVDM4olQ6OGCUMziiVDM4olQ+3mQ0MziiVDM4olQzOKJUMziiVDM4olQ6CQPEO4qYNCb8Stwa9Qr8H53e5B6T2vQIvxxsFfqPXBElu4v0BDR0HUQ25CLDYpQZkvaUJIfSFCMsfYQk+G4MDyirRBHZM+QhCAhsEyx9hC95MmQS5RDUJQ+zRCYPEEQjLH2EKgGXxBMdsPQYqxKEC4hrxCuIa8QnNAi0JeQ6RCCkfaQriGvEJwJS9BcCUvQbiGvEJzQItCIsObQnNAi0KG56RCc0CLQnNAi0IKR9pCuIa8QgpH2kJzQItCc0CLQriGvEJwJS9BcCUvQXAlL0FqPMZCi/HGwXAlL0FwJS9BBrJ1QnAlL0GZL2lCBLReQptiS0LXWbJCMsfYQgJC4cJwJS9BMsfYQnAlL0FwJS9B",
          "dtype": "f4"
         },
         "yaxis": "y"
        },
        {
         "hovertemplate": "Category=Computers<br>t-SNE1=%{x}<br>t-SNE2=%{y}<extra></extra>",
         "legendgroup": "Computers",
         "marker": {
          "color": "#FF6692",
          "symbol": "circle"
         },
         "mode": "markers",
         "name": "Computers",
         "showlegend": true,
         "type": "scattergl",
         "x": {
          "bdata": "SsXOQL67HsMQDRrDEA0awxANGsPqzuZAv/lrwqMpQMEU8KTBmoCXQJOZisLOi0bA895IwoozMkG4+rZBGOMfwrgn/UHgm8xAk5mKwvPeSMLz3kjCvDT0wJ3EMUDz3kjCvplxQZOZisLz3kjCk5mKwvasq8CFoTFC895Iwnb79UAcF4TBk5mKwvAG80Gt/q4/1fVywZOZisLgZKnB895IwvPeSMJuCD3Bv2zBwX+AFsHEo0JBCXiVQARkuEGMkiLCk5mKwioLuUE68hlBLRhiQFz2KMK5gCpBHeSQvwg9E0IY4x/C4eMDQrr0nMGL0uzCFcfBQRXHwUEVx8FBFcfBQRXHwUEVx8FBFcfBQbcSBUK3EgVCtxIFQjffJsGFCzjC4pGNwRxWqsFGSc7Bm+E4wpvhOMKFCzjCRknOwVouV8KgosrBYiT6wQ4DDsJm71nCoKLKwYULOMLmhvTBm+E4wqCiysHmhvTB5ob0weaG9MEoyinCvrsewzffJsE33ybBib07wlEQokG/+WvCgVdmwjok6cL+NmLBvrsewxqHKcMDwADDvrsew4AxCcMIBgPDOI0EwwPAAMNN7PfCyAXkwk3s98Lbv+jCTez3wr67HsO+ux7Dvrsew767HsOHnCvDGocpw2u0F8O+ux7DawoBw767HsNw2fPCTez3wr67HsPQvQfDvrsew0GtG8NN7PfCqtvxwmeuEsO+ux7DA8AAww4DDsJT8ahBuVOUwEQS2MBEEtjARBLYwDiavMJEEtjARBLYwEQS2MBEEtjARBLYwEQS2MC5U5TA",
          "dtype": "f4"
         },
         "xaxis": "x",
         "y": {
          "bdata": "SJxEwIF3kkJmxyNCZscjQmbHI0KjgILBm2JLQtKpasGVUjbB8BjqQafwDcNS4gFC1eUBw4JkssEBUXDB+nvowsoW1MHBD+TBp/ANw9XlAcPV5QHDiwgDwhlTrcHV5QHDfcznwafwDcPV5QHDp/ANw5iDk8EE97rB1eUBw7IQakFAJvxAp/ANw4VWg8Hljw3CeRyrQafwDcOlhG1B1eUBw9XlAcN9HVxBV36kQEnS2kHmbdRBPaNRQGs9Y0BYXNrCp/ANw5FI6cFFhvVA7E0XQgYtCcPDaBDC4dnCQYDqoMH6e+jCdXyMwIFumELILPNBdUmvwnVJr8J1Sa/CdUmvwnVJr8J1Sa/CdUmvwoarlMKGq5TChquUwpaTRsLgXj3DVrc2w2aTPsPcMTTDnYUvw52FL8PgXj3D3DE0wzk7O8PnJCzDDktFw/aZLcMZUjLD5yQsw+BePcMzCD3DnYUvw+ckLMMzCD3DMwg9wzMIPcPHaLHAgXeSQpaTRsKWk0bC0tYRwdfKikGbYktC1bmRwbAMSkEjY2bCgXeSQvzYpUIkNRBCgXeSQh82GELKlDBCjoJjQiQ1EEJ1lVBCPOBUQnWVUEJffDxCdZVQQoF3kkKBd5JCgXeSQoF3kkKH54NC/NilQi3hckKBd5JCcrzbQYF3kkIyJCRCdZVQQoF3kkKvjeBBgXeSQk87rEJ1lVBCrbR3Qryzm0KBd5JCJDUQQvaZLcP/6tBC/TcOw1UTBMNVEwTDVRMEwwiNY8JVEwTDVRMEw1UTBMNVEwTDVRMEw1UTBMP9Nw7D",
          "dtype": "f4"
         },
         "yaxis": "y"
        }
       ],
       "layout": {
        "legend": {
         "title": {
          "text": "Category"
         },
         "tracegroupgap": 0
        },
        "template": {
         "data": {
          "bar": [
           {
            "error_x": {
             "color": "#2a3f5f"
            },
            "error_y": {
             "color": "#2a3f5f"
            },
            "marker": {
             "line": {
              "color": "#E5ECF6",
              "width": 0.5
             },
             "pattern": {
              "fillmode": "overlay",
              "size": 10,
              "solidity": 0.2
             }
            },
            "type": "bar"
           }
          ],
          "barpolar": [
           {
            "marker": {
             "line": {
              "color": "#E5ECF6",
              "width": 0.5
             },
             "pattern": {
              "fillmode": "overlay",
              "size": 10,
              "solidity": 0.2
             }
            },
            "type": "barpolar"
           }
          ],
          "carpet": [
           {
            "aaxis": {
             "endlinecolor": "#2a3f5f",
             "gridcolor": "white",
             "linecolor": "white",
             "minorgridcolor": "white",
             "startlinecolor": "#2a3f5f"
            },
            "baxis": {
             "endlinecolor": "#2a3f5f",
             "gridcolor": "white",
             "linecolor": "white",
             "minorgridcolor": "white",
             "startlinecolor": "#2a3f5f"
            },
            "type": "carpet"
           }
          ],
          "choropleth": [
           {
            "colorbar": {
             "outlinewidth": 0,
             "ticks": ""
            },
            "type": "choropleth"
           }
          ],
          "contour": [
           {
            "colorbar": {
             "outlinewidth": 0,
             "ticks": ""
            },
            "colorscale": [
             [
              0,
              "#0d0887"
             ],
             [
              0.1111111111111111,
              "#46039f"
             ],
             [
              0.2222222222222222,
              "#7201a8"
             ],
             [
              0.3333333333333333,
              "#9c179e"
             ],
             [
              0.4444444444444444,
              "#bd3786"
             ],
             [
              0.5555555555555556,
              "#d8576b"
             ],
             [
              0.6666666666666666,
              "#ed7953"
             ],
             [
              0.7777777777777778,
              "#fb9f3a"
             ],
             [
              0.8888888888888888,
              "#fdca26"
             ],
             [
              1,
              "#f0f921"
             ]
            ],
            "type": "contour"
           }
          ],
          "contourcarpet": [
           {
            "colorbar": {
             "outlinewidth": 0,
             "ticks": ""
            },
            "type": "contourcarpet"
           }
          ],
          "heatmap": [
           {
            "colorbar": {
             "outlinewidth": 0,
             "ticks": ""
            },
            "colorscale": [
             [
              0,
              "#0d0887"
             ],
             [
              0.1111111111111111,
              "#46039f"
             ],
             [
              0.2222222222222222,
              "#7201a8"
             ],
             [
              0.3333333333333333,
              "#9c179e"
             ],
             [
              0.4444444444444444,
              "#bd3786"
             ],
             [
              0.5555555555555556,
              "#d8576b"
             ],
             [
              0.6666666666666666,
              "#ed7953"
             ],
             [
              0.7777777777777778,
              "#fb9f3a"
             ],
             [
              0.8888888888888888,
              "#fdca26"
             ],
             [
              1,
              "#f0f921"
             ]
            ],
            "type": "heatmap"
           }
          ],
          "histogram": [
           {
            "marker": {
             "pattern": {
              "fillmode": "overlay",
              "size": 10,
              "solidity": 0.2
             }
            },
            "type": "histogram"
           }
          ],
          "histogram2d": [
           {
            "colorbar": {
             "outlinewidth": 0,
             "ticks": ""
            },
            "colorscale": [
             [
              0,
              "#0d0887"
             ],
             [
              0.1111111111111111,
              "#46039f"
             ],
             [
              0.2222222222222222,
              "#7201a8"
             ],
             [
              0.3333333333333333,
              "#9c179e"
             ],
             [
              0.4444444444444444,
              "#bd3786"
             ],
             [
              0.5555555555555556,
              "#d8576b"
             ],
             [
              0.6666666666666666,
              "#ed7953"
             ],
             [
              0.7777777777777778,
              "#fb9f3a"
             ],
             [
              0.8888888888888888,
              "#fdca26"
             ],
             [
              1,
              "#f0f921"
             ]
            ],
            "type": "histogram2d"
           }
          ],
          "histogram2dcontour": [
           {
            "colorbar": {
             "outlinewidth": 0,
             "ticks": ""
            },
            "colorscale": [
             [
              0,
              "#0d0887"
             ],
             [
              0.1111111111111111,
              "#46039f"
             ],
             [
              0.2222222222222222,
              "#7201a8"
             ],
             [
              0.3333333333333333,
              "#9c179e"
             ],
             [
              0.4444444444444444,
              "#bd3786"
             ],
             [
              0.5555555555555556,
              "#d8576b"
             ],
             [
              0.6666666666666666,
              "#ed7953"
             ],
             [
              0.7777777777777778,
              "#fb9f3a"
             ],
             [
              0.8888888888888888,
              "#fdca26"
             ],
             [
              1,
              "#f0f921"
             ]
            ],
            "type": "histogram2dcontour"
           }
          ],
          "mesh3d": [
           {
            "colorbar": {
             "outlinewidth": 0,
             "ticks": ""
            },
            "type": "mesh3d"
           }
          ],
          "parcoords": [
           {
            "line": {
             "colorbar": {
              "outlinewidth": 0,
              "ticks": ""
             }
            },
            "type": "parcoords"
           }
          ],
          "pie": [
           {
            "automargin": true,
            "type": "pie"
           }
          ],
          "scatter": [
           {
            "fillpattern": {
             "fillmode": "overlay",
             "size": 10,
             "solidity": 0.2
            },
            "type": "scatter"
           }
          ],
          "scatter3d": [
           {
            "line": {
             "colorbar": {
              "outlinewidth": 0,
              "ticks": ""
             }
            },
            "marker": {
             "colorbar": {
              "outlinewidth": 0,
              "ticks": ""
             }
            },
            "type": "scatter3d"
           }
          ],
          "scattercarpet": [
           {
            "marker": {
             "colorbar": {
              "outlinewidth": 0,
              "ticks": ""
             }
            },
            "type": "scattercarpet"
           }
          ],
          "scattergeo": [
           {
            "marker": {
             "colorbar": {
              "outlinewidth": 0,
              "ticks": ""
             }
            },
            "type": "scattergeo"
           }
          ],
          "scattergl": [
           {
            "marker": {
             "colorbar": {
              "outlinewidth": 0,
              "ticks": ""
             }
            },
            "type": "scattergl"
           }
          ],
          "scattermap": [
           {
            "marker": {
             "colorbar": {
              "outlinewidth": 0,
              "ticks": ""
             }
            },
            "type": "scattermap"
           }
          ],
          "scattermapbox": [
           {
            "marker": {
             "colorbar": {
              "outlinewidth": 0,
              "ticks": ""
             }
            },
            "type": "scattermapbox"
           }
          ],
          "scatterpolar": [
           {
            "marker": {
             "colorbar": {
              "outlinewidth": 0,
              "ticks": ""
             }
            },
            "type": "scatterpolar"
           }
          ],
          "scatterpolargl": [
           {
            "marker": {
             "colorbar": {
              "outlinewidth": 0,
              "ticks": ""
             }
            },
            "type": "scatterpolargl"
           }
          ],
          "scatterternary": [
           {
            "marker": {
             "colorbar": {
              "outlinewidth": 0,
              "ticks": ""
             }
            },
            "type": "scatterternary"
           }
          ],
          "surface": [
           {
            "colorbar": {
             "outlinewidth": 0,
             "ticks": ""
            },
            "colorscale": [
             [
              0,
              "#0d0887"
             ],
             [
              0.1111111111111111,
              "#46039f"
             ],
             [
              0.2222222222222222,
              "#7201a8"
             ],
             [
              0.3333333333333333,
              "#9c179e"
             ],
             [
              0.4444444444444444,
              "#bd3786"
             ],
             [
              0.5555555555555556,
              "#d8576b"
             ],
             [
              0.6666666666666666,
              "#ed7953"
             ],
             [
              0.7777777777777778,
              "#fb9f3a"
             ],
             [
              0.8888888888888888,
              "#fdca26"
             ],
             [
              1,
              "#f0f921"
             ]
            ],
            "type": "surface"
           }
          ],
          "table": [
           {
            "cells": {
             "fill": {
              "color": "#EBF0F8"
             },
             "line": {
              "color": "white"
             }
            },
            "header": {
             "fill": {
              "color": "#C8D4E3"
             },
             "line": {
              "color": "white"
             }
            },
            "type": "table"
           }
          ]
         },
         "layout": {
          "annotationdefaults": {
           "arrowcolor": "#2a3f5f",
           "arrowhead": 0,
           "arrowwidth": 1
          },
          "autotypenumbers": "strict",
          "coloraxis": {
           "colorbar": {
            "outlinewidth": 0,
            "ticks": ""
           }
          },
          "colorscale": {
           "diverging": [
            [
             0,
             "#8e0152"
            ],
            [
             0.1,
             "#c51b7d"
            ],
            [
             0.2,
             "#de77ae"
            ],
            [
             0.3,
             "#f1b6da"
            ],
            [
             0.4,
             "#fde0ef"
            ],
            [
             0.5,
             "#f7f7f7"
            ],
            [
             0.6,
             "#e6f5d0"
            ],
            [
             0.7,
             "#b8e186"
            ],
            [
             0.8,
             "#7fbc41"
            ],
            [
             0.9,
             "#4d9221"
            ],
            [
             1,
             "#276419"
            ]
           ],
           "sequential": [
            [
             0,
             "#0d0887"
            ],
            [
             0.1111111111111111,
             "#46039f"
            ],
            [
             0.2222222222222222,
             "#7201a8"
            ],
            [
             0.3333333333333333,
             "#9c179e"
            ],
            [
             0.4444444444444444,
             "#bd3786"
            ],
            [
             0.5555555555555556,
             "#d8576b"
            ],
            [
             0.6666666666666666,
             "#ed7953"
            ],
            [
             0.7777777777777778,
             "#fb9f3a"
            ],
            [
             0.8888888888888888,
             "#fdca26"
            ],
            [
             1,
             "#f0f921"
            ]
           ],
           "sequentialminus": [
            [
             0,
             "#0d0887"
            ],
            [
             0.1111111111111111,
             "#46039f"
            ],
            [
             0.2222222222222222,
             "#7201a8"
            ],
            [
             0.3333333333333333,
             "#9c179e"
            ],
            [
             0.4444444444444444,
             "#bd3786"
            ],
            [
             0.5555555555555556,
             "#d8576b"
            ],
            [
             0.6666666666666666,
             "#ed7953"
            ],
            [
             0.7777777777777778,
             "#fb9f3a"
            ],
            [
             0.8888888888888888,
             "#fdca26"
            ],
            [
             1,
             "#f0f921"
            ]
           ]
          },
          "colorway": [
           "#636efa",
           "#EF553B",
           "#00cc96",
           "#ab63fa",
           "#FFA15A",
           "#19d3f3",
           "#FF6692",
           "#B6E880",
           "#FF97FF",
           "#FECB52"
          ],
          "font": {
           "color": "#2a3f5f"
          },
          "geo": {
           "bgcolor": "white",
           "lakecolor": "white",
           "landcolor": "#E5ECF6",
           "showlakes": true,
           "showland": true,
           "subunitcolor": "white"
          },
          "hoverlabel": {
           "align": "left"
          },
          "hovermode": "closest",
          "mapbox": {
           "style": "light"
          },
          "paper_bgcolor": "white",
          "plot_bgcolor": "#E5ECF6",
          "polar": {
           "angularaxis": {
            "gridcolor": "white",
            "linecolor": "white",
            "ticks": ""
           },
           "bgcolor": "#E5ECF6",
           "radialaxis": {
            "gridcolor": "white",
            "linecolor": "white",
            "ticks": ""
           }
          },
          "scene": {
           "xaxis": {
            "backgroundcolor": "#E5ECF6",
            "gridcolor": "white",
            "gridwidth": 2,
            "linecolor": "white",
            "showbackground": true,
            "ticks": "",
            "zerolinecolor": "white"
           },
           "yaxis": {
            "backgroundcolor": "#E5ECF6",
            "gridcolor": "white",
            "gridwidth": 2,
            "linecolor": "white",
            "showbackground": true,
            "ticks": "",
            "zerolinecolor": "white"
           },
           "zaxis": {
            "backgroundcolor": "#E5ECF6",
            "gridcolor": "white",
            "gridwidth": 2,
            "linecolor": "white",
            "showbackground": true,
            "ticks": "",
            "zerolinecolor": "white"
           }
          },
          "shapedefaults": {
           "line": {
            "color": "#2a3f5f"
           }
          },
          "ternary": {
           "aaxis": {
            "gridcolor": "white",
            "linecolor": "white",
            "ticks": ""
           },
           "baxis": {
            "gridcolor": "white",
            "linecolor": "white",
            "ticks": ""
           },
           "bgcolor": "#E5ECF6",
           "caxis": {
            "gridcolor": "white",
            "linecolor": "white",
            "ticks": ""
           }
          },
          "title": {
           "x": 0.05
          },
          "xaxis": {
           "automargin": true,
           "gridcolor": "white",
           "linecolor": "white",
           "ticks": "",
           "title": {
            "standoff": 15
           },
           "zerolinecolor": "white",
           "zerolinewidth": 2
          },
          "yaxis": {
           "automargin": true,
           "gridcolor": "white",
           "linecolor": "white",
           "ticks": "",
           "title": {
            "standoff": 15
           },
           "zerolinecolor": "white",
           "zerolinewidth": 2
          }
         }
        },
        "title": {
         "text": "t-SNE Visualization"
        },
        "xaxis": {
         "anchor": "y",
         "domain": [
          0,
          1
         ],
         "title": {
          "text": "t-SNE1"
         }
        },
        "yaxis": {
         "anchor": "x",
         "domain": [
          0,
          1
         ],
         "title": {
          "text": "t-SNE2"
         }
        }
       }
      }
     },
     "metadata": {},
     "output_type": "display_data"
    },
    {
     "name": "stdout",
     "output_type": "stream",
     "text": [
      "\n",
      "Cluster separation metrics: {'silhouette_score': np.float64(0.11137662887614042), 'num_clusters': 7}\n"
     ]
    }
   ],
   "source": [
    "from src.classes.reduce_dimensions import DimensionalityReducer\n",
    "\n",
    "# Initialize reducer\n",
    "reducer = DimensionalityReducer()\n",
    "\n",
    "\n",
    "# Apply dimensionality reduction to TF-IDF matrix of product names\n",
    "print(\"\\nApplying PCA to product name features...\")\n",
    "pca_results = reducer.fit_transform_pca(encoder.tfidf_matrix)\n",
    "pca_fig = reducer.plot_pca(labels=df['product_category'])\n",
    "pca_fig.show()\n",
    "\n",
    "print(\"\\nApplying t-SNE to product name features...\")\n",
    "tsne_results = reducer.fit_transform_tsne(encoder.tfidf_matrix)\n",
    "tsne_fig = reducer.plot_tsne(labels=df['product_category'])\n",
    "tsne_fig.show()\n",
    "\n",
    "# Evaluate separation based on categories\n",
    "metrics = reducer.evaluate_separation(encoder.tfidf_matrix, df['product_category'])\n",
    "print(\"\\nCluster separation metrics:\", metrics)"
   ]
  },
  {
   "cell_type": "markdown",
   "id": "c2c183bb",
   "metadata": {},
   "source": [
    "## 4. Advanced NLP Classification Feasibility Study"
   ]
  },
  {
   "cell_type": "markdown",
   "id": "60ff7281",
   "metadata": {},
   "source": [
    "### 4.1 Word Embeddings\n",
    "**Approaches**:\n",
    "- Word2Vec Implementation\n",
    "- BERT Embeddings\n",
    "- Universal Sentence Encoder"
   ]
  },
  {
   "cell_type": "markdown",
   "id": "e3d29f9a",
   "metadata": {},
   "source": [
    "### 4.2 Comparative Analysis\n",
    "**Evaluation**:\n",
    "- Compare embedding methods\n",
    "- Analyze clustering quality\n",
    "- Assess category separation"
   ]
  },
  {
   "cell_type": "markdown",
   "id": "50cf8f62",
   "metadata": {},
   "source": [
    "## 5. Basic Image Processing Classification Study"
   ]
  },
  {
   "cell_type": "markdown",
   "id": "3c64aad7",
   "metadata": {},
   "source": [
    "### 5.1 Image Preprocessing\n",
    "**Steps**:\n",
    "- Grayscale conversion\n",
    "- Noise reduction\n",
    "- Contrast enhancement\n",
    "- Size normalization"
   ]
  },
  {
   "cell_type": "markdown",
   "id": "eab6c8cf",
   "metadata": {},
   "source": [
    "### 5.2 Feature Extraction\n",
    "**Methods**:\n",
    "- SIFT implementation\n",
    "- Feature detection\n",
    "- Descriptor computation"
   ]
  },
  {
   "cell_type": "markdown",
   "id": "ca3db74c",
   "metadata": {},
   "source": [
    "### 5.3 Analysis\n",
    "**Evaluation**:\n",
    "- Dimension reduction\n",
    "- Cluster visualization\n",
    "- Category separation assessment\n"
   ]
  },
  {
   "cell_type": "markdown",
   "id": "39709493",
   "metadata": {},
   "source": [
    "## 6. Advanced Image Processing Study"
   ]
  },
  {
   "cell_type": "markdown",
   "id": "8146fb04",
   "metadata": {},
   "source": [
    "### 6.1 Transfer Learning\n",
    "**Implementation**:\n",
    "- Pre-trained CNN setup\n",
    "- Feature extraction\n",
    "- Model adaptation"
   ]
  },
  {
   "cell_type": "markdown",
   "id": "b71250e0",
   "metadata": {},
   "source": [
    "### 6.2 Comparative Analysis\n",
    "**Evaluation**:\n",
    "- Compare with basic methods\n",
    "- Assess classification accuracy\n",
    "- Analyze feature quality"
   ]
  },
  {
   "cell_type": "markdown",
   "id": "b905fede",
   "metadata": {},
   "source": [
    "## 7. Final Feasibility Assessment"
   ]
  },
  {
   "cell_type": "markdown",
   "id": "c697c0e9",
   "metadata": {},
   "source": [
    "### 7.1 Performance Metrics\n",
    "**Evaluation**:\n",
    "- Clustering quality metrics\n",
    "- Classification accuracy\n",
    "- Processing time analysis"
   ]
  },
  {
   "cell_type": "markdown",
   "id": "909e9097",
   "metadata": {},
   "source": [
    "### 7.2 Recommendations\n",
    "**Outcomes**:\n",
    "- Feasibility conclusion\n",
    "- Best approach identification\n",
    "- Implementation suggestions\n"
   ]
  },
  {
   "cell_type": "markdown",
   "id": "039d22f5",
   "metadata": {},
   "source": [
    "## 8. Future Improvements\n",
    "- Scalability considerations\n",
    "- Performance optimization\n",
    "- Integration recommendations"
   ]
  }
 ],
 "metadata": {
  "kernelspec": {
   "display_name": "mission6_venv",
   "language": "python",
   "name": "python3"
  },
  "language_info": {
   "codemirror_mode": {
    "name": "ipython",
    "version": 3
   },
   "file_extension": ".py",
   "mimetype": "text/x-python",
   "name": "python",
   "nbconvert_exporter": "python",
   "pygments_lexer": "ipython3",
   "version": "3.12.9"
  }
 },
 "nbformat": 4,
 "nbformat_minor": 5
}
